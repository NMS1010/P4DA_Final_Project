{
 "cells": [
  {
   "cell_type": "markdown",
   "metadata": {},
   "source": [
    "# <span style=\"color:red; font-size:75px;\"> Báo cáo (Report)</span>"
   ]
  },
  {
   "cell_type": "markdown",
   "metadata": {},
   "source": [
    "<span style=\"color:red; font-size: 50px;\">Tên đề tài: Phân tích tình hình dịch bệnh Covid-19</span>"
   ]
  },
  {
   "cell_type": "markdown",
   "metadata": {},
   "source": [
    "## Nhóm 13\n",
    "## Thành viên \n",
    "\n",
    "1. Nguyễn Minh Sơn - 20110713\n",
    "2. Lê Anh Nhân - 20110689\n",
    "3. Đỗ Minh Dũng - 20110620\n",
    "4. Nguyễn Thái Ngọc Tân - 20110719"
   ]
  },
  {
   "cell_type": "markdown",
   "metadata": {},
   "source": [
    "# 1. Tóm tắt"
   ]
  },
  {
   "cell_type": "markdown",
   "metadata": {},
   "source": [
    "Đại dịch covid-19 xuất hiện từ cuối năm 2019, cho đến nay nó đã lan rộng ra hầu hết các quốc gia và vùng lãnh thổ trên thế giới, gây thiệt hại nghiêm trọng về mọi mặt về kinh tế, xã hội....\n",
    "\n",
    "Mặc dù đã có vaccine phòng ngừa covid-19 nhưng dịch bệnh này vẫn còn hoành hoành ở nhiều quốc gia, liên tục xuất hiện các biến thể mới nguy hiểm.\n",
    "\n",
    "Vì thế, nhóm đã chọn tập dữ liệu liên quan đến vấn đề này để phân tích tình hình dịch bệnh covid-19. \n",
    "\n",
    "Nhóm đã đặt ra một số câu hỏi nghiên cứu về dịch Covid-19, đánh giá xem đại dịch này có phụ thuộc vào các yếu tố như nền kinh tế, dân số hay không? Tình hình dịch bệnh như thế nào khi biến thể Omicron xuất hiện? Hơn nữa, nhóm cũng muốn đánh giá xem liệu việc tiêm vaccine có làm giảm bớt số ca mắc, số ca tử vong hay làm giảm đi tỉ lệ tử vong của Covid-19 hay không ?\n",
    "\n",
    "Để có thể trả lời cho các câu hỏi trên, nhóm đã sử dụng các phương pháp thống kê như kiểm định giả thuyết, các suy diễn về mỗi quan hệ giữa hai biến (C --> Q, Q --> Q), thực hiện thống kê T-test để quyết định chấp nhận hoặc bác bỏ giả thuyết thống kê ban đầu\n",
    "\n",
    "Về kết quả, nhóm đã có thể trả lời được các câu hỏi nghiên cứu đặt ra"
   ]
  },
  {
   "cell_type": "markdown",
   "metadata": {},
   "source": [
    "# 2. Giới thiệu\n",
    "## Câu hỏi nghiên cứu"
   ]
  },
  {
   "cell_type": "markdown",
   "metadata": {},
   "source": [
    "### Câu 1. Dân số có phải là nguyên nhân dẫn tới việc gia tăng số ca mắc ở các quốc gia? **(X: Population, Location)**  **(Y:TotalCases)**\n",
    "Dân số đông làm cho mọi người tiếp xúc với nhau gần hơn, đó có thể là điều kiệu thuận lợi dẫn tới lây lan dịch Covid-19 dễ dàng hơn ở các quốc gia. Nhóm dựa vào input đầu vào là các biến `Population`, `TotalCases`, `Location`  để xác định xem có sự phụ thuộc nào giữa dân số và số ca mắc ở các quốc gia hay không bằng suy luận thống kê giữa hai biến số (Q --> Q)"
   ]
  },
  {
   "cell_type": "markdown",
   "metadata": {},
   "source": [
    "### Câu 2. Có phải các nước có nền kinh tế phát triển, thu nhập cao thì dịch bệnh Covid-19 sẽ ít nghiêm trọng hơn so với các nước có nền kinh tế phát triển kém hơn, thu nhập thấp hơn không ? **(X: Location, TotalCases, TotalDeaths)**  **(Y: Tỉ lệ tử vong)**\n",
    "Những nước có nền kinh tế phát triển thường sẽ có hệ thống y tế tốt hơn. Ta có thể nhận thấy những nước thuộc châu Âu (Anh, Đức….), châu Mỹ (Hoa Kỳ, Canada..) thường có nền kinh tế phát triển hơn các khu vực còn lại. Nhóm muốn biết liệu nền kinh tế của mỗi nước có ảnh hưởng đến tình dịch dịch bệnh tại nước đó hay không. Dựa vào input đầu vào là các biến `Location`, `TotalCases`, `TotalDeaths` để xác định xem có sự phụ thuộc nào giữa số ca mắc, số ca tử vong và tỉ lệ tử vong với nền kinh tế của các nước ở hai nhóm nước phát triển và kém phát triển hơn hay không bằng thống kê T-test giữa hai nhóm độc lập (C --> Q)"
   ]
  },
  {
   "cell_type": "markdown",
   "metadata": {},
   "source": [
    "### Câu 3. Khi vaccine được phổ biến, điều đó có giúp ích cho việc chống đại dịch Covid-19 trên thế giới? **(X: Date, PeopleFullyVaccinated, NewCases, NewDeaths)**  **(Y: Tỉ lệ tử vong)**\n",
    "Vaccine xuất hiện là một giải pháp tốt có thể giúp đẩy lùi đại dịch Covid-19 đang hoành hành. Nhóm muốn dựa vào số liệu để xem xét liệu vaccine có thực sự đang giúp con người chống lại đại dịch Covid-19 hay không, dựa vào input đầu vào là các biến `Date`, `PeopleFullyVaccinated`, `NewCases`, `NewDeaths` để xác định xem liệu khi độ bao phủ của vaccine trên thế giới lớn dần thì số ca mắc mới và tử vong mới mỗi ngày có giảm đi không, đánh giá độ hiệu quả của vaccine đối với đại dịch Covid-19 thông qua tỉ lệ tử vong từng ngày trước và sau khi tiêm vaccine."
   ]
  },
  {
   "cell_type": "markdown",
   "metadata": {},
   "source": [
    "### Câu 4. Biến thể Omicron xuất hiện vào 24/11/2021 có gây nguy hiểm không ? So sánh với biến thể Delta xuất hiện vào tháng 12/2020 ? **(X: Date, NewCases, NewDeaths)**  **(Y: Tỉ lệ tử vong)**\n",
    "Biến thể Omicron xuất hiện vào khoảng cuối năm 2021, được nhận định là biến thể có khả năng lây lan nhanh nhất. Nhóm muốn đánh giá mức độ nguy hiểm của nó so với biên thể Delta xuất hiện trước đó, dựa vào input đầu vào là các biến `Date`, `NewCases`, `NewDeaths` để xác định xem có phải số ca mắc mới tăng thì số ca tử vong mới mỗi ngày cũng tăng lên  giữa hai loại biến thể `DELTA` và `OMICRON`, đồng thờI thực hiện kiểm định giả thuyết để xem tỉ lệ tử vong qua từng ngày của loại biến thể nào cao hơn, từ đó đưa ra được kết luận cho câu hỏi"
   ]
  },
  {
   "cell_type": "markdown",
   "metadata": {},
   "source": [
    "# 3. Dữ liệu"
   ]
  },
  {
   "cell_type": "markdown",
   "metadata": {},
   "source": [
    "## 3.1 Mô tả dữ liệu"
   ]
  },
  {
   "cell_type": "markdown",
   "metadata": {},
   "source": [
    "\n",
    "Link github chứa thư mục data: https://github.com/NMS1010/P4DA_Final_Project\n",
    "\n",
    "File dữ liệu: owid-covid-data.csv\n",
    "\n",
    "Giải thích các biến sử dụng\n",
    "\n",
    "|Biến                                   |Mô tả\n",
    "|:--------------------------------------|:--------------------------------------------------------------------------|\n",
    "|`continent`                            |Tên châu lục                                                               |\n",
    "|`location`                             |Tên nước                                                                   |\n",
    "|`date`                                 |Ngày quan sát                                                              |\n",
    "|`total_cases`                          |Tổng số ca mắc covid 19 đã được xác nhận                                   |\n",
    "|`new_cases`                            |Số ca mắc mới covid 19 theo ngày đã được xác nhận                          |\n",
    "|`total_cases_per_million`              |Tổng số ca mắc covid 19 đã được xác nhận trên 1,000,000 người              |\n",
    "|`new_cases_per_million`                |Số ca mắc mới covid 19 theo ngày đã được xác nhận trên 1,000,000 người     |\n",
    "|`total_deaths`                         |Tổng số ca covid 19 tử vong đã được xác nhận                               |\n",
    "|`new_deaths`                           |Số ca covid 19 tử vong mới theo ngày đã được xác nhận                      |\n",
    "|`total_deaths_per_million`             |Tổng số ca covid 19 tử vong đã được xác nhận trên 1,000,000 người          |\n",
    "|`new_deaths_per_million`               |Số ca covid 19 tử vong mới theo ngày đã được xác nhận trên 1,000,000 người |\n",
    "|`total_vaccinations`                   |Tổng số liều vaccine                                                       |\n",
    "|`people_vaccinated`                    |Tổng số người tiêm ít nhất một mũi vaccine                                 |\n",
    "|`people_fully_vaccinated`              |Tổng số người tiêm đủ liều vaccine theo quy định                           |\n",
    "|`people_fully_vaccinated_per_hundred`  |Tổng số người tiêm đầy đủ vaccine theo quy định mỗi 100 người              |\n",
    "|`population`                           |Tổng dân số                                                                |"
   ]
  },
  {
   "cell_type": "markdown",
   "metadata": {},
   "source": [
    "## 3.2 Tiền xử lý dữ liệu"
   ]
  },
  {
   "cell_type": "markdown",
   "metadata": {},
   "source": [
    "#### Import library"
   ]
  },
  {
   "cell_type": "code",
   "execution_count": 238,
   "metadata": {},
   "outputs": [],
   "source": [
    "import pandas as pd\n",
    "import matplotlib.pyplot as plt\n",
    "import numpy as np\n",
    "import plotly.express as px\n",
    "import plotly.graph_objects as go\n",
    "from plotly.offline import plot\n",
    "from plotly.subplots import make_subplots\n",
    "import seaborn as sns\n",
    "import scipy.stats as stats\n",
    "import statsmodels.api as sm\n",
    "from statsmodels.formula.api import ols\n",
    "import datetime\n",
    "import pylab"
   ]
  },
  {
   "cell_type": "markdown",
   "metadata": {},
   "source": [
    "#### Đọc và làm sạch dữ liệu"
   ]
  },
  {
   "cell_type": "code",
   "execution_count": 239,
   "metadata": {},
   "outputs": [],
   "source": [
    "covid_df = pd.read_csv('../data/owid-covid-data.csv')"
   ]
  },
  {
   "cell_type": "markdown",
   "metadata": {},
   "source": [
    "##### Lấy các biến cần thiết"
   ]
  },
  {
   "cell_type": "code",
   "execution_count": 240,
   "metadata": {},
   "outputs": [],
   "source": [
    "covid_df = covid_df[['continent', 'location', 'date', 'total_cases',  'new_cases', 'total_cases_per_million', 'new_cases_per_million', 'total_deaths', 'new_deaths', 'total_deaths_per_million', 'new_deaths_per_million', 'total_vaccinations', 'people_vaccinated', 'people_fully_vaccinated', 'people_fully_vaccinated_per_hundred', 'population']]"
   ]
  },
  {
   "cell_type": "markdown",
   "metadata": {},
   "source": [
    "##### Thay đổi tên các biến"
   ]
  },
  {
   "cell_type": "code",
   "execution_count": 241,
   "metadata": {},
   "outputs": [],
   "source": [
    "covid_df.columns = ['Continent', 'Location', 'Date', 'TotalCases',  'NewCases', 'TotalCases_per_million', 'NewCases_per_million', 'TotalDeaths', 'NewDeaths', 'TotalDeaths_per_million', 'NewDeaths_per_million', 'TotalVaccinations', 'PeopleVaccinated', 'PeopleFullyVaccinated', 'PeopleFullyVaccinated_per_hundred', 'Population']"
   ]
  },
  {
   "cell_type": "markdown",
   "metadata": {},
   "source": [
    "##### Kiểm tra dữ liệu"
   ]
  },
  {
   "cell_type": "code",
   "execution_count": 242,
   "metadata": {},
   "outputs": [
    {
     "name": "stdout",
     "output_type": "stream",
     "text": [
      "Ta thấy vẫn còn nhiều ô nhận giá trị NULL, ta sẽ chuẩn hoá giá trị trong các cột này\n"
     ]
    },
    {
     "data": {
      "text/plain": [
       "Continent                              9956\n",
       "Location                                  0\n",
       "Date                                      0\n",
       "TotalCases                             3033\n",
       "NewCases                               3193\n",
       "TotalCases_per_million                 3791\n",
       "NewCases_per_million                   3951\n",
       "TotalDeaths                           20875\n",
       "NewDeaths                             20839\n",
       "TotalDeaths_per_million               21620\n",
       "NewDeaths_per_million                 21584\n",
       "TotalVaccinations                    121132\n",
       "PeopleVaccinated                     123339\n",
       "PeopleFullyVaccinated                126085\n",
       "PeopleFullyVaccinated_per_hundred    126085\n",
       "Population                             1075\n",
       "dtype: int64"
      ]
     },
     "execution_count": 242,
     "metadata": {},
     "output_type": "execute_result"
    }
   ],
   "source": [
    "print(\"Ta thấy vẫn còn nhiều ô nhận giá trị NULL, ta sẽ chuẩn hoá giá trị trong các cột này\")\n",
    "covid_df.isnull().sum()"
   ]
  },
  {
   "cell_type": "markdown",
   "metadata": {},
   "source": [
    "##### Các khu vực không có tên châu lục"
   ]
  },
  {
   "cell_type": "code",
   "execution_count": 243,
   "metadata": {},
   "outputs": [
    {
     "name": "stdout",
     "output_type": "stream",
     "text": [
      "Các khu vực không có tên châu lục: \n",
      "\n",
      "['Africa' 'Asia' 'Europe' 'European Union' 'High income' 'International'\n",
      " 'Low income' 'Lower middle income' 'North America' 'Oceania'\n",
      " 'South America' 'Upper middle income' 'World']\n",
      "\n",
      "Các giá trị trong cột 'Location' của tập dữ liệu là tên các khu vực trên thế giới, bao gồm cả tên các quốc gia. Vì một số khu vực trong cột `Location` cũng chính là tên châu lục nên giá trị tương ứng trong cột `Continent` đã nhận giá trị NaN. Do vậy, nhóm sẽ chuẩn hoá các giá trị NaN này thành 0\n"
     ]
    }
   ],
   "source": [
    "t = covid_df[covid_df['Continent'].isna()]\n",
    "print(\"Các khu vực không có tên châu lục: \\n\")\n",
    "print(t.Location.unique())\n",
    "print(\"\\nCác giá trị trong cột 'Location' của tập dữ liệu là tên các khu vực trên thế giới, bao gồm cả tên các quốc gia. Vì một số khu vực trong cột `Location` cũng chính là tên châu lục nên giá trị tương ứng trong cột `Continent` đã nhận giá trị NaN. Do vậy, nhóm sẽ chuẩn hoá các giá trị NaN này thành 0\")"
   ]
  },
  {
   "cell_type": "markdown",
   "metadata": {},
   "source": [
    "##### Các khu vực không có thông kê dân số"
   ]
  },
  {
   "cell_type": "code",
   "execution_count": 244,
   "metadata": {},
   "outputs": [
    {
     "name": "stdout",
     "output_type": "stream",
     "text": [
      "['International' 'Northern Cyprus']\n",
      "\n",
      "Một số khu vực trên thế giới như `International`, `Northern Cyprus` chưa có thống kê về dân số trong tập dữ liệu, nên nhóm sẽ bỏ qua các dòng dữ liệu 2 khu vực này.\n"
     ]
    }
   ],
   "source": [
    "t = covid_df[covid_df['Population'].isna()]\n",
    "print(t.Location.unique())\n",
    "print(\"\\nMột số khu vực trên thế giới như `International`, `Northern Cyprus` chưa có thống kê về dân số trong tập dữ liệu, nên nhóm sẽ bỏ qua các dòng dữ liệu 2 khu vực này.\")\n",
    "covid_df = covid_df[~covid_df['Population'].isna()]"
   ]
  },
  {
   "cell_type": "markdown",
   "metadata": {},
   "source": [
    "##### Clean Data"
   ]
  },
  {
   "cell_type": "code",
   "execution_count": 245,
   "metadata": {},
   "outputs": [
    {
     "name": "stdout",
     "output_type": "stream",
     "text": [
      "Còn lại những cột có dữ liệu bị để trống (NULL) vì vào thời điểm quan sát thì có thể chưa xảy ra ca tử vong, chưa có ca mắc hoặc chưa có vaccine để tiêm phòng... \n",
      "Vì thế, nhóm sẽ làm sạch dữ liệu của các cột nhận giá trị NaN khác bằng các số 0\n"
     ]
    }
   ],
   "source": [
    "print(\"Còn lại những cột có dữ liệu bị để trống (NULL) vì vào thời điểm quan sát thì có thể chưa xảy ra ca tử vong, chưa có ca mắc hoặc chưa có vaccine để tiêm phòng... \")\n",
    "print(\"Vì thế, nhóm sẽ làm sạch dữ liệu của các cột nhận giá trị NaN khác bằng các số 0\")\n",
    "covid_df = covid_df.replace('', np.nan).fillna(0)"
   ]
  },
  {
   "cell_type": "markdown",
   "metadata": {},
   "source": [
    "Dữ liệu sau khi đã làm sạch"
   ]
  },
  {
   "cell_type": "code",
   "execution_count": 246,
   "metadata": {},
   "outputs": [
    {
     "data": {
      "text/plain": [
       "Continent                            0\n",
       "Location                             0\n",
       "Date                                 0\n",
       "TotalCases                           0\n",
       "NewCases                             0\n",
       "TotalCases_per_million               0\n",
       "NewCases_per_million                 0\n",
       "TotalDeaths                          0\n",
       "NewDeaths                            0\n",
       "TotalDeaths_per_million              0\n",
       "NewDeaths_per_million                0\n",
       "TotalVaccinations                    0\n",
       "PeopleVaccinated                     0\n",
       "PeopleFullyVaccinated                0\n",
       "PeopleFullyVaccinated_per_hundred    0\n",
       "Population                           0\n",
       "dtype: int64"
      ]
     },
     "execution_count": 246,
     "metadata": {},
     "output_type": "execute_result"
    }
   ],
   "source": [
    "covid_df.isnull().sum()"
   ]
  },
  {
   "cell_type": "markdown",
   "metadata": {},
   "source": [
    "##### Thời gian thu thập dữ liệu về dịch bệnh"
   ]
  },
  {
   "cell_type": "code",
   "execution_count": 247,
   "metadata": {},
   "outputs": [
    {
     "name": "stdout",
     "output_type": "stream",
     "text": [
      "Dữ liệu về dịch bệnh Covid-19 được thu thập từ ngày 2020-01-22 tới ngày 2022-03-05\n"
     ]
    }
   ],
   "source": [
    "covid_world_df = covid_df[covid_df.Location == 'World']\n",
    "print(f\"Dữ liệu về dịch bệnh Covid-19 được thu thập từ ngày {covid_world_df.Date.min()} tới ngày {covid_world_df.Date.max()}\")"
   ]
  },
  {
   "cell_type": "markdown",
   "metadata": {},
   "source": [
    "## 3.3 Chi tiết về dữ liệu"
   ]
  },
  {
   "cell_type": "markdown",
   "metadata": {},
   "source": [
    "### Hình thái dữ liệu"
   ]
  },
  {
   "cell_type": "code",
   "execution_count": 248,
   "metadata": {},
   "outputs": [
    {
     "data": {
      "text/plain": [
       "(165251, 16)"
      ]
     },
     "execution_count": 248,
     "metadata": {},
     "output_type": "execute_result"
    }
   ],
   "source": [
    "covid_df.shape"
   ]
  },
  {
   "cell_type": "markdown",
   "metadata": {},
   "source": [
    "### 10 quan sát đầu tập dữ liệu"
   ]
  },
  {
   "cell_type": "code",
   "execution_count": 249,
   "metadata": {},
   "outputs": [
    {
     "data": {
      "text/html": [
       "<div>\n",
       "<style scoped>\n",
       "    .dataframe tbody tr th:only-of-type {\n",
       "        vertical-align: middle;\n",
       "    }\n",
       "\n",
       "    .dataframe tbody tr th {\n",
       "        vertical-align: top;\n",
       "    }\n",
       "\n",
       "    .dataframe thead th {\n",
       "        text-align: right;\n",
       "    }\n",
       "</style>\n",
       "<table border=\"1\" class=\"dataframe\">\n",
       "  <thead>\n",
       "    <tr style=\"text-align: right;\">\n",
       "      <th></th>\n",
       "      <th>Continent</th>\n",
       "      <th>Location</th>\n",
       "      <th>Date</th>\n",
       "      <th>TotalCases</th>\n",
       "      <th>NewCases</th>\n",
       "      <th>TotalCases_per_million</th>\n",
       "      <th>NewCases_per_million</th>\n",
       "      <th>TotalDeaths</th>\n",
       "      <th>NewDeaths</th>\n",
       "      <th>TotalDeaths_per_million</th>\n",
       "      <th>NewDeaths_per_million</th>\n",
       "      <th>TotalVaccinations</th>\n",
       "      <th>PeopleVaccinated</th>\n",
       "      <th>PeopleFullyVaccinated</th>\n",
       "      <th>PeopleFullyVaccinated_per_hundred</th>\n",
       "      <th>Population</th>\n",
       "    </tr>\n",
       "  </thead>\n",
       "  <tbody>\n",
       "    <tr>\n",
       "      <th>0</th>\n",
       "      <td>Asia</td>\n",
       "      <td>Afghanistan</td>\n",
       "      <td>2020-02-24</td>\n",
       "      <td>5.0</td>\n",
       "      <td>5.0</td>\n",
       "      <td>0.126</td>\n",
       "      <td>0.126</td>\n",
       "      <td>0.0</td>\n",
       "      <td>0.0</td>\n",
       "      <td>0.0</td>\n",
       "      <td>0.0</td>\n",
       "      <td>0.0</td>\n",
       "      <td>0.0</td>\n",
       "      <td>0.0</td>\n",
       "      <td>0.0</td>\n",
       "      <td>39835428.0</td>\n",
       "    </tr>\n",
       "    <tr>\n",
       "      <th>1</th>\n",
       "      <td>Asia</td>\n",
       "      <td>Afghanistan</td>\n",
       "      <td>2020-02-25</td>\n",
       "      <td>5.0</td>\n",
       "      <td>0.0</td>\n",
       "      <td>0.126</td>\n",
       "      <td>0.000</td>\n",
       "      <td>0.0</td>\n",
       "      <td>0.0</td>\n",
       "      <td>0.0</td>\n",
       "      <td>0.0</td>\n",
       "      <td>0.0</td>\n",
       "      <td>0.0</td>\n",
       "      <td>0.0</td>\n",
       "      <td>0.0</td>\n",
       "      <td>39835428.0</td>\n",
       "    </tr>\n",
       "    <tr>\n",
       "      <th>2</th>\n",
       "      <td>Asia</td>\n",
       "      <td>Afghanistan</td>\n",
       "      <td>2020-02-26</td>\n",
       "      <td>5.0</td>\n",
       "      <td>0.0</td>\n",
       "      <td>0.126</td>\n",
       "      <td>0.000</td>\n",
       "      <td>0.0</td>\n",
       "      <td>0.0</td>\n",
       "      <td>0.0</td>\n",
       "      <td>0.0</td>\n",
       "      <td>0.0</td>\n",
       "      <td>0.0</td>\n",
       "      <td>0.0</td>\n",
       "      <td>0.0</td>\n",
       "      <td>39835428.0</td>\n",
       "    </tr>\n",
       "    <tr>\n",
       "      <th>3</th>\n",
       "      <td>Asia</td>\n",
       "      <td>Afghanistan</td>\n",
       "      <td>2020-02-27</td>\n",
       "      <td>5.0</td>\n",
       "      <td>0.0</td>\n",
       "      <td>0.126</td>\n",
       "      <td>0.000</td>\n",
       "      <td>0.0</td>\n",
       "      <td>0.0</td>\n",
       "      <td>0.0</td>\n",
       "      <td>0.0</td>\n",
       "      <td>0.0</td>\n",
       "      <td>0.0</td>\n",
       "      <td>0.0</td>\n",
       "      <td>0.0</td>\n",
       "      <td>39835428.0</td>\n",
       "    </tr>\n",
       "    <tr>\n",
       "      <th>4</th>\n",
       "      <td>Asia</td>\n",
       "      <td>Afghanistan</td>\n",
       "      <td>2020-02-28</td>\n",
       "      <td>5.0</td>\n",
       "      <td>0.0</td>\n",
       "      <td>0.126</td>\n",
       "      <td>0.000</td>\n",
       "      <td>0.0</td>\n",
       "      <td>0.0</td>\n",
       "      <td>0.0</td>\n",
       "      <td>0.0</td>\n",
       "      <td>0.0</td>\n",
       "      <td>0.0</td>\n",
       "      <td>0.0</td>\n",
       "      <td>0.0</td>\n",
       "      <td>39835428.0</td>\n",
       "    </tr>\n",
       "    <tr>\n",
       "      <th>5</th>\n",
       "      <td>Asia</td>\n",
       "      <td>Afghanistan</td>\n",
       "      <td>2020-02-29</td>\n",
       "      <td>5.0</td>\n",
       "      <td>0.0</td>\n",
       "      <td>0.126</td>\n",
       "      <td>0.000</td>\n",
       "      <td>0.0</td>\n",
       "      <td>0.0</td>\n",
       "      <td>0.0</td>\n",
       "      <td>0.0</td>\n",
       "      <td>0.0</td>\n",
       "      <td>0.0</td>\n",
       "      <td>0.0</td>\n",
       "      <td>0.0</td>\n",
       "      <td>39835428.0</td>\n",
       "    </tr>\n",
       "    <tr>\n",
       "      <th>6</th>\n",
       "      <td>Asia</td>\n",
       "      <td>Afghanistan</td>\n",
       "      <td>2020-03-01</td>\n",
       "      <td>5.0</td>\n",
       "      <td>0.0</td>\n",
       "      <td>0.126</td>\n",
       "      <td>0.000</td>\n",
       "      <td>0.0</td>\n",
       "      <td>0.0</td>\n",
       "      <td>0.0</td>\n",
       "      <td>0.0</td>\n",
       "      <td>0.0</td>\n",
       "      <td>0.0</td>\n",
       "      <td>0.0</td>\n",
       "      <td>0.0</td>\n",
       "      <td>39835428.0</td>\n",
       "    </tr>\n",
       "    <tr>\n",
       "      <th>7</th>\n",
       "      <td>Asia</td>\n",
       "      <td>Afghanistan</td>\n",
       "      <td>2020-03-02</td>\n",
       "      <td>5.0</td>\n",
       "      <td>0.0</td>\n",
       "      <td>0.126</td>\n",
       "      <td>0.000</td>\n",
       "      <td>0.0</td>\n",
       "      <td>0.0</td>\n",
       "      <td>0.0</td>\n",
       "      <td>0.0</td>\n",
       "      <td>0.0</td>\n",
       "      <td>0.0</td>\n",
       "      <td>0.0</td>\n",
       "      <td>0.0</td>\n",
       "      <td>39835428.0</td>\n",
       "    </tr>\n",
       "    <tr>\n",
       "      <th>8</th>\n",
       "      <td>Asia</td>\n",
       "      <td>Afghanistan</td>\n",
       "      <td>2020-03-03</td>\n",
       "      <td>5.0</td>\n",
       "      <td>0.0</td>\n",
       "      <td>0.126</td>\n",
       "      <td>0.000</td>\n",
       "      <td>0.0</td>\n",
       "      <td>0.0</td>\n",
       "      <td>0.0</td>\n",
       "      <td>0.0</td>\n",
       "      <td>0.0</td>\n",
       "      <td>0.0</td>\n",
       "      <td>0.0</td>\n",
       "      <td>0.0</td>\n",
       "      <td>39835428.0</td>\n",
       "    </tr>\n",
       "    <tr>\n",
       "      <th>9</th>\n",
       "      <td>Asia</td>\n",
       "      <td>Afghanistan</td>\n",
       "      <td>2020-03-04</td>\n",
       "      <td>5.0</td>\n",
       "      <td>0.0</td>\n",
       "      <td>0.126</td>\n",
       "      <td>0.000</td>\n",
       "      <td>0.0</td>\n",
       "      <td>0.0</td>\n",
       "      <td>0.0</td>\n",
       "      <td>0.0</td>\n",
       "      <td>0.0</td>\n",
       "      <td>0.0</td>\n",
       "      <td>0.0</td>\n",
       "      <td>0.0</td>\n",
       "      <td>39835428.0</td>\n",
       "    </tr>\n",
       "  </tbody>\n",
       "</table>\n",
       "</div>"
      ],
      "text/plain": [
       "  Continent     Location        Date  TotalCases  NewCases  \\\n",
       "0      Asia  Afghanistan  2020-02-24         5.0       5.0   \n",
       "1      Asia  Afghanistan  2020-02-25         5.0       0.0   \n",
       "2      Asia  Afghanistan  2020-02-26         5.0       0.0   \n",
       "3      Asia  Afghanistan  2020-02-27         5.0       0.0   \n",
       "4      Asia  Afghanistan  2020-02-28         5.0       0.0   \n",
       "5      Asia  Afghanistan  2020-02-29         5.0       0.0   \n",
       "6      Asia  Afghanistan  2020-03-01         5.0       0.0   \n",
       "7      Asia  Afghanistan  2020-03-02         5.0       0.0   \n",
       "8      Asia  Afghanistan  2020-03-03         5.0       0.0   \n",
       "9      Asia  Afghanistan  2020-03-04         5.0       0.0   \n",
       "\n",
       "   TotalCases_per_million  NewCases_per_million  TotalDeaths  NewDeaths  \\\n",
       "0                   0.126                 0.126          0.0        0.0   \n",
       "1                   0.126                 0.000          0.0        0.0   \n",
       "2                   0.126                 0.000          0.0        0.0   \n",
       "3                   0.126                 0.000          0.0        0.0   \n",
       "4                   0.126                 0.000          0.0        0.0   \n",
       "5                   0.126                 0.000          0.0        0.0   \n",
       "6                   0.126                 0.000          0.0        0.0   \n",
       "7                   0.126                 0.000          0.0        0.0   \n",
       "8                   0.126                 0.000          0.0        0.0   \n",
       "9                   0.126                 0.000          0.0        0.0   \n",
       "\n",
       "   TotalDeaths_per_million  NewDeaths_per_million  TotalVaccinations  \\\n",
       "0                      0.0                    0.0                0.0   \n",
       "1                      0.0                    0.0                0.0   \n",
       "2                      0.0                    0.0                0.0   \n",
       "3                      0.0                    0.0                0.0   \n",
       "4                      0.0                    0.0                0.0   \n",
       "5                      0.0                    0.0                0.0   \n",
       "6                      0.0                    0.0                0.0   \n",
       "7                      0.0                    0.0                0.0   \n",
       "8                      0.0                    0.0                0.0   \n",
       "9                      0.0                    0.0                0.0   \n",
       "\n",
       "   PeopleVaccinated  PeopleFullyVaccinated  PeopleFullyVaccinated_per_hundred  \\\n",
       "0               0.0                    0.0                                0.0   \n",
       "1               0.0                    0.0                                0.0   \n",
       "2               0.0                    0.0                                0.0   \n",
       "3               0.0                    0.0                                0.0   \n",
       "4               0.0                    0.0                                0.0   \n",
       "5               0.0                    0.0                                0.0   \n",
       "6               0.0                    0.0                                0.0   \n",
       "7               0.0                    0.0                                0.0   \n",
       "8               0.0                    0.0                                0.0   \n",
       "9               0.0                    0.0                                0.0   \n",
       "\n",
       "   Population  \n",
       "0  39835428.0  \n",
       "1  39835428.0  \n",
       "2  39835428.0  \n",
       "3  39835428.0  \n",
       "4  39835428.0  \n",
       "5  39835428.0  \n",
       "6  39835428.0  \n",
       "7  39835428.0  \n",
       "8  39835428.0  \n",
       "9  39835428.0  "
      ]
     },
     "execution_count": 249,
     "metadata": {},
     "output_type": "execute_result"
    }
   ],
   "source": [
    "covid_df.head(10)"
   ]
  },
  {
   "cell_type": "markdown",
   "metadata": {},
   "source": [
    "### 10 quan sát cuối tập dữ liệu"
   ]
  },
  {
   "cell_type": "code",
   "execution_count": 250,
   "metadata": {},
   "outputs": [
    {
     "data": {
      "text/html": [
       "<div>\n",
       "<style scoped>\n",
       "    .dataframe tbody tr th:only-of-type {\n",
       "        vertical-align: middle;\n",
       "    }\n",
       "\n",
       "    .dataframe tbody tr th {\n",
       "        vertical-align: top;\n",
       "    }\n",
       "\n",
       "    .dataframe thead th {\n",
       "        text-align: right;\n",
       "    }\n",
       "</style>\n",
       "<table border=\"1\" class=\"dataframe\">\n",
       "  <thead>\n",
       "    <tr style=\"text-align: right;\">\n",
       "      <th></th>\n",
       "      <th>Continent</th>\n",
       "      <th>Location</th>\n",
       "      <th>Date</th>\n",
       "      <th>TotalCases</th>\n",
       "      <th>NewCases</th>\n",
       "      <th>TotalCases_per_million</th>\n",
       "      <th>NewCases_per_million</th>\n",
       "      <th>TotalDeaths</th>\n",
       "      <th>NewDeaths</th>\n",
       "      <th>TotalDeaths_per_million</th>\n",
       "      <th>NewDeaths_per_million</th>\n",
       "      <th>TotalVaccinations</th>\n",
       "      <th>PeopleVaccinated</th>\n",
       "      <th>PeopleFullyVaccinated</th>\n",
       "      <th>PeopleFullyVaccinated_per_hundred</th>\n",
       "      <th>Population</th>\n",
       "    </tr>\n",
       "  </thead>\n",
       "  <tbody>\n",
       "    <tr>\n",
       "      <th>166316</th>\n",
       "      <td>Africa</td>\n",
       "      <td>Zimbabwe</td>\n",
       "      <td>2022-02-24</td>\n",
       "      <td>234967.0</td>\n",
       "      <td>378.0</td>\n",
       "      <td>15568.801</td>\n",
       "      <td>25.046</td>\n",
       "      <td>5390.0</td>\n",
       "      <td>2.0</td>\n",
       "      <td>357.139</td>\n",
       "      <td>0.133</td>\n",
       "      <td>7858794.0</td>\n",
       "      <td>4351621.0</td>\n",
       "      <td>3384590.0</td>\n",
       "      <td>22.43</td>\n",
       "      <td>15092171.0</td>\n",
       "    </tr>\n",
       "    <tr>\n",
       "      <th>166317</th>\n",
       "      <td>Africa</td>\n",
       "      <td>Zimbabwe</td>\n",
       "      <td>2022-02-25</td>\n",
       "      <td>235467.0</td>\n",
       "      <td>500.0</td>\n",
       "      <td>15601.930</td>\n",
       "      <td>33.130</td>\n",
       "      <td>5392.0</td>\n",
       "      <td>2.0</td>\n",
       "      <td>357.271</td>\n",
       "      <td>0.133</td>\n",
       "      <td>7870399.0</td>\n",
       "      <td>4355217.0</td>\n",
       "      <td>3388940.0</td>\n",
       "      <td>22.45</td>\n",
       "      <td>15092171.0</td>\n",
       "    </tr>\n",
       "    <tr>\n",
       "      <th>166318</th>\n",
       "      <td>Africa</td>\n",
       "      <td>Zimbabwe</td>\n",
       "      <td>2022-02-26</td>\n",
       "      <td>235803.0</td>\n",
       "      <td>336.0</td>\n",
       "      <td>15624.193</td>\n",
       "      <td>22.263</td>\n",
       "      <td>5393.0</td>\n",
       "      <td>1.0</td>\n",
       "      <td>357.338</td>\n",
       "      <td>0.066</td>\n",
       "      <td>7876942.0</td>\n",
       "      <td>4357938.0</td>\n",
       "      <td>3390880.0</td>\n",
       "      <td>22.47</td>\n",
       "      <td>15092171.0</td>\n",
       "    </tr>\n",
       "    <tr>\n",
       "      <th>166319</th>\n",
       "      <td>Africa</td>\n",
       "      <td>Zimbabwe</td>\n",
       "      <td>2022-02-27</td>\n",
       "      <td>235803.0</td>\n",
       "      <td>0.0</td>\n",
       "      <td>15624.193</td>\n",
       "      <td>0.000</td>\n",
       "      <td>5393.0</td>\n",
       "      <td>0.0</td>\n",
       "      <td>357.338</td>\n",
       "      <td>0.000</td>\n",
       "      <td>7882244.0</td>\n",
       "      <td>4359872.0</td>\n",
       "      <td>3392578.0</td>\n",
       "      <td>22.48</td>\n",
       "      <td>15092171.0</td>\n",
       "    </tr>\n",
       "    <tr>\n",
       "      <th>166320</th>\n",
       "      <td>Africa</td>\n",
       "      <td>Zimbabwe</td>\n",
       "      <td>2022-02-28</td>\n",
       "      <td>236380.0</td>\n",
       "      <td>577.0</td>\n",
       "      <td>15662.425</td>\n",
       "      <td>38.232</td>\n",
       "      <td>5395.0</td>\n",
       "      <td>2.0</td>\n",
       "      <td>357.470</td>\n",
       "      <td>0.133</td>\n",
       "      <td>7890951.0</td>\n",
       "      <td>4362150.0</td>\n",
       "      <td>3396655.0</td>\n",
       "      <td>22.51</td>\n",
       "      <td>15092171.0</td>\n",
       "    </tr>\n",
       "    <tr>\n",
       "      <th>166321</th>\n",
       "      <td>Africa</td>\n",
       "      <td>Zimbabwe</td>\n",
       "      <td>2022-03-01</td>\n",
       "      <td>236871.0</td>\n",
       "      <td>491.0</td>\n",
       "      <td>15694.959</td>\n",
       "      <td>32.533</td>\n",
       "      <td>5395.0</td>\n",
       "      <td>0.0</td>\n",
       "      <td>357.470</td>\n",
       "      <td>0.000</td>\n",
       "      <td>7901360.0</td>\n",
       "      <td>4365856.0</td>\n",
       "      <td>3399915.0</td>\n",
       "      <td>22.53</td>\n",
       "      <td>15092171.0</td>\n",
       "    </tr>\n",
       "    <tr>\n",
       "      <th>166322</th>\n",
       "      <td>Africa</td>\n",
       "      <td>Zimbabwe</td>\n",
       "      <td>2022-03-02</td>\n",
       "      <td>237503.0</td>\n",
       "      <td>632.0</td>\n",
       "      <td>15736.835</td>\n",
       "      <td>41.876</td>\n",
       "      <td>5396.0</td>\n",
       "      <td>1.0</td>\n",
       "      <td>357.536</td>\n",
       "      <td>0.066</td>\n",
       "      <td>7910740.0</td>\n",
       "      <td>4368726.0</td>\n",
       "      <td>3402434.0</td>\n",
       "      <td>22.54</td>\n",
       "      <td>15092171.0</td>\n",
       "    </tr>\n",
       "    <tr>\n",
       "      <th>166323</th>\n",
       "      <td>Africa</td>\n",
       "      <td>Zimbabwe</td>\n",
       "      <td>2022-03-03</td>\n",
       "      <td>237503.0</td>\n",
       "      <td>0.0</td>\n",
       "      <td>15736.835</td>\n",
       "      <td>0.000</td>\n",
       "      <td>5396.0</td>\n",
       "      <td>0.0</td>\n",
       "      <td>357.536</td>\n",
       "      <td>0.000</td>\n",
       "      <td>7921113.0</td>\n",
       "      <td>4372925.0</td>\n",
       "      <td>3406482.0</td>\n",
       "      <td>22.57</td>\n",
       "      <td>15092171.0</td>\n",
       "    </tr>\n",
       "    <tr>\n",
       "      <th>166324</th>\n",
       "      <td>Africa</td>\n",
       "      <td>Zimbabwe</td>\n",
       "      <td>2022-03-04</td>\n",
       "      <td>238739.0</td>\n",
       "      <td>1236.0</td>\n",
       "      <td>15818.731</td>\n",
       "      <td>81.897</td>\n",
       "      <td>5397.0</td>\n",
       "      <td>1.0</td>\n",
       "      <td>357.603</td>\n",
       "      <td>0.066</td>\n",
       "      <td>7930621.0</td>\n",
       "      <td>4374896.0</td>\n",
       "      <td>3408609.0</td>\n",
       "      <td>22.59</td>\n",
       "      <td>15092171.0</td>\n",
       "    </tr>\n",
       "    <tr>\n",
       "      <th>166325</th>\n",
       "      <td>Africa</td>\n",
       "      <td>Zimbabwe</td>\n",
       "      <td>2022-03-05</td>\n",
       "      <td>239019.0</td>\n",
       "      <td>280.0</td>\n",
       "      <td>15837.284</td>\n",
       "      <td>18.553</td>\n",
       "      <td>5397.0</td>\n",
       "      <td>0.0</td>\n",
       "      <td>357.603</td>\n",
       "      <td>0.000</td>\n",
       "      <td>0.0</td>\n",
       "      <td>0.0</td>\n",
       "      <td>0.0</td>\n",
       "      <td>0.00</td>\n",
       "      <td>15092171.0</td>\n",
       "    </tr>\n",
       "  </tbody>\n",
       "</table>\n",
       "</div>"
      ],
      "text/plain": [
       "       Continent  Location        Date  TotalCases  NewCases  \\\n",
       "166316    Africa  Zimbabwe  2022-02-24    234967.0     378.0   \n",
       "166317    Africa  Zimbabwe  2022-02-25    235467.0     500.0   \n",
       "166318    Africa  Zimbabwe  2022-02-26    235803.0     336.0   \n",
       "166319    Africa  Zimbabwe  2022-02-27    235803.0       0.0   \n",
       "166320    Africa  Zimbabwe  2022-02-28    236380.0     577.0   \n",
       "166321    Africa  Zimbabwe  2022-03-01    236871.0     491.0   \n",
       "166322    Africa  Zimbabwe  2022-03-02    237503.0     632.0   \n",
       "166323    Africa  Zimbabwe  2022-03-03    237503.0       0.0   \n",
       "166324    Africa  Zimbabwe  2022-03-04    238739.0    1236.0   \n",
       "166325    Africa  Zimbabwe  2022-03-05    239019.0     280.0   \n",
       "\n",
       "        TotalCases_per_million  NewCases_per_million  TotalDeaths  NewDeaths  \\\n",
       "166316               15568.801                25.046       5390.0        2.0   \n",
       "166317               15601.930                33.130       5392.0        2.0   \n",
       "166318               15624.193                22.263       5393.0        1.0   \n",
       "166319               15624.193                 0.000       5393.0        0.0   \n",
       "166320               15662.425                38.232       5395.0        2.0   \n",
       "166321               15694.959                32.533       5395.0        0.0   \n",
       "166322               15736.835                41.876       5396.0        1.0   \n",
       "166323               15736.835                 0.000       5396.0        0.0   \n",
       "166324               15818.731                81.897       5397.0        1.0   \n",
       "166325               15837.284                18.553       5397.0        0.0   \n",
       "\n",
       "        TotalDeaths_per_million  NewDeaths_per_million  TotalVaccinations  \\\n",
       "166316                  357.139                  0.133          7858794.0   \n",
       "166317                  357.271                  0.133          7870399.0   \n",
       "166318                  357.338                  0.066          7876942.0   \n",
       "166319                  357.338                  0.000          7882244.0   \n",
       "166320                  357.470                  0.133          7890951.0   \n",
       "166321                  357.470                  0.000          7901360.0   \n",
       "166322                  357.536                  0.066          7910740.0   \n",
       "166323                  357.536                  0.000          7921113.0   \n",
       "166324                  357.603                  0.066          7930621.0   \n",
       "166325                  357.603                  0.000                0.0   \n",
       "\n",
       "        PeopleVaccinated  PeopleFullyVaccinated  \\\n",
       "166316         4351621.0              3384590.0   \n",
       "166317         4355217.0              3388940.0   \n",
       "166318         4357938.0              3390880.0   \n",
       "166319         4359872.0              3392578.0   \n",
       "166320         4362150.0              3396655.0   \n",
       "166321         4365856.0              3399915.0   \n",
       "166322         4368726.0              3402434.0   \n",
       "166323         4372925.0              3406482.0   \n",
       "166324         4374896.0              3408609.0   \n",
       "166325               0.0                    0.0   \n",
       "\n",
       "        PeopleFullyVaccinated_per_hundred  Population  \n",
       "166316                              22.43  15092171.0  \n",
       "166317                              22.45  15092171.0  \n",
       "166318                              22.47  15092171.0  \n",
       "166319                              22.48  15092171.0  \n",
       "166320                              22.51  15092171.0  \n",
       "166321                              22.53  15092171.0  \n",
       "166322                              22.54  15092171.0  \n",
       "166323                              22.57  15092171.0  \n",
       "166324                              22.59  15092171.0  \n",
       "166325                               0.00  15092171.0  "
      ]
     },
     "execution_count": 250,
     "metadata": {},
     "output_type": "execute_result"
    }
   ],
   "source": [
    "covid_df.tail(10)"
   ]
  },
  {
   "cell_type": "markdown",
   "metadata": {},
   "source": [
    "# 4. Trực quan hoá dữ liệu"
   ]
  },
  {
   "cell_type": "markdown",
   "metadata": {},
   "source": [
    "Thông tin các cột trong tập dữ liệu"
   ]
  },
  {
   "cell_type": "code",
   "execution_count": 251,
   "metadata": {},
   "outputs": [
    {
     "name": "stdout",
     "output_type": "stream",
     "text": [
      "<class 'pandas.core.frame.DataFrame'>\n",
      "Int64Index: 165251 entries, 0 to 166325\n",
      "Data columns (total 16 columns):\n",
      " #   Column                             Non-Null Count   Dtype  \n",
      "---  ------                             --------------   -----  \n",
      " 0   Continent                          165251 non-null  object \n",
      " 1   Location                           165251 non-null  object \n",
      " 2   Date                               165251 non-null  object \n",
      " 3   TotalCases                         165251 non-null  float64\n",
      " 4   NewCases                           165251 non-null  float64\n",
      " 5   TotalCases_per_million             165251 non-null  float64\n",
      " 6   NewCases_per_million               165251 non-null  float64\n",
      " 7   TotalDeaths                        165251 non-null  float64\n",
      " 8   NewDeaths                          165251 non-null  float64\n",
      " 9   TotalDeaths_per_million            165251 non-null  float64\n",
      " 10  NewDeaths_per_million              165251 non-null  float64\n",
      " 11  TotalVaccinations                  165251 non-null  float64\n",
      " 12  PeopleVaccinated                   165251 non-null  float64\n",
      " 13  PeopleFullyVaccinated              165251 non-null  float64\n",
      " 14  PeopleFullyVaccinated_per_hundred  165251 non-null  float64\n",
      " 15  Population                         165251 non-null  float64\n",
      "dtypes: float64(13), object(3)\n",
      "memory usage: 21.4+ MB\n"
     ]
    }
   ],
   "source": [
    "covid_df.info()"
   ]
  },
  {
   "cell_type": "markdown",
   "metadata": {},
   "source": [
    "Một số thống kê cơ bản về dữ liệu"
   ]
  },
  {
   "cell_type": "code",
   "execution_count": 252,
   "metadata": {},
   "outputs": [
    {
     "data": {
      "text/html": [
       "<div>\n",
       "<style scoped>\n",
       "    .dataframe tbody tr th:only-of-type {\n",
       "        vertical-align: middle;\n",
       "    }\n",
       "\n",
       "    .dataframe tbody tr th {\n",
       "        vertical-align: top;\n",
       "    }\n",
       "\n",
       "    .dataframe thead th {\n",
       "        text-align: right;\n",
       "    }\n",
       "</style>\n",
       "<table border=\"1\" class=\"dataframe\">\n",
       "  <thead>\n",
       "    <tr style=\"text-align: right;\">\n",
       "      <th></th>\n",
       "      <th>TotalCases</th>\n",
       "      <th>NewCases</th>\n",
       "      <th>TotalCases_per_million</th>\n",
       "      <th>NewCases_per_million</th>\n",
       "      <th>TotalDeaths</th>\n",
       "      <th>NewDeaths</th>\n",
       "      <th>TotalDeaths_per_million</th>\n",
       "      <th>NewDeaths_per_million</th>\n",
       "      <th>TotalVaccinations</th>\n",
       "      <th>PeopleVaccinated</th>\n",
       "      <th>PeopleFullyVaccinated</th>\n",
       "      <th>PeopleFullyVaccinated_per_hundred</th>\n",
       "      <th>Population</th>\n",
       "    </tr>\n",
       "  </thead>\n",
       "  <tbody>\n",
       "    <tr>\n",
       "      <th>count</th>\n",
       "      <td>1.652510e+05</td>\n",
       "      <td>1.652510e+05</td>\n",
       "      <td>165251.000000</td>\n",
       "      <td>165251.000000</td>\n",
       "      <td>1.652510e+05</td>\n",
       "      <td>165251.000000</td>\n",
       "      <td>165251.000000</td>\n",
       "      <td>165251.000000</td>\n",
       "      <td>1.652510e+05</td>\n",
       "      <td>1.652510e+05</td>\n",
       "      <td>1.652510e+05</td>\n",
       "      <td>165251.000000</td>\n",
       "      <td>1.652510e+05</td>\n",
       "    </tr>\n",
       "    <tr>\n",
       "      <th>mean</th>\n",
       "      <td>2.505992e+06</td>\n",
       "      <td>1.142253e+04</td>\n",
       "      <td>28963.765115</td>\n",
       "      <td>163.534992</td>\n",
       "      <td>5.075483e+04</td>\n",
       "      <td>150.669212</td>\n",
       "      <td>446.055149</td>\n",
       "      <td>1.477463</td>\n",
       "      <td>4.703560e+07</td>\n",
       "      <td>2.292889e+07</td>\n",
       "      <td>1.691146e+07</td>\n",
       "      <td>7.905456</td>\n",
       "      <td>1.474332e+08</td>\n",
       "    </tr>\n",
       "    <tr>\n",
       "      <th>std</th>\n",
       "      <td>1.534516e+07</td>\n",
       "      <td>8.389329e+04</td>\n",
       "      <td>51560.618799</td>\n",
       "      <td>677.401746</td>\n",
       "      <td>2.840557e+05</td>\n",
       "      <td>782.870221</td>\n",
       "      <td>753.155897</td>\n",
       "      <td>4.852677</td>\n",
       "      <td>4.133728e+08</td>\n",
       "      <td>2.073323e+08</td>\n",
       "      <td>1.652634e+08</td>\n",
       "      <td>19.519701</td>\n",
       "      <td>7.054923e+08</td>\n",
       "    </tr>\n",
       "    <tr>\n",
       "      <th>min</th>\n",
       "      <td>0.000000e+00</td>\n",
       "      <td>0.000000e+00</td>\n",
       "      <td>0.000000</td>\n",
       "      <td>0.000000</td>\n",
       "      <td>0.000000e+00</td>\n",
       "      <td>0.000000</td>\n",
       "      <td>0.000000</td>\n",
       "      <td>0.000000</td>\n",
       "      <td>0.000000e+00</td>\n",
       "      <td>0.000000e+00</td>\n",
       "      <td>0.000000e+00</td>\n",
       "      <td>0.000000</td>\n",
       "      <td>4.700000e+01</td>\n",
       "    </tr>\n",
       "    <tr>\n",
       "      <th>25%</th>\n",
       "      <td>1.739000e+03</td>\n",
       "      <td>0.000000e+00</td>\n",
       "      <td>533.510000</td>\n",
       "      <td>0.000000</td>\n",
       "      <td>2.400000e+01</td>\n",
       "      <td>0.000000</td>\n",
       "      <td>6.466000</td>\n",
       "      <td>0.000000</td>\n",
       "      <td>0.000000e+00</td>\n",
       "      <td>0.000000e+00</td>\n",
       "      <td>0.000000e+00</td>\n",
       "      <td>0.000000</td>\n",
       "      <td>1.172369e+06</td>\n",
       "    </tr>\n",
       "    <tr>\n",
       "      <th>50%</th>\n",
       "      <td>2.464500e+04</td>\n",
       "      <td>7.400000e+01</td>\n",
       "      <td>4457.275000</td>\n",
       "      <td>10.425000</td>\n",
       "      <td>3.850000e+02</td>\n",
       "      <td>1.000000</td>\n",
       "      <td>72.774000</td>\n",
       "      <td>0.031000</td>\n",
       "      <td>0.000000e+00</td>\n",
       "      <td>0.000000e+00</td>\n",
       "      <td>0.000000e+00</td>\n",
       "      <td>0.000000</td>\n",
       "      <td>8.478242e+06</td>\n",
       "    </tr>\n",
       "    <tr>\n",
       "      <th>75%</th>\n",
       "      <td>2.891110e+05</td>\n",
       "      <td>1.029000e+03</td>\n",
       "      <td>36582.431500</td>\n",
       "      <td>97.800500</td>\n",
       "      <td>5.356000e+03</td>\n",
       "      <td>14.000000</td>\n",
       "      <td>581.888000</td>\n",
       "      <td>1.032000</td>\n",
       "      <td>5.999550e+04</td>\n",
       "      <td>1.400250e+04</td>\n",
       "      <td>0.000000e+00</td>\n",
       "      <td>0.000000</td>\n",
       "      <td>3.393361e+07</td>\n",
       "    </tr>\n",
       "    <tr>\n",
       "      <th>max</th>\n",
       "      <td>4.451295e+08</td>\n",
       "      <td>4.206334e+06</td>\n",
       "      <td>706541.904000</td>\n",
       "      <td>51427.491000</td>\n",
       "      <td>5.995245e+06</td>\n",
       "      <td>18020.000000</td>\n",
       "      <td>6322.263000</td>\n",
       "      <td>453.772000</td>\n",
       "      <td>1.085079e+10</td>\n",
       "      <td>4.976031e+09</td>\n",
       "      <td>4.400787e+09</td>\n",
       "      <td>121.450000</td>\n",
       "      <td>7.874966e+09</td>\n",
       "    </tr>\n",
       "  </tbody>\n",
       "</table>\n",
       "</div>"
      ],
      "text/plain": [
       "         TotalCases      NewCases  TotalCases_per_million  \\\n",
       "count  1.652510e+05  1.652510e+05           165251.000000   \n",
       "mean   2.505992e+06  1.142253e+04            28963.765115   \n",
       "std    1.534516e+07  8.389329e+04            51560.618799   \n",
       "min    0.000000e+00  0.000000e+00                0.000000   \n",
       "25%    1.739000e+03  0.000000e+00              533.510000   \n",
       "50%    2.464500e+04  7.400000e+01             4457.275000   \n",
       "75%    2.891110e+05  1.029000e+03            36582.431500   \n",
       "max    4.451295e+08  4.206334e+06           706541.904000   \n",
       "\n",
       "       NewCases_per_million   TotalDeaths      NewDeaths  \\\n",
       "count         165251.000000  1.652510e+05  165251.000000   \n",
       "mean             163.534992  5.075483e+04     150.669212   \n",
       "std              677.401746  2.840557e+05     782.870221   \n",
       "min                0.000000  0.000000e+00       0.000000   \n",
       "25%                0.000000  2.400000e+01       0.000000   \n",
       "50%               10.425000  3.850000e+02       1.000000   \n",
       "75%               97.800500  5.356000e+03      14.000000   \n",
       "max            51427.491000  5.995245e+06   18020.000000   \n",
       "\n",
       "       TotalDeaths_per_million  NewDeaths_per_million  TotalVaccinations  \\\n",
       "count            165251.000000          165251.000000       1.652510e+05   \n",
       "mean                446.055149               1.477463       4.703560e+07   \n",
       "std                 753.155897               4.852677       4.133728e+08   \n",
       "min                   0.000000               0.000000       0.000000e+00   \n",
       "25%                   6.466000               0.000000       0.000000e+00   \n",
       "50%                  72.774000               0.031000       0.000000e+00   \n",
       "75%                 581.888000               1.032000       5.999550e+04   \n",
       "max                6322.263000             453.772000       1.085079e+10   \n",
       "\n",
       "       PeopleVaccinated  PeopleFullyVaccinated  \\\n",
       "count      1.652510e+05           1.652510e+05   \n",
       "mean       2.292889e+07           1.691146e+07   \n",
       "std        2.073323e+08           1.652634e+08   \n",
       "min        0.000000e+00           0.000000e+00   \n",
       "25%        0.000000e+00           0.000000e+00   \n",
       "50%        0.000000e+00           0.000000e+00   \n",
       "75%        1.400250e+04           0.000000e+00   \n",
       "max        4.976031e+09           4.400787e+09   \n",
       "\n",
       "       PeopleFullyVaccinated_per_hundred    Population  \n",
       "count                      165251.000000  1.652510e+05  \n",
       "mean                            7.905456  1.474332e+08  \n",
       "std                            19.519701  7.054923e+08  \n",
       "min                             0.000000  4.700000e+01  \n",
       "25%                             0.000000  1.172369e+06  \n",
       "50%                             0.000000  8.478242e+06  \n",
       "75%                             0.000000  3.393361e+07  \n",
       "max                           121.450000  7.874966e+09  "
      ]
     },
     "execution_count": 252,
     "metadata": {},
     "output_type": "execute_result"
    }
   ],
   "source": [
    "covid_df.describe()"
   ]
  },
  {
   "cell_type": "markdown",
   "metadata": {},
   "source": [
    "Một số hàm vẽ biểu đồ cần thiết"
   ]
  },
  {
   "cell_type": "code",
   "execution_count": 253,
   "metadata": {},
   "outputs": [],
   "source": [
    "def plot_bar(df, x, y, title):\n",
    "    figure = px.bar(df, x = x, y = y, color = 'Continent', text = x, orientation='h', height=500,\n",
    "                    color_discrete_sequence = px.colors.qualitative.Dark2)\n",
    "    figure.update_layout(title=title, xaxis_title=x, yaxis_title=y, \n",
    "                    yaxis_categoryorder = 'total ascending',\n",
    "                    uniformtext_minsize=8, uniformtext_mode='hide', template='plotly_dark')\n",
    "    figure.show()"
   ]
  },
  {
   "cell_type": "code",
   "execution_count": 254,
   "metadata": {},
   "outputs": [],
   "source": [
    "def plot_hbar(df, col, number, title):\n",
    "    figure = px.bar(df.sort_values(col).tail(number), x = col, y = 'Location', color = 'Continent', text = col, orientation='h', height=700,\n",
    "                   color_discrete_sequence = px.colors.qualitative.Dark2)\n",
    "    figure.update_layout(title=title, xaxis_title=col, yaxis_title=\"Country\", \n",
    "                    yaxis_categoryorder = 'total ascending',\n",
    "                    uniformtext_minsize=8, uniformtext_mode='hide', template='plotly_dark')\n",
    "    figure.show()"
   ]
  },
  {
   "cell_type": "code",
   "execution_count": 255,
   "metadata": {},
   "outputs": [],
   "source": [
    "def plot_sub_lines(df, x, y1, y2, title):\n",
    "    fig = make_subplots(rows=2, cols=1, subplot_titles=(\"Số ca mắc mới mỗi ngày\", \"Số ca tử vong mới mỗi ngày\"))\n",
    "    fig.add_trace(\n",
    "        go.Scatter(x=df[x], y = df[y1], mode=\"lines\", name=y1),\n",
    "        row = 1, \n",
    "        col = 1,\n",
    "    )\n",
    "    fig.add_trace(\n",
    "        go.Scatter(x=df[x], y = df[y2], mode=\"lines\", name=y2),\n",
    "        row = 2, \n",
    "        col = 1\n",
    "    )\n",
    "    fig.update_layout(height=600, width=1200, title_text=title, template='plotly_dark')\n",
    "    fig.show()"
   ]
  },
  {
   "cell_type": "code",
   "execution_count": 256,
   "metadata": {},
   "outputs": [],
   "source": [
    "def plot_sub_pies(df, y1, y2, title):\n",
    "    fig = make_subplots(rows=1, cols=2, subplot_titles=(\"Tổng dân số ở các khu vực\", \"Tổng số ca mắc ở các khu vực\"), specs=[[{\"type\": \"pie\"}, {\"type\": \"pie\"}]])\n",
    "    fig.add_trace(\n",
    "        go.Pie(values=df[y1], labels=df[\"Continent\"]),\n",
    "        row = 1, \n",
    "        col = 1,\n",
    "    )\n",
    "    fig.add_trace(\n",
    "        go.Pie(values=df[y2], labels=df[\"Continent\"]),\n",
    "        row = 1, \n",
    "        col = 2\n",
    "    )\n",
    "    fig.update_layout(height=600, width=1000, title_text=title, template='plotly_dark')\n",
    "    fig.show()"
   ]
  },
  {
   "cell_type": "code",
   "execution_count": 257,
   "metadata": {},
   "outputs": [],
   "source": [
    "def plot_map(df, col, title, size, range):\n",
    "    fig = px.scatter_geo(df, locations='Location', locationmode=\"country names\", \n",
    "                        color=col, size=size,\n",
    "                        range_color= range,\n",
    "                        hover_name='Location',\n",
    "                        projection=\"natural earth\",\n",
    "                        title=title, color_continuous_scale=\"portland\")\n",
    "    fig.update_layout(\n",
    "        template='plotly_dark',\n",
    "        )\n",
    "    fig.show()"
   ]
  },
  {
   "cell_type": "code",
   "execution_count": 258,
   "metadata": {},
   "outputs": [],
   "source": [
    "def plot_pie(df, values, names, title):\n",
    "    fig = px.pie(df, values=values, names=names, title=title)\n",
    "    fig.update_layout(\n",
    "        template='plotly_dark',\n",
    "        )\n",
    "    fig.show()"
   ]
  },
  {
   "cell_type": "code",
   "execution_count": 259,
   "metadata": {},
   "outputs": [],
   "source": [
    "def plot_scatter(df, _x, _y, title, hover_name):\n",
    "    fig = px.scatter(df, x=_x, y=_y, color = _y, hover_name= hover_name, title=title, trendline=\"ols\", color_continuous_scale=px.colors.sequential.Viridis)\n",
    "    fig.show()"
   ]
  },
  {
   "cell_type": "code",
   "execution_count": 260,
   "metadata": {},
   "outputs": [
    {
     "name": "stderr",
     "output_type": "stream",
     "text": [
      "C:\\Users\\nguye\\AppData\\Local\\Temp\\ipykernel_6100\\2878369555.py:3: FutureWarning:\n",
      "\n",
      "Indexing with multiple keys (implicitly converted to a tuple of keys) will be deprecated, use a list instead.\n",
      "\n"
     ]
    }
   ],
   "source": [
    "covid_group_loction = covid_df.copy()\n",
    "covid_group_loction = covid_group_loction[covid_group_loction.Continent != 0]\n",
    "covid_group_loction = covid_group_loction.groupby(['Location'])['TotalCases', 'TotalDeaths'].max()\n",
    "covid_group_loction = covid_group_loction.reset_index()\n",
    "covid_group_loction['SizeCases'] = covid_group_loction['TotalCases'].pow(0.3)\n",
    "covid_group_loction['SizeDeaths'] = covid_group_loction['TotalCases'].pow(0.3)"
   ]
  },
  {
   "cell_type": "code",
   "execution_count": 261,
   "metadata": {},
   "outputs": [
    {
     "data": {
      "application/vnd.plotly.v1+json": {
       "config": {
        "plotlyServerURL": "https://plot.ly"
       },
       "data": [
        {
         "geo": "geo",
         "hovertemplate": "<b>%{hovertext}</b><br><br>SizeCases=%{marker.size}<br>Location=%{location}<br>TotalCases=%{marker.color}<extra></extra>",
         "hovertext": [
          "Afghanistan",
          "Albania",
          "Algeria",
          "Andorra",
          "Angola",
          "Anguilla",
          "Antigua and Barbuda",
          "Argentina",
          "Armenia",
          "Aruba",
          "Australia",
          "Austria",
          "Azerbaijan",
          "Bahamas",
          "Bahrain",
          "Bangladesh",
          "Barbados",
          "Belarus",
          "Belgium",
          "Belize",
          "Benin",
          "Bermuda",
          "Bhutan",
          "Bolivia",
          "Bonaire Sint Eustatius and Saba",
          "Bosnia and Herzegovina",
          "Botswana",
          "Brazil",
          "British Virgin Islands",
          "Brunei",
          "Bulgaria",
          "Burkina Faso",
          "Burundi",
          "Cambodia",
          "Cameroon",
          "Canada",
          "Cape Verde",
          "Cayman Islands",
          "Central African Republic",
          "Chad",
          "Chile",
          "China",
          "Colombia",
          "Comoros",
          "Congo",
          "Cook Islands",
          "Costa Rica",
          "Cote d'Ivoire",
          "Croatia",
          "Cuba",
          "Curacao",
          "Cyprus",
          "Czechia",
          "Democratic Republic of Congo",
          "Denmark",
          "Djibouti",
          "Dominica",
          "Dominican Republic",
          "Ecuador",
          "Egypt",
          "El Salvador",
          "Equatorial Guinea",
          "Eritrea",
          "Estonia",
          "Eswatini",
          "Ethiopia",
          "Faeroe Islands",
          "Falkland Islands",
          "Fiji",
          "Finland",
          "France",
          "French Polynesia",
          "Gabon",
          "Gambia",
          "Georgia",
          "Germany",
          "Ghana",
          "Gibraltar",
          "Greece",
          "Greenland",
          "Grenada",
          "Guatemala",
          "Guernsey",
          "Guinea",
          "Guinea-Bissau",
          "Guyana",
          "Haiti",
          "Honduras",
          "Hong Kong",
          "Hungary",
          "Iceland",
          "India",
          "Indonesia",
          "Iran",
          "Iraq",
          "Ireland",
          "Isle of Man",
          "Israel",
          "Italy",
          "Jamaica",
          "Japan",
          "Jersey",
          "Jordan",
          "Kazakhstan",
          "Kenya",
          "Kiribati",
          "Kosovo",
          "Kuwait",
          "Kyrgyzstan",
          "Laos",
          "Latvia",
          "Lebanon",
          "Lesotho",
          "Liberia",
          "Libya",
          "Liechtenstein",
          "Lithuania",
          "Luxembourg",
          "Macao",
          "Madagascar",
          "Malawi",
          "Malaysia",
          "Maldives",
          "Mali",
          "Malta",
          "Marshall Islands",
          "Mauritania",
          "Mauritius",
          "Mexico",
          "Micronesia (country)",
          "Moldova",
          "Monaco",
          "Mongolia",
          "Montenegro",
          "Montserrat",
          "Morocco",
          "Mozambique",
          "Myanmar",
          "Namibia",
          "Nauru",
          "Nepal",
          "Netherlands",
          "New Caledonia",
          "New Zealand",
          "Nicaragua",
          "Niger",
          "Nigeria",
          "Niue",
          "North Macedonia",
          "Norway",
          "Oman",
          "Pakistan",
          "Palau",
          "Palestine",
          "Panama",
          "Papua New Guinea",
          "Paraguay",
          "Peru",
          "Philippines",
          "Pitcairn",
          "Poland",
          "Portugal",
          "Qatar",
          "Romania",
          "Russia",
          "Rwanda",
          "Saint Helena",
          "Saint Kitts and Nevis",
          "Saint Lucia",
          "Saint Pierre and Miquelon",
          "Saint Vincent and the Grenadines",
          "Samoa",
          "San Marino",
          "Sao Tome and Principe",
          "Saudi Arabia",
          "Senegal",
          "Serbia",
          "Seychelles",
          "Sierra Leone",
          "Singapore",
          "Sint Maarten (Dutch part)",
          "Slovakia",
          "Slovenia",
          "Solomon Islands",
          "Somalia",
          "South Africa",
          "South Korea",
          "South Sudan",
          "Spain",
          "Sri Lanka",
          "Sudan",
          "Suriname",
          "Sweden",
          "Switzerland",
          "Syria",
          "Taiwan",
          "Tajikistan",
          "Tanzania",
          "Thailand",
          "Timor",
          "Togo",
          "Tokelau",
          "Tonga",
          "Trinidad and Tobago",
          "Tunisia",
          "Turkey",
          "Turkmenistan",
          "Turks and Caicos Islands",
          "Tuvalu",
          "Uganda",
          "Ukraine",
          "United Arab Emirates",
          "United Kingdom",
          "United States",
          "Uruguay",
          "Uzbekistan",
          "Vanuatu",
          "Vatican",
          "Venezuela",
          "Vietnam",
          "Wallis and Futuna",
          "Yemen",
          "Zambia",
          "Zimbabwe"
         ],
         "legendgroup": "",
         "locationmode": "country names",
         "locations": [
          "Afghanistan",
          "Albania",
          "Algeria",
          "Andorra",
          "Angola",
          "Anguilla",
          "Antigua and Barbuda",
          "Argentina",
          "Armenia",
          "Aruba",
          "Australia",
          "Austria",
          "Azerbaijan",
          "Bahamas",
          "Bahrain",
          "Bangladesh",
          "Barbados",
          "Belarus",
          "Belgium",
          "Belize",
          "Benin",
          "Bermuda",
          "Bhutan",
          "Bolivia",
          "Bonaire Sint Eustatius and Saba",
          "Bosnia and Herzegovina",
          "Botswana",
          "Brazil",
          "British Virgin Islands",
          "Brunei",
          "Bulgaria",
          "Burkina Faso",
          "Burundi",
          "Cambodia",
          "Cameroon",
          "Canada",
          "Cape Verde",
          "Cayman Islands",
          "Central African Republic",
          "Chad",
          "Chile",
          "China",
          "Colombia",
          "Comoros",
          "Congo",
          "Cook Islands",
          "Costa Rica",
          "Cote d'Ivoire",
          "Croatia",
          "Cuba",
          "Curacao",
          "Cyprus",
          "Czechia",
          "Democratic Republic of Congo",
          "Denmark",
          "Djibouti",
          "Dominica",
          "Dominican Republic",
          "Ecuador",
          "Egypt",
          "El Salvador",
          "Equatorial Guinea",
          "Eritrea",
          "Estonia",
          "Eswatini",
          "Ethiopia",
          "Faeroe Islands",
          "Falkland Islands",
          "Fiji",
          "Finland",
          "France",
          "French Polynesia",
          "Gabon",
          "Gambia",
          "Georgia",
          "Germany",
          "Ghana",
          "Gibraltar",
          "Greece",
          "Greenland",
          "Grenada",
          "Guatemala",
          "Guernsey",
          "Guinea",
          "Guinea-Bissau",
          "Guyana",
          "Haiti",
          "Honduras",
          "Hong Kong",
          "Hungary",
          "Iceland",
          "India",
          "Indonesia",
          "Iran",
          "Iraq",
          "Ireland",
          "Isle of Man",
          "Israel",
          "Italy",
          "Jamaica",
          "Japan",
          "Jersey",
          "Jordan",
          "Kazakhstan",
          "Kenya",
          "Kiribati",
          "Kosovo",
          "Kuwait",
          "Kyrgyzstan",
          "Laos",
          "Latvia",
          "Lebanon",
          "Lesotho",
          "Liberia",
          "Libya",
          "Liechtenstein",
          "Lithuania",
          "Luxembourg",
          "Macao",
          "Madagascar",
          "Malawi",
          "Malaysia",
          "Maldives",
          "Mali",
          "Malta",
          "Marshall Islands",
          "Mauritania",
          "Mauritius",
          "Mexico",
          "Micronesia (country)",
          "Moldova",
          "Monaco",
          "Mongolia",
          "Montenegro",
          "Montserrat",
          "Morocco",
          "Mozambique",
          "Myanmar",
          "Namibia",
          "Nauru",
          "Nepal",
          "Netherlands",
          "New Caledonia",
          "New Zealand",
          "Nicaragua",
          "Niger",
          "Nigeria",
          "Niue",
          "North Macedonia",
          "Norway",
          "Oman",
          "Pakistan",
          "Palau",
          "Palestine",
          "Panama",
          "Papua New Guinea",
          "Paraguay",
          "Peru",
          "Philippines",
          "Pitcairn",
          "Poland",
          "Portugal",
          "Qatar",
          "Romania",
          "Russia",
          "Rwanda",
          "Saint Helena",
          "Saint Kitts and Nevis",
          "Saint Lucia",
          "Saint Pierre and Miquelon",
          "Saint Vincent and the Grenadines",
          "Samoa",
          "San Marino",
          "Sao Tome and Principe",
          "Saudi Arabia",
          "Senegal",
          "Serbia",
          "Seychelles",
          "Sierra Leone",
          "Singapore",
          "Sint Maarten (Dutch part)",
          "Slovakia",
          "Slovenia",
          "Solomon Islands",
          "Somalia",
          "South Africa",
          "South Korea",
          "South Sudan",
          "Spain",
          "Sri Lanka",
          "Sudan",
          "Suriname",
          "Sweden",
          "Switzerland",
          "Syria",
          "Taiwan",
          "Tajikistan",
          "Tanzania",
          "Thailand",
          "Timor",
          "Togo",
          "Tokelau",
          "Tonga",
          "Trinidad and Tobago",
          "Tunisia",
          "Turkey",
          "Turkmenistan",
          "Turks and Caicos Islands",
          "Tuvalu",
          "Uganda",
          "Ukraine",
          "United Arab Emirates",
          "United Kingdom",
          "United States",
          "Uruguay",
          "Uzbekistan",
          "Vanuatu",
          "Vatican",
          "Venezuela",
          "Vietnam",
          "Wallis and Futuna",
          "Yemen",
          "Zambia",
          "Zimbabwe"
         ],
         "marker": {
          "color": [
           174331,
           272030,
           265227,
           38434,
           98796,
           2555,
           7455,
           8934328,
           421226,
           33732,
           3362035,
           2839297,
           788958,
           33169,
           525171,
           1946737,
           56013,
           929340,
           3586292,
           56876,
           26575,
           11634,
           14451,
           894551,
           7616,
           372139,
           263950,
           29040800,
           6091,
           84844,
           1100811,
           20751,
           38150,
           132072,
           119322,
           3334009,
           55892,
           19373,
           14320,
           7257,
           3168335,
           110868,
           6070616,
           8047,
           24020,
           2,
           814583,
           85518,
           1062953,
           1072474,
           39133,
           331508,
           3624937,
           86154,
           2853236,
           15550,
           11248,
           575883,
           836216,
           489876,
           156364,
           15889,
           9715,
           514067,
           69297,
           468930,
           34658,
           115,
           64019,
           671773,
           23064766,
           68425,
           47559,
           11948,
           1623672,
           15830112,
           160028,
           15622,
           2499259,
           11806,
           13696,
           791944,
           0,
           36397,
           8027,
           63040,
           30385,
           413699,
           440609,
           1800046,
           140929,
           42962953,
           5723858,
           7084306,
           2307555,
           1315100,
           23328,
           3669112,
           12990223,
           128166,
           5341246,
           0,
           1638228,
           1391984,
           323071,
           2985,
           226579,
           622489,
           200615,
           143969,
           697548,
           1077242,
           32707,
           7384,
           497279,
           12833,
           928612,
           186360,
           82,
           63791,
           85411,
           3595172,
           172270,
           30398,
           71800,
           7,
           58646,
           70862,
           5554392,
           1,
           504875,
           9537,
           911183,
           230887,
           164,
           1161586,
           225135,
           597417,
           157324,
           0,
           977447,
           6734097,
           56833,
           222767,
           18105,
           8760,
           254637,
           0,
           299419,
           1305006,
           383874,
           1514258,
           3844,
           649971,
           757487,
           41421,
           643619,
           3522484,
           3666678,
           0,
           5734041,
           3322134,
           358083,
           2765169,
           16619507,
           129551,
           4,
           5536,
           22733,
           1102,
           9447,
           33,
           14487,
           5939,
           747119,
           85747,
           1923977,
           39427,
           7665,
           819663,
           0,
           2190599,
           902744,
           7940,
           26351,
           3683172,
           4456264,
           16999,
           11100428,
           649632,
           61569,
           78487,
           2455966,
           2890568,
           54963,
           20797,
           17786,
           33620,
           3026695,
           22741,
           36815,
           0,
           898,
           129963,
           1005167,
           14326217,
           0,
           5867,
           0,
           163383,
           5040518,
           882477,
           19172095,
           79265726,
           853170,
           236840,
           19,
           29,
           516578,
           4232520,
           454,
           11775,
           313744,
           239019
          ],
          "coloraxis": "coloraxis",
          "size": [
           37.36047476006603,
           42.69578869641803,
           42.37262015628478,
           23.736390366870946,
           31.508070492449907,
           10.524882870272739,
           14.512234730405421,
           121.7078435957722,
           48.680446280825514,
           22.82509677198139,
           90.77801230121294,
           86.29055197862168,
           58.764651545549036,
           22.710134875348785,
           52.01040323836181,
           77.05346709069406,
           26.575818561459613,
           61.723762148382164,
           92.55368062588394,
           26.69799907414912,
           21.24917053503209,
           16.58512380652843,
           17.6998412141842,
           61.021310682843435,
           14.60555554243523,
           46.90418086926783,
           42.31131274496044,
           173.3415089345677,
           13.658612366224677,
           30.10137544451083,
           64.94023086071117,
           19.72930147459791,
           23.68363518262701,
           34.37504112062251,
           33.34388175939686,
           90.55032853368762,
           26.558582696666267,
           19.32676044182672,
           17.651552364143512,
           14.39551269740934,
           89.1762752238927,
           32.616838552505556,
           108.38516139943778,
           14.848760430095712,
           20.614457060233207,
           1.2311444133449163,
           59.33085442825584,
           30.172914398448093,
           64.26199715922566,
           64.43413930747212,
           23.865082656031163,
           45.305215862531256,
           92.8517597325446,
           30.240058972454314,
           86.4174224333253,
           18.093355569757932,
           16.41808849800429,
           53.46878032326696,
           59.799223120128026,
           50.936118698150786,
           36.16104991892602,
           18.210797683339173,
           15.712049601783697,
           51.67802619072763,
           28.327896700711342,
           50.272722549269126,
           23.011294427435768,
           4.151541198814568,
           27.662578910375142,
           55.99725823492452,
           161.76505728418334,
           28.22048295410101,
           25.302871753955422,
           16.718163344415462,
           72.97086432608265,
           144.4924637339012,
           36.413195535861355,
           18.11844783908358,
           83.05071570403857,
           16.658305930761294,
           17.41719139236826,
           58.831286007936704,
           0,
           23.35176312416356,
           14.837679260393815,
           27.534986085055884,
           22.120644292356474,
           48.41783223965548,
           49.34191595126767,
           75.26361619917371,
           35.05097564614086,
           194.9522434625203,
           106.48946749062434,
           113.52439433233542,
           81.08595169593828,
           68.49953657377996,
           20.434464066993797,
           93.18978089869104,
           136.1711113599144,
           34.06683986899754,
           104.30203315106293,
           0,
           73.1665038349584,
           69.67713308395211,
           44.95617910646251,
           11.027658298153398,
           40.417169596211316,
           54.73177140828822,
           38.96808112023671,
           35.27611066999852,
           56.63334705244694,
           64.51994422138993,
           22.614771984203085,
           14.470632240111042,
           51.165831447994556,
           17.08041656600433,
           61.70925274678915,
           38.115867672656286,
           3.750974879935414,
           27.63298638774504,
           30.161583742909542,
           92.62237264114638,
           37.227416321977245,
           22.123483114054633,
           28.631053815280914,
           1.792789962520997,
           26.944586229916055,
           28.518325504796106,
           105.53364977100908,
           1,
           51.399058021319426,
           15.625126238810088,
           61.35948170705608,
           40.64619012334562,
           4.617991768029603,
           65.99566520725499,
           40.3397223750845,
           54.06090018505015,
           36.22751074847901,
           0,
           62.66542153404439,
           111.81081429002316,
           26.691942119367422,
           40.211961388697425,
           18.938237504814836,
           15.231800113757554,
           41.857805218296946,
           0,
           43.94240339944001,
           68.341381318558,
           47.343091011485626,
           71.45949833802224,
           11.896932943137108,
           55.44574126259954,
           58.05138092182759,
           24.275387652946502,
           55.282625037134395,
           92.05655294833073,
           93.17123063823259,
           0,
           106.54626699821411,
           90.45345162023123,
           46.3655174536195,
           85.60842435508991,
           146.6173754335714,
           34.17686562611166,
           1.515716566510398,
           13.272686131043374,
           20.27668832267122,
           8.17813882249442,
           15.580743378299264,
           2.854658634732502,
           17.7130577283913,
           13.55545181539051,
           57.81185893925599,
           30.19713081368353,
           76.78209590682836,
           23.918730189095594,
           14.63368316167064,
           59.441614848483226,
           0,
           79.8305029669083,
           61.1884403083984,
           14.789250011455552,
           21.19527863913226,
           93.29676821538543,
           98.78506125393697,
           18.583478612110973,
           129.89783634552475,
           55.43706416540542,
           27.340637071344446,
           29.406227907169804,
           82.61648338617925,
           86.75508850031639,
           26.425373160933788,
           19.742411849258655,
           18.83750958895418,
           22.802334523236578,
           87.9610890608893,
           20.278828737894404,
           23.43189655768228,
           0,
           7.691001587543644,
           34.209436328978796,
           63.19336278716562,
           140.22952325518355,
           0,
           13.505940324209943,
           0,
           36.64055639150751,
           102.50441017631088,
           60.77304801953803,
           153.0385603879094,
           234.27483059587317,
           60.16039412891591,
           40.95779007356895,
           2.4189454814875875,
           2.7461192933624785,
           51.75362467797266,
           97.27017689674658,
           6.267823463756063,
           16.645171521589855,
           44.562816196447216,
           41.07047517156296
          ],
          "sizemode": "area",
          "sizeref": 0.5856870764896829,
          "symbol": "circle"
         },
         "mode": "markers",
         "name": "",
         "showlegend": false,
         "type": "scattergeo"
        }
       ],
       "layout": {
        "coloraxis": {
         "cmax": 10000000,
         "cmin": 0,
         "colorbar": {
          "title": {
           "text": "TotalCases"
          }
         },
         "colorscale": [
          [
           0,
           "rgb(12,51,131)"
          ],
          [
           0.25,
           "rgb(10,136,186)"
          ],
          [
           0.5,
           "rgb(242,211,56)"
          ],
          [
           0.75,
           "rgb(242,143,56)"
          ],
          [
           1,
           "rgb(217,30,30)"
          ]
         ]
        },
        "geo": {
         "center": {},
         "domain": {
          "x": [
           0,
           1
          ],
          "y": [
           0,
           1
          ]
         },
         "projection": {
          "type": "natural earth"
         }
        },
        "legend": {
         "itemsizing": "constant",
         "tracegroupgap": 0
        },
        "template": {
         "data": {
          "bar": [
           {
            "error_x": {
             "color": "#f2f5fa"
            },
            "error_y": {
             "color": "#f2f5fa"
            },
            "marker": {
             "line": {
              "color": "rgb(17,17,17)",
              "width": 0.5
             },
             "pattern": {
              "fillmode": "overlay",
              "size": 10,
              "solidity": 0.2
             }
            },
            "type": "bar"
           }
          ],
          "barpolar": [
           {
            "marker": {
             "line": {
              "color": "rgb(17,17,17)",
              "width": 0.5
             },
             "pattern": {
              "fillmode": "overlay",
              "size": 10,
              "solidity": 0.2
             }
            },
            "type": "barpolar"
           }
          ],
          "carpet": [
           {
            "aaxis": {
             "endlinecolor": "#A2B1C6",
             "gridcolor": "#506784",
             "linecolor": "#506784",
             "minorgridcolor": "#506784",
             "startlinecolor": "#A2B1C6"
            },
            "baxis": {
             "endlinecolor": "#A2B1C6",
             "gridcolor": "#506784",
             "linecolor": "#506784",
             "minorgridcolor": "#506784",
             "startlinecolor": "#A2B1C6"
            },
            "type": "carpet"
           }
          ],
          "choropleth": [
           {
            "colorbar": {
             "outlinewidth": 0,
             "ticks": ""
            },
            "type": "choropleth"
           }
          ],
          "contour": [
           {
            "colorbar": {
             "outlinewidth": 0,
             "ticks": ""
            },
            "colorscale": [
             [
              0,
              "#0d0887"
             ],
             [
              0.1111111111111111,
              "#46039f"
             ],
             [
              0.2222222222222222,
              "#7201a8"
             ],
             [
              0.3333333333333333,
              "#9c179e"
             ],
             [
              0.4444444444444444,
              "#bd3786"
             ],
             [
              0.5555555555555556,
              "#d8576b"
             ],
             [
              0.6666666666666666,
              "#ed7953"
             ],
             [
              0.7777777777777778,
              "#fb9f3a"
             ],
             [
              0.8888888888888888,
              "#fdca26"
             ],
             [
              1,
              "#f0f921"
             ]
            ],
            "type": "contour"
           }
          ],
          "contourcarpet": [
           {
            "colorbar": {
             "outlinewidth": 0,
             "ticks": ""
            },
            "type": "contourcarpet"
           }
          ],
          "heatmap": [
           {
            "colorbar": {
             "outlinewidth": 0,
             "ticks": ""
            },
            "colorscale": [
             [
              0,
              "#0d0887"
             ],
             [
              0.1111111111111111,
              "#46039f"
             ],
             [
              0.2222222222222222,
              "#7201a8"
             ],
             [
              0.3333333333333333,
              "#9c179e"
             ],
             [
              0.4444444444444444,
              "#bd3786"
             ],
             [
              0.5555555555555556,
              "#d8576b"
             ],
             [
              0.6666666666666666,
              "#ed7953"
             ],
             [
              0.7777777777777778,
              "#fb9f3a"
             ],
             [
              0.8888888888888888,
              "#fdca26"
             ],
             [
              1,
              "#f0f921"
             ]
            ],
            "type": "heatmap"
           }
          ],
          "heatmapgl": [
           {
            "colorbar": {
             "outlinewidth": 0,
             "ticks": ""
            },
            "colorscale": [
             [
              0,
              "#0d0887"
             ],
             [
              0.1111111111111111,
              "#46039f"
             ],
             [
              0.2222222222222222,
              "#7201a8"
             ],
             [
              0.3333333333333333,
              "#9c179e"
             ],
             [
              0.4444444444444444,
              "#bd3786"
             ],
             [
              0.5555555555555556,
              "#d8576b"
             ],
             [
              0.6666666666666666,
              "#ed7953"
             ],
             [
              0.7777777777777778,
              "#fb9f3a"
             ],
             [
              0.8888888888888888,
              "#fdca26"
             ],
             [
              1,
              "#f0f921"
             ]
            ],
            "type": "heatmapgl"
           }
          ],
          "histogram": [
           {
            "marker": {
             "pattern": {
              "fillmode": "overlay",
              "size": 10,
              "solidity": 0.2
             }
            },
            "type": "histogram"
           }
          ],
          "histogram2d": [
           {
            "colorbar": {
             "outlinewidth": 0,
             "ticks": ""
            },
            "colorscale": [
             [
              0,
              "#0d0887"
             ],
             [
              0.1111111111111111,
              "#46039f"
             ],
             [
              0.2222222222222222,
              "#7201a8"
             ],
             [
              0.3333333333333333,
              "#9c179e"
             ],
             [
              0.4444444444444444,
              "#bd3786"
             ],
             [
              0.5555555555555556,
              "#d8576b"
             ],
             [
              0.6666666666666666,
              "#ed7953"
             ],
             [
              0.7777777777777778,
              "#fb9f3a"
             ],
             [
              0.8888888888888888,
              "#fdca26"
             ],
             [
              1,
              "#f0f921"
             ]
            ],
            "type": "histogram2d"
           }
          ],
          "histogram2dcontour": [
           {
            "colorbar": {
             "outlinewidth": 0,
             "ticks": ""
            },
            "colorscale": [
             [
              0,
              "#0d0887"
             ],
             [
              0.1111111111111111,
              "#46039f"
             ],
             [
              0.2222222222222222,
              "#7201a8"
             ],
             [
              0.3333333333333333,
              "#9c179e"
             ],
             [
              0.4444444444444444,
              "#bd3786"
             ],
             [
              0.5555555555555556,
              "#d8576b"
             ],
             [
              0.6666666666666666,
              "#ed7953"
             ],
             [
              0.7777777777777778,
              "#fb9f3a"
             ],
             [
              0.8888888888888888,
              "#fdca26"
             ],
             [
              1,
              "#f0f921"
             ]
            ],
            "type": "histogram2dcontour"
           }
          ],
          "mesh3d": [
           {
            "colorbar": {
             "outlinewidth": 0,
             "ticks": ""
            },
            "type": "mesh3d"
           }
          ],
          "parcoords": [
           {
            "line": {
             "colorbar": {
              "outlinewidth": 0,
              "ticks": ""
             }
            },
            "type": "parcoords"
           }
          ],
          "pie": [
           {
            "automargin": true,
            "type": "pie"
           }
          ],
          "scatter": [
           {
            "marker": {
             "line": {
              "color": "#283442"
             }
            },
            "type": "scatter"
           }
          ],
          "scatter3d": [
           {
            "line": {
             "colorbar": {
              "outlinewidth": 0,
              "ticks": ""
             }
            },
            "marker": {
             "colorbar": {
              "outlinewidth": 0,
              "ticks": ""
             }
            },
            "type": "scatter3d"
           }
          ],
          "scattercarpet": [
           {
            "marker": {
             "colorbar": {
              "outlinewidth": 0,
              "ticks": ""
             }
            },
            "type": "scattercarpet"
           }
          ],
          "scattergeo": [
           {
            "marker": {
             "colorbar": {
              "outlinewidth": 0,
              "ticks": ""
             }
            },
            "type": "scattergeo"
           }
          ],
          "scattergl": [
           {
            "marker": {
             "line": {
              "color": "#283442"
             }
            },
            "type": "scattergl"
           }
          ],
          "scattermapbox": [
           {
            "marker": {
             "colorbar": {
              "outlinewidth": 0,
              "ticks": ""
             }
            },
            "type": "scattermapbox"
           }
          ],
          "scatterpolar": [
           {
            "marker": {
             "colorbar": {
              "outlinewidth": 0,
              "ticks": ""
             }
            },
            "type": "scatterpolar"
           }
          ],
          "scatterpolargl": [
           {
            "marker": {
             "colorbar": {
              "outlinewidth": 0,
              "ticks": ""
             }
            },
            "type": "scatterpolargl"
           }
          ],
          "scatterternary": [
           {
            "marker": {
             "colorbar": {
              "outlinewidth": 0,
              "ticks": ""
             }
            },
            "type": "scatterternary"
           }
          ],
          "surface": [
           {
            "colorbar": {
             "outlinewidth": 0,
             "ticks": ""
            },
            "colorscale": [
             [
              0,
              "#0d0887"
             ],
             [
              0.1111111111111111,
              "#46039f"
             ],
             [
              0.2222222222222222,
              "#7201a8"
             ],
             [
              0.3333333333333333,
              "#9c179e"
             ],
             [
              0.4444444444444444,
              "#bd3786"
             ],
             [
              0.5555555555555556,
              "#d8576b"
             ],
             [
              0.6666666666666666,
              "#ed7953"
             ],
             [
              0.7777777777777778,
              "#fb9f3a"
             ],
             [
              0.8888888888888888,
              "#fdca26"
             ],
             [
              1,
              "#f0f921"
             ]
            ],
            "type": "surface"
           }
          ],
          "table": [
           {
            "cells": {
             "fill": {
              "color": "#506784"
             },
             "line": {
              "color": "rgb(17,17,17)"
             }
            },
            "header": {
             "fill": {
              "color": "#2a3f5f"
             },
             "line": {
              "color": "rgb(17,17,17)"
             }
            },
            "type": "table"
           }
          ]
         },
         "layout": {
          "annotationdefaults": {
           "arrowcolor": "#f2f5fa",
           "arrowhead": 0,
           "arrowwidth": 1
          },
          "autotypenumbers": "strict",
          "coloraxis": {
           "colorbar": {
            "outlinewidth": 0,
            "ticks": ""
           }
          },
          "colorscale": {
           "diverging": [
            [
             0,
             "#8e0152"
            ],
            [
             0.1,
             "#c51b7d"
            ],
            [
             0.2,
             "#de77ae"
            ],
            [
             0.3,
             "#f1b6da"
            ],
            [
             0.4,
             "#fde0ef"
            ],
            [
             0.5,
             "#f7f7f7"
            ],
            [
             0.6,
             "#e6f5d0"
            ],
            [
             0.7,
             "#b8e186"
            ],
            [
             0.8,
             "#7fbc41"
            ],
            [
             0.9,
             "#4d9221"
            ],
            [
             1,
             "#276419"
            ]
           ],
           "sequential": [
            [
             0,
             "#0d0887"
            ],
            [
             0.1111111111111111,
             "#46039f"
            ],
            [
             0.2222222222222222,
             "#7201a8"
            ],
            [
             0.3333333333333333,
             "#9c179e"
            ],
            [
             0.4444444444444444,
             "#bd3786"
            ],
            [
             0.5555555555555556,
             "#d8576b"
            ],
            [
             0.6666666666666666,
             "#ed7953"
            ],
            [
             0.7777777777777778,
             "#fb9f3a"
            ],
            [
             0.8888888888888888,
             "#fdca26"
            ],
            [
             1,
             "#f0f921"
            ]
           ],
           "sequentialminus": [
            [
             0,
             "#0d0887"
            ],
            [
             0.1111111111111111,
             "#46039f"
            ],
            [
             0.2222222222222222,
             "#7201a8"
            ],
            [
             0.3333333333333333,
             "#9c179e"
            ],
            [
             0.4444444444444444,
             "#bd3786"
            ],
            [
             0.5555555555555556,
             "#d8576b"
            ],
            [
             0.6666666666666666,
             "#ed7953"
            ],
            [
             0.7777777777777778,
             "#fb9f3a"
            ],
            [
             0.8888888888888888,
             "#fdca26"
            ],
            [
             1,
             "#f0f921"
            ]
           ]
          },
          "colorway": [
           "#636efa",
           "#EF553B",
           "#00cc96",
           "#ab63fa",
           "#FFA15A",
           "#19d3f3",
           "#FF6692",
           "#B6E880",
           "#FF97FF",
           "#FECB52"
          ],
          "font": {
           "color": "#f2f5fa"
          },
          "geo": {
           "bgcolor": "rgb(17,17,17)",
           "lakecolor": "rgb(17,17,17)",
           "landcolor": "rgb(17,17,17)",
           "showlakes": true,
           "showland": true,
           "subunitcolor": "#506784"
          },
          "hoverlabel": {
           "align": "left"
          },
          "hovermode": "closest",
          "mapbox": {
           "style": "dark"
          },
          "paper_bgcolor": "rgb(17,17,17)",
          "plot_bgcolor": "rgb(17,17,17)",
          "polar": {
           "angularaxis": {
            "gridcolor": "#506784",
            "linecolor": "#506784",
            "ticks": ""
           },
           "bgcolor": "rgb(17,17,17)",
           "radialaxis": {
            "gridcolor": "#506784",
            "linecolor": "#506784",
            "ticks": ""
           }
          },
          "scene": {
           "xaxis": {
            "backgroundcolor": "rgb(17,17,17)",
            "gridcolor": "#506784",
            "gridwidth": 2,
            "linecolor": "#506784",
            "showbackground": true,
            "ticks": "",
            "zerolinecolor": "#C8D4E3"
           },
           "yaxis": {
            "backgroundcolor": "rgb(17,17,17)",
            "gridcolor": "#506784",
            "gridwidth": 2,
            "linecolor": "#506784",
            "showbackground": true,
            "ticks": "",
            "zerolinecolor": "#C8D4E3"
           },
           "zaxis": {
            "backgroundcolor": "rgb(17,17,17)",
            "gridcolor": "#506784",
            "gridwidth": 2,
            "linecolor": "#506784",
            "showbackground": true,
            "ticks": "",
            "zerolinecolor": "#C8D4E3"
           }
          },
          "shapedefaults": {
           "line": {
            "color": "#f2f5fa"
           }
          },
          "sliderdefaults": {
           "bgcolor": "#C8D4E3",
           "bordercolor": "rgb(17,17,17)",
           "borderwidth": 1,
           "tickwidth": 0
          },
          "ternary": {
           "aaxis": {
            "gridcolor": "#506784",
            "linecolor": "#506784",
            "ticks": ""
           },
           "baxis": {
            "gridcolor": "#506784",
            "linecolor": "#506784",
            "ticks": ""
           },
           "bgcolor": "rgb(17,17,17)",
           "caxis": {
            "gridcolor": "#506784",
            "linecolor": "#506784",
            "ticks": ""
           }
          },
          "title": {
           "x": 0.05
          },
          "updatemenudefaults": {
           "bgcolor": "#506784",
           "borderwidth": 0
          },
          "xaxis": {
           "automargin": true,
           "gridcolor": "#283442",
           "linecolor": "#506784",
           "ticks": "",
           "title": {
            "standoff": 15
           },
           "zerolinecolor": "#283442",
           "zerolinewidth": 2
          },
          "yaxis": {
           "automargin": true,
           "gridcolor": "#283442",
           "linecolor": "#506784",
           "ticks": "",
           "title": {
            "standoff": 15
           },
           "zerolinecolor": "#283442",
           "zerolinewidth": 2
          }
         }
        },
        "title": {
         "text": "Tổng quan số ca mắc ở các nước trên thế giới"
        }
       }
      }
     },
     "metadata": {},
     "output_type": "display_data"
    }
   ],
   "source": [
    "\n",
    "plot_map(covid_group_loction, \"TotalCases\", \"Tổng quan số ca mắc ở các nước trên thế giới\", 'SizeCases', [0, 10**7])"
   ]
  },
  {
   "cell_type": "markdown",
   "metadata": {},
   "source": [
    "Ta thấy số ca mắc Covid-19 đã bao phủ khắp các nước trên thế giới, một số quốc gia như Mỹ, Nga, Anh ...- những nước có nền kinh tế phát triển đều có số ca mắc lên tới hàng chục triệu tính đến thời điểm xét tập dữ liệu"
   ]
  },
  {
   "cell_type": "code",
   "execution_count": 262,
   "metadata": {},
   "outputs": [
    {
     "data": {
      "application/vnd.plotly.v1+json": {
       "config": {
        "plotlyServerURL": "https://plot.ly"
       },
       "data": [
        {
         "geo": "geo",
         "hovertemplate": "<b>%{hovertext}</b><br><br>SizeDeaths=%{marker.size}<br>Location=%{location}<br>TotalDeaths=%{marker.color}<extra></extra>",
         "hovertext": [
          "Afghanistan",
          "Albania",
          "Algeria",
          "Andorra",
          "Angola",
          "Anguilla",
          "Antigua and Barbuda",
          "Argentina",
          "Armenia",
          "Aruba",
          "Australia",
          "Austria",
          "Azerbaijan",
          "Bahamas",
          "Bahrain",
          "Bangladesh",
          "Barbados",
          "Belarus",
          "Belgium",
          "Belize",
          "Benin",
          "Bermuda",
          "Bhutan",
          "Bolivia",
          "Bonaire Sint Eustatius and Saba",
          "Bosnia and Herzegovina",
          "Botswana",
          "Brazil",
          "British Virgin Islands",
          "Brunei",
          "Bulgaria",
          "Burkina Faso",
          "Burundi",
          "Cambodia",
          "Cameroon",
          "Canada",
          "Cape Verde",
          "Cayman Islands",
          "Central African Republic",
          "Chad",
          "Chile",
          "China",
          "Colombia",
          "Comoros",
          "Congo",
          "Cook Islands",
          "Costa Rica",
          "Cote d'Ivoire",
          "Croatia",
          "Cuba",
          "Curacao",
          "Cyprus",
          "Czechia",
          "Democratic Republic of Congo",
          "Denmark",
          "Djibouti",
          "Dominica",
          "Dominican Republic",
          "Ecuador",
          "Egypt",
          "El Salvador",
          "Equatorial Guinea",
          "Eritrea",
          "Estonia",
          "Eswatini",
          "Ethiopia",
          "Faeroe Islands",
          "Falkland Islands",
          "Fiji",
          "Finland",
          "France",
          "French Polynesia",
          "Gabon",
          "Gambia",
          "Georgia",
          "Germany",
          "Ghana",
          "Gibraltar",
          "Greece",
          "Greenland",
          "Grenada",
          "Guatemala",
          "Guernsey",
          "Guinea",
          "Guinea-Bissau",
          "Guyana",
          "Haiti",
          "Honduras",
          "Hong Kong",
          "Hungary",
          "Iceland",
          "India",
          "Indonesia",
          "Iran",
          "Iraq",
          "Ireland",
          "Isle of Man",
          "Israel",
          "Italy",
          "Jamaica",
          "Japan",
          "Jersey",
          "Jordan",
          "Kazakhstan",
          "Kenya",
          "Kiribati",
          "Kosovo",
          "Kuwait",
          "Kyrgyzstan",
          "Laos",
          "Latvia",
          "Lebanon",
          "Lesotho",
          "Liberia",
          "Libya",
          "Liechtenstein",
          "Lithuania",
          "Luxembourg",
          "Macao",
          "Madagascar",
          "Malawi",
          "Malaysia",
          "Maldives",
          "Mali",
          "Malta",
          "Marshall Islands",
          "Mauritania",
          "Mauritius",
          "Mexico",
          "Micronesia (country)",
          "Moldova",
          "Monaco",
          "Mongolia",
          "Montenegro",
          "Montserrat",
          "Morocco",
          "Mozambique",
          "Myanmar",
          "Namibia",
          "Nauru",
          "Nepal",
          "Netherlands",
          "New Caledonia",
          "New Zealand",
          "Nicaragua",
          "Niger",
          "Nigeria",
          "Niue",
          "North Macedonia",
          "Norway",
          "Oman",
          "Pakistan",
          "Palau",
          "Palestine",
          "Panama",
          "Papua New Guinea",
          "Paraguay",
          "Peru",
          "Philippines",
          "Pitcairn",
          "Poland",
          "Portugal",
          "Qatar",
          "Romania",
          "Russia",
          "Rwanda",
          "Saint Helena",
          "Saint Kitts and Nevis",
          "Saint Lucia",
          "Saint Pierre and Miquelon",
          "Saint Vincent and the Grenadines",
          "Samoa",
          "San Marino",
          "Sao Tome and Principe",
          "Saudi Arabia",
          "Senegal",
          "Serbia",
          "Seychelles",
          "Sierra Leone",
          "Singapore",
          "Sint Maarten (Dutch part)",
          "Slovakia",
          "Slovenia",
          "Solomon Islands",
          "Somalia",
          "South Africa",
          "South Korea",
          "South Sudan",
          "Spain",
          "Sri Lanka",
          "Sudan",
          "Suriname",
          "Sweden",
          "Switzerland",
          "Syria",
          "Taiwan",
          "Tajikistan",
          "Tanzania",
          "Thailand",
          "Timor",
          "Togo",
          "Tokelau",
          "Tonga",
          "Trinidad and Tobago",
          "Tunisia",
          "Turkey",
          "Turkmenistan",
          "Turks and Caicos Islands",
          "Tuvalu",
          "Uganda",
          "Ukraine",
          "United Arab Emirates",
          "United Kingdom",
          "United States",
          "Uruguay",
          "Uzbekistan",
          "Vanuatu",
          "Vatican",
          "Venezuela",
          "Vietnam",
          "Wallis and Futuna",
          "Yemen",
          "Zambia",
          "Zimbabwe"
         ],
         "legendgroup": "",
         "locationmode": "country names",
         "locations": [
          "Afghanistan",
          "Albania",
          "Algeria",
          "Andorra",
          "Angola",
          "Anguilla",
          "Antigua and Barbuda",
          "Argentina",
          "Armenia",
          "Aruba",
          "Australia",
          "Austria",
          "Azerbaijan",
          "Bahamas",
          "Bahrain",
          "Bangladesh",
          "Barbados",
          "Belarus",
          "Belgium",
          "Belize",
          "Benin",
          "Bermuda",
          "Bhutan",
          "Bolivia",
          "Bonaire Sint Eustatius and Saba",
          "Bosnia and Herzegovina",
          "Botswana",
          "Brazil",
          "British Virgin Islands",
          "Brunei",
          "Bulgaria",
          "Burkina Faso",
          "Burundi",
          "Cambodia",
          "Cameroon",
          "Canada",
          "Cape Verde",
          "Cayman Islands",
          "Central African Republic",
          "Chad",
          "Chile",
          "China",
          "Colombia",
          "Comoros",
          "Congo",
          "Cook Islands",
          "Costa Rica",
          "Cote d'Ivoire",
          "Croatia",
          "Cuba",
          "Curacao",
          "Cyprus",
          "Czechia",
          "Democratic Republic of Congo",
          "Denmark",
          "Djibouti",
          "Dominica",
          "Dominican Republic",
          "Ecuador",
          "Egypt",
          "El Salvador",
          "Equatorial Guinea",
          "Eritrea",
          "Estonia",
          "Eswatini",
          "Ethiopia",
          "Faeroe Islands",
          "Falkland Islands",
          "Fiji",
          "Finland",
          "France",
          "French Polynesia",
          "Gabon",
          "Gambia",
          "Georgia",
          "Germany",
          "Ghana",
          "Gibraltar",
          "Greece",
          "Greenland",
          "Grenada",
          "Guatemala",
          "Guernsey",
          "Guinea",
          "Guinea-Bissau",
          "Guyana",
          "Haiti",
          "Honduras",
          "Hong Kong",
          "Hungary",
          "Iceland",
          "India",
          "Indonesia",
          "Iran",
          "Iraq",
          "Ireland",
          "Isle of Man",
          "Israel",
          "Italy",
          "Jamaica",
          "Japan",
          "Jersey",
          "Jordan",
          "Kazakhstan",
          "Kenya",
          "Kiribati",
          "Kosovo",
          "Kuwait",
          "Kyrgyzstan",
          "Laos",
          "Latvia",
          "Lebanon",
          "Lesotho",
          "Liberia",
          "Libya",
          "Liechtenstein",
          "Lithuania",
          "Luxembourg",
          "Macao",
          "Madagascar",
          "Malawi",
          "Malaysia",
          "Maldives",
          "Mali",
          "Malta",
          "Marshall Islands",
          "Mauritania",
          "Mauritius",
          "Mexico",
          "Micronesia (country)",
          "Moldova",
          "Monaco",
          "Mongolia",
          "Montenegro",
          "Montserrat",
          "Morocco",
          "Mozambique",
          "Myanmar",
          "Namibia",
          "Nauru",
          "Nepal",
          "Netherlands",
          "New Caledonia",
          "New Zealand",
          "Nicaragua",
          "Niger",
          "Nigeria",
          "Niue",
          "North Macedonia",
          "Norway",
          "Oman",
          "Pakistan",
          "Palau",
          "Palestine",
          "Panama",
          "Papua New Guinea",
          "Paraguay",
          "Peru",
          "Philippines",
          "Pitcairn",
          "Poland",
          "Portugal",
          "Qatar",
          "Romania",
          "Russia",
          "Rwanda",
          "Saint Helena",
          "Saint Kitts and Nevis",
          "Saint Lucia",
          "Saint Pierre and Miquelon",
          "Saint Vincent and the Grenadines",
          "Samoa",
          "San Marino",
          "Sao Tome and Principe",
          "Saudi Arabia",
          "Senegal",
          "Serbia",
          "Seychelles",
          "Sierra Leone",
          "Singapore",
          "Sint Maarten (Dutch part)",
          "Slovakia",
          "Slovenia",
          "Solomon Islands",
          "Somalia",
          "South Africa",
          "South Korea",
          "South Sudan",
          "Spain",
          "Sri Lanka",
          "Sudan",
          "Suriname",
          "Sweden",
          "Switzerland",
          "Syria",
          "Taiwan",
          "Tajikistan",
          "Tanzania",
          "Thailand",
          "Timor",
          "Togo",
          "Tokelau",
          "Tonga",
          "Trinidad and Tobago",
          "Tunisia",
          "Turkey",
          "Turkmenistan",
          "Turks and Caicos Islands",
          "Tuvalu",
          "Uganda",
          "Ukraine",
          "United Arab Emirates",
          "United Kingdom",
          "United States",
          "Uruguay",
          "Uzbekistan",
          "Vanuatu",
          "Vatican",
          "Venezuela",
          "Vietnam",
          "Wallis and Futuna",
          "Yemen",
          "Zambia",
          "Zimbabwe"
         ],
         "marker": {
          "color": [
           7622,
           3478,
           6853,
           151,
           1900,
           9,
           135,
           126708,
           8528,
           212,
           5416,
           14986,
           9500,
           771,
           1498,
           29077,
           319,
           6550,
           30259,
           651,
           163,
           123,
           7,
           21455,
           31,
           15519,
           2619,
           652216,
           62,
           140,
           35811,
           375,
           38,
           3040,
           1926,
           36998,
           401,
           17,
           113,
           190,
           42955,
           4654,
           139037,
           160,
           378,
           0,
           8082,
           795,
           15194,
           8499,
           264,
           875,
           38892,
           1335,
           4830,
           189,
           61,
           4371,
           35264,
           24172,
           4086,
           183,
           103,
           2290,
           1391,
           7476,
           28,
           0,
           834,
           2387,
           139312,
           642,
           303,
           365,
           16338,
           124107,
           1442,
           101,
           26143,
           20,
           216,
           17073,
           0,
           440,
           167,
           1223,
           876,
           10785,
           1774,
           44286,
           68,
           515036,
           149918,
           137747,
           25041,
           6531,
           80,
           10274,
           155782,
           2825,
           24816,
           0,
           13849,
           18967,
           5640,
           11,
           3117,
           2544,
           2963,
           628,
           5348,
           10142,
           697,
           294,
           6288,
           78,
           8503,
           996,
           0,
           1373,
           2618,
           33173,
           297,
           724,
           608,
           0,
           980,
           786,
           319604,
           0,
           11285,
           51,
           2174,
           2685,
           2,
           16015,
           2196,
           19386,
           4013,
           0,
           11945,
           21714,
           302,
           65,
           225,
           307,
           3142,
           0,
           9075,
           1664,
           4248,
           30265,
           6,
           5557,
           8111,
           638,
           18460,
           210907,
           56879,
           0,
           112535,
           21182,
           670,
           63931,
           348467,
           1458,
           0,
           42,
           360,
           1,
           106,
           0,
           112,
           72,
           9006,
           1961,
           15405,
           163,
           125,
           1073,
           0,
           18663,
           6351,
           115,
           1348,
           99543,
           8957,
           137,
           100413,
           16321,
           3912,
           1318,
           17512,
           13174,
           3092,
           853,
           125,
           798,
           23235,
           129,
           272,
           0,
           0,
           3652,
           27922,
           95379,
           0,
           36,
           0,
           3590,
           112459,
           2301,
           162152,
           958437,
           7040,
           1637,
           1,
           0,
           5647,
           40726,
           7,
           2135,
           3958,
           5397
          ],
          "coloraxis": "coloraxis",
          "size": [
           37.36047476006603,
           42.69578869641803,
           42.37262015628478,
           23.736390366870946,
           31.508070492449907,
           10.524882870272739,
           14.512234730405421,
           121.7078435957722,
           48.680446280825514,
           22.82509677198139,
           90.77801230121294,
           86.29055197862168,
           58.764651545549036,
           22.710134875348785,
           52.01040323836181,
           77.05346709069406,
           26.575818561459613,
           61.723762148382164,
           92.55368062588394,
           26.69799907414912,
           21.24917053503209,
           16.58512380652843,
           17.6998412141842,
           61.021310682843435,
           14.60555554243523,
           46.90418086926783,
           42.31131274496044,
           173.3415089345677,
           13.658612366224677,
           30.10137544451083,
           64.94023086071117,
           19.72930147459791,
           23.68363518262701,
           34.37504112062251,
           33.34388175939686,
           90.55032853368762,
           26.558582696666267,
           19.32676044182672,
           17.651552364143512,
           14.39551269740934,
           89.1762752238927,
           32.616838552505556,
           108.38516139943778,
           14.848760430095712,
           20.614457060233207,
           1.2311444133449163,
           59.33085442825584,
           30.172914398448093,
           64.26199715922566,
           64.43413930747212,
           23.865082656031163,
           45.305215862531256,
           92.8517597325446,
           30.240058972454314,
           86.4174224333253,
           18.093355569757932,
           16.41808849800429,
           53.46878032326696,
           59.799223120128026,
           50.936118698150786,
           36.16104991892602,
           18.210797683339173,
           15.712049601783697,
           51.67802619072763,
           28.327896700711342,
           50.272722549269126,
           23.011294427435768,
           4.151541198814568,
           27.662578910375142,
           55.99725823492452,
           161.76505728418334,
           28.22048295410101,
           25.302871753955422,
           16.718163344415462,
           72.97086432608265,
           144.4924637339012,
           36.413195535861355,
           18.11844783908358,
           83.05071570403857,
           16.658305930761294,
           17.41719139236826,
           58.831286007936704,
           0,
           23.35176312416356,
           14.837679260393815,
           27.534986085055884,
           22.120644292356474,
           48.41783223965548,
           49.34191595126767,
           75.26361619917371,
           35.05097564614086,
           194.9522434625203,
           106.48946749062434,
           113.52439433233542,
           81.08595169593828,
           68.49953657377996,
           20.434464066993797,
           93.18978089869104,
           136.1711113599144,
           34.06683986899754,
           104.30203315106293,
           0,
           73.1665038349584,
           69.67713308395211,
           44.95617910646251,
           11.027658298153398,
           40.417169596211316,
           54.73177140828822,
           38.96808112023671,
           35.27611066999852,
           56.63334705244694,
           64.51994422138993,
           22.614771984203085,
           14.470632240111042,
           51.165831447994556,
           17.08041656600433,
           61.70925274678915,
           38.115867672656286,
           3.750974879935414,
           27.63298638774504,
           30.161583742909542,
           92.62237264114638,
           37.227416321977245,
           22.123483114054633,
           28.631053815280914,
           1.792789962520997,
           26.944586229916055,
           28.518325504796106,
           105.53364977100908,
           1,
           51.399058021319426,
           15.625126238810088,
           61.35948170705608,
           40.64619012334562,
           4.617991768029603,
           65.99566520725499,
           40.3397223750845,
           54.06090018505015,
           36.22751074847901,
           0,
           62.66542153404439,
           111.81081429002316,
           26.691942119367422,
           40.211961388697425,
           18.938237504814836,
           15.231800113757554,
           41.857805218296946,
           0,
           43.94240339944001,
           68.341381318558,
           47.343091011485626,
           71.45949833802224,
           11.896932943137108,
           55.44574126259954,
           58.05138092182759,
           24.275387652946502,
           55.282625037134395,
           92.05655294833073,
           93.17123063823259,
           0,
           106.54626699821411,
           90.45345162023123,
           46.3655174536195,
           85.60842435508991,
           146.6173754335714,
           34.17686562611166,
           1.515716566510398,
           13.272686131043374,
           20.27668832267122,
           8.17813882249442,
           15.580743378299264,
           2.854658634732502,
           17.7130577283913,
           13.55545181539051,
           57.81185893925599,
           30.19713081368353,
           76.78209590682836,
           23.918730189095594,
           14.63368316167064,
           59.441614848483226,
           0,
           79.8305029669083,
           61.1884403083984,
           14.789250011455552,
           21.19527863913226,
           93.29676821538543,
           98.78506125393697,
           18.583478612110973,
           129.89783634552475,
           55.43706416540542,
           27.340637071344446,
           29.406227907169804,
           82.61648338617925,
           86.75508850031639,
           26.425373160933788,
           19.742411849258655,
           18.83750958895418,
           22.802334523236578,
           87.9610890608893,
           20.278828737894404,
           23.43189655768228,
           0,
           7.691001587543644,
           34.209436328978796,
           63.19336278716562,
           140.22952325518355,
           0,
           13.505940324209943,
           0,
           36.64055639150751,
           102.50441017631088,
           60.77304801953803,
           153.0385603879094,
           234.27483059587317,
           60.16039412891591,
           40.95779007356895,
           2.4189454814875875,
           2.7461192933624785,
           51.75362467797266,
           97.27017689674658,
           6.267823463756063,
           16.645171521589855,
           44.562816196447216,
           41.07047517156296
          ],
          "sizemode": "area",
          "sizeref": 0.5856870764896829,
          "symbol": "circle"
         },
         "mode": "markers",
         "name": "",
         "showlegend": false,
         "type": "scattergeo"
        }
       ],
       "layout": {
        "coloraxis": {
         "cmax": 100000,
         "cmin": 0,
         "colorbar": {
          "title": {
           "text": "TotalDeaths"
          }
         },
         "colorscale": [
          [
           0,
           "rgb(12,51,131)"
          ],
          [
           0.25,
           "rgb(10,136,186)"
          ],
          [
           0.5,
           "rgb(242,211,56)"
          ],
          [
           0.75,
           "rgb(242,143,56)"
          ],
          [
           1,
           "rgb(217,30,30)"
          ]
         ]
        },
        "geo": {
         "center": {},
         "domain": {
          "x": [
           0,
           1
          ],
          "y": [
           0,
           1
          ]
         },
         "projection": {
          "type": "natural earth"
         }
        },
        "legend": {
         "itemsizing": "constant",
         "tracegroupgap": 0
        },
        "template": {
         "data": {
          "bar": [
           {
            "error_x": {
             "color": "#f2f5fa"
            },
            "error_y": {
             "color": "#f2f5fa"
            },
            "marker": {
             "line": {
              "color": "rgb(17,17,17)",
              "width": 0.5
             },
             "pattern": {
              "fillmode": "overlay",
              "size": 10,
              "solidity": 0.2
             }
            },
            "type": "bar"
           }
          ],
          "barpolar": [
           {
            "marker": {
             "line": {
              "color": "rgb(17,17,17)",
              "width": 0.5
             },
             "pattern": {
              "fillmode": "overlay",
              "size": 10,
              "solidity": 0.2
             }
            },
            "type": "barpolar"
           }
          ],
          "carpet": [
           {
            "aaxis": {
             "endlinecolor": "#A2B1C6",
             "gridcolor": "#506784",
             "linecolor": "#506784",
             "minorgridcolor": "#506784",
             "startlinecolor": "#A2B1C6"
            },
            "baxis": {
             "endlinecolor": "#A2B1C6",
             "gridcolor": "#506784",
             "linecolor": "#506784",
             "minorgridcolor": "#506784",
             "startlinecolor": "#A2B1C6"
            },
            "type": "carpet"
           }
          ],
          "choropleth": [
           {
            "colorbar": {
             "outlinewidth": 0,
             "ticks": ""
            },
            "type": "choropleth"
           }
          ],
          "contour": [
           {
            "colorbar": {
             "outlinewidth": 0,
             "ticks": ""
            },
            "colorscale": [
             [
              0,
              "#0d0887"
             ],
             [
              0.1111111111111111,
              "#46039f"
             ],
             [
              0.2222222222222222,
              "#7201a8"
             ],
             [
              0.3333333333333333,
              "#9c179e"
             ],
             [
              0.4444444444444444,
              "#bd3786"
             ],
             [
              0.5555555555555556,
              "#d8576b"
             ],
             [
              0.6666666666666666,
              "#ed7953"
             ],
             [
              0.7777777777777778,
              "#fb9f3a"
             ],
             [
              0.8888888888888888,
              "#fdca26"
             ],
             [
              1,
              "#f0f921"
             ]
            ],
            "type": "contour"
           }
          ],
          "contourcarpet": [
           {
            "colorbar": {
             "outlinewidth": 0,
             "ticks": ""
            },
            "type": "contourcarpet"
           }
          ],
          "heatmap": [
           {
            "colorbar": {
             "outlinewidth": 0,
             "ticks": ""
            },
            "colorscale": [
             [
              0,
              "#0d0887"
             ],
             [
              0.1111111111111111,
              "#46039f"
             ],
             [
              0.2222222222222222,
              "#7201a8"
             ],
             [
              0.3333333333333333,
              "#9c179e"
             ],
             [
              0.4444444444444444,
              "#bd3786"
             ],
             [
              0.5555555555555556,
              "#d8576b"
             ],
             [
              0.6666666666666666,
              "#ed7953"
             ],
             [
              0.7777777777777778,
              "#fb9f3a"
             ],
             [
              0.8888888888888888,
              "#fdca26"
             ],
             [
              1,
              "#f0f921"
             ]
            ],
            "type": "heatmap"
           }
          ],
          "heatmapgl": [
           {
            "colorbar": {
             "outlinewidth": 0,
             "ticks": ""
            },
            "colorscale": [
             [
              0,
              "#0d0887"
             ],
             [
              0.1111111111111111,
              "#46039f"
             ],
             [
              0.2222222222222222,
              "#7201a8"
             ],
             [
              0.3333333333333333,
              "#9c179e"
             ],
             [
              0.4444444444444444,
              "#bd3786"
             ],
             [
              0.5555555555555556,
              "#d8576b"
             ],
             [
              0.6666666666666666,
              "#ed7953"
             ],
             [
              0.7777777777777778,
              "#fb9f3a"
             ],
             [
              0.8888888888888888,
              "#fdca26"
             ],
             [
              1,
              "#f0f921"
             ]
            ],
            "type": "heatmapgl"
           }
          ],
          "histogram": [
           {
            "marker": {
             "pattern": {
              "fillmode": "overlay",
              "size": 10,
              "solidity": 0.2
             }
            },
            "type": "histogram"
           }
          ],
          "histogram2d": [
           {
            "colorbar": {
             "outlinewidth": 0,
             "ticks": ""
            },
            "colorscale": [
             [
              0,
              "#0d0887"
             ],
             [
              0.1111111111111111,
              "#46039f"
             ],
             [
              0.2222222222222222,
              "#7201a8"
             ],
             [
              0.3333333333333333,
              "#9c179e"
             ],
             [
              0.4444444444444444,
              "#bd3786"
             ],
             [
              0.5555555555555556,
              "#d8576b"
             ],
             [
              0.6666666666666666,
              "#ed7953"
             ],
             [
              0.7777777777777778,
              "#fb9f3a"
             ],
             [
              0.8888888888888888,
              "#fdca26"
             ],
             [
              1,
              "#f0f921"
             ]
            ],
            "type": "histogram2d"
           }
          ],
          "histogram2dcontour": [
           {
            "colorbar": {
             "outlinewidth": 0,
             "ticks": ""
            },
            "colorscale": [
             [
              0,
              "#0d0887"
             ],
             [
              0.1111111111111111,
              "#46039f"
             ],
             [
              0.2222222222222222,
              "#7201a8"
             ],
             [
              0.3333333333333333,
              "#9c179e"
             ],
             [
              0.4444444444444444,
              "#bd3786"
             ],
             [
              0.5555555555555556,
              "#d8576b"
             ],
             [
              0.6666666666666666,
              "#ed7953"
             ],
             [
              0.7777777777777778,
              "#fb9f3a"
             ],
             [
              0.8888888888888888,
              "#fdca26"
             ],
             [
              1,
              "#f0f921"
             ]
            ],
            "type": "histogram2dcontour"
           }
          ],
          "mesh3d": [
           {
            "colorbar": {
             "outlinewidth": 0,
             "ticks": ""
            },
            "type": "mesh3d"
           }
          ],
          "parcoords": [
           {
            "line": {
             "colorbar": {
              "outlinewidth": 0,
              "ticks": ""
             }
            },
            "type": "parcoords"
           }
          ],
          "pie": [
           {
            "automargin": true,
            "type": "pie"
           }
          ],
          "scatter": [
           {
            "marker": {
             "line": {
              "color": "#283442"
             }
            },
            "type": "scatter"
           }
          ],
          "scatter3d": [
           {
            "line": {
             "colorbar": {
              "outlinewidth": 0,
              "ticks": ""
             }
            },
            "marker": {
             "colorbar": {
              "outlinewidth": 0,
              "ticks": ""
             }
            },
            "type": "scatter3d"
           }
          ],
          "scattercarpet": [
           {
            "marker": {
             "colorbar": {
              "outlinewidth": 0,
              "ticks": ""
             }
            },
            "type": "scattercarpet"
           }
          ],
          "scattergeo": [
           {
            "marker": {
             "colorbar": {
              "outlinewidth": 0,
              "ticks": ""
             }
            },
            "type": "scattergeo"
           }
          ],
          "scattergl": [
           {
            "marker": {
             "line": {
              "color": "#283442"
             }
            },
            "type": "scattergl"
           }
          ],
          "scattermapbox": [
           {
            "marker": {
             "colorbar": {
              "outlinewidth": 0,
              "ticks": ""
             }
            },
            "type": "scattermapbox"
           }
          ],
          "scatterpolar": [
           {
            "marker": {
             "colorbar": {
              "outlinewidth": 0,
              "ticks": ""
             }
            },
            "type": "scatterpolar"
           }
          ],
          "scatterpolargl": [
           {
            "marker": {
             "colorbar": {
              "outlinewidth": 0,
              "ticks": ""
             }
            },
            "type": "scatterpolargl"
           }
          ],
          "scatterternary": [
           {
            "marker": {
             "colorbar": {
              "outlinewidth": 0,
              "ticks": ""
             }
            },
            "type": "scatterternary"
           }
          ],
          "surface": [
           {
            "colorbar": {
             "outlinewidth": 0,
             "ticks": ""
            },
            "colorscale": [
             [
              0,
              "#0d0887"
             ],
             [
              0.1111111111111111,
              "#46039f"
             ],
             [
              0.2222222222222222,
              "#7201a8"
             ],
             [
              0.3333333333333333,
              "#9c179e"
             ],
             [
              0.4444444444444444,
              "#bd3786"
             ],
             [
              0.5555555555555556,
              "#d8576b"
             ],
             [
              0.6666666666666666,
              "#ed7953"
             ],
             [
              0.7777777777777778,
              "#fb9f3a"
             ],
             [
              0.8888888888888888,
              "#fdca26"
             ],
             [
              1,
              "#f0f921"
             ]
            ],
            "type": "surface"
           }
          ],
          "table": [
           {
            "cells": {
             "fill": {
              "color": "#506784"
             },
             "line": {
              "color": "rgb(17,17,17)"
             }
            },
            "header": {
             "fill": {
              "color": "#2a3f5f"
             },
             "line": {
              "color": "rgb(17,17,17)"
             }
            },
            "type": "table"
           }
          ]
         },
         "layout": {
          "annotationdefaults": {
           "arrowcolor": "#f2f5fa",
           "arrowhead": 0,
           "arrowwidth": 1
          },
          "autotypenumbers": "strict",
          "coloraxis": {
           "colorbar": {
            "outlinewidth": 0,
            "ticks": ""
           }
          },
          "colorscale": {
           "diverging": [
            [
             0,
             "#8e0152"
            ],
            [
             0.1,
             "#c51b7d"
            ],
            [
             0.2,
             "#de77ae"
            ],
            [
             0.3,
             "#f1b6da"
            ],
            [
             0.4,
             "#fde0ef"
            ],
            [
             0.5,
             "#f7f7f7"
            ],
            [
             0.6,
             "#e6f5d0"
            ],
            [
             0.7,
             "#b8e186"
            ],
            [
             0.8,
             "#7fbc41"
            ],
            [
             0.9,
             "#4d9221"
            ],
            [
             1,
             "#276419"
            ]
           ],
           "sequential": [
            [
             0,
             "#0d0887"
            ],
            [
             0.1111111111111111,
             "#46039f"
            ],
            [
             0.2222222222222222,
             "#7201a8"
            ],
            [
             0.3333333333333333,
             "#9c179e"
            ],
            [
             0.4444444444444444,
             "#bd3786"
            ],
            [
             0.5555555555555556,
             "#d8576b"
            ],
            [
             0.6666666666666666,
             "#ed7953"
            ],
            [
             0.7777777777777778,
             "#fb9f3a"
            ],
            [
             0.8888888888888888,
             "#fdca26"
            ],
            [
             1,
             "#f0f921"
            ]
           ],
           "sequentialminus": [
            [
             0,
             "#0d0887"
            ],
            [
             0.1111111111111111,
             "#46039f"
            ],
            [
             0.2222222222222222,
             "#7201a8"
            ],
            [
             0.3333333333333333,
             "#9c179e"
            ],
            [
             0.4444444444444444,
             "#bd3786"
            ],
            [
             0.5555555555555556,
             "#d8576b"
            ],
            [
             0.6666666666666666,
             "#ed7953"
            ],
            [
             0.7777777777777778,
             "#fb9f3a"
            ],
            [
             0.8888888888888888,
             "#fdca26"
            ],
            [
             1,
             "#f0f921"
            ]
           ]
          },
          "colorway": [
           "#636efa",
           "#EF553B",
           "#00cc96",
           "#ab63fa",
           "#FFA15A",
           "#19d3f3",
           "#FF6692",
           "#B6E880",
           "#FF97FF",
           "#FECB52"
          ],
          "font": {
           "color": "#f2f5fa"
          },
          "geo": {
           "bgcolor": "rgb(17,17,17)",
           "lakecolor": "rgb(17,17,17)",
           "landcolor": "rgb(17,17,17)",
           "showlakes": true,
           "showland": true,
           "subunitcolor": "#506784"
          },
          "hoverlabel": {
           "align": "left"
          },
          "hovermode": "closest",
          "mapbox": {
           "style": "dark"
          },
          "paper_bgcolor": "rgb(17,17,17)",
          "plot_bgcolor": "rgb(17,17,17)",
          "polar": {
           "angularaxis": {
            "gridcolor": "#506784",
            "linecolor": "#506784",
            "ticks": ""
           },
           "bgcolor": "rgb(17,17,17)",
           "radialaxis": {
            "gridcolor": "#506784",
            "linecolor": "#506784",
            "ticks": ""
           }
          },
          "scene": {
           "xaxis": {
            "backgroundcolor": "rgb(17,17,17)",
            "gridcolor": "#506784",
            "gridwidth": 2,
            "linecolor": "#506784",
            "showbackground": true,
            "ticks": "",
            "zerolinecolor": "#C8D4E3"
           },
           "yaxis": {
            "backgroundcolor": "rgb(17,17,17)",
            "gridcolor": "#506784",
            "gridwidth": 2,
            "linecolor": "#506784",
            "showbackground": true,
            "ticks": "",
            "zerolinecolor": "#C8D4E3"
           },
           "zaxis": {
            "backgroundcolor": "rgb(17,17,17)",
            "gridcolor": "#506784",
            "gridwidth": 2,
            "linecolor": "#506784",
            "showbackground": true,
            "ticks": "",
            "zerolinecolor": "#C8D4E3"
           }
          },
          "shapedefaults": {
           "line": {
            "color": "#f2f5fa"
           }
          },
          "sliderdefaults": {
           "bgcolor": "#C8D4E3",
           "bordercolor": "rgb(17,17,17)",
           "borderwidth": 1,
           "tickwidth": 0
          },
          "ternary": {
           "aaxis": {
            "gridcolor": "#506784",
            "linecolor": "#506784",
            "ticks": ""
           },
           "baxis": {
            "gridcolor": "#506784",
            "linecolor": "#506784",
            "ticks": ""
           },
           "bgcolor": "rgb(17,17,17)",
           "caxis": {
            "gridcolor": "#506784",
            "linecolor": "#506784",
            "ticks": ""
           }
          },
          "title": {
           "x": 0.05
          },
          "updatemenudefaults": {
           "bgcolor": "#506784",
           "borderwidth": 0
          },
          "xaxis": {
           "automargin": true,
           "gridcolor": "#283442",
           "linecolor": "#506784",
           "ticks": "",
           "title": {
            "standoff": 15
           },
           "zerolinecolor": "#283442",
           "zerolinewidth": 2
          },
          "yaxis": {
           "automargin": true,
           "gridcolor": "#283442",
           "linecolor": "#506784",
           "ticks": "",
           "title": {
            "standoff": 15
           },
           "zerolinecolor": "#283442",
           "zerolinewidth": 2
          }
         }
        },
        "title": {
         "text": "Tổng quan số ca tử vong ở các nước trên thế giới"
        }
       }
      }
     },
     "metadata": {},
     "output_type": "display_data"
    }
   ],
   "source": [
    "plot_map(covid_group_loction, \"TotalDeaths\", \"Tổng quan số ca tử vong ở các nước trên thế giới\", 'SizeDeaths', [0, 10**5])"
   ]
  },
  {
   "cell_type": "markdown",
   "metadata": {},
   "source": [
    "Những quốc gia có nền kinh tế phát triển, có tổng số ca mắc nhiều như Mỹ, Nga, Anh ... thì đều có tổng số ca tử vong lớn"
   ]
  },
  {
   "cell_type": "code",
   "execution_count": 263,
   "metadata": {},
   "outputs": [
    {
     "data": {
      "application/vnd.plotly.v1+json": {
       "config": {
        "plotlyServerURL": "https://plot.ly"
       },
       "data": [
        {
         "mode": "lines",
         "name": "NewCases",
         "type": "scatter",
         "x": [
          "2020-01-22",
          "2020-01-23",
          "2020-01-24",
          "2020-01-25",
          "2020-01-26",
          "2020-01-27",
          "2020-01-28",
          "2020-01-29",
          "2020-01-30",
          "2020-01-31",
          "2020-02-01",
          "2020-02-02",
          "2020-02-03",
          "2020-02-04",
          "2020-02-05",
          "2020-02-06",
          "2020-02-07",
          "2020-02-08",
          "2020-02-09",
          "2020-02-10",
          "2020-02-11",
          "2020-02-12",
          "2020-02-13",
          "2020-02-14",
          "2020-02-15",
          "2020-02-16",
          "2020-02-17",
          "2020-02-18",
          "2020-02-19",
          "2020-02-20",
          "2020-02-21",
          "2020-02-22",
          "2020-02-23",
          "2020-02-24",
          "2020-02-25",
          "2020-02-26",
          "2020-02-27",
          "2020-02-28",
          "2020-02-29",
          "2020-03-01",
          "2020-03-02",
          "2020-03-03",
          "2020-03-04",
          "2020-03-05",
          "2020-03-06",
          "2020-03-07",
          "2020-03-08",
          "2020-03-09",
          "2020-03-10",
          "2020-03-11",
          "2020-03-12",
          "2020-03-13",
          "2020-03-14",
          "2020-03-15",
          "2020-03-16",
          "2020-03-17",
          "2020-03-18",
          "2020-03-19",
          "2020-03-20",
          "2020-03-21",
          "2020-03-22",
          "2020-03-23",
          "2020-03-24",
          "2020-03-25",
          "2020-03-26",
          "2020-03-27",
          "2020-03-28",
          "2020-03-29",
          "2020-03-30",
          "2020-03-31",
          "2020-04-01",
          "2020-04-02",
          "2020-04-03",
          "2020-04-04",
          "2020-04-05",
          "2020-04-06",
          "2020-04-07",
          "2020-04-08",
          "2020-04-09",
          "2020-04-10",
          "2020-04-11",
          "2020-04-12",
          "2020-04-13",
          "2020-04-14",
          "2020-04-15",
          "2020-04-16",
          "2020-04-17",
          "2020-04-18",
          "2020-04-19",
          "2020-04-20",
          "2020-04-21",
          "2020-04-22",
          "2020-04-23",
          "2020-04-24",
          "2020-04-25",
          "2020-04-26",
          "2020-04-27",
          "2020-04-28",
          "2020-04-29",
          "2020-04-30",
          "2020-05-01",
          "2020-05-02",
          "2020-05-03",
          "2020-05-04",
          "2020-05-05",
          "2020-05-06",
          "2020-05-07",
          "2020-05-08",
          "2020-05-09",
          "2020-05-10",
          "2020-05-11",
          "2020-05-12",
          "2020-05-13",
          "2020-05-14",
          "2020-05-15",
          "2020-05-16",
          "2020-05-17",
          "2020-05-18",
          "2020-05-19",
          "2020-05-20",
          "2020-05-21",
          "2020-05-22",
          "2020-05-23",
          "2020-05-24",
          "2020-05-25",
          "2020-05-26",
          "2020-05-27",
          "2020-05-28",
          "2020-05-29",
          "2020-05-30",
          "2020-05-31",
          "2020-06-01",
          "2020-06-02",
          "2020-06-03",
          "2020-06-04",
          "2020-06-05",
          "2020-06-06",
          "2020-06-07",
          "2020-06-08",
          "2020-06-09",
          "2020-06-10",
          "2020-06-11",
          "2020-06-12",
          "2020-06-13",
          "2020-06-14",
          "2020-06-15",
          "2020-06-16",
          "2020-06-17",
          "2020-06-18",
          "2020-06-19",
          "2020-06-20",
          "2020-06-21",
          "2020-06-22",
          "2020-06-23",
          "2020-06-24",
          "2020-06-25",
          "2020-06-26",
          "2020-06-27",
          "2020-06-28",
          "2020-06-29",
          "2020-06-30",
          "2020-07-01",
          "2020-07-02",
          "2020-07-03",
          "2020-07-04",
          "2020-07-05",
          "2020-07-06",
          "2020-07-07",
          "2020-07-08",
          "2020-07-09",
          "2020-07-10",
          "2020-07-11",
          "2020-07-12",
          "2020-07-13",
          "2020-07-14",
          "2020-07-15",
          "2020-07-16",
          "2020-07-17",
          "2020-07-18",
          "2020-07-19",
          "2020-07-20",
          "2020-07-21",
          "2020-07-22",
          "2020-07-23",
          "2020-07-24",
          "2020-07-25",
          "2020-07-26",
          "2020-07-27",
          "2020-07-28",
          "2020-07-29",
          "2020-07-30",
          "2020-07-31",
          "2020-08-01",
          "2020-08-02",
          "2020-08-03",
          "2020-08-04",
          "2020-08-05",
          "2020-08-06",
          "2020-08-07",
          "2020-08-08",
          "2020-08-09",
          "2020-08-10",
          "2020-08-11",
          "2020-08-12",
          "2020-08-13",
          "2020-08-14",
          "2020-08-15",
          "2020-08-16",
          "2020-08-17",
          "2020-08-18",
          "2020-08-19",
          "2020-08-20",
          "2020-08-21",
          "2020-08-22",
          "2020-08-23",
          "2020-08-24",
          "2020-08-25",
          "2020-08-26",
          "2020-08-27",
          "2020-08-28",
          "2020-08-29",
          "2020-08-30",
          "2020-08-31",
          "2020-09-01",
          "2020-09-02",
          "2020-09-03",
          "2020-09-04",
          "2020-09-05",
          "2020-09-06",
          "2020-09-07",
          "2020-09-08",
          "2020-09-09",
          "2020-09-10",
          "2020-09-11",
          "2020-09-12",
          "2020-09-13",
          "2020-09-14",
          "2020-09-15",
          "2020-09-16",
          "2020-09-17",
          "2020-09-18",
          "2020-09-19",
          "2020-09-20",
          "2020-09-21",
          "2020-09-22",
          "2020-09-23",
          "2020-09-24",
          "2020-09-25",
          "2020-09-26",
          "2020-09-27",
          "2020-09-28",
          "2020-09-29",
          "2020-09-30",
          "2020-10-01",
          "2020-10-02",
          "2020-10-03",
          "2020-10-04",
          "2020-10-05",
          "2020-10-06",
          "2020-10-07",
          "2020-10-08",
          "2020-10-09",
          "2020-10-10",
          "2020-10-11",
          "2020-10-12",
          "2020-10-13",
          "2020-10-14",
          "2020-10-15",
          "2020-10-16",
          "2020-10-17",
          "2020-10-18",
          "2020-10-19",
          "2020-10-20",
          "2020-10-21",
          "2020-10-22",
          "2020-10-23",
          "2020-10-24",
          "2020-10-25",
          "2020-10-26",
          "2020-10-27",
          "2020-10-28",
          "2020-10-29",
          "2020-10-30",
          "2020-10-31",
          "2020-11-01",
          "2020-11-02",
          "2020-11-03",
          "2020-11-04",
          "2020-11-05",
          "2020-11-06",
          "2020-11-07",
          "2020-11-08",
          "2020-11-09",
          "2020-11-10",
          "2020-11-11",
          "2020-11-12",
          "2020-11-13",
          "2020-11-14",
          "2020-11-15",
          "2020-11-16",
          "2020-11-17",
          "2020-11-18",
          "2020-11-19",
          "2020-11-20",
          "2020-11-21",
          "2020-11-22",
          "2020-11-23",
          "2020-11-24",
          "2020-11-25",
          "2020-11-26",
          "2020-11-27",
          "2020-11-28",
          "2020-11-29",
          "2020-11-30",
          "2020-12-01",
          "2020-12-02",
          "2020-12-03",
          "2020-12-04",
          "2020-12-05",
          "2020-12-06",
          "2020-12-07",
          "2020-12-08",
          "2020-12-09",
          "2020-12-10",
          "2020-12-11",
          "2020-12-12",
          "2020-12-13",
          "2020-12-14",
          "2020-12-15",
          "2020-12-16",
          "2020-12-17",
          "2020-12-18",
          "2020-12-19",
          "2020-12-20",
          "2020-12-21",
          "2020-12-22",
          "2020-12-23",
          "2020-12-24",
          "2020-12-25",
          "2020-12-26",
          "2020-12-27",
          "2020-12-28",
          "2020-12-29",
          "2020-12-30",
          "2020-12-31",
          "2021-01-01",
          "2021-01-02",
          "2021-01-03",
          "2021-01-04",
          "2021-01-05",
          "2021-01-06",
          "2021-01-07",
          "2021-01-08",
          "2021-01-09",
          "2021-01-10",
          "2021-01-11",
          "2021-01-12",
          "2021-01-13",
          "2021-01-14",
          "2021-01-15",
          "2021-01-16",
          "2021-01-17",
          "2021-01-18",
          "2021-01-19",
          "2021-01-20",
          "2021-01-21",
          "2021-01-22",
          "2021-01-23",
          "2021-01-24",
          "2021-01-25",
          "2021-01-26",
          "2021-01-27",
          "2021-01-28",
          "2021-01-29",
          "2021-01-30",
          "2021-01-31",
          "2021-02-01",
          "2021-02-02",
          "2021-02-03",
          "2021-02-04",
          "2021-02-05",
          "2021-02-06",
          "2021-02-07",
          "2021-02-08",
          "2021-02-09",
          "2021-02-10",
          "2021-02-11",
          "2021-02-12",
          "2021-02-13",
          "2021-02-14",
          "2021-02-15",
          "2021-02-16",
          "2021-02-17",
          "2021-02-18",
          "2021-02-19",
          "2021-02-20",
          "2021-02-21",
          "2021-02-22",
          "2021-02-23",
          "2021-02-24",
          "2021-02-25",
          "2021-02-26",
          "2021-02-27",
          "2021-02-28",
          "2021-03-01",
          "2021-03-02",
          "2021-03-03",
          "2021-03-04",
          "2021-03-05",
          "2021-03-06",
          "2021-03-07",
          "2021-03-08",
          "2021-03-09",
          "2021-03-10",
          "2021-03-11",
          "2021-03-12",
          "2021-03-13",
          "2021-03-14",
          "2021-03-15",
          "2021-03-16",
          "2021-03-17",
          "2021-03-18",
          "2021-03-19",
          "2021-03-20",
          "2021-03-21",
          "2021-03-22",
          "2021-03-23",
          "2021-03-24",
          "2021-03-25",
          "2021-03-26",
          "2021-03-27",
          "2021-03-28",
          "2021-03-29",
          "2021-03-30",
          "2021-03-31",
          "2021-04-01",
          "2021-04-02",
          "2021-04-03",
          "2021-04-04",
          "2021-04-05",
          "2021-04-06",
          "2021-04-07",
          "2021-04-08",
          "2021-04-09",
          "2021-04-10",
          "2021-04-11",
          "2021-04-12",
          "2021-04-13",
          "2021-04-14",
          "2021-04-15",
          "2021-04-16",
          "2021-04-17",
          "2021-04-18",
          "2021-04-19",
          "2021-04-20",
          "2021-04-21",
          "2021-04-22",
          "2021-04-23",
          "2021-04-24",
          "2021-04-25",
          "2021-04-26",
          "2021-04-27",
          "2021-04-28",
          "2021-04-29",
          "2021-04-30",
          "2021-05-01",
          "2021-05-02",
          "2021-05-03",
          "2021-05-04",
          "2021-05-05",
          "2021-05-06",
          "2021-05-07",
          "2021-05-08",
          "2021-05-09",
          "2021-05-10",
          "2021-05-11",
          "2021-05-12",
          "2021-05-13",
          "2021-05-14",
          "2021-05-15",
          "2021-05-16",
          "2021-05-17",
          "2021-05-18",
          "2021-05-19",
          "2021-05-20",
          "2021-05-21",
          "2021-05-22",
          "2021-05-23",
          "2021-05-24",
          "2021-05-25",
          "2021-05-26",
          "2021-05-27",
          "2021-05-28",
          "2021-05-29",
          "2021-05-30",
          "2021-05-31",
          "2021-06-01",
          "2021-06-02",
          "2021-06-03",
          "2021-06-04",
          "2021-06-05",
          "2021-06-06",
          "2021-06-07",
          "2021-06-08",
          "2021-06-09",
          "2021-06-10",
          "2021-06-11",
          "2021-06-12",
          "2021-06-13",
          "2021-06-14",
          "2021-06-15",
          "2021-06-16",
          "2021-06-17",
          "2021-06-18",
          "2021-06-19",
          "2021-06-20",
          "2021-06-21",
          "2021-06-22",
          "2021-06-23",
          "2021-06-24",
          "2021-06-25",
          "2021-06-26",
          "2021-06-27",
          "2021-06-28",
          "2021-06-29",
          "2021-06-30",
          "2021-07-01",
          "2021-07-02",
          "2021-07-03",
          "2021-07-04",
          "2021-07-05",
          "2021-07-06",
          "2021-07-07",
          "2021-07-08",
          "2021-07-09",
          "2021-07-10",
          "2021-07-11",
          "2021-07-12",
          "2021-07-13",
          "2021-07-14",
          "2021-07-15",
          "2021-07-16",
          "2021-07-17",
          "2021-07-18",
          "2021-07-19",
          "2021-07-20",
          "2021-07-21",
          "2021-07-22",
          "2021-07-23",
          "2021-07-24",
          "2021-07-25",
          "2021-07-26",
          "2021-07-27",
          "2021-07-28",
          "2021-07-29",
          "2021-07-30",
          "2021-07-31",
          "2021-08-01",
          "2021-08-02",
          "2021-08-03",
          "2021-08-04",
          "2021-08-05",
          "2021-08-06",
          "2021-08-07",
          "2021-08-08",
          "2021-08-09",
          "2021-08-10",
          "2021-08-11",
          "2021-08-12",
          "2021-08-13",
          "2021-08-14",
          "2021-08-15",
          "2021-08-16",
          "2021-08-17",
          "2021-08-18",
          "2021-08-19",
          "2021-08-20",
          "2021-08-21",
          "2021-08-22",
          "2021-08-23",
          "2021-08-24",
          "2021-08-25",
          "2021-08-26",
          "2021-08-27",
          "2021-08-28",
          "2021-08-29",
          "2021-08-30",
          "2021-08-31",
          "2021-09-01",
          "2021-09-02",
          "2021-09-03",
          "2021-09-04",
          "2021-09-05",
          "2021-09-06",
          "2021-09-07",
          "2021-09-08",
          "2021-09-09",
          "2021-09-10",
          "2021-09-11",
          "2021-09-12",
          "2021-09-13",
          "2021-09-14",
          "2021-09-15",
          "2021-09-16",
          "2021-09-17",
          "2021-09-18",
          "2021-09-19",
          "2021-09-20",
          "2021-09-21",
          "2021-09-22",
          "2021-09-23",
          "2021-09-24",
          "2021-09-25",
          "2021-09-26",
          "2021-09-27",
          "2021-09-28",
          "2021-09-29",
          "2021-09-30",
          "2021-10-01",
          "2021-10-02",
          "2021-10-03",
          "2021-10-04",
          "2021-10-05",
          "2021-10-06",
          "2021-10-07",
          "2021-10-08",
          "2021-10-09",
          "2021-10-10",
          "2021-10-11",
          "2021-10-12",
          "2021-10-13",
          "2021-10-14",
          "2021-10-15",
          "2021-10-16",
          "2021-10-17",
          "2021-10-18",
          "2021-10-19",
          "2021-10-20",
          "2021-10-21",
          "2021-10-22",
          "2021-10-23",
          "2021-10-24",
          "2021-10-25",
          "2021-10-26",
          "2021-10-27",
          "2021-10-28",
          "2021-10-29",
          "2021-10-30",
          "2021-10-31",
          "2021-11-01",
          "2021-11-02",
          "2021-11-03",
          "2021-11-04",
          "2021-11-05",
          "2021-11-06",
          "2021-11-07",
          "2021-11-08",
          "2021-11-09",
          "2021-11-10",
          "2021-11-11",
          "2021-11-12",
          "2021-11-13",
          "2021-11-14",
          "2021-11-15",
          "2021-11-16",
          "2021-11-17",
          "2021-11-18",
          "2021-11-19",
          "2021-11-20",
          "2021-11-21",
          "2021-11-22",
          "2021-11-23",
          "2021-11-24",
          "2021-11-25",
          "2021-11-26",
          "2021-11-27",
          "2021-11-28",
          "2021-11-29",
          "2021-11-30",
          "2021-12-01",
          "2021-12-02",
          "2021-12-03",
          "2021-12-04",
          "2021-12-05",
          "2021-12-06",
          "2021-12-07",
          "2021-12-08",
          "2021-12-09",
          "2021-12-10",
          "2021-12-11",
          "2021-12-12",
          "2021-12-13",
          "2021-12-14",
          "2021-12-15",
          "2021-12-16",
          "2021-12-17",
          "2021-12-18",
          "2021-12-19",
          "2021-12-20",
          "2021-12-21",
          "2021-12-22",
          "2021-12-23",
          "2021-12-24",
          "2021-12-25",
          "2021-12-26",
          "2021-12-27",
          "2021-12-28",
          "2021-12-29",
          "2021-12-30",
          "2021-12-31",
          "2022-01-01",
          "2022-01-02",
          "2022-01-03",
          "2022-01-04",
          "2022-01-05",
          "2022-01-06",
          "2022-01-07",
          "2022-01-08",
          "2022-01-09",
          "2022-01-10",
          "2022-01-11",
          "2022-01-12",
          "2022-01-13",
          "2022-01-14",
          "2022-01-15",
          "2022-01-16",
          "2022-01-17",
          "2022-01-18",
          "2022-01-19",
          "2022-01-20",
          "2022-01-21",
          "2022-01-22",
          "2022-01-23",
          "2022-01-24",
          "2022-01-25",
          "2022-01-26",
          "2022-01-27",
          "2022-01-28",
          "2022-01-29",
          "2022-01-30",
          "2022-01-31",
          "2022-02-01",
          "2022-02-02",
          "2022-02-03",
          "2022-02-04",
          "2022-02-05",
          "2022-02-06",
          "2022-02-07",
          "2022-02-08",
          "2022-02-09",
          "2022-02-10",
          "2022-02-11",
          "2022-02-12",
          "2022-02-13",
          "2022-02-14",
          "2022-02-15",
          "2022-02-16",
          "2022-02-17",
          "2022-02-18",
          "2022-02-19",
          "2022-02-20",
          "2022-02-21",
          "2022-02-22",
          "2022-02-23",
          "2022-02-24",
          "2022-02-25",
          "2022-02-26",
          "2022-02-27",
          "2022-02-28",
          "2022-03-01",
          "2022-03-02",
          "2022-03-03",
          "2022-03-04",
          "2022-03-05"
         ],
         "xaxis": "x",
         "y": [
          0,
          100,
          287,
          493,
          683,
          809,
          2651,
          589,
          2068,
          1690,
          2111,
          4749,
          3100,
          4012,
          3745,
          3162,
          3594,
          2731,
          3031,
          2609,
          2043,
          418,
          15152,
          6528,
          2143,
          2183,
          2035,
          1882,
          500,
          561,
          630,
          1762,
          382,
          568,
          855,
          978,
          1359,
          1399,
          1894,
          2380,
          1979,
          2610,
          2339,
          2828,
          3933,
          4125,
          3928,
          4198,
          4906,
          7728,
          6123,
          14194,
          11121,
          11426,
          14821,
          16138,
          19684,
          27308,
          31116,
          32081,
          35185,
          43025,
          41265,
          51334,
          63075,
          65090,
          69676,
          56666,
          65288,
          77195,
          82336,
          82841,
          83955,
          75987,
          70078,
          73959,
          72929,
          83512,
          86637,
          85239,
          73952,
          119047,
          71169,
          83764,
          78404,
          94466,
          87772,
          76714,
          76220,
          75907,
          75532,
          81519,
          84842,
          93549,
          83089,
          70536,
          70847,
          75694,
          78851,
          83161,
          88832,
          78998,
          74236,
          77279,
          79708,
          90719,
          90004,
          92010,
          84140,
          75093,
          76349,
          84873,
          84403,
          95188,
          96211,
          94077,
          78075,
          89172,
          96769,
          105014,
          105876,
          107524,
          104010,
          93576,
          88289,
          92949,
          102611,
          119762,
          121769,
          134999,
          102321,
          99494,
          124988,
          114518,
          138182,
          133520,
          129670,
          110880,
          103237,
          126305,
          136748,
          135252,
          127977,
          133526,
          132074,
          124728,
          144523,
          143101,
          142901,
          181452,
          185635,
          112791,
          141858,
          168172,
          171319,
          179120,
          193148,
          176583,
          168186,
          152931,
          183302,
          215361,
          204243,
          202945,
          189663,
          185904,
          167916,
          208899,
          215804,
          223785,
          233046,
          213112,
          191501,
          195912,
          220508,
          229633,
          244509,
          237697,
          235556,
          212087,
          208752,
          242157,
          275782,
          279912,
          283839,
          248464,
          212903,
          234765,
          264497,
          271097,
          280255,
          289138,
          246099,
          231060,
          205437,
          265521,
          276003,
          286203,
          283194,
          264725,
          233477,
          234209,
          265256,
          275163,
          289926,
          307846,
          247758,
          210543,
          213953,
          258908,
          277968,
          270403,
          263044,
          261596,
          203547,
          228865,
          244798,
          281911,
          286927,
          285792,
          260242,
          218647,
          265562,
          266637,
          282082,
          285665,
          301224,
          272765,
          229581,
          226543,
          245945,
          285010,
          303867,
          316542,
          288125,
          247957,
          268203,
          280182,
          305346,
          314602,
          327784,
          291455,
          255662,
          260519,
          283494,
          312067,
          320651,
          330593,
          284043,
          247733,
          263426,
          282117,
          324991,
          319226,
          329212,
          296480,
          259140,
          312577,
          315406,
          350215,
          359783,
          360157,
          353714,
          287799,
          294885,
          318983,
          381526,
          408575,
          409522,
          369326,
          329405,
          378521,
          390145,
          443739,
          475410,
          496439,
          451739,
          358311,
          486893,
          468374,
          520723,
          552322,
          572690,
          469352,
          434581,
          559962,
          554119,
          552840,
          620953,
          619875,
          592675,
          486064,
          504111,
          578603,
          626746,
          644554,
          659569,
          580090,
          475569,
          529588,
          610660,
          628139,
          655029,
          673012,
          586902,
          486414,
          534454,
          593098,
          631110,
          592412,
          691249,
          602201,
          482385,
          507399,
          623828,
          646764,
          692160,
          688697,
          648934,
          536299,
          527640,
          643258,
          674732,
          679724,
          707122,
          641449,
          534222,
          543390,
          663527,
          725238,
          741142,
          723922,
          619346,
          537711,
          552687,
          665952,
          692807,
          688172,
          489195,
          515361,
          411392,
          501799,
          673644,
          736808,
          827634,
          574155,
          589174,
          520877,
          558845,
          745033,
          796903,
          891308,
          824282,
          754630,
          587925,
          612887,
          704968,
          750493,
          756188,
          773518,
          651775,
          527259,
          519452,
          591643,
          701100,
          655969,
          664125,
          572983,
          461122,
          480916,
          563317,
          604477,
          610188,
          591507,
          519234,
          387172,
          443175,
          467578,
          526826,
          471108,
          535378,
          433470,
          350905,
          339491,
          408258,
          442192,
          443801,
          430393,
          379004,
          307621,
          281191,
          361248,
          388374,
          410504,
          410229,
          373634,
          317935,
          295118,
          394554,
          447538,
          453067,
          441971,
          395722,
          307312,
          305649,
          389560,
          444298,
          458201,
          449263,
          413303,
          372836,
          303836,
          416798,
          470665,
          480877,
          490166,
          452622,
          362716,
          355005,
          470238,
          550817,
          547404,
          561953,
          496150,
          435153,
          424313,
          520866,
          639441,
          651355,
          639592,
          581483,
          475690,
          460902,
          575345,
          682297,
          708942,
          637820,
          525609,
          556866,
          494966,
          607014,
          684882,
          842852,
          750494,
          665300,
          692683,
          613355,
          783311,
          821435,
          816275,
          855381,
          789589,
          681309,
          694249,
          861185,
          888571,
          902252,
          902534,
          814937,
          724713,
          682649,
          854489,
          904603,
          894527,
          881653,
          794032,
          679159,
          686762,
          801886,
          846518,
          868954,
          831340,
          785875,
          636262,
          626118,
          739465,
          759373,
          731654,
          708774,
          630908,
          544863,
          543596,
          625356,
          673520,
          629259,
          625645,
          571692,
          479180,
          450704,
          534918,
          570349,
          547785,
          504368,
          479473,
          389099,
          386852,
          461324,
          487794,
          479794,
          424990,
          396714,
          322643,
          322082,
          371750,
          418529,
          453177,
          422142,
          368029,
          302411,
          309519,
          375539,
          388892,
          395684,
          403366,
          348193,
          303031,
          296851,
          410391,
          397119,
          408663,
          417739,
          363013,
          310726,
          333249,
          381100,
          399260,
          435424,
          442343,
          374043,
          327874,
          376660,
          451342,
          464924,
          481649,
          513789,
          421501,
          370142,
          433065,
          526116,
          538122,
          576027,
          595329,
          489600,
          421241,
          487613,
          532642,
          555062,
          565222,
          727961,
          490842,
          445145,
          540034,
          606988,
          649846,
          642927,
          731810,
          516272,
          481891,
          572138,
          634230,
          680924,
          684588,
          818927,
          560502,
          466838,
          620743,
          645972,
          729603,
          706654,
          801043,
          551571,
          466417,
          665791,
          681816,
          735598,
          711001,
          785826,
          554650,
          448584,
          687643,
          688092,
          732347,
          739199,
          741206,
          558250,
          445767,
          666781,
          634431,
          726061,
          674948,
          714607,
          495380,
          442346,
          448058,
          701644,
          629537,
          647199,
          639648,
          464452,
          373086,
          587344,
          550410,
          572039,
          584146,
          621984,
          400681,
          365622,
          525356,
          487230,
          540394,
          545718,
          550237,
          377817,
          357311,
          475360,
          454574,
          490640,
          489158,
          521146,
          353898,
          311898,
          438460,
          425784,
          508314,
          461184,
          475693,
          344337,
          319905,
          377869,
          441867,
          457896,
          453842,
          459287,
          347700,
          317645,
          413745,
          447141,
          478318,
          463666,
          488795,
          371622,
          316397,
          427568,
          449586,
          520080,
          463857,
          508971,
          389334,
          346340,
          421008,
          426168,
          538266,
          523859,
          520733,
          426950,
          349453,
          477486,
          488325,
          589183,
          518867,
          595877,
          429817,
          363480,
          538581,
          526831,
          634183,
          615233,
          620493,
          481010,
          403567,
          619817,
          595501,
          673136,
          596745,
          598726,
          460761,
          408721,
          653658,
          623349,
          712931,
          706436,
          717210,
          513407,
          439331,
          591267,
          697340,
          670681,
          727600,
          688074,
          499048,
          439210,
          625949,
          659374,
          744952,
          737302,
          732460,
          581077,
          481753,
          744732,
          797266,
          906982,
          996976,
          856016,
          693331,
          578659,
          1281218,
          1331053,
          1724220,
          1940530,
          1715008,
          1194627,
          911858,
          2422782,
          2525019,
          2564924,
          2632856,
          2926756,
          2143373,
          2011939,
          3164652,
          3088630,
          3519679,
          3169740,
          3280358,
          2448865,
          2146696,
          2697201,
          3788087,
          4206334,
          3691329,
          3810842,
          2718905,
          2417784,
          3476376,
          3659392,
          3830779,
          3695211,
          3600517,
          2654716,
          2262423,
          2756868,
          3296903,
          3214698,
          3162945,
          2924578,
          2225128,
          1816457,
          2543573,
          2842216,
          2455501,
          2766818,
          2386649,
          1827503,
          1451313,
          1790115,
          1790874,
          2419675,
          2033799,
          1940000,
          1552157,
          1266349,
          1457542,
          1805873,
          1939520,
          1755446,
          1591820,
          1328773,
          1065246,
          1403481,
          1536867,
          1651452,
          1887465,
          1704138,
          1361810
         ],
         "yaxis": "y"
        },
        {
         "mode": "lines",
         "name": "NewDeaths",
         "type": "scatter",
         "x": [
          "2020-01-22",
          "2020-01-23",
          "2020-01-24",
          "2020-01-25",
          "2020-01-26",
          "2020-01-27",
          "2020-01-28",
          "2020-01-29",
          "2020-01-30",
          "2020-01-31",
          "2020-02-01",
          "2020-02-02",
          "2020-02-03",
          "2020-02-04",
          "2020-02-05",
          "2020-02-06",
          "2020-02-07",
          "2020-02-08",
          "2020-02-09",
          "2020-02-10",
          "2020-02-11",
          "2020-02-12",
          "2020-02-13",
          "2020-02-14",
          "2020-02-15",
          "2020-02-16",
          "2020-02-17",
          "2020-02-18",
          "2020-02-19",
          "2020-02-20",
          "2020-02-21",
          "2020-02-22",
          "2020-02-23",
          "2020-02-24",
          "2020-02-25",
          "2020-02-26",
          "2020-02-27",
          "2020-02-28",
          "2020-02-29",
          "2020-03-01",
          "2020-03-02",
          "2020-03-03",
          "2020-03-04",
          "2020-03-05",
          "2020-03-06",
          "2020-03-07",
          "2020-03-08",
          "2020-03-09",
          "2020-03-10",
          "2020-03-11",
          "2020-03-12",
          "2020-03-13",
          "2020-03-14",
          "2020-03-15",
          "2020-03-16",
          "2020-03-17",
          "2020-03-18",
          "2020-03-19",
          "2020-03-20",
          "2020-03-21",
          "2020-03-22",
          "2020-03-23",
          "2020-03-24",
          "2020-03-25",
          "2020-03-26",
          "2020-03-27",
          "2020-03-28",
          "2020-03-29",
          "2020-03-30",
          "2020-03-31",
          "2020-04-01",
          "2020-04-02",
          "2020-04-03",
          "2020-04-04",
          "2020-04-05",
          "2020-04-06",
          "2020-04-07",
          "2020-04-08",
          "2020-04-09",
          "2020-04-10",
          "2020-04-11",
          "2020-04-12",
          "2020-04-13",
          "2020-04-14",
          "2020-04-15",
          "2020-04-16",
          "2020-04-17",
          "2020-04-18",
          "2020-04-19",
          "2020-04-20",
          "2020-04-21",
          "2020-04-22",
          "2020-04-23",
          "2020-04-24",
          "2020-04-25",
          "2020-04-26",
          "2020-04-27",
          "2020-04-28",
          "2020-04-29",
          "2020-04-30",
          "2020-05-01",
          "2020-05-02",
          "2020-05-03",
          "2020-05-04",
          "2020-05-05",
          "2020-05-06",
          "2020-05-07",
          "2020-05-08",
          "2020-05-09",
          "2020-05-10",
          "2020-05-11",
          "2020-05-12",
          "2020-05-13",
          "2020-05-14",
          "2020-05-15",
          "2020-05-16",
          "2020-05-17",
          "2020-05-18",
          "2020-05-19",
          "2020-05-20",
          "2020-05-21",
          "2020-05-22",
          "2020-05-23",
          "2020-05-24",
          "2020-05-25",
          "2020-05-26",
          "2020-05-27",
          "2020-05-28",
          "2020-05-29",
          "2020-05-30",
          "2020-05-31",
          "2020-06-01",
          "2020-06-02",
          "2020-06-03",
          "2020-06-04",
          "2020-06-05",
          "2020-06-06",
          "2020-06-07",
          "2020-06-08",
          "2020-06-09",
          "2020-06-10",
          "2020-06-11",
          "2020-06-12",
          "2020-06-13",
          "2020-06-14",
          "2020-06-15",
          "2020-06-16",
          "2020-06-17",
          "2020-06-18",
          "2020-06-19",
          "2020-06-20",
          "2020-06-21",
          "2020-06-22",
          "2020-06-23",
          "2020-06-24",
          "2020-06-25",
          "2020-06-26",
          "2020-06-27",
          "2020-06-28",
          "2020-06-29",
          "2020-06-30",
          "2020-07-01",
          "2020-07-02",
          "2020-07-03",
          "2020-07-04",
          "2020-07-05",
          "2020-07-06",
          "2020-07-07",
          "2020-07-08",
          "2020-07-09",
          "2020-07-10",
          "2020-07-11",
          "2020-07-12",
          "2020-07-13",
          "2020-07-14",
          "2020-07-15",
          "2020-07-16",
          "2020-07-17",
          "2020-07-18",
          "2020-07-19",
          "2020-07-20",
          "2020-07-21",
          "2020-07-22",
          "2020-07-23",
          "2020-07-24",
          "2020-07-25",
          "2020-07-26",
          "2020-07-27",
          "2020-07-28",
          "2020-07-29",
          "2020-07-30",
          "2020-07-31",
          "2020-08-01",
          "2020-08-02",
          "2020-08-03",
          "2020-08-04",
          "2020-08-05",
          "2020-08-06",
          "2020-08-07",
          "2020-08-08",
          "2020-08-09",
          "2020-08-10",
          "2020-08-11",
          "2020-08-12",
          "2020-08-13",
          "2020-08-14",
          "2020-08-15",
          "2020-08-16",
          "2020-08-17",
          "2020-08-18",
          "2020-08-19",
          "2020-08-20",
          "2020-08-21",
          "2020-08-22",
          "2020-08-23",
          "2020-08-24",
          "2020-08-25",
          "2020-08-26",
          "2020-08-27",
          "2020-08-28",
          "2020-08-29",
          "2020-08-30",
          "2020-08-31",
          "2020-09-01",
          "2020-09-02",
          "2020-09-03",
          "2020-09-04",
          "2020-09-05",
          "2020-09-06",
          "2020-09-07",
          "2020-09-08",
          "2020-09-09",
          "2020-09-10",
          "2020-09-11",
          "2020-09-12",
          "2020-09-13",
          "2020-09-14",
          "2020-09-15",
          "2020-09-16",
          "2020-09-17",
          "2020-09-18",
          "2020-09-19",
          "2020-09-20",
          "2020-09-21",
          "2020-09-22",
          "2020-09-23",
          "2020-09-24",
          "2020-09-25",
          "2020-09-26",
          "2020-09-27",
          "2020-09-28",
          "2020-09-29",
          "2020-09-30",
          "2020-10-01",
          "2020-10-02",
          "2020-10-03",
          "2020-10-04",
          "2020-10-05",
          "2020-10-06",
          "2020-10-07",
          "2020-10-08",
          "2020-10-09",
          "2020-10-10",
          "2020-10-11",
          "2020-10-12",
          "2020-10-13",
          "2020-10-14",
          "2020-10-15",
          "2020-10-16",
          "2020-10-17",
          "2020-10-18",
          "2020-10-19",
          "2020-10-20",
          "2020-10-21",
          "2020-10-22",
          "2020-10-23",
          "2020-10-24",
          "2020-10-25",
          "2020-10-26",
          "2020-10-27",
          "2020-10-28",
          "2020-10-29",
          "2020-10-30",
          "2020-10-31",
          "2020-11-01",
          "2020-11-02",
          "2020-11-03",
          "2020-11-04",
          "2020-11-05",
          "2020-11-06",
          "2020-11-07",
          "2020-11-08",
          "2020-11-09",
          "2020-11-10",
          "2020-11-11",
          "2020-11-12",
          "2020-11-13",
          "2020-11-14",
          "2020-11-15",
          "2020-11-16",
          "2020-11-17",
          "2020-11-18",
          "2020-11-19",
          "2020-11-20",
          "2020-11-21",
          "2020-11-22",
          "2020-11-23",
          "2020-11-24",
          "2020-11-25",
          "2020-11-26",
          "2020-11-27",
          "2020-11-28",
          "2020-11-29",
          "2020-11-30",
          "2020-12-01",
          "2020-12-02",
          "2020-12-03",
          "2020-12-04",
          "2020-12-05",
          "2020-12-06",
          "2020-12-07",
          "2020-12-08",
          "2020-12-09",
          "2020-12-10",
          "2020-12-11",
          "2020-12-12",
          "2020-12-13",
          "2020-12-14",
          "2020-12-15",
          "2020-12-16",
          "2020-12-17",
          "2020-12-18",
          "2020-12-19",
          "2020-12-20",
          "2020-12-21",
          "2020-12-22",
          "2020-12-23",
          "2020-12-24",
          "2020-12-25",
          "2020-12-26",
          "2020-12-27",
          "2020-12-28",
          "2020-12-29",
          "2020-12-30",
          "2020-12-31",
          "2021-01-01",
          "2021-01-02",
          "2021-01-03",
          "2021-01-04",
          "2021-01-05",
          "2021-01-06",
          "2021-01-07",
          "2021-01-08",
          "2021-01-09",
          "2021-01-10",
          "2021-01-11",
          "2021-01-12",
          "2021-01-13",
          "2021-01-14",
          "2021-01-15",
          "2021-01-16",
          "2021-01-17",
          "2021-01-18",
          "2021-01-19",
          "2021-01-20",
          "2021-01-21",
          "2021-01-22",
          "2021-01-23",
          "2021-01-24",
          "2021-01-25",
          "2021-01-26",
          "2021-01-27",
          "2021-01-28",
          "2021-01-29",
          "2021-01-30",
          "2021-01-31",
          "2021-02-01",
          "2021-02-02",
          "2021-02-03",
          "2021-02-04",
          "2021-02-05",
          "2021-02-06",
          "2021-02-07",
          "2021-02-08",
          "2021-02-09",
          "2021-02-10",
          "2021-02-11",
          "2021-02-12",
          "2021-02-13",
          "2021-02-14",
          "2021-02-15",
          "2021-02-16",
          "2021-02-17",
          "2021-02-18",
          "2021-02-19",
          "2021-02-20",
          "2021-02-21",
          "2021-02-22",
          "2021-02-23",
          "2021-02-24",
          "2021-02-25",
          "2021-02-26",
          "2021-02-27",
          "2021-02-28",
          "2021-03-01",
          "2021-03-02",
          "2021-03-03",
          "2021-03-04",
          "2021-03-05",
          "2021-03-06",
          "2021-03-07",
          "2021-03-08",
          "2021-03-09",
          "2021-03-10",
          "2021-03-11",
          "2021-03-12",
          "2021-03-13",
          "2021-03-14",
          "2021-03-15",
          "2021-03-16",
          "2021-03-17",
          "2021-03-18",
          "2021-03-19",
          "2021-03-20",
          "2021-03-21",
          "2021-03-22",
          "2021-03-23",
          "2021-03-24",
          "2021-03-25",
          "2021-03-26",
          "2021-03-27",
          "2021-03-28",
          "2021-03-29",
          "2021-03-30",
          "2021-03-31",
          "2021-04-01",
          "2021-04-02",
          "2021-04-03",
          "2021-04-04",
          "2021-04-05",
          "2021-04-06",
          "2021-04-07",
          "2021-04-08",
          "2021-04-09",
          "2021-04-10",
          "2021-04-11",
          "2021-04-12",
          "2021-04-13",
          "2021-04-14",
          "2021-04-15",
          "2021-04-16",
          "2021-04-17",
          "2021-04-18",
          "2021-04-19",
          "2021-04-20",
          "2021-04-21",
          "2021-04-22",
          "2021-04-23",
          "2021-04-24",
          "2021-04-25",
          "2021-04-26",
          "2021-04-27",
          "2021-04-28",
          "2021-04-29",
          "2021-04-30",
          "2021-05-01",
          "2021-05-02",
          "2021-05-03",
          "2021-05-04",
          "2021-05-05",
          "2021-05-06",
          "2021-05-07",
          "2021-05-08",
          "2021-05-09",
          "2021-05-10",
          "2021-05-11",
          "2021-05-12",
          "2021-05-13",
          "2021-05-14",
          "2021-05-15",
          "2021-05-16",
          "2021-05-17",
          "2021-05-18",
          "2021-05-19",
          "2021-05-20",
          "2021-05-21",
          "2021-05-22",
          "2021-05-23",
          "2021-05-24",
          "2021-05-25",
          "2021-05-26",
          "2021-05-27",
          "2021-05-28",
          "2021-05-29",
          "2021-05-30",
          "2021-05-31",
          "2021-06-01",
          "2021-06-02",
          "2021-06-03",
          "2021-06-04",
          "2021-06-05",
          "2021-06-06",
          "2021-06-07",
          "2021-06-08",
          "2021-06-09",
          "2021-06-10",
          "2021-06-11",
          "2021-06-12",
          "2021-06-13",
          "2021-06-14",
          "2021-06-15",
          "2021-06-16",
          "2021-06-17",
          "2021-06-18",
          "2021-06-19",
          "2021-06-20",
          "2021-06-21",
          "2021-06-22",
          "2021-06-23",
          "2021-06-24",
          "2021-06-25",
          "2021-06-26",
          "2021-06-27",
          "2021-06-28",
          "2021-06-29",
          "2021-06-30",
          "2021-07-01",
          "2021-07-02",
          "2021-07-03",
          "2021-07-04",
          "2021-07-05",
          "2021-07-06",
          "2021-07-07",
          "2021-07-08",
          "2021-07-09",
          "2021-07-10",
          "2021-07-11",
          "2021-07-12",
          "2021-07-13",
          "2021-07-14",
          "2021-07-15",
          "2021-07-16",
          "2021-07-17",
          "2021-07-18",
          "2021-07-19",
          "2021-07-20",
          "2021-07-21",
          "2021-07-22",
          "2021-07-23",
          "2021-07-24",
          "2021-07-25",
          "2021-07-26",
          "2021-07-27",
          "2021-07-28",
          "2021-07-29",
          "2021-07-30",
          "2021-07-31",
          "2021-08-01",
          "2021-08-02",
          "2021-08-03",
          "2021-08-04",
          "2021-08-05",
          "2021-08-06",
          "2021-08-07",
          "2021-08-08",
          "2021-08-09",
          "2021-08-10",
          "2021-08-11",
          "2021-08-12",
          "2021-08-13",
          "2021-08-14",
          "2021-08-15",
          "2021-08-16",
          "2021-08-17",
          "2021-08-18",
          "2021-08-19",
          "2021-08-20",
          "2021-08-21",
          "2021-08-22",
          "2021-08-23",
          "2021-08-24",
          "2021-08-25",
          "2021-08-26",
          "2021-08-27",
          "2021-08-28",
          "2021-08-29",
          "2021-08-30",
          "2021-08-31",
          "2021-09-01",
          "2021-09-02",
          "2021-09-03",
          "2021-09-04",
          "2021-09-05",
          "2021-09-06",
          "2021-09-07",
          "2021-09-08",
          "2021-09-09",
          "2021-09-10",
          "2021-09-11",
          "2021-09-12",
          "2021-09-13",
          "2021-09-14",
          "2021-09-15",
          "2021-09-16",
          "2021-09-17",
          "2021-09-18",
          "2021-09-19",
          "2021-09-20",
          "2021-09-21",
          "2021-09-22",
          "2021-09-23",
          "2021-09-24",
          "2021-09-25",
          "2021-09-26",
          "2021-09-27",
          "2021-09-28",
          "2021-09-29",
          "2021-09-30",
          "2021-10-01",
          "2021-10-02",
          "2021-10-03",
          "2021-10-04",
          "2021-10-05",
          "2021-10-06",
          "2021-10-07",
          "2021-10-08",
          "2021-10-09",
          "2021-10-10",
          "2021-10-11",
          "2021-10-12",
          "2021-10-13",
          "2021-10-14",
          "2021-10-15",
          "2021-10-16",
          "2021-10-17",
          "2021-10-18",
          "2021-10-19",
          "2021-10-20",
          "2021-10-21",
          "2021-10-22",
          "2021-10-23",
          "2021-10-24",
          "2021-10-25",
          "2021-10-26",
          "2021-10-27",
          "2021-10-28",
          "2021-10-29",
          "2021-10-30",
          "2021-10-31",
          "2021-11-01",
          "2021-11-02",
          "2021-11-03",
          "2021-11-04",
          "2021-11-05",
          "2021-11-06",
          "2021-11-07",
          "2021-11-08",
          "2021-11-09",
          "2021-11-10",
          "2021-11-11",
          "2021-11-12",
          "2021-11-13",
          "2021-11-14",
          "2021-11-15",
          "2021-11-16",
          "2021-11-17",
          "2021-11-18",
          "2021-11-19",
          "2021-11-20",
          "2021-11-21",
          "2021-11-22",
          "2021-11-23",
          "2021-11-24",
          "2021-11-25",
          "2021-11-26",
          "2021-11-27",
          "2021-11-28",
          "2021-11-29",
          "2021-11-30",
          "2021-12-01",
          "2021-12-02",
          "2021-12-03",
          "2021-12-04",
          "2021-12-05",
          "2021-12-06",
          "2021-12-07",
          "2021-12-08",
          "2021-12-09",
          "2021-12-10",
          "2021-12-11",
          "2021-12-12",
          "2021-12-13",
          "2021-12-14",
          "2021-12-15",
          "2021-12-16",
          "2021-12-17",
          "2021-12-18",
          "2021-12-19",
          "2021-12-20",
          "2021-12-21",
          "2021-12-22",
          "2021-12-23",
          "2021-12-24",
          "2021-12-25",
          "2021-12-26",
          "2021-12-27",
          "2021-12-28",
          "2021-12-29",
          "2021-12-30",
          "2021-12-31",
          "2022-01-01",
          "2022-01-02",
          "2022-01-03",
          "2022-01-04",
          "2022-01-05",
          "2022-01-06",
          "2022-01-07",
          "2022-01-08",
          "2022-01-09",
          "2022-01-10",
          "2022-01-11",
          "2022-01-12",
          "2022-01-13",
          "2022-01-14",
          "2022-01-15",
          "2022-01-16",
          "2022-01-17",
          "2022-01-18",
          "2022-01-19",
          "2022-01-20",
          "2022-01-21",
          "2022-01-22",
          "2022-01-23",
          "2022-01-24",
          "2022-01-25",
          "2022-01-26",
          "2022-01-27",
          "2022-01-28",
          "2022-01-29",
          "2022-01-30",
          "2022-01-31",
          "2022-02-01",
          "2022-02-02",
          "2022-02-03",
          "2022-02-04",
          "2022-02-05",
          "2022-02-06",
          "2022-02-07",
          "2022-02-08",
          "2022-02-09",
          "2022-02-10",
          "2022-02-11",
          "2022-02-12",
          "2022-02-13",
          "2022-02-14",
          "2022-02-15",
          "2022-02-16",
          "2022-02-17",
          "2022-02-18",
          "2022-02-19",
          "2022-02-20",
          "2022-02-21",
          "2022-02-22",
          "2022-02-23",
          "2022-02-24",
          "2022-02-25",
          "2022-02-26",
          "2022-02-27",
          "2022-02-28",
          "2022-03-01",
          "2022-03-02",
          "2022-03-03",
          "2022-03-04",
          "2022-03-05"
         ],
         "xaxis": "x2",
         "y": [
          0,
          1,
          8,
          16,
          14,
          26,
          49,
          2,
          38,
          42,
          46,
          103,
          64,
          66,
          72,
          70,
          85,
          87,
          100,
          107,
          100,
          5,
          253,
          152,
          143,
          104,
          98,
          140,
          115,
          125,
          4,
          207,
          11,
          160,
          80,
          61,
          43,
          59,
          70,
          54,
          89,
          74,
          95,
          93,
          113,
          105,
          241,
          190,
          276,
          345,
          310,
          494,
          422,
          646,
          693,
          817,
          920,
          1120,
          1500,
          1731,
          1690,
          1965,
          2321,
          2835,
          3051,
          3500,
          3855,
          3500,
          4103,
          4768,
          6049,
          5930,
          6248,
          6226,
          5268,
          5990,
          8382,
          6906,
          7882,
          7457,
          6353,
          5995,
          6094,
          7146,
          8576,
          7414,
          8576,
          6249,
          5382,
          6069,
          7364,
          7019,
          6995,
          6900,
          5886,
          4253,
          4910,
          6819,
          6911,
          6045,
          5466,
          5850,
          3841,
          4450,
          6099,
          6864,
          5670,
          5895,
          4552,
          4046,
          3894,
          5848,
          5473,
          5579,
          5634,
          4534,
          3578,
          4153,
          5354,
          5367,
          4959,
          5688,
          4372,
          3555,
          3442,
          4640,
          5369,
          5030,
          5157,
          4277,
          3140,
          3640,
          5284,
          5679,
          5435,
          5121,
          4082,
          3116,
          4335,
          5111,
          5435,
          5082,
          4733,
          4402,
          3659,
          3988,
          7135,
          5481,
          5322,
          5160,
          4444,
          4589,
          3795,
          5582,
          5498,
          5082,
          5080,
          4691,
          3573,
          4021,
          5237,
          5370,
          5477,
          5234,
          4767,
          3803,
          4215,
          6384,
          5636,
          5803,
          5743,
          5104,
          4285,
          4380,
          5989,
          5896,
          6165,
          6991,
          6502,
          4891,
          3921,
          6371,
          7372,
          6642,
          6455,
          6072,
          4353,
          5296,
          6946,
          6651,
          6753,
          6585,
          6002,
          4665,
          4792,
          7175,
          7386,
          6818,
          6747,
          6011,
          5169,
          5363,
          6633,
          6948,
          6792,
          6581,
          6017,
          4786,
          4617,
          7050,
          7009,
          6448,
          6185,
          5810,
          4313,
          4836,
          6573,
          6680,
          6222,
          5827,
          5820,
          4265,
          4425,
          6605,
          6294,
          6104,
          5892,
          5120,
          4122,
          5758,
          5137,
          6258,
          6049,
          6003,
          5056,
          3953,
          4593,
          6576,
          5878,
          5650,
          5858,
          5318,
          3967,
          4410,
          6171,
          6548,
          5686,
          6018,
          5442,
          3851,
          4081,
          6106,
          6462,
          8906,
          5608,
          4732,
          3991,
          4278,
          5859,
          5908,
          6370,
          6191,
          4893,
          4130,
          4066,
          5419,
          6193,
          6190,
          6215,
          5702,
          3861,
          4745,
          6648,
          6862,
          5935,
          7067,
          5874,
          4287,
          5627,
          7468,
          7225,
          7214,
          7695,
          6600,
          5134,
          6185,
          9494,
          10200,
          8716,
          9124,
          7696,
          6104,
          7207,
          10073,
          10523,
          9789,
          9767,
          9065,
          6588,
          7939,
          11093,
          11429,
          11153,
          11770,
          9030,
          7441,
          8527,
          12731,
          12139,
          11042,
          11456,
          9266,
          7295,
          8967,
          12759,
          12643,
          12600,
          12460,
          10337,
          7729,
          8714,
          12317,
          12670,
          12665,
          13065,
          10759,
          7827,
          9172,
          13776,
          13879,
          13384,
          12938,
          10971,
          8122,
          9568,
          14202,
          13803,
          11823,
          8729,
          7571,
          7750,
          9621,
          15100,
          15633,
          13252,
          9713,
          8472,
          7651,
          10058,
          15476,
          15069,
          15152,
          15397,
          12847,
          8831,
          10081,
          17168,
          16873,
          15471,
          15022,
          13716,
          9085,
          9771,
          16610,
          18020,
          17155,
          16060,
          13921,
          9197,
          11026,
          17445,
          17355,
          17029,
          15388,
          13506,
          8771,
          10353,
          15416,
          16035,
          13001,
          17138,
          11400,
          7298,
          9491,
          15431,
          14035,
          13779,
          13028,
          10419,
          6649,
          7479,
          11352,
          11963,
          11920,
          11692,
          8751,
          6518,
          7374,
          11685,
          12532,
          10657,
          10793,
          8493,
          6264,
          7701,
          10426,
          11764,
          10407,
          10515,
          8097,
          5895,
          7254,
          10614,
          10233,
          10198,
          9885,
          8403,
          5861,
          7664,
          10647,
          10599,
          10736,
          10830,
          8683,
          8470,
          8060,
          11488,
          10740,
          11525,
          12759,
          10148,
          7213,
          8764,
          12022,
          12880,
          12342,
          10532,
          9282,
          7357,
          8273,
          12496,
          15589,
          14339,
          14325,
          12859,
          9079,
          10092,
          13867,
          14050,
          13607,
          13359,
          12468,
          9107,
          11326,
          14353,
          14659,
          13888,
          15301,
          12961,
          10685,
          11868,
          14989,
          15923,
          15754,
          14342,
          12907,
          10277,
          11874,
          14088,
          14840,
          14646,
          14481,
          13196,
          10329,
          11293,
          14181,
          13950,
          13588,
          12992,
          12161,
          10260,
          11471,
          14142,
          13441,
          13165,
          12924,
          11343,
          9781,
          9115,
          13203,
          12787,
          12856,
          11986,
          10701,
          8344,
          8793,
          10973,
          11885,
          10092,
          10684,
          9347,
          7226,
          8169,
          10628,
          10136,
          8607,
          11770,
          9695,
          9253,
          8061,
          10795,
          10024,
          9302,
          9214,
          8077,
          6726,
          7049,
          8928,
          9396,
          8622,
          9237,
          7470,
          6073,
          6596,
          8150,
          9199,
          8556,
          8294,
          6907,
          6612,
          7387,
          8509,
          8521,
          8930,
          8355,
          7263,
          7601,
          8091,
          8384,
          8618,
          8589,
          8651,
          7495,
          6628,
          7169,
          11928,
          8675,
          8774,
          8298,
          8682,
          7320,
          8451,
          9831,
          10255,
          10251,
          9555,
          8806,
          7358,
          8070,
          10417,
          10500,
          10941,
          10472,
          8649,
          7431,
          8750,
          11619,
          10508,
          10495,
          10457,
          8712,
          7394,
          9795,
          10769,
          10787,
          11436,
          10510,
          8881,
          7664,
          10015,
          11048,
          11282,
          11619,
          10337,
          8421,
          6715,
          9537,
          9484,
          12498,
          11183,
          10718,
          7721,
          6459,
          8035,
          10485,
          10053,
          10828,
          9140,
          8327,
          5551,
          9088,
          9953,
          10478,
          10469,
          9047,
          6500,
          5961,
          8218,
          9328,
          9943,
          9781,
          8725,
          5434,
          5433,
          7751,
          9422,
          9269,
          8833,
          8607,
          5878,
          4244,
          7167,
          7429,
          9141,
          8962,
          7776,
          4857,
          4669,
          5745,
          8122,
          8857,
          7984,
          7233,
          5282,
          4274,
          6454,
          8245,
          8691,
          7704,
          8191,
          5823,
          4516,
          6643,
          7915,
          9178,
          8801,
          7873,
          6001,
          4483,
          6276,
          7283,
          8416,
          7605,
          8611,
          6644,
          4486,
          6667,
          8229,
          8282,
          7625,
          9099,
          6280,
          4621,
          6891,
          7726,
          9212,
          8304,
          8066,
          6067,
          4543,
          7260,
          8079,
          8680,
          7834,
          6825,
          5956,
          4791,
          7743,
          7989,
          9327,
          10168,
          8596,
          5524,
          7343,
          6814,
          8395,
          7948,
          8859,
          8126,
          5979,
          4540,
          6590,
          7755,
          9191,
          7314,
          7006,
          6067,
          4323,
          6946,
          7673,
          8245,
          9307,
          5885,
          4254,
          3602,
          6725,
          7478,
          8038,
          7573,
          6008,
          4295,
          3214,
          6089,
          7992,
          7986,
          6847,
          7220,
          5351,
          3933,
          6424,
          9510,
          9240,
          8108,
          7734,
          6196,
          4321,
          6233,
          9242,
          10567,
          9454,
          9849,
          6115,
          4966,
          8627,
          10811,
          10953,
          10402,
          12120,
          7906,
          5598,
          9729,
          13275,
          12220,
          11589,
          13330,
          8299,
          5855,
          10700,
          13286,
          13311,
          11699,
          12108,
          8724,
          5094,
          10671,
          10581,
          13077,
          12712,
          10579,
          8384,
          5305,
          7435,
          9410,
          11706,
          10735,
          9080,
          6392,
          4417,
          7759,
          8069,
          7945,
          8384,
          8771,
          5443
         ],
         "yaxis": "y2"
        }
       ],
       "layout": {
        "annotations": [
         {
          "font": {
           "size": 16
          },
          "showarrow": false,
          "text": "Số ca mắc mới mỗi ngày",
          "x": 0.5,
          "xanchor": "center",
          "xref": "paper",
          "y": 1,
          "yanchor": "bottom",
          "yref": "paper"
         },
         {
          "font": {
           "size": 16
          },
          "showarrow": false,
          "text": "Số ca tử vong mới mỗi ngày",
          "x": 0.5,
          "xanchor": "center",
          "xref": "paper",
          "y": 0.375,
          "yanchor": "bottom",
          "yref": "paper"
         }
        ],
        "height": 600,
        "template": {
         "data": {
          "bar": [
           {
            "error_x": {
             "color": "#f2f5fa"
            },
            "error_y": {
             "color": "#f2f5fa"
            },
            "marker": {
             "line": {
              "color": "rgb(17,17,17)",
              "width": 0.5
             },
             "pattern": {
              "fillmode": "overlay",
              "size": 10,
              "solidity": 0.2
             }
            },
            "type": "bar"
           }
          ],
          "barpolar": [
           {
            "marker": {
             "line": {
              "color": "rgb(17,17,17)",
              "width": 0.5
             },
             "pattern": {
              "fillmode": "overlay",
              "size": 10,
              "solidity": 0.2
             }
            },
            "type": "barpolar"
           }
          ],
          "carpet": [
           {
            "aaxis": {
             "endlinecolor": "#A2B1C6",
             "gridcolor": "#506784",
             "linecolor": "#506784",
             "minorgridcolor": "#506784",
             "startlinecolor": "#A2B1C6"
            },
            "baxis": {
             "endlinecolor": "#A2B1C6",
             "gridcolor": "#506784",
             "linecolor": "#506784",
             "minorgridcolor": "#506784",
             "startlinecolor": "#A2B1C6"
            },
            "type": "carpet"
           }
          ],
          "choropleth": [
           {
            "colorbar": {
             "outlinewidth": 0,
             "ticks": ""
            },
            "type": "choropleth"
           }
          ],
          "contour": [
           {
            "colorbar": {
             "outlinewidth": 0,
             "ticks": ""
            },
            "colorscale": [
             [
              0,
              "#0d0887"
             ],
             [
              0.1111111111111111,
              "#46039f"
             ],
             [
              0.2222222222222222,
              "#7201a8"
             ],
             [
              0.3333333333333333,
              "#9c179e"
             ],
             [
              0.4444444444444444,
              "#bd3786"
             ],
             [
              0.5555555555555556,
              "#d8576b"
             ],
             [
              0.6666666666666666,
              "#ed7953"
             ],
             [
              0.7777777777777778,
              "#fb9f3a"
             ],
             [
              0.8888888888888888,
              "#fdca26"
             ],
             [
              1,
              "#f0f921"
             ]
            ],
            "type": "contour"
           }
          ],
          "contourcarpet": [
           {
            "colorbar": {
             "outlinewidth": 0,
             "ticks": ""
            },
            "type": "contourcarpet"
           }
          ],
          "heatmap": [
           {
            "colorbar": {
             "outlinewidth": 0,
             "ticks": ""
            },
            "colorscale": [
             [
              0,
              "#0d0887"
             ],
             [
              0.1111111111111111,
              "#46039f"
             ],
             [
              0.2222222222222222,
              "#7201a8"
             ],
             [
              0.3333333333333333,
              "#9c179e"
             ],
             [
              0.4444444444444444,
              "#bd3786"
             ],
             [
              0.5555555555555556,
              "#d8576b"
             ],
             [
              0.6666666666666666,
              "#ed7953"
             ],
             [
              0.7777777777777778,
              "#fb9f3a"
             ],
             [
              0.8888888888888888,
              "#fdca26"
             ],
             [
              1,
              "#f0f921"
             ]
            ],
            "type": "heatmap"
           }
          ],
          "heatmapgl": [
           {
            "colorbar": {
             "outlinewidth": 0,
             "ticks": ""
            },
            "colorscale": [
             [
              0,
              "#0d0887"
             ],
             [
              0.1111111111111111,
              "#46039f"
             ],
             [
              0.2222222222222222,
              "#7201a8"
             ],
             [
              0.3333333333333333,
              "#9c179e"
             ],
             [
              0.4444444444444444,
              "#bd3786"
             ],
             [
              0.5555555555555556,
              "#d8576b"
             ],
             [
              0.6666666666666666,
              "#ed7953"
             ],
             [
              0.7777777777777778,
              "#fb9f3a"
             ],
             [
              0.8888888888888888,
              "#fdca26"
             ],
             [
              1,
              "#f0f921"
             ]
            ],
            "type": "heatmapgl"
           }
          ],
          "histogram": [
           {
            "marker": {
             "pattern": {
              "fillmode": "overlay",
              "size": 10,
              "solidity": 0.2
             }
            },
            "type": "histogram"
           }
          ],
          "histogram2d": [
           {
            "colorbar": {
             "outlinewidth": 0,
             "ticks": ""
            },
            "colorscale": [
             [
              0,
              "#0d0887"
             ],
             [
              0.1111111111111111,
              "#46039f"
             ],
             [
              0.2222222222222222,
              "#7201a8"
             ],
             [
              0.3333333333333333,
              "#9c179e"
             ],
             [
              0.4444444444444444,
              "#bd3786"
             ],
             [
              0.5555555555555556,
              "#d8576b"
             ],
             [
              0.6666666666666666,
              "#ed7953"
             ],
             [
              0.7777777777777778,
              "#fb9f3a"
             ],
             [
              0.8888888888888888,
              "#fdca26"
             ],
             [
              1,
              "#f0f921"
             ]
            ],
            "type": "histogram2d"
           }
          ],
          "histogram2dcontour": [
           {
            "colorbar": {
             "outlinewidth": 0,
             "ticks": ""
            },
            "colorscale": [
             [
              0,
              "#0d0887"
             ],
             [
              0.1111111111111111,
              "#46039f"
             ],
             [
              0.2222222222222222,
              "#7201a8"
             ],
             [
              0.3333333333333333,
              "#9c179e"
             ],
             [
              0.4444444444444444,
              "#bd3786"
             ],
             [
              0.5555555555555556,
              "#d8576b"
             ],
             [
              0.6666666666666666,
              "#ed7953"
             ],
             [
              0.7777777777777778,
              "#fb9f3a"
             ],
             [
              0.8888888888888888,
              "#fdca26"
             ],
             [
              1,
              "#f0f921"
             ]
            ],
            "type": "histogram2dcontour"
           }
          ],
          "mesh3d": [
           {
            "colorbar": {
             "outlinewidth": 0,
             "ticks": ""
            },
            "type": "mesh3d"
           }
          ],
          "parcoords": [
           {
            "line": {
             "colorbar": {
              "outlinewidth": 0,
              "ticks": ""
             }
            },
            "type": "parcoords"
           }
          ],
          "pie": [
           {
            "automargin": true,
            "type": "pie"
           }
          ],
          "scatter": [
           {
            "marker": {
             "line": {
              "color": "#283442"
             }
            },
            "type": "scatter"
           }
          ],
          "scatter3d": [
           {
            "line": {
             "colorbar": {
              "outlinewidth": 0,
              "ticks": ""
             }
            },
            "marker": {
             "colorbar": {
              "outlinewidth": 0,
              "ticks": ""
             }
            },
            "type": "scatter3d"
           }
          ],
          "scattercarpet": [
           {
            "marker": {
             "colorbar": {
              "outlinewidth": 0,
              "ticks": ""
             }
            },
            "type": "scattercarpet"
           }
          ],
          "scattergeo": [
           {
            "marker": {
             "colorbar": {
              "outlinewidth": 0,
              "ticks": ""
             }
            },
            "type": "scattergeo"
           }
          ],
          "scattergl": [
           {
            "marker": {
             "line": {
              "color": "#283442"
             }
            },
            "type": "scattergl"
           }
          ],
          "scattermapbox": [
           {
            "marker": {
             "colorbar": {
              "outlinewidth": 0,
              "ticks": ""
             }
            },
            "type": "scattermapbox"
           }
          ],
          "scatterpolar": [
           {
            "marker": {
             "colorbar": {
              "outlinewidth": 0,
              "ticks": ""
             }
            },
            "type": "scatterpolar"
           }
          ],
          "scatterpolargl": [
           {
            "marker": {
             "colorbar": {
              "outlinewidth": 0,
              "ticks": ""
             }
            },
            "type": "scatterpolargl"
           }
          ],
          "scatterternary": [
           {
            "marker": {
             "colorbar": {
              "outlinewidth": 0,
              "ticks": ""
             }
            },
            "type": "scatterternary"
           }
          ],
          "surface": [
           {
            "colorbar": {
             "outlinewidth": 0,
             "ticks": ""
            },
            "colorscale": [
             [
              0,
              "#0d0887"
             ],
             [
              0.1111111111111111,
              "#46039f"
             ],
             [
              0.2222222222222222,
              "#7201a8"
             ],
             [
              0.3333333333333333,
              "#9c179e"
             ],
             [
              0.4444444444444444,
              "#bd3786"
             ],
             [
              0.5555555555555556,
              "#d8576b"
             ],
             [
              0.6666666666666666,
              "#ed7953"
             ],
             [
              0.7777777777777778,
              "#fb9f3a"
             ],
             [
              0.8888888888888888,
              "#fdca26"
             ],
             [
              1,
              "#f0f921"
             ]
            ],
            "type": "surface"
           }
          ],
          "table": [
           {
            "cells": {
             "fill": {
              "color": "#506784"
             },
             "line": {
              "color": "rgb(17,17,17)"
             }
            },
            "header": {
             "fill": {
              "color": "#2a3f5f"
             },
             "line": {
              "color": "rgb(17,17,17)"
             }
            },
            "type": "table"
           }
          ]
         },
         "layout": {
          "annotationdefaults": {
           "arrowcolor": "#f2f5fa",
           "arrowhead": 0,
           "arrowwidth": 1
          },
          "autotypenumbers": "strict",
          "coloraxis": {
           "colorbar": {
            "outlinewidth": 0,
            "ticks": ""
           }
          },
          "colorscale": {
           "diverging": [
            [
             0,
             "#8e0152"
            ],
            [
             0.1,
             "#c51b7d"
            ],
            [
             0.2,
             "#de77ae"
            ],
            [
             0.3,
             "#f1b6da"
            ],
            [
             0.4,
             "#fde0ef"
            ],
            [
             0.5,
             "#f7f7f7"
            ],
            [
             0.6,
             "#e6f5d0"
            ],
            [
             0.7,
             "#b8e186"
            ],
            [
             0.8,
             "#7fbc41"
            ],
            [
             0.9,
             "#4d9221"
            ],
            [
             1,
             "#276419"
            ]
           ],
           "sequential": [
            [
             0,
             "#0d0887"
            ],
            [
             0.1111111111111111,
             "#46039f"
            ],
            [
             0.2222222222222222,
             "#7201a8"
            ],
            [
             0.3333333333333333,
             "#9c179e"
            ],
            [
             0.4444444444444444,
             "#bd3786"
            ],
            [
             0.5555555555555556,
             "#d8576b"
            ],
            [
             0.6666666666666666,
             "#ed7953"
            ],
            [
             0.7777777777777778,
             "#fb9f3a"
            ],
            [
             0.8888888888888888,
             "#fdca26"
            ],
            [
             1,
             "#f0f921"
            ]
           ],
           "sequentialminus": [
            [
             0,
             "#0d0887"
            ],
            [
             0.1111111111111111,
             "#46039f"
            ],
            [
             0.2222222222222222,
             "#7201a8"
            ],
            [
             0.3333333333333333,
             "#9c179e"
            ],
            [
             0.4444444444444444,
             "#bd3786"
            ],
            [
             0.5555555555555556,
             "#d8576b"
            ],
            [
             0.6666666666666666,
             "#ed7953"
            ],
            [
             0.7777777777777778,
             "#fb9f3a"
            ],
            [
             0.8888888888888888,
             "#fdca26"
            ],
            [
             1,
             "#f0f921"
            ]
           ]
          },
          "colorway": [
           "#636efa",
           "#EF553B",
           "#00cc96",
           "#ab63fa",
           "#FFA15A",
           "#19d3f3",
           "#FF6692",
           "#B6E880",
           "#FF97FF",
           "#FECB52"
          ],
          "font": {
           "color": "#f2f5fa"
          },
          "geo": {
           "bgcolor": "rgb(17,17,17)",
           "lakecolor": "rgb(17,17,17)",
           "landcolor": "rgb(17,17,17)",
           "showlakes": true,
           "showland": true,
           "subunitcolor": "#506784"
          },
          "hoverlabel": {
           "align": "left"
          },
          "hovermode": "closest",
          "mapbox": {
           "style": "dark"
          },
          "paper_bgcolor": "rgb(17,17,17)",
          "plot_bgcolor": "rgb(17,17,17)",
          "polar": {
           "angularaxis": {
            "gridcolor": "#506784",
            "linecolor": "#506784",
            "ticks": ""
           },
           "bgcolor": "rgb(17,17,17)",
           "radialaxis": {
            "gridcolor": "#506784",
            "linecolor": "#506784",
            "ticks": ""
           }
          },
          "scene": {
           "xaxis": {
            "backgroundcolor": "rgb(17,17,17)",
            "gridcolor": "#506784",
            "gridwidth": 2,
            "linecolor": "#506784",
            "showbackground": true,
            "ticks": "",
            "zerolinecolor": "#C8D4E3"
           },
           "yaxis": {
            "backgroundcolor": "rgb(17,17,17)",
            "gridcolor": "#506784",
            "gridwidth": 2,
            "linecolor": "#506784",
            "showbackground": true,
            "ticks": "",
            "zerolinecolor": "#C8D4E3"
           },
           "zaxis": {
            "backgroundcolor": "rgb(17,17,17)",
            "gridcolor": "#506784",
            "gridwidth": 2,
            "linecolor": "#506784",
            "showbackground": true,
            "ticks": "",
            "zerolinecolor": "#C8D4E3"
           }
          },
          "shapedefaults": {
           "line": {
            "color": "#f2f5fa"
           }
          },
          "sliderdefaults": {
           "bgcolor": "#C8D4E3",
           "bordercolor": "rgb(17,17,17)",
           "borderwidth": 1,
           "tickwidth": 0
          },
          "ternary": {
           "aaxis": {
            "gridcolor": "#506784",
            "linecolor": "#506784",
            "ticks": ""
           },
           "baxis": {
            "gridcolor": "#506784",
            "linecolor": "#506784",
            "ticks": ""
           },
           "bgcolor": "rgb(17,17,17)",
           "caxis": {
            "gridcolor": "#506784",
            "linecolor": "#506784",
            "ticks": ""
           }
          },
          "title": {
           "x": 0.05
          },
          "updatemenudefaults": {
           "bgcolor": "#506784",
           "borderwidth": 0
          },
          "xaxis": {
           "automargin": true,
           "gridcolor": "#283442",
           "linecolor": "#506784",
           "ticks": "",
           "title": {
            "standoff": 15
           },
           "zerolinecolor": "#283442",
           "zerolinewidth": 2
          },
          "yaxis": {
           "automargin": true,
           "gridcolor": "#283442",
           "linecolor": "#506784",
           "ticks": "",
           "title": {
            "standoff": 15
           },
           "zerolinecolor": "#283442",
           "zerolinewidth": 2
          }
         }
        },
        "title": {
         "text": "Biểu đồ thể hiện số ca mắc và tử vong mới theo ngày kể từ đầu đại dịch"
        },
        "width": 1200,
        "xaxis": {
         "anchor": "y",
         "domain": [
          0,
          1
         ]
        },
        "xaxis2": {
         "anchor": "y2",
         "domain": [
          0,
          1
         ]
        },
        "yaxis": {
         "anchor": "x",
         "domain": [
          0.625,
          1
         ]
        },
        "yaxis2": {
         "anchor": "x2",
         "domain": [
          0,
          0.375
         ]
        }
       }
      }
     },
     "metadata": {},
     "output_type": "display_data"
    }
   ],
   "source": [
    "plot_sub_lines(covid_world_df, 'Date', 'NewCases', 'NewDeaths', \"Biểu đồ thể hiện số ca mắc và tử vong mới theo ngày kể từ đầu đại dịch\")"
   ]
  },
  {
   "cell_type": "markdown",
   "metadata": {},
   "source": [
    "Vào khoảng cuối năm 2021, biến thể Omicron xuất hiện làm gia tăng nhanh số ca nhiễm mỗi ngày nhưng số ca tử vong theo ngày của biến thể này không cao so với biến thể Delta xuất hiện trước đó. Có lẽ do khi biến thể Omicron xuất hiện thì độ bao phủ vaccine trên thế giới cũng đã tăng cao."
   ]
  },
  {
   "cell_type": "code",
   "execution_count": 264,
   "metadata": {},
   "outputs": [
    {
     "data": {
      "application/vnd.plotly.v1+json": {
       "config": {
        "plotlyServerURL": "https://plot.ly"
       },
       "data": [
        {
         "fillpattern": {
          "shape": ""
         },
         "hovertemplate": "Case=TotalCases<br>Date=%{x}<br>Count=%{y}<extra></extra>",
         "legendgroup": "TotalCases",
         "line": {
          "color": "orange"
         },
         "marker": {
          "symbol": "circle"
         },
         "mode": "lines",
         "name": "TotalCases",
         "orientation": "v",
         "showlegend": true,
         "stackgroup": "1",
         "type": "scatter",
         "x": [
          "2020-01-22",
          "2020-01-23",
          "2020-01-24",
          "2020-01-25",
          "2020-01-26",
          "2020-01-27",
          "2020-01-28",
          "2020-01-29",
          "2020-01-30",
          "2020-01-31",
          "2020-02-01",
          "2020-02-02",
          "2020-02-03",
          "2020-02-04",
          "2020-02-05",
          "2020-02-06",
          "2020-02-07",
          "2020-02-08",
          "2020-02-09",
          "2020-02-10",
          "2020-02-11",
          "2020-02-12",
          "2020-02-13",
          "2020-02-14",
          "2020-02-15",
          "2020-02-16",
          "2020-02-17",
          "2020-02-18",
          "2020-02-19",
          "2020-02-20",
          "2020-02-21",
          "2020-02-22",
          "2020-02-23",
          "2020-02-24",
          "2020-02-25",
          "2020-02-26",
          "2020-02-27",
          "2020-02-28",
          "2020-02-29",
          "2020-03-01",
          "2020-03-02",
          "2020-03-03",
          "2020-03-04",
          "2020-03-05",
          "2020-03-06",
          "2020-03-07",
          "2020-03-08",
          "2020-03-09",
          "2020-03-10",
          "2020-03-11",
          "2020-03-12",
          "2020-03-13",
          "2020-03-14",
          "2020-03-15",
          "2020-03-16",
          "2020-03-17",
          "2020-03-18",
          "2020-03-19",
          "2020-03-20",
          "2020-03-21",
          "2020-03-22",
          "2020-03-23",
          "2020-03-24",
          "2020-03-25",
          "2020-03-26",
          "2020-03-27",
          "2020-03-28",
          "2020-03-29",
          "2020-03-30",
          "2020-03-31",
          "2020-04-01",
          "2020-04-02",
          "2020-04-03",
          "2020-04-04",
          "2020-04-05",
          "2020-04-06",
          "2020-04-07",
          "2020-04-08",
          "2020-04-09",
          "2020-04-10",
          "2020-04-11",
          "2020-04-12",
          "2020-04-13",
          "2020-04-14",
          "2020-04-15",
          "2020-04-16",
          "2020-04-17",
          "2020-04-18",
          "2020-04-19",
          "2020-04-20",
          "2020-04-21",
          "2020-04-22",
          "2020-04-23",
          "2020-04-24",
          "2020-04-25",
          "2020-04-26",
          "2020-04-27",
          "2020-04-28",
          "2020-04-29",
          "2020-04-30",
          "2020-05-01",
          "2020-05-02",
          "2020-05-03",
          "2020-05-04",
          "2020-05-05",
          "2020-05-06",
          "2020-05-07",
          "2020-05-08",
          "2020-05-09",
          "2020-05-10",
          "2020-05-11",
          "2020-05-12",
          "2020-05-13",
          "2020-05-14",
          "2020-05-15",
          "2020-05-16",
          "2020-05-17",
          "2020-05-18",
          "2020-05-19",
          "2020-05-20",
          "2020-05-21",
          "2020-05-22",
          "2020-05-23",
          "2020-05-24",
          "2020-05-25",
          "2020-05-26",
          "2020-05-27",
          "2020-05-28",
          "2020-05-29",
          "2020-05-30",
          "2020-05-31",
          "2020-06-01",
          "2020-06-02",
          "2020-06-03",
          "2020-06-04",
          "2020-06-05",
          "2020-06-06",
          "2020-06-07",
          "2020-06-08",
          "2020-06-09",
          "2020-06-10",
          "2020-06-11",
          "2020-06-12",
          "2020-06-13",
          "2020-06-14",
          "2020-06-15",
          "2020-06-16",
          "2020-06-17",
          "2020-06-18",
          "2020-06-19",
          "2020-06-20",
          "2020-06-21",
          "2020-06-22",
          "2020-06-23",
          "2020-06-24",
          "2020-06-25",
          "2020-06-26",
          "2020-06-27",
          "2020-06-28",
          "2020-06-29",
          "2020-06-30",
          "2020-07-01",
          "2020-07-02",
          "2020-07-03",
          "2020-07-04",
          "2020-07-05",
          "2020-07-06",
          "2020-07-07",
          "2020-07-08",
          "2020-07-09",
          "2020-07-10",
          "2020-07-11",
          "2020-07-12",
          "2020-07-13",
          "2020-07-14",
          "2020-07-15",
          "2020-07-16",
          "2020-07-17",
          "2020-07-18",
          "2020-07-19",
          "2020-07-20",
          "2020-07-21",
          "2020-07-22",
          "2020-07-23",
          "2020-07-24",
          "2020-07-25",
          "2020-07-26",
          "2020-07-27",
          "2020-07-28",
          "2020-07-29",
          "2020-07-30",
          "2020-07-31",
          "2020-08-01",
          "2020-08-02",
          "2020-08-03",
          "2020-08-04",
          "2020-08-05",
          "2020-08-06",
          "2020-08-07",
          "2020-08-08",
          "2020-08-09",
          "2020-08-10",
          "2020-08-11",
          "2020-08-12",
          "2020-08-13",
          "2020-08-14",
          "2020-08-15",
          "2020-08-16",
          "2020-08-17",
          "2020-08-18",
          "2020-08-19",
          "2020-08-20",
          "2020-08-21",
          "2020-08-22",
          "2020-08-23",
          "2020-08-24",
          "2020-08-25",
          "2020-08-26",
          "2020-08-27",
          "2020-08-28",
          "2020-08-29",
          "2020-08-30",
          "2020-08-31",
          "2020-09-01",
          "2020-09-02",
          "2020-09-03",
          "2020-09-04",
          "2020-09-05",
          "2020-09-06",
          "2020-09-07",
          "2020-09-08",
          "2020-09-09",
          "2020-09-10",
          "2020-09-11",
          "2020-09-12",
          "2020-09-13",
          "2020-09-14",
          "2020-09-15",
          "2020-09-16",
          "2020-09-17",
          "2020-09-18",
          "2020-09-19",
          "2020-09-20",
          "2020-09-21",
          "2020-09-22",
          "2020-09-23",
          "2020-09-24",
          "2020-09-25",
          "2020-09-26",
          "2020-09-27",
          "2020-09-28",
          "2020-09-29",
          "2020-09-30",
          "2020-10-01",
          "2020-10-02",
          "2020-10-03",
          "2020-10-04",
          "2020-10-05",
          "2020-10-06",
          "2020-10-07",
          "2020-10-08",
          "2020-10-09",
          "2020-10-10",
          "2020-10-11",
          "2020-10-12",
          "2020-10-13",
          "2020-10-14",
          "2020-10-15",
          "2020-10-16",
          "2020-10-17",
          "2020-10-18",
          "2020-10-19",
          "2020-10-20",
          "2020-10-21",
          "2020-10-22",
          "2020-10-23",
          "2020-10-24",
          "2020-10-25",
          "2020-10-26",
          "2020-10-27",
          "2020-10-28",
          "2020-10-29",
          "2020-10-30",
          "2020-10-31",
          "2020-11-01",
          "2020-11-02",
          "2020-11-03",
          "2020-11-04",
          "2020-11-05",
          "2020-11-06",
          "2020-11-07",
          "2020-11-08",
          "2020-11-09",
          "2020-11-10",
          "2020-11-11",
          "2020-11-12",
          "2020-11-13",
          "2020-11-14",
          "2020-11-15",
          "2020-11-16",
          "2020-11-17",
          "2020-11-18",
          "2020-11-19",
          "2020-11-20",
          "2020-11-21",
          "2020-11-22",
          "2020-11-23",
          "2020-11-24",
          "2020-11-25",
          "2020-11-26",
          "2020-11-27",
          "2020-11-28",
          "2020-11-29",
          "2020-11-30",
          "2020-12-01",
          "2020-12-02",
          "2020-12-03",
          "2020-12-04",
          "2020-12-05",
          "2020-12-06",
          "2020-12-07",
          "2020-12-08",
          "2020-12-09",
          "2020-12-10",
          "2020-12-11",
          "2020-12-12",
          "2020-12-13",
          "2020-12-14",
          "2020-12-15",
          "2020-12-16",
          "2020-12-17",
          "2020-12-18",
          "2020-12-19",
          "2020-12-20",
          "2020-12-21",
          "2020-12-22",
          "2020-12-23",
          "2020-12-24",
          "2020-12-25",
          "2020-12-26",
          "2020-12-27",
          "2020-12-28",
          "2020-12-29",
          "2020-12-30",
          "2020-12-31",
          "2021-01-01",
          "2021-01-02",
          "2021-01-03",
          "2021-01-04",
          "2021-01-05",
          "2021-01-06",
          "2021-01-07",
          "2021-01-08",
          "2021-01-09",
          "2021-01-10",
          "2021-01-11",
          "2021-01-12",
          "2021-01-13",
          "2021-01-14",
          "2021-01-15",
          "2021-01-16",
          "2021-01-17",
          "2021-01-18",
          "2021-01-19",
          "2021-01-20",
          "2021-01-21",
          "2021-01-22",
          "2021-01-23",
          "2021-01-24",
          "2021-01-25",
          "2021-01-26",
          "2021-01-27",
          "2021-01-28",
          "2021-01-29",
          "2021-01-30",
          "2021-01-31",
          "2021-02-01",
          "2021-02-02",
          "2021-02-03",
          "2021-02-04",
          "2021-02-05",
          "2021-02-06",
          "2021-02-07",
          "2021-02-08",
          "2021-02-09",
          "2021-02-10",
          "2021-02-11",
          "2021-02-12",
          "2021-02-13",
          "2021-02-14",
          "2021-02-15",
          "2021-02-16",
          "2021-02-17",
          "2021-02-18",
          "2021-02-19",
          "2021-02-20",
          "2021-02-21",
          "2021-02-22",
          "2021-02-23",
          "2021-02-24",
          "2021-02-25",
          "2021-02-26",
          "2021-02-27",
          "2021-02-28",
          "2021-03-01",
          "2021-03-02",
          "2021-03-03",
          "2021-03-04",
          "2021-03-05",
          "2021-03-06",
          "2021-03-07",
          "2021-03-08",
          "2021-03-09",
          "2021-03-10",
          "2021-03-11",
          "2021-03-12",
          "2021-03-13",
          "2021-03-14",
          "2021-03-15",
          "2021-03-16",
          "2021-03-17",
          "2021-03-18",
          "2021-03-19",
          "2021-03-20",
          "2021-03-21",
          "2021-03-22",
          "2021-03-23",
          "2021-03-24",
          "2021-03-25",
          "2021-03-26",
          "2021-03-27",
          "2021-03-28",
          "2021-03-29",
          "2021-03-30",
          "2021-03-31",
          "2021-04-01",
          "2021-04-02",
          "2021-04-03",
          "2021-04-04",
          "2021-04-05",
          "2021-04-06",
          "2021-04-07",
          "2021-04-08",
          "2021-04-09",
          "2021-04-10",
          "2021-04-11",
          "2021-04-12",
          "2021-04-13",
          "2021-04-14",
          "2021-04-15",
          "2021-04-16",
          "2021-04-17",
          "2021-04-18",
          "2021-04-19",
          "2021-04-20",
          "2021-04-21",
          "2021-04-22",
          "2021-04-23",
          "2021-04-24",
          "2021-04-25",
          "2021-04-26",
          "2021-04-27",
          "2021-04-28",
          "2021-04-29",
          "2021-04-30",
          "2021-05-01",
          "2021-05-02",
          "2021-05-03",
          "2021-05-04",
          "2021-05-05",
          "2021-05-06",
          "2021-05-07",
          "2021-05-08",
          "2021-05-09",
          "2021-05-10",
          "2021-05-11",
          "2021-05-12",
          "2021-05-13",
          "2021-05-14",
          "2021-05-15",
          "2021-05-16",
          "2021-05-17",
          "2021-05-18",
          "2021-05-19",
          "2021-05-20",
          "2021-05-21",
          "2021-05-22",
          "2021-05-23",
          "2021-05-24",
          "2021-05-25",
          "2021-05-26",
          "2021-05-27",
          "2021-05-28",
          "2021-05-29",
          "2021-05-30",
          "2021-05-31",
          "2021-06-01",
          "2021-06-02",
          "2021-06-03",
          "2021-06-04",
          "2021-06-05",
          "2021-06-06",
          "2021-06-07",
          "2021-06-08",
          "2021-06-09",
          "2021-06-10",
          "2021-06-11",
          "2021-06-12",
          "2021-06-13",
          "2021-06-14",
          "2021-06-15",
          "2021-06-16",
          "2021-06-17",
          "2021-06-18",
          "2021-06-19",
          "2021-06-20",
          "2021-06-21",
          "2021-06-22",
          "2021-06-23",
          "2021-06-24",
          "2021-06-25",
          "2021-06-26",
          "2021-06-27",
          "2021-06-28",
          "2021-06-29",
          "2021-06-30",
          "2021-07-01",
          "2021-07-02",
          "2021-07-03",
          "2021-07-04",
          "2021-07-05",
          "2021-07-06",
          "2021-07-07",
          "2021-07-08",
          "2021-07-09",
          "2021-07-10",
          "2021-07-11",
          "2021-07-12",
          "2021-07-13",
          "2021-07-14",
          "2021-07-15",
          "2021-07-16",
          "2021-07-17",
          "2021-07-18",
          "2021-07-19",
          "2021-07-20",
          "2021-07-21",
          "2021-07-22",
          "2021-07-23",
          "2021-07-24",
          "2021-07-25",
          "2021-07-26",
          "2021-07-27",
          "2021-07-28",
          "2021-07-29",
          "2021-07-30",
          "2021-07-31",
          "2021-08-01",
          "2021-08-02",
          "2021-08-03",
          "2021-08-04",
          "2021-08-05",
          "2021-08-06",
          "2021-08-07",
          "2021-08-08",
          "2021-08-09",
          "2021-08-10",
          "2021-08-11",
          "2021-08-12",
          "2021-08-13",
          "2021-08-14",
          "2021-08-15",
          "2021-08-16",
          "2021-08-17",
          "2021-08-18",
          "2021-08-19",
          "2021-08-20",
          "2021-08-21",
          "2021-08-22",
          "2021-08-23",
          "2021-08-24",
          "2021-08-25",
          "2021-08-26",
          "2021-08-27",
          "2021-08-28",
          "2021-08-29",
          "2021-08-30",
          "2021-08-31",
          "2021-09-01",
          "2021-09-02",
          "2021-09-03",
          "2021-09-04",
          "2021-09-05",
          "2021-09-06",
          "2021-09-07",
          "2021-09-08",
          "2021-09-09",
          "2021-09-10",
          "2021-09-11",
          "2021-09-12",
          "2021-09-13",
          "2021-09-14",
          "2021-09-15",
          "2021-09-16",
          "2021-09-17",
          "2021-09-18",
          "2021-09-19",
          "2021-09-20",
          "2021-09-21",
          "2021-09-22",
          "2021-09-23",
          "2021-09-24",
          "2021-09-25",
          "2021-09-26",
          "2021-09-27",
          "2021-09-28",
          "2021-09-29",
          "2021-09-30",
          "2021-10-01",
          "2021-10-02",
          "2021-10-03",
          "2021-10-04",
          "2021-10-05",
          "2021-10-06",
          "2021-10-07",
          "2021-10-08",
          "2021-10-09",
          "2021-10-10",
          "2021-10-11",
          "2021-10-12",
          "2021-10-13",
          "2021-10-14",
          "2021-10-15",
          "2021-10-16",
          "2021-10-17",
          "2021-10-18",
          "2021-10-19",
          "2021-10-20",
          "2021-10-21",
          "2021-10-22",
          "2021-10-23",
          "2021-10-24",
          "2021-10-25",
          "2021-10-26",
          "2021-10-27",
          "2021-10-28",
          "2021-10-29",
          "2021-10-30",
          "2021-10-31",
          "2021-11-01",
          "2021-11-02",
          "2021-11-03",
          "2021-11-04",
          "2021-11-05",
          "2021-11-06",
          "2021-11-07",
          "2021-11-08",
          "2021-11-09",
          "2021-11-10",
          "2021-11-11",
          "2021-11-12",
          "2021-11-13",
          "2021-11-14",
          "2021-11-15",
          "2021-11-16",
          "2021-11-17",
          "2021-11-18",
          "2021-11-19",
          "2021-11-20",
          "2021-11-21",
          "2021-11-22",
          "2021-11-23",
          "2021-11-24",
          "2021-11-25",
          "2021-11-26",
          "2021-11-27",
          "2021-11-28",
          "2021-11-29",
          "2021-11-30",
          "2021-12-01",
          "2021-12-02",
          "2021-12-03",
          "2021-12-04",
          "2021-12-05",
          "2021-12-06",
          "2021-12-07",
          "2021-12-08",
          "2021-12-09",
          "2021-12-10",
          "2021-12-11",
          "2021-12-12",
          "2021-12-13",
          "2021-12-14",
          "2021-12-15",
          "2021-12-16",
          "2021-12-17",
          "2021-12-18",
          "2021-12-19",
          "2021-12-20",
          "2021-12-21",
          "2021-12-22",
          "2021-12-23",
          "2021-12-24",
          "2021-12-25",
          "2021-12-26",
          "2021-12-27",
          "2021-12-28",
          "2021-12-29",
          "2021-12-30",
          "2021-12-31",
          "2022-01-01",
          "2022-01-02",
          "2022-01-03",
          "2022-01-04",
          "2022-01-05",
          "2022-01-06",
          "2022-01-07",
          "2022-01-08",
          "2022-01-09",
          "2022-01-10",
          "2022-01-11",
          "2022-01-12",
          "2022-01-13",
          "2022-01-14",
          "2022-01-15",
          "2022-01-16",
          "2022-01-17",
          "2022-01-18",
          "2022-01-19",
          "2022-01-20",
          "2022-01-21",
          "2022-01-22",
          "2022-01-23",
          "2022-01-24",
          "2022-01-25",
          "2022-01-26",
          "2022-01-27",
          "2022-01-28",
          "2022-01-29",
          "2022-01-30",
          "2022-01-31",
          "2022-02-01",
          "2022-02-02",
          "2022-02-03",
          "2022-02-04",
          "2022-02-05",
          "2022-02-06",
          "2022-02-07",
          "2022-02-08",
          "2022-02-09",
          "2022-02-10",
          "2022-02-11",
          "2022-02-12",
          "2022-02-13",
          "2022-02-14",
          "2022-02-15",
          "2022-02-16",
          "2022-02-17",
          "2022-02-18",
          "2022-02-19",
          "2022-02-20",
          "2022-02-21",
          "2022-02-22",
          "2022-02-23",
          "2022-02-24",
          "2022-02-25",
          "2022-02-26",
          "2022-02-27",
          "2022-02-28",
          "2022-03-01",
          "2022-03-02",
          "2022-03-03",
          "2022-03-04",
          "2022-03-05"
         ],
         "xaxis": "x",
         "y": [
          557,
          657,
          944,
          1437,
          2120,
          2929,
          5580,
          6169,
          8237,
          9927,
          12038,
          16787,
          19887,
          23899,
          27644,
          30806,
          34400,
          37131,
          40162,
          42771,
          44814,
          45232,
          60384,
          66912,
          69055,
          71238,
          73273,
          75155,
          75655,
          76216,
          76846,
          78608,
          78990,
          79558,
          80413,
          81391,
          82750,
          84149,
          86043,
          88423,
          90402,
          93012,
          95351,
          98179,
          102112,
          106237,
          110165,
          114363,
          119269,
          126969,
          133092,
          147286,
          158407,
          169833,
          184654,
          200792,
          220476,
          247784,
          278898,
          310973,
          346158,
          389183,
          430433,
          481767,
          544842,
          609932,
          679608,
          736274,
          801562,
          878757,
          961093,
          1043933,
          1127888,
          1186798,
          1256876,
          1330835,
          1400270,
          1483782,
          1570419,
          1655658,
          1729610,
          1848636,
          1919805,
          2003569,
          2081973,
          2176439,
          2264211,
          2340924,
          2417144,
          2493051,
          2568583,
          2650102,
          2733235,
          2816750,
          2899839,
          2970374,
          3041221,
          3116915,
          3194311,
          3277472,
          3366304,
          3445135,
          3519371,
          3596649,
          3676357,
          3767076,
          3855497,
          3946027,
          4030167,
          4105260,
          4181552,
          4266405,
          4350807,
          4445994,
          4542205,
          4636282,
          4714357,
          4803529,
          4900089,
          5005103,
          5110875,
          5218399,
          5322409,
          5415546,
          5503463,
          5596412,
          5699023,
          5818785,
          5940554,
          6075553,
          6177874,
          6277368,
          6401709,
          6513000,
          6651182,
          6784702,
          6914372,
          7025252,
          7128489,
          7254794,
          7391542,
          7526794,
          7654771,
          7788297,
          7920371,
          8045099,
          8189622,
          8332723,
          8475624,
          8656928,
          8842563,
          8935558,
          9077415,
          9245584,
          9416903,
          9596023,
          9789171,
          9965754,
          10133531,
          10286462,
          10469764,
          10685125,
          10889368,
          11092312,
          11281975,
          11467879,
          11635795,
          11844694,
          12060498,
          12284283,
          12517329,
          12730441,
          12921942,
          13117854,
          13338362,
          13567995,
          13812504,
          14050201,
          14285757,
          14497844,
          14706596,
          14948643,
          15224407,
          15504318,
          15788157,
          16036621,
          16249524,
          16484285,
          16748782,
          17019879,
          17300134,
          17589272,
          17835371,
          18066431,
          18271867,
          18537388,
          18813391,
          19099594,
          19382788,
          19647513,
          19880988,
          20115197,
          20380452,
          20655615,
          20945525,
          21253371,
          21501129,
          21711630,
          21925583,
          22184491,
          22462459,
          22732862,
          22995906,
          23257502,
          23461049,
          23689814,
          23934612,
          24216523,
          24503450,
          24787894,
          25048136,
          25266783,
          25532345,
          25798982,
          26081052,
          26366717,
          26667941,
          26940706,
          27170287,
          27388877,
          27634822,
          27919832,
          28223699,
          28540241,
          28828366,
          29076323,
          29344526,
          29624708,
          29930054,
          30244656,
          30572440,
          30863895,
          31119557,
          31380076,
          31663570,
          31975637,
          32296288,
          32626881,
          32910924,
          33158565,
          33421991,
          33704108,
          34029099,
          34348325,
          34677537,
          34974017,
          35233157,
          35545734,
          35861140,
          36211355,
          36571138,
          36931295,
          37285009,
          37572808,
          37867693,
          38186676,
          38568202,
          38976777,
          39386299,
          39755625,
          40085030,
          40463551,
          40853696,
          41297435,
          41772845,
          42269284,
          42721023,
          43079334,
          43566227,
          44034601,
          44555324,
          45107646,
          45680336,
          46149688,
          46584269,
          47144231,
          47698350,
          48204731,
          48825683,
          49445558,
          50038233,
          50524297,
          51028408,
          51607011,
          52233757,
          52878311,
          53537880,
          54117970,
          54593539,
          55123127,
          55733787,
          56361926,
          57016955,
          57689967,
          58276869,
          58763283,
          59297737,
          59890835,
          60521945,
          61114357,
          61805606,
          62407807,
          62890192,
          63397591,
          64021419,
          64668183,
          65360343,
          66049040,
          66697974,
          67234273,
          67761913,
          68405171,
          69079903,
          70582850,
          71289972,
          71931421,
          72465643,
          73009033,
          73672560,
          74397764,
          75138906,
          75862828,
          76482174,
          77019885,
          77572572,
          78238524,
          78931331,
          79619503,
          80108698,
          80624059,
          81035451,
          81537250,
          82210894,
          82947702,
          83775336,
          84349491,
          84938665,
          85459542,
          86018387,
          86763420,
          87560323,
          88451630,
          89275912,
          90030542,
          90618467,
          91231354,
          91936322,
          92686815,
          93443003,
          94216521,
          94868296,
          95395555,
          95915006,
          96506649,
          97207749,
          97863718,
          98527843,
          99100826,
          99561948,
          100042864,
          100606181,
          101210658,
          101820846,
          102412351,
          102931585,
          103318757,
          103761932,
          104229510,
          104756336,
          105227444,
          105762822,
          106196292,
          106547197,
          106886687,
          107294945,
          107737137,
          108180938,
          108611331,
          108990335,
          109297956,
          109579147,
          109940395,
          110328769,
          110739273,
          111149502,
          111523136,
          111841071,
          112136189,
          112530743,
          112978281,
          113431348,
          113873319,
          114269041,
          114576353,
          114882002,
          115197215,
          115641513,
          116099714,
          116548977,
          116962280,
          117335116,
          117638952,
          118055750,
          118526415,
          119007292,
          119497458,
          119950080,
          120312796,
          120667801,
          121138039,
          121688856,
          122236260,
          122798213,
          123294363,
          123729516,
          124151615,
          124672481,
          125309921,
          125961276,
          126600868,
          127182351,
          127658041,
          128118943,
          128694288,
          129376585,
          130085527,
          130723347,
          131248956,
          131805822,
          132300788,
          132907802,
          133592684,
          134435536,
          135181170,
          135846470,
          136539153,
          137152508,
          137935819,
          138757254,
          139573529,
          140428910,
          141218446,
          141899755,
          142594004,
          143455189,
          144343760,
          145246012,
          146148538,
          146963475,
          147688188,
          148370837,
          149225326,
          150129929,
          151024456,
          151906109,
          152700141,
          153379300,
          154066062,
          154867948,
          155714466,
          156583420,
          157414760,
          158200635,
          158836896,
          159463014,
          160202462,
          160961835,
          161693489,
          162402263,
          163033171,
          163578034,
          164121630,
          164744622,
          165418142,
          165698555,
          166324200,
          166895892,
          167375072,
          167825775,
          168360693,
          168931042,
          169478827,
          169983195,
          170462668,
          170851767,
          171238619,
          171699943,
          172187737,
          172667531,
          173092521,
          173489235,
          173811878,
          174133960,
          174505710,
          174924239,
          175377416,
          175799558,
          176167587,
          176469998,
          176779517,
          177155056,
          177543948,
          177939632,
          178342998,
          178691191,
          178994222,
          179291073,
          179701464,
          180098583,
          180507246,
          180924985,
          181287998,
          181598724,
          181931973,
          182313073,
          182712310,
          183147734,
          183590077,
          183964120,
          184291994,
          184668654,
          185119996,
          185584920,
          186066569,
          186580358,
          187001859,
          187372001,
          187805066,
          188331182,
          188869304,
          189445331,
          190040660,
          190530260,
          190951501,
          191439114,
          191971756,
          192526818,
          193092040,
          193820001,
          194251463,
          194696608,
          195236642,
          195843630,
          196493476,
          197136403,
          197868213,
          198384485,
          198866376,
          199438514,
          200072744,
          200753668,
          201438256,
          202257183,
          202817685,
          203284523,
          203905266,
          204551238,
          205280841,
          205987495,
          206788538,
          207340109,
          207806526,
          208472317,
          209154133,
          209889731,
          210600732,
          211386558,
          211941208,
          212389792,
          213077435,
          213765527,
          214497874,
          215237073,
          215978279,
          216536529,
          216982296,
          217649077,
          218283508,
          219009569,
          219682810,
          220397416,
          220892796,
          221335142,
          221783187,
          222484831,
          223114368,
          223761567,
          224401215,
          224865667,
          225238753,
          225826097,
          226376507,
          226947370,
          227531516,
          228153500,
          228679059,
          229044681,
          229570037,
          230057267,
          230597661,
          231143379,
          231693616,
          232071310,
          232428621,
          232903981,
          233358555,
          233849195,
          234338353,
          234859499,
          235213397,
          235525295,
          235963755,
          236389539,
          236897853,
          237359037,
          237834730,
          238179044,
          238498949,
          238876818,
          239318685,
          239776581,
          240229327,
          240688614,
          241036314,
          241353959,
          241767703,
          242214844,
          242693162,
          243156828,
          243645623,
          244017245,
          244333642,
          244761200,
          245210786,
          245730866,
          246194723,
          246703694,
          247093028,
          247438814,
          247859822,
          248285990,
          248824256,
          249348115,
          249868848,
          250295798,
          250645251,
          251122737,
          251611062,
          252200197,
          252718657,
          253314534,
          253744351,
          254107831,
          254646412,
          255173243,
          255807426,
          256422659,
          257043152,
          257524162,
          257927729,
          258547546,
          259160484,
          259833620,
          260430365,
          261029091,
          261489852,
          261898573,
          262552231,
          263175580,
          263888511,
          264594947,
          265312157,
          265825564,
          266264895,
          266856128,
          267553468,
          268224149,
          268951749,
          269639791,
          270138756,
          270577966,
          271203915,
          271863289,
          272608241,
          273345543,
          274078003,
          274659080,
          275140292,
          275885024,
          276682248,
          277589189,
          278586165,
          279442152,
          280135483,
          280714115,
          281995333,
          283326386,
          285050606,
          286991136,
          288706144,
          289900771,
          290812629,
          293235405,
          295760424,
          298325348,
          300958204,
          303884960,
          306028333,
          308040272,
          311204924,
          314293551,
          317813230,
          320982970,
          324263328,
          326712193,
          328858889,
          331556090,
          335344177,
          339550511,
          343241840,
          347052682,
          349771587,
          352189371,
          355665747,
          359325139,
          363155918,
          366851129,
          370451646,
          373106362,
          375368785,
          378944936,
          382241839,
          385456537,
          388619482,
          391544060,
          393769188,
          395585645,
          398129218,
          400971434,
          403426935,
          406193753,
          408580402,
          410407905,
          411859218,
          413649333,
          415434675,
          417851776,
          419885575,
          421825575,
          423377732,
          424644081,
          426101623,
          427907496,
          429847016,
          431602462,
          433194282,
          434523055,
          435588284,
          436991765,
          438528632,
          440180084,
          442067549,
          443767689,
          445129499
         ],
         "yaxis": "y"
        },
        {
         "fillpattern": {
          "shape": ""
         },
         "hovertemplate": "Case=TotalDeaths<br>Date=%{x}<br>Count=%{y}<extra></extra>",
         "legendgroup": "TotalDeaths",
         "line": {
          "color": "red"
         },
         "marker": {
          "symbol": "circle"
         },
         "mode": "lines",
         "name": "TotalDeaths",
         "orientation": "v",
         "showlegend": true,
         "stackgroup": "1",
         "type": "scatter",
         "x": [
          "2020-01-22",
          "2020-01-23",
          "2020-01-24",
          "2020-01-25",
          "2020-01-26",
          "2020-01-27",
          "2020-01-28",
          "2020-01-29",
          "2020-01-30",
          "2020-01-31",
          "2020-02-01",
          "2020-02-02",
          "2020-02-03",
          "2020-02-04",
          "2020-02-05",
          "2020-02-06",
          "2020-02-07",
          "2020-02-08",
          "2020-02-09",
          "2020-02-10",
          "2020-02-11",
          "2020-02-12",
          "2020-02-13",
          "2020-02-14",
          "2020-02-15",
          "2020-02-16",
          "2020-02-17",
          "2020-02-18",
          "2020-02-19",
          "2020-02-20",
          "2020-02-21",
          "2020-02-22",
          "2020-02-23",
          "2020-02-24",
          "2020-02-25",
          "2020-02-26",
          "2020-02-27",
          "2020-02-28",
          "2020-02-29",
          "2020-03-01",
          "2020-03-02",
          "2020-03-03",
          "2020-03-04",
          "2020-03-05",
          "2020-03-06",
          "2020-03-07",
          "2020-03-08",
          "2020-03-09",
          "2020-03-10",
          "2020-03-11",
          "2020-03-12",
          "2020-03-13",
          "2020-03-14",
          "2020-03-15",
          "2020-03-16",
          "2020-03-17",
          "2020-03-18",
          "2020-03-19",
          "2020-03-20",
          "2020-03-21",
          "2020-03-22",
          "2020-03-23",
          "2020-03-24",
          "2020-03-25",
          "2020-03-26",
          "2020-03-27",
          "2020-03-28",
          "2020-03-29",
          "2020-03-30",
          "2020-03-31",
          "2020-04-01",
          "2020-04-02",
          "2020-04-03",
          "2020-04-04",
          "2020-04-05",
          "2020-04-06",
          "2020-04-07",
          "2020-04-08",
          "2020-04-09",
          "2020-04-10",
          "2020-04-11",
          "2020-04-12",
          "2020-04-13",
          "2020-04-14",
          "2020-04-15",
          "2020-04-16",
          "2020-04-17",
          "2020-04-18",
          "2020-04-19",
          "2020-04-20",
          "2020-04-21",
          "2020-04-22",
          "2020-04-23",
          "2020-04-24",
          "2020-04-25",
          "2020-04-26",
          "2020-04-27",
          "2020-04-28",
          "2020-04-29",
          "2020-04-30",
          "2020-05-01",
          "2020-05-02",
          "2020-05-03",
          "2020-05-04",
          "2020-05-05",
          "2020-05-06",
          "2020-05-07",
          "2020-05-08",
          "2020-05-09",
          "2020-05-10",
          "2020-05-11",
          "2020-05-12",
          "2020-05-13",
          "2020-05-14",
          "2020-05-15",
          "2020-05-16",
          "2020-05-17",
          "2020-05-18",
          "2020-05-19",
          "2020-05-20",
          "2020-05-21",
          "2020-05-22",
          "2020-05-23",
          "2020-05-24",
          "2020-05-25",
          "2020-05-26",
          "2020-05-27",
          "2020-05-28",
          "2020-05-29",
          "2020-05-30",
          "2020-05-31",
          "2020-06-01",
          "2020-06-02",
          "2020-06-03",
          "2020-06-04",
          "2020-06-05",
          "2020-06-06",
          "2020-06-07",
          "2020-06-08",
          "2020-06-09",
          "2020-06-10",
          "2020-06-11",
          "2020-06-12",
          "2020-06-13",
          "2020-06-14",
          "2020-06-15",
          "2020-06-16",
          "2020-06-17",
          "2020-06-18",
          "2020-06-19",
          "2020-06-20",
          "2020-06-21",
          "2020-06-22",
          "2020-06-23",
          "2020-06-24",
          "2020-06-25",
          "2020-06-26",
          "2020-06-27",
          "2020-06-28",
          "2020-06-29",
          "2020-06-30",
          "2020-07-01",
          "2020-07-02",
          "2020-07-03",
          "2020-07-04",
          "2020-07-05",
          "2020-07-06",
          "2020-07-07",
          "2020-07-08",
          "2020-07-09",
          "2020-07-10",
          "2020-07-11",
          "2020-07-12",
          "2020-07-13",
          "2020-07-14",
          "2020-07-15",
          "2020-07-16",
          "2020-07-17",
          "2020-07-18",
          "2020-07-19",
          "2020-07-20",
          "2020-07-21",
          "2020-07-22",
          "2020-07-23",
          "2020-07-24",
          "2020-07-25",
          "2020-07-26",
          "2020-07-27",
          "2020-07-28",
          "2020-07-29",
          "2020-07-30",
          "2020-07-31",
          "2020-08-01",
          "2020-08-02",
          "2020-08-03",
          "2020-08-04",
          "2020-08-05",
          "2020-08-06",
          "2020-08-07",
          "2020-08-08",
          "2020-08-09",
          "2020-08-10",
          "2020-08-11",
          "2020-08-12",
          "2020-08-13",
          "2020-08-14",
          "2020-08-15",
          "2020-08-16",
          "2020-08-17",
          "2020-08-18",
          "2020-08-19",
          "2020-08-20",
          "2020-08-21",
          "2020-08-22",
          "2020-08-23",
          "2020-08-24",
          "2020-08-25",
          "2020-08-26",
          "2020-08-27",
          "2020-08-28",
          "2020-08-29",
          "2020-08-30",
          "2020-08-31",
          "2020-09-01",
          "2020-09-02",
          "2020-09-03",
          "2020-09-04",
          "2020-09-05",
          "2020-09-06",
          "2020-09-07",
          "2020-09-08",
          "2020-09-09",
          "2020-09-10",
          "2020-09-11",
          "2020-09-12",
          "2020-09-13",
          "2020-09-14",
          "2020-09-15",
          "2020-09-16",
          "2020-09-17",
          "2020-09-18",
          "2020-09-19",
          "2020-09-20",
          "2020-09-21",
          "2020-09-22",
          "2020-09-23",
          "2020-09-24",
          "2020-09-25",
          "2020-09-26",
          "2020-09-27",
          "2020-09-28",
          "2020-09-29",
          "2020-09-30",
          "2020-10-01",
          "2020-10-02",
          "2020-10-03",
          "2020-10-04",
          "2020-10-05",
          "2020-10-06",
          "2020-10-07",
          "2020-10-08",
          "2020-10-09",
          "2020-10-10",
          "2020-10-11",
          "2020-10-12",
          "2020-10-13",
          "2020-10-14",
          "2020-10-15",
          "2020-10-16",
          "2020-10-17",
          "2020-10-18",
          "2020-10-19",
          "2020-10-20",
          "2020-10-21",
          "2020-10-22",
          "2020-10-23",
          "2020-10-24",
          "2020-10-25",
          "2020-10-26",
          "2020-10-27",
          "2020-10-28",
          "2020-10-29",
          "2020-10-30",
          "2020-10-31",
          "2020-11-01",
          "2020-11-02",
          "2020-11-03",
          "2020-11-04",
          "2020-11-05",
          "2020-11-06",
          "2020-11-07",
          "2020-11-08",
          "2020-11-09",
          "2020-11-10",
          "2020-11-11",
          "2020-11-12",
          "2020-11-13",
          "2020-11-14",
          "2020-11-15",
          "2020-11-16",
          "2020-11-17",
          "2020-11-18",
          "2020-11-19",
          "2020-11-20",
          "2020-11-21",
          "2020-11-22",
          "2020-11-23",
          "2020-11-24",
          "2020-11-25",
          "2020-11-26",
          "2020-11-27",
          "2020-11-28",
          "2020-11-29",
          "2020-11-30",
          "2020-12-01",
          "2020-12-02",
          "2020-12-03",
          "2020-12-04",
          "2020-12-05",
          "2020-12-06",
          "2020-12-07",
          "2020-12-08",
          "2020-12-09",
          "2020-12-10",
          "2020-12-11",
          "2020-12-12",
          "2020-12-13",
          "2020-12-14",
          "2020-12-15",
          "2020-12-16",
          "2020-12-17",
          "2020-12-18",
          "2020-12-19",
          "2020-12-20",
          "2020-12-21",
          "2020-12-22",
          "2020-12-23",
          "2020-12-24",
          "2020-12-25",
          "2020-12-26",
          "2020-12-27",
          "2020-12-28",
          "2020-12-29",
          "2020-12-30",
          "2020-12-31",
          "2021-01-01",
          "2021-01-02",
          "2021-01-03",
          "2021-01-04",
          "2021-01-05",
          "2021-01-06",
          "2021-01-07",
          "2021-01-08",
          "2021-01-09",
          "2021-01-10",
          "2021-01-11",
          "2021-01-12",
          "2021-01-13",
          "2021-01-14",
          "2021-01-15",
          "2021-01-16",
          "2021-01-17",
          "2021-01-18",
          "2021-01-19",
          "2021-01-20",
          "2021-01-21",
          "2021-01-22",
          "2021-01-23",
          "2021-01-24",
          "2021-01-25",
          "2021-01-26",
          "2021-01-27",
          "2021-01-28",
          "2021-01-29",
          "2021-01-30",
          "2021-01-31",
          "2021-02-01",
          "2021-02-02",
          "2021-02-03",
          "2021-02-04",
          "2021-02-05",
          "2021-02-06",
          "2021-02-07",
          "2021-02-08",
          "2021-02-09",
          "2021-02-10",
          "2021-02-11",
          "2021-02-12",
          "2021-02-13",
          "2021-02-14",
          "2021-02-15",
          "2021-02-16",
          "2021-02-17",
          "2021-02-18",
          "2021-02-19",
          "2021-02-20",
          "2021-02-21",
          "2021-02-22",
          "2021-02-23",
          "2021-02-24",
          "2021-02-25",
          "2021-02-26",
          "2021-02-27",
          "2021-02-28",
          "2021-03-01",
          "2021-03-02",
          "2021-03-03",
          "2021-03-04",
          "2021-03-05",
          "2021-03-06",
          "2021-03-07",
          "2021-03-08",
          "2021-03-09",
          "2021-03-10",
          "2021-03-11",
          "2021-03-12",
          "2021-03-13",
          "2021-03-14",
          "2021-03-15",
          "2021-03-16",
          "2021-03-17",
          "2021-03-18",
          "2021-03-19",
          "2021-03-20",
          "2021-03-21",
          "2021-03-22",
          "2021-03-23",
          "2021-03-24",
          "2021-03-25",
          "2021-03-26",
          "2021-03-27",
          "2021-03-28",
          "2021-03-29",
          "2021-03-30",
          "2021-03-31",
          "2021-04-01",
          "2021-04-02",
          "2021-04-03",
          "2021-04-04",
          "2021-04-05",
          "2021-04-06",
          "2021-04-07",
          "2021-04-08",
          "2021-04-09",
          "2021-04-10",
          "2021-04-11",
          "2021-04-12",
          "2021-04-13",
          "2021-04-14",
          "2021-04-15",
          "2021-04-16",
          "2021-04-17",
          "2021-04-18",
          "2021-04-19",
          "2021-04-20",
          "2021-04-21",
          "2021-04-22",
          "2021-04-23",
          "2021-04-24",
          "2021-04-25",
          "2021-04-26",
          "2021-04-27",
          "2021-04-28",
          "2021-04-29",
          "2021-04-30",
          "2021-05-01",
          "2021-05-02",
          "2021-05-03",
          "2021-05-04",
          "2021-05-05",
          "2021-05-06",
          "2021-05-07",
          "2021-05-08",
          "2021-05-09",
          "2021-05-10",
          "2021-05-11",
          "2021-05-12",
          "2021-05-13",
          "2021-05-14",
          "2021-05-15",
          "2021-05-16",
          "2021-05-17",
          "2021-05-18",
          "2021-05-19",
          "2021-05-20",
          "2021-05-21",
          "2021-05-22",
          "2021-05-23",
          "2021-05-24",
          "2021-05-25",
          "2021-05-26",
          "2021-05-27",
          "2021-05-28",
          "2021-05-29",
          "2021-05-30",
          "2021-05-31",
          "2021-06-01",
          "2021-06-02",
          "2021-06-03",
          "2021-06-04",
          "2021-06-05",
          "2021-06-06",
          "2021-06-07",
          "2021-06-08",
          "2021-06-09",
          "2021-06-10",
          "2021-06-11",
          "2021-06-12",
          "2021-06-13",
          "2021-06-14",
          "2021-06-15",
          "2021-06-16",
          "2021-06-17",
          "2021-06-18",
          "2021-06-19",
          "2021-06-20",
          "2021-06-21",
          "2021-06-22",
          "2021-06-23",
          "2021-06-24",
          "2021-06-25",
          "2021-06-26",
          "2021-06-27",
          "2021-06-28",
          "2021-06-29",
          "2021-06-30",
          "2021-07-01",
          "2021-07-02",
          "2021-07-03",
          "2021-07-04",
          "2021-07-05",
          "2021-07-06",
          "2021-07-07",
          "2021-07-08",
          "2021-07-09",
          "2021-07-10",
          "2021-07-11",
          "2021-07-12",
          "2021-07-13",
          "2021-07-14",
          "2021-07-15",
          "2021-07-16",
          "2021-07-17",
          "2021-07-18",
          "2021-07-19",
          "2021-07-20",
          "2021-07-21",
          "2021-07-22",
          "2021-07-23",
          "2021-07-24",
          "2021-07-25",
          "2021-07-26",
          "2021-07-27",
          "2021-07-28",
          "2021-07-29",
          "2021-07-30",
          "2021-07-31",
          "2021-08-01",
          "2021-08-02",
          "2021-08-03",
          "2021-08-04",
          "2021-08-05",
          "2021-08-06",
          "2021-08-07",
          "2021-08-08",
          "2021-08-09",
          "2021-08-10",
          "2021-08-11",
          "2021-08-12",
          "2021-08-13",
          "2021-08-14",
          "2021-08-15",
          "2021-08-16",
          "2021-08-17",
          "2021-08-18",
          "2021-08-19",
          "2021-08-20",
          "2021-08-21",
          "2021-08-22",
          "2021-08-23",
          "2021-08-24",
          "2021-08-25",
          "2021-08-26",
          "2021-08-27",
          "2021-08-28",
          "2021-08-29",
          "2021-08-30",
          "2021-08-31",
          "2021-09-01",
          "2021-09-02",
          "2021-09-03",
          "2021-09-04",
          "2021-09-05",
          "2021-09-06",
          "2021-09-07",
          "2021-09-08",
          "2021-09-09",
          "2021-09-10",
          "2021-09-11",
          "2021-09-12",
          "2021-09-13",
          "2021-09-14",
          "2021-09-15",
          "2021-09-16",
          "2021-09-17",
          "2021-09-18",
          "2021-09-19",
          "2021-09-20",
          "2021-09-21",
          "2021-09-22",
          "2021-09-23",
          "2021-09-24",
          "2021-09-25",
          "2021-09-26",
          "2021-09-27",
          "2021-09-28",
          "2021-09-29",
          "2021-09-30",
          "2021-10-01",
          "2021-10-02",
          "2021-10-03",
          "2021-10-04",
          "2021-10-05",
          "2021-10-06",
          "2021-10-07",
          "2021-10-08",
          "2021-10-09",
          "2021-10-10",
          "2021-10-11",
          "2021-10-12",
          "2021-10-13",
          "2021-10-14",
          "2021-10-15",
          "2021-10-16",
          "2021-10-17",
          "2021-10-18",
          "2021-10-19",
          "2021-10-20",
          "2021-10-21",
          "2021-10-22",
          "2021-10-23",
          "2021-10-24",
          "2021-10-25",
          "2021-10-26",
          "2021-10-27",
          "2021-10-28",
          "2021-10-29",
          "2021-10-30",
          "2021-10-31",
          "2021-11-01",
          "2021-11-02",
          "2021-11-03",
          "2021-11-04",
          "2021-11-05",
          "2021-11-06",
          "2021-11-07",
          "2021-11-08",
          "2021-11-09",
          "2021-11-10",
          "2021-11-11",
          "2021-11-12",
          "2021-11-13",
          "2021-11-14",
          "2021-11-15",
          "2021-11-16",
          "2021-11-17",
          "2021-11-18",
          "2021-11-19",
          "2021-11-20",
          "2021-11-21",
          "2021-11-22",
          "2021-11-23",
          "2021-11-24",
          "2021-11-25",
          "2021-11-26",
          "2021-11-27",
          "2021-11-28",
          "2021-11-29",
          "2021-11-30",
          "2021-12-01",
          "2021-12-02",
          "2021-12-03",
          "2021-12-04",
          "2021-12-05",
          "2021-12-06",
          "2021-12-07",
          "2021-12-08",
          "2021-12-09",
          "2021-12-10",
          "2021-12-11",
          "2021-12-12",
          "2021-12-13",
          "2021-12-14",
          "2021-12-15",
          "2021-12-16",
          "2021-12-17",
          "2021-12-18",
          "2021-12-19",
          "2021-12-20",
          "2021-12-21",
          "2021-12-22",
          "2021-12-23",
          "2021-12-24",
          "2021-12-25",
          "2021-12-26",
          "2021-12-27",
          "2021-12-28",
          "2021-12-29",
          "2021-12-30",
          "2021-12-31",
          "2022-01-01",
          "2022-01-02",
          "2022-01-03",
          "2022-01-04",
          "2022-01-05",
          "2022-01-06",
          "2022-01-07",
          "2022-01-08",
          "2022-01-09",
          "2022-01-10",
          "2022-01-11",
          "2022-01-12",
          "2022-01-13",
          "2022-01-14",
          "2022-01-15",
          "2022-01-16",
          "2022-01-17",
          "2022-01-18",
          "2022-01-19",
          "2022-01-20",
          "2022-01-21",
          "2022-01-22",
          "2022-01-23",
          "2022-01-24",
          "2022-01-25",
          "2022-01-26",
          "2022-01-27",
          "2022-01-28",
          "2022-01-29",
          "2022-01-30",
          "2022-01-31",
          "2022-02-01",
          "2022-02-02",
          "2022-02-03",
          "2022-02-04",
          "2022-02-05",
          "2022-02-06",
          "2022-02-07",
          "2022-02-08",
          "2022-02-09",
          "2022-02-10",
          "2022-02-11",
          "2022-02-12",
          "2022-02-13",
          "2022-02-14",
          "2022-02-15",
          "2022-02-16",
          "2022-02-17",
          "2022-02-18",
          "2022-02-19",
          "2022-02-20",
          "2022-02-21",
          "2022-02-22",
          "2022-02-23",
          "2022-02-24",
          "2022-02-25",
          "2022-02-26",
          "2022-02-27",
          "2022-02-28",
          "2022-03-01",
          "2022-03-02",
          "2022-03-03",
          "2022-03-04",
          "2022-03-05"
         ],
         "xaxis": "x",
         "y": [
          17,
          18,
          26,
          42,
          56,
          82,
          131,
          133,
          171,
          213,
          259,
          362,
          426,
          492,
          564,
          634,
          719,
          806,
          906,
          1013,
          1113,
          1118,
          1371,
          1523,
          1666,
          1770,
          1868,
          2008,
          2123,
          2248,
          2252,
          2459,
          2470,
          2630,
          2710,
          2771,
          2814,
          2873,
          2943,
          2997,
          3086,
          3160,
          3255,
          3348,
          3461,
          3566,
          3807,
          3997,
          4273,
          4618,
          4928,
          5422,
          5844,
          6490,
          7183,
          8000,
          8920,
          10038,
          11538,
          13268,
          14958,
          16923,
          19244,
          22079,
          25127,
          28627,
          32482,
          35982,
          40085,
          44853,
          50902,
          56832,
          63080,
          69074,
          74342,
          80332,
          88714,
          95620,
          103502,
          110959,
          117281,
          123276,
          129370,
          136514,
          145090,
          152504,
          161080,
          167329,
          172711,
          178780,
          186144,
          193163,
          200158,
          207057,
          212943,
          217196,
          222106,
          228925,
          235836,
          241881,
          247341,
          253191,
          257032,
          261482,
          267581,
          274445,
          280115,
          286010,
          290562,
          294608,
          298502,
          304344,
          309817,
          315396,
          321030,
          325564,
          329142,
          333294,
          338431,
          343798,
          348757,
          354445,
          358817,
          362292,
          363814,
          368454,
          373823,
          378853,
          384010,
          388287,
          391427,
          395064,
          400348,
          406027,
          411462,
          416583,
          420665,
          423781,
          428116,
          433227,
          438662,
          443742,
          448475,
          452876,
          456535,
          460523,
          467658,
          473139,
          478461,
          484800,
          489244,
          493833,
          497628,
          503210,
          508677,
          513759,
          518839,
          523530,
          527102,
          531123,
          536360,
          541730,
          547207,
          552441,
          557206,
          561005,
          565219,
          571603,
          577235,
          583038,
          588780,
          593884,
          598169,
          602549,
          608536,
          614432,
          620597,
          627588,
          634088,
          638979,
          642900,
          649257,
          656629,
          663271,
          669726,
          675798,
          680151,
          685429,
          692375,
          699026,
          705775,
          712360,
          718362,
          723021,
          727813,
          734985,
          742371,
          749189,
          755932,
          761943,
          767112,
          772475,
          779108,
          786054,
          792846,
          799426,
          805443,
          810229,
          814846,
          821896,
          828904,
          835352,
          841094,
          846904,
          851217,
          856053,
          862626,
          869189,
          875411,
          881238,
          887058,
          891323,
          895748,
          902345,
          908636,
          914740,
          920611,
          925731,
          929853,
          939463,
          944600,
          950858,
          956876,
          962879,
          967935,
          971888,
          976481,
          983057,
          988935,
          994585,
          1000443,
          1005761,
          1009728,
          1014138,
          1020309,
          1026857,
          1032543,
          1038561,
          1044003,
          1047854,
          1051935,
          1058041,
          1064503,
          1073409,
          1079012,
          1083744,
          1087735,
          1094802,
          1100661,
          1106566,
          1112933,
          1119124,
          1124017,
          1128146,
          1132212,
          1137631,
          1143823,
          1150013,
          1156228,
          1161930,
          1165791,
          1170536,
          1177184,
          1184046,
          1189981,
          1197048,
          1202922,
          1207188,
          1212815,
          1220283,
          1227502,
          1234716,
          1242411,
          1249011,
          1254145,
          1260330,
          1269822,
          1279987,
          1288703,
          1297827,
          1305523,
          1311626,
          1318833,
          1328906,
          1339429,
          1349218,
          1358985,
          1368050,
          1374638,
          1382577,
          1393670,
          1405099,
          1416252,
          1428022,
          1437052,
          1444493,
          1453020,
          1465751,
          1477890,
          1488932,
          1500388,
          1509654,
          1516949,
          1525916,
          1538675,
          1551318,
          1563918,
          1576378,
          1586715,
          1594444,
          1603158,
          1615473,
          1628143,
          1640808,
          1653873,
          1664632,
          1672459,
          1681631,
          1695407,
          1709286,
          1722670,
          1735608,
          1746579,
          1754701,
          1764269,
          1778471,
          1792274,
          1804097,
          1812826,
          1820397,
          1828147,
          1837757,
          1852857,
          1868490,
          1881742,
          1891455,
          1899927,
          1907578,
          1917636,
          1933112,
          1948181,
          1963333,
          1978730,
          1991577,
          2000408,
          2010489,
          2027657,
          2044530,
          2060001,
          2075023,
          2088739,
          2097824,
          2107595,
          2124205,
          2142224,
          2159379,
          2175439,
          2189360,
          2198557,
          2209583,
          2226994,
          2244349,
          2261378,
          2276766,
          2290272,
          2299043,
          2309396,
          2324812,
          2340847,
          2353848,
          2370986,
          2382386,
          2389684,
          2399088,
          2414519,
          2428554,
          2442333,
          2455361,
          2465780,
          2472429,
          2479908,
          2491260,
          2503223,
          2515142,
          2526834,
          2535585,
          2542103,
          2549477,
          2561162,
          2573694,
          2584351,
          2595144,
          2603637,
          2609901,
          2617602,
          2628028,
          2639792,
          2650198,
          2660713,
          2668810,
          2674705,
          2681959,
          2692573,
          2702806,
          2713004,
          2722889,
          2731291,
          2737149,
          2744813,
          2755460,
          2766059,
          2776794,
          2787624,
          2796307,
          2804777,
          2812837,
          2824325,
          2835065,
          2846590,
          2859349,
          2869497,
          2876710,
          2885474,
          2897491,
          2910371,
          2922713,
          2933245,
          2942527,
          2949884,
          2958157,
          2970653,
          2986242,
          3000581,
          3014906,
          3027765,
          3036844,
          3046936,
          3060802,
          3074852,
          3088459,
          3101818,
          3114285,
          3123392,
          3134718,
          3149071,
          3163730,
          3177618,
          3192919,
          3205880,
          3216565,
          3228433,
          3243422,
          3259345,
          3275099,
          3289441,
          3302348,
          3312625,
          3324499,
          3338587,
          3353427,
          3368073,
          3382551,
          3395747,
          3406076,
          3417369,
          3431550,
          3445500,
          3459088,
          3472080,
          3484241,
          3494501,
          3505972,
          3520114,
          3533555,
          3546720,
          3559644,
          3570987,
          3580768,
          3589883,
          3603086,
          3615873,
          3628729,
          3640715,
          3651416,
          3659760,
          3668553,
          3683798,
          3695683,
          3705771,
          3716455,
          3725802,
          3733028,
          3741196,
          3751824,
          3761960,
          3777941,
          3789711,
          3799406,
          3808659,
          3816718,
          3827513,
          3837537,
          3846838,
          3856052,
          3864129,
          3870855,
          3877904,
          3886832,
          3896228,
          3904850,
          3914087,
          3921556,
          3927629,
          3934225,
          3942374,
          3951571,
          3960127,
          3968421,
          3975328,
          3981938,
          3989325,
          3997834,
          4006354,
          4015284,
          4023639,
          4030212,
          4037813,
          4045904,
          4054288,
          4062903,
          4071492,
          4080143,
          4087638,
          4094266,
          4101435,
          4122149,
          4130824,
          4139598,
          4147896,
          4156575,
          4163895,
          4172346,
          4182176,
          4192431,
          4202595,
          4212149,
          4220955,
          4228313,
          4236383,
          4246800,
          4257294,
          4268234,
          4278702,
          4287346,
          4294777,
          4303527,
          4315146,
          4325654,
          4336149,
          4346606,
          4355318,
          4362712,
          4372507,
          4383276,
          4394063,
          4405499,
          4416009,
          4424890,
          4432554,
          4442569,
          4453617,
          4464899,
          4476518,
          4486855,
          4495276,
          4501991,
          4511528,
          4520721,
          4533219,
          4544402,
          4555120,
          4562841,
          4569298,
          4577333,
          4587815,
          4597868,
          4608696,
          4617836,
          4626162,
          4631713,
          4640801,
          4650754,
          4661232,
          4671701,
          4680748,
          4687248,
          4693209,
          4701397,
          4710725,
          4720668,
          4730449,
          4739174,
          4744608,
          4750041,
          4757792,
          4767214,
          4776483,
          4785316,
          4793923,
          4799801,
          4804045,
          4811212,
          4818641,
          4827782,
          4836736,
          4844299,
          4849156,
          4853825,
          4859569,
          4867691,
          4876548,
          4884532,
          4891765,
          4897046,
          4901319,
          4907772,
          4916017,
          4924708,
          4932412,
          4940603,
          4946425,
          4950941,
          4957584,
          4965499,
          4974677,
          4983478,
          4991351,
          4997352,
          5001835,
          5008111,
          5015394,
          5023810,
          5031415,
          5040026,
          5046670,
          5051156,
          5057822,
          5066051,
          5074333,
          5081958,
          5091056,
          5097336,
          5101957,
          5108848,
          5116574,
          5125786,
          5134089,
          5142155,
          5148222,
          5152765,
          5160025,
          5168097,
          5176777,
          5184611,
          5191436,
          5197392,
          5202183,
          5209926,
          5217915,
          5227242,
          5237410,
          5246006,
          5251528,
          5258871,
          5265685,
          5274080,
          5282025,
          5290884,
          5299010,
          5304989,
          5309529,
          5316119,
          5323874,
          5333065,
          5340379,
          5347385,
          5353451,
          5357774,
          5364720,
          5372453,
          5380698,
          5390005,
          5395890,
          5400143,
          5403745,
          5410470,
          5417948,
          5425985,
          5433556,
          5440149,
          5444444,
          5447658,
          5453747,
          5461700,
          5469686,
          5477084,
          5484304,
          5489653,
          5493586,
          5500009,
          5509519,
          5518759,
          5526867,
          5534601,
          5540797,
          5545118,
          5551351,
          5560593,
          5571160,
          5580614,
          5590463,
          5596578,
          5601544,
          5610171,
          5620754,
          5631707,
          5642109,
          5654229,
          5662135,
          5667733,
          5677459,
          5691855,
          5704075,
          5715664,
          5728922,
          5737221,
          5743076,
          5753776,
          5767062,
          5780373,
          5792072,
          5804180,
          5812904,
          5817998,
          5828669,
          5839250,
          5852327,
          5865039,
          5875618,
          5884002,
          5889289,
          5896747,
          5906759,
          5918464,
          5929199,
          5938279,
          5944671,
          5949086,
          5956845,
          5964706,
          5972651,
          5981034,
          5989802,
          5995245
         ],
         "yaxis": "y"
        },
        {
         "fillpattern": {
          "shape": ""
         },
         "hovertemplate": "Case=TotalVaccinations<br>Date=%{x}<br>Count=%{y}<extra></extra>",
         "legendgroup": "TotalVaccinations",
         "line": {
          "color": "green"
         },
         "marker": {
          "symbol": "circle"
         },
         "mode": "lines",
         "name": "TotalVaccinations",
         "orientation": "v",
         "showlegend": true,
         "stackgroup": "1",
         "type": "scatter",
         "x": [
          "2020-01-22",
          "2020-01-23",
          "2020-01-24",
          "2020-01-25",
          "2020-01-26",
          "2020-01-27",
          "2020-01-28",
          "2020-01-29",
          "2020-01-30",
          "2020-01-31",
          "2020-02-01",
          "2020-02-02",
          "2020-02-03",
          "2020-02-04",
          "2020-02-05",
          "2020-02-06",
          "2020-02-07",
          "2020-02-08",
          "2020-02-09",
          "2020-02-10",
          "2020-02-11",
          "2020-02-12",
          "2020-02-13",
          "2020-02-14",
          "2020-02-15",
          "2020-02-16",
          "2020-02-17",
          "2020-02-18",
          "2020-02-19",
          "2020-02-20",
          "2020-02-21",
          "2020-02-22",
          "2020-02-23",
          "2020-02-24",
          "2020-02-25",
          "2020-02-26",
          "2020-02-27",
          "2020-02-28",
          "2020-02-29",
          "2020-03-01",
          "2020-03-02",
          "2020-03-03",
          "2020-03-04",
          "2020-03-05",
          "2020-03-06",
          "2020-03-07",
          "2020-03-08",
          "2020-03-09",
          "2020-03-10",
          "2020-03-11",
          "2020-03-12",
          "2020-03-13",
          "2020-03-14",
          "2020-03-15",
          "2020-03-16",
          "2020-03-17",
          "2020-03-18",
          "2020-03-19",
          "2020-03-20",
          "2020-03-21",
          "2020-03-22",
          "2020-03-23",
          "2020-03-24",
          "2020-03-25",
          "2020-03-26",
          "2020-03-27",
          "2020-03-28",
          "2020-03-29",
          "2020-03-30",
          "2020-03-31",
          "2020-04-01",
          "2020-04-02",
          "2020-04-03",
          "2020-04-04",
          "2020-04-05",
          "2020-04-06",
          "2020-04-07",
          "2020-04-08",
          "2020-04-09",
          "2020-04-10",
          "2020-04-11",
          "2020-04-12",
          "2020-04-13",
          "2020-04-14",
          "2020-04-15",
          "2020-04-16",
          "2020-04-17",
          "2020-04-18",
          "2020-04-19",
          "2020-04-20",
          "2020-04-21",
          "2020-04-22",
          "2020-04-23",
          "2020-04-24",
          "2020-04-25",
          "2020-04-26",
          "2020-04-27",
          "2020-04-28",
          "2020-04-29",
          "2020-04-30",
          "2020-05-01",
          "2020-05-02",
          "2020-05-03",
          "2020-05-04",
          "2020-05-05",
          "2020-05-06",
          "2020-05-07",
          "2020-05-08",
          "2020-05-09",
          "2020-05-10",
          "2020-05-11",
          "2020-05-12",
          "2020-05-13",
          "2020-05-14",
          "2020-05-15",
          "2020-05-16",
          "2020-05-17",
          "2020-05-18",
          "2020-05-19",
          "2020-05-20",
          "2020-05-21",
          "2020-05-22",
          "2020-05-23",
          "2020-05-24",
          "2020-05-25",
          "2020-05-26",
          "2020-05-27",
          "2020-05-28",
          "2020-05-29",
          "2020-05-30",
          "2020-05-31",
          "2020-06-01",
          "2020-06-02",
          "2020-06-03",
          "2020-06-04",
          "2020-06-05",
          "2020-06-06",
          "2020-06-07",
          "2020-06-08",
          "2020-06-09",
          "2020-06-10",
          "2020-06-11",
          "2020-06-12",
          "2020-06-13",
          "2020-06-14",
          "2020-06-15",
          "2020-06-16",
          "2020-06-17",
          "2020-06-18",
          "2020-06-19",
          "2020-06-20",
          "2020-06-21",
          "2020-06-22",
          "2020-06-23",
          "2020-06-24",
          "2020-06-25",
          "2020-06-26",
          "2020-06-27",
          "2020-06-28",
          "2020-06-29",
          "2020-06-30",
          "2020-07-01",
          "2020-07-02",
          "2020-07-03",
          "2020-07-04",
          "2020-07-05",
          "2020-07-06",
          "2020-07-07",
          "2020-07-08",
          "2020-07-09",
          "2020-07-10",
          "2020-07-11",
          "2020-07-12",
          "2020-07-13",
          "2020-07-14",
          "2020-07-15",
          "2020-07-16",
          "2020-07-17",
          "2020-07-18",
          "2020-07-19",
          "2020-07-20",
          "2020-07-21",
          "2020-07-22",
          "2020-07-23",
          "2020-07-24",
          "2020-07-25",
          "2020-07-26",
          "2020-07-27",
          "2020-07-28",
          "2020-07-29",
          "2020-07-30",
          "2020-07-31",
          "2020-08-01",
          "2020-08-02",
          "2020-08-03",
          "2020-08-04",
          "2020-08-05",
          "2020-08-06",
          "2020-08-07",
          "2020-08-08",
          "2020-08-09",
          "2020-08-10",
          "2020-08-11",
          "2020-08-12",
          "2020-08-13",
          "2020-08-14",
          "2020-08-15",
          "2020-08-16",
          "2020-08-17",
          "2020-08-18",
          "2020-08-19",
          "2020-08-20",
          "2020-08-21",
          "2020-08-22",
          "2020-08-23",
          "2020-08-24",
          "2020-08-25",
          "2020-08-26",
          "2020-08-27",
          "2020-08-28",
          "2020-08-29",
          "2020-08-30",
          "2020-08-31",
          "2020-09-01",
          "2020-09-02",
          "2020-09-03",
          "2020-09-04",
          "2020-09-05",
          "2020-09-06",
          "2020-09-07",
          "2020-09-08",
          "2020-09-09",
          "2020-09-10",
          "2020-09-11",
          "2020-09-12",
          "2020-09-13",
          "2020-09-14",
          "2020-09-15",
          "2020-09-16",
          "2020-09-17",
          "2020-09-18",
          "2020-09-19",
          "2020-09-20",
          "2020-09-21",
          "2020-09-22",
          "2020-09-23",
          "2020-09-24",
          "2020-09-25",
          "2020-09-26",
          "2020-09-27",
          "2020-09-28",
          "2020-09-29",
          "2020-09-30",
          "2020-10-01",
          "2020-10-02",
          "2020-10-03",
          "2020-10-04",
          "2020-10-05",
          "2020-10-06",
          "2020-10-07",
          "2020-10-08",
          "2020-10-09",
          "2020-10-10",
          "2020-10-11",
          "2020-10-12",
          "2020-10-13",
          "2020-10-14",
          "2020-10-15",
          "2020-10-16",
          "2020-10-17",
          "2020-10-18",
          "2020-10-19",
          "2020-10-20",
          "2020-10-21",
          "2020-10-22",
          "2020-10-23",
          "2020-10-24",
          "2020-10-25",
          "2020-10-26",
          "2020-10-27",
          "2020-10-28",
          "2020-10-29",
          "2020-10-30",
          "2020-10-31",
          "2020-11-01",
          "2020-11-02",
          "2020-11-03",
          "2020-11-04",
          "2020-11-05",
          "2020-11-06",
          "2020-11-07",
          "2020-11-08",
          "2020-11-09",
          "2020-11-10",
          "2020-11-11",
          "2020-11-12",
          "2020-11-13",
          "2020-11-14",
          "2020-11-15",
          "2020-11-16",
          "2020-11-17",
          "2020-11-18",
          "2020-11-19",
          "2020-11-20",
          "2020-11-21",
          "2020-11-22",
          "2020-11-23",
          "2020-11-24",
          "2020-11-25",
          "2020-11-26",
          "2020-11-27",
          "2020-11-28",
          "2020-11-29",
          "2020-11-30",
          "2020-12-01",
          "2020-12-02",
          "2020-12-03",
          "2020-12-04",
          "2020-12-05",
          "2020-12-06",
          "2020-12-07",
          "2020-12-08",
          "2020-12-09",
          "2020-12-10",
          "2020-12-11",
          "2020-12-12",
          "2020-12-13",
          "2020-12-14",
          "2020-12-15",
          "2020-12-16",
          "2020-12-17",
          "2020-12-18",
          "2020-12-19",
          "2020-12-20",
          "2020-12-21",
          "2020-12-22",
          "2020-12-23",
          "2020-12-24",
          "2020-12-25",
          "2020-12-26",
          "2020-12-27",
          "2020-12-28",
          "2020-12-29",
          "2020-12-30",
          "2020-12-31",
          "2021-01-01",
          "2021-01-02",
          "2021-01-03",
          "2021-01-04",
          "2021-01-05",
          "2021-01-06",
          "2021-01-07",
          "2021-01-08",
          "2021-01-09",
          "2021-01-10",
          "2021-01-11",
          "2021-01-12",
          "2021-01-13",
          "2021-01-14",
          "2021-01-15",
          "2021-01-16",
          "2021-01-17",
          "2021-01-18",
          "2021-01-19",
          "2021-01-20",
          "2021-01-21",
          "2021-01-22",
          "2021-01-23",
          "2021-01-24",
          "2021-01-25",
          "2021-01-26",
          "2021-01-27",
          "2021-01-28",
          "2021-01-29",
          "2021-01-30",
          "2021-01-31",
          "2021-02-01",
          "2021-02-02",
          "2021-02-03",
          "2021-02-04",
          "2021-02-05",
          "2021-02-06",
          "2021-02-07",
          "2021-02-08",
          "2021-02-09",
          "2021-02-10",
          "2021-02-11",
          "2021-02-12",
          "2021-02-13",
          "2021-02-14",
          "2021-02-15",
          "2021-02-16",
          "2021-02-17",
          "2021-02-18",
          "2021-02-19",
          "2021-02-20",
          "2021-02-21",
          "2021-02-22",
          "2021-02-23",
          "2021-02-24",
          "2021-02-25",
          "2021-02-26",
          "2021-02-27",
          "2021-02-28",
          "2021-03-01",
          "2021-03-02",
          "2021-03-03",
          "2021-03-04",
          "2021-03-05",
          "2021-03-06",
          "2021-03-07",
          "2021-03-08",
          "2021-03-09",
          "2021-03-10",
          "2021-03-11",
          "2021-03-12",
          "2021-03-13",
          "2021-03-14",
          "2021-03-15",
          "2021-03-16",
          "2021-03-17",
          "2021-03-18",
          "2021-03-19",
          "2021-03-20",
          "2021-03-21",
          "2021-03-22",
          "2021-03-23",
          "2021-03-24",
          "2021-03-25",
          "2021-03-26",
          "2021-03-27",
          "2021-03-28",
          "2021-03-29",
          "2021-03-30",
          "2021-03-31",
          "2021-04-01",
          "2021-04-02",
          "2021-04-03",
          "2021-04-04",
          "2021-04-05",
          "2021-04-06",
          "2021-04-07",
          "2021-04-08",
          "2021-04-09",
          "2021-04-10",
          "2021-04-11",
          "2021-04-12",
          "2021-04-13",
          "2021-04-14",
          "2021-04-15",
          "2021-04-16",
          "2021-04-17",
          "2021-04-18",
          "2021-04-19",
          "2021-04-20",
          "2021-04-21",
          "2021-04-22",
          "2021-04-23",
          "2021-04-24",
          "2021-04-25",
          "2021-04-26",
          "2021-04-27",
          "2021-04-28",
          "2021-04-29",
          "2021-04-30",
          "2021-05-01",
          "2021-05-02",
          "2021-05-03",
          "2021-05-04",
          "2021-05-05",
          "2021-05-06",
          "2021-05-07",
          "2021-05-08",
          "2021-05-09",
          "2021-05-10",
          "2021-05-11",
          "2021-05-12",
          "2021-05-13",
          "2021-05-14",
          "2021-05-15",
          "2021-05-16",
          "2021-05-17",
          "2021-05-18",
          "2021-05-19",
          "2021-05-20",
          "2021-05-21",
          "2021-05-22",
          "2021-05-23",
          "2021-05-24",
          "2021-05-25",
          "2021-05-26",
          "2021-05-27",
          "2021-05-28",
          "2021-05-29",
          "2021-05-30",
          "2021-05-31",
          "2021-06-01",
          "2021-06-02",
          "2021-06-03",
          "2021-06-04",
          "2021-06-05",
          "2021-06-06",
          "2021-06-07",
          "2021-06-08",
          "2021-06-09",
          "2021-06-10",
          "2021-06-11",
          "2021-06-12",
          "2021-06-13",
          "2021-06-14",
          "2021-06-15",
          "2021-06-16",
          "2021-06-17",
          "2021-06-18",
          "2021-06-19",
          "2021-06-20",
          "2021-06-21",
          "2021-06-22",
          "2021-06-23",
          "2021-06-24",
          "2021-06-25",
          "2021-06-26",
          "2021-06-27",
          "2021-06-28",
          "2021-06-29",
          "2021-06-30",
          "2021-07-01",
          "2021-07-02",
          "2021-07-03",
          "2021-07-04",
          "2021-07-05",
          "2021-07-06",
          "2021-07-07",
          "2021-07-08",
          "2021-07-09",
          "2021-07-10",
          "2021-07-11",
          "2021-07-12",
          "2021-07-13",
          "2021-07-14",
          "2021-07-15",
          "2021-07-16",
          "2021-07-17",
          "2021-07-18",
          "2021-07-19",
          "2021-07-20",
          "2021-07-21",
          "2021-07-22",
          "2021-07-23",
          "2021-07-24",
          "2021-07-25",
          "2021-07-26",
          "2021-07-27",
          "2021-07-28",
          "2021-07-29",
          "2021-07-30",
          "2021-07-31",
          "2021-08-01",
          "2021-08-02",
          "2021-08-03",
          "2021-08-04",
          "2021-08-05",
          "2021-08-06",
          "2021-08-07",
          "2021-08-08",
          "2021-08-09",
          "2021-08-10",
          "2021-08-11",
          "2021-08-12",
          "2021-08-13",
          "2021-08-14",
          "2021-08-15",
          "2021-08-16",
          "2021-08-17",
          "2021-08-18",
          "2021-08-19",
          "2021-08-20",
          "2021-08-21",
          "2021-08-22",
          "2021-08-23",
          "2021-08-24",
          "2021-08-25",
          "2021-08-26",
          "2021-08-27",
          "2021-08-28",
          "2021-08-29",
          "2021-08-30",
          "2021-08-31",
          "2021-09-01",
          "2021-09-02",
          "2021-09-03",
          "2021-09-04",
          "2021-09-05",
          "2021-09-06",
          "2021-09-07",
          "2021-09-08",
          "2021-09-09",
          "2021-09-10",
          "2021-09-11",
          "2021-09-12",
          "2021-09-13",
          "2021-09-14",
          "2021-09-15",
          "2021-09-16",
          "2021-09-17",
          "2021-09-18",
          "2021-09-19",
          "2021-09-20",
          "2021-09-21",
          "2021-09-22",
          "2021-09-23",
          "2021-09-24",
          "2021-09-25",
          "2021-09-26",
          "2021-09-27",
          "2021-09-28",
          "2021-09-29",
          "2021-09-30",
          "2021-10-01",
          "2021-10-02",
          "2021-10-03",
          "2021-10-04",
          "2021-10-05",
          "2021-10-06",
          "2021-10-07",
          "2021-10-08",
          "2021-10-09",
          "2021-10-10",
          "2021-10-11",
          "2021-10-12",
          "2021-10-13",
          "2021-10-14",
          "2021-10-15",
          "2021-10-16",
          "2021-10-17",
          "2021-10-18",
          "2021-10-19",
          "2021-10-20",
          "2021-10-21",
          "2021-10-22",
          "2021-10-23",
          "2021-10-24",
          "2021-10-25",
          "2021-10-26",
          "2021-10-27",
          "2021-10-28",
          "2021-10-29",
          "2021-10-30",
          "2021-10-31",
          "2021-11-01",
          "2021-11-02",
          "2021-11-03",
          "2021-11-04",
          "2021-11-05",
          "2021-11-06",
          "2021-11-07",
          "2021-11-08",
          "2021-11-09",
          "2021-11-10",
          "2021-11-11",
          "2021-11-12",
          "2021-11-13",
          "2021-11-14",
          "2021-11-15",
          "2021-11-16",
          "2021-11-17",
          "2021-11-18",
          "2021-11-19",
          "2021-11-20",
          "2021-11-21",
          "2021-11-22",
          "2021-11-23",
          "2021-11-24",
          "2021-11-25",
          "2021-11-26",
          "2021-11-27",
          "2021-11-28",
          "2021-11-29",
          "2021-11-30",
          "2021-12-01",
          "2021-12-02",
          "2021-12-03",
          "2021-12-04",
          "2021-12-05",
          "2021-12-06",
          "2021-12-07",
          "2021-12-08",
          "2021-12-09",
          "2021-12-10",
          "2021-12-11",
          "2021-12-12",
          "2021-12-13",
          "2021-12-14",
          "2021-12-15",
          "2021-12-16",
          "2021-12-17",
          "2021-12-18",
          "2021-12-19",
          "2021-12-20",
          "2021-12-21",
          "2021-12-22",
          "2021-12-23",
          "2021-12-24",
          "2021-12-25",
          "2021-12-26",
          "2021-12-27",
          "2021-12-28",
          "2021-12-29",
          "2021-12-30",
          "2021-12-31",
          "2022-01-01",
          "2022-01-02",
          "2022-01-03",
          "2022-01-04",
          "2022-01-05",
          "2022-01-06",
          "2022-01-07",
          "2022-01-08",
          "2022-01-09",
          "2022-01-10",
          "2022-01-11",
          "2022-01-12",
          "2022-01-13",
          "2022-01-14",
          "2022-01-15",
          "2022-01-16",
          "2022-01-17",
          "2022-01-18",
          "2022-01-19",
          "2022-01-20",
          "2022-01-21",
          "2022-01-22",
          "2022-01-23",
          "2022-01-24",
          "2022-01-25",
          "2022-01-26",
          "2022-01-27",
          "2022-01-28",
          "2022-01-29",
          "2022-01-30",
          "2022-01-31",
          "2022-02-01",
          "2022-02-02",
          "2022-02-03",
          "2022-02-04",
          "2022-02-05",
          "2022-02-06",
          "2022-02-07",
          "2022-02-08",
          "2022-02-09",
          "2022-02-10",
          "2022-02-11",
          "2022-02-12",
          "2022-02-13",
          "2022-02-14",
          "2022-02-15",
          "2022-02-16",
          "2022-02-17",
          "2022-02-18",
          "2022-02-19",
          "2022-02-20",
          "2022-02-21",
          "2022-02-22",
          "2022-02-23",
          "2022-02-24",
          "2022-02-25",
          "2022-02-26",
          "2022-02-27",
          "2022-02-28",
          "2022-03-01",
          "2022-03-02",
          "2022-03-03",
          "2022-03-04",
          "2022-03-05"
         ],
         "xaxis": "x",
         "y": [
          0,
          0,
          0,
          0,
          0,
          0,
          0,
          0,
          0,
          0,
          0,
          0,
          0,
          0,
          0,
          0,
          0,
          0,
          0,
          0,
          0,
          0,
          0,
          0,
          0,
          0,
          0,
          0,
          0,
          0,
          0,
          0,
          0,
          0,
          0,
          0,
          0,
          0,
          0,
          0,
          0,
          0,
          0,
          0,
          0,
          0,
          0,
          0,
          0,
          0,
          0,
          0,
          0,
          0,
          0,
          0,
          0,
          0,
          0,
          0,
          0,
          0,
          0,
          0,
          0,
          0,
          0,
          0,
          0,
          0,
          0,
          0,
          0,
          0,
          0,
          0,
          0,
          0,
          0,
          0,
          0,
          0,
          0,
          0,
          0,
          0,
          0,
          0,
          0,
          0,
          0,
          0,
          0,
          0,
          0,
          0,
          0,
          0,
          0,
          0,
          0,
          0,
          0,
          0,
          0,
          0,
          0,
          0,
          0,
          0,
          0,
          0,
          0,
          0,
          0,
          0,
          0,
          0,
          0,
          0,
          0,
          0,
          0,
          0,
          0,
          0,
          0,
          0,
          0,
          0,
          0,
          0,
          0,
          0,
          0,
          0,
          0,
          0,
          0,
          0,
          0,
          0,
          0,
          0,
          0,
          0,
          0,
          0,
          0,
          0,
          0,
          0,
          0,
          0,
          0,
          0,
          0,
          0,
          0,
          0,
          0,
          0,
          0,
          0,
          0,
          0,
          0,
          0,
          0,
          0,
          0,
          0,
          0,
          0,
          0,
          0,
          0,
          0,
          0,
          0,
          0,
          0,
          0,
          0,
          0,
          0,
          0,
          0,
          0,
          0,
          0,
          0,
          0,
          0,
          0,
          0,
          0,
          0,
          0,
          0,
          0,
          0,
          0,
          0,
          0,
          0,
          0,
          0,
          0,
          0,
          0,
          0,
          0,
          0,
          0,
          0,
          0,
          0,
          0,
          0,
          0,
          0,
          0,
          0,
          0,
          0,
          0,
          0,
          0,
          0,
          0,
          0,
          0,
          0,
          0,
          0,
          0,
          0,
          0,
          0,
          0,
          0,
          0,
          0,
          0,
          0,
          0,
          0,
          0,
          0,
          0,
          0,
          0,
          0,
          0,
          0,
          0,
          0,
          0,
          0,
          0,
          0,
          0,
          0,
          0,
          0,
          0,
          0,
          0,
          0,
          0,
          0,
          0,
          0,
          0,
          0,
          0,
          0,
          0,
          0,
          0,
          0,
          0,
          0,
          0,
          0,
          0,
          0,
          0,
          0,
          0,
          0,
          0,
          0,
          0,
          0,
          0,
          0,
          0,
          0,
          0,
          0,
          0,
          0,
          0,
          0,
          0,
          0,
          0,
          0,
          0,
          0,
          0,
          0,
          0,
          0,
          0,
          1,
          1,
          1,
          2,
          8,
          10,
          11,
          15,
          15,
          28924,
          33480,
          1612374,
          1774405,
          2051024,
          2471098,
          2654001,
          2767412,
          3181751,
          3703025,
          4388663,
          4682854,
          4742299,
          4921363,
          5186546,
          5967550,
          6963109,
          8132549,
          11863695,
          12086260,
          13279228,
          13681685,
          14818699,
          16948445,
          18512711,
          20293664,
          22194242,
          27650712,
          30888544,
          32743381,
          34895372,
          38693773,
          41606002,
          44528016,
          46384601,
          47594185,
          50014922,
          53007661,
          61359030,
          64917075,
          68865650,
          71370821,
          72907277,
          76141137,
          79663312,
          91491331,
          96093820,
          100691900,
          103770687,
          106873466,
          110287136,
          114046145,
          125997937,
          131374783,
          136768560,
          140235618,
          141926197,
          145724093,
          159726834,
          165210152,
          170832811,
          177227819,
          181385414,
          183547059,
          188079086,
          193066309,
          198871629,
          205335055,
          210977190,
          215230273,
          217426001,
          221677095,
          227244864,
          233773598,
          241046509,
          248357180,
          253727371,
          268470004,
          274008386,
          285279359,
          293460341,
          302960036,
          312032918,
          319095167,
          323040495,
          330753268,
          339174344,
          349221655,
          358417812,
          368866538,
          376735876,
          393115898,
          403058955,
          413030170,
          423916481,
          434518579,
          447672625,
          466412762,
          470910672,
          486693557,
          499525229,
          515125519,
          532700231,
          552316742,
          566674701,
          575546964,
          591718777,
          607710028,
          627733139,
          649828714,
          669867077,
          682462021,
          692450819,
          707121945,
          725128343,
          744394775,
          768359999,
          790748593,
          806980380,
          818242511,
          836844085,
          854271961,
          873589315,
          892586688,
          910786500,
          924430191,
          934729451,
          950517134,
          965162052,
          984411573,
          1006818684,
          1025325437,
          1037964521,
          1055033234,
          1072207814,
          1093128315,
          1119090643,
          1143864615,
          1169667412,
          1183855724,
          1194897612,
          1209571100,
          1229087894,
          1249690627,
          1273766874,
          1301018185,
          1321083638,
          1334933037,
          1357363102,
          1382219882,
          1409065938,
          1435705902,
          1461819216,
          1485510536,
          1507867002,
          1534891845,
          1563479941,
          1591535572,
          1625467699,
          1656492078,
          1684466970,
          1706904671,
          1736599024,
          1769582579,
          1805603947,
          1838813769,
          1872975653,
          1905197983,
          1932668107,
          1969702438,
          2008533163,
          2049100343,
          2084088327,
          2123899248,
          2156361124,
          2182578257,
          2213910187,
          2248992507,
          2286009980,
          2325103887,
          2362528187,
          2393523594,
          2420869270,
          2449171777,
          2488625360,
          2530045767,
          2575320291,
          2619318727,
          2656899489,
          2690321225,
          2733027242,
          2776685645,
          2820240761,
          2868562064,
          2914455471,
          2956463815,
          2991479520,
          3029649310,
          3071096885,
          3109091165,
          3152790973,
          3188011070,
          3222053806,
          3246965732,
          3279995123,
          3312696061,
          3345694006,
          3384833019,
          3411901101,
          3440889288,
          3462260254,
          3492320510,
          3527193565,
          3563223837,
          3598353581,
          3631105724,
          3660008168,
          3679988547,
          3713347282,
          3746515029,
          3778843646,
          3817565305,
          3856023469,
          3887180433,
          3914299091,
          3955219147,
          3995835623,
          4038189340,
          4083914498,
          4127048494,
          4159595394,
          4198893584,
          4237538466,
          4292552412,
          4337921530,
          4378790893,
          4416762454,
          4448034145,
          4478463554,
          4521164493,
          4560970837,
          4598406821,
          4632764517,
          4677763832,
          4709023021,
          4732690354,
          4774260199,
          4814490219,
          4852491844,
          4888159297,
          4928219876,
          4959325863,
          4988411134,
          5020524969,
          5066117184,
          5109626977,
          5151645395,
          5202561720,
          5238764185,
          5285807539,
          5320288053,
          5361729193,
          5407286168,
          5440282211,
          5468549305,
          5494142220,
          5524684011,
          5551655013,
          5588619766,
          5628103788,
          5665708251,
          5695182025,
          5729033277,
          5763944988,
          5795584220,
          5823074977,
          5854437622,
          5885451517,
          5911837942,
          5950571148,
          5976385069,
          6004490237,
          6034620249,
          6061730330,
          6094686786,
          6123362252,
          6144025848,
          6163742339,
          6210402789,
          6238367693,
          6269907186,
          6299597125,
          6322296494,
          6342845404,
          6366150863,
          6388733454,
          6422615199,
          6446234395,
          6469925913,
          6500989866,
          6521377397,
          6550664945,
          6570796437,
          6593838594,
          6616833838,
          6639758402,
          6659268008,
          6673741539,
          6700352403,
          6730236887,
          6757658175,
          6793628939,
          6819766267,
          6846719464,
          6873484964,
          6897219790,
          6918628175,
          6945536854,
          6969623849,
          7000290768,
          7037813030,
          7069896019,
          7103269993,
          7127636145,
          7154674315,
          7183771137,
          7216500351,
          7250253360,
          7277933570,
          7306242100,
          7335080195,
          7368957642,
          7407042564,
          7441006776,
          7474606896,
          7508379169,
          7535385345,
          7562168586,
          7589457462,
          7622081758,
          7651903106,
          7685557760,
          7719773399,
          7747077620,
          7775655709,
          7806854162,
          7845133356,
          7872552928,
          7910508150,
          7939706559,
          7979612928,
          8013353131,
          8054876225,
          8097256969,
          8135871890,
          8169111055,
          8206628036,
          8238352274,
          8267443063,
          8297664542,
          8335100520,
          8374162552,
          8404892770,
          8449380191,
          8479574728,
          8508870162,
          8549891109,
          8589265868,
          8621878833,
          8665333250,
          8700218916,
          8734142241,
          8778817907,
          8816665582,
          8851170514,
          8894282270,
          8928384791,
          8956240388,
          8981484078,
          9014162336,
          9061192837,
          9100365495,
          9138388423,
          9170812083,
          9190495985,
          9208258986,
          9240179438,
          9279027694,
          9313319159,
          9349289997,
          9383945203,
          9408493267,
          9440521250,
          9499331238,
          9536005331,
          9568736603,
          9605400662,
          9629965232,
          9657668703,
          9687227269,
          9718219502,
          9741616674,
          9780145014,
          9807628323,
          9838938015,
          9861460071,
          9893249243,
          9917407622,
          9942339255,
          9968822095,
          9991622870,
          10021320773,
          10039216095,
          10057595438,
          10078708348,
          10097656123,
          10117193161,
          10133333349,
          10154188445,
          10168747801,
          10188358817,
          10207755463,
          10232848399,
          10259595431,
          10280275287,
          10309130347,
          10325102298,
          10353430960,
          10373777223,
          10394013596,
          10414545334,
          10437902200,
          10480664277,
          10508403613,
          10526771170,
          10554443165,
          10574965594,
          10591482558,
          10613072360,
          10631050851,
          10645955423,
          10667562360,
          10713555801,
          10724976459,
          10738547256,
          10751815250,
          10762465856,
          10850794072
         ],
         "yaxis": "y"
        }
       ],
       "layout": {
        "legend": {
         "title": {
          "text": "Case"
         },
         "tracegroupgap": 0
        },
        "template": {
         "data": {
          "bar": [
           {
            "error_x": {
             "color": "#f2f5fa"
            },
            "error_y": {
             "color": "#f2f5fa"
            },
            "marker": {
             "line": {
              "color": "rgb(17,17,17)",
              "width": 0.5
             },
             "pattern": {
              "fillmode": "overlay",
              "size": 10,
              "solidity": 0.2
             }
            },
            "type": "bar"
           }
          ],
          "barpolar": [
           {
            "marker": {
             "line": {
              "color": "rgb(17,17,17)",
              "width": 0.5
             },
             "pattern": {
              "fillmode": "overlay",
              "size": 10,
              "solidity": 0.2
             }
            },
            "type": "barpolar"
           }
          ],
          "carpet": [
           {
            "aaxis": {
             "endlinecolor": "#A2B1C6",
             "gridcolor": "#506784",
             "linecolor": "#506784",
             "minorgridcolor": "#506784",
             "startlinecolor": "#A2B1C6"
            },
            "baxis": {
             "endlinecolor": "#A2B1C6",
             "gridcolor": "#506784",
             "linecolor": "#506784",
             "minorgridcolor": "#506784",
             "startlinecolor": "#A2B1C6"
            },
            "type": "carpet"
           }
          ],
          "choropleth": [
           {
            "colorbar": {
             "outlinewidth": 0,
             "ticks": ""
            },
            "type": "choropleth"
           }
          ],
          "contour": [
           {
            "colorbar": {
             "outlinewidth": 0,
             "ticks": ""
            },
            "colorscale": [
             [
              0,
              "#0d0887"
             ],
             [
              0.1111111111111111,
              "#46039f"
             ],
             [
              0.2222222222222222,
              "#7201a8"
             ],
             [
              0.3333333333333333,
              "#9c179e"
             ],
             [
              0.4444444444444444,
              "#bd3786"
             ],
             [
              0.5555555555555556,
              "#d8576b"
             ],
             [
              0.6666666666666666,
              "#ed7953"
             ],
             [
              0.7777777777777778,
              "#fb9f3a"
             ],
             [
              0.8888888888888888,
              "#fdca26"
             ],
             [
              1,
              "#f0f921"
             ]
            ],
            "type": "contour"
           }
          ],
          "contourcarpet": [
           {
            "colorbar": {
             "outlinewidth": 0,
             "ticks": ""
            },
            "type": "contourcarpet"
           }
          ],
          "heatmap": [
           {
            "colorbar": {
             "outlinewidth": 0,
             "ticks": ""
            },
            "colorscale": [
             [
              0,
              "#0d0887"
             ],
             [
              0.1111111111111111,
              "#46039f"
             ],
             [
              0.2222222222222222,
              "#7201a8"
             ],
             [
              0.3333333333333333,
              "#9c179e"
             ],
             [
              0.4444444444444444,
              "#bd3786"
             ],
             [
              0.5555555555555556,
              "#d8576b"
             ],
             [
              0.6666666666666666,
              "#ed7953"
             ],
             [
              0.7777777777777778,
              "#fb9f3a"
             ],
             [
              0.8888888888888888,
              "#fdca26"
             ],
             [
              1,
              "#f0f921"
             ]
            ],
            "type": "heatmap"
           }
          ],
          "heatmapgl": [
           {
            "colorbar": {
             "outlinewidth": 0,
             "ticks": ""
            },
            "colorscale": [
             [
              0,
              "#0d0887"
             ],
             [
              0.1111111111111111,
              "#46039f"
             ],
             [
              0.2222222222222222,
              "#7201a8"
             ],
             [
              0.3333333333333333,
              "#9c179e"
             ],
             [
              0.4444444444444444,
              "#bd3786"
             ],
             [
              0.5555555555555556,
              "#d8576b"
             ],
             [
              0.6666666666666666,
              "#ed7953"
             ],
             [
              0.7777777777777778,
              "#fb9f3a"
             ],
             [
              0.8888888888888888,
              "#fdca26"
             ],
             [
              1,
              "#f0f921"
             ]
            ],
            "type": "heatmapgl"
           }
          ],
          "histogram": [
           {
            "marker": {
             "pattern": {
              "fillmode": "overlay",
              "size": 10,
              "solidity": 0.2
             }
            },
            "type": "histogram"
           }
          ],
          "histogram2d": [
           {
            "colorbar": {
             "outlinewidth": 0,
             "ticks": ""
            },
            "colorscale": [
             [
              0,
              "#0d0887"
             ],
             [
              0.1111111111111111,
              "#46039f"
             ],
             [
              0.2222222222222222,
              "#7201a8"
             ],
             [
              0.3333333333333333,
              "#9c179e"
             ],
             [
              0.4444444444444444,
              "#bd3786"
             ],
             [
              0.5555555555555556,
              "#d8576b"
             ],
             [
              0.6666666666666666,
              "#ed7953"
             ],
             [
              0.7777777777777778,
              "#fb9f3a"
             ],
             [
              0.8888888888888888,
              "#fdca26"
             ],
             [
              1,
              "#f0f921"
             ]
            ],
            "type": "histogram2d"
           }
          ],
          "histogram2dcontour": [
           {
            "colorbar": {
             "outlinewidth": 0,
             "ticks": ""
            },
            "colorscale": [
             [
              0,
              "#0d0887"
             ],
             [
              0.1111111111111111,
              "#46039f"
             ],
             [
              0.2222222222222222,
              "#7201a8"
             ],
             [
              0.3333333333333333,
              "#9c179e"
             ],
             [
              0.4444444444444444,
              "#bd3786"
             ],
             [
              0.5555555555555556,
              "#d8576b"
             ],
             [
              0.6666666666666666,
              "#ed7953"
             ],
             [
              0.7777777777777778,
              "#fb9f3a"
             ],
             [
              0.8888888888888888,
              "#fdca26"
             ],
             [
              1,
              "#f0f921"
             ]
            ],
            "type": "histogram2dcontour"
           }
          ],
          "mesh3d": [
           {
            "colorbar": {
             "outlinewidth": 0,
             "ticks": ""
            },
            "type": "mesh3d"
           }
          ],
          "parcoords": [
           {
            "line": {
             "colorbar": {
              "outlinewidth": 0,
              "ticks": ""
             }
            },
            "type": "parcoords"
           }
          ],
          "pie": [
           {
            "automargin": true,
            "type": "pie"
           }
          ],
          "scatter": [
           {
            "marker": {
             "line": {
              "color": "#283442"
             }
            },
            "type": "scatter"
           }
          ],
          "scatter3d": [
           {
            "line": {
             "colorbar": {
              "outlinewidth": 0,
              "ticks": ""
             }
            },
            "marker": {
             "colorbar": {
              "outlinewidth": 0,
              "ticks": ""
             }
            },
            "type": "scatter3d"
           }
          ],
          "scattercarpet": [
           {
            "marker": {
             "colorbar": {
              "outlinewidth": 0,
              "ticks": ""
             }
            },
            "type": "scattercarpet"
           }
          ],
          "scattergeo": [
           {
            "marker": {
             "colorbar": {
              "outlinewidth": 0,
              "ticks": ""
             }
            },
            "type": "scattergeo"
           }
          ],
          "scattergl": [
           {
            "marker": {
             "line": {
              "color": "#283442"
             }
            },
            "type": "scattergl"
           }
          ],
          "scattermapbox": [
           {
            "marker": {
             "colorbar": {
              "outlinewidth": 0,
              "ticks": ""
             }
            },
            "type": "scattermapbox"
           }
          ],
          "scatterpolar": [
           {
            "marker": {
             "colorbar": {
              "outlinewidth": 0,
              "ticks": ""
             }
            },
            "type": "scatterpolar"
           }
          ],
          "scatterpolargl": [
           {
            "marker": {
             "colorbar": {
              "outlinewidth": 0,
              "ticks": ""
             }
            },
            "type": "scatterpolargl"
           }
          ],
          "scatterternary": [
           {
            "marker": {
             "colorbar": {
              "outlinewidth": 0,
              "ticks": ""
             }
            },
            "type": "scatterternary"
           }
          ],
          "surface": [
           {
            "colorbar": {
             "outlinewidth": 0,
             "ticks": ""
            },
            "colorscale": [
             [
              0,
              "#0d0887"
             ],
             [
              0.1111111111111111,
              "#46039f"
             ],
             [
              0.2222222222222222,
              "#7201a8"
             ],
             [
              0.3333333333333333,
              "#9c179e"
             ],
             [
              0.4444444444444444,
              "#bd3786"
             ],
             [
              0.5555555555555556,
              "#d8576b"
             ],
             [
              0.6666666666666666,
              "#ed7953"
             ],
             [
              0.7777777777777778,
              "#fb9f3a"
             ],
             [
              0.8888888888888888,
              "#fdca26"
             ],
             [
              1,
              "#f0f921"
             ]
            ],
            "type": "surface"
           }
          ],
          "table": [
           {
            "cells": {
             "fill": {
              "color": "#506784"
             },
             "line": {
              "color": "rgb(17,17,17)"
             }
            },
            "header": {
             "fill": {
              "color": "#2a3f5f"
             },
             "line": {
              "color": "rgb(17,17,17)"
             }
            },
            "type": "table"
           }
          ]
         },
         "layout": {
          "annotationdefaults": {
           "arrowcolor": "#f2f5fa",
           "arrowhead": 0,
           "arrowwidth": 1
          },
          "autotypenumbers": "strict",
          "coloraxis": {
           "colorbar": {
            "outlinewidth": 0,
            "ticks": ""
           }
          },
          "colorscale": {
           "diverging": [
            [
             0,
             "#8e0152"
            ],
            [
             0.1,
             "#c51b7d"
            ],
            [
             0.2,
             "#de77ae"
            ],
            [
             0.3,
             "#f1b6da"
            ],
            [
             0.4,
             "#fde0ef"
            ],
            [
             0.5,
             "#f7f7f7"
            ],
            [
             0.6,
             "#e6f5d0"
            ],
            [
             0.7,
             "#b8e186"
            ],
            [
             0.8,
             "#7fbc41"
            ],
            [
             0.9,
             "#4d9221"
            ],
            [
             1,
             "#276419"
            ]
           ],
           "sequential": [
            [
             0,
             "#0d0887"
            ],
            [
             0.1111111111111111,
             "#46039f"
            ],
            [
             0.2222222222222222,
             "#7201a8"
            ],
            [
             0.3333333333333333,
             "#9c179e"
            ],
            [
             0.4444444444444444,
             "#bd3786"
            ],
            [
             0.5555555555555556,
             "#d8576b"
            ],
            [
             0.6666666666666666,
             "#ed7953"
            ],
            [
             0.7777777777777778,
             "#fb9f3a"
            ],
            [
             0.8888888888888888,
             "#fdca26"
            ],
            [
             1,
             "#f0f921"
            ]
           ],
           "sequentialminus": [
            [
             0,
             "#0d0887"
            ],
            [
             0.1111111111111111,
             "#46039f"
            ],
            [
             0.2222222222222222,
             "#7201a8"
            ],
            [
             0.3333333333333333,
             "#9c179e"
            ],
            [
             0.4444444444444444,
             "#bd3786"
            ],
            [
             0.5555555555555556,
             "#d8576b"
            ],
            [
             0.6666666666666666,
             "#ed7953"
            ],
            [
             0.7777777777777778,
             "#fb9f3a"
            ],
            [
             0.8888888888888888,
             "#fdca26"
            ],
            [
             1,
             "#f0f921"
            ]
           ]
          },
          "colorway": [
           "#636efa",
           "#EF553B",
           "#00cc96",
           "#ab63fa",
           "#FFA15A",
           "#19d3f3",
           "#FF6692",
           "#B6E880",
           "#FF97FF",
           "#FECB52"
          ],
          "font": {
           "color": "#f2f5fa"
          },
          "geo": {
           "bgcolor": "rgb(17,17,17)",
           "lakecolor": "rgb(17,17,17)",
           "landcolor": "rgb(17,17,17)",
           "showlakes": true,
           "showland": true,
           "subunitcolor": "#506784"
          },
          "hoverlabel": {
           "align": "left"
          },
          "hovermode": "closest",
          "mapbox": {
           "style": "dark"
          },
          "paper_bgcolor": "rgb(17,17,17)",
          "plot_bgcolor": "rgb(17,17,17)",
          "polar": {
           "angularaxis": {
            "gridcolor": "#506784",
            "linecolor": "#506784",
            "ticks": ""
           },
           "bgcolor": "rgb(17,17,17)",
           "radialaxis": {
            "gridcolor": "#506784",
            "linecolor": "#506784",
            "ticks": ""
           }
          },
          "scene": {
           "xaxis": {
            "backgroundcolor": "rgb(17,17,17)",
            "gridcolor": "#506784",
            "gridwidth": 2,
            "linecolor": "#506784",
            "showbackground": true,
            "ticks": "",
            "zerolinecolor": "#C8D4E3"
           },
           "yaxis": {
            "backgroundcolor": "rgb(17,17,17)",
            "gridcolor": "#506784",
            "gridwidth": 2,
            "linecolor": "#506784",
            "showbackground": true,
            "ticks": "",
            "zerolinecolor": "#C8D4E3"
           },
           "zaxis": {
            "backgroundcolor": "rgb(17,17,17)",
            "gridcolor": "#506784",
            "gridwidth": 2,
            "linecolor": "#506784",
            "showbackground": true,
            "ticks": "",
            "zerolinecolor": "#C8D4E3"
           }
          },
          "shapedefaults": {
           "line": {
            "color": "#f2f5fa"
           }
          },
          "sliderdefaults": {
           "bgcolor": "#C8D4E3",
           "bordercolor": "rgb(17,17,17)",
           "borderwidth": 1,
           "tickwidth": 0
          },
          "ternary": {
           "aaxis": {
            "gridcolor": "#506784",
            "linecolor": "#506784",
            "ticks": ""
           },
           "baxis": {
            "gridcolor": "#506784",
            "linecolor": "#506784",
            "ticks": ""
           },
           "bgcolor": "rgb(17,17,17)",
           "caxis": {
            "gridcolor": "#506784",
            "linecolor": "#506784",
            "ticks": ""
           }
          },
          "title": {
           "x": 0.05
          },
          "updatemenudefaults": {
           "bgcolor": "#506784",
           "borderwidth": 0
          },
          "xaxis": {
           "automargin": true,
           "gridcolor": "#283442",
           "linecolor": "#506784",
           "ticks": "",
           "title": {
            "standoff": 15
           },
           "zerolinecolor": "#283442",
           "zerolinewidth": 2
          },
          "yaxis": {
           "automargin": true,
           "gridcolor": "#283442",
           "linecolor": "#506784",
           "ticks": "",
           "title": {
            "standoff": 15
           },
           "zerolinecolor": "#283442",
           "zerolinewidth": 2
          }
         }
        },
        "title": {
         "text": "Tổng số vaccine được tiêm so với tổng số ca mắc và tử vong"
        },
        "xaxis": {
         "anchor": "y",
         "domain": [
          0,
          1
         ],
         "title": {
          "text": "Date"
         }
        },
        "yaxis": {
         "anchor": "x",
         "domain": [
          0,
          1
         ],
         "title": {
          "text": "Count"
         }
        }
       }
      }
     },
     "metadata": {},
     "output_type": "display_data"
    }
   ],
   "source": [
    "covid_world_df_melt = covid_world_df.melt(id_vars=\"Date\", value_vars=['TotalCases', 'TotalDeaths', 'TotalVaccinations'],\n",
    "                 var_name='Case', value_name='Count')\n",
    "fig = px.area(covid_world_df_melt, x=\"Date\", y=\"Count\", color='Case',\n",
    "title='Tổng số vaccine được tiêm so với tổng số ca mắc và tử vong', color_discrete_sequence = ['orange', 'red','green' ])\n",
    "fig.update_layout(template='plotly_dark',)\n",
    "fig.show()"
   ]
  },
  {
   "cell_type": "markdown",
   "metadata": {},
   "source": [
    "Vaccine được triển khai tiêm vào khoảng cuối nắm 2020, đầu năm 2021, từ đó độ bao phủ vaccine trên toàn thế giới ngày càng lớn dần, bỏ xa tổng số ca mắc và số ca tử vong. Vaccine có thể xem công cụ hiệu quả nhất hiện tại , tiến độ tiêm phòng như vậy đang cho thấy tín hiệu tích cực trong việc phòng chống và đi tới chấm dứt đại dịch Covid-19"
   ]
  },
  {
   "cell_type": "markdown",
   "metadata": {},
   "source": [
    "# 5. Mô hình hoá dữ liệu và kết quả thực nghiệm"
   ]
  },
  {
   "cell_type": "markdown",
   "metadata": {},
   "source": [
    "## Câu 1: Dân số có phải là nguyên nhân dẫn tới việc gia tăng số ca mắc ở các quốc gia? **(X: Population, Location)**  **(Y:TotalCases)**"
   ]
  },
  {
   "cell_type": "markdown",
   "metadata": {},
   "source": [
    "<font face=\"Cambria Math\" size=5 color = #1155cc> Quan hệ 𝑄 → 𝑄 </font>\n",
    "\n",
    "*  <font face=\"Cambria Math\" size=4> Với Q: Biến Population (Biến số) </font>\n",
    "* <font face=\"Cambria Math\" size=4>  Với 𝑄: Biến TotalCases (Biến số)</font>"
   ]
  },
  {
   "cell_type": "code",
   "execution_count": 265,
   "metadata": {},
   "outputs": [
    {
     "data": {
      "text/html": [
       "<div>\n",
       "<style scoped>\n",
       "    .dataframe tbody tr th:only-of-type {\n",
       "        vertical-align: middle;\n",
       "    }\n",
       "\n",
       "    .dataframe tbody tr th {\n",
       "        vertical-align: top;\n",
       "    }\n",
       "\n",
       "    .dataframe thead th {\n",
       "        text-align: right;\n",
       "    }\n",
       "</style>\n",
       "<table border=\"1\" class=\"dataframe\">\n",
       "  <thead>\n",
       "    <tr style=\"text-align: right;\">\n",
       "      <th></th>\n",
       "      <th>Continent</th>\n",
       "      <th>TotalCases</th>\n",
       "      <th>Population</th>\n",
       "    </tr>\n",
       "    <tr>\n",
       "      <th>Continent</th>\n",
       "      <th></th>\n",
       "      <th></th>\n",
       "      <th></th>\n",
       "    </tr>\n",
       "  </thead>\n",
       "  <tbody>\n",
       "    <tr>\n",
       "      <th>Africa</th>\n",
       "      <td>Africa</td>\n",
       "      <td>11272358.0</td>\n",
       "      <td>1.371693e+09</td>\n",
       "    </tr>\n",
       "    <tr>\n",
       "      <th>Asia</th>\n",
       "      <td>Asia</td>\n",
       "      <td>120758420.0</td>\n",
       "      <td>4.652616e+09</td>\n",
       "    </tr>\n",
       "    <tr>\n",
       "      <th>Europe</th>\n",
       "      <td>Europe</td>\n",
       "      <td>161250675.0</td>\n",
       "      <td>7.506718e+08</td>\n",
       "    </tr>\n",
       "    <tr>\n",
       "      <th>North America</th>\n",
       "      <td>North America</td>\n",
       "      <td>93398426.0</td>\n",
       "      <td>5.928348e+08</td>\n",
       "    </tr>\n",
       "    <tr>\n",
       "      <th>Oceania</th>\n",
       "      <td>Oceania</td>\n",
       "      <td>3831683.0</td>\n",
       "      <td>4.320246e+07</td>\n",
       "    </tr>\n",
       "    <tr>\n",
       "      <th>South America</th>\n",
       "      <td>South America</td>\n",
       "      <td>54622339.0</td>\n",
       "      <td>4.339537e+08</td>\n",
       "    </tr>\n",
       "  </tbody>\n",
       "</table>\n",
       "</div>"
      ],
      "text/plain": [
       "                   Continent   TotalCases    Population\n",
       "Continent                                              \n",
       "Africa                Africa   11272358.0  1.371693e+09\n",
       "Asia                    Asia  120758420.0  4.652616e+09\n",
       "Europe                Europe  161250675.0  7.506718e+08\n",
       "North America  North America   93398426.0  5.928348e+08\n",
       "Oceania              Oceania    3831683.0  4.320246e+07\n",
       "South America  South America   54622339.0  4.339537e+08"
      ]
     },
     "execution_count": 265,
     "metadata": {},
     "output_type": "execute_result"
    }
   ],
   "source": [
    "covid_continent = covid_df.groupby(by = 'Location').agg({'Continent' : 'first','TotalCases': 'max', 'Population': 'max'})\n",
    "covid_continent = covid_continent.groupby(by = \"Continent\").agg({'Continent' : 'first','TotalCases': 'sum', 'Population': 'sum'})\n",
    "covid_continent = covid_continent[covid_continent.Continent != 0]\n",
    "covid_continent"
   ]
  },
  {
   "cell_type": "code",
   "execution_count": 266,
   "metadata": {},
   "outputs": [
    {
     "data": {
      "application/vnd.plotly.v1+json": {
       "config": {
        "plotlyServerURL": "https://plot.ly"
       },
       "data": [
        {
         "domain": {
          "x": [
           0,
           0.45
          ],
          "y": [
           0,
           1
          ]
         },
         "labels": [
          "Africa",
          "Asia",
          "Europe",
          "North America",
          "Oceania",
          "South America"
         ],
         "type": "pie",
         "values": [
          1371693397,
          4652616087,
          750671838,
          592834824,
          43202462,
          433953687
         ]
        },
        {
         "domain": {
          "x": [
           0.55,
           1
          ],
          "y": [
           0,
           1
          ]
         },
         "labels": [
          "Africa",
          "Asia",
          "Europe",
          "North America",
          "Oceania",
          "South America"
         ],
         "type": "pie",
         "values": [
          11272358,
          120758420,
          161250675,
          93398426,
          3831683,
          54622339
         ]
        }
       ],
       "layout": {
        "annotations": [
         {
          "font": {
           "size": 16
          },
          "showarrow": false,
          "text": "Tổng dân số ở các khu vực",
          "x": 0.225,
          "xanchor": "center",
          "xref": "paper",
          "y": 1,
          "yanchor": "bottom",
          "yref": "paper"
         },
         {
          "font": {
           "size": 16
          },
          "showarrow": false,
          "text": "Tổng số ca mắc ở các khu vực",
          "x": 0.775,
          "xanchor": "center",
          "xref": "paper",
          "y": 1,
          "yanchor": "bottom",
          "yref": "paper"
         }
        ],
        "height": 600,
        "template": {
         "data": {
          "bar": [
           {
            "error_x": {
             "color": "#f2f5fa"
            },
            "error_y": {
             "color": "#f2f5fa"
            },
            "marker": {
             "line": {
              "color": "rgb(17,17,17)",
              "width": 0.5
             },
             "pattern": {
              "fillmode": "overlay",
              "size": 10,
              "solidity": 0.2
             }
            },
            "type": "bar"
           }
          ],
          "barpolar": [
           {
            "marker": {
             "line": {
              "color": "rgb(17,17,17)",
              "width": 0.5
             },
             "pattern": {
              "fillmode": "overlay",
              "size": 10,
              "solidity": 0.2
             }
            },
            "type": "barpolar"
           }
          ],
          "carpet": [
           {
            "aaxis": {
             "endlinecolor": "#A2B1C6",
             "gridcolor": "#506784",
             "linecolor": "#506784",
             "minorgridcolor": "#506784",
             "startlinecolor": "#A2B1C6"
            },
            "baxis": {
             "endlinecolor": "#A2B1C6",
             "gridcolor": "#506784",
             "linecolor": "#506784",
             "minorgridcolor": "#506784",
             "startlinecolor": "#A2B1C6"
            },
            "type": "carpet"
           }
          ],
          "choropleth": [
           {
            "colorbar": {
             "outlinewidth": 0,
             "ticks": ""
            },
            "type": "choropleth"
           }
          ],
          "contour": [
           {
            "colorbar": {
             "outlinewidth": 0,
             "ticks": ""
            },
            "colorscale": [
             [
              0,
              "#0d0887"
             ],
             [
              0.1111111111111111,
              "#46039f"
             ],
             [
              0.2222222222222222,
              "#7201a8"
             ],
             [
              0.3333333333333333,
              "#9c179e"
             ],
             [
              0.4444444444444444,
              "#bd3786"
             ],
             [
              0.5555555555555556,
              "#d8576b"
             ],
             [
              0.6666666666666666,
              "#ed7953"
             ],
             [
              0.7777777777777778,
              "#fb9f3a"
             ],
             [
              0.8888888888888888,
              "#fdca26"
             ],
             [
              1,
              "#f0f921"
             ]
            ],
            "type": "contour"
           }
          ],
          "contourcarpet": [
           {
            "colorbar": {
             "outlinewidth": 0,
             "ticks": ""
            },
            "type": "contourcarpet"
           }
          ],
          "heatmap": [
           {
            "colorbar": {
             "outlinewidth": 0,
             "ticks": ""
            },
            "colorscale": [
             [
              0,
              "#0d0887"
             ],
             [
              0.1111111111111111,
              "#46039f"
             ],
             [
              0.2222222222222222,
              "#7201a8"
             ],
             [
              0.3333333333333333,
              "#9c179e"
             ],
             [
              0.4444444444444444,
              "#bd3786"
             ],
             [
              0.5555555555555556,
              "#d8576b"
             ],
             [
              0.6666666666666666,
              "#ed7953"
             ],
             [
              0.7777777777777778,
              "#fb9f3a"
             ],
             [
              0.8888888888888888,
              "#fdca26"
             ],
             [
              1,
              "#f0f921"
             ]
            ],
            "type": "heatmap"
           }
          ],
          "heatmapgl": [
           {
            "colorbar": {
             "outlinewidth": 0,
             "ticks": ""
            },
            "colorscale": [
             [
              0,
              "#0d0887"
             ],
             [
              0.1111111111111111,
              "#46039f"
             ],
             [
              0.2222222222222222,
              "#7201a8"
             ],
             [
              0.3333333333333333,
              "#9c179e"
             ],
             [
              0.4444444444444444,
              "#bd3786"
             ],
             [
              0.5555555555555556,
              "#d8576b"
             ],
             [
              0.6666666666666666,
              "#ed7953"
             ],
             [
              0.7777777777777778,
              "#fb9f3a"
             ],
             [
              0.8888888888888888,
              "#fdca26"
             ],
             [
              1,
              "#f0f921"
             ]
            ],
            "type": "heatmapgl"
           }
          ],
          "histogram": [
           {
            "marker": {
             "pattern": {
              "fillmode": "overlay",
              "size": 10,
              "solidity": 0.2
             }
            },
            "type": "histogram"
           }
          ],
          "histogram2d": [
           {
            "colorbar": {
             "outlinewidth": 0,
             "ticks": ""
            },
            "colorscale": [
             [
              0,
              "#0d0887"
             ],
             [
              0.1111111111111111,
              "#46039f"
             ],
             [
              0.2222222222222222,
              "#7201a8"
             ],
             [
              0.3333333333333333,
              "#9c179e"
             ],
             [
              0.4444444444444444,
              "#bd3786"
             ],
             [
              0.5555555555555556,
              "#d8576b"
             ],
             [
              0.6666666666666666,
              "#ed7953"
             ],
             [
              0.7777777777777778,
              "#fb9f3a"
             ],
             [
              0.8888888888888888,
              "#fdca26"
             ],
             [
              1,
              "#f0f921"
             ]
            ],
            "type": "histogram2d"
           }
          ],
          "histogram2dcontour": [
           {
            "colorbar": {
             "outlinewidth": 0,
             "ticks": ""
            },
            "colorscale": [
             [
              0,
              "#0d0887"
             ],
             [
              0.1111111111111111,
              "#46039f"
             ],
             [
              0.2222222222222222,
              "#7201a8"
             ],
             [
              0.3333333333333333,
              "#9c179e"
             ],
             [
              0.4444444444444444,
              "#bd3786"
             ],
             [
              0.5555555555555556,
              "#d8576b"
             ],
             [
              0.6666666666666666,
              "#ed7953"
             ],
             [
              0.7777777777777778,
              "#fb9f3a"
             ],
             [
              0.8888888888888888,
              "#fdca26"
             ],
             [
              1,
              "#f0f921"
             ]
            ],
            "type": "histogram2dcontour"
           }
          ],
          "mesh3d": [
           {
            "colorbar": {
             "outlinewidth": 0,
             "ticks": ""
            },
            "type": "mesh3d"
           }
          ],
          "parcoords": [
           {
            "line": {
             "colorbar": {
              "outlinewidth": 0,
              "ticks": ""
             }
            },
            "type": "parcoords"
           }
          ],
          "pie": [
           {
            "automargin": true,
            "type": "pie"
           }
          ],
          "scatter": [
           {
            "marker": {
             "line": {
              "color": "#283442"
             }
            },
            "type": "scatter"
           }
          ],
          "scatter3d": [
           {
            "line": {
             "colorbar": {
              "outlinewidth": 0,
              "ticks": ""
             }
            },
            "marker": {
             "colorbar": {
              "outlinewidth": 0,
              "ticks": ""
             }
            },
            "type": "scatter3d"
           }
          ],
          "scattercarpet": [
           {
            "marker": {
             "colorbar": {
              "outlinewidth": 0,
              "ticks": ""
             }
            },
            "type": "scattercarpet"
           }
          ],
          "scattergeo": [
           {
            "marker": {
             "colorbar": {
              "outlinewidth": 0,
              "ticks": ""
             }
            },
            "type": "scattergeo"
           }
          ],
          "scattergl": [
           {
            "marker": {
             "line": {
              "color": "#283442"
             }
            },
            "type": "scattergl"
           }
          ],
          "scattermapbox": [
           {
            "marker": {
             "colorbar": {
              "outlinewidth": 0,
              "ticks": ""
             }
            },
            "type": "scattermapbox"
           }
          ],
          "scatterpolar": [
           {
            "marker": {
             "colorbar": {
              "outlinewidth": 0,
              "ticks": ""
             }
            },
            "type": "scatterpolar"
           }
          ],
          "scatterpolargl": [
           {
            "marker": {
             "colorbar": {
              "outlinewidth": 0,
              "ticks": ""
             }
            },
            "type": "scatterpolargl"
           }
          ],
          "scatterternary": [
           {
            "marker": {
             "colorbar": {
              "outlinewidth": 0,
              "ticks": ""
             }
            },
            "type": "scatterternary"
           }
          ],
          "surface": [
           {
            "colorbar": {
             "outlinewidth": 0,
             "ticks": ""
            },
            "colorscale": [
             [
              0,
              "#0d0887"
             ],
             [
              0.1111111111111111,
              "#46039f"
             ],
             [
              0.2222222222222222,
              "#7201a8"
             ],
             [
              0.3333333333333333,
              "#9c179e"
             ],
             [
              0.4444444444444444,
              "#bd3786"
             ],
             [
              0.5555555555555556,
              "#d8576b"
             ],
             [
              0.6666666666666666,
              "#ed7953"
             ],
             [
              0.7777777777777778,
              "#fb9f3a"
             ],
             [
              0.8888888888888888,
              "#fdca26"
             ],
             [
              1,
              "#f0f921"
             ]
            ],
            "type": "surface"
           }
          ],
          "table": [
           {
            "cells": {
             "fill": {
              "color": "#506784"
             },
             "line": {
              "color": "rgb(17,17,17)"
             }
            },
            "header": {
             "fill": {
              "color": "#2a3f5f"
             },
             "line": {
              "color": "rgb(17,17,17)"
             }
            },
            "type": "table"
           }
          ]
         },
         "layout": {
          "annotationdefaults": {
           "arrowcolor": "#f2f5fa",
           "arrowhead": 0,
           "arrowwidth": 1
          },
          "autotypenumbers": "strict",
          "coloraxis": {
           "colorbar": {
            "outlinewidth": 0,
            "ticks": ""
           }
          },
          "colorscale": {
           "diverging": [
            [
             0,
             "#8e0152"
            ],
            [
             0.1,
             "#c51b7d"
            ],
            [
             0.2,
             "#de77ae"
            ],
            [
             0.3,
             "#f1b6da"
            ],
            [
             0.4,
             "#fde0ef"
            ],
            [
             0.5,
             "#f7f7f7"
            ],
            [
             0.6,
             "#e6f5d0"
            ],
            [
             0.7,
             "#b8e186"
            ],
            [
             0.8,
             "#7fbc41"
            ],
            [
             0.9,
             "#4d9221"
            ],
            [
             1,
             "#276419"
            ]
           ],
           "sequential": [
            [
             0,
             "#0d0887"
            ],
            [
             0.1111111111111111,
             "#46039f"
            ],
            [
             0.2222222222222222,
             "#7201a8"
            ],
            [
             0.3333333333333333,
             "#9c179e"
            ],
            [
             0.4444444444444444,
             "#bd3786"
            ],
            [
             0.5555555555555556,
             "#d8576b"
            ],
            [
             0.6666666666666666,
             "#ed7953"
            ],
            [
             0.7777777777777778,
             "#fb9f3a"
            ],
            [
             0.8888888888888888,
             "#fdca26"
            ],
            [
             1,
             "#f0f921"
            ]
           ],
           "sequentialminus": [
            [
             0,
             "#0d0887"
            ],
            [
             0.1111111111111111,
             "#46039f"
            ],
            [
             0.2222222222222222,
             "#7201a8"
            ],
            [
             0.3333333333333333,
             "#9c179e"
            ],
            [
             0.4444444444444444,
             "#bd3786"
            ],
            [
             0.5555555555555556,
             "#d8576b"
            ],
            [
             0.6666666666666666,
             "#ed7953"
            ],
            [
             0.7777777777777778,
             "#fb9f3a"
            ],
            [
             0.8888888888888888,
             "#fdca26"
            ],
            [
             1,
             "#f0f921"
            ]
           ]
          },
          "colorway": [
           "#636efa",
           "#EF553B",
           "#00cc96",
           "#ab63fa",
           "#FFA15A",
           "#19d3f3",
           "#FF6692",
           "#B6E880",
           "#FF97FF",
           "#FECB52"
          ],
          "font": {
           "color": "#f2f5fa"
          },
          "geo": {
           "bgcolor": "rgb(17,17,17)",
           "lakecolor": "rgb(17,17,17)",
           "landcolor": "rgb(17,17,17)",
           "showlakes": true,
           "showland": true,
           "subunitcolor": "#506784"
          },
          "hoverlabel": {
           "align": "left"
          },
          "hovermode": "closest",
          "mapbox": {
           "style": "dark"
          },
          "paper_bgcolor": "rgb(17,17,17)",
          "plot_bgcolor": "rgb(17,17,17)",
          "polar": {
           "angularaxis": {
            "gridcolor": "#506784",
            "linecolor": "#506784",
            "ticks": ""
           },
           "bgcolor": "rgb(17,17,17)",
           "radialaxis": {
            "gridcolor": "#506784",
            "linecolor": "#506784",
            "ticks": ""
           }
          },
          "scene": {
           "xaxis": {
            "backgroundcolor": "rgb(17,17,17)",
            "gridcolor": "#506784",
            "gridwidth": 2,
            "linecolor": "#506784",
            "showbackground": true,
            "ticks": "",
            "zerolinecolor": "#C8D4E3"
           },
           "yaxis": {
            "backgroundcolor": "rgb(17,17,17)",
            "gridcolor": "#506784",
            "gridwidth": 2,
            "linecolor": "#506784",
            "showbackground": true,
            "ticks": "",
            "zerolinecolor": "#C8D4E3"
           },
           "zaxis": {
            "backgroundcolor": "rgb(17,17,17)",
            "gridcolor": "#506784",
            "gridwidth": 2,
            "linecolor": "#506784",
            "showbackground": true,
            "ticks": "",
            "zerolinecolor": "#C8D4E3"
           }
          },
          "shapedefaults": {
           "line": {
            "color": "#f2f5fa"
           }
          },
          "sliderdefaults": {
           "bgcolor": "#C8D4E3",
           "bordercolor": "rgb(17,17,17)",
           "borderwidth": 1,
           "tickwidth": 0
          },
          "ternary": {
           "aaxis": {
            "gridcolor": "#506784",
            "linecolor": "#506784",
            "ticks": ""
           },
           "baxis": {
            "gridcolor": "#506784",
            "linecolor": "#506784",
            "ticks": ""
           },
           "bgcolor": "rgb(17,17,17)",
           "caxis": {
            "gridcolor": "#506784",
            "linecolor": "#506784",
            "ticks": ""
           }
          },
          "title": {
           "x": 0.05
          },
          "updatemenudefaults": {
           "bgcolor": "#506784",
           "borderwidth": 0
          },
          "xaxis": {
           "automargin": true,
           "gridcolor": "#283442",
           "linecolor": "#506784",
           "ticks": "",
           "title": {
            "standoff": 15
           },
           "zerolinecolor": "#283442",
           "zerolinewidth": 2
          },
          "yaxis": {
           "automargin": true,
           "gridcolor": "#283442",
           "linecolor": "#506784",
           "ticks": "",
           "title": {
            "standoff": 15
           },
           "zerolinecolor": "#283442",
           "zerolinewidth": 2
          }
         }
        },
        "title": {
         "text": "Biểu đồ trực quan về dân số và tổng số ca mắc của các khu vực trên thế giới"
        },
        "width": 1000
       }
      }
     },
     "metadata": {},
     "output_type": "display_data"
    }
   ],
   "source": [
    "plot_sub_pies(covid_continent, \"Population\", \"TotalCases\",\"Biểu đồ trực quan về dân số và tổng số ca mắc của các khu vực trên thế giới\")"
   ]
  },
  {
   "cell_type": "markdown",
   "metadata": {},
   "source": [
    "Từ biểu đồ trên, ta có thể thấy châu Á là châu lục có số dân đông nhất thế giới, vượt xa các châu lục khác. \n",
    "\n",
    "Châu Á là nơi dự đoán có thể có số ca mắc Covid-19 nhiều nhất trên thế giới do dân số đông. \n",
    "\n",
    "Thế nhưng châu Âu mới là nơi có tổng số ca mắc nhiều nhất trên thế giới, tuy nhiên không bỏ quá xa châu Á"
   ]
  },
  {
   "cell_type": "markdown",
   "metadata": {},
   "source": [
    "\n",
    "Ta thực hiện suy diễn mối quan hệ giữa hai biến số bằng biểu đồ Scatter để xem liệu dân số đông có phải là nguyên nhân dẫn tới gia tăng số ca mắc hay không ?"
   ]
  },
  {
   "cell_type": "code",
   "execution_count": 267,
   "metadata": {},
   "outputs": [
    {
     "name": "stdout",
     "output_type": "stream",
     "text": [
      "Tổng số quốc gia có báo cáo số ca mắc: 224\n"
     ]
    },
    {
     "data": {
      "text/html": [
       "<div>\n",
       "<style scoped>\n",
       "    .dataframe tbody tr th:only-of-type {\n",
       "        vertical-align: middle;\n",
       "    }\n",
       "\n",
       "    .dataframe tbody tr th {\n",
       "        vertical-align: top;\n",
       "    }\n",
       "\n",
       "    .dataframe thead th {\n",
       "        text-align: right;\n",
       "    }\n",
       "</style>\n",
       "<table border=\"1\" class=\"dataframe\">\n",
       "  <thead>\n",
       "    <tr style=\"text-align: right;\">\n",
       "      <th></th>\n",
       "      <th>Continent</th>\n",
       "      <th>Location</th>\n",
       "      <th>TotalCases</th>\n",
       "      <th>Population</th>\n",
       "    </tr>\n",
       "    <tr>\n",
       "      <th>Location</th>\n",
       "      <th></th>\n",
       "      <th></th>\n",
       "      <th></th>\n",
       "      <th></th>\n",
       "    </tr>\n",
       "  </thead>\n",
       "  <tbody>\n",
       "    <tr>\n",
       "      <th>Afghanistan</th>\n",
       "      <td>Asia</td>\n",
       "      <td>Afghanistan</td>\n",
       "      <td>174331.0</td>\n",
       "      <td>39835428.0</td>\n",
       "    </tr>\n",
       "    <tr>\n",
       "      <th>Albania</th>\n",
       "      <td>Europe</td>\n",
       "      <td>Albania</td>\n",
       "      <td>272030.0</td>\n",
       "      <td>2872934.0</td>\n",
       "    </tr>\n",
       "    <tr>\n",
       "      <th>Algeria</th>\n",
       "      <td>Africa</td>\n",
       "      <td>Algeria</td>\n",
       "      <td>265227.0</td>\n",
       "      <td>44616626.0</td>\n",
       "    </tr>\n",
       "    <tr>\n",
       "      <th>Andorra</th>\n",
       "      <td>Europe</td>\n",
       "      <td>Andorra</td>\n",
       "      <td>38434.0</td>\n",
       "      <td>77354.0</td>\n",
       "    </tr>\n",
       "    <tr>\n",
       "      <th>Angola</th>\n",
       "      <td>Africa</td>\n",
       "      <td>Angola</td>\n",
       "      <td>98796.0</td>\n",
       "      <td>33933611.0</td>\n",
       "    </tr>\n",
       "  </tbody>\n",
       "</table>\n",
       "</div>"
      ],
      "text/plain": [
       "            Continent     Location  TotalCases  Population\n",
       "Location                                                  \n",
       "Afghanistan      Asia  Afghanistan    174331.0  39835428.0\n",
       "Albania        Europe      Albania    272030.0   2872934.0\n",
       "Algeria        Africa      Algeria    265227.0  44616626.0\n",
       "Andorra        Europe      Andorra     38434.0     77354.0\n",
       "Angola         Africa       Angola     98796.0  33933611.0"
      ]
     },
     "execution_count": 267,
     "metadata": {},
     "output_type": "execute_result"
    }
   ],
   "source": [
    "cases_country = covid_df.groupby(by = 'Location').agg({'Continent' : 'first','Location' : 'first', 'TotalCases': 'max', 'Population': 'max'})\n",
    "cases_country = cases_country[cases_country[\"Continent\"] != 0]\n",
    "print(f\"Tổng số quốc gia có báo cáo số ca mắc: {len(cases_country)}\")\n",
    "cases_country.head()"
   ]
  },
  {
   "cell_type": "code",
   "execution_count": 268,
   "metadata": {},
   "outputs": [
    {
     "data": {
      "application/vnd.plotly.v1+json": {
       "config": {
        "plotlyServerURL": "https://plot.ly"
       },
       "data": [
        {
         "hovertemplate": "<b>%{hovertext}</b><br><br>Population=%{x}<br>TotalCases=%{marker.color}<extra></extra>",
         "hovertext": [
          "Afghanistan",
          "Albania",
          "Algeria",
          "Andorra",
          "Angola",
          "Anguilla",
          "Antigua and Barbuda",
          "Argentina",
          "Armenia",
          "Aruba",
          "Australia",
          "Austria",
          "Azerbaijan",
          "Bahamas",
          "Bahrain",
          "Bangladesh",
          "Barbados",
          "Belarus",
          "Belgium",
          "Belize",
          "Benin",
          "Bermuda",
          "Bhutan",
          "Bolivia",
          "Bonaire Sint Eustatius and Saba",
          "Bosnia and Herzegovina",
          "Botswana",
          "Brazil",
          "British Virgin Islands",
          "Brunei",
          "Bulgaria",
          "Burkina Faso",
          "Burundi",
          "Cambodia",
          "Cameroon",
          "Canada",
          "Cape Verde",
          "Cayman Islands",
          "Central African Republic",
          "Chad",
          "Chile",
          "China",
          "Colombia",
          "Comoros",
          "Congo",
          "Cook Islands",
          "Costa Rica",
          "Cote d'Ivoire",
          "Croatia",
          "Cuba",
          "Curacao",
          "Cyprus",
          "Czechia",
          "Democratic Republic of Congo",
          "Denmark",
          "Djibouti",
          "Dominica",
          "Dominican Republic",
          "Ecuador",
          "Egypt",
          "El Salvador",
          "Equatorial Guinea",
          "Eritrea",
          "Estonia",
          "Eswatini",
          "Ethiopia",
          "Faeroe Islands",
          "Falkland Islands",
          "Fiji",
          "Finland",
          "France",
          "French Polynesia",
          "Gabon",
          "Gambia",
          "Georgia",
          "Germany",
          "Ghana",
          "Gibraltar",
          "Greece",
          "Greenland",
          "Grenada",
          "Guatemala",
          "Guernsey",
          "Guinea",
          "Guinea-Bissau",
          "Guyana",
          "Haiti",
          "Honduras",
          "Hong Kong",
          "Hungary",
          "Iceland",
          "India",
          "Indonesia",
          "Iran",
          "Iraq",
          "Ireland",
          "Isle of Man",
          "Israel",
          "Italy",
          "Jamaica",
          "Japan",
          "Jersey",
          "Jordan",
          "Kazakhstan",
          "Kenya",
          "Kiribati",
          "Kosovo",
          "Kuwait",
          "Kyrgyzstan",
          "Laos",
          "Latvia",
          "Lebanon",
          "Lesotho",
          "Liberia",
          "Libya",
          "Liechtenstein",
          "Lithuania",
          "Luxembourg",
          "Macao",
          "Madagascar",
          "Malawi",
          "Malaysia",
          "Maldives",
          "Mali",
          "Malta",
          "Marshall Islands",
          "Mauritania",
          "Mauritius",
          "Mexico",
          "Micronesia (country)",
          "Moldova",
          "Monaco",
          "Mongolia",
          "Montenegro",
          "Montserrat",
          "Morocco",
          "Mozambique",
          "Myanmar",
          "Namibia",
          "Nauru",
          "Nepal",
          "Netherlands",
          "New Caledonia",
          "New Zealand",
          "Nicaragua",
          "Niger",
          "Nigeria",
          "Niue",
          "North Macedonia",
          "Norway",
          "Oman",
          "Pakistan",
          "Palau",
          "Palestine",
          "Panama",
          "Papua New Guinea",
          "Paraguay",
          "Peru",
          "Philippines",
          "Pitcairn",
          "Poland",
          "Portugal",
          "Qatar",
          "Romania",
          "Russia",
          "Rwanda",
          "Saint Helena",
          "Saint Kitts and Nevis",
          "Saint Lucia",
          "Saint Pierre and Miquelon",
          "Saint Vincent and the Grenadines",
          "Samoa",
          "San Marino",
          "Sao Tome and Principe",
          "Saudi Arabia",
          "Senegal",
          "Serbia",
          "Seychelles",
          "Sierra Leone",
          "Singapore",
          "Sint Maarten (Dutch part)",
          "Slovakia",
          "Slovenia",
          "Solomon Islands",
          "Somalia",
          "South Africa",
          "South Korea",
          "South Sudan",
          "Spain",
          "Sri Lanka",
          "Sudan",
          "Suriname",
          "Sweden",
          "Switzerland",
          "Syria",
          "Taiwan",
          "Tajikistan",
          "Tanzania",
          "Thailand",
          "Timor",
          "Togo",
          "Tokelau",
          "Tonga",
          "Trinidad and Tobago",
          "Tunisia",
          "Turkey",
          "Turkmenistan",
          "Turks and Caicos Islands",
          "Tuvalu",
          "Uganda",
          "Ukraine",
          "United Arab Emirates",
          "United Kingdom",
          "United States",
          "Uruguay",
          "Uzbekistan",
          "Vanuatu",
          "Vatican",
          "Venezuela",
          "Vietnam",
          "Wallis and Futuna",
          "Yemen",
          "Zambia",
          "Zimbabwe"
         ],
         "legendgroup": "",
         "marker": {
          "color": [
           174331,
           272030,
           265227,
           38434,
           98796,
           2555,
           7455,
           8934328,
           421226,
           33732,
           3362035,
           2839297,
           788958,
           33169,
           525171,
           1946737,
           56013,
           929340,
           3586292,
           56876,
           26575,
           11634,
           14451,
           894551,
           7616,
           372139,
           263950,
           29040800,
           6091,
           84844,
           1100811,
           20751,
           38150,
           132072,
           119322,
           3334009,
           55892,
           19373,
           14320,
           7257,
           3168335,
           110868,
           6070616,
           8047,
           24020,
           2,
           814583,
           85518,
           1062953,
           1072474,
           39133,
           331508,
           3624937,
           86154,
           2853236,
           15550,
           11248,
           575883,
           836216,
           489876,
           156364,
           15889,
           9715,
           514067,
           69297,
           468930,
           34658,
           115,
           64019,
           671773,
           23064766,
           68425,
           47559,
           11948,
           1623672,
           15830112,
           160028,
           15622,
           2499259,
           11806,
           13696,
           791944,
           0,
           36397,
           8027,
           63040,
           30385,
           413699,
           440609,
           1800046,
           140929,
           42962953,
           5723858,
           7084306,
           2307555,
           1315100,
           23328,
           3669112,
           12990223,
           128166,
           5341246,
           0,
           1638228,
           1391984,
           323071,
           2985,
           226579,
           622489,
           200615,
           143969,
           697548,
           1077242,
           32707,
           7384,
           497279,
           12833,
           928612,
           186360,
           82,
           63791,
           85411,
           3595172,
           172270,
           30398,
           71800,
           7,
           58646,
           70862,
           5554392,
           1,
           504875,
           9537,
           911183,
           230887,
           164,
           1161586,
           225135,
           597417,
           157324,
           0,
           977447,
           6734097,
           56833,
           222767,
           18105,
           8760,
           254637,
           0,
           299419,
           1305006,
           383874,
           1514258,
           3844,
           649971,
           757487,
           41421,
           643619,
           3522484,
           3666678,
           0,
           5734041,
           3322134,
           358083,
           2765169,
           16619507,
           129551,
           4,
           5536,
           22733,
           1102,
           9447,
           33,
           14487,
           5939,
           747119,
           85747,
           1923977,
           39427,
           7665,
           819663,
           0,
           2190599,
           902744,
           7940,
           26351,
           3683172,
           4456264,
           16999,
           11100428,
           649632,
           61569,
           78487,
           2455966,
           2890568,
           54963,
           20797,
           17786,
           33620,
           3026695,
           22741,
           36815,
           0,
           898,
           129963,
           1005167,
           14326217,
           0,
           5867,
           0,
           163383,
           5040518,
           882477,
           19172095,
           79265726,
           853170,
           236840,
           19,
           29,
           516578,
           4232520,
           454,
           11775,
           313744,
           239019
          ],
          "coloraxis": "coloraxis",
          "symbol": "circle"
         },
         "mode": "markers",
         "name": "",
         "orientation": "v",
         "showlegend": false,
         "type": "scatter",
         "x": [
          39835428,
          2872934,
          44616626,
          77354,
          33933611,
          15125,
          98728,
          45605823,
          2968128,
          107195,
          25788217,
          9043072,
          10223344,
          396914,
          1748295,
          166303494,
          287708,
          9442867,
          11632334,
          404915,
          12451031,
          62092,
          779900,
          11832936,
          26445,
          3263459,
          2397240,
          213993441,
          30423,
          441532,
          6896655,
          21497097,
          12255429,
          16946446,
          27224262,
          38067913,
          561901,
          66498,
          4919987,
          16914985,
          19212362,
          1444216102,
          51265841,
          888456,
          5657017,
          17572,
          5139053,
          27053629,
          4081657,
          11317498,
          164796,
          896005,
          10724553,
          92377986,
          5813302,
          1002197,
          72172,
          10953714,
          17888474,
          104258327,
          6518500,
          1449891,
          3601462,
          1325188,
          1172369,
          117876226,
          49053,
          3528,
          902899,
          5548361,
          67422000,
          282534,
          2278829,
          2486937,
          3979773,
          83900471,
          31732128,
          33691,
          10370747,
          56868,
          113015,
          18249868,
          63385,
          13497237,
          2015490,
          790329,
          11541683,
          10062994,
          7552800,
          9634162,
          368792,
          1393409033,
          276361788,
          85028760,
          41179351,
          4982904,
          85410,
          9291000,
          60367471,
          2973462,
          126050796,
          101073,
          10269022,
          18994958,
          54985702,
          121388,
          1782115,
          4328553,
          6628347,
          7379358,
          1866934,
          6769151,
          2159067,
          5180208,
          6958538,
          38254,
          2689862,
          634814,
          658391,
          28427333,
          19647681,
          32776195,
          543620,
          20855724,
          516100,
          59618,
          4775110,
          1273428,
          130262220,
          116255,
          4024025,
          39520,
          3329282,
          628051,
          4981,
          37344787,
          32163045,
          54806014,
          2587344,
          10873,
          29674920,
          17173094,
          288217,
          5126300,
          6702379,
          25130810,
          211400704,
          1614,
          2082661,
          5465629,
          5223376,
          225199929,
          18174,
          5222756,
          4381583,
          9119005,
          7219641,
          33359415,
          111046910,
          47,
          37797000,
          10167923,
          2930524,
          19127772,
          145912022,
          13276517,
          6095,
          53546,
          184401,
          5771,
          111269,
          200144,
          34010,
          223364,
          35340680,
          17196308,
          6871547,
          98910,
          8141343,
          5453600,
          43421,
          5449270,
          2078723,
          703995,
          16359500,
          60041996,
          51305184,
          11381377,
          46745211,
          21497306,
          44909351,
          591798,
          10160159,
          8715494,
          18275704,
          23855008,
          9749625,
          61498438,
          69950844,
          1343875,
          8478242,
          1368,
          106759,
          1403374,
          11935764,
          85042736,
          6117933,
          39226,
          11925,
          47123533,
          43466822,
          9991083,
          68207114,
          332915074,
          3485152,
          33935765,
          314464,
          812,
          28704947,
          98168829,
          11094,
          30490639,
          18920657,
          15092171
         ],
         "xaxis": "x",
         "y": [
          174331,
          272030,
          265227,
          38434,
          98796,
          2555,
          7455,
          8934328,
          421226,
          33732,
          3362035,
          2839297,
          788958,
          33169,
          525171,
          1946737,
          56013,
          929340,
          3586292,
          56876,
          26575,
          11634,
          14451,
          894551,
          7616,
          372139,
          263950,
          29040800,
          6091,
          84844,
          1100811,
          20751,
          38150,
          132072,
          119322,
          3334009,
          55892,
          19373,
          14320,
          7257,
          3168335,
          110868,
          6070616,
          8047,
          24020,
          2,
          814583,
          85518,
          1062953,
          1072474,
          39133,
          331508,
          3624937,
          86154,
          2853236,
          15550,
          11248,
          575883,
          836216,
          489876,
          156364,
          15889,
          9715,
          514067,
          69297,
          468930,
          34658,
          115,
          64019,
          671773,
          23064766,
          68425,
          47559,
          11948,
          1623672,
          15830112,
          160028,
          15622,
          2499259,
          11806,
          13696,
          791944,
          0,
          36397,
          8027,
          63040,
          30385,
          413699,
          440609,
          1800046,
          140929,
          42962953,
          5723858,
          7084306,
          2307555,
          1315100,
          23328,
          3669112,
          12990223,
          128166,
          5341246,
          0,
          1638228,
          1391984,
          323071,
          2985,
          226579,
          622489,
          200615,
          143969,
          697548,
          1077242,
          32707,
          7384,
          497279,
          12833,
          928612,
          186360,
          82,
          63791,
          85411,
          3595172,
          172270,
          30398,
          71800,
          7,
          58646,
          70862,
          5554392,
          1,
          504875,
          9537,
          911183,
          230887,
          164,
          1161586,
          225135,
          597417,
          157324,
          0,
          977447,
          6734097,
          56833,
          222767,
          18105,
          8760,
          254637,
          0,
          299419,
          1305006,
          383874,
          1514258,
          3844,
          649971,
          757487,
          41421,
          643619,
          3522484,
          3666678,
          0,
          5734041,
          3322134,
          358083,
          2765169,
          16619507,
          129551,
          4,
          5536,
          22733,
          1102,
          9447,
          33,
          14487,
          5939,
          747119,
          85747,
          1923977,
          39427,
          7665,
          819663,
          0,
          2190599,
          902744,
          7940,
          26351,
          3683172,
          4456264,
          16999,
          11100428,
          649632,
          61569,
          78487,
          2455966,
          2890568,
          54963,
          20797,
          17786,
          33620,
          3026695,
          22741,
          36815,
          0,
          898,
          129963,
          1005167,
          14326217,
          0,
          5867,
          0,
          163383,
          5040518,
          882477,
          19172095,
          79265726,
          853170,
          236840,
          19,
          29,
          516578,
          4232520,
          454,
          11775,
          313744,
          239019
         ],
         "yaxis": "y"
        },
        {
         "hovertemplate": "<b>OLS trendline</b><br>TotalCases = 0.0219462 * Population + 1.2186e+06<br>R<sup>2</sup>=0.195215<br><br>Population=%{x}<br>TotalCases=%{y} <b>(trend)</b><extra></extra>",
         "legendgroup": "",
         "marker": {
          "symbol": "circle"
         },
         "mode": "lines",
         "name": "",
         "showlegend": false,
         "type": "scatter",
         "x": [
          47,
          812,
          1368,
          1614,
          3528,
          4981,
          5771,
          6095,
          10873,
          11094,
          11925,
          15125,
          17572,
          18174,
          26445,
          30423,
          33691,
          34010,
          38254,
          39226,
          39520,
          43421,
          49053,
          53546,
          56868,
          59618,
          62092,
          63385,
          66498,
          72172,
          77354,
          85410,
          98728,
          98910,
          101073,
          106759,
          107195,
          111269,
          113015,
          116255,
          121388,
          164796,
          184401,
          200144,
          223364,
          282534,
          287708,
          288217,
          314464,
          368792,
          396914,
          404915,
          441532,
          516100,
          543620,
          561901,
          591798,
          628051,
          634814,
          658391,
          703995,
          779900,
          790329,
          888456,
          896005,
          902899,
          1002197,
          1172369,
          1273428,
          1325188,
          1343875,
          1403374,
          1449891,
          1748295,
          1782115,
          1866934,
          2015490,
          2078723,
          2082661,
          2159067,
          2278829,
          2397240,
          2486937,
          2587344,
          2689862,
          2872934,
          2930524,
          2968128,
          2973462,
          3263459,
          3329282,
          3485152,
          3601462,
          3979773,
          4024025,
          4081657,
          4328553,
          4381583,
          4775110,
          4919987,
          4982904,
          5126300,
          5139053,
          5180208,
          5222756,
          5223376,
          5449270,
          5453600,
          5465629,
          5548361,
          5657017,
          5813302,
          6117933,
          6518500,
          6628347,
          6702379,
          6769151,
          6871547,
          6896655,
          6958538,
          7219641,
          7379358,
          7552800,
          8141343,
          8478242,
          8715494,
          9043072,
          9119005,
          9291000,
          9442867,
          9634162,
          9749625,
          9991083,
          10062994,
          10160159,
          10167923,
          10223344,
          10269022,
          10370747,
          10724553,
          10953714,
          11317498,
          11381377,
          11541683,
          11632334,
          11832936,
          11935764,
          12255429,
          12451031,
          13276517,
          13497237,
          15092171,
          16359500,
          16914985,
          16946446,
          17173094,
          17196308,
          17888474,
          18249868,
          18275704,
          18920657,
          18994958,
          19127772,
          19212362,
          19647681,
          20855724,
          21497097,
          21497306,
          23855008,
          25130810,
          25788217,
          27053629,
          27224262,
          28427333,
          28704947,
          29674920,
          30490639,
          31732128,
          32163045,
          32776195,
          33359415,
          33933611,
          33935765,
          35340680,
          37344787,
          37797000,
          38067913,
          39835428,
          41179351,
          43466822,
          44616626,
          44909351,
          45605823,
          46745211,
          47123533,
          51265841,
          51305184,
          54806014,
          54985702,
          60041996,
          60367471,
          61498438,
          67422000,
          68207114,
          69950844,
          83900471,
          85028760,
          85042736,
          92377986,
          98168829,
          104258327,
          111046910,
          117876226,
          126050796,
          130262220,
          145912022,
          166303494,
          211400704,
          213993441,
          225199929,
          276361788,
          332915074,
          1393409033,
          1444216102
         ],
         "xaxis": "x",
         "y": [
          1218602.36391487,
          1218619.1527453442,
          1218631.3548234408,
          1218636.7535846129,
          1218678.7585800744,
          1218710.6463848841,
          1218727.9838699491,
          1218735.094433444,
          1218839.9532988125,
          1218844.803405394,
          1218863.0406839878,
          1218933.2684715933,
          1218986.970782928,
          1219000.1823854712,
          1219181.6992702477,
          1219269.0011887148,
          1219340.7213168067,
          1219347.7221493837,
          1219440.8617526954,
          1219462.1934431805,
          1219468.6456211668,
          1219554.2576834946,
          1219677.8585896802,
          1219776.462792715,
          1219849.3680147228,
          1219909.7200196963,
          1219964.0148779887,
          1219992.3912934181,
          1220060.709763048,
          1220185.232408946,
          1220298.9575324997,
          1220475.7559877965,
          1220768.0352613367,
          1220772.0294667569,
          1220819.4990619414,
          1220944.285062043,
          1220953.853598104,
          1221043.2623501993,
          1221081.5803868116,
          1221152.6860217622,
          1221265.335782318,
          1222217.975721186,
          1222648.2306511877,
          1222993.7294200228,
          1223503.319803835,
          1224801.8754890272,
          1224915.4250431117,
          1224926.5956505777,
          1225502.6171322279,
          1226694.9093962996,
          1227312.0799722497,
          1227487.671387447,
          1228291.2747933061,
          1229927.7578139824,
          1230531.7167873892,
          1230932.9149702692,
          1231589.0400221567,
          1232384.6550171757,
          1232533.077057043,
          1233050.50222841,
          1234051.3359865223,
          1235717.1610547074,
          1235946.0378037503,
          1238099.550964488,
          1238265.222704686,
          1238416.5196946086,
          1240595.7318363732,
          1244330.357796497,
          1246548.2171676282,
          1247684.1516321464,
          1248094.2599655788,
          1249400.0359451843,
          1250420.9065689477,
          1256969.7355478911,
          1257711.9554781464,
          1259573.40882718,
          1262833.646082029,
          1264221.3691112965,
          1264307.7931824184,
          1265984.6132886005,
          1268612.932132102,
          1271211.601681524,
          1273180.1085142884,
          1275383.6589736952,
          1277633.5378267379,
          1281651.2695556462,
          1282915.1502707081,
          1283740.4145598067,
          1283857.4755032717,
          1290221.8029164656,
          1291666.3665613262,
          1295087.1182032207,
          1297639.6788208429,
          1305942.1614948458,
          1306913.3240126946,
          1308178.126467469,
          1313596.5514201683,
          1314760.3575378924,
          1323396.773341959,
          1326576.2705872452,
          1327957.058622487,
          1331104.0535698219,
          1331383.9332496133,
          1332287.1284367703,
          1333220.8946577194,
          1333234.501291568,
          1338192.0124957392,
          1338287.0394708428,
          1338551.0301136884,
          1340366.681777493,
          1342751.2663056364,
          1346181.1256137362,
          1352866.6134781232,
          1361657.530414922,
          1364068.2528477646,
          1365692.972714017,
          1367158.3632871392,
          1369405.5647057795,
          1369956.5894842788,
          1371314.6851656502,
          1377044.899549134,
          1380550.0781594408,
          1384356.4681400238,
          1397272.740890236,
          1404666.3882078899,
          1409873.164165693,
          1417062.251105762,
          1418728.6906670886,
          1422503.324519964,
          1425836.2255888009,
          1430034.4207856716,
          1432568.392985762,
          1437867.4745918992,
          1439445.6466026793,
          1441578.047534768,
          1441748.4377044458,
          1442964.7171472216,
          1443967.1749229222,
          1446199.6504523489,
          1453964.3418965791,
          1458993.5512826587,
          1466977.2217471162,
          1468379.1220110066,
          1471897.2269234695,
          1473886.6704154138,
          1478289.1187432983,
          1480545.8009132652,
          1487561.2277022963,
          1491853.9451120473,
          1509970.212449322,
          1514814.1740994086,
          1549816.8885358851,
          1577629.9234853347,
          1589820.6992972156,
          1590511.1481802952,
          1595485.206806921,
          1595994.6655136312,
          1611185.0676497938,
          1619116.2867353836,
          1619683.2883355631,
          1633837.545304158,
          1635468.1686938058,
          1638382.9291260033,
          1640239.3567989862,
          1649792.9475091803,
          1676304.8810161368,
          1690380.5706473482,
          1690385.157399726,
          1742127.718428778,
          1770126.7033920966,
          1784554.2781315786,
          1812325.2422470157,
          1816069.9853977913,
          1842472.802479756,
          1848565.3703011004,
          1869852.575872047,
          1887754.49483384,
          1915000.4403983755,
          1924457.4240082446,
          1937913.7264989596,
          1950713.179713727,
          1963314.590567447,
          1963361.8626469788,
          1994194.3852168925,
          2038176.885446459,
          2048101.2349828426,
          2054046.7414277045,
          2092836.9501806616,
          2122330.931118815,
          2172532.1897255797,
          2197765.999444301,
          2204190.196046428,
          2219475.098449287,
          2244480.3167193523,
          2252783.040801375,
          2343690.892807748,
          2344554.3215101734,
          2421384.1795360544,
          2425327.64537957,
          2536294.0019741813,
          2543436.9360900833,
          2568257.345547828,
          2698256.9249240053,
          2715487.180935903,
          2753755.3997112988,
          3059896.4753773534,
          3084658.112955346,
          3084964.832817713,
          3245945.5762655074,
          3373032.4800969316,
          3506673.72139939,
          3655657.2104825242,
          3805534.633463325,
          3984935.2477526865,
          4077359.9321866026,
          4420813.360600192,
          4868328.349531025,
          5858040.001243142,
          5914940.6835408965,
          6160880.326999373,
          7283687.87929701,
          8524816.678546626,
          31798611.837772954,
          32913633.10358167
         ],
         "yaxis": "y"
        }
       ],
       "layout": {
        "coloraxis": {
         "colorbar": {
          "title": {
           "text": "TotalCases"
          }
         },
         "colorscale": [
          [
           0,
           "#440154"
          ],
          [
           0.1111111111111111,
           "#482878"
          ],
          [
           0.2222222222222222,
           "#3e4989"
          ],
          [
           0.3333333333333333,
           "#31688e"
          ],
          [
           0.4444444444444444,
           "#26828e"
          ],
          [
           0.5555555555555556,
           "#1f9e89"
          ],
          [
           0.6666666666666666,
           "#35b779"
          ],
          [
           0.7777777777777778,
           "#6ece58"
          ],
          [
           0.8888888888888888,
           "#b5de2b"
          ],
          [
           1,
           "#fde725"
          ]
         ]
        },
        "legend": {
         "tracegroupgap": 0
        },
        "template": {
         "data": {
          "bar": [
           {
            "error_x": {
             "color": "#2a3f5f"
            },
            "error_y": {
             "color": "#2a3f5f"
            },
            "marker": {
             "line": {
              "color": "#E5ECF6",
              "width": 0.5
             },
             "pattern": {
              "fillmode": "overlay",
              "size": 10,
              "solidity": 0.2
             }
            },
            "type": "bar"
           }
          ],
          "barpolar": [
           {
            "marker": {
             "line": {
              "color": "#E5ECF6",
              "width": 0.5
             },
             "pattern": {
              "fillmode": "overlay",
              "size": 10,
              "solidity": 0.2
             }
            },
            "type": "barpolar"
           }
          ],
          "carpet": [
           {
            "aaxis": {
             "endlinecolor": "#2a3f5f",
             "gridcolor": "white",
             "linecolor": "white",
             "minorgridcolor": "white",
             "startlinecolor": "#2a3f5f"
            },
            "baxis": {
             "endlinecolor": "#2a3f5f",
             "gridcolor": "white",
             "linecolor": "white",
             "minorgridcolor": "white",
             "startlinecolor": "#2a3f5f"
            },
            "type": "carpet"
           }
          ],
          "choropleth": [
           {
            "colorbar": {
             "outlinewidth": 0,
             "ticks": ""
            },
            "type": "choropleth"
           }
          ],
          "contour": [
           {
            "colorbar": {
             "outlinewidth": 0,
             "ticks": ""
            },
            "colorscale": [
             [
              0,
              "#0d0887"
             ],
             [
              0.1111111111111111,
              "#46039f"
             ],
             [
              0.2222222222222222,
              "#7201a8"
             ],
             [
              0.3333333333333333,
              "#9c179e"
             ],
             [
              0.4444444444444444,
              "#bd3786"
             ],
             [
              0.5555555555555556,
              "#d8576b"
             ],
             [
              0.6666666666666666,
              "#ed7953"
             ],
             [
              0.7777777777777778,
              "#fb9f3a"
             ],
             [
              0.8888888888888888,
              "#fdca26"
             ],
             [
              1,
              "#f0f921"
             ]
            ],
            "type": "contour"
           }
          ],
          "contourcarpet": [
           {
            "colorbar": {
             "outlinewidth": 0,
             "ticks": ""
            },
            "type": "contourcarpet"
           }
          ],
          "heatmap": [
           {
            "colorbar": {
             "outlinewidth": 0,
             "ticks": ""
            },
            "colorscale": [
             [
              0,
              "#0d0887"
             ],
             [
              0.1111111111111111,
              "#46039f"
             ],
             [
              0.2222222222222222,
              "#7201a8"
             ],
             [
              0.3333333333333333,
              "#9c179e"
             ],
             [
              0.4444444444444444,
              "#bd3786"
             ],
             [
              0.5555555555555556,
              "#d8576b"
             ],
             [
              0.6666666666666666,
              "#ed7953"
             ],
             [
              0.7777777777777778,
              "#fb9f3a"
             ],
             [
              0.8888888888888888,
              "#fdca26"
             ],
             [
              1,
              "#f0f921"
             ]
            ],
            "type": "heatmap"
           }
          ],
          "heatmapgl": [
           {
            "colorbar": {
             "outlinewidth": 0,
             "ticks": ""
            },
            "colorscale": [
             [
              0,
              "#0d0887"
             ],
             [
              0.1111111111111111,
              "#46039f"
             ],
             [
              0.2222222222222222,
              "#7201a8"
             ],
             [
              0.3333333333333333,
              "#9c179e"
             ],
             [
              0.4444444444444444,
              "#bd3786"
             ],
             [
              0.5555555555555556,
              "#d8576b"
             ],
             [
              0.6666666666666666,
              "#ed7953"
             ],
             [
              0.7777777777777778,
              "#fb9f3a"
             ],
             [
              0.8888888888888888,
              "#fdca26"
             ],
             [
              1,
              "#f0f921"
             ]
            ],
            "type": "heatmapgl"
           }
          ],
          "histogram": [
           {
            "marker": {
             "pattern": {
              "fillmode": "overlay",
              "size": 10,
              "solidity": 0.2
             }
            },
            "type": "histogram"
           }
          ],
          "histogram2d": [
           {
            "colorbar": {
             "outlinewidth": 0,
             "ticks": ""
            },
            "colorscale": [
             [
              0,
              "#0d0887"
             ],
             [
              0.1111111111111111,
              "#46039f"
             ],
             [
              0.2222222222222222,
              "#7201a8"
             ],
             [
              0.3333333333333333,
              "#9c179e"
             ],
             [
              0.4444444444444444,
              "#bd3786"
             ],
             [
              0.5555555555555556,
              "#d8576b"
             ],
             [
              0.6666666666666666,
              "#ed7953"
             ],
             [
              0.7777777777777778,
              "#fb9f3a"
             ],
             [
              0.8888888888888888,
              "#fdca26"
             ],
             [
              1,
              "#f0f921"
             ]
            ],
            "type": "histogram2d"
           }
          ],
          "histogram2dcontour": [
           {
            "colorbar": {
             "outlinewidth": 0,
             "ticks": ""
            },
            "colorscale": [
             [
              0,
              "#0d0887"
             ],
             [
              0.1111111111111111,
              "#46039f"
             ],
             [
              0.2222222222222222,
              "#7201a8"
             ],
             [
              0.3333333333333333,
              "#9c179e"
             ],
             [
              0.4444444444444444,
              "#bd3786"
             ],
             [
              0.5555555555555556,
              "#d8576b"
             ],
             [
              0.6666666666666666,
              "#ed7953"
             ],
             [
              0.7777777777777778,
              "#fb9f3a"
             ],
             [
              0.8888888888888888,
              "#fdca26"
             ],
             [
              1,
              "#f0f921"
             ]
            ],
            "type": "histogram2dcontour"
           }
          ],
          "mesh3d": [
           {
            "colorbar": {
             "outlinewidth": 0,
             "ticks": ""
            },
            "type": "mesh3d"
           }
          ],
          "parcoords": [
           {
            "line": {
             "colorbar": {
              "outlinewidth": 0,
              "ticks": ""
             }
            },
            "type": "parcoords"
           }
          ],
          "pie": [
           {
            "automargin": true,
            "type": "pie"
           }
          ],
          "scatter": [
           {
            "fillpattern": {
             "fillmode": "overlay",
             "size": 10,
             "solidity": 0.2
            },
            "type": "scatter"
           }
          ],
          "scatter3d": [
           {
            "line": {
             "colorbar": {
              "outlinewidth": 0,
              "ticks": ""
             }
            },
            "marker": {
             "colorbar": {
              "outlinewidth": 0,
              "ticks": ""
             }
            },
            "type": "scatter3d"
           }
          ],
          "scattercarpet": [
           {
            "marker": {
             "colorbar": {
              "outlinewidth": 0,
              "ticks": ""
             }
            },
            "type": "scattercarpet"
           }
          ],
          "scattergeo": [
           {
            "marker": {
             "colorbar": {
              "outlinewidth": 0,
              "ticks": ""
             }
            },
            "type": "scattergeo"
           }
          ],
          "scattergl": [
           {
            "marker": {
             "colorbar": {
              "outlinewidth": 0,
              "ticks": ""
             }
            },
            "type": "scattergl"
           }
          ],
          "scattermapbox": [
           {
            "marker": {
             "colorbar": {
              "outlinewidth": 0,
              "ticks": ""
             }
            },
            "type": "scattermapbox"
           }
          ],
          "scatterpolar": [
           {
            "marker": {
             "colorbar": {
              "outlinewidth": 0,
              "ticks": ""
             }
            },
            "type": "scatterpolar"
           }
          ],
          "scatterpolargl": [
           {
            "marker": {
             "colorbar": {
              "outlinewidth": 0,
              "ticks": ""
             }
            },
            "type": "scatterpolargl"
           }
          ],
          "scatterternary": [
           {
            "marker": {
             "colorbar": {
              "outlinewidth": 0,
              "ticks": ""
             }
            },
            "type": "scatterternary"
           }
          ],
          "surface": [
           {
            "colorbar": {
             "outlinewidth": 0,
             "ticks": ""
            },
            "colorscale": [
             [
              0,
              "#0d0887"
             ],
             [
              0.1111111111111111,
              "#46039f"
             ],
             [
              0.2222222222222222,
              "#7201a8"
             ],
             [
              0.3333333333333333,
              "#9c179e"
             ],
             [
              0.4444444444444444,
              "#bd3786"
             ],
             [
              0.5555555555555556,
              "#d8576b"
             ],
             [
              0.6666666666666666,
              "#ed7953"
             ],
             [
              0.7777777777777778,
              "#fb9f3a"
             ],
             [
              0.8888888888888888,
              "#fdca26"
             ],
             [
              1,
              "#f0f921"
             ]
            ],
            "type": "surface"
           }
          ],
          "table": [
           {
            "cells": {
             "fill": {
              "color": "#EBF0F8"
             },
             "line": {
              "color": "white"
             }
            },
            "header": {
             "fill": {
              "color": "#C8D4E3"
             },
             "line": {
              "color": "white"
             }
            },
            "type": "table"
           }
          ]
         },
         "layout": {
          "annotationdefaults": {
           "arrowcolor": "#2a3f5f",
           "arrowhead": 0,
           "arrowwidth": 1
          },
          "autotypenumbers": "strict",
          "coloraxis": {
           "colorbar": {
            "outlinewidth": 0,
            "ticks": ""
           }
          },
          "colorscale": {
           "diverging": [
            [
             0,
             "#8e0152"
            ],
            [
             0.1,
             "#c51b7d"
            ],
            [
             0.2,
             "#de77ae"
            ],
            [
             0.3,
             "#f1b6da"
            ],
            [
             0.4,
             "#fde0ef"
            ],
            [
             0.5,
             "#f7f7f7"
            ],
            [
             0.6,
             "#e6f5d0"
            ],
            [
             0.7,
             "#b8e186"
            ],
            [
             0.8,
             "#7fbc41"
            ],
            [
             0.9,
             "#4d9221"
            ],
            [
             1,
             "#276419"
            ]
           ],
           "sequential": [
            [
             0,
             "#0d0887"
            ],
            [
             0.1111111111111111,
             "#46039f"
            ],
            [
             0.2222222222222222,
             "#7201a8"
            ],
            [
             0.3333333333333333,
             "#9c179e"
            ],
            [
             0.4444444444444444,
             "#bd3786"
            ],
            [
             0.5555555555555556,
             "#d8576b"
            ],
            [
             0.6666666666666666,
             "#ed7953"
            ],
            [
             0.7777777777777778,
             "#fb9f3a"
            ],
            [
             0.8888888888888888,
             "#fdca26"
            ],
            [
             1,
             "#f0f921"
            ]
           ],
           "sequentialminus": [
            [
             0,
             "#0d0887"
            ],
            [
             0.1111111111111111,
             "#46039f"
            ],
            [
             0.2222222222222222,
             "#7201a8"
            ],
            [
             0.3333333333333333,
             "#9c179e"
            ],
            [
             0.4444444444444444,
             "#bd3786"
            ],
            [
             0.5555555555555556,
             "#d8576b"
            ],
            [
             0.6666666666666666,
             "#ed7953"
            ],
            [
             0.7777777777777778,
             "#fb9f3a"
            ],
            [
             0.8888888888888888,
             "#fdca26"
            ],
            [
             1,
             "#f0f921"
            ]
           ]
          },
          "colorway": [
           "#636efa",
           "#EF553B",
           "#00cc96",
           "#ab63fa",
           "#FFA15A",
           "#19d3f3",
           "#FF6692",
           "#B6E880",
           "#FF97FF",
           "#FECB52"
          ],
          "font": {
           "color": "#2a3f5f"
          },
          "geo": {
           "bgcolor": "white",
           "lakecolor": "white",
           "landcolor": "#E5ECF6",
           "showlakes": true,
           "showland": true,
           "subunitcolor": "white"
          },
          "hoverlabel": {
           "align": "left"
          },
          "hovermode": "closest",
          "mapbox": {
           "style": "light"
          },
          "paper_bgcolor": "white",
          "plot_bgcolor": "#E5ECF6",
          "polar": {
           "angularaxis": {
            "gridcolor": "white",
            "linecolor": "white",
            "ticks": ""
           },
           "bgcolor": "#E5ECF6",
           "radialaxis": {
            "gridcolor": "white",
            "linecolor": "white",
            "ticks": ""
           }
          },
          "scene": {
           "xaxis": {
            "backgroundcolor": "#E5ECF6",
            "gridcolor": "white",
            "gridwidth": 2,
            "linecolor": "white",
            "showbackground": true,
            "ticks": "",
            "zerolinecolor": "white"
           },
           "yaxis": {
            "backgroundcolor": "#E5ECF6",
            "gridcolor": "white",
            "gridwidth": 2,
            "linecolor": "white",
            "showbackground": true,
            "ticks": "",
            "zerolinecolor": "white"
           },
           "zaxis": {
            "backgroundcolor": "#E5ECF6",
            "gridcolor": "white",
            "gridwidth": 2,
            "linecolor": "white",
            "showbackground": true,
            "ticks": "",
            "zerolinecolor": "white"
           }
          },
          "shapedefaults": {
           "line": {
            "color": "#2a3f5f"
           }
          },
          "ternary": {
           "aaxis": {
            "gridcolor": "white",
            "linecolor": "white",
            "ticks": ""
           },
           "baxis": {
            "gridcolor": "white",
            "linecolor": "white",
            "ticks": ""
           },
           "bgcolor": "#E5ECF6",
           "caxis": {
            "gridcolor": "white",
            "linecolor": "white",
            "ticks": ""
           }
          },
          "title": {
           "x": 0.05
          },
          "xaxis": {
           "automargin": true,
           "gridcolor": "white",
           "linecolor": "white",
           "ticks": "",
           "title": {
            "standoff": 15
           },
           "zerolinecolor": "white",
           "zerolinewidth": 2
          },
          "yaxis": {
           "automargin": true,
           "gridcolor": "white",
           "linecolor": "white",
           "ticks": "",
           "title": {
            "standoff": 15
           },
           "zerolinecolor": "white",
           "zerolinewidth": 2
          }
         }
        },
        "title": {
         "text": "Biểu đồ thể hiện sự tương quan giữa dân số và số ca mắc ở các quốc gia trên thế giới"
        },
        "xaxis": {
         "anchor": "y",
         "domain": [
          0,
          1
         ],
         "title": {
          "text": "Population"
         }
        },
        "yaxis": {
         "anchor": "x",
         "domain": [
          0,
          1
         ],
         "title": {
          "text": "TotalCases"
         }
        }
       }
      }
     },
     "metadata": {},
     "output_type": "display_data"
    }
   ],
   "source": [
    "plot_scatter(cases_country, \"Population\", \"TotalCases\", \"Biểu đồ thể hiện sự tương quan giữa dân số và số ca mắc ở các quốc gia trên thế giới\",\"Location\")"
   ]
  },
  {
   "cell_type": "markdown",
   "metadata": {},
   "source": [
    "Theo biểu đồ, ta thấy Hoa Kỳ có tổng số ca mắc cao nhất nhưng dân số nước này lại không cao.\n",
    "\n",
    "Trung Quốc có số dân đông nhất thế giới và là nơi khởi nguồn dịch bệnh nhưng tổng số ca mắc lại thấp hơn nhiều\n",
    "\n",
    "Có riêng Ấn Độ, dân số đông đồng thời số ca mắc cũng gần như rất cao, chỉ thua mỗi Hoa Kỳ."
   ]
  },
  {
   "cell_type": "markdown",
   "metadata": {},
   "source": [
    "**Ta đặt giả thuyết thống kê**\n",
    "\n",
    "H0: Không có mối quan hệ tuyến tính giữa dân số và số ca mắc\n",
    "\n",
    "Ha: Có mối quan hệ tuyến tính giữa dân số và số ca mắc"
   ]
  },
  {
   "cell_type": "markdown",
   "metadata": {},
   "source": [
    "Ta thực hiện tính hệ số tương quan và giá trị p_value "
   ]
  },
  {
   "cell_type": "code",
   "execution_count": 269,
   "metadata": {},
   "outputs": [],
   "source": [
    "res = stats.linregress(cases_country[\"Population\"], cases_country[\"TotalCases\"])"
   ]
  },
  {
   "cell_type": "code",
   "execution_count": 270,
   "metadata": {},
   "outputs": [
    {
     "name": "stdout",
     "output_type": "stream",
     "text": [
      "Ta tính được giá trị P-value = 4.0350674184659014e-12 < 0.05\n",
      "Ta bác bỏ H0, chấp nhận Ha\n"
     ]
    }
   ],
   "source": [
    "print(f\"Ta tính được giá trị P-value = {res.pvalue} < 0.05\")\n",
    "print(f\"Ta bác bỏ H0, chấp nhận Ha\")"
   ]
  },
  {
   "cell_type": "code",
   "execution_count": 271,
   "metadata": {},
   "outputs": [
    {
     "name": "stdout",
     "output_type": "stream",
     "text": [
      "Tuy nhiên, vì hệ số tương quan R = 0.4418309554783007 không quá mạnh cũng không quá yếu, ta cũng chưa thể kết luận ngay dân số có ảnh hưởng đến số ca mắc Covid-19 ở các quốc gia trên thế giới hay không vì còn nhiều yếu tố ảnh hưởng khác như hệ thống y tế, chính sách cách ly của mỗi quốc gia...\n"
     ]
    }
   ],
   "source": [
    "print(f\"Tuy nhiên, vì hệ số tương quan R = {res.rvalue} không quá mạnh cũng không quá yếu, ta cũng chưa thể kết luận ngay dân số có ảnh hưởng đến số ca mắc Covid-19 ở các quốc gia trên thế giới hay không vì còn nhiều yếu tố ảnh hưởng khác như hệ thống y tế, chính sách cách ly của mỗi quốc gia...\")"
   ]
  },
  {
   "cell_type": "markdown",
   "metadata": {},
   "source": [
    "## Câu 2: Có phải các nước có nền kinh tế phát triển, thu nhập cao thì dịch bệnh Covid-19 sẽ ít nghiêm trọng hơn so với các nước có nền kinh tế phát triển kém hơn, thu nhập thấp hơn không ? **(X: Location, TotalCases, TotalDeaths)**  **(Y: Tỉ lệ tử vong)**"
   ]
  },
  {
   "cell_type": "code",
   "execution_count": 272,
   "metadata": {},
   "outputs": [],
   "source": [
    "covid_country = covid_df.copy()\n",
    "covid_country = covid_country.groupby(by= 'Location').agg({'Continent': 'first', 'Location': 'first', 'TotalCases': 'max', 'TotalDeaths': 'max'})\n",
    "covid_country = covid_country[covid_country.Continent != 0]"
   ]
  },
  {
   "cell_type": "markdown",
   "metadata": {},
   "source": [
    "Lấy tên các quốc gia có trong dữ liệu"
   ]
  },
  {
   "cell_type": "code",
   "execution_count": 273,
   "metadata": {},
   "outputs": [],
   "source": [
    "list_country = list([])\n",
    "list_country = covid_country['Location'].unique().tolist()"
   ]
  },
  {
   "cell_type": "markdown",
   "metadata": {},
   "source": [
    "Sắp xếp số ca mắc covid-19 từ cao xuống thấp theo các quốc gia"
   ]
  },
  {
   "cell_type": "code",
   "execution_count": 274,
   "metadata": {},
   "outputs": [
    {
     "data": {
      "text/html": [
       "<div>\n",
       "<style scoped>\n",
       "    .dataframe tbody tr th:only-of-type {\n",
       "        vertical-align: middle;\n",
       "    }\n",
       "\n",
       "    .dataframe tbody tr th {\n",
       "        vertical-align: top;\n",
       "    }\n",
       "\n",
       "    .dataframe thead th {\n",
       "        text-align: right;\n",
       "    }\n",
       "</style>\n",
       "<table border=\"1\" class=\"dataframe\">\n",
       "  <thead>\n",
       "    <tr style=\"text-align: right;\">\n",
       "      <th></th>\n",
       "      <th>Continent</th>\n",
       "      <th>Location</th>\n",
       "      <th>TotalCases</th>\n",
       "      <th>TotalDeaths</th>\n",
       "    </tr>\n",
       "    <tr>\n",
       "      <th>Location</th>\n",
       "      <th></th>\n",
       "      <th></th>\n",
       "      <th></th>\n",
       "      <th></th>\n",
       "    </tr>\n",
       "  </thead>\n",
       "  <tbody>\n",
       "    <tr>\n",
       "      <th>United States</th>\n",
       "      <td>North America</td>\n",
       "      <td>United States</td>\n",
       "      <td>79265726.0</td>\n",
       "      <td>958437.0</td>\n",
       "    </tr>\n",
       "    <tr>\n",
       "      <th>India</th>\n",
       "      <td>Asia</td>\n",
       "      <td>India</td>\n",
       "      <td>42962953.0</td>\n",
       "      <td>515036.0</td>\n",
       "    </tr>\n",
       "    <tr>\n",
       "      <th>Brazil</th>\n",
       "      <td>South America</td>\n",
       "      <td>Brazil</td>\n",
       "      <td>29040800.0</td>\n",
       "      <td>652216.0</td>\n",
       "    </tr>\n",
       "    <tr>\n",
       "      <th>France</th>\n",
       "      <td>Europe</td>\n",
       "      <td>France</td>\n",
       "      <td>23064766.0</td>\n",
       "      <td>139312.0</td>\n",
       "    </tr>\n",
       "    <tr>\n",
       "      <th>United Kingdom</th>\n",
       "      <td>Europe</td>\n",
       "      <td>United Kingdom</td>\n",
       "      <td>19172095.0</td>\n",
       "      <td>162152.0</td>\n",
       "    </tr>\n",
       "    <tr>\n",
       "      <th>...</th>\n",
       "      <td>...</td>\n",
       "      <td>...</td>\n",
       "      <td>...</td>\n",
       "      <td>...</td>\n",
       "    </tr>\n",
       "    <tr>\n",
       "      <th>Nauru</th>\n",
       "      <td>Oceania</td>\n",
       "      <td>Nauru</td>\n",
       "      <td>0.0</td>\n",
       "      <td>0.0</td>\n",
       "    </tr>\n",
       "    <tr>\n",
       "      <th>Guernsey</th>\n",
       "      <td>Europe</td>\n",
       "      <td>Guernsey</td>\n",
       "      <td>0.0</td>\n",
       "      <td>0.0</td>\n",
       "    </tr>\n",
       "    <tr>\n",
       "      <th>Tokelau</th>\n",
       "      <td>Oceania</td>\n",
       "      <td>Tokelau</td>\n",
       "      <td>0.0</td>\n",
       "      <td>0.0</td>\n",
       "    </tr>\n",
       "    <tr>\n",
       "      <th>Tuvalu</th>\n",
       "      <td>Oceania</td>\n",
       "      <td>Tuvalu</td>\n",
       "      <td>0.0</td>\n",
       "      <td>0.0</td>\n",
       "    </tr>\n",
       "    <tr>\n",
       "      <th>Niue</th>\n",
       "      <td>Oceania</td>\n",
       "      <td>Niue</td>\n",
       "      <td>0.0</td>\n",
       "      <td>0.0</td>\n",
       "    </tr>\n",
       "  </tbody>\n",
       "</table>\n",
       "<p>224 rows × 4 columns</p>\n",
       "</div>"
      ],
      "text/plain": [
       "                    Continent        Location  TotalCases  TotalDeaths\n",
       "Location                                                              \n",
       "United States   North America   United States  79265726.0     958437.0\n",
       "India                    Asia           India  42962953.0     515036.0\n",
       "Brazil          South America          Brazil  29040800.0     652216.0\n",
       "France                 Europe          France  23064766.0     139312.0\n",
       "United Kingdom         Europe  United Kingdom  19172095.0     162152.0\n",
       "...                       ...             ...         ...          ...\n",
       "Nauru                 Oceania           Nauru         0.0          0.0\n",
       "Guernsey               Europe        Guernsey         0.0          0.0\n",
       "Tokelau               Oceania         Tokelau         0.0          0.0\n",
       "Tuvalu                Oceania          Tuvalu         0.0          0.0\n",
       "Niue                  Oceania            Niue         0.0          0.0\n",
       "\n",
       "[224 rows x 4 columns]"
      ]
     },
     "execution_count": 274,
     "metadata": {},
     "output_type": "execute_result"
    }
   ],
   "source": [
    "covid_country.sort_values('TotalCases', inplace= True, ascending= False)\n",
    "covid_country"
   ]
  },
  {
   "cell_type": "code",
   "execution_count": 275,
   "metadata": {},
   "outputs": [
    {
     "data": {
      "application/vnd.plotly.v1+json": {
       "config": {
        "plotlyServerURL": "https://plot.ly"
       },
       "data": [
        {
         "alignmentgroup": "True",
         "hovertemplate": "Continent=North America<br>TotalCases=%{text}<br>Location=%{y}<extra></extra>",
         "legendgroup": "North America",
         "marker": {
          "color": "rgb(27,158,119)",
          "pattern": {
           "shape": ""
          }
         },
         "name": "North America",
         "offsetgroup": "North America",
         "orientation": "h",
         "showlegend": true,
         "text": [
          79265726
         ],
         "textposition": "auto",
         "type": "bar",
         "x": [
          79265726
         ],
         "xaxis": "x",
         "y": [
          "United States"
         ],
         "yaxis": "y"
        },
        {
         "alignmentgroup": "True",
         "hovertemplate": "Continent=Asia<br>TotalCases=%{text}<br>Location=%{y}<extra></extra>",
         "legendgroup": "Asia",
         "marker": {
          "color": "rgb(217,95,2)",
          "pattern": {
           "shape": ""
          }
         },
         "name": "Asia",
         "offsetgroup": "Asia",
         "orientation": "h",
         "showlegend": true,
         "text": [
          42962953,
          14326217
         ],
         "textposition": "auto",
         "type": "bar",
         "x": [
          42962953,
          14326217
         ],
         "xaxis": "x",
         "y": [
          "India",
          "Turkey"
         ],
         "yaxis": "y"
        },
        {
         "alignmentgroup": "True",
         "hovertemplate": "Continent=South America<br>TotalCases=%{text}<br>Location=%{y}<extra></extra>",
         "legendgroup": "South America",
         "marker": {
          "color": "rgb(117,112,179)",
          "pattern": {
           "shape": ""
          }
         },
         "name": "South America",
         "offsetgroup": "South America",
         "orientation": "h",
         "showlegend": true,
         "text": [
          29040800
         ],
         "textposition": "auto",
         "type": "bar",
         "x": [
          29040800
         ],
         "xaxis": "x",
         "y": [
          "Brazil"
         ],
         "yaxis": "y"
        },
        {
         "alignmentgroup": "True",
         "hovertemplate": "Continent=Europe<br>TotalCases=%{text}<br>Location=%{y}<extra></extra>",
         "legendgroup": "Europe",
         "marker": {
          "color": "rgb(231,41,138)",
          "pattern": {
           "shape": ""
          }
         },
         "name": "Europe",
         "offsetgroup": "Europe",
         "orientation": "h",
         "showlegend": true,
         "text": [
          23064766,
          19172095,
          16619507,
          15830112,
          12990223,
          11100428
         ],
         "textposition": "auto",
         "type": "bar",
         "x": [
          23064766,
          19172095,
          16619507,
          15830112,
          12990223,
          11100428
         ],
         "xaxis": "x",
         "y": [
          "France",
          "United Kingdom",
          "Russia",
          "Germany",
          "Italy",
          "Spain"
         ],
         "yaxis": "y"
        }
       ],
       "layout": {
        "barmode": "relative",
        "height": 500,
        "legend": {
         "title": {
          "text": "Continent"
         },
         "tracegroupgap": 0
        },
        "margin": {
         "t": 60
        },
        "template": {
         "data": {
          "bar": [
           {
            "error_x": {
             "color": "#f2f5fa"
            },
            "error_y": {
             "color": "#f2f5fa"
            },
            "marker": {
             "line": {
              "color": "rgb(17,17,17)",
              "width": 0.5
             },
             "pattern": {
              "fillmode": "overlay",
              "size": 10,
              "solidity": 0.2
             }
            },
            "type": "bar"
           }
          ],
          "barpolar": [
           {
            "marker": {
             "line": {
              "color": "rgb(17,17,17)",
              "width": 0.5
             },
             "pattern": {
              "fillmode": "overlay",
              "size": 10,
              "solidity": 0.2
             }
            },
            "type": "barpolar"
           }
          ],
          "carpet": [
           {
            "aaxis": {
             "endlinecolor": "#A2B1C6",
             "gridcolor": "#506784",
             "linecolor": "#506784",
             "minorgridcolor": "#506784",
             "startlinecolor": "#A2B1C6"
            },
            "baxis": {
             "endlinecolor": "#A2B1C6",
             "gridcolor": "#506784",
             "linecolor": "#506784",
             "minorgridcolor": "#506784",
             "startlinecolor": "#A2B1C6"
            },
            "type": "carpet"
           }
          ],
          "choropleth": [
           {
            "colorbar": {
             "outlinewidth": 0,
             "ticks": ""
            },
            "type": "choropleth"
           }
          ],
          "contour": [
           {
            "colorbar": {
             "outlinewidth": 0,
             "ticks": ""
            },
            "colorscale": [
             [
              0,
              "#0d0887"
             ],
             [
              0.1111111111111111,
              "#46039f"
             ],
             [
              0.2222222222222222,
              "#7201a8"
             ],
             [
              0.3333333333333333,
              "#9c179e"
             ],
             [
              0.4444444444444444,
              "#bd3786"
             ],
             [
              0.5555555555555556,
              "#d8576b"
             ],
             [
              0.6666666666666666,
              "#ed7953"
             ],
             [
              0.7777777777777778,
              "#fb9f3a"
             ],
             [
              0.8888888888888888,
              "#fdca26"
             ],
             [
              1,
              "#f0f921"
             ]
            ],
            "type": "contour"
           }
          ],
          "contourcarpet": [
           {
            "colorbar": {
             "outlinewidth": 0,
             "ticks": ""
            },
            "type": "contourcarpet"
           }
          ],
          "heatmap": [
           {
            "colorbar": {
             "outlinewidth": 0,
             "ticks": ""
            },
            "colorscale": [
             [
              0,
              "#0d0887"
             ],
             [
              0.1111111111111111,
              "#46039f"
             ],
             [
              0.2222222222222222,
              "#7201a8"
             ],
             [
              0.3333333333333333,
              "#9c179e"
             ],
             [
              0.4444444444444444,
              "#bd3786"
             ],
             [
              0.5555555555555556,
              "#d8576b"
             ],
             [
              0.6666666666666666,
              "#ed7953"
             ],
             [
              0.7777777777777778,
              "#fb9f3a"
             ],
             [
              0.8888888888888888,
              "#fdca26"
             ],
             [
              1,
              "#f0f921"
             ]
            ],
            "type": "heatmap"
           }
          ],
          "heatmapgl": [
           {
            "colorbar": {
             "outlinewidth": 0,
             "ticks": ""
            },
            "colorscale": [
             [
              0,
              "#0d0887"
             ],
             [
              0.1111111111111111,
              "#46039f"
             ],
             [
              0.2222222222222222,
              "#7201a8"
             ],
             [
              0.3333333333333333,
              "#9c179e"
             ],
             [
              0.4444444444444444,
              "#bd3786"
             ],
             [
              0.5555555555555556,
              "#d8576b"
             ],
             [
              0.6666666666666666,
              "#ed7953"
             ],
             [
              0.7777777777777778,
              "#fb9f3a"
             ],
             [
              0.8888888888888888,
              "#fdca26"
             ],
             [
              1,
              "#f0f921"
             ]
            ],
            "type": "heatmapgl"
           }
          ],
          "histogram": [
           {
            "marker": {
             "pattern": {
              "fillmode": "overlay",
              "size": 10,
              "solidity": 0.2
             }
            },
            "type": "histogram"
           }
          ],
          "histogram2d": [
           {
            "colorbar": {
             "outlinewidth": 0,
             "ticks": ""
            },
            "colorscale": [
             [
              0,
              "#0d0887"
             ],
             [
              0.1111111111111111,
              "#46039f"
             ],
             [
              0.2222222222222222,
              "#7201a8"
             ],
             [
              0.3333333333333333,
              "#9c179e"
             ],
             [
              0.4444444444444444,
              "#bd3786"
             ],
             [
              0.5555555555555556,
              "#d8576b"
             ],
             [
              0.6666666666666666,
              "#ed7953"
             ],
             [
              0.7777777777777778,
              "#fb9f3a"
             ],
             [
              0.8888888888888888,
              "#fdca26"
             ],
             [
              1,
              "#f0f921"
             ]
            ],
            "type": "histogram2d"
           }
          ],
          "histogram2dcontour": [
           {
            "colorbar": {
             "outlinewidth": 0,
             "ticks": ""
            },
            "colorscale": [
             [
              0,
              "#0d0887"
             ],
             [
              0.1111111111111111,
              "#46039f"
             ],
             [
              0.2222222222222222,
              "#7201a8"
             ],
             [
              0.3333333333333333,
              "#9c179e"
             ],
             [
              0.4444444444444444,
              "#bd3786"
             ],
             [
              0.5555555555555556,
              "#d8576b"
             ],
             [
              0.6666666666666666,
              "#ed7953"
             ],
             [
              0.7777777777777778,
              "#fb9f3a"
             ],
             [
              0.8888888888888888,
              "#fdca26"
             ],
             [
              1,
              "#f0f921"
             ]
            ],
            "type": "histogram2dcontour"
           }
          ],
          "mesh3d": [
           {
            "colorbar": {
             "outlinewidth": 0,
             "ticks": ""
            },
            "type": "mesh3d"
           }
          ],
          "parcoords": [
           {
            "line": {
             "colorbar": {
              "outlinewidth": 0,
              "ticks": ""
             }
            },
            "type": "parcoords"
           }
          ],
          "pie": [
           {
            "automargin": true,
            "type": "pie"
           }
          ],
          "scatter": [
           {
            "marker": {
             "line": {
              "color": "#283442"
             }
            },
            "type": "scatter"
           }
          ],
          "scatter3d": [
           {
            "line": {
             "colorbar": {
              "outlinewidth": 0,
              "ticks": ""
             }
            },
            "marker": {
             "colorbar": {
              "outlinewidth": 0,
              "ticks": ""
             }
            },
            "type": "scatter3d"
           }
          ],
          "scattercarpet": [
           {
            "marker": {
             "colorbar": {
              "outlinewidth": 0,
              "ticks": ""
             }
            },
            "type": "scattercarpet"
           }
          ],
          "scattergeo": [
           {
            "marker": {
             "colorbar": {
              "outlinewidth": 0,
              "ticks": ""
             }
            },
            "type": "scattergeo"
           }
          ],
          "scattergl": [
           {
            "marker": {
             "line": {
              "color": "#283442"
             }
            },
            "type": "scattergl"
           }
          ],
          "scattermapbox": [
           {
            "marker": {
             "colorbar": {
              "outlinewidth": 0,
              "ticks": ""
             }
            },
            "type": "scattermapbox"
           }
          ],
          "scatterpolar": [
           {
            "marker": {
             "colorbar": {
              "outlinewidth": 0,
              "ticks": ""
             }
            },
            "type": "scatterpolar"
           }
          ],
          "scatterpolargl": [
           {
            "marker": {
             "colorbar": {
              "outlinewidth": 0,
              "ticks": ""
             }
            },
            "type": "scatterpolargl"
           }
          ],
          "scatterternary": [
           {
            "marker": {
             "colorbar": {
              "outlinewidth": 0,
              "ticks": ""
             }
            },
            "type": "scatterternary"
           }
          ],
          "surface": [
           {
            "colorbar": {
             "outlinewidth": 0,
             "ticks": ""
            },
            "colorscale": [
             [
              0,
              "#0d0887"
             ],
             [
              0.1111111111111111,
              "#46039f"
             ],
             [
              0.2222222222222222,
              "#7201a8"
             ],
             [
              0.3333333333333333,
              "#9c179e"
             ],
             [
              0.4444444444444444,
              "#bd3786"
             ],
             [
              0.5555555555555556,
              "#d8576b"
             ],
             [
              0.6666666666666666,
              "#ed7953"
             ],
             [
              0.7777777777777778,
              "#fb9f3a"
             ],
             [
              0.8888888888888888,
              "#fdca26"
             ],
             [
              1,
              "#f0f921"
             ]
            ],
            "type": "surface"
           }
          ],
          "table": [
           {
            "cells": {
             "fill": {
              "color": "#506784"
             },
             "line": {
              "color": "rgb(17,17,17)"
             }
            },
            "header": {
             "fill": {
              "color": "#2a3f5f"
             },
             "line": {
              "color": "rgb(17,17,17)"
             }
            },
            "type": "table"
           }
          ]
         },
         "layout": {
          "annotationdefaults": {
           "arrowcolor": "#f2f5fa",
           "arrowhead": 0,
           "arrowwidth": 1
          },
          "autotypenumbers": "strict",
          "coloraxis": {
           "colorbar": {
            "outlinewidth": 0,
            "ticks": ""
           }
          },
          "colorscale": {
           "diverging": [
            [
             0,
             "#8e0152"
            ],
            [
             0.1,
             "#c51b7d"
            ],
            [
             0.2,
             "#de77ae"
            ],
            [
             0.3,
             "#f1b6da"
            ],
            [
             0.4,
             "#fde0ef"
            ],
            [
             0.5,
             "#f7f7f7"
            ],
            [
             0.6,
             "#e6f5d0"
            ],
            [
             0.7,
             "#b8e186"
            ],
            [
             0.8,
             "#7fbc41"
            ],
            [
             0.9,
             "#4d9221"
            ],
            [
             1,
             "#276419"
            ]
           ],
           "sequential": [
            [
             0,
             "#0d0887"
            ],
            [
             0.1111111111111111,
             "#46039f"
            ],
            [
             0.2222222222222222,
             "#7201a8"
            ],
            [
             0.3333333333333333,
             "#9c179e"
            ],
            [
             0.4444444444444444,
             "#bd3786"
            ],
            [
             0.5555555555555556,
             "#d8576b"
            ],
            [
             0.6666666666666666,
             "#ed7953"
            ],
            [
             0.7777777777777778,
             "#fb9f3a"
            ],
            [
             0.8888888888888888,
             "#fdca26"
            ],
            [
             1,
             "#f0f921"
            ]
           ],
           "sequentialminus": [
            [
             0,
             "#0d0887"
            ],
            [
             0.1111111111111111,
             "#46039f"
            ],
            [
             0.2222222222222222,
             "#7201a8"
            ],
            [
             0.3333333333333333,
             "#9c179e"
            ],
            [
             0.4444444444444444,
             "#bd3786"
            ],
            [
             0.5555555555555556,
             "#d8576b"
            ],
            [
             0.6666666666666666,
             "#ed7953"
            ],
            [
             0.7777777777777778,
             "#fb9f3a"
            ],
            [
             0.8888888888888888,
             "#fdca26"
            ],
            [
             1,
             "#f0f921"
            ]
           ]
          },
          "colorway": [
           "#636efa",
           "#EF553B",
           "#00cc96",
           "#ab63fa",
           "#FFA15A",
           "#19d3f3",
           "#FF6692",
           "#B6E880",
           "#FF97FF",
           "#FECB52"
          ],
          "font": {
           "color": "#f2f5fa"
          },
          "geo": {
           "bgcolor": "rgb(17,17,17)",
           "lakecolor": "rgb(17,17,17)",
           "landcolor": "rgb(17,17,17)",
           "showlakes": true,
           "showland": true,
           "subunitcolor": "#506784"
          },
          "hoverlabel": {
           "align": "left"
          },
          "hovermode": "closest",
          "mapbox": {
           "style": "dark"
          },
          "paper_bgcolor": "rgb(17,17,17)",
          "plot_bgcolor": "rgb(17,17,17)",
          "polar": {
           "angularaxis": {
            "gridcolor": "#506784",
            "linecolor": "#506784",
            "ticks": ""
           },
           "bgcolor": "rgb(17,17,17)",
           "radialaxis": {
            "gridcolor": "#506784",
            "linecolor": "#506784",
            "ticks": ""
           }
          },
          "scene": {
           "xaxis": {
            "backgroundcolor": "rgb(17,17,17)",
            "gridcolor": "#506784",
            "gridwidth": 2,
            "linecolor": "#506784",
            "showbackground": true,
            "ticks": "",
            "zerolinecolor": "#C8D4E3"
           },
           "yaxis": {
            "backgroundcolor": "rgb(17,17,17)",
            "gridcolor": "#506784",
            "gridwidth": 2,
            "linecolor": "#506784",
            "showbackground": true,
            "ticks": "",
            "zerolinecolor": "#C8D4E3"
           },
           "zaxis": {
            "backgroundcolor": "rgb(17,17,17)",
            "gridcolor": "#506784",
            "gridwidth": 2,
            "linecolor": "#506784",
            "showbackground": true,
            "ticks": "",
            "zerolinecolor": "#C8D4E3"
           }
          },
          "shapedefaults": {
           "line": {
            "color": "#f2f5fa"
           }
          },
          "sliderdefaults": {
           "bgcolor": "#C8D4E3",
           "bordercolor": "rgb(17,17,17)",
           "borderwidth": 1,
           "tickwidth": 0
          },
          "ternary": {
           "aaxis": {
            "gridcolor": "#506784",
            "linecolor": "#506784",
            "ticks": ""
           },
           "baxis": {
            "gridcolor": "#506784",
            "linecolor": "#506784",
            "ticks": ""
           },
           "bgcolor": "rgb(17,17,17)",
           "caxis": {
            "gridcolor": "#506784",
            "linecolor": "#506784",
            "ticks": ""
           }
          },
          "title": {
           "x": 0.05
          },
          "updatemenudefaults": {
           "bgcolor": "#506784",
           "borderwidth": 0
          },
          "xaxis": {
           "automargin": true,
           "gridcolor": "#283442",
           "linecolor": "#506784",
           "ticks": "",
           "title": {
            "standoff": 15
           },
           "zerolinecolor": "#283442",
           "zerolinewidth": 2
          },
          "yaxis": {
           "automargin": true,
           "gridcolor": "#283442",
           "linecolor": "#506784",
           "ticks": "",
           "title": {
            "standoff": 15
           },
           "zerolinecolor": "#283442",
           "zerolinewidth": 2
          }
         }
        },
        "title": {
         "text": "Top 10 quốc gia có số ca mắc nhiều nhất trên thế giới"
        },
        "uniformtext": {
         "minsize": 8,
         "mode": "hide"
        },
        "xaxis": {
         "anchor": "y",
         "domain": [
          0,
          1
         ],
         "title": {
          "text": "TotalCases"
         }
        },
        "yaxis": {
         "anchor": "x",
         "categoryorder": "total ascending",
         "domain": [
          0,
          1
         ],
         "title": {
          "text": "Location"
         }
        }
       }
      }
     },
     "metadata": {},
     "output_type": "display_data"
    }
   ],
   "source": [
    "plot_bar(covid_country.head(10), 'TotalCases', 'Location', 'Top 10 quốc gia có số ca mắc nhiều nhất trên thế giới')"
   ]
  },
  {
   "cell_type": "markdown",
   "metadata": {},
   "source": [
    "Sắp xếp số ca tử vong vì covid-19 từ cao xuống thấp theo các quốc gia"
   ]
  },
  {
   "cell_type": "code",
   "execution_count": 276,
   "metadata": {},
   "outputs": [
    {
     "data": {
      "text/html": [
       "<div>\n",
       "<style scoped>\n",
       "    .dataframe tbody tr th:only-of-type {\n",
       "        vertical-align: middle;\n",
       "    }\n",
       "\n",
       "    .dataframe tbody tr th {\n",
       "        vertical-align: top;\n",
       "    }\n",
       "\n",
       "    .dataframe thead th {\n",
       "        text-align: right;\n",
       "    }\n",
       "</style>\n",
       "<table border=\"1\" class=\"dataframe\">\n",
       "  <thead>\n",
       "    <tr style=\"text-align: right;\">\n",
       "      <th></th>\n",
       "      <th>Continent</th>\n",
       "      <th>Location</th>\n",
       "      <th>TotalCases</th>\n",
       "      <th>TotalDeaths</th>\n",
       "    </tr>\n",
       "    <tr>\n",
       "      <th>Location</th>\n",
       "      <th></th>\n",
       "      <th></th>\n",
       "      <th></th>\n",
       "      <th></th>\n",
       "    </tr>\n",
       "  </thead>\n",
       "  <tbody>\n",
       "    <tr>\n",
       "      <th>United States</th>\n",
       "      <td>North America</td>\n",
       "      <td>United States</td>\n",
       "      <td>79265726.0</td>\n",
       "      <td>958437.0</td>\n",
       "    </tr>\n",
       "    <tr>\n",
       "      <th>Brazil</th>\n",
       "      <td>South America</td>\n",
       "      <td>Brazil</td>\n",
       "      <td>29040800.0</td>\n",
       "      <td>652216.0</td>\n",
       "    </tr>\n",
       "    <tr>\n",
       "      <th>India</th>\n",
       "      <td>Asia</td>\n",
       "      <td>India</td>\n",
       "      <td>42962953.0</td>\n",
       "      <td>515036.0</td>\n",
       "    </tr>\n",
       "    <tr>\n",
       "      <th>Russia</th>\n",
       "      <td>Europe</td>\n",
       "      <td>Russia</td>\n",
       "      <td>16619507.0</td>\n",
       "      <td>348467.0</td>\n",
       "    </tr>\n",
       "    <tr>\n",
       "      <th>Mexico</th>\n",
       "      <td>North America</td>\n",
       "      <td>Mexico</td>\n",
       "      <td>5554392.0</td>\n",
       "      <td>319604.0</td>\n",
       "    </tr>\n",
       "    <tr>\n",
       "      <th>...</th>\n",
       "      <td>...</td>\n",
       "      <td>...</td>\n",
       "      <td>...</td>\n",
       "      <td>...</td>\n",
       "    </tr>\n",
       "    <tr>\n",
       "      <th>Samoa</th>\n",
       "      <td>Oceania</td>\n",
       "      <td>Samoa</td>\n",
       "      <td>33.0</td>\n",
       "      <td>0.0</td>\n",
       "    </tr>\n",
       "    <tr>\n",
       "      <th>Macao</th>\n",
       "      <td>Asia</td>\n",
       "      <td>Macao</td>\n",
       "      <td>82.0</td>\n",
       "      <td>0.0</td>\n",
       "    </tr>\n",
       "    <tr>\n",
       "      <th>Falkland Islands</th>\n",
       "      <td>South America</td>\n",
       "      <td>Falkland Islands</td>\n",
       "      <td>115.0</td>\n",
       "      <td>0.0</td>\n",
       "    </tr>\n",
       "    <tr>\n",
       "      <th>Tonga</th>\n",
       "      <td>Oceania</td>\n",
       "      <td>Tonga</td>\n",
       "      <td>898.0</td>\n",
       "      <td>0.0</td>\n",
       "    </tr>\n",
       "    <tr>\n",
       "      <th>Niue</th>\n",
       "      <td>Oceania</td>\n",
       "      <td>Niue</td>\n",
       "      <td>0.0</td>\n",
       "      <td>0.0</td>\n",
       "    </tr>\n",
       "  </tbody>\n",
       "</table>\n",
       "<p>224 rows × 4 columns</p>\n",
       "</div>"
      ],
      "text/plain": [
       "                      Continent          Location  TotalCases  TotalDeaths\n",
       "Location                                                                  \n",
       "United States     North America     United States  79265726.0     958437.0\n",
       "Brazil            South America            Brazil  29040800.0     652216.0\n",
       "India                      Asia             India  42962953.0     515036.0\n",
       "Russia                   Europe            Russia  16619507.0     348467.0\n",
       "Mexico            North America            Mexico   5554392.0     319604.0\n",
       "...                         ...               ...         ...          ...\n",
       "Samoa                   Oceania             Samoa        33.0          0.0\n",
       "Macao                      Asia             Macao        82.0          0.0\n",
       "Falkland Islands  South America  Falkland Islands       115.0          0.0\n",
       "Tonga                   Oceania             Tonga       898.0          0.0\n",
       "Niue                    Oceania              Niue         0.0          0.0\n",
       "\n",
       "[224 rows x 4 columns]"
      ]
     },
     "execution_count": 276,
     "metadata": {},
     "output_type": "execute_result"
    }
   ],
   "source": [
    "covid_country.sort_values('TotalDeaths', inplace= True, ascending= False)\n",
    "covid_country"
   ]
  },
  {
   "cell_type": "code",
   "execution_count": 277,
   "metadata": {},
   "outputs": [
    {
     "data": {
      "application/vnd.plotly.v1+json": {
       "config": {
        "plotlyServerURL": "https://plot.ly"
       },
       "data": [
        {
         "alignmentgroup": "True",
         "hovertemplate": "Continent=North America<br>TotalDeaths=%{text}<br>Location=%{y}<extra></extra>",
         "legendgroup": "North America",
         "marker": {
          "color": "rgb(27,158,119)",
          "pattern": {
           "shape": ""
          }
         },
         "name": "North America",
         "offsetgroup": "North America",
         "orientation": "h",
         "showlegend": true,
         "text": [
          958437,
          319604
         ],
         "textposition": "auto",
         "type": "bar",
         "x": [
          958437,
          319604
         ],
         "xaxis": "x",
         "y": [
          "United States",
          "Mexico"
         ],
         "yaxis": "y"
        },
        {
         "alignmentgroup": "True",
         "hovertemplate": "Continent=South America<br>TotalDeaths=%{text}<br>Location=%{y}<extra></extra>",
         "legendgroup": "South America",
         "marker": {
          "color": "rgb(217,95,2)",
          "pattern": {
           "shape": ""
          }
         },
         "name": "South America",
         "offsetgroup": "South America",
         "orientation": "h",
         "showlegend": true,
         "text": [
          652216,
          210907
         ],
         "textposition": "auto",
         "type": "bar",
         "x": [
          652216,
          210907
         ],
         "xaxis": "x",
         "y": [
          "Brazil",
          "Peru"
         ],
         "yaxis": "y"
        },
        {
         "alignmentgroup": "True",
         "hovertemplate": "Continent=Asia<br>TotalDeaths=%{text}<br>Location=%{y}<extra></extra>",
         "legendgroup": "Asia",
         "marker": {
          "color": "rgb(117,112,179)",
          "pattern": {
           "shape": ""
          }
         },
         "name": "Asia",
         "offsetgroup": "Asia",
         "orientation": "h",
         "showlegend": true,
         "text": [
          515036,
          149918
         ],
         "textposition": "auto",
         "type": "bar",
         "x": [
          515036,
          149918
         ],
         "xaxis": "x",
         "y": [
          "India",
          "Indonesia"
         ],
         "yaxis": "y"
        },
        {
         "alignmentgroup": "True",
         "hovertemplate": "Continent=Europe<br>TotalDeaths=%{text}<br>Location=%{y}<extra></extra>",
         "legendgroup": "Europe",
         "marker": {
          "color": "rgb(231,41,138)",
          "pattern": {
           "shape": ""
          }
         },
         "name": "Europe",
         "offsetgroup": "Europe",
         "orientation": "h",
         "showlegend": true,
         "text": [
          348467,
          162152,
          155782,
          139312
         ],
         "textposition": "auto",
         "type": "bar",
         "x": [
          348467,
          162152,
          155782,
          139312
         ],
         "xaxis": "x",
         "y": [
          "Russia",
          "United Kingdom",
          "Italy",
          "France"
         ],
         "yaxis": "y"
        }
       ],
       "layout": {
        "barmode": "relative",
        "height": 500,
        "legend": {
         "title": {
          "text": "Continent"
         },
         "tracegroupgap": 0
        },
        "margin": {
         "t": 60
        },
        "template": {
         "data": {
          "bar": [
           {
            "error_x": {
             "color": "#f2f5fa"
            },
            "error_y": {
             "color": "#f2f5fa"
            },
            "marker": {
             "line": {
              "color": "rgb(17,17,17)",
              "width": 0.5
             },
             "pattern": {
              "fillmode": "overlay",
              "size": 10,
              "solidity": 0.2
             }
            },
            "type": "bar"
           }
          ],
          "barpolar": [
           {
            "marker": {
             "line": {
              "color": "rgb(17,17,17)",
              "width": 0.5
             },
             "pattern": {
              "fillmode": "overlay",
              "size": 10,
              "solidity": 0.2
             }
            },
            "type": "barpolar"
           }
          ],
          "carpet": [
           {
            "aaxis": {
             "endlinecolor": "#A2B1C6",
             "gridcolor": "#506784",
             "linecolor": "#506784",
             "minorgridcolor": "#506784",
             "startlinecolor": "#A2B1C6"
            },
            "baxis": {
             "endlinecolor": "#A2B1C6",
             "gridcolor": "#506784",
             "linecolor": "#506784",
             "minorgridcolor": "#506784",
             "startlinecolor": "#A2B1C6"
            },
            "type": "carpet"
           }
          ],
          "choropleth": [
           {
            "colorbar": {
             "outlinewidth": 0,
             "ticks": ""
            },
            "type": "choropleth"
           }
          ],
          "contour": [
           {
            "colorbar": {
             "outlinewidth": 0,
             "ticks": ""
            },
            "colorscale": [
             [
              0,
              "#0d0887"
             ],
             [
              0.1111111111111111,
              "#46039f"
             ],
             [
              0.2222222222222222,
              "#7201a8"
             ],
             [
              0.3333333333333333,
              "#9c179e"
             ],
             [
              0.4444444444444444,
              "#bd3786"
             ],
             [
              0.5555555555555556,
              "#d8576b"
             ],
             [
              0.6666666666666666,
              "#ed7953"
             ],
             [
              0.7777777777777778,
              "#fb9f3a"
             ],
             [
              0.8888888888888888,
              "#fdca26"
             ],
             [
              1,
              "#f0f921"
             ]
            ],
            "type": "contour"
           }
          ],
          "contourcarpet": [
           {
            "colorbar": {
             "outlinewidth": 0,
             "ticks": ""
            },
            "type": "contourcarpet"
           }
          ],
          "heatmap": [
           {
            "colorbar": {
             "outlinewidth": 0,
             "ticks": ""
            },
            "colorscale": [
             [
              0,
              "#0d0887"
             ],
             [
              0.1111111111111111,
              "#46039f"
             ],
             [
              0.2222222222222222,
              "#7201a8"
             ],
             [
              0.3333333333333333,
              "#9c179e"
             ],
             [
              0.4444444444444444,
              "#bd3786"
             ],
             [
              0.5555555555555556,
              "#d8576b"
             ],
             [
              0.6666666666666666,
              "#ed7953"
             ],
             [
              0.7777777777777778,
              "#fb9f3a"
             ],
             [
              0.8888888888888888,
              "#fdca26"
             ],
             [
              1,
              "#f0f921"
             ]
            ],
            "type": "heatmap"
           }
          ],
          "heatmapgl": [
           {
            "colorbar": {
             "outlinewidth": 0,
             "ticks": ""
            },
            "colorscale": [
             [
              0,
              "#0d0887"
             ],
             [
              0.1111111111111111,
              "#46039f"
             ],
             [
              0.2222222222222222,
              "#7201a8"
             ],
             [
              0.3333333333333333,
              "#9c179e"
             ],
             [
              0.4444444444444444,
              "#bd3786"
             ],
             [
              0.5555555555555556,
              "#d8576b"
             ],
             [
              0.6666666666666666,
              "#ed7953"
             ],
             [
              0.7777777777777778,
              "#fb9f3a"
             ],
             [
              0.8888888888888888,
              "#fdca26"
             ],
             [
              1,
              "#f0f921"
             ]
            ],
            "type": "heatmapgl"
           }
          ],
          "histogram": [
           {
            "marker": {
             "pattern": {
              "fillmode": "overlay",
              "size": 10,
              "solidity": 0.2
             }
            },
            "type": "histogram"
           }
          ],
          "histogram2d": [
           {
            "colorbar": {
             "outlinewidth": 0,
             "ticks": ""
            },
            "colorscale": [
             [
              0,
              "#0d0887"
             ],
             [
              0.1111111111111111,
              "#46039f"
             ],
             [
              0.2222222222222222,
              "#7201a8"
             ],
             [
              0.3333333333333333,
              "#9c179e"
             ],
             [
              0.4444444444444444,
              "#bd3786"
             ],
             [
              0.5555555555555556,
              "#d8576b"
             ],
             [
              0.6666666666666666,
              "#ed7953"
             ],
             [
              0.7777777777777778,
              "#fb9f3a"
             ],
             [
              0.8888888888888888,
              "#fdca26"
             ],
             [
              1,
              "#f0f921"
             ]
            ],
            "type": "histogram2d"
           }
          ],
          "histogram2dcontour": [
           {
            "colorbar": {
             "outlinewidth": 0,
             "ticks": ""
            },
            "colorscale": [
             [
              0,
              "#0d0887"
             ],
             [
              0.1111111111111111,
              "#46039f"
             ],
             [
              0.2222222222222222,
              "#7201a8"
             ],
             [
              0.3333333333333333,
              "#9c179e"
             ],
             [
              0.4444444444444444,
              "#bd3786"
             ],
             [
              0.5555555555555556,
              "#d8576b"
             ],
             [
              0.6666666666666666,
              "#ed7953"
             ],
             [
              0.7777777777777778,
              "#fb9f3a"
             ],
             [
              0.8888888888888888,
              "#fdca26"
             ],
             [
              1,
              "#f0f921"
             ]
            ],
            "type": "histogram2dcontour"
           }
          ],
          "mesh3d": [
           {
            "colorbar": {
             "outlinewidth": 0,
             "ticks": ""
            },
            "type": "mesh3d"
           }
          ],
          "parcoords": [
           {
            "line": {
             "colorbar": {
              "outlinewidth": 0,
              "ticks": ""
             }
            },
            "type": "parcoords"
           }
          ],
          "pie": [
           {
            "automargin": true,
            "type": "pie"
           }
          ],
          "scatter": [
           {
            "marker": {
             "line": {
              "color": "#283442"
             }
            },
            "type": "scatter"
           }
          ],
          "scatter3d": [
           {
            "line": {
             "colorbar": {
              "outlinewidth": 0,
              "ticks": ""
             }
            },
            "marker": {
             "colorbar": {
              "outlinewidth": 0,
              "ticks": ""
             }
            },
            "type": "scatter3d"
           }
          ],
          "scattercarpet": [
           {
            "marker": {
             "colorbar": {
              "outlinewidth": 0,
              "ticks": ""
             }
            },
            "type": "scattercarpet"
           }
          ],
          "scattergeo": [
           {
            "marker": {
             "colorbar": {
              "outlinewidth": 0,
              "ticks": ""
             }
            },
            "type": "scattergeo"
           }
          ],
          "scattergl": [
           {
            "marker": {
             "line": {
              "color": "#283442"
             }
            },
            "type": "scattergl"
           }
          ],
          "scattermapbox": [
           {
            "marker": {
             "colorbar": {
              "outlinewidth": 0,
              "ticks": ""
             }
            },
            "type": "scattermapbox"
           }
          ],
          "scatterpolar": [
           {
            "marker": {
             "colorbar": {
              "outlinewidth": 0,
              "ticks": ""
             }
            },
            "type": "scatterpolar"
           }
          ],
          "scatterpolargl": [
           {
            "marker": {
             "colorbar": {
              "outlinewidth": 0,
              "ticks": ""
             }
            },
            "type": "scatterpolargl"
           }
          ],
          "scatterternary": [
           {
            "marker": {
             "colorbar": {
              "outlinewidth": 0,
              "ticks": ""
             }
            },
            "type": "scatterternary"
           }
          ],
          "surface": [
           {
            "colorbar": {
             "outlinewidth": 0,
             "ticks": ""
            },
            "colorscale": [
             [
              0,
              "#0d0887"
             ],
             [
              0.1111111111111111,
              "#46039f"
             ],
             [
              0.2222222222222222,
              "#7201a8"
             ],
             [
              0.3333333333333333,
              "#9c179e"
             ],
             [
              0.4444444444444444,
              "#bd3786"
             ],
             [
              0.5555555555555556,
              "#d8576b"
             ],
             [
              0.6666666666666666,
              "#ed7953"
             ],
             [
              0.7777777777777778,
              "#fb9f3a"
             ],
             [
              0.8888888888888888,
              "#fdca26"
             ],
             [
              1,
              "#f0f921"
             ]
            ],
            "type": "surface"
           }
          ],
          "table": [
           {
            "cells": {
             "fill": {
              "color": "#506784"
             },
             "line": {
              "color": "rgb(17,17,17)"
             }
            },
            "header": {
             "fill": {
              "color": "#2a3f5f"
             },
             "line": {
              "color": "rgb(17,17,17)"
             }
            },
            "type": "table"
           }
          ]
         },
         "layout": {
          "annotationdefaults": {
           "arrowcolor": "#f2f5fa",
           "arrowhead": 0,
           "arrowwidth": 1
          },
          "autotypenumbers": "strict",
          "coloraxis": {
           "colorbar": {
            "outlinewidth": 0,
            "ticks": ""
           }
          },
          "colorscale": {
           "diverging": [
            [
             0,
             "#8e0152"
            ],
            [
             0.1,
             "#c51b7d"
            ],
            [
             0.2,
             "#de77ae"
            ],
            [
             0.3,
             "#f1b6da"
            ],
            [
             0.4,
             "#fde0ef"
            ],
            [
             0.5,
             "#f7f7f7"
            ],
            [
             0.6,
             "#e6f5d0"
            ],
            [
             0.7,
             "#b8e186"
            ],
            [
             0.8,
             "#7fbc41"
            ],
            [
             0.9,
             "#4d9221"
            ],
            [
             1,
             "#276419"
            ]
           ],
           "sequential": [
            [
             0,
             "#0d0887"
            ],
            [
             0.1111111111111111,
             "#46039f"
            ],
            [
             0.2222222222222222,
             "#7201a8"
            ],
            [
             0.3333333333333333,
             "#9c179e"
            ],
            [
             0.4444444444444444,
             "#bd3786"
            ],
            [
             0.5555555555555556,
             "#d8576b"
            ],
            [
             0.6666666666666666,
             "#ed7953"
            ],
            [
             0.7777777777777778,
             "#fb9f3a"
            ],
            [
             0.8888888888888888,
             "#fdca26"
            ],
            [
             1,
             "#f0f921"
            ]
           ],
           "sequentialminus": [
            [
             0,
             "#0d0887"
            ],
            [
             0.1111111111111111,
             "#46039f"
            ],
            [
             0.2222222222222222,
             "#7201a8"
            ],
            [
             0.3333333333333333,
             "#9c179e"
            ],
            [
             0.4444444444444444,
             "#bd3786"
            ],
            [
             0.5555555555555556,
             "#d8576b"
            ],
            [
             0.6666666666666666,
             "#ed7953"
            ],
            [
             0.7777777777777778,
             "#fb9f3a"
            ],
            [
             0.8888888888888888,
             "#fdca26"
            ],
            [
             1,
             "#f0f921"
            ]
           ]
          },
          "colorway": [
           "#636efa",
           "#EF553B",
           "#00cc96",
           "#ab63fa",
           "#FFA15A",
           "#19d3f3",
           "#FF6692",
           "#B6E880",
           "#FF97FF",
           "#FECB52"
          ],
          "font": {
           "color": "#f2f5fa"
          },
          "geo": {
           "bgcolor": "rgb(17,17,17)",
           "lakecolor": "rgb(17,17,17)",
           "landcolor": "rgb(17,17,17)",
           "showlakes": true,
           "showland": true,
           "subunitcolor": "#506784"
          },
          "hoverlabel": {
           "align": "left"
          },
          "hovermode": "closest",
          "mapbox": {
           "style": "dark"
          },
          "paper_bgcolor": "rgb(17,17,17)",
          "plot_bgcolor": "rgb(17,17,17)",
          "polar": {
           "angularaxis": {
            "gridcolor": "#506784",
            "linecolor": "#506784",
            "ticks": ""
           },
           "bgcolor": "rgb(17,17,17)",
           "radialaxis": {
            "gridcolor": "#506784",
            "linecolor": "#506784",
            "ticks": ""
           }
          },
          "scene": {
           "xaxis": {
            "backgroundcolor": "rgb(17,17,17)",
            "gridcolor": "#506784",
            "gridwidth": 2,
            "linecolor": "#506784",
            "showbackground": true,
            "ticks": "",
            "zerolinecolor": "#C8D4E3"
           },
           "yaxis": {
            "backgroundcolor": "rgb(17,17,17)",
            "gridcolor": "#506784",
            "gridwidth": 2,
            "linecolor": "#506784",
            "showbackground": true,
            "ticks": "",
            "zerolinecolor": "#C8D4E3"
           },
           "zaxis": {
            "backgroundcolor": "rgb(17,17,17)",
            "gridcolor": "#506784",
            "gridwidth": 2,
            "linecolor": "#506784",
            "showbackground": true,
            "ticks": "",
            "zerolinecolor": "#C8D4E3"
           }
          },
          "shapedefaults": {
           "line": {
            "color": "#f2f5fa"
           }
          },
          "sliderdefaults": {
           "bgcolor": "#C8D4E3",
           "bordercolor": "rgb(17,17,17)",
           "borderwidth": 1,
           "tickwidth": 0
          },
          "ternary": {
           "aaxis": {
            "gridcolor": "#506784",
            "linecolor": "#506784",
            "ticks": ""
           },
           "baxis": {
            "gridcolor": "#506784",
            "linecolor": "#506784",
            "ticks": ""
           },
           "bgcolor": "rgb(17,17,17)",
           "caxis": {
            "gridcolor": "#506784",
            "linecolor": "#506784",
            "ticks": ""
           }
          },
          "title": {
           "x": 0.05
          },
          "updatemenudefaults": {
           "bgcolor": "#506784",
           "borderwidth": 0
          },
          "xaxis": {
           "automargin": true,
           "gridcolor": "#283442",
           "linecolor": "#506784",
           "ticks": "",
           "title": {
            "standoff": 15
           },
           "zerolinecolor": "#283442",
           "zerolinewidth": 2
          },
          "yaxis": {
           "automargin": true,
           "gridcolor": "#283442",
           "linecolor": "#506784",
           "ticks": "",
           "title": {
            "standoff": 15
           },
           "zerolinecolor": "#283442",
           "zerolinewidth": 2
          }
         }
        },
        "title": {
         "text": "10 quốc gia có số ca tử vong nhiều nhất trên thế giới"
        },
        "uniformtext": {
         "minsize": 8,
         "mode": "hide"
        },
        "xaxis": {
         "anchor": "y",
         "domain": [
          0,
          1
         ],
         "title": {
          "text": "TotalDeaths"
         }
        },
        "yaxis": {
         "anchor": "x",
         "categoryorder": "total ascending",
         "domain": [
          0,
          1
         ],
         "title": {
          "text": "Location"
         }
        }
       }
      }
     },
     "metadata": {},
     "output_type": "display_data"
    }
   ],
   "source": [
    "plot_bar(covid_country.head(10), 'TotalDeaths', 'Location', '10 quốc gia có số ca tử vong nhiều nhất trên thế giới')"
   ]
  },
  {
   "cell_type": "markdown",
   "metadata": {},
   "source": [
    "Từ biểu đồ trên, ta có thể thấy được các nước có nền kinh tế phát triển như Mỹ, Anh, Nga, Ấn Độ, Canada... đều có tổng số ca mắc và tử vong cao"
   ]
  },
  {
   "cell_type": "markdown",
   "metadata": {},
   "source": [
    "Tính tỷ lệ tử vong vì dịch bệnh của các quốc gia trên thế giới"
   ]
  },
  {
   "cell_type": "code",
   "execution_count": 278,
   "metadata": {},
   "outputs": [],
   "source": [
    "covid_country['Mortality'] = round((covid_country['TotalDeaths']/covid_country['TotalCases']), 4)"
   ]
  },
  {
   "cell_type": "markdown",
   "metadata": {},
   "source": [
    "Clean data"
   ]
  },
  {
   "cell_type": "code",
   "execution_count": 279,
   "metadata": {},
   "outputs": [],
   "source": [
    "covid_country = covid_country.replace('', np.nan).fillna(0)"
   ]
  },
  {
   "cell_type": "code",
   "execution_count": 280,
   "metadata": {},
   "outputs": [
    {
     "name": "stdout",
     "output_type": "stream",
     "text": [
      "Tỷ lệ tử vong vì dịch bệnh ở các quốc gia trên thế giới\n"
     ]
    },
    {
     "data": {
      "text/html": [
       "<div>\n",
       "<style scoped>\n",
       "    .dataframe tbody tr th:only-of-type {\n",
       "        vertical-align: middle;\n",
       "    }\n",
       "\n",
       "    .dataframe tbody tr th {\n",
       "        vertical-align: top;\n",
       "    }\n",
       "\n",
       "    .dataframe thead th {\n",
       "        text-align: right;\n",
       "    }\n",
       "</style>\n",
       "<table border=\"1\" class=\"dataframe\">\n",
       "  <thead>\n",
       "    <tr style=\"text-align: right;\">\n",
       "      <th></th>\n",
       "      <th>Continent</th>\n",
       "      <th>Location</th>\n",
       "      <th>TotalCases</th>\n",
       "      <th>TotalDeaths</th>\n",
       "      <th>Mortality</th>\n",
       "    </tr>\n",
       "    <tr>\n",
       "      <th>Location</th>\n",
       "      <th></th>\n",
       "      <th></th>\n",
       "      <th></th>\n",
       "      <th></th>\n",
       "      <th></th>\n",
       "    </tr>\n",
       "  </thead>\n",
       "  <tbody>\n",
       "    <tr>\n",
       "      <th>United States</th>\n",
       "      <td>North America</td>\n",
       "      <td>United States</td>\n",
       "      <td>79265726.0</td>\n",
       "      <td>958437.0</td>\n",
       "      <td>0.0121</td>\n",
       "    </tr>\n",
       "    <tr>\n",
       "      <th>Brazil</th>\n",
       "      <td>South America</td>\n",
       "      <td>Brazil</td>\n",
       "      <td>29040800.0</td>\n",
       "      <td>652216.0</td>\n",
       "      <td>0.0225</td>\n",
       "    </tr>\n",
       "    <tr>\n",
       "      <th>India</th>\n",
       "      <td>Asia</td>\n",
       "      <td>India</td>\n",
       "      <td>42962953.0</td>\n",
       "      <td>515036.0</td>\n",
       "      <td>0.0120</td>\n",
       "    </tr>\n",
       "    <tr>\n",
       "      <th>Russia</th>\n",
       "      <td>Europe</td>\n",
       "      <td>Russia</td>\n",
       "      <td>16619507.0</td>\n",
       "      <td>348467.0</td>\n",
       "      <td>0.0210</td>\n",
       "    </tr>\n",
       "    <tr>\n",
       "      <th>Mexico</th>\n",
       "      <td>North America</td>\n",
       "      <td>Mexico</td>\n",
       "      <td>5554392.0</td>\n",
       "      <td>319604.0</td>\n",
       "      <td>0.0575</td>\n",
       "    </tr>\n",
       "    <tr>\n",
       "      <th>...</th>\n",
       "      <td>...</td>\n",
       "      <td>...</td>\n",
       "      <td>...</td>\n",
       "      <td>...</td>\n",
       "      <td>...</td>\n",
       "    </tr>\n",
       "    <tr>\n",
       "      <th>Samoa</th>\n",
       "      <td>Oceania</td>\n",
       "      <td>Samoa</td>\n",
       "      <td>33.0</td>\n",
       "      <td>0.0</td>\n",
       "      <td>0.0000</td>\n",
       "    </tr>\n",
       "    <tr>\n",
       "      <th>Macao</th>\n",
       "      <td>Asia</td>\n",
       "      <td>Macao</td>\n",
       "      <td>82.0</td>\n",
       "      <td>0.0</td>\n",
       "      <td>0.0000</td>\n",
       "    </tr>\n",
       "    <tr>\n",
       "      <th>Falkland Islands</th>\n",
       "      <td>South America</td>\n",
       "      <td>Falkland Islands</td>\n",
       "      <td>115.0</td>\n",
       "      <td>0.0</td>\n",
       "      <td>0.0000</td>\n",
       "    </tr>\n",
       "    <tr>\n",
       "      <th>Tonga</th>\n",
       "      <td>Oceania</td>\n",
       "      <td>Tonga</td>\n",
       "      <td>898.0</td>\n",
       "      <td>0.0</td>\n",
       "      <td>0.0000</td>\n",
       "    </tr>\n",
       "    <tr>\n",
       "      <th>Niue</th>\n",
       "      <td>Oceania</td>\n",
       "      <td>Niue</td>\n",
       "      <td>0.0</td>\n",
       "      <td>0.0</td>\n",
       "      <td>0.0000</td>\n",
       "    </tr>\n",
       "  </tbody>\n",
       "</table>\n",
       "<p>224 rows × 5 columns</p>\n",
       "</div>"
      ],
      "text/plain": [
       "                      Continent          Location  TotalCases  TotalDeaths  \\\n",
       "Location                                                                     \n",
       "United States     North America     United States  79265726.0     958437.0   \n",
       "Brazil            South America            Brazil  29040800.0     652216.0   \n",
       "India                      Asia             India  42962953.0     515036.0   \n",
       "Russia                   Europe            Russia  16619507.0     348467.0   \n",
       "Mexico            North America            Mexico   5554392.0     319604.0   \n",
       "...                         ...               ...         ...          ...   \n",
       "Samoa                   Oceania             Samoa        33.0          0.0   \n",
       "Macao                      Asia             Macao        82.0          0.0   \n",
       "Falkland Islands  South America  Falkland Islands       115.0          0.0   \n",
       "Tonga                   Oceania             Tonga       898.0          0.0   \n",
       "Niue                    Oceania              Niue         0.0          0.0   \n",
       "\n",
       "                  Mortality  \n",
       "Location                     \n",
       "United States        0.0121  \n",
       "Brazil               0.0225  \n",
       "India                0.0120  \n",
       "Russia               0.0210  \n",
       "Mexico               0.0575  \n",
       "...                     ...  \n",
       "Samoa                0.0000  \n",
       "Macao                0.0000  \n",
       "Falkland Islands     0.0000  \n",
       "Tonga                0.0000  \n",
       "Niue                 0.0000  \n",
       "\n",
       "[224 rows x 5 columns]"
      ]
     },
     "execution_count": 280,
     "metadata": {},
     "output_type": "execute_result"
    }
   ],
   "source": [
    "print(\"Tỷ lệ tử vong vì dịch bệnh ở các quốc gia trên thế giới\")\n",
    "covid_country"
   ]
  },
  {
   "cell_type": "markdown",
   "metadata": {},
   "source": [
    "Chọn một số nước có nền kinh tế phát triển và kém phát triển"
   ]
  },
  {
   "cell_type": "code",
   "execution_count": 281,
   "metadata": {},
   "outputs": [],
   "source": [
    "list_top_35_countries_by_GDP_in_2022 = list(['United States', 'China', 'Japan', 'Germany', 'United Kingdom', 'India', 'France', 'Canada', 'Italy', 'Brazil', 'Russia', 'South Korea', 'Australia', 'Iran', 'Spain', 'Mexico', 'Indonesia', 'Saudi Arabia', 'Netherlands', 'Switzerland', 'Taiwan', 'Poland', 'Turkey', 'Sweden', 'Belgium', 'Argentina', 'Norway', 'Thailand', 'Israel', 'Ireland', 'Malaysia', 'United Arab Emirates', 'Austria', 'South Africa', 'Singapore'])\n",
    "\n",
    "list_worst_35_countries_by_GDP_in_2022 = list(['Vietnam', 'Hong Kong', 'Luxembourg', 'Libya', 'Namibia', 'Kosovo', 'Togo', 'Congo', 'Latvia', 'New Zealand', 'Uruguay', 'South Sudan', 'San Marino', 'Gambia', 'Curacao', 'Sierra Leone', 'New Caledonia', 'Mauritius', 'Chad', 'North Macedonia', 'Syria', 'Malta', 'Laos', 'Albania', 'Afghanistan', 'Zambia', 'Myanmar', 'Cuba', 'Ukraine', 'Qatar', 'Colombia', 'Pakistan', 'Chile', 'Finland', 'Belize'])\n",
    "\n",
    "\n",
    "covid_data_poor = pd.DataFrame()\n",
    "covid_data_rick = pd.DataFrame()\n",
    "def create_data (data, list):\n",
    "    for i in list:\n",
    "        data = pd.concat([data, covid_country.loc[covid_country['Location'] == i]]) \n",
    "    return data\n",
    "covid_data_rick = create_data(covid_data_rick, list_top_35_countries_by_GDP_in_2022)\n",
    "covid_data_poor = create_data(covid_data_poor, list_worst_35_countries_by_GDP_in_2022)"
   ]
  },
  {
   "cell_type": "code",
   "execution_count": 282,
   "metadata": {},
   "outputs": [
    {
     "name": "stdout",
     "output_type": "stream",
     "text": [
      "35 nước có nền kinh tế phát triển: \n",
      "\n",
      "['United States', 'China', 'Japan', 'Germany', 'United Kingdom', 'India', 'France', 'Canada', 'Italy', 'Brazil', 'Russia', 'South Korea', 'Australia', 'Iran', 'Spain', 'Mexico', 'Indonesia', 'Saudi Arabia', 'Netherlands', 'Switzerland', 'Taiwan', 'Poland', 'Turkey', 'Sweden', 'Belgium', 'Argentina', 'Norway', 'Thailand', 'Israel', 'Ireland', 'Malaysia', 'United Arab Emirates', 'Austria', 'South Africa', 'Singapore']\n"
     ]
    }
   ],
   "source": [
    "print(\"35 nước có nền kinh tế phát triển: \\n\")\n",
    "print(list_top_35_countries_by_GDP_in_2022)"
   ]
  },
  {
   "cell_type": "code",
   "execution_count": 283,
   "metadata": {},
   "outputs": [
    {
     "name": "stdout",
     "output_type": "stream",
     "text": [
      "35 nước có nền kinh tế đang phát triển: \n",
      "\n",
      "['Vietnam', 'Hong Kong', 'Luxembourg', 'Libya', 'Namibia', 'Kosovo', 'Togo', 'Congo', 'Latvia', 'New Zealand', 'Uruguay', 'South Sudan', 'San Marino', 'Gambia', 'Curacao', 'Sierra Leone', 'New Caledonia', 'Mauritius', 'Chad', 'North Macedonia', 'Syria', 'Malta', 'Laos', 'Albania', 'Afghanistan', 'Zambia', 'Myanmar', 'Cuba', 'Ukraine', 'Qatar', 'Colombia', 'Pakistan', 'Chile', 'Finland', 'Belize']\n"
     ]
    }
   ],
   "source": [
    "print(\"35 nước có nền kinh tế đang phát triển: \\n\")\n",
    "print(list_worst_35_countries_by_GDP_in_2022)"
   ]
  },
  {
   "cell_type": "code",
   "execution_count": 284,
   "metadata": {},
   "outputs": [
    {
     "data": {
      "text/html": [
       "<div>\n",
       "<style scoped>\n",
       "    .dataframe tbody tr th:only-of-type {\n",
       "        vertical-align: middle;\n",
       "    }\n",
       "\n",
       "    .dataframe tbody tr th {\n",
       "        vertical-align: top;\n",
       "    }\n",
       "\n",
       "    .dataframe thead th {\n",
       "        text-align: right;\n",
       "    }\n",
       "</style>\n",
       "<table border=\"1\" class=\"dataframe\">\n",
       "  <thead>\n",
       "    <tr style=\"text-align: right;\">\n",
       "      <th></th>\n",
       "      <th>TotalCases</th>\n",
       "      <th>TotalDeaths</th>\n",
       "      <th>Mortality</th>\n",
       "      <th>economy</th>\n",
       "    </tr>\n",
       "    <tr>\n",
       "      <th>Location</th>\n",
       "      <th></th>\n",
       "      <th></th>\n",
       "      <th></th>\n",
       "      <th></th>\n",
       "    </tr>\n",
       "  </thead>\n",
       "  <tbody>\n",
       "    <tr>\n",
       "      <th>Vietnam</th>\n",
       "      <td>4232520.0</td>\n",
       "      <td>40726.0</td>\n",
       "      <td>0.0096</td>\n",
       "      <td>median</td>\n",
       "    </tr>\n",
       "    <tr>\n",
       "      <th>Hong Kong</th>\n",
       "      <td>440609.0</td>\n",
       "      <td>1774.0</td>\n",
       "      <td>0.0040</td>\n",
       "      <td>median</td>\n",
       "    </tr>\n",
       "    <tr>\n",
       "      <th>Luxembourg</th>\n",
       "      <td>186360.0</td>\n",
       "      <td>996.0</td>\n",
       "      <td>0.0053</td>\n",
       "      <td>median</td>\n",
       "    </tr>\n",
       "    <tr>\n",
       "      <th>Libya</th>\n",
       "      <td>497279.0</td>\n",
       "      <td>6288.0</td>\n",
       "      <td>0.0126</td>\n",
       "      <td>median</td>\n",
       "    </tr>\n",
       "    <tr>\n",
       "      <th>Namibia</th>\n",
       "      <td>157324.0</td>\n",
       "      <td>4013.0</td>\n",
       "      <td>0.0255</td>\n",
       "      <td>median</td>\n",
       "    </tr>\n",
       "    <tr>\n",
       "      <th>...</th>\n",
       "      <td>...</td>\n",
       "      <td>...</td>\n",
       "      <td>...</td>\n",
       "      <td>...</td>\n",
       "    </tr>\n",
       "    <tr>\n",
       "      <th>Malaysia</th>\n",
       "      <td>3595172.0</td>\n",
       "      <td>33173.0</td>\n",
       "      <td>0.0092</td>\n",
       "      <td>height</td>\n",
       "    </tr>\n",
       "    <tr>\n",
       "      <th>United Arab Emirates</th>\n",
       "      <td>882477.0</td>\n",
       "      <td>2301.0</td>\n",
       "      <td>0.0026</td>\n",
       "      <td>height</td>\n",
       "    </tr>\n",
       "    <tr>\n",
       "      <th>Austria</th>\n",
       "      <td>2839297.0</td>\n",
       "      <td>14986.0</td>\n",
       "      <td>0.0053</td>\n",
       "      <td>height</td>\n",
       "    </tr>\n",
       "    <tr>\n",
       "      <th>South Africa</th>\n",
       "      <td>3683172.0</td>\n",
       "      <td>99543.0</td>\n",
       "      <td>0.0270</td>\n",
       "      <td>height</td>\n",
       "    </tr>\n",
       "    <tr>\n",
       "      <th>Singapore</th>\n",
       "      <td>819663.0</td>\n",
       "      <td>1073.0</td>\n",
       "      <td>0.0013</td>\n",
       "      <td>height</td>\n",
       "    </tr>\n",
       "  </tbody>\n",
       "</table>\n",
       "<p>70 rows × 4 columns</p>\n",
       "</div>"
      ],
      "text/plain": [
       "                      TotalCases  TotalDeaths  Mortality economy\n",
       "Location                                                        \n",
       "Vietnam                4232520.0      40726.0     0.0096  median\n",
       "Hong Kong               440609.0       1774.0     0.0040  median\n",
       "Luxembourg              186360.0        996.0     0.0053  median\n",
       "Libya                   497279.0       6288.0     0.0126  median\n",
       "Namibia                 157324.0       4013.0     0.0255  median\n",
       "...                          ...          ...        ...     ...\n",
       "Malaysia               3595172.0      33173.0     0.0092  height\n",
       "United Arab Emirates    882477.0       2301.0     0.0026  height\n",
       "Austria                2839297.0      14986.0     0.0053  height\n",
       "South Africa           3683172.0      99543.0     0.0270  height\n",
       "Singapore               819663.0       1073.0     0.0013  height\n",
       "\n",
       "[70 rows x 4 columns]"
      ]
     },
     "execution_count": 284,
     "metadata": {},
     "output_type": "execute_result"
    }
   ],
   "source": [
    "covid_data_poor = covid_data_poor[['TotalCases', 'TotalDeaths', 'Mortality']]\n",
    "covid_data_poor['economy'] = 'median'\n",
    "\n",
    "covid_data_rick = covid_data_rick[['TotalCases', 'TotalDeaths', 'Mortality']]\n",
    "covid_data_rick['economy'] = 'height'\n",
    "covid_data_economy = covid_data_poor\n",
    "covid_data_economy = pd.concat([covid_data_economy, covid_data_rick])\n",
    "covid_data_economy"
   ]
  },
  {
   "cell_type": "code",
   "execution_count": 285,
   "metadata": {},
   "outputs": [],
   "source": [
    "def plt_boxplot (data, title):\n",
    "    plt.figure(figsize = (10, 10))\n",
    "    sns.boxplot(y='Mortality', x = 'economy', data= data).set(title= title)\n",
    "    sns.swarmplot(x='economy', y='Mortality', data=data, color='red')\n",
    "    plt.show()"
   ]
  },
  {
   "cell_type": "code",
   "execution_count": 286,
   "metadata": {},
   "outputs": [
    {
     "data": {
      "image/png": "[encoded data removed]",
      "text/plain": [
       "<Figure size 720x720 with 1 Axes>"
      ]
     },
     "metadata": {
      "needs_background": "light"
     },
     "output_type": "display_data"
    },
    {
     "name": "stdout",
     "output_type": "stream",
     "text": [
      "Nhận xét:\n",
      "Qua biểu đồ Boxplot ta thấy miền giá trị của tỷ lệ tử vong do dịch bệnh, cùng với tỷ lệ tử vong trung bình của nhóm nước có nền kinh tế đang phát triển lớn hơn các nước phát triển\n"
     ]
    }
   ],
   "source": [
    "plt_boxplot (covid_data_economy, 'Biểu đồ phân bố tỉ lệ tử vong giữa nhóm nước phát triển và đang phát triển')\n",
    "print(\"Nhận xét:\")\n",
    "print(\"Qua biểu đồ Boxplot ta thấy miền giá trị của tỷ lệ tử vong do dịch bệnh, cùng với tỷ lệ tử vong trung bình của nhóm nước có nền kinh tế đang phát triển lớn hơn các nước phát triển\")"
   ]
  },
  {
   "cell_type": "markdown",
   "metadata": {},
   "source": [
    "Thực hiện kiểm định thống kê cho 2 nhóm các quốc gia có nền kinh tế phát triển và nền kinh tế kém phát triển hơn\n",
    "\n",
    "Mối quan hệ giữa hai biến C (Nhóm kinh tế) --> Q (Tỉ lệ tử vong): hai nhóm độc lập => Ta thực hiện T-test"
   ]
  },
  {
   "cell_type": "markdown",
   "metadata": {},
   "source": [
    "**Ta đặt giả thuyết thống kê**\n",
    "\n",
    "`H0: tỉ lệ tử vong tại nhóm quốc gia phát triển và nhóm các quốc gia đang phát triển là như nhau.`\n",
    "\n",
    "`Ha: tỉ lệ tử vong tại nhóm quốc gia phát triển sẽ cao hơn so với các quốc gia đang phát triển.`"
   ]
  },
  {
   "cell_type": "code",
   "execution_count": 287,
   "metadata": {},
   "outputs": [
    {
     "name": "stdout",
     "output_type": "stream",
     "text": [
      "Giá trị p tính được là kiểm định hai phía: p =  0.49304175868581457\n",
      "Vì ta kiểm định 1 phía nên p value = p/2 =  0.24652087934290728\n",
      "Ta có p_value = 0.24652087934290728 > 0,05 => không thể bác bỏ giả thuyết H0\n"
     ]
    }
   ],
   "source": [
    "t, p = stats.ttest_ind(covid_data_poor['Mortality'], covid_data_rick['Mortality'])\n",
    "print ('Giá trị p tính được là kiểm định hai phía: p = ', p)\n",
    "print ('Vì ta kiểm định 1 phía nên p value = p/2 = ', p/2)\n",
    "p = p/2\n",
    "print (f'Ta có p_value = {p} > 0,05 => không thể bác bỏ giả thuyết H0')"
   ]
  },
  {
   "cell_type": "markdown",
   "metadata": {},
   "source": [
    "Nhận xét: \n",
    "1. Kết luận trên cho thấy không có mối quan hệ giữa nền kinh tế và tỉ lệ tử vong vì dịch bệnh Covid-19 ở các nước. \n",
    "2. Có lẽ kinh tế không phải nhân tố quyết định mức độ nghiêm trọng của dịch covid-19. Mức độ nghiêm trọng của dịch covid ngoài nền kinh tế thì còn một số nguyên nhân quan trọng khác, ví dụ như: Chính sách phòng chống dịch bệnh của các quốc gia, thời tiết của mỗi khu vực và sức khỏe của dân cư."
   ]
  },
  {
   "cell_type": "markdown",
   "metadata": {},
   "source": [
    "## Câu 3: Khi vaccine được phổ biến, điều đó có giúp ích cho việc chống đại dịch Covid-19 trên thế giới? **(X: Date, PeopleFullyVaccinated, NewCases, NewDeaths)**  **(Y: Tỉ lệ tử vong)**"
   ]
  },
  {
   "cell_type": "code",
   "execution_count": 288,
   "metadata": {},
   "outputs": [
    {
     "name": "stdout",
     "output_type": "stream",
     "text": [
      "Vaccine được đưa vào sử dụng đầu tiên vào ngày 2020-12-04\n"
     ]
    }
   ],
   "source": [
    "first_date_vaccine = covid_world_df[covid_world_df['TotalVaccinations'] != 0].iloc[0]['Date']\n",
    "print(f\"Vaccine được đưa vào sử dụng đầu tiên vào ngày {first_date_vaccine}\")"
   ]
  },
  {
   "cell_type": "markdown",
   "metadata": {},
   "source": [
    "Tình hình dịch bệnh trên thế giới sau khi triển khai tiêm vaccine"
   ]
  },
  {
   "cell_type": "code",
   "execution_count": 289,
   "metadata": {},
   "outputs": [
    {
     "data": {
      "text/html": [
       "<div>\n",
       "<style scoped>\n",
       "    .dataframe tbody tr th:only-of-type {\n",
       "        vertical-align: middle;\n",
       "    }\n",
       "\n",
       "    .dataframe tbody tr th {\n",
       "        vertical-align: top;\n",
       "    }\n",
       "\n",
       "    .dataframe thead th {\n",
       "        text-align: right;\n",
       "    }\n",
       "</style>\n",
       "<table border=\"1\" class=\"dataframe\">\n",
       "  <thead>\n",
       "    <tr style=\"text-align: right;\">\n",
       "      <th></th>\n",
       "      <th>Continent</th>\n",
       "      <th>Location</th>\n",
       "      <th>Date</th>\n",
       "      <th>TotalCases</th>\n",
       "      <th>NewCases</th>\n",
       "      <th>TotalCases_per_million</th>\n",
       "      <th>NewCases_per_million</th>\n",
       "      <th>TotalDeaths</th>\n",
       "      <th>NewDeaths</th>\n",
       "      <th>TotalDeaths_per_million</th>\n",
       "      <th>NewDeaths_per_million</th>\n",
       "      <th>TotalVaccinations</th>\n",
       "      <th>PeopleVaccinated</th>\n",
       "      <th>PeopleFullyVaccinated</th>\n",
       "      <th>PeopleFullyVaccinated_per_hundred</th>\n",
       "      <th>Population</th>\n",
       "    </tr>\n",
       "  </thead>\n",
       "  <tbody>\n",
       "    <tr>\n",
       "      <th>163740</th>\n",
       "      <td>0</td>\n",
       "      <td>World</td>\n",
       "      <td>2020-12-04</td>\n",
       "      <td>66049040.0</td>\n",
       "      <td>688697.0</td>\n",
       "      <td>8387.216</td>\n",
       "      <td>87.454</td>\n",
       "      <td>1576378.0</td>\n",
       "      <td>12460.0</td>\n",
       "      <td>200.176</td>\n",
       "      <td>1.582</td>\n",
       "      <td>1.0</td>\n",
       "      <td>1.0</td>\n",
       "      <td>0.0</td>\n",
       "      <td>0.0</td>\n",
       "      <td>7.874966e+09</td>\n",
       "    </tr>\n",
       "    <tr>\n",
       "      <th>163741</th>\n",
       "      <td>0</td>\n",
       "      <td>World</td>\n",
       "      <td>2020-12-05</td>\n",
       "      <td>66697974.0</td>\n",
       "      <td>648934.0</td>\n",
       "      <td>8469.621</td>\n",
       "      <td>82.405</td>\n",
       "      <td>1586715.0</td>\n",
       "      <td>10337.0</td>\n",
       "      <td>201.488</td>\n",
       "      <td>1.313</td>\n",
       "      <td>1.0</td>\n",
       "      <td>1.0</td>\n",
       "      <td>0.0</td>\n",
       "      <td>0.0</td>\n",
       "      <td>7.874966e+09</td>\n",
       "    </tr>\n",
       "    <tr>\n",
       "      <th>163742</th>\n",
       "      <td>0</td>\n",
       "      <td>World</td>\n",
       "      <td>2020-12-06</td>\n",
       "      <td>67234273.0</td>\n",
       "      <td>536299.0</td>\n",
       "      <td>8537.723</td>\n",
       "      <td>68.102</td>\n",
       "      <td>1594444.0</td>\n",
       "      <td>7729.0</td>\n",
       "      <td>202.470</td>\n",
       "      <td>0.981</td>\n",
       "      <td>1.0</td>\n",
       "      <td>1.0</td>\n",
       "      <td>0.0</td>\n",
       "      <td>0.0</td>\n",
       "      <td>7.874966e+09</td>\n",
       "    </tr>\n",
       "    <tr>\n",
       "      <th>163743</th>\n",
       "      <td>0</td>\n",
       "      <td>World</td>\n",
       "      <td>2020-12-07</td>\n",
       "      <td>67761913.0</td>\n",
       "      <td>527640.0</td>\n",
       "      <td>8604.725</td>\n",
       "      <td>67.002</td>\n",
       "      <td>1603158.0</td>\n",
       "      <td>8714.0</td>\n",
       "      <td>203.577</td>\n",
       "      <td>1.107</td>\n",
       "      <td>2.0</td>\n",
       "      <td>2.0</td>\n",
       "      <td>0.0</td>\n",
       "      <td>0.0</td>\n",
       "      <td>7.874966e+09</td>\n",
       "    </tr>\n",
       "    <tr>\n",
       "      <th>163744</th>\n",
       "      <td>0</td>\n",
       "      <td>World</td>\n",
       "      <td>2020-12-08</td>\n",
       "      <td>68405171.0</td>\n",
       "      <td>643258.0</td>\n",
       "      <td>8686.409</td>\n",
       "      <td>81.684</td>\n",
       "      <td>1615473.0</td>\n",
       "      <td>12317.0</td>\n",
       "      <td>205.140</td>\n",
       "      <td>1.564</td>\n",
       "      <td>8.0</td>\n",
       "      <td>8.0</td>\n",
       "      <td>0.0</td>\n",
       "      <td>0.0</td>\n",
       "      <td>7.874966e+09</td>\n",
       "    </tr>\n",
       "  </tbody>\n",
       "</table>\n",
       "</div>"
      ],
      "text/plain": [
       "       Continent Location        Date  TotalCases  NewCases  \\\n",
       "163740         0    World  2020-12-04  66049040.0  688697.0   \n",
       "163741         0    World  2020-12-05  66697974.0  648934.0   \n",
       "163742         0    World  2020-12-06  67234273.0  536299.0   \n",
       "163743         0    World  2020-12-07  67761913.0  527640.0   \n",
       "163744         0    World  2020-12-08  68405171.0  643258.0   \n",
       "\n",
       "        TotalCases_per_million  NewCases_per_million  TotalDeaths  NewDeaths  \\\n",
       "163740                8387.216                87.454    1576378.0    12460.0   \n",
       "163741                8469.621                82.405    1586715.0    10337.0   \n",
       "163742                8537.723                68.102    1594444.0     7729.0   \n",
       "163743                8604.725                67.002    1603158.0     8714.0   \n",
       "163744                8686.409                81.684    1615473.0    12317.0   \n",
       "\n",
       "        TotalDeaths_per_million  NewDeaths_per_million  TotalVaccinations  \\\n",
       "163740                  200.176                  1.582                1.0   \n",
       "163741                  201.488                  1.313                1.0   \n",
       "163742                  202.470                  0.981                1.0   \n",
       "163743                  203.577                  1.107                2.0   \n",
       "163744                  205.140                  1.564                8.0   \n",
       "\n",
       "        PeopleVaccinated  PeopleFullyVaccinated  \\\n",
       "163740               1.0                    0.0   \n",
       "163741               1.0                    0.0   \n",
       "163742               1.0                    0.0   \n",
       "163743               2.0                    0.0   \n",
       "163744               8.0                    0.0   \n",
       "\n",
       "        PeopleFullyVaccinated_per_hundred    Population  \n",
       "163740                                0.0  7.874966e+09  \n",
       "163741                                0.0  7.874966e+09  \n",
       "163742                                0.0  7.874966e+09  \n",
       "163743                                0.0  7.874966e+09  \n",
       "163744                                0.0  7.874966e+09  "
      ]
     },
     "execution_count": 289,
     "metadata": {},
     "output_type": "execute_result"
    }
   ],
   "source": [
    "covid_world_after_vaccine = covid_world_df[covid_world_df['Date'] >= first_date_vaccine]\n",
    "covid_world_after_vaccine.head()"
   ]
  },
  {
   "cell_type": "markdown",
   "metadata": {},
   "source": [
    "Tình hình dịch bệnh trên thế giới trước khi triển khai tiêm vaccine"
   ]
  },
  {
   "cell_type": "code",
   "execution_count": 290,
   "metadata": {},
   "outputs": [
    {
     "data": {
      "text/html": [
       "<div>\n",
       "<style scoped>\n",
       "    .dataframe tbody tr th:only-of-type {\n",
       "        vertical-align: middle;\n",
       "    }\n",
       "\n",
       "    .dataframe tbody tr th {\n",
       "        vertical-align: top;\n",
       "    }\n",
       "\n",
       "    .dataframe thead th {\n",
       "        text-align: right;\n",
       "    }\n",
       "</style>\n",
       "<table border=\"1\" class=\"dataframe\">\n",
       "  <thead>\n",
       "    <tr style=\"text-align: right;\">\n",
       "      <th></th>\n",
       "      <th>Continent</th>\n",
       "      <th>Location</th>\n",
       "      <th>Date</th>\n",
       "      <th>TotalCases</th>\n",
       "      <th>NewCases</th>\n",
       "      <th>TotalCases_per_million</th>\n",
       "      <th>NewCases_per_million</th>\n",
       "      <th>TotalDeaths</th>\n",
       "      <th>NewDeaths</th>\n",
       "      <th>TotalDeaths_per_million</th>\n",
       "      <th>NewDeaths_per_million</th>\n",
       "      <th>TotalVaccinations</th>\n",
       "      <th>PeopleVaccinated</th>\n",
       "      <th>PeopleFullyVaccinated</th>\n",
       "      <th>PeopleFullyVaccinated_per_hundred</th>\n",
       "      <th>Population</th>\n",
       "    </tr>\n",
       "  </thead>\n",
       "  <tbody>\n",
       "    <tr>\n",
       "      <th>163423</th>\n",
       "      <td>0</td>\n",
       "      <td>World</td>\n",
       "      <td>2020-01-22</td>\n",
       "      <td>557.0</td>\n",
       "      <td>0.0</td>\n",
       "      <td>0.071</td>\n",
       "      <td>0.000</td>\n",
       "      <td>17.0</td>\n",
       "      <td>0.0</td>\n",
       "      <td>0.002</td>\n",
       "      <td>0.000</td>\n",
       "      <td>0.0</td>\n",
       "      <td>0.0</td>\n",
       "      <td>0.0</td>\n",
       "      <td>0.0</td>\n",
       "      <td>7.874966e+09</td>\n",
       "    </tr>\n",
       "    <tr>\n",
       "      <th>163424</th>\n",
       "      <td>0</td>\n",
       "      <td>World</td>\n",
       "      <td>2020-01-23</td>\n",
       "      <td>657.0</td>\n",
       "      <td>100.0</td>\n",
       "      <td>0.083</td>\n",
       "      <td>0.013</td>\n",
       "      <td>18.0</td>\n",
       "      <td>1.0</td>\n",
       "      <td>0.002</td>\n",
       "      <td>0.000</td>\n",
       "      <td>0.0</td>\n",
       "      <td>0.0</td>\n",
       "      <td>0.0</td>\n",
       "      <td>0.0</td>\n",
       "      <td>7.874966e+09</td>\n",
       "    </tr>\n",
       "    <tr>\n",
       "      <th>163425</th>\n",
       "      <td>0</td>\n",
       "      <td>World</td>\n",
       "      <td>2020-01-24</td>\n",
       "      <td>944.0</td>\n",
       "      <td>287.0</td>\n",
       "      <td>0.120</td>\n",
       "      <td>0.036</td>\n",
       "      <td>26.0</td>\n",
       "      <td>8.0</td>\n",
       "      <td>0.003</td>\n",
       "      <td>0.001</td>\n",
       "      <td>0.0</td>\n",
       "      <td>0.0</td>\n",
       "      <td>0.0</td>\n",
       "      <td>0.0</td>\n",
       "      <td>7.874966e+09</td>\n",
       "    </tr>\n",
       "    <tr>\n",
       "      <th>163426</th>\n",
       "      <td>0</td>\n",
       "      <td>World</td>\n",
       "      <td>2020-01-25</td>\n",
       "      <td>1437.0</td>\n",
       "      <td>493.0</td>\n",
       "      <td>0.182</td>\n",
       "      <td>0.063</td>\n",
       "      <td>42.0</td>\n",
       "      <td>16.0</td>\n",
       "      <td>0.005</td>\n",
       "      <td>0.002</td>\n",
       "      <td>0.0</td>\n",
       "      <td>0.0</td>\n",
       "      <td>0.0</td>\n",
       "      <td>0.0</td>\n",
       "      <td>7.874966e+09</td>\n",
       "    </tr>\n",
       "    <tr>\n",
       "      <th>163427</th>\n",
       "      <td>0</td>\n",
       "      <td>World</td>\n",
       "      <td>2020-01-26</td>\n",
       "      <td>2120.0</td>\n",
       "      <td>683.0</td>\n",
       "      <td>0.269</td>\n",
       "      <td>0.087</td>\n",
       "      <td>56.0</td>\n",
       "      <td>14.0</td>\n",
       "      <td>0.007</td>\n",
       "      <td>0.002</td>\n",
       "      <td>0.0</td>\n",
       "      <td>0.0</td>\n",
       "      <td>0.0</td>\n",
       "      <td>0.0</td>\n",
       "      <td>7.874966e+09</td>\n",
       "    </tr>\n",
       "  </tbody>\n",
       "</table>\n",
       "</div>"
      ],
      "text/plain": [
       "       Continent Location        Date  TotalCases  NewCases  \\\n",
       "163423         0    World  2020-01-22       557.0       0.0   \n",
       "163424         0    World  2020-01-23       657.0     100.0   \n",
       "163425         0    World  2020-01-24       944.0     287.0   \n",
       "163426         0    World  2020-01-25      1437.0     493.0   \n",
       "163427         0    World  2020-01-26      2120.0     683.0   \n",
       "\n",
       "        TotalCases_per_million  NewCases_per_million  TotalDeaths  NewDeaths  \\\n",
       "163423                   0.071                 0.000         17.0        0.0   \n",
       "163424                   0.083                 0.013         18.0        1.0   \n",
       "163425                   0.120                 0.036         26.0        8.0   \n",
       "163426                   0.182                 0.063         42.0       16.0   \n",
       "163427                   0.269                 0.087         56.0       14.0   \n",
       "\n",
       "        TotalDeaths_per_million  NewDeaths_per_million  TotalVaccinations  \\\n",
       "163423                    0.002                  0.000                0.0   \n",
       "163424                    0.002                  0.000                0.0   \n",
       "163425                    0.003                  0.001                0.0   \n",
       "163426                    0.005                  0.002                0.0   \n",
       "163427                    0.007                  0.002                0.0   \n",
       "\n",
       "        PeopleVaccinated  PeopleFullyVaccinated  \\\n",
       "163423               0.0                    0.0   \n",
       "163424               0.0                    0.0   \n",
       "163425               0.0                    0.0   \n",
       "163426               0.0                    0.0   \n",
       "163427               0.0                    0.0   \n",
       "\n",
       "        PeopleFullyVaccinated_per_hundred    Population  \n",
       "163423                                0.0  7.874966e+09  \n",
       "163424                                0.0  7.874966e+09  \n",
       "163425                                0.0  7.874966e+09  \n",
       "163426                                0.0  7.874966e+09  \n",
       "163427                                0.0  7.874966e+09  "
      ]
     },
     "execution_count": 290,
     "metadata": {},
     "output_type": "execute_result"
    }
   ],
   "source": [
    "covid_world_before_vaccine = covid_world_df[covid_world_df['Date'] < first_date_vaccine]\n",
    "covid_world_before_vaccine.head()"
   ]
  },
  {
   "cell_type": "code",
   "execution_count": 291,
   "metadata": {},
   "outputs": [
    {
     "data": {
      "application/vnd.plotly.v1+json": {
       "config": {
        "plotlyServerURL": "https://plot.ly"
       },
       "data": [
        {
         "hovertemplate": "<b>%{hovertext}</b><br><br>PeopleFullyVaccinated=%{x}<br>NewCases=%{marker.color}<extra></extra>",
         "hovertext": [
          "2020-12-04",
          "2020-12-05",
          "2020-12-06",
          "2020-12-07",
          "2020-12-08",
          "2020-12-09",
          "2020-12-10",
          "2020-12-11",
          "2020-12-12",
          "2020-12-13",
          "2020-12-14",
          "2020-12-15",
          "2020-12-16",
          "2020-12-17",
          "2020-12-18",
          "2020-12-19",
          "2020-12-20",
          "2020-12-21",
          "2020-12-22",
          "2020-12-23",
          "2020-12-24",
          "2020-12-25",
          "2020-12-26",
          "2020-12-27",
          "2020-12-28",
          "2020-12-29",
          "2020-12-30",
          "2020-12-31",
          "2021-01-01",
          "2021-01-02",
          "2021-01-03",
          "2021-01-04",
          "2021-01-05",
          "2021-01-06",
          "2021-01-07",
          "2021-01-08",
          "2021-01-09",
          "2021-01-10",
          "2021-01-11",
          "2021-01-12",
          "2021-01-13",
          "2021-01-14",
          "2021-01-15",
          "2021-01-16",
          "2021-01-17",
          "2021-01-18",
          "2021-01-19",
          "2021-01-20",
          "2021-01-21",
          "2021-01-22",
          "2021-01-23",
          "2021-01-24",
          "2021-01-25",
          "2021-01-26",
          "2021-01-27",
          "2021-01-28",
          "2021-01-29",
          "2021-01-30",
          "2021-01-31",
          "2021-02-01",
          "2021-02-02",
          "2021-02-03",
          "2021-02-04",
          "2021-02-05",
          "2021-02-06",
          "2021-02-07",
          "2021-02-08",
          "2021-02-09",
          "2021-02-10",
          "2021-02-11",
          "2021-02-12",
          "2021-02-13",
          "2021-02-14",
          "2021-02-15",
          "2021-02-16",
          "2021-02-17",
          "2021-02-18",
          "2021-02-19",
          "2021-02-20",
          "2021-02-21",
          "2021-02-22",
          "2021-02-23",
          "2021-02-24",
          "2021-02-25",
          "2021-02-26",
          "2021-02-27",
          "2021-02-28",
          "2021-03-01",
          "2021-03-02",
          "2021-03-03",
          "2021-03-04",
          "2021-03-05",
          "2021-03-06",
          "2021-03-07",
          "2021-03-08",
          "2021-03-09",
          "2021-03-10",
          "2021-03-11",
          "2021-03-12",
          "2021-03-13",
          "2021-03-14",
          "2021-03-15",
          "2021-03-16",
          "2021-03-17",
          "2021-03-18",
          "2021-03-19",
          "2021-03-20",
          "2021-03-21",
          "2021-03-22",
          "2021-03-23",
          "2021-03-24",
          "2021-03-25",
          "2021-03-26",
          "2021-03-27",
          "2021-03-28",
          "2021-03-29",
          "2021-03-30",
          "2021-03-31",
          "2021-04-01",
          "2021-04-02",
          "2021-04-03",
          "2021-04-04",
          "2021-04-05",
          "2021-04-06",
          "2021-04-07",
          "2021-04-08",
          "2021-04-09",
          "2021-04-10",
          "2021-04-11",
          "2021-04-12",
          "2021-04-13",
          "2021-04-14",
          "2021-04-15",
          "2021-04-16",
          "2021-04-17",
          "2021-04-18",
          "2021-04-19",
          "2021-04-20",
          "2021-04-21",
          "2021-04-22",
          "2021-04-23",
          "2021-04-24",
          "2021-04-25",
          "2021-04-26",
          "2021-04-27",
          "2021-04-28",
          "2021-04-29",
          "2021-04-30",
          "2021-05-01",
          "2021-05-02",
          "2021-05-03",
          "2021-05-04",
          "2021-05-05",
          "2021-05-06",
          "2021-05-07",
          "2021-05-08",
          "2021-05-09",
          "2021-05-10",
          "2021-05-11",
          "2021-05-12",
          "2021-05-13",
          "2021-05-14",
          "2021-05-15",
          "2021-05-16",
          "2021-05-17",
          "2021-05-18",
          "2021-05-19",
          "2021-05-20",
          "2021-05-21",
          "2021-05-22",
          "2021-05-23",
          "2021-05-24",
          "2021-05-25",
          "2021-05-26",
          "2021-05-27",
          "2021-05-28",
          "2021-05-29",
          "2021-05-30",
          "2021-05-31",
          "2021-06-01",
          "2021-06-02",
          "2021-06-03",
          "2021-06-04",
          "2021-06-05",
          "2021-06-06",
          "2021-06-07",
          "2021-06-08",
          "2021-06-09",
          "2021-06-10",
          "2021-06-11",
          "2021-06-12",
          "2021-06-13",
          "2021-06-14",
          "2021-06-15",
          "2021-06-16",
          "2021-06-17",
          "2021-06-18",
          "2021-06-19",
          "2021-06-20",
          "2021-06-21",
          "2021-06-22",
          "2021-06-23",
          "2021-06-24",
          "2021-06-25",
          "2021-06-26",
          "2021-06-27",
          "2021-06-28",
          "2021-06-29",
          "2021-06-30",
          "2021-07-01",
          "2021-07-02",
          "2021-07-03",
          "2021-07-04",
          "2021-07-05",
          "2021-07-06",
          "2021-07-07",
          "2021-07-08",
          "2021-07-09",
          "2021-07-10",
          "2021-07-11",
          "2021-07-12",
          "2021-07-13",
          "2021-07-14",
          "2021-07-15",
          "2021-07-16",
          "2021-07-17",
          "2021-07-18",
          "2021-07-19",
          "2021-07-20",
          "2021-07-21",
          "2021-07-22",
          "2021-07-23",
          "2021-07-24",
          "2021-07-25",
          "2021-07-26",
          "2021-07-27",
          "2021-07-28",
          "2021-07-29",
          "2021-07-30",
          "2021-07-31",
          "2021-08-01",
          "2021-08-02",
          "2021-08-03",
          "2021-08-04",
          "2021-08-05",
          "2021-08-06",
          "2021-08-07",
          "2021-08-08",
          "2021-08-09",
          "2021-08-10",
          "2021-08-11",
          "2021-08-12",
          "2021-08-13",
          "2021-08-14",
          "2021-08-15",
          "2021-08-16",
          "2021-08-17",
          "2021-08-18",
          "2021-08-19",
          "2021-08-20",
          "2021-08-21",
          "2021-08-22",
          "2021-08-23",
          "2021-08-24",
          "2021-08-25",
          "2021-08-26",
          "2021-08-27",
          "2021-08-28",
          "2021-08-29",
          "2021-08-30",
          "2021-08-31",
          "2021-09-01",
          "2021-09-02",
          "2021-09-03",
          "2021-09-04",
          "2021-09-05",
          "2021-09-06",
          "2021-09-07",
          "2021-09-08",
          "2021-09-09",
          "2021-09-10",
          "2021-09-11",
          "2021-09-12",
          "2021-09-13",
          "2021-09-14",
          "2021-09-15",
          "2021-09-16",
          "2021-09-17",
          "2021-09-18",
          "2021-09-19",
          "2021-09-20",
          "2021-09-21",
          "2021-09-22",
          "2021-09-23",
          "2021-09-24",
          "2021-09-25",
          "2021-09-26",
          "2021-09-27",
          "2021-09-28",
          "2021-09-29",
          "2021-09-30",
          "2021-10-01",
          "2021-10-02",
          "2021-10-03",
          "2021-10-04",
          "2021-10-05",
          "2021-10-06",
          "2021-10-07",
          "2021-10-08",
          "2021-10-09",
          "2021-10-10",
          "2021-10-11",
          "2021-10-12",
          "2021-10-13",
          "2021-10-14",
          "2021-10-15",
          "2021-10-16",
          "2021-10-17",
          "2021-10-18",
          "2021-10-19",
          "2021-10-20",
          "2021-10-21",
          "2021-10-22",
          "2021-10-23",
          "2021-10-24",
          "2021-10-25",
          "2021-10-26",
          "2021-10-27",
          "2021-10-28",
          "2021-10-29",
          "2021-10-30",
          "2021-10-31",
          "2021-11-01",
          "2021-11-02",
          "2021-11-03",
          "2021-11-04",
          "2021-11-05",
          "2021-11-06",
          "2021-11-07",
          "2021-11-08",
          "2021-11-09",
          "2021-11-10",
          "2021-11-11",
          "2021-11-12",
          "2021-11-13",
          "2021-11-14",
          "2021-11-15",
          "2021-11-16",
          "2021-11-17",
          "2021-11-18",
          "2021-11-19",
          "2021-11-20",
          "2021-11-21",
          "2021-11-22",
          "2021-11-23",
          "2021-11-24",
          "2021-11-25",
          "2021-11-26",
          "2021-11-27",
          "2021-11-28",
          "2021-11-29",
          "2021-11-30",
          "2021-12-01",
          "2021-12-02",
          "2021-12-03",
          "2021-12-04",
          "2021-12-05",
          "2021-12-06",
          "2021-12-07",
          "2021-12-08",
          "2021-12-09",
          "2021-12-10",
          "2021-12-11",
          "2021-12-12",
          "2021-12-13",
          "2021-12-14",
          "2021-12-15",
          "2021-12-16",
          "2021-12-17",
          "2021-12-18",
          "2021-12-19",
          "2021-12-20",
          "2021-12-21",
          "2021-12-22",
          "2021-12-23",
          "2021-12-24",
          "2021-12-25",
          "2021-12-26",
          "2021-12-27",
          "2021-12-28",
          "2021-12-29",
          "2021-12-30",
          "2021-12-31",
          "2022-01-01",
          "2022-01-02",
          "2022-01-03",
          "2022-01-04",
          "2022-01-05",
          "2022-01-06",
          "2022-01-07",
          "2022-01-08",
          "2022-01-09",
          "2022-01-10",
          "2022-01-11",
          "2022-01-12",
          "2022-01-13",
          "2022-01-14",
          "2022-01-15",
          "2022-01-16",
          "2022-01-17",
          "2022-01-18",
          "2022-01-19",
          "2022-01-20",
          "2022-01-21",
          "2022-01-22",
          "2022-01-23",
          "2022-01-24",
          "2022-01-25",
          "2022-01-26",
          "2022-01-27",
          "2022-01-28",
          "2022-01-29",
          "2022-01-30",
          "2022-01-31",
          "2022-02-01",
          "2022-02-02",
          "2022-02-03",
          "2022-02-04",
          "2022-02-05",
          "2022-02-06",
          "2022-02-07",
          "2022-02-08",
          "2022-02-09",
          "2022-02-10",
          "2022-02-11",
          "2022-02-12",
          "2022-02-13",
          "2022-02-14",
          "2022-02-15",
          "2022-02-16",
          "2022-02-17",
          "2022-02-18",
          "2022-02-19",
          "2022-02-20",
          "2022-02-21",
          "2022-02-22",
          "2022-02-23",
          "2022-02-24",
          "2022-02-25",
          "2022-02-26",
          "2022-02-27",
          "2022-02-28",
          "2022-03-01",
          "2022-03-02",
          "2022-03-03",
          "2022-03-04",
          "2022-03-05"
         ],
         "legendgroup": "",
         "marker": {
          "color": [
           688697,
           648934,
           536299,
           527640,
           643258,
           674732,
           679724,
           707122,
           641449,
           534222,
           543390,
           663527,
           725238,
           741142,
           723922,
           619346,
           537711,
           552687,
           665952,
           692807,
           688172,
           489195,
           515361,
           411392,
           501799,
           673644,
           736808,
           827634,
           574155,
           589174,
           520877,
           558845,
           745033,
           796903,
           891308,
           824282,
           754630,
           587925,
           612887,
           704968,
           750493,
           756188,
           773518,
           651775,
           527259,
           519452,
           591643,
           701100,
           655969,
           664125,
           572983,
           461122,
           480916,
           563317,
           604477,
           610188,
           591507,
           519234,
           387172,
           443175,
           467578,
           526826,
           471108,
           535378,
           433470,
           350905,
           339491,
           408258,
           442192,
           443801,
           430393,
           379004,
           307621,
           281191,
           361248,
           388374,
           410504,
           410229,
           373634,
           317935,
           295118,
           394554,
           447538,
           453067,
           441971,
           395722,
           307312,
           305649,
           389560,
           444298,
           458201,
           449263,
           413303,
           372836,
           303836,
           416798,
           470665,
           480877,
           490166,
           452622,
           362716,
           355005,
           470238,
           550817,
           547404,
           561953,
           496150,
           435153,
           424313,
           520866,
           639441,
           651355,
           639592,
           581483,
           475690,
           460902,
           575345,
           682297,
           708942,
           637820,
           525609,
           556866,
           494966,
           607014,
           684882,
           842852,
           750494,
           665300,
           692683,
           613355,
           783311,
           821435,
           816275,
           855381,
           789589,
           681309,
           694249,
           861185,
           888571,
           902252,
           902534,
           814937,
           724713,
           682649,
           854489,
           904603,
           894527,
           881653,
           794032,
           679159,
           686762,
           801886,
           846518,
           868954,
           831340,
           785875,
           636262,
           626118,
           739465,
           759373,
           731654,
           708774,
           630908,
           544863,
           543596,
           625356,
           673520,
           629259,
           625645,
           571692,
           479180,
           450704,
           534918,
           570349,
           547785,
           504368,
           479473,
           389099,
           386852,
           461324,
           487794,
           479794,
           424990,
           396714,
           322643,
           322082,
           371750,
           418529,
           453177,
           422142,
           368029,
           302411,
           309519,
           375539,
           388892,
           395684,
           403366,
           348193,
           303031,
           296851,
           410391,
           397119,
           408663,
           417739,
           363013,
           310726,
           333249,
           381100,
           399260,
           435424,
           442343,
           374043,
           327874,
           376660,
           451342,
           464924,
           481649,
           513789,
           421501,
           370142,
           433065,
           526116,
           538122,
           576027,
           595329,
           489600,
           421241,
           487613,
           532642,
           555062,
           565222,
           727961,
           490842,
           445145,
           540034,
           606988,
           649846,
           642927,
           731810,
           516272,
           481891,
           572138,
           634230,
           680924,
           684588,
           818927,
           560502,
           466838,
           620743,
           645972,
           729603,
           706654,
           801043,
           551571,
           466417,
           665791,
           681816,
           735598,
           711001,
           785826,
           554650,
           448584,
           687643,
           688092,
           732347,
           739199,
           741206,
           558250,
           445767,
           666781,
           634431,
           726061,
           674948,
           714607,
           495380,
           442346,
           448058,
           701644,
           629537,
           647199,
           639648,
           464452,
           373086,
           587344,
           550410,
           572039,
           584146,
           621984,
           400681,
           365622,
           525356,
           487230,
           540394,
           545718,
           550237,
           377817,
           357311,
           475360,
           454574,
           490640,
           489158,
           521146,
           353898,
           311898,
           438460,
           425784,
           508314,
           461184,
           475693,
           344337,
           319905,
           377869,
           441867,
           457896,
           453842,
           459287,
           347700,
           317645,
           413745,
           447141,
           478318,
           463666,
           488795,
           371622,
           316397,
           427568,
           449586,
           520080,
           463857,
           508971,
           389334,
           346340,
           421008,
           426168,
           538266,
           523859,
           520733,
           426950,
           349453,
           477486,
           488325,
           589183,
           518867,
           595877,
           429817,
           363480,
           538581,
           526831,
           634183,
           615233,
           620493,
           481010,
           403567,
           619817,
           595501,
           673136,
           596745,
           598726,
           460761,
           408721,
           653658,
           623349,
           712931,
           706436,
           717210,
           513407,
           439331,
           591267,
           697340,
           670681,
           727600,
           688074,
           499048,
           439210,
           625949,
           659374,
           744952,
           737302,
           732460,
           581077,
           481753,
           744732,
           797266,
           906982,
           996976,
           856016,
           693331,
           578659,
           1281218,
           1331053,
           1724220,
           1940530,
           1715008,
           1194627,
           911858,
           2422782,
           2525019,
           2564924,
           2632856,
           2926756,
           2143373,
           2011939,
           3164652,
           3088630,
           3519679,
           3169740,
           3280358,
           2448865,
           2146696,
           2697201,
           3788087,
           4206334,
           3691329,
           3810842,
           2718905,
           2417784,
           3476376,
           3659392,
           3830779,
           3695211,
           3600517,
           2654716,
           2262423,
           2756868,
           3296903,
           3214698,
           3162945,
           2924578,
           2225128,
           1816457,
           2543573,
           2842216,
           2455501,
           2766818,
           2386649,
           1827503,
           1451313,
           1790115,
           1790874,
           2419675,
           2033799,
           1940000,
           1552157,
           1266349,
           1457542,
           1805873,
           1939520,
           1755446,
           1591820,
           1328773,
           1065246,
           1403481,
           1536867,
           1651452,
           1887465,
           1704138,
           1361810
          ],
          "coloraxis": "coloraxis",
          "symbol": "circle"
         },
         "mode": "markers",
         "name": "",
         "orientation": "v",
         "showlegend": false,
         "type": "scatter",
         "x": [
          0,
          0,
          0,
          0,
          0,
          0,
          0,
          0,
          0,
          5527,
          5645,
          5904,
          6369,
          7107,
          8302,
          9349,
          10046,
          11521,
          14374,
          17276,
          18363,
          18464,
          19427,
          20165,
          24345,
          30227,
          37992,
          41200,
          47823,
          50737,
          53181,
          99024,
          187433,
          359999,
          641519,
          1005711,
          1135491,
          1852446,
          2214889,
          2582317,
          2928347,
          3146251,
          3315852,
          3419129,
          3579229,
          3974011,
          4554723,
          5250287,
          5846204,
          6237090,
          6552132,
          6896917,
          7755429,
          8752655,
          9786943,
          10823775,
          11719529,
          12297119,
          12780952,
          13781175,
          14938617,
          16364886,
          17927112,
          19411639,
          20154287,
          20734141,
          21882118,
          23330591,
          24990082,
          26788424,
          28959897,
          30071289,
          30785326,
          32056135,
          33801056,
          35769514,
          37751721,
          40205854,
          41571286,
          42388973,
          43929750,
          48067991,
          50259096,
          52804454,
          55430670,
          57120101,
          57760470,
          59310769,
          62266250,
          64776686,
          67587103,
          70293048,
          72343915,
          73116844,
          75135960,
          77535767,
          80661675,
          83618524,
          87072572,
          89504480,
          90411108,
          93313881,
          96386451,
          100213873,
          103314254,
          106771225,
          108975246,
          109910250,
          112350345,
          115150554,
          118808677,
          122543829,
          126535050,
          128909748,
          130007427,
          134293511,
          138050459,
          142436168,
          147363832,
          150839720,
          153442552,
          154611060,
          158024857,
          162444117,
          167744184,
          173267782,
          178954225,
          182979682,
          185167871,
          189587196,
          194020800,
          199398359,
          204822615,
          210187830,
          213845503,
          216454463,
          221242952,
          227550824,
          232853451,
          239389184,
          244903166,
          248423968,
          252694002,
          258097748,
          264467864,
          271738384,
          279336216,
          285601690,
          289318727,
          291922359,
          296421577,
          303123551,
          310663910,
          317886198,
          325502457,
          330490929,
          333145460,
          338715518,
          346178692,
          352767478,
          358963362,
          364216984,
          368556038,
          371613316,
          376087544,
          381849576,
          387455745,
          393694808,
          399856152,
          404991395,
          408054439,
          412142900,
          417040906,
          422419534,
          427895587,
          433427864,
          437643880,
          440919042,
          445747165,
          452249438,
          458443387,
          463991135,
          469917577,
          475211743,
          479159430,
          484340904,
          491320673,
          498602830,
          505457418,
          512391253,
          517909944,
          522426108,
          528780088,
          536408210,
          543849816,
          551659836,
          558683121,
          564668547,
          569560529,
          576010247,
          583658639,
          591022950,
          599327205,
          606745821,
          613579899,
          620548225,
          627768240,
          637017374,
          644996103,
          653057840,
          659974852,
          668729700,
          674380009,
          685141870,
          693145461,
          702726952,
          714323857,
          721463617,
          729690742,
          735900161,
          746208740,
          755803328,
          765870696,
          776383721,
          785737898,
          794478086,
          799602220,
          809239199,
          817783683,
          826520799,
          836781223,
          846254610,
          854183016,
          861772823,
          873275220,
          883768997,
          893816649,
          905875589,
          915786935,
          922925709,
          929995634,
          937977463,
          950298621,
          960212523,
          969897748,
          978034900,
          986044702,
          992592811,
          1008639659,
          1020397838,
          1030744130,
          1818546380,
          1831168006,
          1840925903,
          1847177512,
          1857512970,
          1869337793,
          1880195301,
          1891100468,
          1903780002,
          1910999811,
          1918929749,
          1927251568,
          1941957735,
          1954316100,
          2078592120,
          2094098111,
          2103296831,
          2119664512,
          2130133330,
          2143580074,
          2158336197,
          2169580646,
          2179400164,
          2188796085,
          2199896795,
          2289555205,
          2302000751,
          2319243998,
          2335569559,
          2347143014,
          2359572241,
          2371665518,
          2383062657,
          2394635047,
          2449313509,
          2462009473,
          2472753894,
          2497317977,
          2507796929,
          2519421214,
          2532298463,
          2542918032,
          2555481066,
          2566871978,
          2575901341,
          2584858497,
          2603181773,
          2639065343,
          2649776940,
          2662607289,
          2672635888,
          2681584786,
          2690903769,
          2702339522,
          2719125409,
          2730255021,
          2742240195,
          2756879467,
          2766713225,
          2780195048,
          2790584607,
          2801426067,
          2811354796,
          2821033212,
          2829808555,
          2835473889,
          2846717747,
          2860575686,
          2873163692,
          2886824214,
          2898195261,
          2909974577,
          2941613342,
          2953594094,
          2962675549,
          2973906200,
          2983409291,
          2996115033,
          3017281276,
          3030594447,
          3047503732,
          3056828233,
          3066080559,
          3075472410,
          3085211849,
          3098715822,
          3105541971,
          3114241113,
          3123010999,
          3134250264,
          3146374348,
          3159204101,
          3172853217,
          3186073378,
          3196750422,
          3205255314,
          3214219219,
          3225915329,
          3238876036,
          3251403715,
          3264103986,
          3274023607,
          3284461289,
          3294589105,
          3308655795,
          3316694989,
          3329802559,
          3337624861,
          3352001257,
          3395715268,
          3409858017,
          3422821161,
          3468931026,
          3493143576,
          3506424189,
          3516374259,
          3525347036,
          3535122678,
          3549170306,
          3565073577,
          3610288024,
          3626763857,
          3639404212,
          3647852191,
          3661122519,
          3672628538,
          3680068847,
          3716528884,
          3725651223,
          3741199510,
          3756078171,
          3766728157,
          3773758218,
          3783097519,
          3793101723,
          3811164447,
          3817083329,
          3823708045,
          3845091498,
          3856120424,
          3876967171,
          3887731381,
          3895377671,
          3898847265,
          3906569347,
          3916369411,
          3922925460,
          3936288613,
          3947517394,
          3951997162,
          3961175752,
          3984122815,
          3994530052,
          4002256103,
          4015768523,
          4025511325,
          4033693938,
          4042109778,
          4050277545,
          4055356850,
          4069697563,
          4078049032,
          4091203387,
          4098676375,
          4104393401,
          4109922271,
          4117505622,
          4124517516,
          4131382616,
          4143131941,
          4148763762,
          4156480498,
          4164931753,
          4173336960,
          4180959618,
          4186896557,
          4197285183,
          4203716136,
          4210767624,
          4215917502,
          4225122379,
          4233360982,
          4240593142,
          4250938885,
          4256042939,
          4265315793,
          4270676154,
          4280535138,
          4286010559,
          4292741092,
          4317741334,
          4326589280,
          4331591758,
          4339933555,
          4346555670,
          4351701456,
          4356388624,
          4363641413,
          4368636406,
          4371648348,
          4383014364,
          4385303379,
          4387582839,
          4393034333,
          4396313796,
          4400787171
         ],
         "xaxis": "x",
         "y": [
          688697,
          648934,
          536299,
          527640,
          643258,
          674732,
          679724,
          707122,
          641449,
          534222,
          543390,
          663527,
          725238,
          741142,
          723922,
          619346,
          537711,
          552687,
          665952,
          692807,
          688172,
          489195,
          515361,
          411392,
          501799,
          673644,
          736808,
          827634,
          574155,
          589174,
          520877,
          558845,
          745033,
          796903,
          891308,
          824282,
          754630,
          587925,
          612887,
          704968,
          750493,
          756188,
          773518,
          651775,
          527259,
          519452,
          591643,
          701100,
          655969,
          664125,
          572983,
          461122,
          480916,
          563317,
          604477,
          610188,
          591507,
          519234,
          387172,
          443175,
          467578,
          526826,
          471108,
          535378,
          433470,
          350905,
          339491,
          408258,
          442192,
          443801,
          430393,
          379004,
          307621,
          281191,
          361248,
          388374,
          410504,
          410229,
          373634,
          317935,
          295118,
          394554,
          447538,
          453067,
          441971,
          395722,
          307312,
          305649,
          389560,
          444298,
          458201,
          449263,
          413303,
          372836,
          303836,
          416798,
          470665,
          480877,
          490166,
          452622,
          362716,
          355005,
          470238,
          550817,
          547404,
          561953,
          496150,
          435153,
          424313,
          520866,
          639441,
          651355,
          639592,
          581483,
          475690,
          460902,
          575345,
          682297,
          708942,
          637820,
          525609,
          556866,
          494966,
          607014,
          684882,
          842852,
          750494,
          665300,
          692683,
          613355,
          783311,
          821435,
          816275,
          855381,
          789589,
          681309,
          694249,
          861185,
          888571,
          902252,
          902534,
          814937,
          724713,
          682649,
          854489,
          904603,
          894527,
          881653,
          794032,
          679159,
          686762,
          801886,
          846518,
          868954,
          831340,
          785875,
          636262,
          626118,
          739465,
          759373,
          731654,
          708774,
          630908,
          544863,
          543596,
          625356,
          673520,
          629259,
          625645,
          571692,
          479180,
          450704,
          534918,
          570349,
          547785,
          504368,
          479473,
          389099,
          386852,
          461324,
          487794,
          479794,
          424990,
          396714,
          322643,
          322082,
          371750,
          418529,
          453177,
          422142,
          368029,
          302411,
          309519,
          375539,
          388892,
          395684,
          403366,
          348193,
          303031,
          296851,
          410391,
          397119,
          408663,
          417739,
          363013,
          310726,
          333249,
          381100,
          399260,
          435424,
          442343,
          374043,
          327874,
          376660,
          451342,
          464924,
          481649,
          513789,
          421501,
          370142,
          433065,
          526116,
          538122,
          576027,
          595329,
          489600,
          421241,
          487613,
          532642,
          555062,
          565222,
          727961,
          490842,
          445145,
          540034,
          606988,
          649846,
          642927,
          731810,
          516272,
          481891,
          572138,
          634230,
          680924,
          684588,
          818927,
          560502,
          466838,
          620743,
          645972,
          729603,
          706654,
          801043,
          551571,
          466417,
          665791,
          681816,
          735598,
          711001,
          785826,
          554650,
          448584,
          687643,
          688092,
          732347,
          739199,
          741206,
          558250,
          445767,
          666781,
          634431,
          726061,
          674948,
          714607,
          495380,
          442346,
          448058,
          701644,
          629537,
          647199,
          639648,
          464452,
          373086,
          587344,
          550410,
          572039,
          584146,
          621984,
          400681,
          365622,
          525356,
          487230,
          540394,
          545718,
          550237,
          377817,
          357311,
          475360,
          454574,
          490640,
          489158,
          521146,
          353898,
          311898,
          438460,
          425784,
          508314,
          461184,
          475693,
          344337,
          319905,
          377869,
          441867,
          457896,
          453842,
          459287,
          347700,
          317645,
          413745,
          447141,
          478318,
          463666,
          488795,
          371622,
          316397,
          427568,
          449586,
          520080,
          463857,
          508971,
          389334,
          346340,
          421008,
          426168,
          538266,
          523859,
          520733,
          426950,
          349453,
          477486,
          488325,
          589183,
          518867,
          595877,
          429817,
          363480,
          538581,
          526831,
          634183,
          615233,
          620493,
          481010,
          403567,
          619817,
          595501,
          673136,
          596745,
          598726,
          460761,
          408721,
          653658,
          623349,
          712931,
          706436,
          717210,
          513407,
          439331,
          591267,
          697340,
          670681,
          727600,
          688074,
          499048,
          439210,
          625949,
          659374,
          744952,
          737302,
          732460,
          581077,
          481753,
          744732,
          797266,
          906982,
          996976,
          856016,
          693331,
          578659,
          1281218,
          1331053,
          1724220,
          1940530,
          1715008,
          1194627,
          911858,
          2422782,
          2525019,
          2564924,
          2632856,
          2926756,
          2143373,
          2011939,
          3164652,
          3088630,
          3519679,
          3169740,
          3280358,
          2448865,
          2146696,
          2697201,
          3788087,
          4206334,
          3691329,
          3810842,
          2718905,
          2417784,
          3476376,
          3659392,
          3830779,
          3695211,
          3600517,
          2654716,
          2262423,
          2756868,
          3296903,
          3214698,
          3162945,
          2924578,
          2225128,
          1816457,
          2543573,
          2842216,
          2455501,
          2766818,
          2386649,
          1827503,
          1451313,
          1790115,
          1790874,
          2419675,
          2033799,
          1940000,
          1552157,
          1266349,
          1457542,
          1805873,
          1939520,
          1755446,
          1591820,
          1328773,
          1065246,
          1403481,
          1536867,
          1651452,
          1887465,
          1704138,
          1361810
         ],
         "yaxis": "y"
        },
        {
         "hovertemplate": "<b>OLS trendline</b><br>NewCases = 0.000266212 * PeopleFullyVaccinated + 390849<br>R<sup>2</sup>=0.332612<br><br>PeopleFullyVaccinated=%{x}<br>NewCases=%{y} <b>(trend)</b><extra></extra>",
         "legendgroup": "",
         "marker": {
          "symbol": "circle"
         },
         "mode": "lines",
         "name": "",
         "showlegend": false,
         "type": "scatter",
         "x": [
          0,
          0,
          0,
          0,
          0,
          0,
          0,
          0,
          0,
          5527,
          5645,
          5904,
          6369,
          7107,
          8302,
          9349,
          10046,
          11521,
          14374,
          17276,
          18363,
          18464,
          19427,
          20165,
          24345,
          30227,
          37992,
          41200,
          47823,
          50737,
          53181,
          99024,
          187433,
          359999,
          641519,
          1005711,
          1135491,
          1852446,
          2214889,
          2582317,
          2928347,
          3146251,
          3315852,
          3419129,
          3579229,
          3974011,
          4554723,
          5250287,
          5846204,
          6237090,
          6552132,
          6896917,
          7755429,
          8752655,
          9786943,
          10823775,
          11719529,
          12297119,
          12780952,
          13781175,
          14938617,
          16364886,
          17927112,
          19411639,
          20154287,
          20734141,
          21882118,
          23330591,
          24990082,
          26788424,
          28959897,
          30071289,
          30785326,
          32056135,
          33801056,
          35769514,
          37751721,
          40205854,
          41571286,
          42388973,
          43929750,
          48067991,
          50259096,
          52804454,
          55430670,
          57120101,
          57760470,
          59310769,
          62266250,
          64776686,
          67587103,
          70293048,
          72343915,
          73116844,
          75135960,
          77535767,
          80661675,
          83618524,
          87072572,
          89504480,
          90411108,
          93313881,
          96386451,
          100213873,
          103314254,
          106771225,
          108975246,
          109910250,
          112350345,
          115150554,
          118808677,
          122543829,
          126535050,
          128909748,
          130007427,
          134293511,
          138050459,
          142436168,
          147363832,
          150839720,
          153442552,
          154611060,
          158024857,
          162444117,
          167744184,
          173267782,
          178954225,
          182979682,
          185167871,
          189587196,
          194020800,
          199398359,
          204822615,
          210187830,
          213845503,
          216454463,
          221242952,
          227550824,
          232853451,
          239389184,
          244903166,
          248423968,
          252694002,
          258097748,
          264467864,
          271738384,
          279336216,
          285601690,
          289318727,
          291922359,
          296421577,
          303123551,
          310663910,
          317886198,
          325502457,
          330490929,
          333145460,
          338715518,
          346178692,
          352767478,
          358963362,
          364216984,
          368556038,
          371613316,
          376087544,
          381849576,
          387455745,
          393694808,
          399856152,
          404991395,
          408054439,
          412142900,
          417040906,
          422419534,
          427895587,
          433427864,
          437643880,
          440919042,
          445747165,
          452249438,
          458443387,
          463991135,
          469917577,
          475211743,
          479159430,
          484340904,
          491320673,
          498602830,
          505457418,
          512391253,
          517909944,
          522426108,
          528780088,
          536408210,
          543849816,
          551659836,
          558683121,
          564668547,
          569560529,
          576010247,
          583658639,
          591022950,
          599327205,
          606745821,
          613579899,
          620548225,
          627768240,
          637017374,
          644996103,
          653057840,
          659974852,
          668729700,
          674380009,
          685141870,
          693145461,
          702726952,
          714323857,
          721463617,
          729690742,
          735900161,
          746208740,
          755803328,
          765870696,
          776383721,
          785737898,
          794478086,
          799602220,
          809239199,
          817783683,
          826520799,
          836781223,
          846254610,
          854183016,
          861772823,
          873275220,
          883768997,
          893816649,
          905875589,
          915786935,
          922925709,
          929995634,
          937977463,
          950298621,
          960212523,
          969897748,
          978034900,
          986044702,
          992592811,
          1008639659,
          1020397838,
          1030744130,
          1818546380,
          1831168006,
          1840925903,
          1847177512,
          1857512970,
          1869337793,
          1880195301,
          1891100468,
          1903780002,
          1910999811,
          1918929749,
          1927251568,
          1941957735,
          1954316100,
          2078592120,
          2094098111,
          2103296831,
          2119664512,
          2130133330,
          2143580074,
          2158336197,
          2169580646,
          2179400164,
          2188796085,
          2199896795,
          2289555205,
          2302000751,
          2319243998,
          2335569559,
          2347143014,
          2359572241,
          2371665518,
          2383062657,
          2394635047,
          2449313509,
          2462009473,
          2472753894,
          2497317977,
          2507796929,
          2519421214,
          2532298463,
          2542918032,
          2555481066,
          2566871978,
          2575901341,
          2584858497,
          2603181773,
          2639065343,
          2649776940,
          2662607289,
          2672635888,
          2681584786,
          2690903769,
          2702339522,
          2719125409,
          2730255021,
          2742240195,
          2756879467,
          2766713225,
          2780195048,
          2790584607,
          2801426067,
          2811354796,
          2821033212,
          2829808555,
          2835473889,
          2846717747,
          2860575686,
          2873163692,
          2886824214,
          2898195261,
          2909974577,
          2941613342,
          2953594094,
          2962675549,
          2973906200,
          2983409291,
          2996115033,
          3017281276,
          3030594447,
          3047503732,
          3056828233,
          3066080559,
          3075472410,
          3085211849,
          3098715822,
          3105541971,
          3114241113,
          3123010999,
          3134250264,
          3146374348,
          3159204101,
          3172853217,
          3186073378,
          3196750422,
          3205255314,
          3214219219,
          3225915329,
          3238876036,
          3251403715,
          3264103986,
          3274023607,
          3284461289,
          3294589105,
          3308655795,
          3316694989,
          3329802559,
          3337624861,
          3352001257,
          3395715268,
          3409858017,
          3422821161,
          3468931026,
          3493143576,
          3506424189,
          3516374259,
          3525347036,
          3535122678,
          3549170306,
          3565073577,
          3610288024,
          3626763857,
          3639404212,
          3647852191,
          3661122519,
          3672628538,
          3680068847,
          3716528884,
          3725651223,
          3741199510,
          3756078171,
          3766728157,
          3773758218,
          3783097519,
          3793101723,
          3811164447,
          3817083329,
          3823708045,
          3845091498,
          3856120424,
          3876967171,
          3887731381,
          3895377671,
          3898847265,
          3906569347,
          3916369411,
          3922925460,
          3936288613,
          3947517394,
          3951997162,
          3961175752,
          3984122815,
          3994530052,
          4002256103,
          4015768523,
          4025511325,
          4033693938,
          4042109778,
          4050277545,
          4055356850,
          4069697563,
          4078049032,
          4091203387,
          4098676375,
          4104393401,
          4109922271,
          4117505622,
          4124517516,
          4131382616,
          4143131941,
          4148763762,
          4156480498,
          4164931753,
          4173336960,
          4180959618,
          4186896557,
          4197285183,
          4203716136,
          4210767624,
          4215917502,
          4225122379,
          4233360982,
          4240593142,
          4250938885,
          4256042939,
          4265315793,
          4270676154,
          4280535138,
          4286010559,
          4292741092,
          4317741334,
          4326589280,
          4331591758,
          4339933555,
          4346555670,
          4351701456,
          4356388624,
          4363641413,
          4368636406,
          4371648348,
          4383014364,
          4385303379,
          4387582839,
          4393034333,
          4396313796,
          4400787171
         ],
         "xaxis": "x",
         "y": [
          390849.30059739866,
          390849.30059739866,
          390849.30059739866,
          390849.30059739866,
          390849.30059739866,
          390849.30059739866,
          390849.30059739866,
          390849.30059739866,
          390849.30059739866,
          390850.7719484704,
          390850.8033614298,
          390850.87231021345,
          390850.99609857035,
          390851.1925626722,
          390851.51068543876,
          390851.7894089003,
          390851.9749583298,
          390852.36762032204,
          390853.1271217889,
          390853.89966762037,
          390854.1890395427,
          390854.21592690627,
          390854.4722886001,
          390854.668752702,
          390855.7815168561,
          390857.34737301746,
          390859.41450547124,
          390860.2685120278,
          390862.0316309256,
          390862.80737129523,
          390863.45799225045,
          390875.66192696756,
          390899.1974212503,
          390945.1364784322,
          391020.0803455779,
          391117.0324515153,
          391151.58138259716,
          391342.4430630086,
          391438.9295649973,
          391536.7431314139,
          391628.86030372285,
          391686.8688588042,
          391732.018598829,
          391759.5121259929,
          391802.132590365,
          391907.2281067031,
          392061.820330978,
          392246.9874807624,
          392405.6274512009,
          392509.68580745655,
          392593.55361717986,
          392685.3393561462,
          392913.885140712,
          393179.35819008044,
          393454.6975708077,
          393730.7141936422,
          393969.1742276405,
          394122.9353395496,
          394251.73725796636,
          394518.0081432606,
          394826.13253753737,
          395205.8217761349,
          395621.70433437405,
          396016.90252371103,
          396214.603976709,
          396368.9677914997,
          396674.5724937385,
          397060.17269292887,
          397501.94831467303,
          397980.68767219805,
          398558.75880043895,
          398854.624154214,
          399044.7090294097,
          399383.0130250885,
          399847.531096997,
          400371.5572934796,
          400899.24363215256,
          401552.56210867205,
          401916.0558370197,
          402133.7335362763,
          402543.90612362034,
          403645.55355087493,
          404228.85094367893,
          404906.45456612186,
          405605.5835196591,
          406055.3295143158,
          406225.80311924685,
          406638.5105726855,
          407425.2936623968,
          408093.6006461339,
          408841.7660278897,
          409562.119759715,
          410108.0841813597,
          410313.84678539855,
          410851.35872506775,
          411490.2149945449,
          412322.36771499657,
          413109.5149820674,
          414029.02235073294,
          414676.42427621764,
          414917.77909428574,
          415690.53070719424,
          416508.48423758545,
          417527.3880663662,
          418352.74520534364,
          419273.0307102825,
          419859.76649108046,
          420108.67532724363,
          420758.2567264436,
          421503.70462100196,
          422477.53910563706,
          423471.8795974559,
          424534.38860702165,
          425166.56057144003,
          425458.7753666396,
          426599.78030366404,
          427599.92314177554,
          428767.4494014925,
          430079.25032559887,
          431004.57175386394,
          431697.4756172146,
          432008.5459081731,
          432917.33799694205,
          434093.7959193707,
          435504.7348122063,
          436975.18023234705,
          438488.97686748253,
          439560.5998946513,
          440143.12101466267,
          441319.59624084015,
          442499.87270131346,
          443931.4408572666,
          445375.44029257505,
          446803.7223335238,
          447777.43702297483,
          448471.9722305208,
          449746.7231663138,
          451425.9513601892,
          452837.57175451634,
          454577.459171579,
          456045.3447017422,
          456982.6227542222,
          458119.3549963486,
          459557.8944333793,
          461253.6926971134,
          463189.18887841434,
          465211.81928479054,
          466879.7606426357,
          467869.2787127674,
          468562.39554533415,
          469760.139208489,
          471544.2818948688,
          473551.61232654884,
          475474.2685938111,
          477501.8044798686,
          478829.79319409083,
          479536.45992682036,
          481019.2735341861,
          483006.05642968527,
          484760.0671665252,
          486409.4828646848,
          487808.05756346823,
          488963.1637247137,
          489777.0463485392,
          490968.13738580607,
          492502.0566835363,
          493994.48345510534,
          495655.39390049246,
          497295.61465274694,
          498662.6754979894,
          499478.0930974399,
          500566.4885152227,
          501870.3941380652,
          503302.24687413336,
          504760.03526754974,
          506232.79113747366,
          507355.14316570596,
          508227.0290203824,
          509512.330983564,
          511243.31096316327,
          512892.2115420315,
          514369.08597038325,
          515946.7731041373,
          517356.14108279266,
          518407.0608400413,
          519786.4289100707,
          521644.52382568375,
          523583.1179104444,
          525407.8882017566,
          527253.7549574042,
          528722.8940776156,
          529925.1489611905,
          531616.6516358359,
          533647.3455891566,
          535628.3868345898,
          537707.5041309983,
          539577.183507121,
          541170.5728611781,
          542472.8748258235,
          544189.8640589826,
          546225.9541198163,
          548186.4185458013,
          550397.1068928589,
          552372.0279354444,
          554191.3382284788,
          556046.386885667,
          557968.438054144,
          560430.664076126,
          562554.6936518834,
          564700.8209135032,
          566542.2091927477,
          568872.8505872932,
          570377.0279353604,
          573241.959311547,
          575372.6074381176,
          577923.3107222939,
          581010.5404310919,
          582911.2267940212,
          585101.3822465317,
          586754.4011176161,
          589498.6636035373,
          592052.8534599927,
          594732.9027989327,
          597531.5911652974,
          600021.780843988,
          602348.5195776484,
          603712.6230791138,
          606278.0979081187,
          608552.7379824446,
          610878.658914315,
          613610.1019844846,
          616132.0267384893,
          618242.6597519193,
          620263.1538108464,
          623325.2244013004,
          626118.7887283256,
          628793.5894409351,
          632003.8181894341,
          634642.3326745813,
          636542.7565529519,
          638424.8520343732,
          640549.7068658429,
          643829.7410667262,
          646468.9359885189,
          649047.2544585238,
          651213.458061934,
          653345.7596282561,
          655088.9416790919,
          659360.7974783905,
          662490.9601838852,
          665245.2623048648,
          874967.2968354477,
          878327.3190793599,
          880924.9836729553,
          882589.234008074,
          885340.6519934445,
          888488.5560994864,
          891378.9498089384,
          894282.030893228,
          897657.4689138476,
          899579.4652427514,
          901690.5060922303,
          903905.8701784274,
          907820.8212507131,
          911110.7603836256,
          944194.46858294,
          948322.3420180983,
          950771.1472525048,
          955128.4124924397,
          957915.3324461342,
          961495.0106071092,
          965423.2605420941,
          968416.6624033549,
          971030.731217032,
          973532.0336294187,
          976487.1705129881,
          1000355.2721311,
          1003668.4198505485,
          1008258.7708463134,
          1012604.8232570208,
          1015685.8103056718,
          1018994.6137193234,
          1022213.983372789,
          1025248.0330710576,
          1028328.7366044398,
          1042884.7730915699,
          1046264.5849674651,
          1049124.8736147406,
          1055664.115490653,
          1058453.7332318926,
          1061548.2518121116,
          1064976.3238434328,
          1067803.3754499978,
          1071147.7998285228,
          1074180.1918276555,
          1076583.9122776482,
          1078968.4103924069,
          1083846.2775500412,
          1093398.8972672618,
          1096250.4477876006,
          1099666.034498628,
          1102335.7630831446,
          1104718.06282317,
          1107198.8834536215,
          1110243.2126435281,
          1114711.8091384484,
          1117674.6400673727,
          1120865.2314568781,
          1124762.374309525,
          1127380.2339752489,
          1130969.250570138,
          1133735.070864959,
          1136621.192411936,
          1139264.3344519376,
          1141840.840287702,
          1144176.9376873523,
          1145685.1148635093,
          1148678.3593937617,
          1152367.5024007545,
          1155718.5746133602,
          1159355.1629406845,
          1162382.2666479698,
          1165518.0562663656,
          1173940.659991901,
          1177130.0741940644,
          1179547.662134563,
          1182537.3908092692,
          1185067.2231102677,
          1188449.6380024068,
          1194084.335726777,
          1197628.4552163742,
          1202129.901680455,
          1204612.1912660743,
          1207075.2670352287,
          1209575.4859667283,
          1212168.2368280855,
          1215763.1500081457,
          1217580.3495100369,
          1219896.1613256424,
          1222230.8060090272,
          1225222.8278297677,
          1228450.3986615338,
          1231865.8267104952,
          1235499.3786292206,
          1239018.7377853312,
          1241861.0898990151,
          1244125.1901268363,
          1246511.4849031444,
          1249625.1241257964,
          1253075.4136381643,
          1256410.4261083952,
          1259791.3845573077,
          1262432.1019427842,
          1265210.7331345878,
          1267906.8744274965,
          1271651.589355527,
          1273791.7154108486,
          1277281.1015456966,
          1279363.4884519954,
          1283190.6506850778,
          1294827.8240041593,
          1298592.786714199,
          1302043.7249840412,
          1314318.7022384605,
          1320764.361980069,
          1324299.8141549942,
          1326948.6374150466,
          1329337.2940199613,
          1331939.6825369815,
          1335679.3229410155,
          1339912.956888889,
          1351949.563556381,
          1356335.6201046405,
          1359700.628224113,
          1361949.5775556893,
          1365482.2917451297,
          1368545.3265537098,
          1370526.022522801,
          1380232.1043963935,
          1382660.5761286812,
          1386799.7092462948,
          1390760.580208533,
          1393595.7291709054,
          1395467.2123962885,
          1397953.4419124057,
          1400616.6762668886,
          1405425.1814805313,
          1407000.856055193,
          1408764.4317719513,
          1414456.9533006079,
          1417392.9804564165,
          1422942.6246649527,
          1425808.1813720001,
          1427843.7118562185,
          1428767.3577491757,
          1430823.0649369275,
          1433431.9548716922,
          1435177.250641998,
          1438734.675915794,
          1441723.9067749572,
          1442916.4726240458,
          1445359.9190205522,
          1451468.6915441914,
          1454239.2179262652,
          1456295.9817075403,
          1459893.143576311,
          1462486.7897070101,
          1464665.095552337,
          1466905.4891118677,
          1469079.8427809663,
          1470432.012286196,
          1474249.6752936058,
          1476472.9325513747,
          1479974.7733921916,
          1481964.1688875495,
          1483486.107069605,
          1484957.9559568795,
          1486976.7313542329,
          1488843.37831493,
          1490670.947021742,
          1493798.7526904372,
          1495298.0083199204,
          1497352.2923408854,
          1499602.1137814014,
          1501839.6767138387,
          1503868.9160874137,
          1505449.3976434944,
          1508214.9695629673,
          1509926.963336951,
          1511804.150676576,
          1513175.1075274153,
          1515625.551826151,
          1517818.7628544895,
          1519744.0471618786,
          1522498.2031327337,
          1523856.961106875,
          1526325.5016661142,
          1527752.4915163442,
          1530377.0666338746,
          1531834.6867816104,
          1533626.4322027937,
          1540281.784629112,
          1542637.2097837585,
          1543968.9270565314,
          1546189.6095164777,
          1547952.4928170717,
          1549322.3603303707,
          1550570.1384487334,
          1552500.914433571,
          1553830.6391131156,
          1554632.4527714648,
          1557658.2171685924,
          1558267.579331332,
          1558874.3978429968,
          1560325.6483476902,
          1561198.679178115,
          1562389.5431369552
         ],
         "yaxis": "y"
        }
       ],
       "layout": {
        "coloraxis": {
         "colorbar": {
          "title": {
           "text": "NewCases"
          }
         },
         "colorscale": [
          [
           0,
           "#440154"
          ],
          [
           0.1111111111111111,
           "#482878"
          ],
          [
           0.2222222222222222,
           "#3e4989"
          ],
          [
           0.3333333333333333,
           "#31688e"
          ],
          [
           0.4444444444444444,
           "#26828e"
          ],
          [
           0.5555555555555556,
           "#1f9e89"
          ],
          [
           0.6666666666666666,
           "#35b779"
          ],
          [
           0.7777777777777778,
           "#6ece58"
          ],
          [
           0.8888888888888888,
           "#b5de2b"
          ],
          [
           1,
           "#fde725"
          ]
         ]
        },
        "legend": {
         "tracegroupgap": 0
        },
        "template": {
         "data": {
          "bar": [
           {
            "error_x": {
             "color": "#2a3f5f"
            },
            "error_y": {
             "color": "#2a3f5f"
            },
            "marker": {
             "line": {
              "color": "#E5ECF6",
              "width": 0.5
             },
             "pattern": {
              "fillmode": "overlay",
              "size": 10,
              "solidity": 0.2
             }
            },
            "type": "bar"
           }
          ],
          "barpolar": [
           {
            "marker": {
             "line": {
              "color": "#E5ECF6",
              "width": 0.5
             },
             "pattern": {
              "fillmode": "overlay",
              "size": 10,
              "solidity": 0.2
             }
            },
            "type": "barpolar"
           }
          ],
          "carpet": [
           {
            "aaxis": {
             "endlinecolor": "#2a3f5f",
             "gridcolor": "white",
             "linecolor": "white",
             "minorgridcolor": "white",
             "startlinecolor": "#2a3f5f"
            },
            "baxis": {
             "endlinecolor": "#2a3f5f",
             "gridcolor": "white",
             "linecolor": "white",
             "minorgridcolor": "white",
             "startlinecolor": "#2a3f5f"
            },
            "type": "carpet"
           }
          ],
          "choropleth": [
           {
            "colorbar": {
             "outlinewidth": 0,
             "ticks": ""
            },
            "type": "choropleth"
           }
          ],
          "contour": [
           {
            "colorbar": {
             "outlinewidth": 0,
             "ticks": ""
            },
            "colorscale": [
             [
              0,
              "#0d0887"
             ],
             [
              0.1111111111111111,
              "#46039f"
             ],
             [
              0.2222222222222222,
              "#7201a8"
             ],
             [
              0.3333333333333333,
              "#9c179e"
             ],
             [
              0.4444444444444444,
              "#bd3786"
             ],
             [
              0.5555555555555556,
              "#d8576b"
             ],
             [
              0.6666666666666666,
              "#ed7953"
             ],
             [
              0.7777777777777778,
              "#fb9f3a"
             ],
             [
              0.8888888888888888,
              "#fdca26"
             ],
             [
              1,
              "#f0f921"
             ]
            ],
            "type": "contour"
           }
          ],
          "contourcarpet": [
           {
            "colorbar": {
             "outlinewidth": 0,
             "ticks": ""
            },
            "type": "contourcarpet"
           }
          ],
          "heatmap": [
           {
            "colorbar": {
             "outlinewidth": 0,
             "ticks": ""
            },
            "colorscale": [
             [
              0,
              "#0d0887"
             ],
             [
              0.1111111111111111,
              "#46039f"
             ],
             [
              0.2222222222222222,
              "#7201a8"
             ],
             [
              0.3333333333333333,
              "#9c179e"
             ],
             [
              0.4444444444444444,
              "#bd3786"
             ],
             [
              0.5555555555555556,
              "#d8576b"
             ],
             [
              0.6666666666666666,
              "#ed7953"
             ],
             [
              0.7777777777777778,
              "#fb9f3a"
             ],
             [
              0.8888888888888888,
              "#fdca26"
             ],
             [
              1,
              "#f0f921"
             ]
            ],
            "type": "heatmap"
           }
          ],
          "heatmapgl": [
           {
            "colorbar": {
             "outlinewidth": 0,
             "ticks": ""
            },
            "colorscale": [
             [
              0,
              "#0d0887"
             ],
             [
              0.1111111111111111,
              "#46039f"
             ],
             [
              0.2222222222222222,
              "#7201a8"
             ],
             [
              0.3333333333333333,
              "#9c179e"
             ],
             [
              0.4444444444444444,
              "#bd3786"
             ],
             [
              0.5555555555555556,
              "#d8576b"
             ],
             [
              0.6666666666666666,
              "#ed7953"
             ],
             [
              0.7777777777777778,
              "#fb9f3a"
             ],
             [
              0.8888888888888888,
              "#fdca26"
             ],
             [
              1,
              "#f0f921"
             ]
            ],
            "type": "heatmapgl"
           }
          ],
          "histogram": [
           {
            "marker": {
             "pattern": {
              "fillmode": "overlay",
              "size": 10,
              "solidity": 0.2
             }
            },
            "type": "histogram"
           }
          ],
          "histogram2d": [
           {
            "colorbar": {
             "outlinewidth": 0,
             "ticks": ""
            },
            "colorscale": [
             [
              0,
              "#0d0887"
             ],
             [
              0.1111111111111111,
              "#46039f"
             ],
             [
              0.2222222222222222,
              "#7201a8"
             ],
             [
              0.3333333333333333,
              "#9c179e"
             ],
             [
              0.4444444444444444,
              "#bd3786"
             ],
             [
              0.5555555555555556,
              "#d8576b"
             ],
             [
              0.6666666666666666,
              "#ed7953"
             ],
             [
              0.7777777777777778,
              "#fb9f3a"
             ],
             [
              0.8888888888888888,
              "#fdca26"
             ],
             [
              1,
              "#f0f921"
             ]
            ],
            "type": "histogram2d"
           }
          ],
          "histogram2dcontour": [
           {
            "colorbar": {
             "outlinewidth": 0,
             "ticks": ""
            },
            "colorscale": [
             [
              0,
              "#0d0887"
             ],
             [
              0.1111111111111111,
              "#46039f"
             ],
             [
              0.2222222222222222,
              "#7201a8"
             ],
             [
              0.3333333333333333,
              "#9c179e"
             ],
             [
              0.4444444444444444,
              "#bd3786"
             ],
             [
              0.5555555555555556,
              "#d8576b"
             ],
             [
              0.6666666666666666,
              "#ed7953"
             ],
             [
              0.7777777777777778,
              "#fb9f3a"
             ],
             [
              0.8888888888888888,
              "#fdca26"
             ],
             [
              1,
              "#f0f921"
             ]
            ],
            "type": "histogram2dcontour"
           }
          ],
          "mesh3d": [
           {
            "colorbar": {
             "outlinewidth": 0,
             "ticks": ""
            },
            "type": "mesh3d"
           }
          ],
          "parcoords": [
           {
            "line": {
             "colorbar": {
              "outlinewidth": 0,
              "ticks": ""
             }
            },
            "type": "parcoords"
           }
          ],
          "pie": [
           {
            "automargin": true,
            "type": "pie"
           }
          ],
          "scatter": [
           {
            "fillpattern": {
             "fillmode": "overlay",
             "size": 10,
             "solidity": 0.2
            },
            "type": "scatter"
           }
          ],
          "scatter3d": [
           {
            "line": {
             "colorbar": {
              "outlinewidth": 0,
              "ticks": ""
             }
            },
            "marker": {
             "colorbar": {
              "outlinewidth": 0,
              "ticks": ""
             }
            },
            "type": "scatter3d"
           }
          ],
          "scattercarpet": [
           {
            "marker": {
             "colorbar": {
              "outlinewidth": 0,
              "ticks": ""
             }
            },
            "type": "scattercarpet"
           }
          ],
          "scattergeo": [
           {
            "marker": {
             "colorbar": {
              "outlinewidth": 0,
              "ticks": ""
             }
            },
            "type": "scattergeo"
           }
          ],
          "scattergl": [
           {
            "marker": {
             "colorbar": {
              "outlinewidth": 0,
              "ticks": ""
             }
            },
            "type": "scattergl"
           }
          ],
          "scattermapbox": [
           {
            "marker": {
             "colorbar": {
              "outlinewidth": 0,
              "ticks": ""
             }
            },
            "type": "scattermapbox"
           }
          ],
          "scatterpolar": [
           {
            "marker": {
             "colorbar": {
              "outlinewidth": 0,
              "ticks": ""
             }
            },
            "type": "scatterpolar"
           }
          ],
          "scatterpolargl": [
           {
            "marker": {
             "colorbar": {
              "outlinewidth": 0,
              "ticks": ""
             }
            },
            "type": "scatterpolargl"
           }
          ],
          "scatterternary": [
           {
            "marker": {
             "colorbar": {
              "outlinewidth": 0,
              "ticks": ""
             }
            },
            "type": "scatterternary"
           }
          ],
          "surface": [
           {
            "colorbar": {
             "outlinewidth": 0,
             "ticks": ""
            },
            "colorscale": [
             [
              0,
              "#0d0887"
             ],
             [
              0.1111111111111111,
              "#46039f"
             ],
             [
              0.2222222222222222,
              "#7201a8"
             ],
             [
              0.3333333333333333,
              "#9c179e"
             ],
             [
              0.4444444444444444,
              "#bd3786"
             ],
             [
              0.5555555555555556,
              "#d8576b"
             ],
             [
              0.6666666666666666,
              "#ed7953"
             ],
             [
              0.7777777777777778,
              "#fb9f3a"
             ],
             [
              0.8888888888888888,
              "#fdca26"
             ],
             [
              1,
              "#f0f921"
             ]
            ],
            "type": "surface"
           }
          ],
          "table": [
           {
            "cells": {
             "fill": {
              "color": "#EBF0F8"
             },
             "line": {
              "color": "white"
             }
            },
            "header": {
             "fill": {
              "color": "#C8D4E3"
             },
             "line": {
              "color": "white"
             }
            },
            "type": "table"
           }
          ]
         },
         "layout": {
          "annotationdefaults": {
           "arrowcolor": "#2a3f5f",
           "arrowhead": 0,
           "arrowwidth": 1
          },
          "autotypenumbers": "strict",
          "coloraxis": {
           "colorbar": {
            "outlinewidth": 0,
            "ticks": ""
           }
          },
          "colorscale": {
           "diverging": [
            [
             0,
             "#8e0152"
            ],
            [
             0.1,
             "#c51b7d"
            ],
            [
             0.2,
             "#de77ae"
            ],
            [
             0.3,
             "#f1b6da"
            ],
            [
             0.4,
             "#fde0ef"
            ],
            [
             0.5,
             "#f7f7f7"
            ],
            [
             0.6,
             "#e6f5d0"
            ],
            [
             0.7,
             "#b8e186"
            ],
            [
             0.8,
             "#7fbc41"
            ],
            [
             0.9,
             "#4d9221"
            ],
            [
             1,
             "#276419"
            ]
           ],
           "sequential": [
            [
             0,
             "#0d0887"
            ],
            [
             0.1111111111111111,
             "#46039f"
            ],
            [
             0.2222222222222222,
             "#7201a8"
            ],
            [
             0.3333333333333333,
             "#9c179e"
            ],
            [
             0.4444444444444444,
             "#bd3786"
            ],
            [
             0.5555555555555556,
             "#d8576b"
            ],
            [
             0.6666666666666666,
             "#ed7953"
            ],
            [
             0.7777777777777778,
             "#fb9f3a"
            ],
            [
             0.8888888888888888,
             "#fdca26"
            ],
            [
             1,
             "#f0f921"
            ]
           ],
           "sequentialminus": [
            [
             0,
             "#0d0887"
            ],
            [
             0.1111111111111111,
             "#46039f"
            ],
            [
             0.2222222222222222,
             "#7201a8"
            ],
            [
             0.3333333333333333,
             "#9c179e"
            ],
            [
             0.4444444444444444,
             "#bd3786"
            ],
            [
             0.5555555555555556,
             "#d8576b"
            ],
            [
             0.6666666666666666,
             "#ed7953"
            ],
            [
             0.7777777777777778,
             "#fb9f3a"
            ],
            [
             0.8888888888888888,
             "#fdca26"
            ],
            [
             1,
             "#f0f921"
            ]
           ]
          },
          "colorway": [
           "#636efa",
           "#EF553B",
           "#00cc96",
           "#ab63fa",
           "#FFA15A",
           "#19d3f3",
           "#FF6692",
           "#B6E880",
           "#FF97FF",
           "#FECB52"
          ],
          "font": {
           "color": "#2a3f5f"
          },
          "geo": {
           "bgcolor": "white",
           "lakecolor": "white",
           "landcolor": "#E5ECF6",
           "showlakes": true,
           "showland": true,
           "subunitcolor": "white"
          },
          "hoverlabel": {
           "align": "left"
          },
          "hovermode": "closest",
          "mapbox": {
           "style": "light"
          },
          "paper_bgcolor": "white",
          "plot_bgcolor": "#E5ECF6",
          "polar": {
           "angularaxis": {
            "gridcolor": "white",
            "linecolor": "white",
            "ticks": ""
           },
           "bgcolor": "#E5ECF6",
           "radialaxis": {
            "gridcolor": "white",
            "linecolor": "white",
            "ticks": ""
           }
          },
          "scene": {
           "xaxis": {
            "backgroundcolor": "#E5ECF6",
            "gridcolor": "white",
            "gridwidth": 2,
            "linecolor": "white",
            "showbackground": true,
            "ticks": "",
            "zerolinecolor": "white"
           },
           "yaxis": {
            "backgroundcolor": "#E5ECF6",
            "gridcolor": "white",
            "gridwidth": 2,
            "linecolor": "white",
            "showbackground": true,
            "ticks": "",
            "zerolinecolor": "white"
           },
           "zaxis": {
            "backgroundcolor": "#E5ECF6",
            "gridcolor": "white",
            "gridwidth": 2,
            "linecolor": "white",
            "showbackground": true,
            "ticks": "",
            "zerolinecolor": "white"
           }
          },
          "shapedefaults": {
           "line": {
            "color": "#2a3f5f"
           }
          },
          "ternary": {
           "aaxis": {
            "gridcolor": "white",
            "linecolor": "white",
            "ticks": ""
           },
           "baxis": {
            "gridcolor": "white",
            "linecolor": "white",
            "ticks": ""
           },
           "bgcolor": "#E5ECF6",
           "caxis": {
            "gridcolor": "white",
            "linecolor": "white",
            "ticks": ""
           }
          },
          "title": {
           "x": 0.05
          },
          "xaxis": {
           "automargin": true,
           "gridcolor": "white",
           "linecolor": "white",
           "ticks": "",
           "title": {
            "standoff": 15
           },
           "zerolinecolor": "white",
           "zerolinewidth": 2
          },
          "yaxis": {
           "automargin": true,
           "gridcolor": "white",
           "linecolor": "white",
           "ticks": "",
           "title": {
            "standoff": 15
           },
           "zerolinecolor": "white",
           "zerolinewidth": 2
          }
         }
        },
        "title": {
         "text": "Biểu đồ thể hiện sự tương quan giữa tổng số người tiêm đủ liều vaccine và số ca mắc mới mỗi ngày trên thế giới"
        },
        "xaxis": {
         "anchor": "y",
         "domain": [
          0,
          1
         ],
         "title": {
          "text": "PeopleFullyVaccinated"
         }
        },
        "yaxis": {
         "anchor": "x",
         "domain": [
          0,
          1
         ],
         "title": {
          "text": "NewCases"
         }
        }
       }
      }
     },
     "metadata": {},
     "output_type": "display_data"
    }
   ],
   "source": [
    "plot_scatter(covid_world_after_vaccine, \"PeopleFullyVaccinated\", \"NewCases\", \"Biểu đồ thể hiện sự tương quan giữa tổng số người tiêm đủ liều vaccine và số ca mắc mới mỗi ngày trên thế giới\", \"Date\")"
   ]
  },
  {
   "cell_type": "code",
   "execution_count": 292,
   "metadata": {},
   "outputs": [
    {
     "name": "stdout",
     "output_type": "stream",
     "text": [
      "Tuy hệ số tương quan R = 0.5767250371852393 không mạnh nhưng đường tuyến tính là đồng biến, ta vẫn có thể thấy số ca mắc mới mỗi ngày vẫn tăng khi số lượng người thực hiện tiêm đầy đủ vaccine tăng lên.\n",
      "Tuy nhiên, để đánh giá mức độ giúp ích của vaccine, ta hãy xét về số ca tử vong mỗi ngày sau khi tiến hành tiêm vaccine.\n"
     ]
    }
   ],
   "source": [
    "res = stats.linregress(covid_world_after_vaccine[\"PeopleFullyVaccinated\"],covid_world_after_vaccine[\"NewCases\"])\n",
    "print(f\"Tuy hệ số tương quan R = {res.rvalue} không mạnh nhưng đường tuyến tính là đồng biến, ta vẫn có thể thấy số ca mắc mới mỗi ngày vẫn tăng khi số lượng người thực hiện tiêm đầy đủ vaccine tăng lên.\")\n",
    "print(f\"Tuy nhiên, để đánh giá mức độ giúp ích của vaccine, ta hãy xét về số ca tử vong mỗi ngày sau khi tiến hành tiêm vaccine.\")"
   ]
  },
  {
   "cell_type": "code",
   "execution_count": 293,
   "metadata": {},
   "outputs": [
    {
     "data": {
      "application/vnd.plotly.v1+json": {
       "config": {
        "plotlyServerURL": "https://plot.ly"
       },
       "data": [
        {
         "hovertemplate": "<b>%{hovertext}</b><br><br>PeopleFullyVaccinated=%{x}<br>NewDeaths=%{marker.color}<extra></extra>",
         "hovertext": [
          "2020-12-04",
          "2020-12-05",
          "2020-12-06",
          "2020-12-07",
          "2020-12-08",
          "2020-12-09",
          "2020-12-10",
          "2020-12-11",
          "2020-12-12",
          "2020-12-13",
          "2020-12-14",
          "2020-12-15",
          "2020-12-16",
          "2020-12-17",
          "2020-12-18",
          "2020-12-19",
          "2020-12-20",
          "2020-12-21",
          "2020-12-22",
          "2020-12-23",
          "2020-12-24",
          "2020-12-25",
          "2020-12-26",
          "2020-12-27",
          "2020-12-28",
          "2020-12-29",
          "2020-12-30",
          "2020-12-31",
          "2021-01-01",
          "2021-01-02",
          "2021-01-03",
          "2021-01-04",
          "2021-01-05",
          "2021-01-06",
          "2021-01-07",
          "2021-01-08",
          "2021-01-09",
          "2021-01-10",
          "2021-01-11",
          "2021-01-12",
          "2021-01-13",
          "2021-01-14",
          "2021-01-15",
          "2021-01-16",
          "2021-01-17",
          "2021-01-18",
          "2021-01-19",
          "2021-01-20",
          "2021-01-21",
          "2021-01-22",
          "2021-01-23",
          "2021-01-24",
          "2021-01-25",
          "2021-01-26",
          "2021-01-27",
          "2021-01-28",
          "2021-01-29",
          "2021-01-30",
          "2021-01-31",
          "2021-02-01",
          "2021-02-02",
          "2021-02-03",
          "2021-02-04",
          "2021-02-05",
          "2021-02-06",
          "2021-02-07",
          "2021-02-08",
          "2021-02-09",
          "2021-02-10",
          "2021-02-11",
          "2021-02-12",
          "2021-02-13",
          "2021-02-14",
          "2021-02-15",
          "2021-02-16",
          "2021-02-17",
          "2021-02-18",
          "2021-02-19",
          "2021-02-20",
          "2021-02-21",
          "2021-02-22",
          "2021-02-23",
          "2021-02-24",
          "2021-02-25",
          "2021-02-26",
          "2021-02-27",
          "2021-02-28",
          "2021-03-01",
          "2021-03-02",
          "2021-03-03",
          "2021-03-04",
          "2021-03-05",
          "2021-03-06",
          "2021-03-07",
          "2021-03-08",
          "2021-03-09",
          "2021-03-10",
          "2021-03-11",
          "2021-03-12",
          "2021-03-13",
          "2021-03-14",
          "2021-03-15",
          "2021-03-16",
          "2021-03-17",
          "2021-03-18",
          "2021-03-19",
          "2021-03-20",
          "2021-03-21",
          "2021-03-22",
          "2021-03-23",
          "2021-03-24",
          "2021-03-25",
          "2021-03-26",
          "2021-03-27",
          "2021-03-28",
          "2021-03-29",
          "2021-03-30",
          "2021-03-31",
          "2021-04-01",
          "2021-04-02",
          "2021-04-03",
          "2021-04-04",
          "2021-04-05",
          "2021-04-06",
          "2021-04-07",
          "2021-04-08",
          "2021-04-09",
          "2021-04-10",
          "2021-04-11",
          "2021-04-12",
          "2021-04-13",
          "2021-04-14",
          "2021-04-15",
          "2021-04-16",
          "2021-04-17",
          "2021-04-18",
          "2021-04-19",
          "2021-04-20",
          "2021-04-21",
          "2021-04-22",
          "2021-04-23",
          "2021-04-24",
          "2021-04-25",
          "2021-04-26",
          "2021-04-27",
          "2021-04-28",
          "2021-04-29",
          "2021-04-30",
          "2021-05-01",
          "2021-05-02",
          "2021-05-03",
          "2021-05-04",
          "2021-05-05",
          "2021-05-06",
          "2021-05-07",
          "2021-05-08",
          "2021-05-09",
          "2021-05-10",
          "2021-05-11",
          "2021-05-12",
          "2021-05-13",
          "2021-05-14",
          "2021-05-15",
          "2021-05-16",
          "2021-05-17",
          "2021-05-18",
          "2021-05-19",
          "2021-05-20",
          "2021-05-21",
          "2021-05-22",
          "2021-05-23",
          "2021-05-24",
          "2021-05-25",
          "2021-05-26",
          "2021-05-27",
          "2021-05-28",
          "2021-05-29",
          "2021-05-30",
          "2021-05-31",
          "2021-06-01",
          "2021-06-02",
          "2021-06-03",
          "2021-06-04",
          "2021-06-05",
          "2021-06-06",
          "2021-06-07",
          "2021-06-08",
          "2021-06-09",
          "2021-06-10",
          "2021-06-11",
          "2021-06-12",
          "2021-06-13",
          "2021-06-14",
          "2021-06-15",
          "2021-06-16",
          "2021-06-17",
          "2021-06-18",
          "2021-06-19",
          "2021-06-20",
          "2021-06-21",
          "2021-06-22",
          "2021-06-23",
          "2021-06-24",
          "2021-06-25",
          "2021-06-26",
          "2021-06-27",
          "2021-06-28",
          "2021-06-29",
          "2021-06-30",
          "2021-07-01",
          "2021-07-02",
          "2021-07-03",
          "2021-07-04",
          "2021-07-05",
          "2021-07-06",
          "2021-07-07",
          "2021-07-08",
          "2021-07-09",
          "2021-07-10",
          "2021-07-11",
          "2021-07-12",
          "2021-07-13",
          "2021-07-14",
          "2021-07-15",
          "2021-07-16",
          "2021-07-17",
          "2021-07-18",
          "2021-07-19",
          "2021-07-20",
          "2021-07-21",
          "2021-07-22",
          "2021-07-23",
          "2021-07-24",
          "2021-07-25",
          "2021-07-26",
          "2021-07-27",
          "2021-07-28",
          "2021-07-29",
          "2021-07-30",
          "2021-07-31",
          "2021-08-01",
          "2021-08-02",
          "2021-08-03",
          "2021-08-04",
          "2021-08-05",
          "2021-08-06",
          "2021-08-07",
          "2021-08-08",
          "2021-08-09",
          "2021-08-10",
          "2021-08-11",
          "2021-08-12",
          "2021-08-13",
          "2021-08-14",
          "2021-08-15",
          "2021-08-16",
          "2021-08-17",
          "2021-08-18",
          "2021-08-19",
          "2021-08-20",
          "2021-08-21",
          "2021-08-22",
          "2021-08-23",
          "2021-08-24",
          "2021-08-25",
          "2021-08-26",
          "2021-08-27",
          "2021-08-28",
          "2021-08-29",
          "2021-08-30",
          "2021-08-31",
          "2021-09-01",
          "2021-09-02",
          "2021-09-03",
          "2021-09-04",
          "2021-09-05",
          "2021-09-06",
          "2021-09-07",
          "2021-09-08",
          "2021-09-09",
          "2021-09-10",
          "2021-09-11",
          "2021-09-12",
          "2021-09-13",
          "2021-09-14",
          "2021-09-15",
          "2021-09-16",
          "2021-09-17",
          "2021-09-18",
          "2021-09-19",
          "2021-09-20",
          "2021-09-21",
          "2021-09-22",
          "2021-09-23",
          "2021-09-24",
          "2021-09-25",
          "2021-09-26",
          "2021-09-27",
          "2021-09-28",
          "2021-09-29",
          "2021-09-30",
          "2021-10-01",
          "2021-10-02",
          "2021-10-03",
          "2021-10-04",
          "2021-10-05",
          "2021-10-06",
          "2021-10-07",
          "2021-10-08",
          "2021-10-09",
          "2021-10-10",
          "2021-10-11",
          "2021-10-12",
          "2021-10-13",
          "2021-10-14",
          "2021-10-15",
          "2021-10-16",
          "2021-10-17",
          "2021-10-18",
          "2021-10-19",
          "2021-10-20",
          "2021-10-21",
          "2021-10-22",
          "2021-10-23",
          "2021-10-24",
          "2021-10-25",
          "2021-10-26",
          "2021-10-27",
          "2021-10-28",
          "2021-10-29",
          "2021-10-30",
          "2021-10-31",
          "2021-11-01",
          "2021-11-02",
          "2021-11-03",
          "2021-11-04",
          "2021-11-05",
          "2021-11-06",
          "2021-11-07",
          "2021-11-08",
          "2021-11-09",
          "2021-11-10",
          "2021-11-11",
          "2021-11-12",
          "2021-11-13",
          "2021-11-14",
          "2021-11-15",
          "2021-11-16",
          "2021-11-17",
          "2021-11-18",
          "2021-11-19",
          "2021-11-20",
          "2021-11-21",
          "2021-11-22",
          "2021-11-23",
          "2021-11-24",
          "2021-11-25",
          "2021-11-26",
          "2021-11-27",
          "2021-11-28",
          "2021-11-29",
          "2021-11-30",
          "2021-12-01",
          "2021-12-02",
          "2021-12-03",
          "2021-12-04",
          "2021-12-05",
          "2021-12-06",
          "2021-12-07",
          "2021-12-08",
          "2021-12-09",
          "2021-12-10",
          "2021-12-11",
          "2021-12-12",
          "2021-12-13",
          "2021-12-14",
          "2021-12-15",
          "2021-12-16",
          "2021-12-17",
          "2021-12-18",
          "2021-12-19",
          "2021-12-20",
          "2021-12-21",
          "2021-12-22",
          "2021-12-23",
          "2021-12-24",
          "2021-12-25",
          "2021-12-26",
          "2021-12-27",
          "2021-12-28",
          "2021-12-29",
          "2021-12-30",
          "2021-12-31",
          "2022-01-01",
          "2022-01-02",
          "2022-01-03",
          "2022-01-04",
          "2022-01-05",
          "2022-01-06",
          "2022-01-07",
          "2022-01-08",
          "2022-01-09",
          "2022-01-10",
          "2022-01-11",
          "2022-01-12",
          "2022-01-13",
          "2022-01-14",
          "2022-01-15",
          "2022-01-16",
          "2022-01-17",
          "2022-01-18",
          "2022-01-19",
          "2022-01-20",
          "2022-01-21",
          "2022-01-22",
          "2022-01-23",
          "2022-01-24",
          "2022-01-25",
          "2022-01-26",
          "2022-01-27",
          "2022-01-28",
          "2022-01-29",
          "2022-01-30",
          "2022-01-31",
          "2022-02-01",
          "2022-02-02",
          "2022-02-03",
          "2022-02-04",
          "2022-02-05",
          "2022-02-06",
          "2022-02-07",
          "2022-02-08",
          "2022-02-09",
          "2022-02-10",
          "2022-02-11",
          "2022-02-12",
          "2022-02-13",
          "2022-02-14",
          "2022-02-15",
          "2022-02-16",
          "2022-02-17",
          "2022-02-18",
          "2022-02-19",
          "2022-02-20",
          "2022-02-21",
          "2022-02-22",
          "2022-02-23",
          "2022-02-24",
          "2022-02-25",
          "2022-02-26",
          "2022-02-27",
          "2022-02-28",
          "2022-03-01",
          "2022-03-02",
          "2022-03-03",
          "2022-03-04",
          "2022-03-05"
         ],
         "legendgroup": "",
         "marker": {
          "color": [
           12460,
           10337,
           7729,
           8714,
           12317,
           12670,
           12665,
           13065,
           10759,
           7827,
           9172,
           13776,
           13879,
           13384,
           12938,
           10971,
           8122,
           9568,
           14202,
           13803,
           11823,
           8729,
           7571,
           7750,
           9621,
           15100,
           15633,
           13252,
           9713,
           8472,
           7651,
           10058,
           15476,
           15069,
           15152,
           15397,
           12847,
           8831,
           10081,
           17168,
           16873,
           15471,
           15022,
           13716,
           9085,
           9771,
           16610,
           18020,
           17155,
           16060,
           13921,
           9197,
           11026,
           17445,
           17355,
           17029,
           15388,
           13506,
           8771,
           10353,
           15416,
           16035,
           13001,
           17138,
           11400,
           7298,
           9491,
           15431,
           14035,
           13779,
           13028,
           10419,
           6649,
           7479,
           11352,
           11963,
           11920,
           11692,
           8751,
           6518,
           7374,
           11685,
           12532,
           10657,
           10793,
           8493,
           6264,
           7701,
           10426,
           11764,
           10407,
           10515,
           8097,
           5895,
           7254,
           10614,
           10233,
           10198,
           9885,
           8403,
           5861,
           7664,
           10647,
           10599,
           10736,
           10830,
           8683,
           8470,
           8060,
           11488,
           10740,
           11525,
           12759,
           10148,
           7213,
           8764,
           12022,
           12880,
           12342,
           10532,
           9282,
           7357,
           8273,
           12496,
           15589,
           14339,
           14325,
           12859,
           9079,
           10092,
           13867,
           14050,
           13607,
           13359,
           12468,
           9107,
           11326,
           14353,
           14659,
           13888,
           15301,
           12961,
           10685,
           11868,
           14989,
           15923,
           15754,
           14342,
           12907,
           10277,
           11874,
           14088,
           14840,
           14646,
           14481,
           13196,
           10329,
           11293,
           14181,
           13950,
           13588,
           12992,
           12161,
           10260,
           11471,
           14142,
           13441,
           13165,
           12924,
           11343,
           9781,
           9115,
           13203,
           12787,
           12856,
           11986,
           10701,
           8344,
           8793,
           10973,
           11885,
           10092,
           10684,
           9347,
           7226,
           8169,
           10628,
           10136,
           8607,
           11770,
           9695,
           9253,
           8061,
           10795,
           10024,
           9302,
           9214,
           8077,
           6726,
           7049,
           8928,
           9396,
           8622,
           9237,
           7470,
           6073,
           6596,
           8150,
           9199,
           8556,
           8294,
           6907,
           6612,
           7387,
           8509,
           8521,
           8930,
           8355,
           7263,
           7601,
           8091,
           8384,
           8618,
           8589,
           8651,
           7495,
           6628,
           7169,
           11928,
           8675,
           8774,
           8298,
           8682,
           7320,
           8451,
           9831,
           10255,
           10251,
           9555,
           8806,
           7358,
           8070,
           10417,
           10500,
           10941,
           10472,
           8649,
           7431,
           8750,
           11619,
           10508,
           10495,
           10457,
           8712,
           7394,
           9795,
           10769,
           10787,
           11436,
           10510,
           8881,
           7664,
           10015,
           11048,
           11282,
           11619,
           10337,
           8421,
           6715,
           9537,
           9484,
           12498,
           11183,
           10718,
           7721,
           6459,
           8035,
           10485,
           10053,
           10828,
           9140,
           8327,
           5551,
           9088,
           9953,
           10478,
           10469,
           9047,
           6500,
           5961,
           8218,
           9328,
           9943,
           9781,
           8725,
           5434,
           5433,
           7751,
           9422,
           9269,
           8833,
           8607,
           5878,
           4244,
           7167,
           7429,
           9141,
           8962,
           7776,
           4857,
           4669,
           5745,
           8122,
           8857,
           7984,
           7233,
           5282,
           4274,
           6454,
           8245,
           8691,
           7704,
           8191,
           5823,
           4516,
           6643,
           7915,
           9178,
           8801,
           7873,
           6001,
           4483,
           6276,
           7283,
           8416,
           7605,
           8611,
           6644,
           4486,
           6667,
           8229,
           8282,
           7625,
           9099,
           6280,
           4621,
           6891,
           7726,
           9212,
           8304,
           8066,
           6067,
           4543,
           7260,
           8079,
           8680,
           7834,
           6825,
           5956,
           4791,
           7743,
           7989,
           9327,
           10168,
           8596,
           5524,
           7343,
           6814,
           8395,
           7948,
           8859,
           8126,
           5979,
           4540,
           6590,
           7755,
           9191,
           7314,
           7006,
           6067,
           4323,
           6946,
           7673,
           8245,
           9307,
           5885,
           4254,
           3602,
           6725,
           7478,
           8038,
           7573,
           6008,
           4295,
           3214,
           6089,
           7992,
           7986,
           6847,
           7220,
           5351,
           3933,
           6424,
           9510,
           9240,
           8108,
           7734,
           6196,
           4321,
           6233,
           9242,
           10567,
           9454,
           9849,
           6115,
           4966,
           8627,
           10811,
           10953,
           10402,
           12120,
           7906,
           5598,
           9729,
           13275,
           12220,
           11589,
           13330,
           8299,
           5855,
           10700,
           13286,
           13311,
           11699,
           12108,
           8724,
           5094,
           10671,
           10581,
           13077,
           12712,
           10579,
           8384,
           5305,
           7435,
           9410,
           11706,
           10735,
           9080,
           6392,
           4417,
           7759,
           8069,
           7945,
           8384,
           8771,
           5443
          ],
          "coloraxis": "coloraxis",
          "symbol": "circle"
         },
         "mode": "markers",
         "name": "",
         "orientation": "v",
         "showlegend": false,
         "type": "scatter",
         "x": [
          0,
          0,
          0,
          0,
          0,
          0,
          0,
          0,
          0,
          5527,
          5645,
          5904,
          6369,
          7107,
          8302,
          9349,
          10046,
          11521,
          14374,
          17276,
          18363,
          18464,
          19427,
          20165,
          24345,
          30227,
          37992,
          41200,
          47823,
          50737,
          53181,
          99024,
          187433,
          359999,
          641519,
          1005711,
          1135491,
          1852446,
          2214889,
          2582317,
          2928347,
          3146251,
          3315852,
          3419129,
          3579229,
          3974011,
          4554723,
          5250287,
          5846204,
          6237090,
          6552132,
          6896917,
          7755429,
          8752655,
          9786943,
          10823775,
          11719529,
          12297119,
          12780952,
          13781175,
          14938617,
          16364886,
          17927112,
          19411639,
          20154287,
          20734141,
          21882118,
          23330591,
          24990082,
          26788424,
          28959897,
          30071289,
          30785326,
          32056135,
          33801056,
          35769514,
          37751721,
          40205854,
          41571286,
          42388973,
          43929750,
          48067991,
          50259096,
          52804454,
          55430670,
          57120101,
          57760470,
          59310769,
          62266250,
          64776686,
          67587103,
          70293048,
          72343915,
          73116844,
          75135960,
          77535767,
          80661675,
          83618524,
          87072572,
          89504480,
          90411108,
          93313881,
          96386451,
          100213873,
          103314254,
          106771225,
          108975246,
          109910250,
          112350345,
          115150554,
          118808677,
          122543829,
          126535050,
          128909748,
          130007427,
          134293511,
          138050459,
          142436168,
          147363832,
          150839720,
          153442552,
          154611060,
          158024857,
          162444117,
          167744184,
          173267782,
          178954225,
          182979682,
          185167871,
          189587196,
          194020800,
          199398359,
          204822615,
          210187830,
          213845503,
          216454463,
          221242952,
          227550824,
          232853451,
          239389184,
          244903166,
          248423968,
          252694002,
          258097748,
          264467864,
          271738384,
          279336216,
          285601690,
          289318727,
          291922359,
          296421577,
          303123551,
          310663910,
          317886198,
          325502457,
          330490929,
          333145460,
          338715518,
          346178692,
          352767478,
          358963362,
          364216984,
          368556038,
          371613316,
          376087544,
          381849576,
          387455745,
          393694808,
          399856152,
          404991395,
          408054439,
          412142900,
          417040906,
          422419534,
          427895587,
          433427864,
          437643880,
          440919042,
          445747165,
          452249438,
          458443387,
          463991135,
          469917577,
          475211743,
          479159430,
          484340904,
          491320673,
          498602830,
          505457418,
          512391253,
          517909944,
          522426108,
          528780088,
          536408210,
          543849816,
          551659836,
          558683121,
          564668547,
          569560529,
          576010247,
          583658639,
          591022950,
          599327205,
          606745821,
          613579899,
          620548225,
          627768240,
          637017374,
          644996103,
          653057840,
          659974852,
          668729700,
          674380009,
          685141870,
          693145461,
          702726952,
          714323857,
          721463617,
          729690742,
          735900161,
          746208740,
          755803328,
          765870696,
          776383721,
          785737898,
          794478086,
          799602220,
          809239199,
          817783683,
          826520799,
          836781223,
          846254610,
          854183016,
          861772823,
          873275220,
          883768997,
          893816649,
          905875589,
          915786935,
          922925709,
          929995634,
          937977463,
          950298621,
          960212523,
          969897748,
          978034900,
          986044702,
          992592811,
          1008639659,
          1020397838,
          1030744130,
          1818546380,
          1831168006,
          1840925903,
          1847177512,
          1857512970,
          1869337793,
          1880195301,
          1891100468,
          1903780002,
          1910999811,
          1918929749,
          1927251568,
          1941957735,
          1954316100,
          2078592120,
          2094098111,
          2103296831,
          2119664512,
          2130133330,
          2143580074,
          2158336197,
          2169580646,
          2179400164,
          2188796085,
          2199896795,
          2289555205,
          2302000751,
          2319243998,
          2335569559,
          2347143014,
          2359572241,
          2371665518,
          2383062657,
          2394635047,
          2449313509,
          2462009473,
          2472753894,
          2497317977,
          2507796929,
          2519421214,
          2532298463,
          2542918032,
          2555481066,
          2566871978,
          2575901341,
          2584858497,
          2603181773,
          2639065343,
          2649776940,
          2662607289,
          2672635888,
          2681584786,
          2690903769,
          2702339522,
          2719125409,
          2730255021,
          2742240195,
          2756879467,
          2766713225,
          2780195048,
          2790584607,
          2801426067,
          2811354796,
          2821033212,
          2829808555,
          2835473889,
          2846717747,
          2860575686,
          2873163692,
          2886824214,
          2898195261,
          2909974577,
          2941613342,
          2953594094,
          2962675549,
          2973906200,
          2983409291,
          2996115033,
          3017281276,
          3030594447,
          3047503732,
          3056828233,
          3066080559,
          3075472410,
          3085211849,
          3098715822,
          3105541971,
          3114241113,
          3123010999,
          3134250264,
          3146374348,
          3159204101,
          3172853217,
          3186073378,
          3196750422,
          3205255314,
          3214219219,
          3225915329,
          3238876036,
          3251403715,
          3264103986,
          3274023607,
          3284461289,
          3294589105,
          3308655795,
          3316694989,
          3329802559,
          3337624861,
          3352001257,
          3395715268,
          3409858017,
          3422821161,
          3468931026,
          3493143576,
          3506424189,
          3516374259,
          3525347036,
          3535122678,
          3549170306,
          3565073577,
          3610288024,
          3626763857,
          3639404212,
          3647852191,
          3661122519,
          3672628538,
          3680068847,
          3716528884,
          3725651223,
          3741199510,
          3756078171,
          3766728157,
          3773758218,
          3783097519,
          3793101723,
          3811164447,
          3817083329,
          3823708045,
          3845091498,
          3856120424,
          3876967171,
          3887731381,
          3895377671,
          3898847265,
          3906569347,
          3916369411,
          3922925460,
          3936288613,
          3947517394,
          3951997162,
          3961175752,
          3984122815,
          3994530052,
          4002256103,
          4015768523,
          4025511325,
          4033693938,
          4042109778,
          4050277545,
          4055356850,
          4069697563,
          4078049032,
          4091203387,
          4098676375,
          4104393401,
          4109922271,
          4117505622,
          4124517516,
          4131382616,
          4143131941,
          4148763762,
          4156480498,
          4164931753,
          4173336960,
          4180959618,
          4186896557,
          4197285183,
          4203716136,
          4210767624,
          4215917502,
          4225122379,
          4233360982,
          4240593142,
          4250938885,
          4256042939,
          4265315793,
          4270676154,
          4280535138,
          4286010559,
          4292741092,
          4317741334,
          4326589280,
          4331591758,
          4339933555,
          4346555670,
          4351701456,
          4356388624,
          4363641413,
          4368636406,
          4371648348,
          4383014364,
          4385303379,
          4387582839,
          4393034333,
          4396313796,
          4400787171
         ],
         "xaxis": "x",
         "y": [
          12460,
          10337,
          7729,
          8714,
          12317,
          12670,
          12665,
          13065,
          10759,
          7827,
          9172,
          13776,
          13879,
          13384,
          12938,
          10971,
          8122,
          9568,
          14202,
          13803,
          11823,
          8729,
          7571,
          7750,
          9621,
          15100,
          15633,
          13252,
          9713,
          8472,
          7651,
          10058,
          15476,
          15069,
          15152,
          15397,
          12847,
          8831,
          10081,
          17168,
          16873,
          15471,
          15022,
          13716,
          9085,
          9771,
          16610,
          18020,
          17155,
          16060,
          13921,
          9197,
          11026,
          17445,
          17355,
          17029,
          15388,
          13506,
          8771,
          10353,
          15416,
          16035,
          13001,
          17138,
          11400,
          7298,
          9491,
          15431,
          14035,
          13779,
          13028,
          10419,
          6649,
          7479,
          11352,
          11963,
          11920,
          11692,
          8751,
          6518,
          7374,
          11685,
          12532,
          10657,
          10793,
          8493,
          6264,
          7701,
          10426,
          11764,
          10407,
          10515,
          8097,
          5895,
          7254,
          10614,
          10233,
          10198,
          9885,
          8403,
          5861,
          7664,
          10647,
          10599,
          10736,
          10830,
          8683,
          8470,
          8060,
          11488,
          10740,
          11525,
          12759,
          10148,
          7213,
          8764,
          12022,
          12880,
          12342,
          10532,
          9282,
          7357,
          8273,
          12496,
          15589,
          14339,
          14325,
          12859,
          9079,
          10092,
          13867,
          14050,
          13607,
          13359,
          12468,
          9107,
          11326,
          14353,
          14659,
          13888,
          15301,
          12961,
          10685,
          11868,
          14989,
          15923,
          15754,
          14342,
          12907,
          10277,
          11874,
          14088,
          14840,
          14646,
          14481,
          13196,
          10329,
          11293,
          14181,
          13950,
          13588,
          12992,
          12161,
          10260,
          11471,
          14142,
          13441,
          13165,
          12924,
          11343,
          9781,
          9115,
          13203,
          12787,
          12856,
          11986,
          10701,
          8344,
          8793,
          10973,
          11885,
          10092,
          10684,
          9347,
          7226,
          8169,
          10628,
          10136,
          8607,
          11770,
          9695,
          9253,
          8061,
          10795,
          10024,
          9302,
          9214,
          8077,
          6726,
          7049,
          8928,
          9396,
          8622,
          9237,
          7470,
          6073,
          6596,
          8150,
          9199,
          8556,
          8294,
          6907,
          6612,
          7387,
          8509,
          8521,
          8930,
          8355,
          7263,
          7601,
          8091,
          8384,
          8618,
          8589,
          8651,
          7495,
          6628,
          7169,
          11928,
          8675,
          8774,
          8298,
          8682,
          7320,
          8451,
          9831,
          10255,
          10251,
          9555,
          8806,
          7358,
          8070,
          10417,
          10500,
          10941,
          10472,
          8649,
          7431,
          8750,
          11619,
          10508,
          10495,
          10457,
          8712,
          7394,
          9795,
          10769,
          10787,
          11436,
          10510,
          8881,
          7664,
          10015,
          11048,
          11282,
          11619,
          10337,
          8421,
          6715,
          9537,
          9484,
          12498,
          11183,
          10718,
          7721,
          6459,
          8035,
          10485,
          10053,
          10828,
          9140,
          8327,
          5551,
          9088,
          9953,
          10478,
          10469,
          9047,
          6500,
          5961,
          8218,
          9328,
          9943,
          9781,
          8725,
          5434,
          5433,
          7751,
          9422,
          9269,
          8833,
          8607,
          5878,
          4244,
          7167,
          7429,
          9141,
          8962,
          7776,
          4857,
          4669,
          5745,
          8122,
          8857,
          7984,
          7233,
          5282,
          4274,
          6454,
          8245,
          8691,
          7704,
          8191,
          5823,
          4516,
          6643,
          7915,
          9178,
          8801,
          7873,
          6001,
          4483,
          6276,
          7283,
          8416,
          7605,
          8611,
          6644,
          4486,
          6667,
          8229,
          8282,
          7625,
          9099,
          6280,
          4621,
          6891,
          7726,
          9212,
          8304,
          8066,
          6067,
          4543,
          7260,
          8079,
          8680,
          7834,
          6825,
          5956,
          4791,
          7743,
          7989,
          9327,
          10168,
          8596,
          5524,
          7343,
          6814,
          8395,
          7948,
          8859,
          8126,
          5979,
          4540,
          6590,
          7755,
          9191,
          7314,
          7006,
          6067,
          4323,
          6946,
          7673,
          8245,
          9307,
          5885,
          4254,
          3602,
          6725,
          7478,
          8038,
          7573,
          6008,
          4295,
          3214,
          6089,
          7992,
          7986,
          6847,
          7220,
          5351,
          3933,
          6424,
          9510,
          9240,
          8108,
          7734,
          6196,
          4321,
          6233,
          9242,
          10567,
          9454,
          9849,
          6115,
          4966,
          8627,
          10811,
          10953,
          10402,
          12120,
          7906,
          5598,
          9729,
          13275,
          12220,
          11589,
          13330,
          8299,
          5855,
          10700,
          13286,
          13311,
          11699,
          12108,
          8724,
          5094,
          10671,
          10581,
          13077,
          12712,
          10579,
          8384,
          5305,
          7435,
          9410,
          11706,
          10735,
          9080,
          6392,
          4417,
          7759,
          8069,
          7945,
          8384,
          8771,
          5443
         ],
         "yaxis": "y"
        },
        {
         "hovertemplate": "<b>OLS trendline</b><br>NewDeaths = -9.18836e-07 * PeopleFullyVaccinated + 11159.6<br>R<sup>2</sup>=0.254698<br><br>PeopleFullyVaccinated=%{x}<br>NewDeaths=%{y} <b>(trend)</b><extra></extra>",
         "legendgroup": "",
         "marker": {
          "symbol": "circle"
         },
         "mode": "lines",
         "name": "",
         "showlegend": false,
         "type": "scatter",
         "x": [
          0,
          0,
          0,
          0,
          0,
          0,
          0,
          0,
          0,
          5527,
          5645,
          5904,
          6369,
          7107,
          8302,
          9349,
          10046,
          11521,
          14374,
          17276,
          18363,
          18464,
          19427,
          20165,
          24345,
          30227,
          37992,
          41200,
          47823,
          50737,
          53181,
          99024,
          187433,
          359999,
          641519,
          1005711,
          1135491,
          1852446,
          2214889,
          2582317,
          2928347,
          3146251,
          3315852,
          3419129,
          3579229,
          3974011,
          4554723,
          5250287,
          5846204,
          6237090,
          6552132,
          6896917,
          7755429,
          8752655,
          9786943,
          10823775,
          11719529,
          12297119,
          12780952,
          13781175,
          14938617,
          16364886,
          17927112,
          19411639,
          20154287,
          20734141,
          21882118,
          23330591,
          24990082,
          26788424,
          28959897,
          30071289,
          30785326,
          32056135,
          33801056,
          35769514,
          37751721,
          40205854,
          41571286,
          42388973,
          43929750,
          48067991,
          50259096,
          52804454,
          55430670,
          57120101,
          57760470,
          59310769,
          62266250,
          64776686,
          67587103,
          70293048,
          72343915,
          73116844,
          75135960,
          77535767,
          80661675,
          83618524,
          87072572,
          89504480,
          90411108,
          93313881,
          96386451,
          100213873,
          103314254,
          106771225,
          108975246,
          109910250,
          112350345,
          115150554,
          118808677,
          122543829,
          126535050,
          128909748,
          130007427,
          134293511,
          138050459,
          142436168,
          147363832,
          150839720,
          153442552,
          154611060,
          158024857,
          162444117,
          167744184,
          173267782,
          178954225,
          182979682,
          185167871,
          189587196,
          194020800,
          199398359,
          204822615,
          210187830,
          213845503,
          216454463,
          221242952,
          227550824,
          232853451,
          239389184,
          244903166,
          248423968,
          252694002,
          258097748,
          264467864,
          271738384,
          279336216,
          285601690,
          289318727,
          291922359,
          296421577,
          303123551,
          310663910,
          317886198,
          325502457,
          330490929,
          333145460,
          338715518,
          346178692,
          352767478,
          358963362,
          364216984,
          368556038,
          371613316,
          376087544,
          381849576,
          387455745,
          393694808,
          399856152,
          404991395,
          408054439,
          412142900,
          417040906,
          422419534,
          427895587,
          433427864,
          437643880,
          440919042,
          445747165,
          452249438,
          458443387,
          463991135,
          469917577,
          475211743,
          479159430,
          484340904,
          491320673,
          498602830,
          505457418,
          512391253,
          517909944,
          522426108,
          528780088,
          536408210,
          543849816,
          551659836,
          558683121,
          564668547,
          569560529,
          576010247,
          583658639,
          591022950,
          599327205,
          606745821,
          613579899,
          620548225,
          627768240,
          637017374,
          644996103,
          653057840,
          659974852,
          668729700,
          674380009,
          685141870,
          693145461,
          702726952,
          714323857,
          721463617,
          729690742,
          735900161,
          746208740,
          755803328,
          765870696,
          776383721,
          785737898,
          794478086,
          799602220,
          809239199,
          817783683,
          826520799,
          836781223,
          846254610,
          854183016,
          861772823,
          873275220,
          883768997,
          893816649,
          905875589,
          915786935,
          922925709,
          929995634,
          937977463,
          950298621,
          960212523,
          969897748,
          978034900,
          986044702,
          992592811,
          1008639659,
          1020397838,
          1030744130,
          1818546380,
          1831168006,
          1840925903,
          1847177512,
          1857512970,
          1869337793,
          1880195301,
          1891100468,
          1903780002,
          1910999811,
          1918929749,
          1927251568,
          1941957735,
          1954316100,
          2078592120,
          2094098111,
          2103296831,
          2119664512,
          2130133330,
          2143580074,
          2158336197,
          2169580646,
          2179400164,
          2188796085,
          2199896795,
          2289555205,
          2302000751,
          2319243998,
          2335569559,
          2347143014,
          2359572241,
          2371665518,
          2383062657,
          2394635047,
          2449313509,
          2462009473,
          2472753894,
          2497317977,
          2507796929,
          2519421214,
          2532298463,
          2542918032,
          2555481066,
          2566871978,
          2575901341,
          2584858497,
          2603181773,
          2639065343,
          2649776940,
          2662607289,
          2672635888,
          2681584786,
          2690903769,
          2702339522,
          2719125409,
          2730255021,
          2742240195,
          2756879467,
          2766713225,
          2780195048,
          2790584607,
          2801426067,
          2811354796,
          2821033212,
          2829808555,
          2835473889,
          2846717747,
          2860575686,
          2873163692,
          2886824214,
          2898195261,
          2909974577,
          2941613342,
          2953594094,
          2962675549,
          2973906200,
          2983409291,
          2996115033,
          3017281276,
          3030594447,
          3047503732,
          3056828233,
          3066080559,
          3075472410,
          3085211849,
          3098715822,
          3105541971,
          3114241113,
          3123010999,
          3134250264,
          3146374348,
          3159204101,
          3172853217,
          3186073378,
          3196750422,
          3205255314,
          3214219219,
          3225915329,
          3238876036,
          3251403715,
          3264103986,
          3274023607,
          3284461289,
          3294589105,
          3308655795,
          3316694989,
          3329802559,
          3337624861,
          3352001257,
          3395715268,
          3409858017,
          3422821161,
          3468931026,
          3493143576,
          3506424189,
          3516374259,
          3525347036,
          3535122678,
          3549170306,
          3565073577,
          3610288024,
          3626763857,
          3639404212,
          3647852191,
          3661122519,
          3672628538,
          3680068847,
          3716528884,
          3725651223,
          3741199510,
          3756078171,
          3766728157,
          3773758218,
          3783097519,
          3793101723,
          3811164447,
          3817083329,
          3823708045,
          3845091498,
          3856120424,
          3876967171,
          3887731381,
          3895377671,
          3898847265,
          3906569347,
          3916369411,
          3922925460,
          3936288613,
          3947517394,
          3951997162,
          3961175752,
          3984122815,
          3994530052,
          4002256103,
          4015768523,
          4025511325,
          4033693938,
          4042109778,
          4050277545,
          4055356850,
          4069697563,
          4078049032,
          4091203387,
          4098676375,
          4104393401,
          4109922271,
          4117505622,
          4124517516,
          4131382616,
          4143131941,
          4148763762,
          4156480498,
          4164931753,
          4173336960,
          4180959618,
          4186896557,
          4197285183,
          4203716136,
          4210767624,
          4215917502,
          4225122379,
          4233360982,
          4240593142,
          4250938885,
          4256042939,
          4265315793,
          4270676154,
          4280535138,
          4286010559,
          4292741092,
          4317741334,
          4326589280,
          4331591758,
          4339933555,
          4346555670,
          4351701456,
          4356388624,
          4363641413,
          4368636406,
          4371648348,
          4383014364,
          4385303379,
          4387582839,
          4393034333,
          4396313796,
          4400787171
         ],
         "xaxis": "x",
         "y": [
          11159.644710990062,
          11159.644710990062,
          11159.644710990062,
          11159.644710990062,
          11159.644710990062,
          11159.644710990062,
          11159.644710990062,
          11159.644710990062,
          11159.644710990062,
          11159.63963258451,
          11159.639524161885,
          11159.639286183408,
          11159.638858924754,
          11159.638180823922,
          11159.637082815123,
          11159.636120794024,
          11159.63548036546,
          11159.634125082632,
          11159.631503644052,
          11159.628837182516,
          11159.627838407983,
          11159.627745605567,
          11159.626860766675,
          11159.626182665845,
          11159.622341932136,
          11159.61693733987,
          11159.609802579764,
          11159.606854954467,
          11159.600769504861,
          11159.598092017295,
          11159.595846382563,
          11159.553724192278,
          11159.472490836673,
          11159.313931015353,
          11159.055260356601,
          11158.720627703318,
          11158.601381191196,
          11157.942617259165,
          11157.609591649722,
          11157.271985643742,
          11156.954040886538,
          11156.753822887018,
          11156.59798741389,
          11156.503092807383,
          11156.355987193338,
          11155.99324735246,
          11155.459668368427,
          11154.820559253323,
          11154.273009370716,
          11153.913849314176,
          11153.624377441221,
          11153.307576634608,
          11152.518745061056,
          11151.602458096206,
          11150.652117238365,
          11149.69943886221,
          11148.876388005221,
          11148.345677626603,
          11147.90111453753,
          11146.98207382174,
          11145.91857465789,
          11144.608067618292,
          11143.17263841774,
          11141.808601841209,
          11141.126230260574,
          11140.593439637669,
          11139.538637254811,
          11138.207728384768,
          11136.682928618631,
          11135.03054758069,
          11133.035320416111,
          11132.01413364156,
          11131.358050872439,
          11130.190386048704,
          11128.587090138857,
          11126.778400427342,
          11124.957077642202,
          11122.702132346041,
          11121.447524520947,
          11120.696204419557,
          11119.28048332841,
          11115.478119284846,
          11113.464853535539,
          11111.12608744212,
          11108.713026122337,
          11107.160716411889,
          11106.572322439615,
          11105.147852193833,
          11102.432250399293,
          11100.12557189022,
          11097.543260094404,
          11095.056940913897,
          11093.172530861671,
          11092.462336013708,
          11090.607099917457,
          11088.402071295804,
          11085.529875069755,
          11082.813016307819,
          11079.6393132973,
          11077.404789127138,
          11076.571746849493,
          11073.904575053111,
          11071.081387691782,
          11067.564615277524,
          11064.715874173333,
          11061.539485405727,
          11059.51435197303,
          11058.655236810286,
          11056.413190131303,
          11053.840257811491,
          11050.479043381945,
          11047.047051948375,
          11043.379775146392,
          11041.19781757323,
          11040.189230794214,
          11036.251023307193,
          11032.79900492819,
          11028.76925842306,
          11024.241544253593,
          11021.047773868868,
          11018.656198605793,
          11017.58253160481,
          11014.445812654698,
          11010.385238289125,
          11005.515346905495,
          11000.440067233214,
          10995.215159742573,
          10991.516425677612,
          10989.505839253543,
          10985.445205163642,
          10981.371451017134,
          10976.430357208495,
          10971.446356523787,
          10966.516604824455,
          10963.155803871028,
          10960.758597982076,
          10956.358762787218,
          10950.562864074647,
          10945.69062047133,
          10939.685354911027,
          10934.618910763946,
          10931.383871787406,
          10927.460411615222,
          10922.495256253087,
          10916.642165524023,
          10909.961751351428,
          10902.98059119042,
          10897.22364927875,
          10893.808302555977,
          10891.41599222425,
          10887.28194958455,
          10881.123935839458,
          10874.19558392927,
          10867.559487045723,
          10860.561395497145,
          10855.977808759415,
          10853.53873060352,
          10848.420761819256,
          10841.56333025148,
          10835.509317694661,
          10829.816317567385,
          10824.989101513202,
          10821.002223293039,
          10818.193086768999,
          10814.082005836324,
          10808.787644465232,
          10803.636495600836,
          10797.903821061887,
          10792.242557523676,
          10787.524112334484,
          10784.709677803132,
          10780.953053406458,
          10776.452590069604,
          10771.510514025482,
          10766.478920402042,
          10761.395666153718,
          10757.521839654612,
          10754.512503507767,
          10750.076251174201,
          10744.101729860282,
          10738.410507680308,
          10733.313038123084,
          10727.867610955582,
          10723.003141622099,
          10719.375865418502,
          10714.614941530728,
          10708.201679790296,
          10701.510573125317,
          10695.212332171093,
          10688.841276235005,
          10683.77050529007,
          10679.620892058641,
          10673.782627664294,
          10666.773635966438,
          10659.93602184953,
          10652.759895754523,
          10646.30664995475,
          10640.807026175511,
          10636.31209790561,
          10630.385866007968,
          10623.358249508134,
          10616.591656805576,
          10608.961409891346,
          10602.144919809833,
          10595.865524178182,
          10589.462776675986,
          10582.828768306246,
          10574.330332725594,
          10566.99919075901,
          10559.591778069058,
          10553.236179707894,
          10545.191911807095,
          10540.000205529806,
          10530.111822202629,
          10522.757836140001,
          10513.954019044251,
          10503.298367382436,
          10496.738100181063,
          10489.178723073275,
          10483.473286503238,
          10474.001394912138,
          10465.185543823713,
          10455.935285538482,
          10446.275541640267,
          10437.680588789057,
          10429.649791021311,
          10424.941553179193,
          10416.086751721718,
          10408.23577379839,
          10400.207798694268,
          10390.78015364186,
          10382.075666373095,
          10374.790762981249,
          10367.81697647766,
          10357.248162151089,
          10347.606104004648,
          10338.373961486353,
          10327.29377551857,
          10318.18687583493,
          10311.62751460567,
          10305.131414303465,
          10297.797423945853,
          10286.476302688226,
          10277.367054460243,
          10268.467922850015,
          10260.991216157046,
          10253.63152320517,
          10247.614886132813,
          10232.870467466104,
          10222.066631476997,
          10212.56008783079,
          9488.69916507659,
          9477.101963059182,
          9468.136057812579,
          9462.39185555949,
          9452.895266580508,
          9442.03019569732,
          9432.053928480907,
          9422.033870468369,
          9410.383460506562,
          9403.749641417002,
          9396.463330368684,
          9388.816945022192,
          9375.304392075312,
          9363.949083693502,
          9249.7598255219,
          9235.5123656378,
          9227.060252245947,
          9212.021040728072,
          9202.401915804749,
          9190.046565817009,
          9176.488111508132,
          9166.156309042472,
          9157.13378421409,
          9148.500475480601,
          9138.300745556211,
          9055.919387296224,
          9044.483973889193,
          9028.64026097177,
          9013.639750818442,
          9003.0056458565,
          8991.58522693114,
          8980.473490897964,
          8970.00139139165,
          8959.368264989851,
          8909.12773577316,
          8897.462229338907,
          8887.58987050835,
          8865.019511275445,
          8855.391074869967,
          8844.710265483529,
          8832.878187898481,
          8823.120547557148,
          8811.577181967838,
          8801.110804052147,
          8792.81430193748,
          8784.58414620054,
          8767.748063956245,
          8734.776954655765,
          8724.934755692011,
          8713.145771506706,
          8703.931135567203,
          8695.708567576425,
          8687.145952232902,
          8676.638372800413,
          8661.214898631524,
          8650.988612514397,
          8639.976205389374,
          8626.525117964364,
          8617.489508913968,
          8605.10192708466,
          8595.555628169228,
          8585.59410642998,
          8576.471234623361,
          8567.578359366202,
          8559.515259925367,
          8554.309748139953,
          8543.97848870626,
          8531.245318025405,
          8519.67900726811,
          8507.127230397426,
          8496.679105155206,
          8485.85584773347,
          8456.785017296386,
          8445.776673263337,
          8437.432307153376,
          8427.113182784298,
          8418.381402416475,
          8406.70691160562,
          8387.258609459719,
          8375.025991128348,
          8359.48913445751,
          8350.921448977959,
          8342.420080473385,
          8333.790511401668,
          8324.841566026545,
          8312.433631983924,
          8306.161521801456,
          8298.168438568588,
          8290.110353214797,
          8279.783313994003,
          8268.643271385863,
          8256.854834826703,
          8244.313538197328,
          8232.166380785147,
          8222.355930355327,
          8214.5413309796,
          8206.30497401974,
          8195.55816925086,
          8183.649407466331,
          8172.138527317273,
          8160.469063457162,
          8151.35456040715,
          8141.764044355774,
          8132.4582442831725,
          8119.533265707018,
          8112.146566332853,
          8100.102861563966,
          8092.915450327476,
          8079.705902786275,
          8039.539903844603,
          8026.545039535164,
          8014.634038547751,
          7972.266643142404,
          7950.019285020195,
          7937.816582145303,
          7928.674101463547,
          7920.4295925923325,
          7911.447382604186,
          7898.539918876343,
          7883.9274238995,
          7842.38277062231,
          7827.244185173329,
          7815.629774279934,
          7807.867468606972,
          7795.674215958441,
          7785.102073608547,
          7778.265651221689,
          7744.76486339521,
          7736.382931601773,
          7722.096608638025,
          7708.425562026003,
          7698.6399734556735,
          7692.180501624413,
          7683.5992173747945,
          7674.406996435007,
          7657.810318700088,
          7652.3718379313505,
          7646.284811603684,
          7626.636929130322,
          7616.503156916104,
          7597.348419137882,
          7587.457877465375,
          7580.432192358425,
          7577.2442051263215,
          7570.148879615252,
          7561.144229818821,
          7555.120297190091,
          7542.841753606996,
          7532.524347460891,
          7528.4081761778,
          7519.97455895091,
          7498.889975608226,
          7489.32743351325,
          7482.2284611428295,
          7469.812765694076,
          7460.860730274107,
          7453.342252386134,
          7445.6094771774415,
          7438.104640325984,
          7433.437592974634,
          7420.260832251834,
          7412.587203423416,
          7400.500510920905,
          7393.634061898436,
          7388.381053652052,
          7383.30092987735,
          7376.333075377787,
          7369.890296036785,
          7363.58239628047,
          7352.7866956636735,
          7347.61197682294,
          7340.52156340814,
          7332.756247629045,
          7325.033242401578,
          7318.029271222618,
          7312.574199035562,
          7303.028757393947,
          7297.11976745038,
          7290.640607724104,
          7285.908715372753,
          7277.450944708784,
          7269.881021203506,
          7263.235853572789,
          7253.729814367446,
          7249.0400267485,
          7240.519796382308,
          7235.594504712024,
          7226.53571710935,
          7221.504704190147,
          7215.320449413002,
          7192.349331669688,
          7184.219521992145,
          7179.623066039985,
          7171.958324191573,
          7165.873687755863,
          7161.145555280669,
          7156.838817449463,
          7150.17469515471,
          7145.585116688629,
          7142.817636505116,
          7132.374133925885,
          7130.2709049618925,
          7128.176455474117,
          7123.167427539468,
          7120.154139479782,
          7116.043842314059
         ],
         "yaxis": "y"
        }
       ],
       "layout": {
        "coloraxis": {
         "colorbar": {
          "title": {
           "text": "NewDeaths"
          }
         },
         "colorscale": [
          [
           0,
           "#440154"
          ],
          [
           0.1111111111111111,
           "#482878"
          ],
          [
           0.2222222222222222,
           "#3e4989"
          ],
          [
           0.3333333333333333,
           "#31688e"
          ],
          [
           0.4444444444444444,
           "#26828e"
          ],
          [
           0.5555555555555556,
           "#1f9e89"
          ],
          [
           0.6666666666666666,
           "#35b779"
          ],
          [
           0.7777777777777778,
           "#6ece58"
          ],
          [
           0.8888888888888888,
           "#b5de2b"
          ],
          [
           1,
           "#fde725"
          ]
         ]
        },
        "legend": {
         "tracegroupgap": 0
        },
        "template": {
         "data": {
          "bar": [
           {
            "error_x": {
             "color": "#2a3f5f"
            },
            "error_y": {
             "color": "#2a3f5f"
            },
            "marker": {
             "line": {
              "color": "#E5ECF6",
              "width": 0.5
             },
             "pattern": {
              "fillmode": "overlay",
              "size": 10,
              "solidity": 0.2
             }
            },
            "type": "bar"
           }
          ],
          "barpolar": [
           {
            "marker": {
             "line": {
              "color": "#E5ECF6",
              "width": 0.5
             },
             "pattern": {
              "fillmode": "overlay",
              "size": 10,
              "solidity": 0.2
             }
            },
            "type": "barpolar"
           }
          ],
          "carpet": [
           {
            "aaxis": {
             "endlinecolor": "#2a3f5f",
             "gridcolor": "white",
             "linecolor": "white",
             "minorgridcolor": "white",
             "startlinecolor": "#2a3f5f"
            },
            "baxis": {
             "endlinecolor": "#2a3f5f",
             "gridcolor": "white",
             "linecolor": "white",
             "minorgridcolor": "white",
             "startlinecolor": "#2a3f5f"
            },
            "type": "carpet"
           }
          ],
          "choropleth": [
           {
            "colorbar": {
             "outlinewidth": 0,
             "ticks": ""
            },
            "type": "choropleth"
           }
          ],
          "contour": [
           {
            "colorbar": {
             "outlinewidth": 0,
             "ticks": ""
            },
            "colorscale": [
             [
              0,
              "#0d0887"
             ],
             [
              0.1111111111111111,
              "#46039f"
             ],
             [
              0.2222222222222222,
              "#7201a8"
             ],
             [
              0.3333333333333333,
              "#9c179e"
             ],
             [
              0.4444444444444444,
              "#bd3786"
             ],
             [
              0.5555555555555556,
              "#d8576b"
             ],
             [
              0.6666666666666666,
              "#ed7953"
             ],
             [
              0.7777777777777778,
              "#fb9f3a"
             ],
             [
              0.8888888888888888,
              "#fdca26"
             ],
             [
              1,
              "#f0f921"
             ]
            ],
            "type": "contour"
           }
          ],
          "contourcarpet": [
           {
            "colorbar": {
             "outlinewidth": 0,
             "ticks": ""
            },
            "type": "contourcarpet"
           }
          ],
          "heatmap": [
           {
            "colorbar": {
             "outlinewidth": 0,
             "ticks": ""
            },
            "colorscale": [
             [
              0,
              "#0d0887"
             ],
             [
              0.1111111111111111,
              "#46039f"
             ],
             [
              0.2222222222222222,
              "#7201a8"
             ],
             [
              0.3333333333333333,
              "#9c179e"
             ],
             [
              0.4444444444444444,
              "#bd3786"
             ],
             [
              0.5555555555555556,
              "#d8576b"
             ],
             [
              0.6666666666666666,
              "#ed7953"
             ],
             [
              0.7777777777777778,
              "#fb9f3a"
             ],
             [
              0.8888888888888888,
              "#fdca26"
             ],
             [
              1,
              "#f0f921"
             ]
            ],
            "type": "heatmap"
           }
          ],
          "heatmapgl": [
           {
            "colorbar": {
             "outlinewidth": 0,
             "ticks": ""
            },
            "colorscale": [
             [
              0,
              "#0d0887"
             ],
             [
              0.1111111111111111,
              "#46039f"
             ],
             [
              0.2222222222222222,
              "#7201a8"
             ],
             [
              0.3333333333333333,
              "#9c179e"
             ],
             [
              0.4444444444444444,
              "#bd3786"
             ],
             [
              0.5555555555555556,
              "#d8576b"
             ],
             [
              0.6666666666666666,
              "#ed7953"
             ],
             [
              0.7777777777777778,
              "#fb9f3a"
             ],
             [
              0.8888888888888888,
              "#fdca26"
             ],
             [
              1,
              "#f0f921"
             ]
            ],
            "type": "heatmapgl"
           }
          ],
          "histogram": [
           {
            "marker": {
             "pattern": {
              "fillmode": "overlay",
              "size": 10,
              "solidity": 0.2
             }
            },
            "type": "histogram"
           }
          ],
          "histogram2d": [
           {
            "colorbar": {
             "outlinewidth": 0,
             "ticks": ""
            },
            "colorscale": [
             [
              0,
              "#0d0887"
             ],
             [
              0.1111111111111111,
              "#46039f"
             ],
             [
              0.2222222222222222,
              "#7201a8"
             ],
             [
              0.3333333333333333,
              "#9c179e"
             ],
             [
              0.4444444444444444,
              "#bd3786"
             ],
             [
              0.5555555555555556,
              "#d8576b"
             ],
             [
              0.6666666666666666,
              "#ed7953"
             ],
             [
              0.7777777777777778,
              "#fb9f3a"
             ],
             [
              0.8888888888888888,
              "#fdca26"
             ],
             [
              1,
              "#f0f921"
             ]
            ],
            "type": "histogram2d"
           }
          ],
          "histogram2dcontour": [
           {
            "colorbar": {
             "outlinewidth": 0,
             "ticks": ""
            },
            "colorscale": [
             [
              0,
              "#0d0887"
             ],
             [
              0.1111111111111111,
              "#46039f"
             ],
             [
              0.2222222222222222,
              "#7201a8"
             ],
             [
              0.3333333333333333,
              "#9c179e"
             ],
             [
              0.4444444444444444,
              "#bd3786"
             ],
             [
              0.5555555555555556,
              "#d8576b"
             ],
             [
              0.6666666666666666,
              "#ed7953"
             ],
             [
              0.7777777777777778,
              "#fb9f3a"
             ],
             [
              0.8888888888888888,
              "#fdca26"
             ],
             [
              1,
              "#f0f921"
             ]
            ],
            "type": "histogram2dcontour"
           }
          ],
          "mesh3d": [
           {
            "colorbar": {
             "outlinewidth": 0,
             "ticks": ""
            },
            "type": "mesh3d"
           }
          ],
          "parcoords": [
           {
            "line": {
             "colorbar": {
              "outlinewidth": 0,
              "ticks": ""
             }
            },
            "type": "parcoords"
           }
          ],
          "pie": [
           {
            "automargin": true,
            "type": "pie"
           }
          ],
          "scatter": [
           {
            "fillpattern": {
             "fillmode": "overlay",
             "size": 10,
             "solidity": 0.2
            },
            "type": "scatter"
           }
          ],
          "scatter3d": [
           {
            "line": {
             "colorbar": {
              "outlinewidth": 0,
              "ticks": ""
             }
            },
            "marker": {
             "colorbar": {
              "outlinewidth": 0,
              "ticks": ""
             }
            },
            "type": "scatter3d"
           }
          ],
          "scattercarpet": [
           {
            "marker": {
             "colorbar": {
              "outlinewidth": 0,
              "ticks": ""
             }
            },
            "type": "scattercarpet"
           }
          ],
          "scattergeo": [
           {
            "marker": {
             "colorbar": {
              "outlinewidth": 0,
              "ticks": ""
             }
            },
            "type": "scattergeo"
           }
          ],
          "scattergl": [
           {
            "marker": {
             "colorbar": {
              "outlinewidth": 0,
              "ticks": ""
             }
            },
            "type": "scattergl"
           }
          ],
          "scattermapbox": [
           {
            "marker": {
             "colorbar": {
              "outlinewidth": 0,
              "ticks": ""
             }
            },
            "type": "scattermapbox"
           }
          ],
          "scatterpolar": [
           {
            "marker": {
             "colorbar": {
              "outlinewidth": 0,
              "ticks": ""
             }
            },
            "type": "scatterpolar"
           }
          ],
          "scatterpolargl": [
           {
            "marker": {
             "colorbar": {
              "outlinewidth": 0,
              "ticks": ""
             }
            },
            "type": "scatterpolargl"
           }
          ],
          "scatterternary": [
           {
            "marker": {
             "colorbar": {
              "outlinewidth": 0,
              "ticks": ""
             }
            },
            "type": "scatterternary"
           }
          ],
          "surface": [
           {
            "colorbar": {
             "outlinewidth": 0,
             "ticks": ""
            },
            "colorscale": [
             [
              0,
              "#0d0887"
             ],
             [
              0.1111111111111111,
              "#46039f"
             ],
             [
              0.2222222222222222,
              "#7201a8"
             ],
             [
              0.3333333333333333,
              "#9c179e"
             ],
             [
              0.4444444444444444,
              "#bd3786"
             ],
             [
              0.5555555555555556,
              "#d8576b"
             ],
             [
              0.6666666666666666,
              "#ed7953"
             ],
             [
              0.7777777777777778,
              "#fb9f3a"
             ],
             [
              0.8888888888888888,
              "#fdca26"
             ],
             [
              1,
              "#f0f921"
             ]
            ],
            "type": "surface"
           }
          ],
          "table": [
           {
            "cells": {
             "fill": {
              "color": "#EBF0F8"
             },
             "line": {
              "color": "white"
             }
            },
            "header": {
             "fill": {
              "color": "#C8D4E3"
             },
             "line": {
              "color": "white"
             }
            },
            "type": "table"
           }
          ]
         },
         "layout": {
          "annotationdefaults": {
           "arrowcolor": "#2a3f5f",
           "arrowhead": 0,
           "arrowwidth": 1
          },
          "autotypenumbers": "strict",
          "coloraxis": {
           "colorbar": {
            "outlinewidth": 0,
            "ticks": ""
           }
          },
          "colorscale": {
           "diverging": [
            [
             0,
             "#8e0152"
            ],
            [
             0.1,
             "#c51b7d"
            ],
            [
             0.2,
             "#de77ae"
            ],
            [
             0.3,
             "#f1b6da"
            ],
            [
             0.4,
             "#fde0ef"
            ],
            [
             0.5,
             "#f7f7f7"
            ],
            [
             0.6,
             "#e6f5d0"
            ],
            [
             0.7,
             "#b8e186"
            ],
            [
             0.8,
             "#7fbc41"
            ],
            [
             0.9,
             "#4d9221"
            ],
            [
             1,
             "#276419"
            ]
           ],
           "sequential": [
            [
             0,
             "#0d0887"
            ],
            [
             0.1111111111111111,
             "#46039f"
            ],
            [
             0.2222222222222222,
             "#7201a8"
            ],
            [
             0.3333333333333333,
             "#9c179e"
            ],
            [
             0.4444444444444444,
             "#bd3786"
            ],
            [
             0.5555555555555556,
             "#d8576b"
            ],
            [
             0.6666666666666666,
             "#ed7953"
            ],
            [
             0.7777777777777778,
             "#fb9f3a"
            ],
            [
             0.8888888888888888,
             "#fdca26"
            ],
            [
             1,
             "#f0f921"
            ]
           ],
           "sequentialminus": [
            [
             0,
             "#0d0887"
            ],
            [
             0.1111111111111111,
             "#46039f"
            ],
            [
             0.2222222222222222,
             "#7201a8"
            ],
            [
             0.3333333333333333,
             "#9c179e"
            ],
            [
             0.4444444444444444,
             "#bd3786"
            ],
            [
             0.5555555555555556,
             "#d8576b"
            ],
            [
             0.6666666666666666,
             "#ed7953"
            ],
            [
             0.7777777777777778,
             "#fb9f3a"
            ],
            [
             0.8888888888888888,
             "#fdca26"
            ],
            [
             1,
             "#f0f921"
            ]
           ]
          },
          "colorway": [
           "#636efa",
           "#EF553B",
           "#00cc96",
           "#ab63fa",
           "#FFA15A",
           "#19d3f3",
           "#FF6692",
           "#B6E880",
           "#FF97FF",
           "#FECB52"
          ],
          "font": {
           "color": "#2a3f5f"
          },
          "geo": {
           "bgcolor": "white",
           "lakecolor": "white",
           "landcolor": "#E5ECF6",
           "showlakes": true,
           "showland": true,
           "subunitcolor": "white"
          },
          "hoverlabel": {
           "align": "left"
          },
          "hovermode": "closest",
          "mapbox": {
           "style": "light"
          },
          "paper_bgcolor": "white",
          "plot_bgcolor": "#E5ECF6",
          "polar": {
           "angularaxis": {
            "gridcolor": "white",
            "linecolor": "white",
            "ticks": ""
           },
           "bgcolor": "#E5ECF6",
           "radialaxis": {
            "gridcolor": "white",
            "linecolor": "white",
            "ticks": ""
           }
          },
          "scene": {
           "xaxis": {
            "backgroundcolor": "#E5ECF6",
            "gridcolor": "white",
            "gridwidth": 2,
            "linecolor": "white",
            "showbackground": true,
            "ticks": "",
            "zerolinecolor": "white"
           },
           "yaxis": {
            "backgroundcolor": "#E5ECF6",
            "gridcolor": "white",
            "gridwidth": 2,
            "linecolor": "white",
            "showbackground": true,
            "ticks": "",
            "zerolinecolor": "white"
           },
           "zaxis": {
            "backgroundcolor": "#E5ECF6",
            "gridcolor": "white",
            "gridwidth": 2,
            "linecolor": "white",
            "showbackground": true,
            "ticks": "",
            "zerolinecolor": "white"
           }
          },
          "shapedefaults": {
           "line": {
            "color": "#2a3f5f"
           }
          },
          "ternary": {
           "aaxis": {
            "gridcolor": "white",
            "linecolor": "white",
            "ticks": ""
           },
           "baxis": {
            "gridcolor": "white",
            "linecolor": "white",
            "ticks": ""
           },
           "bgcolor": "#E5ECF6",
           "caxis": {
            "gridcolor": "white",
            "linecolor": "white",
            "ticks": ""
           }
          },
          "title": {
           "x": 0.05
          },
          "xaxis": {
           "automargin": true,
           "gridcolor": "white",
           "linecolor": "white",
           "ticks": "",
           "title": {
            "standoff": 15
           },
           "zerolinecolor": "white",
           "zerolinewidth": 2
          },
          "yaxis": {
           "automargin": true,
           "gridcolor": "white",
           "linecolor": "white",
           "ticks": "",
           "title": {
            "standoff": 15
           },
           "zerolinecolor": "white",
           "zerolinewidth": 2
          }
         }
        },
        "title": {
         "text": "Biểu đồ thể hiện sự tương quan giữa tổng số người tiêm đủ liều vaccine và số ca tử vong mới mỗi ngày trên thế giới"
        },
        "xaxis": {
         "anchor": "y",
         "domain": [
          0,
          1
         ],
         "title": {
          "text": "PeopleFullyVaccinated"
         }
        },
        "yaxis": {
         "anchor": "x",
         "domain": [
          0,
          1
         ],
         "title": {
          "text": "NewDeaths"
         }
        }
       }
      }
     },
     "metadata": {},
     "output_type": "display_data"
    }
   ],
   "source": [
    "plot_scatter(covid_world_after_vaccine, \"PeopleFullyVaccinated\", \"NewDeaths\", \"Biểu đồ thể hiện sự tương quan giữa tổng số người tiêm đủ liều vaccine và số ca tử vong mới mỗi ngày trên thế giới\", \"Date\")"
   ]
  },
  {
   "cell_type": "code",
   "execution_count": 294,
   "metadata": {},
   "outputs": [
    {
     "name": "stdout",
     "output_type": "stream",
     "text": [
      "Ta thấy đường khớp dữ liệu là nghịch biến, và hệ số tương quan R = -0.5046756625850376 cũng không mạnh. Do đó, vaccine phần nào đã giúp khống chế số ca tử vong mỗi ngày trên thế giới.\n",
      "Điều đó cũng cho thấy vaccine đang thực sự giúp ích cho việc chống đại dịch Covid-19 trên thế giới\n"
     ]
    }
   ],
   "source": [
    "res = stats.linregress(covid_world_after_vaccine[\"PeopleFullyVaccinated\"],covid_world_after_vaccine[\"NewDeaths\"])\n",
    "print(f\"Ta thấy đường khớp dữ liệu là nghịch biến, và hệ số tương quan R = {res.rvalue} cũng không mạnh. Do đó, vaccine phần nào đã giúp khống chế số ca tử vong mỗi ngày trên thế giới.\")\n",
    "print(f\"Điều đó cũng cho thấy vaccine đang thực sự giúp ích cho việc chống đại dịch Covid-19 trên thế giới\")"
   ]
  },
  {
   "cell_type": "markdown",
   "metadata": {},
   "source": [
    "Tính tỉ lệ tử vong mỗi ngày trước và sau khi tiêm vaccine"
   ]
  },
  {
   "cell_type": "code",
   "execution_count": 295,
   "metadata": {},
   "outputs": [
    {
     "name": "stderr",
     "output_type": "stream",
     "text": [
      "C:\\Users\\nguye\\AppData\\Local\\Temp\\ipykernel_6100\\4284733332.py:1: SettingWithCopyWarning:\n",
      "\n",
      "\n",
      "A value is trying to be set on a copy of a slice from a DataFrame.\n",
      "Try using .loc[row_indexer,col_indexer] = value instead\n",
      "\n",
      "See the caveats in the documentation: https://pandas.pydata.org/pandas-docs/stable/user_guide/indexing.html#returning-a-view-versus-a-copy\n",
      "\n",
      "C:\\Users\\nguye\\AppData\\Local\\Temp\\ipykernel_6100\\4284733332.py:2: SettingWithCopyWarning:\n",
      "\n",
      "\n",
      "A value is trying to be set on a copy of a slice from a DataFrame.\n",
      "Try using .loc[row_indexer,col_indexer] = value instead\n",
      "\n",
      "See the caveats in the documentation: https://pandas.pydata.org/pandas-docs/stable/user_guide/indexing.html#returning-a-view-versus-a-copy\n",
      "\n"
     ]
    }
   ],
   "source": [
    "covid_world_before_vaccine[\"Mortality\"] = round((covid_world_before_vaccine['NewDeaths']/covid_world_before_vaccine['NewCases']), 4)\n",
    "covid_world_after_vaccine[\"Mortality\"] = round((covid_world_after_vaccine['NewDeaths']/covid_world_after_vaccine['NewCases']), 4)\n"
   ]
  },
  {
   "cell_type": "code",
   "execution_count": 296,
   "metadata": {},
   "outputs": [],
   "source": [
    "covid_world_before_vaccine = covid_world_before_vaccine.replace('', np.nan).fillna(0)\n",
    "covid_world_after_vaccine = covid_world_after_vaccine.replace('', np.nan).fillna(0)"
   ]
  },
  {
   "cell_type": "code",
   "execution_count": 297,
   "metadata": {},
   "outputs": [
    {
     "data": {
      "text/html": [
       "<div>\n",
       "<style scoped>\n",
       "    .dataframe tbody tr th:only-of-type {\n",
       "        vertical-align: middle;\n",
       "    }\n",
       "\n",
       "    .dataframe tbody tr th {\n",
       "        vertical-align: top;\n",
       "    }\n",
       "\n",
       "    .dataframe thead th {\n",
       "        text-align: right;\n",
       "    }\n",
       "</style>\n",
       "<table border=\"1\" class=\"dataframe\">\n",
       "  <thead>\n",
       "    <tr style=\"text-align: right;\">\n",
       "      <th></th>\n",
       "      <th>Continent</th>\n",
       "      <th>Location</th>\n",
       "      <th>Date</th>\n",
       "      <th>TotalCases</th>\n",
       "      <th>NewCases</th>\n",
       "      <th>TotalCases_per_million</th>\n",
       "      <th>NewCases_per_million</th>\n",
       "      <th>TotalDeaths</th>\n",
       "      <th>NewDeaths</th>\n",
       "      <th>TotalDeaths_per_million</th>\n",
       "      <th>NewDeaths_per_million</th>\n",
       "      <th>TotalVaccinations</th>\n",
       "      <th>PeopleVaccinated</th>\n",
       "      <th>PeopleFullyVaccinated</th>\n",
       "      <th>PeopleFullyVaccinated_per_hundred</th>\n",
       "      <th>Population</th>\n",
       "      <th>Mortality</th>\n",
       "    </tr>\n",
       "  </thead>\n",
       "  <tbody>\n",
       "    <tr>\n",
       "      <th>163423</th>\n",
       "      <td>0</td>\n",
       "      <td>World</td>\n",
       "      <td>2020-01-22</td>\n",
       "      <td>557.0</td>\n",
       "      <td>0.0</td>\n",
       "      <td>0.071</td>\n",
       "      <td>0.000</td>\n",
       "      <td>17.0</td>\n",
       "      <td>0.0</td>\n",
       "      <td>0.002</td>\n",
       "      <td>0.000</td>\n",
       "      <td>0.0</td>\n",
       "      <td>0.0</td>\n",
       "      <td>0.0</td>\n",
       "      <td>0.0</td>\n",
       "      <td>7.874966e+09</td>\n",
       "      <td>0.0000</td>\n",
       "    </tr>\n",
       "    <tr>\n",
       "      <th>163424</th>\n",
       "      <td>0</td>\n",
       "      <td>World</td>\n",
       "      <td>2020-01-23</td>\n",
       "      <td>657.0</td>\n",
       "      <td>100.0</td>\n",
       "      <td>0.083</td>\n",
       "      <td>0.013</td>\n",
       "      <td>18.0</td>\n",
       "      <td>1.0</td>\n",
       "      <td>0.002</td>\n",
       "      <td>0.000</td>\n",
       "      <td>0.0</td>\n",
       "      <td>0.0</td>\n",
       "      <td>0.0</td>\n",
       "      <td>0.0</td>\n",
       "      <td>7.874966e+09</td>\n",
       "      <td>0.0100</td>\n",
       "    </tr>\n",
       "    <tr>\n",
       "      <th>163425</th>\n",
       "      <td>0</td>\n",
       "      <td>World</td>\n",
       "      <td>2020-01-24</td>\n",
       "      <td>944.0</td>\n",
       "      <td>287.0</td>\n",
       "      <td>0.120</td>\n",
       "      <td>0.036</td>\n",
       "      <td>26.0</td>\n",
       "      <td>8.0</td>\n",
       "      <td>0.003</td>\n",
       "      <td>0.001</td>\n",
       "      <td>0.0</td>\n",
       "      <td>0.0</td>\n",
       "      <td>0.0</td>\n",
       "      <td>0.0</td>\n",
       "      <td>7.874966e+09</td>\n",
       "      <td>0.0279</td>\n",
       "    </tr>\n",
       "    <tr>\n",
       "      <th>163426</th>\n",
       "      <td>0</td>\n",
       "      <td>World</td>\n",
       "      <td>2020-01-25</td>\n",
       "      <td>1437.0</td>\n",
       "      <td>493.0</td>\n",
       "      <td>0.182</td>\n",
       "      <td>0.063</td>\n",
       "      <td>42.0</td>\n",
       "      <td>16.0</td>\n",
       "      <td>0.005</td>\n",
       "      <td>0.002</td>\n",
       "      <td>0.0</td>\n",
       "      <td>0.0</td>\n",
       "      <td>0.0</td>\n",
       "      <td>0.0</td>\n",
       "      <td>7.874966e+09</td>\n",
       "      <td>0.0325</td>\n",
       "    </tr>\n",
       "    <tr>\n",
       "      <th>163427</th>\n",
       "      <td>0</td>\n",
       "      <td>World</td>\n",
       "      <td>2020-01-26</td>\n",
       "      <td>2120.0</td>\n",
       "      <td>683.0</td>\n",
       "      <td>0.269</td>\n",
       "      <td>0.087</td>\n",
       "      <td>56.0</td>\n",
       "      <td>14.0</td>\n",
       "      <td>0.007</td>\n",
       "      <td>0.002</td>\n",
       "      <td>0.0</td>\n",
       "      <td>0.0</td>\n",
       "      <td>0.0</td>\n",
       "      <td>0.0</td>\n",
       "      <td>7.874966e+09</td>\n",
       "      <td>0.0205</td>\n",
       "    </tr>\n",
       "  </tbody>\n",
       "</table>\n",
       "</div>"
      ],
      "text/plain": [
       "        Continent Location        Date  TotalCases  NewCases  \\\n",
       "163423          0    World  2020-01-22       557.0       0.0   \n",
       "163424          0    World  2020-01-23       657.0     100.0   \n",
       "163425          0    World  2020-01-24       944.0     287.0   \n",
       "163426          0    World  2020-01-25      1437.0     493.0   \n",
       "163427          0    World  2020-01-26      2120.0     683.0   \n",
       "\n",
       "        TotalCases_per_million  NewCases_per_million  TotalDeaths  NewDeaths  \\\n",
       "163423                   0.071                 0.000         17.0        0.0   \n",
       "163424                   0.083                 0.013         18.0        1.0   \n",
       "163425                   0.120                 0.036         26.0        8.0   \n",
       "163426                   0.182                 0.063         42.0       16.0   \n",
       "163427                   0.269                 0.087         56.0       14.0   \n",
       "\n",
       "        TotalDeaths_per_million  NewDeaths_per_million  TotalVaccinations  \\\n",
       "163423                    0.002                  0.000                0.0   \n",
       "163424                    0.002                  0.000                0.0   \n",
       "163425                    0.003                  0.001                0.0   \n",
       "163426                    0.005                  0.002                0.0   \n",
       "163427                    0.007                  0.002                0.0   \n",
       "\n",
       "        PeopleVaccinated  PeopleFullyVaccinated  \\\n",
       "163423               0.0                    0.0   \n",
       "163424               0.0                    0.0   \n",
       "163425               0.0                    0.0   \n",
       "163426               0.0                    0.0   \n",
       "163427               0.0                    0.0   \n",
       "\n",
       "        PeopleFullyVaccinated_per_hundred    Population  Mortality  \n",
       "163423                                0.0  7.874966e+09     0.0000  \n",
       "163424                                0.0  7.874966e+09     0.0100  \n",
       "163425                                0.0  7.874966e+09     0.0279  \n",
       "163426                                0.0  7.874966e+09     0.0325  \n",
       "163427                                0.0  7.874966e+09     0.0205  "
      ]
     },
     "execution_count": 297,
     "metadata": {},
     "output_type": "execute_result"
    }
   ],
   "source": [
    "covid_world_before_vaccine.head()"
   ]
  },
  {
   "cell_type": "code",
   "execution_count": 298,
   "metadata": {},
   "outputs": [
    {
     "data": {
      "text/html": [
       "<div>\n",
       "<style scoped>\n",
       "    .dataframe tbody tr th:only-of-type {\n",
       "        vertical-align: middle;\n",
       "    }\n",
       "\n",
       "    .dataframe tbody tr th {\n",
       "        vertical-align: top;\n",
       "    }\n",
       "\n",
       "    .dataframe thead th {\n",
       "        text-align: right;\n",
       "    }\n",
       "</style>\n",
       "<table border=\"1\" class=\"dataframe\">\n",
       "  <thead>\n",
       "    <tr style=\"text-align: right;\">\n",
       "      <th></th>\n",
       "      <th>Continent</th>\n",
       "      <th>Location</th>\n",
       "      <th>Date</th>\n",
       "      <th>TotalCases</th>\n",
       "      <th>NewCases</th>\n",
       "      <th>TotalCases_per_million</th>\n",
       "      <th>NewCases_per_million</th>\n",
       "      <th>TotalDeaths</th>\n",
       "      <th>NewDeaths</th>\n",
       "      <th>TotalDeaths_per_million</th>\n",
       "      <th>NewDeaths_per_million</th>\n",
       "      <th>TotalVaccinations</th>\n",
       "      <th>PeopleVaccinated</th>\n",
       "      <th>PeopleFullyVaccinated</th>\n",
       "      <th>PeopleFullyVaccinated_per_hundred</th>\n",
       "      <th>Population</th>\n",
       "      <th>Mortality</th>\n",
       "    </tr>\n",
       "  </thead>\n",
       "  <tbody>\n",
       "    <tr>\n",
       "      <th>163740</th>\n",
       "      <td>0</td>\n",
       "      <td>World</td>\n",
       "      <td>2020-12-04</td>\n",
       "      <td>66049040.0</td>\n",
       "      <td>688697.0</td>\n",
       "      <td>8387.216</td>\n",
       "      <td>87.454</td>\n",
       "      <td>1576378.0</td>\n",
       "      <td>12460.0</td>\n",
       "      <td>200.176</td>\n",
       "      <td>1.582</td>\n",
       "      <td>1.0</td>\n",
       "      <td>1.0</td>\n",
       "      <td>0.0</td>\n",
       "      <td>0.0</td>\n",
       "      <td>7.874966e+09</td>\n",
       "      <td>0.0181</td>\n",
       "    </tr>\n",
       "    <tr>\n",
       "      <th>163741</th>\n",
       "      <td>0</td>\n",
       "      <td>World</td>\n",
       "      <td>2020-12-05</td>\n",
       "      <td>66697974.0</td>\n",
       "      <td>648934.0</td>\n",
       "      <td>8469.621</td>\n",
       "      <td>82.405</td>\n",
       "      <td>1586715.0</td>\n",
       "      <td>10337.0</td>\n",
       "      <td>201.488</td>\n",
       "      <td>1.313</td>\n",
       "      <td>1.0</td>\n",
       "      <td>1.0</td>\n",
       "      <td>0.0</td>\n",
       "      <td>0.0</td>\n",
       "      <td>7.874966e+09</td>\n",
       "      <td>0.0159</td>\n",
       "    </tr>\n",
       "    <tr>\n",
       "      <th>163742</th>\n",
       "      <td>0</td>\n",
       "      <td>World</td>\n",
       "      <td>2020-12-06</td>\n",
       "      <td>67234273.0</td>\n",
       "      <td>536299.0</td>\n",
       "      <td>8537.723</td>\n",
       "      <td>68.102</td>\n",
       "      <td>1594444.0</td>\n",
       "      <td>7729.0</td>\n",
       "      <td>202.470</td>\n",
       "      <td>0.981</td>\n",
       "      <td>1.0</td>\n",
       "      <td>1.0</td>\n",
       "      <td>0.0</td>\n",
       "      <td>0.0</td>\n",
       "      <td>7.874966e+09</td>\n",
       "      <td>0.0144</td>\n",
       "    </tr>\n",
       "    <tr>\n",
       "      <th>163743</th>\n",
       "      <td>0</td>\n",
       "      <td>World</td>\n",
       "      <td>2020-12-07</td>\n",
       "      <td>67761913.0</td>\n",
       "      <td>527640.0</td>\n",
       "      <td>8604.725</td>\n",
       "      <td>67.002</td>\n",
       "      <td>1603158.0</td>\n",
       "      <td>8714.0</td>\n",
       "      <td>203.577</td>\n",
       "      <td>1.107</td>\n",
       "      <td>2.0</td>\n",
       "      <td>2.0</td>\n",
       "      <td>0.0</td>\n",
       "      <td>0.0</td>\n",
       "      <td>7.874966e+09</td>\n",
       "      <td>0.0165</td>\n",
       "    </tr>\n",
       "    <tr>\n",
       "      <th>163744</th>\n",
       "      <td>0</td>\n",
       "      <td>World</td>\n",
       "      <td>2020-12-08</td>\n",
       "      <td>68405171.0</td>\n",
       "      <td>643258.0</td>\n",
       "      <td>8686.409</td>\n",
       "      <td>81.684</td>\n",
       "      <td>1615473.0</td>\n",
       "      <td>12317.0</td>\n",
       "      <td>205.140</td>\n",
       "      <td>1.564</td>\n",
       "      <td>8.0</td>\n",
       "      <td>8.0</td>\n",
       "      <td>0.0</td>\n",
       "      <td>0.0</td>\n",
       "      <td>7.874966e+09</td>\n",
       "      <td>0.0191</td>\n",
       "    </tr>\n",
       "  </tbody>\n",
       "</table>\n",
       "</div>"
      ],
      "text/plain": [
       "        Continent Location        Date  TotalCases  NewCases  \\\n",
       "163740          0    World  2020-12-04  66049040.0  688697.0   \n",
       "163741          0    World  2020-12-05  66697974.0  648934.0   \n",
       "163742          0    World  2020-12-06  67234273.0  536299.0   \n",
       "163743          0    World  2020-12-07  67761913.0  527640.0   \n",
       "163744          0    World  2020-12-08  68405171.0  643258.0   \n",
       "\n",
       "        TotalCases_per_million  NewCases_per_million  TotalDeaths  NewDeaths  \\\n",
       "163740                8387.216                87.454    1576378.0    12460.0   \n",
       "163741                8469.621                82.405    1586715.0    10337.0   \n",
       "163742                8537.723                68.102    1594444.0     7729.0   \n",
       "163743                8604.725                67.002    1603158.0     8714.0   \n",
       "163744                8686.409                81.684    1615473.0    12317.0   \n",
       "\n",
       "        TotalDeaths_per_million  NewDeaths_per_million  TotalVaccinations  \\\n",
       "163740                  200.176                  1.582                1.0   \n",
       "163741                  201.488                  1.313                1.0   \n",
       "163742                  202.470                  0.981                1.0   \n",
       "163743                  203.577                  1.107                2.0   \n",
       "163744                  205.140                  1.564                8.0   \n",
       "\n",
       "        PeopleVaccinated  PeopleFullyVaccinated  \\\n",
       "163740               1.0                    0.0   \n",
       "163741               1.0                    0.0   \n",
       "163742               1.0                    0.0   \n",
       "163743               2.0                    0.0   \n",
       "163744               8.0                    0.0   \n",
       "\n",
       "        PeopleFullyVaccinated_per_hundred    Population  Mortality  \n",
       "163740                                0.0  7.874966e+09     0.0181  \n",
       "163741                                0.0  7.874966e+09     0.0159  \n",
       "163742                                0.0  7.874966e+09     0.0144  \n",
       "163743                                0.0  7.874966e+09     0.0165  \n",
       "163744                                0.0  7.874966e+09     0.0191  "
      ]
     },
     "execution_count": 298,
     "metadata": {},
     "output_type": "execute_result"
    }
   ],
   "source": [
    "covid_world_after_vaccine.head()"
   ]
  },
  {
   "cell_type": "code",
   "execution_count": 299,
   "metadata": {},
   "outputs": [],
   "source": [
    "def plot(title):\n",
    "    bars = []\n",
    "    bars.append(go.Bar(\n",
    "        x = covid_world_before_vaccine[\"Date\"],\n",
    "        y = covid_world_before_vaccine[\"Mortality\"],\n",
    "        marker={'color': 'yellow'},\n",
    "        name = 'Before'\n",
    "    ))\n",
    "    bars.append(go.Bar(\n",
    "        x = covid_world_after_vaccine[\"Date\"],\n",
    "        y = covid_world_after_vaccine[\"Mortality\"],\n",
    "        marker={'color': 'aqua'},\n",
    "        name = 'After'\n",
    "    ))\n",
    "\n",
    "    fig = go.FigureWidget(data=bars)\n",
    "    fig.update_layout(\n",
    "        template='plotly_dark',\n",
    "        title = title\n",
    "        )\n",
    "    fig.show()"
   ]
  },
  {
   "cell_type": "code",
   "execution_count": 300,
   "metadata": {},
   "outputs": [
    {
     "data": {
      "application/vnd.plotly.v1+json": {
       "config": {
        "plotlyServerURL": "https://plot.ly"
       },
       "data": [
        {
         "marker": {
          "color": "yellow"
         },
         "name": "Before",
         "type": "bar",
         "uid": "8dba3a19-7d9a-4b73-9527-a61fb4865cef",
         "x": [
          "2020-01-22",
          "2020-01-23",
          "2020-01-24",
          "2020-01-25",
          "2020-01-26",
          "2020-01-27",
          "2020-01-28",
          "2020-01-29",
          "2020-01-30",
          "2020-01-31",
          "2020-02-01",
          "2020-02-02",
          "2020-02-03",
          "2020-02-04",
          "2020-02-05",
          "2020-02-06",
          "2020-02-07",
          "2020-02-08",
          "2020-02-09",
          "2020-02-10",
          "2020-02-11",
          "2020-02-12",
          "2020-02-13",
          "2020-02-14",
          "2020-02-15",
          "2020-02-16",
          "2020-02-17",
          "2020-02-18",
          "2020-02-19",
          "2020-02-20",
          "2020-02-21",
          "2020-02-22",
          "2020-02-23",
          "2020-02-24",
          "2020-02-25",
          "2020-02-26",
          "2020-02-27",
          "2020-02-28",
          "2020-02-29",
          "2020-03-01",
          "2020-03-02",
          "2020-03-03",
          "2020-03-04",
          "2020-03-05",
          "2020-03-06",
          "2020-03-07",
          "2020-03-08",
          "2020-03-09",
          "2020-03-10",
          "2020-03-11",
          "2020-03-12",
          "2020-03-13",
          "2020-03-14",
          "2020-03-15",
          "2020-03-16",
          "2020-03-17",
          "2020-03-18",
          "2020-03-19",
          "2020-03-20",
          "2020-03-21",
          "2020-03-22",
          "2020-03-23",
          "2020-03-24",
          "2020-03-25",
          "2020-03-26",
          "2020-03-27",
          "2020-03-28",
          "2020-03-29",
          "2020-03-30",
          "2020-03-31",
          "2020-04-01",
          "2020-04-02",
          "2020-04-03",
          "2020-04-04",
          "2020-04-05",
          "2020-04-06",
          "2020-04-07",
          "2020-04-08",
          "2020-04-09",
          "2020-04-10",
          "2020-04-11",
          "2020-04-12",
          "2020-04-13",
          "2020-04-14",
          "2020-04-15",
          "2020-04-16",
          "2020-04-17",
          "2020-04-18",
          "2020-04-19",
          "2020-04-20",
          "2020-04-21",
          "2020-04-22",
          "2020-04-23",
          "2020-04-24",
          "2020-04-25",
          "2020-04-26",
          "2020-04-27",
          "2020-04-28",
          "2020-04-29",
          "2020-04-30",
          "2020-05-01",
          "2020-05-02",
          "2020-05-03",
          "2020-05-04",
          "2020-05-05",
          "2020-05-06",
          "2020-05-07",
          "2020-05-08",
          "2020-05-09",
          "2020-05-10",
          "2020-05-11",
          "2020-05-12",
          "2020-05-13",
          "2020-05-14",
          "2020-05-15",
          "2020-05-16",
          "2020-05-17",
          "2020-05-18",
          "2020-05-19",
          "2020-05-20",
          "2020-05-21",
          "2020-05-22",
          "2020-05-23",
          "2020-05-24",
          "2020-05-25",
          "2020-05-26",
          "2020-05-27",
          "2020-05-28",
          "2020-05-29",
          "2020-05-30",
          "2020-05-31",
          "2020-06-01",
          "2020-06-02",
          "2020-06-03",
          "2020-06-04",
          "2020-06-05",
          "2020-06-06",
          "2020-06-07",
          "2020-06-08",
          "2020-06-09",
          "2020-06-10",
          "2020-06-11",
          "2020-06-12",
          "2020-06-13",
          "2020-06-14",
          "2020-06-15",
          "2020-06-16",
          "2020-06-17",
          "2020-06-18",
          "2020-06-19",
          "2020-06-20",
          "2020-06-21",
          "2020-06-22",
          "2020-06-23",
          "2020-06-24",
          "2020-06-25",
          "2020-06-26",
          "2020-06-27",
          "2020-06-28",
          "2020-06-29",
          "2020-06-30",
          "2020-07-01",
          "2020-07-02",
          "2020-07-03",
          "2020-07-04",
          "2020-07-05",
          "2020-07-06",
          "2020-07-07",
          "2020-07-08",
          "2020-07-09",
          "2020-07-10",
          "2020-07-11",
          "2020-07-12",
          "2020-07-13",
          "2020-07-14",
          "2020-07-15",
          "2020-07-16",
          "2020-07-17",
          "2020-07-18",
          "2020-07-19",
          "2020-07-20",
          "2020-07-21",
          "2020-07-22",
          "2020-07-23",
          "2020-07-24",
          "2020-07-25",
          "2020-07-26",
          "2020-07-27",
          "2020-07-28",
          "2020-07-29",
          "2020-07-30",
          "2020-07-31",
          "2020-08-01",
          "2020-08-02",
          "2020-08-03",
          "2020-08-04",
          "2020-08-05",
          "2020-08-06",
          "2020-08-07",
          "2020-08-08",
          "2020-08-09",
          "2020-08-10",
          "2020-08-11",
          "2020-08-12",
          "2020-08-13",
          "2020-08-14",
          "2020-08-15",
          "2020-08-16",
          "2020-08-17",
          "2020-08-18",
          "2020-08-19",
          "2020-08-20",
          "2020-08-21",
          "2020-08-22",
          "2020-08-23",
          "2020-08-24",
          "2020-08-25",
          "2020-08-26",
          "2020-08-27",
          "2020-08-28",
          "2020-08-29",
          "2020-08-30",
          "2020-08-31",
          "2020-09-01",
          "2020-09-02",
          "2020-09-03",
          "2020-09-04",
          "2020-09-05",
          "2020-09-06",
          "2020-09-07",
          "2020-09-08",
          "2020-09-09",
          "2020-09-10",
          "2020-09-11",
          "2020-09-12",
          "2020-09-13",
          "2020-09-14",
          "2020-09-15",
          "2020-09-16",
          "2020-09-17",
          "2020-09-18",
          "2020-09-19",
          "2020-09-20",
          "2020-09-21",
          "2020-09-22",
          "2020-09-23",
          "2020-09-24",
          "2020-09-25",
          "2020-09-26",
          "2020-09-27",
          "2020-09-28",
          "2020-09-29",
          "2020-09-30",
          "2020-10-01",
          "2020-10-02",
          "2020-10-03",
          "2020-10-04",
          "2020-10-05",
          "2020-10-06",
          "2020-10-07",
          "2020-10-08",
          "2020-10-09",
          "2020-10-10",
          "2020-10-11",
          "2020-10-12",
          "2020-10-13",
          "2020-10-14",
          "2020-10-15",
          "2020-10-16",
          "2020-10-17",
          "2020-10-18",
          "2020-10-19",
          "2020-10-20",
          "2020-10-21",
          "2020-10-22",
          "2020-10-23",
          "2020-10-24",
          "2020-10-25",
          "2020-10-26",
          "2020-10-27",
          "2020-10-28",
          "2020-10-29",
          "2020-10-30",
          "2020-10-31",
          "2020-11-01",
          "2020-11-02",
          "2020-11-03",
          "2020-11-04",
          "2020-11-05",
          "2020-11-06",
          "2020-11-07",
          "2020-11-08",
          "2020-11-09",
          "2020-11-10",
          "2020-11-11",
          "2020-11-12",
          "2020-11-13",
          "2020-11-14",
          "2020-11-15",
          "2020-11-16",
          "2020-11-17",
          "2020-11-18",
          "2020-11-19",
          "2020-11-20",
          "2020-11-21",
          "2020-11-22",
          "2020-11-23",
          "2020-11-24",
          "2020-11-25",
          "2020-11-26",
          "2020-11-27",
          "2020-11-28",
          "2020-11-29",
          "2020-11-30",
          "2020-12-01",
          "2020-12-02",
          "2020-12-03"
         ],
         "y": [
          0,
          0.01,
          0.0279,
          0.0325,
          0.0205,
          0.0321,
          0.0185,
          0.0034,
          0.0184,
          0.0249,
          0.0218,
          0.0217,
          0.0206,
          0.0165,
          0.0192,
          0.0221,
          0.0237,
          0.0319,
          0.033,
          0.041,
          0.0489,
          0.012,
          0.0167,
          0.0233,
          0.0667,
          0.0476,
          0.0482,
          0.0744,
          0.23,
          0.2228,
          0.0063,
          0.1175,
          0.0288,
          0.2817,
          0.0936,
          0.0624,
          0.0316,
          0.0422,
          0.037,
          0.0227,
          0.045,
          0.0284,
          0.0406,
          0.0329,
          0.0287,
          0.0255,
          0.0614,
          0.0453,
          0.0563,
          0.0446,
          0.0506,
          0.0348,
          0.0379,
          0.0565,
          0.0468,
          0.0506,
          0.0467,
          0.041,
          0.0482,
          0.054,
          0.048,
          0.0457,
          0.0562,
          0.0552,
          0.0484,
          0.0538,
          0.0553,
          0.0618,
          0.0628,
          0.0618,
          0.0735,
          0.0716,
          0.0744,
          0.0819,
          0.0752,
          0.081,
          0.1149,
          0.0827,
          0.091,
          0.0875,
          0.0859,
          0.0504,
          0.0856,
          0.0853,
          0.1094,
          0.0785,
          0.0977,
          0.0815,
          0.0706,
          0.08,
          0.0975,
          0.0861,
          0.0824,
          0.0738,
          0.0708,
          0.0603,
          0.0693,
          0.0901,
          0.0876,
          0.0727,
          0.0615,
          0.0741,
          0.0517,
          0.0576,
          0.0765,
          0.0757,
          0.063,
          0.0641,
          0.0541,
          0.0539,
          0.051,
          0.0689,
          0.0648,
          0.0586,
          0.0586,
          0.0482,
          0.0458,
          0.0466,
          0.0553,
          0.0511,
          0.0468,
          0.0529,
          0.042,
          0.038,
          0.039,
          0.0499,
          0.0523,
          0.042,
          0.0424,
          0.0317,
          0.0307,
          0.0366,
          0.0423,
          0.0496,
          0.0393,
          0.0384,
          0.0315,
          0.0281,
          0.042,
          0.0405,
          0.0397,
          0.0376,
          0.037,
          0.033,
          0.0277,
          0.032,
          0.0494,
          0.0383,
          0.0372,
          0.0284,
          0.0239,
          0.0407,
          0.0268,
          0.0332,
          0.0321,
          0.0284,
          0.0263,
          0.0266,
          0.0212,
          0.0263,
          0.0286,
          0.0249,
          0.0268,
          0.0258,
          0.0251,
          0.0205,
          0.0251,
          0.0306,
          0.0261,
          0.0259,
          0.0246,
          0.0239,
          0.0224,
          0.0224,
          0.0272,
          0.0257,
          0.0252,
          0.0294,
          0.0276,
          0.0231,
          0.0188,
          0.0263,
          0.0267,
          0.0237,
          0.0227,
          0.0244,
          0.0204,
          0.0226,
          0.0263,
          0.0245,
          0.0241,
          0.0228,
          0.0244,
          0.0202,
          0.0233,
          0.027,
          0.0268,
          0.0238,
          0.0238,
          0.0227,
          0.0221,
          0.0229,
          0.025,
          0.0253,
          0.0234,
          0.0214,
          0.0243,
          0.0227,
          0.0216,
          0.0272,
          0.0252,
          0.0238,
          0.0235,
          0.0222,
          0.0212,
          0.0211,
          0.0269,
          0.0237,
          0.0217,
          0.0204,
          0.0224,
          0.0195,
          0.0167,
          0.0248,
          0.0223,
          0.0214,
          0.0196,
          0.0188,
          0.018,
          0.0254,
          0.0209,
          0.022,
          0.0199,
          0.019,
          0.0175,
          0.0159,
          0.0171,
          0.0235,
          0.0193,
          0.018,
          0.0179,
          0.0182,
          0.0155,
          0.0169,
          0.0218,
          0.021,
          0.0177,
          0.0182,
          0.0192,
          0.0155,
          0.0155,
          0.0216,
          0.0199,
          0.0279,
          0.017,
          0.016,
          0.0154,
          0.0137,
          0.0186,
          0.0169,
          0.0177,
          0.0172,
          0.0138,
          0.0144,
          0.0138,
          0.017,
          0.0162,
          0.0152,
          0.0152,
          0.0154,
          0.0117,
          0.0125,
          0.017,
          0.0155,
          0.0125,
          0.0142,
          0.013,
          0.012,
          0.0116,
          0.0159,
          0.0139,
          0.0131,
          0.0134,
          0.0141,
          0.0118,
          0.011,
          0.0171,
          0.0185,
          0.014,
          0.0147,
          0.013,
          0.0126,
          0.0143,
          0.0174,
          0.0168,
          0.0152,
          0.0148,
          0.0156,
          0.0139,
          0.015,
          0.0182,
          0.0182,
          0.017,
          0.0175,
          0.0154,
          0.0153,
          0.016,
          0.0215,
          0.0192,
          0.0186,
          0.0166,
          0.0154,
          0.0151,
          0.0177,
          0.0205,
          0.0195,
          0.0182
         ]
        },
        {
         "marker": {
          "color": "aqua"
         },
         "name": "After",
         "type": "bar",
         "uid": "b50d1c64-2b84-4135-904d-63f65821d33e",
         "x": [
          "2020-12-04",
          "2020-12-05",
          "2020-12-06",
          "2020-12-07",
          "2020-12-08",
          "2020-12-09",
          "2020-12-10",
          "2020-12-11",
          "2020-12-12",
          "2020-12-13",
          "2020-12-14",
          "2020-12-15",
          "2020-12-16",
          "2020-12-17",
          "2020-12-18",
          "2020-12-19",
          "2020-12-20",
          "2020-12-21",
          "2020-12-22",
          "2020-12-23",
          "2020-12-24",
          "2020-12-25",
          "2020-12-26",
          "2020-12-27",
          "2020-12-28",
          "2020-12-29",
          "2020-12-30",
          "2020-12-31",
          "2021-01-01",
          "2021-01-02",
          "2021-01-03",
          "2021-01-04",
          "2021-01-05",
          "2021-01-06",
          "2021-01-07",
          "2021-01-08",
          "2021-01-09",
          "2021-01-10",
          "2021-01-11",
          "2021-01-12",
          "2021-01-13",
          "2021-01-14",
          "2021-01-15",
          "2021-01-16",
          "2021-01-17",
          "2021-01-18",
          "2021-01-19",
          "2021-01-20",
          "2021-01-21",
          "2021-01-22",
          "2021-01-23",
          "2021-01-24",
          "2021-01-25",
          "2021-01-26",
          "2021-01-27",
          "2021-01-28",
          "2021-01-29",
          "2021-01-30",
          "2021-01-31",
          "2021-02-01",
          "2021-02-02",
          "2021-02-03",
          "2021-02-04",
          "2021-02-05",
          "2021-02-06",
          "2021-02-07",
          "2021-02-08",
          "2021-02-09",
          "2021-02-10",
          "2021-02-11",
          "2021-02-12",
          "2021-02-13",
          "2021-02-14",
          "2021-02-15",
          "2021-02-16",
          "2021-02-17",
          "2021-02-18",
          "2021-02-19",
          "2021-02-20",
          "2021-02-21",
          "2021-02-22",
          "2021-02-23",
          "2021-02-24",
          "2021-02-25",
          "2021-02-26",
          "2021-02-27",
          "2021-02-28",
          "2021-03-01",
          "2021-03-02",
          "2021-03-03",
          "2021-03-04",
          "2021-03-05",
          "2021-03-06",
          "2021-03-07",
          "2021-03-08",
          "2021-03-09",
          "2021-03-10",
          "2021-03-11",
          "2021-03-12",
          "2021-03-13",
          "2021-03-14",
          "2021-03-15",
          "2021-03-16",
          "2021-03-17",
          "2021-03-18",
          "2021-03-19",
          "2021-03-20",
          "2021-03-21",
          "2021-03-22",
          "2021-03-23",
          "2021-03-24",
          "2021-03-25",
          "2021-03-26",
          "2021-03-27",
          "2021-03-28",
          "2021-03-29",
          "2021-03-30",
          "2021-03-31",
          "2021-04-01",
          "2021-04-02",
          "2021-04-03",
          "2021-04-04",
          "2021-04-05",
          "2021-04-06",
          "2021-04-07",
          "2021-04-08",
          "2021-04-09",
          "2021-04-10",
          "2021-04-11",
          "2021-04-12",
          "2021-04-13",
          "2021-04-14",
          "2021-04-15",
          "2021-04-16",
          "2021-04-17",
          "2021-04-18",
          "2021-04-19",
          "2021-04-20",
          "2021-04-21",
          "2021-04-22",
          "2021-04-23",
          "2021-04-24",
          "2021-04-25",
          "2021-04-26",
          "2021-04-27",
          "2021-04-28",
          "2021-04-29",
          "2021-04-30",
          "2021-05-01",
          "2021-05-02",
          "2021-05-03",
          "2021-05-04",
          "2021-05-05",
          "2021-05-06",
          "2021-05-07",
          "2021-05-08",
          "2021-05-09",
          "2021-05-10",
          "2021-05-11",
          "2021-05-12",
          "2021-05-13",
          "2021-05-14",
          "2021-05-15",
          "2021-05-16",
          "2021-05-17",
          "2021-05-18",
          "2021-05-19",
          "2021-05-20",
          "2021-05-21",
          "2021-05-22",
          "2021-05-23",
          "2021-05-24",
          "2021-05-25",
          "2021-05-26",
          "2021-05-27",
          "2021-05-28",
          "2021-05-29",
          "2021-05-30",
          "2021-05-31",
          "2021-06-01",
          "2021-06-02",
          "2021-06-03",
          "2021-06-04",
          "2021-06-05",
          "2021-06-06",
          "2021-06-07",
          "2021-06-08",
          "2021-06-09",
          "2021-06-10",
          "2021-06-11",
          "2021-06-12",
          "2021-06-13",
          "2021-06-14",
          "2021-06-15",
          "2021-06-16",
          "2021-06-17",
          "2021-06-18",
          "2021-06-19",
          "2021-06-20",
          "2021-06-21",
          "2021-06-22",
          "2021-06-23",
          "2021-06-24",
          "2021-06-25",
          "2021-06-26",
          "2021-06-27",
          "2021-06-28",
          "2021-06-29",
          "2021-06-30",
          "2021-07-01",
          "2021-07-02",
          "2021-07-03",
          "2021-07-04",
          "2021-07-05",
          "2021-07-06",
          "2021-07-07",
          "2021-07-08",
          "2021-07-09",
          "2021-07-10",
          "2021-07-11",
          "2021-07-12",
          "2021-07-13",
          "2021-07-14",
          "2021-07-15",
          "2021-07-16",
          "2021-07-17",
          "2021-07-18",
          "2021-07-19",
          "2021-07-20",
          "2021-07-21",
          "2021-07-22",
          "2021-07-23",
          "2021-07-24",
          "2021-07-25",
          "2021-07-26",
          "2021-07-27",
          "2021-07-28",
          "2021-07-29",
          "2021-07-30",
          "2021-07-31",
          "2021-08-01",
          "2021-08-02",
          "2021-08-03",
          "2021-08-04",
          "2021-08-05",
          "2021-08-06",
          "2021-08-07",
          "2021-08-08",
          "2021-08-09",
          "2021-08-10",
          "2021-08-11",
          "2021-08-12",
          "2021-08-13",
          "2021-08-14",
          "2021-08-15",
          "2021-08-16",
          "2021-08-17",
          "2021-08-18",
          "2021-08-19",
          "2021-08-20",
          "2021-08-21",
          "2021-08-22",
          "2021-08-23",
          "2021-08-24",
          "2021-08-25",
          "2021-08-26",
          "2021-08-27",
          "2021-08-28",
          "2021-08-29",
          "2021-08-30",
          "2021-08-31",
          "2021-09-01",
          "2021-09-02",
          "2021-09-03",
          "2021-09-04",
          "2021-09-05",
          "2021-09-06",
          "2021-09-07",
          "2021-09-08",
          "2021-09-09",
          "2021-09-10",
          "2021-09-11",
          "2021-09-12",
          "2021-09-13",
          "2021-09-14",
          "2021-09-15",
          "2021-09-16",
          "2021-09-17",
          "2021-09-18",
          "2021-09-19",
          "2021-09-20",
          "2021-09-21",
          "2021-09-22",
          "2021-09-23",
          "2021-09-24",
          "2021-09-25",
          "2021-09-26",
          "2021-09-27",
          "2021-09-28",
          "2021-09-29",
          "2021-09-30",
          "2021-10-01",
          "2021-10-02",
          "2021-10-03",
          "2021-10-04",
          "2021-10-05",
          "2021-10-06",
          "2021-10-07",
          "2021-10-08",
          "2021-10-09",
          "2021-10-10",
          "2021-10-11",
          "2021-10-12",
          "2021-10-13",
          "2021-10-14",
          "2021-10-15",
          "2021-10-16",
          "2021-10-17",
          "2021-10-18",
          "2021-10-19",
          "2021-10-20",
          "2021-10-21",
          "2021-10-22",
          "2021-10-23",
          "2021-10-24",
          "2021-10-25",
          "2021-10-26",
          "2021-10-27",
          "2021-10-28",
          "2021-10-29",
          "2021-10-30",
          "2021-10-31",
          "2021-11-01",
          "2021-11-02",
          "2021-11-03",
          "2021-11-04",
          "2021-11-05",
          "2021-11-06",
          "2021-11-07",
          "2021-11-08",
          "2021-11-09",
          "2021-11-10",
          "2021-11-11",
          "2021-11-12",
          "2021-11-13",
          "2021-11-14",
          "2021-11-15",
          "2021-11-16",
          "2021-11-17",
          "2021-11-18",
          "2021-11-19",
          "2021-11-20",
          "2021-11-21",
          "2021-11-22",
          "2021-11-23",
          "2021-11-24",
          "2021-11-25",
          "2021-11-26",
          "2021-11-27",
          "2021-11-28",
          "2021-11-29",
          "2021-11-30",
          "2021-12-01",
          "2021-12-02",
          "2021-12-03",
          "2021-12-04",
          "2021-12-05",
          "2021-12-06",
          "2021-12-07",
          "2021-12-08",
          "2021-12-09",
          "2021-12-10",
          "2021-12-11",
          "2021-12-12",
          "2021-12-13",
          "2021-12-14",
          "2021-12-15",
          "2021-12-16",
          "2021-12-17",
          "2021-12-18",
          "2021-12-19",
          "2021-12-20",
          "2021-12-21",
          "2021-12-22",
          "2021-12-23",
          "2021-12-24",
          "2021-12-25",
          "2021-12-26",
          "2021-12-27",
          "2021-12-28",
          "2021-12-29",
          "2021-12-30",
          "2021-12-31",
          "2022-01-01",
          "2022-01-02",
          "2022-01-03",
          "2022-01-04",
          "2022-01-05",
          "2022-01-06",
          "2022-01-07",
          "2022-01-08",
          "2022-01-09",
          "2022-01-10",
          "2022-01-11",
          "2022-01-12",
          "2022-01-13",
          "2022-01-14",
          "2022-01-15",
          "2022-01-16",
          "2022-01-17",
          "2022-01-18",
          "2022-01-19",
          "2022-01-20",
          "2022-01-21",
          "2022-01-22",
          "2022-01-23",
          "2022-01-24",
          "2022-01-25",
          "2022-01-26",
          "2022-01-27",
          "2022-01-28",
          "2022-01-29",
          "2022-01-30",
          "2022-01-31",
          "2022-02-01",
          "2022-02-02",
          "2022-02-03",
          "2022-02-04",
          "2022-02-05",
          "2022-02-06",
          "2022-02-07",
          "2022-02-08",
          "2022-02-09",
          "2022-02-10",
          "2022-02-11",
          "2022-02-12",
          "2022-02-13",
          "2022-02-14",
          "2022-02-15",
          "2022-02-16",
          "2022-02-17",
          "2022-02-18",
          "2022-02-19",
          "2022-02-20",
          "2022-02-21",
          "2022-02-22",
          "2022-02-23",
          "2022-02-24",
          "2022-02-25",
          "2022-02-26",
          "2022-02-27",
          "2022-02-28",
          "2022-03-01",
          "2022-03-02",
          "2022-03-03",
          "2022-03-04",
          "2022-03-05"
         ],
         "y": [
          0.0181,
          0.0159,
          0.0144,
          0.0165,
          0.0191,
          0.0188,
          0.0186,
          0.0185,
          0.0168,
          0.0147,
          0.0169,
          0.0208,
          0.0191,
          0.0181,
          0.0179,
          0.0177,
          0.0151,
          0.0173,
          0.0213,
          0.0199,
          0.0172,
          0.0178,
          0.0147,
          0.0188,
          0.0192,
          0.0224,
          0.0212,
          0.016,
          0.0169,
          0.0144,
          0.0147,
          0.018,
          0.0208,
          0.0189,
          0.017,
          0.0187,
          0.017,
          0.015,
          0.0164,
          0.0244,
          0.0225,
          0.0205,
          0.0194,
          0.021,
          0.0172,
          0.0188,
          0.0281,
          0.0257,
          0.0262,
          0.0242,
          0.0243,
          0.0199,
          0.0229,
          0.031,
          0.0287,
          0.0279,
          0.026,
          0.026,
          0.0227,
          0.0234,
          0.033,
          0.0304,
          0.0276,
          0.032,
          0.0263,
          0.0208,
          0.028,
          0.0378,
          0.0317,
          0.031,
          0.0303,
          0.0275,
          0.0216,
          0.0266,
          0.0314,
          0.0308,
          0.029,
          0.0285,
          0.0234,
          0.0205,
          0.025,
          0.0296,
          0.028,
          0.0235,
          0.0244,
          0.0215,
          0.0204,
          0.0252,
          0.0268,
          0.0265,
          0.0227,
          0.0234,
          0.0196,
          0.0158,
          0.0239,
          0.0255,
          0.0217,
          0.0212,
          0.0202,
          0.0186,
          0.0162,
          0.0216,
          0.0226,
          0.0192,
          0.0196,
          0.0193,
          0.0175,
          0.0195,
          0.019,
          0.0221,
          0.0168,
          0.0177,
          0.0199,
          0.0175,
          0.0152,
          0.019,
          0.0209,
          0.0189,
          0.0174,
          0.0165,
          0.0177,
          0.0132,
          0.0167,
          0.0206,
          0.0228,
          0.017,
          0.0191,
          0.0193,
          0.0131,
          0.0165,
          0.0177,
          0.0171,
          0.0167,
          0.0156,
          0.0158,
          0.0134,
          0.0163,
          0.0167,
          0.0165,
          0.0154,
          0.017,
          0.0159,
          0.0147,
          0.0174,
          0.0175,
          0.0176,
          0.0176,
          0.0163,
          0.0163,
          0.0151,
          0.0173,
          0.0176,
          0.0175,
          0.0169,
          0.0174,
          0.0168,
          0.0162,
          0.018,
          0.0192,
          0.0184,
          0.0186,
          0.0183,
          0.0193,
          0.0188,
          0.0211,
          0.0226,
          0.02,
          0.0209,
          0.0207,
          0.0198,
          0.0204,
          0.0202,
          0.0247,
          0.0224,
          0.0235,
          0.0238,
          0.0223,
          0.0214,
          0.0227,
          0.0238,
          0.0244,
          0.021,
          0.0251,
          0.0236,
          0.0224,
          0.0254,
          0.0286,
          0.0242,
          0.019,
          0.0279,
          0.0263,
          0.0306,
          0.026,
          0.0287,
          0.0258,
          0.0235,
          0.0228,
          0.0232,
          0.0222,
          0.0237,
          0.0218,
          0.0237,
          0.0211,
          0.0221,
          0.0206,
          0.0195,
          0.0198,
          0.0214,
          0.023,
          0.0196,
          0.0188,
          0.0185,
          0.0202,
          0.0196,
          0.0189,
          0.0183,
          0.0185,
          0.0163,
          0.0172,
          0.0205,
          0.0187,
          0.0159,
          0.016,
          0.0149,
          0.0145,
          0.0153,
          0.0157,
          0.0147,
          0.0224,
          0.0156,
          0.0155,
          0.0114,
          0.0177,
          0.0164,
          0.0156,
          0.0162,
          0.0158,
          0.0159,
          0.0131,
          0.0171,
          0.0153,
          0.0141,
          0.0164,
          0.0154,
          0.016,
          0.0128,
          0.0154,
          0.0159,
          0.0141,
          0.018,
          0.0144,
          0.0149,
          0.0131,
          0.0158,
          0.0159,
          0.0147,
          0.0158,
          0.0147,
          0.0161,
          0.0134,
          0.016,
          0.0171,
          0.0146,
          0.0161,
          0.0154,
          0.0157,
          0.0139,
          0.0151,
          0.0151,
          0.0143,
          0.0149,
          0.0172,
          0.0166,
          0.015,
          0.0156,
          0.0146,
          0.0179,
          0.0149,
          0.016,
          0.0167,
          0.0143,
          0.0179,
          0.0149,
          0.0155,
          0.0181,
          0.0183,
          0.0179,
          0.0145,
          0.0162,
          0.0163,
          0.0156,
          0.0191,
          0.0184,
          0.0179,
          0.0159,
          0.0144,
          0.0152,
          0.0163,
          0.0207,
          0.0189,
          0.0181,
          0.0165,
          0.0166,
          0.0136,
          0.0163,
          0.0174,
          0.018,
          0.0194,
          0.0163,
          0.0141,
          0.0146,
          0.0152,
          0.0184,
          0.0193,
          0.0176,
          0.0157,
          0.0152,
          0.0135,
          0.0156,
          0.0184,
          0.0182,
          0.0166,
          0.0168,
          0.0157,
          0.0143,
          0.0155,
          0.0176,
          0.0176,
          0.019,
          0.0155,
          0.0154,
          0.0129,
          0.0149,
          0.0171,
          0.0156,
          0.0145,
          0.0165,
          0.0156,
          0.0128,
          0.014,
          0.0169,
          0.0141,
          0.0147,
          0.0153,
          0.0146,
          0.0127,
          0.0128,
          0.0147,
          0.0145,
          0.0135,
          0.013,
          0.0126,
          0.0113,
          0.0117,
          0.0136,
          0.0129,
          0.0131,
          0.0114,
          0.0129,
          0.0117,
          0.0118,
          0.0128,
          0.0131,
          0.0144,
          0.012,
          0.0108,
          0.0167,
          0.0115,
          0.012,
          0.0119,
          0.0122,
          0.0118,
          0.012,
          0.0103,
          0.0105,
          0.0118,
          0.0123,
          0.0099,
          0.0096,
          0.0104,
          0.009,
          0.0093,
          0.0096,
          0.0091,
          0.0093,
          0.0069,
          0.0061,
          0.0062,
          0.0052,
          0.0056,
          0.0047,
          0.0039,
          0.0035,
          0.0036,
          0.0035,
          0.0025,
          0.0032,
          0.0031,
          0.0026,
          0.0025,
          0.0025,
          0.002,
          0.002,
          0.0031,
          0.0026,
          0.0026,
          0.0024,
          0.0025,
          0.002,
          0.0023,
          0.0024,
          0.0025,
          0.0026,
          0.0026,
          0.0022,
          0.0021,
          0.0025,
          0.003,
          0.0029,
          0.0028,
          0.0034,
          0.003,
          0.0025,
          0.0035,
          0.004,
          0.0038,
          0.0037,
          0.0046,
          0.0037,
          0.0032,
          0.0042,
          0.0047,
          0.0054,
          0.0042,
          0.0051,
          0.0048,
          0.0035,
          0.006,
          0.0059,
          0.0054,
          0.0063,
          0.0055,
          0.0054,
          0.0042,
          0.0051,
          0.0052,
          0.006,
          0.0061,
          0.0057,
          0.0048,
          0.0041,
          0.0055,
          0.0053,
          0.0048,
          0.0044,
          0.0051,
          0.004
         ]
        }
       ],
       "layout": {
        "template": {
         "data": {
          "bar": [
           {
            "error_x": {
             "color": "#f2f5fa"
            },
            "error_y": {
             "color": "#f2f5fa"
            },
            "marker": {
             "line": {
              "color": "rgb(17,17,17)",
              "width": 0.5
             },
             "pattern": {
              "fillmode": "overlay",
              "size": 10,
              "solidity": 0.2
             }
            },
            "type": "bar"
           }
          ],
          "barpolar": [
           {
            "marker": {
             "line": {
              "color": "rgb(17,17,17)",
              "width": 0.5
             },
             "pattern": {
              "fillmode": "overlay",
              "size": 10,
              "solidity": 0.2
             }
            },
            "type": "barpolar"
           }
          ],
          "carpet": [
           {
            "aaxis": {
             "endlinecolor": "#A2B1C6",
             "gridcolor": "#506784",
             "linecolor": "#506784",
             "minorgridcolor": "#506784",
             "startlinecolor": "#A2B1C6"
            },
            "baxis": {
             "endlinecolor": "#A2B1C6",
             "gridcolor": "#506784",
             "linecolor": "#506784",
             "minorgridcolor": "#506784",
             "startlinecolor": "#A2B1C6"
            },
            "type": "carpet"
           }
          ],
          "choropleth": [
           {
            "colorbar": {
             "outlinewidth": 0,
             "ticks": ""
            },
            "type": "choropleth"
           }
          ],
          "contour": [
           {
            "colorbar": {
             "outlinewidth": 0,
             "ticks": ""
            },
            "colorscale": [
             [
              0,
              "#0d0887"
             ],
             [
              0.1111111111111111,
              "#46039f"
             ],
             [
              0.2222222222222222,
              "#7201a8"
             ],
             [
              0.3333333333333333,
              "#9c179e"
             ],
             [
              0.4444444444444444,
              "#bd3786"
             ],
             [
              0.5555555555555556,
              "#d8576b"
             ],
             [
              0.6666666666666666,
              "#ed7953"
             ],
             [
              0.7777777777777778,
              "#fb9f3a"
             ],
             [
              0.8888888888888888,
              "#fdca26"
             ],
             [
              1,
              "#f0f921"
             ]
            ],
            "type": "contour"
           }
          ],
          "contourcarpet": [
           {
            "colorbar": {
             "outlinewidth": 0,
             "ticks": ""
            },
            "type": "contourcarpet"
           }
          ],
          "heatmap": [
           {
            "colorbar": {
             "outlinewidth": 0,
             "ticks": ""
            },
            "colorscale": [
             [
              0,
              "#0d0887"
             ],
             [
              0.1111111111111111,
              "#46039f"
             ],
             [
              0.2222222222222222,
              "#7201a8"
             ],
             [
              0.3333333333333333,
              "#9c179e"
             ],
             [
              0.4444444444444444,
              "#bd3786"
             ],
             [
              0.5555555555555556,
              "#d8576b"
             ],
             [
              0.6666666666666666,
              "#ed7953"
             ],
             [
              0.7777777777777778,
              "#fb9f3a"
             ],
             [
              0.8888888888888888,
              "#fdca26"
             ],
             [
              1,
              "#f0f921"
             ]
            ],
            "type": "heatmap"
           }
          ],
          "heatmapgl": [
           {
            "colorbar": {
             "outlinewidth": 0,
             "ticks": ""
            },
            "colorscale": [
             [
              0,
              "#0d0887"
             ],
             [
              0.1111111111111111,
              "#46039f"
             ],
             [
              0.2222222222222222,
              "#7201a8"
             ],
             [
              0.3333333333333333,
              "#9c179e"
             ],
             [
              0.4444444444444444,
              "#bd3786"
             ],
             [
              0.5555555555555556,
              "#d8576b"
             ],
             [
              0.6666666666666666,
              "#ed7953"
             ],
             [
              0.7777777777777778,
              "#fb9f3a"
             ],
             [
              0.8888888888888888,
              "#fdca26"
             ],
             [
              1,
              "#f0f921"
             ]
            ],
            "type": "heatmapgl"
           }
          ],
          "histogram": [
           {
            "marker": {
             "pattern": {
              "fillmode": "overlay",
              "size": 10,
              "solidity": 0.2
             }
            },
            "type": "histogram"
           }
          ],
          "histogram2d": [
           {
            "colorbar": {
             "outlinewidth": 0,
             "ticks": ""
            },
            "colorscale": [
             [
              0,
              "#0d0887"
             ],
             [
              0.1111111111111111,
              "#46039f"
             ],
             [
              0.2222222222222222,
              "#7201a8"
             ],
             [
              0.3333333333333333,
              "#9c179e"
             ],
             [
              0.4444444444444444,
              "#bd3786"
             ],
             [
              0.5555555555555556,
              "#d8576b"
             ],
             [
              0.6666666666666666,
              "#ed7953"
             ],
             [
              0.7777777777777778,
              "#fb9f3a"
             ],
             [
              0.8888888888888888,
              "#fdca26"
             ],
             [
              1,
              "#f0f921"
             ]
            ],
            "type": "histogram2d"
           }
          ],
          "histogram2dcontour": [
           {
            "colorbar": {
             "outlinewidth": 0,
             "ticks": ""
            },
            "colorscale": [
             [
              0,
              "#0d0887"
             ],
             [
              0.1111111111111111,
              "#46039f"
             ],
             [
              0.2222222222222222,
              "#7201a8"
             ],
             [
              0.3333333333333333,
              "#9c179e"
             ],
             [
              0.4444444444444444,
              "#bd3786"
             ],
             [
              0.5555555555555556,
              "#d8576b"
             ],
             [
              0.6666666666666666,
              "#ed7953"
             ],
             [
              0.7777777777777778,
              "#fb9f3a"
             ],
             [
              0.8888888888888888,
              "#fdca26"
             ],
             [
              1,
              "#f0f921"
             ]
            ],
            "type": "histogram2dcontour"
           }
          ],
          "mesh3d": [
           {
            "colorbar": {
             "outlinewidth": 0,
             "ticks": ""
            },
            "type": "mesh3d"
           }
          ],
          "parcoords": [
           {
            "line": {
             "colorbar": {
              "outlinewidth": 0,
              "ticks": ""
             }
            },
            "type": "parcoords"
           }
          ],
          "pie": [
           {
            "automargin": true,
            "type": "pie"
           }
          ],
          "scatter": [
           {
            "marker": {
             "line": {
              "color": "#283442"
             }
            },
            "type": "scatter"
           }
          ],
          "scatter3d": [
           {
            "line": {
             "colorbar": {
              "outlinewidth": 0,
              "ticks": ""
             }
            },
            "marker": {
             "colorbar": {
              "outlinewidth": 0,
              "ticks": ""
             }
            },
            "type": "scatter3d"
           }
          ],
          "scattercarpet": [
           {
            "marker": {
             "colorbar": {
              "outlinewidth": 0,
              "ticks": ""
             }
            },
            "type": "scattercarpet"
           }
          ],
          "scattergeo": [
           {
            "marker": {
             "colorbar": {
              "outlinewidth": 0,
              "ticks": ""
             }
            },
            "type": "scattergeo"
           }
          ],
          "scattergl": [
           {
            "marker": {
             "line": {
              "color": "#283442"
             }
            },
            "type": "scattergl"
           }
          ],
          "scattermapbox": [
           {
            "marker": {
             "colorbar": {
              "outlinewidth": 0,
              "ticks": ""
             }
            },
            "type": "scattermapbox"
           }
          ],
          "scatterpolar": [
           {
            "marker": {
             "colorbar": {
              "outlinewidth": 0,
              "ticks": ""
             }
            },
            "type": "scatterpolar"
           }
          ],
          "scatterpolargl": [
           {
            "marker": {
             "colorbar": {
              "outlinewidth": 0,
              "ticks": ""
             }
            },
            "type": "scatterpolargl"
           }
          ],
          "scatterternary": [
           {
            "marker": {
             "colorbar": {
              "outlinewidth": 0,
              "ticks": ""
             }
            },
            "type": "scatterternary"
           }
          ],
          "surface": [
           {
            "colorbar": {
             "outlinewidth": 0,
             "ticks": ""
            },
            "colorscale": [
             [
              0,
              "#0d0887"
             ],
             [
              0.1111111111111111,
              "#46039f"
             ],
             [
              0.2222222222222222,
              "#7201a8"
             ],
             [
              0.3333333333333333,
              "#9c179e"
             ],
             [
              0.4444444444444444,
              "#bd3786"
             ],
             [
              0.5555555555555556,
              "#d8576b"
             ],
             [
              0.6666666666666666,
              "#ed7953"
             ],
             [
              0.7777777777777778,
              "#fb9f3a"
             ],
             [
              0.8888888888888888,
              "#fdca26"
             ],
             [
              1,
              "#f0f921"
             ]
            ],
            "type": "surface"
           }
          ],
          "table": [
           {
            "cells": {
             "fill": {
              "color": "#506784"
             },
             "line": {
              "color": "rgb(17,17,17)"
             }
            },
            "header": {
             "fill": {
              "color": "#2a3f5f"
             },
             "line": {
              "color": "rgb(17,17,17)"
             }
            },
            "type": "table"
           }
          ]
         },
         "layout": {
          "annotationdefaults": {
           "arrowcolor": "#f2f5fa",
           "arrowhead": 0,
           "arrowwidth": 1
          },
          "autotypenumbers": "strict",
          "coloraxis": {
           "colorbar": {
            "outlinewidth": 0,
            "ticks": ""
           }
          },
          "colorscale": {
           "diverging": [
            [
             0,
             "#8e0152"
            ],
            [
             0.1,
             "#c51b7d"
            ],
            [
             0.2,
             "#de77ae"
            ],
            [
             0.3,
             "#f1b6da"
            ],
            [
             0.4,
             "#fde0ef"
            ],
            [
             0.5,
             "#f7f7f7"
            ],
            [
             0.6,
             "#e6f5d0"
            ],
            [
             0.7,
             "#b8e186"
            ],
            [
             0.8,
             "#7fbc41"
            ],
            [
             0.9,
             "#4d9221"
            ],
            [
             1,
             "#276419"
            ]
           ],
           "sequential": [
            [
             0,
             "#0d0887"
            ],
            [
             0.1111111111111111,
             "#46039f"
            ],
            [
             0.2222222222222222,
             "#7201a8"
            ],
            [
             0.3333333333333333,
             "#9c179e"
            ],
            [
             0.4444444444444444,
             "#bd3786"
            ],
            [
             0.5555555555555556,
             "#d8576b"
            ],
            [
             0.6666666666666666,
             "#ed7953"
            ],
            [
             0.7777777777777778,
             "#fb9f3a"
            ],
            [
             0.8888888888888888,
             "#fdca26"
            ],
            [
             1,
             "#f0f921"
            ]
           ],
           "sequentialminus": [
            [
             0,
             "#0d0887"
            ],
            [
             0.1111111111111111,
             "#46039f"
            ],
            [
             0.2222222222222222,
             "#7201a8"
            ],
            [
             0.3333333333333333,
             "#9c179e"
            ],
            [
             0.4444444444444444,
             "#bd3786"
            ],
            [
             0.5555555555555556,
             "#d8576b"
            ],
            [
             0.6666666666666666,
             "#ed7953"
            ],
            [
             0.7777777777777778,
             "#fb9f3a"
            ],
            [
             0.8888888888888888,
             "#fdca26"
            ],
            [
             1,
             "#f0f921"
            ]
           ]
          },
          "colorway": [
           "#636efa",
           "#EF553B",
           "#00cc96",
           "#ab63fa",
           "#FFA15A",
           "#19d3f3",
           "#FF6692",
           "#B6E880",
           "#FF97FF",
           "#FECB52"
          ],
          "font": {
           "color": "#f2f5fa"
          },
          "geo": {
           "bgcolor": "rgb(17,17,17)",
           "lakecolor": "rgb(17,17,17)",
           "landcolor": "rgb(17,17,17)",
           "showlakes": true,
           "showland": true,
           "subunitcolor": "#506784"
          },
          "hoverlabel": {
           "align": "left"
          },
          "hovermode": "closest",
          "mapbox": {
           "style": "dark"
          },
          "paper_bgcolor": "rgb(17,17,17)",
          "plot_bgcolor": "rgb(17,17,17)",
          "polar": {
           "angularaxis": {
            "gridcolor": "#506784",
            "linecolor": "#506784",
            "ticks": ""
           },
           "bgcolor": "rgb(17,17,17)",
           "radialaxis": {
            "gridcolor": "#506784",
            "linecolor": "#506784",
            "ticks": ""
           }
          },
          "scene": {
           "xaxis": {
            "backgroundcolor": "rgb(17,17,17)",
            "gridcolor": "#506784",
            "gridwidth": 2,
            "linecolor": "#506784",
            "showbackground": true,
            "ticks": "",
            "zerolinecolor": "#C8D4E3"
           },
           "yaxis": {
            "backgroundcolor": "rgb(17,17,17)",
            "gridcolor": "#506784",
            "gridwidth": 2,
            "linecolor": "#506784",
            "showbackground": true,
            "ticks": "",
            "zerolinecolor": "#C8D4E3"
           },
           "zaxis": {
            "backgroundcolor": "rgb(17,17,17)",
            "gridcolor": "#506784",
            "gridwidth": 2,
            "linecolor": "#506784",
            "showbackground": true,
            "ticks": "",
            "zerolinecolor": "#C8D4E3"
           }
          },
          "shapedefaults": {
           "line": {
            "color": "#f2f5fa"
           }
          },
          "sliderdefaults": {
           "bgcolor": "#C8D4E3",
           "bordercolor": "rgb(17,17,17)",
           "borderwidth": 1,
           "tickwidth": 0
          },
          "ternary": {
           "aaxis": {
            "gridcolor": "#506784",
            "linecolor": "#506784",
            "ticks": ""
           },
           "baxis": {
            "gridcolor": "#506784",
            "linecolor": "#506784",
            "ticks": ""
           },
           "bgcolor": "rgb(17,17,17)",
           "caxis": {
            "gridcolor": "#506784",
            "linecolor": "#506784",
            "ticks": ""
           }
          },
          "title": {
           "x": 0.05
          },
          "updatemenudefaults": {
           "bgcolor": "#506784",
           "borderwidth": 0
          },
          "xaxis": {
           "automargin": true,
           "gridcolor": "#283442",
           "linecolor": "#506784",
           "ticks": "",
           "title": {
            "standoff": 15
           },
           "zerolinecolor": "#283442",
           "zerolinewidth": 2
          },
          "yaxis": {
           "automargin": true,
           "gridcolor": "#283442",
           "linecolor": "#506784",
           "ticks": "",
           "title": {
            "standoff": 15
           },
           "zerolinecolor": "#283442",
           "zerolinewidth": 2
          }
         }
        },
        "title": {
         "text": "Tỉ lệ tử vong các ngày trước và sau khi tiêm vaccine"
        }
       }
      }
     },
     "metadata": {},
     "output_type": "display_data"
    },
    {
     "name": "stdout",
     "output_type": "stream",
     "text": [
      "Từ biểu đồ ta cũng có thể thấy được rằng tỉ lệ tử vong vì Covid-19 trước khi tiêm vaccine lớn hớn so với sau khi tiêm vaccine.\n"
     ]
    }
   ],
   "source": [
    "plot(\"Tỉ lệ tử vong các ngày trước và sau khi tiêm vaccine\")\n",
    "print(\"Từ biểu đồ ta cũng có thể thấy được rằng tỉ lệ tử vong vì Covid-19 trước khi tiêm vaccine lớn hớn so với sau khi tiêm vaccine.\")"
   ]
  },
  {
   "cell_type": "markdown",
   "metadata": {},
   "source": [
    "Để có thể đưa ra kết luận chắc chắn, ta thực hiện kiểm định thống kê trên 2 nhóm độc lập: tỉ lệ tử vong vì dịch bệnh các ngày trước và sau khi tiêm vaccine trên thế giới.\n",
    "\n",
    "Ta đặt giả thuyết:\n",
    "\n",
    "`H0: tỉ lệ tử vong các ngày trước và sau khi tiêm vaccine là như nhau`\n",
    "\n",
    "`Ha: tỉ lệ tử vong các ngày trước khi tiêm vaccine cao hơn sau khi tiêm.`"
   ]
  },
  {
   "cell_type": "code",
   "execution_count": 301,
   "metadata": {},
   "outputs": [
    {
     "name": "stdout",
     "output_type": "stream",
     "text": [
      "Giá trị p tính được là kiểm định hai phía: p =  1.3756703062376602e-39\n",
      "Vì ta kiểm định 1 phía nên p_value = p/2 =  6.878351531188301e-40\n",
      "Ta có p_value = 6.878351531188301e-40 < 0,05 và t = 13.945868874153058 > 0 => Ta bác bỏ giả thuyết H0, chấp nhận Ha\n"
     ]
    }
   ],
   "source": [
    "t, p = stats.ttest_ind(covid_world_before_vaccine['Mortality'], covid_world_after_vaccine['Mortality'])\n",
    "print ('Giá trị p tính được là kiểm định hai phía: p = ', p)\n",
    "print ('Vì ta kiểm định 1 phía nên p_value = p/2 = ', p/2)\n",
    "p = p/2\n",
    "print (f'Ta có p_value = {p} < 0,05 và t = {t} > 0 => Ta bác bỏ giả thuyết H0, chấp nhận Ha')"
   ]
  },
  {
   "cell_type": "markdown",
   "metadata": {},
   "source": [
    "Nhận xét: Vậy tỉ lệ tử vong trên thế giới ở thời điểm trước khi tiêm vaccine cao hơn sau khi đã triển khai tiêm vaccine. Do đó, vaccine dường như thực sự có ích trong việc chống đại dịch Covid-19 trên thế giới"
   ]
  },
  {
   "cell_type": "markdown",
   "metadata": {},
   "source": [
    "## Câu 4: Biến thể Omicron xuất hiện vào 11/2021 có gây nguy hiểm không? So sánh với biến thể Delta xuất hiện vào tháng 12/2020. **(X: Date, NewCases, NewDeaths)**  **(Y: Tỉ lệ tử vong)**"
   ]
  },
  {
   "cell_type": "code",
   "execution_count": 302,
   "metadata": {},
   "outputs": [
    {
     "name": "stderr",
     "output_type": "stream",
     "text": [
      "C:\\Users\\nguye\\AppData\\Local\\Temp\\ipykernel_6100\\3503548437.py:2: SettingWithCopyWarning:\n",
      "\n",
      "\n",
      "A value is trying to be set on a copy of a slice from a DataFrame.\n",
      "Try using .loc[row_indexer,col_indexer] = value instead\n",
      "\n",
      "See the caveats in the documentation: https://pandas.pydata.org/pandas-docs/stable/user_guide/indexing.html#returning-a-view-versus-a-copy\n",
      "\n",
      "C:\\Users\\nguye\\AppData\\Local\\Temp\\ipykernel_6100\\3503548437.py:3: SettingWithCopyWarning:\n",
      "\n",
      "\n",
      "A value is trying to be set on a copy of a slice from a DataFrame.\n",
      "Try using .loc[row_indexer,col_indexer] = value instead\n",
      "\n",
      "See the caveats in the documentation: https://pandas.pydata.org/pandas-docs/stable/user_guide/indexing.html#returning-a-view-versus-a-copy\n",
      "\n",
      "C:\\Users\\nguye\\AppData\\Local\\Temp\\ipykernel_6100\\3503548437.py:4: SettingWithCopyWarning:\n",
      "\n",
      "\n",
      "A value is trying to be set on a copy of a slice from a DataFrame.\n",
      "Try using .loc[row_indexer,col_indexer] = value instead\n",
      "\n",
      "See the caveats in the documentation: https://pandas.pydata.org/pandas-docs/stable/user_guide/indexing.html#returning-a-view-versus-a-copy\n",
      "\n"
     ]
    },
    {
     "data": {
      "text/html": [
       "<div>\n",
       "<style scoped>\n",
       "    .dataframe tbody tr th:only-of-type {\n",
       "        vertical-align: middle;\n",
       "    }\n",
       "\n",
       "    .dataframe tbody tr th {\n",
       "        vertical-align: top;\n",
       "    }\n",
       "\n",
       "    .dataframe thead th {\n",
       "        text-align: right;\n",
       "    }\n",
       "</style>\n",
       "<table border=\"1\" class=\"dataframe\">\n",
       "  <thead>\n",
       "    <tr style=\"text-align: right;\">\n",
       "      <th></th>\n",
       "      <th>Date</th>\n",
       "      <th>NewCases</th>\n",
       "      <th>NewDeaths</th>\n",
       "      <th>Month_Years</th>\n",
       "      <th>Mortality</th>\n",
       "    </tr>\n",
       "  </thead>\n",
       "  <tbody>\n",
       "    <tr>\n",
       "      <th>163423</th>\n",
       "      <td>2020-01-22</td>\n",
       "      <td>0.0</td>\n",
       "      <td>0.0</td>\n",
       "      <td>2020-01</td>\n",
       "      <td>0.000000</td>\n",
       "    </tr>\n",
       "    <tr>\n",
       "      <th>163424</th>\n",
       "      <td>2020-01-23</td>\n",
       "      <td>100.0</td>\n",
       "      <td>1.0</td>\n",
       "      <td>2020-01</td>\n",
       "      <td>0.010000</td>\n",
       "    </tr>\n",
       "    <tr>\n",
       "      <th>163425</th>\n",
       "      <td>2020-01-24</td>\n",
       "      <td>287.0</td>\n",
       "      <td>8.0</td>\n",
       "      <td>2020-01</td>\n",
       "      <td>0.027875</td>\n",
       "    </tr>\n",
       "    <tr>\n",
       "      <th>163426</th>\n",
       "      <td>2020-01-25</td>\n",
       "      <td>493.0</td>\n",
       "      <td>16.0</td>\n",
       "      <td>2020-01</td>\n",
       "      <td>0.032454</td>\n",
       "    </tr>\n",
       "    <tr>\n",
       "      <th>163427</th>\n",
       "      <td>2020-01-26</td>\n",
       "      <td>683.0</td>\n",
       "      <td>14.0</td>\n",
       "      <td>2020-01</td>\n",
       "      <td>0.020498</td>\n",
       "    </tr>\n",
       "    <tr>\n",
       "      <th>...</th>\n",
       "      <td>...</td>\n",
       "      <td>...</td>\n",
       "      <td>...</td>\n",
       "      <td>...</td>\n",
       "      <td>...</td>\n",
       "    </tr>\n",
       "    <tr>\n",
       "      <th>164192</th>\n",
       "      <td>2022-03-01</td>\n",
       "      <td>1536867.0</td>\n",
       "      <td>8069.0</td>\n",
       "      <td>2022-03</td>\n",
       "      <td>0.005250</td>\n",
       "    </tr>\n",
       "    <tr>\n",
       "      <th>164193</th>\n",
       "      <td>2022-03-02</td>\n",
       "      <td>1651452.0</td>\n",
       "      <td>7945.0</td>\n",
       "      <td>2022-03</td>\n",
       "      <td>0.004811</td>\n",
       "    </tr>\n",
       "    <tr>\n",
       "      <th>164194</th>\n",
       "      <td>2022-03-03</td>\n",
       "      <td>1887465.0</td>\n",
       "      <td>8384.0</td>\n",
       "      <td>2022-03</td>\n",
       "      <td>0.004442</td>\n",
       "    </tr>\n",
       "    <tr>\n",
       "      <th>164195</th>\n",
       "      <td>2022-03-04</td>\n",
       "      <td>1704138.0</td>\n",
       "      <td>8771.0</td>\n",
       "      <td>2022-03</td>\n",
       "      <td>0.005147</td>\n",
       "    </tr>\n",
       "    <tr>\n",
       "      <th>164196</th>\n",
       "      <td>2022-03-05</td>\n",
       "      <td>1361810.0</td>\n",
       "      <td>5443.0</td>\n",
       "      <td>2022-03</td>\n",
       "      <td>0.003997</td>\n",
       "    </tr>\n",
       "  </tbody>\n",
       "</table>\n",
       "<p>774 rows × 5 columns</p>\n",
       "</div>"
      ],
      "text/plain": [
       "             Date   NewCases  NewDeaths Month_Years  Mortality\n",
       "163423 2020-01-22        0.0        0.0     2020-01   0.000000\n",
       "163424 2020-01-23      100.0        1.0     2020-01   0.010000\n",
       "163425 2020-01-24      287.0        8.0     2020-01   0.027875\n",
       "163426 2020-01-25      493.0       16.0     2020-01   0.032454\n",
       "163427 2020-01-26      683.0       14.0     2020-01   0.020498\n",
       "...           ...        ...        ...         ...        ...\n",
       "164192 2022-03-01  1536867.0     8069.0     2022-03   0.005250\n",
       "164193 2022-03-02  1651452.0     7945.0     2022-03   0.004811\n",
       "164194 2022-03-03  1887465.0     8384.0     2022-03   0.004442\n",
       "164195 2022-03-04  1704138.0     8771.0     2022-03   0.005147\n",
       "164196 2022-03-05  1361810.0     5443.0     2022-03   0.003997\n",
       "\n",
       "[774 rows x 5 columns]"
      ]
     },
     "execution_count": 302,
     "metadata": {},
     "output_type": "execute_result"
    }
   ],
   "source": [
    "covid_compare = covid_world_df[['Date', 'NewCases', 'NewDeaths']]\n",
    "covid_compare['Date'] = pd.to_datetime(covid_compare['Date'])\n",
    "covid_compare['Month_Years']=pd.to_datetime(covid_compare['Date']).dt.strftime('%Y-%m')\n",
    "covid_compare['Mortality'] = covid_compare['NewDeaths'] / covid_compare['NewCases']\n",
    "covid_compare = covid_compare.replace('', np.nan).fillna(0)\n",
    "covid_compare"
   ]
  },
  {
   "cell_type": "code",
   "execution_count": 303,
   "metadata": {},
   "outputs": [],
   "source": [
    "date_omicron = pd.to_datetime(datetime.date(2021,11,24)).strftime('%Y-%m')\n",
    "date_delta = pd.to_datetime(datetime.date(2020,12,1)).strftime('%Y-%m')\n",
    "date_bound = pd.to_datetime(datetime.date(2022,3,1)).strftime('%Y-%m')\n",
    "covid_compare = covid_compare[covid_compare[\"Month_Years\"] < date_bound]\n",
    "covid_omicron = covid_compare[covid_compare[\"Month_Years\"] >= date_omicron]\n",
    "covid_delta = covid_compare[covid_compare[\"Month_Years\"] < date_omicron]\n",
    "covid_delta = covid_delta[covid_delta[\"Month_Years\"] >= date_delta]"
   ]
  },
  {
   "cell_type": "code",
   "execution_count": 304,
   "metadata": {},
   "outputs": [
    {
     "data": {
      "text/plain": [
       "Date           datetime64[ns]\n",
       "NewCases              float64\n",
       "NewDeaths             float64\n",
       "Month_Years            object\n",
       "Mortality             float64\n",
       "dtype: object"
      ]
     },
     "execution_count": 304,
     "metadata": {},
     "output_type": "execute_result"
    }
   ],
   "source": [
    "covid_compare.dtypes"
   ]
  },
  {
   "cell_type": "code",
   "execution_count": 305,
   "metadata": {},
   "outputs": [
    {
     "name": "stdout",
     "output_type": "stream",
     "text": [
      "Tình hình dịch bệnh khi biến chủng DELTA xuất hiện khoảng tháng 12/2020\n",
      "             Date  NewCases  NewDeaths Month_Years  Mortality\n",
      "163737 2020-12-01  623828.0    12759.0     2020-12   0.020453\n",
      "163738 2020-12-02  646764.0    12643.0     2020-12   0.019548\n",
      "163739 2020-12-03  692160.0    12600.0     2020-12   0.018204\n",
      "163740 2020-12-04  688697.0    12460.0     2020-12   0.018092\n",
      "163741 2020-12-05  648934.0    10337.0     2020-12   0.015929\n",
      "...           ...       ...        ...         ...        ...\n",
      "164067 2021-10-27  520080.0     9178.0     2021-10   0.017647\n",
      "164068 2021-10-28  463857.0     8801.0     2021-10   0.018974\n",
      "164069 2021-10-29  508971.0     7873.0     2021-10   0.015468\n",
      "164070 2021-10-30  389334.0     6001.0     2021-10   0.015414\n",
      "164071 2021-10-31  346340.0     4483.0     2021-10   0.012944\n",
      "\n",
      "[335 rows x 5 columns]\n"
     ]
    }
   ],
   "source": [
    "print(\"Tình hình dịch bệnh khi biến chủng DELTA xuất hiện khoảng tháng 12/2020\")\n",
    "print(covid_delta)"
   ]
  },
  {
   "cell_type": "code",
   "execution_count": 306,
   "metadata": {},
   "outputs": [
    {
     "name": "stdout",
     "output_type": "stream",
     "text": [
      "Tình hình dịch bệnh khi biến chủng OMICRON xuất hiện khoảng tháng 11/2021\n",
      "             Date   NewCases  NewDeaths Month_Years  Mortality\n",
      "164072 2021-11-01   421008.0     6276.0     2021-11   0.014907\n",
      "164073 2021-11-02   426168.0     7283.0     2021-11   0.017090\n",
      "164074 2021-11-03   538266.0     8416.0     2021-11   0.015635\n",
      "164075 2021-11-04   523859.0     7605.0     2021-11   0.014517\n",
      "164076 2021-11-05   520733.0     8611.0     2021-11   0.016536\n",
      "...           ...        ...        ...         ...        ...\n",
      "164187 2022-02-24  1755446.0    10735.0     2022-02   0.006115\n",
      "164188 2022-02-25  1591820.0     9080.0     2022-02   0.005704\n",
      "164189 2022-02-26  1328773.0     6392.0     2022-02   0.004810\n",
      "164190 2022-02-27  1065246.0     4417.0     2022-02   0.004146\n",
      "164191 2022-02-28  1403481.0     7759.0     2022-02   0.005528\n",
      "\n",
      "[120 rows x 5 columns]\n"
     ]
    }
   ],
   "source": [
    "print(\"Tình hình dịch bệnh khi biến chủng OMICRON xuất hiện khoảng tháng 11/2021\")\n",
    "print(covid_omicron)"
   ]
  },
  {
   "cell_type": "code",
   "execution_count": 307,
   "metadata": {},
   "outputs": [],
   "source": [
    "def plot_ticks(df, var, col, title, is_group):\n",
    "    if is_group:\n",
    "        df= df.groupby(by=var).agg({var : 'first',col : 'sum'})\n",
    "    df_omicron = df[df[var] >= date_omicron]\n",
    "    df_delta = df[df[var] < date_omicron]\n",
    "    df_delta = df_delta[df_delta[var] >= date_delta]\n",
    "    bars = []\n",
    "    bars.append(go.Bar(\n",
    "        x = df_delta[var],\n",
    "        y = df_delta[col],\n",
    "        marker={'color': 'red'},\n",
    "        name = 'Delta'\n",
    "    ))\n",
    "    bars.append(go.Bar(\n",
    "        x = df_omicron[var],\n",
    "        y = df_omicron[col],\n",
    "        marker={'color': 'greenyellow'},\n",
    "        name = 'Omicron'\n",
    "    ))\n",
    "\n",
    "    fig = go.FigureWidget(data=bars)\n",
    "    fig.update_layout(\n",
    "        template='plotly_dark',\n",
    "        title = title\n",
    "        )\n",
    "    fig.show()\n"
   ]
  },
  {
   "cell_type": "code",
   "execution_count": 308,
   "metadata": {},
   "outputs": [
    {
     "data": {
      "application/vnd.plotly.v1+json": {
       "config": {
        "plotlyServerURL": "https://plot.ly"
       },
       "data": [
        {
         "marker": {
          "color": "red"
         },
         "name": "Delta",
         "type": "bar",
         "uid": "8a066d47-9e1b-48b5-b53e-182669140ae5",
         "x": [
          "2020-12",
          "2021-01",
          "2021-02",
          "2021-03",
          "2021-04",
          "2021-05",
          "2021-06",
          "2021-07",
          "2021-08",
          "2021-09",
          "2021-10"
         ],
         "y": [
          19554556,
          19543425,
          11257597,
          14878794,
          22534445,
          19683739,
          11473714,
          15731555,
          19899023,
          15932987,
          13102145
         ]
        },
        {
         "marker": {
          "color": "greenyellow"
         },
         "name": "Omicron",
         "type": "bar",
         "uid": "152f71b5-b616-45b0-9621-4c8c6810e364",
         "x": [
          "2021-11",
          "2021-12",
          "2022-01",
          "2022-02"
         ],
         "y": [
          15719784,
          25531393,
          89419518,
          58054952
         ]
        }
       ],
       "layout": {
        "template": {
         "data": {
          "bar": [
           {
            "error_x": {
             "color": "#f2f5fa"
            },
            "error_y": {
             "color": "#f2f5fa"
            },
            "marker": {
             "line": {
              "color": "rgb(17,17,17)",
              "width": 0.5
             },
             "pattern": {
              "fillmode": "overlay",
              "size": 10,
              "solidity": 0.2
             }
            },
            "type": "bar"
           }
          ],
          "barpolar": [
           {
            "marker": {
             "line": {
              "color": "rgb(17,17,17)",
              "width": 0.5
             },
             "pattern": {
              "fillmode": "overlay",
              "size": 10,
              "solidity": 0.2
             }
            },
            "type": "barpolar"
           }
          ],
          "carpet": [
           {
            "aaxis": {
             "endlinecolor": "#A2B1C6",
             "gridcolor": "#506784",
             "linecolor": "#506784",
             "minorgridcolor": "#506784",
             "startlinecolor": "#A2B1C6"
            },
            "baxis": {
             "endlinecolor": "#A2B1C6",
             "gridcolor": "#506784",
             "linecolor": "#506784",
             "minorgridcolor": "#506784",
             "startlinecolor": "#A2B1C6"
            },
            "type": "carpet"
           }
          ],
          "choropleth": [
           {
            "colorbar": {
             "outlinewidth": 0,
             "ticks": ""
            },
            "type": "choropleth"
           }
          ],
          "contour": [
           {
            "colorbar": {
             "outlinewidth": 0,
             "ticks": ""
            },
            "colorscale": [
             [
              0,
              "#0d0887"
             ],
             [
              0.1111111111111111,
              "#46039f"
             ],
             [
              0.2222222222222222,
              "#7201a8"
             ],
             [
              0.3333333333333333,
              "#9c179e"
             ],
             [
              0.4444444444444444,
              "#bd3786"
             ],
             [
              0.5555555555555556,
              "#d8576b"
             ],
             [
              0.6666666666666666,
              "#ed7953"
             ],
             [
              0.7777777777777778,
              "#fb9f3a"
             ],
             [
              0.8888888888888888,
              "#fdca26"
             ],
             [
              1,
              "#f0f921"
             ]
            ],
            "type": "contour"
           }
          ],
          "contourcarpet": [
           {
            "colorbar": {
             "outlinewidth": 0,
             "ticks": ""
            },
            "type": "contourcarpet"
           }
          ],
          "heatmap": [
           {
            "colorbar": {
             "outlinewidth": 0,
             "ticks": ""
            },
            "colorscale": [
             [
              0,
              "#0d0887"
             ],
             [
              0.1111111111111111,
              "#46039f"
             ],
             [
              0.2222222222222222,
              "#7201a8"
             ],
             [
              0.3333333333333333,
              "#9c179e"
             ],
             [
              0.4444444444444444,
              "#bd3786"
             ],
             [
              0.5555555555555556,
              "#d8576b"
             ],
             [
              0.6666666666666666,
              "#ed7953"
             ],
             [
              0.7777777777777778,
              "#fb9f3a"
             ],
             [
              0.8888888888888888,
              "#fdca26"
             ],
             [
              1,
              "#f0f921"
             ]
            ],
            "type": "heatmap"
           }
          ],
          "heatmapgl": [
           {
            "colorbar": {
             "outlinewidth": 0,
             "ticks": ""
            },
            "colorscale": [
             [
              0,
              "#0d0887"
             ],
             [
              0.1111111111111111,
              "#46039f"
             ],
             [
              0.2222222222222222,
              "#7201a8"
             ],
             [
              0.3333333333333333,
              "#9c179e"
             ],
             [
              0.4444444444444444,
              "#bd3786"
             ],
             [
              0.5555555555555556,
              "#d8576b"
             ],
             [
              0.6666666666666666,
              "#ed7953"
             ],
             [
              0.7777777777777778,
              "#fb9f3a"
             ],
             [
              0.8888888888888888,
              "#fdca26"
             ],
             [
              1,
              "#f0f921"
             ]
            ],
            "type": "heatmapgl"
           }
          ],
          "histogram": [
           {
            "marker": {
             "pattern": {
              "fillmode": "overlay",
              "size": 10,
              "solidity": 0.2
             }
            },
            "type": "histogram"
           }
          ],
          "histogram2d": [
           {
            "colorbar": {
             "outlinewidth": 0,
             "ticks": ""
            },
            "colorscale": [
             [
              0,
              "#0d0887"
             ],
             [
              0.1111111111111111,
              "#46039f"
             ],
             [
              0.2222222222222222,
              "#7201a8"
             ],
             [
              0.3333333333333333,
              "#9c179e"
             ],
             [
              0.4444444444444444,
              "#bd3786"
             ],
             [
              0.5555555555555556,
              "#d8576b"
             ],
             [
              0.6666666666666666,
              "#ed7953"
             ],
             [
              0.7777777777777778,
              "#fb9f3a"
             ],
             [
              0.8888888888888888,
              "#fdca26"
             ],
             [
              1,
              "#f0f921"
             ]
            ],
            "type": "histogram2d"
           }
          ],
          "histogram2dcontour": [
           {
            "colorbar": {
             "outlinewidth": 0,
             "ticks": ""
            },
            "colorscale": [
             [
              0,
              "#0d0887"
             ],
             [
              0.1111111111111111,
              "#46039f"
             ],
             [
              0.2222222222222222,
              "#7201a8"
             ],
             [
              0.3333333333333333,
              "#9c179e"
             ],
             [
              0.4444444444444444,
              "#bd3786"
             ],
             [
              0.5555555555555556,
              "#d8576b"
             ],
             [
              0.6666666666666666,
              "#ed7953"
             ],
             [
              0.7777777777777778,
              "#fb9f3a"
             ],
             [
              0.8888888888888888,
              "#fdca26"
             ],
             [
              1,
              "#f0f921"
             ]
            ],
            "type": "histogram2dcontour"
           }
          ],
          "mesh3d": [
           {
            "colorbar": {
             "outlinewidth": 0,
             "ticks": ""
            },
            "type": "mesh3d"
           }
          ],
          "parcoords": [
           {
            "line": {
             "colorbar": {
              "outlinewidth": 0,
              "ticks": ""
             }
            },
            "type": "parcoords"
           }
          ],
          "pie": [
           {
            "automargin": true,
            "type": "pie"
           }
          ],
          "scatter": [
           {
            "marker": {
             "line": {
              "color": "#283442"
             }
            },
            "type": "scatter"
           }
          ],
          "scatter3d": [
           {
            "line": {
             "colorbar": {
              "outlinewidth": 0,
              "ticks": ""
             }
            },
            "marker": {
             "colorbar": {
              "outlinewidth": 0,
              "ticks": ""
             }
            },
            "type": "scatter3d"
           }
          ],
          "scattercarpet": [
           {
            "marker": {
             "colorbar": {
              "outlinewidth": 0,
              "ticks": ""
             }
            },
            "type": "scattercarpet"
           }
          ],
          "scattergeo": [
           {
            "marker": {
             "colorbar": {
              "outlinewidth": 0,
              "ticks": ""
             }
            },
            "type": "scattergeo"
           }
          ],
          "scattergl": [
           {
            "marker": {
             "line": {
              "color": "#283442"
             }
            },
            "type": "scattergl"
           }
          ],
          "scattermapbox": [
           {
            "marker": {
             "colorbar": {
              "outlinewidth": 0,
              "ticks": ""
             }
            },
            "type": "scattermapbox"
           }
          ],
          "scatterpolar": [
           {
            "marker": {
             "colorbar": {
              "outlinewidth": 0,
              "ticks": ""
             }
            },
            "type": "scatterpolar"
           }
          ],
          "scatterpolargl": [
           {
            "marker": {
             "colorbar": {
              "outlinewidth": 0,
              "ticks": ""
             }
            },
            "type": "scatterpolargl"
           }
          ],
          "scatterternary": [
           {
            "marker": {
             "colorbar": {
              "outlinewidth": 0,
              "ticks": ""
             }
            },
            "type": "scatterternary"
           }
          ],
          "surface": [
           {
            "colorbar": {
             "outlinewidth": 0,
             "ticks": ""
            },
            "colorscale": [
             [
              0,
              "#0d0887"
             ],
             [
              0.1111111111111111,
              "#46039f"
             ],
             [
              0.2222222222222222,
              "#7201a8"
             ],
             [
              0.3333333333333333,
              "#9c179e"
             ],
             [
              0.4444444444444444,
              "#bd3786"
             ],
             [
              0.5555555555555556,
              "#d8576b"
             ],
             [
              0.6666666666666666,
              "#ed7953"
             ],
             [
              0.7777777777777778,
              "#fb9f3a"
             ],
             [
              0.8888888888888888,
              "#fdca26"
             ],
             [
              1,
              "#f0f921"
             ]
            ],
            "type": "surface"
           }
          ],
          "table": [
           {
            "cells": {
             "fill": {
              "color": "#506784"
             },
             "line": {
              "color": "rgb(17,17,17)"
             }
            },
            "header": {
             "fill": {
              "color": "#2a3f5f"
             },
             "line": {
              "color": "rgb(17,17,17)"
             }
            },
            "type": "table"
           }
          ]
         },
         "layout": {
          "annotationdefaults": {
           "arrowcolor": "#f2f5fa",
           "arrowhead": 0,
           "arrowwidth": 1
          },
          "autotypenumbers": "strict",
          "coloraxis": {
           "colorbar": {
            "outlinewidth": 0,
            "ticks": ""
           }
          },
          "colorscale": {
           "diverging": [
            [
             0,
             "#8e0152"
            ],
            [
             0.1,
             "#c51b7d"
            ],
            [
             0.2,
             "#de77ae"
            ],
            [
             0.3,
             "#f1b6da"
            ],
            [
             0.4,
             "#fde0ef"
            ],
            [
             0.5,
             "#f7f7f7"
            ],
            [
             0.6,
             "#e6f5d0"
            ],
            [
             0.7,
             "#b8e186"
            ],
            [
             0.8,
             "#7fbc41"
            ],
            [
             0.9,
             "#4d9221"
            ],
            [
             1,
             "#276419"
            ]
           ],
           "sequential": [
            [
             0,
             "#0d0887"
            ],
            [
             0.1111111111111111,
             "#46039f"
            ],
            [
             0.2222222222222222,
             "#7201a8"
            ],
            [
             0.3333333333333333,
             "#9c179e"
            ],
            [
             0.4444444444444444,
             "#bd3786"
            ],
            [
             0.5555555555555556,
             "#d8576b"
            ],
            [
             0.6666666666666666,
             "#ed7953"
            ],
            [
             0.7777777777777778,
             "#fb9f3a"
            ],
            [
             0.8888888888888888,
             "#fdca26"
            ],
            [
             1,
             "#f0f921"
            ]
           ],
           "sequentialminus": [
            [
             0,
             "#0d0887"
            ],
            [
             0.1111111111111111,
             "#46039f"
            ],
            [
             0.2222222222222222,
             "#7201a8"
            ],
            [
             0.3333333333333333,
             "#9c179e"
            ],
            [
             0.4444444444444444,
             "#bd3786"
            ],
            [
             0.5555555555555556,
             "#d8576b"
            ],
            [
             0.6666666666666666,
             "#ed7953"
            ],
            [
             0.7777777777777778,
             "#fb9f3a"
            ],
            [
             0.8888888888888888,
             "#fdca26"
            ],
            [
             1,
             "#f0f921"
            ]
           ]
          },
          "colorway": [
           "#636efa",
           "#EF553B",
           "#00cc96",
           "#ab63fa",
           "#FFA15A",
           "#19d3f3",
           "#FF6692",
           "#B6E880",
           "#FF97FF",
           "#FECB52"
          ],
          "font": {
           "color": "#f2f5fa"
          },
          "geo": {
           "bgcolor": "rgb(17,17,17)",
           "lakecolor": "rgb(17,17,17)",
           "landcolor": "rgb(17,17,17)",
           "showlakes": true,
           "showland": true,
           "subunitcolor": "#506784"
          },
          "hoverlabel": {
           "align": "left"
          },
          "hovermode": "closest",
          "mapbox": {
           "style": "dark"
          },
          "paper_bgcolor": "rgb(17,17,17)",
          "plot_bgcolor": "rgb(17,17,17)",
          "polar": {
           "angularaxis": {
            "gridcolor": "#506784",
            "linecolor": "#506784",
            "ticks": ""
           },
           "bgcolor": "rgb(17,17,17)",
           "radialaxis": {
            "gridcolor": "#506784",
            "linecolor": "#506784",
            "ticks": ""
           }
          },
          "scene": {
           "xaxis": {
            "backgroundcolor": "rgb(17,17,17)",
            "gridcolor": "#506784",
            "gridwidth": 2,
            "linecolor": "#506784",
            "showbackground": true,
            "ticks": "",
            "zerolinecolor": "#C8D4E3"
           },
           "yaxis": {
            "backgroundcolor": "rgb(17,17,17)",
            "gridcolor": "#506784",
            "gridwidth": 2,
            "linecolor": "#506784",
            "showbackground": true,
            "ticks": "",
            "zerolinecolor": "#C8D4E3"
           },
           "zaxis": {
            "backgroundcolor": "rgb(17,17,17)",
            "gridcolor": "#506784",
            "gridwidth": 2,
            "linecolor": "#506784",
            "showbackground": true,
            "ticks": "",
            "zerolinecolor": "#C8D4E3"
           }
          },
          "shapedefaults": {
           "line": {
            "color": "#f2f5fa"
           }
          },
          "sliderdefaults": {
           "bgcolor": "#C8D4E3",
           "bordercolor": "rgb(17,17,17)",
           "borderwidth": 1,
           "tickwidth": 0
          },
          "ternary": {
           "aaxis": {
            "gridcolor": "#506784",
            "linecolor": "#506784",
            "ticks": ""
           },
           "baxis": {
            "gridcolor": "#506784",
            "linecolor": "#506784",
            "ticks": ""
           },
           "bgcolor": "rgb(17,17,17)",
           "caxis": {
            "gridcolor": "#506784",
            "linecolor": "#506784",
            "ticks": ""
           }
          },
          "title": {
           "x": 0.05
          },
          "updatemenudefaults": {
           "bgcolor": "#506784",
           "borderwidth": 0
          },
          "xaxis": {
           "automargin": true,
           "gridcolor": "#283442",
           "linecolor": "#506784",
           "ticks": "",
           "title": {
            "standoff": 15
           },
           "zerolinecolor": "#283442",
           "zerolinewidth": 2
          },
          "yaxis": {
           "automargin": true,
           "gridcolor": "#283442",
           "linecolor": "#506784",
           "ticks": "",
           "title": {
            "standoff": 15
           },
           "zerolinecolor": "#283442",
           "zerolinewidth": 2
          }
         }
        },
        "title": {
         "text": "SỐ CA MẮC MỚI MỖI THÁNG CỦA 2 BIẾN CHỦNG"
        }
       }
      }
     },
     "metadata": {},
     "output_type": "display_data"
    }
   ],
   "source": [
    "plot_ticks(covid_compare, \"Month_Years\", \"NewCases\", 'SỐ CA MẮC MỚI MỖI THÁNG CỦA 2 BIẾN CHỦNG', is_group=True)"
   ]
  },
  {
   "cell_type": "code",
   "execution_count": 309,
   "metadata": {},
   "outputs": [
    {
     "data": {
      "application/vnd.plotly.v1+json": {
       "config": {
        "plotlyServerURL": "https://plot.ly"
       },
       "data": [
        {
         "marker": {
          "color": "red"
         },
         "name": "Delta",
         "type": "bar",
         "uid": "25339245-97dd-431e-adb3-e42beb8b219d",
         "x": [
          "2020-12",
          "2021-01",
          "2021-02",
          "2021-03",
          "2021-04",
          "2021-05",
          "2021-06",
          "2021-07",
          "2021-08",
          "2021-09",
          "2021-10"
         ],
         "y": [
          355839,
          417336,
          310946,
          300481,
          379072,
          379115,
          271384,
          261386,
          300073,
          264631,
          216745
         ]
        },
        {
         "marker": {
          "color": "greenyellow"
         },
         "name": "Omicron",
         "type": "bar",
         "uid": "c6238cef-1c9f-4f73-9ddd-f51eba5b7731",
         "x": [
          "2021-11",
          "2021-12",
          "2022-01",
          "2022-02"
         ],
         "y": [
          216090,
          221599,
          237032,
          277733
         ]
        }
       ],
       "layout": {
        "template": {
         "data": {
          "bar": [
           {
            "error_x": {
             "color": "#f2f5fa"
            },
            "error_y": {
             "color": "#f2f5fa"
            },
            "marker": {
             "line": {
              "color": "rgb(17,17,17)",
              "width": 0.5
             },
             "pattern": {
              "fillmode": "overlay",
              "size": 10,
              "solidity": 0.2
             }
            },
            "type": "bar"
           }
          ],
          "barpolar": [
           {
            "marker": {
             "line": {
              "color": "rgb(17,17,17)",
              "width": 0.5
             },
             "pattern": {
              "fillmode": "overlay",
              "size": 10,
              "solidity": 0.2
             }
            },
            "type": "barpolar"
           }
          ],
          "carpet": [
           {
            "aaxis": {
             "endlinecolor": "#A2B1C6",
             "gridcolor": "#506784",
             "linecolor": "#506784",
             "minorgridcolor": "#506784",
             "startlinecolor": "#A2B1C6"
            },
            "baxis": {
             "endlinecolor": "#A2B1C6",
             "gridcolor": "#506784",
             "linecolor": "#506784",
             "minorgridcolor": "#506784",
             "startlinecolor": "#A2B1C6"
            },
            "type": "carpet"
           }
          ],
          "choropleth": [
           {
            "colorbar": {
             "outlinewidth": 0,
             "ticks": ""
            },
            "type": "choropleth"
           }
          ],
          "contour": [
           {
            "colorbar": {
             "outlinewidth": 0,
             "ticks": ""
            },
            "colorscale": [
             [
              0,
              "#0d0887"
             ],
             [
              0.1111111111111111,
              "#46039f"
             ],
             [
              0.2222222222222222,
              "#7201a8"
             ],
             [
              0.3333333333333333,
              "#9c179e"
             ],
             [
              0.4444444444444444,
              "#bd3786"
             ],
             [
              0.5555555555555556,
              "#d8576b"
             ],
             [
              0.6666666666666666,
              "#ed7953"
             ],
             [
              0.7777777777777778,
              "#fb9f3a"
             ],
             [
              0.8888888888888888,
              "#fdca26"
             ],
             [
              1,
              "#f0f921"
             ]
            ],
            "type": "contour"
           }
          ],
          "contourcarpet": [
           {
            "colorbar": {
             "outlinewidth": 0,
             "ticks": ""
            },
            "type": "contourcarpet"
           }
          ],
          "heatmap": [
           {
            "colorbar": {
             "outlinewidth": 0,
             "ticks": ""
            },
            "colorscale": [
             [
              0,
              "#0d0887"
             ],
             [
              0.1111111111111111,
              "#46039f"
             ],
             [
              0.2222222222222222,
              "#7201a8"
             ],
             [
              0.3333333333333333,
              "#9c179e"
             ],
             [
              0.4444444444444444,
              "#bd3786"
             ],
             [
              0.5555555555555556,
              "#d8576b"
             ],
             [
              0.6666666666666666,
              "#ed7953"
             ],
             [
              0.7777777777777778,
              "#fb9f3a"
             ],
             [
              0.8888888888888888,
              "#fdca26"
             ],
             [
              1,
              "#f0f921"
             ]
            ],
            "type": "heatmap"
           }
          ],
          "heatmapgl": [
           {
            "colorbar": {
             "outlinewidth": 0,
             "ticks": ""
            },
            "colorscale": [
             [
              0,
              "#0d0887"
             ],
             [
              0.1111111111111111,
              "#46039f"
             ],
             [
              0.2222222222222222,
              "#7201a8"
             ],
             [
              0.3333333333333333,
              "#9c179e"
             ],
             [
              0.4444444444444444,
              "#bd3786"
             ],
             [
              0.5555555555555556,
              "#d8576b"
             ],
             [
              0.6666666666666666,
              "#ed7953"
             ],
             [
              0.7777777777777778,
              "#fb9f3a"
             ],
             [
              0.8888888888888888,
              "#fdca26"
             ],
             [
              1,
              "#f0f921"
             ]
            ],
            "type": "heatmapgl"
           }
          ],
          "histogram": [
           {
            "marker": {
             "pattern": {
              "fillmode": "overlay",
              "size": 10,
              "solidity": 0.2
             }
            },
            "type": "histogram"
           }
          ],
          "histogram2d": [
           {
            "colorbar": {
             "outlinewidth": 0,
             "ticks": ""
            },
            "colorscale": [
             [
              0,
              "#0d0887"
             ],
             [
              0.1111111111111111,
              "#46039f"
             ],
             [
              0.2222222222222222,
              "#7201a8"
             ],
             [
              0.3333333333333333,
              "#9c179e"
             ],
             [
              0.4444444444444444,
              "#bd3786"
             ],
             [
              0.5555555555555556,
              "#d8576b"
             ],
             [
              0.6666666666666666,
              "#ed7953"
             ],
             [
              0.7777777777777778,
              "#fb9f3a"
             ],
             [
              0.8888888888888888,
              "#fdca26"
             ],
             [
              1,
              "#f0f921"
             ]
            ],
            "type": "histogram2d"
           }
          ],
          "histogram2dcontour": [
           {
            "colorbar": {
             "outlinewidth": 0,
             "ticks": ""
            },
            "colorscale": [
             [
              0,
              "#0d0887"
             ],
             [
              0.1111111111111111,
              "#46039f"
             ],
             [
              0.2222222222222222,
              "#7201a8"
             ],
             [
              0.3333333333333333,
              "#9c179e"
             ],
             [
              0.4444444444444444,
              "#bd3786"
             ],
             [
              0.5555555555555556,
              "#d8576b"
             ],
             [
              0.6666666666666666,
              "#ed7953"
             ],
             [
              0.7777777777777778,
              "#fb9f3a"
             ],
             [
              0.8888888888888888,
              "#fdca26"
             ],
             [
              1,
              "#f0f921"
             ]
            ],
            "type": "histogram2dcontour"
           }
          ],
          "mesh3d": [
           {
            "colorbar": {
             "outlinewidth": 0,
             "ticks": ""
            },
            "type": "mesh3d"
           }
          ],
          "parcoords": [
           {
            "line": {
             "colorbar": {
              "outlinewidth": 0,
              "ticks": ""
             }
            },
            "type": "parcoords"
           }
          ],
          "pie": [
           {
            "automargin": true,
            "type": "pie"
           }
          ],
          "scatter": [
           {
            "marker": {
             "line": {
              "color": "#283442"
             }
            },
            "type": "scatter"
           }
          ],
          "scatter3d": [
           {
            "line": {
             "colorbar": {
              "outlinewidth": 0,
              "ticks": ""
             }
            },
            "marker": {
             "colorbar": {
              "outlinewidth": 0,
              "ticks": ""
             }
            },
            "type": "scatter3d"
           }
          ],
          "scattercarpet": [
           {
            "marker": {
             "colorbar": {
              "outlinewidth": 0,
              "ticks": ""
             }
            },
            "type": "scattercarpet"
           }
          ],
          "scattergeo": [
           {
            "marker": {
             "colorbar": {
              "outlinewidth": 0,
              "ticks": ""
             }
            },
            "type": "scattergeo"
           }
          ],
          "scattergl": [
           {
            "marker": {
             "line": {
              "color": "#283442"
             }
            },
            "type": "scattergl"
           }
          ],
          "scattermapbox": [
           {
            "marker": {
             "colorbar": {
              "outlinewidth": 0,
              "ticks": ""
             }
            },
            "type": "scattermapbox"
           }
          ],
          "scatterpolar": [
           {
            "marker": {
             "colorbar": {
              "outlinewidth": 0,
              "ticks": ""
             }
            },
            "type": "scatterpolar"
           }
          ],
          "scatterpolargl": [
           {
            "marker": {
             "colorbar": {
              "outlinewidth": 0,
              "ticks": ""
             }
            },
            "type": "scatterpolargl"
           }
          ],
          "scatterternary": [
           {
            "marker": {
             "colorbar": {
              "outlinewidth": 0,
              "ticks": ""
             }
            },
            "type": "scatterternary"
           }
          ],
          "surface": [
           {
            "colorbar": {
             "outlinewidth": 0,
             "ticks": ""
            },
            "colorscale": [
             [
              0,
              "#0d0887"
             ],
             [
              0.1111111111111111,
              "#46039f"
             ],
             [
              0.2222222222222222,
              "#7201a8"
             ],
             [
              0.3333333333333333,
              "#9c179e"
             ],
             [
              0.4444444444444444,
              "#bd3786"
             ],
             [
              0.5555555555555556,
              "#d8576b"
             ],
             [
              0.6666666666666666,
              "#ed7953"
             ],
             [
              0.7777777777777778,
              "#fb9f3a"
             ],
             [
              0.8888888888888888,
              "#fdca26"
             ],
             [
              1,
              "#f0f921"
             ]
            ],
            "type": "surface"
           }
          ],
          "table": [
           {
            "cells": {
             "fill": {
              "color": "#506784"
             },
             "line": {
              "color": "rgb(17,17,17)"
             }
            },
            "header": {
             "fill": {
              "color": "#2a3f5f"
             },
             "line": {
              "color": "rgb(17,17,17)"
             }
            },
            "type": "table"
           }
          ]
         },
         "layout": {
          "annotationdefaults": {
           "arrowcolor": "#f2f5fa",
           "arrowhead": 0,
           "arrowwidth": 1
          },
          "autotypenumbers": "strict",
          "coloraxis": {
           "colorbar": {
            "outlinewidth": 0,
            "ticks": ""
           }
          },
          "colorscale": {
           "diverging": [
            [
             0,
             "#8e0152"
            ],
            [
             0.1,
             "#c51b7d"
            ],
            [
             0.2,
             "#de77ae"
            ],
            [
             0.3,
             "#f1b6da"
            ],
            [
             0.4,
             "#fde0ef"
            ],
            [
             0.5,
             "#f7f7f7"
            ],
            [
             0.6,
             "#e6f5d0"
            ],
            [
             0.7,
             "#b8e186"
            ],
            [
             0.8,
             "#7fbc41"
            ],
            [
             0.9,
             "#4d9221"
            ],
            [
             1,
             "#276419"
            ]
           ],
           "sequential": [
            [
             0,
             "#0d0887"
            ],
            [
             0.1111111111111111,
             "#46039f"
            ],
            [
             0.2222222222222222,
             "#7201a8"
            ],
            [
             0.3333333333333333,
             "#9c179e"
            ],
            [
             0.4444444444444444,
             "#bd3786"
            ],
            [
             0.5555555555555556,
             "#d8576b"
            ],
            [
             0.6666666666666666,
             "#ed7953"
            ],
            [
             0.7777777777777778,
             "#fb9f3a"
            ],
            [
             0.8888888888888888,
             "#fdca26"
            ],
            [
             1,
             "#f0f921"
            ]
           ],
           "sequentialminus": [
            [
             0,
             "#0d0887"
            ],
            [
             0.1111111111111111,
             "#46039f"
            ],
            [
             0.2222222222222222,
             "#7201a8"
            ],
            [
             0.3333333333333333,
             "#9c179e"
            ],
            [
             0.4444444444444444,
             "#bd3786"
            ],
            [
             0.5555555555555556,
             "#d8576b"
            ],
            [
             0.6666666666666666,
             "#ed7953"
            ],
            [
             0.7777777777777778,
             "#fb9f3a"
            ],
            [
             0.8888888888888888,
             "#fdca26"
            ],
            [
             1,
             "#f0f921"
            ]
           ]
          },
          "colorway": [
           "#636efa",
           "#EF553B",
           "#00cc96",
           "#ab63fa",
           "#FFA15A",
           "#19d3f3",
           "#FF6692",
           "#B6E880",
           "#FF97FF",
           "#FECB52"
          ],
          "font": {
           "color": "#f2f5fa"
          },
          "geo": {
           "bgcolor": "rgb(17,17,17)",
           "lakecolor": "rgb(17,17,17)",
           "landcolor": "rgb(17,17,17)",
           "showlakes": true,
           "showland": true,
           "subunitcolor": "#506784"
          },
          "hoverlabel": {
           "align": "left"
          },
          "hovermode": "closest",
          "mapbox": {
           "style": "dark"
          },
          "paper_bgcolor": "rgb(17,17,17)",
          "plot_bgcolor": "rgb(17,17,17)",
          "polar": {
           "angularaxis": {
            "gridcolor": "#506784",
            "linecolor": "#506784",
            "ticks": ""
           },
           "bgcolor": "rgb(17,17,17)",
           "radialaxis": {
            "gridcolor": "#506784",
            "linecolor": "#506784",
            "ticks": ""
           }
          },
          "scene": {
           "xaxis": {
            "backgroundcolor": "rgb(17,17,17)",
            "gridcolor": "#506784",
            "gridwidth": 2,
            "linecolor": "#506784",
            "showbackground": true,
            "ticks": "",
            "zerolinecolor": "#C8D4E3"
           },
           "yaxis": {
            "backgroundcolor": "rgb(17,17,17)",
            "gridcolor": "#506784",
            "gridwidth": 2,
            "linecolor": "#506784",
            "showbackground": true,
            "ticks": "",
            "zerolinecolor": "#C8D4E3"
           },
           "zaxis": {
            "backgroundcolor": "rgb(17,17,17)",
            "gridcolor": "#506784",
            "gridwidth": 2,
            "linecolor": "#506784",
            "showbackground": true,
            "ticks": "",
            "zerolinecolor": "#C8D4E3"
           }
          },
          "shapedefaults": {
           "line": {
            "color": "#f2f5fa"
           }
          },
          "sliderdefaults": {
           "bgcolor": "#C8D4E3",
           "bordercolor": "rgb(17,17,17)",
           "borderwidth": 1,
           "tickwidth": 0
          },
          "ternary": {
           "aaxis": {
            "gridcolor": "#506784",
            "linecolor": "#506784",
            "ticks": ""
           },
           "baxis": {
            "gridcolor": "#506784",
            "linecolor": "#506784",
            "ticks": ""
           },
           "bgcolor": "rgb(17,17,17)",
           "caxis": {
            "gridcolor": "#506784",
            "linecolor": "#506784",
            "ticks": ""
           }
          },
          "title": {
           "x": 0.05
          },
          "updatemenudefaults": {
           "bgcolor": "#506784",
           "borderwidth": 0
          },
          "xaxis": {
           "automargin": true,
           "gridcolor": "#283442",
           "linecolor": "#506784",
           "ticks": "",
           "title": {
            "standoff": 15
           },
           "zerolinecolor": "#283442",
           "zerolinewidth": 2
          },
          "yaxis": {
           "automargin": true,
           "gridcolor": "#283442",
           "linecolor": "#506784",
           "ticks": "",
           "title": {
            "standoff": 15
           },
           "zerolinecolor": "#283442",
           "zerolinewidth": 2
          }
         }
        },
        "title": {
         "text": "SỐ CA TỬ VONG MỚI MỖI THÁNG CỦA 2 BIẾN CHỦNG"
        }
       }
      }
     },
     "metadata": {},
     "output_type": "display_data"
    }
   ],
   "source": [
    "plot_ticks(covid_compare, \"Month_Years\", \"NewDeaths\", 'SỐ CA TỬ VONG MỚI MỖI THÁNG CỦA 2 BIẾN CHỦNG', is_group=True)"
   ]
  },
  {
   "cell_type": "markdown",
   "metadata": {},
   "source": [
    "**Theo biểu đồ**\n",
    "- **Do bảng số liệu chỉ lấy những ngày đầu tháng 3/2022 nên nhóm xin phép bỏ qua tháng 3, chỉ lấy số liệu đến tháng 2/2022 để rút ra kết luận**\n",
    "\n",
    "- **Chỉ mới xuất hiện tháng 11/2021 nhưng số ca mắc mới hàng tháng của biến chủng `OMICRON` lại tăng một cách không kiếm soát được. Số ca mắc của biến chủng này nhìn chung cao hơn rất nhiều so với biến chủng `DELTA` trước đó.**\n",
    "\n",
    "- **Tuy nhiên, số ca tử vong mới hàng tháng của biến chủng `OMICRON` có phần ít hơn biến chủng `DELTA` , mặc dù biến chủng này xuất hiện sau và số ca mắc đang có xu hướng tăng lên theo mỗi tháng.**"
   ]
  },
  {
   "cell_type": "markdown",
   "metadata": {},
   "source": [
    "**Ta sẽ xem xét mối quan hệ giữa 2 biến số `NewCases` và `NewDeaths` để có thể đưa ra nhận xét xem số ca tử vong mới có tăng lên khi số ca mắc mới lần lượt tăng của cả hai biến thể bằng biểu đồ `Scatter`**"
   ]
  },
  {
   "cell_type": "code",
   "execution_count": 310,
   "metadata": {},
   "outputs": [
    {
     "data": {
      "application/vnd.plotly.v1+json": {
       "config": {
        "plotlyServerURL": "https://plot.ly"
       },
       "data": [
        {
         "hovertemplate": "<b>%{hovertext}</b><br><br>NewCases=%{x}<br>NewDeaths=%{marker.color}<extra></extra>",
         "hovertext": [
          "2020-12-01T00:00:00",
          "2020-12-02T00:00:00",
          "2020-12-03T00:00:00",
          "2020-12-04T00:00:00",
          "2020-12-05T00:00:00",
          "2020-12-06T00:00:00",
          "2020-12-07T00:00:00",
          "2020-12-08T00:00:00",
          "2020-12-09T00:00:00",
          "2020-12-10T00:00:00",
          "2020-12-11T00:00:00",
          "2020-12-12T00:00:00",
          "2020-12-13T00:00:00",
          "2020-12-14T00:00:00",
          "2020-12-15T00:00:00",
          "2020-12-16T00:00:00",
          "2020-12-17T00:00:00",
          "2020-12-18T00:00:00",
          "2020-12-19T00:00:00",
          "2020-12-20T00:00:00",
          "2020-12-21T00:00:00",
          "2020-12-22T00:00:00",
          "2020-12-23T00:00:00",
          "2020-12-24T00:00:00",
          "2020-12-25T00:00:00",
          "2020-12-26T00:00:00",
          "2020-12-27T00:00:00",
          "2020-12-28T00:00:00",
          "2020-12-29T00:00:00",
          "2020-12-30T00:00:00",
          "2020-12-31T00:00:00",
          "2021-01-01T00:00:00",
          "2021-01-02T00:00:00",
          "2021-01-03T00:00:00",
          "2021-01-04T00:00:00",
          "2021-01-05T00:00:00",
          "2021-01-06T00:00:00",
          "2021-01-07T00:00:00",
          "2021-01-08T00:00:00",
          "2021-01-09T00:00:00",
          "2021-01-10T00:00:00",
          "2021-01-11T00:00:00",
          "2021-01-12T00:00:00",
          "2021-01-13T00:00:00",
          "2021-01-14T00:00:00",
          "2021-01-15T00:00:00",
          "2021-01-16T00:00:00",
          "2021-01-17T00:00:00",
          "2021-01-18T00:00:00",
          "2021-01-19T00:00:00",
          "2021-01-20T00:00:00",
          "2021-01-21T00:00:00",
          "2021-01-22T00:00:00",
          "2021-01-23T00:00:00",
          "2021-01-24T00:00:00",
          "2021-01-25T00:00:00",
          "2021-01-26T00:00:00",
          "2021-01-27T00:00:00",
          "2021-01-28T00:00:00",
          "2021-01-29T00:00:00",
          "2021-01-30T00:00:00",
          "2021-01-31T00:00:00",
          "2021-02-01T00:00:00",
          "2021-02-02T00:00:00",
          "2021-02-03T00:00:00",
          "2021-02-04T00:00:00",
          "2021-02-05T00:00:00",
          "2021-02-06T00:00:00",
          "2021-02-07T00:00:00",
          "2021-02-08T00:00:00",
          "2021-02-09T00:00:00",
          "2021-02-10T00:00:00",
          "2021-02-11T00:00:00",
          "2021-02-12T00:00:00",
          "2021-02-13T00:00:00",
          "2021-02-14T00:00:00",
          "2021-02-15T00:00:00",
          "2021-02-16T00:00:00",
          "2021-02-17T00:00:00",
          "2021-02-18T00:00:00",
          "2021-02-19T00:00:00",
          "2021-02-20T00:00:00",
          "2021-02-21T00:00:00",
          "2021-02-22T00:00:00",
          "2021-02-23T00:00:00",
          "2021-02-24T00:00:00",
          "2021-02-25T00:00:00",
          "2021-02-26T00:00:00",
          "2021-02-27T00:00:00",
          "2021-02-28T00:00:00",
          "2021-03-01T00:00:00",
          "2021-03-02T00:00:00",
          "2021-03-03T00:00:00",
          "2021-03-04T00:00:00",
          "2021-03-05T00:00:00",
          "2021-03-06T00:00:00",
          "2021-03-07T00:00:00",
          "2021-03-08T00:00:00",
          "2021-03-09T00:00:00",
          "2021-03-10T00:00:00",
          "2021-03-11T00:00:00",
          "2021-03-12T00:00:00",
          "2021-03-13T00:00:00",
          "2021-03-14T00:00:00",
          "2021-03-15T00:00:00",
          "2021-03-16T00:00:00",
          "2021-03-17T00:00:00",
          "2021-03-18T00:00:00",
          "2021-03-19T00:00:00",
          "2021-03-20T00:00:00",
          "2021-03-21T00:00:00",
          "2021-03-22T00:00:00",
          "2021-03-23T00:00:00",
          "2021-03-24T00:00:00",
          "2021-03-25T00:00:00",
          "2021-03-26T00:00:00",
          "2021-03-27T00:00:00",
          "2021-03-28T00:00:00",
          "2021-03-29T00:00:00",
          "2021-03-30T00:00:00",
          "2021-03-31T00:00:00",
          "2021-04-01T00:00:00",
          "2021-04-02T00:00:00",
          "2021-04-03T00:00:00",
          "2021-04-04T00:00:00",
          "2021-04-05T00:00:00",
          "2021-04-06T00:00:00",
          "2021-04-07T00:00:00",
          "2021-04-08T00:00:00",
          "2021-04-09T00:00:00",
          "2021-04-10T00:00:00",
          "2021-04-11T00:00:00",
          "2021-04-12T00:00:00",
          "2021-04-13T00:00:00",
          "2021-04-14T00:00:00",
          "2021-04-15T00:00:00",
          "2021-04-16T00:00:00",
          "2021-04-17T00:00:00",
          "2021-04-18T00:00:00",
          "2021-04-19T00:00:00",
          "2021-04-20T00:00:00",
          "2021-04-21T00:00:00",
          "2021-04-22T00:00:00",
          "2021-04-23T00:00:00",
          "2021-04-24T00:00:00",
          "2021-04-25T00:00:00",
          "2021-04-26T00:00:00",
          "2021-04-27T00:00:00",
          "2021-04-28T00:00:00",
          "2021-04-29T00:00:00",
          "2021-04-30T00:00:00",
          "2021-05-01T00:00:00",
          "2021-05-02T00:00:00",
          "2021-05-03T00:00:00",
          "2021-05-04T00:00:00",
          "2021-05-05T00:00:00",
          "2021-05-06T00:00:00",
          "2021-05-07T00:00:00",
          "2021-05-08T00:00:00",
          "2021-05-09T00:00:00",
          "2021-05-10T00:00:00",
          "2021-05-11T00:00:00",
          "2021-05-12T00:00:00",
          "2021-05-13T00:00:00",
          "2021-05-14T00:00:00",
          "2021-05-15T00:00:00",
          "2021-05-16T00:00:00",
          "2021-05-17T00:00:00",
          "2021-05-18T00:00:00",
          "2021-05-19T00:00:00",
          "2021-05-20T00:00:00",
          "2021-05-21T00:00:00",
          "2021-05-22T00:00:00",
          "2021-05-23T00:00:00",
          "2021-05-24T00:00:00",
          "2021-05-25T00:00:00",
          "2021-05-26T00:00:00",
          "2021-05-27T00:00:00",
          "2021-05-28T00:00:00",
          "2021-05-29T00:00:00",
          "2021-05-30T00:00:00",
          "2021-05-31T00:00:00",
          "2021-06-01T00:00:00",
          "2021-06-02T00:00:00",
          "2021-06-03T00:00:00",
          "2021-06-04T00:00:00",
          "2021-06-05T00:00:00",
          "2021-06-06T00:00:00",
          "2021-06-07T00:00:00",
          "2021-06-08T00:00:00",
          "2021-06-09T00:00:00",
          "2021-06-10T00:00:00",
          "2021-06-11T00:00:00",
          "2021-06-12T00:00:00",
          "2021-06-13T00:00:00",
          "2021-06-14T00:00:00",
          "2021-06-15T00:00:00",
          "2021-06-16T00:00:00",
          "2021-06-17T00:00:00",
          "2021-06-18T00:00:00",
          "2021-06-19T00:00:00",
          "2021-06-20T00:00:00",
          "2021-06-21T00:00:00",
          "2021-06-22T00:00:00",
          "2021-06-23T00:00:00",
          "2021-06-24T00:00:00",
          "2021-06-25T00:00:00",
          "2021-06-26T00:00:00",
          "2021-06-27T00:00:00",
          "2021-06-28T00:00:00",
          "2021-06-29T00:00:00",
          "2021-06-30T00:00:00",
          "2021-07-01T00:00:00",
          "2021-07-02T00:00:00",
          "2021-07-03T00:00:00",
          "2021-07-04T00:00:00",
          "2021-07-05T00:00:00",
          "2021-07-06T00:00:00",
          "2021-07-07T00:00:00",
          "2021-07-08T00:00:00",
          "2021-07-09T00:00:00",
          "2021-07-10T00:00:00",
          "2021-07-11T00:00:00",
          "2021-07-12T00:00:00",
          "2021-07-13T00:00:00",
          "2021-07-14T00:00:00",
          "2021-07-15T00:00:00",
          "2021-07-16T00:00:00",
          "2021-07-17T00:00:00",
          "2021-07-18T00:00:00",
          "2021-07-19T00:00:00",
          "2021-07-20T00:00:00",
          "2021-07-21T00:00:00",
          "2021-07-22T00:00:00",
          "2021-07-23T00:00:00",
          "2021-07-24T00:00:00",
          "2021-07-25T00:00:00",
          "2021-07-26T00:00:00",
          "2021-07-27T00:00:00",
          "2021-07-28T00:00:00",
          "2021-07-29T00:00:00",
          "2021-07-30T00:00:00",
          "2021-07-31T00:00:00",
          "2021-08-01T00:00:00",
          "2021-08-02T00:00:00",
          "2021-08-03T00:00:00",
          "2021-08-04T00:00:00",
          "2021-08-05T00:00:00",
          "2021-08-06T00:00:00",
          "2021-08-07T00:00:00",
          "2021-08-08T00:00:00",
          "2021-08-09T00:00:00",
          "2021-08-10T00:00:00",
          "2021-08-11T00:00:00",
          "2021-08-12T00:00:00",
          "2021-08-13T00:00:00",
          "2021-08-14T00:00:00",
          "2021-08-15T00:00:00",
          "2021-08-16T00:00:00",
          "2021-08-17T00:00:00",
          "2021-08-18T00:00:00",
          "2021-08-19T00:00:00",
          "2021-08-20T00:00:00",
          "2021-08-21T00:00:00",
          "2021-08-22T00:00:00",
          "2021-08-23T00:00:00",
          "2021-08-24T00:00:00",
          "2021-08-25T00:00:00",
          "2021-08-26T00:00:00",
          "2021-08-27T00:00:00",
          "2021-08-28T00:00:00",
          "2021-08-29T00:00:00",
          "2021-08-30T00:00:00",
          "2021-08-31T00:00:00",
          "2021-09-01T00:00:00",
          "2021-09-02T00:00:00",
          "2021-09-03T00:00:00",
          "2021-09-04T00:00:00",
          "2021-09-05T00:00:00",
          "2021-09-06T00:00:00",
          "2021-09-07T00:00:00",
          "2021-09-08T00:00:00",
          "2021-09-09T00:00:00",
          "2021-09-10T00:00:00",
          "2021-09-11T00:00:00",
          "2021-09-12T00:00:00",
          "2021-09-13T00:00:00",
          "2021-09-14T00:00:00",
          "2021-09-15T00:00:00",
          "2021-09-16T00:00:00",
          "2021-09-17T00:00:00",
          "2021-09-18T00:00:00",
          "2021-09-19T00:00:00",
          "2021-09-20T00:00:00",
          "2021-09-21T00:00:00",
          "2021-09-22T00:00:00",
          "2021-09-23T00:00:00",
          "2021-09-24T00:00:00",
          "2021-09-25T00:00:00",
          "2021-09-26T00:00:00",
          "2021-09-27T00:00:00",
          "2021-09-28T00:00:00",
          "2021-09-29T00:00:00",
          "2021-09-30T00:00:00",
          "2021-10-01T00:00:00",
          "2021-10-02T00:00:00",
          "2021-10-03T00:00:00",
          "2021-10-04T00:00:00",
          "2021-10-05T00:00:00",
          "2021-10-06T00:00:00",
          "2021-10-07T00:00:00",
          "2021-10-08T00:00:00",
          "2021-10-09T00:00:00",
          "2021-10-10T00:00:00",
          "2021-10-11T00:00:00",
          "2021-10-12T00:00:00",
          "2021-10-13T00:00:00",
          "2021-10-14T00:00:00",
          "2021-10-15T00:00:00",
          "2021-10-16T00:00:00",
          "2021-10-17T00:00:00",
          "2021-10-18T00:00:00",
          "2021-10-19T00:00:00",
          "2021-10-20T00:00:00",
          "2021-10-21T00:00:00",
          "2021-10-22T00:00:00",
          "2021-10-23T00:00:00",
          "2021-10-24T00:00:00",
          "2021-10-25T00:00:00",
          "2021-10-26T00:00:00",
          "2021-10-27T00:00:00",
          "2021-10-28T00:00:00",
          "2021-10-29T00:00:00",
          "2021-10-30T00:00:00",
          "2021-10-31T00:00:00"
         ],
         "legendgroup": "",
         "marker": {
          "color": [
           12759,
           12643,
           12600,
           12460,
           10337,
           7729,
           8714,
           12317,
           12670,
           12665,
           13065,
           10759,
           7827,
           9172,
           13776,
           13879,
           13384,
           12938,
           10971,
           8122,
           9568,
           14202,
           13803,
           11823,
           8729,
           7571,
           7750,
           9621,
           15100,
           15633,
           13252,
           9713,
           8472,
           7651,
           10058,
           15476,
           15069,
           15152,
           15397,
           12847,
           8831,
           10081,
           17168,
           16873,
           15471,
           15022,
           13716,
           9085,
           9771,
           16610,
           18020,
           17155,
           16060,
           13921,
           9197,
           11026,
           17445,
           17355,
           17029,
           15388,
           13506,
           8771,
           10353,
           15416,
           16035,
           13001,
           17138,
           11400,
           7298,
           9491,
           15431,
           14035,
           13779,
           13028,
           10419,
           6649,
           7479,
           11352,
           11963,
           11920,
           11692,
           8751,
           6518,
           7374,
           11685,
           12532,
           10657,
           10793,
           8493,
           6264,
           7701,
           10426,
           11764,
           10407,
           10515,
           8097,
           5895,
           7254,
           10614,
           10233,
           10198,
           9885,
           8403,
           5861,
           7664,
           10647,
           10599,
           10736,
           10830,
           8683,
           8470,
           8060,
           11488,
           10740,
           11525,
           12759,
           10148,
           7213,
           8764,
           12022,
           12880,
           12342,
           10532,
           9282,
           7357,
           8273,
           12496,
           15589,
           14339,
           14325,
           12859,
           9079,
           10092,
           13867,
           14050,
           13607,
           13359,
           12468,
           9107,
           11326,
           14353,
           14659,
           13888,
           15301,
           12961,
           10685,
           11868,
           14989,
           15923,
           15754,
           14342,
           12907,
           10277,
           11874,
           14088,
           14840,
           14646,
           14481,
           13196,
           10329,
           11293,
           14181,
           13950,
           13588,
           12992,
           12161,
           10260,
           11471,
           14142,
           13441,
           13165,
           12924,
           11343,
           9781,
           9115,
           13203,
           12787,
           12856,
           11986,
           10701,
           8344,
           8793,
           10973,
           11885,
           10092,
           10684,
           9347,
           7226,
           8169,
           10628,
           10136,
           8607,
           11770,
           9695,
           9253,
           8061,
           10795,
           10024,
           9302,
           9214,
           8077,
           6726,
           7049,
           8928,
           9396,
           8622,
           9237,
           7470,
           6073,
           6596,
           8150,
           9199,
           8556,
           8294,
           6907,
           6612,
           7387,
           8509,
           8521,
           8930,
           8355,
           7263,
           7601,
           8091,
           8384,
           8618,
           8589,
           8651,
           7495,
           6628,
           7169,
           11928,
           8675,
           8774,
           8298,
           8682,
           7320,
           8451,
           9831,
           10255,
           10251,
           9555,
           8806,
           7358,
           8070,
           10417,
           10500,
           10941,
           10472,
           8649,
           7431,
           8750,
           11619,
           10508,
           10495,
           10457,
           8712,
           7394,
           9795,
           10769,
           10787,
           11436,
           10510,
           8881,
           7664,
           10015,
           11048,
           11282,
           11619,
           10337,
           8421,
           6715,
           9537,
           9484,
           12498,
           11183,
           10718,
           7721,
           6459,
           8035,
           10485,
           10053,
           10828,
           9140,
           8327,
           5551,
           9088,
           9953,
           10478,
           10469,
           9047,
           6500,
           5961,
           8218,
           9328,
           9943,
           9781,
           8725,
           5434,
           5433,
           7751,
           9422,
           9269,
           8833,
           8607,
           5878,
           4244,
           7167,
           7429,
           9141,
           8962,
           7776,
           4857,
           4669,
           5745,
           8122,
           8857,
           7984,
           7233,
           5282,
           4274,
           6454,
           8245,
           8691,
           7704,
           8191,
           5823,
           4516,
           6643,
           7915,
           9178,
           8801,
           7873,
           6001,
           4483
          ],
          "coloraxis": "coloraxis",
          "symbol": "circle"
         },
         "mode": "markers",
         "name": "",
         "orientation": "v",
         "showlegend": false,
         "type": "scatter",
         "x": [
          623828,
          646764,
          692160,
          688697,
          648934,
          536299,
          527640,
          643258,
          674732,
          679724,
          707122,
          641449,
          534222,
          543390,
          663527,
          725238,
          741142,
          723922,
          619346,
          537711,
          552687,
          665952,
          692807,
          688172,
          489195,
          515361,
          411392,
          501799,
          673644,
          736808,
          827634,
          574155,
          589174,
          520877,
          558845,
          745033,
          796903,
          891308,
          824282,
          754630,
          587925,
          612887,
          704968,
          750493,
          756188,
          773518,
          651775,
          527259,
          519452,
          591643,
          701100,
          655969,
          664125,
          572983,
          461122,
          480916,
          563317,
          604477,
          610188,
          591507,
          519234,
          387172,
          443175,
          467578,
          526826,
          471108,
          535378,
          433470,
          350905,
          339491,
          408258,
          442192,
          443801,
          430393,
          379004,
          307621,
          281191,
          361248,
          388374,
          410504,
          410229,
          373634,
          317935,
          295118,
          394554,
          447538,
          453067,
          441971,
          395722,
          307312,
          305649,
          389560,
          444298,
          458201,
          449263,
          413303,
          372836,
          303836,
          416798,
          470665,
          480877,
          490166,
          452622,
          362716,
          355005,
          470238,
          550817,
          547404,
          561953,
          496150,
          435153,
          424313,
          520866,
          639441,
          651355,
          639592,
          581483,
          475690,
          460902,
          575345,
          682297,
          708942,
          637820,
          525609,
          556866,
          494966,
          607014,
          684882,
          842852,
          750494,
          665300,
          692683,
          613355,
          783311,
          821435,
          816275,
          855381,
          789589,
          681309,
          694249,
          861185,
          888571,
          902252,
          902534,
          814937,
          724713,
          682649,
          854489,
          904603,
          894527,
          881653,
          794032,
          679159,
          686762,
          801886,
          846518,
          868954,
          831340,
          785875,
          636262,
          626118,
          739465,
          759373,
          731654,
          708774,
          630908,
          544863,
          543596,
          625356,
          673520,
          629259,
          625645,
          571692,
          479180,
          450704,
          534918,
          570349,
          547785,
          504368,
          479473,
          389099,
          386852,
          461324,
          487794,
          479794,
          424990,
          396714,
          322643,
          322082,
          371750,
          418529,
          453177,
          422142,
          368029,
          302411,
          309519,
          375539,
          388892,
          395684,
          403366,
          348193,
          303031,
          296851,
          410391,
          397119,
          408663,
          417739,
          363013,
          310726,
          333249,
          381100,
          399260,
          435424,
          442343,
          374043,
          327874,
          376660,
          451342,
          464924,
          481649,
          513789,
          421501,
          370142,
          433065,
          526116,
          538122,
          576027,
          595329,
          489600,
          421241,
          487613,
          532642,
          555062,
          565222,
          727961,
          490842,
          445145,
          540034,
          606988,
          649846,
          642927,
          731810,
          516272,
          481891,
          572138,
          634230,
          680924,
          684588,
          818927,
          560502,
          466838,
          620743,
          645972,
          729603,
          706654,
          801043,
          551571,
          466417,
          665791,
          681816,
          735598,
          711001,
          785826,
          554650,
          448584,
          687643,
          688092,
          732347,
          739199,
          741206,
          558250,
          445767,
          666781,
          634431,
          726061,
          674948,
          714607,
          495380,
          442346,
          448058,
          701644,
          629537,
          647199,
          639648,
          464452,
          373086,
          587344,
          550410,
          572039,
          584146,
          621984,
          400681,
          365622,
          525356,
          487230,
          540394,
          545718,
          550237,
          377817,
          357311,
          475360,
          454574,
          490640,
          489158,
          521146,
          353898,
          311898,
          438460,
          425784,
          508314,
          461184,
          475693,
          344337,
          319905,
          377869,
          441867,
          457896,
          453842,
          459287,
          347700,
          317645,
          413745,
          447141,
          478318,
          463666,
          488795,
          371622,
          316397,
          427568,
          449586,
          520080,
          463857,
          508971,
          389334,
          346340
         ],
         "xaxis": "x",
         "y": [
          12759,
          12643,
          12600,
          12460,
          10337,
          7729,
          8714,
          12317,
          12670,
          12665,
          13065,
          10759,
          7827,
          9172,
          13776,
          13879,
          13384,
          12938,
          10971,
          8122,
          9568,
          14202,
          13803,
          11823,
          8729,
          7571,
          7750,
          9621,
          15100,
          15633,
          13252,
          9713,
          8472,
          7651,
          10058,
          15476,
          15069,
          15152,
          15397,
          12847,
          8831,
          10081,
          17168,
          16873,
          15471,
          15022,
          13716,
          9085,
          9771,
          16610,
          18020,
          17155,
          16060,
          13921,
          9197,
          11026,
          17445,
          17355,
          17029,
          15388,
          13506,
          8771,
          10353,
          15416,
          16035,
          13001,
          17138,
          11400,
          7298,
          9491,
          15431,
          14035,
          13779,
          13028,
          10419,
          6649,
          7479,
          11352,
          11963,
          11920,
          11692,
          8751,
          6518,
          7374,
          11685,
          12532,
          10657,
          10793,
          8493,
          6264,
          7701,
          10426,
          11764,
          10407,
          10515,
          8097,
          5895,
          7254,
          10614,
          10233,
          10198,
          9885,
          8403,
          5861,
          7664,
          10647,
          10599,
          10736,
          10830,
          8683,
          8470,
          8060,
          11488,
          10740,
          11525,
          12759,
          10148,
          7213,
          8764,
          12022,
          12880,
          12342,
          10532,
          9282,
          7357,
          8273,
          12496,
          15589,
          14339,
          14325,
          12859,
          9079,
          10092,
          13867,
          14050,
          13607,
          13359,
          12468,
          9107,
          11326,
          14353,
          14659,
          13888,
          15301,
          12961,
          10685,
          11868,
          14989,
          15923,
          15754,
          14342,
          12907,
          10277,
          11874,
          14088,
          14840,
          14646,
          14481,
          13196,
          10329,
          11293,
          14181,
          13950,
          13588,
          12992,
          12161,
          10260,
          11471,
          14142,
          13441,
          13165,
          12924,
          11343,
          9781,
          9115,
          13203,
          12787,
          12856,
          11986,
          10701,
          8344,
          8793,
          10973,
          11885,
          10092,
          10684,
          9347,
          7226,
          8169,
          10628,
          10136,
          8607,
          11770,
          9695,
          9253,
          8061,
          10795,
          10024,
          9302,
          9214,
          8077,
          6726,
          7049,
          8928,
          9396,
          8622,
          9237,
          7470,
          6073,
          6596,
          8150,
          9199,
          8556,
          8294,
          6907,
          6612,
          7387,
          8509,
          8521,
          8930,
          8355,
          7263,
          7601,
          8091,
          8384,
          8618,
          8589,
          8651,
          7495,
          6628,
          7169,
          11928,
          8675,
          8774,
          8298,
          8682,
          7320,
          8451,
          9831,
          10255,
          10251,
          9555,
          8806,
          7358,
          8070,
          10417,
          10500,
          10941,
          10472,
          8649,
          7431,
          8750,
          11619,
          10508,
          10495,
          10457,
          8712,
          7394,
          9795,
          10769,
          10787,
          11436,
          10510,
          8881,
          7664,
          10015,
          11048,
          11282,
          11619,
          10337,
          8421,
          6715,
          9537,
          9484,
          12498,
          11183,
          10718,
          7721,
          6459,
          8035,
          10485,
          10053,
          10828,
          9140,
          8327,
          5551,
          9088,
          9953,
          10478,
          10469,
          9047,
          6500,
          5961,
          8218,
          9328,
          9943,
          9781,
          8725,
          5434,
          5433,
          7751,
          9422,
          9269,
          8833,
          8607,
          5878,
          4244,
          7167,
          7429,
          9141,
          8962,
          7776,
          4857,
          4669,
          5745,
          8122,
          8857,
          7984,
          7233,
          5282,
          4274,
          6454,
          8245,
          8691,
          7704,
          8191,
          5823,
          4516,
          6643,
          7915,
          9178,
          8801,
          7873,
          6001,
          4483
         ],
         "yaxis": "y"
        },
        {
         "hovertemplate": "<b>OLS trendline</b><br>NewDeaths = 0.0132351 * NewCases + 3066.11<br>R<sup>2</sup>=0.484076<br><br>NewCases=%{x}<br>NewDeaths=%{y} <b>(trend)</b><extra></extra>",
         "legendgroup": "",
         "marker": {
          "symbol": "circle"
         },
         "mode": "lines",
         "name": "",
         "showlegend": false,
         "type": "scatter",
         "x": [
          281191,
          295118,
          296851,
          302411,
          303031,
          303836,
          305649,
          307312,
          307621,
          309519,
          310726,
          311898,
          316397,
          317645,
          317935,
          319905,
          322082,
          322643,
          327874,
          333249,
          339491,
          344337,
          346340,
          347700,
          348193,
          350905,
          353898,
          355005,
          357311,
          361248,
          362716,
          363013,
          365622,
          368029,
          370142,
          371622,
          371750,
          372836,
          373086,
          373634,
          374043,
          375539,
          376660,
          377817,
          377869,
          379004,
          381100,
          386852,
          387172,
          388374,
          388892,
          389099,
          389334,
          389560,
          394554,
          395684,
          395722,
          396714,
          397119,
          399260,
          400681,
          403366,
          408258,
          408663,
          410229,
          410391,
          410504,
          411392,
          413303,
          413745,
          416798,
          417739,
          418529,
          421241,
          421501,
          422142,
          424313,
          424990,
          425784,
          427568,
          430393,
          433065,
          433470,
          435153,
          435424,
          438460,
          441867,
          441971,
          442192,
          442343,
          442346,
          443175,
          443801,
          444298,
          445145,
          445767,
          447141,
          447538,
          448058,
          448584,
          449263,
          449586,
          450704,
          451342,
          452622,
          453067,
          453177,
          453842,
          454574,
          457896,
          458201,
          459287,
          460902,
          461122,
          461184,
          461324,
          463666,
          463857,
          464452,
          464924,
          466417,
          466838,
          467578,
          470238,
          470665,
          471108,
          475360,
          475690,
          475693,
          478318,
          479180,
          479473,
          479794,
          480877,
          480916,
          481649,
          481891,
          487230,
          487613,
          487794,
          488795,
          489158,
          489195,
          489600,
          490166,
          490640,
          490842,
          494966,
          495380,
          496150,
          501799,
          504368,
          508314,
          508971,
          513789,
          515361,
          516272,
          519234,
          519452,
          520080,
          520866,
          520877,
          521146,
          525356,
          525609,
          526116,
          526826,
          527259,
          527640,
          532642,
          534222,
          534918,
          535378,
          536299,
          537711,
          538122,
          540034,
          540394,
          543390,
          543596,
          544863,
          545718,
          547404,
          547785,
          550237,
          550410,
          550817,
          551571,
          552687,
          554650,
          555062,
          556866,
          558250,
          558845,
          560502,
          561953,
          563317,
          565222,
          570349,
          571692,
          572039,
          572138,
          572983,
          574155,
          575345,
          576027,
          581483,
          584146,
          587344,
          587925,
          589174,
          591507,
          591643,
          595329,
          604477,
          606988,
          607014,
          610188,
          612887,
          613355,
          619346,
          620743,
          621984,
          623828,
          625356,
          625645,
          626118,
          629259,
          629537,
          630908,
          634230,
          634431,
          636262,
          637820,
          639441,
          639592,
          639648,
          641449,
          642927,
          643258,
          645972,
          646764,
          647199,
          648934,
          649846,
          651355,
          651775,
          655969,
          663527,
          664125,
          665300,
          665791,
          665952,
          666781,
          673520,
          673644,
          674732,
          674948,
          679159,
          679724,
          680924,
          681309,
          681816,
          682297,
          682649,
          684588,
          684882,
          686762,
          687643,
          688092,
          688172,
          688697,
          692160,
          692683,
          692807,
          694249,
          701100,
          701644,
          704968,
          706654,
          707122,
          708774,
          708942,
          711001,
          714607,
          723922,
          724713,
          725238,
          726061,
          727961,
          729603,
          731654,
          731810,
          732347,
          735598,
          736808,
          739199,
          739465,
          741142,
          741206,
          745033,
          750493,
          750494,
          754630,
          756188,
          759373,
          773518,
          783311,
          785826,
          785875,
          789589,
          794032,
          796903,
          801043,
          801886,
          814937,
          816275,
          818927,
          821435,
          824282,
          827634,
          831340,
          842852,
          846518,
          854489,
          855381,
          861185,
          868954,
          881653,
          888571,
          891308,
          894527,
          902252,
          902534,
          904603
         ],
         "xaxis": "x",
         "y": [
          6787.703755306579,
          6972.02930675441,
          6994.965774095481,
          7068.55305535131,
          7076.758831318687,
          7087.413104953748,
          7111.408382097061,
          7133.41839086117,
          7137.50804372233,
          7162.628306280525,
          7178.6030991718535,
          7194.114662774701,
          7253.659479028294,
          7270.176911943272,
          7274.0150974764,
          7300.088288856613,
          7328.901150600127,
          7336.32605433835,
          7405.558980282459,
          7476.697763870604,
          7559.311398690547,
          7623.448802461366,
          7649.958752885003,
          7667.95851952312,
          7674.483434929438,
          7710.377087225446,
          7749.989808951831,
          7764.641089590356,
          7795.161282139987,
          7847.267959532829,
          7866.6971194039725,
          7870.627950794797,
          7905.158385470419,
          7937.0153253953795,
          7964.9811392971,
          7984.56912063858,
          7986.263216322167,
          8000.636559387604,
          8003.945340019611,
          8011.19818716497,
          8016.611352278933,
          8036.411095580861,
          8051.247667934779,
          8066.560704699707,
          8067.2489310711635,
          8082.270795140475,
          8110.0116119592185,
          8186.140036740429,
          8190.375275949398,
          8206.283893228087,
          8213.139686697605,
          8215.879357060905,
          8218.989610854991,
          8221.980748546326,
          8288.076950451294,
          8303.032638907964,
          8303.535573564028,
          8316.664815111832,
          8322.025039735681,
          8350.361437068186,
          8369.168546180514,
          8404.704850168266,
          8469.451069575374,
          8474.811294199224,
          8495.537496078116,
          8497.681585927654,
          8499.177154773322,
          8510.929943578209,
          8536.222262729269,
          8542.072186886657,
          8582.479015964724,
          8594.933266263597,
          8605.389013060738,
          8641.282665356746,
          8644.723797214034,
          8653.207510754499,
          8681.940961762844,
          8690.901139714319,
          8701.409827001573,
          8725.021285591572,
          8762.41050673325,
          8797.774754128137,
          8803.134978751987,
          8825.409689966657,
          8828.996408171752,
          8869.178240166842,
          8914.270302619829,
          8915.646755362744,
          8918.571717441439,
          8920.57022094317,
          8920.609926310754,
          8931.581842886488,
          8939.867029589033,
          8946.444885485464,
          8957.655034266701,
          8965.887280479135,
          8984.072338832644,
          8989.326682476269,
          8996.208946190844,
          9003.170620640587,
          9012.157268837116,
          9016.43221341367,
          9031.229080400004,
          9039.673088572883,
          9056.614045408758,
          9062.50367493373,
          9063.959538411815,
          9072.760894892952,
          9082.449004583468,
          9126.416081621574,
          9130.452793992621,
          9144.826137058059,
          9166.200859940822,
          9169.112586896987,
          9169.933164493725,
          9171.78608164765,
          9202.782738608286,
          9205.310647011142,
          9213.185544915317,
          9219.432522748546,
          9239.19256068289,
          9244.76454726719,
          9254.55853793793,
          9289.76396386248,
          9295.41536118195,
          9301.278520461863,
          9357.554261451034,
          9361.921851885283,
          9361.961557252867,
          9396.703753888938,
          9408.112429508097,
          9411.990320408808,
          9416.238794740306,
          9430.572432438159,
          9431.08860221675,
          9440.789947029796,
          9443.992846681578,
          9514.655165858712,
          9519.724217786948,
          9522.119774964522,
          9535.368132615076,
          9540.172482092748,
          9540.662181626285,
          9546.022406250137,
          9553.513485601,
          9559.786933679286,
          9562.460428429946,
          9617.04207373553,
          9622.521414462131,
          9632.712458808714,
          9707.477665969538,
          9741.478695744037,
          9793.704489239633,
          9802.399964740547,
          9866.166785080579,
          9886.972397694637,
          9899.029594317672,
          9938.232027245685,
          9941.117283956795,
          9949.428940904396,
          9959.831747211425,
          9959.977333559234,
          9963.537581519275,
          10019.257447362266,
          10022.605933361858,
          10029.316140483566,
          10038.713077478467,
          10044.443885533103,
          10049.48646721628,
          10115.688550101471,
          10136.600043695755,
          10145.81168897526,
          10151.899845338154,
          10164.089393186467,
          10182.77738619604,
          10188.217021555058,
          10213.522575828647,
          10218.287219938735,
          10257.939647032705,
          10260.666082273478,
          10277.434982516488,
          10288.75101227795,
          10311.065428860205,
          10316.108010543383,
          10348.560530982104,
          10350.850207179454,
          10356.23690204836,
          10366.216184434492,
          10380.98658117577,
          10406.967126698288,
          10412.419997179833,
          10436.296158220393,
          10454.613567799184,
          10462.48846570336,
          10484.4190637323,
          10503.623226520467,
          10521.675933648696,
          10546.888842064587,
          10614.74531526578,
          10632.52008482092,
          10637.112672338146,
          10638.422949468422,
          10649.606628004603,
          10665.118191607453,
          10680.867987415804,
          10689.894340979918,
          10762.105169492832,
          10797.350300784969,
          10839.676222629598,
          10847.365828818383,
          10863.896496855887,
          10894.774037713774,
          10896.574014377586,
          10945.358676015894,
          11066.433576902284,
          11099.666969570158,
          11100.011082755887,
          11142.019361659844,
          11177.740957362988,
          11183.934994706105,
          11263.226613771516,
          11281.71607994317,
          11298.14086700045,
          11322.546432942132,
          11342.769700164958,
          11346.594650575556,
          11352.854863531313,
          11394.426383391847,
          11398.105747454638,
          11416.251100440562,
          11460.218177478668,
          11462.878437106801,
          11487.111946455618,
          11507.732267354284,
          11529.186400972216,
          11531.184904473948,
          11531.926071335518,
          11555.762527008494,
          11575.324038104918,
          11579.704863661695,
          11615.62498620276,
          11626.107203244957,
          11631.864481544648,
          11654.827419130776,
          11666.897850876336,
          11686.869650771128,
          11692.4284022329,
          11747.936506115444,
          11847.967562182272,
          11855.882165454032,
          11871.433434424463,
          11877.931879585725,
          11880.062734312736,
          11891.03465088847,
          11980.226141604844,
          11981.86729679832,
          11996.267110108813,
          11999.125896574868,
          12054.858997540388,
          12062.336841768723,
          12078.218988802355,
          12083.314510975646,
          12090.024718097355,
          12096.390812033336,
          12101.049575163202,
          12126.712477745046,
          12130.603603768286,
          12155.485634120976,
          12167.145777068168,
          12173.088347083252,
          12174.147156885494,
          12181.095596212708,
          12226.928825527266,
          12233.850794609423,
          12235.4919498029,
          12254.576996488315,
          12345.250820927826,
          12352.450727583073,
          12396.444274866235,
          12418.758691448487,
          12424.952728791604,
          12446.817151207904,
          12449.040651792613,
          12476.291769077821,
          12524.017620913886,
          12647.302787262455,
          12657.771769182125,
          12664.72020850934,
          12675.612714349905,
          12700.759447153157,
          12722.491518344177,
          12749.63675464916,
          12751.701433763532,
          12758.808694561083,
          12801.836077899698,
          12817.850576158611,
          12849.495754123123,
          12853.016296715577,
          12875.211597195079,
          12876.058645036874,
          12926.709458951633,
          12998.973227954659,
          12998.986463077186,
          13053.726929853106,
          13074.347250751773,
          13116.501116003537,
          13303.711924162479,
          13433.323479079445,
          13466.609812237433,
          13467.258333241307,
          13516.4135783104,
          13575.217227702422,
          13613.215264480386,
          13668.008671746418,
          13679.165880037544,
          13851.897464150825,
          13869.606058093324,
          13904.705603037652,
          13937.899290337944,
          13975.579684175236,
          14019.943814889182,
          14068.99317897805,
          14221.355909520695,
          14269.875868708441,
          14375.373030379344,
          14387.178759674343,
          14463.995410827012,
          14566.819077747254,
          14734.891898730666,
          14826.452476379556,
          14862.677006738766,
          14905.280866156485,
          15007.522187685492,
          15011.254492238397,
          15038.637960748883
         ],
         "yaxis": "y"
        }
       ],
       "layout": {
        "coloraxis": {
         "colorbar": {
          "title": {
           "text": "NewDeaths"
          }
         },
         "colorscale": [
          [
           0,
           "#440154"
          ],
          [
           0.1111111111111111,
           "#482878"
          ],
          [
           0.2222222222222222,
           "#3e4989"
          ],
          [
           0.3333333333333333,
           "#31688e"
          ],
          [
           0.4444444444444444,
           "#26828e"
          ],
          [
           0.5555555555555556,
           "#1f9e89"
          ],
          [
           0.6666666666666666,
           "#35b779"
          ],
          [
           0.7777777777777778,
           "#6ece58"
          ],
          [
           0.8888888888888888,
           "#b5de2b"
          ],
          [
           1,
           "#fde725"
          ]
         ]
        },
        "legend": {
         "tracegroupgap": 0
        },
        "template": {
         "data": {
          "bar": [
           {
            "error_x": {
             "color": "#2a3f5f"
            },
            "error_y": {
             "color": "#2a3f5f"
            },
            "marker": {
             "line": {
              "color": "#E5ECF6",
              "width": 0.5
             },
             "pattern": {
              "fillmode": "overlay",
              "size": 10,
              "solidity": 0.2
             }
            },
            "type": "bar"
           }
          ],
          "barpolar": [
           {
            "marker": {
             "line": {
              "color": "#E5ECF6",
              "width": 0.5
             },
             "pattern": {
              "fillmode": "overlay",
              "size": 10,
              "solidity": 0.2
             }
            },
            "type": "barpolar"
           }
          ],
          "carpet": [
           {
            "aaxis": {
             "endlinecolor": "#2a3f5f",
             "gridcolor": "white",
             "linecolor": "white",
             "minorgridcolor": "white",
             "startlinecolor": "#2a3f5f"
            },
            "baxis": {
             "endlinecolor": "#2a3f5f",
             "gridcolor": "white",
             "linecolor": "white",
             "minorgridcolor": "white",
             "startlinecolor": "#2a3f5f"
            },
            "type": "carpet"
           }
          ],
          "choropleth": [
           {
            "colorbar": {
             "outlinewidth": 0,
             "ticks": ""
            },
            "type": "choropleth"
           }
          ],
          "contour": [
           {
            "colorbar": {
             "outlinewidth": 0,
             "ticks": ""
            },
            "colorscale": [
             [
              0,
              "#0d0887"
             ],
             [
              0.1111111111111111,
              "#46039f"
             ],
             [
              0.2222222222222222,
              "#7201a8"
             ],
             [
              0.3333333333333333,
              "#9c179e"
             ],
             [
              0.4444444444444444,
              "#bd3786"
             ],
             [
              0.5555555555555556,
              "#d8576b"
             ],
             [
              0.6666666666666666,
              "#ed7953"
             ],
             [
              0.7777777777777778,
              "#fb9f3a"
             ],
             [
              0.8888888888888888,
              "#fdca26"
             ],
             [
              1,
              "#f0f921"
             ]
            ],
            "type": "contour"
           }
          ],
          "contourcarpet": [
           {
            "colorbar": {
             "outlinewidth": 0,
             "ticks": ""
            },
            "type": "contourcarpet"
           }
          ],
          "heatmap": [
           {
            "colorbar": {
             "outlinewidth": 0,
             "ticks": ""
            },
            "colorscale": [
             [
              0,
              "#0d0887"
             ],
             [
              0.1111111111111111,
              "#46039f"
             ],
             [
              0.2222222222222222,
              "#7201a8"
             ],
             [
              0.3333333333333333,
              "#9c179e"
             ],
             [
              0.4444444444444444,
              "#bd3786"
             ],
             [
              0.5555555555555556,
              "#d8576b"
             ],
             [
              0.6666666666666666,
              "#ed7953"
             ],
             [
              0.7777777777777778,
              "#fb9f3a"
             ],
             [
              0.8888888888888888,
              "#fdca26"
             ],
             [
              1,
              "#f0f921"
             ]
            ],
            "type": "heatmap"
           }
          ],
          "heatmapgl": [
           {
            "colorbar": {
             "outlinewidth": 0,
             "ticks": ""
            },
            "colorscale": [
             [
              0,
              "#0d0887"
             ],
             [
              0.1111111111111111,
              "#46039f"
             ],
             [
              0.2222222222222222,
              "#7201a8"
             ],
             [
              0.3333333333333333,
              "#9c179e"
             ],
             [
              0.4444444444444444,
              "#bd3786"
             ],
             [
              0.5555555555555556,
              "#d8576b"
             ],
             [
              0.6666666666666666,
              "#ed7953"
             ],
             [
              0.7777777777777778,
              "#fb9f3a"
             ],
             [
              0.8888888888888888,
              "#fdca26"
             ],
             [
              1,
              "#f0f921"
             ]
            ],
            "type": "heatmapgl"
           }
          ],
          "histogram": [
           {
            "marker": {
             "pattern": {
              "fillmode": "overlay",
              "size": 10,
              "solidity": 0.2
             }
            },
            "type": "histogram"
           }
          ],
          "histogram2d": [
           {
            "colorbar": {
             "outlinewidth": 0,
             "ticks": ""
            },
            "colorscale": [
             [
              0,
              "#0d0887"
             ],
             [
              0.1111111111111111,
              "#46039f"
             ],
             [
              0.2222222222222222,
              "#7201a8"
             ],
             [
              0.3333333333333333,
              "#9c179e"
             ],
             [
              0.4444444444444444,
              "#bd3786"
             ],
             [
              0.5555555555555556,
              "#d8576b"
             ],
             [
              0.6666666666666666,
              "#ed7953"
             ],
             [
              0.7777777777777778,
              "#fb9f3a"
             ],
             [
              0.8888888888888888,
              "#fdca26"
             ],
             [
              1,
              "#f0f921"
             ]
            ],
            "type": "histogram2d"
           }
          ],
          "histogram2dcontour": [
           {
            "colorbar": {
             "outlinewidth": 0,
             "ticks": ""
            },
            "colorscale": [
             [
              0,
              "#0d0887"
             ],
             [
              0.1111111111111111,
              "#46039f"
             ],
             [
              0.2222222222222222,
              "#7201a8"
             ],
             [
              0.3333333333333333,
              "#9c179e"
             ],
             [
              0.4444444444444444,
              "#bd3786"
             ],
             [
              0.5555555555555556,
              "#d8576b"
             ],
             [
              0.6666666666666666,
              "#ed7953"
             ],
             [
              0.7777777777777778,
              "#fb9f3a"
             ],
             [
              0.8888888888888888,
              "#fdca26"
             ],
             [
              1,
              "#f0f921"
             ]
            ],
            "type": "histogram2dcontour"
           }
          ],
          "mesh3d": [
           {
            "colorbar": {
             "outlinewidth": 0,
             "ticks": ""
            },
            "type": "mesh3d"
           }
          ],
          "parcoords": [
           {
            "line": {
             "colorbar": {
              "outlinewidth": 0,
              "ticks": ""
             }
            },
            "type": "parcoords"
           }
          ],
          "pie": [
           {
            "automargin": true,
            "type": "pie"
           }
          ],
          "scatter": [
           {
            "fillpattern": {
             "fillmode": "overlay",
             "size": 10,
             "solidity": 0.2
            },
            "type": "scatter"
           }
          ],
          "scatter3d": [
           {
            "line": {
             "colorbar": {
              "outlinewidth": 0,
              "ticks": ""
             }
            },
            "marker": {
             "colorbar": {
              "outlinewidth": 0,
              "ticks": ""
             }
            },
            "type": "scatter3d"
           }
          ],
          "scattercarpet": [
           {
            "marker": {
             "colorbar": {
              "outlinewidth": 0,
              "ticks": ""
             }
            },
            "type": "scattercarpet"
           }
          ],
          "scattergeo": [
           {
            "marker": {
             "colorbar": {
              "outlinewidth": 0,
              "ticks": ""
             }
            },
            "type": "scattergeo"
           }
          ],
          "scattergl": [
           {
            "marker": {
             "colorbar": {
              "outlinewidth": 0,
              "ticks": ""
             }
            },
            "type": "scattergl"
           }
          ],
          "scattermapbox": [
           {
            "marker": {
             "colorbar": {
              "outlinewidth": 0,
              "ticks": ""
             }
            },
            "type": "scattermapbox"
           }
          ],
          "scatterpolar": [
           {
            "marker": {
             "colorbar": {
              "outlinewidth": 0,
              "ticks": ""
             }
            },
            "type": "scatterpolar"
           }
          ],
          "scatterpolargl": [
           {
            "marker": {
             "colorbar": {
              "outlinewidth": 0,
              "ticks": ""
             }
            },
            "type": "scatterpolargl"
           }
          ],
          "scatterternary": [
           {
            "marker": {
             "colorbar": {
              "outlinewidth": 0,
              "ticks": ""
             }
            },
            "type": "scatterternary"
           }
          ],
          "surface": [
           {
            "colorbar": {
             "outlinewidth": 0,
             "ticks": ""
            },
            "colorscale": [
             [
              0,
              "#0d0887"
             ],
             [
              0.1111111111111111,
              "#46039f"
             ],
             [
              0.2222222222222222,
              "#7201a8"
             ],
             [
              0.3333333333333333,
              "#9c179e"
             ],
             [
              0.4444444444444444,
              "#bd3786"
             ],
             [
              0.5555555555555556,
              "#d8576b"
             ],
             [
              0.6666666666666666,
              "#ed7953"
             ],
             [
              0.7777777777777778,
              "#fb9f3a"
             ],
             [
              0.8888888888888888,
              "#fdca26"
             ],
             [
              1,
              "#f0f921"
             ]
            ],
            "type": "surface"
           }
          ],
          "table": [
           {
            "cells": {
             "fill": {
              "color": "#EBF0F8"
             },
             "line": {
              "color": "white"
             }
            },
            "header": {
             "fill": {
              "color": "#C8D4E3"
             },
             "line": {
              "color": "white"
             }
            },
            "type": "table"
           }
          ]
         },
         "layout": {
          "annotationdefaults": {
           "arrowcolor": "#2a3f5f",
           "arrowhead": 0,
           "arrowwidth": 1
          },
          "autotypenumbers": "strict",
          "coloraxis": {
           "colorbar": {
            "outlinewidth": 0,
            "ticks": ""
           }
          },
          "colorscale": {
           "diverging": [
            [
             0,
             "#8e0152"
            ],
            [
             0.1,
             "#c51b7d"
            ],
            [
             0.2,
             "#de77ae"
            ],
            [
             0.3,
             "#f1b6da"
            ],
            [
             0.4,
             "#fde0ef"
            ],
            [
             0.5,
             "#f7f7f7"
            ],
            [
             0.6,
             "#e6f5d0"
            ],
            [
             0.7,
             "#b8e186"
            ],
            [
             0.8,
             "#7fbc41"
            ],
            [
             0.9,
             "#4d9221"
            ],
            [
             1,
             "#276419"
            ]
           ],
           "sequential": [
            [
             0,
             "#0d0887"
            ],
            [
             0.1111111111111111,
             "#46039f"
            ],
            [
             0.2222222222222222,
             "#7201a8"
            ],
            [
             0.3333333333333333,
             "#9c179e"
            ],
            [
             0.4444444444444444,
             "#bd3786"
            ],
            [
             0.5555555555555556,
             "#d8576b"
            ],
            [
             0.6666666666666666,
             "#ed7953"
            ],
            [
             0.7777777777777778,
             "#fb9f3a"
            ],
            [
             0.8888888888888888,
             "#fdca26"
            ],
            [
             1,
             "#f0f921"
            ]
           ],
           "sequentialminus": [
            [
             0,
             "#0d0887"
            ],
            [
             0.1111111111111111,
             "#46039f"
            ],
            [
             0.2222222222222222,
             "#7201a8"
            ],
            [
             0.3333333333333333,
             "#9c179e"
            ],
            [
             0.4444444444444444,
             "#bd3786"
            ],
            [
             0.5555555555555556,
             "#d8576b"
            ],
            [
             0.6666666666666666,
             "#ed7953"
            ],
            [
             0.7777777777777778,
             "#fb9f3a"
            ],
            [
             0.8888888888888888,
             "#fdca26"
            ],
            [
             1,
             "#f0f921"
            ]
           ]
          },
          "colorway": [
           "#636efa",
           "#EF553B",
           "#00cc96",
           "#ab63fa",
           "#FFA15A",
           "#19d3f3",
           "#FF6692",
           "#B6E880",
           "#FF97FF",
           "#FECB52"
          ],
          "font": {
           "color": "#2a3f5f"
          },
          "geo": {
           "bgcolor": "white",
           "lakecolor": "white",
           "landcolor": "#E5ECF6",
           "showlakes": true,
           "showland": true,
           "subunitcolor": "white"
          },
          "hoverlabel": {
           "align": "left"
          },
          "hovermode": "closest",
          "mapbox": {
           "style": "light"
          },
          "paper_bgcolor": "white",
          "plot_bgcolor": "#E5ECF6",
          "polar": {
           "angularaxis": {
            "gridcolor": "white",
            "linecolor": "white",
            "ticks": ""
           },
           "bgcolor": "#E5ECF6",
           "radialaxis": {
            "gridcolor": "white",
            "linecolor": "white",
            "ticks": ""
           }
          },
          "scene": {
           "xaxis": {
            "backgroundcolor": "#E5ECF6",
            "gridcolor": "white",
            "gridwidth": 2,
            "linecolor": "white",
            "showbackground": true,
            "ticks": "",
            "zerolinecolor": "white"
           },
           "yaxis": {
            "backgroundcolor": "#E5ECF6",
            "gridcolor": "white",
            "gridwidth": 2,
            "linecolor": "white",
            "showbackground": true,
            "ticks": "",
            "zerolinecolor": "white"
           },
           "zaxis": {
            "backgroundcolor": "#E5ECF6",
            "gridcolor": "white",
            "gridwidth": 2,
            "linecolor": "white",
            "showbackground": true,
            "ticks": "",
            "zerolinecolor": "white"
           }
          },
          "shapedefaults": {
           "line": {
            "color": "#2a3f5f"
           }
          },
          "ternary": {
           "aaxis": {
            "gridcolor": "white",
            "linecolor": "white",
            "ticks": ""
           },
           "baxis": {
            "gridcolor": "white",
            "linecolor": "white",
            "ticks": ""
           },
           "bgcolor": "#E5ECF6",
           "caxis": {
            "gridcolor": "white",
            "linecolor": "white",
            "ticks": ""
           }
          },
          "title": {
           "x": 0.05
          },
          "xaxis": {
           "automargin": true,
           "gridcolor": "white",
           "linecolor": "white",
           "ticks": "",
           "title": {
            "standoff": 15
           },
           "zerolinecolor": "white",
           "zerolinewidth": 2
          },
          "yaxis": {
           "automargin": true,
           "gridcolor": "white",
           "linecolor": "white",
           "ticks": "",
           "title": {
            "standoff": 15
           },
           "zerolinecolor": "white",
           "zerolinewidth": 2
          }
         }
        },
        "title": {
         "text": "Biểu đồ thể hiện sự tương quan giữa số ca mắc mới và tử vong mới mỗi ngày của biến thể DELTA"
        },
        "xaxis": {
         "anchor": "y",
         "domain": [
          0,
          1
         ],
         "title": {
          "text": "NewCases"
         }
        },
        "yaxis": {
         "anchor": "x",
         "domain": [
          0,
          1
         ],
         "title": {
          "text": "NewDeaths"
         }
        }
       }
      }
     },
     "metadata": {},
     "output_type": "display_data"
    }
   ],
   "source": [
    "plot_scatter(covid_delta, \"NewCases\", \"NewDeaths\", \"Biểu đồ thể hiện sự tương quan giữa số ca mắc mới và tử vong mới mỗi ngày của biến thể DELTA\", \"Date\")"
   ]
  },
  {
   "cell_type": "markdown",
   "metadata": {},
   "source": [
    "Ta tính hệ số tương quan của đường tuyến tính"
   ]
  },
  {
   "cell_type": "code",
   "execution_count": 311,
   "metadata": {},
   "outputs": [
    {
     "name": "stdout",
     "output_type": "stream",
     "text": [
      "Hệ số tương quan giữa 2 biến là R = 0.6957555110837915 cho thấy đường tuyến tính tương quan thuận, có độ mạnh trung bình. Với biến chủng DELTA, số ca mắc mới tăng thì số ca tử vong cũng tăng theo\n"
     ]
    }
   ],
   "source": [
    "res = stats.linregress(covid_delta[\"NewCases\"], covid_delta[\"NewDeaths\"])\n",
    "print(f\"Hệ số tương quan giữa 2 biến là R = {res.rvalue} cho thấy đường tuyến tính tương quan thuận, có độ mạnh trung bình. \\\n",
    "Với biến chủng DELTA, số ca mắc mới tăng thì số ca tử vong cũng tăng theo\")"
   ]
  },
  {
   "cell_type": "code",
   "execution_count": 312,
   "metadata": {},
   "outputs": [
    {
     "data": {
      "application/vnd.plotly.v1+json": {
       "config": {
        "plotlyServerURL": "https://plot.ly"
       },
       "data": [
        {
         "hovertemplate": "<b>%{hovertext}</b><br><br>NewCases=%{x}<br>NewDeaths=%{marker.color}<extra></extra>",
         "hovertext": [
          "2021-11-01T00:00:00",
          "2021-11-02T00:00:00",
          "2021-11-03T00:00:00",
          "2021-11-04T00:00:00",
          "2021-11-05T00:00:00",
          "2021-11-06T00:00:00",
          "2021-11-07T00:00:00",
          "2021-11-08T00:00:00",
          "2021-11-09T00:00:00",
          "2021-11-10T00:00:00",
          "2021-11-11T00:00:00",
          "2021-11-12T00:00:00",
          "2021-11-13T00:00:00",
          "2021-11-14T00:00:00",
          "2021-11-15T00:00:00",
          "2021-11-16T00:00:00",
          "2021-11-17T00:00:00",
          "2021-11-18T00:00:00",
          "2021-11-19T00:00:00",
          "2021-11-20T00:00:00",
          "2021-11-21T00:00:00",
          "2021-11-22T00:00:00",
          "2021-11-23T00:00:00",
          "2021-11-24T00:00:00",
          "2021-11-25T00:00:00",
          "2021-11-26T00:00:00",
          "2021-11-27T00:00:00",
          "2021-11-28T00:00:00",
          "2021-11-29T00:00:00",
          "2021-11-30T00:00:00",
          "2021-12-01T00:00:00",
          "2021-12-02T00:00:00",
          "2021-12-03T00:00:00",
          "2021-12-04T00:00:00",
          "2021-12-05T00:00:00",
          "2021-12-06T00:00:00",
          "2021-12-07T00:00:00",
          "2021-12-08T00:00:00",
          "2021-12-09T00:00:00",
          "2021-12-10T00:00:00",
          "2021-12-11T00:00:00",
          "2021-12-12T00:00:00",
          "2021-12-13T00:00:00",
          "2021-12-14T00:00:00",
          "2021-12-15T00:00:00",
          "2021-12-16T00:00:00",
          "2021-12-17T00:00:00",
          "2021-12-18T00:00:00",
          "2021-12-19T00:00:00",
          "2021-12-20T00:00:00",
          "2021-12-21T00:00:00",
          "2021-12-22T00:00:00",
          "2021-12-23T00:00:00",
          "2021-12-24T00:00:00",
          "2021-12-25T00:00:00",
          "2021-12-26T00:00:00",
          "2021-12-27T00:00:00",
          "2021-12-28T00:00:00",
          "2021-12-29T00:00:00",
          "2021-12-30T00:00:00",
          "2021-12-31T00:00:00",
          "2022-01-01T00:00:00",
          "2022-01-02T00:00:00",
          "2022-01-03T00:00:00",
          "2022-01-04T00:00:00",
          "2022-01-05T00:00:00",
          "2022-01-06T00:00:00",
          "2022-01-07T00:00:00",
          "2022-01-08T00:00:00",
          "2022-01-09T00:00:00",
          "2022-01-10T00:00:00",
          "2022-01-11T00:00:00",
          "2022-01-12T00:00:00",
          "2022-01-13T00:00:00",
          "2022-01-14T00:00:00",
          "2022-01-15T00:00:00",
          "2022-01-16T00:00:00",
          "2022-01-17T00:00:00",
          "2022-01-18T00:00:00",
          "2022-01-19T00:00:00",
          "2022-01-20T00:00:00",
          "2022-01-21T00:00:00",
          "2022-01-22T00:00:00",
          "2022-01-23T00:00:00",
          "2022-01-24T00:00:00",
          "2022-01-25T00:00:00",
          "2022-01-26T00:00:00",
          "2022-01-27T00:00:00",
          "2022-01-28T00:00:00",
          "2022-01-29T00:00:00",
          "2022-01-30T00:00:00",
          "2022-01-31T00:00:00",
          "2022-02-01T00:00:00",
          "2022-02-02T00:00:00",
          "2022-02-03T00:00:00",
          "2022-02-04T00:00:00",
          "2022-02-05T00:00:00",
          "2022-02-06T00:00:00",
          "2022-02-07T00:00:00",
          "2022-02-08T00:00:00",
          "2022-02-09T00:00:00",
          "2022-02-10T00:00:00",
          "2022-02-11T00:00:00",
          "2022-02-12T00:00:00",
          "2022-02-13T00:00:00",
          "2022-02-14T00:00:00",
          "2022-02-15T00:00:00",
          "2022-02-16T00:00:00",
          "2022-02-17T00:00:00",
          "2022-02-18T00:00:00",
          "2022-02-19T00:00:00",
          "2022-02-20T00:00:00",
          "2022-02-21T00:00:00",
          "2022-02-22T00:00:00",
          "2022-02-23T00:00:00",
          "2022-02-24T00:00:00",
          "2022-02-25T00:00:00",
          "2022-02-26T00:00:00",
          "2022-02-27T00:00:00",
          "2022-02-28T00:00:00"
         ],
         "legendgroup": "",
         "marker": {
          "color": [
           6276,
           7283,
           8416,
           7605,
           8611,
           6644,
           4486,
           6667,
           8229,
           8282,
           7625,
           9099,
           6280,
           4621,
           6891,
           7726,
           9212,
           8304,
           8066,
           6067,
           4543,
           7260,
           8079,
           8680,
           7834,
           6825,
           5956,
           4791,
           7743,
           7989,
           9327,
           10168,
           8596,
           5524,
           7343,
           6814,
           8395,
           7948,
           8859,
           8126,
           5979,
           4540,
           6590,
           7755,
           9191,
           7314,
           7006,
           6067,
           4323,
           6946,
           7673,
           8245,
           9307,
           5885,
           4254,
           3602,
           6725,
           7478,
           8038,
           7573,
           6008,
           4295,
           3214,
           6089,
           7992,
           7986,
           6847,
           7220,
           5351,
           3933,
           6424,
           9510,
           9240,
           8108,
           7734,
           6196,
           4321,
           6233,
           9242,
           10567,
           9454,
           9849,
           6115,
           4966,
           8627,
           10811,
           10953,
           10402,
           12120,
           7906,
           5598,
           9729,
           13275,
           12220,
           11589,
           13330,
           8299,
           5855,
           10700,
           13286,
           13311,
           11699,
           12108,
           8724,
           5094,
           10671,
           10581,
           13077,
           12712,
           10579,
           8384,
           5305,
           7435,
           9410,
           11706,
           10735,
           9080,
           6392,
           4417,
           7759
          ],
          "coloraxis": "coloraxis",
          "symbol": "circle"
         },
         "mode": "markers",
         "name": "",
         "orientation": "v",
         "showlegend": false,
         "type": "scatter",
         "x": [
          421008,
          426168,
          538266,
          523859,
          520733,
          426950,
          349453,
          477486,
          488325,
          589183,
          518867,
          595877,
          429817,
          363480,
          538581,
          526831,
          634183,
          615233,
          620493,
          481010,
          403567,
          619817,
          595501,
          673136,
          596745,
          598726,
          460761,
          408721,
          653658,
          623349,
          712931,
          706436,
          717210,
          513407,
          439331,
          591267,
          697340,
          670681,
          727600,
          688074,
          499048,
          439210,
          625949,
          659374,
          744952,
          737302,
          732460,
          581077,
          481753,
          744732,
          797266,
          906982,
          996976,
          856016,
          693331,
          578659,
          1281218,
          1331053,
          1724220,
          1940530,
          1715008,
          1194627,
          911858,
          2422782,
          2525019,
          2564924,
          2632856,
          2926756,
          2143373,
          2011939,
          3164652,
          3088630,
          3519679,
          3169740,
          3280358,
          2448865,
          2146696,
          2697201,
          3788087,
          4206334,
          3691329,
          3810842,
          2718905,
          2417784,
          3476376,
          3659392,
          3830779,
          3695211,
          3600517,
          2654716,
          2262423,
          2756868,
          3296903,
          3214698,
          3162945,
          2924578,
          2225128,
          1816457,
          2543573,
          2842216,
          2455501,
          2766818,
          2386649,
          1827503,
          1451313,
          1790115,
          1790874,
          2419675,
          2033799,
          1940000,
          1552157,
          1266349,
          1457542,
          1805873,
          1939520,
          1755446,
          1591820,
          1328773,
          1065246,
          1403481
         ],
         "xaxis": "x",
         "y": [
          6276,
          7283,
          8416,
          7605,
          8611,
          6644,
          4486,
          6667,
          8229,
          8282,
          7625,
          9099,
          6280,
          4621,
          6891,
          7726,
          9212,
          8304,
          8066,
          6067,
          4543,
          7260,
          8079,
          8680,
          7834,
          6825,
          5956,
          4791,
          7743,
          7989,
          9327,
          10168,
          8596,
          5524,
          7343,
          6814,
          8395,
          7948,
          8859,
          8126,
          5979,
          4540,
          6590,
          7755,
          9191,
          7314,
          7006,
          6067,
          4323,
          6946,
          7673,
          8245,
          9307,
          5885,
          4254,
          3602,
          6725,
          7478,
          8038,
          7573,
          6008,
          4295,
          3214,
          6089,
          7992,
          7986,
          6847,
          7220,
          5351,
          3933,
          6424,
          9510,
          9240,
          8108,
          7734,
          6196,
          4321,
          6233,
          9242,
          10567,
          9454,
          9849,
          6115,
          4966,
          8627,
          10811,
          10953,
          10402,
          12120,
          7906,
          5598,
          9729,
          13275,
          12220,
          11589,
          13330,
          8299,
          5855,
          10700,
          13286,
          13311,
          11699,
          12108,
          8724,
          5094,
          10671,
          10581,
          13077,
          12712,
          10579,
          8384,
          5305,
          7435,
          9410,
          11706,
          10735,
          9080,
          6392,
          4417,
          7759
         ],
         "yaxis": "y"
        },
        {
         "hovertemplate": "<b>OLS trendline</b><br>NewDeaths = 0.00103546 * NewCases + 6308.63<br>R<sup>2</sup>=0.237844<br><br>NewCases=%{x}<br>NewDeaths=%{y} <b>(trend)</b><extra></extra>",
         "legendgroup": "",
         "marker": {
          "symbol": "circle"
         },
         "mode": "lines",
         "name": "",
         "showlegend": false,
         "type": "scatter",
         "x": [
          349453,
          363480,
          403567,
          408721,
          421008,
          426168,
          426950,
          429817,
          439210,
          439331,
          460761,
          477486,
          481010,
          481753,
          488325,
          499048,
          513407,
          518867,
          520733,
          523859,
          526831,
          538266,
          538581,
          578659,
          581077,
          589183,
          591267,
          595501,
          595877,
          596745,
          598726,
          615233,
          619817,
          620493,
          623349,
          625949,
          634183,
          653658,
          659374,
          670681,
          673136,
          688074,
          693331,
          697340,
          706436,
          712931,
          717210,
          727600,
          732460,
          737302,
          744732,
          744952,
          797266,
          856016,
          906982,
          911858,
          996976,
          1065246,
          1194627,
          1266349,
          1281218,
          1328773,
          1331053,
          1403481,
          1451313,
          1457542,
          1552157,
          1591820,
          1715008,
          1724220,
          1755446,
          1790115,
          1790874,
          1805873,
          1816457,
          1827503,
          1939520,
          1940000,
          1940530,
          2011939,
          2033799,
          2143373,
          2146696,
          2225128,
          2262423,
          2386649,
          2417784,
          2419675,
          2422782,
          2448865,
          2455501,
          2525019,
          2543573,
          2564924,
          2632856,
          2654716,
          2697201,
          2718905,
          2756868,
          2766818,
          2842216,
          2924578,
          2926756,
          3088630,
          3162945,
          3164652,
          3169740,
          3214698,
          3280358,
          3296903,
          3476376,
          3519679,
          3600517,
          3659392,
          3691329,
          3695211,
          3788087,
          3810842,
          3830779,
          4206334
         ],
         "xaxis": "x",
         "y": [
          6670.476992113686,
          6685.00141389217,
          6726.509968524957,
          6731.846738315098,
          6744.5694566719985,
          6749.912439232558,
          6750.722170310535,
          6753.690839109203,
          6763.416931200549,
          6763.5422220706705,
          6785.7321670847805,
          6803.050264628457,
          6806.699231788034,
          6807.468579858285,
          6814.273634390844,
          6825.3768905917905,
          6840.245085666807,
          6845.89870674833,
          6847.830878348719,
          6851.067731737152,
          6854.145124018157,
          6865.985628975523,
          6866.311799422533,
          6907.811034899692,
          6910.314781378652,
          6918.708234215067,
          6920.866136474022,
          6925.250281466544,
          6925.6396150794835,
          6926.538395866803,
          6928.5896455668935,
          6945.6820124520045,
          6950.428569052316,
          6951.128541186219,
          6954.085819905785,
          6956.778020420796,
          6965.304012359488,
          6985.469629678658,
          6991.388328964736,
          7003.096294819824,
          7005.638353383036,
          7021.106080803511,
          7026.549503152516,
          7030.7006692543155,
          7040.119229209909,
          7046.844553188753,
          7051.275293959419,
          7062.033741402098,
          7067.066085441696,
          7072.079791170036,
          7079.773271872547,
          7080.001073454587,
          7134.1702187400815,
          7195.003595761966,
          7247.776938626601,
          7252.825850053982,
          7340.962282145024,
          7411.653254898794,
          7545.622329834425,
          7619.887716502741,
          7635.283997063394,
          7684.525379944682,
          7686.886232704,
          7761.882655358315,
          7811.410861140625,
          7817.860752297549,
          7915.8309645005365,
          7956.90048335703,
          8084.456943758252,
          8093.995617275284,
          8126.328945460566,
          8162.227368404765,
          8163.013283862801,
          8178.544174449205,
          8189.503501468773,
          8200.941211810623,
          8316.930529152927,
          8317.427550786468,
          8317.976345506835,
          8391.917632651612,
          8414.552826212435,
          8528.012510532366,
          8531.453349882897,
          8612.666684803415,
          8651.284230267775,
          8779.915499951527,
          8812.154601118784,
          8814.112659262586,
          8817.329838878024,
          8844.337787352268,
          8851.209111435965,
          8923.19234043694,
          8942.404297496754,
          8964.512441033678,
          9034.853427720496,
          9057.48862128132,
          9101.480213158336,
          9123.953874688259,
          9163.26310859263,
          9173.56595287123,
          9251.637696883075,
          9336.920396428206,
          9339.175632090395,
          9506.789965231508,
          9583.74030418268,
          9585.507837366957,
          9590.776266682486,
          9637.328555433973,
          9705.316973055367,
          9722.448687486467,
          9908.286111728994,
          9953.124711306502,
          10036.82936716514,
          10097.792176904093,
          10130.861718384058,
          10134.881380845316,
          10231.050925088455,
          10254.612856903484,
          10275.256857544937,
          10664.129690012229
         ],
         "yaxis": "y"
        }
       ],
       "layout": {
        "coloraxis": {
         "colorbar": {
          "title": {
           "text": "NewDeaths"
          }
         },
         "colorscale": [
          [
           0,
           "#440154"
          ],
          [
           0.1111111111111111,
           "#482878"
          ],
          [
           0.2222222222222222,
           "#3e4989"
          ],
          [
           0.3333333333333333,
           "#31688e"
          ],
          [
           0.4444444444444444,
           "#26828e"
          ],
          [
           0.5555555555555556,
           "#1f9e89"
          ],
          [
           0.6666666666666666,
           "#35b779"
          ],
          [
           0.7777777777777778,
           "#6ece58"
          ],
          [
           0.8888888888888888,
           "#b5de2b"
          ],
          [
           1,
           "#fde725"
          ]
         ]
        },
        "legend": {
         "tracegroupgap": 0
        },
        "template": {
         "data": {
          "bar": [
           {
            "error_x": {
             "color": "#2a3f5f"
            },
            "error_y": {
             "color": "#2a3f5f"
            },
            "marker": {
             "line": {
              "color": "#E5ECF6",
              "width": 0.5
             },
             "pattern": {
              "fillmode": "overlay",
              "size": 10,
              "solidity": 0.2
             }
            },
            "type": "bar"
           }
          ],
          "barpolar": [
           {
            "marker": {
             "line": {
              "color": "#E5ECF6",
              "width": 0.5
             },
             "pattern": {
              "fillmode": "overlay",
              "size": 10,
              "solidity": 0.2
             }
            },
            "type": "barpolar"
           }
          ],
          "carpet": [
           {
            "aaxis": {
             "endlinecolor": "#2a3f5f",
             "gridcolor": "white",
             "linecolor": "white",
             "minorgridcolor": "white",
             "startlinecolor": "#2a3f5f"
            },
            "baxis": {
             "endlinecolor": "#2a3f5f",
             "gridcolor": "white",
             "linecolor": "white",
             "minorgridcolor": "white",
             "startlinecolor": "#2a3f5f"
            },
            "type": "carpet"
           }
          ],
          "choropleth": [
           {
            "colorbar": {
             "outlinewidth": 0,
             "ticks": ""
            },
            "type": "choropleth"
           }
          ],
          "contour": [
           {
            "colorbar": {
             "outlinewidth": 0,
             "ticks": ""
            },
            "colorscale": [
             [
              0,
              "#0d0887"
             ],
             [
              0.1111111111111111,
              "#46039f"
             ],
             [
              0.2222222222222222,
              "#7201a8"
             ],
             [
              0.3333333333333333,
              "#9c179e"
             ],
             [
              0.4444444444444444,
              "#bd3786"
             ],
             [
              0.5555555555555556,
              "#d8576b"
             ],
             [
              0.6666666666666666,
              "#ed7953"
             ],
             [
              0.7777777777777778,
              "#fb9f3a"
             ],
             [
              0.8888888888888888,
              "#fdca26"
             ],
             [
              1,
              "#f0f921"
             ]
            ],
            "type": "contour"
           }
          ],
          "contourcarpet": [
           {
            "colorbar": {
             "outlinewidth": 0,
             "ticks": ""
            },
            "type": "contourcarpet"
           }
          ],
          "heatmap": [
           {
            "colorbar": {
             "outlinewidth": 0,
             "ticks": ""
            },
            "colorscale": [
             [
              0,
              "#0d0887"
             ],
             [
              0.1111111111111111,
              "#46039f"
             ],
             [
              0.2222222222222222,
              "#7201a8"
             ],
             [
              0.3333333333333333,
              "#9c179e"
             ],
             [
              0.4444444444444444,
              "#bd3786"
             ],
             [
              0.5555555555555556,
              "#d8576b"
             ],
             [
              0.6666666666666666,
              "#ed7953"
             ],
             [
              0.7777777777777778,
              "#fb9f3a"
             ],
             [
              0.8888888888888888,
              "#fdca26"
             ],
             [
              1,
              "#f0f921"
             ]
            ],
            "type": "heatmap"
           }
          ],
          "heatmapgl": [
           {
            "colorbar": {
             "outlinewidth": 0,
             "ticks": ""
            },
            "colorscale": [
             [
              0,
              "#0d0887"
             ],
             [
              0.1111111111111111,
              "#46039f"
             ],
             [
              0.2222222222222222,
              "#7201a8"
             ],
             [
              0.3333333333333333,
              "#9c179e"
             ],
             [
              0.4444444444444444,
              "#bd3786"
             ],
             [
              0.5555555555555556,
              "#d8576b"
             ],
             [
              0.6666666666666666,
              "#ed7953"
             ],
             [
              0.7777777777777778,
              "#fb9f3a"
             ],
             [
              0.8888888888888888,
              "#fdca26"
             ],
             [
              1,
              "#f0f921"
             ]
            ],
            "type": "heatmapgl"
           }
          ],
          "histogram": [
           {
            "marker": {
             "pattern": {
              "fillmode": "overlay",
              "size": 10,
              "solidity": 0.2
             }
            },
            "type": "histogram"
           }
          ],
          "histogram2d": [
           {
            "colorbar": {
             "outlinewidth": 0,
             "ticks": ""
            },
            "colorscale": [
             [
              0,
              "#0d0887"
             ],
             [
              0.1111111111111111,
              "#46039f"
             ],
             [
              0.2222222222222222,
              "#7201a8"
             ],
             [
              0.3333333333333333,
              "#9c179e"
             ],
             [
              0.4444444444444444,
              "#bd3786"
             ],
             [
              0.5555555555555556,
              "#d8576b"
             ],
             [
              0.6666666666666666,
              "#ed7953"
             ],
             [
              0.7777777777777778,
              "#fb9f3a"
             ],
             [
              0.8888888888888888,
              "#fdca26"
             ],
             [
              1,
              "#f0f921"
             ]
            ],
            "type": "histogram2d"
           }
          ],
          "histogram2dcontour": [
           {
            "colorbar": {
             "outlinewidth": 0,
             "ticks": ""
            },
            "colorscale": [
             [
              0,
              "#0d0887"
             ],
             [
              0.1111111111111111,
              "#46039f"
             ],
             [
              0.2222222222222222,
              "#7201a8"
             ],
             [
              0.3333333333333333,
              "#9c179e"
             ],
             [
              0.4444444444444444,
              "#bd3786"
             ],
             [
              0.5555555555555556,
              "#d8576b"
             ],
             [
              0.6666666666666666,
              "#ed7953"
             ],
             [
              0.7777777777777778,
              "#fb9f3a"
             ],
             [
              0.8888888888888888,
              "#fdca26"
             ],
             [
              1,
              "#f0f921"
             ]
            ],
            "type": "histogram2dcontour"
           }
          ],
          "mesh3d": [
           {
            "colorbar": {
             "outlinewidth": 0,
             "ticks": ""
            },
            "type": "mesh3d"
           }
          ],
          "parcoords": [
           {
            "line": {
             "colorbar": {
              "outlinewidth": 0,
              "ticks": ""
             }
            },
            "type": "parcoords"
           }
          ],
          "pie": [
           {
            "automargin": true,
            "type": "pie"
           }
          ],
          "scatter": [
           {
            "fillpattern": {
             "fillmode": "overlay",
             "size": 10,
             "solidity": 0.2
            },
            "type": "scatter"
           }
          ],
          "scatter3d": [
           {
            "line": {
             "colorbar": {
              "outlinewidth": 0,
              "ticks": ""
             }
            },
            "marker": {
             "colorbar": {
              "outlinewidth": 0,
              "ticks": ""
             }
            },
            "type": "scatter3d"
           }
          ],
          "scattercarpet": [
           {
            "marker": {
             "colorbar": {
              "outlinewidth": 0,
              "ticks": ""
             }
            },
            "type": "scattercarpet"
           }
          ],
          "scattergeo": [
           {
            "marker": {
             "colorbar": {
              "outlinewidth": 0,
              "ticks": ""
             }
            },
            "type": "scattergeo"
           }
          ],
          "scattergl": [
           {
            "marker": {
             "colorbar": {
              "outlinewidth": 0,
              "ticks": ""
             }
            },
            "type": "scattergl"
           }
          ],
          "scattermapbox": [
           {
            "marker": {
             "colorbar": {
              "outlinewidth": 0,
              "ticks": ""
             }
            },
            "type": "scattermapbox"
           }
          ],
          "scatterpolar": [
           {
            "marker": {
             "colorbar": {
              "outlinewidth": 0,
              "ticks": ""
             }
            },
            "type": "scatterpolar"
           }
          ],
          "scatterpolargl": [
           {
            "marker": {
             "colorbar": {
              "outlinewidth": 0,
              "ticks": ""
             }
            },
            "type": "scatterpolargl"
           }
          ],
          "scatterternary": [
           {
            "marker": {
             "colorbar": {
              "outlinewidth": 0,
              "ticks": ""
             }
            },
            "type": "scatterternary"
           }
          ],
          "surface": [
           {
            "colorbar": {
             "outlinewidth": 0,
             "ticks": ""
            },
            "colorscale": [
             [
              0,
              "#0d0887"
             ],
             [
              0.1111111111111111,
              "#46039f"
             ],
             [
              0.2222222222222222,
              "#7201a8"
             ],
             [
              0.3333333333333333,
              "#9c179e"
             ],
             [
              0.4444444444444444,
              "#bd3786"
             ],
             [
              0.5555555555555556,
              "#d8576b"
             ],
             [
              0.6666666666666666,
              "#ed7953"
             ],
             [
              0.7777777777777778,
              "#fb9f3a"
             ],
             [
              0.8888888888888888,
              "#fdca26"
             ],
             [
              1,
              "#f0f921"
             ]
            ],
            "type": "surface"
           }
          ],
          "table": [
           {
            "cells": {
             "fill": {
              "color": "#EBF0F8"
             },
             "line": {
              "color": "white"
             }
            },
            "header": {
             "fill": {
              "color": "#C8D4E3"
             },
             "line": {
              "color": "white"
             }
            },
            "type": "table"
           }
          ]
         },
         "layout": {
          "annotationdefaults": {
           "arrowcolor": "#2a3f5f",
           "arrowhead": 0,
           "arrowwidth": 1
          },
          "autotypenumbers": "strict",
          "coloraxis": {
           "colorbar": {
            "outlinewidth": 0,
            "ticks": ""
           }
          },
          "colorscale": {
           "diverging": [
            [
             0,
             "#8e0152"
            ],
            [
             0.1,
             "#c51b7d"
            ],
            [
             0.2,
             "#de77ae"
            ],
            [
             0.3,
             "#f1b6da"
            ],
            [
             0.4,
             "#fde0ef"
            ],
            [
             0.5,
             "#f7f7f7"
            ],
            [
             0.6,
             "#e6f5d0"
            ],
            [
             0.7,
             "#b8e186"
            ],
            [
             0.8,
             "#7fbc41"
            ],
            [
             0.9,
             "#4d9221"
            ],
            [
             1,
             "#276419"
            ]
           ],
           "sequential": [
            [
             0,
             "#0d0887"
            ],
            [
             0.1111111111111111,
             "#46039f"
            ],
            [
             0.2222222222222222,
             "#7201a8"
            ],
            [
             0.3333333333333333,
             "#9c179e"
            ],
            [
             0.4444444444444444,
             "#bd3786"
            ],
            [
             0.5555555555555556,
             "#d8576b"
            ],
            [
             0.6666666666666666,
             "#ed7953"
            ],
            [
             0.7777777777777778,
             "#fb9f3a"
            ],
            [
             0.8888888888888888,
             "#fdca26"
            ],
            [
             1,
             "#f0f921"
            ]
           ],
           "sequentialminus": [
            [
             0,
             "#0d0887"
            ],
            [
             0.1111111111111111,
             "#46039f"
            ],
            [
             0.2222222222222222,
             "#7201a8"
            ],
            [
             0.3333333333333333,
             "#9c179e"
            ],
            [
             0.4444444444444444,
             "#bd3786"
            ],
            [
             0.5555555555555556,
             "#d8576b"
            ],
            [
             0.6666666666666666,
             "#ed7953"
            ],
            [
             0.7777777777777778,
             "#fb9f3a"
            ],
            [
             0.8888888888888888,
             "#fdca26"
            ],
            [
             1,
             "#f0f921"
            ]
           ]
          },
          "colorway": [
           "#636efa",
           "#EF553B",
           "#00cc96",
           "#ab63fa",
           "#FFA15A",
           "#19d3f3",
           "#FF6692",
           "#B6E880",
           "#FF97FF",
           "#FECB52"
          ],
          "font": {
           "color": "#2a3f5f"
          },
          "geo": {
           "bgcolor": "white",
           "lakecolor": "white",
           "landcolor": "#E5ECF6",
           "showlakes": true,
           "showland": true,
           "subunitcolor": "white"
          },
          "hoverlabel": {
           "align": "left"
          },
          "hovermode": "closest",
          "mapbox": {
           "style": "light"
          },
          "paper_bgcolor": "white",
          "plot_bgcolor": "#E5ECF6",
          "polar": {
           "angularaxis": {
            "gridcolor": "white",
            "linecolor": "white",
            "ticks": ""
           },
           "bgcolor": "#E5ECF6",
           "radialaxis": {
            "gridcolor": "white",
            "linecolor": "white",
            "ticks": ""
           }
          },
          "scene": {
           "xaxis": {
            "backgroundcolor": "#E5ECF6",
            "gridcolor": "white",
            "gridwidth": 2,
            "linecolor": "white",
            "showbackground": true,
            "ticks": "",
            "zerolinecolor": "white"
           },
           "yaxis": {
            "backgroundcolor": "#E5ECF6",
            "gridcolor": "white",
            "gridwidth": 2,
            "linecolor": "white",
            "showbackground": true,
            "ticks": "",
            "zerolinecolor": "white"
           },
           "zaxis": {
            "backgroundcolor": "#E5ECF6",
            "gridcolor": "white",
            "gridwidth": 2,
            "linecolor": "white",
            "showbackground": true,
            "ticks": "",
            "zerolinecolor": "white"
           }
          },
          "shapedefaults": {
           "line": {
            "color": "#2a3f5f"
           }
          },
          "ternary": {
           "aaxis": {
            "gridcolor": "white",
            "linecolor": "white",
            "ticks": ""
           },
           "baxis": {
            "gridcolor": "white",
            "linecolor": "white",
            "ticks": ""
           },
           "bgcolor": "#E5ECF6",
           "caxis": {
            "gridcolor": "white",
            "linecolor": "white",
            "ticks": ""
           }
          },
          "title": {
           "x": 0.05
          },
          "xaxis": {
           "automargin": true,
           "gridcolor": "white",
           "linecolor": "white",
           "ticks": "",
           "title": {
            "standoff": 15
           },
           "zerolinecolor": "white",
           "zerolinewidth": 2
          },
          "yaxis": {
           "automargin": true,
           "gridcolor": "white",
           "linecolor": "white",
           "ticks": "",
           "title": {
            "standoff": 15
           },
           "zerolinecolor": "white",
           "zerolinewidth": 2
          }
         }
        },
        "title": {
         "text": "Biểu đồ thể hiện sự tương quan giữa số ca mắc mới và tử vong mới mỗi ngày của biến thể OMICRON"
        },
        "xaxis": {
         "anchor": "y",
         "domain": [
          0,
          1
         ],
         "title": {
          "text": "NewCases"
         }
        },
        "yaxis": {
         "anchor": "x",
         "domain": [
          0,
          1
         ],
         "title": {
          "text": "NewDeaths"
         }
        }
       }
      }
     },
     "metadata": {},
     "output_type": "display_data"
    }
   ],
   "source": [
    "plot_scatter(covid_omicron, \"NewCases\", \"NewDeaths\", \"Biểu đồ thể hiện sự tương quan giữa số ca mắc mới và tử vong mới mỗi ngày của biến thể OMICRON\", \"Date\")"
   ]
  },
  {
   "cell_type": "markdown",
   "metadata": {},
   "source": [
    "Ta tính hệ số tương quan của đường tuyến tính"
   ]
  },
  {
   "cell_type": "code",
   "execution_count": 313,
   "metadata": {},
   "outputs": [
    {
     "name": "stdout",
     "output_type": "stream",
     "text": [
      "Hệ số tương quan giữa 2 biến là R = 0.48769221282441555 cho thấy đường tuyến tính tương quan thuận, có độ mạnh không quá mạnh hoặc yếu nhưng không bằng biến thể DELTA. Với biến chủng OMICRON, số ca mắc mới tăng thì số ca tử vong cũng tăng nhưng mà ít hơn nhiều so với DELTA => Ít nguy hiểm hơn DELTA. Nhưng cũng không thể xem thường vì số ca mắc mới của biến thể này tăng rất nhanh, nhanh hơn nhiều so với DELTA\n"
     ]
    }
   ],
   "source": [
    "res = stats.linregress(covid_omicron[\"NewCases\"], covid_omicron[\"NewDeaths\"])\n",
    "print(f\"Hệ số tương quan giữa 2 biến là R = {res.rvalue} cho thấy đường tuyến tính tương quan thuận, có độ mạnh không quá mạnh hoặc yếu nhưng không bằng biến thể DELTA. \\\n",
    "Với biến chủng OMICRON, số ca mắc mới tăng thì số ca tử vong cũng tăng nhưng mà ít hơn nhiều so với DELTA => Ít nguy hiểm hơn DELTA. \\\n",
    "Nhưng cũng không thể xem thường vì số ca mắc mới của biến thể này tăng rất nhanh, nhanh hơn nhiều so với DELTA\")"
   ]
  },
  {
   "cell_type": "code",
   "execution_count": 314,
   "metadata": {},
   "outputs": [
    {
     "data": {
      "application/vnd.plotly.v1+json": {
       "config": {
        "plotlyServerURL": "https://plot.ly"
       },
       "data": [
        {
         "marker": {
          "color": "red"
         },
         "name": "Delta",
         "type": "bar",
         "uid": "0f5f472c-8350-4977-8cfd-d31d01ba8267",
         "x": [
          "2020-12-01T00:00:00",
          "2020-12-02T00:00:00",
          "2020-12-03T00:00:00",
          "2020-12-04T00:00:00",
          "2020-12-05T00:00:00",
          "2020-12-06T00:00:00",
          "2020-12-07T00:00:00",
          "2020-12-08T00:00:00",
          "2020-12-09T00:00:00",
          "2020-12-10T00:00:00",
          "2020-12-11T00:00:00",
          "2020-12-12T00:00:00",
          "2020-12-13T00:00:00",
          "2020-12-14T00:00:00",
          "2020-12-15T00:00:00",
          "2020-12-16T00:00:00",
          "2020-12-17T00:00:00",
          "2020-12-18T00:00:00",
          "2020-12-19T00:00:00",
          "2020-12-20T00:00:00",
          "2020-12-21T00:00:00",
          "2020-12-22T00:00:00",
          "2020-12-23T00:00:00",
          "2020-12-24T00:00:00",
          "2020-12-25T00:00:00",
          "2020-12-26T00:00:00",
          "2020-12-27T00:00:00",
          "2020-12-28T00:00:00",
          "2020-12-29T00:00:00",
          "2020-12-30T00:00:00",
          "2020-12-31T00:00:00",
          "2021-01-01T00:00:00",
          "2021-01-02T00:00:00",
          "2021-01-03T00:00:00",
          "2021-01-04T00:00:00",
          "2021-01-05T00:00:00",
          "2021-01-06T00:00:00",
          "2021-01-07T00:00:00",
          "2021-01-08T00:00:00",
          "2021-01-09T00:00:00",
          "2021-01-10T00:00:00",
          "2021-01-11T00:00:00",
          "2021-01-12T00:00:00",
          "2021-01-13T00:00:00",
          "2021-01-14T00:00:00",
          "2021-01-15T00:00:00",
          "2021-01-16T00:00:00",
          "2021-01-17T00:00:00",
          "2021-01-18T00:00:00",
          "2021-01-19T00:00:00",
          "2021-01-20T00:00:00",
          "2021-01-21T00:00:00",
          "2021-01-22T00:00:00",
          "2021-01-23T00:00:00",
          "2021-01-24T00:00:00",
          "2021-01-25T00:00:00",
          "2021-01-26T00:00:00",
          "2021-01-27T00:00:00",
          "2021-01-28T00:00:00",
          "2021-01-29T00:00:00",
          "2021-01-30T00:00:00",
          "2021-01-31T00:00:00",
          "2021-02-01T00:00:00",
          "2021-02-02T00:00:00",
          "2021-02-03T00:00:00",
          "2021-02-04T00:00:00",
          "2021-02-05T00:00:00",
          "2021-02-06T00:00:00",
          "2021-02-07T00:00:00",
          "2021-02-08T00:00:00",
          "2021-02-09T00:00:00",
          "2021-02-10T00:00:00",
          "2021-02-11T00:00:00",
          "2021-02-12T00:00:00",
          "2021-02-13T00:00:00",
          "2021-02-14T00:00:00",
          "2021-02-15T00:00:00",
          "2021-02-16T00:00:00",
          "2021-02-17T00:00:00",
          "2021-02-18T00:00:00",
          "2021-02-19T00:00:00",
          "2021-02-20T00:00:00",
          "2021-02-21T00:00:00",
          "2021-02-22T00:00:00",
          "2021-02-23T00:00:00",
          "2021-02-24T00:00:00",
          "2021-02-25T00:00:00",
          "2021-02-26T00:00:00",
          "2021-02-27T00:00:00",
          "2021-02-28T00:00:00",
          "2021-03-01T00:00:00",
          "2021-03-02T00:00:00",
          "2021-03-03T00:00:00",
          "2021-03-04T00:00:00",
          "2021-03-05T00:00:00",
          "2021-03-06T00:00:00",
          "2021-03-07T00:00:00",
          "2021-03-08T00:00:00",
          "2021-03-09T00:00:00",
          "2021-03-10T00:00:00",
          "2021-03-11T00:00:00",
          "2021-03-12T00:00:00",
          "2021-03-13T00:00:00",
          "2021-03-14T00:00:00",
          "2021-03-15T00:00:00",
          "2021-03-16T00:00:00",
          "2021-03-17T00:00:00",
          "2021-03-18T00:00:00",
          "2021-03-19T00:00:00",
          "2021-03-20T00:00:00",
          "2021-03-21T00:00:00",
          "2021-03-22T00:00:00",
          "2021-03-23T00:00:00",
          "2021-03-24T00:00:00",
          "2021-03-25T00:00:00",
          "2021-03-26T00:00:00",
          "2021-03-27T00:00:00",
          "2021-03-28T00:00:00",
          "2021-03-29T00:00:00",
          "2021-03-30T00:00:00",
          "2021-03-31T00:00:00",
          "2021-04-01T00:00:00",
          "2021-04-02T00:00:00",
          "2021-04-03T00:00:00",
          "2021-04-04T00:00:00",
          "2021-04-05T00:00:00",
          "2021-04-06T00:00:00",
          "2021-04-07T00:00:00",
          "2021-04-08T00:00:00",
          "2021-04-09T00:00:00",
          "2021-04-10T00:00:00",
          "2021-04-11T00:00:00",
          "2021-04-12T00:00:00",
          "2021-04-13T00:00:00",
          "2021-04-14T00:00:00",
          "2021-04-15T00:00:00",
          "2021-04-16T00:00:00",
          "2021-04-17T00:00:00",
          "2021-04-18T00:00:00",
          "2021-04-19T00:00:00",
          "2021-04-20T00:00:00",
          "2021-04-21T00:00:00",
          "2021-04-22T00:00:00",
          "2021-04-23T00:00:00",
          "2021-04-24T00:00:00",
          "2021-04-25T00:00:00",
          "2021-04-26T00:00:00",
          "2021-04-27T00:00:00",
          "2021-04-28T00:00:00",
          "2021-04-29T00:00:00",
          "2021-04-30T00:00:00",
          "2021-05-01T00:00:00",
          "2021-05-02T00:00:00",
          "2021-05-03T00:00:00",
          "2021-05-04T00:00:00",
          "2021-05-05T00:00:00",
          "2021-05-06T00:00:00",
          "2021-05-07T00:00:00",
          "2021-05-08T00:00:00",
          "2021-05-09T00:00:00",
          "2021-05-10T00:00:00",
          "2021-05-11T00:00:00",
          "2021-05-12T00:00:00",
          "2021-05-13T00:00:00",
          "2021-05-14T00:00:00",
          "2021-05-15T00:00:00",
          "2021-05-16T00:00:00",
          "2021-05-17T00:00:00",
          "2021-05-18T00:00:00",
          "2021-05-19T00:00:00",
          "2021-05-20T00:00:00",
          "2021-05-21T00:00:00",
          "2021-05-22T00:00:00",
          "2021-05-23T00:00:00",
          "2021-05-24T00:00:00",
          "2021-05-25T00:00:00",
          "2021-05-26T00:00:00",
          "2021-05-27T00:00:00",
          "2021-05-28T00:00:00",
          "2021-05-29T00:00:00",
          "2021-05-30T00:00:00",
          "2021-05-31T00:00:00",
          "2021-06-01T00:00:00",
          "2021-06-02T00:00:00",
          "2021-06-03T00:00:00",
          "2021-06-04T00:00:00",
          "2021-06-05T00:00:00",
          "2021-06-06T00:00:00",
          "2021-06-07T00:00:00",
          "2021-06-08T00:00:00",
          "2021-06-09T00:00:00",
          "2021-06-10T00:00:00",
          "2021-06-11T00:00:00",
          "2021-06-12T00:00:00",
          "2021-06-13T00:00:00",
          "2021-06-14T00:00:00",
          "2021-06-15T00:00:00",
          "2021-06-16T00:00:00",
          "2021-06-17T00:00:00",
          "2021-06-18T00:00:00",
          "2021-06-19T00:00:00",
          "2021-06-20T00:00:00",
          "2021-06-21T00:00:00",
          "2021-06-22T00:00:00",
          "2021-06-23T00:00:00",
          "2021-06-24T00:00:00",
          "2021-06-25T00:00:00",
          "2021-06-26T00:00:00",
          "2021-06-27T00:00:00",
          "2021-06-28T00:00:00",
          "2021-06-29T00:00:00",
          "2021-06-30T00:00:00",
          "2021-07-01T00:00:00",
          "2021-07-02T00:00:00",
          "2021-07-03T00:00:00",
          "2021-07-04T00:00:00",
          "2021-07-05T00:00:00",
          "2021-07-06T00:00:00",
          "2021-07-07T00:00:00",
          "2021-07-08T00:00:00",
          "2021-07-09T00:00:00",
          "2021-07-10T00:00:00",
          "2021-07-11T00:00:00",
          "2021-07-12T00:00:00",
          "2021-07-13T00:00:00",
          "2021-07-14T00:00:00",
          "2021-07-15T00:00:00",
          "2021-07-16T00:00:00",
          "2021-07-17T00:00:00",
          "2021-07-18T00:00:00",
          "2021-07-19T00:00:00",
          "2021-07-20T00:00:00",
          "2021-07-21T00:00:00",
          "2021-07-22T00:00:00",
          "2021-07-23T00:00:00",
          "2021-07-24T00:00:00",
          "2021-07-25T00:00:00",
          "2021-07-26T00:00:00",
          "2021-07-27T00:00:00",
          "2021-07-28T00:00:00",
          "2021-07-29T00:00:00",
          "2021-07-30T00:00:00",
          "2021-07-31T00:00:00",
          "2021-08-01T00:00:00",
          "2021-08-02T00:00:00",
          "2021-08-03T00:00:00",
          "2021-08-04T00:00:00",
          "2021-08-05T00:00:00",
          "2021-08-06T00:00:00",
          "2021-08-07T00:00:00",
          "2021-08-08T00:00:00",
          "2021-08-09T00:00:00",
          "2021-08-10T00:00:00",
          "2021-08-11T00:00:00",
          "2021-08-12T00:00:00",
          "2021-08-13T00:00:00",
          "2021-08-14T00:00:00",
          "2021-08-15T00:00:00",
          "2021-08-16T00:00:00",
          "2021-08-17T00:00:00",
          "2021-08-18T00:00:00",
          "2021-08-19T00:00:00",
          "2021-08-20T00:00:00",
          "2021-08-21T00:00:00",
          "2021-08-22T00:00:00",
          "2021-08-23T00:00:00",
          "2021-08-24T00:00:00",
          "2021-08-25T00:00:00",
          "2021-08-26T00:00:00",
          "2021-08-27T00:00:00",
          "2021-08-28T00:00:00",
          "2021-08-29T00:00:00",
          "2021-08-30T00:00:00",
          "2021-08-31T00:00:00",
          "2021-09-01T00:00:00",
          "2021-09-02T00:00:00",
          "2021-09-03T00:00:00",
          "2021-09-04T00:00:00",
          "2021-09-05T00:00:00",
          "2021-09-06T00:00:00",
          "2021-09-07T00:00:00",
          "2021-09-08T00:00:00",
          "2021-09-09T00:00:00",
          "2021-09-10T00:00:00",
          "2021-09-11T00:00:00",
          "2021-09-12T00:00:00",
          "2021-09-13T00:00:00",
          "2021-09-14T00:00:00",
          "2021-09-15T00:00:00",
          "2021-09-16T00:00:00",
          "2021-09-17T00:00:00",
          "2021-09-18T00:00:00",
          "2021-09-19T00:00:00",
          "2021-09-20T00:00:00",
          "2021-09-21T00:00:00",
          "2021-09-22T00:00:00",
          "2021-09-23T00:00:00",
          "2021-09-24T00:00:00",
          "2021-09-25T00:00:00",
          "2021-09-26T00:00:00",
          "2021-09-27T00:00:00",
          "2021-09-28T00:00:00",
          "2021-09-29T00:00:00",
          "2021-09-30T00:00:00",
          "2021-10-01T00:00:00",
          "2021-10-02T00:00:00",
          "2021-10-03T00:00:00",
          "2021-10-04T00:00:00",
          "2021-10-05T00:00:00",
          "2021-10-06T00:00:00",
          "2021-10-07T00:00:00",
          "2021-10-08T00:00:00",
          "2021-10-09T00:00:00",
          "2021-10-10T00:00:00",
          "2021-10-11T00:00:00",
          "2021-10-12T00:00:00",
          "2021-10-13T00:00:00",
          "2021-10-14T00:00:00",
          "2021-10-15T00:00:00",
          "2021-10-16T00:00:00",
          "2021-10-17T00:00:00",
          "2021-10-18T00:00:00",
          "2021-10-19T00:00:00",
          "2021-10-20T00:00:00",
          "2021-10-21T00:00:00",
          "2021-10-22T00:00:00",
          "2021-10-23T00:00:00",
          "2021-10-24T00:00:00",
          "2021-10-25T00:00:00",
          "2021-10-26T00:00:00",
          "2021-10-27T00:00:00",
          "2021-10-28T00:00:00",
          "2021-10-29T00:00:00",
          "2021-10-30T00:00:00",
          "2021-10-31T00:00:00"
         ],
         "y": [
          0.020452753002430157,
          0.01954808863820497,
          0.01820388349514563,
          0.018092136309581716,
          0.015929200812409273,
          0.0144117367364101,
          0.016515048138882573,
          0.019147838036992933,
          0.0187778258627129,
          0.018632562628360924,
          0.018476302533367652,
          0.016772962464669833,
          0.014651212417309658,
          0.01687922118552053,
          0.020761777591567488,
          0.019137166006193827,
          0.018058617646820718,
          0.01787209119214501,
          0.017713846541351684,
          0.015104768174725829,
          0.017311787684530303,
          0.021325861323338618,
          0.019923297541739618,
          0.017180297948768623,
          0.017843600200329112,
          0.014690673139799092,
          0.018838480087118855,
          0.019173015490266024,
          0.02241540041921252,
          0.021217196338801966,
          0.01601190864560905,
          0.01691703459867109,
          0.014379453268474169,
          0.01468868850035613,
          0.0179978348200306,
          0.02077223425002651,
          0.01890945322078095,
          0.016999735220597143,
          0.018679286943060747,
          0.01702423704331924,
          0.015020623378832334,
          0.016448382817713544,
          0.024352878428524415,
          0.022482554800644376,
          0.020459197977222596,
          0.01942036255135627,
          0.021044071957347244,
          0.017230621004098556,
          0.018810207680401654,
          0.028074362411116164,
          0.0257024675509913,
          0.026152150482720984,
          0.024182194616977227,
          0.024295659731615075,
          0.01994483021846713,
          0.022927080820767037,
          0.030968353520309168,
          0.028710769805964494,
          0.027907792352520864,
          0.026014907684947092,
          0.0260113937068836,
          0.022654014236566693,
          0.02336097478422745,
          0.03296990020916296,
          0.030436994377650305,
          0.027596644506142964,
          0.032011027722468985,
          0.02629939788220638,
          0.020797651786095953,
          0.027956558494923282,
          0.037797177275154435,
          0.03173960632485436,
          0.03104769930667123,
          0.030270009038251087,
          0.02749047503456428,
          0.02161425910454748,
          0.0265975795811388,
          0.031424395429178846,
          0.03080278288453913,
          0.029037475883304426,
          0.028501154233367215,
          0.023421316047254802,
          0.02050104581125073,
          0.024986615523282213,
          0.029615718000577867,
          0.02800209144251438,
          0.02352190735586569,
          0.02442015426351503,
          0.02146203648015526,
          0.02038319362732337,
          0.025195567464640814,
          0.026763528082965397,
          0.02647772441019316,
          0.02271273960554429,
          0.023404998853678135,
          0.01959095385225851,
          0.015811241403727107,
          0.023874721889440356,
          0.025465573251311185,
          0.02174157840502268,
          0.021207086219553025,
          0.020166637424872392,
          0.01856516033246285,
          0.016158647536915934,
          0.021588428331995323,
          0.022641726104653388,
          0.019242325491043304,
          0.019612571336709267,
          0.019272074354972746,
          0.017500755819812558,
          0.019464418262082533,
          0.018995411406202495,
          0.02205557667423099,
          0.01679592018653793,
          0.017693884287370173,
          0.019948654767414226,
          0.01745192894719192,
          0.01516323656162627,
          0.019014888197491007,
          0.020895288913608357,
          0.018877409691087605,
          0.017409040513892533,
          0.016512495688438746,
          0.017659514962643334,
          0.013211436862728196,
          0.016714279364643227,
          0.02058601613801329,
          0.02276158520737879,
          0.017012476686298426,
          0.019087427747590254,
          0.019328122651435443,
          0.01310700565771067,
          0.01645376657889803,
          0.0177030579169704,
          0.017104213967021126,
          0.01666962727022143,
          0.015617601980871683,
          0.015790493535244286,
          0.013366915746012455,
          0.016314031421003128,
          0.016666569900776255,
          0.016497274837913908,
          0.015392595416801514,
          0.016953377933684493,
          0.015904296896569917,
          0.01474376753280264,
          0.017385215535362975,
          0.017541478006153386,
          0.017602196764768634,
          0.017611542189335815,
          0.016267170871079664,
          0.01625501239244766,
          0.015131949955754101,
          0.017289832576642274,
          0.01756858206777522,
          0.017530637269378795,
          0.01685474720180815,
          0.017418865927298098,
          0.016791474471130906,
          0.01623387849659417,
          0.018036536243966794,
          0.019177378239673276,
          0.018370418753366265,
          0.018571619918704742,
          0.018330243490872974,
          0.019275393559758318,
          0.018830421592216758,
          0.021102068447891448,
          0.022614318883963695,
          0.019956348735004157,
          0.020921432987053026,
          0.020657081891487985,
          0.019841103251401104,
          0.020411953754330314,
          0.02022391636195818,
          0.02468228775251534,
          0.022419606241090982,
          0.023469061766934106,
          0.023764394251816135,
          0.022318253582579207,
          0.02144441388952426,
          0.02272962269808609,
          0.023785885841621075,
          0.024364793334891367,
          0.0210340271032985,
          0.025139415045059885,
          0.02356105405909547,
          0.022396270800854195,
          0.025363106289702623,
          0.028589105581708137,
          0.02421815453648373,
          0.01899257905851356,
          0.027881613295999925,
          0.02634303275013654,
          0.030597431971720605,
          0.02604363544725849,
          0.02874535001690903,
          0.02577579379364965,
          0.023508658424399267,
          0.022842778022936987,
          0.023196905164664425,
          0.022195748949777414,
          0.023745919670137543,
          0.02175486304524222,
          0.023660414132791432,
          0.021098068579734404,
          0.022111892832606006,
          0.02057777545156785,
          0.019544550504302826,
          0.019793007630930625,
          0.021385463133035947,
          0.023040124229825175,
          0.019649812596457705,
          0.018750155422375847,
          0.018465791366233292,
          0.020166283389350788,
          0.01961185153719535,
          0.018852666049248686,
          0.018327726682210426,
          0.01854047241871155,
          0.01626153927001162,
          0.01723127584513441,
          0.020535362104273494,
          0.018683107616639535,
          0.015935649172425854,
          0.016014955716361717,
          0.014910759391486858,
          0.014531460755313448,
          0.015308415032679738,
          0.01573446079560157,
          0.01470223312339909,
          0.022394028259130897,
          0.015628884701168518,
          0.015523104196227324,
          0.011398962307046668,
          0.01768797291185351,
          0.016444080018870256,
          0.015649014691667563,
          0.01619636632025674,
          0.015780661879891543,
          0.015944267389610328,
          0.013056667714297428,
          0.017056900238633897,
          0.015269013117074194,
          0.014104988656582853,
          0.01642464090314239,
          0.01542022310859949,
          0.015981875230065383,
          0.012787464572544318,
          0.015430810237965253,
          0.015917727348673416,
          0.014096010748409568,
          0.01798684772714607,
          0.014402353060500025,
          0.014851681303721482,
          0.013054230546924447,
          0.015794884067508987,
          0.015852766944601075,
          0.01471182398079878,
          0.015794583876001737,
          0.014664259554811187,
          0.01608436556348022,
          0.01337446203103486,
          0.016011899396015505,
          0.017084871506785795,
          0.01456424336465288,
          0.016055992512629125,
          0.015405265536692306,
          0.01571836541986664,
          0.013946190397811135,
          0.015084639498432601,
          0.01506392352955692,
          0.014303047027434795,
          0.014948828162558261,
          0.017213429725601567,
          0.016568683809715712,
          0.014998453695527752,
          0.015586014776535186,
          0.014601691888250374,
          0.01793294618107477,
          0.014943475608713251,
          0.015968878715627518,
          0.01673055737107134,
          0.014289109009955475,
          0.017928655706079422,
          0.014878607077188638,
          0.015473044757416437,
          0.018082883668538,
          0.018316932936390702,
          0.01792188939066603,
          0.014545390235118588,
          0.016222381395673866,
          0.016303723517731426,
          0.015642726075270865,
          0.019144962338115468,
          0.01839953811478292,
          0.01792317643911324,
          0.01585680352284561,
          0.014382624392232219,
          0.015205241372361893,
          0.016305536856277347,
          0.02072709833822436,
          0.018891651720202185,
          0.018057560133944453,
          0.016515525399791998,
          0.01660930550610628,
          0.013607012548974343,
          0.016345846827532727,
          0.017447813915036733,
          0.017982979024776025,
          0.01943259089647516,
          0.016346677373852463,
          0.014105367706636231,
          0.014594957878120067,
          0.015203681699213219,
          0.01838109657430856,
          0.01934282020371438,
          0.01759202541853773,
          0.015748322944041524,
          0.015191256830601093,
          0.013455272395284044,
          0.015598980048097257,
          0.018439373709858858,
          0.018169920429505056,
          0.016615408505260252,
          0.01675753639051136,
          0.01566914768232236,
          0.014273207394507534,
          0.015536709950230139,
          0.01760508556761109,
          0.017647285033071836,
          0.018973519856335035,
          0.015468464804478055,
          0.015413501004279103,
          0.012943927932089854
         ]
        },
        {
         "marker": {
          "color": "greenyellow"
         },
         "name": "Omicron",
         "type": "bar",
         "uid": "23ea1e30-0c7d-4172-90f4-9329dedf98a2",
         "x": [
          "2021-11-01T00:00:00",
          "2021-11-02T00:00:00",
          "2021-11-03T00:00:00",
          "2021-11-04T00:00:00",
          "2021-11-05T00:00:00",
          "2021-11-06T00:00:00",
          "2021-11-07T00:00:00",
          "2021-11-08T00:00:00",
          "2021-11-09T00:00:00",
          "2021-11-10T00:00:00",
          "2021-11-11T00:00:00",
          "2021-11-12T00:00:00",
          "2021-11-13T00:00:00",
          "2021-11-14T00:00:00",
          "2021-11-15T00:00:00",
          "2021-11-16T00:00:00",
          "2021-11-17T00:00:00",
          "2021-11-18T00:00:00",
          "2021-11-19T00:00:00",
          "2021-11-20T00:00:00",
          "2021-11-21T00:00:00",
          "2021-11-22T00:00:00",
          "2021-11-23T00:00:00",
          "2021-11-24T00:00:00",
          "2021-11-25T00:00:00",
          "2021-11-26T00:00:00",
          "2021-11-27T00:00:00",
          "2021-11-28T00:00:00",
          "2021-11-29T00:00:00",
          "2021-11-30T00:00:00",
          "2021-12-01T00:00:00",
          "2021-12-02T00:00:00",
          "2021-12-03T00:00:00",
          "2021-12-04T00:00:00",
          "2021-12-05T00:00:00",
          "2021-12-06T00:00:00",
          "2021-12-07T00:00:00",
          "2021-12-08T00:00:00",
          "2021-12-09T00:00:00",
          "2021-12-10T00:00:00",
          "2021-12-11T00:00:00",
          "2021-12-12T00:00:00",
          "2021-12-13T00:00:00",
          "2021-12-14T00:00:00",
          "2021-12-15T00:00:00",
          "2021-12-16T00:00:00",
          "2021-12-17T00:00:00",
          "2021-12-18T00:00:00",
          "2021-12-19T00:00:00",
          "2021-12-20T00:00:00",
          "2021-12-21T00:00:00",
          "2021-12-22T00:00:00",
          "2021-12-23T00:00:00",
          "2021-12-24T00:00:00",
          "2021-12-25T00:00:00",
          "2021-12-26T00:00:00",
          "2021-12-27T00:00:00",
          "2021-12-28T00:00:00",
          "2021-12-29T00:00:00",
          "2021-12-30T00:00:00",
          "2021-12-31T00:00:00",
          "2022-01-01T00:00:00",
          "2022-01-02T00:00:00",
          "2022-01-03T00:00:00",
          "2022-01-04T00:00:00",
          "2022-01-05T00:00:00",
          "2022-01-06T00:00:00",
          "2022-01-07T00:00:00",
          "2022-01-08T00:00:00",
          "2022-01-09T00:00:00",
          "2022-01-10T00:00:00",
          "2022-01-11T00:00:00",
          "2022-01-12T00:00:00",
          "2022-01-13T00:00:00",
          "2022-01-14T00:00:00",
          "2022-01-15T00:00:00",
          "2022-01-16T00:00:00",
          "2022-01-17T00:00:00",
          "2022-01-18T00:00:00",
          "2022-01-19T00:00:00",
          "2022-01-20T00:00:00",
          "2022-01-21T00:00:00",
          "2022-01-22T00:00:00",
          "2022-01-23T00:00:00",
          "2022-01-24T00:00:00",
          "2022-01-25T00:00:00",
          "2022-01-26T00:00:00",
          "2022-01-27T00:00:00",
          "2022-01-28T00:00:00",
          "2022-01-29T00:00:00",
          "2022-01-30T00:00:00",
          "2022-01-31T00:00:00",
          "2022-02-01T00:00:00",
          "2022-02-02T00:00:00",
          "2022-02-03T00:00:00",
          "2022-02-04T00:00:00",
          "2022-02-05T00:00:00",
          "2022-02-06T00:00:00",
          "2022-02-07T00:00:00",
          "2022-02-08T00:00:00",
          "2022-02-09T00:00:00",
          "2022-02-10T00:00:00",
          "2022-02-11T00:00:00",
          "2022-02-12T00:00:00",
          "2022-02-13T00:00:00",
          "2022-02-14T00:00:00",
          "2022-02-15T00:00:00",
          "2022-02-16T00:00:00",
          "2022-02-17T00:00:00",
          "2022-02-18T00:00:00",
          "2022-02-19T00:00:00",
          "2022-02-20T00:00:00",
          "2022-02-21T00:00:00",
          "2022-02-22T00:00:00",
          "2022-02-23T00:00:00",
          "2022-02-24T00:00:00",
          "2022-02-25T00:00:00",
          "2022-02-26T00:00:00",
          "2022-02-27T00:00:00",
          "2022-02-28T00:00:00"
         ],
         "y": [
          0.014907080150495952,
          0.017089504608511198,
          0.01563539216669825,
          0.014517265141956138,
          0.016536305553901905,
          0.015561541164070734,
          0.012837205575570963,
          0.013962713042895498,
          0.016851482107203195,
          0.014056753164975908,
          0.014695480730129301,
          0.015269929868076801,
          0.01461086927692483,
          0.012713216683173765,
          0.012794732825703098,
          0.01466504438804854,
          0.01452577568304417,
          0.013497325403546298,
          0.012999340846713822,
          0.012613043387871354,
          0.011257114679842504,
          0.011713134683301684,
          0.013566727847644252,
          0.012894868198996934,
          0.013127885445206914,
          0.011399204310485932,
          0.012926441256964023,
          0.011721932565246219,
          0.01184564405239437,
          0.012816255420318313,
          0.013082612482834944,
          0.014393377460944799,
          0.011985332050584906,
          0.010759494903653436,
          0.01671404931589166,
          0.011524404372305574,
          0.012038603837439413,
          0.0118506413630325,
          0.012175645959318306,
          0.011809776274063545,
          0.011980811465029415,
          0.01033674096673573,
          0.010528014263142843,
          0.011761155277581464,
          0.012337707664386431,
          0.009919951390339372,
          0.009565027441771564,
          0.01044095705044254,
          0.008973478110151882,
          0.00932684509326845,
          0.009624140500159294,
          0.009090588346847017,
          0.009335229734717787,
          0.0068748714977290145,
          0.006135597571722597,
          0.006224736848472071,
          0.0052489115825722086,
          0.005618108369839518,
          0.004661818097458561,
          0.003902542089016918,
          0.003503190655670411,
          0.0035952644633010975,
          0.00352467160457001,
          0.002513226530492632,
          0.003165124698071579,
          0.0031135425455101205,
          0.0026005979818113866,
          0.0024668950879403683,
          0.0024965323347826067,
          0.0019548306385034535,
          0.0020299230373513424,
          0.0030790350414261337,
          0.0026252394039342794,
          0.0025579385059973374,
          0.002357669498268177,
          0.002530151723349388,
          0.0020128606938290285,
          0.00231091416620415,
          0.002439753891608086,
          0.002512163798690261,
          0.0025611371947610196,
          0.0025844682093878464,
          0.0022490671796182656,
          0.0020539469199895443,
          0.0024816072829866504,
          0.002954315908216447,
          0.0028592095759113227,
          0.0028149948676814396,
          0.0033661832453505984,
          0.0029780963387420725,
          0.0024743383531726825,
          0.003529004653106351,
          0.004026506087682895,
          0.003801290198954925,
          0.0036639903634113143,
          0.004557922544722691,
          0.0037296730794812703,
          0.0032233077909358714,
          0.004206680916962084,
          0.004674521570492883,
          0.005420889667729722,
          0.004228322932697416,
          0.005073221910720848,
          0.004773726773635939,
          0.0035099251505361006,
          0.005961069540225069,
          0.005908288355294678,
          0.005404444811803238,
          0.006250371841071807,
          0.0054530927835051545,
          0.0054015154394819595,
          0.004189208504132747,
          0.005101053691763256,
          0.005210776173075294,
          0.006035513941593796,
          0.006115255040599369,
          0.0057041625309394274,
          0.004810452951708079,
          0.004146460066501071,
          0.005528396893153523
         ]
        }
       ],
       "layout": {
        "template": {
         "data": {
          "bar": [
           {
            "error_x": {
             "color": "#f2f5fa"
            },
            "error_y": {
             "color": "#f2f5fa"
            },
            "marker": {
             "line": {
              "color": "rgb(17,17,17)",
              "width": 0.5
             },
             "pattern": {
              "fillmode": "overlay",
              "size": 10,
              "solidity": 0.2
             }
            },
            "type": "bar"
           }
          ],
          "barpolar": [
           {
            "marker": {
             "line": {
              "color": "rgb(17,17,17)",
              "width": 0.5
             },
             "pattern": {
              "fillmode": "overlay",
              "size": 10,
              "solidity": 0.2
             }
            },
            "type": "barpolar"
           }
          ],
          "carpet": [
           {
            "aaxis": {
             "endlinecolor": "#A2B1C6",
             "gridcolor": "#506784",
             "linecolor": "#506784",
             "minorgridcolor": "#506784",
             "startlinecolor": "#A2B1C6"
            },
            "baxis": {
             "endlinecolor": "#A2B1C6",
             "gridcolor": "#506784",
             "linecolor": "#506784",
             "minorgridcolor": "#506784",
             "startlinecolor": "#A2B1C6"
            },
            "type": "carpet"
           }
          ],
          "choropleth": [
           {
            "colorbar": {
             "outlinewidth": 0,
             "ticks": ""
            },
            "type": "choropleth"
           }
          ],
          "contour": [
           {
            "colorbar": {
             "outlinewidth": 0,
             "ticks": ""
            },
            "colorscale": [
             [
              0,
              "#0d0887"
             ],
             [
              0.1111111111111111,
              "#46039f"
             ],
             [
              0.2222222222222222,
              "#7201a8"
             ],
             [
              0.3333333333333333,
              "#9c179e"
             ],
             [
              0.4444444444444444,
              "#bd3786"
             ],
             [
              0.5555555555555556,
              "#d8576b"
             ],
             [
              0.6666666666666666,
              "#ed7953"
             ],
             [
              0.7777777777777778,
              "#fb9f3a"
             ],
             [
              0.8888888888888888,
              "#fdca26"
             ],
             [
              1,
              "#f0f921"
             ]
            ],
            "type": "contour"
           }
          ],
          "contourcarpet": [
           {
            "colorbar": {
             "outlinewidth": 0,
             "ticks": ""
            },
            "type": "contourcarpet"
           }
          ],
          "heatmap": [
           {
            "colorbar": {
             "outlinewidth": 0,
             "ticks": ""
            },
            "colorscale": [
             [
              0,
              "#0d0887"
             ],
             [
              0.1111111111111111,
              "#46039f"
             ],
             [
              0.2222222222222222,
              "#7201a8"
             ],
             [
              0.3333333333333333,
              "#9c179e"
             ],
             [
              0.4444444444444444,
              "#bd3786"
             ],
             [
              0.5555555555555556,
              "#d8576b"
             ],
             [
              0.6666666666666666,
              "#ed7953"
             ],
             [
              0.7777777777777778,
              "#fb9f3a"
             ],
             [
              0.8888888888888888,
              "#fdca26"
             ],
             [
              1,
              "#f0f921"
             ]
            ],
            "type": "heatmap"
           }
          ],
          "heatmapgl": [
           {
            "colorbar": {
             "outlinewidth": 0,
             "ticks": ""
            },
            "colorscale": [
             [
              0,
              "#0d0887"
             ],
             [
              0.1111111111111111,
              "#46039f"
             ],
             [
              0.2222222222222222,
              "#7201a8"
             ],
             [
              0.3333333333333333,
              "#9c179e"
             ],
             [
              0.4444444444444444,
              "#bd3786"
             ],
             [
              0.5555555555555556,
              "#d8576b"
             ],
             [
              0.6666666666666666,
              "#ed7953"
             ],
             [
              0.7777777777777778,
              "#fb9f3a"
             ],
             [
              0.8888888888888888,
              "#fdca26"
             ],
             [
              1,
              "#f0f921"
             ]
            ],
            "type": "heatmapgl"
           }
          ],
          "histogram": [
           {
            "marker": {
             "pattern": {
              "fillmode": "overlay",
              "size": 10,
              "solidity": 0.2
             }
            },
            "type": "histogram"
           }
          ],
          "histogram2d": [
           {
            "colorbar": {
             "outlinewidth": 0,
             "ticks": ""
            },
            "colorscale": [
             [
              0,
              "#0d0887"
             ],
             [
              0.1111111111111111,
              "#46039f"
             ],
             [
              0.2222222222222222,
              "#7201a8"
             ],
             [
              0.3333333333333333,
              "#9c179e"
             ],
             [
              0.4444444444444444,
              "#bd3786"
             ],
             [
              0.5555555555555556,
              "#d8576b"
             ],
             [
              0.6666666666666666,
              "#ed7953"
             ],
             [
              0.7777777777777778,
              "#fb9f3a"
             ],
             [
              0.8888888888888888,
              "#fdca26"
             ],
             [
              1,
              "#f0f921"
             ]
            ],
            "type": "histogram2d"
           }
          ],
          "histogram2dcontour": [
           {
            "colorbar": {
             "outlinewidth": 0,
             "ticks": ""
            },
            "colorscale": [
             [
              0,
              "#0d0887"
             ],
             [
              0.1111111111111111,
              "#46039f"
             ],
             [
              0.2222222222222222,
              "#7201a8"
             ],
             [
              0.3333333333333333,
              "#9c179e"
             ],
             [
              0.4444444444444444,
              "#bd3786"
             ],
             [
              0.5555555555555556,
              "#d8576b"
             ],
             [
              0.6666666666666666,
              "#ed7953"
             ],
             [
              0.7777777777777778,
              "#fb9f3a"
             ],
             [
              0.8888888888888888,
              "#fdca26"
             ],
             [
              1,
              "#f0f921"
             ]
            ],
            "type": "histogram2dcontour"
           }
          ],
          "mesh3d": [
           {
            "colorbar": {
             "outlinewidth": 0,
             "ticks": ""
            },
            "type": "mesh3d"
           }
          ],
          "parcoords": [
           {
            "line": {
             "colorbar": {
              "outlinewidth": 0,
              "ticks": ""
             }
            },
            "type": "parcoords"
           }
          ],
          "pie": [
           {
            "automargin": true,
            "type": "pie"
           }
          ],
          "scatter": [
           {
            "marker": {
             "line": {
              "color": "#283442"
             }
            },
            "type": "scatter"
           }
          ],
          "scatter3d": [
           {
            "line": {
             "colorbar": {
              "outlinewidth": 0,
              "ticks": ""
             }
            },
            "marker": {
             "colorbar": {
              "outlinewidth": 0,
              "ticks": ""
             }
            },
            "type": "scatter3d"
           }
          ],
          "scattercarpet": [
           {
            "marker": {
             "colorbar": {
              "outlinewidth": 0,
              "ticks": ""
             }
            },
            "type": "scattercarpet"
           }
          ],
          "scattergeo": [
           {
            "marker": {
             "colorbar": {
              "outlinewidth": 0,
              "ticks": ""
             }
            },
            "type": "scattergeo"
           }
          ],
          "scattergl": [
           {
            "marker": {
             "line": {
              "color": "#283442"
             }
            },
            "type": "scattergl"
           }
          ],
          "scattermapbox": [
           {
            "marker": {
             "colorbar": {
              "outlinewidth": 0,
              "ticks": ""
             }
            },
            "type": "scattermapbox"
           }
          ],
          "scatterpolar": [
           {
            "marker": {
             "colorbar": {
              "outlinewidth": 0,
              "ticks": ""
             }
            },
            "type": "scatterpolar"
           }
          ],
          "scatterpolargl": [
           {
            "marker": {
             "colorbar": {
              "outlinewidth": 0,
              "ticks": ""
             }
            },
            "type": "scatterpolargl"
           }
          ],
          "scatterternary": [
           {
            "marker": {
             "colorbar": {
              "outlinewidth": 0,
              "ticks": ""
             }
            },
            "type": "scatterternary"
           }
          ],
          "surface": [
           {
            "colorbar": {
             "outlinewidth": 0,
             "ticks": ""
            },
            "colorscale": [
             [
              0,
              "#0d0887"
             ],
             [
              0.1111111111111111,
              "#46039f"
             ],
             [
              0.2222222222222222,
              "#7201a8"
             ],
             [
              0.3333333333333333,
              "#9c179e"
             ],
             [
              0.4444444444444444,
              "#bd3786"
             ],
             [
              0.5555555555555556,
              "#d8576b"
             ],
             [
              0.6666666666666666,
              "#ed7953"
             ],
             [
              0.7777777777777778,
              "#fb9f3a"
             ],
             [
              0.8888888888888888,
              "#fdca26"
             ],
             [
              1,
              "#f0f921"
             ]
            ],
            "type": "surface"
           }
          ],
          "table": [
           {
            "cells": {
             "fill": {
              "color": "#506784"
             },
             "line": {
              "color": "rgb(17,17,17)"
             }
            },
            "header": {
             "fill": {
              "color": "#2a3f5f"
             },
             "line": {
              "color": "rgb(17,17,17)"
             }
            },
            "type": "table"
           }
          ]
         },
         "layout": {
          "annotationdefaults": {
           "arrowcolor": "#f2f5fa",
           "arrowhead": 0,
           "arrowwidth": 1
          },
          "autotypenumbers": "strict",
          "coloraxis": {
           "colorbar": {
            "outlinewidth": 0,
            "ticks": ""
           }
          },
          "colorscale": {
           "diverging": [
            [
             0,
             "#8e0152"
            ],
            [
             0.1,
             "#c51b7d"
            ],
            [
             0.2,
             "#de77ae"
            ],
            [
             0.3,
             "#f1b6da"
            ],
            [
             0.4,
             "#fde0ef"
            ],
            [
             0.5,
             "#f7f7f7"
            ],
            [
             0.6,
             "#e6f5d0"
            ],
            [
             0.7,
             "#b8e186"
            ],
            [
             0.8,
             "#7fbc41"
            ],
            [
             0.9,
             "#4d9221"
            ],
            [
             1,
             "#276419"
            ]
           ],
           "sequential": [
            [
             0,
             "#0d0887"
            ],
            [
             0.1111111111111111,
             "#46039f"
            ],
            [
             0.2222222222222222,
             "#7201a8"
            ],
            [
             0.3333333333333333,
             "#9c179e"
            ],
            [
             0.4444444444444444,
             "#bd3786"
            ],
            [
             0.5555555555555556,
             "#d8576b"
            ],
            [
             0.6666666666666666,
             "#ed7953"
            ],
            [
             0.7777777777777778,
             "#fb9f3a"
            ],
            [
             0.8888888888888888,
             "#fdca26"
            ],
            [
             1,
             "#f0f921"
            ]
           ],
           "sequentialminus": [
            [
             0,
             "#0d0887"
            ],
            [
             0.1111111111111111,
             "#46039f"
            ],
            [
             0.2222222222222222,
             "#7201a8"
            ],
            [
             0.3333333333333333,
             "#9c179e"
            ],
            [
             0.4444444444444444,
             "#bd3786"
            ],
            [
             0.5555555555555556,
             "#d8576b"
            ],
            [
             0.6666666666666666,
             "#ed7953"
            ],
            [
             0.7777777777777778,
             "#fb9f3a"
            ],
            [
             0.8888888888888888,
             "#fdca26"
            ],
            [
             1,
             "#f0f921"
            ]
           ]
          },
          "colorway": [
           "#636efa",
           "#EF553B",
           "#00cc96",
           "#ab63fa",
           "#FFA15A",
           "#19d3f3",
           "#FF6692",
           "#B6E880",
           "#FF97FF",
           "#FECB52"
          ],
          "font": {
           "color": "#f2f5fa"
          },
          "geo": {
           "bgcolor": "rgb(17,17,17)",
           "lakecolor": "rgb(17,17,17)",
           "landcolor": "rgb(17,17,17)",
           "showlakes": true,
           "showland": true,
           "subunitcolor": "#506784"
          },
          "hoverlabel": {
           "align": "left"
          },
          "hovermode": "closest",
          "mapbox": {
           "style": "dark"
          },
          "paper_bgcolor": "rgb(17,17,17)",
          "plot_bgcolor": "rgb(17,17,17)",
          "polar": {
           "angularaxis": {
            "gridcolor": "#506784",
            "linecolor": "#506784",
            "ticks": ""
           },
           "bgcolor": "rgb(17,17,17)",
           "radialaxis": {
            "gridcolor": "#506784",
            "linecolor": "#506784",
            "ticks": ""
           }
          },
          "scene": {
           "xaxis": {
            "backgroundcolor": "rgb(17,17,17)",
            "gridcolor": "#506784",
            "gridwidth": 2,
            "linecolor": "#506784",
            "showbackground": true,
            "ticks": "",
            "zerolinecolor": "#C8D4E3"
           },
           "yaxis": {
            "backgroundcolor": "rgb(17,17,17)",
            "gridcolor": "#506784",
            "gridwidth": 2,
            "linecolor": "#506784",
            "showbackground": true,
            "ticks": "",
            "zerolinecolor": "#C8D4E3"
           },
           "zaxis": {
            "backgroundcolor": "rgb(17,17,17)",
            "gridcolor": "#506784",
            "gridwidth": 2,
            "linecolor": "#506784",
            "showbackground": true,
            "ticks": "",
            "zerolinecolor": "#C8D4E3"
           }
          },
          "shapedefaults": {
           "line": {
            "color": "#f2f5fa"
           }
          },
          "sliderdefaults": {
           "bgcolor": "#C8D4E3",
           "bordercolor": "rgb(17,17,17)",
           "borderwidth": 1,
           "tickwidth": 0
          },
          "ternary": {
           "aaxis": {
            "gridcolor": "#506784",
            "linecolor": "#506784",
            "ticks": ""
           },
           "baxis": {
            "gridcolor": "#506784",
            "linecolor": "#506784",
            "ticks": ""
           },
           "bgcolor": "rgb(17,17,17)",
           "caxis": {
            "gridcolor": "#506784",
            "linecolor": "#506784",
            "ticks": ""
           }
          },
          "title": {
           "x": 0.05
          },
          "updatemenudefaults": {
           "bgcolor": "#506784",
           "borderwidth": 0
          },
          "xaxis": {
           "automargin": true,
           "gridcolor": "#283442",
           "linecolor": "#506784",
           "ticks": "",
           "title": {
            "standoff": 15
           },
           "zerolinecolor": "#283442",
           "zerolinewidth": 2
          },
          "yaxis": {
           "automargin": true,
           "gridcolor": "#283442",
           "linecolor": "#506784",
           "ticks": "",
           "title": {
            "standoff": 15
           },
           "zerolinecolor": "#283442",
           "zerolinewidth": 2
          }
         }
        },
        "title": {
         "text": "Tỉ lệ tử vong mỗi ngày giữa hai loại biến thể DELTA và OMICRON"
        }
       }
      }
     },
     "metadata": {},
     "output_type": "display_data"
    },
    {
     "name": "stdout",
     "output_type": "stream",
     "text": [
      "Từ biểu đồ ta cũng có thể thấy được rằng tỉ lệ tử vong vì biến thể DELTA lớn hơn OMICRON.\n"
     ]
    }
   ],
   "source": [
    "plot_ticks(covid_compare, \"Date\", \"Mortality\", \"Tỉ lệ tử vong mỗi ngày giữa hai loại biến thể DELTA và OMICRON\", is_group=False)\n",
    "print(\"Từ biểu đồ ta cũng có thể thấy được rằng tỉ lệ tử vong vì biến thể DELTA lớn hơn OMICRON.\")"
   ]
  },
  {
   "cell_type": "markdown",
   "metadata": {},
   "source": [
    "Dựa vào biểu đồ tỷ lệ tử vong của 2 loại biến thể và hệ số tương quan, nhóm em đưa ra nhận xét:\n",
    "\n",
    "- Biến thể `DELTA` có mối tương quan mạnh hơn so với biến thể `OMICRON`. (giữa 2 biến `NewCases` và `NewDeaths` theo từng ngày)\n",
    "- Biến thể `DELTA` có tốc độ lây lan nhanh, số ca tử vong mới mỗi ngày tăng cao dẫn đến tỷ lệ tử vong cao.\n",
    "- Biến thể `OMICRON` có tốc độ lây lan nhanh vượt trội so với biến thể `DELTA` (mặc dù biến thể `OMICRON` xuất hiện sau) nhưng về số ca tử vong mới mỗi ngày thì biến thể `OMICRON` ít hơn dẫn tới tỷ lệ tử vong cũng thấp hơn biến thể `DELTA`"
   ]
  },
  {
   "cell_type": "markdown",
   "metadata": {},
   "source": [
    "Để có thể đưa ra kết luận chắc chắn, ta thực hiện kiểm định thống kê T-test trên 2 nhóm độc lập: tỉ lệ tử vong vì dịch bệnh mỗi ngày của hai nhóm biến thể `DELTA` và `OMICRON`\n",
    "\n",
    "Ta đặt giả thuyết:\n",
    "\n",
    "`H0: tỉ lệ tử vong của hai nhóm biến thể là như nhau`\n",
    "\n",
    "`Ha: tỉ lệ tử vong của biến thể DELTA cao hơn OMICRON.`"
   ]
  },
  {
   "cell_type": "code",
   "execution_count": 315,
   "metadata": {},
   "outputs": [
    {
     "name": "stdout",
     "output_type": "stream",
     "text": [
      "Giá trị p tính được là kiểm định hai phía: p =  3.763915980121889e-83\n",
      "Vì ta kiểm định 1 phía nên p_value = p/2 =  1.8819579900609447e-83\n",
      "Ta có p_value = 1.8819579900609447e-83 < 0,05 và t = 24.09083434337719 > 0 => Ta bác bỏ giả thuyết H0, chấp nhận Ha\n"
     ]
    }
   ],
   "source": [
    "t, p = stats.ttest_ind(covid_delta['Mortality'], covid_omicron['Mortality'])\n",
    "print ('Giá trị p tính được là kiểm định hai phía: p = ', p)\n",
    "print ('Vì ta kiểm định 1 phía nên p_value = p/2 = ', p/2)\n",
    "p = p/2\n",
    "print (f'Ta có p_value = {p} < 0,05 và t = {t} > 0 => Ta bác bỏ giả thuyết H0, chấp nhận Ha')"
   ]
  },
  {
   "cell_type": "markdown",
   "metadata": {},
   "source": [
    "Nhận xét: \n",
    "\n",
    "Ta có thể đưa ra kết luận rằng tỉ lệ tử vong của nhóm biến thể `DELTA` cao hơn `OMICRON`. Do đó có thể nói tuy biến thể `OMICRON` làm gia tăng nhanh chóng số ca mắc nhưng tỉ lệ tử vọng lại thấp hơn so với biến thể `DELTA`. Vậy biến thể `OMICRON` có thể ít gây nguy hiểm hơn `DELTA` nhưng số ca mắc tăng nhanh có thể làm quá tải hệ thống y tế ở một số quốc gia. \n",
    "\n",
    "Chúng ta không nên xem thường bất kì loại biến thể nào của Covid-19"
   ]
  },
  {
   "cell_type": "markdown",
   "metadata": {},
   "source": [
    "# 6. Kết luận"
   ]
  },
  {
   "cell_type": "markdown",
   "metadata": {},
   "source": [
    "**Kết quả nhóm đạt được**\n",
    "1. Tình hình dịch bệnh ở các nước đều có thể nguy hiểm như nhau, không phân biệt dân số, nền kinh tế của các quốc gia đó\n",
    "2. Vaccine đóng góp vai trò to lớn trong việc đẩy lùi dịch bệnh Covid-19, nhờ sự xuất hiện của nó mà tình hình dịch đang được kiểm soát. Tuy số ca mắc mới mỗi ngày vẫn tăng nhưng tỉ lệ tử vong giảm đáng kể so với trước khi có vaccine\n",
    "3. Biến chủng `OMICRON` xuất hiện gần đây khiến cho số ca mắc tăng nhanh đột biến, làm quá tải hệ thống y tế của nhiều nước trên thế giới. Tuy nhiên, so với biến chủng `DELTA` thì tỉ lệ tử vong của biến chủng `OMICRON` thấp hơn, có lẽ cũng nhờ sự xuất hiện của vaccine. Điều đó làm cho thế giới dần kiểm soát được đại dịch, tiến tới bình thường hoá mọi thứ.\n",
    "\n",
    "**Nếu có đủ thời gian và kiến thức thì nhóm em dự định sẽ thực hiện việc dự đoán số ca mắc, tử vong mới của các ngày tiếp theo. **"
   ]
  },
  {
   "cell_type": "markdown",
   "metadata": {},
   "source": [
    "# 7. Đóng góp"
   ]
  },
  {
   "cell_type": "markdown",
   "metadata": {},
   "source": [
    "Đóng góp của các thành viên\n",
    "| Tên  | MSSV | Proposal | Trả lời câu hỏi nghiên cứu  | Report |Presentation |  Tỉ lệ đánh giá  | \n",
    "|:-:|:-:|:-:|:-:|:-:|:-:|---| \n",
    "| Nguyễn Minh Sơn  | 20110713 |  Đặt câu hỏi nghiên cứu + Làm file proposal | câu 1   | Mô hình hoá dữ liệu + thực nghiệm  | Tổng hợp file thuyết trình  |    | \n",
    "| Nguyễn Thái Ngọc Tân  | 20110719  | Đặt câu hỏi nghiên cứu |  câu 4 | Tóm tắt, giới thiệu, mô tả dữ liệu  |   |    | \n",
    "| Đỗ Minh Dũng |  20110620 |  Đặt câu hỏi nghiên cứu\t | câu 2  | Trực quan hoá dữ liệu  |   |    | \n",
    "| Lê Anh Nhân |  20110689 |  Đặt câu hỏi nghiên cứu\t | câu 3  | Kết luận, tham khảo  |   |    | "
   ]
  },
  {
   "cell_type": "markdown",
   "metadata": {},
   "source": [
    "# 8. Tham khảo"
   ]
  },
  {
   "cell_type": "markdown",
   "metadata": {},
   "source": [
    "- Các thư viện nhóm sử dụng cho project: pandas, matplotlib, seaborn, plotly, scipy....\n",
    "- Nhóm có tham khảo cách vẽ các biểu đồ dữ liệu trên kaggle"
   ]
  }
 ],
 "metadata": {
  "kernelspec": {
   "display_name": "Python 3.9.12 ('base')",
   "language": "python",
   "name": "python3"
  },
  "language_info": {
   "codemirror_mode": {
    "name": "ipython",
    "version": 3
   },
   "file_extension": ".py",
   "mimetype": "text/x-python",
   "name": "python",
   "nbconvert_exporter": "python",
   "pygments_lexer": "ipython3",
   "version": "3.9.12"
  },
  "vscode": {
   "interpreter": {
    "hash": "960f2ae499b536958d588fcafb5f9e40dd995fc898e4b79db932caf22756042a"
   }
  }
 },
 "nbformat": 4,
 "nbformat_minor": 4
}
