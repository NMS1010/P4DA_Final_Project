{
 "cells": [
  {
   "cell_type": "markdown",
   "metadata": {},
   "source": [
    "# <span style=\"color:red; font-size:75px;\"> Báo cáo (Report)</span>"
   ]
  },
  {
   "cell_type": "markdown",
   "metadata": {},
   "source": [
    "<span style=\"color:red; font-size: 50px;\">Tên đề tài: Phân tích tình hình dịch bệnh Covid-19</span>"
   ]
  },
  {
   "cell_type": "markdown",
   "metadata": {},
   "source": [
    "## Nhóm 13\n",
    "## Thành viên \n",
    "\n",
    "1. Nguyễn Minh Sơn - 20110713\n",
    "2. Lê Anh Nhân - 20110689\n",
    "3. Đỗ Minh Dũng - 20110620\n",
    "4. Nguyễn Thái Ngọc Tân - 20110719"
   ]
  },
  {
   "cell_type": "markdown",
   "metadata": {},
   "source": [
    "# 1. Tóm tắt"
   ]
  },
  {
   "cell_type": "markdown",
   "metadata": {},
   "source": [
    "Đại dịch covid-19 xuất hiện từ cuối năm 2019, cho đến nay nó đã lan rộng ra hầu hết các quốc gia và vùng lãnh thổ trên thế giới, gây thiệt hại nghiêm trọng về mọi mặt về kinh tế, xã hội....\n",
    "\n",
    "Mặc dù đã có vaccine phòng ngừa covid-19 nhưng dịch bệnh này vẫn còn hoành hoành ở nhiều quốc gia, liên tục xuất hiện các biến thể mới nguy hiểm.\n",
    "\n",
    "Vì thế, nhóm đã chọn tập dữ liệu liên quan đến vấn đề này để phân tích tình hình dịch bệnh covid-19. \n",
    "\n",
    "Nhóm đã đặt ra một số câu hỏi nghiên cứu về dịch Covid-19, đánh giá xem đại dịch này có phụ thuộc vào các yếu tố như nền kinh tế, dân số hay không? Tình hình dịch bệnh như thế nào khi biến thể Omicron xuất hiện? Hơn nữa, nhóm cũng muốn đánh giá xem liệu việc tiêm vaccine có làm giảm bớt số ca mắc, số ca tử vong hay làm giảm đi tỉ lệ tử vong của Covid-19 hay không ?\n",
    "\n",
    "Để có thể trả lời cho các câu hỏi trên, nhóm đã sử dụng các phương pháp thống kê như kiểm định giả thuyết, các suy diễn về mỗi quan hệ giữa hai biến (C --> Q, Q --> Q), thực hiện thống kê T-test để quyết định chấp nhận hoặc bác bỏ giả thuyết thống kê ban đầu\n",
    "\n",
    "Về kết quả, nhóm đã có thể trả lời được các câu hỏi nghiên cứu đặt ra"
   ]
  },
  {
   "cell_type": "markdown",
   "metadata": {},
   "source": [
    "# 2. Giới thiệu\n",
    "## Câu hỏi nghiên cứu"
   ]
  },
  {
   "cell_type": "markdown",
   "metadata": {},
   "source": [
    "### Câu 1. Dân số có phải là nguyên nhân dẫn tới việc gia tăng số ca mắc ở các quốc gia? **(X: Population, Location)**  **(Y:TotalCases)**\n",
    "Dân số đông làm cho mọi người tiếp xúc với nhau gần hơn, đó có thể là điều kiệu thuận lợi dẫn tới lây lan dịch Covid-19 dễ dàng hơn ở các quốc gia. Nhóm dựa vào input đầu vào là các biến `Population`, `TotalCases`, `Location`  để xác định xem có sự phụ thuộc nào giữa dân số và số ca mắc ở các quốc gia hay không bằng suy luận thống kê giữa hai biến số (Q --> Q)"
   ]
  },
  {
   "cell_type": "markdown",
   "metadata": {},
   "source": [
    "### Câu 2. Có phải các nước có nền kinh tế phát triển, thu nhập cao thì dịch bệnh Covid-19 sẽ ít nghiêm trọng hơn so với các nước có nền kinh tế phát triển kém hơn, thu nhập thấp hơn không ? **(X: Location, TotalCases, TotalDeaths)**  **(Y: Tỉ lệ tử vong)**\n",
    "Những nước có nền kinh tế phát triển thường sẽ có hệ thống y tế tốt hơn. Ta có thể nhận thấy những nước thuộc châu Âu (Anh, Đức….), châu Mỹ (Hoa Kỳ, Canada..) thường có nền kinh tế phát triển hơn các khu vực còn lại. Nhóm muốn biết liệu nền kinh tế của mỗi nước có ảnh hưởng đến tình dịch dịch bệnh tại nước đó hay không. Dựa vào input đầu vào là các biến `Location`, `TotalCases`, `TotalDeaths` để xác định xem có sự phụ thuộc nào giữa số ca mắc, số ca tử vong và tỉ lệ tử vong với nền kinh tế của các nước ở hai nhóm nước phát triển và kém phát triển hơn hay không bằng thống kê T-test giữa hai nhóm độc lập (C --> Q)"
   ]
  },
  {
   "cell_type": "markdown",
   "metadata": {},
   "source": [
    "### Câu 3. Khi vaccine được phổ biến, điều đó có giúp ích cho việc chống đại dịch Covid-19 trên thế giới? **(X: Date, PeopleVaccinated, NewCases, NewDeaths)**  **(Y: Tỉ lệ tử vong)**\n",
    "Vaccine xuất hiện là một giải pháp tốt có thể giúp đẩy lùi đại dịch Covid-19 đang hoành hành. Nhóm muốn dựa vào số liệu để xem xét liệu vaccine có thực sự đang giúp con người chống lại đại dịch Covid-19 hay không, dựa vào input đầu vào là các biến `Date`, `PeopleVaccinated`, `NewCases`, `NewDeaths` để xác định xem liệu khi độ bao phủ của vaccine trên thế giới lớn dần thì số ca mắc mới và tử vong mới mỗi ngày có giảm đi không, đánh giá độ hiệu quả của vaccine đối với đại dịch Covid-19 thông qua tỉ lệ tử vong từng ngày trước và sau khi tiêm vaccine bằng thống kê T-test giữa hai nhóm độc lập (C --> Q)"
   ]
  },
  {
   "cell_type": "markdown",
   "metadata": {},
   "source": [
    "## Câu 4: Biến thể Omicron xuất hiện vào khoảng 11/2021 có gây nguy hiểm không? So sánh với biến thể Delta xuất hiện vào tháng 12/2020. **(X: Date, NewCases, NewDeaths)**  **(Y: Tỉ lệ tử vong)**\n",
    "\n",
    "Biến thể Omicron xuất hiện vào khoảng cuối năm 2021, được nhận định là biến thể có khả năng lây lan nhanh nhất. Nhóm muốn đánh giá mức độ nguy hiểm của nó so với biên thể Delta xuất hiện trước đó, dựa vào input đầu vào là các biến `Date`, `NewCases`, `NewDeaths` để xác định xem có phải số ca mắc mới tăng thì số ca tử vong mới mỗi ngày cũng tăng lên  giữa hai loại biến thể `DELTA` và `OMICRON`, đồng thờI thực hiện kiểm định giả thuyết để xem tỉ lệ tử vong qua từng ngày của loại biến thể nào cao hơn bằng thống kê T-test giữa hai nhóm độc lập (C --> Q), từ đó đưa ra được kết luận cho câu hỏi"
   ]
  },
  {
   "cell_type": "markdown",
   "metadata": {},
   "source": [
    "# 3. Dữ liệu"
   ]
  },
  {
   "cell_type": "markdown",
   "metadata": {},
   "source": [
    "## 3.1 Mô tả dữ liệu"
   ]
  },
  {
   "cell_type": "markdown",
   "metadata": {},
   "source": [
    "File dữ liệu: owid-covid-data.csv\n",
    "\n",
    "Nhóm em đã tham khảo các nguồn dữ liệu về dịch bệnh Covid-19 và đã chọn được tập dữ liệu mà nhóm cảm thấy phù hợp.\n",
    "\n",
    "Link dataset: [COVID-19 dataset Dataset coronavirus pandemic](https://www.kaggle.com/datasets/georgesaavedra/covid19-dataset)\n",
    "\n",
    "Giải thích các biến sử dụng\n",
    "\n",
    "|Biến                                   |Mô tả\n",
    "|:--------------------------------------|:--------------------------------------------------------------------------|\n",
    "|`continent`                            |Tên châu lục                                                               |\n",
    "|`location`                             |Tên nước                                                                   |\n",
    "|`date`                                 |Ngày quan sát                                                              |\n",
    "|`total_cases`                          |Tổng số ca mắc covid 19 đã được xác nhận                                   |\n",
    "|`new_cases`                            |Số ca mắc mới covid 19 theo ngày đã được xác nhận                          |\n",
    "|`total_cases_per_million`              |Tổng số ca mắc covid 19 đã được xác nhận trên 1,000,000 người              |\n",
    "|`new_cases_per_million`                |Số ca mắc mới covid 19 theo ngày đã được xác nhận trên 1,000,000 người     |\n",
    "|`total_deaths`                         |Tổng số ca covid 19 tử vong đã được xác nhận                               |\n",
    "|`new_deaths`                           |Số ca covid 19 tử vong mới theo ngày đã được xác nhận                      |\n",
    "|`total_deaths_per_million`             |Tổng số ca covid 19 tử vong đã được xác nhận trên 1,000,000 người          |\n",
    "|`new_deaths_per_million`               |Số ca covid 19 tử vong mới theo ngày đã được xác nhận trên 1,000,000 người |\n",
    "|`total_vaccinations`                   |Tổng số liều vaccine                                                       |\n",
    "|`people_vaccinated`                    |Tổng số người tiêm ít nhất một mũi vaccine                                 |\n",
    "|`people_fully_vaccinated`              |Tổng số người tiêm đủ liều vaccine theo quy định                           |\n",
    "|`people_fully_vaccinated_per_hundred`  |Tổng số người tiêm đầy đủ vaccine theo quy định mỗi 100 người              |\n",
    "|`population`                           |Tổng dân số                                                                |"
   ]
  },
  {
   "cell_type": "markdown",
   "metadata": {
    "tags": []
   },
   "source": [
    "## 3.2 Tiền xử lý dữ liệu"
   ]
  },
  {
   "cell_type": "markdown",
   "metadata": {},
   "source": [
    "##### Kiểm tra dữ liệu"
   ]
  },
  {
   "cell_type": "markdown",
   "metadata": {},
   "source": [
    "| Biến | Số ô NULL |\n",
    "| :----- | :---------- |\n",
    "|Continent|9956\n",
    "|Location|0\n",
    "|Date|0\n",
    "|TotalCases|3033\n",
    "|NewCases|3193\n",
    "|TotalCases_per_million|3791\n",
    "|NewCases_per_million|3951\n",
    "|TotalDeaths|20875\n",
    "|NewDeaths|20839\n",
    "|TotalDeaths_per_million|21620\n",
    "|NewDeaths_per_million|21584\n",
    "|TotalVaccinations|121132\n",
    "|PeopleVaccinated|123339\n",
    "|PeopleFullyVaccinated|126085\n",
    "|PeopleFullyVaccinated_per_hundred|126085\n",
    "|Population|1075\n",
    "\n",
    "Ta thấy vẫn còn nhiều ô nhận giá trị NULL, ta sẽ chuẩn hoá giá trị trong các cột này"
   ]
  },
  {
   "cell_type": "markdown",
   "metadata": {},
   "source": [
    "##### Các khu vực không có tên châu lục"
   ]
  },
  {
   "cell_type": "markdown",
   "metadata": {},
   "source": [
    "`Africa`, `Asia`, `Europe`, `European Union`, `High income`, `International`\n",
    " `Low income`, `Lower middle income`, `North America`, `Oceania`\n",
    " `South America`, `Upper middle income`, `World`\n",
    "\n",
    "Các giá trị trong cột `Location` của tập dữ liệu là tên các khu vực trên thế giới, bao gồm cả tên các quốc gia. Vì một số khu vực trong cột `Location` cũng chính là tên châu lục nên giá trị tương ứng trong cột `Continent` đã nhận giá trị NaN. Do vậy, nhóm sẽ chuẩn hoá các giá trị NaN này thành 0"
   ]
  },
  {
   "cell_type": "markdown",
   "metadata": {},
   "source": [
    "##### Các khu vực không có thông kê dân số"
   ]
  },
  {
   "cell_type": "markdown",
   "metadata": {},
   "source": [
    "Một số khu vực trên thế giới như `International`,`Northern Cyprus` chưa có thống kê về dân số trong tập dữ liệu, nên nhóm sẽ bỏ qua các dòng dữ liệu của các khu vực này."
   ]
  },
  {
   "cell_type": "markdown",
   "metadata": {},
   "source": [
    "##### Clean Data"
   ]
  },
  {
   "cell_type": "markdown",
   "metadata": {},
   "source": [
    "Còn lại những cột có dữ liệu bị để trống (NULL) vì vào thời điểm quan sát thì có thể chưa xảy ra ca tử vong, chưa có ca mắc hoặc chưa có vaccine để tiêm phòng... \n",
    "\n",
    "Vì thế, nhóm sẽ làm sạch dữ liệu của các cột nhận giá trị NaN khác bằng các số 0"
   ]
  },
  {
   "cell_type": "markdown",
   "metadata": {},
   "source": [
    "##### Thời gian thu thập dữ liệu về dịch bệnh"
   ]
  },
  {
   "cell_type": "markdown",
   "metadata": {},
   "source": [
    "Dữ liệu về dịch bệnh Covid-19 được thu thập từ ngày 2020-01-22 tới ngày 2022-03-05"
   ]
  },
  {
   "cell_type": "markdown",
   "metadata": {
    "tags": []
   },
   "source": [
    "## 3.3 Chi tiết dữ liệu"
   ]
  },
  {
   "cell_type": "markdown",
   "metadata": {},
   "source": [
    " ### Hình thái dữ liệu:"
   ]
  },
  {
   "cell_type": "markdown",
   "metadata": {},
   "source": [
    " (165251 instance, 16 column)"
   ]
  },
  {
   "cell_type": "markdown",
   "metadata": {
    "tags": []
   },
   "source": [
    "### 5 quan sát đầu tập dữ liệu"
   ]
  },
  {
   "cell_type": "markdown",
   "metadata": {},
   "source": [
    "|Continent|\tLocation|\tDate|\tTotalCases|\tNewCases|\tTotalCases_per_million|\tNewCases_per_million|\tTotalDeaths|\tNewDeaths|\tTotalDeaths_per_million|\tNewDeaths_per_million|\n",
    "| :----- | :----- | :----- | :----- | :----- | :----- | :-----| :----- | :----- | :----- | :----- |\n",
    "|Asia|\tAfghanistan|\t2020-02-24|\t5.0|\t5.0|\t0.126|\t0.126|\t0.0|\t0.0|\t0.0|\t0.0|\n",
    "|Asia|\tAfghanistan|\t2020-02-25|\t5.0|\t0.0|\t0.126|\t0.000|\t0.0|\t0.0|\t0.0|\t0.0|\n",
    "|Asia|\tAfghanistan|\t2020-02-26|\t5.0|\t0.0|\t0.126|\t0.000|\t0.0|\t0.0|\t0.0|\t0.0|\n",
    "|Asia|\tAfghanistan|\t2020-02-27|\t5.0|\t0.0|\t0.126|\t0.000|\t0.0|\t0.0|\t0.0|\t0.0|\n",
    "|Asia|\tAfghanistan|\t2020-02-28|\t5.0|\t0.0|\t0.126|\t0.000|\t0.0|\t0.0|\t0.0|\t0.0|\n",
    "\n",
    "|TotalVaccinations|\tPeopleVaccinated|\tPeopleFullyVaccinated|\tPeopleFullyVaccinated_per_hundred|\tPopulation|\n",
    "| :----- | :----- | :----- | :----- | :----- |\n",
    "|0.0|\t0.0|\t0.0|\t0.0|\t39835428.0|\n",
    "|0.0|\t0.0|\t0.0|\t0.0|\t39835428.0|\n",
    "|0.0|\t0.0|\t0.0|\t0.0|\t39835428.0|\n",
    "|0.0|\t0.0|\t0.0|\t0.0|\t39835428.0|\n",
    "|0.0|\t0.0|\t0.0|\t0.0|\t39835428.0|"
   ]
  },
  {
   "cell_type": "markdown",
   "metadata": {},
   "source": [
    "### 5 quan sát cuối tập dữ liệu"
   ]
  },
  {
   "cell_type": "markdown",
   "metadata": {},
   "source": [
    "|Continent|\tLocation|\tDate|\tTotalCases|\tNewCases|\tTotalCases_per_million|\tNewCases_per_million|\tTotalDeaths|\tNewDeaths|\tTotalDeaths_per_million|\tNewDeaths_per_million|\n",
    "| :----- | :----- | :----- | :----- | :----- | :----- | :-----| :----- | :----- | :----- | :----- |\n",
    "|Africa|\tZimbabwe|\t2022-03-01|\t236871.0|\t491.0|\t15694.959|\t32.533|\t5395.0|\t0.0|\t357.470|\t0.000|\t7901360.0|\t4365856.0|\t3399915.0|\t22.53|\t15092171.0|\n",
    "|Africa|\tZimbabwe|\t2022-03-02|\t237503.0|\t632.0|\t15736.835|\t41.876|\t5396.0|\t1.0|\t357.536|\t0.066|\t7910740.0|\t4368726.0|\t3402434.0|\t22.54|\t15092171.0|\n",
    "|Africa|\tZimbabwe|\t2022-03-03|\t237503.0|\t0.0|\t15736.835|\t0.000|  5396.0|\t0.0|\t357.536|\t0.000|\t7921113.0|\t4372925.0|\t3406482.0|\t22.57|\t15092171.0|\n",
    "|Africa|\tZimbabwe|\t2022-03-04|\t238739.0|\t1236.0|\t15818.731|\t81.897|\t5397.0|\t1.0|\t357.603|\t0.066|\t7930621.0|\t4374896.0|\t3408609.0|\t22.59|\t15092171.0|\n",
    "|Africa|\tZimbabwe|\t2022-03-05|\t239019.0|\t280.0|\t15837.284|\t18.553|\t5397.0|\t0.0|\t357.603|\t0.000|\t0.0|\t0.0|\t0.0|\t0.00|\t15092171.0|\n",
    "\n",
    "|TotalVaccinations|\tPeopleVaccinated|\tPeopleFullyVaccinated|\tPeopleFullyVaccinated_per_hundred|\tPopulation|\n",
    "| :----- | :----- | :----- | :----- | :----- |\n",
    "|Africa|\tZimbabwe|\t2022-03-01|\t236871.0|\t491.0|\t15694.959|\t32.533|\t5395.0|\t0.0|\t357.470|\t0.000|\t7901360.0|\t4365856.0|\t3399915.0|\t22.53|\t15092171.0|\n",
    "|Africa|\tZimbabwe|\t2022-03-02|\t237503.0|\t632.0|\t15736.835|\t41.876|\t5396.0|\t1.0|\t357.536|\t0.066|\t7910740.0|\t4368726.0|\t3402434.0|\t22.54|\t15092171.0|\n",
    "|Africa|\tZimbabwe|\t2022-03-03|\t237503.0|\t0.0|\t15736.835|\t0.000|  5396.0|\t0.0|\t357.536|\t0.000|\t7921113.0|\t4372925.0|\t3406482.0|\t22.57|\t15092171.0|\n",
    "|Africa|\tZimbabwe|\t2022-03-04|\t238739.0|\t1236.0|\t15818.731|\t81.897|\t5397.0|\t1.0|\t357.603|\t0.066|\t7930621.0|\t4374896.0|\t3408609.0|\t22.59|\t15092171.0|\n",
    "|Africa|\tZimbabwe|\t2022-03-05|\t239019.0|\t280.0|\t15837.284|\t18.553|\t5397.0|\t0.0|\t357.603|\t0.000|\t0.0|\t0.0|\t0.0|\t0.00|\t15092171.0|"
   ]
  },
  {
   "cell_type": "markdown",
   "metadata": {},
   "source": [
    "# 4. Trực quan hoá dữ liệu"
   ]
  },
  {
   "cell_type": "markdown",
   "metadata": {},
   "source": [
    "### Thông tin các cột trong tập dữ liệu"
   ]
  },
  {
   "cell_type": "markdown",
   "metadata": {},
   "source": [
    "Data columns (total 16 columns):\n",
    "\n",
    "|Column|Non-Null|Count|Dtype|  \n",
    "| :----- | :----- | :----- | :----- |\n",
    "|Continent |165251 |non-null | object| \n",
    "|Location  |165251 |non-null | object |\n",
    "|Date      |165251 |non-null | object |\n",
    "|TotalCases|165251 |non-null | float64|\n",
    "|NewCases|165251 |non-null | float64|\n",
    "|TotalCases_per_million| 165251 |non-null | float64|\n",
    "|NewCases_per_million| 165251 |non-null | float64|\n",
    "|TotalDeaths| 165251 |non-null | float64|\n",
    "|NewDeaths| 165251 |non-null | float64|\n",
    "|TotalDeaths_per_million| 165251 |non-null | float64|\n",
    "|NewDeaths_per_million|  165251| non-null|  float64|\n",
    "|TotalVaccinations|  165251| non-null|  float64|\n",
    "|PeopleVaccinated|  165251| non-null|  float64|\n",
    "|PeopleFullyVaccinated|  165251| non-null|  float64|\n",
    "|PeopleFullyVaccinated_per_hundred|  165251| non-null|  float64|\n",
    "|Population|  165251| non-null|  float64|"
   ]
  },
  {
   "cell_type": "markdown",
   "metadata": {},
   "source": [
    "### Một số thống kê vắn tắt"
   ]
  },
  {
   "cell_type": "markdown",
   "metadata": {},
   "source": [
    "||`TotalCases`|`NewCases`|`TotalCases_per_million`|`NewCases_per_million`|`TotalDeaths`|`NewDeaths`|`TotalDeaths_per_million`|`NewDeaths_per_million`|\n",
    "| :----- | :----- | :----- | :----- | :----- | :----- | :-----| :----- | :----- |\n",
    "|`count`|\t1.652510e+05|\t1.652510e+05|\t165251.000000|\t165251.000000|\t1.652510e+05|\t165251.000000|\t165251.000000|\t165251.000000|\n",
    "|`mean`|\t2.505992e+06|\t1.142253e+04|\t28963.765115|\t163.534992|\t5.075483e+04|\t150.669212|\t446.055149|\t1.477463|\n",
    "|`std`|\t1.534516e+07|\t8.389329e+04|\t51560.618799|\t677.401746|\t2.840557e+05|\t782.870221|\t753.155897|\t4.852677|\n",
    "|`min`|\t0.000000e+00|\t0.000000e+00|\t0.000000|\t0.000000|\t0.000000e+00\t|0.000000|\t0.000000|\t0.000000|\n",
    "|`25%`|\t1.739000e+03|\t0.000000e+00|\t533.510000|\t0.000000|\t2.400000e+01\t|0.000000|\t6.466000|\t0.000000|\n",
    "|`50%`|\t2.464500e+04|\t7.400000e+01|\t4457.275000|\t10.425000|\t3.850000e+02|\t1.000000|\t72.774000|\t0.031000|\n",
    "|`75%`|\t2.891110e+05|\t1.029000e+03|\t36582.431500|\t97.800500|\t5.356000e+03|\t14.000000|\t581.888000|\t1.032000|\n",
    "|`max`|\t4.451295e+08|\t4.206334e+06|\t706541.904000|\t51427.491000|\t5.995245e+06|\t18020.000000|\t6322.263000|\t453.772000|\n",
    "\n",
    "\n",
    "\n",
    "||`TotalVaccinations`|`PeopleVaccinated`|`PeopleFullyVaccinated`|`PeopleFullyVaccinated_per_hundred`|`Population`|\n",
    "| :----- | :----- | :----- | :----- | :----- | :----- |\n",
    "|`count`|\t1.652510e+05|\t1.652510e+05|\t1.652510e+05|\t165251.000000|\t1.652510e+05|\n",
    "|`mean`|\t4.703560e+07|\t2.292889e+07|\t1.691146e+07|\t7.905456|\t1.474332e+08|\n",
    "|`std`|\t4.133728e+08|\t2.073323e+08|\t1.652634e+08|\t19.519701|\t7.054923e+08|\n",
    "|`min`|\t0.000000e+00|\t0.000000e+00|\t0.000000e+00|\t0.000000|\t4.700000e+01|\n",
    "|`25%`|\t0.000000e+00|\t0.000000e+00|\t0.000000e+00|\t0.000000|\t1.172369e+06|\n",
    "|`50%`|\t0.000000e+00|\t0.000000e+00|\t0.000000e+00|\t0.000000|8.478242e+06|\n",
    "|`75%`|\t5.999550e+04|\t1.400250e+04|\t0.000000e+00|\t0.000000|\t3.393361e+07|\n",
    "|`max`|\t1.085079e+10|\t4.976031e+09|\t4.400787e+09|\t121.450000|\t7.874966e+09|\n"
   ]
  },
  {
   "cell_type": "markdown",
   "metadata": {},
   "source": [
    "### Một số biểu đồ trực quan hoá"
   ]
  },
  {
   "cell_type": "markdown",
   "metadata": {},
   "source": [
    "<img src='../Image/mapcases.png'/>"
   ]
  },
  {
   "cell_type": "markdown",
   "metadata": {},
   "source": [
    "Ta thấy số ca mắc Covid-19 đã bao phủ khắp các nước trên thế giới, một số quốc gia như Mỹ, Nga, Anh ...- những nước có nền kinh tế phát triển đều có số ca mắc lên tới hàng chục triệu tính đến thời điểm xét tập dữ liệu"
   ]
  },
  {
   "cell_type": "markdown",
   "metadata": {},
   "source": [
    "<img src='../Image/mapdeaths.png'/>"
   ]
  },
  {
   "cell_type": "markdown",
   "metadata": {},
   "source": [
    "Những quốc gia có nền kinh tế phát triển, có tổng số ca mắc nhiều như Mỹ, Nga, Anh ... thì đều có tổng số ca tử vong lớn"
   ]
  },
  {
   "cell_type": "markdown",
   "metadata": {},
   "source": [
    "<img src='../Image/case_death.png'/>"
   ]
  },
  {
   "cell_type": "markdown",
   "metadata": {},
   "source": [
    "Vào khoảng cuối năm 2021, biến thể Omicron xuất hiện làm gia tăng nhanh số ca nhiễm mỗi ngày nhưng số ca tử vong theo ngày của biến thể này không cao so với biến thể Delta xuất hiện trước đó. Có lẽ do khi biến thể Omicron xuất hiện thì độ bao phủ vaccine trên thế giới cũng đã tăng cao."
   ]
  },
  {
   "cell_type": "markdown",
   "metadata": {},
   "source": [
    "<img src='../Image/case_death_vaccine.png'/>"
   ]
  },
  {
   "cell_type": "markdown",
   "metadata": {},
   "source": [
    "Vaccine được triển khai tiêm vào khoảng cuối nắm 2020, đầu năm 2021, từ đó độ bao phủ vaccine trên toàn thế giới ngày càng lớn dần, bỏ xa tổng số ca mắc và số ca tử vong. Vaccine có thể xem công cụ hiệu quả nhất hiện tại , tiến độ tiêm phòng như vậy đang cho thấy tín hiệu tích cực trong việc phòng chống và đi tới chấm dứt đại dịch Covid-19"
   ]
  },
  {
   "cell_type": "markdown",
   "metadata": {},
   "source": [
    "# 5. Mô hình hoá dữ liệu"
   ]
  },
  {
   "cell_type": "markdown",
   "metadata": {},
   "source": [
    "## 5.1 Suy diễn về mối quan hệ giữa hai biến"
   ]
  },
  {
   "cell_type": "markdown",
   "metadata": {},
   "source": [
    "### Biến phân loại và biến số (C --> Q)"
   ]
  },
  {
   "cell_type": "markdown",
   "metadata": {},
   "source": [
    "Biến giải thích `𝑋` kiểu phân loại và biến kết quả `𝑌` kiểu định lượng.\n",
    "\n",
    "Trong EDA, ta so sánh phân bố của `𝑌` ứng với mỗi giá trị của `𝑋` và thể hiện bằng biểu đồ hộp (`Boxplot`).\n",
    "\n",
    "Trong suy diễn, ta muốn biết `𝑋` có mối quan hệ với `𝑌` hay không dựa trên phân tích một mẫu từ quần thể\n",
    "\n",
    "Trong nội dung báo cáo, nhóm xét quan hệ hai biến trên hai nhóm độc lập\n",
    "\n",
    "Điều kiện (giả định) cần thỏa trước khi áp dụng:\n",
    "\n",
    "1. Hai mẫu là độc lập và được chọn ngẫu nhiên\n",
    "\n",
    "2. Cỡ mẫu lớn (n > 30) hoặc cả hai quần thể tuân theo phân bố chuẩn"
   ]
  },
  {
   "cell_type": "markdown",
   "metadata": {},
   "source": [
    "Thực hiển kiểm định thống kê bằng T-test\n",
    "\n",
    "<img src = \"../Image/t_test.png\"/>\n",
    "\n",
    "Giá trị P-value\n",
    "\n",
    "<img src = \"../Image/p_value_ttest.png\"/>\n",
    "\n",
    "Khoảng tin cậy 95% cho trung bình hai mẫu\n",
    "\n",
    "<img src = \"../Image/ci.png\"/>"
   ]
  },
  {
   "cell_type": "markdown",
   "metadata": {},
   "source": [
    "### Biến số và biến số (Q --> Q)"
   ]
  },
  {
   "cell_type": "markdown",
   "metadata": {},
   "source": [
    "Cả biến giải thích `𝑋` và biến kết quả `𝑌` đều có kiểu định lượng.\n",
    "\n",
    "Trong EDA, ta biểu diễn mối quan hệ giữa hai biến định lượng bằng biểu đồ phân tán (`Scatterplot`) hoặc hệ số tương quan (`R`).\n",
    "\n",
    "Trong suy diễn, ta muốn biết `𝑋` có mối quan hệ với `𝑌` hay không dựa trên phân tích một mẫu từ quần thể. Kiếm tra xem hai biến có mối quan hệ tuyến tính hay không thông qua ước lượng bình phương tối tiểu"
   ]
  },
  {
   "cell_type": "markdown",
   "metadata": {},
   "source": [
    "## 5.2 Kiểm định giả thuyết"
   ]
  },
  {
   "cell_type": "markdown",
   "metadata": {},
   "source": [
    "Trong bài báo cáo, nhóm thực hiện kiểm định giả thuyết trên hai nhóm quần thể độc lập. Vì thế, nhóm đặt các giả thuyết thống kê:\n",
    "\n",
    "- `H0: Không có sự khác nhau giữa 2 trung bình quần thể (Null hypothesis)`\n",
    "\n",
    "- `Ha: Hai phía (Có sự khác nhau giữa 2 trung bình quần thể) hoặc một phía (trung bình quần thể thứ nhất lớn/nhỏ hơn trung bình quần thể thứ hai) (Alternative hypothesis)`\n",
    "\n",
    "Mức ý nghĩa alpha(𝛼): là một tiêu chí mà chúng ta sẽ sử dụng để quyết định có nên giữ lại hay loại bỏ giả thuyết đặt ra, thường chọn 𝛼 = 0.05\n",
    "\n",
    "Tính giá trị p (`p-value`):\n",
    "\n",
    "- Nếu `𝑝 < 𝛼`, ta bác bỏ giả thuyết 𝐻0 và kết luận sự khác biệt nhiều khả năng không phải do tình cờ (có khả năng mắc sai lầm, đây là sai lầm loại 1)\n",
    "- Nếu `𝑝 > 𝛼`, ta không bác bỏ được 𝐻0 và kết luận sự khác biệt nhiều khả năng là do tình cờ hoặc dữ liệu quan sát được là không đủ để chứng tỏ rằng có sự khác biệt."
   ]
  },
  {
   "cell_type": "markdown",
   "metadata": {},
   "source": [
    "# 6. Kết quả thực nghiệm"
   ]
  },
  {
   "cell_type": "markdown",
   "metadata": {},
   "source": [
    "## Câu 1: Dân số có phải là nguyên nhân dẫn tới việc gia tăng số ca mắc ở các quốc gia? **(X: Population, Location)**  **(Y:TotalCases)**"
   ]
  },
  {
   "cell_type": "markdown",
   "metadata": {},
   "source": [
    "<font face=\"Cambria Math\" size=5 color = #1155cc>Suy diễn mối quan hệ giữa hai biến: 𝑄 (Population) → 𝑄 (TotalCases) bằng hệ số tương quan và đường tuyến tính </font>"
   ]
  },
  {
   "cell_type": "markdown",
   "metadata": {},
   "source": [
    "Dữ liệu về tổng số ca mắc và dân số từng khu vực trên thế giới"
   ]
  },
  {
   "cell_type": "markdown",
   "metadata": {},
   "source": [
    "|Continent|\tTotalCases|\tPopulation|\n",
    "| :----- | :---------- | :----- |\n",
    "|Africa|\t11272358.0|\t1.371693e+09\n",
    "|Asia|\t120758420.0|\t4.652616e+09\n",
    "|Europe|\t161250675.0|\t7.506718e+08\n",
    "|North America|\t93398426.0|\t5.928348e+08\n",
    "|Oceania|\t3831683.0|\t4.320246e+07\n",
    "|South America|\t54622339.0|\t4.339537e+0"
   ]
  },
  {
   "cell_type": "markdown",
   "metadata": {},
   "source": [
    "<img src='../Image/population_case.png'/>"
   ]
  },
  {
   "cell_type": "markdown",
   "metadata": {},
   "source": [
    "Từ biểu đồ trên, ta có thể thấy châu Á là châu lục có số dân đông nhất thế giới, vượt xa các châu lục khác. \n",
    "\n",
    "Châu Á là nơi dự đoán có thể có số ca mắc Covid-19 nhiều nhất trên thế giới do dân số đông. \n",
    "\n",
    "Thế nhưng châu Âu mới là nơi có tổng số ca mắc nhiều nhất trên thế giới, tuy nhiên không bỏ quá xa châu Á"
   ]
  },
  {
   "cell_type": "markdown",
   "metadata": {},
   "source": [
    "\n",
    "Ta thực hiện suy diễn mối quan hệ giữa hai biến số bằng biểu đồ `Scatter` để xem liệu dân số đông có phải là nguyên nhân dẫn tới gia tăng số ca mắc hay không ?"
   ]
  },
  {
   "cell_type": "markdown",
   "metadata": {},
   "source": [
    "<img src='../Image/population_case_scatter.png'/>"
   ]
  },
  {
   "cell_type": "markdown",
   "metadata": {},
   "source": [
    "Theo biểu đồ, ta thấy Hoa Kỳ có tổng số ca mắc cao nhất nhưng dân số nước này lại không cao.\n",
    "\n",
    "Trung Quốc có số dân đông nhất thế giới và là nơi khởi nguồn dịch bệnh nhưng tổng số ca mắc lại thấp hơn nhiều\n",
    "\n",
    "Có riêng Ấn Độ, dân số đông đồng thời số ca mắc cũng gần như rất cao, chỉ thua mỗi Hoa Kỳ."
   ]
  },
  {
   "cell_type": "markdown",
   "metadata": {},
   "source": [
    "**Ta đặt giả thuyết thống kê**\n",
    "\n",
    "H0: Không có mối quan hệ tuyến tính giữa dân số và số ca mắc\n",
    "\n",
    "Ha: Có mối quan hệ tuyến tính giữa dân số và số ca mắc"
   ]
  },
  {
   "cell_type": "markdown",
   "metadata": {},
   "source": [
    "Ta thực hiện tính hệ số tương quan của đường tuyến tính và giá trị p_value "
   ]
  },
  {
   "cell_type": "markdown",
   "metadata": {},
   "source": [
    "Ta tính được giá trị `P-value = 4.0350674184659014e-12 < 0.05`\n",
    "Ta bác bỏ H0, chấp nhận Ha"
   ]
  },
  {
   "cell_type": "markdown",
   "metadata": {},
   "source": [
    "Tuy nhiên, vì hệ số tương quan `R = 0.4418309554783007` không quá mạnh cũng không quá yếu, ta cũng chưa thể kết luận ngay dân số có là nguyên nhân ảnh hưởng đến số ca mắc Covid-19 ở các quốc gia trên thế giới hay không vì còn nhiều yếu tố ảnh hưởng khác như hệ thống y tế, chính sách cách ly của mỗi quốc gia..."
   ]
  },
  {
   "cell_type": "markdown",
   "metadata": {},
   "source": [
    "## Câu 2: Có phải các nước có nền kinh tế phát triển, thu nhập cao thì dịch bệnh Covid-19 sẽ ít nghiêm trọng hơn so với các nước có nền kinh tế phát triển kém hơn, thu nhập thấp hơn không ? **(X: Location, TotalCases, TotalDeaths)**  **(Y: Tỉ lệ tử vong)**"
   ]
  },
  {
   "cell_type": "markdown",
   "metadata": {},
   "source": [
    "<font face=\"Cambria Math\" size=5 color = #1155cc>Suy diễn mối quan hệ giữa hai biến: C (Nhóm các nước có nền kinh tế phát triển và đang phát triển) → 𝑄 (Tỉ lệ tử vong) bằng thống kê T-test giữa hai nhóm độc lập </font>"
   ]
  },
  {
   "cell_type": "markdown",
   "metadata": {},
   "source": [
    "<img src='../Image/top10_case.png'/>"
   ]
  },
  {
   "cell_type": "markdown",
   "metadata": {},
   "source": [
    "<img src='../Image/top10_death.png'/>"
   ]
  },
  {
   "cell_type": "markdown",
   "metadata": {},
   "source": [
    "Từ hai biểu đồ trên, ta có thể thấy được các nước có nền kinh tế phát triển như Mỹ, Anh, Nga, Ấn Độ, Canada... đều có tổng số ca mắc và tử vong cao"
   ]
  },
  {
   "cell_type": "markdown",
   "metadata": {},
   "source": [
    "Tỷ lệ tử vong vì dịch bệnh ở các quốc gia trên thế giới\n",
    "\n",
    "|`Continent`|`Location`|`TotalCases`|`TotalDeaths`|`Mortality`\n",
    "|:----- |:----- |:----- |:----- |:-----\n",
    "|North America|United States|79265726.0|958437.0|0.0121\n",
    "|South America|Brazil|29040800.0|652216.0|0.0225\n",
    "|Asia|India|42962953.0|515036.0|0.0120\n",
    "|Europe|Russia|16619507.0|348467.0|0.0210\n",
    "|North America|Mexico|5554392.0|319604.0|0.0575\n",
    "|...|...|...|...|...|...\n",
    "|Oceania|Samoa|33.0|0.0|0.0000\n",
    "|Asia|Macao|82.0|0.0|0.0000\n",
    "|South America|Falkland Islands|115.0|0.0|0.0000\n",
    "|Oceania|Tonga|898.0|0.0|0.0000\n",
    "|Oceania|Niue|0.0|0.0|0.0000"
   ]
  },
  {
   "cell_type": "markdown",
   "metadata": {},
   "source": [
    "Chọn một số nước có nền kinh tế phát triển và kém phát triển"
   ]
  },
  {
   "cell_type": "markdown",
   "metadata": {},
   "source": [
    "35 nước có nền kinh tế phát triển: \n",
    "\n",
    "`United States`, `China`, `Japan`, `Germany`, `United Kingdom`, `India`, `France`, `Canada`, `Italy`, `Brazil`, `Russia`, `South Korea`, `Australia`, `Iran`, `Spain`, `Mexico`, `Indonesia`, `Saudi Arabia`, `Netherlands`, `Switzerland`, `Taiwan`, `Poland`, `Turkey`, `Sweden`, `Belgium`, `Argentina`, `Norway`, `Thailand`, `Israel`, `Ireland`, `Malaysia`, `United Arab Emirates`, `Austria`, `South Africa`, `Singapore`"
   ]
  },
  {
   "cell_type": "markdown",
   "metadata": {},
   "source": [
    "35 nước có nền kinh tế đang phát triển: \n",
    "\n",
    "`Vietnam`, `Hong Kong`, `Luxembourg`, `Libya`, `Namibia`, `Kosovo`, `Togo`, `Congo`, `Latvia`, `New Zealand`, `Uruguay`, `South Sudan`, `San Marino`, `Gambia`, `Curacao`, `Sierra Leone`, `New Caledonia`, `Mauritius`, `Chad`, `North Macedonia`, `Syria`, `Malta`, `Laos`, `Albania`, `Afghanistan`, `Zambia`, `Myanmar`, `Cuba`, `Ukraine`, `Qatar`, `Colombia`, `Pakistan`, `Chile`, `Finland`, `Belize`"
   ]
  },
  {
   "cell_type": "markdown",
   "metadata": {},
   "source": [
    "<img src='../Image/economy.png'/>"
   ]
  },
  {
   "cell_type": "markdown",
   "metadata": {},
   "source": [
    "`Nhận xét`:\n",
    "\n",
    "Qua biểu đồ Boxplot ta thấy miền giá trị của tỷ lệ tử vong do dịch bệnh, cùng với tỷ lệ tử vong trung bình của nhóm nước có nền kinh tế đang phát triển lớn hơn các nước phát triển"
   ]
  },
  {
   "cell_type": "markdown",
   "metadata": {},
   "source": [
    "Thực hiện kiểm định thống kê cho 2 nhóm các quốc gia có nền kinh tế phát triển và nền kinh tế kém phát triển hơn\n",
    "\n",
    "Mối quan hệ giữa hai biến `C (Nhóm kinh tế) --> Q (Tỉ lệ tử vong)`: hai nhóm độc lập => Ta thực hiện thống kê `T-test`"
   ]
  },
  {
   "cell_type": "markdown",
   "metadata": {},
   "source": [
    "**Ta đặt giả thuyết thống kê**\n",
    "\n",
    "`H0: tỉ lệ tử vong tại nhóm quốc gia phát triển và nhóm các quốc gia đang phát triển là như nhau.`\n",
    "\n",
    "`Ha: tỉ lệ tử vong tại nhóm quốc gia phát triển sẽ cao hơn so với các quốc gia đang phát triển.`"
   ]
  },
  {
   "cell_type": "markdown",
   "metadata": {},
   "source": [
    "Giá trị p tính được là kiểm định hai phía: `p =  0.49304175868581457`\n",
    "\n",
    "Vì ta kiểm định 1 phía nên `p_value = p/2 =  0.24652087934290728`\n",
    "\n",
    "Ta có `p_value = 0.24652087934290728` > 0,05 => không thể bác bỏ giả thuyết H0"
   ]
  },
  {
   "cell_type": "markdown",
   "metadata": {},
   "source": [
    "`Nhận xét`: \n",
    "1. Kết luận trên cho thấy không có mối quan hệ giữa nền kinh tế và tỉ lệ tử vong vì dịch bệnh Covid-19 ở các nước. \n",
    "2. Có lẽ kinh tế không phải nhân tố quyết định mức độ nghiêm trọng của dịch covid-19. Mức độ nghiêm trọng của dịch covid ngoài nền kinh tế thì còn một số nguyên nhân quan trọng khác, ví dụ như: Chính sách phòng chống dịch bệnh của các quốc gia, thời tiết của mỗi khu vực và sức khỏe của dân cư."
   ]
  },
  {
   "cell_type": "markdown",
   "metadata": {},
   "source": [
    "## Câu 3: Khi vaccine được phổ biến, điều đó có giúp ích cho việc chống đại dịch Covid-19 trên thế giới? **(X: Date, PeopleVaccinated, NewCases, NewDeaths)**  **(Y: Tỉ lệ tử vong)**"
   ]
  },
  {
   "cell_type": "markdown",
   "metadata": {},
   "source": [
    "<font face=\"Cambria Math\" size=5 color = #1155cc>Suy diễn mối quan hệ giữa hai biến: C (Nhóm các ngày trước và sau tiêm vaccine) → 𝑄 (Tỉ lệ tử vong) bằng thống kê T-test giữa hai nhóm độc lập </font>"
   ]
  },
  {
   "cell_type": "markdown",
   "metadata": {},
   "source": [
    "<font face=\"Cambria Math\" size=5 color = #1155cc>Tính hệ số tương quan R để xem xét độ mạnh yếu của đường tuyến tính giữa hai nhóm biến số (`NewCases`, `PeopleVaccinated`) và (`NewDeaths`, `PeopleVaccinated`) để xem xét sự hiệu quả của việc triển khai tiêm vaccine</font>"
   ]
  },
  {
   "cell_type": "markdown",
   "metadata": {},
   "source": [
    "Vaccine được đưa vào sử dụng đầu tiên vào ngày 2020-12-04"
   ]
  },
  {
   "cell_type": "markdown",
   "metadata": {},
   "source": [
    "<img src='../Image/vaccine_newcase.png'/>"
   ]
  },
  {
   "cell_type": "markdown",
   "metadata": {},
   "source": [
    "Tuy hệ số tương quan `R = 0.5081608318814392` không mạnh nhưng đường tuyến tính là đồng biến, ta vẫn có thể thấy số ca mắc mới mỗi ngày vẫn tăng khi số lượng người thực hiện tiêm vaccine tăng lên.\n",
    "Tuy nhiên, để đánh giá mức độ giúp ích của vaccine, ta hãy xét về số ca tử vong mỗi ngày sau khi tiến hành tiêm vaccine."
   ]
  },
  {
   "cell_type": "markdown",
   "metadata": {},
   "source": [
    "<img src='../Image/vaccine_newdeath.png'/>"
   ]
  },
  {
   "cell_type": "markdown",
   "metadata": {},
   "source": [
    "Ta thấy đường khớp dữ liệu là nghịch biến, và hệ số tương quan `R = -0.5537746649965218` cũng không mạnh. Do đó, vaccine phần nào đã giúp khống chế số ca tử vong mỗi ngày trên thế giới.\n",
    "Điều đó cũng cho thấy vaccine đang thực sự giúp ích cho việc chống đại dịch Covid-19 trên thế giới"
   ]
  },
  {
   "cell_type": "markdown",
   "metadata": {},
   "source": [
    "<img src='../Image/mortality_vaccine.png'/>"
   ]
  },
  {
   "cell_type": "markdown",
   "metadata": {},
   "source": [
    "Từ biểu đồ ta cũng có thể thấy được rằng tỉ lệ tử vong vì Covid-19 trước khi tiêm vaccine lớn hớn so với sau khi tiêm vaccine, đặc biệt là những ngày đầu bùng phát dịch"
   ]
  },
  {
   "cell_type": "markdown",
   "metadata": {},
   "source": [
    "Để có thể đưa ra kết luận chắc chắn, ta thực hiện kiểm định thống kê T-test `C (Nhóm ngày trước và sau tiêm vaccine) --> Q (Tỷ lệ tử vong)`(2 nhóm độc lập): tỉ lệ tử vong vì dịch bệnh các ngày trước và sau khi tiêm vaccine trên thế giới.\n",
    "\n",
    "Ta đặt giả thuyết:\n",
    "\n",
    "`H0: tỉ lệ tử vong các ngày trước và sau khi tiêm vaccine là như nhau`\n",
    "\n",
    "`Ha: tỉ lệ tử vong các ngày trước khi tiêm vaccine cao hơn sau khi tiêm.`"
   ]
  },
  {
   "cell_type": "markdown",
   "metadata": {},
   "source": [
    "Giá trị p tính được là kiểm định hai phía: `p =  1.3756703062376602e-39`\n",
    "\n",
    "Vì ta kiểm định 1 phía nên `p_value = p/2 =  6.878351531188301e-40`\n",
    "\n",
    "Ta có `p_value = 6.878351531188301e-40 < 0,05` và `t = 13.945868874153058 > 0` => Ta bác bỏ giả thuyết H0, chấp nhận Ha"
   ]
  },
  {
   "cell_type": "markdown",
   "metadata": {},
   "source": [
    "Khoảng tin cậy 95% cho trung bình tỉ lệ tử vong của các ngày trước so với các ngày sau khi tiêm vaccine: `(0.020231343924245682, 0.020610953599724247)`. \n",
    "\n",
    "Hay nói cách khác, trung bình tỉ lệ tử vong vì Covid-19 các ngày trước lớn hơn các ngày sau khi tiêm vaccine trong khoảng đó."
   ]
  },
  {
   "cell_type": "markdown",
   "metadata": {},
   "source": [
    "`Nhận xét`: \n",
    "\n",
    "Vậy tỉ lệ tử vong trên thế giới ở thời điểm trước khi tiêm vaccine cao hơn sau khi đã triển khai tiêm vaccine. Do đó, vaccine dường như thực sự có ích trong việc chống đại dịch Covid-19 trên thế giới"
   ]
  },
  {
   "cell_type": "markdown",
   "metadata": {},
   "source": [
    "## Câu 4: Biến thể Omicron xuất hiện vào khoảng 11/2021 có gây nguy hiểm không? So sánh với biến thể Delta xuất hiện vào tháng 12/2020. **(X: Date, NewCases, NewDeaths)**  **(Y: Tỉ lệ tử vong)**"
   ]
  },
  {
   "cell_type": "markdown",
   "metadata": {},
   "source": [
    "<font face=\"Cambria Math\" size=5 color = #1155cc>Suy diễn mối quan hệ giữa hai biến: C (Nhóm các ngày xuất hiện hai biến thể DELTA và OMICRON) → 𝑄 (Tỉ lệ tử vong) bằng thống kê T-test giữa hai nhóm độc lập </font>"
   ]
  },
  {
   "cell_type": "markdown",
   "metadata": {},
   "source": [
    "<font face=\"Cambria Math\" size=5 color = #1155cc>Tính hệ số tương quan R để xem xét độ mạnh yếu của đường tuyến tính giữa hai biến số `NewCases` và `NewDeaths` của hai loại biển thể DELTA và OMICRON</font>"
   ]
  },
  {
   "cell_type": "markdown",
   "metadata": {},
   "source": [
    "`Tình hình dịch bệnh khi biến chủng DELTA xuất hiện khoảng tháng 12/2020`\n",
    "\n",
    "|Date|  NewCases|  NewDeaths| Month_Years|  Mortality|\n",
    "| :----- | :---------- | :----- |:----- |:----- |\n",
    "|2020-12-01|  623828.0|    12759.0|     2020-12|   0.020453\n",
    "|2020-12-02|  646764.0|    12643.0|     2020-12|   0.019548\n",
    "|2020-12-03|  692160.0|    12600.0|     2020-12|   0.018204\n",
    "|2020-12-04|  688697.0|    12460.0|     2020-12|   0.018092\n",
    "|2020-12-05|  648934.0|    10337.0|     2020-12|   0.015929\n",
    "|...       |...       | ...       |  ...       | ...\n",
    "|2021-10-27|  520080.0|     9178.0|     2021-10|   0.017647\n",
    "|2021-10-28|  463857.0|     8801.0|     2021-10|   0.018974\n",
    "|2021-10-29|  508971.0|     7873.0|     2021-10|   0.015468\n",
    "|2021-10-30|  389334.0|     6001.0|     2021-10|   0.015414\n",
    "|2021-10-31|  346340.0|     4483.0|     2021-10|   0.012944"
   ]
  },
  {
   "cell_type": "markdown",
   "metadata": {
    "tags": []
   },
   "source": [
    "`Tình hình dịch bệnh khi biến chủng OMICRON xuất hiện khoảng tháng 11/2021`\n",
    "\n",
    "|Date|  NewCases|  NewDeaths| Month_Years|  Mortality|\n",
    "| :----- | :---------- | :----- |:----- |:----- |\n",
    "|2021-11-01|   421008.0|     6276.0|     2021-11|   0.014907\n",
    "|2021-11-02|   426168.0|     7283.0|     2021-11|   0.017090\n",
    "|2021-11-03|   538266.0|     8416.0|     2021-11|   0.015635\n",
    "|2021-11-04|   523859.0|     7605.0|     2021-11|   0.014517\n",
    "|2021-11-05|   520733.0|     8611.0|     2021-11|   0.016536\n",
    "|...       |...        |...        |...         |...\n",
    "|2022-02-24|  1755446.0|    10735.0|     2022-02|   0.006115\n",
    "|2022-02-25|  1591820.0|     9080.0|     2022-02|   0.005704\n",
    "|2022-02-26|  1328773.0|     6392.0|     2022-02|   0.004810\n",
    "|2022-02-27|  1065246.0|     4417.0|     2022-02|   0.004146\n",
    "|2022-02-28|  1403481.0|     7759.0|     2022-02|   0.005528"
   ]
  },
  {
   "cell_type": "markdown",
   "metadata": {},
   "source": [
    "<img src='../Image/case_ticks.png'/>"
   ]
  },
  {
   "cell_type": "markdown",
   "metadata": {},
   "source": [
    "<img src='../Image/death_tick.png'/>"
   ]
  },
  {
   "cell_type": "markdown",
   "metadata": {},
   "source": [
    "**Theo biểu đồ**\n",
    "- **Do bảng số liệu chỉ lấy những ngày đầu tháng 3/2022 nên nhóm xin phép bỏ qua tháng 3, chỉ lấy số liệu đến tháng 2/2022 để rút ra kết luận**\n",
    "\n",
    "- **Chỉ mới xuất hiện tháng 11/2021 nhưng số ca mắc mới hàng tháng của biến chủng `OMICRON` lại tăng một cách không kiếm soát được. Số ca mắc của biến chủng này nhìn chung cao hơn rất nhiều so với biến chủng `DELTA` trước đó.**\n",
    "\n",
    "- **Tuy nhiên, số ca tử vong mới hàng tháng của biến chủng `OMICRON` có phần ít hơn biến chủng `DELTA` , mặc dù biến chủng này xuất hiện sau và số ca mắc đang có xu hướng tăng lên theo mỗi tháng.**"
   ]
  },
  {
   "cell_type": "markdown",
   "metadata": {},
   "source": [
    "**Ta sẽ xem xét mối quan hệ giữa 2 biến số `NewCases` và `NewDeaths` để có thể đưa ra nhận xét xem số ca tử vong mới có tăng lên khi số ca mắc mới lần lượt tăng của cả hai biến thể bằng biểu đồ `Scatter`**"
   ]
  },
  {
   "cell_type": "markdown",
   "metadata": {},
   "source": [
    "<img src='../Image/delta_scatter.png'/>"
   ]
  },
  {
   "cell_type": "markdown",
   "metadata": {},
   "source": [
    "Ta tính hệ số tương quan của đường tuyến tính"
   ]
  },
  {
   "cell_type": "markdown",
   "metadata": {},
   "source": [
    "Hệ số tương quan giữa 2 biến là `R = 0.6957555110837915` cho thấy đường tuyến tính tương quan thuận, có độ mạnh trung bình. Với biến chủng DELTA, số ca mắc mới tăng thì số ca tử vong cũng tăng theo"
   ]
  },
  {
   "cell_type": "markdown",
   "metadata": {},
   "source": [
    "<img src='../Image/omicron_scatter.png'/>"
   ]
  },
  {
   "cell_type": "markdown",
   "metadata": {},
   "source": [
    "Ta tính hệ số tương quan của đường tuyến tính"
   ]
  },
  {
   "cell_type": "markdown",
   "metadata": {},
   "source": [
    "Hệ số tương quan giữa 2 biến là `R = 0.48769221282441555` cho thấy đường tuyến tính tương quan thuận, có độ mạnh không quá mạnh hoặc yếu nhưng không bằng biến thể `DELTA`. Với biến chủng `OMICRON`, số ca mắc mới tăng thì số ca tử vong cũng tăng nhưng mà ít hơn nhiều so với `DELTA` => Ít nguy hiểm hơn `DELTA`. Nhưng cũng không thể xem thường vì số ca mắc mới của biến thể này tăng rất nhanh, nhanh hơn nhiều so với `DELTA`"
   ]
  },
  {
   "cell_type": "markdown",
   "metadata": {},
   "source": [
    "<img src='../Image/variant_mortality.png'/>"
   ]
  },
  {
   "cell_type": "markdown",
   "metadata": {},
   "source": [
    "Từ biểu đồ ta cũng có thể thấy được rằng tỉ lệ tử vong qua các ngày của biến thể `DELTA` lớn hơn `OMICRON`."
   ]
  },
  {
   "cell_type": "markdown",
   "metadata": {},
   "source": [
    "Dựa vào biểu đồ tỷ lệ tử vong của 2 loại biến thể và hệ số tương quan, nhóm em đưa ra nhận xét:\n",
    "\n",
    "- Biến thể `DELTA` có mối tương quan mạnh hơn so với biến thể `OMICRON`. (giữa 2 biến `NewCases` và `NewDeaths` theo từng ngày)\n",
    "- Biến thể `DELTA` có tốc độ lây lan nhanh, số ca tử vong mới mỗi ngày tăng cao dẫn đến tỷ lệ tử vong cao.\n",
    "- Biến thể `OMICRON` có tốc độ lây lan nhanh vượt trội so với biến thể `DELTA` (mặc dù biến thể `OMICRON` xuất hiện sau) nhưng về số ca tử vong mới mỗi ngày thì biến thể `OMICRON` ít hơn dẫn tới tỷ lệ tử vong cũng thấp hơn biến thể `DELTA`"
   ]
  },
  {
   "cell_type": "markdown",
   "metadata": {},
   "source": [
    "Để có thể đưa ra kết luận chắc chắn, ta thực hiện kiểm định thống kê T-test `C (Nhóm biến thể) --> Q (Tỷ lệ tử vong)`(2 nhóm độc lập): tỉ lệ tử vong vì dịch bệnh mỗi ngày của hai nhóm biến thể `DELTA` và `OMICRON`\n",
    "\n",
    "Ta đặt giả thuyết:\n",
    "\n",
    "`H0: tỉ lệ tử vong của hai nhóm biến thể là như nhau`\n",
    "\n",
    "`Ha: tỉ lệ tử vong của biến thể DELTA cao hơn OMICRON.`"
   ]
  },
  {
   "cell_type": "markdown",
   "metadata": {},
   "source": [
    "Giá trị p tính được là kiểm định hai phía: `p =  3.763915980121889e-83`\n",
    "\n",
    "Vì ta kiểm định 1 phía nên `p_value = p/2 =  1.8819579900609447e-83`\n",
    "\n",
    "Ta có `p_value = 1.8819579900609447e-83 < 0,05` và `t = 24.09083434337719 > 0` => Ta bác bỏ giả thuyết H0, chấp nhận Ha"
   ]
  },
  {
   "cell_type": "markdown",
   "metadata": {},
   "source": [
    "Khoảng tin cậy 95% cho trung bình tỉ lệ tử vong của biến thể `DELTA` so với biến thể `OMICRON`: `(0.011384694511358285, 0.01154846269717518)`. \n",
    "\n",
    "Hay nói cách khác, trung bình tỉ lệ tử vong của biến thể `DELTA` lớn hơn `OMICRON` trong khoảng đó"
   ]
  },
  {
   "cell_type": "markdown",
   "metadata": {},
   "source": [
    "`Nhận xét`: \n",
    "\n",
    "Ta có thể đưa ra kết luận rằng tỉ lệ tử vong của nhóm biến thể `DELTA` cao hơn `OMICRON`. Do đó có thể nói tuy biến thể `OMICRON` làm gia tăng nhanh chóng số ca mắc nhưng tỉ lệ tử vọng lại thấp hơn so với biến thể `DELTA`. Vậy biến thể `OMICRON` có thể ít gây nguy hiểm hơn `DELTA` nhưng số ca mắc tăng nhanh có thể làm quá tải hệ thống y tế ở một số quốc gia. \n",
    "\n",
    "Chúng ta không nên xem thường bất kì loại biến thể nào của Covid-19"
   ]
  },
  {
   "cell_type": "markdown",
   "metadata": {},
   "source": [
    "# 7. Kết luận"
   ]
  },
  {
   "cell_type": "markdown",
   "metadata": {},
   "source": [
    "***Kết quả nhóm đạt được***\n",
    "1. Tình hình dịch bệnh ở các nước đều có thể nguy hiểm như nhau, không phân biệt dân số, nền kinh tế của các quốc gia đó\n",
    "2. Vaccine đóng góp vai trò to lớn trong việc đẩy lùi dịch bệnh Covid-19, nhờ sự xuất hiện của nó mà tình hình dịch đang được kiểm soát. Tuy số ca mắc mới mỗi ngày vẫn tăng nhưng tỉ lệ tử vong giảm đáng kể so với trước khi có vaccine\n",
    "3. Biến chủng `OMICRON` xuất hiện gần đây khiến cho số ca mắc tăng nhanh đột biến, làm quá tải hệ thống y tế của nhiều nước trên thế giới. Tuy nhiên, so với biến chủng `DELTA` thì tỉ lệ tử vong của biến chủng `OMICRON` thấp hơn, có lẽ cũng nhờ sự xuất hiện của vaccine. Điều đó làm cho thế giới dần kiểm soát được đại dịch, tiến tới bình thường hoá mọi thứ.\n",
    "\n",
    "***Dự kiến***\n",
    "\n",
    "Nếu có đủ thời gian và kiến thức thì nhóm em dự định sẽ thực hiện việc dự đoán số ca mắc, tử vong mới của các ngày tiếp theo.\n",
    "\n",
    "***Kết quả gây ngạc nhiên***\n",
    "\n",
    "Khi vẽ biểu đồ trực quan top 10 quốc gia có tổng số ca mắc và tử vong nhiều nhất thì nhóm nhận thấy các nước có nền kinh tế phát triển như Mỹ, Anh, Nga, Ấn Độ... đều đứng top đầu, nhưng khi thực hiện kiểm định thống kê giữa hai nhóm nước phát triển và đang phát triển thì kết quả là tỉ lệ tử vong không có sự khác biệt giữa hai nhóm nước này"
   ]
  },
  {
   "cell_type": "markdown",
   "metadata": {},
   "source": [
    "# 8. Đóng góp"
   ]
  },
  {
   "cell_type": "markdown",
   "metadata": {},
   "source": [
    "Đóng góp của các thành viên\n",
    "\n",
    "|Tên|MSSV|Proposal|Trả lời câu hỏi nghiên cứu|Report |Presentation |Tỉ lệ đánh giá \n",
    "|:-|:-:|:--|:--|:-|:-|:---| \n",
    "|Nguyễn Minh Sơn|20110713 |  Đặt câu hỏi nghiên cứu + Làm file proposal | câu 4   | Mô hình hoá dữ liệu + thực nghiệm, bảng đóng góp|Tổng hợp file thuyết trình  |100%\n",
    "|Nguyễn Thái Ngọc Tân|20110719  | Đặt câu hỏi nghiên cứu |  câu 1 | Tóm tắt, giới thiệu, mô tả dữ liệu  |x|100%\n",
    "|Đỗ Minh Dũng|20110620 |  Đặt câu hỏi nghiên cứu\t | câu 2  | Trực quan hoá dữ liệu  |x|100%\n",
    "|Lê Anh Nhân|20110689 |  Đặt câu hỏi nghiên cứu\t | câu 3  | Kết luận, tham khảo  |x|100%"
   ]
  },
  {
   "cell_type": "markdown",
   "metadata": {},
   "source": [
    "# 9. Tham khảo"
   ]
  },
  {
   "cell_type": "markdown",
   "metadata": {},
   "source": [
    "- Các thư viện nhóm sử dụng cho project: pandas, matplotlib, seaborn, plotly, scipy...\n",
    "- Nhóm có tham khảo cách thức vẽ các biểu đồ dữ liệu trên kaggle và nhiều trang khác..."
   ]
  }
 ],
 "metadata": {
  "kernelspec": {
   "display_name": "Python 3 (ipykernel)",
   "language": "python",
   "name": "python3"
  },
  "language_info": {
   "codemirror_mode": {
    "name": "ipython",
    "version": 3
   },
   "file_extension": ".py",
   "mimetype": "text/x-python",
   "name": "python",
   "nbconvert_exporter": "python",
   "pygments_lexer": "ipython3",
   "version": "3.9.12"
  },
  "vscode": {
   "interpreter": {
    "hash": "960f2ae499b536958d588fcafb5f9e40dd995fc898e4b79db932caf22756042a"
   }
  }
 },
 "nbformat": 4,
 "nbformat_minor": 4
}
