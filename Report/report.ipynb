{
 "cells": [
  {
   "cell_type": "markdown",
   "metadata": {},
   "source": [
    "# <span style=\"color:red; font-size:75px;\"> Báo cáo (Report)</span>"
   ]
  },
  {
   "cell_type": "markdown",
   "metadata": {},
   "source": [
    "<span style=\"color:red; font-size: 50px;\">Tên đề tài: Phân tích tình hình dịch bệnh Covid-19</span>"
   ]
  },
  {
   "cell_type": "markdown",
   "metadata": {},
   "source": [
    "## Nhóm 13\n",
    "## Thành viên \n",
    "\n",
    "1. Nguyễn Minh Sơn - 20110713\n",
    "2. Lê Anh Nhân - 20110689\n",
    "3. Đỗ Minh Dũng - 20110620\n",
    "4. Nguyễn Thái Ngọc Tân - 20110719"
   ]
  },
  {
   "cell_type": "markdown",
   "metadata": {},
   "source": [
    "# 1. Tóm tắt"
   ]
  },
  {
   "cell_type": "markdown",
   "metadata": {},
   "source": [
    "Đại dịch covid-19 xuất hiện từ cuối năm 2019, cho đến nay nó đã lan rộng ra hầu hết các quốc gia và vùng lãnh thổ trên thế giới, gây thiệt hại nghiêm trọng về mọi mặt về kinh tế, xã hội....\n",
    "\n",
    "Mặc dù đã có vaccine phòng ngừa covid-19 nhưng dịch bệnh này vẫn còn hoành hoành ở nhiều quốc gia, liên tục xuất hiện các biến thể mới nguy hiểm.\n",
    "\n",
    "Vì thế, nhóm đã chọn tập dữ liệu liên quan đến vấn đề này để phân tích tình hình dịch bệnh covid-19. \n",
    "\n",
    "Nhóm đã đặt ra một số câu hỏi nghiên cứu về dịch Covid-19, đánh giá xem đại dịch này có phụ thuộc vào các yếu tố như nền kinh tế, dân số hay không? Tình hình dịch bệnh như thế nào khi biến thể Omicron xuất hiện? Hơn nữa, nhóm cũng muốn đánh giá xem liệu việc tiêm vaccine có làm giảm bớt số ca mắc, số ca tử vong hay làm giảm đi tỉ lệ tử vong của Covid-19 hay không ?\n",
    "\n",
    "Để có thể trả lời cho các câu hỏi trên, nhóm đã sử dụng các phương pháp thống kê như kiểm định giả thuyết, các suy diễn về mỗi quan hệ giữa hai biến (C --> Q, Q --> Q), thực hiện thống kê T-test để quyết định chấp nhận hoặc bác bỏ giả thuyết thống kê ban đầu\n",
    "\n",
    "Về kết quả, nhóm đã có thể trả lời được các câu hỏi nghiên cứu đặt ra"
   ]
  },
  {
   "cell_type": "markdown",
   "metadata": {},
   "source": [
    "# 2. Giới thiệu\n",
    "## Câu hỏi nghiên cứu"
   ]
  },
  {
   "cell_type": "markdown",
   "metadata": {},
   "source": [
    "### Câu 1. Dân số có phải là nguyên nhân dẫn tới việc gia tăng số ca mắc ở các quốc gia? **(X: Population, Location)**  **(Y:TotalCases)**\n",
    "Dân số đông làm cho mọi người tiếp xúc với nhau gần hơn, đó có thể là điều kiệu thuận lợi dẫn tới lây lan dịch Covid-19 dễ dàng hơn ở các quốc gia. Nhóm dựa vào input đầu vào là các biến `Population`, `TotalCases`, `Location`  để xác định xem có sự phụ thuộc nào giữa dân số và số ca mắc ở các quốc gia hay không bằng suy luận thống kê giữa hai biến số (Q --> Q)"
   ]
  },
  {
   "cell_type": "markdown",
   "metadata": {},
   "source": [
    "### Câu 2. Có phải các nước có nền kinh tế phát triển, thu nhập cao thì dịch bệnh Covid-19 sẽ ít nghiêm trọng hơn so với các nước có nền kinh tế phát triển kém hơn, thu nhập thấp hơn không ? **(X: Location, TotalCases, TotalDeaths)**  **(Y: Tỉ lệ tử vong)**\n",
    "Những nước có nền kinh tế phát triển thường sẽ có hệ thống y tế tốt hơn. Ta có thể nhận thấy những nước thuộc châu Âu (Anh, Đức….), châu Mỹ (Hoa Kỳ, Canada..) thường có nền kinh tế phát triển hơn các khu vực còn lại. Nhóm muốn biết liệu nền kinh tế của mỗi nước có ảnh hưởng đến tình dịch dịch bệnh tại nước đó hay không. Dựa vào input đầu vào là các biến `Location`, `TotalCases`, `TotalDeaths` để xác định xem có sự phụ thuộc nào giữa số ca mắc, số ca tử vong và tỉ lệ tử vong với nền kinh tế của các nước ở hai nhóm nước phát triển và kém phát triển hơn hay không bằng thống kê T-test giữa hai nhóm độc lập (C --> Q)"
   ]
  },
  {
   "cell_type": "markdown",
   "metadata": {},
   "source": [
    "### Câu 3. Khi vaccine được phổ biến, điều đó có giúp ích cho việc chống đại dịch Covid-19 trên thế giới? **(X: Date, PeopleVaccinated, NewCases, NewDeaths)**  **(Y: Tỉ lệ tử vong)**\n",
    "Vaccine xuất hiện là một giải pháp tốt có thể giúp đẩy lùi đại dịch Covid-19 đang hoành hành. Nhóm muốn dựa vào số liệu để xem xét liệu vaccine có thực sự đang giúp con người chống lại đại dịch Covid-19 hay không, dựa vào input đầu vào là các biến `Date`, `PeopleVaccinated`, `NewCases`, `NewDeaths` để xác định xem liệu khi độ bao phủ của vaccine trên thế giới lớn dần thì số ca mắc mới và tử vong mới mỗi ngày có giảm đi không, đánh giá độ hiệu quả của vaccine đối với đại dịch Covid-19 thông qua tỉ lệ tử vong từng ngày trước và sau khi tiêm vaccine."
   ]
  },
  {
   "cell_type": "markdown",
   "metadata": {},
   "source": [
    "## Câu 4: Biến thể Omicron xuất hiện vào khoảng 11/2021 có gây nguy hiểm không? So sánh với biến thể Delta xuất hiện vào tháng 12/2020. **(X: Date, NewCases, NewDeaths)**  **(Y: Tỉ lệ tử vong)**\n",
    "\n",
    "Biến thể Omicron xuất hiện vào khoảng cuối năm 2021, được nhận định là biến thể có khả năng lây lan nhanh nhất. Nhóm muốn đánh giá mức độ nguy hiểm của nó so với biên thể Delta xuất hiện trước đó, dựa vào input đầu vào là các biến `Date`, `NewCases`, `NewDeaths` để xác định xem có phải số ca mắc mới tăng thì số ca tử vong mới mỗi ngày cũng tăng lên  giữa hai loại biến thể `DELTA` và `OMICRON`, đồng thờI thực hiện kiểm định giả thuyết để xem tỉ lệ tử vong qua từng ngày của loại biến thể nào cao hơn, từ đó đưa ra được kết luận cho câu hỏi"
   ]
  },
  {
   "cell_type": "markdown",
   "metadata": {},
   "source": [
    "# 3. Dữ liệu"
   ]
  },
  {
   "cell_type": "markdown",
   "metadata": {},
   "source": [
    "## 3.1 Mô tả dữ liệu"
   ]
  },
  {
   "cell_type": "markdown",
   "metadata": {},
   "source": [
    "\n",
    "Link github chứa thư mục data: https://github.com/NMS1010/P4DA_Final_Project\n",
    "\n",
    "File dữ liệu: owid-covid-data.csv\n",
    "\n",
    "Giải thích các biến sử dụng\n",
    "\n",
    "|Biến                                   |Mô tả\n",
    "|:--------------------------------------|:--------------------------------------------------------------------------|\n",
    "|`continent`                            |Tên châu lục                                                               |\n",
    "|`location`                             |Tên nước                                                                   |\n",
    "|`date`                                 |Ngày quan sát                                                              |\n",
    "|`total_cases`                          |Tổng số ca mắc covid 19 đã được xác nhận                                   |\n",
    "|`new_cases`                            |Số ca mắc mới covid 19 theo ngày đã được xác nhận                          |\n",
    "|`total_cases_per_million`              |Tổng số ca mắc covid 19 đã được xác nhận trên 1,000,000 người              |\n",
    "|`new_cases_per_million`                |Số ca mắc mới covid 19 theo ngày đã được xác nhận trên 1,000,000 người     |\n",
    "|`total_deaths`                         |Tổng số ca covid 19 tử vong đã được xác nhận                               |\n",
    "|`new_deaths`                           |Số ca covid 19 tử vong mới theo ngày đã được xác nhận                      |\n",
    "|`total_deaths_per_million`             |Tổng số ca covid 19 tử vong đã được xác nhận trên 1,000,000 người          |\n",
    "|`new_deaths_per_million`               |Số ca covid 19 tử vong mới theo ngày đã được xác nhận trên 1,000,000 người |\n",
    "|`total_vaccinations`                   |Tổng số liều vaccine                                                       |\n",
    "|`people_vaccinated`                    |Tổng số người tiêm ít nhất một mũi vaccine                                 |\n",
    "|`people_fully_vaccinated`              |Tổng số người tiêm đủ liều vaccine theo quy định                           |\n",
    "|`people_fully_vaccinated_per_hundred`  |Tổng số người tiêm đầy đủ vaccine theo quy định mỗi 100 người              |\n",
    "|`population`                           |Tổng dân số                                                                |"
   ]
  },
  {
   "cell_type": "markdown",
   "metadata": {},
   "source": [
    "## 3.2 Tiền xử lý dữ liệu"
   ]
  },
  {
   "cell_type": "markdown",
   "metadata": {},
   "source": [
    "#### Import library"
   ]
  },
  {
   "cell_type": "code",
   "execution_count": 164,
   "metadata": {},
   "outputs": [],
   "source": [
    "import pandas as pd\n",
    "import matplotlib.pyplot as plt\n",
    "import statistics\n",
    "import numpy as np\n",
    "import plotly.express as px\n",
    "import plotly.graph_objects as go\n",
    "from plotly.offline import plot\n",
    "from plotly.subplots import make_subplots\n",
    "import seaborn as sns\n",
    "import scipy.stats as stats\n",
    "import statsmodels.api as sm\n",
    "from statsmodels.formula.api import ols\n",
    "import datetime\n",
    "import pylab\n",
    "import math"
   ]
  },
  {
   "cell_type": "markdown",
   "metadata": {},
   "source": [
    "#### Đọc và làm sạch dữ liệu"
   ]
  },
  {
   "cell_type": "code",
   "execution_count": 165,
   "metadata": {},
   "outputs": [],
   "source": [
    "covid_df = pd.read_csv('../data/owid-covid-data.csv')"
   ]
  },
  {
   "cell_type": "markdown",
   "metadata": {},
   "source": [
    "##### Lấy các biến cần thiết"
   ]
  },
  {
   "cell_type": "code",
   "execution_count": 166,
   "metadata": {},
   "outputs": [],
   "source": [
    "covid_df = covid_df[['continent', 'location', 'date', 'total_cases',  'new_cases', 'total_cases_per_million', 'new_cases_per_million', 'total_deaths', 'new_deaths', 'total_deaths_per_million', 'new_deaths_per_million', 'total_vaccinations', 'people_vaccinated', 'people_fully_vaccinated', 'people_fully_vaccinated_per_hundred', 'population']]"
   ]
  },
  {
   "cell_type": "markdown",
   "metadata": {},
   "source": [
    "##### Thay đổi tên các biến"
   ]
  },
  {
   "cell_type": "code",
   "execution_count": 167,
   "metadata": {},
   "outputs": [],
   "source": [
    "covid_df.columns = ['Continent', 'Location', 'Date', 'TotalCases',  'NewCases', 'TotalCases_per_million', 'NewCases_per_million', 'TotalDeaths', 'NewDeaths', 'TotalDeaths_per_million', 'NewDeaths_per_million', 'TotalVaccinations', 'PeopleVaccinated', 'PeopleFullyVaccinated', 'PeopleFullyVaccinated_per_hundred', 'Population']"
   ]
  },
  {
   "cell_type": "markdown",
   "metadata": {},
   "source": [
    "##### Kiểm tra dữ liệu"
   ]
  },
  {
   "cell_type": "code",
   "execution_count": 168,
   "metadata": {},
   "outputs": [
    {
     "name": "stdout",
     "output_type": "stream",
     "text": [
      "Ta thấy vẫn còn nhiều ô nhận giá trị NULL, ta sẽ chuẩn hoá giá trị trong các cột này\n"
     ]
    },
    {
     "data": {
      "text/plain": [
       "Continent                              9956\n",
       "Location                                  0\n",
       "Date                                      0\n",
       "TotalCases                             3033\n",
       "NewCases                               3193\n",
       "TotalCases_per_million                 3791\n",
       "NewCases_per_million                   3951\n",
       "TotalDeaths                           20875\n",
       "NewDeaths                             20839\n",
       "TotalDeaths_per_million               21620\n",
       "NewDeaths_per_million                 21584\n",
       "TotalVaccinations                    121132\n",
       "PeopleVaccinated                     123339\n",
       "PeopleFullyVaccinated                126085\n",
       "PeopleFullyVaccinated_per_hundred    126085\n",
       "Population                             1075\n",
       "dtype: int64"
      ]
     },
     "execution_count": 168,
     "metadata": {},
     "output_type": "execute_result"
    }
   ],
   "source": [
    "print(\"Ta thấy vẫn còn nhiều ô nhận giá trị NULL, ta sẽ chuẩn hoá giá trị trong các cột này\")\n",
    "covid_df.isnull().sum()"
   ]
  },
  {
   "cell_type": "markdown",
   "metadata": {},
   "source": [
    "##### Các khu vực không có tên châu lục"
   ]
  },
  {
   "cell_type": "code",
   "execution_count": 169,
   "metadata": {},
   "outputs": [
    {
     "name": "stdout",
     "output_type": "stream",
     "text": [
      "Các khu vực không có tên châu lục: \n",
      "\n",
      "['Africa' 'Asia' 'Europe' 'European Union' 'High income' 'International'\n",
      " 'Low income' 'Lower middle income' 'North America' 'Oceania'\n",
      " 'South America' 'Upper middle income' 'World']\n",
      "\n",
      "Các giá trị trong cột 'Location' của tập dữ liệu là tên các khu vực trên thế giới, bao gồm cả tên các quốc gia. Vì một số khu vực trong cột `Location` cũng chính là tên châu lục nên giá trị tương ứng trong cột `Continent` đã nhận giá trị NaN. Do vậy, nhóm sẽ chuẩn hoá các giá trị NaN này thành 0\n"
     ]
    }
   ],
   "source": [
    "t = covid_df[covid_df['Continent'].isna()]\n",
    "print(\"Các khu vực không có tên châu lục: \\n\")\n",
    "print(t.Location.unique())\n",
    "print(\"\\nCác giá trị trong cột 'Location' của tập dữ liệu là tên các khu vực trên thế giới, bao gồm cả tên các quốc gia. Vì một số khu vực trong cột `Location` cũng chính là tên châu lục nên giá trị tương ứng trong cột `Continent` đã nhận giá trị NaN. Do vậy, nhóm sẽ chuẩn hoá các giá trị NaN này thành 0\")"
   ]
  },
  {
   "cell_type": "markdown",
   "metadata": {},
   "source": [
    "##### Các khu vực không có thông kê dân số"
   ]
  },
  {
   "cell_type": "code",
   "execution_count": 170,
   "metadata": {},
   "outputs": [
    {
     "name": "stdout",
     "output_type": "stream",
     "text": [
      "\n",
      "Một số khu vực trên thế giới như ['International' 'Northern Cyprus'] chưa có thống kê về dân số trong tập dữ liệu, nên nhóm sẽ bỏ qua các dòng dữ liệu của các khu vực này.\n"
     ]
    }
   ],
   "source": [
    "t = covid_df[covid_df['Population'].isna()]\n",
    "print(f\"\\nMột số khu vực trên thế giới như {t.Location.unique()} chưa có thống kê về dân số trong tập dữ liệu, nên nhóm sẽ bỏ qua các dòng dữ liệu của các khu vực này.\")\n",
    "covid_df = covid_df[~covid_df['Population'].isna()]"
   ]
  },
  {
   "cell_type": "markdown",
   "metadata": {},
   "source": [
    "##### Clean Data"
   ]
  },
  {
   "cell_type": "code",
   "execution_count": 171,
   "metadata": {},
   "outputs": [
    {
     "name": "stdout",
     "output_type": "stream",
     "text": [
      "Còn lại những cột có dữ liệu bị để trống (NULL) vì vào thời điểm quan sát thì có thể chưa xảy ra ca tử vong, chưa có ca mắc hoặc chưa có vaccine để tiêm phòng... \n",
      "Vì thế, nhóm sẽ làm sạch dữ liệu của các cột nhận giá trị NaN khác bằng các số 0\n"
     ]
    }
   ],
   "source": [
    "print(\"Còn lại những cột có dữ liệu bị để trống (NULL) vì vào thời điểm quan sát thì có thể chưa xảy ra ca tử vong, chưa có ca mắc hoặc chưa có vaccine để tiêm phòng... \")\n",
    "print(\"Vì thế, nhóm sẽ làm sạch dữ liệu của các cột nhận giá trị NaN khác bằng các số 0\")\n",
    "covid_df = covid_df.replace('', np.nan).fillna(0)"
   ]
  },
  {
   "cell_type": "markdown",
   "metadata": {},
   "source": [
    "Dữ liệu sau khi đã làm sạch"
   ]
  },
  {
   "cell_type": "code",
   "execution_count": 172,
   "metadata": {},
   "outputs": [
    {
     "data": {
      "text/plain": [
       "Continent                            0\n",
       "Location                             0\n",
       "Date                                 0\n",
       "TotalCases                           0\n",
       "NewCases                             0\n",
       "TotalCases_per_million               0\n",
       "NewCases_per_million                 0\n",
       "TotalDeaths                          0\n",
       "NewDeaths                            0\n",
       "TotalDeaths_per_million              0\n",
       "NewDeaths_per_million                0\n",
       "TotalVaccinations                    0\n",
       "PeopleVaccinated                     0\n",
       "PeopleFullyVaccinated                0\n",
       "PeopleFullyVaccinated_per_hundred    0\n",
       "Population                           0\n",
       "dtype: int64"
      ]
     },
     "execution_count": 172,
     "metadata": {},
     "output_type": "execute_result"
    }
   ],
   "source": [
    "covid_df.isnull().sum()"
   ]
  },
  {
   "cell_type": "markdown",
   "metadata": {},
   "source": [
    "##### Thời gian thu thập dữ liệu về dịch bệnh"
   ]
  },
  {
   "cell_type": "code",
   "execution_count": 173,
   "metadata": {},
   "outputs": [
    {
     "name": "stdout",
     "output_type": "stream",
     "text": [
      "Dữ liệu về dịch bệnh Covid-19 được thu thập từ ngày 2020-01-22 tới ngày 2022-03-05\n"
     ]
    }
   ],
   "source": [
    "covid_world_df = covid_df[covid_df.Location == 'World']\n",
    "print(f\"Dữ liệu về dịch bệnh Covid-19 được thu thập từ ngày {covid_world_df.Date.min()} tới ngày {covid_world_df.Date.max()}\")"
   ]
  },
  {
   "cell_type": "markdown",
   "metadata": {},
   "source": [
    "## 3.3 Chi tiết về dữ liệu"
   ]
  },
  {
   "cell_type": "markdown",
   "metadata": {},
   "source": [
    "### Hình thái dữ liệu"
   ]
  },
  {
   "cell_type": "code",
   "execution_count": 174,
   "metadata": {},
   "outputs": [
    {
     "data": {
      "text/plain": [
       "(165251, 16)"
      ]
     },
     "execution_count": 174,
     "metadata": {},
     "output_type": "execute_result"
    }
   ],
   "source": [
    "covid_df.shape"
   ]
  },
  {
   "cell_type": "markdown",
   "metadata": {},
   "source": [
    "### 10 quan sát đầu tập dữ liệu"
   ]
  },
  {
   "cell_type": "code",
   "execution_count": 175,
   "metadata": {},
   "outputs": [
    {
     "data": {
      "text/html": [
       "<div>\n",
       "<style scoped>\n",
       "    .dataframe tbody tr th:only-of-type {\n",
       "        vertical-align: middle;\n",
       "    }\n",
       "\n",
       "    .dataframe tbody tr th {\n",
       "        vertical-align: top;\n",
       "    }\n",
       "\n",
       "    .dataframe thead th {\n",
       "        text-align: right;\n",
       "    }\n",
       "</style>\n",
       "<table border=\"1\" class=\"dataframe\">\n",
       "  <thead>\n",
       "    <tr style=\"text-align: right;\">\n",
       "      <th></th>\n",
       "      <th>Continent</th>\n",
       "      <th>Location</th>\n",
       "      <th>Date</th>\n",
       "      <th>TotalCases</th>\n",
       "      <th>NewCases</th>\n",
       "      <th>TotalCases_per_million</th>\n",
       "      <th>NewCases_per_million</th>\n",
       "      <th>TotalDeaths</th>\n",
       "      <th>NewDeaths</th>\n",
       "      <th>TotalDeaths_per_million</th>\n",
       "      <th>NewDeaths_per_million</th>\n",
       "      <th>TotalVaccinations</th>\n",
       "      <th>PeopleVaccinated</th>\n",
       "      <th>PeopleFullyVaccinated</th>\n",
       "      <th>PeopleFullyVaccinated_per_hundred</th>\n",
       "      <th>Population</th>\n",
       "    </tr>\n",
       "  </thead>\n",
       "  <tbody>\n",
       "    <tr>\n",
       "      <th>0</th>\n",
       "      <td>Asia</td>\n",
       "      <td>Afghanistan</td>\n",
       "      <td>2020-02-24</td>\n",
       "      <td>5.0</td>\n",
       "      <td>5.0</td>\n",
       "      <td>0.126</td>\n",
       "      <td>0.126</td>\n",
       "      <td>0.0</td>\n",
       "      <td>0.0</td>\n",
       "      <td>0.0</td>\n",
       "      <td>0.0</td>\n",
       "      <td>0.0</td>\n",
       "      <td>0.0</td>\n",
       "      <td>0.0</td>\n",
       "      <td>0.0</td>\n",
       "      <td>39835428.0</td>\n",
       "    </tr>\n",
       "    <tr>\n",
       "      <th>1</th>\n",
       "      <td>Asia</td>\n",
       "      <td>Afghanistan</td>\n",
       "      <td>2020-02-25</td>\n",
       "      <td>5.0</td>\n",
       "      <td>0.0</td>\n",
       "      <td>0.126</td>\n",
       "      <td>0.000</td>\n",
       "      <td>0.0</td>\n",
       "      <td>0.0</td>\n",
       "      <td>0.0</td>\n",
       "      <td>0.0</td>\n",
       "      <td>0.0</td>\n",
       "      <td>0.0</td>\n",
       "      <td>0.0</td>\n",
       "      <td>0.0</td>\n",
       "      <td>39835428.0</td>\n",
       "    </tr>\n",
       "    <tr>\n",
       "      <th>2</th>\n",
       "      <td>Asia</td>\n",
       "      <td>Afghanistan</td>\n",
       "      <td>2020-02-26</td>\n",
       "      <td>5.0</td>\n",
       "      <td>0.0</td>\n",
       "      <td>0.126</td>\n",
       "      <td>0.000</td>\n",
       "      <td>0.0</td>\n",
       "      <td>0.0</td>\n",
       "      <td>0.0</td>\n",
       "      <td>0.0</td>\n",
       "      <td>0.0</td>\n",
       "      <td>0.0</td>\n",
       "      <td>0.0</td>\n",
       "      <td>0.0</td>\n",
       "      <td>39835428.0</td>\n",
       "    </tr>\n",
       "    <tr>\n",
       "      <th>3</th>\n",
       "      <td>Asia</td>\n",
       "      <td>Afghanistan</td>\n",
       "      <td>2020-02-27</td>\n",
       "      <td>5.0</td>\n",
       "      <td>0.0</td>\n",
       "      <td>0.126</td>\n",
       "      <td>0.000</td>\n",
       "      <td>0.0</td>\n",
       "      <td>0.0</td>\n",
       "      <td>0.0</td>\n",
       "      <td>0.0</td>\n",
       "      <td>0.0</td>\n",
       "      <td>0.0</td>\n",
       "      <td>0.0</td>\n",
       "      <td>0.0</td>\n",
       "      <td>39835428.0</td>\n",
       "    </tr>\n",
       "    <tr>\n",
       "      <th>4</th>\n",
       "      <td>Asia</td>\n",
       "      <td>Afghanistan</td>\n",
       "      <td>2020-02-28</td>\n",
       "      <td>5.0</td>\n",
       "      <td>0.0</td>\n",
       "      <td>0.126</td>\n",
       "      <td>0.000</td>\n",
       "      <td>0.0</td>\n",
       "      <td>0.0</td>\n",
       "      <td>0.0</td>\n",
       "      <td>0.0</td>\n",
       "      <td>0.0</td>\n",
       "      <td>0.0</td>\n",
       "      <td>0.0</td>\n",
       "      <td>0.0</td>\n",
       "      <td>39835428.0</td>\n",
       "    </tr>\n",
       "    <tr>\n",
       "      <th>5</th>\n",
       "      <td>Asia</td>\n",
       "      <td>Afghanistan</td>\n",
       "      <td>2020-02-29</td>\n",
       "      <td>5.0</td>\n",
       "      <td>0.0</td>\n",
       "      <td>0.126</td>\n",
       "      <td>0.000</td>\n",
       "      <td>0.0</td>\n",
       "      <td>0.0</td>\n",
       "      <td>0.0</td>\n",
       "      <td>0.0</td>\n",
       "      <td>0.0</td>\n",
       "      <td>0.0</td>\n",
       "      <td>0.0</td>\n",
       "      <td>0.0</td>\n",
       "      <td>39835428.0</td>\n",
       "    </tr>\n",
       "    <tr>\n",
       "      <th>6</th>\n",
       "      <td>Asia</td>\n",
       "      <td>Afghanistan</td>\n",
       "      <td>2020-03-01</td>\n",
       "      <td>5.0</td>\n",
       "      <td>0.0</td>\n",
       "      <td>0.126</td>\n",
       "      <td>0.000</td>\n",
       "      <td>0.0</td>\n",
       "      <td>0.0</td>\n",
       "      <td>0.0</td>\n",
       "      <td>0.0</td>\n",
       "      <td>0.0</td>\n",
       "      <td>0.0</td>\n",
       "      <td>0.0</td>\n",
       "      <td>0.0</td>\n",
       "      <td>39835428.0</td>\n",
       "    </tr>\n",
       "    <tr>\n",
       "      <th>7</th>\n",
       "      <td>Asia</td>\n",
       "      <td>Afghanistan</td>\n",
       "      <td>2020-03-02</td>\n",
       "      <td>5.0</td>\n",
       "      <td>0.0</td>\n",
       "      <td>0.126</td>\n",
       "      <td>0.000</td>\n",
       "      <td>0.0</td>\n",
       "      <td>0.0</td>\n",
       "      <td>0.0</td>\n",
       "      <td>0.0</td>\n",
       "      <td>0.0</td>\n",
       "      <td>0.0</td>\n",
       "      <td>0.0</td>\n",
       "      <td>0.0</td>\n",
       "      <td>39835428.0</td>\n",
       "    </tr>\n",
       "    <tr>\n",
       "      <th>8</th>\n",
       "      <td>Asia</td>\n",
       "      <td>Afghanistan</td>\n",
       "      <td>2020-03-03</td>\n",
       "      <td>5.0</td>\n",
       "      <td>0.0</td>\n",
       "      <td>0.126</td>\n",
       "      <td>0.000</td>\n",
       "      <td>0.0</td>\n",
       "      <td>0.0</td>\n",
       "      <td>0.0</td>\n",
       "      <td>0.0</td>\n",
       "      <td>0.0</td>\n",
       "      <td>0.0</td>\n",
       "      <td>0.0</td>\n",
       "      <td>0.0</td>\n",
       "      <td>39835428.0</td>\n",
       "    </tr>\n",
       "    <tr>\n",
       "      <th>9</th>\n",
       "      <td>Asia</td>\n",
       "      <td>Afghanistan</td>\n",
       "      <td>2020-03-04</td>\n",
       "      <td>5.0</td>\n",
       "      <td>0.0</td>\n",
       "      <td>0.126</td>\n",
       "      <td>0.000</td>\n",
       "      <td>0.0</td>\n",
       "      <td>0.0</td>\n",
       "      <td>0.0</td>\n",
       "      <td>0.0</td>\n",
       "      <td>0.0</td>\n",
       "      <td>0.0</td>\n",
       "      <td>0.0</td>\n",
       "      <td>0.0</td>\n",
       "      <td>39835428.0</td>\n",
       "    </tr>\n",
       "  </tbody>\n",
       "</table>\n",
       "</div>"
      ],
      "text/plain": [
       "  Continent     Location        Date  TotalCases  NewCases  \\\n",
       "0      Asia  Afghanistan  2020-02-24         5.0       5.0   \n",
       "1      Asia  Afghanistan  2020-02-25         5.0       0.0   \n",
       "2      Asia  Afghanistan  2020-02-26         5.0       0.0   \n",
       "3      Asia  Afghanistan  2020-02-27         5.0       0.0   \n",
       "4      Asia  Afghanistan  2020-02-28         5.0       0.0   \n",
       "5      Asia  Afghanistan  2020-02-29         5.0       0.0   \n",
       "6      Asia  Afghanistan  2020-03-01         5.0       0.0   \n",
       "7      Asia  Afghanistan  2020-03-02         5.0       0.0   \n",
       "8      Asia  Afghanistan  2020-03-03         5.0       0.0   \n",
       "9      Asia  Afghanistan  2020-03-04         5.0       0.0   \n",
       "\n",
       "   TotalCases_per_million  NewCases_per_million  TotalDeaths  NewDeaths  \\\n",
       "0                   0.126                 0.126          0.0        0.0   \n",
       "1                   0.126                 0.000          0.0        0.0   \n",
       "2                   0.126                 0.000          0.0        0.0   \n",
       "3                   0.126                 0.000          0.0        0.0   \n",
       "4                   0.126                 0.000          0.0        0.0   \n",
       "5                   0.126                 0.000          0.0        0.0   \n",
       "6                   0.126                 0.000          0.0        0.0   \n",
       "7                   0.126                 0.000          0.0        0.0   \n",
       "8                   0.126                 0.000          0.0        0.0   \n",
       "9                   0.126                 0.000          0.0        0.0   \n",
       "\n",
       "   TotalDeaths_per_million  NewDeaths_per_million  TotalVaccinations  \\\n",
       "0                      0.0                    0.0                0.0   \n",
       "1                      0.0                    0.0                0.0   \n",
       "2                      0.0                    0.0                0.0   \n",
       "3                      0.0                    0.0                0.0   \n",
       "4                      0.0                    0.0                0.0   \n",
       "5                      0.0                    0.0                0.0   \n",
       "6                      0.0                    0.0                0.0   \n",
       "7                      0.0                    0.0                0.0   \n",
       "8                      0.0                    0.0                0.0   \n",
       "9                      0.0                    0.0                0.0   \n",
       "\n",
       "   PeopleVaccinated  PeopleFullyVaccinated  PeopleFullyVaccinated_per_hundred  \\\n",
       "0               0.0                    0.0                                0.0   \n",
       "1               0.0                    0.0                                0.0   \n",
       "2               0.0                    0.0                                0.0   \n",
       "3               0.0                    0.0                                0.0   \n",
       "4               0.0                    0.0                                0.0   \n",
       "5               0.0                    0.0                                0.0   \n",
       "6               0.0                    0.0                                0.0   \n",
       "7               0.0                    0.0                                0.0   \n",
       "8               0.0                    0.0                                0.0   \n",
       "9               0.0                    0.0                                0.0   \n",
       "\n",
       "   Population  \n",
       "0  39835428.0  \n",
       "1  39835428.0  \n",
       "2  39835428.0  \n",
       "3  39835428.0  \n",
       "4  39835428.0  \n",
       "5  39835428.0  \n",
       "6  39835428.0  \n",
       "7  39835428.0  \n",
       "8  39835428.0  \n",
       "9  39835428.0  "
      ]
     },
     "execution_count": 175,
     "metadata": {},
     "output_type": "execute_result"
    }
   ],
   "source": [
    "covid_df.head(10)"
   ]
  },
  {
   "cell_type": "markdown",
   "metadata": {},
   "source": [
    "### 10 quan sát cuối tập dữ liệu"
   ]
  },
  {
   "cell_type": "code",
   "execution_count": 176,
   "metadata": {},
   "outputs": [
    {
     "data": {
      "text/html": [
       "<div>\n",
       "<style scoped>\n",
       "    .dataframe tbody tr th:only-of-type {\n",
       "        vertical-align: middle;\n",
       "    }\n",
       "\n",
       "    .dataframe tbody tr th {\n",
       "        vertical-align: top;\n",
       "    }\n",
       "\n",
       "    .dataframe thead th {\n",
       "        text-align: right;\n",
       "    }\n",
       "</style>\n",
       "<table border=\"1\" class=\"dataframe\">\n",
       "  <thead>\n",
       "    <tr style=\"text-align: right;\">\n",
       "      <th></th>\n",
       "      <th>Continent</th>\n",
       "      <th>Location</th>\n",
       "      <th>Date</th>\n",
       "      <th>TotalCases</th>\n",
       "      <th>NewCases</th>\n",
       "      <th>TotalCases_per_million</th>\n",
       "      <th>NewCases_per_million</th>\n",
       "      <th>TotalDeaths</th>\n",
       "      <th>NewDeaths</th>\n",
       "      <th>TotalDeaths_per_million</th>\n",
       "      <th>NewDeaths_per_million</th>\n",
       "      <th>TotalVaccinations</th>\n",
       "      <th>PeopleVaccinated</th>\n",
       "      <th>PeopleFullyVaccinated</th>\n",
       "      <th>PeopleFullyVaccinated_per_hundred</th>\n",
       "      <th>Population</th>\n",
       "    </tr>\n",
       "  </thead>\n",
       "  <tbody>\n",
       "    <tr>\n",
       "      <th>166316</th>\n",
       "      <td>Africa</td>\n",
       "      <td>Zimbabwe</td>\n",
       "      <td>2022-02-24</td>\n",
       "      <td>234967.0</td>\n",
       "      <td>378.0</td>\n",
       "      <td>15568.801</td>\n",
       "      <td>25.046</td>\n",
       "      <td>5390.0</td>\n",
       "      <td>2.0</td>\n",
       "      <td>357.139</td>\n",
       "      <td>0.133</td>\n",
       "      <td>7858794.0</td>\n",
       "      <td>4351621.0</td>\n",
       "      <td>3384590.0</td>\n",
       "      <td>22.43</td>\n",
       "      <td>15092171.0</td>\n",
       "    </tr>\n",
       "    <tr>\n",
       "      <th>166317</th>\n",
       "      <td>Africa</td>\n",
       "      <td>Zimbabwe</td>\n",
       "      <td>2022-02-25</td>\n",
       "      <td>235467.0</td>\n",
       "      <td>500.0</td>\n",
       "      <td>15601.930</td>\n",
       "      <td>33.130</td>\n",
       "      <td>5392.0</td>\n",
       "      <td>2.0</td>\n",
       "      <td>357.271</td>\n",
       "      <td>0.133</td>\n",
       "      <td>7870399.0</td>\n",
       "      <td>4355217.0</td>\n",
       "      <td>3388940.0</td>\n",
       "      <td>22.45</td>\n",
       "      <td>15092171.0</td>\n",
       "    </tr>\n",
       "    <tr>\n",
       "      <th>166318</th>\n",
       "      <td>Africa</td>\n",
       "      <td>Zimbabwe</td>\n",
       "      <td>2022-02-26</td>\n",
       "      <td>235803.0</td>\n",
       "      <td>336.0</td>\n",
       "      <td>15624.193</td>\n",
       "      <td>22.263</td>\n",
       "      <td>5393.0</td>\n",
       "      <td>1.0</td>\n",
       "      <td>357.338</td>\n",
       "      <td>0.066</td>\n",
       "      <td>7876942.0</td>\n",
       "      <td>4357938.0</td>\n",
       "      <td>3390880.0</td>\n",
       "      <td>22.47</td>\n",
       "      <td>15092171.0</td>\n",
       "    </tr>\n",
       "    <tr>\n",
       "      <th>166319</th>\n",
       "      <td>Africa</td>\n",
       "      <td>Zimbabwe</td>\n",
       "      <td>2022-02-27</td>\n",
       "      <td>235803.0</td>\n",
       "      <td>0.0</td>\n",
       "      <td>15624.193</td>\n",
       "      <td>0.000</td>\n",
       "      <td>5393.0</td>\n",
       "      <td>0.0</td>\n",
       "      <td>357.338</td>\n",
       "      <td>0.000</td>\n",
       "      <td>7882244.0</td>\n",
       "      <td>4359872.0</td>\n",
       "      <td>3392578.0</td>\n",
       "      <td>22.48</td>\n",
       "      <td>15092171.0</td>\n",
       "    </tr>\n",
       "    <tr>\n",
       "      <th>166320</th>\n",
       "      <td>Africa</td>\n",
       "      <td>Zimbabwe</td>\n",
       "      <td>2022-02-28</td>\n",
       "      <td>236380.0</td>\n",
       "      <td>577.0</td>\n",
       "      <td>15662.425</td>\n",
       "      <td>38.232</td>\n",
       "      <td>5395.0</td>\n",
       "      <td>2.0</td>\n",
       "      <td>357.470</td>\n",
       "      <td>0.133</td>\n",
       "      <td>7890951.0</td>\n",
       "      <td>4362150.0</td>\n",
       "      <td>3396655.0</td>\n",
       "      <td>22.51</td>\n",
       "      <td>15092171.0</td>\n",
       "    </tr>\n",
       "    <tr>\n",
       "      <th>166321</th>\n",
       "      <td>Africa</td>\n",
       "      <td>Zimbabwe</td>\n",
       "      <td>2022-03-01</td>\n",
       "      <td>236871.0</td>\n",
       "      <td>491.0</td>\n",
       "      <td>15694.959</td>\n",
       "      <td>32.533</td>\n",
       "      <td>5395.0</td>\n",
       "      <td>0.0</td>\n",
       "      <td>357.470</td>\n",
       "      <td>0.000</td>\n",
       "      <td>7901360.0</td>\n",
       "      <td>4365856.0</td>\n",
       "      <td>3399915.0</td>\n",
       "      <td>22.53</td>\n",
       "      <td>15092171.0</td>\n",
       "    </tr>\n",
       "    <tr>\n",
       "      <th>166322</th>\n",
       "      <td>Africa</td>\n",
       "      <td>Zimbabwe</td>\n",
       "      <td>2022-03-02</td>\n",
       "      <td>237503.0</td>\n",
       "      <td>632.0</td>\n",
       "      <td>15736.835</td>\n",
       "      <td>41.876</td>\n",
       "      <td>5396.0</td>\n",
       "      <td>1.0</td>\n",
       "      <td>357.536</td>\n",
       "      <td>0.066</td>\n",
       "      <td>7910740.0</td>\n",
       "      <td>4368726.0</td>\n",
       "      <td>3402434.0</td>\n",
       "      <td>22.54</td>\n",
       "      <td>15092171.0</td>\n",
       "    </tr>\n",
       "    <tr>\n",
       "      <th>166323</th>\n",
       "      <td>Africa</td>\n",
       "      <td>Zimbabwe</td>\n",
       "      <td>2022-03-03</td>\n",
       "      <td>237503.0</td>\n",
       "      <td>0.0</td>\n",
       "      <td>15736.835</td>\n",
       "      <td>0.000</td>\n",
       "      <td>5396.0</td>\n",
       "      <td>0.0</td>\n",
       "      <td>357.536</td>\n",
       "      <td>0.000</td>\n",
       "      <td>7921113.0</td>\n",
       "      <td>4372925.0</td>\n",
       "      <td>3406482.0</td>\n",
       "      <td>22.57</td>\n",
       "      <td>15092171.0</td>\n",
       "    </tr>\n",
       "    <tr>\n",
       "      <th>166324</th>\n",
       "      <td>Africa</td>\n",
       "      <td>Zimbabwe</td>\n",
       "      <td>2022-03-04</td>\n",
       "      <td>238739.0</td>\n",
       "      <td>1236.0</td>\n",
       "      <td>15818.731</td>\n",
       "      <td>81.897</td>\n",
       "      <td>5397.0</td>\n",
       "      <td>1.0</td>\n",
       "      <td>357.603</td>\n",
       "      <td>0.066</td>\n",
       "      <td>7930621.0</td>\n",
       "      <td>4374896.0</td>\n",
       "      <td>3408609.0</td>\n",
       "      <td>22.59</td>\n",
       "      <td>15092171.0</td>\n",
       "    </tr>\n",
       "    <tr>\n",
       "      <th>166325</th>\n",
       "      <td>Africa</td>\n",
       "      <td>Zimbabwe</td>\n",
       "      <td>2022-03-05</td>\n",
       "      <td>239019.0</td>\n",
       "      <td>280.0</td>\n",
       "      <td>15837.284</td>\n",
       "      <td>18.553</td>\n",
       "      <td>5397.0</td>\n",
       "      <td>0.0</td>\n",
       "      <td>357.603</td>\n",
       "      <td>0.000</td>\n",
       "      <td>0.0</td>\n",
       "      <td>0.0</td>\n",
       "      <td>0.0</td>\n",
       "      <td>0.00</td>\n",
       "      <td>15092171.0</td>\n",
       "    </tr>\n",
       "  </tbody>\n",
       "</table>\n",
       "</div>"
      ],
      "text/plain": [
       "       Continent  Location        Date  TotalCases  NewCases  \\\n",
       "166316    Africa  Zimbabwe  2022-02-24    234967.0     378.0   \n",
       "166317    Africa  Zimbabwe  2022-02-25    235467.0     500.0   \n",
       "166318    Africa  Zimbabwe  2022-02-26    235803.0     336.0   \n",
       "166319    Africa  Zimbabwe  2022-02-27    235803.0       0.0   \n",
       "166320    Africa  Zimbabwe  2022-02-28    236380.0     577.0   \n",
       "166321    Africa  Zimbabwe  2022-03-01    236871.0     491.0   \n",
       "166322    Africa  Zimbabwe  2022-03-02    237503.0     632.0   \n",
       "166323    Africa  Zimbabwe  2022-03-03    237503.0       0.0   \n",
       "166324    Africa  Zimbabwe  2022-03-04    238739.0    1236.0   \n",
       "166325    Africa  Zimbabwe  2022-03-05    239019.0     280.0   \n",
       "\n",
       "        TotalCases_per_million  NewCases_per_million  TotalDeaths  NewDeaths  \\\n",
       "166316               15568.801                25.046       5390.0        2.0   \n",
       "166317               15601.930                33.130       5392.0        2.0   \n",
       "166318               15624.193                22.263       5393.0        1.0   \n",
       "166319               15624.193                 0.000       5393.0        0.0   \n",
       "166320               15662.425                38.232       5395.0        2.0   \n",
       "166321               15694.959                32.533       5395.0        0.0   \n",
       "166322               15736.835                41.876       5396.0        1.0   \n",
       "166323               15736.835                 0.000       5396.0        0.0   \n",
       "166324               15818.731                81.897       5397.0        1.0   \n",
       "166325               15837.284                18.553       5397.0        0.0   \n",
       "\n",
       "        TotalDeaths_per_million  NewDeaths_per_million  TotalVaccinations  \\\n",
       "166316                  357.139                  0.133          7858794.0   \n",
       "166317                  357.271                  0.133          7870399.0   \n",
       "166318                  357.338                  0.066          7876942.0   \n",
       "166319                  357.338                  0.000          7882244.0   \n",
       "166320                  357.470                  0.133          7890951.0   \n",
       "166321                  357.470                  0.000          7901360.0   \n",
       "166322                  357.536                  0.066          7910740.0   \n",
       "166323                  357.536                  0.000          7921113.0   \n",
       "166324                  357.603                  0.066          7930621.0   \n",
       "166325                  357.603                  0.000                0.0   \n",
       "\n",
       "        PeopleVaccinated  PeopleFullyVaccinated  \\\n",
       "166316         4351621.0              3384590.0   \n",
       "166317         4355217.0              3388940.0   \n",
       "166318         4357938.0              3390880.0   \n",
       "166319         4359872.0              3392578.0   \n",
       "166320         4362150.0              3396655.0   \n",
       "166321         4365856.0              3399915.0   \n",
       "166322         4368726.0              3402434.0   \n",
       "166323         4372925.0              3406482.0   \n",
       "166324         4374896.0              3408609.0   \n",
       "166325               0.0                    0.0   \n",
       "\n",
       "        PeopleFullyVaccinated_per_hundred  Population  \n",
       "166316                              22.43  15092171.0  \n",
       "166317                              22.45  15092171.0  \n",
       "166318                              22.47  15092171.0  \n",
       "166319                              22.48  15092171.0  \n",
       "166320                              22.51  15092171.0  \n",
       "166321                              22.53  15092171.0  \n",
       "166322                              22.54  15092171.0  \n",
       "166323                              22.57  15092171.0  \n",
       "166324                              22.59  15092171.0  \n",
       "166325                               0.00  15092171.0  "
      ]
     },
     "execution_count": 176,
     "metadata": {},
     "output_type": "execute_result"
    }
   ],
   "source": [
    "covid_df.tail(10)"
   ]
  },
  {
   "cell_type": "markdown",
   "metadata": {},
   "source": [
    "# 4. Trực quan hoá dữ liệu"
   ]
  },
  {
   "cell_type": "markdown",
   "metadata": {},
   "source": [
    "Thông tin các cột trong tập dữ liệu"
   ]
  },
  {
   "cell_type": "code",
   "execution_count": 177,
   "metadata": {},
   "outputs": [
    {
     "name": "stdout",
     "output_type": "stream",
     "text": [
      "<class 'pandas.core.frame.DataFrame'>\n",
      "Int64Index: 165251 entries, 0 to 166325\n",
      "Data columns (total 16 columns):\n",
      " #   Column                             Non-Null Count   Dtype  \n",
      "---  ------                             --------------   -----  \n",
      " 0   Continent                          165251 non-null  object \n",
      " 1   Location                           165251 non-null  object \n",
      " 2   Date                               165251 non-null  object \n",
      " 3   TotalCases                         165251 non-null  float64\n",
      " 4   NewCases                           165251 non-null  float64\n",
      " 5   TotalCases_per_million             165251 non-null  float64\n",
      " 6   NewCases_per_million               165251 non-null  float64\n",
      " 7   TotalDeaths                        165251 non-null  float64\n",
      " 8   NewDeaths                          165251 non-null  float64\n",
      " 9   TotalDeaths_per_million            165251 non-null  float64\n",
      " 10  NewDeaths_per_million              165251 non-null  float64\n",
      " 11  TotalVaccinations                  165251 non-null  float64\n",
      " 12  PeopleVaccinated                   165251 non-null  float64\n",
      " 13  PeopleFullyVaccinated              165251 non-null  float64\n",
      " 14  PeopleFullyVaccinated_per_hundred  165251 non-null  float64\n",
      " 15  Population                         165251 non-null  float64\n",
      "dtypes: float64(13), object(3)\n",
      "memory usage: 21.4+ MB\n"
     ]
    }
   ],
   "source": [
    "covid_df.info()"
   ]
  },
  {
   "cell_type": "markdown",
   "metadata": {},
   "source": [
    "Một số thống kê cơ bản về dữ liệu"
   ]
  },
  {
   "cell_type": "code",
   "execution_count": 178,
   "metadata": {},
   "outputs": [
    {
     "data": {
      "text/html": [
       "<div>\n",
       "<style scoped>\n",
       "    .dataframe tbody tr th:only-of-type {\n",
       "        vertical-align: middle;\n",
       "    }\n",
       "\n",
       "    .dataframe tbody tr th {\n",
       "        vertical-align: top;\n",
       "    }\n",
       "\n",
       "    .dataframe thead th {\n",
       "        text-align: right;\n",
       "    }\n",
       "</style>\n",
       "<table border=\"1\" class=\"dataframe\">\n",
       "  <thead>\n",
       "    <tr style=\"text-align: right;\">\n",
       "      <th></th>\n",
       "      <th>TotalCases</th>\n",
       "      <th>NewCases</th>\n",
       "      <th>TotalCases_per_million</th>\n",
       "      <th>NewCases_per_million</th>\n",
       "      <th>TotalDeaths</th>\n",
       "      <th>NewDeaths</th>\n",
       "      <th>TotalDeaths_per_million</th>\n",
       "      <th>NewDeaths_per_million</th>\n",
       "      <th>TotalVaccinations</th>\n",
       "      <th>PeopleVaccinated</th>\n",
       "      <th>PeopleFullyVaccinated</th>\n",
       "      <th>PeopleFullyVaccinated_per_hundred</th>\n",
       "      <th>Population</th>\n",
       "    </tr>\n",
       "  </thead>\n",
       "  <tbody>\n",
       "    <tr>\n",
       "      <th>count</th>\n",
       "      <td>1.652510e+05</td>\n",
       "      <td>1.652510e+05</td>\n",
       "      <td>165251.000000</td>\n",
       "      <td>165251.000000</td>\n",
       "      <td>1.652510e+05</td>\n",
       "      <td>165251.000000</td>\n",
       "      <td>165251.000000</td>\n",
       "      <td>165251.000000</td>\n",
       "      <td>1.652510e+05</td>\n",
       "      <td>1.652510e+05</td>\n",
       "      <td>1.652510e+05</td>\n",
       "      <td>165251.000000</td>\n",
       "      <td>1.652510e+05</td>\n",
       "    </tr>\n",
       "    <tr>\n",
       "      <th>mean</th>\n",
       "      <td>2.505992e+06</td>\n",
       "      <td>1.142253e+04</td>\n",
       "      <td>28963.765115</td>\n",
       "      <td>163.534992</td>\n",
       "      <td>5.075483e+04</td>\n",
       "      <td>150.669212</td>\n",
       "      <td>446.055149</td>\n",
       "      <td>1.477463</td>\n",
       "      <td>4.703560e+07</td>\n",
       "      <td>2.292889e+07</td>\n",
       "      <td>1.691146e+07</td>\n",
       "      <td>7.905456</td>\n",
       "      <td>1.474332e+08</td>\n",
       "    </tr>\n",
       "    <tr>\n",
       "      <th>std</th>\n",
       "      <td>1.534516e+07</td>\n",
       "      <td>8.389329e+04</td>\n",
       "      <td>51560.618799</td>\n",
       "      <td>677.401746</td>\n",
       "      <td>2.840557e+05</td>\n",
       "      <td>782.870221</td>\n",
       "      <td>753.155897</td>\n",
       "      <td>4.852677</td>\n",
       "      <td>4.133728e+08</td>\n",
       "      <td>2.073323e+08</td>\n",
       "      <td>1.652634e+08</td>\n",
       "      <td>19.519701</td>\n",
       "      <td>7.054923e+08</td>\n",
       "    </tr>\n",
       "    <tr>\n",
       "      <th>min</th>\n",
       "      <td>0.000000e+00</td>\n",
       "      <td>0.000000e+00</td>\n",
       "      <td>0.000000</td>\n",
       "      <td>0.000000</td>\n",
       "      <td>0.000000e+00</td>\n",
       "      <td>0.000000</td>\n",
       "      <td>0.000000</td>\n",
       "      <td>0.000000</td>\n",
       "      <td>0.000000e+00</td>\n",
       "      <td>0.000000e+00</td>\n",
       "      <td>0.000000e+00</td>\n",
       "      <td>0.000000</td>\n",
       "      <td>4.700000e+01</td>\n",
       "    </tr>\n",
       "    <tr>\n",
       "      <th>25%</th>\n",
       "      <td>1.739000e+03</td>\n",
       "      <td>0.000000e+00</td>\n",
       "      <td>533.510000</td>\n",
       "      <td>0.000000</td>\n",
       "      <td>2.400000e+01</td>\n",
       "      <td>0.000000</td>\n",
       "      <td>6.466000</td>\n",
       "      <td>0.000000</td>\n",
       "      <td>0.000000e+00</td>\n",
       "      <td>0.000000e+00</td>\n",
       "      <td>0.000000e+00</td>\n",
       "      <td>0.000000</td>\n",
       "      <td>1.172369e+06</td>\n",
       "    </tr>\n",
       "    <tr>\n",
       "      <th>50%</th>\n",
       "      <td>2.464500e+04</td>\n",
       "      <td>7.400000e+01</td>\n",
       "      <td>4457.275000</td>\n",
       "      <td>10.425000</td>\n",
       "      <td>3.850000e+02</td>\n",
       "      <td>1.000000</td>\n",
       "      <td>72.774000</td>\n",
       "      <td>0.031000</td>\n",
       "      <td>0.000000e+00</td>\n",
       "      <td>0.000000e+00</td>\n",
       "      <td>0.000000e+00</td>\n",
       "      <td>0.000000</td>\n",
       "      <td>8.478242e+06</td>\n",
       "    </tr>\n",
       "    <tr>\n",
       "      <th>75%</th>\n",
       "      <td>2.891110e+05</td>\n",
       "      <td>1.029000e+03</td>\n",
       "      <td>36582.431500</td>\n",
       "      <td>97.800500</td>\n",
       "      <td>5.356000e+03</td>\n",
       "      <td>14.000000</td>\n",
       "      <td>581.888000</td>\n",
       "      <td>1.032000</td>\n",
       "      <td>5.999550e+04</td>\n",
       "      <td>1.400250e+04</td>\n",
       "      <td>0.000000e+00</td>\n",
       "      <td>0.000000</td>\n",
       "      <td>3.393361e+07</td>\n",
       "    </tr>\n",
       "    <tr>\n",
       "      <th>max</th>\n",
       "      <td>4.451295e+08</td>\n",
       "      <td>4.206334e+06</td>\n",
       "      <td>706541.904000</td>\n",
       "      <td>51427.491000</td>\n",
       "      <td>5.995245e+06</td>\n",
       "      <td>18020.000000</td>\n",
       "      <td>6322.263000</td>\n",
       "      <td>453.772000</td>\n",
       "      <td>1.085079e+10</td>\n",
       "      <td>4.976031e+09</td>\n",
       "      <td>4.400787e+09</td>\n",
       "      <td>121.450000</td>\n",
       "      <td>7.874966e+09</td>\n",
       "    </tr>\n",
       "  </tbody>\n",
       "</table>\n",
       "</div>"
      ],
      "text/plain": [
       "         TotalCases      NewCases  TotalCases_per_million  \\\n",
       "count  1.652510e+05  1.652510e+05           165251.000000   \n",
       "mean   2.505992e+06  1.142253e+04            28963.765115   \n",
       "std    1.534516e+07  8.389329e+04            51560.618799   \n",
       "min    0.000000e+00  0.000000e+00                0.000000   \n",
       "25%    1.739000e+03  0.000000e+00              533.510000   \n",
       "50%    2.464500e+04  7.400000e+01             4457.275000   \n",
       "75%    2.891110e+05  1.029000e+03            36582.431500   \n",
       "max    4.451295e+08  4.206334e+06           706541.904000   \n",
       "\n",
       "       NewCases_per_million   TotalDeaths      NewDeaths  \\\n",
       "count         165251.000000  1.652510e+05  165251.000000   \n",
       "mean             163.534992  5.075483e+04     150.669212   \n",
       "std              677.401746  2.840557e+05     782.870221   \n",
       "min                0.000000  0.000000e+00       0.000000   \n",
       "25%                0.000000  2.400000e+01       0.000000   \n",
       "50%               10.425000  3.850000e+02       1.000000   \n",
       "75%               97.800500  5.356000e+03      14.000000   \n",
       "max            51427.491000  5.995245e+06   18020.000000   \n",
       "\n",
       "       TotalDeaths_per_million  NewDeaths_per_million  TotalVaccinations  \\\n",
       "count            165251.000000          165251.000000       1.652510e+05   \n",
       "mean                446.055149               1.477463       4.703560e+07   \n",
       "std                 753.155897               4.852677       4.133728e+08   \n",
       "min                   0.000000               0.000000       0.000000e+00   \n",
       "25%                   6.466000               0.000000       0.000000e+00   \n",
       "50%                  72.774000               0.031000       0.000000e+00   \n",
       "75%                 581.888000               1.032000       5.999550e+04   \n",
       "max                6322.263000             453.772000       1.085079e+10   \n",
       "\n",
       "       PeopleVaccinated  PeopleFullyVaccinated  \\\n",
       "count      1.652510e+05           1.652510e+05   \n",
       "mean       2.292889e+07           1.691146e+07   \n",
       "std        2.073323e+08           1.652634e+08   \n",
       "min        0.000000e+00           0.000000e+00   \n",
       "25%        0.000000e+00           0.000000e+00   \n",
       "50%        0.000000e+00           0.000000e+00   \n",
       "75%        1.400250e+04           0.000000e+00   \n",
       "max        4.976031e+09           4.400787e+09   \n",
       "\n",
       "       PeopleFullyVaccinated_per_hundred    Population  \n",
       "count                      165251.000000  1.652510e+05  \n",
       "mean                            7.905456  1.474332e+08  \n",
       "std                            19.519701  7.054923e+08  \n",
       "min                             0.000000  4.700000e+01  \n",
       "25%                             0.000000  1.172369e+06  \n",
       "50%                             0.000000  8.478242e+06  \n",
       "75%                             0.000000  3.393361e+07  \n",
       "max                           121.450000  7.874966e+09  "
      ]
     },
     "execution_count": 178,
     "metadata": {},
     "output_type": "execute_result"
    }
   ],
   "source": [
    "covid_df.describe()"
   ]
  },
  {
   "cell_type": "markdown",
   "metadata": {},
   "source": [
    "Một số hàm vẽ biểu đồ cần thiết"
   ]
  },
  {
   "cell_type": "code",
   "execution_count": 179,
   "metadata": {},
   "outputs": [],
   "source": [
    "def plot_bar(df, x, y, title):\n",
    "    figure = px.bar(df, x = x, y = y, color = 'Continent', text = x, orientation='h', height=500,\n",
    "                    color_discrete_sequence = px.colors.qualitative.Dark2)\n",
    "    figure.update_layout(title=title, xaxis_title=x, yaxis_title=y, \n",
    "                    yaxis_categoryorder = 'total ascending',\n",
    "                    uniformtext_minsize=8, uniformtext_mode='hide', template='plotly_dark')\n",
    "    figure.show()"
   ]
  },
  {
   "cell_type": "code",
   "execution_count": 180,
   "metadata": {},
   "outputs": [],
   "source": [
    "def plot_hbar(df, col, number, title):\n",
    "    figure = px.bar(df.sort_values(col).tail(number), x = col, y = 'Location', color = 'Continent', text = col, orientation='h', height=700,\n",
    "                   color_discrete_sequence = px.colors.qualitative.Dark2)\n",
    "    figure.update_layout(title=title, xaxis_title=col, yaxis_title=\"Country\", \n",
    "                    yaxis_categoryorder = 'total ascending',\n",
    "                    uniformtext_minsize=8, uniformtext_mode='hide', template='plotly_dark')\n",
    "    figure.show()"
   ]
  },
  {
   "cell_type": "code",
   "execution_count": 181,
   "metadata": {},
   "outputs": [],
   "source": [
    "def plot_sub_lines(df, x, y1, y2, title):\n",
    "    fig = make_subplots(rows=2, cols=1, subplot_titles=(\"Số ca mắc mới mỗi ngày\", \"Số ca tử vong mới mỗi ngày\"))\n",
    "    fig.add_trace(\n",
    "        go.Scatter(x=df[x], y = df[y1], mode=\"lines\", name=y1),\n",
    "        row = 1, \n",
    "        col = 1,\n",
    "    )\n",
    "    fig.add_trace(\n",
    "        go.Scatter(x=df[x], y = df[y2], mode=\"lines\", name=y2),\n",
    "        row = 2, \n",
    "        col = 1\n",
    "    )\n",
    "    fig.update_layout(height=600, width=1200, title_text=title, template='plotly_dark')\n",
    "    fig.show()"
   ]
  },
  {
   "cell_type": "code",
   "execution_count": 182,
   "metadata": {},
   "outputs": [],
   "source": [
    "def plot_sub_pies(df, y1, y2, title):\n",
    "    fig = make_subplots(rows=1, cols=2, subplot_titles=(\"Tổng dân số ở các khu vực\", \"Tổng số ca mắc ở các khu vực\"), specs=[[{\"type\": \"pie\"}, {\"type\": \"pie\"}]])\n",
    "    fig.add_trace(\n",
    "        go.Pie(values=df[y1], labels=df[\"Continent\"]),\n",
    "        row = 1, \n",
    "        col = 1,\n",
    "    )\n",
    "    fig.add_trace(\n",
    "        go.Pie(values=df[y2], labels=df[\"Continent\"]),\n",
    "        row = 1, \n",
    "        col = 2\n",
    "    )\n",
    "    fig.update_layout(height=600, width=1000, title_text=title, template='plotly_dark')\n",
    "    fig.show()"
   ]
  },
  {
   "cell_type": "code",
   "execution_count": 183,
   "metadata": {},
   "outputs": [],
   "source": [
    "def plot_map(df, col, title, size, range):\n",
    "    fig = px.scatter_geo(df, locations='Location', locationmode=\"country names\", \n",
    "                        color=col, size=size,\n",
    "                        range_color= range,\n",
    "                        hover_name='Location',\n",
    "                        projection=\"natural earth\",\n",
    "                        title=title, color_continuous_scale=\"portland\")\n",
    "    fig.update_layout(\n",
    "        template='plotly_dark',\n",
    "        )\n",
    "    fig.show()"
   ]
  },
  {
   "cell_type": "code",
   "execution_count": 184,
   "metadata": {},
   "outputs": [],
   "source": [
    "def plot_pie(df, values, names, title):\n",
    "    fig = px.pie(df, values=values, names=names, title=title)\n",
    "    fig.update_layout(\n",
    "        template='plotly_dark',\n",
    "        )\n",
    "    fig.show()"
   ]
  },
  {
   "cell_type": "code",
   "execution_count": 185,
   "metadata": {},
   "outputs": [],
   "source": [
    "def plot_scatter(df, _x, _y, title, hover_name):\n",
    "    fig = px.scatter(df, x=_x, y=_y, color = _y, hover_name= hover_name, title=title, trendline=\"ols\", color_continuous_scale=px.colors.sequential.Viridis)\n",
    "    fig.show()"
   ]
  },
  {
   "cell_type": "code",
   "execution_count": 186,
   "metadata": {},
   "outputs": [],
   "source": [
    "def plot_ticks_vaccine(title):\n",
    "    bars = []\n",
    "    bars.append(go.Bar(\n",
    "        x = covid_world_before_vaccine[\"Date\"],\n",
    "        y = covid_world_before_vaccine[\"Mortality\"],\n",
    "        marker={'color': 'yellow'},\n",
    "        name = 'Before'\n",
    "    ))\n",
    "    bars.append(go.Bar(\n",
    "        x = covid_world_after_vaccine[\"Date\"],\n",
    "        y = covid_world_after_vaccine[\"Mortality\"],\n",
    "        marker={'color': 'aqua'},\n",
    "        name = 'After'\n",
    "    ))\n",
    "\n",
    "    fig = go.FigureWidget(data=bars)\n",
    "    fig.update_layout(\n",
    "        template='plotly_dark',\n",
    "        title = title\n",
    "        )\n",
    "    fig.show()"
   ]
  },
  {
   "cell_type": "code",
   "execution_count": 187,
   "metadata": {},
   "outputs": [],
   "source": [
    "def plot_ticks_variant(df, var, col, title, is_group):\n",
    "    if is_group:\n",
    "        df= df.groupby(by=var).agg({var : 'first',col : 'sum'})\n",
    "    df_omicron = df[df[var] >= date_omicron]\n",
    "    df_delta = df[df[var] < date_omicron]\n",
    "    df_delta = df_delta[df_delta[var] >= date_delta]\n",
    "    bars = []\n",
    "    bars.append(go.Bar(\n",
    "        x = df_delta[var],\n",
    "        y = df_delta[col],\n",
    "        marker={'color': 'red'},\n",
    "        name = 'Delta'\n",
    "    ))\n",
    "    bars.append(go.Bar(\n",
    "        x = df_omicron[var],\n",
    "        y = df_omicron[col],\n",
    "        marker={'color': 'greenyellow'},\n",
    "        name = 'Omicron'\n",
    "    ))\n",
    "\n",
    "    fig = go.FigureWidget(data=bars)\n",
    "    fig.update_layout(\n",
    "        template='plotly_dark',\n",
    "        title = title\n",
    "        )\n",
    "    fig.show()"
   ]
  },
  {
   "cell_type": "code",
   "execution_count": 188,
   "metadata": {},
   "outputs": [],
   "source": [
    "def get_value(data):\n",
    "    mean = statistics.mean(data)\n",
    "    size = len(data)\n",
    "    df =  size - 1\n",
    "    one_tailed_prob = (1 - 0.95) / 2\n",
    "    sd = statistics.stdev(data)\n",
    "    t_value = stats.t.ppf(1 - one_tailed_prob, df)\n",
    "    se = sd / math.sqrt(size)\n",
    "    return mean, t_value, se, size\n",
    "def get_df_value(n1, n2, s1, s2):\n",
    "    return (((s1**2 / n1) + (s2**2 / n2))**2) / (((s1**2 / n1)**2 / (n1 - 1)) + ((s2**2 / n2)**2 / (n2 - 1)))\n",
    "def get_confident_interval(data1, data2):\n",
    "    mean1, t1, s1, n1 = get_value(data1)\n",
    "    mean2, t2, s2, n2 = get_value(data2)\n",
    "    df = get_df_value(n1, n2, s1, s2)\n",
    "    t = stats.t.ppf(1 - 0.05/2, df)\n",
    "    s = math.sqrt((s1**2 / n1) + (s2**2 / n2))\n",
    "    return (mean1 - mean2 - t*s, mean1 - mean2 + t*s)"
   ]
  },
  {
   "cell_type": "code",
   "execution_count": 189,
   "metadata": {},
   "outputs": [
    {
     "name": "stderr",
     "output_type": "stream",
     "text": [
      "C:\\Users\\nguye\\AppData\\Local\\Temp\\ipykernel_9904\\2878369555.py:3: FutureWarning:\n",
      "\n",
      "Indexing with multiple keys (implicitly converted to a tuple of keys) will be deprecated, use a list instead.\n",
      "\n"
     ]
    }
   ],
   "source": [
    "covid_group_loction = covid_df.copy()\n",
    "covid_group_loction = covid_group_loction[covid_group_loction.Continent != 0]\n",
    "covid_group_loction = covid_group_loction.groupby(['Location'])['TotalCases', 'TotalDeaths'].max()\n",
    "covid_group_loction = covid_group_loction.reset_index()\n",
    "covid_group_loction['SizeCases'] = covid_group_loction['TotalCases'].pow(0.3)\n",
    "covid_group_loction['SizeDeaths'] = covid_group_loction['TotalCases'].pow(0.3)"
   ]
  },
  {
   "cell_type": "code",
   "execution_count": 190,
   "metadata": {},
   "outputs": [
    {
     "data": {
      "application/vnd.plotly.v1+json": {
       "config": {
        "plotlyServerURL": "https://plot.ly"
       },
       "data": [
        {
         "geo": "geo",
         "hovertemplate": "<b>%{hovertext}</b><br><br>SizeCases=%{marker.size}<br>Location=%{location}<br>TotalCases=%{marker.color}<extra></extra>",
         "hovertext": [
          "Afghanistan",
          "Albania",
          "Algeria",
          "Andorra",
          "Angola",
          "Anguilla",
          "Antigua and Barbuda",
          "Argentina",
          "Armenia",
          "Aruba",
          "Australia",
          "Austria",
          "Azerbaijan",
          "Bahamas",
          "Bahrain",
          "Bangladesh",
          "Barbados",
          "Belarus",
          "Belgium",
          "Belize",
          "Benin",
          "Bermuda",
          "Bhutan",
          "Bolivia",
          "Bonaire Sint Eustatius and Saba",
          "Bosnia and Herzegovina",
          "Botswana",
          "Brazil",
          "British Virgin Islands",
          "Brunei",
          "Bulgaria",
          "Burkina Faso",
          "Burundi",
          "Cambodia",
          "Cameroon",
          "Canada",
          "Cape Verde",
          "Cayman Islands",
          "Central African Republic",
          "Chad",
          "Chile",
          "China",
          "Colombia",
          "Comoros",
          "Congo",
          "Cook Islands",
          "Costa Rica",
          "Cote d'Ivoire",
          "Croatia",
          "Cuba",
          "Curacao",
          "Cyprus",
          "Czechia",
          "Democratic Republic of Congo",
          "Denmark",
          "Djibouti",
          "Dominica",
          "Dominican Republic",
          "Ecuador",
          "Egypt",
          "El Salvador",
          "Equatorial Guinea",
          "Eritrea",
          "Estonia",
          "Eswatini",
          "Ethiopia",
          "Faeroe Islands",
          "Falkland Islands",
          "Fiji",
          "Finland",
          "France",
          "French Polynesia",
          "Gabon",
          "Gambia",
          "Georgia",
          "Germany",
          "Ghana",
          "Gibraltar",
          "Greece",
          "Greenland",
          "Grenada",
          "Guatemala",
          "Guernsey",
          "Guinea",
          "Guinea-Bissau",
          "Guyana",
          "Haiti",
          "Honduras",
          "Hong Kong",
          "Hungary",
          "Iceland",
          "India",
          "Indonesia",
          "Iran",
          "Iraq",
          "Ireland",
          "Isle of Man",
          "Israel",
          "Italy",
          "Jamaica",
          "Japan",
          "Jersey",
          "Jordan",
          "Kazakhstan",
          "Kenya",
          "Kiribati",
          "Kosovo",
          "Kuwait",
          "Kyrgyzstan",
          "Laos",
          "Latvia",
          "Lebanon",
          "Lesotho",
          "Liberia",
          "Libya",
          "Liechtenstein",
          "Lithuania",
          "Luxembourg",
          "Macao",
          "Madagascar",
          "Malawi",
          "Malaysia",
          "Maldives",
          "Mali",
          "Malta",
          "Marshall Islands",
          "Mauritania",
          "Mauritius",
          "Mexico",
          "Micronesia (country)",
          "Moldova",
          "Monaco",
          "Mongolia",
          "Montenegro",
          "Montserrat",
          "Morocco",
          "Mozambique",
          "Myanmar",
          "Namibia",
          "Nauru",
          "Nepal",
          "Netherlands",
          "New Caledonia",
          "New Zealand",
          "Nicaragua",
          "Niger",
          "Nigeria",
          "Niue",
          "North Macedonia",
          "Norway",
          "Oman",
          "Pakistan",
          "Palau",
          "Palestine",
          "Panama",
          "Papua New Guinea",
          "Paraguay",
          "Peru",
          "Philippines",
          "Pitcairn",
          "Poland",
          "Portugal",
          "Qatar",
          "Romania",
          "Russia",
          "Rwanda",
          "Saint Helena",
          "Saint Kitts and Nevis",
          "Saint Lucia",
          "Saint Pierre and Miquelon",
          "Saint Vincent and the Grenadines",
          "Samoa",
          "San Marino",
          "Sao Tome and Principe",
          "Saudi Arabia",
          "Senegal",
          "Serbia",
          "Seychelles",
          "Sierra Leone",
          "Singapore",
          "Sint Maarten (Dutch part)",
          "Slovakia",
          "Slovenia",
          "Solomon Islands",
          "Somalia",
          "South Africa",
          "South Korea",
          "South Sudan",
          "Spain",
          "Sri Lanka",
          "Sudan",
          "Suriname",
          "Sweden",
          "Switzerland",
          "Syria",
          "Taiwan",
          "Tajikistan",
          "Tanzania",
          "Thailand",
          "Timor",
          "Togo",
          "Tokelau",
          "Tonga",
          "Trinidad and Tobago",
          "Tunisia",
          "Turkey",
          "Turkmenistan",
          "Turks and Caicos Islands",
          "Tuvalu",
          "Uganda",
          "Ukraine",
          "United Arab Emirates",
          "United Kingdom",
          "United States",
          "Uruguay",
          "Uzbekistan",
          "Vanuatu",
          "Vatican",
          "Venezuela",
          "Vietnam",
          "Wallis and Futuna",
          "Yemen",
          "Zambia",
          "Zimbabwe"
         ],
         "legendgroup": "",
         "locationmode": "country names",
         "locations": [
          "Afghanistan",
          "Albania",
          "Algeria",
          "Andorra",
          "Angola",
          "Anguilla",
          "Antigua and Barbuda",
          "Argentina",
          "Armenia",
          "Aruba",
          "Australia",
          "Austria",
          "Azerbaijan",
          "Bahamas",
          "Bahrain",
          "Bangladesh",
          "Barbados",
          "Belarus",
          "Belgium",
          "Belize",
          "Benin",
          "Bermuda",
          "Bhutan",
          "Bolivia",
          "Bonaire Sint Eustatius and Saba",
          "Bosnia and Herzegovina",
          "Botswana",
          "Brazil",
          "British Virgin Islands",
          "Brunei",
          "Bulgaria",
          "Burkina Faso",
          "Burundi",
          "Cambodia",
          "Cameroon",
          "Canada",
          "Cape Verde",
          "Cayman Islands",
          "Central African Republic",
          "Chad",
          "Chile",
          "China",
          "Colombia",
          "Comoros",
          "Congo",
          "Cook Islands",
          "Costa Rica",
          "Cote d'Ivoire",
          "Croatia",
          "Cuba",
          "Curacao",
          "Cyprus",
          "Czechia",
          "Democratic Republic of Congo",
          "Denmark",
          "Djibouti",
          "Dominica",
          "Dominican Republic",
          "Ecuador",
          "Egypt",
          "El Salvador",
          "Equatorial Guinea",
          "Eritrea",
          "Estonia",
          "Eswatini",
          "Ethiopia",
          "Faeroe Islands",
          "Falkland Islands",
          "Fiji",
          "Finland",
          "France",
          "French Polynesia",
          "Gabon",
          "Gambia",
          "Georgia",
          "Germany",
          "Ghana",
          "Gibraltar",
          "Greece",
          "Greenland",
          "Grenada",
          "Guatemala",
          "Guernsey",
          "Guinea",
          "Guinea-Bissau",
          "Guyana",
          "Haiti",
          "Honduras",
          "Hong Kong",
          "Hungary",
          "Iceland",
          "India",
          "Indonesia",
          "Iran",
          "Iraq",
          "Ireland",
          "Isle of Man",
          "Israel",
          "Italy",
          "Jamaica",
          "Japan",
          "Jersey",
          "Jordan",
          "Kazakhstan",
          "Kenya",
          "Kiribati",
          "Kosovo",
          "Kuwait",
          "Kyrgyzstan",
          "Laos",
          "Latvia",
          "Lebanon",
          "Lesotho",
          "Liberia",
          "Libya",
          "Liechtenstein",
          "Lithuania",
          "Luxembourg",
          "Macao",
          "Madagascar",
          "Malawi",
          "Malaysia",
          "Maldives",
          "Mali",
          "Malta",
          "Marshall Islands",
          "Mauritania",
          "Mauritius",
          "Mexico",
          "Micronesia (country)",
          "Moldova",
          "Monaco",
          "Mongolia",
          "Montenegro",
          "Montserrat",
          "Morocco",
          "Mozambique",
          "Myanmar",
          "Namibia",
          "Nauru",
          "Nepal",
          "Netherlands",
          "New Caledonia",
          "New Zealand",
          "Nicaragua",
          "Niger",
          "Nigeria",
          "Niue",
          "North Macedonia",
          "Norway",
          "Oman",
          "Pakistan",
          "Palau",
          "Palestine",
          "Panama",
          "Papua New Guinea",
          "Paraguay",
          "Peru",
          "Philippines",
          "Pitcairn",
          "Poland",
          "Portugal",
          "Qatar",
          "Romania",
          "Russia",
          "Rwanda",
          "Saint Helena",
          "Saint Kitts and Nevis",
          "Saint Lucia",
          "Saint Pierre and Miquelon",
          "Saint Vincent and the Grenadines",
          "Samoa",
          "San Marino",
          "Sao Tome and Principe",
          "Saudi Arabia",
          "Senegal",
          "Serbia",
          "Seychelles",
          "Sierra Leone",
          "Singapore",
          "Sint Maarten (Dutch part)",
          "Slovakia",
          "Slovenia",
          "Solomon Islands",
          "Somalia",
          "South Africa",
          "South Korea",
          "South Sudan",
          "Spain",
          "Sri Lanka",
          "Sudan",
          "Suriname",
          "Sweden",
          "Switzerland",
          "Syria",
          "Taiwan",
          "Tajikistan",
          "Tanzania",
          "Thailand",
          "Timor",
          "Togo",
          "Tokelau",
          "Tonga",
          "Trinidad and Tobago",
          "Tunisia",
          "Turkey",
          "Turkmenistan",
          "Turks and Caicos Islands",
          "Tuvalu",
          "Uganda",
          "Ukraine",
          "United Arab Emirates",
          "United Kingdom",
          "United States",
          "Uruguay",
          "Uzbekistan",
          "Vanuatu",
          "Vatican",
          "Venezuela",
          "Vietnam",
          "Wallis and Futuna",
          "Yemen",
          "Zambia",
          "Zimbabwe"
         ],
         "marker": {
          "color": [
           174331,
           272030,
           265227,
           38434,
           98796,
           2555,
           7455,
           8934328,
           421226,
           33732,
           3362035,
           2839297,
           788958,
           33169,
           525171,
           1946737,
           56013,
           929340,
           3586292,
           56876,
           26575,
           11634,
           14451,
           894551,
           7616,
           372139,
           263950,
           29040800,
           6091,
           84844,
           1100811,
           20751,
           38150,
           132072,
           119322,
           3334009,
           55892,
           19373,
           14320,
           7257,
           3168335,
           110868,
           6070616,
           8047,
           24020,
           2,
           814583,
           85518,
           1062953,
           1072474,
           39133,
           331508,
           3624937,
           86154,
           2853236,
           15550,
           11248,
           575883,
           836216,
           489876,
           156364,
           15889,
           9715,
           514067,
           69297,
           468930,
           34658,
           115,
           64019,
           671773,
           23064766,
           68425,
           47559,
           11948,
           1623672,
           15830112,
           160028,
           15622,
           2499259,
           11806,
           13696,
           791944,
           0,
           36397,
           8027,
           63040,
           30385,
           413699,
           440609,
           1800046,
           140929,
           42962953,
           5723858,
           7084306,
           2307555,
           1315100,
           23328,
           3669112,
           12990223,
           128166,
           5341246,
           0,
           1638228,
           1391984,
           323071,
           2985,
           226579,
           622489,
           200615,
           143969,
           697548,
           1077242,
           32707,
           7384,
           497279,
           12833,
           928612,
           186360,
           82,
           63791,
           85411,
           3595172,
           172270,
           30398,
           71800,
           7,
           58646,
           70862,
           5554392,
           1,
           504875,
           9537,
           911183,
           230887,
           164,
           1161586,
           225135,
           597417,
           157324,
           0,
           977447,
           6734097,
           56833,
           222767,
           18105,
           8760,
           254637,
           0,
           299419,
           1305006,
           383874,
           1514258,
           3844,
           649971,
           757487,
           41421,
           643619,
           3522484,
           3666678,
           0,
           5734041,
           3322134,
           358083,
           2765169,
           16619507,
           129551,
           4,
           5536,
           22733,
           1102,
           9447,
           33,
           14487,
           5939,
           747119,
           85747,
           1923977,
           39427,
           7665,
           819663,
           0,
           2190599,
           902744,
           7940,
           26351,
           3683172,
           4456264,
           16999,
           11100428,
           649632,
           61569,
           78487,
           2455966,
           2890568,
           54963,
           20797,
           17786,
           33620,
           3026695,
           22741,
           36815,
           0,
           898,
           129963,
           1005167,
           14326217,
           0,
           5867,
           0,
           163383,
           5040518,
           882477,
           19172095,
           79265726,
           853170,
           236840,
           19,
           29,
           516578,
           4232520,
           454,
           11775,
           313744,
           239019
          ],
          "coloraxis": "coloraxis",
          "size": [
           37.36047476006603,
           42.69578869641803,
           42.37262015628478,
           23.736390366870946,
           31.508070492449907,
           10.524882870272739,
           14.512234730405421,
           121.7078435957722,
           48.680446280825514,
           22.82509677198139,
           90.77801230121294,
           86.29055197862168,
           58.764651545549036,
           22.710134875348785,
           52.01040323836181,
           77.05346709069406,
           26.575818561459613,
           61.723762148382164,
           92.55368062588394,
           26.69799907414912,
           21.24917053503209,
           16.58512380652843,
           17.6998412141842,
           61.021310682843435,
           14.60555554243523,
           46.90418086926783,
           42.31131274496044,
           173.3415089345677,
           13.658612366224677,
           30.10137544451083,
           64.94023086071117,
           19.72930147459791,
           23.68363518262701,
           34.37504112062251,
           33.34388175939686,
           90.55032853368762,
           26.558582696666267,
           19.32676044182672,
           17.651552364143512,
           14.39551269740934,
           89.1762752238927,
           32.616838552505556,
           108.38516139943778,
           14.848760430095712,
           20.614457060233207,
           1.2311444133449163,
           59.33085442825584,
           30.172914398448093,
           64.26199715922566,
           64.43413930747212,
           23.865082656031163,
           45.305215862531256,
           92.8517597325446,
           30.240058972454314,
           86.4174224333253,
           18.093355569757932,
           16.41808849800429,
           53.46878032326696,
           59.799223120128026,
           50.936118698150786,
           36.16104991892602,
           18.210797683339173,
           15.712049601783697,
           51.67802619072763,
           28.327896700711342,
           50.272722549269126,
           23.011294427435768,
           4.151541198814568,
           27.662578910375142,
           55.99725823492452,
           161.76505728418334,
           28.22048295410101,
           25.302871753955422,
           16.718163344415462,
           72.97086432608265,
           144.4924637339012,
           36.413195535861355,
           18.11844783908358,
           83.05071570403857,
           16.658305930761294,
           17.41719139236826,
           58.831286007936704,
           0,
           23.35176312416356,
           14.837679260393815,
           27.534986085055884,
           22.120644292356474,
           48.41783223965548,
           49.34191595126767,
           75.26361619917371,
           35.05097564614086,
           194.9522434625203,
           106.48946749062434,
           113.52439433233542,
           81.08595169593828,
           68.49953657377996,
           20.434464066993797,
           93.18978089869104,
           136.1711113599144,
           34.06683986899754,
           104.30203315106293,
           0,
           73.1665038349584,
           69.67713308395211,
           44.95617910646251,
           11.027658298153398,
           40.417169596211316,
           54.73177140828822,
           38.96808112023671,
           35.27611066999852,
           56.63334705244694,
           64.51994422138993,
           22.614771984203085,
           14.470632240111042,
           51.165831447994556,
           17.08041656600433,
           61.70925274678915,
           38.115867672656286,
           3.750974879935414,
           27.63298638774504,
           30.161583742909542,
           92.62237264114638,
           37.227416321977245,
           22.123483114054633,
           28.631053815280914,
           1.792789962520997,
           26.944586229916055,
           28.518325504796106,
           105.53364977100908,
           1,
           51.399058021319426,
           15.625126238810088,
           61.35948170705608,
           40.64619012334562,
           4.617991768029603,
           65.99566520725499,
           40.3397223750845,
           54.06090018505015,
           36.22751074847901,
           0,
           62.66542153404439,
           111.81081429002316,
           26.691942119367422,
           40.211961388697425,
           18.938237504814836,
           15.231800113757554,
           41.857805218296946,
           0,
           43.94240339944001,
           68.341381318558,
           47.343091011485626,
           71.45949833802224,
           11.896932943137108,
           55.44574126259954,
           58.05138092182759,
           24.275387652946502,
           55.282625037134395,
           92.05655294833073,
           93.17123063823259,
           0,
           106.54626699821411,
           90.45345162023123,
           46.3655174536195,
           85.60842435508991,
           146.6173754335714,
           34.17686562611166,
           1.515716566510398,
           13.272686131043374,
           20.27668832267122,
           8.17813882249442,
           15.580743378299264,
           2.854658634732502,
           17.7130577283913,
           13.55545181539051,
           57.81185893925599,
           30.19713081368353,
           76.78209590682836,
           23.918730189095594,
           14.63368316167064,
           59.441614848483226,
           0,
           79.8305029669083,
           61.1884403083984,
           14.789250011455552,
           21.19527863913226,
           93.29676821538543,
           98.78506125393697,
           18.583478612110973,
           129.89783634552475,
           55.43706416540542,
           27.340637071344446,
           29.406227907169804,
           82.61648338617925,
           86.75508850031639,
           26.425373160933788,
           19.742411849258655,
           18.83750958895418,
           22.802334523236578,
           87.9610890608893,
           20.278828737894404,
           23.43189655768228,
           0,
           7.691001587543644,
           34.209436328978796,
           63.19336278716562,
           140.22952325518355,
           0,
           13.505940324209943,
           0,
           36.64055639150751,
           102.50441017631088,
           60.77304801953803,
           153.0385603879094,
           234.27483059587317,
           60.16039412891591,
           40.95779007356895,
           2.4189454814875875,
           2.7461192933624785,
           51.75362467797266,
           97.27017689674658,
           6.267823463756063,
           16.645171521589855,
           44.562816196447216,
           41.07047517156296
          ],
          "sizemode": "area",
          "sizeref": 0.5856870764896829,
          "symbol": "circle"
         },
         "mode": "markers",
         "name": "",
         "showlegend": false,
         "type": "scattergeo"
        }
       ],
       "layout": {
        "coloraxis": {
         "cmax": 10000000,
         "cmin": 0,
         "colorbar": {
          "title": {
           "text": "TotalCases"
          }
         },
         "colorscale": [
          [
           0,
           "rgb(12,51,131)"
          ],
          [
           0.25,
           "rgb(10,136,186)"
          ],
          [
           0.5,
           "rgb(242,211,56)"
          ],
          [
           0.75,
           "rgb(242,143,56)"
          ],
          [
           1,
           "rgb(217,30,30)"
          ]
         ]
        },
        "geo": {
         "center": {},
         "domain": {
          "x": [
           0,
           1
          ],
          "y": [
           0,
           1
          ]
         },
         "projection": {
          "type": "natural earth"
         }
        },
        "legend": {
         "itemsizing": "constant",
         "tracegroupgap": 0
        },
        "template": {
         "data": {
          "bar": [
           {
            "error_x": {
             "color": "#f2f5fa"
            },
            "error_y": {
             "color": "#f2f5fa"
            },
            "marker": {
             "line": {
              "color": "rgb(17,17,17)",
              "width": 0.5
             },
             "pattern": {
              "fillmode": "overlay",
              "size": 10,
              "solidity": 0.2
             }
            },
            "type": "bar"
           }
          ],
          "barpolar": [
           {
            "marker": {
             "line": {
              "color": "rgb(17,17,17)",
              "width": 0.5
             },
             "pattern": {
              "fillmode": "overlay",
              "size": 10,
              "solidity": 0.2
             }
            },
            "type": "barpolar"
           }
          ],
          "carpet": [
           {
            "aaxis": {
             "endlinecolor": "#A2B1C6",
             "gridcolor": "#506784",
             "linecolor": "#506784",
             "minorgridcolor": "#506784",
             "startlinecolor": "#A2B1C6"
            },
            "baxis": {
             "endlinecolor": "#A2B1C6",
             "gridcolor": "#506784",
             "linecolor": "#506784",
             "minorgridcolor": "#506784",
             "startlinecolor": "#A2B1C6"
            },
            "type": "carpet"
           }
          ],
          "choropleth": [
           {
            "colorbar": {
             "outlinewidth": 0,
             "ticks": ""
            },
            "type": "choropleth"
           }
          ],
          "contour": [
           {
            "colorbar": {
             "outlinewidth": 0,
             "ticks": ""
            },
            "colorscale": [
             [
              0,
              "#0d0887"
             ],
             [
              0.1111111111111111,
              "#46039f"
             ],
             [
              0.2222222222222222,
              "#7201a8"
             ],
             [
              0.3333333333333333,
              "#9c179e"
             ],
             [
              0.4444444444444444,
              "#bd3786"
             ],
             [
              0.5555555555555556,
              "#d8576b"
             ],
             [
              0.6666666666666666,
              "#ed7953"
             ],
             [
              0.7777777777777778,
              "#fb9f3a"
             ],
             [
              0.8888888888888888,
              "#fdca26"
             ],
             [
              1,
              "#f0f921"
             ]
            ],
            "type": "contour"
           }
          ],
          "contourcarpet": [
           {
            "colorbar": {
             "outlinewidth": 0,
             "ticks": ""
            },
            "type": "contourcarpet"
           }
          ],
          "heatmap": [
           {
            "colorbar": {
             "outlinewidth": 0,
             "ticks": ""
            },
            "colorscale": [
             [
              0,
              "#0d0887"
             ],
             [
              0.1111111111111111,
              "#46039f"
             ],
             [
              0.2222222222222222,
              "#7201a8"
             ],
             [
              0.3333333333333333,
              "#9c179e"
             ],
             [
              0.4444444444444444,
              "#bd3786"
             ],
             [
              0.5555555555555556,
              "#d8576b"
             ],
             [
              0.6666666666666666,
              "#ed7953"
             ],
             [
              0.7777777777777778,
              "#fb9f3a"
             ],
             [
              0.8888888888888888,
              "#fdca26"
             ],
             [
              1,
              "#f0f921"
             ]
            ],
            "type": "heatmap"
           }
          ],
          "heatmapgl": [
           {
            "colorbar": {
             "outlinewidth": 0,
             "ticks": ""
            },
            "colorscale": [
             [
              0,
              "#0d0887"
             ],
             [
              0.1111111111111111,
              "#46039f"
             ],
             [
              0.2222222222222222,
              "#7201a8"
             ],
             [
              0.3333333333333333,
              "#9c179e"
             ],
             [
              0.4444444444444444,
              "#bd3786"
             ],
             [
              0.5555555555555556,
              "#d8576b"
             ],
             [
              0.6666666666666666,
              "#ed7953"
             ],
             [
              0.7777777777777778,
              "#fb9f3a"
             ],
             [
              0.8888888888888888,
              "#fdca26"
             ],
             [
              1,
              "#f0f921"
             ]
            ],
            "type": "heatmapgl"
           }
          ],
          "histogram": [
           {
            "marker": {
             "pattern": {
              "fillmode": "overlay",
              "size": 10,
              "solidity": 0.2
             }
            },
            "type": "histogram"
           }
          ],
          "histogram2d": [
           {
            "colorbar": {
             "outlinewidth": 0,
             "ticks": ""
            },
            "colorscale": [
             [
              0,
              "#0d0887"
             ],
             [
              0.1111111111111111,
              "#46039f"
             ],
             [
              0.2222222222222222,
              "#7201a8"
             ],
             [
              0.3333333333333333,
              "#9c179e"
             ],
             [
              0.4444444444444444,
              "#bd3786"
             ],
             [
              0.5555555555555556,
              "#d8576b"
             ],
             [
              0.6666666666666666,
              "#ed7953"
             ],
             [
              0.7777777777777778,
              "#fb9f3a"
             ],
             [
              0.8888888888888888,
              "#fdca26"
             ],
             [
              1,
              "#f0f921"
             ]
            ],
            "type": "histogram2d"
           }
          ],
          "histogram2dcontour": [
           {
            "colorbar": {
             "outlinewidth": 0,
             "ticks": ""
            },
            "colorscale": [
             [
              0,
              "#0d0887"
             ],
             [
              0.1111111111111111,
              "#46039f"
             ],
             [
              0.2222222222222222,
              "#7201a8"
             ],
             [
              0.3333333333333333,
              "#9c179e"
             ],
             [
              0.4444444444444444,
              "#bd3786"
             ],
             [
              0.5555555555555556,
              "#d8576b"
             ],
             [
              0.6666666666666666,
              "#ed7953"
             ],
             [
              0.7777777777777778,
              "#fb9f3a"
             ],
             [
              0.8888888888888888,
              "#fdca26"
             ],
             [
              1,
              "#f0f921"
             ]
            ],
            "type": "histogram2dcontour"
           }
          ],
          "mesh3d": [
           {
            "colorbar": {
             "outlinewidth": 0,
             "ticks": ""
            },
            "type": "mesh3d"
           }
          ],
          "parcoords": [
           {
            "line": {
             "colorbar": {
              "outlinewidth": 0,
              "ticks": ""
             }
            },
            "type": "parcoords"
           }
          ],
          "pie": [
           {
            "automargin": true,
            "type": "pie"
           }
          ],
          "scatter": [
           {
            "marker": {
             "line": {
              "color": "#283442"
             }
            },
            "type": "scatter"
           }
          ],
          "scatter3d": [
           {
            "line": {
             "colorbar": {
              "outlinewidth": 0,
              "ticks": ""
             }
            },
            "marker": {
             "colorbar": {
              "outlinewidth": 0,
              "ticks": ""
             }
            },
            "type": "scatter3d"
           }
          ],
          "scattercarpet": [
           {
            "marker": {
             "colorbar": {
              "outlinewidth": 0,
              "ticks": ""
             }
            },
            "type": "scattercarpet"
           }
          ],
          "scattergeo": [
           {
            "marker": {
             "colorbar": {
              "outlinewidth": 0,
              "ticks": ""
             }
            },
            "type": "scattergeo"
           }
          ],
          "scattergl": [
           {
            "marker": {
             "line": {
              "color": "#283442"
             }
            },
            "type": "scattergl"
           }
          ],
          "scattermapbox": [
           {
            "marker": {
             "colorbar": {
              "outlinewidth": 0,
              "ticks": ""
             }
            },
            "type": "scattermapbox"
           }
          ],
          "scatterpolar": [
           {
            "marker": {
             "colorbar": {
              "outlinewidth": 0,
              "ticks": ""
             }
            },
            "type": "scatterpolar"
           }
          ],
          "scatterpolargl": [
           {
            "marker": {
             "colorbar": {
              "outlinewidth": 0,
              "ticks": ""
             }
            },
            "type": "scatterpolargl"
           }
          ],
          "scatterternary": [
           {
            "marker": {
             "colorbar": {
              "outlinewidth": 0,
              "ticks": ""
             }
            },
            "type": "scatterternary"
           }
          ],
          "surface": [
           {
            "colorbar": {
             "outlinewidth": 0,
             "ticks": ""
            },
            "colorscale": [
             [
              0,
              "#0d0887"
             ],
             [
              0.1111111111111111,
              "#46039f"
             ],
             [
              0.2222222222222222,
              "#7201a8"
             ],
             [
              0.3333333333333333,
              "#9c179e"
             ],
             [
              0.4444444444444444,
              "#bd3786"
             ],
             [
              0.5555555555555556,
              "#d8576b"
             ],
             [
              0.6666666666666666,
              "#ed7953"
             ],
             [
              0.7777777777777778,
              "#fb9f3a"
             ],
             [
              0.8888888888888888,
              "#fdca26"
             ],
             [
              1,
              "#f0f921"
             ]
            ],
            "type": "surface"
           }
          ],
          "table": [
           {
            "cells": {
             "fill": {
              "color": "#506784"
             },
             "line": {
              "color": "rgb(17,17,17)"
             }
            },
            "header": {
             "fill": {
              "color": "#2a3f5f"
             },
             "line": {
              "color": "rgb(17,17,17)"
             }
            },
            "type": "table"
           }
          ]
         },
         "layout": {
          "annotationdefaults": {
           "arrowcolor": "#f2f5fa",
           "arrowhead": 0,
           "arrowwidth": 1
          },
          "autotypenumbers": "strict",
          "coloraxis": {
           "colorbar": {
            "outlinewidth": 0,
            "ticks": ""
           }
          },
          "colorscale": {
           "diverging": [
            [
             0,
             "#8e0152"
            ],
            [
             0.1,
             "#c51b7d"
            ],
            [
             0.2,
             "#de77ae"
            ],
            [
             0.3,
             "#f1b6da"
            ],
            [
             0.4,
             "#fde0ef"
            ],
            [
             0.5,
             "#f7f7f7"
            ],
            [
             0.6,
             "#e6f5d0"
            ],
            [
             0.7,
             "#b8e186"
            ],
            [
             0.8,
             "#7fbc41"
            ],
            [
             0.9,
             "#4d9221"
            ],
            [
             1,
             "#276419"
            ]
           ],
           "sequential": [
            [
             0,
             "#0d0887"
            ],
            [
             0.1111111111111111,
             "#46039f"
            ],
            [
             0.2222222222222222,
             "#7201a8"
            ],
            [
             0.3333333333333333,
             "#9c179e"
            ],
            [
             0.4444444444444444,
             "#bd3786"
            ],
            [
             0.5555555555555556,
             "#d8576b"
            ],
            [
             0.6666666666666666,
             "#ed7953"
            ],
            [
             0.7777777777777778,
             "#fb9f3a"
            ],
            [
             0.8888888888888888,
             "#fdca26"
            ],
            [
             1,
             "#f0f921"
            ]
           ],
           "sequentialminus": [
            [
             0,
             "#0d0887"
            ],
            [
             0.1111111111111111,
             "#46039f"
            ],
            [
             0.2222222222222222,
             "#7201a8"
            ],
            [
             0.3333333333333333,
             "#9c179e"
            ],
            [
             0.4444444444444444,
             "#bd3786"
            ],
            [
             0.5555555555555556,
             "#d8576b"
            ],
            [
             0.6666666666666666,
             "#ed7953"
            ],
            [
             0.7777777777777778,
             "#fb9f3a"
            ],
            [
             0.8888888888888888,
             "#fdca26"
            ],
            [
             1,
             "#f0f921"
            ]
           ]
          },
          "colorway": [
           "#636efa",
           "#EF553B",
           "#00cc96",
           "#ab63fa",
           "#FFA15A",
           "#19d3f3",
           "#FF6692",
           "#B6E880",
           "#FF97FF",
           "#FECB52"
          ],
          "font": {
           "color": "#f2f5fa"
          },
          "geo": {
           "bgcolor": "rgb(17,17,17)",
           "lakecolor": "rgb(17,17,17)",
           "landcolor": "rgb(17,17,17)",
           "showlakes": true,
           "showland": true,
           "subunitcolor": "#506784"
          },
          "hoverlabel": {
           "align": "left"
          },
          "hovermode": "closest",
          "mapbox": {
           "style": "dark"
          },
          "paper_bgcolor": "rgb(17,17,17)",
          "plot_bgcolor": "rgb(17,17,17)",
          "polar": {
           "angularaxis": {
            "gridcolor": "#506784",
            "linecolor": "#506784",
            "ticks": ""
           },
           "bgcolor": "rgb(17,17,17)",
           "radialaxis": {
            "gridcolor": "#506784",
            "linecolor": "#506784",
            "ticks": ""
           }
          },
          "scene": {
           "xaxis": {
            "backgroundcolor": "rgb(17,17,17)",
            "gridcolor": "#506784",
            "gridwidth": 2,
            "linecolor": "#506784",
            "showbackground": true,
            "ticks": "",
            "zerolinecolor": "#C8D4E3"
           },
           "yaxis": {
            "backgroundcolor": "rgb(17,17,17)",
            "gridcolor": "#506784",
            "gridwidth": 2,
            "linecolor": "#506784",
            "showbackground": true,
            "ticks": "",
            "zerolinecolor": "#C8D4E3"
           },
           "zaxis": {
            "backgroundcolor": "rgb(17,17,17)",
            "gridcolor": "#506784",
            "gridwidth": 2,
            "linecolor": "#506784",
            "showbackground": true,
            "ticks": "",
            "zerolinecolor": "#C8D4E3"
           }
          },
          "shapedefaults": {
           "line": {
            "color": "#f2f5fa"
           }
          },
          "sliderdefaults": {
           "bgcolor": "#C8D4E3",
           "bordercolor": "rgb(17,17,17)",
           "borderwidth": 1,
           "tickwidth": 0
          },
          "ternary": {
           "aaxis": {
            "gridcolor": "#506784",
            "linecolor": "#506784",
            "ticks": ""
           },
           "baxis": {
            "gridcolor": "#506784",
            "linecolor": "#506784",
            "ticks": ""
           },
           "bgcolor": "rgb(17,17,17)",
           "caxis": {
            "gridcolor": "#506784",
            "linecolor": "#506784",
            "ticks": ""
           }
          },
          "title": {
           "x": 0.05
          },
          "updatemenudefaults": {
           "bgcolor": "#506784",
           "borderwidth": 0
          },
          "xaxis": {
           "automargin": true,
           "gridcolor": "#283442",
           "linecolor": "#506784",
           "ticks": "",
           "title": {
            "standoff": 15
           },
           "zerolinecolor": "#283442",
           "zerolinewidth": 2
          },
          "yaxis": {
           "automargin": true,
           "gridcolor": "#283442",
           "linecolor": "#506784",
           "ticks": "",
           "title": {
            "standoff": 15
           },
           "zerolinecolor": "#283442",
           "zerolinewidth": 2
          }
         }
        },
        "title": {
         "text": "Tổng quan số ca mắc ở các nước trên thế giới"
        }
       }
      }
     },
     "metadata": {},
     "output_type": "display_data"
    }
   ],
   "source": [
    "\n",
    "plot_map(covid_group_loction, \"TotalCases\", \"Tổng quan số ca mắc ở các nước trên thế giới\", 'SizeCases', [0, 10**7])"
   ]
  },
  {
   "cell_type": "markdown",
   "metadata": {},
   "source": [
    "Ta thấy số ca mắc Covid-19 đã bao phủ khắp các nước trên thế giới, một số quốc gia như Mỹ, Nga, Anh ...- những nước có nền kinh tế phát triển đều có số ca mắc lên tới hàng chục triệu tính đến thời điểm xét tập dữ liệu"
   ]
  },
  {
   "cell_type": "code",
   "execution_count": 191,
   "metadata": {},
   "outputs": [
    {
     "data": {
      "application/vnd.plotly.v1+json": {
       "config": {
        "plotlyServerURL": "https://plot.ly"
       },
       "data": [
        {
         "geo": "geo",
         "hovertemplate": "<b>%{hovertext}</b><br><br>SizeDeaths=%{marker.size}<br>Location=%{location}<br>TotalDeaths=%{marker.color}<extra></extra>",
         "hovertext": [
          "Afghanistan",
          "Albania",
          "Algeria",
          "Andorra",
          "Angola",
          "Anguilla",
          "Antigua and Barbuda",
          "Argentina",
          "Armenia",
          "Aruba",
          "Australia",
          "Austria",
          "Azerbaijan",
          "Bahamas",
          "Bahrain",
          "Bangladesh",
          "Barbados",
          "Belarus",
          "Belgium",
          "Belize",
          "Benin",
          "Bermuda",
          "Bhutan",
          "Bolivia",
          "Bonaire Sint Eustatius and Saba",
          "Bosnia and Herzegovina",
          "Botswana",
          "Brazil",
          "British Virgin Islands",
          "Brunei",
          "Bulgaria",
          "Burkina Faso",
          "Burundi",
          "Cambodia",
          "Cameroon",
          "Canada",
          "Cape Verde",
          "Cayman Islands",
          "Central African Republic",
          "Chad",
          "Chile",
          "China",
          "Colombia",
          "Comoros",
          "Congo",
          "Cook Islands",
          "Costa Rica",
          "Cote d'Ivoire",
          "Croatia",
          "Cuba",
          "Curacao",
          "Cyprus",
          "Czechia",
          "Democratic Republic of Congo",
          "Denmark",
          "Djibouti",
          "Dominica",
          "Dominican Republic",
          "Ecuador",
          "Egypt",
          "El Salvador",
          "Equatorial Guinea",
          "Eritrea",
          "Estonia",
          "Eswatini",
          "Ethiopia",
          "Faeroe Islands",
          "Falkland Islands",
          "Fiji",
          "Finland",
          "France",
          "French Polynesia",
          "Gabon",
          "Gambia",
          "Georgia",
          "Germany",
          "Ghana",
          "Gibraltar",
          "Greece",
          "Greenland",
          "Grenada",
          "Guatemala",
          "Guernsey",
          "Guinea",
          "Guinea-Bissau",
          "Guyana",
          "Haiti",
          "Honduras",
          "Hong Kong",
          "Hungary",
          "Iceland",
          "India",
          "Indonesia",
          "Iran",
          "Iraq",
          "Ireland",
          "Isle of Man",
          "Israel",
          "Italy",
          "Jamaica",
          "Japan",
          "Jersey",
          "Jordan",
          "Kazakhstan",
          "Kenya",
          "Kiribati",
          "Kosovo",
          "Kuwait",
          "Kyrgyzstan",
          "Laos",
          "Latvia",
          "Lebanon",
          "Lesotho",
          "Liberia",
          "Libya",
          "Liechtenstein",
          "Lithuania",
          "Luxembourg",
          "Macao",
          "Madagascar",
          "Malawi",
          "Malaysia",
          "Maldives",
          "Mali",
          "Malta",
          "Marshall Islands",
          "Mauritania",
          "Mauritius",
          "Mexico",
          "Micronesia (country)",
          "Moldova",
          "Monaco",
          "Mongolia",
          "Montenegro",
          "Montserrat",
          "Morocco",
          "Mozambique",
          "Myanmar",
          "Namibia",
          "Nauru",
          "Nepal",
          "Netherlands",
          "New Caledonia",
          "New Zealand",
          "Nicaragua",
          "Niger",
          "Nigeria",
          "Niue",
          "North Macedonia",
          "Norway",
          "Oman",
          "Pakistan",
          "Palau",
          "Palestine",
          "Panama",
          "Papua New Guinea",
          "Paraguay",
          "Peru",
          "Philippines",
          "Pitcairn",
          "Poland",
          "Portugal",
          "Qatar",
          "Romania",
          "Russia",
          "Rwanda",
          "Saint Helena",
          "Saint Kitts and Nevis",
          "Saint Lucia",
          "Saint Pierre and Miquelon",
          "Saint Vincent and the Grenadines",
          "Samoa",
          "San Marino",
          "Sao Tome and Principe",
          "Saudi Arabia",
          "Senegal",
          "Serbia",
          "Seychelles",
          "Sierra Leone",
          "Singapore",
          "Sint Maarten (Dutch part)",
          "Slovakia",
          "Slovenia",
          "Solomon Islands",
          "Somalia",
          "South Africa",
          "South Korea",
          "South Sudan",
          "Spain",
          "Sri Lanka",
          "Sudan",
          "Suriname",
          "Sweden",
          "Switzerland",
          "Syria",
          "Taiwan",
          "Tajikistan",
          "Tanzania",
          "Thailand",
          "Timor",
          "Togo",
          "Tokelau",
          "Tonga",
          "Trinidad and Tobago",
          "Tunisia",
          "Turkey",
          "Turkmenistan",
          "Turks and Caicos Islands",
          "Tuvalu",
          "Uganda",
          "Ukraine",
          "United Arab Emirates",
          "United Kingdom",
          "United States",
          "Uruguay",
          "Uzbekistan",
          "Vanuatu",
          "Vatican",
          "Venezuela",
          "Vietnam",
          "Wallis and Futuna",
          "Yemen",
          "Zambia",
          "Zimbabwe"
         ],
         "legendgroup": "",
         "locationmode": "country names",
         "locations": [
          "Afghanistan",
          "Albania",
          "Algeria",
          "Andorra",
          "Angola",
          "Anguilla",
          "Antigua and Barbuda",
          "Argentina",
          "Armenia",
          "Aruba",
          "Australia",
          "Austria",
          "Azerbaijan",
          "Bahamas",
          "Bahrain",
          "Bangladesh",
          "Barbados",
          "Belarus",
          "Belgium",
          "Belize",
          "Benin",
          "Bermuda",
          "Bhutan",
          "Bolivia",
          "Bonaire Sint Eustatius and Saba",
          "Bosnia and Herzegovina",
          "Botswana",
          "Brazil",
          "British Virgin Islands",
          "Brunei",
          "Bulgaria",
          "Burkina Faso",
          "Burundi",
          "Cambodia",
          "Cameroon",
          "Canada",
          "Cape Verde",
          "Cayman Islands",
          "Central African Republic",
          "Chad",
          "Chile",
          "China",
          "Colombia",
          "Comoros",
          "Congo",
          "Cook Islands",
          "Costa Rica",
          "Cote d'Ivoire",
          "Croatia",
          "Cuba",
          "Curacao",
          "Cyprus",
          "Czechia",
          "Democratic Republic of Congo",
          "Denmark",
          "Djibouti",
          "Dominica",
          "Dominican Republic",
          "Ecuador",
          "Egypt",
          "El Salvador",
          "Equatorial Guinea",
          "Eritrea",
          "Estonia",
          "Eswatini",
          "Ethiopia",
          "Faeroe Islands",
          "Falkland Islands",
          "Fiji",
          "Finland",
          "France",
          "French Polynesia",
          "Gabon",
          "Gambia",
          "Georgia",
          "Germany",
          "Ghana",
          "Gibraltar",
          "Greece",
          "Greenland",
          "Grenada",
          "Guatemala",
          "Guernsey",
          "Guinea",
          "Guinea-Bissau",
          "Guyana",
          "Haiti",
          "Honduras",
          "Hong Kong",
          "Hungary",
          "Iceland",
          "India",
          "Indonesia",
          "Iran",
          "Iraq",
          "Ireland",
          "Isle of Man",
          "Israel",
          "Italy",
          "Jamaica",
          "Japan",
          "Jersey",
          "Jordan",
          "Kazakhstan",
          "Kenya",
          "Kiribati",
          "Kosovo",
          "Kuwait",
          "Kyrgyzstan",
          "Laos",
          "Latvia",
          "Lebanon",
          "Lesotho",
          "Liberia",
          "Libya",
          "Liechtenstein",
          "Lithuania",
          "Luxembourg",
          "Macao",
          "Madagascar",
          "Malawi",
          "Malaysia",
          "Maldives",
          "Mali",
          "Malta",
          "Marshall Islands",
          "Mauritania",
          "Mauritius",
          "Mexico",
          "Micronesia (country)",
          "Moldova",
          "Monaco",
          "Mongolia",
          "Montenegro",
          "Montserrat",
          "Morocco",
          "Mozambique",
          "Myanmar",
          "Namibia",
          "Nauru",
          "Nepal",
          "Netherlands",
          "New Caledonia",
          "New Zealand",
          "Nicaragua",
          "Niger",
          "Nigeria",
          "Niue",
          "North Macedonia",
          "Norway",
          "Oman",
          "Pakistan",
          "Palau",
          "Palestine",
          "Panama",
          "Papua New Guinea",
          "Paraguay",
          "Peru",
          "Philippines",
          "Pitcairn",
          "Poland",
          "Portugal",
          "Qatar",
          "Romania",
          "Russia",
          "Rwanda",
          "Saint Helena",
          "Saint Kitts and Nevis",
          "Saint Lucia",
          "Saint Pierre and Miquelon",
          "Saint Vincent and the Grenadines",
          "Samoa",
          "San Marino",
          "Sao Tome and Principe",
          "Saudi Arabia",
          "Senegal",
          "Serbia",
          "Seychelles",
          "Sierra Leone",
          "Singapore",
          "Sint Maarten (Dutch part)",
          "Slovakia",
          "Slovenia",
          "Solomon Islands",
          "Somalia",
          "South Africa",
          "South Korea",
          "South Sudan",
          "Spain",
          "Sri Lanka",
          "Sudan",
          "Suriname",
          "Sweden",
          "Switzerland",
          "Syria",
          "Taiwan",
          "Tajikistan",
          "Tanzania",
          "Thailand",
          "Timor",
          "Togo",
          "Tokelau",
          "Tonga",
          "Trinidad and Tobago",
          "Tunisia",
          "Turkey",
          "Turkmenistan",
          "Turks and Caicos Islands",
          "Tuvalu",
          "Uganda",
          "Ukraine",
          "United Arab Emirates",
          "United Kingdom",
          "United States",
          "Uruguay",
          "Uzbekistan",
          "Vanuatu",
          "Vatican",
          "Venezuela",
          "Vietnam",
          "Wallis and Futuna",
          "Yemen",
          "Zambia",
          "Zimbabwe"
         ],
         "marker": {
          "color": [
           7622,
           3478,
           6853,
           151,
           1900,
           9,
           135,
           126708,
           8528,
           212,
           5416,
           14986,
           9500,
           771,
           1498,
           29077,
           319,
           6550,
           30259,
           651,
           163,
           123,
           7,
           21455,
           31,
           15519,
           2619,
           652216,
           62,
           140,
           35811,
           375,
           38,
           3040,
           1926,
           36998,
           401,
           17,
           113,
           190,
           42955,
           4654,
           139037,
           160,
           378,
           0,
           8082,
           795,
           15194,
           8499,
           264,
           875,
           38892,
           1335,
           4830,
           189,
           61,
           4371,
           35264,
           24172,
           4086,
           183,
           103,
           2290,
           1391,
           7476,
           28,
           0,
           834,
           2387,
           139312,
           642,
           303,
           365,
           16338,
           124107,
           1442,
           101,
           26143,
           20,
           216,
           17073,
           0,
           440,
           167,
           1223,
           876,
           10785,
           1774,
           44286,
           68,
           515036,
           149918,
           137747,
           25041,
           6531,
           80,
           10274,
           155782,
           2825,
           24816,
           0,
           13849,
           18967,
           5640,
           11,
           3117,
           2544,
           2963,
           628,
           5348,
           10142,
           697,
           294,
           6288,
           78,
           8503,
           996,
           0,
           1373,
           2618,
           33173,
           297,
           724,
           608,
           0,
           980,
           786,
           319604,
           0,
           11285,
           51,
           2174,
           2685,
           2,
           16015,
           2196,
           19386,
           4013,
           0,
           11945,
           21714,
           302,
           65,
           225,
           307,
           3142,
           0,
           9075,
           1664,
           4248,
           30265,
           6,
           5557,
           8111,
           638,
           18460,
           210907,
           56879,
           0,
           112535,
           21182,
           670,
           63931,
           348467,
           1458,
           0,
           42,
           360,
           1,
           106,
           0,
           112,
           72,
           9006,
           1961,
           15405,
           163,
           125,
           1073,
           0,
           18663,
           6351,
           115,
           1348,
           99543,
           8957,
           137,
           100413,
           16321,
           3912,
           1318,
           17512,
           13174,
           3092,
           853,
           125,
           798,
           23235,
           129,
           272,
           0,
           0,
           3652,
           27922,
           95379,
           0,
           36,
           0,
           3590,
           112459,
           2301,
           162152,
           958437,
           7040,
           1637,
           1,
           0,
           5647,
           40726,
           7,
           2135,
           3958,
           5397
          ],
          "coloraxis": "coloraxis",
          "size": [
           37.36047476006603,
           42.69578869641803,
           42.37262015628478,
           23.736390366870946,
           31.508070492449907,
           10.524882870272739,
           14.512234730405421,
           121.7078435957722,
           48.680446280825514,
           22.82509677198139,
           90.77801230121294,
           86.29055197862168,
           58.764651545549036,
           22.710134875348785,
           52.01040323836181,
           77.05346709069406,
           26.575818561459613,
           61.723762148382164,
           92.55368062588394,
           26.69799907414912,
           21.24917053503209,
           16.58512380652843,
           17.6998412141842,
           61.021310682843435,
           14.60555554243523,
           46.90418086926783,
           42.31131274496044,
           173.3415089345677,
           13.658612366224677,
           30.10137544451083,
           64.94023086071117,
           19.72930147459791,
           23.68363518262701,
           34.37504112062251,
           33.34388175939686,
           90.55032853368762,
           26.558582696666267,
           19.32676044182672,
           17.651552364143512,
           14.39551269740934,
           89.1762752238927,
           32.616838552505556,
           108.38516139943778,
           14.848760430095712,
           20.614457060233207,
           1.2311444133449163,
           59.33085442825584,
           30.172914398448093,
           64.26199715922566,
           64.43413930747212,
           23.865082656031163,
           45.305215862531256,
           92.8517597325446,
           30.240058972454314,
           86.4174224333253,
           18.093355569757932,
           16.41808849800429,
           53.46878032326696,
           59.799223120128026,
           50.936118698150786,
           36.16104991892602,
           18.210797683339173,
           15.712049601783697,
           51.67802619072763,
           28.327896700711342,
           50.272722549269126,
           23.011294427435768,
           4.151541198814568,
           27.662578910375142,
           55.99725823492452,
           161.76505728418334,
           28.22048295410101,
           25.302871753955422,
           16.718163344415462,
           72.97086432608265,
           144.4924637339012,
           36.413195535861355,
           18.11844783908358,
           83.05071570403857,
           16.658305930761294,
           17.41719139236826,
           58.831286007936704,
           0,
           23.35176312416356,
           14.837679260393815,
           27.534986085055884,
           22.120644292356474,
           48.41783223965548,
           49.34191595126767,
           75.26361619917371,
           35.05097564614086,
           194.9522434625203,
           106.48946749062434,
           113.52439433233542,
           81.08595169593828,
           68.49953657377996,
           20.434464066993797,
           93.18978089869104,
           136.1711113599144,
           34.06683986899754,
           104.30203315106293,
           0,
           73.1665038349584,
           69.67713308395211,
           44.95617910646251,
           11.027658298153398,
           40.417169596211316,
           54.73177140828822,
           38.96808112023671,
           35.27611066999852,
           56.63334705244694,
           64.51994422138993,
           22.614771984203085,
           14.470632240111042,
           51.165831447994556,
           17.08041656600433,
           61.70925274678915,
           38.115867672656286,
           3.750974879935414,
           27.63298638774504,
           30.161583742909542,
           92.62237264114638,
           37.227416321977245,
           22.123483114054633,
           28.631053815280914,
           1.792789962520997,
           26.944586229916055,
           28.518325504796106,
           105.53364977100908,
           1,
           51.399058021319426,
           15.625126238810088,
           61.35948170705608,
           40.64619012334562,
           4.617991768029603,
           65.99566520725499,
           40.3397223750845,
           54.06090018505015,
           36.22751074847901,
           0,
           62.66542153404439,
           111.81081429002316,
           26.691942119367422,
           40.211961388697425,
           18.938237504814836,
           15.231800113757554,
           41.857805218296946,
           0,
           43.94240339944001,
           68.341381318558,
           47.343091011485626,
           71.45949833802224,
           11.896932943137108,
           55.44574126259954,
           58.05138092182759,
           24.275387652946502,
           55.282625037134395,
           92.05655294833073,
           93.17123063823259,
           0,
           106.54626699821411,
           90.45345162023123,
           46.3655174536195,
           85.60842435508991,
           146.6173754335714,
           34.17686562611166,
           1.515716566510398,
           13.272686131043374,
           20.27668832267122,
           8.17813882249442,
           15.580743378299264,
           2.854658634732502,
           17.7130577283913,
           13.55545181539051,
           57.81185893925599,
           30.19713081368353,
           76.78209590682836,
           23.918730189095594,
           14.63368316167064,
           59.441614848483226,
           0,
           79.8305029669083,
           61.1884403083984,
           14.789250011455552,
           21.19527863913226,
           93.29676821538543,
           98.78506125393697,
           18.583478612110973,
           129.89783634552475,
           55.43706416540542,
           27.340637071344446,
           29.406227907169804,
           82.61648338617925,
           86.75508850031639,
           26.425373160933788,
           19.742411849258655,
           18.83750958895418,
           22.802334523236578,
           87.9610890608893,
           20.278828737894404,
           23.43189655768228,
           0,
           7.691001587543644,
           34.209436328978796,
           63.19336278716562,
           140.22952325518355,
           0,
           13.505940324209943,
           0,
           36.64055639150751,
           102.50441017631088,
           60.77304801953803,
           153.0385603879094,
           234.27483059587317,
           60.16039412891591,
           40.95779007356895,
           2.4189454814875875,
           2.7461192933624785,
           51.75362467797266,
           97.27017689674658,
           6.267823463756063,
           16.645171521589855,
           44.562816196447216,
           41.07047517156296
          ],
          "sizemode": "area",
          "sizeref": 0.5856870764896829,
          "symbol": "circle"
         },
         "mode": "markers",
         "name": "",
         "showlegend": false,
         "type": "scattergeo"
        }
       ],
       "layout": {
        "coloraxis": {
         "cmax": 100000,
         "cmin": 0,
         "colorbar": {
          "title": {
           "text": "TotalDeaths"
          }
         },
         "colorscale": [
          [
           0,
           "rgb(12,51,131)"
          ],
          [
           0.25,
           "rgb(10,136,186)"
          ],
          [
           0.5,
           "rgb(242,211,56)"
          ],
          [
           0.75,
           "rgb(242,143,56)"
          ],
          [
           1,
           "rgb(217,30,30)"
          ]
         ]
        },
        "geo": {
         "center": {},
         "domain": {
          "x": [
           0,
           1
          ],
          "y": [
           0,
           1
          ]
         },
         "projection": {
          "type": "natural earth"
         }
        },
        "legend": {
         "itemsizing": "constant",
         "tracegroupgap": 0
        },
        "template": {
         "data": {
          "bar": [
           {
            "error_x": {
             "color": "#f2f5fa"
            },
            "error_y": {
             "color": "#f2f5fa"
            },
            "marker": {
             "line": {
              "color": "rgb(17,17,17)",
              "width": 0.5
             },
             "pattern": {
              "fillmode": "overlay",
              "size": 10,
              "solidity": 0.2
             }
            },
            "type": "bar"
           }
          ],
          "barpolar": [
           {
            "marker": {
             "line": {
              "color": "rgb(17,17,17)",
              "width": 0.5
             },
             "pattern": {
              "fillmode": "overlay",
              "size": 10,
              "solidity": 0.2
             }
            },
            "type": "barpolar"
           }
          ],
          "carpet": [
           {
            "aaxis": {
             "endlinecolor": "#A2B1C6",
             "gridcolor": "#506784",
             "linecolor": "#506784",
             "minorgridcolor": "#506784",
             "startlinecolor": "#A2B1C6"
            },
            "baxis": {
             "endlinecolor": "#A2B1C6",
             "gridcolor": "#506784",
             "linecolor": "#506784",
             "minorgridcolor": "#506784",
             "startlinecolor": "#A2B1C6"
            },
            "type": "carpet"
           }
          ],
          "choropleth": [
           {
            "colorbar": {
             "outlinewidth": 0,
             "ticks": ""
            },
            "type": "choropleth"
           }
          ],
          "contour": [
           {
            "colorbar": {
             "outlinewidth": 0,
             "ticks": ""
            },
            "colorscale": [
             [
              0,
              "#0d0887"
             ],
             [
              0.1111111111111111,
              "#46039f"
             ],
             [
              0.2222222222222222,
              "#7201a8"
             ],
             [
              0.3333333333333333,
              "#9c179e"
             ],
             [
              0.4444444444444444,
              "#bd3786"
             ],
             [
              0.5555555555555556,
              "#d8576b"
             ],
             [
              0.6666666666666666,
              "#ed7953"
             ],
             [
              0.7777777777777778,
              "#fb9f3a"
             ],
             [
              0.8888888888888888,
              "#fdca26"
             ],
             [
              1,
              "#f0f921"
             ]
            ],
            "type": "contour"
           }
          ],
          "contourcarpet": [
           {
            "colorbar": {
             "outlinewidth": 0,
             "ticks": ""
            },
            "type": "contourcarpet"
           }
          ],
          "heatmap": [
           {
            "colorbar": {
             "outlinewidth": 0,
             "ticks": ""
            },
            "colorscale": [
             [
              0,
              "#0d0887"
             ],
             [
              0.1111111111111111,
              "#46039f"
             ],
             [
              0.2222222222222222,
              "#7201a8"
             ],
             [
              0.3333333333333333,
              "#9c179e"
             ],
             [
              0.4444444444444444,
              "#bd3786"
             ],
             [
              0.5555555555555556,
              "#d8576b"
             ],
             [
              0.6666666666666666,
              "#ed7953"
             ],
             [
              0.7777777777777778,
              "#fb9f3a"
             ],
             [
              0.8888888888888888,
              "#fdca26"
             ],
             [
              1,
              "#f0f921"
             ]
            ],
            "type": "heatmap"
           }
          ],
          "heatmapgl": [
           {
            "colorbar": {
             "outlinewidth": 0,
             "ticks": ""
            },
            "colorscale": [
             [
              0,
              "#0d0887"
             ],
             [
              0.1111111111111111,
              "#46039f"
             ],
             [
              0.2222222222222222,
              "#7201a8"
             ],
             [
              0.3333333333333333,
              "#9c179e"
             ],
             [
              0.4444444444444444,
              "#bd3786"
             ],
             [
              0.5555555555555556,
              "#d8576b"
             ],
             [
              0.6666666666666666,
              "#ed7953"
             ],
             [
              0.7777777777777778,
              "#fb9f3a"
             ],
             [
              0.8888888888888888,
              "#fdca26"
             ],
             [
              1,
              "#f0f921"
             ]
            ],
            "type": "heatmapgl"
           }
          ],
          "histogram": [
           {
            "marker": {
             "pattern": {
              "fillmode": "overlay",
              "size": 10,
              "solidity": 0.2
             }
            },
            "type": "histogram"
           }
          ],
          "histogram2d": [
           {
            "colorbar": {
             "outlinewidth": 0,
             "ticks": ""
            },
            "colorscale": [
             [
              0,
              "#0d0887"
             ],
             [
              0.1111111111111111,
              "#46039f"
             ],
             [
              0.2222222222222222,
              "#7201a8"
             ],
             [
              0.3333333333333333,
              "#9c179e"
             ],
             [
              0.4444444444444444,
              "#bd3786"
             ],
             [
              0.5555555555555556,
              "#d8576b"
             ],
             [
              0.6666666666666666,
              "#ed7953"
             ],
             [
              0.7777777777777778,
              "#fb9f3a"
             ],
             [
              0.8888888888888888,
              "#fdca26"
             ],
             [
              1,
              "#f0f921"
             ]
            ],
            "type": "histogram2d"
           }
          ],
          "histogram2dcontour": [
           {
            "colorbar": {
             "outlinewidth": 0,
             "ticks": ""
            },
            "colorscale": [
             [
              0,
              "#0d0887"
             ],
             [
              0.1111111111111111,
              "#46039f"
             ],
             [
              0.2222222222222222,
              "#7201a8"
             ],
             [
              0.3333333333333333,
              "#9c179e"
             ],
             [
              0.4444444444444444,
              "#bd3786"
             ],
             [
              0.5555555555555556,
              "#d8576b"
             ],
             [
              0.6666666666666666,
              "#ed7953"
             ],
             [
              0.7777777777777778,
              "#fb9f3a"
             ],
             [
              0.8888888888888888,
              "#fdca26"
             ],
             [
              1,
              "#f0f921"
             ]
            ],
            "type": "histogram2dcontour"
           }
          ],
          "mesh3d": [
           {
            "colorbar": {
             "outlinewidth": 0,
             "ticks": ""
            },
            "type": "mesh3d"
           }
          ],
          "parcoords": [
           {
            "line": {
             "colorbar": {
              "outlinewidth": 0,
              "ticks": ""
             }
            },
            "type": "parcoords"
           }
          ],
          "pie": [
           {
            "automargin": true,
            "type": "pie"
           }
          ],
          "scatter": [
           {
            "marker": {
             "line": {
              "color": "#283442"
             }
            },
            "type": "scatter"
           }
          ],
          "scatter3d": [
           {
            "line": {
             "colorbar": {
              "outlinewidth": 0,
              "ticks": ""
             }
            },
            "marker": {
             "colorbar": {
              "outlinewidth": 0,
              "ticks": ""
             }
            },
            "type": "scatter3d"
           }
          ],
          "scattercarpet": [
           {
            "marker": {
             "colorbar": {
              "outlinewidth": 0,
              "ticks": ""
             }
            },
            "type": "scattercarpet"
           }
          ],
          "scattergeo": [
           {
            "marker": {
             "colorbar": {
              "outlinewidth": 0,
              "ticks": ""
             }
            },
            "type": "scattergeo"
           }
          ],
          "scattergl": [
           {
            "marker": {
             "line": {
              "color": "#283442"
             }
            },
            "type": "scattergl"
           }
          ],
          "scattermapbox": [
           {
            "marker": {
             "colorbar": {
              "outlinewidth": 0,
              "ticks": ""
             }
            },
            "type": "scattermapbox"
           }
          ],
          "scatterpolar": [
           {
            "marker": {
             "colorbar": {
              "outlinewidth": 0,
              "ticks": ""
             }
            },
            "type": "scatterpolar"
           }
          ],
          "scatterpolargl": [
           {
            "marker": {
             "colorbar": {
              "outlinewidth": 0,
              "ticks": ""
             }
            },
            "type": "scatterpolargl"
           }
          ],
          "scatterternary": [
           {
            "marker": {
             "colorbar": {
              "outlinewidth": 0,
              "ticks": ""
             }
            },
            "type": "scatterternary"
           }
          ],
          "surface": [
           {
            "colorbar": {
             "outlinewidth": 0,
             "ticks": ""
            },
            "colorscale": [
             [
              0,
              "#0d0887"
             ],
             [
              0.1111111111111111,
              "#46039f"
             ],
             [
              0.2222222222222222,
              "#7201a8"
             ],
             [
              0.3333333333333333,
              "#9c179e"
             ],
             [
              0.4444444444444444,
              "#bd3786"
             ],
             [
              0.5555555555555556,
              "#d8576b"
             ],
             [
              0.6666666666666666,
              "#ed7953"
             ],
             [
              0.7777777777777778,
              "#fb9f3a"
             ],
             [
              0.8888888888888888,
              "#fdca26"
             ],
             [
              1,
              "#f0f921"
             ]
            ],
            "type": "surface"
           }
          ],
          "table": [
           {
            "cells": {
             "fill": {
              "color": "#506784"
             },
             "line": {
              "color": "rgb(17,17,17)"
             }
            },
            "header": {
             "fill": {
              "color": "#2a3f5f"
             },
             "line": {
              "color": "rgb(17,17,17)"
             }
            },
            "type": "table"
           }
          ]
         },
         "layout": {
          "annotationdefaults": {
           "arrowcolor": "#f2f5fa",
           "arrowhead": 0,
           "arrowwidth": 1
          },
          "autotypenumbers": "strict",
          "coloraxis": {
           "colorbar": {
            "outlinewidth": 0,
            "ticks": ""
           }
          },
          "colorscale": {
           "diverging": [
            [
             0,
             "#8e0152"
            ],
            [
             0.1,
             "#c51b7d"
            ],
            [
             0.2,
             "#de77ae"
            ],
            [
             0.3,
             "#f1b6da"
            ],
            [
             0.4,
             "#fde0ef"
            ],
            [
             0.5,
             "#f7f7f7"
            ],
            [
             0.6,
             "#e6f5d0"
            ],
            [
             0.7,
             "#b8e186"
            ],
            [
             0.8,
             "#7fbc41"
            ],
            [
             0.9,
             "#4d9221"
            ],
            [
             1,
             "#276419"
            ]
           ],
           "sequential": [
            [
             0,
             "#0d0887"
            ],
            [
             0.1111111111111111,
             "#46039f"
            ],
            [
             0.2222222222222222,
             "#7201a8"
            ],
            [
             0.3333333333333333,
             "#9c179e"
            ],
            [
             0.4444444444444444,
             "#bd3786"
            ],
            [
             0.5555555555555556,
             "#d8576b"
            ],
            [
             0.6666666666666666,
             "#ed7953"
            ],
            [
             0.7777777777777778,
             "#fb9f3a"
            ],
            [
             0.8888888888888888,
             "#fdca26"
            ],
            [
             1,
             "#f0f921"
            ]
           ],
           "sequentialminus": [
            [
             0,
             "#0d0887"
            ],
            [
             0.1111111111111111,
             "#46039f"
            ],
            [
             0.2222222222222222,
             "#7201a8"
            ],
            [
             0.3333333333333333,
             "#9c179e"
            ],
            [
             0.4444444444444444,
             "#bd3786"
            ],
            [
             0.5555555555555556,
             "#d8576b"
            ],
            [
             0.6666666666666666,
             "#ed7953"
            ],
            [
             0.7777777777777778,
             "#fb9f3a"
            ],
            [
             0.8888888888888888,
             "#fdca26"
            ],
            [
             1,
             "#f0f921"
            ]
           ]
          },
          "colorway": [
           "#636efa",
           "#EF553B",
           "#00cc96",
           "#ab63fa",
           "#FFA15A",
           "#19d3f3",
           "#FF6692",
           "#B6E880",
           "#FF97FF",
           "#FECB52"
          ],
          "font": {
           "color": "#f2f5fa"
          },
          "geo": {
           "bgcolor": "rgb(17,17,17)",
           "lakecolor": "rgb(17,17,17)",
           "landcolor": "rgb(17,17,17)",
           "showlakes": true,
           "showland": true,
           "subunitcolor": "#506784"
          },
          "hoverlabel": {
           "align": "left"
          },
          "hovermode": "closest",
          "mapbox": {
           "style": "dark"
          },
          "paper_bgcolor": "rgb(17,17,17)",
          "plot_bgcolor": "rgb(17,17,17)",
          "polar": {
           "angularaxis": {
            "gridcolor": "#506784",
            "linecolor": "#506784",
            "ticks": ""
           },
           "bgcolor": "rgb(17,17,17)",
           "radialaxis": {
            "gridcolor": "#506784",
            "linecolor": "#506784",
            "ticks": ""
           }
          },
          "scene": {
           "xaxis": {
            "backgroundcolor": "rgb(17,17,17)",
            "gridcolor": "#506784",
            "gridwidth": 2,
            "linecolor": "#506784",
            "showbackground": true,
            "ticks": "",
            "zerolinecolor": "#C8D4E3"
           },
           "yaxis": {
            "backgroundcolor": "rgb(17,17,17)",
            "gridcolor": "#506784",
            "gridwidth": 2,
            "linecolor": "#506784",
            "showbackground": true,
            "ticks": "",
            "zerolinecolor": "#C8D4E3"
           },
           "zaxis": {
            "backgroundcolor": "rgb(17,17,17)",
            "gridcolor": "#506784",
            "gridwidth": 2,
            "linecolor": "#506784",
            "showbackground": true,
            "ticks": "",
            "zerolinecolor": "#C8D4E3"
           }
          },
          "shapedefaults": {
           "line": {
            "color": "#f2f5fa"
           }
          },
          "sliderdefaults": {
           "bgcolor": "#C8D4E3",
           "bordercolor": "rgb(17,17,17)",
           "borderwidth": 1,
           "tickwidth": 0
          },
          "ternary": {
           "aaxis": {
            "gridcolor": "#506784",
            "linecolor": "#506784",
            "ticks": ""
           },
           "baxis": {
            "gridcolor": "#506784",
            "linecolor": "#506784",
            "ticks": ""
           },
           "bgcolor": "rgb(17,17,17)",
           "caxis": {
            "gridcolor": "#506784",
            "linecolor": "#506784",
            "ticks": ""
           }
          },
          "title": {
           "x": 0.05
          },
          "updatemenudefaults": {
           "bgcolor": "#506784",
           "borderwidth": 0
          },
          "xaxis": {
           "automargin": true,
           "gridcolor": "#283442",
           "linecolor": "#506784",
           "ticks": "",
           "title": {
            "standoff": 15
           },
           "zerolinecolor": "#283442",
           "zerolinewidth": 2
          },
          "yaxis": {
           "automargin": true,
           "gridcolor": "#283442",
           "linecolor": "#506784",
           "ticks": "",
           "title": {
            "standoff": 15
           },
           "zerolinecolor": "#283442",
           "zerolinewidth": 2
          }
         }
        },
        "title": {
         "text": "Tổng quan số ca tử vong ở các nước trên thế giới"
        }
       }
      }
     },
     "metadata": {},
     "output_type": "display_data"
    }
   ],
   "source": [
    "plot_map(covid_group_loction, \"TotalDeaths\", \"Tổng quan số ca tử vong ở các nước trên thế giới\", 'SizeDeaths', [0, 10**5])"
   ]
  },
  {
   "cell_type": "markdown",
   "metadata": {},
   "source": [
    "Những quốc gia có nền kinh tế phát triển, có tổng số ca mắc nhiều như Mỹ, Nga, Anh ... thì đều có tổng số ca tử vong lớn"
   ]
  },
  {
   "cell_type": "code",
   "execution_count": 192,
   "metadata": {},
   "outputs": [
    {
     "data": {
      "application/vnd.plotly.v1+json": {
       "config": {
        "plotlyServerURL": "https://plot.ly"
       },
       "data": [
        {
         "mode": "lines",
         "name": "NewCases",
         "type": "scatter",
         "x": [
          "2020-01-22",
          "2020-01-23",
          "2020-01-24",
          "2020-01-25",
          "2020-01-26",
          "2020-01-27",
          "2020-01-28",
          "2020-01-29",
          "2020-01-30",
          "2020-01-31",
          "2020-02-01",
          "2020-02-02",
          "2020-02-03",
          "2020-02-04",
          "2020-02-05",
          "2020-02-06",
          "2020-02-07",
          "2020-02-08",
          "2020-02-09",
          "2020-02-10",
          "2020-02-11",
          "2020-02-12",
          "2020-02-13",
          "2020-02-14",
          "2020-02-15",
          "2020-02-16",
          "2020-02-17",
          "2020-02-18",
          "2020-02-19",
          "2020-02-20",
          "2020-02-21",
          "2020-02-22",
          "2020-02-23",
          "2020-02-24",
          "2020-02-25",
          "2020-02-26",
          "2020-02-27",
          "2020-02-28",
          "2020-02-29",
          "2020-03-01",
          "2020-03-02",
          "2020-03-03",
          "2020-03-04",
          "2020-03-05",
          "2020-03-06",
          "2020-03-07",
          "2020-03-08",
          "2020-03-09",
          "2020-03-10",
          "2020-03-11",
          "2020-03-12",
          "2020-03-13",
          "2020-03-14",
          "2020-03-15",
          "2020-03-16",
          "2020-03-17",
          "2020-03-18",
          "2020-03-19",
          "2020-03-20",
          "2020-03-21",
          "2020-03-22",
          "2020-03-23",
          "2020-03-24",
          "2020-03-25",
          "2020-03-26",
          "2020-03-27",
          "2020-03-28",
          "2020-03-29",
          "2020-03-30",
          "2020-03-31",
          "2020-04-01",
          "2020-04-02",
          "2020-04-03",
          "2020-04-04",
          "2020-04-05",
          "2020-04-06",
          "2020-04-07",
          "2020-04-08",
          "2020-04-09",
          "2020-04-10",
          "2020-04-11",
          "2020-04-12",
          "2020-04-13",
          "2020-04-14",
          "2020-04-15",
          "2020-04-16",
          "2020-04-17",
          "2020-04-18",
          "2020-04-19",
          "2020-04-20",
          "2020-04-21",
          "2020-04-22",
          "2020-04-23",
          "2020-04-24",
          "2020-04-25",
          "2020-04-26",
          "2020-04-27",
          "2020-04-28",
          "2020-04-29",
          "2020-04-30",
          "2020-05-01",
          "2020-05-02",
          "2020-05-03",
          "2020-05-04",
          "2020-05-05",
          "2020-05-06",
          "2020-05-07",
          "2020-05-08",
          "2020-05-09",
          "2020-05-10",
          "2020-05-11",
          "2020-05-12",
          "2020-05-13",
          "2020-05-14",
          "2020-05-15",
          "2020-05-16",
          "2020-05-17",
          "2020-05-18",
          "2020-05-19",
          "2020-05-20",
          "2020-05-21",
          "2020-05-22",
          "2020-05-23",
          "2020-05-24",
          "2020-05-25",
          "2020-05-26",
          "2020-05-27",
          "2020-05-28",
          "2020-05-29",
          "2020-05-30",
          "2020-05-31",
          "2020-06-01",
          "2020-06-02",
          "2020-06-03",
          "2020-06-04",
          "2020-06-05",
          "2020-06-06",
          "2020-06-07",
          "2020-06-08",
          "2020-06-09",
          "2020-06-10",
          "2020-06-11",
          "2020-06-12",
          "2020-06-13",
          "2020-06-14",
          "2020-06-15",
          "2020-06-16",
          "2020-06-17",
          "2020-06-18",
          "2020-06-19",
          "2020-06-20",
          "2020-06-21",
          "2020-06-22",
          "2020-06-23",
          "2020-06-24",
          "2020-06-25",
          "2020-06-26",
          "2020-06-27",
          "2020-06-28",
          "2020-06-29",
          "2020-06-30",
          "2020-07-01",
          "2020-07-02",
          "2020-07-03",
          "2020-07-04",
          "2020-07-05",
          "2020-07-06",
          "2020-07-07",
          "2020-07-08",
          "2020-07-09",
          "2020-07-10",
          "2020-07-11",
          "2020-07-12",
          "2020-07-13",
          "2020-07-14",
          "2020-07-15",
          "2020-07-16",
          "2020-07-17",
          "2020-07-18",
          "2020-07-19",
          "2020-07-20",
          "2020-07-21",
          "2020-07-22",
          "2020-07-23",
          "2020-07-24",
          "2020-07-25",
          "2020-07-26",
          "2020-07-27",
          "2020-07-28",
          "2020-07-29",
          "2020-07-30",
          "2020-07-31",
          "2020-08-01",
          "2020-08-02",
          "2020-08-03",
          "2020-08-04",
          "2020-08-05",
          "2020-08-06",
          "2020-08-07",
          "2020-08-08",
          "2020-08-09",
          "2020-08-10",
          "2020-08-11",
          "2020-08-12",
          "2020-08-13",
          "2020-08-14",
          "2020-08-15",
          "2020-08-16",
          "2020-08-17",
          "2020-08-18",
          "2020-08-19",
          "2020-08-20",
          "2020-08-21",
          "2020-08-22",
          "2020-08-23",
          "2020-08-24",
          "2020-08-25",
          "2020-08-26",
          "2020-08-27",
          "2020-08-28",
          "2020-08-29",
          "2020-08-30",
          "2020-08-31",
          "2020-09-01",
          "2020-09-02",
          "2020-09-03",
          "2020-09-04",
          "2020-09-05",
          "2020-09-06",
          "2020-09-07",
          "2020-09-08",
          "2020-09-09",
          "2020-09-10",
          "2020-09-11",
          "2020-09-12",
          "2020-09-13",
          "2020-09-14",
          "2020-09-15",
          "2020-09-16",
          "2020-09-17",
          "2020-09-18",
          "2020-09-19",
          "2020-09-20",
          "2020-09-21",
          "2020-09-22",
          "2020-09-23",
          "2020-09-24",
          "2020-09-25",
          "2020-09-26",
          "2020-09-27",
          "2020-09-28",
          "2020-09-29",
          "2020-09-30",
          "2020-10-01",
          "2020-10-02",
          "2020-10-03",
          "2020-10-04",
          "2020-10-05",
          "2020-10-06",
          "2020-10-07",
          "2020-10-08",
          "2020-10-09",
          "2020-10-10",
          "2020-10-11",
          "2020-10-12",
          "2020-10-13",
          "2020-10-14",
          "2020-10-15",
          "2020-10-16",
          "2020-10-17",
          "2020-10-18",
          "2020-10-19",
          "2020-10-20",
          "2020-10-21",
          "2020-10-22",
          "2020-10-23",
          "2020-10-24",
          "2020-10-25",
          "2020-10-26",
          "2020-10-27",
          "2020-10-28",
          "2020-10-29",
          "2020-10-30",
          "2020-10-31",
          "2020-11-01",
          "2020-11-02",
          "2020-11-03",
          "2020-11-04",
          "2020-11-05",
          "2020-11-06",
          "2020-11-07",
          "2020-11-08",
          "2020-11-09",
          "2020-11-10",
          "2020-11-11",
          "2020-11-12",
          "2020-11-13",
          "2020-11-14",
          "2020-11-15",
          "2020-11-16",
          "2020-11-17",
          "2020-11-18",
          "2020-11-19",
          "2020-11-20",
          "2020-11-21",
          "2020-11-22",
          "2020-11-23",
          "2020-11-24",
          "2020-11-25",
          "2020-11-26",
          "2020-11-27",
          "2020-11-28",
          "2020-11-29",
          "2020-11-30",
          "2020-12-01",
          "2020-12-02",
          "2020-12-03",
          "2020-12-04",
          "2020-12-05",
          "2020-12-06",
          "2020-12-07",
          "2020-12-08",
          "2020-12-09",
          "2020-12-10",
          "2020-12-11",
          "2020-12-12",
          "2020-12-13",
          "2020-12-14",
          "2020-12-15",
          "2020-12-16",
          "2020-12-17",
          "2020-12-18",
          "2020-12-19",
          "2020-12-20",
          "2020-12-21",
          "2020-12-22",
          "2020-12-23",
          "2020-12-24",
          "2020-12-25",
          "2020-12-26",
          "2020-12-27",
          "2020-12-28",
          "2020-12-29",
          "2020-12-30",
          "2020-12-31",
          "2021-01-01",
          "2021-01-02",
          "2021-01-03",
          "2021-01-04",
          "2021-01-05",
          "2021-01-06",
          "2021-01-07",
          "2021-01-08",
          "2021-01-09",
          "2021-01-10",
          "2021-01-11",
          "2021-01-12",
          "2021-01-13",
          "2021-01-14",
          "2021-01-15",
          "2021-01-16",
          "2021-01-17",
          "2021-01-18",
          "2021-01-19",
          "2021-01-20",
          "2021-01-21",
          "2021-01-22",
          "2021-01-23",
          "2021-01-24",
          "2021-01-25",
          "2021-01-26",
          "2021-01-27",
          "2021-01-28",
          "2021-01-29",
          "2021-01-30",
          "2021-01-31",
          "2021-02-01",
          "2021-02-02",
          "2021-02-03",
          "2021-02-04",
          "2021-02-05",
          "2021-02-06",
          "2021-02-07",
          "2021-02-08",
          "2021-02-09",
          "2021-02-10",
          "2021-02-11",
          "2021-02-12",
          "2021-02-13",
          "2021-02-14",
          "2021-02-15",
          "2021-02-16",
          "2021-02-17",
          "2021-02-18",
          "2021-02-19",
          "2021-02-20",
          "2021-02-21",
          "2021-02-22",
          "2021-02-23",
          "2021-02-24",
          "2021-02-25",
          "2021-02-26",
          "2021-02-27",
          "2021-02-28",
          "2021-03-01",
          "2021-03-02",
          "2021-03-03",
          "2021-03-04",
          "2021-03-05",
          "2021-03-06",
          "2021-03-07",
          "2021-03-08",
          "2021-03-09",
          "2021-03-10",
          "2021-03-11",
          "2021-03-12",
          "2021-03-13",
          "2021-03-14",
          "2021-03-15",
          "2021-03-16",
          "2021-03-17",
          "2021-03-18",
          "2021-03-19",
          "2021-03-20",
          "2021-03-21",
          "2021-03-22",
          "2021-03-23",
          "2021-03-24",
          "2021-03-25",
          "2021-03-26",
          "2021-03-27",
          "2021-03-28",
          "2021-03-29",
          "2021-03-30",
          "2021-03-31",
          "2021-04-01",
          "2021-04-02",
          "2021-04-03",
          "2021-04-04",
          "2021-04-05",
          "2021-04-06",
          "2021-04-07",
          "2021-04-08",
          "2021-04-09",
          "2021-04-10",
          "2021-04-11",
          "2021-04-12",
          "2021-04-13",
          "2021-04-14",
          "2021-04-15",
          "2021-04-16",
          "2021-04-17",
          "2021-04-18",
          "2021-04-19",
          "2021-04-20",
          "2021-04-21",
          "2021-04-22",
          "2021-04-23",
          "2021-04-24",
          "2021-04-25",
          "2021-04-26",
          "2021-04-27",
          "2021-04-28",
          "2021-04-29",
          "2021-04-30",
          "2021-05-01",
          "2021-05-02",
          "2021-05-03",
          "2021-05-04",
          "2021-05-05",
          "2021-05-06",
          "2021-05-07",
          "2021-05-08",
          "2021-05-09",
          "2021-05-10",
          "2021-05-11",
          "2021-05-12",
          "2021-05-13",
          "2021-05-14",
          "2021-05-15",
          "2021-05-16",
          "2021-05-17",
          "2021-05-18",
          "2021-05-19",
          "2021-05-20",
          "2021-05-21",
          "2021-05-22",
          "2021-05-23",
          "2021-05-24",
          "2021-05-25",
          "2021-05-26",
          "2021-05-27",
          "2021-05-28",
          "2021-05-29",
          "2021-05-30",
          "2021-05-31",
          "2021-06-01",
          "2021-06-02",
          "2021-06-03",
          "2021-06-04",
          "2021-06-05",
          "2021-06-06",
          "2021-06-07",
          "2021-06-08",
          "2021-06-09",
          "2021-06-10",
          "2021-06-11",
          "2021-06-12",
          "2021-06-13",
          "2021-06-14",
          "2021-06-15",
          "2021-06-16",
          "2021-06-17",
          "2021-06-18",
          "2021-06-19",
          "2021-06-20",
          "2021-06-21",
          "2021-06-22",
          "2021-06-23",
          "2021-06-24",
          "2021-06-25",
          "2021-06-26",
          "2021-06-27",
          "2021-06-28",
          "2021-06-29",
          "2021-06-30",
          "2021-07-01",
          "2021-07-02",
          "2021-07-03",
          "2021-07-04",
          "2021-07-05",
          "2021-07-06",
          "2021-07-07",
          "2021-07-08",
          "2021-07-09",
          "2021-07-10",
          "2021-07-11",
          "2021-07-12",
          "2021-07-13",
          "2021-07-14",
          "2021-07-15",
          "2021-07-16",
          "2021-07-17",
          "2021-07-18",
          "2021-07-19",
          "2021-07-20",
          "2021-07-21",
          "2021-07-22",
          "2021-07-23",
          "2021-07-24",
          "2021-07-25",
          "2021-07-26",
          "2021-07-27",
          "2021-07-28",
          "2021-07-29",
          "2021-07-30",
          "2021-07-31",
          "2021-08-01",
          "2021-08-02",
          "2021-08-03",
          "2021-08-04",
          "2021-08-05",
          "2021-08-06",
          "2021-08-07",
          "2021-08-08",
          "2021-08-09",
          "2021-08-10",
          "2021-08-11",
          "2021-08-12",
          "2021-08-13",
          "2021-08-14",
          "2021-08-15",
          "2021-08-16",
          "2021-08-17",
          "2021-08-18",
          "2021-08-19",
          "2021-08-20",
          "2021-08-21",
          "2021-08-22",
          "2021-08-23",
          "2021-08-24",
          "2021-08-25",
          "2021-08-26",
          "2021-08-27",
          "2021-08-28",
          "2021-08-29",
          "2021-08-30",
          "2021-08-31",
          "2021-09-01",
          "2021-09-02",
          "2021-09-03",
          "2021-09-04",
          "2021-09-05",
          "2021-09-06",
          "2021-09-07",
          "2021-09-08",
          "2021-09-09",
          "2021-09-10",
          "2021-09-11",
          "2021-09-12",
          "2021-09-13",
          "2021-09-14",
          "2021-09-15",
          "2021-09-16",
          "2021-09-17",
          "2021-09-18",
          "2021-09-19",
          "2021-09-20",
          "2021-09-21",
          "2021-09-22",
          "2021-09-23",
          "2021-09-24",
          "2021-09-25",
          "2021-09-26",
          "2021-09-27",
          "2021-09-28",
          "2021-09-29",
          "2021-09-30",
          "2021-10-01",
          "2021-10-02",
          "2021-10-03",
          "2021-10-04",
          "2021-10-05",
          "2021-10-06",
          "2021-10-07",
          "2021-10-08",
          "2021-10-09",
          "2021-10-10",
          "2021-10-11",
          "2021-10-12",
          "2021-10-13",
          "2021-10-14",
          "2021-10-15",
          "2021-10-16",
          "2021-10-17",
          "2021-10-18",
          "2021-10-19",
          "2021-10-20",
          "2021-10-21",
          "2021-10-22",
          "2021-10-23",
          "2021-10-24",
          "2021-10-25",
          "2021-10-26",
          "2021-10-27",
          "2021-10-28",
          "2021-10-29",
          "2021-10-30",
          "2021-10-31",
          "2021-11-01",
          "2021-11-02",
          "2021-11-03",
          "2021-11-04",
          "2021-11-05",
          "2021-11-06",
          "2021-11-07",
          "2021-11-08",
          "2021-11-09",
          "2021-11-10",
          "2021-11-11",
          "2021-11-12",
          "2021-11-13",
          "2021-11-14",
          "2021-11-15",
          "2021-11-16",
          "2021-11-17",
          "2021-11-18",
          "2021-11-19",
          "2021-11-20",
          "2021-11-21",
          "2021-11-22",
          "2021-11-23",
          "2021-11-24",
          "2021-11-25",
          "2021-11-26",
          "2021-11-27",
          "2021-11-28",
          "2021-11-29",
          "2021-11-30",
          "2021-12-01",
          "2021-12-02",
          "2021-12-03",
          "2021-12-04",
          "2021-12-05",
          "2021-12-06",
          "2021-12-07",
          "2021-12-08",
          "2021-12-09",
          "2021-12-10",
          "2021-12-11",
          "2021-12-12",
          "2021-12-13",
          "2021-12-14",
          "2021-12-15",
          "2021-12-16",
          "2021-12-17",
          "2021-12-18",
          "2021-12-19",
          "2021-12-20",
          "2021-12-21",
          "2021-12-22",
          "2021-12-23",
          "2021-12-24",
          "2021-12-25",
          "2021-12-26",
          "2021-12-27",
          "2021-12-28",
          "2021-12-29",
          "2021-12-30",
          "2021-12-31",
          "2022-01-01",
          "2022-01-02",
          "2022-01-03",
          "2022-01-04",
          "2022-01-05",
          "2022-01-06",
          "2022-01-07",
          "2022-01-08",
          "2022-01-09",
          "2022-01-10",
          "2022-01-11",
          "2022-01-12",
          "2022-01-13",
          "2022-01-14",
          "2022-01-15",
          "2022-01-16",
          "2022-01-17",
          "2022-01-18",
          "2022-01-19",
          "2022-01-20",
          "2022-01-21",
          "2022-01-22",
          "2022-01-23",
          "2022-01-24",
          "2022-01-25",
          "2022-01-26",
          "2022-01-27",
          "2022-01-28",
          "2022-01-29",
          "2022-01-30",
          "2022-01-31",
          "2022-02-01",
          "2022-02-02",
          "2022-02-03",
          "2022-02-04",
          "2022-02-05",
          "2022-02-06",
          "2022-02-07",
          "2022-02-08",
          "2022-02-09",
          "2022-02-10",
          "2022-02-11",
          "2022-02-12",
          "2022-02-13",
          "2022-02-14",
          "2022-02-15",
          "2022-02-16",
          "2022-02-17",
          "2022-02-18",
          "2022-02-19",
          "2022-02-20",
          "2022-02-21",
          "2022-02-22",
          "2022-02-23",
          "2022-02-24",
          "2022-02-25",
          "2022-02-26",
          "2022-02-27",
          "2022-02-28",
          "2022-03-01",
          "2022-03-02",
          "2022-03-03",
          "2022-03-04",
          "2022-03-05"
         ],
         "xaxis": "x",
         "y": [
          0,
          100,
          287,
          493,
          683,
          809,
          2651,
          589,
          2068,
          1690,
          2111,
          4749,
          3100,
          4012,
          3745,
          3162,
          3594,
          2731,
          3031,
          2609,
          2043,
          418,
          15152,
          6528,
          2143,
          2183,
          2035,
          1882,
          500,
          561,
          630,
          1762,
          382,
          568,
          855,
          978,
          1359,
          1399,
          1894,
          2380,
          1979,
          2610,
          2339,
          2828,
          3933,
          4125,
          3928,
          4198,
          4906,
          7728,
          6123,
          14194,
          11121,
          11426,
          14821,
          16138,
          19684,
          27308,
          31116,
          32081,
          35185,
          43025,
          41265,
          51334,
          63075,
          65090,
          69676,
          56666,
          65288,
          77195,
          82336,
          82841,
          83955,
          75987,
          70078,
          73959,
          72929,
          83512,
          86637,
          85239,
          73952,
          119047,
          71169,
          83764,
          78404,
          94466,
          87772,
          76714,
          76220,
          75907,
          75532,
          81519,
          84842,
          93549,
          83089,
          70536,
          70847,
          75694,
          78851,
          83161,
          88832,
          78998,
          74236,
          77279,
          79708,
          90719,
          90004,
          92010,
          84140,
          75093,
          76349,
          84873,
          84403,
          95188,
          96211,
          94077,
          78075,
          89172,
          96769,
          105014,
          105876,
          107524,
          104010,
          93576,
          88289,
          92949,
          102611,
          119762,
          121769,
          134999,
          102321,
          99494,
          124988,
          114518,
          138182,
          133520,
          129670,
          110880,
          103237,
          126305,
          136748,
          135252,
          127977,
          133526,
          132074,
          124728,
          144523,
          143101,
          142901,
          181452,
          185635,
          112791,
          141858,
          168172,
          171319,
          179120,
          193148,
          176583,
          168186,
          152931,
          183302,
          215361,
          204243,
          202945,
          189663,
          185904,
          167916,
          208899,
          215804,
          223785,
          233046,
          213112,
          191501,
          195912,
          220508,
          229633,
          244509,
          237697,
          235556,
          212087,
          208752,
          242157,
          275782,
          279912,
          283839,
          248464,
          212903,
          234765,
          264497,
          271097,
          280255,
          289138,
          246099,
          231060,
          205437,
          265521,
          276003,
          286203,
          283194,
          264725,
          233477,
          234209,
          265256,
          275163,
          289926,
          307846,
          247758,
          210543,
          213953,
          258908,
          277968,
          270403,
          263044,
          261596,
          203547,
          228865,
          244798,
          281911,
          286927,
          285792,
          260242,
          218647,
          265562,
          266637,
          282082,
          285665,
          301224,
          272765,
          229581,
          226543,
          245945,
          285010,
          303867,
          316542,
          288125,
          247957,
          268203,
          280182,
          305346,
          314602,
          327784,
          291455,
          255662,
          260519,
          283494,
          312067,
          320651,
          330593,
          284043,
          247733,
          263426,
          282117,
          324991,
          319226,
          329212,
          296480,
          259140,
          312577,
          315406,
          350215,
          359783,
          360157,
          353714,
          287799,
          294885,
          318983,
          381526,
          408575,
          409522,
          369326,
          329405,
          378521,
          390145,
          443739,
          475410,
          496439,
          451739,
          358311,
          486893,
          468374,
          520723,
          552322,
          572690,
          469352,
          434581,
          559962,
          554119,
          552840,
          620953,
          619875,
          592675,
          486064,
          504111,
          578603,
          626746,
          644554,
          659569,
          580090,
          475569,
          529588,
          610660,
          628139,
          655029,
          673012,
          586902,
          486414,
          534454,
          593098,
          631110,
          592412,
          691249,
          602201,
          482385,
          507399,
          623828,
          646764,
          692160,
          688697,
          648934,
          536299,
          527640,
          643258,
          674732,
          679724,
          707122,
          641449,
          534222,
          543390,
          663527,
          725238,
          741142,
          723922,
          619346,
          537711,
          552687,
          665952,
          692807,
          688172,
          489195,
          515361,
          411392,
          501799,
          673644,
          736808,
          827634,
          574155,
          589174,
          520877,
          558845,
          745033,
          796903,
          891308,
          824282,
          754630,
          587925,
          612887,
          704968,
          750493,
          756188,
          773518,
          651775,
          527259,
          519452,
          591643,
          701100,
          655969,
          664125,
          572983,
          461122,
          480916,
          563317,
          604477,
          610188,
          591507,
          519234,
          387172,
          443175,
          467578,
          526826,
          471108,
          535378,
          433470,
          350905,
          339491,
          408258,
          442192,
          443801,
          430393,
          379004,
          307621,
          281191,
          361248,
          388374,
          410504,
          410229,
          373634,
          317935,
          295118,
          394554,
          447538,
          453067,
          441971,
          395722,
          307312,
          305649,
          389560,
          444298,
          458201,
          449263,
          413303,
          372836,
          303836,
          416798,
          470665,
          480877,
          490166,
          452622,
          362716,
          355005,
          470238,
          550817,
          547404,
          561953,
          496150,
          435153,
          424313,
          520866,
          639441,
          651355,
          639592,
          581483,
          475690,
          460902,
          575345,
          682297,
          708942,
          637820,
          525609,
          556866,
          494966,
          607014,
          684882,
          842852,
          750494,
          665300,
          692683,
          613355,
          783311,
          821435,
          816275,
          855381,
          789589,
          681309,
          694249,
          861185,
          888571,
          902252,
          902534,
          814937,
          724713,
          682649,
          854489,
          904603,
          894527,
          881653,
          794032,
          679159,
          686762,
          801886,
          846518,
          868954,
          831340,
          785875,
          636262,
          626118,
          739465,
          759373,
          731654,
          708774,
          630908,
          544863,
          543596,
          625356,
          673520,
          629259,
          625645,
          571692,
          479180,
          450704,
          534918,
          570349,
          547785,
          504368,
          479473,
          389099,
          386852,
          461324,
          487794,
          479794,
          424990,
          396714,
          322643,
          322082,
          371750,
          418529,
          453177,
          422142,
          368029,
          302411,
          309519,
          375539,
          388892,
          395684,
          403366,
          348193,
          303031,
          296851,
          410391,
          397119,
          408663,
          417739,
          363013,
          310726,
          333249,
          381100,
          399260,
          435424,
          442343,
          374043,
          327874,
          376660,
          451342,
          464924,
          481649,
          513789,
          421501,
          370142,
          433065,
          526116,
          538122,
          576027,
          595329,
          489600,
          421241,
          487613,
          532642,
          555062,
          565222,
          727961,
          490842,
          445145,
          540034,
          606988,
          649846,
          642927,
          731810,
          516272,
          481891,
          572138,
          634230,
          680924,
          684588,
          818927,
          560502,
          466838,
          620743,
          645972,
          729603,
          706654,
          801043,
          551571,
          466417,
          665791,
          681816,
          735598,
          711001,
          785826,
          554650,
          448584,
          687643,
          688092,
          732347,
          739199,
          741206,
          558250,
          445767,
          666781,
          634431,
          726061,
          674948,
          714607,
          495380,
          442346,
          448058,
          701644,
          629537,
          647199,
          639648,
          464452,
          373086,
          587344,
          550410,
          572039,
          584146,
          621984,
          400681,
          365622,
          525356,
          487230,
          540394,
          545718,
          550237,
          377817,
          357311,
          475360,
          454574,
          490640,
          489158,
          521146,
          353898,
          311898,
          438460,
          425784,
          508314,
          461184,
          475693,
          344337,
          319905,
          377869,
          441867,
          457896,
          453842,
          459287,
          347700,
          317645,
          413745,
          447141,
          478318,
          463666,
          488795,
          371622,
          316397,
          427568,
          449586,
          520080,
          463857,
          508971,
          389334,
          346340,
          421008,
          426168,
          538266,
          523859,
          520733,
          426950,
          349453,
          477486,
          488325,
          589183,
          518867,
          595877,
          429817,
          363480,
          538581,
          526831,
          634183,
          615233,
          620493,
          481010,
          403567,
          619817,
          595501,
          673136,
          596745,
          598726,
          460761,
          408721,
          653658,
          623349,
          712931,
          706436,
          717210,
          513407,
          439331,
          591267,
          697340,
          670681,
          727600,
          688074,
          499048,
          439210,
          625949,
          659374,
          744952,
          737302,
          732460,
          581077,
          481753,
          744732,
          797266,
          906982,
          996976,
          856016,
          693331,
          578659,
          1281218,
          1331053,
          1724220,
          1940530,
          1715008,
          1194627,
          911858,
          2422782,
          2525019,
          2564924,
          2632856,
          2926756,
          2143373,
          2011939,
          3164652,
          3088630,
          3519679,
          3169740,
          3280358,
          2448865,
          2146696,
          2697201,
          3788087,
          4206334,
          3691329,
          3810842,
          2718905,
          2417784,
          3476376,
          3659392,
          3830779,
          3695211,
          3600517,
          2654716,
          2262423,
          2756868,
          3296903,
          3214698,
          3162945,
          2924578,
          2225128,
          1816457,
          2543573,
          2842216,
          2455501,
          2766818,
          2386649,
          1827503,
          1451313,
          1790115,
          1790874,
          2419675,
          2033799,
          1940000,
          1552157,
          1266349,
          1457542,
          1805873,
          1939520,
          1755446,
          1591820,
          1328773,
          1065246,
          1403481,
          1536867,
          1651452,
          1887465,
          1704138,
          1361810
         ],
         "yaxis": "y"
        },
        {
         "mode": "lines",
         "name": "NewDeaths",
         "type": "scatter",
         "x": [
          "2020-01-22",
          "2020-01-23",
          "2020-01-24",
          "2020-01-25",
          "2020-01-26",
          "2020-01-27",
          "2020-01-28",
          "2020-01-29",
          "2020-01-30",
          "2020-01-31",
          "2020-02-01",
          "2020-02-02",
          "2020-02-03",
          "2020-02-04",
          "2020-02-05",
          "2020-02-06",
          "2020-02-07",
          "2020-02-08",
          "2020-02-09",
          "2020-02-10",
          "2020-02-11",
          "2020-02-12",
          "2020-02-13",
          "2020-02-14",
          "2020-02-15",
          "2020-02-16",
          "2020-02-17",
          "2020-02-18",
          "2020-02-19",
          "2020-02-20",
          "2020-02-21",
          "2020-02-22",
          "2020-02-23",
          "2020-02-24",
          "2020-02-25",
          "2020-02-26",
          "2020-02-27",
          "2020-02-28",
          "2020-02-29",
          "2020-03-01",
          "2020-03-02",
          "2020-03-03",
          "2020-03-04",
          "2020-03-05",
          "2020-03-06",
          "2020-03-07",
          "2020-03-08",
          "2020-03-09",
          "2020-03-10",
          "2020-03-11",
          "2020-03-12",
          "2020-03-13",
          "2020-03-14",
          "2020-03-15",
          "2020-03-16",
          "2020-03-17",
          "2020-03-18",
          "2020-03-19",
          "2020-03-20",
          "2020-03-21",
          "2020-03-22",
          "2020-03-23",
          "2020-03-24",
          "2020-03-25",
          "2020-03-26",
          "2020-03-27",
          "2020-03-28",
          "2020-03-29",
          "2020-03-30",
          "2020-03-31",
          "2020-04-01",
          "2020-04-02",
          "2020-04-03",
          "2020-04-04",
          "2020-04-05",
          "2020-04-06",
          "2020-04-07",
          "2020-04-08",
          "2020-04-09",
          "2020-04-10",
          "2020-04-11",
          "2020-04-12",
          "2020-04-13",
          "2020-04-14",
          "2020-04-15",
          "2020-04-16",
          "2020-04-17",
          "2020-04-18",
          "2020-04-19",
          "2020-04-20",
          "2020-04-21",
          "2020-04-22",
          "2020-04-23",
          "2020-04-24",
          "2020-04-25",
          "2020-04-26",
          "2020-04-27",
          "2020-04-28",
          "2020-04-29",
          "2020-04-30",
          "2020-05-01",
          "2020-05-02",
          "2020-05-03",
          "2020-05-04",
          "2020-05-05",
          "2020-05-06",
          "2020-05-07",
          "2020-05-08",
          "2020-05-09",
          "2020-05-10",
          "2020-05-11",
          "2020-05-12",
          "2020-05-13",
          "2020-05-14",
          "2020-05-15",
          "2020-05-16",
          "2020-05-17",
          "2020-05-18",
          "2020-05-19",
          "2020-05-20",
          "2020-05-21",
          "2020-05-22",
          "2020-05-23",
          "2020-05-24",
          "2020-05-25",
          "2020-05-26",
          "2020-05-27",
          "2020-05-28",
          "2020-05-29",
          "2020-05-30",
          "2020-05-31",
          "2020-06-01",
          "2020-06-02",
          "2020-06-03",
          "2020-06-04",
          "2020-06-05",
          "2020-06-06",
          "2020-06-07",
          "2020-06-08",
          "2020-06-09",
          "2020-06-10",
          "2020-06-11",
          "2020-06-12",
          "2020-06-13",
          "2020-06-14",
          "2020-06-15",
          "2020-06-16",
          "2020-06-17",
          "2020-06-18",
          "2020-06-19",
          "2020-06-20",
          "2020-06-21",
          "2020-06-22",
          "2020-06-23",
          "2020-06-24",
          "2020-06-25",
          "2020-06-26",
          "2020-06-27",
          "2020-06-28",
          "2020-06-29",
          "2020-06-30",
          "2020-07-01",
          "2020-07-02",
          "2020-07-03",
          "2020-07-04",
          "2020-07-05",
          "2020-07-06",
          "2020-07-07",
          "2020-07-08",
          "2020-07-09",
          "2020-07-10",
          "2020-07-11",
          "2020-07-12",
          "2020-07-13",
          "2020-07-14",
          "2020-07-15",
          "2020-07-16",
          "2020-07-17",
          "2020-07-18",
          "2020-07-19",
          "2020-07-20",
          "2020-07-21",
          "2020-07-22",
          "2020-07-23",
          "2020-07-24",
          "2020-07-25",
          "2020-07-26",
          "2020-07-27",
          "2020-07-28",
          "2020-07-29",
          "2020-07-30",
          "2020-07-31",
          "2020-08-01",
          "2020-08-02",
          "2020-08-03",
          "2020-08-04",
          "2020-08-05",
          "2020-08-06",
          "2020-08-07",
          "2020-08-08",
          "2020-08-09",
          "2020-08-10",
          "2020-08-11",
          "2020-08-12",
          "2020-08-13",
          "2020-08-14",
          "2020-08-15",
          "2020-08-16",
          "2020-08-17",
          "2020-08-18",
          "2020-08-19",
          "2020-08-20",
          "2020-08-21",
          "2020-08-22",
          "2020-08-23",
          "2020-08-24",
          "2020-08-25",
          "2020-08-26",
          "2020-08-27",
          "2020-08-28",
          "2020-08-29",
          "2020-08-30",
          "2020-08-31",
          "2020-09-01",
          "2020-09-02",
          "2020-09-03",
          "2020-09-04",
          "2020-09-05",
          "2020-09-06",
          "2020-09-07",
          "2020-09-08",
          "2020-09-09",
          "2020-09-10",
          "2020-09-11",
          "2020-09-12",
          "2020-09-13",
          "2020-09-14",
          "2020-09-15",
          "2020-09-16",
          "2020-09-17",
          "2020-09-18",
          "2020-09-19",
          "2020-09-20",
          "2020-09-21",
          "2020-09-22",
          "2020-09-23",
          "2020-09-24",
          "2020-09-25",
          "2020-09-26",
          "2020-09-27",
          "2020-09-28",
          "2020-09-29",
          "2020-09-30",
          "2020-10-01",
          "2020-10-02",
          "2020-10-03",
          "2020-10-04",
          "2020-10-05",
          "2020-10-06",
          "2020-10-07",
          "2020-10-08",
          "2020-10-09",
          "2020-10-10",
          "2020-10-11",
          "2020-10-12",
          "2020-10-13",
          "2020-10-14",
          "2020-10-15",
          "2020-10-16",
          "2020-10-17",
          "2020-10-18",
          "2020-10-19",
          "2020-10-20",
          "2020-10-21",
          "2020-10-22",
          "2020-10-23",
          "2020-10-24",
          "2020-10-25",
          "2020-10-26",
          "2020-10-27",
          "2020-10-28",
          "2020-10-29",
          "2020-10-30",
          "2020-10-31",
          "2020-11-01",
          "2020-11-02",
          "2020-11-03",
          "2020-11-04",
          "2020-11-05",
          "2020-11-06",
          "2020-11-07",
          "2020-11-08",
          "2020-11-09",
          "2020-11-10",
          "2020-11-11",
          "2020-11-12",
          "2020-11-13",
          "2020-11-14",
          "2020-11-15",
          "2020-11-16",
          "2020-11-17",
          "2020-11-18",
          "2020-11-19",
          "2020-11-20",
          "2020-11-21",
          "2020-11-22",
          "2020-11-23",
          "2020-11-24",
          "2020-11-25",
          "2020-11-26",
          "2020-11-27",
          "2020-11-28",
          "2020-11-29",
          "2020-11-30",
          "2020-12-01",
          "2020-12-02",
          "2020-12-03",
          "2020-12-04",
          "2020-12-05",
          "2020-12-06",
          "2020-12-07",
          "2020-12-08",
          "2020-12-09",
          "2020-12-10",
          "2020-12-11",
          "2020-12-12",
          "2020-12-13",
          "2020-12-14",
          "2020-12-15",
          "2020-12-16",
          "2020-12-17",
          "2020-12-18",
          "2020-12-19",
          "2020-12-20",
          "2020-12-21",
          "2020-12-22",
          "2020-12-23",
          "2020-12-24",
          "2020-12-25",
          "2020-12-26",
          "2020-12-27",
          "2020-12-28",
          "2020-12-29",
          "2020-12-30",
          "2020-12-31",
          "2021-01-01",
          "2021-01-02",
          "2021-01-03",
          "2021-01-04",
          "2021-01-05",
          "2021-01-06",
          "2021-01-07",
          "2021-01-08",
          "2021-01-09",
          "2021-01-10",
          "2021-01-11",
          "2021-01-12",
          "2021-01-13",
          "2021-01-14",
          "2021-01-15",
          "2021-01-16",
          "2021-01-17",
          "2021-01-18",
          "2021-01-19",
          "2021-01-20",
          "2021-01-21",
          "2021-01-22",
          "2021-01-23",
          "2021-01-24",
          "2021-01-25",
          "2021-01-26",
          "2021-01-27",
          "2021-01-28",
          "2021-01-29",
          "2021-01-30",
          "2021-01-31",
          "2021-02-01",
          "2021-02-02",
          "2021-02-03",
          "2021-02-04",
          "2021-02-05",
          "2021-02-06",
          "2021-02-07",
          "2021-02-08",
          "2021-02-09",
          "2021-02-10",
          "2021-02-11",
          "2021-02-12",
          "2021-02-13",
          "2021-02-14",
          "2021-02-15",
          "2021-02-16",
          "2021-02-17",
          "2021-02-18",
          "2021-02-19",
          "2021-02-20",
          "2021-02-21",
          "2021-02-22",
          "2021-02-23",
          "2021-02-24",
          "2021-02-25",
          "2021-02-26",
          "2021-02-27",
          "2021-02-28",
          "2021-03-01",
          "2021-03-02",
          "2021-03-03",
          "2021-03-04",
          "2021-03-05",
          "2021-03-06",
          "2021-03-07",
          "2021-03-08",
          "2021-03-09",
          "2021-03-10",
          "2021-03-11",
          "2021-03-12",
          "2021-03-13",
          "2021-03-14",
          "2021-03-15",
          "2021-03-16",
          "2021-03-17",
          "2021-03-18",
          "2021-03-19",
          "2021-03-20",
          "2021-03-21",
          "2021-03-22",
          "2021-03-23",
          "2021-03-24",
          "2021-03-25",
          "2021-03-26",
          "2021-03-27",
          "2021-03-28",
          "2021-03-29",
          "2021-03-30",
          "2021-03-31",
          "2021-04-01",
          "2021-04-02",
          "2021-04-03",
          "2021-04-04",
          "2021-04-05",
          "2021-04-06",
          "2021-04-07",
          "2021-04-08",
          "2021-04-09",
          "2021-04-10",
          "2021-04-11",
          "2021-04-12",
          "2021-04-13",
          "2021-04-14",
          "2021-04-15",
          "2021-04-16",
          "2021-04-17",
          "2021-04-18",
          "2021-04-19",
          "2021-04-20",
          "2021-04-21",
          "2021-04-22",
          "2021-04-23",
          "2021-04-24",
          "2021-04-25",
          "2021-04-26",
          "2021-04-27",
          "2021-04-28",
          "2021-04-29",
          "2021-04-30",
          "2021-05-01",
          "2021-05-02",
          "2021-05-03",
          "2021-05-04",
          "2021-05-05",
          "2021-05-06",
          "2021-05-07",
          "2021-05-08",
          "2021-05-09",
          "2021-05-10",
          "2021-05-11",
          "2021-05-12",
          "2021-05-13",
          "2021-05-14",
          "2021-05-15",
          "2021-05-16",
          "2021-05-17",
          "2021-05-18",
          "2021-05-19",
          "2021-05-20",
          "2021-05-21",
          "2021-05-22",
          "2021-05-23",
          "2021-05-24",
          "2021-05-25",
          "2021-05-26",
          "2021-05-27",
          "2021-05-28",
          "2021-05-29",
          "2021-05-30",
          "2021-05-31",
          "2021-06-01",
          "2021-06-02",
          "2021-06-03",
          "2021-06-04",
          "2021-06-05",
          "2021-06-06",
          "2021-06-07",
          "2021-06-08",
          "2021-06-09",
          "2021-06-10",
          "2021-06-11",
          "2021-06-12",
          "2021-06-13",
          "2021-06-14",
          "2021-06-15",
          "2021-06-16",
          "2021-06-17",
          "2021-06-18",
          "2021-06-19",
          "2021-06-20",
          "2021-06-21",
          "2021-06-22",
          "2021-06-23",
          "2021-06-24",
          "2021-06-25",
          "2021-06-26",
          "2021-06-27",
          "2021-06-28",
          "2021-06-29",
          "2021-06-30",
          "2021-07-01",
          "2021-07-02",
          "2021-07-03",
          "2021-07-04",
          "2021-07-05",
          "2021-07-06",
          "2021-07-07",
          "2021-07-08",
          "2021-07-09",
          "2021-07-10",
          "2021-07-11",
          "2021-07-12",
          "2021-07-13",
          "2021-07-14",
          "2021-07-15",
          "2021-07-16",
          "2021-07-17",
          "2021-07-18",
          "2021-07-19",
          "2021-07-20",
          "2021-07-21",
          "2021-07-22",
          "2021-07-23",
          "2021-07-24",
          "2021-07-25",
          "2021-07-26",
          "2021-07-27",
          "2021-07-28",
          "2021-07-29",
          "2021-07-30",
          "2021-07-31",
          "2021-08-01",
          "2021-08-02",
          "2021-08-03",
          "2021-08-04",
          "2021-08-05",
          "2021-08-06",
          "2021-08-07",
          "2021-08-08",
          "2021-08-09",
          "2021-08-10",
          "2021-08-11",
          "2021-08-12",
          "2021-08-13",
          "2021-08-14",
          "2021-08-15",
          "2021-08-16",
          "2021-08-17",
          "2021-08-18",
          "2021-08-19",
          "2021-08-20",
          "2021-08-21",
          "2021-08-22",
          "2021-08-23",
          "2021-08-24",
          "2021-08-25",
          "2021-08-26",
          "2021-08-27",
          "2021-08-28",
          "2021-08-29",
          "2021-08-30",
          "2021-08-31",
          "2021-09-01",
          "2021-09-02",
          "2021-09-03",
          "2021-09-04",
          "2021-09-05",
          "2021-09-06",
          "2021-09-07",
          "2021-09-08",
          "2021-09-09",
          "2021-09-10",
          "2021-09-11",
          "2021-09-12",
          "2021-09-13",
          "2021-09-14",
          "2021-09-15",
          "2021-09-16",
          "2021-09-17",
          "2021-09-18",
          "2021-09-19",
          "2021-09-20",
          "2021-09-21",
          "2021-09-22",
          "2021-09-23",
          "2021-09-24",
          "2021-09-25",
          "2021-09-26",
          "2021-09-27",
          "2021-09-28",
          "2021-09-29",
          "2021-09-30",
          "2021-10-01",
          "2021-10-02",
          "2021-10-03",
          "2021-10-04",
          "2021-10-05",
          "2021-10-06",
          "2021-10-07",
          "2021-10-08",
          "2021-10-09",
          "2021-10-10",
          "2021-10-11",
          "2021-10-12",
          "2021-10-13",
          "2021-10-14",
          "2021-10-15",
          "2021-10-16",
          "2021-10-17",
          "2021-10-18",
          "2021-10-19",
          "2021-10-20",
          "2021-10-21",
          "2021-10-22",
          "2021-10-23",
          "2021-10-24",
          "2021-10-25",
          "2021-10-26",
          "2021-10-27",
          "2021-10-28",
          "2021-10-29",
          "2021-10-30",
          "2021-10-31",
          "2021-11-01",
          "2021-11-02",
          "2021-11-03",
          "2021-11-04",
          "2021-11-05",
          "2021-11-06",
          "2021-11-07",
          "2021-11-08",
          "2021-11-09",
          "2021-11-10",
          "2021-11-11",
          "2021-11-12",
          "2021-11-13",
          "2021-11-14",
          "2021-11-15",
          "2021-11-16",
          "2021-11-17",
          "2021-11-18",
          "2021-11-19",
          "2021-11-20",
          "2021-11-21",
          "2021-11-22",
          "2021-11-23",
          "2021-11-24",
          "2021-11-25",
          "2021-11-26",
          "2021-11-27",
          "2021-11-28",
          "2021-11-29",
          "2021-11-30",
          "2021-12-01",
          "2021-12-02",
          "2021-12-03",
          "2021-12-04",
          "2021-12-05",
          "2021-12-06",
          "2021-12-07",
          "2021-12-08",
          "2021-12-09",
          "2021-12-10",
          "2021-12-11",
          "2021-12-12",
          "2021-12-13",
          "2021-12-14",
          "2021-12-15",
          "2021-12-16",
          "2021-12-17",
          "2021-12-18",
          "2021-12-19",
          "2021-12-20",
          "2021-12-21",
          "2021-12-22",
          "2021-12-23",
          "2021-12-24",
          "2021-12-25",
          "2021-12-26",
          "2021-12-27",
          "2021-12-28",
          "2021-12-29",
          "2021-12-30",
          "2021-12-31",
          "2022-01-01",
          "2022-01-02",
          "2022-01-03",
          "2022-01-04",
          "2022-01-05",
          "2022-01-06",
          "2022-01-07",
          "2022-01-08",
          "2022-01-09",
          "2022-01-10",
          "2022-01-11",
          "2022-01-12",
          "2022-01-13",
          "2022-01-14",
          "2022-01-15",
          "2022-01-16",
          "2022-01-17",
          "2022-01-18",
          "2022-01-19",
          "2022-01-20",
          "2022-01-21",
          "2022-01-22",
          "2022-01-23",
          "2022-01-24",
          "2022-01-25",
          "2022-01-26",
          "2022-01-27",
          "2022-01-28",
          "2022-01-29",
          "2022-01-30",
          "2022-01-31",
          "2022-02-01",
          "2022-02-02",
          "2022-02-03",
          "2022-02-04",
          "2022-02-05",
          "2022-02-06",
          "2022-02-07",
          "2022-02-08",
          "2022-02-09",
          "2022-02-10",
          "2022-02-11",
          "2022-02-12",
          "2022-02-13",
          "2022-02-14",
          "2022-02-15",
          "2022-02-16",
          "2022-02-17",
          "2022-02-18",
          "2022-02-19",
          "2022-02-20",
          "2022-02-21",
          "2022-02-22",
          "2022-02-23",
          "2022-02-24",
          "2022-02-25",
          "2022-02-26",
          "2022-02-27",
          "2022-02-28",
          "2022-03-01",
          "2022-03-02",
          "2022-03-03",
          "2022-03-04",
          "2022-03-05"
         ],
         "xaxis": "x2",
         "y": [
          0,
          1,
          8,
          16,
          14,
          26,
          49,
          2,
          38,
          42,
          46,
          103,
          64,
          66,
          72,
          70,
          85,
          87,
          100,
          107,
          100,
          5,
          253,
          152,
          143,
          104,
          98,
          140,
          115,
          125,
          4,
          207,
          11,
          160,
          80,
          61,
          43,
          59,
          70,
          54,
          89,
          74,
          95,
          93,
          113,
          105,
          241,
          190,
          276,
          345,
          310,
          494,
          422,
          646,
          693,
          817,
          920,
          1120,
          1500,
          1731,
          1690,
          1965,
          2321,
          2835,
          3051,
          3500,
          3855,
          3500,
          4103,
          4768,
          6049,
          5930,
          6248,
          6226,
          5268,
          5990,
          8382,
          6906,
          7882,
          7457,
          6353,
          5995,
          6094,
          7146,
          8576,
          7414,
          8576,
          6249,
          5382,
          6069,
          7364,
          7019,
          6995,
          6900,
          5886,
          4253,
          4910,
          6819,
          6911,
          6045,
          5466,
          5850,
          3841,
          4450,
          6099,
          6864,
          5670,
          5895,
          4552,
          4046,
          3894,
          5848,
          5473,
          5579,
          5634,
          4534,
          3578,
          4153,
          5354,
          5367,
          4959,
          5688,
          4372,
          3555,
          3442,
          4640,
          5369,
          5030,
          5157,
          4277,
          3140,
          3640,
          5284,
          5679,
          5435,
          5121,
          4082,
          3116,
          4335,
          5111,
          5435,
          5082,
          4733,
          4402,
          3659,
          3988,
          7135,
          5481,
          5322,
          5160,
          4444,
          4589,
          3795,
          5582,
          5498,
          5082,
          5080,
          4691,
          3573,
          4021,
          5237,
          5370,
          5477,
          5234,
          4767,
          3803,
          4215,
          6384,
          5636,
          5803,
          5743,
          5104,
          4285,
          4380,
          5989,
          5896,
          6165,
          6991,
          6502,
          4891,
          3921,
          6371,
          7372,
          6642,
          6455,
          6072,
          4353,
          5296,
          6946,
          6651,
          6753,
          6585,
          6002,
          4665,
          4792,
          7175,
          7386,
          6818,
          6747,
          6011,
          5169,
          5363,
          6633,
          6948,
          6792,
          6581,
          6017,
          4786,
          4617,
          7050,
          7009,
          6448,
          6185,
          5810,
          4313,
          4836,
          6573,
          6680,
          6222,
          5827,
          5820,
          4265,
          4425,
          6605,
          6294,
          6104,
          5892,
          5120,
          4122,
          5758,
          5137,
          6258,
          6049,
          6003,
          5056,
          3953,
          4593,
          6576,
          5878,
          5650,
          5858,
          5318,
          3967,
          4410,
          6171,
          6548,
          5686,
          6018,
          5442,
          3851,
          4081,
          6106,
          6462,
          8906,
          5608,
          4732,
          3991,
          4278,
          5859,
          5908,
          6370,
          6191,
          4893,
          4130,
          4066,
          5419,
          6193,
          6190,
          6215,
          5702,
          3861,
          4745,
          6648,
          6862,
          5935,
          7067,
          5874,
          4287,
          5627,
          7468,
          7225,
          7214,
          7695,
          6600,
          5134,
          6185,
          9494,
          10200,
          8716,
          9124,
          7696,
          6104,
          7207,
          10073,
          10523,
          9789,
          9767,
          9065,
          6588,
          7939,
          11093,
          11429,
          11153,
          11770,
          9030,
          7441,
          8527,
          12731,
          12139,
          11042,
          11456,
          9266,
          7295,
          8967,
          12759,
          12643,
          12600,
          12460,
          10337,
          7729,
          8714,
          12317,
          12670,
          12665,
          13065,
          10759,
          7827,
          9172,
          13776,
          13879,
          13384,
          12938,
          10971,
          8122,
          9568,
          14202,
          13803,
          11823,
          8729,
          7571,
          7750,
          9621,
          15100,
          15633,
          13252,
          9713,
          8472,
          7651,
          10058,
          15476,
          15069,
          15152,
          15397,
          12847,
          8831,
          10081,
          17168,
          16873,
          15471,
          15022,
          13716,
          9085,
          9771,
          16610,
          18020,
          17155,
          16060,
          13921,
          9197,
          11026,
          17445,
          17355,
          17029,
          15388,
          13506,
          8771,
          10353,
          15416,
          16035,
          13001,
          17138,
          11400,
          7298,
          9491,
          15431,
          14035,
          13779,
          13028,
          10419,
          6649,
          7479,
          11352,
          11963,
          11920,
          11692,
          8751,
          6518,
          7374,
          11685,
          12532,
          10657,
          10793,
          8493,
          6264,
          7701,
          10426,
          11764,
          10407,
          10515,
          8097,
          5895,
          7254,
          10614,
          10233,
          10198,
          9885,
          8403,
          5861,
          7664,
          10647,
          10599,
          10736,
          10830,
          8683,
          8470,
          8060,
          11488,
          10740,
          11525,
          12759,
          10148,
          7213,
          8764,
          12022,
          12880,
          12342,
          10532,
          9282,
          7357,
          8273,
          12496,
          15589,
          14339,
          14325,
          12859,
          9079,
          10092,
          13867,
          14050,
          13607,
          13359,
          12468,
          9107,
          11326,
          14353,
          14659,
          13888,
          15301,
          12961,
          10685,
          11868,
          14989,
          15923,
          15754,
          14342,
          12907,
          10277,
          11874,
          14088,
          14840,
          14646,
          14481,
          13196,
          10329,
          11293,
          14181,
          13950,
          13588,
          12992,
          12161,
          10260,
          11471,
          14142,
          13441,
          13165,
          12924,
          11343,
          9781,
          9115,
          13203,
          12787,
          12856,
          11986,
          10701,
          8344,
          8793,
          10973,
          11885,
          10092,
          10684,
          9347,
          7226,
          8169,
          10628,
          10136,
          8607,
          11770,
          9695,
          9253,
          8061,
          10795,
          10024,
          9302,
          9214,
          8077,
          6726,
          7049,
          8928,
          9396,
          8622,
          9237,
          7470,
          6073,
          6596,
          8150,
          9199,
          8556,
          8294,
          6907,
          6612,
          7387,
          8509,
          8521,
          8930,
          8355,
          7263,
          7601,
          8091,
          8384,
          8618,
          8589,
          8651,
          7495,
          6628,
          7169,
          11928,
          8675,
          8774,
          8298,
          8682,
          7320,
          8451,
          9831,
          10255,
          10251,
          9555,
          8806,
          7358,
          8070,
          10417,
          10500,
          10941,
          10472,
          8649,
          7431,
          8750,
          11619,
          10508,
          10495,
          10457,
          8712,
          7394,
          9795,
          10769,
          10787,
          11436,
          10510,
          8881,
          7664,
          10015,
          11048,
          11282,
          11619,
          10337,
          8421,
          6715,
          9537,
          9484,
          12498,
          11183,
          10718,
          7721,
          6459,
          8035,
          10485,
          10053,
          10828,
          9140,
          8327,
          5551,
          9088,
          9953,
          10478,
          10469,
          9047,
          6500,
          5961,
          8218,
          9328,
          9943,
          9781,
          8725,
          5434,
          5433,
          7751,
          9422,
          9269,
          8833,
          8607,
          5878,
          4244,
          7167,
          7429,
          9141,
          8962,
          7776,
          4857,
          4669,
          5745,
          8122,
          8857,
          7984,
          7233,
          5282,
          4274,
          6454,
          8245,
          8691,
          7704,
          8191,
          5823,
          4516,
          6643,
          7915,
          9178,
          8801,
          7873,
          6001,
          4483,
          6276,
          7283,
          8416,
          7605,
          8611,
          6644,
          4486,
          6667,
          8229,
          8282,
          7625,
          9099,
          6280,
          4621,
          6891,
          7726,
          9212,
          8304,
          8066,
          6067,
          4543,
          7260,
          8079,
          8680,
          7834,
          6825,
          5956,
          4791,
          7743,
          7989,
          9327,
          10168,
          8596,
          5524,
          7343,
          6814,
          8395,
          7948,
          8859,
          8126,
          5979,
          4540,
          6590,
          7755,
          9191,
          7314,
          7006,
          6067,
          4323,
          6946,
          7673,
          8245,
          9307,
          5885,
          4254,
          3602,
          6725,
          7478,
          8038,
          7573,
          6008,
          4295,
          3214,
          6089,
          7992,
          7986,
          6847,
          7220,
          5351,
          3933,
          6424,
          9510,
          9240,
          8108,
          7734,
          6196,
          4321,
          6233,
          9242,
          10567,
          9454,
          9849,
          6115,
          4966,
          8627,
          10811,
          10953,
          10402,
          12120,
          7906,
          5598,
          9729,
          13275,
          12220,
          11589,
          13330,
          8299,
          5855,
          10700,
          13286,
          13311,
          11699,
          12108,
          8724,
          5094,
          10671,
          10581,
          13077,
          12712,
          10579,
          8384,
          5305,
          7435,
          9410,
          11706,
          10735,
          9080,
          6392,
          4417,
          7759,
          8069,
          7945,
          8384,
          8771,
          5443
         ],
         "yaxis": "y2"
        }
       ],
       "layout": {
        "annotations": [
         {
          "font": {
           "size": 16
          },
          "showarrow": false,
          "text": "Số ca mắc mới mỗi ngày",
          "x": 0.5,
          "xanchor": "center",
          "xref": "paper",
          "y": 1,
          "yanchor": "bottom",
          "yref": "paper"
         },
         {
          "font": {
           "size": 16
          },
          "showarrow": false,
          "text": "Số ca tử vong mới mỗi ngày",
          "x": 0.5,
          "xanchor": "center",
          "xref": "paper",
          "y": 0.375,
          "yanchor": "bottom",
          "yref": "paper"
         }
        ],
        "height": 600,
        "template": {
         "data": {
          "bar": [
           {
            "error_x": {
             "color": "#f2f5fa"
            },
            "error_y": {
             "color": "#f2f5fa"
            },
            "marker": {
             "line": {
              "color": "rgb(17,17,17)",
              "width": 0.5
             },
             "pattern": {
              "fillmode": "overlay",
              "size": 10,
              "solidity": 0.2
             }
            },
            "type": "bar"
           }
          ],
          "barpolar": [
           {
            "marker": {
             "line": {
              "color": "rgb(17,17,17)",
              "width": 0.5
             },
             "pattern": {
              "fillmode": "overlay",
              "size": 10,
              "solidity": 0.2
             }
            },
            "type": "barpolar"
           }
          ],
          "carpet": [
           {
            "aaxis": {
             "endlinecolor": "#A2B1C6",
             "gridcolor": "#506784",
             "linecolor": "#506784",
             "minorgridcolor": "#506784",
             "startlinecolor": "#A2B1C6"
            },
            "baxis": {
             "endlinecolor": "#A2B1C6",
             "gridcolor": "#506784",
             "linecolor": "#506784",
             "minorgridcolor": "#506784",
             "startlinecolor": "#A2B1C6"
            },
            "type": "carpet"
           }
          ],
          "choropleth": [
           {
            "colorbar": {
             "outlinewidth": 0,
             "ticks": ""
            },
            "type": "choropleth"
           }
          ],
          "contour": [
           {
            "colorbar": {
             "outlinewidth": 0,
             "ticks": ""
            },
            "colorscale": [
             [
              0,
              "#0d0887"
             ],
             [
              0.1111111111111111,
              "#46039f"
             ],
             [
              0.2222222222222222,
              "#7201a8"
             ],
             [
              0.3333333333333333,
              "#9c179e"
             ],
             [
              0.4444444444444444,
              "#bd3786"
             ],
             [
              0.5555555555555556,
              "#d8576b"
             ],
             [
              0.6666666666666666,
              "#ed7953"
             ],
             [
              0.7777777777777778,
              "#fb9f3a"
             ],
             [
              0.8888888888888888,
              "#fdca26"
             ],
             [
              1,
              "#f0f921"
             ]
            ],
            "type": "contour"
           }
          ],
          "contourcarpet": [
           {
            "colorbar": {
             "outlinewidth": 0,
             "ticks": ""
            },
            "type": "contourcarpet"
           }
          ],
          "heatmap": [
           {
            "colorbar": {
             "outlinewidth": 0,
             "ticks": ""
            },
            "colorscale": [
             [
              0,
              "#0d0887"
             ],
             [
              0.1111111111111111,
              "#46039f"
             ],
             [
              0.2222222222222222,
              "#7201a8"
             ],
             [
              0.3333333333333333,
              "#9c179e"
             ],
             [
              0.4444444444444444,
              "#bd3786"
             ],
             [
              0.5555555555555556,
              "#d8576b"
             ],
             [
              0.6666666666666666,
              "#ed7953"
             ],
             [
              0.7777777777777778,
              "#fb9f3a"
             ],
             [
              0.8888888888888888,
              "#fdca26"
             ],
             [
              1,
              "#f0f921"
             ]
            ],
            "type": "heatmap"
           }
          ],
          "heatmapgl": [
           {
            "colorbar": {
             "outlinewidth": 0,
             "ticks": ""
            },
            "colorscale": [
             [
              0,
              "#0d0887"
             ],
             [
              0.1111111111111111,
              "#46039f"
             ],
             [
              0.2222222222222222,
              "#7201a8"
             ],
             [
              0.3333333333333333,
              "#9c179e"
             ],
             [
              0.4444444444444444,
              "#bd3786"
             ],
             [
              0.5555555555555556,
              "#d8576b"
             ],
             [
              0.6666666666666666,
              "#ed7953"
             ],
             [
              0.7777777777777778,
              "#fb9f3a"
             ],
             [
              0.8888888888888888,
              "#fdca26"
             ],
             [
              1,
              "#f0f921"
             ]
            ],
            "type": "heatmapgl"
           }
          ],
          "histogram": [
           {
            "marker": {
             "pattern": {
              "fillmode": "overlay",
              "size": 10,
              "solidity": 0.2
             }
            },
            "type": "histogram"
           }
          ],
          "histogram2d": [
           {
            "colorbar": {
             "outlinewidth": 0,
             "ticks": ""
            },
            "colorscale": [
             [
              0,
              "#0d0887"
             ],
             [
              0.1111111111111111,
              "#46039f"
             ],
             [
              0.2222222222222222,
              "#7201a8"
             ],
             [
              0.3333333333333333,
              "#9c179e"
             ],
             [
              0.4444444444444444,
              "#bd3786"
             ],
             [
              0.5555555555555556,
              "#d8576b"
             ],
             [
              0.6666666666666666,
              "#ed7953"
             ],
             [
              0.7777777777777778,
              "#fb9f3a"
             ],
             [
              0.8888888888888888,
              "#fdca26"
             ],
             [
              1,
              "#f0f921"
             ]
            ],
            "type": "histogram2d"
           }
          ],
          "histogram2dcontour": [
           {
            "colorbar": {
             "outlinewidth": 0,
             "ticks": ""
            },
            "colorscale": [
             [
              0,
              "#0d0887"
             ],
             [
              0.1111111111111111,
              "#46039f"
             ],
             [
              0.2222222222222222,
              "#7201a8"
             ],
             [
              0.3333333333333333,
              "#9c179e"
             ],
             [
              0.4444444444444444,
              "#bd3786"
             ],
             [
              0.5555555555555556,
              "#d8576b"
             ],
             [
              0.6666666666666666,
              "#ed7953"
             ],
             [
              0.7777777777777778,
              "#fb9f3a"
             ],
             [
              0.8888888888888888,
              "#fdca26"
             ],
             [
              1,
              "#f0f921"
             ]
            ],
            "type": "histogram2dcontour"
           }
          ],
          "mesh3d": [
           {
            "colorbar": {
             "outlinewidth": 0,
             "ticks": ""
            },
            "type": "mesh3d"
           }
          ],
          "parcoords": [
           {
            "line": {
             "colorbar": {
              "outlinewidth": 0,
              "ticks": ""
             }
            },
            "type": "parcoords"
           }
          ],
          "pie": [
           {
            "automargin": true,
            "type": "pie"
           }
          ],
          "scatter": [
           {
            "marker": {
             "line": {
              "color": "#283442"
             }
            },
            "type": "scatter"
           }
          ],
          "scatter3d": [
           {
            "line": {
             "colorbar": {
              "outlinewidth": 0,
              "ticks": ""
             }
            },
            "marker": {
             "colorbar": {
              "outlinewidth": 0,
              "ticks": ""
             }
            },
            "type": "scatter3d"
           }
          ],
          "scattercarpet": [
           {
            "marker": {
             "colorbar": {
              "outlinewidth": 0,
              "ticks": ""
             }
            },
            "type": "scattercarpet"
           }
          ],
          "scattergeo": [
           {
            "marker": {
             "colorbar": {
              "outlinewidth": 0,
              "ticks": ""
             }
            },
            "type": "scattergeo"
           }
          ],
          "scattergl": [
           {
            "marker": {
             "line": {
              "color": "#283442"
             }
            },
            "type": "scattergl"
           }
          ],
          "scattermapbox": [
           {
            "marker": {
             "colorbar": {
              "outlinewidth": 0,
              "ticks": ""
             }
            },
            "type": "scattermapbox"
           }
          ],
          "scatterpolar": [
           {
            "marker": {
             "colorbar": {
              "outlinewidth": 0,
              "ticks": ""
             }
            },
            "type": "scatterpolar"
           }
          ],
          "scatterpolargl": [
           {
            "marker": {
             "colorbar": {
              "outlinewidth": 0,
              "ticks": ""
             }
            },
            "type": "scatterpolargl"
           }
          ],
          "scatterternary": [
           {
            "marker": {
             "colorbar": {
              "outlinewidth": 0,
              "ticks": ""
             }
            },
            "type": "scatterternary"
           }
          ],
          "surface": [
           {
            "colorbar": {
             "outlinewidth": 0,
             "ticks": ""
            },
            "colorscale": [
             [
              0,
              "#0d0887"
             ],
             [
              0.1111111111111111,
              "#46039f"
             ],
             [
              0.2222222222222222,
              "#7201a8"
             ],
             [
              0.3333333333333333,
              "#9c179e"
             ],
             [
              0.4444444444444444,
              "#bd3786"
             ],
             [
              0.5555555555555556,
              "#d8576b"
             ],
             [
              0.6666666666666666,
              "#ed7953"
             ],
             [
              0.7777777777777778,
              "#fb9f3a"
             ],
             [
              0.8888888888888888,
              "#fdca26"
             ],
             [
              1,
              "#f0f921"
             ]
            ],
            "type": "surface"
           }
          ],
          "table": [
           {
            "cells": {
             "fill": {
              "color": "#506784"
             },
             "line": {
              "color": "rgb(17,17,17)"
             }
            },
            "header": {
             "fill": {
              "color": "#2a3f5f"
             },
             "line": {
              "color": "rgb(17,17,17)"
             }
            },
            "type": "table"
           }
          ]
         },
         "layout": {
          "annotationdefaults": {
           "arrowcolor": "#f2f5fa",
           "arrowhead": 0,
           "arrowwidth": 1
          },
          "autotypenumbers": "strict",
          "coloraxis": {
           "colorbar": {
            "outlinewidth": 0,
            "ticks": ""
           }
          },
          "colorscale": {
           "diverging": [
            [
             0,
             "#8e0152"
            ],
            [
             0.1,
             "#c51b7d"
            ],
            [
             0.2,
             "#de77ae"
            ],
            [
             0.3,
             "#f1b6da"
            ],
            [
             0.4,
             "#fde0ef"
            ],
            [
             0.5,
             "#f7f7f7"
            ],
            [
             0.6,
             "#e6f5d0"
            ],
            [
             0.7,
             "#b8e186"
            ],
            [
             0.8,
             "#7fbc41"
            ],
            [
             0.9,
             "#4d9221"
            ],
            [
             1,
             "#276419"
            ]
           ],
           "sequential": [
            [
             0,
             "#0d0887"
            ],
            [
             0.1111111111111111,
             "#46039f"
            ],
            [
             0.2222222222222222,
             "#7201a8"
            ],
            [
             0.3333333333333333,
             "#9c179e"
            ],
            [
             0.4444444444444444,
             "#bd3786"
            ],
            [
             0.5555555555555556,
             "#d8576b"
            ],
            [
             0.6666666666666666,
             "#ed7953"
            ],
            [
             0.7777777777777778,
             "#fb9f3a"
            ],
            [
             0.8888888888888888,
             "#fdca26"
            ],
            [
             1,
             "#f0f921"
            ]
           ],
           "sequentialminus": [
            [
             0,
             "#0d0887"
            ],
            [
             0.1111111111111111,
             "#46039f"
            ],
            [
             0.2222222222222222,
             "#7201a8"
            ],
            [
             0.3333333333333333,
             "#9c179e"
            ],
            [
             0.4444444444444444,
             "#bd3786"
            ],
            [
             0.5555555555555556,
             "#d8576b"
            ],
            [
             0.6666666666666666,
             "#ed7953"
            ],
            [
             0.7777777777777778,
             "#fb9f3a"
            ],
            [
             0.8888888888888888,
             "#fdca26"
            ],
            [
             1,
             "#f0f921"
            ]
           ]
          },
          "colorway": [
           "#636efa",
           "#EF553B",
           "#00cc96",
           "#ab63fa",
           "#FFA15A",
           "#19d3f3",
           "#FF6692",
           "#B6E880",
           "#FF97FF",
           "#FECB52"
          ],
          "font": {
           "color": "#f2f5fa"
          },
          "geo": {
           "bgcolor": "rgb(17,17,17)",
           "lakecolor": "rgb(17,17,17)",
           "landcolor": "rgb(17,17,17)",
           "showlakes": true,
           "showland": true,
           "subunitcolor": "#506784"
          },
          "hoverlabel": {
           "align": "left"
          },
          "hovermode": "closest",
          "mapbox": {
           "style": "dark"
          },
          "paper_bgcolor": "rgb(17,17,17)",
          "plot_bgcolor": "rgb(17,17,17)",
          "polar": {
           "angularaxis": {
            "gridcolor": "#506784",
            "linecolor": "#506784",
            "ticks": ""
           },
           "bgcolor": "rgb(17,17,17)",
           "radialaxis": {
            "gridcolor": "#506784",
            "linecolor": "#506784",
            "ticks": ""
           }
          },
          "scene": {
           "xaxis": {
            "backgroundcolor": "rgb(17,17,17)",
            "gridcolor": "#506784",
            "gridwidth": 2,
            "linecolor": "#506784",
            "showbackground": true,
            "ticks": "",
            "zerolinecolor": "#C8D4E3"
           },
           "yaxis": {
            "backgroundcolor": "rgb(17,17,17)",
            "gridcolor": "#506784",
            "gridwidth": 2,
            "linecolor": "#506784",
            "showbackground": true,
            "ticks": "",
            "zerolinecolor": "#C8D4E3"
           },
           "zaxis": {
            "backgroundcolor": "rgb(17,17,17)",
            "gridcolor": "#506784",
            "gridwidth": 2,
            "linecolor": "#506784",
            "showbackground": true,
            "ticks": "",
            "zerolinecolor": "#C8D4E3"
           }
          },
          "shapedefaults": {
           "line": {
            "color": "#f2f5fa"
           }
          },
          "sliderdefaults": {
           "bgcolor": "#C8D4E3",
           "bordercolor": "rgb(17,17,17)",
           "borderwidth": 1,
           "tickwidth": 0
          },
          "ternary": {
           "aaxis": {
            "gridcolor": "#506784",
            "linecolor": "#506784",
            "ticks": ""
           },
           "baxis": {
            "gridcolor": "#506784",
            "linecolor": "#506784",
            "ticks": ""
           },
           "bgcolor": "rgb(17,17,17)",
           "caxis": {
            "gridcolor": "#506784",
            "linecolor": "#506784",
            "ticks": ""
           }
          },
          "title": {
           "x": 0.05
          },
          "updatemenudefaults": {
           "bgcolor": "#506784",
           "borderwidth": 0
          },
          "xaxis": {
           "automargin": true,
           "gridcolor": "#283442",
           "linecolor": "#506784",
           "ticks": "",
           "title": {
            "standoff": 15
           },
           "zerolinecolor": "#283442",
           "zerolinewidth": 2
          },
          "yaxis": {
           "automargin": true,
           "gridcolor": "#283442",
           "linecolor": "#506784",
           "ticks": "",
           "title": {
            "standoff": 15
           },
           "zerolinecolor": "#283442",
           "zerolinewidth": 2
          }
         }
        },
        "title": {
         "text": "Biểu đồ thể hiện số ca mắc và tử vong mới theo ngày kể từ đầu đại dịch"
        },
        "width": 1200,
        "xaxis": {
         "anchor": "y",
         "domain": [
          0,
          1
         ]
        },
        "xaxis2": {
         "anchor": "y2",
         "domain": [
          0,
          1
         ]
        },
        "yaxis": {
         "anchor": "x",
         "domain": [
          0.625,
          1
         ]
        },
        "yaxis2": {
         "anchor": "x2",
         "domain": [
          0,
          0.375
         ]
        }
       }
      }
     },
     "metadata": {},
     "output_type": "display_data"
    }
   ],
   "source": [
    "plot_sub_lines(covid_world_df, 'Date', 'NewCases', 'NewDeaths', \"Biểu đồ thể hiện số ca mắc và tử vong mới theo ngày kể từ đầu đại dịch\")"
   ]
  },
  {
   "cell_type": "markdown",
   "metadata": {},
   "source": [
    "Vào khoảng cuối năm 2021, biến thể Omicron xuất hiện làm gia tăng nhanh số ca nhiễm mỗi ngày nhưng số ca tử vong theo ngày của biến thể này không cao so với biến thể Delta xuất hiện trước đó. Có lẽ do khi biến thể Omicron xuất hiện thì độ bao phủ vaccine trên thế giới cũng đã tăng cao."
   ]
  },
  {
   "cell_type": "code",
   "execution_count": 193,
   "metadata": {},
   "outputs": [
    {
     "data": {
      "application/vnd.plotly.v1+json": {
       "config": {
        "plotlyServerURL": "https://plot.ly"
       },
       "data": [
        {
         "fillpattern": {
          "shape": ""
         },
         "hovertemplate": "Case=TotalCases<br>Date=%{x}<br>Count=%{y}<extra></extra>",
         "legendgroup": "TotalCases",
         "line": {
          "color": "orange"
         },
         "marker": {
          "symbol": "circle"
         },
         "mode": "lines",
         "name": "TotalCases",
         "orientation": "v",
         "showlegend": true,
         "stackgroup": "1",
         "type": "scatter",
         "x": [
          "2020-01-22",
          "2020-01-23",
          "2020-01-24",
          "2020-01-25",
          "2020-01-26",
          "2020-01-27",
          "2020-01-28",
          "2020-01-29",
          "2020-01-30",
          "2020-01-31",
          "2020-02-01",
          "2020-02-02",
          "2020-02-03",
          "2020-02-04",
          "2020-02-05",
          "2020-02-06",
          "2020-02-07",
          "2020-02-08",
          "2020-02-09",
          "2020-02-10",
          "2020-02-11",
          "2020-02-12",
          "2020-02-13",
          "2020-02-14",
          "2020-02-15",
          "2020-02-16",
          "2020-02-17",
          "2020-02-18",
          "2020-02-19",
          "2020-02-20",
          "2020-02-21",
          "2020-02-22",
          "2020-02-23",
          "2020-02-24",
          "2020-02-25",
          "2020-02-26",
          "2020-02-27",
          "2020-02-28",
          "2020-02-29",
          "2020-03-01",
          "2020-03-02",
          "2020-03-03",
          "2020-03-04",
          "2020-03-05",
          "2020-03-06",
          "2020-03-07",
          "2020-03-08",
          "2020-03-09",
          "2020-03-10",
          "2020-03-11",
          "2020-03-12",
          "2020-03-13",
          "2020-03-14",
          "2020-03-15",
          "2020-03-16",
          "2020-03-17",
          "2020-03-18",
          "2020-03-19",
          "2020-03-20",
          "2020-03-21",
          "2020-03-22",
          "2020-03-23",
          "2020-03-24",
          "2020-03-25",
          "2020-03-26",
          "2020-03-27",
          "2020-03-28",
          "2020-03-29",
          "2020-03-30",
          "2020-03-31",
          "2020-04-01",
          "2020-04-02",
          "2020-04-03",
          "2020-04-04",
          "2020-04-05",
          "2020-04-06",
          "2020-04-07",
          "2020-04-08",
          "2020-04-09",
          "2020-04-10",
          "2020-04-11",
          "2020-04-12",
          "2020-04-13",
          "2020-04-14",
          "2020-04-15",
          "2020-04-16",
          "2020-04-17",
          "2020-04-18",
          "2020-04-19",
          "2020-04-20",
          "2020-04-21",
          "2020-04-22",
          "2020-04-23",
          "2020-04-24",
          "2020-04-25",
          "2020-04-26",
          "2020-04-27",
          "2020-04-28",
          "2020-04-29",
          "2020-04-30",
          "2020-05-01",
          "2020-05-02",
          "2020-05-03",
          "2020-05-04",
          "2020-05-05",
          "2020-05-06",
          "2020-05-07",
          "2020-05-08",
          "2020-05-09",
          "2020-05-10",
          "2020-05-11",
          "2020-05-12",
          "2020-05-13",
          "2020-05-14",
          "2020-05-15",
          "2020-05-16",
          "2020-05-17",
          "2020-05-18",
          "2020-05-19",
          "2020-05-20",
          "2020-05-21",
          "2020-05-22",
          "2020-05-23",
          "2020-05-24",
          "2020-05-25",
          "2020-05-26",
          "2020-05-27",
          "2020-05-28",
          "2020-05-29",
          "2020-05-30",
          "2020-05-31",
          "2020-06-01",
          "2020-06-02",
          "2020-06-03",
          "2020-06-04",
          "2020-06-05",
          "2020-06-06",
          "2020-06-07",
          "2020-06-08",
          "2020-06-09",
          "2020-06-10",
          "2020-06-11",
          "2020-06-12",
          "2020-06-13",
          "2020-06-14",
          "2020-06-15",
          "2020-06-16",
          "2020-06-17",
          "2020-06-18",
          "2020-06-19",
          "2020-06-20",
          "2020-06-21",
          "2020-06-22",
          "2020-06-23",
          "2020-06-24",
          "2020-06-25",
          "2020-06-26",
          "2020-06-27",
          "2020-06-28",
          "2020-06-29",
          "2020-06-30",
          "2020-07-01",
          "2020-07-02",
          "2020-07-03",
          "2020-07-04",
          "2020-07-05",
          "2020-07-06",
          "2020-07-07",
          "2020-07-08",
          "2020-07-09",
          "2020-07-10",
          "2020-07-11",
          "2020-07-12",
          "2020-07-13",
          "2020-07-14",
          "2020-07-15",
          "2020-07-16",
          "2020-07-17",
          "2020-07-18",
          "2020-07-19",
          "2020-07-20",
          "2020-07-21",
          "2020-07-22",
          "2020-07-23",
          "2020-07-24",
          "2020-07-25",
          "2020-07-26",
          "2020-07-27",
          "2020-07-28",
          "2020-07-29",
          "2020-07-30",
          "2020-07-31",
          "2020-08-01",
          "2020-08-02",
          "2020-08-03",
          "2020-08-04",
          "2020-08-05",
          "2020-08-06",
          "2020-08-07",
          "2020-08-08",
          "2020-08-09",
          "2020-08-10",
          "2020-08-11",
          "2020-08-12",
          "2020-08-13",
          "2020-08-14",
          "2020-08-15",
          "2020-08-16",
          "2020-08-17",
          "2020-08-18",
          "2020-08-19",
          "2020-08-20",
          "2020-08-21",
          "2020-08-22",
          "2020-08-23",
          "2020-08-24",
          "2020-08-25",
          "2020-08-26",
          "2020-08-27",
          "2020-08-28",
          "2020-08-29",
          "2020-08-30",
          "2020-08-31",
          "2020-09-01",
          "2020-09-02",
          "2020-09-03",
          "2020-09-04",
          "2020-09-05",
          "2020-09-06",
          "2020-09-07",
          "2020-09-08",
          "2020-09-09",
          "2020-09-10",
          "2020-09-11",
          "2020-09-12",
          "2020-09-13",
          "2020-09-14",
          "2020-09-15",
          "2020-09-16",
          "2020-09-17",
          "2020-09-18",
          "2020-09-19",
          "2020-09-20",
          "2020-09-21",
          "2020-09-22",
          "2020-09-23",
          "2020-09-24",
          "2020-09-25",
          "2020-09-26",
          "2020-09-27",
          "2020-09-28",
          "2020-09-29",
          "2020-09-30",
          "2020-10-01",
          "2020-10-02",
          "2020-10-03",
          "2020-10-04",
          "2020-10-05",
          "2020-10-06",
          "2020-10-07",
          "2020-10-08",
          "2020-10-09",
          "2020-10-10",
          "2020-10-11",
          "2020-10-12",
          "2020-10-13",
          "2020-10-14",
          "2020-10-15",
          "2020-10-16",
          "2020-10-17",
          "2020-10-18",
          "2020-10-19",
          "2020-10-20",
          "2020-10-21",
          "2020-10-22",
          "2020-10-23",
          "2020-10-24",
          "2020-10-25",
          "2020-10-26",
          "2020-10-27",
          "2020-10-28",
          "2020-10-29",
          "2020-10-30",
          "2020-10-31",
          "2020-11-01",
          "2020-11-02",
          "2020-11-03",
          "2020-11-04",
          "2020-11-05",
          "2020-11-06",
          "2020-11-07",
          "2020-11-08",
          "2020-11-09",
          "2020-11-10",
          "2020-11-11",
          "2020-11-12",
          "2020-11-13",
          "2020-11-14",
          "2020-11-15",
          "2020-11-16",
          "2020-11-17",
          "2020-11-18",
          "2020-11-19",
          "2020-11-20",
          "2020-11-21",
          "2020-11-22",
          "2020-11-23",
          "2020-11-24",
          "2020-11-25",
          "2020-11-26",
          "2020-11-27",
          "2020-11-28",
          "2020-11-29",
          "2020-11-30",
          "2020-12-01",
          "2020-12-02",
          "2020-12-03",
          "2020-12-04",
          "2020-12-05",
          "2020-12-06",
          "2020-12-07",
          "2020-12-08",
          "2020-12-09",
          "2020-12-10",
          "2020-12-11",
          "2020-12-12",
          "2020-12-13",
          "2020-12-14",
          "2020-12-15",
          "2020-12-16",
          "2020-12-17",
          "2020-12-18",
          "2020-12-19",
          "2020-12-20",
          "2020-12-21",
          "2020-12-22",
          "2020-12-23",
          "2020-12-24",
          "2020-12-25",
          "2020-12-26",
          "2020-12-27",
          "2020-12-28",
          "2020-12-29",
          "2020-12-30",
          "2020-12-31",
          "2021-01-01",
          "2021-01-02",
          "2021-01-03",
          "2021-01-04",
          "2021-01-05",
          "2021-01-06",
          "2021-01-07",
          "2021-01-08",
          "2021-01-09",
          "2021-01-10",
          "2021-01-11",
          "2021-01-12",
          "2021-01-13",
          "2021-01-14",
          "2021-01-15",
          "2021-01-16",
          "2021-01-17",
          "2021-01-18",
          "2021-01-19",
          "2021-01-20",
          "2021-01-21",
          "2021-01-22",
          "2021-01-23",
          "2021-01-24",
          "2021-01-25",
          "2021-01-26",
          "2021-01-27",
          "2021-01-28",
          "2021-01-29",
          "2021-01-30",
          "2021-01-31",
          "2021-02-01",
          "2021-02-02",
          "2021-02-03",
          "2021-02-04",
          "2021-02-05",
          "2021-02-06",
          "2021-02-07",
          "2021-02-08",
          "2021-02-09",
          "2021-02-10",
          "2021-02-11",
          "2021-02-12",
          "2021-02-13",
          "2021-02-14",
          "2021-02-15",
          "2021-02-16",
          "2021-02-17",
          "2021-02-18",
          "2021-02-19",
          "2021-02-20",
          "2021-02-21",
          "2021-02-22",
          "2021-02-23",
          "2021-02-24",
          "2021-02-25",
          "2021-02-26",
          "2021-02-27",
          "2021-02-28",
          "2021-03-01",
          "2021-03-02",
          "2021-03-03",
          "2021-03-04",
          "2021-03-05",
          "2021-03-06",
          "2021-03-07",
          "2021-03-08",
          "2021-03-09",
          "2021-03-10",
          "2021-03-11",
          "2021-03-12",
          "2021-03-13",
          "2021-03-14",
          "2021-03-15",
          "2021-03-16",
          "2021-03-17",
          "2021-03-18",
          "2021-03-19",
          "2021-03-20",
          "2021-03-21",
          "2021-03-22",
          "2021-03-23",
          "2021-03-24",
          "2021-03-25",
          "2021-03-26",
          "2021-03-27",
          "2021-03-28",
          "2021-03-29",
          "2021-03-30",
          "2021-03-31",
          "2021-04-01",
          "2021-04-02",
          "2021-04-03",
          "2021-04-04",
          "2021-04-05",
          "2021-04-06",
          "2021-04-07",
          "2021-04-08",
          "2021-04-09",
          "2021-04-10",
          "2021-04-11",
          "2021-04-12",
          "2021-04-13",
          "2021-04-14",
          "2021-04-15",
          "2021-04-16",
          "2021-04-17",
          "2021-04-18",
          "2021-04-19",
          "2021-04-20",
          "2021-04-21",
          "2021-04-22",
          "2021-04-23",
          "2021-04-24",
          "2021-04-25",
          "2021-04-26",
          "2021-04-27",
          "2021-04-28",
          "2021-04-29",
          "2021-04-30",
          "2021-05-01",
          "2021-05-02",
          "2021-05-03",
          "2021-05-04",
          "2021-05-05",
          "2021-05-06",
          "2021-05-07",
          "2021-05-08",
          "2021-05-09",
          "2021-05-10",
          "2021-05-11",
          "2021-05-12",
          "2021-05-13",
          "2021-05-14",
          "2021-05-15",
          "2021-05-16",
          "2021-05-17",
          "2021-05-18",
          "2021-05-19",
          "2021-05-20",
          "2021-05-21",
          "2021-05-22",
          "2021-05-23",
          "2021-05-24",
          "2021-05-25",
          "2021-05-26",
          "2021-05-27",
          "2021-05-28",
          "2021-05-29",
          "2021-05-30",
          "2021-05-31",
          "2021-06-01",
          "2021-06-02",
          "2021-06-03",
          "2021-06-04",
          "2021-06-05",
          "2021-06-06",
          "2021-06-07",
          "2021-06-08",
          "2021-06-09",
          "2021-06-10",
          "2021-06-11",
          "2021-06-12",
          "2021-06-13",
          "2021-06-14",
          "2021-06-15",
          "2021-06-16",
          "2021-06-17",
          "2021-06-18",
          "2021-06-19",
          "2021-06-20",
          "2021-06-21",
          "2021-06-22",
          "2021-06-23",
          "2021-06-24",
          "2021-06-25",
          "2021-06-26",
          "2021-06-27",
          "2021-06-28",
          "2021-06-29",
          "2021-06-30",
          "2021-07-01",
          "2021-07-02",
          "2021-07-03",
          "2021-07-04",
          "2021-07-05",
          "2021-07-06",
          "2021-07-07",
          "2021-07-08",
          "2021-07-09",
          "2021-07-10",
          "2021-07-11",
          "2021-07-12",
          "2021-07-13",
          "2021-07-14",
          "2021-07-15",
          "2021-07-16",
          "2021-07-17",
          "2021-07-18",
          "2021-07-19",
          "2021-07-20",
          "2021-07-21",
          "2021-07-22",
          "2021-07-23",
          "2021-07-24",
          "2021-07-25",
          "2021-07-26",
          "2021-07-27",
          "2021-07-28",
          "2021-07-29",
          "2021-07-30",
          "2021-07-31",
          "2021-08-01",
          "2021-08-02",
          "2021-08-03",
          "2021-08-04",
          "2021-08-05",
          "2021-08-06",
          "2021-08-07",
          "2021-08-08",
          "2021-08-09",
          "2021-08-10",
          "2021-08-11",
          "2021-08-12",
          "2021-08-13",
          "2021-08-14",
          "2021-08-15",
          "2021-08-16",
          "2021-08-17",
          "2021-08-18",
          "2021-08-19",
          "2021-08-20",
          "2021-08-21",
          "2021-08-22",
          "2021-08-23",
          "2021-08-24",
          "2021-08-25",
          "2021-08-26",
          "2021-08-27",
          "2021-08-28",
          "2021-08-29",
          "2021-08-30",
          "2021-08-31",
          "2021-09-01",
          "2021-09-02",
          "2021-09-03",
          "2021-09-04",
          "2021-09-05",
          "2021-09-06",
          "2021-09-07",
          "2021-09-08",
          "2021-09-09",
          "2021-09-10",
          "2021-09-11",
          "2021-09-12",
          "2021-09-13",
          "2021-09-14",
          "2021-09-15",
          "2021-09-16",
          "2021-09-17",
          "2021-09-18",
          "2021-09-19",
          "2021-09-20",
          "2021-09-21",
          "2021-09-22",
          "2021-09-23",
          "2021-09-24",
          "2021-09-25",
          "2021-09-26",
          "2021-09-27",
          "2021-09-28",
          "2021-09-29",
          "2021-09-30",
          "2021-10-01",
          "2021-10-02",
          "2021-10-03",
          "2021-10-04",
          "2021-10-05",
          "2021-10-06",
          "2021-10-07",
          "2021-10-08",
          "2021-10-09",
          "2021-10-10",
          "2021-10-11",
          "2021-10-12",
          "2021-10-13",
          "2021-10-14",
          "2021-10-15",
          "2021-10-16",
          "2021-10-17",
          "2021-10-18",
          "2021-10-19",
          "2021-10-20",
          "2021-10-21",
          "2021-10-22",
          "2021-10-23",
          "2021-10-24",
          "2021-10-25",
          "2021-10-26",
          "2021-10-27",
          "2021-10-28",
          "2021-10-29",
          "2021-10-30",
          "2021-10-31",
          "2021-11-01",
          "2021-11-02",
          "2021-11-03",
          "2021-11-04",
          "2021-11-05",
          "2021-11-06",
          "2021-11-07",
          "2021-11-08",
          "2021-11-09",
          "2021-11-10",
          "2021-11-11",
          "2021-11-12",
          "2021-11-13",
          "2021-11-14",
          "2021-11-15",
          "2021-11-16",
          "2021-11-17",
          "2021-11-18",
          "2021-11-19",
          "2021-11-20",
          "2021-11-21",
          "2021-11-22",
          "2021-11-23",
          "2021-11-24",
          "2021-11-25",
          "2021-11-26",
          "2021-11-27",
          "2021-11-28",
          "2021-11-29",
          "2021-11-30",
          "2021-12-01",
          "2021-12-02",
          "2021-12-03",
          "2021-12-04",
          "2021-12-05",
          "2021-12-06",
          "2021-12-07",
          "2021-12-08",
          "2021-12-09",
          "2021-12-10",
          "2021-12-11",
          "2021-12-12",
          "2021-12-13",
          "2021-12-14",
          "2021-12-15",
          "2021-12-16",
          "2021-12-17",
          "2021-12-18",
          "2021-12-19",
          "2021-12-20",
          "2021-12-21",
          "2021-12-22",
          "2021-12-23",
          "2021-12-24",
          "2021-12-25",
          "2021-12-26",
          "2021-12-27",
          "2021-12-28",
          "2021-12-29",
          "2021-12-30",
          "2021-12-31",
          "2022-01-01",
          "2022-01-02",
          "2022-01-03",
          "2022-01-04",
          "2022-01-05",
          "2022-01-06",
          "2022-01-07",
          "2022-01-08",
          "2022-01-09",
          "2022-01-10",
          "2022-01-11",
          "2022-01-12",
          "2022-01-13",
          "2022-01-14",
          "2022-01-15",
          "2022-01-16",
          "2022-01-17",
          "2022-01-18",
          "2022-01-19",
          "2022-01-20",
          "2022-01-21",
          "2022-01-22",
          "2022-01-23",
          "2022-01-24",
          "2022-01-25",
          "2022-01-26",
          "2022-01-27",
          "2022-01-28",
          "2022-01-29",
          "2022-01-30",
          "2022-01-31",
          "2022-02-01",
          "2022-02-02",
          "2022-02-03",
          "2022-02-04",
          "2022-02-05",
          "2022-02-06",
          "2022-02-07",
          "2022-02-08",
          "2022-02-09",
          "2022-02-10",
          "2022-02-11",
          "2022-02-12",
          "2022-02-13",
          "2022-02-14",
          "2022-02-15",
          "2022-02-16",
          "2022-02-17",
          "2022-02-18",
          "2022-02-19",
          "2022-02-20",
          "2022-02-21",
          "2022-02-22",
          "2022-02-23",
          "2022-02-24",
          "2022-02-25",
          "2022-02-26",
          "2022-02-27",
          "2022-02-28",
          "2022-03-01",
          "2022-03-02",
          "2022-03-03",
          "2022-03-04",
          "2022-03-05"
         ],
         "xaxis": "x",
         "y": [
          557,
          657,
          944,
          1437,
          2120,
          2929,
          5580,
          6169,
          8237,
          9927,
          12038,
          16787,
          19887,
          23899,
          27644,
          30806,
          34400,
          37131,
          40162,
          42771,
          44814,
          45232,
          60384,
          66912,
          69055,
          71238,
          73273,
          75155,
          75655,
          76216,
          76846,
          78608,
          78990,
          79558,
          80413,
          81391,
          82750,
          84149,
          86043,
          88423,
          90402,
          93012,
          95351,
          98179,
          102112,
          106237,
          110165,
          114363,
          119269,
          126969,
          133092,
          147286,
          158407,
          169833,
          184654,
          200792,
          220476,
          247784,
          278898,
          310973,
          346158,
          389183,
          430433,
          481767,
          544842,
          609932,
          679608,
          736274,
          801562,
          878757,
          961093,
          1043933,
          1127888,
          1186798,
          1256876,
          1330835,
          1400270,
          1483782,
          1570419,
          1655658,
          1729610,
          1848636,
          1919805,
          2003569,
          2081973,
          2176439,
          2264211,
          2340924,
          2417144,
          2493051,
          2568583,
          2650102,
          2733235,
          2816750,
          2899839,
          2970374,
          3041221,
          3116915,
          3194311,
          3277472,
          3366304,
          3445135,
          3519371,
          3596649,
          3676357,
          3767076,
          3855497,
          3946027,
          4030167,
          4105260,
          4181552,
          4266405,
          4350807,
          4445994,
          4542205,
          4636282,
          4714357,
          4803529,
          4900089,
          5005103,
          5110875,
          5218399,
          5322409,
          5415546,
          5503463,
          5596412,
          5699023,
          5818785,
          5940554,
          6075553,
          6177874,
          6277368,
          6401709,
          6513000,
          6651182,
          6784702,
          6914372,
          7025252,
          7128489,
          7254794,
          7391542,
          7526794,
          7654771,
          7788297,
          7920371,
          8045099,
          8189622,
          8332723,
          8475624,
          8656928,
          8842563,
          8935558,
          9077415,
          9245584,
          9416903,
          9596023,
          9789171,
          9965754,
          10133531,
          10286462,
          10469764,
          10685125,
          10889368,
          11092312,
          11281975,
          11467879,
          11635795,
          11844694,
          12060498,
          12284283,
          12517329,
          12730441,
          12921942,
          13117854,
          13338362,
          13567995,
          13812504,
          14050201,
          14285757,
          14497844,
          14706596,
          14948643,
          15224407,
          15504318,
          15788157,
          16036621,
          16249524,
          16484285,
          16748782,
          17019879,
          17300134,
          17589272,
          17835371,
          18066431,
          18271867,
          18537388,
          18813391,
          19099594,
          19382788,
          19647513,
          19880988,
          20115197,
          20380452,
          20655615,
          20945525,
          21253371,
          21501129,
          21711630,
          21925583,
          22184491,
          22462459,
          22732862,
          22995906,
          23257502,
          23461049,
          23689814,
          23934612,
          24216523,
          24503450,
          24787894,
          25048136,
          25266783,
          25532345,
          25798982,
          26081052,
          26366717,
          26667941,
          26940706,
          27170287,
          27388877,
          27634822,
          27919832,
          28223699,
          28540241,
          28828366,
          29076323,
          29344526,
          29624708,
          29930054,
          30244656,
          30572440,
          30863895,
          31119557,
          31380076,
          31663570,
          31975637,
          32296288,
          32626881,
          32910924,
          33158565,
          33421991,
          33704108,
          34029099,
          34348325,
          34677537,
          34974017,
          35233157,
          35545734,
          35861140,
          36211355,
          36571138,
          36931295,
          37285009,
          37572808,
          37867693,
          38186676,
          38568202,
          38976777,
          39386299,
          39755625,
          40085030,
          40463551,
          40853696,
          41297435,
          41772845,
          42269284,
          42721023,
          43079334,
          43566227,
          44034601,
          44555324,
          45107646,
          45680336,
          46149688,
          46584269,
          47144231,
          47698350,
          48204731,
          48825683,
          49445558,
          50038233,
          50524297,
          51028408,
          51607011,
          52233757,
          52878311,
          53537880,
          54117970,
          54593539,
          55123127,
          55733787,
          56361926,
          57016955,
          57689967,
          58276869,
          58763283,
          59297737,
          59890835,
          60521945,
          61114357,
          61805606,
          62407807,
          62890192,
          63397591,
          64021419,
          64668183,
          65360343,
          66049040,
          66697974,
          67234273,
          67761913,
          68405171,
          69079903,
          70582850,
          71289972,
          71931421,
          72465643,
          73009033,
          73672560,
          74397764,
          75138906,
          75862828,
          76482174,
          77019885,
          77572572,
          78238524,
          78931331,
          79619503,
          80108698,
          80624059,
          81035451,
          81537250,
          82210894,
          82947702,
          83775336,
          84349491,
          84938665,
          85459542,
          86018387,
          86763420,
          87560323,
          88451630,
          89275912,
          90030542,
          90618467,
          91231354,
          91936322,
          92686815,
          93443003,
          94216521,
          94868296,
          95395555,
          95915006,
          96506649,
          97207749,
          97863718,
          98527843,
          99100826,
          99561948,
          100042864,
          100606181,
          101210658,
          101820846,
          102412351,
          102931585,
          103318757,
          103761932,
          104229510,
          104756336,
          105227444,
          105762822,
          106196292,
          106547197,
          106886687,
          107294945,
          107737137,
          108180938,
          108611331,
          108990335,
          109297956,
          109579147,
          109940395,
          110328769,
          110739273,
          111149502,
          111523136,
          111841071,
          112136189,
          112530743,
          112978281,
          113431348,
          113873319,
          114269041,
          114576353,
          114882002,
          115197215,
          115641513,
          116099714,
          116548977,
          116962280,
          117335116,
          117638952,
          118055750,
          118526415,
          119007292,
          119497458,
          119950080,
          120312796,
          120667801,
          121138039,
          121688856,
          122236260,
          122798213,
          123294363,
          123729516,
          124151615,
          124672481,
          125309921,
          125961276,
          126600868,
          127182351,
          127658041,
          128118943,
          128694288,
          129376585,
          130085527,
          130723347,
          131248956,
          131805822,
          132300788,
          132907802,
          133592684,
          134435536,
          135181170,
          135846470,
          136539153,
          137152508,
          137935819,
          138757254,
          139573529,
          140428910,
          141218446,
          141899755,
          142594004,
          143455189,
          144343760,
          145246012,
          146148538,
          146963475,
          147688188,
          148370837,
          149225326,
          150129929,
          151024456,
          151906109,
          152700141,
          153379300,
          154066062,
          154867948,
          155714466,
          156583420,
          157414760,
          158200635,
          158836896,
          159463014,
          160202462,
          160961835,
          161693489,
          162402263,
          163033171,
          163578034,
          164121630,
          164744622,
          165418142,
          165698555,
          166324200,
          166895892,
          167375072,
          167825775,
          168360693,
          168931042,
          169478827,
          169983195,
          170462668,
          170851767,
          171238619,
          171699943,
          172187737,
          172667531,
          173092521,
          173489235,
          173811878,
          174133960,
          174505710,
          174924239,
          175377416,
          175799558,
          176167587,
          176469998,
          176779517,
          177155056,
          177543948,
          177939632,
          178342998,
          178691191,
          178994222,
          179291073,
          179701464,
          180098583,
          180507246,
          180924985,
          181287998,
          181598724,
          181931973,
          182313073,
          182712310,
          183147734,
          183590077,
          183964120,
          184291994,
          184668654,
          185119996,
          185584920,
          186066569,
          186580358,
          187001859,
          187372001,
          187805066,
          188331182,
          188869304,
          189445331,
          190040660,
          190530260,
          190951501,
          191439114,
          191971756,
          192526818,
          193092040,
          193820001,
          194251463,
          194696608,
          195236642,
          195843630,
          196493476,
          197136403,
          197868213,
          198384485,
          198866376,
          199438514,
          200072744,
          200753668,
          201438256,
          202257183,
          202817685,
          203284523,
          203905266,
          204551238,
          205280841,
          205987495,
          206788538,
          207340109,
          207806526,
          208472317,
          209154133,
          209889731,
          210600732,
          211386558,
          211941208,
          212389792,
          213077435,
          213765527,
          214497874,
          215237073,
          215978279,
          216536529,
          216982296,
          217649077,
          218283508,
          219009569,
          219682810,
          220397416,
          220892796,
          221335142,
          221783187,
          222484831,
          223114368,
          223761567,
          224401215,
          224865667,
          225238753,
          225826097,
          226376507,
          226947370,
          227531516,
          228153500,
          228679059,
          229044681,
          229570037,
          230057267,
          230597661,
          231143379,
          231693616,
          232071310,
          232428621,
          232903981,
          233358555,
          233849195,
          234338353,
          234859499,
          235213397,
          235525295,
          235963755,
          236389539,
          236897853,
          237359037,
          237834730,
          238179044,
          238498949,
          238876818,
          239318685,
          239776581,
          240229327,
          240688614,
          241036314,
          241353959,
          241767703,
          242214844,
          242693162,
          243156828,
          243645623,
          244017245,
          244333642,
          244761200,
          245210786,
          245730866,
          246194723,
          246703694,
          247093028,
          247438814,
          247859822,
          248285990,
          248824256,
          249348115,
          249868848,
          250295798,
          250645251,
          251122737,
          251611062,
          252200197,
          252718657,
          253314534,
          253744351,
          254107831,
          254646412,
          255173243,
          255807426,
          256422659,
          257043152,
          257524162,
          257927729,
          258547546,
          259160484,
          259833620,
          260430365,
          261029091,
          261489852,
          261898573,
          262552231,
          263175580,
          263888511,
          264594947,
          265312157,
          265825564,
          266264895,
          266856128,
          267553468,
          268224149,
          268951749,
          269639791,
          270138756,
          270577966,
          271203915,
          271863289,
          272608241,
          273345543,
          274078003,
          274659080,
          275140292,
          275885024,
          276682248,
          277589189,
          278586165,
          279442152,
          280135483,
          280714115,
          281995333,
          283326386,
          285050606,
          286991136,
          288706144,
          289900771,
          290812629,
          293235405,
          295760424,
          298325348,
          300958204,
          303884960,
          306028333,
          308040272,
          311204924,
          314293551,
          317813230,
          320982970,
          324263328,
          326712193,
          328858889,
          331556090,
          335344177,
          339550511,
          343241840,
          347052682,
          349771587,
          352189371,
          355665747,
          359325139,
          363155918,
          366851129,
          370451646,
          373106362,
          375368785,
          378944936,
          382241839,
          385456537,
          388619482,
          391544060,
          393769188,
          395585645,
          398129218,
          400971434,
          403426935,
          406193753,
          408580402,
          410407905,
          411859218,
          413649333,
          415434675,
          417851776,
          419885575,
          421825575,
          423377732,
          424644081,
          426101623,
          427907496,
          429847016,
          431602462,
          433194282,
          434523055,
          435588284,
          436991765,
          438528632,
          440180084,
          442067549,
          443767689,
          445129499
         ],
         "yaxis": "y"
        },
        {
         "fillpattern": {
          "shape": ""
         },
         "hovertemplate": "Case=TotalDeaths<br>Date=%{x}<br>Count=%{y}<extra></extra>",
         "legendgroup": "TotalDeaths",
         "line": {
          "color": "red"
         },
         "marker": {
          "symbol": "circle"
         },
         "mode": "lines",
         "name": "TotalDeaths",
         "orientation": "v",
         "showlegend": true,
         "stackgroup": "1",
         "type": "scatter",
         "x": [
          "2020-01-22",
          "2020-01-23",
          "2020-01-24",
          "2020-01-25",
          "2020-01-26",
          "2020-01-27",
          "2020-01-28",
          "2020-01-29",
          "2020-01-30",
          "2020-01-31",
          "2020-02-01",
          "2020-02-02",
          "2020-02-03",
          "2020-02-04",
          "2020-02-05",
          "2020-02-06",
          "2020-02-07",
          "2020-02-08",
          "2020-02-09",
          "2020-02-10",
          "2020-02-11",
          "2020-02-12",
          "2020-02-13",
          "2020-02-14",
          "2020-02-15",
          "2020-02-16",
          "2020-02-17",
          "2020-02-18",
          "2020-02-19",
          "2020-02-20",
          "2020-02-21",
          "2020-02-22",
          "2020-02-23",
          "2020-02-24",
          "2020-02-25",
          "2020-02-26",
          "2020-02-27",
          "2020-02-28",
          "2020-02-29",
          "2020-03-01",
          "2020-03-02",
          "2020-03-03",
          "2020-03-04",
          "2020-03-05",
          "2020-03-06",
          "2020-03-07",
          "2020-03-08",
          "2020-03-09",
          "2020-03-10",
          "2020-03-11",
          "2020-03-12",
          "2020-03-13",
          "2020-03-14",
          "2020-03-15",
          "2020-03-16",
          "2020-03-17",
          "2020-03-18",
          "2020-03-19",
          "2020-03-20",
          "2020-03-21",
          "2020-03-22",
          "2020-03-23",
          "2020-03-24",
          "2020-03-25",
          "2020-03-26",
          "2020-03-27",
          "2020-03-28",
          "2020-03-29",
          "2020-03-30",
          "2020-03-31",
          "2020-04-01",
          "2020-04-02",
          "2020-04-03",
          "2020-04-04",
          "2020-04-05",
          "2020-04-06",
          "2020-04-07",
          "2020-04-08",
          "2020-04-09",
          "2020-04-10",
          "2020-04-11",
          "2020-04-12",
          "2020-04-13",
          "2020-04-14",
          "2020-04-15",
          "2020-04-16",
          "2020-04-17",
          "2020-04-18",
          "2020-04-19",
          "2020-04-20",
          "2020-04-21",
          "2020-04-22",
          "2020-04-23",
          "2020-04-24",
          "2020-04-25",
          "2020-04-26",
          "2020-04-27",
          "2020-04-28",
          "2020-04-29",
          "2020-04-30",
          "2020-05-01",
          "2020-05-02",
          "2020-05-03",
          "2020-05-04",
          "2020-05-05",
          "2020-05-06",
          "2020-05-07",
          "2020-05-08",
          "2020-05-09",
          "2020-05-10",
          "2020-05-11",
          "2020-05-12",
          "2020-05-13",
          "2020-05-14",
          "2020-05-15",
          "2020-05-16",
          "2020-05-17",
          "2020-05-18",
          "2020-05-19",
          "2020-05-20",
          "2020-05-21",
          "2020-05-22",
          "2020-05-23",
          "2020-05-24",
          "2020-05-25",
          "2020-05-26",
          "2020-05-27",
          "2020-05-28",
          "2020-05-29",
          "2020-05-30",
          "2020-05-31",
          "2020-06-01",
          "2020-06-02",
          "2020-06-03",
          "2020-06-04",
          "2020-06-05",
          "2020-06-06",
          "2020-06-07",
          "2020-06-08",
          "2020-06-09",
          "2020-06-10",
          "2020-06-11",
          "2020-06-12",
          "2020-06-13",
          "2020-06-14",
          "2020-06-15",
          "2020-06-16",
          "2020-06-17",
          "2020-06-18",
          "2020-06-19",
          "2020-06-20",
          "2020-06-21",
          "2020-06-22",
          "2020-06-23",
          "2020-06-24",
          "2020-06-25",
          "2020-06-26",
          "2020-06-27",
          "2020-06-28",
          "2020-06-29",
          "2020-06-30",
          "2020-07-01",
          "2020-07-02",
          "2020-07-03",
          "2020-07-04",
          "2020-07-05",
          "2020-07-06",
          "2020-07-07",
          "2020-07-08",
          "2020-07-09",
          "2020-07-10",
          "2020-07-11",
          "2020-07-12",
          "2020-07-13",
          "2020-07-14",
          "2020-07-15",
          "2020-07-16",
          "2020-07-17",
          "2020-07-18",
          "2020-07-19",
          "2020-07-20",
          "2020-07-21",
          "2020-07-22",
          "2020-07-23",
          "2020-07-24",
          "2020-07-25",
          "2020-07-26",
          "2020-07-27",
          "2020-07-28",
          "2020-07-29",
          "2020-07-30",
          "2020-07-31",
          "2020-08-01",
          "2020-08-02",
          "2020-08-03",
          "2020-08-04",
          "2020-08-05",
          "2020-08-06",
          "2020-08-07",
          "2020-08-08",
          "2020-08-09",
          "2020-08-10",
          "2020-08-11",
          "2020-08-12",
          "2020-08-13",
          "2020-08-14",
          "2020-08-15",
          "2020-08-16",
          "2020-08-17",
          "2020-08-18",
          "2020-08-19",
          "2020-08-20",
          "2020-08-21",
          "2020-08-22",
          "2020-08-23",
          "2020-08-24",
          "2020-08-25",
          "2020-08-26",
          "2020-08-27",
          "2020-08-28",
          "2020-08-29",
          "2020-08-30",
          "2020-08-31",
          "2020-09-01",
          "2020-09-02",
          "2020-09-03",
          "2020-09-04",
          "2020-09-05",
          "2020-09-06",
          "2020-09-07",
          "2020-09-08",
          "2020-09-09",
          "2020-09-10",
          "2020-09-11",
          "2020-09-12",
          "2020-09-13",
          "2020-09-14",
          "2020-09-15",
          "2020-09-16",
          "2020-09-17",
          "2020-09-18",
          "2020-09-19",
          "2020-09-20",
          "2020-09-21",
          "2020-09-22",
          "2020-09-23",
          "2020-09-24",
          "2020-09-25",
          "2020-09-26",
          "2020-09-27",
          "2020-09-28",
          "2020-09-29",
          "2020-09-30",
          "2020-10-01",
          "2020-10-02",
          "2020-10-03",
          "2020-10-04",
          "2020-10-05",
          "2020-10-06",
          "2020-10-07",
          "2020-10-08",
          "2020-10-09",
          "2020-10-10",
          "2020-10-11",
          "2020-10-12",
          "2020-10-13",
          "2020-10-14",
          "2020-10-15",
          "2020-10-16",
          "2020-10-17",
          "2020-10-18",
          "2020-10-19",
          "2020-10-20",
          "2020-10-21",
          "2020-10-22",
          "2020-10-23",
          "2020-10-24",
          "2020-10-25",
          "2020-10-26",
          "2020-10-27",
          "2020-10-28",
          "2020-10-29",
          "2020-10-30",
          "2020-10-31",
          "2020-11-01",
          "2020-11-02",
          "2020-11-03",
          "2020-11-04",
          "2020-11-05",
          "2020-11-06",
          "2020-11-07",
          "2020-11-08",
          "2020-11-09",
          "2020-11-10",
          "2020-11-11",
          "2020-11-12",
          "2020-11-13",
          "2020-11-14",
          "2020-11-15",
          "2020-11-16",
          "2020-11-17",
          "2020-11-18",
          "2020-11-19",
          "2020-11-20",
          "2020-11-21",
          "2020-11-22",
          "2020-11-23",
          "2020-11-24",
          "2020-11-25",
          "2020-11-26",
          "2020-11-27",
          "2020-11-28",
          "2020-11-29",
          "2020-11-30",
          "2020-12-01",
          "2020-12-02",
          "2020-12-03",
          "2020-12-04",
          "2020-12-05",
          "2020-12-06",
          "2020-12-07",
          "2020-12-08",
          "2020-12-09",
          "2020-12-10",
          "2020-12-11",
          "2020-12-12",
          "2020-12-13",
          "2020-12-14",
          "2020-12-15",
          "2020-12-16",
          "2020-12-17",
          "2020-12-18",
          "2020-12-19",
          "2020-12-20",
          "2020-12-21",
          "2020-12-22",
          "2020-12-23",
          "2020-12-24",
          "2020-12-25",
          "2020-12-26",
          "2020-12-27",
          "2020-12-28",
          "2020-12-29",
          "2020-12-30",
          "2020-12-31",
          "2021-01-01",
          "2021-01-02",
          "2021-01-03",
          "2021-01-04",
          "2021-01-05",
          "2021-01-06",
          "2021-01-07",
          "2021-01-08",
          "2021-01-09",
          "2021-01-10",
          "2021-01-11",
          "2021-01-12",
          "2021-01-13",
          "2021-01-14",
          "2021-01-15",
          "2021-01-16",
          "2021-01-17",
          "2021-01-18",
          "2021-01-19",
          "2021-01-20",
          "2021-01-21",
          "2021-01-22",
          "2021-01-23",
          "2021-01-24",
          "2021-01-25",
          "2021-01-26",
          "2021-01-27",
          "2021-01-28",
          "2021-01-29",
          "2021-01-30",
          "2021-01-31",
          "2021-02-01",
          "2021-02-02",
          "2021-02-03",
          "2021-02-04",
          "2021-02-05",
          "2021-02-06",
          "2021-02-07",
          "2021-02-08",
          "2021-02-09",
          "2021-02-10",
          "2021-02-11",
          "2021-02-12",
          "2021-02-13",
          "2021-02-14",
          "2021-02-15",
          "2021-02-16",
          "2021-02-17",
          "2021-02-18",
          "2021-02-19",
          "2021-02-20",
          "2021-02-21",
          "2021-02-22",
          "2021-02-23",
          "2021-02-24",
          "2021-02-25",
          "2021-02-26",
          "2021-02-27",
          "2021-02-28",
          "2021-03-01",
          "2021-03-02",
          "2021-03-03",
          "2021-03-04",
          "2021-03-05",
          "2021-03-06",
          "2021-03-07",
          "2021-03-08",
          "2021-03-09",
          "2021-03-10",
          "2021-03-11",
          "2021-03-12",
          "2021-03-13",
          "2021-03-14",
          "2021-03-15",
          "2021-03-16",
          "2021-03-17",
          "2021-03-18",
          "2021-03-19",
          "2021-03-20",
          "2021-03-21",
          "2021-03-22",
          "2021-03-23",
          "2021-03-24",
          "2021-03-25",
          "2021-03-26",
          "2021-03-27",
          "2021-03-28",
          "2021-03-29",
          "2021-03-30",
          "2021-03-31",
          "2021-04-01",
          "2021-04-02",
          "2021-04-03",
          "2021-04-04",
          "2021-04-05",
          "2021-04-06",
          "2021-04-07",
          "2021-04-08",
          "2021-04-09",
          "2021-04-10",
          "2021-04-11",
          "2021-04-12",
          "2021-04-13",
          "2021-04-14",
          "2021-04-15",
          "2021-04-16",
          "2021-04-17",
          "2021-04-18",
          "2021-04-19",
          "2021-04-20",
          "2021-04-21",
          "2021-04-22",
          "2021-04-23",
          "2021-04-24",
          "2021-04-25",
          "2021-04-26",
          "2021-04-27",
          "2021-04-28",
          "2021-04-29",
          "2021-04-30",
          "2021-05-01",
          "2021-05-02",
          "2021-05-03",
          "2021-05-04",
          "2021-05-05",
          "2021-05-06",
          "2021-05-07",
          "2021-05-08",
          "2021-05-09",
          "2021-05-10",
          "2021-05-11",
          "2021-05-12",
          "2021-05-13",
          "2021-05-14",
          "2021-05-15",
          "2021-05-16",
          "2021-05-17",
          "2021-05-18",
          "2021-05-19",
          "2021-05-20",
          "2021-05-21",
          "2021-05-22",
          "2021-05-23",
          "2021-05-24",
          "2021-05-25",
          "2021-05-26",
          "2021-05-27",
          "2021-05-28",
          "2021-05-29",
          "2021-05-30",
          "2021-05-31",
          "2021-06-01",
          "2021-06-02",
          "2021-06-03",
          "2021-06-04",
          "2021-06-05",
          "2021-06-06",
          "2021-06-07",
          "2021-06-08",
          "2021-06-09",
          "2021-06-10",
          "2021-06-11",
          "2021-06-12",
          "2021-06-13",
          "2021-06-14",
          "2021-06-15",
          "2021-06-16",
          "2021-06-17",
          "2021-06-18",
          "2021-06-19",
          "2021-06-20",
          "2021-06-21",
          "2021-06-22",
          "2021-06-23",
          "2021-06-24",
          "2021-06-25",
          "2021-06-26",
          "2021-06-27",
          "2021-06-28",
          "2021-06-29",
          "2021-06-30",
          "2021-07-01",
          "2021-07-02",
          "2021-07-03",
          "2021-07-04",
          "2021-07-05",
          "2021-07-06",
          "2021-07-07",
          "2021-07-08",
          "2021-07-09",
          "2021-07-10",
          "2021-07-11",
          "2021-07-12",
          "2021-07-13",
          "2021-07-14",
          "2021-07-15",
          "2021-07-16",
          "2021-07-17",
          "2021-07-18",
          "2021-07-19",
          "2021-07-20",
          "2021-07-21",
          "2021-07-22",
          "2021-07-23",
          "2021-07-24",
          "2021-07-25",
          "2021-07-26",
          "2021-07-27",
          "2021-07-28",
          "2021-07-29",
          "2021-07-30",
          "2021-07-31",
          "2021-08-01",
          "2021-08-02",
          "2021-08-03",
          "2021-08-04",
          "2021-08-05",
          "2021-08-06",
          "2021-08-07",
          "2021-08-08",
          "2021-08-09",
          "2021-08-10",
          "2021-08-11",
          "2021-08-12",
          "2021-08-13",
          "2021-08-14",
          "2021-08-15",
          "2021-08-16",
          "2021-08-17",
          "2021-08-18",
          "2021-08-19",
          "2021-08-20",
          "2021-08-21",
          "2021-08-22",
          "2021-08-23",
          "2021-08-24",
          "2021-08-25",
          "2021-08-26",
          "2021-08-27",
          "2021-08-28",
          "2021-08-29",
          "2021-08-30",
          "2021-08-31",
          "2021-09-01",
          "2021-09-02",
          "2021-09-03",
          "2021-09-04",
          "2021-09-05",
          "2021-09-06",
          "2021-09-07",
          "2021-09-08",
          "2021-09-09",
          "2021-09-10",
          "2021-09-11",
          "2021-09-12",
          "2021-09-13",
          "2021-09-14",
          "2021-09-15",
          "2021-09-16",
          "2021-09-17",
          "2021-09-18",
          "2021-09-19",
          "2021-09-20",
          "2021-09-21",
          "2021-09-22",
          "2021-09-23",
          "2021-09-24",
          "2021-09-25",
          "2021-09-26",
          "2021-09-27",
          "2021-09-28",
          "2021-09-29",
          "2021-09-30",
          "2021-10-01",
          "2021-10-02",
          "2021-10-03",
          "2021-10-04",
          "2021-10-05",
          "2021-10-06",
          "2021-10-07",
          "2021-10-08",
          "2021-10-09",
          "2021-10-10",
          "2021-10-11",
          "2021-10-12",
          "2021-10-13",
          "2021-10-14",
          "2021-10-15",
          "2021-10-16",
          "2021-10-17",
          "2021-10-18",
          "2021-10-19",
          "2021-10-20",
          "2021-10-21",
          "2021-10-22",
          "2021-10-23",
          "2021-10-24",
          "2021-10-25",
          "2021-10-26",
          "2021-10-27",
          "2021-10-28",
          "2021-10-29",
          "2021-10-30",
          "2021-10-31",
          "2021-11-01",
          "2021-11-02",
          "2021-11-03",
          "2021-11-04",
          "2021-11-05",
          "2021-11-06",
          "2021-11-07",
          "2021-11-08",
          "2021-11-09",
          "2021-11-10",
          "2021-11-11",
          "2021-11-12",
          "2021-11-13",
          "2021-11-14",
          "2021-11-15",
          "2021-11-16",
          "2021-11-17",
          "2021-11-18",
          "2021-11-19",
          "2021-11-20",
          "2021-11-21",
          "2021-11-22",
          "2021-11-23",
          "2021-11-24",
          "2021-11-25",
          "2021-11-26",
          "2021-11-27",
          "2021-11-28",
          "2021-11-29",
          "2021-11-30",
          "2021-12-01",
          "2021-12-02",
          "2021-12-03",
          "2021-12-04",
          "2021-12-05",
          "2021-12-06",
          "2021-12-07",
          "2021-12-08",
          "2021-12-09",
          "2021-12-10",
          "2021-12-11",
          "2021-12-12",
          "2021-12-13",
          "2021-12-14",
          "2021-12-15",
          "2021-12-16",
          "2021-12-17",
          "2021-12-18",
          "2021-12-19",
          "2021-12-20",
          "2021-12-21",
          "2021-12-22",
          "2021-12-23",
          "2021-12-24",
          "2021-12-25",
          "2021-12-26",
          "2021-12-27",
          "2021-12-28",
          "2021-12-29",
          "2021-12-30",
          "2021-12-31",
          "2022-01-01",
          "2022-01-02",
          "2022-01-03",
          "2022-01-04",
          "2022-01-05",
          "2022-01-06",
          "2022-01-07",
          "2022-01-08",
          "2022-01-09",
          "2022-01-10",
          "2022-01-11",
          "2022-01-12",
          "2022-01-13",
          "2022-01-14",
          "2022-01-15",
          "2022-01-16",
          "2022-01-17",
          "2022-01-18",
          "2022-01-19",
          "2022-01-20",
          "2022-01-21",
          "2022-01-22",
          "2022-01-23",
          "2022-01-24",
          "2022-01-25",
          "2022-01-26",
          "2022-01-27",
          "2022-01-28",
          "2022-01-29",
          "2022-01-30",
          "2022-01-31",
          "2022-02-01",
          "2022-02-02",
          "2022-02-03",
          "2022-02-04",
          "2022-02-05",
          "2022-02-06",
          "2022-02-07",
          "2022-02-08",
          "2022-02-09",
          "2022-02-10",
          "2022-02-11",
          "2022-02-12",
          "2022-02-13",
          "2022-02-14",
          "2022-02-15",
          "2022-02-16",
          "2022-02-17",
          "2022-02-18",
          "2022-02-19",
          "2022-02-20",
          "2022-02-21",
          "2022-02-22",
          "2022-02-23",
          "2022-02-24",
          "2022-02-25",
          "2022-02-26",
          "2022-02-27",
          "2022-02-28",
          "2022-03-01",
          "2022-03-02",
          "2022-03-03",
          "2022-03-04",
          "2022-03-05"
         ],
         "xaxis": "x",
         "y": [
          17,
          18,
          26,
          42,
          56,
          82,
          131,
          133,
          171,
          213,
          259,
          362,
          426,
          492,
          564,
          634,
          719,
          806,
          906,
          1013,
          1113,
          1118,
          1371,
          1523,
          1666,
          1770,
          1868,
          2008,
          2123,
          2248,
          2252,
          2459,
          2470,
          2630,
          2710,
          2771,
          2814,
          2873,
          2943,
          2997,
          3086,
          3160,
          3255,
          3348,
          3461,
          3566,
          3807,
          3997,
          4273,
          4618,
          4928,
          5422,
          5844,
          6490,
          7183,
          8000,
          8920,
          10038,
          11538,
          13268,
          14958,
          16923,
          19244,
          22079,
          25127,
          28627,
          32482,
          35982,
          40085,
          44853,
          50902,
          56832,
          63080,
          69074,
          74342,
          80332,
          88714,
          95620,
          103502,
          110959,
          117281,
          123276,
          129370,
          136514,
          145090,
          152504,
          161080,
          167329,
          172711,
          178780,
          186144,
          193163,
          200158,
          207057,
          212943,
          217196,
          222106,
          228925,
          235836,
          241881,
          247341,
          253191,
          257032,
          261482,
          267581,
          274445,
          280115,
          286010,
          290562,
          294608,
          298502,
          304344,
          309817,
          315396,
          321030,
          325564,
          329142,
          333294,
          338431,
          343798,
          348757,
          354445,
          358817,
          362292,
          363814,
          368454,
          373823,
          378853,
          384010,
          388287,
          391427,
          395064,
          400348,
          406027,
          411462,
          416583,
          420665,
          423781,
          428116,
          433227,
          438662,
          443742,
          448475,
          452876,
          456535,
          460523,
          467658,
          473139,
          478461,
          484800,
          489244,
          493833,
          497628,
          503210,
          508677,
          513759,
          518839,
          523530,
          527102,
          531123,
          536360,
          541730,
          547207,
          552441,
          557206,
          561005,
          565219,
          571603,
          577235,
          583038,
          588780,
          593884,
          598169,
          602549,
          608536,
          614432,
          620597,
          627588,
          634088,
          638979,
          642900,
          649257,
          656629,
          663271,
          669726,
          675798,
          680151,
          685429,
          692375,
          699026,
          705775,
          712360,
          718362,
          723021,
          727813,
          734985,
          742371,
          749189,
          755932,
          761943,
          767112,
          772475,
          779108,
          786054,
          792846,
          799426,
          805443,
          810229,
          814846,
          821896,
          828904,
          835352,
          841094,
          846904,
          851217,
          856053,
          862626,
          869189,
          875411,
          881238,
          887058,
          891323,
          895748,
          902345,
          908636,
          914740,
          920611,
          925731,
          929853,
          939463,
          944600,
          950858,
          956876,
          962879,
          967935,
          971888,
          976481,
          983057,
          988935,
          994585,
          1000443,
          1005761,
          1009728,
          1014138,
          1020309,
          1026857,
          1032543,
          1038561,
          1044003,
          1047854,
          1051935,
          1058041,
          1064503,
          1073409,
          1079012,
          1083744,
          1087735,
          1094802,
          1100661,
          1106566,
          1112933,
          1119124,
          1124017,
          1128146,
          1132212,
          1137631,
          1143823,
          1150013,
          1156228,
          1161930,
          1165791,
          1170536,
          1177184,
          1184046,
          1189981,
          1197048,
          1202922,
          1207188,
          1212815,
          1220283,
          1227502,
          1234716,
          1242411,
          1249011,
          1254145,
          1260330,
          1269822,
          1279987,
          1288703,
          1297827,
          1305523,
          1311626,
          1318833,
          1328906,
          1339429,
          1349218,
          1358985,
          1368050,
          1374638,
          1382577,
          1393670,
          1405099,
          1416252,
          1428022,
          1437052,
          1444493,
          1453020,
          1465751,
          1477890,
          1488932,
          1500388,
          1509654,
          1516949,
          1525916,
          1538675,
          1551318,
          1563918,
          1576378,
          1586715,
          1594444,
          1603158,
          1615473,
          1628143,
          1640808,
          1653873,
          1664632,
          1672459,
          1681631,
          1695407,
          1709286,
          1722670,
          1735608,
          1746579,
          1754701,
          1764269,
          1778471,
          1792274,
          1804097,
          1812826,
          1820397,
          1828147,
          1837757,
          1852857,
          1868490,
          1881742,
          1891455,
          1899927,
          1907578,
          1917636,
          1933112,
          1948181,
          1963333,
          1978730,
          1991577,
          2000408,
          2010489,
          2027657,
          2044530,
          2060001,
          2075023,
          2088739,
          2097824,
          2107595,
          2124205,
          2142224,
          2159379,
          2175439,
          2189360,
          2198557,
          2209583,
          2226994,
          2244349,
          2261378,
          2276766,
          2290272,
          2299043,
          2309396,
          2324812,
          2340847,
          2353848,
          2370986,
          2382386,
          2389684,
          2399088,
          2414519,
          2428554,
          2442333,
          2455361,
          2465780,
          2472429,
          2479908,
          2491260,
          2503223,
          2515142,
          2526834,
          2535585,
          2542103,
          2549477,
          2561162,
          2573694,
          2584351,
          2595144,
          2603637,
          2609901,
          2617602,
          2628028,
          2639792,
          2650198,
          2660713,
          2668810,
          2674705,
          2681959,
          2692573,
          2702806,
          2713004,
          2722889,
          2731291,
          2737149,
          2744813,
          2755460,
          2766059,
          2776794,
          2787624,
          2796307,
          2804777,
          2812837,
          2824325,
          2835065,
          2846590,
          2859349,
          2869497,
          2876710,
          2885474,
          2897491,
          2910371,
          2922713,
          2933245,
          2942527,
          2949884,
          2958157,
          2970653,
          2986242,
          3000581,
          3014906,
          3027765,
          3036844,
          3046936,
          3060802,
          3074852,
          3088459,
          3101818,
          3114285,
          3123392,
          3134718,
          3149071,
          3163730,
          3177618,
          3192919,
          3205880,
          3216565,
          3228433,
          3243422,
          3259345,
          3275099,
          3289441,
          3302348,
          3312625,
          3324499,
          3338587,
          3353427,
          3368073,
          3382551,
          3395747,
          3406076,
          3417369,
          3431550,
          3445500,
          3459088,
          3472080,
          3484241,
          3494501,
          3505972,
          3520114,
          3533555,
          3546720,
          3559644,
          3570987,
          3580768,
          3589883,
          3603086,
          3615873,
          3628729,
          3640715,
          3651416,
          3659760,
          3668553,
          3683798,
          3695683,
          3705771,
          3716455,
          3725802,
          3733028,
          3741196,
          3751824,
          3761960,
          3777941,
          3789711,
          3799406,
          3808659,
          3816718,
          3827513,
          3837537,
          3846838,
          3856052,
          3864129,
          3870855,
          3877904,
          3886832,
          3896228,
          3904850,
          3914087,
          3921556,
          3927629,
          3934225,
          3942374,
          3951571,
          3960127,
          3968421,
          3975328,
          3981938,
          3989325,
          3997834,
          4006354,
          4015284,
          4023639,
          4030212,
          4037813,
          4045904,
          4054288,
          4062903,
          4071492,
          4080143,
          4087638,
          4094266,
          4101435,
          4122149,
          4130824,
          4139598,
          4147896,
          4156575,
          4163895,
          4172346,
          4182176,
          4192431,
          4202595,
          4212149,
          4220955,
          4228313,
          4236383,
          4246800,
          4257294,
          4268234,
          4278702,
          4287346,
          4294777,
          4303527,
          4315146,
          4325654,
          4336149,
          4346606,
          4355318,
          4362712,
          4372507,
          4383276,
          4394063,
          4405499,
          4416009,
          4424890,
          4432554,
          4442569,
          4453617,
          4464899,
          4476518,
          4486855,
          4495276,
          4501991,
          4511528,
          4520721,
          4533219,
          4544402,
          4555120,
          4562841,
          4569298,
          4577333,
          4587815,
          4597868,
          4608696,
          4617836,
          4626162,
          4631713,
          4640801,
          4650754,
          4661232,
          4671701,
          4680748,
          4687248,
          4693209,
          4701397,
          4710725,
          4720668,
          4730449,
          4739174,
          4744608,
          4750041,
          4757792,
          4767214,
          4776483,
          4785316,
          4793923,
          4799801,
          4804045,
          4811212,
          4818641,
          4827782,
          4836736,
          4844299,
          4849156,
          4853825,
          4859569,
          4867691,
          4876548,
          4884532,
          4891765,
          4897046,
          4901319,
          4907772,
          4916017,
          4924708,
          4932412,
          4940603,
          4946425,
          4950941,
          4957584,
          4965499,
          4974677,
          4983478,
          4991351,
          4997352,
          5001835,
          5008111,
          5015394,
          5023810,
          5031415,
          5040026,
          5046670,
          5051156,
          5057822,
          5066051,
          5074333,
          5081958,
          5091056,
          5097336,
          5101957,
          5108848,
          5116574,
          5125786,
          5134089,
          5142155,
          5148222,
          5152765,
          5160025,
          5168097,
          5176777,
          5184611,
          5191436,
          5197392,
          5202183,
          5209926,
          5217915,
          5227242,
          5237410,
          5246006,
          5251528,
          5258871,
          5265685,
          5274080,
          5282025,
          5290884,
          5299010,
          5304989,
          5309529,
          5316119,
          5323874,
          5333065,
          5340379,
          5347385,
          5353451,
          5357774,
          5364720,
          5372453,
          5380698,
          5390005,
          5395890,
          5400143,
          5403745,
          5410470,
          5417948,
          5425985,
          5433556,
          5440149,
          5444444,
          5447658,
          5453747,
          5461700,
          5469686,
          5477084,
          5484304,
          5489653,
          5493586,
          5500009,
          5509519,
          5518759,
          5526867,
          5534601,
          5540797,
          5545118,
          5551351,
          5560593,
          5571160,
          5580614,
          5590463,
          5596578,
          5601544,
          5610171,
          5620754,
          5631707,
          5642109,
          5654229,
          5662135,
          5667733,
          5677459,
          5691855,
          5704075,
          5715664,
          5728922,
          5737221,
          5743076,
          5753776,
          5767062,
          5780373,
          5792072,
          5804180,
          5812904,
          5817998,
          5828669,
          5839250,
          5852327,
          5865039,
          5875618,
          5884002,
          5889289,
          5896747,
          5906759,
          5918464,
          5929199,
          5938279,
          5944671,
          5949086,
          5956845,
          5964706,
          5972651,
          5981034,
          5989802,
          5995245
         ],
         "yaxis": "y"
        },
        {
         "fillpattern": {
          "shape": ""
         },
         "hovertemplate": "Case=PeopleVaccinated<br>Date=%{x}<br>Count=%{y}<extra></extra>",
         "legendgroup": "PeopleVaccinated",
         "line": {
          "color": "green"
         },
         "marker": {
          "symbol": "circle"
         },
         "mode": "lines",
         "name": "PeopleVaccinated",
         "orientation": "v",
         "showlegend": true,
         "stackgroup": "1",
         "type": "scatter",
         "x": [
          "2020-01-22",
          "2020-01-23",
          "2020-01-24",
          "2020-01-25",
          "2020-01-26",
          "2020-01-27",
          "2020-01-28",
          "2020-01-29",
          "2020-01-30",
          "2020-01-31",
          "2020-02-01",
          "2020-02-02",
          "2020-02-03",
          "2020-02-04",
          "2020-02-05",
          "2020-02-06",
          "2020-02-07",
          "2020-02-08",
          "2020-02-09",
          "2020-02-10",
          "2020-02-11",
          "2020-02-12",
          "2020-02-13",
          "2020-02-14",
          "2020-02-15",
          "2020-02-16",
          "2020-02-17",
          "2020-02-18",
          "2020-02-19",
          "2020-02-20",
          "2020-02-21",
          "2020-02-22",
          "2020-02-23",
          "2020-02-24",
          "2020-02-25",
          "2020-02-26",
          "2020-02-27",
          "2020-02-28",
          "2020-02-29",
          "2020-03-01",
          "2020-03-02",
          "2020-03-03",
          "2020-03-04",
          "2020-03-05",
          "2020-03-06",
          "2020-03-07",
          "2020-03-08",
          "2020-03-09",
          "2020-03-10",
          "2020-03-11",
          "2020-03-12",
          "2020-03-13",
          "2020-03-14",
          "2020-03-15",
          "2020-03-16",
          "2020-03-17",
          "2020-03-18",
          "2020-03-19",
          "2020-03-20",
          "2020-03-21",
          "2020-03-22",
          "2020-03-23",
          "2020-03-24",
          "2020-03-25",
          "2020-03-26",
          "2020-03-27",
          "2020-03-28",
          "2020-03-29",
          "2020-03-30",
          "2020-03-31",
          "2020-04-01",
          "2020-04-02",
          "2020-04-03",
          "2020-04-04",
          "2020-04-05",
          "2020-04-06",
          "2020-04-07",
          "2020-04-08",
          "2020-04-09",
          "2020-04-10",
          "2020-04-11",
          "2020-04-12",
          "2020-04-13",
          "2020-04-14",
          "2020-04-15",
          "2020-04-16",
          "2020-04-17",
          "2020-04-18",
          "2020-04-19",
          "2020-04-20",
          "2020-04-21",
          "2020-04-22",
          "2020-04-23",
          "2020-04-24",
          "2020-04-25",
          "2020-04-26",
          "2020-04-27",
          "2020-04-28",
          "2020-04-29",
          "2020-04-30",
          "2020-05-01",
          "2020-05-02",
          "2020-05-03",
          "2020-05-04",
          "2020-05-05",
          "2020-05-06",
          "2020-05-07",
          "2020-05-08",
          "2020-05-09",
          "2020-05-10",
          "2020-05-11",
          "2020-05-12",
          "2020-05-13",
          "2020-05-14",
          "2020-05-15",
          "2020-05-16",
          "2020-05-17",
          "2020-05-18",
          "2020-05-19",
          "2020-05-20",
          "2020-05-21",
          "2020-05-22",
          "2020-05-23",
          "2020-05-24",
          "2020-05-25",
          "2020-05-26",
          "2020-05-27",
          "2020-05-28",
          "2020-05-29",
          "2020-05-30",
          "2020-05-31",
          "2020-06-01",
          "2020-06-02",
          "2020-06-03",
          "2020-06-04",
          "2020-06-05",
          "2020-06-06",
          "2020-06-07",
          "2020-06-08",
          "2020-06-09",
          "2020-06-10",
          "2020-06-11",
          "2020-06-12",
          "2020-06-13",
          "2020-06-14",
          "2020-06-15",
          "2020-06-16",
          "2020-06-17",
          "2020-06-18",
          "2020-06-19",
          "2020-06-20",
          "2020-06-21",
          "2020-06-22",
          "2020-06-23",
          "2020-06-24",
          "2020-06-25",
          "2020-06-26",
          "2020-06-27",
          "2020-06-28",
          "2020-06-29",
          "2020-06-30",
          "2020-07-01",
          "2020-07-02",
          "2020-07-03",
          "2020-07-04",
          "2020-07-05",
          "2020-07-06",
          "2020-07-07",
          "2020-07-08",
          "2020-07-09",
          "2020-07-10",
          "2020-07-11",
          "2020-07-12",
          "2020-07-13",
          "2020-07-14",
          "2020-07-15",
          "2020-07-16",
          "2020-07-17",
          "2020-07-18",
          "2020-07-19",
          "2020-07-20",
          "2020-07-21",
          "2020-07-22",
          "2020-07-23",
          "2020-07-24",
          "2020-07-25",
          "2020-07-26",
          "2020-07-27",
          "2020-07-28",
          "2020-07-29",
          "2020-07-30",
          "2020-07-31",
          "2020-08-01",
          "2020-08-02",
          "2020-08-03",
          "2020-08-04",
          "2020-08-05",
          "2020-08-06",
          "2020-08-07",
          "2020-08-08",
          "2020-08-09",
          "2020-08-10",
          "2020-08-11",
          "2020-08-12",
          "2020-08-13",
          "2020-08-14",
          "2020-08-15",
          "2020-08-16",
          "2020-08-17",
          "2020-08-18",
          "2020-08-19",
          "2020-08-20",
          "2020-08-21",
          "2020-08-22",
          "2020-08-23",
          "2020-08-24",
          "2020-08-25",
          "2020-08-26",
          "2020-08-27",
          "2020-08-28",
          "2020-08-29",
          "2020-08-30",
          "2020-08-31",
          "2020-09-01",
          "2020-09-02",
          "2020-09-03",
          "2020-09-04",
          "2020-09-05",
          "2020-09-06",
          "2020-09-07",
          "2020-09-08",
          "2020-09-09",
          "2020-09-10",
          "2020-09-11",
          "2020-09-12",
          "2020-09-13",
          "2020-09-14",
          "2020-09-15",
          "2020-09-16",
          "2020-09-17",
          "2020-09-18",
          "2020-09-19",
          "2020-09-20",
          "2020-09-21",
          "2020-09-22",
          "2020-09-23",
          "2020-09-24",
          "2020-09-25",
          "2020-09-26",
          "2020-09-27",
          "2020-09-28",
          "2020-09-29",
          "2020-09-30",
          "2020-10-01",
          "2020-10-02",
          "2020-10-03",
          "2020-10-04",
          "2020-10-05",
          "2020-10-06",
          "2020-10-07",
          "2020-10-08",
          "2020-10-09",
          "2020-10-10",
          "2020-10-11",
          "2020-10-12",
          "2020-10-13",
          "2020-10-14",
          "2020-10-15",
          "2020-10-16",
          "2020-10-17",
          "2020-10-18",
          "2020-10-19",
          "2020-10-20",
          "2020-10-21",
          "2020-10-22",
          "2020-10-23",
          "2020-10-24",
          "2020-10-25",
          "2020-10-26",
          "2020-10-27",
          "2020-10-28",
          "2020-10-29",
          "2020-10-30",
          "2020-10-31",
          "2020-11-01",
          "2020-11-02",
          "2020-11-03",
          "2020-11-04",
          "2020-11-05",
          "2020-11-06",
          "2020-11-07",
          "2020-11-08",
          "2020-11-09",
          "2020-11-10",
          "2020-11-11",
          "2020-11-12",
          "2020-11-13",
          "2020-11-14",
          "2020-11-15",
          "2020-11-16",
          "2020-11-17",
          "2020-11-18",
          "2020-11-19",
          "2020-11-20",
          "2020-11-21",
          "2020-11-22",
          "2020-11-23",
          "2020-11-24",
          "2020-11-25",
          "2020-11-26",
          "2020-11-27",
          "2020-11-28",
          "2020-11-29",
          "2020-11-30",
          "2020-12-01",
          "2020-12-02",
          "2020-12-03",
          "2020-12-04",
          "2020-12-05",
          "2020-12-06",
          "2020-12-07",
          "2020-12-08",
          "2020-12-09",
          "2020-12-10",
          "2020-12-11",
          "2020-12-12",
          "2020-12-13",
          "2020-12-14",
          "2020-12-15",
          "2020-12-16",
          "2020-12-17",
          "2020-12-18",
          "2020-12-19",
          "2020-12-20",
          "2020-12-21",
          "2020-12-22",
          "2020-12-23",
          "2020-12-24",
          "2020-12-25",
          "2020-12-26",
          "2020-12-27",
          "2020-12-28",
          "2020-12-29",
          "2020-12-30",
          "2020-12-31",
          "2021-01-01",
          "2021-01-02",
          "2021-01-03",
          "2021-01-04",
          "2021-01-05",
          "2021-01-06",
          "2021-01-07",
          "2021-01-08",
          "2021-01-09",
          "2021-01-10",
          "2021-01-11",
          "2021-01-12",
          "2021-01-13",
          "2021-01-14",
          "2021-01-15",
          "2021-01-16",
          "2021-01-17",
          "2021-01-18",
          "2021-01-19",
          "2021-01-20",
          "2021-01-21",
          "2021-01-22",
          "2021-01-23",
          "2021-01-24",
          "2021-01-25",
          "2021-01-26",
          "2021-01-27",
          "2021-01-28",
          "2021-01-29",
          "2021-01-30",
          "2021-01-31",
          "2021-02-01",
          "2021-02-02",
          "2021-02-03",
          "2021-02-04",
          "2021-02-05",
          "2021-02-06",
          "2021-02-07",
          "2021-02-08",
          "2021-02-09",
          "2021-02-10",
          "2021-02-11",
          "2021-02-12",
          "2021-02-13",
          "2021-02-14",
          "2021-02-15",
          "2021-02-16",
          "2021-02-17",
          "2021-02-18",
          "2021-02-19",
          "2021-02-20",
          "2021-02-21",
          "2021-02-22",
          "2021-02-23",
          "2021-02-24",
          "2021-02-25",
          "2021-02-26",
          "2021-02-27",
          "2021-02-28",
          "2021-03-01",
          "2021-03-02",
          "2021-03-03",
          "2021-03-04",
          "2021-03-05",
          "2021-03-06",
          "2021-03-07",
          "2021-03-08",
          "2021-03-09",
          "2021-03-10",
          "2021-03-11",
          "2021-03-12",
          "2021-03-13",
          "2021-03-14",
          "2021-03-15",
          "2021-03-16",
          "2021-03-17",
          "2021-03-18",
          "2021-03-19",
          "2021-03-20",
          "2021-03-21",
          "2021-03-22",
          "2021-03-23",
          "2021-03-24",
          "2021-03-25",
          "2021-03-26",
          "2021-03-27",
          "2021-03-28",
          "2021-03-29",
          "2021-03-30",
          "2021-03-31",
          "2021-04-01",
          "2021-04-02",
          "2021-04-03",
          "2021-04-04",
          "2021-04-05",
          "2021-04-06",
          "2021-04-07",
          "2021-04-08",
          "2021-04-09",
          "2021-04-10",
          "2021-04-11",
          "2021-04-12",
          "2021-04-13",
          "2021-04-14",
          "2021-04-15",
          "2021-04-16",
          "2021-04-17",
          "2021-04-18",
          "2021-04-19",
          "2021-04-20",
          "2021-04-21",
          "2021-04-22",
          "2021-04-23",
          "2021-04-24",
          "2021-04-25",
          "2021-04-26",
          "2021-04-27",
          "2021-04-28",
          "2021-04-29",
          "2021-04-30",
          "2021-05-01",
          "2021-05-02",
          "2021-05-03",
          "2021-05-04",
          "2021-05-05",
          "2021-05-06",
          "2021-05-07",
          "2021-05-08",
          "2021-05-09",
          "2021-05-10",
          "2021-05-11",
          "2021-05-12",
          "2021-05-13",
          "2021-05-14",
          "2021-05-15",
          "2021-05-16",
          "2021-05-17",
          "2021-05-18",
          "2021-05-19",
          "2021-05-20",
          "2021-05-21",
          "2021-05-22",
          "2021-05-23",
          "2021-05-24",
          "2021-05-25",
          "2021-05-26",
          "2021-05-27",
          "2021-05-28",
          "2021-05-29",
          "2021-05-30",
          "2021-05-31",
          "2021-06-01",
          "2021-06-02",
          "2021-06-03",
          "2021-06-04",
          "2021-06-05",
          "2021-06-06",
          "2021-06-07",
          "2021-06-08",
          "2021-06-09",
          "2021-06-10",
          "2021-06-11",
          "2021-06-12",
          "2021-06-13",
          "2021-06-14",
          "2021-06-15",
          "2021-06-16",
          "2021-06-17",
          "2021-06-18",
          "2021-06-19",
          "2021-06-20",
          "2021-06-21",
          "2021-06-22",
          "2021-06-23",
          "2021-06-24",
          "2021-06-25",
          "2021-06-26",
          "2021-06-27",
          "2021-06-28",
          "2021-06-29",
          "2021-06-30",
          "2021-07-01",
          "2021-07-02",
          "2021-07-03",
          "2021-07-04",
          "2021-07-05",
          "2021-07-06",
          "2021-07-07",
          "2021-07-08",
          "2021-07-09",
          "2021-07-10",
          "2021-07-11",
          "2021-07-12",
          "2021-07-13",
          "2021-07-14",
          "2021-07-15",
          "2021-07-16",
          "2021-07-17",
          "2021-07-18",
          "2021-07-19",
          "2021-07-20",
          "2021-07-21",
          "2021-07-22",
          "2021-07-23",
          "2021-07-24",
          "2021-07-25",
          "2021-07-26",
          "2021-07-27",
          "2021-07-28",
          "2021-07-29",
          "2021-07-30",
          "2021-07-31",
          "2021-08-01",
          "2021-08-02",
          "2021-08-03",
          "2021-08-04",
          "2021-08-05",
          "2021-08-06",
          "2021-08-07",
          "2021-08-08",
          "2021-08-09",
          "2021-08-10",
          "2021-08-11",
          "2021-08-12",
          "2021-08-13",
          "2021-08-14",
          "2021-08-15",
          "2021-08-16",
          "2021-08-17",
          "2021-08-18",
          "2021-08-19",
          "2021-08-20",
          "2021-08-21",
          "2021-08-22",
          "2021-08-23",
          "2021-08-24",
          "2021-08-25",
          "2021-08-26",
          "2021-08-27",
          "2021-08-28",
          "2021-08-29",
          "2021-08-30",
          "2021-08-31",
          "2021-09-01",
          "2021-09-02",
          "2021-09-03",
          "2021-09-04",
          "2021-09-05",
          "2021-09-06",
          "2021-09-07",
          "2021-09-08",
          "2021-09-09",
          "2021-09-10",
          "2021-09-11",
          "2021-09-12",
          "2021-09-13",
          "2021-09-14",
          "2021-09-15",
          "2021-09-16",
          "2021-09-17",
          "2021-09-18",
          "2021-09-19",
          "2021-09-20",
          "2021-09-21",
          "2021-09-22",
          "2021-09-23",
          "2021-09-24",
          "2021-09-25",
          "2021-09-26",
          "2021-09-27",
          "2021-09-28",
          "2021-09-29",
          "2021-09-30",
          "2021-10-01",
          "2021-10-02",
          "2021-10-03",
          "2021-10-04",
          "2021-10-05",
          "2021-10-06",
          "2021-10-07",
          "2021-10-08",
          "2021-10-09",
          "2021-10-10",
          "2021-10-11",
          "2021-10-12",
          "2021-10-13",
          "2021-10-14",
          "2021-10-15",
          "2021-10-16",
          "2021-10-17",
          "2021-10-18",
          "2021-10-19",
          "2021-10-20",
          "2021-10-21",
          "2021-10-22",
          "2021-10-23",
          "2021-10-24",
          "2021-10-25",
          "2021-10-26",
          "2021-10-27",
          "2021-10-28",
          "2021-10-29",
          "2021-10-30",
          "2021-10-31",
          "2021-11-01",
          "2021-11-02",
          "2021-11-03",
          "2021-11-04",
          "2021-11-05",
          "2021-11-06",
          "2021-11-07",
          "2021-11-08",
          "2021-11-09",
          "2021-11-10",
          "2021-11-11",
          "2021-11-12",
          "2021-11-13",
          "2021-11-14",
          "2021-11-15",
          "2021-11-16",
          "2021-11-17",
          "2021-11-18",
          "2021-11-19",
          "2021-11-20",
          "2021-11-21",
          "2021-11-22",
          "2021-11-23",
          "2021-11-24",
          "2021-11-25",
          "2021-11-26",
          "2021-11-27",
          "2021-11-28",
          "2021-11-29",
          "2021-11-30",
          "2021-12-01",
          "2021-12-02",
          "2021-12-03",
          "2021-12-04",
          "2021-12-05",
          "2021-12-06",
          "2021-12-07",
          "2021-12-08",
          "2021-12-09",
          "2021-12-10",
          "2021-12-11",
          "2021-12-12",
          "2021-12-13",
          "2021-12-14",
          "2021-12-15",
          "2021-12-16",
          "2021-12-17",
          "2021-12-18",
          "2021-12-19",
          "2021-12-20",
          "2021-12-21",
          "2021-12-22",
          "2021-12-23",
          "2021-12-24",
          "2021-12-25",
          "2021-12-26",
          "2021-12-27",
          "2021-12-28",
          "2021-12-29",
          "2021-12-30",
          "2021-12-31",
          "2022-01-01",
          "2022-01-02",
          "2022-01-03",
          "2022-01-04",
          "2022-01-05",
          "2022-01-06",
          "2022-01-07",
          "2022-01-08",
          "2022-01-09",
          "2022-01-10",
          "2022-01-11",
          "2022-01-12",
          "2022-01-13",
          "2022-01-14",
          "2022-01-15",
          "2022-01-16",
          "2022-01-17",
          "2022-01-18",
          "2022-01-19",
          "2022-01-20",
          "2022-01-21",
          "2022-01-22",
          "2022-01-23",
          "2022-01-24",
          "2022-01-25",
          "2022-01-26",
          "2022-01-27",
          "2022-01-28",
          "2022-01-29",
          "2022-01-30",
          "2022-01-31",
          "2022-02-01",
          "2022-02-02",
          "2022-02-03",
          "2022-02-04",
          "2022-02-05",
          "2022-02-06",
          "2022-02-07",
          "2022-02-08",
          "2022-02-09",
          "2022-02-10",
          "2022-02-11",
          "2022-02-12",
          "2022-02-13",
          "2022-02-14",
          "2022-02-15",
          "2022-02-16",
          "2022-02-17",
          "2022-02-18",
          "2022-02-19",
          "2022-02-20",
          "2022-02-21",
          "2022-02-22",
          "2022-02-23",
          "2022-02-24",
          "2022-02-25",
          "2022-02-26",
          "2022-02-27",
          "2022-02-28",
          "2022-03-01",
          "2022-03-02",
          "2022-03-03",
          "2022-03-04",
          "2022-03-05"
         ],
         "xaxis": "x",
         "y": [
          0,
          0,
          0,
          0,
          0,
          0,
          0,
          0,
          0,
          0,
          0,
          0,
          0,
          0,
          0,
          0,
          0,
          0,
          0,
          0,
          0,
          0,
          0,
          0,
          0,
          0,
          0,
          0,
          0,
          0,
          0,
          0,
          0,
          0,
          0,
          0,
          0,
          0,
          0,
          0,
          0,
          0,
          0,
          0,
          0,
          0,
          0,
          0,
          0,
          0,
          0,
          0,
          0,
          0,
          0,
          0,
          0,
          0,
          0,
          0,
          0,
          0,
          0,
          0,
          0,
          0,
          0,
          0,
          0,
          0,
          0,
          0,
          0,
          0,
          0,
          0,
          0,
          0,
          0,
          0,
          0,
          0,
          0,
          0,
          0,
          0,
          0,
          0,
          0,
          0,
          0,
          0,
          0,
          0,
          0,
          0,
          0,
          0,
          0,
          0,
          0,
          0,
          0,
          0,
          0,
          0,
          0,
          0,
          0,
          0,
          0,
          0,
          0,
          0,
          0,
          0,
          0,
          0,
          0,
          0,
          0,
          0,
          0,
          0,
          0,
          0,
          0,
          0,
          0,
          0,
          0,
          0,
          0,
          0,
          0,
          0,
          0,
          0,
          0,
          0,
          0,
          0,
          0,
          0,
          0,
          0,
          0,
          0,
          0,
          0,
          0,
          0,
          0,
          0,
          0,
          0,
          0,
          0,
          0,
          0,
          0,
          0,
          0,
          0,
          0,
          0,
          0,
          0,
          0,
          0,
          0,
          0,
          0,
          0,
          0,
          0,
          0,
          0,
          0,
          0,
          0,
          0,
          0,
          0,
          0,
          0,
          0,
          0,
          0,
          0,
          0,
          0,
          0,
          0,
          0,
          0,
          0,
          0,
          0,
          0,
          0,
          0,
          0,
          0,
          0,
          0,
          0,
          0,
          0,
          0,
          0,
          0,
          0,
          0,
          0,
          0,
          0,
          0,
          0,
          0,
          0,
          0,
          0,
          0,
          0,
          0,
          0,
          0,
          0,
          0,
          0,
          0,
          0,
          0,
          0,
          0,
          0,
          0,
          0,
          0,
          0,
          0,
          0,
          0,
          0,
          0,
          0,
          0,
          0,
          0,
          0,
          0,
          0,
          0,
          0,
          0,
          0,
          0,
          0,
          0,
          0,
          0,
          0,
          0,
          0,
          0,
          0,
          0,
          0,
          0,
          0,
          0,
          0,
          0,
          0,
          0,
          0,
          0,
          0,
          0,
          0,
          0,
          0,
          0,
          0,
          0,
          0,
          0,
          0,
          0,
          0,
          0,
          0,
          0,
          0,
          0,
          0,
          0,
          0,
          0,
          0,
          0,
          0,
          0,
          0,
          0,
          0,
          0,
          0,
          0,
          0,
          0,
          0,
          0,
          0,
          0,
          0,
          1,
          1,
          1,
          2,
          8,
          10,
          11,
          15,
          15,
          24141,
          28538,
          105105,
          261753,
          531264,
          942806,
          1121787,
          1233269,
          1641091,
          2153891,
          2827079,
          3116268,
          3175561,
          3350688,
          3612579,
          4375562,
          5350751,
          6500387,
          7190291,
          7403599,
          8587657,
          8982522,
          10052652,
          11254168,
          12489634,
          13904439,
          15293020,
          15990402,
          19526357,
          20913443,
          22562250,
          24816154,
          27082162,
          29318771,
          30765838,
          31679306,
          33470709,
          35639752,
          38269171,
          41047537,
          44387239,
          46353970,
          47451101,
          49672195,
          51933554,
          54709947,
          57892387,
          61146947,
          63411332,
          64497626,
          66547208,
          68837186,
          71822165,
          75231405,
          78823363,
          81231767,
          82209932,
          84596553,
          87548988,
          90979594,
          94495334,
          101154308,
          103793147,
          105172484,
          108066910,
          110959868,
          114551510,
          118383878,
          123913293,
          126678996,
          128031847,
          130598565,
          136455852,
          140609864,
          145108153,
          149632006,
          153024039,
          155070553,
          158862688,
          166928959,
          172459251,
          178876668,
          185224047,
          190120327,
          193060574,
          198762286,
          204741031,
          211672853,
          217554764,
          224806764,
          230949907,
          233878040,
          240873229,
          247460129,
          254447215,
          261784813,
          270996563,
          277767619,
          280969524,
          288591112,
          295885194,
          304742442,
          312883238,
          322284198,
          328895618,
          332066639,
          339504637,
          347480409,
          358284863,
          368593938,
          377897604,
          384999282,
          390399736,
          398827966,
          409351992,
          420409894,
          433122780,
          444242122,
          453408654,
          459663805,
          469387706,
          478610942,
          488915972,
          497929253,
          506721508,
          514027105,
          519205245,
          527006836,
          534555417,
          542921754,
          551616139,
          559404449,
          564344078,
          572218872,
          579173413,
          586976563,
          597464905,
          606470507,
          614272241,
          619326888,
          622785119,
          628110384,
          635331635,
          643487202,
          652040959,
          661141838,
          666790775,
          671123273,
          678886818,
          688063302,
          696911483,
          704660525,
          712051912,
          719001847,
          724446583,
          731995454,
          741057115,
          749696228,
          759897031,
          768399333,
          777449549,
          783139700,
          792509402,
          800831615,
          811201958,
          821145559,
          831316496,
          841411846,
          847609938,
          855987753,
          867132356,
          878917636,
          889623382,
          902676679,
          911599963,
          919245340,
          929481595,
          943220535,
          956974458,
          1590962747,
          1603491735,
          1614338732,
          1622906452,
          1633642068,
          1646435492,
          1658932807,
          1674490214,
          1687382750,
          1698452142,
          1708302106,
          1725168126,
          1739369269,
          1751168855,
          1766625368,
          1781225435,
          1794949333,
          1819886437,
          1830102348,
          1843644192,
          1854530357,
          1871457386,
          1880566056,
          1893930862,
          1903482630,
          1917412791,
          1928853742,
          1941837984,
          1958024868,
          1966888518,
          1979006486,
          1986201902,
          1997212613,
          2011906407,
          2025552019,
          2039098489,
          2051252201,
          2061804352,
          2067625202,
          2081006567,
          2093668146,
          2102932121,
          2115843993,
          2127831583,
          2137271441,
          2145321508,
          2161965155,
          2174888493,
          2189103917,
          2204611868,
          2219229780,
          2229283209,
          2244404560,
          2255796255,
          2278823056,
          2296217048,
          2311458131,
          2324472419,
          2335440652,
          2347144175,
          2366668913,
          2381657803,
          2396480983,
          2407765610,
          2428067834,
          2439976034,
          2450333299,
          2468478517,
          2483669217,
          2496988790,
          2509379492,
          2526299619,
          2537845017,
          2546428121,
          2554915021,
          2571538814,
          2588160680,
          3052857729,
          3073150522,
          3086224464,
          3104716630,
          3116929356,
          3131755847,
          3153496029,
          3166806533,
          3177298587,
          3185172739,
          3197334294,
          3230994428,
          3248942397,
          3266970437,
          3290534704,
          3303147053,
          3316557908,
          3332261200,
          3346356494,
          3357564788,
          3370862547,
          3384460397,
          3395328203,
          3423011047,
          3434552934,
          3447235270,
          3462121181,
          3474320381,
          3488459642,
          3501490848,
          3510620384,
          3518726782,
          3543298866,
          3553406189,
          3570114753,
          3584964919,
          3595511812,
          3605284472,
          3618383453,
          3627685056,
          3640733221,
          3650983905,
          3659720860,
          3673460100,
          3681774443,
          3695182232,
          3702973281,
          3712305814,
          3720952115,
          3730924915,
          3737630647,
          3743651515,
          3756150508,
          3767855430,
          3778196476,
          3794921538,
          3810706471,
          3820846632,
          3832148559,
          3840426431,
          3846682396,
          3856262680,
          3863544432,
          3874802178,
          3886939052,
          3897909205,
          3906677709,
          3914142586,
          3921069202,
          3928431711,
          3937721284,
          3947915615,
          3954353658,
          3962220959,
          3969158843,
          3978198150,
          3990637826,
          4007506377,
          4015203526,
          4023510738,
          4031982484,
          4037683552,
          4043656830,
          4051279791,
          4058586320,
          4191827989,
          4201074035,
          4207405352,
          4214534033,
          4222122552,
          4234103535,
          4240256324,
          4249353291,
          4256019788,
          4265756820,
          4276362945,
          4286008360,
          4296513336,
          4320913362,
          4327006767,
          4335700388,
          4343213024,
          4351130088,
          4357026875,
          4366259133,
          4376918453,
          4381652892,
          4392821961,
          4398750543,
          4402910984,
          4410652881,
          4418004833,
          4422508729,
          4430119217,
          4443286717,
          4449234508,
          4458680767,
          4464707430,
          4470125812,
          4478714711,
          4484844838,
          4488540738,
          4491193661,
          4497512962,
          4541636468,
          4547909599,
          4553872749,
          4560707907,
          4565301525,
          4571876974,
          4580774572,
          4593566515,
          4602977736,
          4612960408,
          4626904527,
          4631404840,
          4640268688,
          4662927923,
          4672700475,
          4682824210,
          4691119674,
          4698611640,
          4707981199,
          4715753527,
          4724720898,
          4729643439,
          4741005457,
          4747947363,
          4757254220,
          4763871564,
          4769835112,
          4774347049,
          4779467793,
          4784805726,
          4788495501,
          4796942563,
          4801539242,
          4805646206,
          4810582298,
          4815557190,
          4821123206,
          4824852538,
          4830615184,
          4834284558,
          4839760892,
          4845897167,
          4850572501,
          4855613709,
          4859598729,
          4864443623,
          4867662436,
          4874643290,
          4878006600,
          4883881585,
          4887843916,
          4891108878,
          4903085679,
          4911996780,
          4918692229,
          4927057044,
          4931595730,
          4933531500,
          4936523571,
          4940173111,
          4943215344,
          4946427790,
          4969925021,
          4971171398,
          4972139415,
          4973141082,
          4974733845,
          4976030953
         ],
         "yaxis": "y"
        }
       ],
       "layout": {
        "legend": {
         "title": {
          "text": "Case"
         },
         "tracegroupgap": 0
        },
        "template": {
         "data": {
          "bar": [
           {
            "error_x": {
             "color": "#f2f5fa"
            },
            "error_y": {
             "color": "#f2f5fa"
            },
            "marker": {
             "line": {
              "color": "rgb(17,17,17)",
              "width": 0.5
             },
             "pattern": {
              "fillmode": "overlay",
              "size": 10,
              "solidity": 0.2
             }
            },
            "type": "bar"
           }
          ],
          "barpolar": [
           {
            "marker": {
             "line": {
              "color": "rgb(17,17,17)",
              "width": 0.5
             },
             "pattern": {
              "fillmode": "overlay",
              "size": 10,
              "solidity": 0.2
             }
            },
            "type": "barpolar"
           }
          ],
          "carpet": [
           {
            "aaxis": {
             "endlinecolor": "#A2B1C6",
             "gridcolor": "#506784",
             "linecolor": "#506784",
             "minorgridcolor": "#506784",
             "startlinecolor": "#A2B1C6"
            },
            "baxis": {
             "endlinecolor": "#A2B1C6",
             "gridcolor": "#506784",
             "linecolor": "#506784",
             "minorgridcolor": "#506784",
             "startlinecolor": "#A2B1C6"
            },
            "type": "carpet"
           }
          ],
          "choropleth": [
           {
            "colorbar": {
             "outlinewidth": 0,
             "ticks": ""
            },
            "type": "choropleth"
           }
          ],
          "contour": [
           {
            "colorbar": {
             "outlinewidth": 0,
             "ticks": ""
            },
            "colorscale": [
             [
              0,
              "#0d0887"
             ],
             [
              0.1111111111111111,
              "#46039f"
             ],
             [
              0.2222222222222222,
              "#7201a8"
             ],
             [
              0.3333333333333333,
              "#9c179e"
             ],
             [
              0.4444444444444444,
              "#bd3786"
             ],
             [
              0.5555555555555556,
              "#d8576b"
             ],
             [
              0.6666666666666666,
              "#ed7953"
             ],
             [
              0.7777777777777778,
              "#fb9f3a"
             ],
             [
              0.8888888888888888,
              "#fdca26"
             ],
             [
              1,
              "#f0f921"
             ]
            ],
            "type": "contour"
           }
          ],
          "contourcarpet": [
           {
            "colorbar": {
             "outlinewidth": 0,
             "ticks": ""
            },
            "type": "contourcarpet"
           }
          ],
          "heatmap": [
           {
            "colorbar": {
             "outlinewidth": 0,
             "ticks": ""
            },
            "colorscale": [
             [
              0,
              "#0d0887"
             ],
             [
              0.1111111111111111,
              "#46039f"
             ],
             [
              0.2222222222222222,
              "#7201a8"
             ],
             [
              0.3333333333333333,
              "#9c179e"
             ],
             [
              0.4444444444444444,
              "#bd3786"
             ],
             [
              0.5555555555555556,
              "#d8576b"
             ],
             [
              0.6666666666666666,
              "#ed7953"
             ],
             [
              0.7777777777777778,
              "#fb9f3a"
             ],
             [
              0.8888888888888888,
              "#fdca26"
             ],
             [
              1,
              "#f0f921"
             ]
            ],
            "type": "heatmap"
           }
          ],
          "heatmapgl": [
           {
            "colorbar": {
             "outlinewidth": 0,
             "ticks": ""
            },
            "colorscale": [
             [
              0,
              "#0d0887"
             ],
             [
              0.1111111111111111,
              "#46039f"
             ],
             [
              0.2222222222222222,
              "#7201a8"
             ],
             [
              0.3333333333333333,
              "#9c179e"
             ],
             [
              0.4444444444444444,
              "#bd3786"
             ],
             [
              0.5555555555555556,
              "#d8576b"
             ],
             [
              0.6666666666666666,
              "#ed7953"
             ],
             [
              0.7777777777777778,
              "#fb9f3a"
             ],
             [
              0.8888888888888888,
              "#fdca26"
             ],
             [
              1,
              "#f0f921"
             ]
            ],
            "type": "heatmapgl"
           }
          ],
          "histogram": [
           {
            "marker": {
             "pattern": {
              "fillmode": "overlay",
              "size": 10,
              "solidity": 0.2
             }
            },
            "type": "histogram"
           }
          ],
          "histogram2d": [
           {
            "colorbar": {
             "outlinewidth": 0,
             "ticks": ""
            },
            "colorscale": [
             [
              0,
              "#0d0887"
             ],
             [
              0.1111111111111111,
              "#46039f"
             ],
             [
              0.2222222222222222,
              "#7201a8"
             ],
             [
              0.3333333333333333,
              "#9c179e"
             ],
             [
              0.4444444444444444,
              "#bd3786"
             ],
             [
              0.5555555555555556,
              "#d8576b"
             ],
             [
              0.6666666666666666,
              "#ed7953"
             ],
             [
              0.7777777777777778,
              "#fb9f3a"
             ],
             [
              0.8888888888888888,
              "#fdca26"
             ],
             [
              1,
              "#f0f921"
             ]
            ],
            "type": "histogram2d"
           }
          ],
          "histogram2dcontour": [
           {
            "colorbar": {
             "outlinewidth": 0,
             "ticks": ""
            },
            "colorscale": [
             [
              0,
              "#0d0887"
             ],
             [
              0.1111111111111111,
              "#46039f"
             ],
             [
              0.2222222222222222,
              "#7201a8"
             ],
             [
              0.3333333333333333,
              "#9c179e"
             ],
             [
              0.4444444444444444,
              "#bd3786"
             ],
             [
              0.5555555555555556,
              "#d8576b"
             ],
             [
              0.6666666666666666,
              "#ed7953"
             ],
             [
              0.7777777777777778,
              "#fb9f3a"
             ],
             [
              0.8888888888888888,
              "#fdca26"
             ],
             [
              1,
              "#f0f921"
             ]
            ],
            "type": "histogram2dcontour"
           }
          ],
          "mesh3d": [
           {
            "colorbar": {
             "outlinewidth": 0,
             "ticks": ""
            },
            "type": "mesh3d"
           }
          ],
          "parcoords": [
           {
            "line": {
             "colorbar": {
              "outlinewidth": 0,
              "ticks": ""
             }
            },
            "type": "parcoords"
           }
          ],
          "pie": [
           {
            "automargin": true,
            "type": "pie"
           }
          ],
          "scatter": [
           {
            "marker": {
             "line": {
              "color": "#283442"
             }
            },
            "type": "scatter"
           }
          ],
          "scatter3d": [
           {
            "line": {
             "colorbar": {
              "outlinewidth": 0,
              "ticks": ""
             }
            },
            "marker": {
             "colorbar": {
              "outlinewidth": 0,
              "ticks": ""
             }
            },
            "type": "scatter3d"
           }
          ],
          "scattercarpet": [
           {
            "marker": {
             "colorbar": {
              "outlinewidth": 0,
              "ticks": ""
             }
            },
            "type": "scattercarpet"
           }
          ],
          "scattergeo": [
           {
            "marker": {
             "colorbar": {
              "outlinewidth": 0,
              "ticks": ""
             }
            },
            "type": "scattergeo"
           }
          ],
          "scattergl": [
           {
            "marker": {
             "line": {
              "color": "#283442"
             }
            },
            "type": "scattergl"
           }
          ],
          "scattermapbox": [
           {
            "marker": {
             "colorbar": {
              "outlinewidth": 0,
              "ticks": ""
             }
            },
            "type": "scattermapbox"
           }
          ],
          "scatterpolar": [
           {
            "marker": {
             "colorbar": {
              "outlinewidth": 0,
              "ticks": ""
             }
            },
            "type": "scatterpolar"
           }
          ],
          "scatterpolargl": [
           {
            "marker": {
             "colorbar": {
              "outlinewidth": 0,
              "ticks": ""
             }
            },
            "type": "scatterpolargl"
           }
          ],
          "scatterternary": [
           {
            "marker": {
             "colorbar": {
              "outlinewidth": 0,
              "ticks": ""
             }
            },
            "type": "scatterternary"
           }
          ],
          "surface": [
           {
            "colorbar": {
             "outlinewidth": 0,
             "ticks": ""
            },
            "colorscale": [
             [
              0,
              "#0d0887"
             ],
             [
              0.1111111111111111,
              "#46039f"
             ],
             [
              0.2222222222222222,
              "#7201a8"
             ],
             [
              0.3333333333333333,
              "#9c179e"
             ],
             [
              0.4444444444444444,
              "#bd3786"
             ],
             [
              0.5555555555555556,
              "#d8576b"
             ],
             [
              0.6666666666666666,
              "#ed7953"
             ],
             [
              0.7777777777777778,
              "#fb9f3a"
             ],
             [
              0.8888888888888888,
              "#fdca26"
             ],
             [
              1,
              "#f0f921"
             ]
            ],
            "type": "surface"
           }
          ],
          "table": [
           {
            "cells": {
             "fill": {
              "color": "#506784"
             },
             "line": {
              "color": "rgb(17,17,17)"
             }
            },
            "header": {
             "fill": {
              "color": "#2a3f5f"
             },
             "line": {
              "color": "rgb(17,17,17)"
             }
            },
            "type": "table"
           }
          ]
         },
         "layout": {
          "annotationdefaults": {
           "arrowcolor": "#f2f5fa",
           "arrowhead": 0,
           "arrowwidth": 1
          },
          "autotypenumbers": "strict",
          "coloraxis": {
           "colorbar": {
            "outlinewidth": 0,
            "ticks": ""
           }
          },
          "colorscale": {
           "diverging": [
            [
             0,
             "#8e0152"
            ],
            [
             0.1,
             "#c51b7d"
            ],
            [
             0.2,
             "#de77ae"
            ],
            [
             0.3,
             "#f1b6da"
            ],
            [
             0.4,
             "#fde0ef"
            ],
            [
             0.5,
             "#f7f7f7"
            ],
            [
             0.6,
             "#e6f5d0"
            ],
            [
             0.7,
             "#b8e186"
            ],
            [
             0.8,
             "#7fbc41"
            ],
            [
             0.9,
             "#4d9221"
            ],
            [
             1,
             "#276419"
            ]
           ],
           "sequential": [
            [
             0,
             "#0d0887"
            ],
            [
             0.1111111111111111,
             "#46039f"
            ],
            [
             0.2222222222222222,
             "#7201a8"
            ],
            [
             0.3333333333333333,
             "#9c179e"
            ],
            [
             0.4444444444444444,
             "#bd3786"
            ],
            [
             0.5555555555555556,
             "#d8576b"
            ],
            [
             0.6666666666666666,
             "#ed7953"
            ],
            [
             0.7777777777777778,
             "#fb9f3a"
            ],
            [
             0.8888888888888888,
             "#fdca26"
            ],
            [
             1,
             "#f0f921"
            ]
           ],
           "sequentialminus": [
            [
             0,
             "#0d0887"
            ],
            [
             0.1111111111111111,
             "#46039f"
            ],
            [
             0.2222222222222222,
             "#7201a8"
            ],
            [
             0.3333333333333333,
             "#9c179e"
            ],
            [
             0.4444444444444444,
             "#bd3786"
            ],
            [
             0.5555555555555556,
             "#d8576b"
            ],
            [
             0.6666666666666666,
             "#ed7953"
            ],
            [
             0.7777777777777778,
             "#fb9f3a"
            ],
            [
             0.8888888888888888,
             "#fdca26"
            ],
            [
             1,
             "#f0f921"
            ]
           ]
          },
          "colorway": [
           "#636efa",
           "#EF553B",
           "#00cc96",
           "#ab63fa",
           "#FFA15A",
           "#19d3f3",
           "#FF6692",
           "#B6E880",
           "#FF97FF",
           "#FECB52"
          ],
          "font": {
           "color": "#f2f5fa"
          },
          "geo": {
           "bgcolor": "rgb(17,17,17)",
           "lakecolor": "rgb(17,17,17)",
           "landcolor": "rgb(17,17,17)",
           "showlakes": true,
           "showland": true,
           "subunitcolor": "#506784"
          },
          "hoverlabel": {
           "align": "left"
          },
          "hovermode": "closest",
          "mapbox": {
           "style": "dark"
          },
          "paper_bgcolor": "rgb(17,17,17)",
          "plot_bgcolor": "rgb(17,17,17)",
          "polar": {
           "angularaxis": {
            "gridcolor": "#506784",
            "linecolor": "#506784",
            "ticks": ""
           },
           "bgcolor": "rgb(17,17,17)",
           "radialaxis": {
            "gridcolor": "#506784",
            "linecolor": "#506784",
            "ticks": ""
           }
          },
          "scene": {
           "xaxis": {
            "backgroundcolor": "rgb(17,17,17)",
            "gridcolor": "#506784",
            "gridwidth": 2,
            "linecolor": "#506784",
            "showbackground": true,
            "ticks": "",
            "zerolinecolor": "#C8D4E3"
           },
           "yaxis": {
            "backgroundcolor": "rgb(17,17,17)",
            "gridcolor": "#506784",
            "gridwidth": 2,
            "linecolor": "#506784",
            "showbackground": true,
            "ticks": "",
            "zerolinecolor": "#C8D4E3"
           },
           "zaxis": {
            "backgroundcolor": "rgb(17,17,17)",
            "gridcolor": "#506784",
            "gridwidth": 2,
            "linecolor": "#506784",
            "showbackground": true,
            "ticks": "",
            "zerolinecolor": "#C8D4E3"
           }
          },
          "shapedefaults": {
           "line": {
            "color": "#f2f5fa"
           }
          },
          "sliderdefaults": {
           "bgcolor": "#C8D4E3",
           "bordercolor": "rgb(17,17,17)",
           "borderwidth": 1,
           "tickwidth": 0
          },
          "ternary": {
           "aaxis": {
            "gridcolor": "#506784",
            "linecolor": "#506784",
            "ticks": ""
           },
           "baxis": {
            "gridcolor": "#506784",
            "linecolor": "#506784",
            "ticks": ""
           },
           "bgcolor": "rgb(17,17,17)",
           "caxis": {
            "gridcolor": "#506784",
            "linecolor": "#506784",
            "ticks": ""
           }
          },
          "title": {
           "x": 0.05
          },
          "updatemenudefaults": {
           "bgcolor": "#506784",
           "borderwidth": 0
          },
          "xaxis": {
           "automargin": true,
           "gridcolor": "#283442",
           "linecolor": "#506784",
           "ticks": "",
           "title": {
            "standoff": 15
           },
           "zerolinecolor": "#283442",
           "zerolinewidth": 2
          },
          "yaxis": {
           "automargin": true,
           "gridcolor": "#283442",
           "linecolor": "#506784",
           "ticks": "",
           "title": {
            "standoff": 15
           },
           "zerolinecolor": "#283442",
           "zerolinewidth": 2
          }
         }
        },
        "title": {
         "text": "Tổng số vaccine được tiêm so với tổng số ca mắc và tử vong"
        },
        "xaxis": {
         "anchor": "y",
         "domain": [
          0,
          1
         ],
         "title": {
          "text": "Date"
         }
        },
        "yaxis": {
         "anchor": "x",
         "domain": [
          0,
          1
         ],
         "title": {
          "text": "Count"
         }
        }
       }
      }
     },
     "metadata": {},
     "output_type": "display_data"
    }
   ],
   "source": [
    "covid_world_df_melt = covid_world_df.melt(id_vars=\"Date\", value_vars=['TotalCases', 'TotalDeaths', 'PeopleVaccinated'],\n",
    "                 var_name='Case', value_name='Count')\n",
    "fig = px.area(covid_world_df_melt, x=\"Date\", y=\"Count\", color='Case',\n",
    "title='Tổng số vaccine được tiêm so với tổng số ca mắc và tử vong', color_discrete_sequence = ['orange', 'red','green' ])\n",
    "fig.update_layout(template='plotly_dark',)\n",
    "fig.show()"
   ]
  },
  {
   "cell_type": "markdown",
   "metadata": {},
   "source": [
    "Vaccine được triển khai tiêm vào khoảng cuối nắm 2020, đầu năm 2021, từ đó độ bao phủ vaccine trên toàn thế giới ngày càng lớn dần, bỏ xa tổng số ca mắc và số ca tử vong. Vaccine có thể xem công cụ hiệu quả nhất hiện tại , tiến độ tiêm phòng như vậy đang cho thấy tín hiệu tích cực trong việc phòng chống và đi tới chấm dứt đại dịch Covid-19"
   ]
  },
  {
   "cell_type": "markdown",
   "metadata": {},
   "source": [
    "# 5. Mô hình hoá dữ liệu và kết quả thực nghiệm"
   ]
  },
  {
   "cell_type": "markdown",
   "metadata": {},
   "source": [
    "## Câu 1: Dân số có phải là nguyên nhân dẫn tới việc gia tăng số ca mắc ở các quốc gia? **(X: Population, Location)**  **(Y:TotalCases)**"
   ]
  },
  {
   "cell_type": "markdown",
   "metadata": {},
   "source": [
    "<font face=\"Cambria Math\" size=5 color = #1155cc> Quan hệ 𝑄 → 𝑄 </font>\n",
    "\n",
    "*  <font face=\"Cambria Math\" size=4> Với Q: Biến Population (Biến số) </font>\n",
    "* <font face=\"Cambria Math\" size=4>  Với 𝑄: Biến TotalCases (Biến số)</font>"
   ]
  },
  {
   "cell_type": "code",
   "execution_count": 194,
   "metadata": {},
   "outputs": [
    {
     "data": {
      "text/html": [
       "<div>\n",
       "<style scoped>\n",
       "    .dataframe tbody tr th:only-of-type {\n",
       "        vertical-align: middle;\n",
       "    }\n",
       "\n",
       "    .dataframe tbody tr th {\n",
       "        vertical-align: top;\n",
       "    }\n",
       "\n",
       "    .dataframe thead th {\n",
       "        text-align: right;\n",
       "    }\n",
       "</style>\n",
       "<table border=\"1\" class=\"dataframe\">\n",
       "  <thead>\n",
       "    <tr style=\"text-align: right;\">\n",
       "      <th></th>\n",
       "      <th>Continent</th>\n",
       "      <th>TotalCases</th>\n",
       "      <th>Population</th>\n",
       "    </tr>\n",
       "    <tr>\n",
       "      <th>Continent</th>\n",
       "      <th></th>\n",
       "      <th></th>\n",
       "      <th></th>\n",
       "    </tr>\n",
       "  </thead>\n",
       "  <tbody>\n",
       "    <tr>\n",
       "      <th>Africa</th>\n",
       "      <td>Africa</td>\n",
       "      <td>11272358.0</td>\n",
       "      <td>1.371693e+09</td>\n",
       "    </tr>\n",
       "    <tr>\n",
       "      <th>Asia</th>\n",
       "      <td>Asia</td>\n",
       "      <td>120758420.0</td>\n",
       "      <td>4.652616e+09</td>\n",
       "    </tr>\n",
       "    <tr>\n",
       "      <th>Europe</th>\n",
       "      <td>Europe</td>\n",
       "      <td>161250675.0</td>\n",
       "      <td>7.506718e+08</td>\n",
       "    </tr>\n",
       "    <tr>\n",
       "      <th>North America</th>\n",
       "      <td>North America</td>\n",
       "      <td>93398426.0</td>\n",
       "      <td>5.928348e+08</td>\n",
       "    </tr>\n",
       "    <tr>\n",
       "      <th>Oceania</th>\n",
       "      <td>Oceania</td>\n",
       "      <td>3831683.0</td>\n",
       "      <td>4.320246e+07</td>\n",
       "    </tr>\n",
       "    <tr>\n",
       "      <th>South America</th>\n",
       "      <td>South America</td>\n",
       "      <td>54622339.0</td>\n",
       "      <td>4.339537e+08</td>\n",
       "    </tr>\n",
       "  </tbody>\n",
       "</table>\n",
       "</div>"
      ],
      "text/plain": [
       "                   Continent   TotalCases    Population\n",
       "Continent                                              \n",
       "Africa                Africa   11272358.0  1.371693e+09\n",
       "Asia                    Asia  120758420.0  4.652616e+09\n",
       "Europe                Europe  161250675.0  7.506718e+08\n",
       "North America  North America   93398426.0  5.928348e+08\n",
       "Oceania              Oceania    3831683.0  4.320246e+07\n",
       "South America  South America   54622339.0  4.339537e+08"
      ]
     },
     "execution_count": 194,
     "metadata": {},
     "output_type": "execute_result"
    }
   ],
   "source": [
    "covid_continent = covid_df.groupby(by = 'Location').agg({'Continent' : 'first','TotalCases': 'max', 'Population': 'max'})\n",
    "covid_continent = covid_continent.groupby(by = \"Continent\").agg({'Continent' : 'first','TotalCases': 'sum', 'Population': 'sum'})\n",
    "covid_continent = covid_continent[covid_continent.Continent != 0]\n",
    "covid_continent"
   ]
  },
  {
   "cell_type": "code",
   "execution_count": 195,
   "metadata": {},
   "outputs": [
    {
     "data": {
      "application/vnd.plotly.v1+json": {
       "config": {
        "plotlyServerURL": "https://plot.ly"
       },
       "data": [
        {
         "domain": {
          "x": [
           0,
           0.45
          ],
          "y": [
           0,
           1
          ]
         },
         "labels": [
          "Africa",
          "Asia",
          "Europe",
          "North America",
          "Oceania",
          "South America"
         ],
         "type": "pie",
         "values": [
          1371693397,
          4652616087,
          750671838,
          592834824,
          43202462,
          433953687
         ]
        },
        {
         "domain": {
          "x": [
           0.55,
           1
          ],
          "y": [
           0,
           1
          ]
         },
         "labels": [
          "Africa",
          "Asia",
          "Europe",
          "North America",
          "Oceania",
          "South America"
         ],
         "type": "pie",
         "values": [
          11272358,
          120758420,
          161250675,
          93398426,
          3831683,
          54622339
         ]
        }
       ],
       "layout": {
        "annotations": [
         {
          "font": {
           "size": 16
          },
          "showarrow": false,
          "text": "Tổng dân số ở các khu vực",
          "x": 0.225,
          "xanchor": "center",
          "xref": "paper",
          "y": 1,
          "yanchor": "bottom",
          "yref": "paper"
         },
         {
          "font": {
           "size": 16
          },
          "showarrow": false,
          "text": "Tổng số ca mắc ở các khu vực",
          "x": 0.775,
          "xanchor": "center",
          "xref": "paper",
          "y": 1,
          "yanchor": "bottom",
          "yref": "paper"
         }
        ],
        "height": 600,
        "template": {
         "data": {
          "bar": [
           {
            "error_x": {
             "color": "#f2f5fa"
            },
            "error_y": {
             "color": "#f2f5fa"
            },
            "marker": {
             "line": {
              "color": "rgb(17,17,17)",
              "width": 0.5
             },
             "pattern": {
              "fillmode": "overlay",
              "size": 10,
              "solidity": 0.2
             }
            },
            "type": "bar"
           }
          ],
          "barpolar": [
           {
            "marker": {
             "line": {
              "color": "rgb(17,17,17)",
              "width": 0.5
             },
             "pattern": {
              "fillmode": "overlay",
              "size": 10,
              "solidity": 0.2
             }
            },
            "type": "barpolar"
           }
          ],
          "carpet": [
           {
            "aaxis": {
             "endlinecolor": "#A2B1C6",
             "gridcolor": "#506784",
             "linecolor": "#506784",
             "minorgridcolor": "#506784",
             "startlinecolor": "#A2B1C6"
            },
            "baxis": {
             "endlinecolor": "#A2B1C6",
             "gridcolor": "#506784",
             "linecolor": "#506784",
             "minorgridcolor": "#506784",
             "startlinecolor": "#A2B1C6"
            },
            "type": "carpet"
           }
          ],
          "choropleth": [
           {
            "colorbar": {
             "outlinewidth": 0,
             "ticks": ""
            },
            "type": "choropleth"
           }
          ],
          "contour": [
           {
            "colorbar": {
             "outlinewidth": 0,
             "ticks": ""
            },
            "colorscale": [
             [
              0,
              "#0d0887"
             ],
             [
              0.1111111111111111,
              "#46039f"
             ],
             [
              0.2222222222222222,
              "#7201a8"
             ],
             [
              0.3333333333333333,
              "#9c179e"
             ],
             [
              0.4444444444444444,
              "#bd3786"
             ],
             [
              0.5555555555555556,
              "#d8576b"
             ],
             [
              0.6666666666666666,
              "#ed7953"
             ],
             [
              0.7777777777777778,
              "#fb9f3a"
             ],
             [
              0.8888888888888888,
              "#fdca26"
             ],
             [
              1,
              "#f0f921"
             ]
            ],
            "type": "contour"
           }
          ],
          "contourcarpet": [
           {
            "colorbar": {
             "outlinewidth": 0,
             "ticks": ""
            },
            "type": "contourcarpet"
           }
          ],
          "heatmap": [
           {
            "colorbar": {
             "outlinewidth": 0,
             "ticks": ""
            },
            "colorscale": [
             [
              0,
              "#0d0887"
             ],
             [
              0.1111111111111111,
              "#46039f"
             ],
             [
              0.2222222222222222,
              "#7201a8"
             ],
             [
              0.3333333333333333,
              "#9c179e"
             ],
             [
              0.4444444444444444,
              "#bd3786"
             ],
             [
              0.5555555555555556,
              "#d8576b"
             ],
             [
              0.6666666666666666,
              "#ed7953"
             ],
             [
              0.7777777777777778,
              "#fb9f3a"
             ],
             [
              0.8888888888888888,
              "#fdca26"
             ],
             [
              1,
              "#f0f921"
             ]
            ],
            "type": "heatmap"
           }
          ],
          "heatmapgl": [
           {
            "colorbar": {
             "outlinewidth": 0,
             "ticks": ""
            },
            "colorscale": [
             [
              0,
              "#0d0887"
             ],
             [
              0.1111111111111111,
              "#46039f"
             ],
             [
              0.2222222222222222,
              "#7201a8"
             ],
             [
              0.3333333333333333,
              "#9c179e"
             ],
             [
              0.4444444444444444,
              "#bd3786"
             ],
             [
              0.5555555555555556,
              "#d8576b"
             ],
             [
              0.6666666666666666,
              "#ed7953"
             ],
             [
              0.7777777777777778,
              "#fb9f3a"
             ],
             [
              0.8888888888888888,
              "#fdca26"
             ],
             [
              1,
              "#f0f921"
             ]
            ],
            "type": "heatmapgl"
           }
          ],
          "histogram": [
           {
            "marker": {
             "pattern": {
              "fillmode": "overlay",
              "size": 10,
              "solidity": 0.2
             }
            },
            "type": "histogram"
           }
          ],
          "histogram2d": [
           {
            "colorbar": {
             "outlinewidth": 0,
             "ticks": ""
            },
            "colorscale": [
             [
              0,
              "#0d0887"
             ],
             [
              0.1111111111111111,
              "#46039f"
             ],
             [
              0.2222222222222222,
              "#7201a8"
             ],
             [
              0.3333333333333333,
              "#9c179e"
             ],
             [
              0.4444444444444444,
              "#bd3786"
             ],
             [
              0.5555555555555556,
              "#d8576b"
             ],
             [
              0.6666666666666666,
              "#ed7953"
             ],
             [
              0.7777777777777778,
              "#fb9f3a"
             ],
             [
              0.8888888888888888,
              "#fdca26"
             ],
             [
              1,
              "#f0f921"
             ]
            ],
            "type": "histogram2d"
           }
          ],
          "histogram2dcontour": [
           {
            "colorbar": {
             "outlinewidth": 0,
             "ticks": ""
            },
            "colorscale": [
             [
              0,
              "#0d0887"
             ],
             [
              0.1111111111111111,
              "#46039f"
             ],
             [
              0.2222222222222222,
              "#7201a8"
             ],
             [
              0.3333333333333333,
              "#9c179e"
             ],
             [
              0.4444444444444444,
              "#bd3786"
             ],
             [
              0.5555555555555556,
              "#d8576b"
             ],
             [
              0.6666666666666666,
              "#ed7953"
             ],
             [
              0.7777777777777778,
              "#fb9f3a"
             ],
             [
              0.8888888888888888,
              "#fdca26"
             ],
             [
              1,
              "#f0f921"
             ]
            ],
            "type": "histogram2dcontour"
           }
          ],
          "mesh3d": [
           {
            "colorbar": {
             "outlinewidth": 0,
             "ticks": ""
            },
            "type": "mesh3d"
           }
          ],
          "parcoords": [
           {
            "line": {
             "colorbar": {
              "outlinewidth": 0,
              "ticks": ""
             }
            },
            "type": "parcoords"
           }
          ],
          "pie": [
           {
            "automargin": true,
            "type": "pie"
           }
          ],
          "scatter": [
           {
            "marker": {
             "line": {
              "color": "#283442"
             }
            },
            "type": "scatter"
           }
          ],
          "scatter3d": [
           {
            "line": {
             "colorbar": {
              "outlinewidth": 0,
              "ticks": ""
             }
            },
            "marker": {
             "colorbar": {
              "outlinewidth": 0,
              "ticks": ""
             }
            },
            "type": "scatter3d"
           }
          ],
          "scattercarpet": [
           {
            "marker": {
             "colorbar": {
              "outlinewidth": 0,
              "ticks": ""
             }
            },
            "type": "scattercarpet"
           }
          ],
          "scattergeo": [
           {
            "marker": {
             "colorbar": {
              "outlinewidth": 0,
              "ticks": ""
             }
            },
            "type": "scattergeo"
           }
          ],
          "scattergl": [
           {
            "marker": {
             "line": {
              "color": "#283442"
             }
            },
            "type": "scattergl"
           }
          ],
          "scattermapbox": [
           {
            "marker": {
             "colorbar": {
              "outlinewidth": 0,
              "ticks": ""
             }
            },
            "type": "scattermapbox"
           }
          ],
          "scatterpolar": [
           {
            "marker": {
             "colorbar": {
              "outlinewidth": 0,
              "ticks": ""
             }
            },
            "type": "scatterpolar"
           }
          ],
          "scatterpolargl": [
           {
            "marker": {
             "colorbar": {
              "outlinewidth": 0,
              "ticks": ""
             }
            },
            "type": "scatterpolargl"
           }
          ],
          "scatterternary": [
           {
            "marker": {
             "colorbar": {
              "outlinewidth": 0,
              "ticks": ""
             }
            },
            "type": "scatterternary"
           }
          ],
          "surface": [
           {
            "colorbar": {
             "outlinewidth": 0,
             "ticks": ""
            },
            "colorscale": [
             [
              0,
              "#0d0887"
             ],
             [
              0.1111111111111111,
              "#46039f"
             ],
             [
              0.2222222222222222,
              "#7201a8"
             ],
             [
              0.3333333333333333,
              "#9c179e"
             ],
             [
              0.4444444444444444,
              "#bd3786"
             ],
             [
              0.5555555555555556,
              "#d8576b"
             ],
             [
              0.6666666666666666,
              "#ed7953"
             ],
             [
              0.7777777777777778,
              "#fb9f3a"
             ],
             [
              0.8888888888888888,
              "#fdca26"
             ],
             [
              1,
              "#f0f921"
             ]
            ],
            "type": "surface"
           }
          ],
          "table": [
           {
            "cells": {
             "fill": {
              "color": "#506784"
             },
             "line": {
              "color": "rgb(17,17,17)"
             }
            },
            "header": {
             "fill": {
              "color": "#2a3f5f"
             },
             "line": {
              "color": "rgb(17,17,17)"
             }
            },
            "type": "table"
           }
          ]
         },
         "layout": {
          "annotationdefaults": {
           "arrowcolor": "#f2f5fa",
           "arrowhead": 0,
           "arrowwidth": 1
          },
          "autotypenumbers": "strict",
          "coloraxis": {
           "colorbar": {
            "outlinewidth": 0,
            "ticks": ""
           }
          },
          "colorscale": {
           "diverging": [
            [
             0,
             "#8e0152"
            ],
            [
             0.1,
             "#c51b7d"
            ],
            [
             0.2,
             "#de77ae"
            ],
            [
             0.3,
             "#f1b6da"
            ],
            [
             0.4,
             "#fde0ef"
            ],
            [
             0.5,
             "#f7f7f7"
            ],
            [
             0.6,
             "#e6f5d0"
            ],
            [
             0.7,
             "#b8e186"
            ],
            [
             0.8,
             "#7fbc41"
            ],
            [
             0.9,
             "#4d9221"
            ],
            [
             1,
             "#276419"
            ]
           ],
           "sequential": [
            [
             0,
             "#0d0887"
            ],
            [
             0.1111111111111111,
             "#46039f"
            ],
            [
             0.2222222222222222,
             "#7201a8"
            ],
            [
             0.3333333333333333,
             "#9c179e"
            ],
            [
             0.4444444444444444,
             "#bd3786"
            ],
            [
             0.5555555555555556,
             "#d8576b"
            ],
            [
             0.6666666666666666,
             "#ed7953"
            ],
            [
             0.7777777777777778,
             "#fb9f3a"
            ],
            [
             0.8888888888888888,
             "#fdca26"
            ],
            [
             1,
             "#f0f921"
            ]
           ],
           "sequentialminus": [
            [
             0,
             "#0d0887"
            ],
            [
             0.1111111111111111,
             "#46039f"
            ],
            [
             0.2222222222222222,
             "#7201a8"
            ],
            [
             0.3333333333333333,
             "#9c179e"
            ],
            [
             0.4444444444444444,
             "#bd3786"
            ],
            [
             0.5555555555555556,
             "#d8576b"
            ],
            [
             0.6666666666666666,
             "#ed7953"
            ],
            [
             0.7777777777777778,
             "#fb9f3a"
            ],
            [
             0.8888888888888888,
             "#fdca26"
            ],
            [
             1,
             "#f0f921"
            ]
           ]
          },
          "colorway": [
           "#636efa",
           "#EF553B",
           "#00cc96",
           "#ab63fa",
           "#FFA15A",
           "#19d3f3",
           "#FF6692",
           "#B6E880",
           "#FF97FF",
           "#FECB52"
          ],
          "font": {
           "color": "#f2f5fa"
          },
          "geo": {
           "bgcolor": "rgb(17,17,17)",
           "lakecolor": "rgb(17,17,17)",
           "landcolor": "rgb(17,17,17)",
           "showlakes": true,
           "showland": true,
           "subunitcolor": "#506784"
          },
          "hoverlabel": {
           "align": "left"
          },
          "hovermode": "closest",
          "mapbox": {
           "style": "dark"
          },
          "paper_bgcolor": "rgb(17,17,17)",
          "plot_bgcolor": "rgb(17,17,17)",
          "polar": {
           "angularaxis": {
            "gridcolor": "#506784",
            "linecolor": "#506784",
            "ticks": ""
           },
           "bgcolor": "rgb(17,17,17)",
           "radialaxis": {
            "gridcolor": "#506784",
            "linecolor": "#506784",
            "ticks": ""
           }
          },
          "scene": {
           "xaxis": {
            "backgroundcolor": "rgb(17,17,17)",
            "gridcolor": "#506784",
            "gridwidth": 2,
            "linecolor": "#506784",
            "showbackground": true,
            "ticks": "",
            "zerolinecolor": "#C8D4E3"
           },
           "yaxis": {
            "backgroundcolor": "rgb(17,17,17)",
            "gridcolor": "#506784",
            "gridwidth": 2,
            "linecolor": "#506784",
            "showbackground": true,
            "ticks": "",
            "zerolinecolor": "#C8D4E3"
           },
           "zaxis": {
            "backgroundcolor": "rgb(17,17,17)",
            "gridcolor": "#506784",
            "gridwidth": 2,
            "linecolor": "#506784",
            "showbackground": true,
            "ticks": "",
            "zerolinecolor": "#C8D4E3"
           }
          },
          "shapedefaults": {
           "line": {
            "color": "#f2f5fa"
           }
          },
          "sliderdefaults": {
           "bgcolor": "#C8D4E3",
           "bordercolor": "rgb(17,17,17)",
           "borderwidth": 1,
           "tickwidth": 0
          },
          "ternary": {
           "aaxis": {
            "gridcolor": "#506784",
            "linecolor": "#506784",
            "ticks": ""
           },
           "baxis": {
            "gridcolor": "#506784",
            "linecolor": "#506784",
            "ticks": ""
           },
           "bgcolor": "rgb(17,17,17)",
           "caxis": {
            "gridcolor": "#506784",
            "linecolor": "#506784",
            "ticks": ""
           }
          },
          "title": {
           "x": 0.05
          },
          "updatemenudefaults": {
           "bgcolor": "#506784",
           "borderwidth": 0
          },
          "xaxis": {
           "automargin": true,
           "gridcolor": "#283442",
           "linecolor": "#506784",
           "ticks": "",
           "title": {
            "standoff": 15
           },
           "zerolinecolor": "#283442",
           "zerolinewidth": 2
          },
          "yaxis": {
           "automargin": true,
           "gridcolor": "#283442",
           "linecolor": "#506784",
           "ticks": "",
           "title": {
            "standoff": 15
           },
           "zerolinecolor": "#283442",
           "zerolinewidth": 2
          }
         }
        },
        "title": {
         "text": "Biểu đồ trực quan về dân số và tổng số ca mắc của các khu vực trên thế giới"
        },
        "width": 1000
       }
      }
     },
     "metadata": {},
     "output_type": "display_data"
    }
   ],
   "source": [
    "plot_sub_pies(covid_continent, \"Population\", \"TotalCases\",\"Biểu đồ trực quan về dân số và tổng số ca mắc của các khu vực trên thế giới\")"
   ]
  },
  {
   "cell_type": "markdown",
   "metadata": {},
   "source": [
    "Từ biểu đồ trên, ta có thể thấy châu Á là châu lục có số dân đông nhất thế giới, vượt xa các châu lục khác. \n",
    "\n",
    "Châu Á là nơi dự đoán có thể có số ca mắc Covid-19 nhiều nhất trên thế giới do dân số đông. \n",
    "\n",
    "Thế nhưng châu Âu mới là nơi có tổng số ca mắc nhiều nhất trên thế giới, tuy nhiên không bỏ quá xa châu Á"
   ]
  },
  {
   "cell_type": "markdown",
   "metadata": {},
   "source": [
    "\n",
    "Ta thực hiện suy diễn mối quan hệ giữa hai biến số bằng biểu đồ `Scatter` để xem liệu dân số đông có phải là nguyên nhân dẫn tới gia tăng số ca mắc hay không ?"
   ]
  },
  {
   "cell_type": "code",
   "execution_count": 196,
   "metadata": {},
   "outputs": [
    {
     "name": "stdout",
     "output_type": "stream",
     "text": [
      "Tổng số quốc gia có báo cáo số ca mắc: 224\n"
     ]
    },
    {
     "data": {
      "text/html": [
       "<div>\n",
       "<style scoped>\n",
       "    .dataframe tbody tr th:only-of-type {\n",
       "        vertical-align: middle;\n",
       "    }\n",
       "\n",
       "    .dataframe tbody tr th {\n",
       "        vertical-align: top;\n",
       "    }\n",
       "\n",
       "    .dataframe thead th {\n",
       "        text-align: right;\n",
       "    }\n",
       "</style>\n",
       "<table border=\"1\" class=\"dataframe\">\n",
       "  <thead>\n",
       "    <tr style=\"text-align: right;\">\n",
       "      <th></th>\n",
       "      <th>Continent</th>\n",
       "      <th>Location</th>\n",
       "      <th>TotalCases</th>\n",
       "      <th>Population</th>\n",
       "    </tr>\n",
       "    <tr>\n",
       "      <th>Location</th>\n",
       "      <th></th>\n",
       "      <th></th>\n",
       "      <th></th>\n",
       "      <th></th>\n",
       "    </tr>\n",
       "  </thead>\n",
       "  <tbody>\n",
       "    <tr>\n",
       "      <th>Afghanistan</th>\n",
       "      <td>Asia</td>\n",
       "      <td>Afghanistan</td>\n",
       "      <td>174331.0</td>\n",
       "      <td>39835428.0</td>\n",
       "    </tr>\n",
       "    <tr>\n",
       "      <th>Albania</th>\n",
       "      <td>Europe</td>\n",
       "      <td>Albania</td>\n",
       "      <td>272030.0</td>\n",
       "      <td>2872934.0</td>\n",
       "    </tr>\n",
       "    <tr>\n",
       "      <th>Algeria</th>\n",
       "      <td>Africa</td>\n",
       "      <td>Algeria</td>\n",
       "      <td>265227.0</td>\n",
       "      <td>44616626.0</td>\n",
       "    </tr>\n",
       "    <tr>\n",
       "      <th>Andorra</th>\n",
       "      <td>Europe</td>\n",
       "      <td>Andorra</td>\n",
       "      <td>38434.0</td>\n",
       "      <td>77354.0</td>\n",
       "    </tr>\n",
       "    <tr>\n",
       "      <th>Angola</th>\n",
       "      <td>Africa</td>\n",
       "      <td>Angola</td>\n",
       "      <td>98796.0</td>\n",
       "      <td>33933611.0</td>\n",
       "    </tr>\n",
       "  </tbody>\n",
       "</table>\n",
       "</div>"
      ],
      "text/plain": [
       "            Continent     Location  TotalCases  Population\n",
       "Location                                                  \n",
       "Afghanistan      Asia  Afghanistan    174331.0  39835428.0\n",
       "Albania        Europe      Albania    272030.0   2872934.0\n",
       "Algeria        Africa      Algeria    265227.0  44616626.0\n",
       "Andorra        Europe      Andorra     38434.0     77354.0\n",
       "Angola         Africa       Angola     98796.0  33933611.0"
      ]
     },
     "execution_count": 196,
     "metadata": {},
     "output_type": "execute_result"
    }
   ],
   "source": [
    "cases_country = covid_df.groupby(by = 'Location').agg({'Continent' : 'first','Location' : 'first', 'TotalCases': 'max', 'Population': 'max'})\n",
    "cases_country = cases_country[cases_country[\"Continent\"] != 0]\n",
    "print(f\"Tổng số quốc gia có báo cáo số ca mắc: {len(cases_country)}\")\n",
    "cases_country.head()"
   ]
  },
  {
   "cell_type": "code",
   "execution_count": 197,
   "metadata": {},
   "outputs": [
    {
     "data": {
      "application/vnd.plotly.v1+json": {
       "config": {
        "plotlyServerURL": "https://plot.ly"
       },
       "data": [
        {
         "hovertemplate": "<b>%{hovertext}</b><br><br>Population=%{x}<br>TotalCases=%{marker.color}<extra></extra>",
         "hovertext": [
          "Afghanistan",
          "Albania",
          "Algeria",
          "Andorra",
          "Angola",
          "Anguilla",
          "Antigua and Barbuda",
          "Argentina",
          "Armenia",
          "Aruba",
          "Australia",
          "Austria",
          "Azerbaijan",
          "Bahamas",
          "Bahrain",
          "Bangladesh",
          "Barbados",
          "Belarus",
          "Belgium",
          "Belize",
          "Benin",
          "Bermuda",
          "Bhutan",
          "Bolivia",
          "Bonaire Sint Eustatius and Saba",
          "Bosnia and Herzegovina",
          "Botswana",
          "Brazil",
          "British Virgin Islands",
          "Brunei",
          "Bulgaria",
          "Burkina Faso",
          "Burundi",
          "Cambodia",
          "Cameroon",
          "Canada",
          "Cape Verde",
          "Cayman Islands",
          "Central African Republic",
          "Chad",
          "Chile",
          "China",
          "Colombia",
          "Comoros",
          "Congo",
          "Cook Islands",
          "Costa Rica",
          "Cote d'Ivoire",
          "Croatia",
          "Cuba",
          "Curacao",
          "Cyprus",
          "Czechia",
          "Democratic Republic of Congo",
          "Denmark",
          "Djibouti",
          "Dominica",
          "Dominican Republic",
          "Ecuador",
          "Egypt",
          "El Salvador",
          "Equatorial Guinea",
          "Eritrea",
          "Estonia",
          "Eswatini",
          "Ethiopia",
          "Faeroe Islands",
          "Falkland Islands",
          "Fiji",
          "Finland",
          "France",
          "French Polynesia",
          "Gabon",
          "Gambia",
          "Georgia",
          "Germany",
          "Ghana",
          "Gibraltar",
          "Greece",
          "Greenland",
          "Grenada",
          "Guatemala",
          "Guernsey",
          "Guinea",
          "Guinea-Bissau",
          "Guyana",
          "Haiti",
          "Honduras",
          "Hong Kong",
          "Hungary",
          "Iceland",
          "India",
          "Indonesia",
          "Iran",
          "Iraq",
          "Ireland",
          "Isle of Man",
          "Israel",
          "Italy",
          "Jamaica",
          "Japan",
          "Jersey",
          "Jordan",
          "Kazakhstan",
          "Kenya",
          "Kiribati",
          "Kosovo",
          "Kuwait",
          "Kyrgyzstan",
          "Laos",
          "Latvia",
          "Lebanon",
          "Lesotho",
          "Liberia",
          "Libya",
          "Liechtenstein",
          "Lithuania",
          "Luxembourg",
          "Macao",
          "Madagascar",
          "Malawi",
          "Malaysia",
          "Maldives",
          "Mali",
          "Malta",
          "Marshall Islands",
          "Mauritania",
          "Mauritius",
          "Mexico",
          "Micronesia (country)",
          "Moldova",
          "Monaco",
          "Mongolia",
          "Montenegro",
          "Montserrat",
          "Morocco",
          "Mozambique",
          "Myanmar",
          "Namibia",
          "Nauru",
          "Nepal",
          "Netherlands",
          "New Caledonia",
          "New Zealand",
          "Nicaragua",
          "Niger",
          "Nigeria",
          "Niue",
          "North Macedonia",
          "Norway",
          "Oman",
          "Pakistan",
          "Palau",
          "Palestine",
          "Panama",
          "Papua New Guinea",
          "Paraguay",
          "Peru",
          "Philippines",
          "Pitcairn",
          "Poland",
          "Portugal",
          "Qatar",
          "Romania",
          "Russia",
          "Rwanda",
          "Saint Helena",
          "Saint Kitts and Nevis",
          "Saint Lucia",
          "Saint Pierre and Miquelon",
          "Saint Vincent and the Grenadines",
          "Samoa",
          "San Marino",
          "Sao Tome and Principe",
          "Saudi Arabia",
          "Senegal",
          "Serbia",
          "Seychelles",
          "Sierra Leone",
          "Singapore",
          "Sint Maarten (Dutch part)",
          "Slovakia",
          "Slovenia",
          "Solomon Islands",
          "Somalia",
          "South Africa",
          "South Korea",
          "South Sudan",
          "Spain",
          "Sri Lanka",
          "Sudan",
          "Suriname",
          "Sweden",
          "Switzerland",
          "Syria",
          "Taiwan",
          "Tajikistan",
          "Tanzania",
          "Thailand",
          "Timor",
          "Togo",
          "Tokelau",
          "Tonga",
          "Trinidad and Tobago",
          "Tunisia",
          "Turkey",
          "Turkmenistan",
          "Turks and Caicos Islands",
          "Tuvalu",
          "Uganda",
          "Ukraine",
          "United Arab Emirates",
          "United Kingdom",
          "United States",
          "Uruguay",
          "Uzbekistan",
          "Vanuatu",
          "Vatican",
          "Venezuela",
          "Vietnam",
          "Wallis and Futuna",
          "Yemen",
          "Zambia",
          "Zimbabwe"
         ],
         "legendgroup": "",
         "marker": {
          "color": [
           174331,
           272030,
           265227,
           38434,
           98796,
           2555,
           7455,
           8934328,
           421226,
           33732,
           3362035,
           2839297,
           788958,
           33169,
           525171,
           1946737,
           56013,
           929340,
           3586292,
           56876,
           26575,
           11634,
           14451,
           894551,
           7616,
           372139,
           263950,
           29040800,
           6091,
           84844,
           1100811,
           20751,
           38150,
           132072,
           119322,
           3334009,
           55892,
           19373,
           14320,
           7257,
           3168335,
           110868,
           6070616,
           8047,
           24020,
           2,
           814583,
           85518,
           1062953,
           1072474,
           39133,
           331508,
           3624937,
           86154,
           2853236,
           15550,
           11248,
           575883,
           836216,
           489876,
           156364,
           15889,
           9715,
           514067,
           69297,
           468930,
           34658,
           115,
           64019,
           671773,
           23064766,
           68425,
           47559,
           11948,
           1623672,
           15830112,
           160028,
           15622,
           2499259,
           11806,
           13696,
           791944,
           0,
           36397,
           8027,
           63040,
           30385,
           413699,
           440609,
           1800046,
           140929,
           42962953,
           5723858,
           7084306,
           2307555,
           1315100,
           23328,
           3669112,
           12990223,
           128166,
           5341246,
           0,
           1638228,
           1391984,
           323071,
           2985,
           226579,
           622489,
           200615,
           143969,
           697548,
           1077242,
           32707,
           7384,
           497279,
           12833,
           928612,
           186360,
           82,
           63791,
           85411,
           3595172,
           172270,
           30398,
           71800,
           7,
           58646,
           70862,
           5554392,
           1,
           504875,
           9537,
           911183,
           230887,
           164,
           1161586,
           225135,
           597417,
           157324,
           0,
           977447,
           6734097,
           56833,
           222767,
           18105,
           8760,
           254637,
           0,
           299419,
           1305006,
           383874,
           1514258,
           3844,
           649971,
           757487,
           41421,
           643619,
           3522484,
           3666678,
           0,
           5734041,
           3322134,
           358083,
           2765169,
           16619507,
           129551,
           4,
           5536,
           22733,
           1102,
           9447,
           33,
           14487,
           5939,
           747119,
           85747,
           1923977,
           39427,
           7665,
           819663,
           0,
           2190599,
           902744,
           7940,
           26351,
           3683172,
           4456264,
           16999,
           11100428,
           649632,
           61569,
           78487,
           2455966,
           2890568,
           54963,
           20797,
           17786,
           33620,
           3026695,
           22741,
           36815,
           0,
           898,
           129963,
           1005167,
           14326217,
           0,
           5867,
           0,
           163383,
           5040518,
           882477,
           19172095,
           79265726,
           853170,
           236840,
           19,
           29,
           516578,
           4232520,
           454,
           11775,
           313744,
           239019
          ],
          "coloraxis": "coloraxis",
          "symbol": "circle"
         },
         "mode": "markers",
         "name": "",
         "orientation": "v",
         "showlegend": false,
         "type": "scatter",
         "x": [
          39835428,
          2872934,
          44616626,
          77354,
          33933611,
          15125,
          98728,
          45605823,
          2968128,
          107195,
          25788217,
          9043072,
          10223344,
          396914,
          1748295,
          166303494,
          287708,
          9442867,
          11632334,
          404915,
          12451031,
          62092,
          779900,
          11832936,
          26445,
          3263459,
          2397240,
          213993441,
          30423,
          441532,
          6896655,
          21497097,
          12255429,
          16946446,
          27224262,
          38067913,
          561901,
          66498,
          4919987,
          16914985,
          19212362,
          1444216102,
          51265841,
          888456,
          5657017,
          17572,
          5139053,
          27053629,
          4081657,
          11317498,
          164796,
          896005,
          10724553,
          92377986,
          5813302,
          1002197,
          72172,
          10953714,
          17888474,
          104258327,
          6518500,
          1449891,
          3601462,
          1325188,
          1172369,
          117876226,
          49053,
          3528,
          902899,
          5548361,
          67422000,
          282534,
          2278829,
          2486937,
          3979773,
          83900471,
          31732128,
          33691,
          10370747,
          56868,
          113015,
          18249868,
          63385,
          13497237,
          2015490,
          790329,
          11541683,
          10062994,
          7552800,
          9634162,
          368792,
          1393409033,
          276361788,
          85028760,
          41179351,
          4982904,
          85410,
          9291000,
          60367471,
          2973462,
          126050796,
          101073,
          10269022,
          18994958,
          54985702,
          121388,
          1782115,
          4328553,
          6628347,
          7379358,
          1866934,
          6769151,
          2159067,
          5180208,
          6958538,
          38254,
          2689862,
          634814,
          658391,
          28427333,
          19647681,
          32776195,
          543620,
          20855724,
          516100,
          59618,
          4775110,
          1273428,
          130262220,
          116255,
          4024025,
          39520,
          3329282,
          628051,
          4981,
          37344787,
          32163045,
          54806014,
          2587344,
          10873,
          29674920,
          17173094,
          288217,
          5126300,
          6702379,
          25130810,
          211400704,
          1614,
          2082661,
          5465629,
          5223376,
          225199929,
          18174,
          5222756,
          4381583,
          9119005,
          7219641,
          33359415,
          111046910,
          47,
          37797000,
          10167923,
          2930524,
          19127772,
          145912022,
          13276517,
          6095,
          53546,
          184401,
          5771,
          111269,
          200144,
          34010,
          223364,
          35340680,
          17196308,
          6871547,
          98910,
          8141343,
          5453600,
          43421,
          5449270,
          2078723,
          703995,
          16359500,
          60041996,
          51305184,
          11381377,
          46745211,
          21497306,
          44909351,
          591798,
          10160159,
          8715494,
          18275704,
          23855008,
          9749625,
          61498438,
          69950844,
          1343875,
          8478242,
          1368,
          106759,
          1403374,
          11935764,
          85042736,
          6117933,
          39226,
          11925,
          47123533,
          43466822,
          9991083,
          68207114,
          332915074,
          3485152,
          33935765,
          314464,
          812,
          28704947,
          98168829,
          11094,
          30490639,
          18920657,
          15092171
         ],
         "xaxis": "x",
         "y": [
          174331,
          272030,
          265227,
          38434,
          98796,
          2555,
          7455,
          8934328,
          421226,
          33732,
          3362035,
          2839297,
          788958,
          33169,
          525171,
          1946737,
          56013,
          929340,
          3586292,
          56876,
          26575,
          11634,
          14451,
          894551,
          7616,
          372139,
          263950,
          29040800,
          6091,
          84844,
          1100811,
          20751,
          38150,
          132072,
          119322,
          3334009,
          55892,
          19373,
          14320,
          7257,
          3168335,
          110868,
          6070616,
          8047,
          24020,
          2,
          814583,
          85518,
          1062953,
          1072474,
          39133,
          331508,
          3624937,
          86154,
          2853236,
          15550,
          11248,
          575883,
          836216,
          489876,
          156364,
          15889,
          9715,
          514067,
          69297,
          468930,
          34658,
          115,
          64019,
          671773,
          23064766,
          68425,
          47559,
          11948,
          1623672,
          15830112,
          160028,
          15622,
          2499259,
          11806,
          13696,
          791944,
          0,
          36397,
          8027,
          63040,
          30385,
          413699,
          440609,
          1800046,
          140929,
          42962953,
          5723858,
          7084306,
          2307555,
          1315100,
          23328,
          3669112,
          12990223,
          128166,
          5341246,
          0,
          1638228,
          1391984,
          323071,
          2985,
          226579,
          622489,
          200615,
          143969,
          697548,
          1077242,
          32707,
          7384,
          497279,
          12833,
          928612,
          186360,
          82,
          63791,
          85411,
          3595172,
          172270,
          30398,
          71800,
          7,
          58646,
          70862,
          5554392,
          1,
          504875,
          9537,
          911183,
          230887,
          164,
          1161586,
          225135,
          597417,
          157324,
          0,
          977447,
          6734097,
          56833,
          222767,
          18105,
          8760,
          254637,
          0,
          299419,
          1305006,
          383874,
          1514258,
          3844,
          649971,
          757487,
          41421,
          643619,
          3522484,
          3666678,
          0,
          5734041,
          3322134,
          358083,
          2765169,
          16619507,
          129551,
          4,
          5536,
          22733,
          1102,
          9447,
          33,
          14487,
          5939,
          747119,
          85747,
          1923977,
          39427,
          7665,
          819663,
          0,
          2190599,
          902744,
          7940,
          26351,
          3683172,
          4456264,
          16999,
          11100428,
          649632,
          61569,
          78487,
          2455966,
          2890568,
          54963,
          20797,
          17786,
          33620,
          3026695,
          22741,
          36815,
          0,
          898,
          129963,
          1005167,
          14326217,
          0,
          5867,
          0,
          163383,
          5040518,
          882477,
          19172095,
          79265726,
          853170,
          236840,
          19,
          29,
          516578,
          4232520,
          454,
          11775,
          313744,
          239019
         ],
         "yaxis": "y"
        },
        {
         "hovertemplate": "<b>OLS trendline</b><br>TotalCases = 0.0219462 * Population + 1.2186e+06<br>R<sup>2</sup>=0.195215<br><br>Population=%{x}<br>TotalCases=%{y} <b>(trend)</b><extra></extra>",
         "legendgroup": "",
         "marker": {
          "symbol": "circle"
         },
         "mode": "lines",
         "name": "",
         "showlegend": false,
         "type": "scatter",
         "x": [
          47,
          812,
          1368,
          1614,
          3528,
          4981,
          5771,
          6095,
          10873,
          11094,
          11925,
          15125,
          17572,
          18174,
          26445,
          30423,
          33691,
          34010,
          38254,
          39226,
          39520,
          43421,
          49053,
          53546,
          56868,
          59618,
          62092,
          63385,
          66498,
          72172,
          77354,
          85410,
          98728,
          98910,
          101073,
          106759,
          107195,
          111269,
          113015,
          116255,
          121388,
          164796,
          184401,
          200144,
          223364,
          282534,
          287708,
          288217,
          314464,
          368792,
          396914,
          404915,
          441532,
          516100,
          543620,
          561901,
          591798,
          628051,
          634814,
          658391,
          703995,
          779900,
          790329,
          888456,
          896005,
          902899,
          1002197,
          1172369,
          1273428,
          1325188,
          1343875,
          1403374,
          1449891,
          1748295,
          1782115,
          1866934,
          2015490,
          2078723,
          2082661,
          2159067,
          2278829,
          2397240,
          2486937,
          2587344,
          2689862,
          2872934,
          2930524,
          2968128,
          2973462,
          3263459,
          3329282,
          3485152,
          3601462,
          3979773,
          4024025,
          4081657,
          4328553,
          4381583,
          4775110,
          4919987,
          4982904,
          5126300,
          5139053,
          5180208,
          5222756,
          5223376,
          5449270,
          5453600,
          5465629,
          5548361,
          5657017,
          5813302,
          6117933,
          6518500,
          6628347,
          6702379,
          6769151,
          6871547,
          6896655,
          6958538,
          7219641,
          7379358,
          7552800,
          8141343,
          8478242,
          8715494,
          9043072,
          9119005,
          9291000,
          9442867,
          9634162,
          9749625,
          9991083,
          10062994,
          10160159,
          10167923,
          10223344,
          10269022,
          10370747,
          10724553,
          10953714,
          11317498,
          11381377,
          11541683,
          11632334,
          11832936,
          11935764,
          12255429,
          12451031,
          13276517,
          13497237,
          15092171,
          16359500,
          16914985,
          16946446,
          17173094,
          17196308,
          17888474,
          18249868,
          18275704,
          18920657,
          18994958,
          19127772,
          19212362,
          19647681,
          20855724,
          21497097,
          21497306,
          23855008,
          25130810,
          25788217,
          27053629,
          27224262,
          28427333,
          28704947,
          29674920,
          30490639,
          31732128,
          32163045,
          32776195,
          33359415,
          33933611,
          33935765,
          35340680,
          37344787,
          37797000,
          38067913,
          39835428,
          41179351,
          43466822,
          44616626,
          44909351,
          45605823,
          46745211,
          47123533,
          51265841,
          51305184,
          54806014,
          54985702,
          60041996,
          60367471,
          61498438,
          67422000,
          68207114,
          69950844,
          83900471,
          85028760,
          85042736,
          92377986,
          98168829,
          104258327,
          111046910,
          117876226,
          126050796,
          130262220,
          145912022,
          166303494,
          211400704,
          213993441,
          225199929,
          276361788,
          332915074,
          1393409033,
          1444216102
         ],
         "xaxis": "x",
         "y": [
          1218602.36391487,
          1218619.1527453442,
          1218631.3548234408,
          1218636.7535846129,
          1218678.7585800744,
          1218710.6463848841,
          1218727.9838699491,
          1218735.094433444,
          1218839.9532988125,
          1218844.803405394,
          1218863.0406839878,
          1218933.2684715933,
          1218986.970782928,
          1219000.1823854712,
          1219181.6992702477,
          1219269.0011887148,
          1219340.7213168067,
          1219347.7221493837,
          1219440.8617526954,
          1219462.1934431805,
          1219468.6456211668,
          1219554.2576834946,
          1219677.8585896802,
          1219776.462792715,
          1219849.3680147228,
          1219909.7200196963,
          1219964.0148779887,
          1219992.3912934181,
          1220060.709763048,
          1220185.232408946,
          1220298.9575324997,
          1220475.7559877965,
          1220768.0352613367,
          1220772.0294667569,
          1220819.4990619414,
          1220944.285062043,
          1220953.853598104,
          1221043.2623501993,
          1221081.5803868116,
          1221152.6860217622,
          1221265.335782318,
          1222217.975721186,
          1222648.2306511877,
          1222993.7294200228,
          1223503.319803835,
          1224801.8754890272,
          1224915.4250431117,
          1224926.5956505777,
          1225502.6171322279,
          1226694.9093962996,
          1227312.0799722497,
          1227487.671387447,
          1228291.2747933061,
          1229927.7578139824,
          1230531.7167873892,
          1230932.9149702692,
          1231589.0400221567,
          1232384.6550171757,
          1232533.077057043,
          1233050.50222841,
          1234051.3359865223,
          1235717.1610547074,
          1235946.0378037503,
          1238099.550964488,
          1238265.222704686,
          1238416.5196946086,
          1240595.7318363732,
          1244330.357796497,
          1246548.2171676282,
          1247684.1516321464,
          1248094.2599655788,
          1249400.0359451843,
          1250420.9065689477,
          1256969.7355478911,
          1257711.9554781464,
          1259573.40882718,
          1262833.646082029,
          1264221.3691112965,
          1264307.7931824184,
          1265984.6132886005,
          1268612.932132102,
          1271211.601681524,
          1273180.1085142884,
          1275383.6589736952,
          1277633.5378267379,
          1281651.2695556462,
          1282915.1502707081,
          1283740.4145598067,
          1283857.4755032717,
          1290221.8029164656,
          1291666.3665613262,
          1295087.1182032207,
          1297639.6788208429,
          1305942.1614948458,
          1306913.3240126946,
          1308178.126467469,
          1313596.5514201683,
          1314760.3575378924,
          1323396.773341959,
          1326576.2705872452,
          1327957.058622487,
          1331104.0535698219,
          1331383.9332496133,
          1332287.1284367703,
          1333220.8946577194,
          1333234.501291568,
          1338192.0124957392,
          1338287.0394708428,
          1338551.0301136884,
          1340366.681777493,
          1342751.2663056364,
          1346181.1256137362,
          1352866.6134781232,
          1361657.530414922,
          1364068.2528477646,
          1365692.972714017,
          1367158.3632871392,
          1369405.5647057795,
          1369956.5894842788,
          1371314.6851656502,
          1377044.899549134,
          1380550.0781594408,
          1384356.4681400238,
          1397272.740890236,
          1404666.3882078899,
          1409873.164165693,
          1417062.251105762,
          1418728.6906670886,
          1422503.324519964,
          1425836.2255888009,
          1430034.4207856716,
          1432568.392985762,
          1437867.4745918992,
          1439445.6466026793,
          1441578.047534768,
          1441748.4377044458,
          1442964.7171472216,
          1443967.1749229222,
          1446199.6504523489,
          1453964.3418965791,
          1458993.5512826587,
          1466977.2217471162,
          1468379.1220110066,
          1471897.2269234695,
          1473886.6704154138,
          1478289.1187432983,
          1480545.8009132652,
          1487561.2277022963,
          1491853.9451120473,
          1509970.212449322,
          1514814.1740994086,
          1549816.8885358851,
          1577629.9234853347,
          1589820.6992972156,
          1590511.1481802952,
          1595485.206806921,
          1595994.6655136312,
          1611185.0676497938,
          1619116.2867353836,
          1619683.2883355631,
          1633837.545304158,
          1635468.1686938058,
          1638382.9291260033,
          1640239.3567989862,
          1649792.9475091803,
          1676304.8810161368,
          1690380.5706473482,
          1690385.157399726,
          1742127.718428778,
          1770126.7033920966,
          1784554.2781315786,
          1812325.2422470157,
          1816069.9853977913,
          1842472.802479756,
          1848565.3703011004,
          1869852.575872047,
          1887754.49483384,
          1915000.4403983755,
          1924457.4240082446,
          1937913.7264989596,
          1950713.179713727,
          1963314.590567447,
          1963361.8626469788,
          1994194.3852168925,
          2038176.885446459,
          2048101.2349828426,
          2054046.7414277045,
          2092836.9501806616,
          2122330.931118815,
          2172532.1897255797,
          2197765.999444301,
          2204190.196046428,
          2219475.098449287,
          2244480.3167193523,
          2252783.040801375,
          2343690.892807748,
          2344554.3215101734,
          2421384.1795360544,
          2425327.64537957,
          2536294.0019741813,
          2543436.9360900833,
          2568257.345547828,
          2698256.9249240053,
          2715487.180935903,
          2753755.3997112988,
          3059896.4753773534,
          3084658.112955346,
          3084964.832817713,
          3245945.5762655074,
          3373032.4800969316,
          3506673.72139939,
          3655657.2104825242,
          3805534.633463325,
          3984935.2477526865,
          4077359.9321866026,
          4420813.360600192,
          4868328.349531025,
          5858040.001243142,
          5914940.6835408965,
          6160880.326999373,
          7283687.87929701,
          8524816.678546626,
          31798611.837772954,
          32913633.10358167
         ],
         "yaxis": "y"
        }
       ],
       "layout": {
        "coloraxis": {
         "colorbar": {
          "title": {
           "text": "TotalCases"
          }
         },
         "colorscale": [
          [
           0,
           "#440154"
          ],
          [
           0.1111111111111111,
           "#482878"
          ],
          [
           0.2222222222222222,
           "#3e4989"
          ],
          [
           0.3333333333333333,
           "#31688e"
          ],
          [
           0.4444444444444444,
           "#26828e"
          ],
          [
           0.5555555555555556,
           "#1f9e89"
          ],
          [
           0.6666666666666666,
           "#35b779"
          ],
          [
           0.7777777777777778,
           "#6ece58"
          ],
          [
           0.8888888888888888,
           "#b5de2b"
          ],
          [
           1,
           "#fde725"
          ]
         ]
        },
        "legend": {
         "tracegroupgap": 0
        },
        "template": {
         "data": {
          "bar": [
           {
            "error_x": {
             "color": "#2a3f5f"
            },
            "error_y": {
             "color": "#2a3f5f"
            },
            "marker": {
             "line": {
              "color": "#E5ECF6",
              "width": 0.5
             },
             "pattern": {
              "fillmode": "overlay",
              "size": 10,
              "solidity": 0.2
             }
            },
            "type": "bar"
           }
          ],
          "barpolar": [
           {
            "marker": {
             "line": {
              "color": "#E5ECF6",
              "width": 0.5
             },
             "pattern": {
              "fillmode": "overlay",
              "size": 10,
              "solidity": 0.2
             }
            },
            "type": "barpolar"
           }
          ],
          "carpet": [
           {
            "aaxis": {
             "endlinecolor": "#2a3f5f",
             "gridcolor": "white",
             "linecolor": "white",
             "minorgridcolor": "white",
             "startlinecolor": "#2a3f5f"
            },
            "baxis": {
             "endlinecolor": "#2a3f5f",
             "gridcolor": "white",
             "linecolor": "white",
             "minorgridcolor": "white",
             "startlinecolor": "#2a3f5f"
            },
            "type": "carpet"
           }
          ],
          "choropleth": [
           {
            "colorbar": {
             "outlinewidth": 0,
             "ticks": ""
            },
            "type": "choropleth"
           }
          ],
          "contour": [
           {
            "colorbar": {
             "outlinewidth": 0,
             "ticks": ""
            },
            "colorscale": [
             [
              0,
              "#0d0887"
             ],
             [
              0.1111111111111111,
              "#46039f"
             ],
             [
              0.2222222222222222,
              "#7201a8"
             ],
             [
              0.3333333333333333,
              "#9c179e"
             ],
             [
              0.4444444444444444,
              "#bd3786"
             ],
             [
              0.5555555555555556,
              "#d8576b"
             ],
             [
              0.6666666666666666,
              "#ed7953"
             ],
             [
              0.7777777777777778,
              "#fb9f3a"
             ],
             [
              0.8888888888888888,
              "#fdca26"
             ],
             [
              1,
              "#f0f921"
             ]
            ],
            "type": "contour"
           }
          ],
          "contourcarpet": [
           {
            "colorbar": {
             "outlinewidth": 0,
             "ticks": ""
            },
            "type": "contourcarpet"
           }
          ],
          "heatmap": [
           {
            "colorbar": {
             "outlinewidth": 0,
             "ticks": ""
            },
            "colorscale": [
             [
              0,
              "#0d0887"
             ],
             [
              0.1111111111111111,
              "#46039f"
             ],
             [
              0.2222222222222222,
              "#7201a8"
             ],
             [
              0.3333333333333333,
              "#9c179e"
             ],
             [
              0.4444444444444444,
              "#bd3786"
             ],
             [
              0.5555555555555556,
              "#d8576b"
             ],
             [
              0.6666666666666666,
              "#ed7953"
             ],
             [
              0.7777777777777778,
              "#fb9f3a"
             ],
             [
              0.8888888888888888,
              "#fdca26"
             ],
             [
              1,
              "#f0f921"
             ]
            ],
            "type": "heatmap"
           }
          ],
          "heatmapgl": [
           {
            "colorbar": {
             "outlinewidth": 0,
             "ticks": ""
            },
            "colorscale": [
             [
              0,
              "#0d0887"
             ],
             [
              0.1111111111111111,
              "#46039f"
             ],
             [
              0.2222222222222222,
              "#7201a8"
             ],
             [
              0.3333333333333333,
              "#9c179e"
             ],
             [
              0.4444444444444444,
              "#bd3786"
             ],
             [
              0.5555555555555556,
              "#d8576b"
             ],
             [
              0.6666666666666666,
              "#ed7953"
             ],
             [
              0.7777777777777778,
              "#fb9f3a"
             ],
             [
              0.8888888888888888,
              "#fdca26"
             ],
             [
              1,
              "#f0f921"
             ]
            ],
            "type": "heatmapgl"
           }
          ],
          "histogram": [
           {
            "marker": {
             "pattern": {
              "fillmode": "overlay",
              "size": 10,
              "solidity": 0.2
             }
            },
            "type": "histogram"
           }
          ],
          "histogram2d": [
           {
            "colorbar": {
             "outlinewidth": 0,
             "ticks": ""
            },
            "colorscale": [
             [
              0,
              "#0d0887"
             ],
             [
              0.1111111111111111,
              "#46039f"
             ],
             [
              0.2222222222222222,
              "#7201a8"
             ],
             [
              0.3333333333333333,
              "#9c179e"
             ],
             [
              0.4444444444444444,
              "#bd3786"
             ],
             [
              0.5555555555555556,
              "#d8576b"
             ],
             [
              0.6666666666666666,
              "#ed7953"
             ],
             [
              0.7777777777777778,
              "#fb9f3a"
             ],
             [
              0.8888888888888888,
              "#fdca26"
             ],
             [
              1,
              "#f0f921"
             ]
            ],
            "type": "histogram2d"
           }
          ],
          "histogram2dcontour": [
           {
            "colorbar": {
             "outlinewidth": 0,
             "ticks": ""
            },
            "colorscale": [
             [
              0,
              "#0d0887"
             ],
             [
              0.1111111111111111,
              "#46039f"
             ],
             [
              0.2222222222222222,
              "#7201a8"
             ],
             [
              0.3333333333333333,
              "#9c179e"
             ],
             [
              0.4444444444444444,
              "#bd3786"
             ],
             [
              0.5555555555555556,
              "#d8576b"
             ],
             [
              0.6666666666666666,
              "#ed7953"
             ],
             [
              0.7777777777777778,
              "#fb9f3a"
             ],
             [
              0.8888888888888888,
              "#fdca26"
             ],
             [
              1,
              "#f0f921"
             ]
            ],
            "type": "histogram2dcontour"
           }
          ],
          "mesh3d": [
           {
            "colorbar": {
             "outlinewidth": 0,
             "ticks": ""
            },
            "type": "mesh3d"
           }
          ],
          "parcoords": [
           {
            "line": {
             "colorbar": {
              "outlinewidth": 0,
              "ticks": ""
             }
            },
            "type": "parcoords"
           }
          ],
          "pie": [
           {
            "automargin": true,
            "type": "pie"
           }
          ],
          "scatter": [
           {
            "fillpattern": {
             "fillmode": "overlay",
             "size": 10,
             "solidity": 0.2
            },
            "type": "scatter"
           }
          ],
          "scatter3d": [
           {
            "line": {
             "colorbar": {
              "outlinewidth": 0,
              "ticks": ""
             }
            },
            "marker": {
             "colorbar": {
              "outlinewidth": 0,
              "ticks": ""
             }
            },
            "type": "scatter3d"
           }
          ],
          "scattercarpet": [
           {
            "marker": {
             "colorbar": {
              "outlinewidth": 0,
              "ticks": ""
             }
            },
            "type": "scattercarpet"
           }
          ],
          "scattergeo": [
           {
            "marker": {
             "colorbar": {
              "outlinewidth": 0,
              "ticks": ""
             }
            },
            "type": "scattergeo"
           }
          ],
          "scattergl": [
           {
            "marker": {
             "colorbar": {
              "outlinewidth": 0,
              "ticks": ""
             }
            },
            "type": "scattergl"
           }
          ],
          "scattermapbox": [
           {
            "marker": {
             "colorbar": {
              "outlinewidth": 0,
              "ticks": ""
             }
            },
            "type": "scattermapbox"
           }
          ],
          "scatterpolar": [
           {
            "marker": {
             "colorbar": {
              "outlinewidth": 0,
              "ticks": ""
             }
            },
            "type": "scatterpolar"
           }
          ],
          "scatterpolargl": [
           {
            "marker": {
             "colorbar": {
              "outlinewidth": 0,
              "ticks": ""
             }
            },
            "type": "scatterpolargl"
           }
          ],
          "scatterternary": [
           {
            "marker": {
             "colorbar": {
              "outlinewidth": 0,
              "ticks": ""
             }
            },
            "type": "scatterternary"
           }
          ],
          "surface": [
           {
            "colorbar": {
             "outlinewidth": 0,
             "ticks": ""
            },
            "colorscale": [
             [
              0,
              "#0d0887"
             ],
             [
              0.1111111111111111,
              "#46039f"
             ],
             [
              0.2222222222222222,
              "#7201a8"
             ],
             [
              0.3333333333333333,
              "#9c179e"
             ],
             [
              0.4444444444444444,
              "#bd3786"
             ],
             [
              0.5555555555555556,
              "#d8576b"
             ],
             [
              0.6666666666666666,
              "#ed7953"
             ],
             [
              0.7777777777777778,
              "#fb9f3a"
             ],
             [
              0.8888888888888888,
              "#fdca26"
             ],
             [
              1,
              "#f0f921"
             ]
            ],
            "type": "surface"
           }
          ],
          "table": [
           {
            "cells": {
             "fill": {
              "color": "#EBF0F8"
             },
             "line": {
              "color": "white"
             }
            },
            "header": {
             "fill": {
              "color": "#C8D4E3"
             },
             "line": {
              "color": "white"
             }
            },
            "type": "table"
           }
          ]
         },
         "layout": {
          "annotationdefaults": {
           "arrowcolor": "#2a3f5f",
           "arrowhead": 0,
           "arrowwidth": 1
          },
          "autotypenumbers": "strict",
          "coloraxis": {
           "colorbar": {
            "outlinewidth": 0,
            "ticks": ""
           }
          },
          "colorscale": {
           "diverging": [
            [
             0,
             "#8e0152"
            ],
            [
             0.1,
             "#c51b7d"
            ],
            [
             0.2,
             "#de77ae"
            ],
            [
             0.3,
             "#f1b6da"
            ],
            [
             0.4,
             "#fde0ef"
            ],
            [
             0.5,
             "#f7f7f7"
            ],
            [
             0.6,
             "#e6f5d0"
            ],
            [
             0.7,
             "#b8e186"
            ],
            [
             0.8,
             "#7fbc41"
            ],
            [
             0.9,
             "#4d9221"
            ],
            [
             1,
             "#276419"
            ]
           ],
           "sequential": [
            [
             0,
             "#0d0887"
            ],
            [
             0.1111111111111111,
             "#46039f"
            ],
            [
             0.2222222222222222,
             "#7201a8"
            ],
            [
             0.3333333333333333,
             "#9c179e"
            ],
            [
             0.4444444444444444,
             "#bd3786"
            ],
            [
             0.5555555555555556,
             "#d8576b"
            ],
            [
             0.6666666666666666,
             "#ed7953"
            ],
            [
             0.7777777777777778,
             "#fb9f3a"
            ],
            [
             0.8888888888888888,
             "#fdca26"
            ],
            [
             1,
             "#f0f921"
            ]
           ],
           "sequentialminus": [
            [
             0,
             "#0d0887"
            ],
            [
             0.1111111111111111,
             "#46039f"
            ],
            [
             0.2222222222222222,
             "#7201a8"
            ],
            [
             0.3333333333333333,
             "#9c179e"
            ],
            [
             0.4444444444444444,
             "#bd3786"
            ],
            [
             0.5555555555555556,
             "#d8576b"
            ],
            [
             0.6666666666666666,
             "#ed7953"
            ],
            [
             0.7777777777777778,
             "#fb9f3a"
            ],
            [
             0.8888888888888888,
             "#fdca26"
            ],
            [
             1,
             "#f0f921"
            ]
           ]
          },
          "colorway": [
           "#636efa",
           "#EF553B",
           "#00cc96",
           "#ab63fa",
           "#FFA15A",
           "#19d3f3",
           "#FF6692",
           "#B6E880",
           "#FF97FF",
           "#FECB52"
          ],
          "font": {
           "color": "#2a3f5f"
          },
          "geo": {
           "bgcolor": "white",
           "lakecolor": "white",
           "landcolor": "#E5ECF6",
           "showlakes": true,
           "showland": true,
           "subunitcolor": "white"
          },
          "hoverlabel": {
           "align": "left"
          },
          "hovermode": "closest",
          "mapbox": {
           "style": "light"
          },
          "paper_bgcolor": "white",
          "plot_bgcolor": "#E5ECF6",
          "polar": {
           "angularaxis": {
            "gridcolor": "white",
            "linecolor": "white",
            "ticks": ""
           },
           "bgcolor": "#E5ECF6",
           "radialaxis": {
            "gridcolor": "white",
            "linecolor": "white",
            "ticks": ""
           }
          },
          "scene": {
           "xaxis": {
            "backgroundcolor": "#E5ECF6",
            "gridcolor": "white",
            "gridwidth": 2,
            "linecolor": "white",
            "showbackground": true,
            "ticks": "",
            "zerolinecolor": "white"
           },
           "yaxis": {
            "backgroundcolor": "#E5ECF6",
            "gridcolor": "white",
            "gridwidth": 2,
            "linecolor": "white",
            "showbackground": true,
            "ticks": "",
            "zerolinecolor": "white"
           },
           "zaxis": {
            "backgroundcolor": "#E5ECF6",
            "gridcolor": "white",
            "gridwidth": 2,
            "linecolor": "white",
            "showbackground": true,
            "ticks": "",
            "zerolinecolor": "white"
           }
          },
          "shapedefaults": {
           "line": {
            "color": "#2a3f5f"
           }
          },
          "ternary": {
           "aaxis": {
            "gridcolor": "white",
            "linecolor": "white",
            "ticks": ""
           },
           "baxis": {
            "gridcolor": "white",
            "linecolor": "white",
            "ticks": ""
           },
           "bgcolor": "#E5ECF6",
           "caxis": {
            "gridcolor": "white",
            "linecolor": "white",
            "ticks": ""
           }
          },
          "title": {
           "x": 0.05
          },
          "xaxis": {
           "automargin": true,
           "gridcolor": "white",
           "linecolor": "white",
           "ticks": "",
           "title": {
            "standoff": 15
           },
           "zerolinecolor": "white",
           "zerolinewidth": 2
          },
          "yaxis": {
           "automargin": true,
           "gridcolor": "white",
           "linecolor": "white",
           "ticks": "",
           "title": {
            "standoff": 15
           },
           "zerolinecolor": "white",
           "zerolinewidth": 2
          }
         }
        },
        "title": {
         "text": "Biểu đồ thể hiện sự tương quan giữa dân số và số ca mắc ở các quốc gia trên thế giới"
        },
        "xaxis": {
         "anchor": "y",
         "domain": [
          0,
          1
         ],
         "title": {
          "text": "Population"
         }
        },
        "yaxis": {
         "anchor": "x",
         "domain": [
          0,
          1
         ],
         "title": {
          "text": "TotalCases"
         }
        }
       }
      }
     },
     "metadata": {},
     "output_type": "display_data"
    }
   ],
   "source": [
    "plot_scatter(cases_country, \"Population\", \"TotalCases\", \"Biểu đồ thể hiện sự tương quan giữa dân số và số ca mắc ở các quốc gia trên thế giới\",\"Location\")"
   ]
  },
  {
   "cell_type": "markdown",
   "metadata": {},
   "source": [
    "Theo biểu đồ, ta thấy Hoa Kỳ có tổng số ca mắc cao nhất nhưng dân số nước này lại không cao.\n",
    "\n",
    "Trung Quốc có số dân đông nhất thế giới và là nơi khởi nguồn dịch bệnh nhưng tổng số ca mắc lại thấp hơn nhiều\n",
    "\n",
    "Có riêng Ấn Độ, dân số đông đồng thời số ca mắc cũng gần như rất cao, chỉ thua mỗi Hoa Kỳ."
   ]
  },
  {
   "cell_type": "markdown",
   "metadata": {},
   "source": [
    "**Ta đặt giả thuyết thống kê**\n",
    "\n",
    "H0: Không có mối quan hệ tuyến tính giữa dân số và số ca mắc\n",
    "\n",
    "Ha: Có mối quan hệ tuyến tính giữa dân số và số ca mắc"
   ]
  },
  {
   "cell_type": "markdown",
   "metadata": {},
   "source": [
    "Ta thực hiện tính hệ số tương quan và giá trị p_value "
   ]
  },
  {
   "cell_type": "code",
   "execution_count": 198,
   "metadata": {},
   "outputs": [],
   "source": [
    "res = stats.linregress(cases_country[\"Population\"], cases_country[\"TotalCases\"])"
   ]
  },
  {
   "cell_type": "code",
   "execution_count": 199,
   "metadata": {},
   "outputs": [
    {
     "name": "stdout",
     "output_type": "stream",
     "text": [
      "Ta tính được giá trị P-value = 4.0350674184659014e-12 < 0.05\n",
      "Ta bác bỏ H0, chấp nhận Ha\n"
     ]
    }
   ],
   "source": [
    "print(f\"Ta tính được giá trị P-value = {res.pvalue} < 0.05\")\n",
    "print(f\"Ta bác bỏ H0, chấp nhận Ha\")"
   ]
  },
  {
   "cell_type": "code",
   "execution_count": 200,
   "metadata": {},
   "outputs": [
    {
     "name": "stdout",
     "output_type": "stream",
     "text": [
      "Tuy nhiên, vì hệ số tương quan R = 0.4418309554783007 không quá mạnh cũng không quá yếu, ta cũng chưa thể kết luận ngay dân số có là nguyên nhân ảnh hưởng đến số ca mắc Covid-19 ở các quốc gia trên thế giới hay không vì còn nhiều yếu tố ảnh hưởng khác như hệ thống y tế, chính sách cách ly của mỗi quốc gia...\n"
     ]
    }
   ],
   "source": [
    "print(f\"Tuy nhiên, vì hệ số tương quan R = {res.rvalue} không quá mạnh cũng không quá yếu, ta cũng chưa thể kết luận ngay dân số có là nguyên nhân ảnh hưởng đến số ca mắc Covid-19 ở các quốc gia trên thế giới hay không vì còn nhiều yếu tố ảnh hưởng khác như hệ thống y tế, chính sách cách ly của mỗi quốc gia...\")"
   ]
  },
  {
   "cell_type": "markdown",
   "metadata": {},
   "source": [
    "## Câu 2: Có phải các nước có nền kinh tế phát triển, thu nhập cao thì dịch bệnh Covid-19 sẽ ít nghiêm trọng hơn so với các nước có nền kinh tế phát triển kém hơn, thu nhập thấp hơn không ? **(X: Location, TotalCases, TotalDeaths)**  **(Y: Tỉ lệ tử vong)**"
   ]
  },
  {
   "cell_type": "code",
   "execution_count": 201,
   "metadata": {},
   "outputs": [],
   "source": [
    "covid_country = covid_df.copy()\n",
    "covid_country = covid_country.groupby(by= 'Location').agg({'Continent': 'first', 'Location': 'first', 'TotalCases': 'max', 'TotalDeaths': 'max'})\n",
    "covid_country = covid_country[covid_country.Continent != 0]"
   ]
  },
  {
   "cell_type": "markdown",
   "metadata": {},
   "source": [
    "Lấy tên các quốc gia có trong dữ liệu"
   ]
  },
  {
   "cell_type": "code",
   "execution_count": 202,
   "metadata": {},
   "outputs": [],
   "source": [
    "list_country = list([])\n",
    "list_country = covid_country['Location'].unique().tolist()"
   ]
  },
  {
   "cell_type": "markdown",
   "metadata": {},
   "source": [
    "Sắp xếp số ca mắc covid-19 từ cao xuống thấp theo các quốc gia"
   ]
  },
  {
   "cell_type": "code",
   "execution_count": 203,
   "metadata": {},
   "outputs": [
    {
     "data": {
      "text/html": [
       "<div>\n",
       "<style scoped>\n",
       "    .dataframe tbody tr th:only-of-type {\n",
       "        vertical-align: middle;\n",
       "    }\n",
       "\n",
       "    .dataframe tbody tr th {\n",
       "        vertical-align: top;\n",
       "    }\n",
       "\n",
       "    .dataframe thead th {\n",
       "        text-align: right;\n",
       "    }\n",
       "</style>\n",
       "<table border=\"1\" class=\"dataframe\">\n",
       "  <thead>\n",
       "    <tr style=\"text-align: right;\">\n",
       "      <th></th>\n",
       "      <th>Continent</th>\n",
       "      <th>Location</th>\n",
       "      <th>TotalCases</th>\n",
       "      <th>TotalDeaths</th>\n",
       "    </tr>\n",
       "    <tr>\n",
       "      <th>Location</th>\n",
       "      <th></th>\n",
       "      <th></th>\n",
       "      <th></th>\n",
       "      <th></th>\n",
       "    </tr>\n",
       "  </thead>\n",
       "  <tbody>\n",
       "    <tr>\n",
       "      <th>United States</th>\n",
       "      <td>North America</td>\n",
       "      <td>United States</td>\n",
       "      <td>79265726.0</td>\n",
       "      <td>958437.0</td>\n",
       "    </tr>\n",
       "    <tr>\n",
       "      <th>India</th>\n",
       "      <td>Asia</td>\n",
       "      <td>India</td>\n",
       "      <td>42962953.0</td>\n",
       "      <td>515036.0</td>\n",
       "    </tr>\n",
       "    <tr>\n",
       "      <th>Brazil</th>\n",
       "      <td>South America</td>\n",
       "      <td>Brazil</td>\n",
       "      <td>29040800.0</td>\n",
       "      <td>652216.0</td>\n",
       "    </tr>\n",
       "    <tr>\n",
       "      <th>France</th>\n",
       "      <td>Europe</td>\n",
       "      <td>France</td>\n",
       "      <td>23064766.0</td>\n",
       "      <td>139312.0</td>\n",
       "    </tr>\n",
       "    <tr>\n",
       "      <th>United Kingdom</th>\n",
       "      <td>Europe</td>\n",
       "      <td>United Kingdom</td>\n",
       "      <td>19172095.0</td>\n",
       "      <td>162152.0</td>\n",
       "    </tr>\n",
       "    <tr>\n",
       "      <th>...</th>\n",
       "      <td>...</td>\n",
       "      <td>...</td>\n",
       "      <td>...</td>\n",
       "      <td>...</td>\n",
       "    </tr>\n",
       "    <tr>\n",
       "      <th>Nauru</th>\n",
       "      <td>Oceania</td>\n",
       "      <td>Nauru</td>\n",
       "      <td>0.0</td>\n",
       "      <td>0.0</td>\n",
       "    </tr>\n",
       "    <tr>\n",
       "      <th>Guernsey</th>\n",
       "      <td>Europe</td>\n",
       "      <td>Guernsey</td>\n",
       "      <td>0.0</td>\n",
       "      <td>0.0</td>\n",
       "    </tr>\n",
       "    <tr>\n",
       "      <th>Tokelau</th>\n",
       "      <td>Oceania</td>\n",
       "      <td>Tokelau</td>\n",
       "      <td>0.0</td>\n",
       "      <td>0.0</td>\n",
       "    </tr>\n",
       "    <tr>\n",
       "      <th>Tuvalu</th>\n",
       "      <td>Oceania</td>\n",
       "      <td>Tuvalu</td>\n",
       "      <td>0.0</td>\n",
       "      <td>0.0</td>\n",
       "    </tr>\n",
       "    <tr>\n",
       "      <th>Niue</th>\n",
       "      <td>Oceania</td>\n",
       "      <td>Niue</td>\n",
       "      <td>0.0</td>\n",
       "      <td>0.0</td>\n",
       "    </tr>\n",
       "  </tbody>\n",
       "</table>\n",
       "<p>224 rows × 4 columns</p>\n",
       "</div>"
      ],
      "text/plain": [
       "                    Continent        Location  TotalCases  TotalDeaths\n",
       "Location                                                              \n",
       "United States   North America   United States  79265726.0     958437.0\n",
       "India                    Asia           India  42962953.0     515036.0\n",
       "Brazil          South America          Brazil  29040800.0     652216.0\n",
       "France                 Europe          France  23064766.0     139312.0\n",
       "United Kingdom         Europe  United Kingdom  19172095.0     162152.0\n",
       "...                       ...             ...         ...          ...\n",
       "Nauru                 Oceania           Nauru         0.0          0.0\n",
       "Guernsey               Europe        Guernsey         0.0          0.0\n",
       "Tokelau               Oceania         Tokelau         0.0          0.0\n",
       "Tuvalu                Oceania          Tuvalu         0.0          0.0\n",
       "Niue                  Oceania            Niue         0.0          0.0\n",
       "\n",
       "[224 rows x 4 columns]"
      ]
     },
     "execution_count": 203,
     "metadata": {},
     "output_type": "execute_result"
    }
   ],
   "source": [
    "covid_country.sort_values('TotalCases', inplace= True, ascending= False)\n",
    "covid_country"
   ]
  },
  {
   "cell_type": "code",
   "execution_count": 204,
   "metadata": {},
   "outputs": [
    {
     "data": {
      "application/vnd.plotly.v1+json": {
       "config": {
        "plotlyServerURL": "https://plot.ly"
       },
       "data": [
        {
         "alignmentgroup": "True",
         "hovertemplate": "Continent=North America<br>TotalCases=%{text}<br>Location=%{y}<extra></extra>",
         "legendgroup": "North America",
         "marker": {
          "color": "rgb(27,158,119)",
          "pattern": {
           "shape": ""
          }
         },
         "name": "North America",
         "offsetgroup": "North America",
         "orientation": "h",
         "showlegend": true,
         "text": [
          79265726
         ],
         "textposition": "auto",
         "type": "bar",
         "x": [
          79265726
         ],
         "xaxis": "x",
         "y": [
          "United States"
         ],
         "yaxis": "y"
        },
        {
         "alignmentgroup": "True",
         "hovertemplate": "Continent=Asia<br>TotalCases=%{text}<br>Location=%{y}<extra></extra>",
         "legendgroup": "Asia",
         "marker": {
          "color": "rgb(217,95,2)",
          "pattern": {
           "shape": ""
          }
         },
         "name": "Asia",
         "offsetgroup": "Asia",
         "orientation": "h",
         "showlegend": true,
         "text": [
          42962953,
          14326217
         ],
         "textposition": "auto",
         "type": "bar",
         "x": [
          42962953,
          14326217
         ],
         "xaxis": "x",
         "y": [
          "India",
          "Turkey"
         ],
         "yaxis": "y"
        },
        {
         "alignmentgroup": "True",
         "hovertemplate": "Continent=South America<br>TotalCases=%{text}<br>Location=%{y}<extra></extra>",
         "legendgroup": "South America",
         "marker": {
          "color": "rgb(117,112,179)",
          "pattern": {
           "shape": ""
          }
         },
         "name": "South America",
         "offsetgroup": "South America",
         "orientation": "h",
         "showlegend": true,
         "text": [
          29040800
         ],
         "textposition": "auto",
         "type": "bar",
         "x": [
          29040800
         ],
         "xaxis": "x",
         "y": [
          "Brazil"
         ],
         "yaxis": "y"
        },
        {
         "alignmentgroup": "True",
         "hovertemplate": "Continent=Europe<br>TotalCases=%{text}<br>Location=%{y}<extra></extra>",
         "legendgroup": "Europe",
         "marker": {
          "color": "rgb(231,41,138)",
          "pattern": {
           "shape": ""
          }
         },
         "name": "Europe",
         "offsetgroup": "Europe",
         "orientation": "h",
         "showlegend": true,
         "text": [
          23064766,
          19172095,
          16619507,
          15830112,
          12990223,
          11100428
         ],
         "textposition": "auto",
         "type": "bar",
         "x": [
          23064766,
          19172095,
          16619507,
          15830112,
          12990223,
          11100428
         ],
         "xaxis": "x",
         "y": [
          "France",
          "United Kingdom",
          "Russia",
          "Germany",
          "Italy",
          "Spain"
         ],
         "yaxis": "y"
        }
       ],
       "layout": {
        "barmode": "relative",
        "height": 500,
        "legend": {
         "title": {
          "text": "Continent"
         },
         "tracegroupgap": 0
        },
        "margin": {
         "t": 60
        },
        "template": {
         "data": {
          "bar": [
           {
            "error_x": {
             "color": "#f2f5fa"
            },
            "error_y": {
             "color": "#f2f5fa"
            },
            "marker": {
             "line": {
              "color": "rgb(17,17,17)",
              "width": 0.5
             },
             "pattern": {
              "fillmode": "overlay",
              "size": 10,
              "solidity": 0.2
             }
            },
            "type": "bar"
           }
          ],
          "barpolar": [
           {
            "marker": {
             "line": {
              "color": "rgb(17,17,17)",
              "width": 0.5
             },
             "pattern": {
              "fillmode": "overlay",
              "size": 10,
              "solidity": 0.2
             }
            },
            "type": "barpolar"
           }
          ],
          "carpet": [
           {
            "aaxis": {
             "endlinecolor": "#A2B1C6",
             "gridcolor": "#506784",
             "linecolor": "#506784",
             "minorgridcolor": "#506784",
             "startlinecolor": "#A2B1C6"
            },
            "baxis": {
             "endlinecolor": "#A2B1C6",
             "gridcolor": "#506784",
             "linecolor": "#506784",
             "minorgridcolor": "#506784",
             "startlinecolor": "#A2B1C6"
            },
            "type": "carpet"
           }
          ],
          "choropleth": [
           {
            "colorbar": {
             "outlinewidth": 0,
             "ticks": ""
            },
            "type": "choropleth"
           }
          ],
          "contour": [
           {
            "colorbar": {
             "outlinewidth": 0,
             "ticks": ""
            },
            "colorscale": [
             [
              0,
              "#0d0887"
             ],
             [
              0.1111111111111111,
              "#46039f"
             ],
             [
              0.2222222222222222,
              "#7201a8"
             ],
             [
              0.3333333333333333,
              "#9c179e"
             ],
             [
              0.4444444444444444,
              "#bd3786"
             ],
             [
              0.5555555555555556,
              "#d8576b"
             ],
             [
              0.6666666666666666,
              "#ed7953"
             ],
             [
              0.7777777777777778,
              "#fb9f3a"
             ],
             [
              0.8888888888888888,
              "#fdca26"
             ],
             [
              1,
              "#f0f921"
             ]
            ],
            "type": "contour"
           }
          ],
          "contourcarpet": [
           {
            "colorbar": {
             "outlinewidth": 0,
             "ticks": ""
            },
            "type": "contourcarpet"
           }
          ],
          "heatmap": [
           {
            "colorbar": {
             "outlinewidth": 0,
             "ticks": ""
            },
            "colorscale": [
             [
              0,
              "#0d0887"
             ],
             [
              0.1111111111111111,
              "#46039f"
             ],
             [
              0.2222222222222222,
              "#7201a8"
             ],
             [
              0.3333333333333333,
              "#9c179e"
             ],
             [
              0.4444444444444444,
              "#bd3786"
             ],
             [
              0.5555555555555556,
              "#d8576b"
             ],
             [
              0.6666666666666666,
              "#ed7953"
             ],
             [
              0.7777777777777778,
              "#fb9f3a"
             ],
             [
              0.8888888888888888,
              "#fdca26"
             ],
             [
              1,
              "#f0f921"
             ]
            ],
            "type": "heatmap"
           }
          ],
          "heatmapgl": [
           {
            "colorbar": {
             "outlinewidth": 0,
             "ticks": ""
            },
            "colorscale": [
             [
              0,
              "#0d0887"
             ],
             [
              0.1111111111111111,
              "#46039f"
             ],
             [
              0.2222222222222222,
              "#7201a8"
             ],
             [
              0.3333333333333333,
              "#9c179e"
             ],
             [
              0.4444444444444444,
              "#bd3786"
             ],
             [
              0.5555555555555556,
              "#d8576b"
             ],
             [
              0.6666666666666666,
              "#ed7953"
             ],
             [
              0.7777777777777778,
              "#fb9f3a"
             ],
             [
              0.8888888888888888,
              "#fdca26"
             ],
             [
              1,
              "#f0f921"
             ]
            ],
            "type": "heatmapgl"
           }
          ],
          "histogram": [
           {
            "marker": {
             "pattern": {
              "fillmode": "overlay",
              "size": 10,
              "solidity": 0.2
             }
            },
            "type": "histogram"
           }
          ],
          "histogram2d": [
           {
            "colorbar": {
             "outlinewidth": 0,
             "ticks": ""
            },
            "colorscale": [
             [
              0,
              "#0d0887"
             ],
             [
              0.1111111111111111,
              "#46039f"
             ],
             [
              0.2222222222222222,
              "#7201a8"
             ],
             [
              0.3333333333333333,
              "#9c179e"
             ],
             [
              0.4444444444444444,
              "#bd3786"
             ],
             [
              0.5555555555555556,
              "#d8576b"
             ],
             [
              0.6666666666666666,
              "#ed7953"
             ],
             [
              0.7777777777777778,
              "#fb9f3a"
             ],
             [
              0.8888888888888888,
              "#fdca26"
             ],
             [
              1,
              "#f0f921"
             ]
            ],
            "type": "histogram2d"
           }
          ],
          "histogram2dcontour": [
           {
            "colorbar": {
             "outlinewidth": 0,
             "ticks": ""
            },
            "colorscale": [
             [
              0,
              "#0d0887"
             ],
             [
              0.1111111111111111,
              "#46039f"
             ],
             [
              0.2222222222222222,
              "#7201a8"
             ],
             [
              0.3333333333333333,
              "#9c179e"
             ],
             [
              0.4444444444444444,
              "#bd3786"
             ],
             [
              0.5555555555555556,
              "#d8576b"
             ],
             [
              0.6666666666666666,
              "#ed7953"
             ],
             [
              0.7777777777777778,
              "#fb9f3a"
             ],
             [
              0.8888888888888888,
              "#fdca26"
             ],
             [
              1,
              "#f0f921"
             ]
            ],
            "type": "histogram2dcontour"
           }
          ],
          "mesh3d": [
           {
            "colorbar": {
             "outlinewidth": 0,
             "ticks": ""
            },
            "type": "mesh3d"
           }
          ],
          "parcoords": [
           {
            "line": {
             "colorbar": {
              "outlinewidth": 0,
              "ticks": ""
             }
            },
            "type": "parcoords"
           }
          ],
          "pie": [
           {
            "automargin": true,
            "type": "pie"
           }
          ],
          "scatter": [
           {
            "marker": {
             "line": {
              "color": "#283442"
             }
            },
            "type": "scatter"
           }
          ],
          "scatter3d": [
           {
            "line": {
             "colorbar": {
              "outlinewidth": 0,
              "ticks": ""
             }
            },
            "marker": {
             "colorbar": {
              "outlinewidth": 0,
              "ticks": ""
             }
            },
            "type": "scatter3d"
           }
          ],
          "scattercarpet": [
           {
            "marker": {
             "colorbar": {
              "outlinewidth": 0,
              "ticks": ""
             }
            },
            "type": "scattercarpet"
           }
          ],
          "scattergeo": [
           {
            "marker": {
             "colorbar": {
              "outlinewidth": 0,
              "ticks": ""
             }
            },
            "type": "scattergeo"
           }
          ],
          "scattergl": [
           {
            "marker": {
             "line": {
              "color": "#283442"
             }
            },
            "type": "scattergl"
           }
          ],
          "scattermapbox": [
           {
            "marker": {
             "colorbar": {
              "outlinewidth": 0,
              "ticks": ""
             }
            },
            "type": "scattermapbox"
           }
          ],
          "scatterpolar": [
           {
            "marker": {
             "colorbar": {
              "outlinewidth": 0,
              "ticks": ""
             }
            },
            "type": "scatterpolar"
           }
          ],
          "scatterpolargl": [
           {
            "marker": {
             "colorbar": {
              "outlinewidth": 0,
              "ticks": ""
             }
            },
            "type": "scatterpolargl"
           }
          ],
          "scatterternary": [
           {
            "marker": {
             "colorbar": {
              "outlinewidth": 0,
              "ticks": ""
             }
            },
            "type": "scatterternary"
           }
          ],
          "surface": [
           {
            "colorbar": {
             "outlinewidth": 0,
             "ticks": ""
            },
            "colorscale": [
             [
              0,
              "#0d0887"
             ],
             [
              0.1111111111111111,
              "#46039f"
             ],
             [
              0.2222222222222222,
              "#7201a8"
             ],
             [
              0.3333333333333333,
              "#9c179e"
             ],
             [
              0.4444444444444444,
              "#bd3786"
             ],
             [
              0.5555555555555556,
              "#d8576b"
             ],
             [
              0.6666666666666666,
              "#ed7953"
             ],
             [
              0.7777777777777778,
              "#fb9f3a"
             ],
             [
              0.8888888888888888,
              "#fdca26"
             ],
             [
              1,
              "#f0f921"
             ]
            ],
            "type": "surface"
           }
          ],
          "table": [
           {
            "cells": {
             "fill": {
              "color": "#506784"
             },
             "line": {
              "color": "rgb(17,17,17)"
             }
            },
            "header": {
             "fill": {
              "color": "#2a3f5f"
             },
             "line": {
              "color": "rgb(17,17,17)"
             }
            },
            "type": "table"
           }
          ]
         },
         "layout": {
          "annotationdefaults": {
           "arrowcolor": "#f2f5fa",
           "arrowhead": 0,
           "arrowwidth": 1
          },
          "autotypenumbers": "strict",
          "coloraxis": {
           "colorbar": {
            "outlinewidth": 0,
            "ticks": ""
           }
          },
          "colorscale": {
           "diverging": [
            [
             0,
             "#8e0152"
            ],
            [
             0.1,
             "#c51b7d"
            ],
            [
             0.2,
             "#de77ae"
            ],
            [
             0.3,
             "#f1b6da"
            ],
            [
             0.4,
             "#fde0ef"
            ],
            [
             0.5,
             "#f7f7f7"
            ],
            [
             0.6,
             "#e6f5d0"
            ],
            [
             0.7,
             "#b8e186"
            ],
            [
             0.8,
             "#7fbc41"
            ],
            [
             0.9,
             "#4d9221"
            ],
            [
             1,
             "#276419"
            ]
           ],
           "sequential": [
            [
             0,
             "#0d0887"
            ],
            [
             0.1111111111111111,
             "#46039f"
            ],
            [
             0.2222222222222222,
             "#7201a8"
            ],
            [
             0.3333333333333333,
             "#9c179e"
            ],
            [
             0.4444444444444444,
             "#bd3786"
            ],
            [
             0.5555555555555556,
             "#d8576b"
            ],
            [
             0.6666666666666666,
             "#ed7953"
            ],
            [
             0.7777777777777778,
             "#fb9f3a"
            ],
            [
             0.8888888888888888,
             "#fdca26"
            ],
            [
             1,
             "#f0f921"
            ]
           ],
           "sequentialminus": [
            [
             0,
             "#0d0887"
            ],
            [
             0.1111111111111111,
             "#46039f"
            ],
            [
             0.2222222222222222,
             "#7201a8"
            ],
            [
             0.3333333333333333,
             "#9c179e"
            ],
            [
             0.4444444444444444,
             "#bd3786"
            ],
            [
             0.5555555555555556,
             "#d8576b"
            ],
            [
             0.6666666666666666,
             "#ed7953"
            ],
            [
             0.7777777777777778,
             "#fb9f3a"
            ],
            [
             0.8888888888888888,
             "#fdca26"
            ],
            [
             1,
             "#f0f921"
            ]
           ]
          },
          "colorway": [
           "#636efa",
           "#EF553B",
           "#00cc96",
           "#ab63fa",
           "#FFA15A",
           "#19d3f3",
           "#FF6692",
           "#B6E880",
           "#FF97FF",
           "#FECB52"
          ],
          "font": {
           "color": "#f2f5fa"
          },
          "geo": {
           "bgcolor": "rgb(17,17,17)",
           "lakecolor": "rgb(17,17,17)",
           "landcolor": "rgb(17,17,17)",
           "showlakes": true,
           "showland": true,
           "subunitcolor": "#506784"
          },
          "hoverlabel": {
           "align": "left"
          },
          "hovermode": "closest",
          "mapbox": {
           "style": "dark"
          },
          "paper_bgcolor": "rgb(17,17,17)",
          "plot_bgcolor": "rgb(17,17,17)",
          "polar": {
           "angularaxis": {
            "gridcolor": "#506784",
            "linecolor": "#506784",
            "ticks": ""
           },
           "bgcolor": "rgb(17,17,17)",
           "radialaxis": {
            "gridcolor": "#506784",
            "linecolor": "#506784",
            "ticks": ""
           }
          },
          "scene": {
           "xaxis": {
            "backgroundcolor": "rgb(17,17,17)",
            "gridcolor": "#506784",
            "gridwidth": 2,
            "linecolor": "#506784",
            "showbackground": true,
            "ticks": "",
            "zerolinecolor": "#C8D4E3"
           },
           "yaxis": {
            "backgroundcolor": "rgb(17,17,17)",
            "gridcolor": "#506784",
            "gridwidth": 2,
            "linecolor": "#506784",
            "showbackground": true,
            "ticks": "",
            "zerolinecolor": "#C8D4E3"
           },
           "zaxis": {
            "backgroundcolor": "rgb(17,17,17)",
            "gridcolor": "#506784",
            "gridwidth": 2,
            "linecolor": "#506784",
            "showbackground": true,
            "ticks": "",
            "zerolinecolor": "#C8D4E3"
           }
          },
          "shapedefaults": {
           "line": {
            "color": "#f2f5fa"
           }
          },
          "sliderdefaults": {
           "bgcolor": "#C8D4E3",
           "bordercolor": "rgb(17,17,17)",
           "borderwidth": 1,
           "tickwidth": 0
          },
          "ternary": {
           "aaxis": {
            "gridcolor": "#506784",
            "linecolor": "#506784",
            "ticks": ""
           },
           "baxis": {
            "gridcolor": "#506784",
            "linecolor": "#506784",
            "ticks": ""
           },
           "bgcolor": "rgb(17,17,17)",
           "caxis": {
            "gridcolor": "#506784",
            "linecolor": "#506784",
            "ticks": ""
           }
          },
          "title": {
           "x": 0.05
          },
          "updatemenudefaults": {
           "bgcolor": "#506784",
           "borderwidth": 0
          },
          "xaxis": {
           "automargin": true,
           "gridcolor": "#283442",
           "linecolor": "#506784",
           "ticks": "",
           "title": {
            "standoff": 15
           },
           "zerolinecolor": "#283442",
           "zerolinewidth": 2
          },
          "yaxis": {
           "automargin": true,
           "gridcolor": "#283442",
           "linecolor": "#506784",
           "ticks": "",
           "title": {
            "standoff": 15
           },
           "zerolinecolor": "#283442",
           "zerolinewidth": 2
          }
         }
        },
        "title": {
         "text": "Top 10 quốc gia có số ca mắc nhiều nhất trên thế giới"
        },
        "uniformtext": {
         "minsize": 8,
         "mode": "hide"
        },
        "xaxis": {
         "anchor": "y",
         "domain": [
          0,
          1
         ],
         "title": {
          "text": "TotalCases"
         }
        },
        "yaxis": {
         "anchor": "x",
         "categoryorder": "total ascending",
         "domain": [
          0,
          1
         ],
         "title": {
          "text": "Location"
         }
        }
       }
      }
     },
     "metadata": {},
     "output_type": "display_data"
    }
   ],
   "source": [
    "plot_bar(covid_country.head(10), 'TotalCases', 'Location', 'Top 10 quốc gia có số ca mắc nhiều nhất trên thế giới')"
   ]
  },
  {
   "cell_type": "markdown",
   "metadata": {},
   "source": [
    "Sắp xếp số ca tử vong vì covid-19 từ cao xuống thấp theo các quốc gia"
   ]
  },
  {
   "cell_type": "code",
   "execution_count": 205,
   "metadata": {},
   "outputs": [
    {
     "data": {
      "text/html": [
       "<div>\n",
       "<style scoped>\n",
       "    .dataframe tbody tr th:only-of-type {\n",
       "        vertical-align: middle;\n",
       "    }\n",
       "\n",
       "    .dataframe tbody tr th {\n",
       "        vertical-align: top;\n",
       "    }\n",
       "\n",
       "    .dataframe thead th {\n",
       "        text-align: right;\n",
       "    }\n",
       "</style>\n",
       "<table border=\"1\" class=\"dataframe\">\n",
       "  <thead>\n",
       "    <tr style=\"text-align: right;\">\n",
       "      <th></th>\n",
       "      <th>Continent</th>\n",
       "      <th>Location</th>\n",
       "      <th>TotalCases</th>\n",
       "      <th>TotalDeaths</th>\n",
       "    </tr>\n",
       "    <tr>\n",
       "      <th>Location</th>\n",
       "      <th></th>\n",
       "      <th></th>\n",
       "      <th></th>\n",
       "      <th></th>\n",
       "    </tr>\n",
       "  </thead>\n",
       "  <tbody>\n",
       "    <tr>\n",
       "      <th>United States</th>\n",
       "      <td>North America</td>\n",
       "      <td>United States</td>\n",
       "      <td>79265726.0</td>\n",
       "      <td>958437.0</td>\n",
       "    </tr>\n",
       "    <tr>\n",
       "      <th>Brazil</th>\n",
       "      <td>South America</td>\n",
       "      <td>Brazil</td>\n",
       "      <td>29040800.0</td>\n",
       "      <td>652216.0</td>\n",
       "    </tr>\n",
       "    <tr>\n",
       "      <th>India</th>\n",
       "      <td>Asia</td>\n",
       "      <td>India</td>\n",
       "      <td>42962953.0</td>\n",
       "      <td>515036.0</td>\n",
       "    </tr>\n",
       "    <tr>\n",
       "      <th>Russia</th>\n",
       "      <td>Europe</td>\n",
       "      <td>Russia</td>\n",
       "      <td>16619507.0</td>\n",
       "      <td>348467.0</td>\n",
       "    </tr>\n",
       "    <tr>\n",
       "      <th>Mexico</th>\n",
       "      <td>North America</td>\n",
       "      <td>Mexico</td>\n",
       "      <td>5554392.0</td>\n",
       "      <td>319604.0</td>\n",
       "    </tr>\n",
       "    <tr>\n",
       "      <th>...</th>\n",
       "      <td>...</td>\n",
       "      <td>...</td>\n",
       "      <td>...</td>\n",
       "      <td>...</td>\n",
       "    </tr>\n",
       "    <tr>\n",
       "      <th>Samoa</th>\n",
       "      <td>Oceania</td>\n",
       "      <td>Samoa</td>\n",
       "      <td>33.0</td>\n",
       "      <td>0.0</td>\n",
       "    </tr>\n",
       "    <tr>\n",
       "      <th>Macao</th>\n",
       "      <td>Asia</td>\n",
       "      <td>Macao</td>\n",
       "      <td>82.0</td>\n",
       "      <td>0.0</td>\n",
       "    </tr>\n",
       "    <tr>\n",
       "      <th>Falkland Islands</th>\n",
       "      <td>South America</td>\n",
       "      <td>Falkland Islands</td>\n",
       "      <td>115.0</td>\n",
       "      <td>0.0</td>\n",
       "    </tr>\n",
       "    <tr>\n",
       "      <th>Tonga</th>\n",
       "      <td>Oceania</td>\n",
       "      <td>Tonga</td>\n",
       "      <td>898.0</td>\n",
       "      <td>0.0</td>\n",
       "    </tr>\n",
       "    <tr>\n",
       "      <th>Niue</th>\n",
       "      <td>Oceania</td>\n",
       "      <td>Niue</td>\n",
       "      <td>0.0</td>\n",
       "      <td>0.0</td>\n",
       "    </tr>\n",
       "  </tbody>\n",
       "</table>\n",
       "<p>224 rows × 4 columns</p>\n",
       "</div>"
      ],
      "text/plain": [
       "                      Continent          Location  TotalCases  TotalDeaths\n",
       "Location                                                                  \n",
       "United States     North America     United States  79265726.0     958437.0\n",
       "Brazil            South America            Brazil  29040800.0     652216.0\n",
       "India                      Asia             India  42962953.0     515036.0\n",
       "Russia                   Europe            Russia  16619507.0     348467.0\n",
       "Mexico            North America            Mexico   5554392.0     319604.0\n",
       "...                         ...               ...         ...          ...\n",
       "Samoa                   Oceania             Samoa        33.0          0.0\n",
       "Macao                      Asia             Macao        82.0          0.0\n",
       "Falkland Islands  South America  Falkland Islands       115.0          0.0\n",
       "Tonga                   Oceania             Tonga       898.0          0.0\n",
       "Niue                    Oceania              Niue         0.0          0.0\n",
       "\n",
       "[224 rows x 4 columns]"
      ]
     },
     "execution_count": 205,
     "metadata": {},
     "output_type": "execute_result"
    }
   ],
   "source": [
    "covid_country.sort_values('TotalDeaths', inplace= True, ascending= False)\n",
    "covid_country"
   ]
  },
  {
   "cell_type": "code",
   "execution_count": 206,
   "metadata": {},
   "outputs": [
    {
     "data": {
      "application/vnd.plotly.v1+json": {
       "config": {
        "plotlyServerURL": "https://plot.ly"
       },
       "data": [
        {
         "alignmentgroup": "True",
         "hovertemplate": "Continent=North America<br>TotalDeaths=%{text}<br>Location=%{y}<extra></extra>",
         "legendgroup": "North America",
         "marker": {
          "color": "rgb(27,158,119)",
          "pattern": {
           "shape": ""
          }
         },
         "name": "North America",
         "offsetgroup": "North America",
         "orientation": "h",
         "showlegend": true,
         "text": [
          958437,
          319604
         ],
         "textposition": "auto",
         "type": "bar",
         "x": [
          958437,
          319604
         ],
         "xaxis": "x",
         "y": [
          "United States",
          "Mexico"
         ],
         "yaxis": "y"
        },
        {
         "alignmentgroup": "True",
         "hovertemplate": "Continent=South America<br>TotalDeaths=%{text}<br>Location=%{y}<extra></extra>",
         "legendgroup": "South America",
         "marker": {
          "color": "rgb(217,95,2)",
          "pattern": {
           "shape": ""
          }
         },
         "name": "South America",
         "offsetgroup": "South America",
         "orientation": "h",
         "showlegend": true,
         "text": [
          652216,
          210907
         ],
         "textposition": "auto",
         "type": "bar",
         "x": [
          652216,
          210907
         ],
         "xaxis": "x",
         "y": [
          "Brazil",
          "Peru"
         ],
         "yaxis": "y"
        },
        {
         "alignmentgroup": "True",
         "hovertemplate": "Continent=Asia<br>TotalDeaths=%{text}<br>Location=%{y}<extra></extra>",
         "legendgroup": "Asia",
         "marker": {
          "color": "rgb(117,112,179)",
          "pattern": {
           "shape": ""
          }
         },
         "name": "Asia",
         "offsetgroup": "Asia",
         "orientation": "h",
         "showlegend": true,
         "text": [
          515036,
          149918
         ],
         "textposition": "auto",
         "type": "bar",
         "x": [
          515036,
          149918
         ],
         "xaxis": "x",
         "y": [
          "India",
          "Indonesia"
         ],
         "yaxis": "y"
        },
        {
         "alignmentgroup": "True",
         "hovertemplate": "Continent=Europe<br>TotalDeaths=%{text}<br>Location=%{y}<extra></extra>",
         "legendgroup": "Europe",
         "marker": {
          "color": "rgb(231,41,138)",
          "pattern": {
           "shape": ""
          }
         },
         "name": "Europe",
         "offsetgroup": "Europe",
         "orientation": "h",
         "showlegend": true,
         "text": [
          348467,
          162152,
          155782,
          139312
         ],
         "textposition": "auto",
         "type": "bar",
         "x": [
          348467,
          162152,
          155782,
          139312
         ],
         "xaxis": "x",
         "y": [
          "Russia",
          "United Kingdom",
          "Italy",
          "France"
         ],
         "yaxis": "y"
        }
       ],
       "layout": {
        "barmode": "relative",
        "height": 500,
        "legend": {
         "title": {
          "text": "Continent"
         },
         "tracegroupgap": 0
        },
        "margin": {
         "t": 60
        },
        "template": {
         "data": {
          "bar": [
           {
            "error_x": {
             "color": "#f2f5fa"
            },
            "error_y": {
             "color": "#f2f5fa"
            },
            "marker": {
             "line": {
              "color": "rgb(17,17,17)",
              "width": 0.5
             },
             "pattern": {
              "fillmode": "overlay",
              "size": 10,
              "solidity": 0.2
             }
            },
            "type": "bar"
           }
          ],
          "barpolar": [
           {
            "marker": {
             "line": {
              "color": "rgb(17,17,17)",
              "width": 0.5
             },
             "pattern": {
              "fillmode": "overlay",
              "size": 10,
              "solidity": 0.2
             }
            },
            "type": "barpolar"
           }
          ],
          "carpet": [
           {
            "aaxis": {
             "endlinecolor": "#A2B1C6",
             "gridcolor": "#506784",
             "linecolor": "#506784",
             "minorgridcolor": "#506784",
             "startlinecolor": "#A2B1C6"
            },
            "baxis": {
             "endlinecolor": "#A2B1C6",
             "gridcolor": "#506784",
             "linecolor": "#506784",
             "minorgridcolor": "#506784",
             "startlinecolor": "#A2B1C6"
            },
            "type": "carpet"
           }
          ],
          "choropleth": [
           {
            "colorbar": {
             "outlinewidth": 0,
             "ticks": ""
            },
            "type": "choropleth"
           }
          ],
          "contour": [
           {
            "colorbar": {
             "outlinewidth": 0,
             "ticks": ""
            },
            "colorscale": [
             [
              0,
              "#0d0887"
             ],
             [
              0.1111111111111111,
              "#46039f"
             ],
             [
              0.2222222222222222,
              "#7201a8"
             ],
             [
              0.3333333333333333,
              "#9c179e"
             ],
             [
              0.4444444444444444,
              "#bd3786"
             ],
             [
              0.5555555555555556,
              "#d8576b"
             ],
             [
              0.6666666666666666,
              "#ed7953"
             ],
             [
              0.7777777777777778,
              "#fb9f3a"
             ],
             [
              0.8888888888888888,
              "#fdca26"
             ],
             [
              1,
              "#f0f921"
             ]
            ],
            "type": "contour"
           }
          ],
          "contourcarpet": [
           {
            "colorbar": {
             "outlinewidth": 0,
             "ticks": ""
            },
            "type": "contourcarpet"
           }
          ],
          "heatmap": [
           {
            "colorbar": {
             "outlinewidth": 0,
             "ticks": ""
            },
            "colorscale": [
             [
              0,
              "#0d0887"
             ],
             [
              0.1111111111111111,
              "#46039f"
             ],
             [
              0.2222222222222222,
              "#7201a8"
             ],
             [
              0.3333333333333333,
              "#9c179e"
             ],
             [
              0.4444444444444444,
              "#bd3786"
             ],
             [
              0.5555555555555556,
              "#d8576b"
             ],
             [
              0.6666666666666666,
              "#ed7953"
             ],
             [
              0.7777777777777778,
              "#fb9f3a"
             ],
             [
              0.8888888888888888,
              "#fdca26"
             ],
             [
              1,
              "#f0f921"
             ]
            ],
            "type": "heatmap"
           }
          ],
          "heatmapgl": [
           {
            "colorbar": {
             "outlinewidth": 0,
             "ticks": ""
            },
            "colorscale": [
             [
              0,
              "#0d0887"
             ],
             [
              0.1111111111111111,
              "#46039f"
             ],
             [
              0.2222222222222222,
              "#7201a8"
             ],
             [
              0.3333333333333333,
              "#9c179e"
             ],
             [
              0.4444444444444444,
              "#bd3786"
             ],
             [
              0.5555555555555556,
              "#d8576b"
             ],
             [
              0.6666666666666666,
              "#ed7953"
             ],
             [
              0.7777777777777778,
              "#fb9f3a"
             ],
             [
              0.8888888888888888,
              "#fdca26"
             ],
             [
              1,
              "#f0f921"
             ]
            ],
            "type": "heatmapgl"
           }
          ],
          "histogram": [
           {
            "marker": {
             "pattern": {
              "fillmode": "overlay",
              "size": 10,
              "solidity": 0.2
             }
            },
            "type": "histogram"
           }
          ],
          "histogram2d": [
           {
            "colorbar": {
             "outlinewidth": 0,
             "ticks": ""
            },
            "colorscale": [
             [
              0,
              "#0d0887"
             ],
             [
              0.1111111111111111,
              "#46039f"
             ],
             [
              0.2222222222222222,
              "#7201a8"
             ],
             [
              0.3333333333333333,
              "#9c179e"
             ],
             [
              0.4444444444444444,
              "#bd3786"
             ],
             [
              0.5555555555555556,
              "#d8576b"
             ],
             [
              0.6666666666666666,
              "#ed7953"
             ],
             [
              0.7777777777777778,
              "#fb9f3a"
             ],
             [
              0.8888888888888888,
              "#fdca26"
             ],
             [
              1,
              "#f0f921"
             ]
            ],
            "type": "histogram2d"
           }
          ],
          "histogram2dcontour": [
           {
            "colorbar": {
             "outlinewidth": 0,
             "ticks": ""
            },
            "colorscale": [
             [
              0,
              "#0d0887"
             ],
             [
              0.1111111111111111,
              "#46039f"
             ],
             [
              0.2222222222222222,
              "#7201a8"
             ],
             [
              0.3333333333333333,
              "#9c179e"
             ],
             [
              0.4444444444444444,
              "#bd3786"
             ],
             [
              0.5555555555555556,
              "#d8576b"
             ],
             [
              0.6666666666666666,
              "#ed7953"
             ],
             [
              0.7777777777777778,
              "#fb9f3a"
             ],
             [
              0.8888888888888888,
              "#fdca26"
             ],
             [
              1,
              "#f0f921"
             ]
            ],
            "type": "histogram2dcontour"
           }
          ],
          "mesh3d": [
           {
            "colorbar": {
             "outlinewidth": 0,
             "ticks": ""
            },
            "type": "mesh3d"
           }
          ],
          "parcoords": [
           {
            "line": {
             "colorbar": {
              "outlinewidth": 0,
              "ticks": ""
             }
            },
            "type": "parcoords"
           }
          ],
          "pie": [
           {
            "automargin": true,
            "type": "pie"
           }
          ],
          "scatter": [
           {
            "marker": {
             "line": {
              "color": "#283442"
             }
            },
            "type": "scatter"
           }
          ],
          "scatter3d": [
           {
            "line": {
             "colorbar": {
              "outlinewidth": 0,
              "ticks": ""
             }
            },
            "marker": {
             "colorbar": {
              "outlinewidth": 0,
              "ticks": ""
             }
            },
            "type": "scatter3d"
           }
          ],
          "scattercarpet": [
           {
            "marker": {
             "colorbar": {
              "outlinewidth": 0,
              "ticks": ""
             }
            },
            "type": "scattercarpet"
           }
          ],
          "scattergeo": [
           {
            "marker": {
             "colorbar": {
              "outlinewidth": 0,
              "ticks": ""
             }
            },
            "type": "scattergeo"
           }
          ],
          "scattergl": [
           {
            "marker": {
             "line": {
              "color": "#283442"
             }
            },
            "type": "scattergl"
           }
          ],
          "scattermapbox": [
           {
            "marker": {
             "colorbar": {
              "outlinewidth": 0,
              "ticks": ""
             }
            },
            "type": "scattermapbox"
           }
          ],
          "scatterpolar": [
           {
            "marker": {
             "colorbar": {
              "outlinewidth": 0,
              "ticks": ""
             }
            },
            "type": "scatterpolar"
           }
          ],
          "scatterpolargl": [
           {
            "marker": {
             "colorbar": {
              "outlinewidth": 0,
              "ticks": ""
             }
            },
            "type": "scatterpolargl"
           }
          ],
          "scatterternary": [
           {
            "marker": {
             "colorbar": {
              "outlinewidth": 0,
              "ticks": ""
             }
            },
            "type": "scatterternary"
           }
          ],
          "surface": [
           {
            "colorbar": {
             "outlinewidth": 0,
             "ticks": ""
            },
            "colorscale": [
             [
              0,
              "#0d0887"
             ],
             [
              0.1111111111111111,
              "#46039f"
             ],
             [
              0.2222222222222222,
              "#7201a8"
             ],
             [
              0.3333333333333333,
              "#9c179e"
             ],
             [
              0.4444444444444444,
              "#bd3786"
             ],
             [
              0.5555555555555556,
              "#d8576b"
             ],
             [
              0.6666666666666666,
              "#ed7953"
             ],
             [
              0.7777777777777778,
              "#fb9f3a"
             ],
             [
              0.8888888888888888,
              "#fdca26"
             ],
             [
              1,
              "#f0f921"
             ]
            ],
            "type": "surface"
           }
          ],
          "table": [
           {
            "cells": {
             "fill": {
              "color": "#506784"
             },
             "line": {
              "color": "rgb(17,17,17)"
             }
            },
            "header": {
             "fill": {
              "color": "#2a3f5f"
             },
             "line": {
              "color": "rgb(17,17,17)"
             }
            },
            "type": "table"
           }
          ]
         },
         "layout": {
          "annotationdefaults": {
           "arrowcolor": "#f2f5fa",
           "arrowhead": 0,
           "arrowwidth": 1
          },
          "autotypenumbers": "strict",
          "coloraxis": {
           "colorbar": {
            "outlinewidth": 0,
            "ticks": ""
           }
          },
          "colorscale": {
           "diverging": [
            [
             0,
             "#8e0152"
            ],
            [
             0.1,
             "#c51b7d"
            ],
            [
             0.2,
             "#de77ae"
            ],
            [
             0.3,
             "#f1b6da"
            ],
            [
             0.4,
             "#fde0ef"
            ],
            [
             0.5,
             "#f7f7f7"
            ],
            [
             0.6,
             "#e6f5d0"
            ],
            [
             0.7,
             "#b8e186"
            ],
            [
             0.8,
             "#7fbc41"
            ],
            [
             0.9,
             "#4d9221"
            ],
            [
             1,
             "#276419"
            ]
           ],
           "sequential": [
            [
             0,
             "#0d0887"
            ],
            [
             0.1111111111111111,
             "#46039f"
            ],
            [
             0.2222222222222222,
             "#7201a8"
            ],
            [
             0.3333333333333333,
             "#9c179e"
            ],
            [
             0.4444444444444444,
             "#bd3786"
            ],
            [
             0.5555555555555556,
             "#d8576b"
            ],
            [
             0.6666666666666666,
             "#ed7953"
            ],
            [
             0.7777777777777778,
             "#fb9f3a"
            ],
            [
             0.8888888888888888,
             "#fdca26"
            ],
            [
             1,
             "#f0f921"
            ]
           ],
           "sequentialminus": [
            [
             0,
             "#0d0887"
            ],
            [
             0.1111111111111111,
             "#46039f"
            ],
            [
             0.2222222222222222,
             "#7201a8"
            ],
            [
             0.3333333333333333,
             "#9c179e"
            ],
            [
             0.4444444444444444,
             "#bd3786"
            ],
            [
             0.5555555555555556,
             "#d8576b"
            ],
            [
             0.6666666666666666,
             "#ed7953"
            ],
            [
             0.7777777777777778,
             "#fb9f3a"
            ],
            [
             0.8888888888888888,
             "#fdca26"
            ],
            [
             1,
             "#f0f921"
            ]
           ]
          },
          "colorway": [
           "#636efa",
           "#EF553B",
           "#00cc96",
           "#ab63fa",
           "#FFA15A",
           "#19d3f3",
           "#FF6692",
           "#B6E880",
           "#FF97FF",
           "#FECB52"
          ],
          "font": {
           "color": "#f2f5fa"
          },
          "geo": {
           "bgcolor": "rgb(17,17,17)",
           "lakecolor": "rgb(17,17,17)",
           "landcolor": "rgb(17,17,17)",
           "showlakes": true,
           "showland": true,
           "subunitcolor": "#506784"
          },
          "hoverlabel": {
           "align": "left"
          },
          "hovermode": "closest",
          "mapbox": {
           "style": "dark"
          },
          "paper_bgcolor": "rgb(17,17,17)",
          "plot_bgcolor": "rgb(17,17,17)",
          "polar": {
           "angularaxis": {
            "gridcolor": "#506784",
            "linecolor": "#506784",
            "ticks": ""
           },
           "bgcolor": "rgb(17,17,17)",
           "radialaxis": {
            "gridcolor": "#506784",
            "linecolor": "#506784",
            "ticks": ""
           }
          },
          "scene": {
           "xaxis": {
            "backgroundcolor": "rgb(17,17,17)",
            "gridcolor": "#506784",
            "gridwidth": 2,
            "linecolor": "#506784",
            "showbackground": true,
            "ticks": "",
            "zerolinecolor": "#C8D4E3"
           },
           "yaxis": {
            "backgroundcolor": "rgb(17,17,17)",
            "gridcolor": "#506784",
            "gridwidth": 2,
            "linecolor": "#506784",
            "showbackground": true,
            "ticks": "",
            "zerolinecolor": "#C8D4E3"
           },
           "zaxis": {
            "backgroundcolor": "rgb(17,17,17)",
            "gridcolor": "#506784",
            "gridwidth": 2,
            "linecolor": "#506784",
            "showbackground": true,
            "ticks": "",
            "zerolinecolor": "#C8D4E3"
           }
          },
          "shapedefaults": {
           "line": {
            "color": "#f2f5fa"
           }
          },
          "sliderdefaults": {
           "bgcolor": "#C8D4E3",
           "bordercolor": "rgb(17,17,17)",
           "borderwidth": 1,
           "tickwidth": 0
          },
          "ternary": {
           "aaxis": {
            "gridcolor": "#506784",
            "linecolor": "#506784",
            "ticks": ""
           },
           "baxis": {
            "gridcolor": "#506784",
            "linecolor": "#506784",
            "ticks": ""
           },
           "bgcolor": "rgb(17,17,17)",
           "caxis": {
            "gridcolor": "#506784",
            "linecolor": "#506784",
            "ticks": ""
           }
          },
          "title": {
           "x": 0.05
          },
          "updatemenudefaults": {
           "bgcolor": "#506784",
           "borderwidth": 0
          },
          "xaxis": {
           "automargin": true,
           "gridcolor": "#283442",
           "linecolor": "#506784",
           "ticks": "",
           "title": {
            "standoff": 15
           },
           "zerolinecolor": "#283442",
           "zerolinewidth": 2
          },
          "yaxis": {
           "automargin": true,
           "gridcolor": "#283442",
           "linecolor": "#506784",
           "ticks": "",
           "title": {
            "standoff": 15
           },
           "zerolinecolor": "#283442",
           "zerolinewidth": 2
          }
         }
        },
        "title": {
         "text": "10 quốc gia có số ca tử vong nhiều nhất trên thế giới"
        },
        "uniformtext": {
         "minsize": 8,
         "mode": "hide"
        },
        "xaxis": {
         "anchor": "y",
         "domain": [
          0,
          1
         ],
         "title": {
          "text": "TotalDeaths"
         }
        },
        "yaxis": {
         "anchor": "x",
         "categoryorder": "total ascending",
         "domain": [
          0,
          1
         ],
         "title": {
          "text": "Location"
         }
        }
       }
      }
     },
     "metadata": {},
     "output_type": "display_data"
    }
   ],
   "source": [
    "plot_bar(covid_country.head(10), 'TotalDeaths', 'Location', '10 quốc gia có số ca tử vong nhiều nhất trên thế giới')"
   ]
  },
  {
   "cell_type": "markdown",
   "metadata": {},
   "source": [
    "Từ biểu đồ trên, ta có thể thấy được các nước có nền kinh tế phát triển như Mỹ, Anh, Nga, Ấn Độ, Canada... đều có tổng số ca mắc và tử vong cao"
   ]
  },
  {
   "cell_type": "markdown",
   "metadata": {},
   "source": [
    "Tính tỷ lệ tử vong vì dịch bệnh của các quốc gia trên thế giới"
   ]
  },
  {
   "cell_type": "code",
   "execution_count": 207,
   "metadata": {},
   "outputs": [],
   "source": [
    "covid_country['Mortality'] = round((covid_country['TotalDeaths']/covid_country['TotalCases']), 4)"
   ]
  },
  {
   "cell_type": "markdown",
   "metadata": {},
   "source": [
    "Clean data"
   ]
  },
  {
   "cell_type": "code",
   "execution_count": 208,
   "metadata": {},
   "outputs": [],
   "source": [
    "covid_country = covid_country.replace('', np.nan).fillna(0)"
   ]
  },
  {
   "cell_type": "code",
   "execution_count": 209,
   "metadata": {},
   "outputs": [
    {
     "name": "stdout",
     "output_type": "stream",
     "text": [
      "Tỷ lệ tử vong vì dịch bệnh ở các quốc gia trên thế giới\n"
     ]
    },
    {
     "data": {
      "text/html": [
       "<div>\n",
       "<style scoped>\n",
       "    .dataframe tbody tr th:only-of-type {\n",
       "        vertical-align: middle;\n",
       "    }\n",
       "\n",
       "    .dataframe tbody tr th {\n",
       "        vertical-align: top;\n",
       "    }\n",
       "\n",
       "    .dataframe thead th {\n",
       "        text-align: right;\n",
       "    }\n",
       "</style>\n",
       "<table border=\"1\" class=\"dataframe\">\n",
       "  <thead>\n",
       "    <tr style=\"text-align: right;\">\n",
       "      <th></th>\n",
       "      <th>Continent</th>\n",
       "      <th>Location</th>\n",
       "      <th>TotalCases</th>\n",
       "      <th>TotalDeaths</th>\n",
       "      <th>Mortality</th>\n",
       "    </tr>\n",
       "    <tr>\n",
       "      <th>Location</th>\n",
       "      <th></th>\n",
       "      <th></th>\n",
       "      <th></th>\n",
       "      <th></th>\n",
       "      <th></th>\n",
       "    </tr>\n",
       "  </thead>\n",
       "  <tbody>\n",
       "    <tr>\n",
       "      <th>United States</th>\n",
       "      <td>North America</td>\n",
       "      <td>United States</td>\n",
       "      <td>79265726.0</td>\n",
       "      <td>958437.0</td>\n",
       "      <td>0.0121</td>\n",
       "    </tr>\n",
       "    <tr>\n",
       "      <th>Brazil</th>\n",
       "      <td>South America</td>\n",
       "      <td>Brazil</td>\n",
       "      <td>29040800.0</td>\n",
       "      <td>652216.0</td>\n",
       "      <td>0.0225</td>\n",
       "    </tr>\n",
       "    <tr>\n",
       "      <th>India</th>\n",
       "      <td>Asia</td>\n",
       "      <td>India</td>\n",
       "      <td>42962953.0</td>\n",
       "      <td>515036.0</td>\n",
       "      <td>0.0120</td>\n",
       "    </tr>\n",
       "    <tr>\n",
       "      <th>Russia</th>\n",
       "      <td>Europe</td>\n",
       "      <td>Russia</td>\n",
       "      <td>16619507.0</td>\n",
       "      <td>348467.0</td>\n",
       "      <td>0.0210</td>\n",
       "    </tr>\n",
       "    <tr>\n",
       "      <th>Mexico</th>\n",
       "      <td>North America</td>\n",
       "      <td>Mexico</td>\n",
       "      <td>5554392.0</td>\n",
       "      <td>319604.0</td>\n",
       "      <td>0.0575</td>\n",
       "    </tr>\n",
       "    <tr>\n",
       "      <th>...</th>\n",
       "      <td>...</td>\n",
       "      <td>...</td>\n",
       "      <td>...</td>\n",
       "      <td>...</td>\n",
       "      <td>...</td>\n",
       "    </tr>\n",
       "    <tr>\n",
       "      <th>Samoa</th>\n",
       "      <td>Oceania</td>\n",
       "      <td>Samoa</td>\n",
       "      <td>33.0</td>\n",
       "      <td>0.0</td>\n",
       "      <td>0.0000</td>\n",
       "    </tr>\n",
       "    <tr>\n",
       "      <th>Macao</th>\n",
       "      <td>Asia</td>\n",
       "      <td>Macao</td>\n",
       "      <td>82.0</td>\n",
       "      <td>0.0</td>\n",
       "      <td>0.0000</td>\n",
       "    </tr>\n",
       "    <tr>\n",
       "      <th>Falkland Islands</th>\n",
       "      <td>South America</td>\n",
       "      <td>Falkland Islands</td>\n",
       "      <td>115.0</td>\n",
       "      <td>0.0</td>\n",
       "      <td>0.0000</td>\n",
       "    </tr>\n",
       "    <tr>\n",
       "      <th>Tonga</th>\n",
       "      <td>Oceania</td>\n",
       "      <td>Tonga</td>\n",
       "      <td>898.0</td>\n",
       "      <td>0.0</td>\n",
       "      <td>0.0000</td>\n",
       "    </tr>\n",
       "    <tr>\n",
       "      <th>Niue</th>\n",
       "      <td>Oceania</td>\n",
       "      <td>Niue</td>\n",
       "      <td>0.0</td>\n",
       "      <td>0.0</td>\n",
       "      <td>0.0000</td>\n",
       "    </tr>\n",
       "  </tbody>\n",
       "</table>\n",
       "<p>224 rows × 5 columns</p>\n",
       "</div>"
      ],
      "text/plain": [
       "                      Continent          Location  TotalCases  TotalDeaths  \\\n",
       "Location                                                                     \n",
       "United States     North America     United States  79265726.0     958437.0   \n",
       "Brazil            South America            Brazil  29040800.0     652216.0   \n",
       "India                      Asia             India  42962953.0     515036.0   \n",
       "Russia                   Europe            Russia  16619507.0     348467.0   \n",
       "Mexico            North America            Mexico   5554392.0     319604.0   \n",
       "...                         ...               ...         ...          ...   \n",
       "Samoa                   Oceania             Samoa        33.0          0.0   \n",
       "Macao                      Asia             Macao        82.0          0.0   \n",
       "Falkland Islands  South America  Falkland Islands       115.0          0.0   \n",
       "Tonga                   Oceania             Tonga       898.0          0.0   \n",
       "Niue                    Oceania              Niue         0.0          0.0   \n",
       "\n",
       "                  Mortality  \n",
       "Location                     \n",
       "United States        0.0121  \n",
       "Brazil               0.0225  \n",
       "India                0.0120  \n",
       "Russia               0.0210  \n",
       "Mexico               0.0575  \n",
       "...                     ...  \n",
       "Samoa                0.0000  \n",
       "Macao                0.0000  \n",
       "Falkland Islands     0.0000  \n",
       "Tonga                0.0000  \n",
       "Niue                 0.0000  \n",
       "\n",
       "[224 rows x 5 columns]"
      ]
     },
     "execution_count": 209,
     "metadata": {},
     "output_type": "execute_result"
    }
   ],
   "source": [
    "print(\"Tỷ lệ tử vong vì dịch bệnh ở các quốc gia trên thế giới\")\n",
    "covid_country"
   ]
  },
  {
   "cell_type": "markdown",
   "metadata": {},
   "source": [
    "Chọn một số nước có nền kinh tế phát triển và kém phát triển"
   ]
  },
  {
   "cell_type": "code",
   "execution_count": 210,
   "metadata": {},
   "outputs": [],
   "source": [
    "list_top_35_countries_by_GDP_in_2022 = list(['United States', 'China', 'Japan', 'Germany', 'United Kingdom', 'India', 'France', 'Canada', 'Italy', 'Brazil', 'Russia', 'South Korea', 'Australia', 'Iran', 'Spain', 'Mexico', 'Indonesia', 'Saudi Arabia', 'Netherlands', 'Switzerland', 'Taiwan', 'Poland', 'Turkey', 'Sweden', 'Belgium', 'Argentina', 'Norway', 'Thailand', 'Israel', 'Ireland', 'Malaysia', 'United Arab Emirates', 'Austria', 'South Africa', 'Singapore'])\n",
    "\n",
    "list_worst_35_countries_by_GDP_in_2022 = list(['Vietnam', 'Hong Kong', 'Luxembourg', 'Libya', 'Namibia', 'Kosovo', 'Togo', 'Congo', 'Latvia', 'New Zealand', 'Uruguay', 'South Sudan', 'San Marino', 'Gambia', 'Curacao', 'Sierra Leone', 'New Caledonia', 'Mauritius', 'Chad', 'North Macedonia', 'Syria', 'Malta', 'Laos', 'Albania', 'Afghanistan', 'Zambia', 'Myanmar', 'Cuba', 'Ukraine', 'Qatar', 'Colombia', 'Pakistan', 'Chile', 'Finland', 'Belize'])\n",
    "\n",
    "\n",
    "covid_data_poor = pd.DataFrame()\n",
    "covid_data_rick = pd.DataFrame()\n",
    "def create_data (data, list):\n",
    "    for i in list:\n",
    "        data = pd.concat([data, covid_country.loc[covid_country['Location'] == i]]) \n",
    "    return data\n",
    "covid_data_rick = create_data(covid_data_rick, list_top_35_countries_by_GDP_in_2022)\n",
    "covid_data_poor = create_data(covid_data_poor, list_worst_35_countries_by_GDP_in_2022)"
   ]
  },
  {
   "cell_type": "code",
   "execution_count": 211,
   "metadata": {},
   "outputs": [
    {
     "name": "stdout",
     "output_type": "stream",
     "text": [
      "35 nước có nền kinh tế phát triển: \n",
      "\n",
      "['United States', 'China', 'Japan', 'Germany', 'United Kingdom', 'India', 'France', 'Canada', 'Italy', 'Brazil', 'Russia', 'South Korea', 'Australia', 'Iran', 'Spain', 'Mexico', 'Indonesia', 'Saudi Arabia', 'Netherlands', 'Switzerland', 'Taiwan', 'Poland', 'Turkey', 'Sweden', 'Belgium', 'Argentina', 'Norway', 'Thailand', 'Israel', 'Ireland', 'Malaysia', 'United Arab Emirates', 'Austria', 'South Africa', 'Singapore']\n"
     ]
    }
   ],
   "source": [
    "print(\"35 nước có nền kinh tế phát triển: \\n\")\n",
    "print(list_top_35_countries_by_GDP_in_2022)"
   ]
  },
  {
   "cell_type": "code",
   "execution_count": 212,
   "metadata": {},
   "outputs": [
    {
     "name": "stdout",
     "output_type": "stream",
     "text": [
      "35 nước có nền kinh tế đang phát triển: \n",
      "\n",
      "['Vietnam', 'Hong Kong', 'Luxembourg', 'Libya', 'Namibia', 'Kosovo', 'Togo', 'Congo', 'Latvia', 'New Zealand', 'Uruguay', 'South Sudan', 'San Marino', 'Gambia', 'Curacao', 'Sierra Leone', 'New Caledonia', 'Mauritius', 'Chad', 'North Macedonia', 'Syria', 'Malta', 'Laos', 'Albania', 'Afghanistan', 'Zambia', 'Myanmar', 'Cuba', 'Ukraine', 'Qatar', 'Colombia', 'Pakistan', 'Chile', 'Finland', 'Belize']\n"
     ]
    }
   ],
   "source": [
    "print(\"35 nước có nền kinh tế đang phát triển: \\n\")\n",
    "print(list_worst_35_countries_by_GDP_in_2022)"
   ]
  },
  {
   "cell_type": "code",
   "execution_count": 213,
   "metadata": {},
   "outputs": [
    {
     "data": {
      "text/html": [
       "<div>\n",
       "<style scoped>\n",
       "    .dataframe tbody tr th:only-of-type {\n",
       "        vertical-align: middle;\n",
       "    }\n",
       "\n",
       "    .dataframe tbody tr th {\n",
       "        vertical-align: top;\n",
       "    }\n",
       "\n",
       "    .dataframe thead th {\n",
       "        text-align: right;\n",
       "    }\n",
       "</style>\n",
       "<table border=\"1\" class=\"dataframe\">\n",
       "  <thead>\n",
       "    <tr style=\"text-align: right;\">\n",
       "      <th></th>\n",
       "      <th>TotalCases</th>\n",
       "      <th>TotalDeaths</th>\n",
       "      <th>Mortality</th>\n",
       "      <th>economy</th>\n",
       "    </tr>\n",
       "    <tr>\n",
       "      <th>Location</th>\n",
       "      <th></th>\n",
       "      <th></th>\n",
       "      <th></th>\n",
       "      <th></th>\n",
       "    </tr>\n",
       "  </thead>\n",
       "  <tbody>\n",
       "    <tr>\n",
       "      <th>Vietnam</th>\n",
       "      <td>4232520.0</td>\n",
       "      <td>40726.0</td>\n",
       "      <td>0.0096</td>\n",
       "      <td>median</td>\n",
       "    </tr>\n",
       "    <tr>\n",
       "      <th>Hong Kong</th>\n",
       "      <td>440609.0</td>\n",
       "      <td>1774.0</td>\n",
       "      <td>0.0040</td>\n",
       "      <td>median</td>\n",
       "    </tr>\n",
       "    <tr>\n",
       "      <th>Luxembourg</th>\n",
       "      <td>186360.0</td>\n",
       "      <td>996.0</td>\n",
       "      <td>0.0053</td>\n",
       "      <td>median</td>\n",
       "    </tr>\n",
       "    <tr>\n",
       "      <th>Libya</th>\n",
       "      <td>497279.0</td>\n",
       "      <td>6288.0</td>\n",
       "      <td>0.0126</td>\n",
       "      <td>median</td>\n",
       "    </tr>\n",
       "    <tr>\n",
       "      <th>Namibia</th>\n",
       "      <td>157324.0</td>\n",
       "      <td>4013.0</td>\n",
       "      <td>0.0255</td>\n",
       "      <td>median</td>\n",
       "    </tr>\n",
       "    <tr>\n",
       "      <th>...</th>\n",
       "      <td>...</td>\n",
       "      <td>...</td>\n",
       "      <td>...</td>\n",
       "      <td>...</td>\n",
       "    </tr>\n",
       "    <tr>\n",
       "      <th>Malaysia</th>\n",
       "      <td>3595172.0</td>\n",
       "      <td>33173.0</td>\n",
       "      <td>0.0092</td>\n",
       "      <td>height</td>\n",
       "    </tr>\n",
       "    <tr>\n",
       "      <th>United Arab Emirates</th>\n",
       "      <td>882477.0</td>\n",
       "      <td>2301.0</td>\n",
       "      <td>0.0026</td>\n",
       "      <td>height</td>\n",
       "    </tr>\n",
       "    <tr>\n",
       "      <th>Austria</th>\n",
       "      <td>2839297.0</td>\n",
       "      <td>14986.0</td>\n",
       "      <td>0.0053</td>\n",
       "      <td>height</td>\n",
       "    </tr>\n",
       "    <tr>\n",
       "      <th>South Africa</th>\n",
       "      <td>3683172.0</td>\n",
       "      <td>99543.0</td>\n",
       "      <td>0.0270</td>\n",
       "      <td>height</td>\n",
       "    </tr>\n",
       "    <tr>\n",
       "      <th>Singapore</th>\n",
       "      <td>819663.0</td>\n",
       "      <td>1073.0</td>\n",
       "      <td>0.0013</td>\n",
       "      <td>height</td>\n",
       "    </tr>\n",
       "  </tbody>\n",
       "</table>\n",
       "<p>70 rows × 4 columns</p>\n",
       "</div>"
      ],
      "text/plain": [
       "                      TotalCases  TotalDeaths  Mortality economy\n",
       "Location                                                        \n",
       "Vietnam                4232520.0      40726.0     0.0096  median\n",
       "Hong Kong               440609.0       1774.0     0.0040  median\n",
       "Luxembourg              186360.0        996.0     0.0053  median\n",
       "Libya                   497279.0       6288.0     0.0126  median\n",
       "Namibia                 157324.0       4013.0     0.0255  median\n",
       "...                          ...          ...        ...     ...\n",
       "Malaysia               3595172.0      33173.0     0.0092  height\n",
       "United Arab Emirates    882477.0       2301.0     0.0026  height\n",
       "Austria                2839297.0      14986.0     0.0053  height\n",
       "South Africa           3683172.0      99543.0     0.0270  height\n",
       "Singapore               819663.0       1073.0     0.0013  height\n",
       "\n",
       "[70 rows x 4 columns]"
      ]
     },
     "execution_count": 213,
     "metadata": {},
     "output_type": "execute_result"
    }
   ],
   "source": [
    "covid_data_poor = covid_data_poor[['TotalCases', 'TotalDeaths', 'Mortality']]\n",
    "covid_data_poor['economy'] = 'median'\n",
    "\n",
    "covid_data_rick = covid_data_rick[['TotalCases', 'TotalDeaths', 'Mortality']]\n",
    "covid_data_rick['economy'] = 'height'\n",
    "covid_data_economy = covid_data_poor\n",
    "covid_data_economy = pd.concat([covid_data_economy, covid_data_rick])\n",
    "covid_data_economy"
   ]
  },
  {
   "cell_type": "code",
   "execution_count": 214,
   "metadata": {},
   "outputs": [],
   "source": [
    "def plt_boxplot (data, title):\n",
    "    plt.figure(figsize = (10, 10))\n",
    "    sns.boxplot(y='Mortality', x = 'economy', data= data).set(title= title)\n",
    "    sns.swarmplot(x='economy', y='Mortality', data=data, color='red')\n",
    "    plt.show()"
   ]
  },
  {
   "cell_type": "code",
   "execution_count": 215,
   "metadata": {},
   "outputs": [
    {
     "data": {
      "image/png": "[encoded data removed]",
      "text/plain": [
       "<Figure size 720x720 with 1 Axes>"
      ]
     },
     "metadata": {
      "needs_background": "light"
     },
     "output_type": "display_data"
    },
    {
     "name": "stdout",
     "output_type": "stream",
     "text": [
      "Nhận xét:\n",
      "Qua biểu đồ Boxplot ta thấy miền giá trị của tỷ lệ tử vong do dịch bệnh, cùng với tỷ lệ tử vong trung bình của nhóm nước có nền kinh tế đang phát triển lớn hơn các nước phát triển\n"
     ]
    }
   ],
   "source": [
    "plt_boxplot (covid_data_economy, 'Biểu đồ phân bố tỉ lệ tử vong giữa nhóm nước phát triển và đang phát triển')\n",
    "print(\"Nhận xét:\")\n",
    "print(\"Qua biểu đồ Boxplot ta thấy miền giá trị của tỷ lệ tử vong do dịch bệnh, cùng với tỷ lệ tử vong trung bình của nhóm nước có nền kinh tế đang phát triển lớn hơn các nước phát triển\")"
   ]
  },
  {
   "cell_type": "markdown",
   "metadata": {},
   "source": [
    "Thực hiện kiểm định thống kê cho 2 nhóm các quốc gia có nền kinh tế phát triển và nền kinh tế kém phát triển hơn\n",
    "\n",
    "Mối quan hệ giữa hai biến C (Nhóm kinh tế) --> Q (Tỉ lệ tử vong): hai nhóm độc lập => Ta thực hiện T-test"
   ]
  },
  {
   "cell_type": "markdown",
   "metadata": {},
   "source": [
    "**Ta đặt giả thuyết thống kê**\n",
    "\n",
    "`H0: tỉ lệ tử vong tại nhóm quốc gia phát triển và nhóm các quốc gia đang phát triển là như nhau.`\n",
    "\n",
    "`Ha: tỉ lệ tử vong tại nhóm quốc gia phát triển sẽ cao hơn so với các quốc gia đang phát triển.`"
   ]
  },
  {
   "cell_type": "code",
   "execution_count": 216,
   "metadata": {},
   "outputs": [
    {
     "name": "stdout",
     "output_type": "stream",
     "text": [
      "Giá trị p tính được là kiểm định hai phía: p =  0.49304175868581457\n",
      "Vì ta kiểm định 1 phía nên p value = p/2 =  0.24652087934290728\n",
      "Ta có p_value = 0.24652087934290728 > 0,05 => không thể bác bỏ giả thuyết H0\n"
     ]
    }
   ],
   "source": [
    "t, p = stats.ttest_ind(covid_data_rick['Mortality'], covid_data_poor['Mortality'])\n",
    "print ('Giá trị p tính được là kiểm định hai phía: p = ', p)\n",
    "print ('Vì ta kiểm định 1 phía nên p value = p/2 = ', p/2)\n",
    "p = p/2\n",
    "print (f'Ta có p_value = {p} > 0,05 => không thể bác bỏ giả thuyết H0')"
   ]
  },
  {
   "cell_type": "markdown",
   "metadata": {},
   "source": [
    "Nhận xét: \n",
    "1. Kết luận trên cho thấy không có mối quan hệ giữa nền kinh tế và tỉ lệ tử vong vì dịch bệnh Covid-19 ở các nước. \n",
    "2. Có lẽ kinh tế không phải nhân tố quyết định mức độ nghiêm trọng của dịch covid-19. Mức độ nghiêm trọng của dịch covid ngoài nền kinh tế thì còn một số nguyên nhân quan trọng khác, ví dụ như: Chính sách phòng chống dịch bệnh của các quốc gia, thời tiết của mỗi khu vực và sức khỏe của dân cư."
   ]
  },
  {
   "cell_type": "markdown",
   "metadata": {},
   "source": [
    "## Câu 3: Khi vaccine được phổ biến, điều đó có giúp ích cho việc chống đại dịch Covid-19 trên thế giới? **(X: Date, PeopleVaccinated, NewCases, NewDeaths)**  **(Y: Tỉ lệ tử vong)**"
   ]
  },
  {
   "cell_type": "code",
   "execution_count": 217,
   "metadata": {},
   "outputs": [
    {
     "name": "stdout",
     "output_type": "stream",
     "text": [
      "Vaccine được đưa vào sử dụng đầu tiên vào ngày 2020-12-04\n"
     ]
    }
   ],
   "source": [
    "first_date_vaccine = covid_world_df[covid_world_df['PeopleVaccinated'] != 0].iloc[0]['Date']\n",
    "print(f\"Vaccine được đưa vào sử dụng đầu tiên vào ngày {first_date_vaccine}\")"
   ]
  },
  {
   "cell_type": "markdown",
   "metadata": {},
   "source": [
    "Tình hình dịch bệnh trên thế giới sau khi triển khai tiêm vaccine"
   ]
  },
  {
   "cell_type": "code",
   "execution_count": 218,
   "metadata": {},
   "outputs": [
    {
     "data": {
      "text/html": [
       "<div>\n",
       "<style scoped>\n",
       "    .dataframe tbody tr th:only-of-type {\n",
       "        vertical-align: middle;\n",
       "    }\n",
       "\n",
       "    .dataframe tbody tr th {\n",
       "        vertical-align: top;\n",
       "    }\n",
       "\n",
       "    .dataframe thead th {\n",
       "        text-align: right;\n",
       "    }\n",
       "</style>\n",
       "<table border=\"1\" class=\"dataframe\">\n",
       "  <thead>\n",
       "    <tr style=\"text-align: right;\">\n",
       "      <th></th>\n",
       "      <th>Continent</th>\n",
       "      <th>Location</th>\n",
       "      <th>Date</th>\n",
       "      <th>TotalCases</th>\n",
       "      <th>NewCases</th>\n",
       "      <th>TotalCases_per_million</th>\n",
       "      <th>NewCases_per_million</th>\n",
       "      <th>TotalDeaths</th>\n",
       "      <th>NewDeaths</th>\n",
       "      <th>TotalDeaths_per_million</th>\n",
       "      <th>NewDeaths_per_million</th>\n",
       "      <th>TotalVaccinations</th>\n",
       "      <th>PeopleVaccinated</th>\n",
       "      <th>PeopleFullyVaccinated</th>\n",
       "      <th>PeopleFullyVaccinated_per_hundred</th>\n",
       "      <th>Population</th>\n",
       "    </tr>\n",
       "  </thead>\n",
       "  <tbody>\n",
       "    <tr>\n",
       "      <th>163740</th>\n",
       "      <td>0</td>\n",
       "      <td>World</td>\n",
       "      <td>2020-12-04</td>\n",
       "      <td>66049040.0</td>\n",
       "      <td>688697.0</td>\n",
       "      <td>8387.216</td>\n",
       "      <td>87.454</td>\n",
       "      <td>1576378.0</td>\n",
       "      <td>12460.0</td>\n",
       "      <td>200.176</td>\n",
       "      <td>1.582</td>\n",
       "      <td>1.0</td>\n",
       "      <td>1.0</td>\n",
       "      <td>0.0</td>\n",
       "      <td>0.0</td>\n",
       "      <td>7.874966e+09</td>\n",
       "    </tr>\n",
       "    <tr>\n",
       "      <th>163741</th>\n",
       "      <td>0</td>\n",
       "      <td>World</td>\n",
       "      <td>2020-12-05</td>\n",
       "      <td>66697974.0</td>\n",
       "      <td>648934.0</td>\n",
       "      <td>8469.621</td>\n",
       "      <td>82.405</td>\n",
       "      <td>1586715.0</td>\n",
       "      <td>10337.0</td>\n",
       "      <td>201.488</td>\n",
       "      <td>1.313</td>\n",
       "      <td>1.0</td>\n",
       "      <td>1.0</td>\n",
       "      <td>0.0</td>\n",
       "      <td>0.0</td>\n",
       "      <td>7.874966e+09</td>\n",
       "    </tr>\n",
       "    <tr>\n",
       "      <th>163742</th>\n",
       "      <td>0</td>\n",
       "      <td>World</td>\n",
       "      <td>2020-12-06</td>\n",
       "      <td>67234273.0</td>\n",
       "      <td>536299.0</td>\n",
       "      <td>8537.723</td>\n",
       "      <td>68.102</td>\n",
       "      <td>1594444.0</td>\n",
       "      <td>7729.0</td>\n",
       "      <td>202.470</td>\n",
       "      <td>0.981</td>\n",
       "      <td>1.0</td>\n",
       "      <td>1.0</td>\n",
       "      <td>0.0</td>\n",
       "      <td>0.0</td>\n",
       "      <td>7.874966e+09</td>\n",
       "    </tr>\n",
       "    <tr>\n",
       "      <th>163743</th>\n",
       "      <td>0</td>\n",
       "      <td>World</td>\n",
       "      <td>2020-12-07</td>\n",
       "      <td>67761913.0</td>\n",
       "      <td>527640.0</td>\n",
       "      <td>8604.725</td>\n",
       "      <td>67.002</td>\n",
       "      <td>1603158.0</td>\n",
       "      <td>8714.0</td>\n",
       "      <td>203.577</td>\n",
       "      <td>1.107</td>\n",
       "      <td>2.0</td>\n",
       "      <td>2.0</td>\n",
       "      <td>0.0</td>\n",
       "      <td>0.0</td>\n",
       "      <td>7.874966e+09</td>\n",
       "    </tr>\n",
       "    <tr>\n",
       "      <th>163744</th>\n",
       "      <td>0</td>\n",
       "      <td>World</td>\n",
       "      <td>2020-12-08</td>\n",
       "      <td>68405171.0</td>\n",
       "      <td>643258.0</td>\n",
       "      <td>8686.409</td>\n",
       "      <td>81.684</td>\n",
       "      <td>1615473.0</td>\n",
       "      <td>12317.0</td>\n",
       "      <td>205.140</td>\n",
       "      <td>1.564</td>\n",
       "      <td>8.0</td>\n",
       "      <td>8.0</td>\n",
       "      <td>0.0</td>\n",
       "      <td>0.0</td>\n",
       "      <td>7.874966e+09</td>\n",
       "    </tr>\n",
       "  </tbody>\n",
       "</table>\n",
       "</div>"
      ],
      "text/plain": [
       "       Continent Location        Date  TotalCases  NewCases  \\\n",
       "163740         0    World  2020-12-04  66049040.0  688697.0   \n",
       "163741         0    World  2020-12-05  66697974.0  648934.0   \n",
       "163742         0    World  2020-12-06  67234273.0  536299.0   \n",
       "163743         0    World  2020-12-07  67761913.0  527640.0   \n",
       "163744         0    World  2020-12-08  68405171.0  643258.0   \n",
       "\n",
       "        TotalCases_per_million  NewCases_per_million  TotalDeaths  NewDeaths  \\\n",
       "163740                8387.216                87.454    1576378.0    12460.0   \n",
       "163741                8469.621                82.405    1586715.0    10337.0   \n",
       "163742                8537.723                68.102    1594444.0     7729.0   \n",
       "163743                8604.725                67.002    1603158.0     8714.0   \n",
       "163744                8686.409                81.684    1615473.0    12317.0   \n",
       "\n",
       "        TotalDeaths_per_million  NewDeaths_per_million  TotalVaccinations  \\\n",
       "163740                  200.176                  1.582                1.0   \n",
       "163741                  201.488                  1.313                1.0   \n",
       "163742                  202.470                  0.981                1.0   \n",
       "163743                  203.577                  1.107                2.0   \n",
       "163744                  205.140                  1.564                8.0   \n",
       "\n",
       "        PeopleVaccinated  PeopleFullyVaccinated  \\\n",
       "163740               1.0                    0.0   \n",
       "163741               1.0                    0.0   \n",
       "163742               1.0                    0.0   \n",
       "163743               2.0                    0.0   \n",
       "163744               8.0                    0.0   \n",
       "\n",
       "        PeopleFullyVaccinated_per_hundred    Population  \n",
       "163740                                0.0  7.874966e+09  \n",
       "163741                                0.0  7.874966e+09  \n",
       "163742                                0.0  7.874966e+09  \n",
       "163743                                0.0  7.874966e+09  \n",
       "163744                                0.0  7.874966e+09  "
      ]
     },
     "execution_count": 218,
     "metadata": {},
     "output_type": "execute_result"
    }
   ],
   "source": [
    "covid_world_after_vaccine = covid_world_df[covid_world_df['Date'] >= first_date_vaccine]\n",
    "covid_world_after_vaccine.head()"
   ]
  },
  {
   "cell_type": "markdown",
   "metadata": {},
   "source": [
    "Tình hình dịch bệnh trên thế giới trước khi triển khai tiêm vaccine"
   ]
  },
  {
   "cell_type": "code",
   "execution_count": 219,
   "metadata": {},
   "outputs": [
    {
     "data": {
      "text/html": [
       "<div>\n",
       "<style scoped>\n",
       "    .dataframe tbody tr th:only-of-type {\n",
       "        vertical-align: middle;\n",
       "    }\n",
       "\n",
       "    .dataframe tbody tr th {\n",
       "        vertical-align: top;\n",
       "    }\n",
       "\n",
       "    .dataframe thead th {\n",
       "        text-align: right;\n",
       "    }\n",
       "</style>\n",
       "<table border=\"1\" class=\"dataframe\">\n",
       "  <thead>\n",
       "    <tr style=\"text-align: right;\">\n",
       "      <th></th>\n",
       "      <th>Continent</th>\n",
       "      <th>Location</th>\n",
       "      <th>Date</th>\n",
       "      <th>TotalCases</th>\n",
       "      <th>NewCases</th>\n",
       "      <th>TotalCases_per_million</th>\n",
       "      <th>NewCases_per_million</th>\n",
       "      <th>TotalDeaths</th>\n",
       "      <th>NewDeaths</th>\n",
       "      <th>TotalDeaths_per_million</th>\n",
       "      <th>NewDeaths_per_million</th>\n",
       "      <th>TotalVaccinations</th>\n",
       "      <th>PeopleVaccinated</th>\n",
       "      <th>PeopleFullyVaccinated</th>\n",
       "      <th>PeopleFullyVaccinated_per_hundred</th>\n",
       "      <th>Population</th>\n",
       "    </tr>\n",
       "  </thead>\n",
       "  <tbody>\n",
       "    <tr>\n",
       "      <th>163735</th>\n",
       "      <td>0</td>\n",
       "      <td>World</td>\n",
       "      <td>2020-11-29</td>\n",
       "      <td>62890192.0</td>\n",
       "      <td>482385.0</td>\n",
       "      <td>7986.091</td>\n",
       "      <td>61.256</td>\n",
       "      <td>1516949.0</td>\n",
       "      <td>7295.0</td>\n",
       "      <td>192.629</td>\n",
       "      <td>0.926</td>\n",
       "      <td>0.0</td>\n",
       "      <td>0.0</td>\n",
       "      <td>0.0</td>\n",
       "      <td>0.0</td>\n",
       "      <td>7.874966e+09</td>\n",
       "    </tr>\n",
       "    <tr>\n",
       "      <th>163736</th>\n",
       "      <td>0</td>\n",
       "      <td>World</td>\n",
       "      <td>2020-11-30</td>\n",
       "      <td>63397591.0</td>\n",
       "      <td>507399.0</td>\n",
       "      <td>8050.523</td>\n",
       "      <td>64.432</td>\n",
       "      <td>1525916.0</td>\n",
       "      <td>8967.0</td>\n",
       "      <td>193.768</td>\n",
       "      <td>1.139</td>\n",
       "      <td>0.0</td>\n",
       "      <td>0.0</td>\n",
       "      <td>0.0</td>\n",
       "      <td>0.0</td>\n",
       "      <td>7.874966e+09</td>\n",
       "    </tr>\n",
       "    <tr>\n",
       "      <th>163737</th>\n",
       "      <td>0</td>\n",
       "      <td>World</td>\n",
       "      <td>2020-12-01</td>\n",
       "      <td>64021419.0</td>\n",
       "      <td>623828.0</td>\n",
       "      <td>8129.739</td>\n",
       "      <td>79.217</td>\n",
       "      <td>1538675.0</td>\n",
       "      <td>12759.0</td>\n",
       "      <td>195.388</td>\n",
       "      <td>1.620</td>\n",
       "      <td>0.0</td>\n",
       "      <td>0.0</td>\n",
       "      <td>0.0</td>\n",
       "      <td>0.0</td>\n",
       "      <td>7.874966e+09</td>\n",
       "    </tr>\n",
       "    <tr>\n",
       "      <th>163738</th>\n",
       "      <td>0</td>\n",
       "      <td>World</td>\n",
       "      <td>2020-12-02</td>\n",
       "      <td>64668183.0</td>\n",
       "      <td>646764.0</td>\n",
       "      <td>8211.868</td>\n",
       "      <td>82.129</td>\n",
       "      <td>1551318.0</td>\n",
       "      <td>12643.0</td>\n",
       "      <td>196.994</td>\n",
       "      <td>1.605</td>\n",
       "      <td>0.0</td>\n",
       "      <td>0.0</td>\n",
       "      <td>0.0</td>\n",
       "      <td>0.0</td>\n",
       "      <td>7.874966e+09</td>\n",
       "    </tr>\n",
       "    <tr>\n",
       "      <th>163739</th>\n",
       "      <td>0</td>\n",
       "      <td>World</td>\n",
       "      <td>2020-12-03</td>\n",
       "      <td>65360343.0</td>\n",
       "      <td>692160.0</td>\n",
       "      <td>8299.762</td>\n",
       "      <td>87.894</td>\n",
       "      <td>1563918.0</td>\n",
       "      <td>12600.0</td>\n",
       "      <td>198.594</td>\n",
       "      <td>1.600</td>\n",
       "      <td>0.0</td>\n",
       "      <td>0.0</td>\n",
       "      <td>0.0</td>\n",
       "      <td>0.0</td>\n",
       "      <td>7.874966e+09</td>\n",
       "    </tr>\n",
       "  </tbody>\n",
       "</table>\n",
       "</div>"
      ],
      "text/plain": [
       "       Continent Location        Date  TotalCases  NewCases  \\\n",
       "163735         0    World  2020-11-29  62890192.0  482385.0   \n",
       "163736         0    World  2020-11-30  63397591.0  507399.0   \n",
       "163737         0    World  2020-12-01  64021419.0  623828.0   \n",
       "163738         0    World  2020-12-02  64668183.0  646764.0   \n",
       "163739         0    World  2020-12-03  65360343.0  692160.0   \n",
       "\n",
       "        TotalCases_per_million  NewCases_per_million  TotalDeaths  NewDeaths  \\\n",
       "163735                7986.091                61.256    1516949.0     7295.0   \n",
       "163736                8050.523                64.432    1525916.0     8967.0   \n",
       "163737                8129.739                79.217    1538675.0    12759.0   \n",
       "163738                8211.868                82.129    1551318.0    12643.0   \n",
       "163739                8299.762                87.894    1563918.0    12600.0   \n",
       "\n",
       "        TotalDeaths_per_million  NewDeaths_per_million  TotalVaccinations  \\\n",
       "163735                  192.629                  0.926                0.0   \n",
       "163736                  193.768                  1.139                0.0   \n",
       "163737                  195.388                  1.620                0.0   \n",
       "163738                  196.994                  1.605                0.0   \n",
       "163739                  198.594                  1.600                0.0   \n",
       "\n",
       "        PeopleVaccinated  PeopleFullyVaccinated  \\\n",
       "163735               0.0                    0.0   \n",
       "163736               0.0                    0.0   \n",
       "163737               0.0                    0.0   \n",
       "163738               0.0                    0.0   \n",
       "163739               0.0                    0.0   \n",
       "\n",
       "        PeopleFullyVaccinated_per_hundred    Population  \n",
       "163735                                0.0  7.874966e+09  \n",
       "163736                                0.0  7.874966e+09  \n",
       "163737                                0.0  7.874966e+09  \n",
       "163738                                0.0  7.874966e+09  \n",
       "163739                                0.0  7.874966e+09  "
      ]
     },
     "execution_count": 219,
     "metadata": {},
     "output_type": "execute_result"
    }
   ],
   "source": [
    "covid_world_before_vaccine = covid_world_df[covid_world_df['Date'] < first_date_vaccine]\n",
    "covid_world_before_vaccine.tail()"
   ]
  },
  {
   "cell_type": "code",
   "execution_count": 220,
   "metadata": {},
   "outputs": [
    {
     "data": {
      "application/vnd.plotly.v1+json": {
       "config": {
        "plotlyServerURL": "https://plot.ly"
       },
       "data": [
        {
         "hovertemplate": "<b>%{hovertext}</b><br><br>PeopleVaccinated=%{x}<br>NewCases=%{marker.color}<extra></extra>",
         "hovertext": [
          "2020-12-04",
          "2020-12-05",
          "2020-12-06",
          "2020-12-07",
          "2020-12-08",
          "2020-12-09",
          "2020-12-10",
          "2020-12-11",
          "2020-12-12",
          "2020-12-13",
          "2020-12-14",
          "2020-12-15",
          "2020-12-16",
          "2020-12-17",
          "2020-12-18",
          "2020-12-19",
          "2020-12-20",
          "2020-12-21",
          "2020-12-22",
          "2020-12-23",
          "2020-12-24",
          "2020-12-25",
          "2020-12-26",
          "2020-12-27",
          "2020-12-28",
          "2020-12-29",
          "2020-12-30",
          "2020-12-31",
          "2021-01-01",
          "2021-01-02",
          "2021-01-03",
          "2021-01-04",
          "2021-01-05",
          "2021-01-06",
          "2021-01-07",
          "2021-01-08",
          "2021-01-09",
          "2021-01-10",
          "2021-01-11",
          "2021-01-12",
          "2021-01-13",
          "2021-01-14",
          "2021-01-15",
          "2021-01-16",
          "2021-01-17",
          "2021-01-18",
          "2021-01-19",
          "2021-01-20",
          "2021-01-21",
          "2021-01-22",
          "2021-01-23",
          "2021-01-24",
          "2021-01-25",
          "2021-01-26",
          "2021-01-27",
          "2021-01-28",
          "2021-01-29",
          "2021-01-30",
          "2021-01-31",
          "2021-02-01",
          "2021-02-02",
          "2021-02-03",
          "2021-02-04",
          "2021-02-05",
          "2021-02-06",
          "2021-02-07",
          "2021-02-08",
          "2021-02-09",
          "2021-02-10",
          "2021-02-11",
          "2021-02-12",
          "2021-02-13",
          "2021-02-14",
          "2021-02-15",
          "2021-02-16",
          "2021-02-17",
          "2021-02-18",
          "2021-02-19",
          "2021-02-20",
          "2021-02-21",
          "2021-02-22",
          "2021-02-23",
          "2021-02-24",
          "2021-02-25",
          "2021-02-26",
          "2021-02-27",
          "2021-02-28",
          "2021-03-01",
          "2021-03-02",
          "2021-03-03",
          "2021-03-04",
          "2021-03-05",
          "2021-03-06",
          "2021-03-07",
          "2021-03-08",
          "2021-03-09",
          "2021-03-10",
          "2021-03-11",
          "2021-03-12",
          "2021-03-13",
          "2021-03-14",
          "2021-03-15",
          "2021-03-16",
          "2021-03-17",
          "2021-03-18",
          "2021-03-19",
          "2021-03-20",
          "2021-03-21",
          "2021-03-22",
          "2021-03-23",
          "2021-03-24",
          "2021-03-25",
          "2021-03-26",
          "2021-03-27",
          "2021-03-28",
          "2021-03-29",
          "2021-03-30",
          "2021-03-31",
          "2021-04-01",
          "2021-04-02",
          "2021-04-03",
          "2021-04-04",
          "2021-04-05",
          "2021-04-06",
          "2021-04-07",
          "2021-04-08",
          "2021-04-09",
          "2021-04-10",
          "2021-04-11",
          "2021-04-12",
          "2021-04-13",
          "2021-04-14",
          "2021-04-15",
          "2021-04-16",
          "2021-04-17",
          "2021-04-18",
          "2021-04-19",
          "2021-04-20",
          "2021-04-21",
          "2021-04-22",
          "2021-04-23",
          "2021-04-24",
          "2021-04-25",
          "2021-04-26",
          "2021-04-27",
          "2021-04-28",
          "2021-04-29",
          "2021-04-30",
          "2021-05-01",
          "2021-05-02",
          "2021-05-03",
          "2021-05-04",
          "2021-05-05",
          "2021-05-06",
          "2021-05-07",
          "2021-05-08",
          "2021-05-09",
          "2021-05-10",
          "2021-05-11",
          "2021-05-12",
          "2021-05-13",
          "2021-05-14",
          "2021-05-15",
          "2021-05-16",
          "2021-05-17",
          "2021-05-18",
          "2021-05-19",
          "2021-05-20",
          "2021-05-21",
          "2021-05-22",
          "2021-05-23",
          "2021-05-24",
          "2021-05-25",
          "2021-05-26",
          "2021-05-27",
          "2021-05-28",
          "2021-05-29",
          "2021-05-30",
          "2021-05-31",
          "2021-06-01",
          "2021-06-02",
          "2021-06-03",
          "2021-06-04",
          "2021-06-05",
          "2021-06-06",
          "2021-06-07",
          "2021-06-08",
          "2021-06-09",
          "2021-06-10",
          "2021-06-11",
          "2021-06-12",
          "2021-06-13",
          "2021-06-14",
          "2021-06-15",
          "2021-06-16",
          "2021-06-17",
          "2021-06-18",
          "2021-06-19",
          "2021-06-20",
          "2021-06-21",
          "2021-06-22",
          "2021-06-23",
          "2021-06-24",
          "2021-06-25",
          "2021-06-26",
          "2021-06-27",
          "2021-06-28",
          "2021-06-29",
          "2021-06-30",
          "2021-07-01",
          "2021-07-02",
          "2021-07-03",
          "2021-07-04",
          "2021-07-05",
          "2021-07-06",
          "2021-07-07",
          "2021-07-08",
          "2021-07-09",
          "2021-07-10",
          "2021-07-11",
          "2021-07-12",
          "2021-07-13",
          "2021-07-14",
          "2021-07-15",
          "2021-07-16",
          "2021-07-17",
          "2021-07-18",
          "2021-07-19",
          "2021-07-20",
          "2021-07-21",
          "2021-07-22",
          "2021-07-23",
          "2021-07-24",
          "2021-07-25",
          "2021-07-26",
          "2021-07-27",
          "2021-07-28",
          "2021-07-29",
          "2021-07-30",
          "2021-07-31",
          "2021-08-01",
          "2021-08-02",
          "2021-08-03",
          "2021-08-04",
          "2021-08-05",
          "2021-08-06",
          "2021-08-07",
          "2021-08-08",
          "2021-08-09",
          "2021-08-10",
          "2021-08-11",
          "2021-08-12",
          "2021-08-13",
          "2021-08-14",
          "2021-08-15",
          "2021-08-16",
          "2021-08-17",
          "2021-08-18",
          "2021-08-19",
          "2021-08-20",
          "2021-08-21",
          "2021-08-22",
          "2021-08-23",
          "2021-08-24",
          "2021-08-25",
          "2021-08-26",
          "2021-08-27",
          "2021-08-28",
          "2021-08-29",
          "2021-08-30",
          "2021-08-31",
          "2021-09-01",
          "2021-09-02",
          "2021-09-03",
          "2021-09-04",
          "2021-09-05",
          "2021-09-06",
          "2021-09-07",
          "2021-09-08",
          "2021-09-09",
          "2021-09-10",
          "2021-09-11",
          "2021-09-12",
          "2021-09-13",
          "2021-09-14",
          "2021-09-15",
          "2021-09-16",
          "2021-09-17",
          "2021-09-18",
          "2021-09-19",
          "2021-09-20",
          "2021-09-21",
          "2021-09-22",
          "2021-09-23",
          "2021-09-24",
          "2021-09-25",
          "2021-09-26",
          "2021-09-27",
          "2021-09-28",
          "2021-09-29",
          "2021-09-30",
          "2021-10-01",
          "2021-10-02",
          "2021-10-03",
          "2021-10-04",
          "2021-10-05",
          "2021-10-06",
          "2021-10-07",
          "2021-10-08",
          "2021-10-09",
          "2021-10-10",
          "2021-10-11",
          "2021-10-12",
          "2021-10-13",
          "2021-10-14",
          "2021-10-15",
          "2021-10-16",
          "2021-10-17",
          "2021-10-18",
          "2021-10-19",
          "2021-10-20",
          "2021-10-21",
          "2021-10-22",
          "2021-10-23",
          "2021-10-24",
          "2021-10-25",
          "2021-10-26",
          "2021-10-27",
          "2021-10-28",
          "2021-10-29",
          "2021-10-30",
          "2021-10-31",
          "2021-11-01",
          "2021-11-02",
          "2021-11-03",
          "2021-11-04",
          "2021-11-05",
          "2021-11-06",
          "2021-11-07",
          "2021-11-08",
          "2021-11-09",
          "2021-11-10",
          "2021-11-11",
          "2021-11-12",
          "2021-11-13",
          "2021-11-14",
          "2021-11-15",
          "2021-11-16",
          "2021-11-17",
          "2021-11-18",
          "2021-11-19",
          "2021-11-20",
          "2021-11-21",
          "2021-11-22",
          "2021-11-23",
          "2021-11-24",
          "2021-11-25",
          "2021-11-26",
          "2021-11-27",
          "2021-11-28",
          "2021-11-29",
          "2021-11-30",
          "2021-12-01",
          "2021-12-02",
          "2021-12-03",
          "2021-12-04",
          "2021-12-05",
          "2021-12-06",
          "2021-12-07",
          "2021-12-08",
          "2021-12-09",
          "2021-12-10",
          "2021-12-11",
          "2021-12-12",
          "2021-12-13",
          "2021-12-14",
          "2021-12-15",
          "2021-12-16",
          "2021-12-17",
          "2021-12-18",
          "2021-12-19",
          "2021-12-20",
          "2021-12-21",
          "2021-12-22",
          "2021-12-23",
          "2021-12-24",
          "2021-12-25",
          "2021-12-26",
          "2021-12-27",
          "2021-12-28",
          "2021-12-29",
          "2021-12-30",
          "2021-12-31",
          "2022-01-01",
          "2022-01-02",
          "2022-01-03",
          "2022-01-04",
          "2022-01-05",
          "2022-01-06",
          "2022-01-07",
          "2022-01-08",
          "2022-01-09",
          "2022-01-10",
          "2022-01-11",
          "2022-01-12",
          "2022-01-13",
          "2022-01-14",
          "2022-01-15",
          "2022-01-16",
          "2022-01-17",
          "2022-01-18",
          "2022-01-19",
          "2022-01-20",
          "2022-01-21",
          "2022-01-22",
          "2022-01-23",
          "2022-01-24",
          "2022-01-25",
          "2022-01-26",
          "2022-01-27",
          "2022-01-28",
          "2022-01-29",
          "2022-01-30",
          "2022-01-31",
          "2022-02-01",
          "2022-02-02",
          "2022-02-03",
          "2022-02-04",
          "2022-02-05",
          "2022-02-06",
          "2022-02-07",
          "2022-02-08",
          "2022-02-09",
          "2022-02-10",
          "2022-02-11",
          "2022-02-12",
          "2022-02-13",
          "2022-02-14",
          "2022-02-15",
          "2022-02-16",
          "2022-02-17",
          "2022-02-18",
          "2022-02-19",
          "2022-02-20",
          "2022-02-21",
          "2022-02-22",
          "2022-02-23",
          "2022-02-24",
          "2022-02-25",
          "2022-02-26",
          "2022-02-27",
          "2022-02-28",
          "2022-03-01",
          "2022-03-02",
          "2022-03-03",
          "2022-03-04",
          "2022-03-05"
         ],
         "legendgroup": "",
         "marker": {
          "color": [
           688697,
           648934,
           536299,
           527640,
           643258,
           674732,
           679724,
           707122,
           641449,
           534222,
           543390,
           663527,
           725238,
           741142,
           723922,
           619346,
           537711,
           552687,
           665952,
           692807,
           688172,
           489195,
           515361,
           411392,
           501799,
           673644,
           736808,
           827634,
           574155,
           589174,
           520877,
           558845,
           745033,
           796903,
           891308,
           824282,
           754630,
           587925,
           612887,
           704968,
           750493,
           756188,
           773518,
           651775,
           527259,
           519452,
           591643,
           701100,
           655969,
           664125,
           572983,
           461122,
           480916,
           563317,
           604477,
           610188,
           591507,
           519234,
           387172,
           443175,
           467578,
           526826,
           471108,
           535378,
           433470,
           350905,
           339491,
           408258,
           442192,
           443801,
           430393,
           379004,
           307621,
           281191,
           361248,
           388374,
           410504,
           410229,
           373634,
           317935,
           295118,
           394554,
           447538,
           453067,
           441971,
           395722,
           307312,
           305649,
           389560,
           444298,
           458201,
           449263,
           413303,
           372836,
           303836,
           416798,
           470665,
           480877,
           490166,
           452622,
           362716,
           355005,
           470238,
           550817,
           547404,
           561953,
           496150,
           435153,
           424313,
           520866,
           639441,
           651355,
           639592,
           581483,
           475690,
           460902,
           575345,
           682297,
           708942,
           637820,
           525609,
           556866,
           494966,
           607014,
           684882,
           842852,
           750494,
           665300,
           692683,
           613355,
           783311,
           821435,
           816275,
           855381,
           789589,
           681309,
           694249,
           861185,
           888571,
           902252,
           902534,
           814937,
           724713,
           682649,
           854489,
           904603,
           894527,
           881653,
           794032,
           679159,
           686762,
           801886,
           846518,
           868954,
           831340,
           785875,
           636262,
           626118,
           739465,
           759373,
           731654,
           708774,
           630908,
           544863,
           543596,
           625356,
           673520,
           629259,
           625645,
           571692,
           479180,
           450704,
           534918,
           570349,
           547785,
           504368,
           479473,
           389099,
           386852,
           461324,
           487794,
           479794,
           424990,
           396714,
           322643,
           322082,
           371750,
           418529,
           453177,
           422142,
           368029,
           302411,
           309519,
           375539,
           388892,
           395684,
           403366,
           348193,
           303031,
           296851,
           410391,
           397119,
           408663,
           417739,
           363013,
           310726,
           333249,
           381100,
           399260,
           435424,
           442343,
           374043,
           327874,
           376660,
           451342,
           464924,
           481649,
           513789,
           421501,
           370142,
           433065,
           526116,
           538122,
           576027,
           595329,
           489600,
           421241,
           487613,
           532642,
           555062,
           565222,
           727961,
           490842,
           445145,
           540034,
           606988,
           649846,
           642927,
           731810,
           516272,
           481891,
           572138,
           634230,
           680924,
           684588,
           818927,
           560502,
           466838,
           620743,
           645972,
           729603,
           706654,
           801043,
           551571,
           466417,
           665791,
           681816,
           735598,
           711001,
           785826,
           554650,
           448584,
           687643,
           688092,
           732347,
           739199,
           741206,
           558250,
           445767,
           666781,
           634431,
           726061,
           674948,
           714607,
           495380,
           442346,
           448058,
           701644,
           629537,
           647199,
           639648,
           464452,
           373086,
           587344,
           550410,
           572039,
           584146,
           621984,
           400681,
           365622,
           525356,
           487230,
           540394,
           545718,
           550237,
           377817,
           357311,
           475360,
           454574,
           490640,
           489158,
           521146,
           353898,
           311898,
           438460,
           425784,
           508314,
           461184,
           475693,
           344337,
           319905,
           377869,
           441867,
           457896,
           453842,
           459287,
           347700,
           317645,
           413745,
           447141,
           478318,
           463666,
           488795,
           371622,
           316397,
           427568,
           449586,
           520080,
           463857,
           508971,
           389334,
           346340,
           421008,
           426168,
           538266,
           523859,
           520733,
           426950,
           349453,
           477486,
           488325,
           589183,
           518867,
           595877,
           429817,
           363480,
           538581,
           526831,
           634183,
           615233,
           620493,
           481010,
           403567,
           619817,
           595501,
           673136,
           596745,
           598726,
           460761,
           408721,
           653658,
           623349,
           712931,
           706436,
           717210,
           513407,
           439331,
           591267,
           697340,
           670681,
           727600,
           688074,
           499048,
           439210,
           625949,
           659374,
           744952,
           737302,
           732460,
           581077,
           481753,
           744732,
           797266,
           906982,
           996976,
           856016,
           693331,
           578659,
           1281218,
           1331053,
           1724220,
           1940530,
           1715008,
           1194627,
           911858,
           2422782,
           2525019,
           2564924,
           2632856,
           2926756,
           2143373,
           2011939,
           3164652,
           3088630,
           3519679,
           3169740,
           3280358,
           2448865,
           2146696,
           2697201,
           3788087,
           4206334,
           3691329,
           3810842,
           2718905,
           2417784,
           3476376,
           3659392,
           3830779,
           3695211,
           3600517,
           2654716,
           2262423,
           2756868,
           3296903,
           3214698,
           3162945,
           2924578,
           2225128,
           1816457,
           2543573,
           2842216,
           2455501,
           2766818,
           2386649,
           1827503,
           1451313,
           1790115,
           1790874,
           2419675,
           2033799,
           1940000,
           1552157,
           1266349,
           1457542,
           1805873,
           1939520,
           1755446,
           1591820,
           1328773,
           1065246,
           1403481,
           1536867,
           1651452,
           1887465,
           1704138,
           1361810
          ],
          "coloraxis": "coloraxis",
          "symbol": "circle"
         },
         "mode": "markers",
         "name": "",
         "orientation": "v",
         "showlegend": false,
         "type": "scatter",
         "x": [
          1,
          1,
          1,
          2,
          8,
          10,
          11,
          15,
          15,
          24141,
          28538,
          105105,
          261753,
          531264,
          942806,
          1121787,
          1233269,
          1641091,
          2153891,
          2827079,
          3116268,
          3175561,
          3350688,
          3612579,
          4375562,
          5350751,
          6500387,
          7190291,
          7403599,
          8587657,
          8982522,
          10052652,
          11254168,
          12489634,
          13904439,
          15293020,
          15990402,
          19526357,
          20913443,
          22562250,
          24816154,
          27082162,
          29318771,
          30765838,
          31679306,
          33470709,
          35639752,
          38269171,
          41047537,
          44387239,
          46353970,
          47451101,
          49672195,
          51933554,
          54709947,
          57892387,
          61146947,
          63411332,
          64497626,
          66547208,
          68837186,
          71822165,
          75231405,
          78823363,
          81231767,
          82209932,
          84596553,
          87548988,
          90979594,
          94495334,
          101154308,
          103793147,
          105172484,
          108066910,
          110959868,
          114551510,
          118383878,
          123913293,
          126678996,
          128031847,
          130598565,
          136455852,
          140609864,
          145108153,
          149632006,
          153024039,
          155070553,
          158862688,
          166928959,
          172459251,
          178876668,
          185224047,
          190120327,
          193060574,
          198762286,
          204741031,
          211672853,
          217554764,
          224806764,
          230949907,
          233878040,
          240873229,
          247460129,
          254447215,
          261784813,
          270996563,
          277767619,
          280969524,
          288591112,
          295885194,
          304742442,
          312883238,
          322284198,
          328895618,
          332066639,
          339504637,
          347480409,
          358284863,
          368593938,
          377897604,
          384999282,
          390399736,
          398827966,
          409351992,
          420409894,
          433122780,
          444242122,
          453408654,
          459663805,
          469387706,
          478610942,
          488915972,
          497929253,
          506721508,
          514027105,
          519205245,
          527006836,
          534555417,
          542921754,
          551616139,
          559404449,
          564344078,
          572218872,
          579173413,
          586976563,
          597464905,
          606470507,
          614272241,
          619326888,
          622785119,
          628110384,
          635331635,
          643487202,
          652040959,
          661141838,
          666790775,
          671123273,
          678886818,
          688063302,
          696911483,
          704660525,
          712051912,
          719001847,
          724446583,
          731995454,
          741057115,
          749696228,
          759897031,
          768399333,
          777449549,
          783139700,
          792509402,
          800831615,
          811201958,
          821145559,
          831316496,
          841411846,
          847609938,
          855987753,
          867132356,
          878917636,
          889623382,
          902676679,
          911599963,
          919245340,
          929481595,
          943220535,
          956974458,
          1590962747,
          1603491735,
          1614338732,
          1622906452,
          1633642068,
          1646435492,
          1658932807,
          1674490214,
          1687382750,
          1698452142,
          1708302106,
          1725168126,
          1739369269,
          1751168855,
          1766625368,
          1781225435,
          1794949333,
          1819886437,
          1830102348,
          1843644192,
          1854530357,
          1871457386,
          1880566056,
          1893930862,
          1903482630,
          1917412791,
          1928853742,
          1941837984,
          1958024868,
          1966888518,
          1979006486,
          1986201902,
          1997212613,
          2011906407,
          2025552019,
          2039098489,
          2051252201,
          2061804352,
          2067625202,
          2081006567,
          2093668146,
          2102932121,
          2115843993,
          2127831583,
          2137271441,
          2145321508,
          2161965155,
          2174888493,
          2189103917,
          2204611868,
          2219229780,
          2229283209,
          2244404560,
          2255796255,
          2278823056,
          2296217048,
          2311458131,
          2324472419,
          2335440652,
          2347144175,
          2366668913,
          2381657803,
          2396480983,
          2407765610,
          2428067834,
          2439976034,
          2450333299,
          2468478517,
          2483669217,
          2496988790,
          2509379492,
          2526299619,
          2537845017,
          2546428121,
          2554915021,
          2571538814,
          2588160680,
          3052857729,
          3073150522,
          3086224464,
          3104716630,
          3116929356,
          3131755847,
          3153496029,
          3166806533,
          3177298587,
          3185172739,
          3197334294,
          3230994428,
          3248942397,
          3266970437,
          3290534704,
          3303147053,
          3316557908,
          3332261200,
          3346356494,
          3357564788,
          3370862547,
          3384460397,
          3395328203,
          3423011047,
          3434552934,
          3447235270,
          3462121181,
          3474320381,
          3488459642,
          3501490848,
          3510620384,
          3518726782,
          3543298866,
          3553406189,
          3570114753,
          3584964919,
          3595511812,
          3605284472,
          3618383453,
          3627685056,
          3640733221,
          3650983905,
          3659720860,
          3673460100,
          3681774443,
          3695182232,
          3702973281,
          3712305814,
          3720952115,
          3730924915,
          3737630647,
          3743651515,
          3756150508,
          3767855430,
          3778196476,
          3794921538,
          3810706471,
          3820846632,
          3832148559,
          3840426431,
          3846682396,
          3856262680,
          3863544432,
          3874802178,
          3886939052,
          3897909205,
          3906677709,
          3914142586,
          3921069202,
          3928431711,
          3937721284,
          3947915615,
          3954353658,
          3962220959,
          3969158843,
          3978198150,
          3990637826,
          4007506377,
          4015203526,
          4023510738,
          4031982484,
          4037683552,
          4043656830,
          4051279791,
          4058586320,
          4191827989,
          4201074035,
          4207405352,
          4214534033,
          4222122552,
          4234103535,
          4240256324,
          4249353291,
          4256019788,
          4265756820,
          4276362945,
          4286008360,
          4296513336,
          4320913362,
          4327006767,
          4335700388,
          4343213024,
          4351130088,
          4357026875,
          4366259133,
          4376918453,
          4381652892,
          4392821961,
          4398750543,
          4402910984,
          4410652881,
          4418004833,
          4422508729,
          4430119217,
          4443286717,
          4449234508,
          4458680767,
          4464707430,
          4470125812,
          4478714711,
          4484844838,
          4488540738,
          4491193661,
          4497512962,
          4541636468,
          4547909599,
          4553872749,
          4560707907,
          4565301525,
          4571876974,
          4580774572,
          4593566515,
          4602977736,
          4612960408,
          4626904527,
          4631404840,
          4640268688,
          4662927923,
          4672700475,
          4682824210,
          4691119674,
          4698611640,
          4707981199,
          4715753527,
          4724720898,
          4729643439,
          4741005457,
          4747947363,
          4757254220,
          4763871564,
          4769835112,
          4774347049,
          4779467793,
          4784805726,
          4788495501,
          4796942563,
          4801539242,
          4805646206,
          4810582298,
          4815557190,
          4821123206,
          4824852538,
          4830615184,
          4834284558,
          4839760892,
          4845897167,
          4850572501,
          4855613709,
          4859598729,
          4864443623,
          4867662436,
          4874643290,
          4878006600,
          4883881585,
          4887843916,
          4891108878,
          4903085679,
          4911996780,
          4918692229,
          4927057044,
          4931595730,
          4933531500,
          4936523571,
          4940173111,
          4943215344,
          4946427790,
          4969925021,
          4971171398,
          4972139415,
          4973141082,
          4974733845,
          4976030953
         ],
         "xaxis": "x",
         "y": [
          688697,
          648934,
          536299,
          527640,
          643258,
          674732,
          679724,
          707122,
          641449,
          534222,
          543390,
          663527,
          725238,
          741142,
          723922,
          619346,
          537711,
          552687,
          665952,
          692807,
          688172,
          489195,
          515361,
          411392,
          501799,
          673644,
          736808,
          827634,
          574155,
          589174,
          520877,
          558845,
          745033,
          796903,
          891308,
          824282,
          754630,
          587925,
          612887,
          704968,
          750493,
          756188,
          773518,
          651775,
          527259,
          519452,
          591643,
          701100,
          655969,
          664125,
          572983,
          461122,
          480916,
          563317,
          604477,
          610188,
          591507,
          519234,
          387172,
          443175,
          467578,
          526826,
          471108,
          535378,
          433470,
          350905,
          339491,
          408258,
          442192,
          443801,
          430393,
          379004,
          307621,
          281191,
          361248,
          388374,
          410504,
          410229,
          373634,
          317935,
          295118,
          394554,
          447538,
          453067,
          441971,
          395722,
          307312,
          305649,
          389560,
          444298,
          458201,
          449263,
          413303,
          372836,
          303836,
          416798,
          470665,
          480877,
          490166,
          452622,
          362716,
          355005,
          470238,
          550817,
          547404,
          561953,
          496150,
          435153,
          424313,
          520866,
          639441,
          651355,
          639592,
          581483,
          475690,
          460902,
          575345,
          682297,
          708942,
          637820,
          525609,
          556866,
          494966,
          607014,
          684882,
          842852,
          750494,
          665300,
          692683,
          613355,
          783311,
          821435,
          816275,
          855381,
          789589,
          681309,
          694249,
          861185,
          888571,
          902252,
          902534,
          814937,
          724713,
          682649,
          854489,
          904603,
          894527,
          881653,
          794032,
          679159,
          686762,
          801886,
          846518,
          868954,
          831340,
          785875,
          636262,
          626118,
          739465,
          759373,
          731654,
          708774,
          630908,
          544863,
          543596,
          625356,
          673520,
          629259,
          625645,
          571692,
          479180,
          450704,
          534918,
          570349,
          547785,
          504368,
          479473,
          389099,
          386852,
          461324,
          487794,
          479794,
          424990,
          396714,
          322643,
          322082,
          371750,
          418529,
          453177,
          422142,
          368029,
          302411,
          309519,
          375539,
          388892,
          395684,
          403366,
          348193,
          303031,
          296851,
          410391,
          397119,
          408663,
          417739,
          363013,
          310726,
          333249,
          381100,
          399260,
          435424,
          442343,
          374043,
          327874,
          376660,
          451342,
          464924,
          481649,
          513789,
          421501,
          370142,
          433065,
          526116,
          538122,
          576027,
          595329,
          489600,
          421241,
          487613,
          532642,
          555062,
          565222,
          727961,
          490842,
          445145,
          540034,
          606988,
          649846,
          642927,
          731810,
          516272,
          481891,
          572138,
          634230,
          680924,
          684588,
          818927,
          560502,
          466838,
          620743,
          645972,
          729603,
          706654,
          801043,
          551571,
          466417,
          665791,
          681816,
          735598,
          711001,
          785826,
          554650,
          448584,
          687643,
          688092,
          732347,
          739199,
          741206,
          558250,
          445767,
          666781,
          634431,
          726061,
          674948,
          714607,
          495380,
          442346,
          448058,
          701644,
          629537,
          647199,
          639648,
          464452,
          373086,
          587344,
          550410,
          572039,
          584146,
          621984,
          400681,
          365622,
          525356,
          487230,
          540394,
          545718,
          550237,
          377817,
          357311,
          475360,
          454574,
          490640,
          489158,
          521146,
          353898,
          311898,
          438460,
          425784,
          508314,
          461184,
          475693,
          344337,
          319905,
          377869,
          441867,
          457896,
          453842,
          459287,
          347700,
          317645,
          413745,
          447141,
          478318,
          463666,
          488795,
          371622,
          316397,
          427568,
          449586,
          520080,
          463857,
          508971,
          389334,
          346340,
          421008,
          426168,
          538266,
          523859,
          520733,
          426950,
          349453,
          477486,
          488325,
          589183,
          518867,
          595877,
          429817,
          363480,
          538581,
          526831,
          634183,
          615233,
          620493,
          481010,
          403567,
          619817,
          595501,
          673136,
          596745,
          598726,
          460761,
          408721,
          653658,
          623349,
          712931,
          706436,
          717210,
          513407,
          439331,
          591267,
          697340,
          670681,
          727600,
          688074,
          499048,
          439210,
          625949,
          659374,
          744952,
          737302,
          732460,
          581077,
          481753,
          744732,
          797266,
          906982,
          996976,
          856016,
          693331,
          578659,
          1281218,
          1331053,
          1724220,
          1940530,
          1715008,
          1194627,
          911858,
          2422782,
          2525019,
          2564924,
          2632856,
          2926756,
          2143373,
          2011939,
          3164652,
          3088630,
          3519679,
          3169740,
          3280358,
          2448865,
          2146696,
          2697201,
          3788087,
          4206334,
          3691329,
          3810842,
          2718905,
          2417784,
          3476376,
          3659392,
          3830779,
          3695211,
          3600517,
          2654716,
          2262423,
          2756868,
          3296903,
          3214698,
          3162945,
          2924578,
          2225128,
          1816457,
          2543573,
          2842216,
          2455501,
          2766818,
          2386649,
          1827503,
          1451313,
          1790115,
          1790874,
          2419675,
          2033799,
          1940000,
          1552157,
          1266349,
          1457542,
          1805873,
          1939520,
          1755446,
          1591820,
          1328773,
          1065246,
          1403481,
          1536867,
          1651452,
          1887465,
          1704138,
          1361810
         ],
         "yaxis": "y"
        },
        {
         "hovertemplate": "<b>OLS trendline</b><br>NewCases = 0.000205388 * PeopleVaccinated + 369281<br>R<sup>2</sup>=0.258227<br><br>PeopleVaccinated=%{x}<br>NewCases=%{y} <b>(trend)</b><extra></extra>",
         "legendgroup": "",
         "marker": {
          "symbol": "circle"
         },
         "mode": "lines",
         "name": "",
         "showlegend": false,
         "type": "scatter",
         "x": [
          1,
          1,
          1,
          2,
          8,
          10,
          11,
          15,
          15,
          24141,
          28538,
          105105,
          261753,
          531264,
          942806,
          1121787,
          1233269,
          1641091,
          2153891,
          2827079,
          3116268,
          3175561,
          3350688,
          3612579,
          4375562,
          5350751,
          6500387,
          7190291,
          7403599,
          8587657,
          8982522,
          10052652,
          11254168,
          12489634,
          13904439,
          15293020,
          15990402,
          19526357,
          20913443,
          22562250,
          24816154,
          27082162,
          29318771,
          30765838,
          31679306,
          33470709,
          35639752,
          38269171,
          41047537,
          44387239,
          46353970,
          47451101,
          49672195,
          51933554,
          54709947,
          57892387,
          61146947,
          63411332,
          64497626,
          66547208,
          68837186,
          71822165,
          75231405,
          78823363,
          81231767,
          82209932,
          84596553,
          87548988,
          90979594,
          94495334,
          101154308,
          103793147,
          105172484,
          108066910,
          110959868,
          114551510,
          118383878,
          123913293,
          126678996,
          128031847,
          130598565,
          136455852,
          140609864,
          145108153,
          149632006,
          153024039,
          155070553,
          158862688,
          166928959,
          172459251,
          178876668,
          185224047,
          190120327,
          193060574,
          198762286,
          204741031,
          211672853,
          217554764,
          224806764,
          230949907,
          233878040,
          240873229,
          247460129,
          254447215,
          261784813,
          270996563,
          277767619,
          280969524,
          288591112,
          295885194,
          304742442,
          312883238,
          322284198,
          328895618,
          332066639,
          339504637,
          347480409,
          358284863,
          368593938,
          377897604,
          384999282,
          390399736,
          398827966,
          409351992,
          420409894,
          433122780,
          444242122,
          453408654,
          459663805,
          469387706,
          478610942,
          488915972,
          497929253,
          506721508,
          514027105,
          519205245,
          527006836,
          534555417,
          542921754,
          551616139,
          559404449,
          564344078,
          572218872,
          579173413,
          586976563,
          597464905,
          606470507,
          614272241,
          619326888,
          622785119,
          628110384,
          635331635,
          643487202,
          652040959,
          661141838,
          666790775,
          671123273,
          678886818,
          688063302,
          696911483,
          704660525,
          712051912,
          719001847,
          724446583,
          731995454,
          741057115,
          749696228,
          759897031,
          768399333,
          777449549,
          783139700,
          792509402,
          800831615,
          811201958,
          821145559,
          831316496,
          841411846,
          847609938,
          855987753,
          867132356,
          878917636,
          889623382,
          902676679,
          911599963,
          919245340,
          929481595,
          943220535,
          956974458,
          1590962747,
          1603491735,
          1614338732,
          1622906452,
          1633642068,
          1646435492,
          1658932807,
          1674490214,
          1687382750,
          1698452142,
          1708302106,
          1725168126,
          1739369269,
          1751168855,
          1766625368,
          1781225435,
          1794949333,
          1819886437,
          1830102348,
          1843644192,
          1854530357,
          1871457386,
          1880566056,
          1893930862,
          1903482630,
          1917412791,
          1928853742,
          1941837984,
          1958024868,
          1966888518,
          1979006486,
          1986201902,
          1997212613,
          2011906407,
          2025552019,
          2039098489,
          2051252201,
          2061804352,
          2067625202,
          2081006567,
          2093668146,
          2102932121,
          2115843993,
          2127831583,
          2137271441,
          2145321508,
          2161965155,
          2174888493,
          2189103917,
          2204611868,
          2219229780,
          2229283209,
          2244404560,
          2255796255,
          2278823056,
          2296217048,
          2311458131,
          2324472419,
          2335440652,
          2347144175,
          2366668913,
          2381657803,
          2396480983,
          2407765610,
          2428067834,
          2439976034,
          2450333299,
          2468478517,
          2483669217,
          2496988790,
          2509379492,
          2526299619,
          2537845017,
          2546428121,
          2554915021,
          2571538814,
          2588160680,
          3052857729,
          3073150522,
          3086224464,
          3104716630,
          3116929356,
          3131755847,
          3153496029,
          3166806533,
          3177298587,
          3185172739,
          3197334294,
          3230994428,
          3248942397,
          3266970437,
          3290534704,
          3303147053,
          3316557908,
          3332261200,
          3346356494,
          3357564788,
          3370862547,
          3384460397,
          3395328203,
          3423011047,
          3434552934,
          3447235270,
          3462121181,
          3474320381,
          3488459642,
          3501490848,
          3510620384,
          3518726782,
          3543298866,
          3553406189,
          3570114753,
          3584964919,
          3595511812,
          3605284472,
          3618383453,
          3627685056,
          3640733221,
          3650983905,
          3659720860,
          3673460100,
          3681774443,
          3695182232,
          3702973281,
          3712305814,
          3720952115,
          3730924915,
          3737630647,
          3743651515,
          3756150508,
          3767855430,
          3778196476,
          3794921538,
          3810706471,
          3820846632,
          3832148559,
          3840426431,
          3846682396,
          3856262680,
          3863544432,
          3874802178,
          3886939052,
          3897909205,
          3906677709,
          3914142586,
          3921069202,
          3928431711,
          3937721284,
          3947915615,
          3954353658,
          3962220959,
          3969158843,
          3978198150,
          3990637826,
          4007506377,
          4015203526,
          4023510738,
          4031982484,
          4037683552,
          4043656830,
          4051279791,
          4058586320,
          4191827989,
          4201074035,
          4207405352,
          4214534033,
          4222122552,
          4234103535,
          4240256324,
          4249353291,
          4256019788,
          4265756820,
          4276362945,
          4286008360,
          4296513336,
          4320913362,
          4327006767,
          4335700388,
          4343213024,
          4351130088,
          4357026875,
          4366259133,
          4376918453,
          4381652892,
          4392821961,
          4398750543,
          4402910984,
          4410652881,
          4418004833,
          4422508729,
          4430119217,
          4443286717,
          4449234508,
          4458680767,
          4464707430,
          4470125812,
          4478714711,
          4484844838,
          4488540738,
          4491193661,
          4497512962,
          4541636468,
          4547909599,
          4553872749,
          4560707907,
          4565301525,
          4571876974,
          4580774572,
          4593566515,
          4602977736,
          4612960408,
          4626904527,
          4631404840,
          4640268688,
          4662927923,
          4672700475,
          4682824210,
          4691119674,
          4698611640,
          4707981199,
          4715753527,
          4724720898,
          4729643439,
          4741005457,
          4747947363,
          4757254220,
          4763871564,
          4769835112,
          4774347049,
          4779467793,
          4784805726,
          4788495501,
          4796942563,
          4801539242,
          4805646206,
          4810582298,
          4815557190,
          4821123206,
          4824852538,
          4830615184,
          4834284558,
          4839760892,
          4845897167,
          4850572501,
          4855613709,
          4859598729,
          4864443623,
          4867662436,
          4874643290,
          4878006600,
          4883881585,
          4887843916,
          4891108878,
          4903085679,
          4911996780,
          4918692229,
          4927057044,
          4931595730,
          4933531500,
          4936523571,
          4940173111,
          4943215344,
          4946427790,
          4969925021,
          4971171398,
          4972139415,
          4973141082,
          4974733845,
          4976030953
         ],
         "xaxis": "x",
         "y": [
          369280.8827642987,
          369280.8827642987,
          369280.8827642987,
          369280.88296968665,
          369280.88420201454,
          369280.8846127905,
          369280.8848181785,
          369280.88563973043,
          369280.88563973043,
          369285.8408301595,
          369286.7439211118,
          369302.46986265125,
          369334.64347909536,
          369389.9977992364,
          369474.5235797036,
          369511.28412592685,
          369534.1811888221,
          369617.94292600005,
          369723.26588264504,
          369861.5306067829,
          369920.9265516136,
          369933.1046211697,
          369969.0736021142,
          370022.86286584026,
          370179.57040373,
          370379.86250351084,
          370615.98392040917,
          370757.68191003706,
          370801.4928094833,
          371044.68409146287,
          371125.78461657127,
          371345.5764566541,
          371592.35340200557,
          371846.10326931113,
          372136.68721173715,
          372421.88505975006,
          372565.1189406997,
          373291.36159897485,
          373576.25239195616,
          373914.8975327068,
          374377.82232458255,
          374843.23313258,
          375302.6057393248,
          375599.81590879307,
          375787.4312570001,
          376155.36390228604,
          376600.8592647081,
          377140.9103242604,
          377711.55330741534,
          378397.4879582598,
          378801.4308674745,
          379026.7683884317,
          379482.95440065156,
          379947.41035992553,
          380517.6481125939,
          381171.28303877404,
          381839.7305461422,
          382304.8080094466,
          382527.91974085395,
          382948.8792496805,
          383419.21320758207,
          384032.2920176505,
          384732.5089379162,
          385470.25393929,
          385964.91117422667,
          386165.814508639,
          386655.99777718604,
          387262.39244080154,
          387966.99768066884,
          388689.08842090855,
          390056.7616461462,
          390598.7474604793,
          390882.04670199606,
          391476.5270142231,
          392070.7058168941,
          392808.3859156659,
          393595.5082415464,
          394731.18362437974,
          395299.2257795315,
          395577.0851149841,
          396104.25814274116,
          397307.2744936734,
          398160.45863130724,
          399084.35312686785,
          400013.4981607741,
          400710.18097005115,
          401130.5103485521,
          401909.36929979397,
          403566.08441449644,
          404701.93992258917,
          406020.000243306,
          407323.6756006112,
          408329.31266410876,
          408933.2040590121,
          410104.2671748039,
          411332.22953912965,
          412755.9424642009,
          413964.0162887767,
          415453.4899268212,
          416715.2176644436,
          417316.6209893454,
          418753.3487346072,
          420106.21882650396,
          421541.28231295594,
          423048.33675139607,
          424940.31948516006,
          426331.0130060816,
          426988.6458093114,
          428554.0283804692,
          430052.14515552914,
          431871.31743926083,
          433543.3390932456,
          435474.1832868903,
          436832.08949208056,
          437483.3790929059,
          439011.0544846361,
          440649.1821924482,
          442868.28718506603,
          444985.6472850554,
          446896.50846047886,
          448355.10776644695,
          449464.2961098656,
          451195.3532527745,
          453356.8617046629,
          455628.02187028335,
          458239.09585821285,
          460522.8750613845,
          462405.57056142465,
          463690.30339602026,
          465687.4757896295,
          467581.817609743,
          469698.34691534936,
          471549.56650191685,
          473355.39000460086,
          474855.87182226183,
          475919.39954207756,
          477521.75256597507,
          479072.1403768057,
          480790.485441408,
          482576.20762239385,
          484175.8328885161,
          485190.373315601,
          486807.76135587,
          488236.14049048105,
          489838.81371424097,
          491992.9931014162,
          493842.6355136777,
          495445.01790805656,
          496483.1816499375,
          497193.46073277923,
          498287.2061592962,
          499770.36432231363,
          501445.41976216546,
          503202.2586421625,
          505071.46980508754,
          506231.69357018324,
          507121.53658698977,
          508716.07541976304,
          510600.81494098983,
          512418.12497189804,
          514009.6850627832,
          515527.78711533215,
          516955.2202329028,
          518073.5035668951,
          519623.9509402402,
          521485.1071973273,
          523259.4771738285,
          525354.5995063416,
          527100.8701477775,
          528959.6757394223,
          530128.364364766,
          532052.7885409013,
          533762.071066231,
          535892.0148770389,
          537934.3110100687,
          540023.299225142,
          542096.7627788972,
          543369.7763806863,
          545090.4788885342,
          547379.4463974934,
          549800.0012619408,
          551998.8328177324,
          554679.8231336542,
          556512.5584180977,
          558082.8269639348,
          560185.2307111495,
          563007.0438585123,
          565831.934333994,
          696045.5089747036,
          698618.8125237075,
          700846.6553371999,
          702606.3620495754,
          704811.3285443587,
          707438.9440695001,
          710005.7423649824,
          713201.0467779483,
          715849.0187166603,
          718122.5387901822,
          720145.6030088373,
          723609.6808037533,
          726526.4248920876,
          728949.9180369908,
          732124.500035004,
          735123.1783182615,
          737941.9020196145,
          743063.6834615854,
          745161.9087957151,
          747943.2407935793,
          750179.1282435106,
          753655.7365537581,
          755526.5478944429,
          758271.5184149309,
          760233.3367592108,
          763094.424401684,
          765444.2582280296,
          768111.065476925,
          771435.6568999924,
          773256.1440775782,
          775745.0290586408,
          777222.8810231697,
          779484.3487245799,
          782502.2774071305,
          785304.9221050045,
          788087.2042276687,
          790583.4305967235,
          792750.7155855768,
          793946.2482146462,
          796694.6197547112,
          799295.1559015007,
          801197.8650225712,
          803849.8083432834,
          806311.9152501621,
          808250.7486254908,
          809904.1356333497,
          813322.5406867719,
          815976.8389860739,
          818896.5162201645,
          822081.6629651432,
          825084.0063969211,
          827148.8598811259,
          830254.6036326588,
          832594.3208686134,
          837323.7490343603,
          840896.2659323687,
          844026.6011976401,
          846699.5795338119,
          848952.3227645662,
          851356.085723853,
          855366.2322407758,
          858444.7700949607,
          861489.2731068179,
          863806.9998624253,
          867976.832659126,
          870422.6338141952,
          872549.8915609879,
          876276.7012503936,
          879396.6884530194,
          882132.3686589638,
          884677.2699256302,
          888152.4606480331,
          890523.7466328277,
          892286.6130339025,
          894029.7202896553,
          897444.0475701033,
          900857.9790679119,
          996301.1677279456,
          1000469.0635105977,
          1003154.2940613867,
          1006952.3627000165,
          1009460.7098353805,
          1012505.8928868428,
          1016971.0649738931,
          1019704.8825162381,
          1021859.8243035986,
          1023477.080484784,
          1025974.9177117734,
          1032888.3046734454,
          1036574.6017889914,
          1040277.3445255621,
          1045117.1617478929,
          1047707.5866443787,
          1050462.0150760028,
          1053687.2825145735,
          1056582.2864905093,
          1058884.3353653648,
          1061615.535237892,
          1064408.3701950188,
          1066640.4869270076,
          1072326.210363866,
          1074696.7752314596,
          1077301.5746165703,
          1080358.961821862,
          1082864.5308793955,
          1085768.565148691,
          1088445.018238725,
          1090320.1152050209,
          1091985.0719232361,
          1097031.882644391,
          1099107.8053084423,
          1102539.5435334255,
          1105589.5891453375,
          1107755.7942041869,
          1109762.9811103605,
          1112453.3543708052,
          1114363.791830824,
          1117043.7280956274,
          1119149.0953860197,
          1120943.5609333557,
          1123765.4356971127,
          1125473.101819032,
          1128226.9005311064,
          1129827.0883549086,
          1131743.878465179,
          1133519.7247704873,
          1135568.0180271738,
          1136945.294783626,
          1138181.9087058743,
          1140749.0516423888,
          1143153.101939461,
          1145277.0284985902,
          1148712.1552144836,
          1151954.1907332093,
          1154036.8579277801,
          1156358.1378954584,
          1158058.3133123235,
          1159343.2133327357,
          1161310.888520681,
          1162806.4728619356,
          1165118.6785832264,
          1167611.4466294574,
          1169864.584205135,
          1171665.529537883,
          1173198.7255531538,
          1174621.369228396,
          1176133.5400868303,
          1178041.506729438,
          1180135.2997909382,
          1181457.5964441507,
          1183073.445512278,
          1184498.40349929,
          1186354.9685134504,
          1188909.928451097,
          1192374.526082993,
          1193955.4279753815,
          1195661.6294756085,
          1197401.6242818977,
          1198572.5551278298,
          1199799.3946360634,
          1201365.059204919,
          1202865.7324441783,
          1230231.9698220806,
          1232130.9965420403,
          1233431.372957595,
          1234895.5183552133,
          1236454.1089512282,
          1238914.8588597167,
          1240178.5677698036,
          1242046.9754549472,
          1243416.1938139657,
          1245416.063157153,
          1247594.4337568919,
          1249575.4860694262,
          1251733.0818802768,
          1256744.5539562008,
          1257996.0661064254,
          1259781.6313709936,
          1261324.636510848,
          1262950.7063010728,
          1264161.8354772537,
          1266058.0303077316,
          1268247.3265211184,
          1269219.7233883867,
          1271513.7159196883,
          1272731.3754067242,
          1273585.8799836878,
          1275175.972577449,
          1276685.975154968,
          1277611.021260938,
          1279174.124025507,
          1281878.5702650202,
          1283100.1750497827,
          1285040.3231135777,
          1286278.1272591758,
          1287390.9977983173,
          1289155.054422742,
          1290414.108830404,
          1291173.2022692964,
          1291718.0807679535,
          1293015.989241529,
          1302078.427052491,
          1303366.8527629846,
          1304591.612101747,
          1305995.471403025,
          1306938.9453294242,
          1308289.463523551,
          1310116.923212315,
          1312744.2345578566,
          1314677.186237574,
          1316727.5070844085,
          1319591.4615323204,
          1320515.7717331543,
          1322336.2995775605,
          1326990.2341046915,
          1328997.3988289633,
          1331076.6923205585,
          1332780.4809227851,
          1334319.2406930728,
          1336243.6354987267,
          1337839.9782541369,
          1339681.7684784976,
          1340692.7992357637,
          1343026.421172607,
          1344452.2052300784,
          1346363.721798549,
          1347722.8447221387,
          1348947.6858053175,
          1349874.3834360423,
          1350926.122707302,
          1352022.469988762,
          1352780.3054262712,
          1354515.2304356378,
          1355459.3330546466,
          1356302.8540985514,
          1357316.6680683477,
          1358338.451091806,
          1359481.643880131,
          1360247.6038500036,
          1361431.182077028,
          1362184.8273943372,
          1363309.6005777523,
          1364569.9177107215,
          1365530.1751213742,
          1366565.5786541787,
          1367384.0538661312,
          1368379.1368628384,
          1369040.2423660506,
          1370474.0258746052,
          1371164.8093249046,
          1372371.460632324,
          1373185.2757963762,
          1373855.8597495225,
          1376315.7507254747,
          1378145.9837681458,
          1379521.1485199898,
          1381239.180984085,
          1382171.372537913,
          1382568.9564298487,
          1383183.4918514783,
          1383933.0635035727,
          1384557.901597104,
          1385217.6993950414,
          1390043.7482286792,
          1390299.7390842452,
          1390498.5581414266,
          1390704.2885041677,
          1391031.4228809124,
          1391297.8332741414
         ],
         "yaxis": "y"
        }
       ],
       "layout": {
        "coloraxis": {
         "colorbar": {
          "title": {
           "text": "NewCases"
          }
         },
         "colorscale": [
          [
           0,
           "#440154"
          ],
          [
           0.1111111111111111,
           "#482878"
          ],
          [
           0.2222222222222222,
           "#3e4989"
          ],
          [
           0.3333333333333333,
           "#31688e"
          ],
          [
           0.4444444444444444,
           "#26828e"
          ],
          [
           0.5555555555555556,
           "#1f9e89"
          ],
          [
           0.6666666666666666,
           "#35b779"
          ],
          [
           0.7777777777777778,
           "#6ece58"
          ],
          [
           0.8888888888888888,
           "#b5de2b"
          ],
          [
           1,
           "#fde725"
          ]
         ]
        },
        "legend": {
         "tracegroupgap": 0
        },
        "template": {
         "data": {
          "bar": [
           {
            "error_x": {
             "color": "#2a3f5f"
            },
            "error_y": {
             "color": "#2a3f5f"
            },
            "marker": {
             "line": {
              "color": "#E5ECF6",
              "width": 0.5
             },
             "pattern": {
              "fillmode": "overlay",
              "size": 10,
              "solidity": 0.2
             }
            },
            "type": "bar"
           }
          ],
          "barpolar": [
           {
            "marker": {
             "line": {
              "color": "#E5ECF6",
              "width": 0.5
             },
             "pattern": {
              "fillmode": "overlay",
              "size": 10,
              "solidity": 0.2
             }
            },
            "type": "barpolar"
           }
          ],
          "carpet": [
           {
            "aaxis": {
             "endlinecolor": "#2a3f5f",
             "gridcolor": "white",
             "linecolor": "white",
             "minorgridcolor": "white",
             "startlinecolor": "#2a3f5f"
            },
            "baxis": {
             "endlinecolor": "#2a3f5f",
             "gridcolor": "white",
             "linecolor": "white",
             "minorgridcolor": "white",
             "startlinecolor": "#2a3f5f"
            },
            "type": "carpet"
           }
          ],
          "choropleth": [
           {
            "colorbar": {
             "outlinewidth": 0,
             "ticks": ""
            },
            "type": "choropleth"
           }
          ],
          "contour": [
           {
            "colorbar": {
             "outlinewidth": 0,
             "ticks": ""
            },
            "colorscale": [
             [
              0,
              "#0d0887"
             ],
             [
              0.1111111111111111,
              "#46039f"
             ],
             [
              0.2222222222222222,
              "#7201a8"
             ],
             [
              0.3333333333333333,
              "#9c179e"
             ],
             [
              0.4444444444444444,
              "#bd3786"
             ],
             [
              0.5555555555555556,
              "#d8576b"
             ],
             [
              0.6666666666666666,
              "#ed7953"
             ],
             [
              0.7777777777777778,
              "#fb9f3a"
             ],
             [
              0.8888888888888888,
              "#fdca26"
             ],
             [
              1,
              "#f0f921"
             ]
            ],
            "type": "contour"
           }
          ],
          "contourcarpet": [
           {
            "colorbar": {
             "outlinewidth": 0,
             "ticks": ""
            },
            "type": "contourcarpet"
           }
          ],
          "heatmap": [
           {
            "colorbar": {
             "outlinewidth": 0,
             "ticks": ""
            },
            "colorscale": [
             [
              0,
              "#0d0887"
             ],
             [
              0.1111111111111111,
              "#46039f"
             ],
             [
              0.2222222222222222,
              "#7201a8"
             ],
             [
              0.3333333333333333,
              "#9c179e"
             ],
             [
              0.4444444444444444,
              "#bd3786"
             ],
             [
              0.5555555555555556,
              "#d8576b"
             ],
             [
              0.6666666666666666,
              "#ed7953"
             ],
             [
              0.7777777777777778,
              "#fb9f3a"
             ],
             [
              0.8888888888888888,
              "#fdca26"
             ],
             [
              1,
              "#f0f921"
             ]
            ],
            "type": "heatmap"
           }
          ],
          "heatmapgl": [
           {
            "colorbar": {
             "outlinewidth": 0,
             "ticks": ""
            },
            "colorscale": [
             [
              0,
              "#0d0887"
             ],
             [
              0.1111111111111111,
              "#46039f"
             ],
             [
              0.2222222222222222,
              "#7201a8"
             ],
             [
              0.3333333333333333,
              "#9c179e"
             ],
             [
              0.4444444444444444,
              "#bd3786"
             ],
             [
              0.5555555555555556,
              "#d8576b"
             ],
             [
              0.6666666666666666,
              "#ed7953"
             ],
             [
              0.7777777777777778,
              "#fb9f3a"
             ],
             [
              0.8888888888888888,
              "#fdca26"
             ],
             [
              1,
              "#f0f921"
             ]
            ],
            "type": "heatmapgl"
           }
          ],
          "histogram": [
           {
            "marker": {
             "pattern": {
              "fillmode": "overlay",
              "size": 10,
              "solidity": 0.2
             }
            },
            "type": "histogram"
           }
          ],
          "histogram2d": [
           {
            "colorbar": {
             "outlinewidth": 0,
             "ticks": ""
            },
            "colorscale": [
             [
              0,
              "#0d0887"
             ],
             [
              0.1111111111111111,
              "#46039f"
             ],
             [
              0.2222222222222222,
              "#7201a8"
             ],
             [
              0.3333333333333333,
              "#9c179e"
             ],
             [
              0.4444444444444444,
              "#bd3786"
             ],
             [
              0.5555555555555556,
              "#d8576b"
             ],
             [
              0.6666666666666666,
              "#ed7953"
             ],
             [
              0.7777777777777778,
              "#fb9f3a"
             ],
             [
              0.8888888888888888,
              "#fdca26"
             ],
             [
              1,
              "#f0f921"
             ]
            ],
            "type": "histogram2d"
           }
          ],
          "histogram2dcontour": [
           {
            "colorbar": {
             "outlinewidth": 0,
             "ticks": ""
            },
            "colorscale": [
             [
              0,
              "#0d0887"
             ],
             [
              0.1111111111111111,
              "#46039f"
             ],
             [
              0.2222222222222222,
              "#7201a8"
             ],
             [
              0.3333333333333333,
              "#9c179e"
             ],
             [
              0.4444444444444444,
              "#bd3786"
             ],
             [
              0.5555555555555556,
              "#d8576b"
             ],
             [
              0.6666666666666666,
              "#ed7953"
             ],
             [
              0.7777777777777778,
              "#fb9f3a"
             ],
             [
              0.8888888888888888,
              "#fdca26"
             ],
             [
              1,
              "#f0f921"
             ]
            ],
            "type": "histogram2dcontour"
           }
          ],
          "mesh3d": [
           {
            "colorbar": {
             "outlinewidth": 0,
             "ticks": ""
            },
            "type": "mesh3d"
           }
          ],
          "parcoords": [
           {
            "line": {
             "colorbar": {
              "outlinewidth": 0,
              "ticks": ""
             }
            },
            "type": "parcoords"
           }
          ],
          "pie": [
           {
            "automargin": true,
            "type": "pie"
           }
          ],
          "scatter": [
           {
            "fillpattern": {
             "fillmode": "overlay",
             "size": 10,
             "solidity": 0.2
            },
            "type": "scatter"
           }
          ],
          "scatter3d": [
           {
            "line": {
             "colorbar": {
              "outlinewidth": 0,
              "ticks": ""
             }
            },
            "marker": {
             "colorbar": {
              "outlinewidth": 0,
              "ticks": ""
             }
            },
            "type": "scatter3d"
           }
          ],
          "scattercarpet": [
           {
            "marker": {
             "colorbar": {
              "outlinewidth": 0,
              "ticks": ""
             }
            },
            "type": "scattercarpet"
           }
          ],
          "scattergeo": [
           {
            "marker": {
             "colorbar": {
              "outlinewidth": 0,
              "ticks": ""
             }
            },
            "type": "scattergeo"
           }
          ],
          "scattergl": [
           {
            "marker": {
             "colorbar": {
              "outlinewidth": 0,
              "ticks": ""
             }
            },
            "type": "scattergl"
           }
          ],
          "scattermapbox": [
           {
            "marker": {
             "colorbar": {
              "outlinewidth": 0,
              "ticks": ""
             }
            },
            "type": "scattermapbox"
           }
          ],
          "scatterpolar": [
           {
            "marker": {
             "colorbar": {
              "outlinewidth": 0,
              "ticks": ""
             }
            },
            "type": "scatterpolar"
           }
          ],
          "scatterpolargl": [
           {
            "marker": {
             "colorbar": {
              "outlinewidth": 0,
              "ticks": ""
             }
            },
            "type": "scatterpolargl"
           }
          ],
          "scatterternary": [
           {
            "marker": {
             "colorbar": {
              "outlinewidth": 0,
              "ticks": ""
             }
            },
            "type": "scatterternary"
           }
          ],
          "surface": [
           {
            "colorbar": {
             "outlinewidth": 0,
             "ticks": ""
            },
            "colorscale": [
             [
              0,
              "#0d0887"
             ],
             [
              0.1111111111111111,
              "#46039f"
             ],
             [
              0.2222222222222222,
              "#7201a8"
             ],
             [
              0.3333333333333333,
              "#9c179e"
             ],
             [
              0.4444444444444444,
              "#bd3786"
             ],
             [
              0.5555555555555556,
              "#d8576b"
             ],
             [
              0.6666666666666666,
              "#ed7953"
             ],
             [
              0.7777777777777778,
              "#fb9f3a"
             ],
             [
              0.8888888888888888,
              "#fdca26"
             ],
             [
              1,
              "#f0f921"
             ]
            ],
            "type": "surface"
           }
          ],
          "table": [
           {
            "cells": {
             "fill": {
              "color": "#EBF0F8"
             },
             "line": {
              "color": "white"
             }
            },
            "header": {
             "fill": {
              "color": "#C8D4E3"
             },
             "line": {
              "color": "white"
             }
            },
            "type": "table"
           }
          ]
         },
         "layout": {
          "annotationdefaults": {
           "arrowcolor": "#2a3f5f",
           "arrowhead": 0,
           "arrowwidth": 1
          },
          "autotypenumbers": "strict",
          "coloraxis": {
           "colorbar": {
            "outlinewidth": 0,
            "ticks": ""
           }
          },
          "colorscale": {
           "diverging": [
            [
             0,
             "#8e0152"
            ],
            [
             0.1,
             "#c51b7d"
            ],
            [
             0.2,
             "#de77ae"
            ],
            [
             0.3,
             "#f1b6da"
            ],
            [
             0.4,
             "#fde0ef"
            ],
            [
             0.5,
             "#f7f7f7"
            ],
            [
             0.6,
             "#e6f5d0"
            ],
            [
             0.7,
             "#b8e186"
            ],
            [
             0.8,
             "#7fbc41"
            ],
            [
             0.9,
             "#4d9221"
            ],
            [
             1,
             "#276419"
            ]
           ],
           "sequential": [
            [
             0,
             "#0d0887"
            ],
            [
             0.1111111111111111,
             "#46039f"
            ],
            [
             0.2222222222222222,
             "#7201a8"
            ],
            [
             0.3333333333333333,
             "#9c179e"
            ],
            [
             0.4444444444444444,
             "#bd3786"
            ],
            [
             0.5555555555555556,
             "#d8576b"
            ],
            [
             0.6666666666666666,
             "#ed7953"
            ],
            [
             0.7777777777777778,
             "#fb9f3a"
            ],
            [
             0.8888888888888888,
             "#fdca26"
            ],
            [
             1,
             "#f0f921"
            ]
           ],
           "sequentialminus": [
            [
             0,
             "#0d0887"
            ],
            [
             0.1111111111111111,
             "#46039f"
            ],
            [
             0.2222222222222222,
             "#7201a8"
            ],
            [
             0.3333333333333333,
             "#9c179e"
            ],
            [
             0.4444444444444444,
             "#bd3786"
            ],
            [
             0.5555555555555556,
             "#d8576b"
            ],
            [
             0.6666666666666666,
             "#ed7953"
            ],
            [
             0.7777777777777778,
             "#fb9f3a"
            ],
            [
             0.8888888888888888,
             "#fdca26"
            ],
            [
             1,
             "#f0f921"
            ]
           ]
          },
          "colorway": [
           "#636efa",
           "#EF553B",
           "#00cc96",
           "#ab63fa",
           "#FFA15A",
           "#19d3f3",
           "#FF6692",
           "#B6E880",
           "#FF97FF",
           "#FECB52"
          ],
          "font": {
           "color": "#2a3f5f"
          },
          "geo": {
           "bgcolor": "white",
           "lakecolor": "white",
           "landcolor": "#E5ECF6",
           "showlakes": true,
           "showland": true,
           "subunitcolor": "white"
          },
          "hoverlabel": {
           "align": "left"
          },
          "hovermode": "closest",
          "mapbox": {
           "style": "light"
          },
          "paper_bgcolor": "white",
          "plot_bgcolor": "#E5ECF6",
          "polar": {
           "angularaxis": {
            "gridcolor": "white",
            "linecolor": "white",
            "ticks": ""
           },
           "bgcolor": "#E5ECF6",
           "radialaxis": {
            "gridcolor": "white",
            "linecolor": "white",
            "ticks": ""
           }
          },
          "scene": {
           "xaxis": {
            "backgroundcolor": "#E5ECF6",
            "gridcolor": "white",
            "gridwidth": 2,
            "linecolor": "white",
            "showbackground": true,
            "ticks": "",
            "zerolinecolor": "white"
           },
           "yaxis": {
            "backgroundcolor": "#E5ECF6",
            "gridcolor": "white",
            "gridwidth": 2,
            "linecolor": "white",
            "showbackground": true,
            "ticks": "",
            "zerolinecolor": "white"
           },
           "zaxis": {
            "backgroundcolor": "#E5ECF6",
            "gridcolor": "white",
            "gridwidth": 2,
            "linecolor": "white",
            "showbackground": true,
            "ticks": "",
            "zerolinecolor": "white"
           }
          },
          "shapedefaults": {
           "line": {
            "color": "#2a3f5f"
           }
          },
          "ternary": {
           "aaxis": {
            "gridcolor": "white",
            "linecolor": "white",
            "ticks": ""
           },
           "baxis": {
            "gridcolor": "white",
            "linecolor": "white",
            "ticks": ""
           },
           "bgcolor": "#E5ECF6",
           "caxis": {
            "gridcolor": "white",
            "linecolor": "white",
            "ticks": ""
           }
          },
          "title": {
           "x": 0.05
          },
          "xaxis": {
           "automargin": true,
           "gridcolor": "white",
           "linecolor": "white",
           "ticks": "",
           "title": {
            "standoff": 15
           },
           "zerolinecolor": "white",
           "zerolinewidth": 2
          },
          "yaxis": {
           "automargin": true,
           "gridcolor": "white",
           "linecolor": "white",
           "ticks": "",
           "title": {
            "standoff": 15
           },
           "zerolinecolor": "white",
           "zerolinewidth": 2
          }
         }
        },
        "title": {
         "text": "Biểu đồ thể hiện sự tương quan giữa tổng số người tiêm vaccine và số ca mắc mới mỗi ngày trên thế giới"
        },
        "xaxis": {
         "anchor": "y",
         "domain": [
          0,
          1
         ],
         "title": {
          "text": "PeopleVaccinated"
         }
        },
        "yaxis": {
         "anchor": "x",
         "domain": [
          0,
          1
         ],
         "title": {
          "text": "NewCases"
         }
        }
       }
      }
     },
     "metadata": {},
     "output_type": "display_data"
    }
   ],
   "source": [
    "plot_scatter(covid_world_after_vaccine, \"PeopleVaccinated\", \"NewCases\", \"Biểu đồ thể hiện sự tương quan giữa tổng số người tiêm vaccine và số ca mắc mới mỗi ngày trên thế giới\", \"Date\")"
   ]
  },
  {
   "cell_type": "code",
   "execution_count": 221,
   "metadata": {},
   "outputs": [
    {
     "name": "stdout",
     "output_type": "stream",
     "text": [
      "Tuy hệ số tương quan R = 0.5081608318814392 không mạnh nhưng đường tuyến tính là đồng biến, ta vẫn có thể thấy số ca mắc mới mỗi ngày vẫn tăng khi số lượng người thực hiện tiêm vaccine tăng lên.\n",
      "Tuy nhiên, để đánh giá mức độ giúp ích của vaccine, ta hãy xét về số ca tử vong mỗi ngày sau khi tiến hành tiêm vaccine.\n"
     ]
    }
   ],
   "source": [
    "res = stats.linregress(covid_world_after_vaccine[\"PeopleVaccinated\"],covid_world_after_vaccine[\"NewCases\"])\n",
    "print(f\"Tuy hệ số tương quan R = {res.rvalue} không mạnh nhưng đường tuyến tính là đồng biến, ta vẫn có thể thấy số ca mắc mới mỗi ngày vẫn tăng khi số lượng người thực hiện tiêm vaccine tăng lên.\")\n",
    "print(f\"Tuy nhiên, để đánh giá mức độ giúp ích của vaccine, ta hãy xét về số ca tử vong mỗi ngày sau khi tiến hành tiêm vaccine.\")"
   ]
  },
  {
   "cell_type": "code",
   "execution_count": 222,
   "metadata": {},
   "outputs": [
    {
     "data": {
      "application/vnd.plotly.v1+json": {
       "config": {
        "plotlyServerURL": "https://plot.ly"
       },
       "data": [
        {
         "hovertemplate": "<b>%{hovertext}</b><br><br>PeopleVaccinated=%{x}<br>NewDeaths=%{marker.color}<extra></extra>",
         "hovertext": [
          "2020-12-04",
          "2020-12-05",
          "2020-12-06",
          "2020-12-07",
          "2020-12-08",
          "2020-12-09",
          "2020-12-10",
          "2020-12-11",
          "2020-12-12",
          "2020-12-13",
          "2020-12-14",
          "2020-12-15",
          "2020-12-16",
          "2020-12-17",
          "2020-12-18",
          "2020-12-19",
          "2020-12-20",
          "2020-12-21",
          "2020-12-22",
          "2020-12-23",
          "2020-12-24",
          "2020-12-25",
          "2020-12-26",
          "2020-12-27",
          "2020-12-28",
          "2020-12-29",
          "2020-12-30",
          "2020-12-31",
          "2021-01-01",
          "2021-01-02",
          "2021-01-03",
          "2021-01-04",
          "2021-01-05",
          "2021-01-06",
          "2021-01-07",
          "2021-01-08",
          "2021-01-09",
          "2021-01-10",
          "2021-01-11",
          "2021-01-12",
          "2021-01-13",
          "2021-01-14",
          "2021-01-15",
          "2021-01-16",
          "2021-01-17",
          "2021-01-18",
          "2021-01-19",
          "2021-01-20",
          "2021-01-21",
          "2021-01-22",
          "2021-01-23",
          "2021-01-24",
          "2021-01-25",
          "2021-01-26",
          "2021-01-27",
          "2021-01-28",
          "2021-01-29",
          "2021-01-30",
          "2021-01-31",
          "2021-02-01",
          "2021-02-02",
          "2021-02-03",
          "2021-02-04",
          "2021-02-05",
          "2021-02-06",
          "2021-02-07",
          "2021-02-08",
          "2021-02-09",
          "2021-02-10",
          "2021-02-11",
          "2021-02-12",
          "2021-02-13",
          "2021-02-14",
          "2021-02-15",
          "2021-02-16",
          "2021-02-17",
          "2021-02-18",
          "2021-02-19",
          "2021-02-20",
          "2021-02-21",
          "2021-02-22",
          "2021-02-23",
          "2021-02-24",
          "2021-02-25",
          "2021-02-26",
          "2021-02-27",
          "2021-02-28",
          "2021-03-01",
          "2021-03-02",
          "2021-03-03",
          "2021-03-04",
          "2021-03-05",
          "2021-03-06",
          "2021-03-07",
          "2021-03-08",
          "2021-03-09",
          "2021-03-10",
          "2021-03-11",
          "2021-03-12",
          "2021-03-13",
          "2021-03-14",
          "2021-03-15",
          "2021-03-16",
          "2021-03-17",
          "2021-03-18",
          "2021-03-19",
          "2021-03-20",
          "2021-03-21",
          "2021-03-22",
          "2021-03-23",
          "2021-03-24",
          "2021-03-25",
          "2021-03-26",
          "2021-03-27",
          "2021-03-28",
          "2021-03-29",
          "2021-03-30",
          "2021-03-31",
          "2021-04-01",
          "2021-04-02",
          "2021-04-03",
          "2021-04-04",
          "2021-04-05",
          "2021-04-06",
          "2021-04-07",
          "2021-04-08",
          "2021-04-09",
          "2021-04-10",
          "2021-04-11",
          "2021-04-12",
          "2021-04-13",
          "2021-04-14",
          "2021-04-15",
          "2021-04-16",
          "2021-04-17",
          "2021-04-18",
          "2021-04-19",
          "2021-04-20",
          "2021-04-21",
          "2021-04-22",
          "2021-04-23",
          "2021-04-24",
          "2021-04-25",
          "2021-04-26",
          "2021-04-27",
          "2021-04-28",
          "2021-04-29",
          "2021-04-30",
          "2021-05-01",
          "2021-05-02",
          "2021-05-03",
          "2021-05-04",
          "2021-05-05",
          "2021-05-06",
          "2021-05-07",
          "2021-05-08",
          "2021-05-09",
          "2021-05-10",
          "2021-05-11",
          "2021-05-12",
          "2021-05-13",
          "2021-05-14",
          "2021-05-15",
          "2021-05-16",
          "2021-05-17",
          "2021-05-18",
          "2021-05-19",
          "2021-05-20",
          "2021-05-21",
          "2021-05-22",
          "2021-05-23",
          "2021-05-24",
          "2021-05-25",
          "2021-05-26",
          "2021-05-27",
          "2021-05-28",
          "2021-05-29",
          "2021-05-30",
          "2021-05-31",
          "2021-06-01",
          "2021-06-02",
          "2021-06-03",
          "2021-06-04",
          "2021-06-05",
          "2021-06-06",
          "2021-06-07",
          "2021-06-08",
          "2021-06-09",
          "2021-06-10",
          "2021-06-11",
          "2021-06-12",
          "2021-06-13",
          "2021-06-14",
          "2021-06-15",
          "2021-06-16",
          "2021-06-17",
          "2021-06-18",
          "2021-06-19",
          "2021-06-20",
          "2021-06-21",
          "2021-06-22",
          "2021-06-23",
          "2021-06-24",
          "2021-06-25",
          "2021-06-26",
          "2021-06-27",
          "2021-06-28",
          "2021-06-29",
          "2021-06-30",
          "2021-07-01",
          "2021-07-02",
          "2021-07-03",
          "2021-07-04",
          "2021-07-05",
          "2021-07-06",
          "2021-07-07",
          "2021-07-08",
          "2021-07-09",
          "2021-07-10",
          "2021-07-11",
          "2021-07-12",
          "2021-07-13",
          "2021-07-14",
          "2021-07-15",
          "2021-07-16",
          "2021-07-17",
          "2021-07-18",
          "2021-07-19",
          "2021-07-20",
          "2021-07-21",
          "2021-07-22",
          "2021-07-23",
          "2021-07-24",
          "2021-07-25",
          "2021-07-26",
          "2021-07-27",
          "2021-07-28",
          "2021-07-29",
          "2021-07-30",
          "2021-07-31",
          "2021-08-01",
          "2021-08-02",
          "2021-08-03",
          "2021-08-04",
          "2021-08-05",
          "2021-08-06",
          "2021-08-07",
          "2021-08-08",
          "2021-08-09",
          "2021-08-10",
          "2021-08-11",
          "2021-08-12",
          "2021-08-13",
          "2021-08-14",
          "2021-08-15",
          "2021-08-16",
          "2021-08-17",
          "2021-08-18",
          "2021-08-19",
          "2021-08-20",
          "2021-08-21",
          "2021-08-22",
          "2021-08-23",
          "2021-08-24",
          "2021-08-25",
          "2021-08-26",
          "2021-08-27",
          "2021-08-28",
          "2021-08-29",
          "2021-08-30",
          "2021-08-31",
          "2021-09-01",
          "2021-09-02",
          "2021-09-03",
          "2021-09-04",
          "2021-09-05",
          "2021-09-06",
          "2021-09-07",
          "2021-09-08",
          "2021-09-09",
          "2021-09-10",
          "2021-09-11",
          "2021-09-12",
          "2021-09-13",
          "2021-09-14",
          "2021-09-15",
          "2021-09-16",
          "2021-09-17",
          "2021-09-18",
          "2021-09-19",
          "2021-09-20",
          "2021-09-21",
          "2021-09-22",
          "2021-09-23",
          "2021-09-24",
          "2021-09-25",
          "2021-09-26",
          "2021-09-27",
          "2021-09-28",
          "2021-09-29",
          "2021-09-30",
          "2021-10-01",
          "2021-10-02",
          "2021-10-03",
          "2021-10-04",
          "2021-10-05",
          "2021-10-06",
          "2021-10-07",
          "2021-10-08",
          "2021-10-09",
          "2021-10-10",
          "2021-10-11",
          "2021-10-12",
          "2021-10-13",
          "2021-10-14",
          "2021-10-15",
          "2021-10-16",
          "2021-10-17",
          "2021-10-18",
          "2021-10-19",
          "2021-10-20",
          "2021-10-21",
          "2021-10-22",
          "2021-10-23",
          "2021-10-24",
          "2021-10-25",
          "2021-10-26",
          "2021-10-27",
          "2021-10-28",
          "2021-10-29",
          "2021-10-30",
          "2021-10-31",
          "2021-11-01",
          "2021-11-02",
          "2021-11-03",
          "2021-11-04",
          "2021-11-05",
          "2021-11-06",
          "2021-11-07",
          "2021-11-08",
          "2021-11-09",
          "2021-11-10",
          "2021-11-11",
          "2021-11-12",
          "2021-11-13",
          "2021-11-14",
          "2021-11-15",
          "2021-11-16",
          "2021-11-17",
          "2021-11-18",
          "2021-11-19",
          "2021-11-20",
          "2021-11-21",
          "2021-11-22",
          "2021-11-23",
          "2021-11-24",
          "2021-11-25",
          "2021-11-26",
          "2021-11-27",
          "2021-11-28",
          "2021-11-29",
          "2021-11-30",
          "2021-12-01",
          "2021-12-02",
          "2021-12-03",
          "2021-12-04",
          "2021-12-05",
          "2021-12-06",
          "2021-12-07",
          "2021-12-08",
          "2021-12-09",
          "2021-12-10",
          "2021-12-11",
          "2021-12-12",
          "2021-12-13",
          "2021-12-14",
          "2021-12-15",
          "2021-12-16",
          "2021-12-17",
          "2021-12-18",
          "2021-12-19",
          "2021-12-20",
          "2021-12-21",
          "2021-12-22",
          "2021-12-23",
          "2021-12-24",
          "2021-12-25",
          "2021-12-26",
          "2021-12-27",
          "2021-12-28",
          "2021-12-29",
          "2021-12-30",
          "2021-12-31",
          "2022-01-01",
          "2022-01-02",
          "2022-01-03",
          "2022-01-04",
          "2022-01-05",
          "2022-01-06",
          "2022-01-07",
          "2022-01-08",
          "2022-01-09",
          "2022-01-10",
          "2022-01-11",
          "2022-01-12",
          "2022-01-13",
          "2022-01-14",
          "2022-01-15",
          "2022-01-16",
          "2022-01-17",
          "2022-01-18",
          "2022-01-19",
          "2022-01-20",
          "2022-01-21",
          "2022-01-22",
          "2022-01-23",
          "2022-01-24",
          "2022-01-25",
          "2022-01-26",
          "2022-01-27",
          "2022-01-28",
          "2022-01-29",
          "2022-01-30",
          "2022-01-31",
          "2022-02-01",
          "2022-02-02",
          "2022-02-03",
          "2022-02-04",
          "2022-02-05",
          "2022-02-06",
          "2022-02-07",
          "2022-02-08",
          "2022-02-09",
          "2022-02-10",
          "2022-02-11",
          "2022-02-12",
          "2022-02-13",
          "2022-02-14",
          "2022-02-15",
          "2022-02-16",
          "2022-02-17",
          "2022-02-18",
          "2022-02-19",
          "2022-02-20",
          "2022-02-21",
          "2022-02-22",
          "2022-02-23",
          "2022-02-24",
          "2022-02-25",
          "2022-02-26",
          "2022-02-27",
          "2022-02-28",
          "2022-03-01",
          "2022-03-02",
          "2022-03-03",
          "2022-03-04",
          "2022-03-05"
         ],
         "legendgroup": "",
         "marker": {
          "color": [
           12460,
           10337,
           7729,
           8714,
           12317,
           12670,
           12665,
           13065,
           10759,
           7827,
           9172,
           13776,
           13879,
           13384,
           12938,
           10971,
           8122,
           9568,
           14202,
           13803,
           11823,
           8729,
           7571,
           7750,
           9621,
           15100,
           15633,
           13252,
           9713,
           8472,
           7651,
           10058,
           15476,
           15069,
           15152,
           15397,
           12847,
           8831,
           10081,
           17168,
           16873,
           15471,
           15022,
           13716,
           9085,
           9771,
           16610,
           18020,
           17155,
           16060,
           13921,
           9197,
           11026,
           17445,
           17355,
           17029,
           15388,
           13506,
           8771,
           10353,
           15416,
           16035,
           13001,
           17138,
           11400,
           7298,
           9491,
           15431,
           14035,
           13779,
           13028,
           10419,
           6649,
           7479,
           11352,
           11963,
           11920,
           11692,
           8751,
           6518,
           7374,
           11685,
           12532,
           10657,
           10793,
           8493,
           6264,
           7701,
           10426,
           11764,
           10407,
           10515,
           8097,
           5895,
           7254,
           10614,
           10233,
           10198,
           9885,
           8403,
           5861,
           7664,
           10647,
           10599,
           10736,
           10830,
           8683,
           8470,
           8060,
           11488,
           10740,
           11525,
           12759,
           10148,
           7213,
           8764,
           12022,
           12880,
           12342,
           10532,
           9282,
           7357,
           8273,
           12496,
           15589,
           14339,
           14325,
           12859,
           9079,
           10092,
           13867,
           14050,
           13607,
           13359,
           12468,
           9107,
           11326,
           14353,
           14659,
           13888,
           15301,
           12961,
           10685,
           11868,
           14989,
           15923,
           15754,
           14342,
           12907,
           10277,
           11874,
           14088,
           14840,
           14646,
           14481,
           13196,
           10329,
           11293,
           14181,
           13950,
           13588,
           12992,
           12161,
           10260,
           11471,
           14142,
           13441,
           13165,
           12924,
           11343,
           9781,
           9115,
           13203,
           12787,
           12856,
           11986,
           10701,
           8344,
           8793,
           10973,
           11885,
           10092,
           10684,
           9347,
           7226,
           8169,
           10628,
           10136,
           8607,
           11770,
           9695,
           9253,
           8061,
           10795,
           10024,
           9302,
           9214,
           8077,
           6726,
           7049,
           8928,
           9396,
           8622,
           9237,
           7470,
           6073,
           6596,
           8150,
           9199,
           8556,
           8294,
           6907,
           6612,
           7387,
           8509,
           8521,
           8930,
           8355,
           7263,
           7601,
           8091,
           8384,
           8618,
           8589,
           8651,
           7495,
           6628,
           7169,
           11928,
           8675,
           8774,
           8298,
           8682,
           7320,
           8451,
           9831,
           10255,
           10251,
           9555,
           8806,
           7358,
           8070,
           10417,
           10500,
           10941,
           10472,
           8649,
           7431,
           8750,
           11619,
           10508,
           10495,
           10457,
           8712,
           7394,
           9795,
           10769,
           10787,
           11436,
           10510,
           8881,
           7664,
           10015,
           11048,
           11282,
           11619,
           10337,
           8421,
           6715,
           9537,
           9484,
           12498,
           11183,
           10718,
           7721,
           6459,
           8035,
           10485,
           10053,
           10828,
           9140,
           8327,
           5551,
           9088,
           9953,
           10478,
           10469,
           9047,
           6500,
           5961,
           8218,
           9328,
           9943,
           9781,
           8725,
           5434,
           5433,
           7751,
           9422,
           9269,
           8833,
           8607,
           5878,
           4244,
           7167,
           7429,
           9141,
           8962,
           7776,
           4857,
           4669,
           5745,
           8122,
           8857,
           7984,
           7233,
           5282,
           4274,
           6454,
           8245,
           8691,
           7704,
           8191,
           5823,
           4516,
           6643,
           7915,
           9178,
           8801,
           7873,
           6001,
           4483,
           6276,
           7283,
           8416,
           7605,
           8611,
           6644,
           4486,
           6667,
           8229,
           8282,
           7625,
           9099,
           6280,
           4621,
           6891,
           7726,
           9212,
           8304,
           8066,
           6067,
           4543,
           7260,
           8079,
           8680,
           7834,
           6825,
           5956,
           4791,
           7743,
           7989,
           9327,
           10168,
           8596,
           5524,
           7343,
           6814,
           8395,
           7948,
           8859,
           8126,
           5979,
           4540,
           6590,
           7755,
           9191,
           7314,
           7006,
           6067,
           4323,
           6946,
           7673,
           8245,
           9307,
           5885,
           4254,
           3602,
           6725,
           7478,
           8038,
           7573,
           6008,
           4295,
           3214,
           6089,
           7992,
           7986,
           6847,
           7220,
           5351,
           3933,
           6424,
           9510,
           9240,
           8108,
           7734,
           6196,
           4321,
           6233,
           9242,
           10567,
           9454,
           9849,
           6115,
           4966,
           8627,
           10811,
           10953,
           10402,
           12120,
           7906,
           5598,
           9729,
           13275,
           12220,
           11589,
           13330,
           8299,
           5855,
           10700,
           13286,
           13311,
           11699,
           12108,
           8724,
           5094,
           10671,
           10581,
           13077,
           12712,
           10579,
           8384,
           5305,
           7435,
           9410,
           11706,
           10735,
           9080,
           6392,
           4417,
           7759,
           8069,
           7945,
           8384,
           8771,
           5443
          ],
          "coloraxis": "coloraxis",
          "symbol": "circle"
         },
         "mode": "markers",
         "name": "",
         "orientation": "v",
         "showlegend": false,
         "type": "scatter",
         "x": [
          1,
          1,
          1,
          2,
          8,
          10,
          11,
          15,
          15,
          24141,
          28538,
          105105,
          261753,
          531264,
          942806,
          1121787,
          1233269,
          1641091,
          2153891,
          2827079,
          3116268,
          3175561,
          3350688,
          3612579,
          4375562,
          5350751,
          6500387,
          7190291,
          7403599,
          8587657,
          8982522,
          10052652,
          11254168,
          12489634,
          13904439,
          15293020,
          15990402,
          19526357,
          20913443,
          22562250,
          24816154,
          27082162,
          29318771,
          30765838,
          31679306,
          33470709,
          35639752,
          38269171,
          41047537,
          44387239,
          46353970,
          47451101,
          49672195,
          51933554,
          54709947,
          57892387,
          61146947,
          63411332,
          64497626,
          66547208,
          68837186,
          71822165,
          75231405,
          78823363,
          81231767,
          82209932,
          84596553,
          87548988,
          90979594,
          94495334,
          101154308,
          103793147,
          105172484,
          108066910,
          110959868,
          114551510,
          118383878,
          123913293,
          126678996,
          128031847,
          130598565,
          136455852,
          140609864,
          145108153,
          149632006,
          153024039,
          155070553,
          158862688,
          166928959,
          172459251,
          178876668,
          185224047,
          190120327,
          193060574,
          198762286,
          204741031,
          211672853,
          217554764,
          224806764,
          230949907,
          233878040,
          240873229,
          247460129,
          254447215,
          261784813,
          270996563,
          277767619,
          280969524,
          288591112,
          295885194,
          304742442,
          312883238,
          322284198,
          328895618,
          332066639,
          339504637,
          347480409,
          358284863,
          368593938,
          377897604,
          384999282,
          390399736,
          398827966,
          409351992,
          420409894,
          433122780,
          444242122,
          453408654,
          459663805,
          469387706,
          478610942,
          488915972,
          497929253,
          506721508,
          514027105,
          519205245,
          527006836,
          534555417,
          542921754,
          551616139,
          559404449,
          564344078,
          572218872,
          579173413,
          586976563,
          597464905,
          606470507,
          614272241,
          619326888,
          622785119,
          628110384,
          635331635,
          643487202,
          652040959,
          661141838,
          666790775,
          671123273,
          678886818,
          688063302,
          696911483,
          704660525,
          712051912,
          719001847,
          724446583,
          731995454,
          741057115,
          749696228,
          759897031,
          768399333,
          777449549,
          783139700,
          792509402,
          800831615,
          811201958,
          821145559,
          831316496,
          841411846,
          847609938,
          855987753,
          867132356,
          878917636,
          889623382,
          902676679,
          911599963,
          919245340,
          929481595,
          943220535,
          956974458,
          1590962747,
          1603491735,
          1614338732,
          1622906452,
          1633642068,
          1646435492,
          1658932807,
          1674490214,
          1687382750,
          1698452142,
          1708302106,
          1725168126,
          1739369269,
          1751168855,
          1766625368,
          1781225435,
          1794949333,
          1819886437,
          1830102348,
          1843644192,
          1854530357,
          1871457386,
          1880566056,
          1893930862,
          1903482630,
          1917412791,
          1928853742,
          1941837984,
          1958024868,
          1966888518,
          1979006486,
          1986201902,
          1997212613,
          2011906407,
          2025552019,
          2039098489,
          2051252201,
          2061804352,
          2067625202,
          2081006567,
          2093668146,
          2102932121,
          2115843993,
          2127831583,
          2137271441,
          2145321508,
          2161965155,
          2174888493,
          2189103917,
          2204611868,
          2219229780,
          2229283209,
          2244404560,
          2255796255,
          2278823056,
          2296217048,
          2311458131,
          2324472419,
          2335440652,
          2347144175,
          2366668913,
          2381657803,
          2396480983,
          2407765610,
          2428067834,
          2439976034,
          2450333299,
          2468478517,
          2483669217,
          2496988790,
          2509379492,
          2526299619,
          2537845017,
          2546428121,
          2554915021,
          2571538814,
          2588160680,
          3052857729,
          3073150522,
          3086224464,
          3104716630,
          3116929356,
          3131755847,
          3153496029,
          3166806533,
          3177298587,
          3185172739,
          3197334294,
          3230994428,
          3248942397,
          3266970437,
          3290534704,
          3303147053,
          3316557908,
          3332261200,
          3346356494,
          3357564788,
          3370862547,
          3384460397,
          3395328203,
          3423011047,
          3434552934,
          3447235270,
          3462121181,
          3474320381,
          3488459642,
          3501490848,
          3510620384,
          3518726782,
          3543298866,
          3553406189,
          3570114753,
          3584964919,
          3595511812,
          3605284472,
          3618383453,
          3627685056,
          3640733221,
          3650983905,
          3659720860,
          3673460100,
          3681774443,
          3695182232,
          3702973281,
          3712305814,
          3720952115,
          3730924915,
          3737630647,
          3743651515,
          3756150508,
          3767855430,
          3778196476,
          3794921538,
          3810706471,
          3820846632,
          3832148559,
          3840426431,
          3846682396,
          3856262680,
          3863544432,
          3874802178,
          3886939052,
          3897909205,
          3906677709,
          3914142586,
          3921069202,
          3928431711,
          3937721284,
          3947915615,
          3954353658,
          3962220959,
          3969158843,
          3978198150,
          3990637826,
          4007506377,
          4015203526,
          4023510738,
          4031982484,
          4037683552,
          4043656830,
          4051279791,
          4058586320,
          4191827989,
          4201074035,
          4207405352,
          4214534033,
          4222122552,
          4234103535,
          4240256324,
          4249353291,
          4256019788,
          4265756820,
          4276362945,
          4286008360,
          4296513336,
          4320913362,
          4327006767,
          4335700388,
          4343213024,
          4351130088,
          4357026875,
          4366259133,
          4376918453,
          4381652892,
          4392821961,
          4398750543,
          4402910984,
          4410652881,
          4418004833,
          4422508729,
          4430119217,
          4443286717,
          4449234508,
          4458680767,
          4464707430,
          4470125812,
          4478714711,
          4484844838,
          4488540738,
          4491193661,
          4497512962,
          4541636468,
          4547909599,
          4553872749,
          4560707907,
          4565301525,
          4571876974,
          4580774572,
          4593566515,
          4602977736,
          4612960408,
          4626904527,
          4631404840,
          4640268688,
          4662927923,
          4672700475,
          4682824210,
          4691119674,
          4698611640,
          4707981199,
          4715753527,
          4724720898,
          4729643439,
          4741005457,
          4747947363,
          4757254220,
          4763871564,
          4769835112,
          4774347049,
          4779467793,
          4784805726,
          4788495501,
          4796942563,
          4801539242,
          4805646206,
          4810582298,
          4815557190,
          4821123206,
          4824852538,
          4830615184,
          4834284558,
          4839760892,
          4845897167,
          4850572501,
          4855613709,
          4859598729,
          4864443623,
          4867662436,
          4874643290,
          4878006600,
          4883881585,
          4887843916,
          4891108878,
          4903085679,
          4911996780,
          4918692229,
          4927057044,
          4931595730,
          4933531500,
          4936523571,
          4940173111,
          4943215344,
          4946427790,
          4969925021,
          4971171398,
          4972139415,
          4973141082,
          4974733845,
          4976030953
         ],
         "xaxis": "x",
         "y": [
          12460,
          10337,
          7729,
          8714,
          12317,
          12670,
          12665,
          13065,
          10759,
          7827,
          9172,
          13776,
          13879,
          13384,
          12938,
          10971,
          8122,
          9568,
          14202,
          13803,
          11823,
          8729,
          7571,
          7750,
          9621,
          15100,
          15633,
          13252,
          9713,
          8472,
          7651,
          10058,
          15476,
          15069,
          15152,
          15397,
          12847,
          8831,
          10081,
          17168,
          16873,
          15471,
          15022,
          13716,
          9085,
          9771,
          16610,
          18020,
          17155,
          16060,
          13921,
          9197,
          11026,
          17445,
          17355,
          17029,
          15388,
          13506,
          8771,
          10353,
          15416,
          16035,
          13001,
          17138,
          11400,
          7298,
          9491,
          15431,
          14035,
          13779,
          13028,
          10419,
          6649,
          7479,
          11352,
          11963,
          11920,
          11692,
          8751,
          6518,
          7374,
          11685,
          12532,
          10657,
          10793,
          8493,
          6264,
          7701,
          10426,
          11764,
          10407,
          10515,
          8097,
          5895,
          7254,
          10614,
          10233,
          10198,
          9885,
          8403,
          5861,
          7664,
          10647,
          10599,
          10736,
          10830,
          8683,
          8470,
          8060,
          11488,
          10740,
          11525,
          12759,
          10148,
          7213,
          8764,
          12022,
          12880,
          12342,
          10532,
          9282,
          7357,
          8273,
          12496,
          15589,
          14339,
          14325,
          12859,
          9079,
          10092,
          13867,
          14050,
          13607,
          13359,
          12468,
          9107,
          11326,
          14353,
          14659,
          13888,
          15301,
          12961,
          10685,
          11868,
          14989,
          15923,
          15754,
          14342,
          12907,
          10277,
          11874,
          14088,
          14840,
          14646,
          14481,
          13196,
          10329,
          11293,
          14181,
          13950,
          13588,
          12992,
          12161,
          10260,
          11471,
          14142,
          13441,
          13165,
          12924,
          11343,
          9781,
          9115,
          13203,
          12787,
          12856,
          11986,
          10701,
          8344,
          8793,
          10973,
          11885,
          10092,
          10684,
          9347,
          7226,
          8169,
          10628,
          10136,
          8607,
          11770,
          9695,
          9253,
          8061,
          10795,
          10024,
          9302,
          9214,
          8077,
          6726,
          7049,
          8928,
          9396,
          8622,
          9237,
          7470,
          6073,
          6596,
          8150,
          9199,
          8556,
          8294,
          6907,
          6612,
          7387,
          8509,
          8521,
          8930,
          8355,
          7263,
          7601,
          8091,
          8384,
          8618,
          8589,
          8651,
          7495,
          6628,
          7169,
          11928,
          8675,
          8774,
          8298,
          8682,
          7320,
          8451,
          9831,
          10255,
          10251,
          9555,
          8806,
          7358,
          8070,
          10417,
          10500,
          10941,
          10472,
          8649,
          7431,
          8750,
          11619,
          10508,
          10495,
          10457,
          8712,
          7394,
          9795,
          10769,
          10787,
          11436,
          10510,
          8881,
          7664,
          10015,
          11048,
          11282,
          11619,
          10337,
          8421,
          6715,
          9537,
          9484,
          12498,
          11183,
          10718,
          7721,
          6459,
          8035,
          10485,
          10053,
          10828,
          9140,
          8327,
          5551,
          9088,
          9953,
          10478,
          10469,
          9047,
          6500,
          5961,
          8218,
          9328,
          9943,
          9781,
          8725,
          5434,
          5433,
          7751,
          9422,
          9269,
          8833,
          8607,
          5878,
          4244,
          7167,
          7429,
          9141,
          8962,
          7776,
          4857,
          4669,
          5745,
          8122,
          8857,
          7984,
          7233,
          5282,
          4274,
          6454,
          8245,
          8691,
          7704,
          8191,
          5823,
          4516,
          6643,
          7915,
          9178,
          8801,
          7873,
          6001,
          4483,
          6276,
          7283,
          8416,
          7605,
          8611,
          6644,
          4486,
          6667,
          8229,
          8282,
          7625,
          9099,
          6280,
          4621,
          6891,
          7726,
          9212,
          8304,
          8066,
          6067,
          4543,
          7260,
          8079,
          8680,
          7834,
          6825,
          5956,
          4791,
          7743,
          7989,
          9327,
          10168,
          8596,
          5524,
          7343,
          6814,
          8395,
          7948,
          8859,
          8126,
          5979,
          4540,
          6590,
          7755,
          9191,
          7314,
          7006,
          6067,
          4323,
          6946,
          7673,
          8245,
          9307,
          5885,
          4254,
          3602,
          6725,
          7478,
          8038,
          7573,
          6008,
          4295,
          3214,
          6089,
          7992,
          7986,
          6847,
          7220,
          5351,
          3933,
          6424,
          9510,
          9240,
          8108,
          7734,
          6196,
          4321,
          6233,
          9242,
          10567,
          9454,
          9849,
          6115,
          4966,
          8627,
          10811,
          10953,
          10402,
          12120,
          7906,
          5598,
          9729,
          13275,
          12220,
          11589,
          13330,
          8299,
          5855,
          10700,
          13286,
          13311,
          11699,
          12108,
          8724,
          5094,
          10671,
          10581,
          13077,
          12712,
          10579,
          8384,
          5305,
          7435,
          9410,
          11706,
          10735,
          9080,
          6392,
          4417,
          7759,
          8069,
          7945,
          8384,
          8771,
          5443
         ],
         "yaxis": "y"
        },
        {
         "hovertemplate": "<b>OLS trendline</b><br>NewDeaths = -8.82825e-07 * PeopleVaccinated + 11622.7<br>R<sup>2</sup>=0.306666<br><br>PeopleVaccinated=%{x}<br>NewDeaths=%{y} <b>(trend)</b><extra></extra>",
         "legendgroup": "",
         "marker": {
          "symbol": "circle"
         },
         "mode": "lines",
         "name": "",
         "showlegend": false,
         "type": "scatter",
         "x": [
          1,
          1,
          1,
          2,
          8,
          10,
          11,
          15,
          15,
          24141,
          28538,
          105105,
          261753,
          531264,
          942806,
          1121787,
          1233269,
          1641091,
          2153891,
          2827079,
          3116268,
          3175561,
          3350688,
          3612579,
          4375562,
          5350751,
          6500387,
          7190291,
          7403599,
          8587657,
          8982522,
          10052652,
          11254168,
          12489634,
          13904439,
          15293020,
          15990402,
          19526357,
          20913443,
          22562250,
          24816154,
          27082162,
          29318771,
          30765838,
          31679306,
          33470709,
          35639752,
          38269171,
          41047537,
          44387239,
          46353970,
          47451101,
          49672195,
          51933554,
          54709947,
          57892387,
          61146947,
          63411332,
          64497626,
          66547208,
          68837186,
          71822165,
          75231405,
          78823363,
          81231767,
          82209932,
          84596553,
          87548988,
          90979594,
          94495334,
          101154308,
          103793147,
          105172484,
          108066910,
          110959868,
          114551510,
          118383878,
          123913293,
          126678996,
          128031847,
          130598565,
          136455852,
          140609864,
          145108153,
          149632006,
          153024039,
          155070553,
          158862688,
          166928959,
          172459251,
          178876668,
          185224047,
          190120327,
          193060574,
          198762286,
          204741031,
          211672853,
          217554764,
          224806764,
          230949907,
          233878040,
          240873229,
          247460129,
          254447215,
          261784813,
          270996563,
          277767619,
          280969524,
          288591112,
          295885194,
          304742442,
          312883238,
          322284198,
          328895618,
          332066639,
          339504637,
          347480409,
          358284863,
          368593938,
          377897604,
          384999282,
          390399736,
          398827966,
          409351992,
          420409894,
          433122780,
          444242122,
          453408654,
          459663805,
          469387706,
          478610942,
          488915972,
          497929253,
          506721508,
          514027105,
          519205245,
          527006836,
          534555417,
          542921754,
          551616139,
          559404449,
          564344078,
          572218872,
          579173413,
          586976563,
          597464905,
          606470507,
          614272241,
          619326888,
          622785119,
          628110384,
          635331635,
          643487202,
          652040959,
          661141838,
          666790775,
          671123273,
          678886818,
          688063302,
          696911483,
          704660525,
          712051912,
          719001847,
          724446583,
          731995454,
          741057115,
          749696228,
          759897031,
          768399333,
          777449549,
          783139700,
          792509402,
          800831615,
          811201958,
          821145559,
          831316496,
          841411846,
          847609938,
          855987753,
          867132356,
          878917636,
          889623382,
          902676679,
          911599963,
          919245340,
          929481595,
          943220535,
          956974458,
          1590962747,
          1603491735,
          1614338732,
          1622906452,
          1633642068,
          1646435492,
          1658932807,
          1674490214,
          1687382750,
          1698452142,
          1708302106,
          1725168126,
          1739369269,
          1751168855,
          1766625368,
          1781225435,
          1794949333,
          1819886437,
          1830102348,
          1843644192,
          1854530357,
          1871457386,
          1880566056,
          1893930862,
          1903482630,
          1917412791,
          1928853742,
          1941837984,
          1958024868,
          1966888518,
          1979006486,
          1986201902,
          1997212613,
          2011906407,
          2025552019,
          2039098489,
          2051252201,
          2061804352,
          2067625202,
          2081006567,
          2093668146,
          2102932121,
          2115843993,
          2127831583,
          2137271441,
          2145321508,
          2161965155,
          2174888493,
          2189103917,
          2204611868,
          2219229780,
          2229283209,
          2244404560,
          2255796255,
          2278823056,
          2296217048,
          2311458131,
          2324472419,
          2335440652,
          2347144175,
          2366668913,
          2381657803,
          2396480983,
          2407765610,
          2428067834,
          2439976034,
          2450333299,
          2468478517,
          2483669217,
          2496988790,
          2509379492,
          2526299619,
          2537845017,
          2546428121,
          2554915021,
          2571538814,
          2588160680,
          3052857729,
          3073150522,
          3086224464,
          3104716630,
          3116929356,
          3131755847,
          3153496029,
          3166806533,
          3177298587,
          3185172739,
          3197334294,
          3230994428,
          3248942397,
          3266970437,
          3290534704,
          3303147053,
          3316557908,
          3332261200,
          3346356494,
          3357564788,
          3370862547,
          3384460397,
          3395328203,
          3423011047,
          3434552934,
          3447235270,
          3462121181,
          3474320381,
          3488459642,
          3501490848,
          3510620384,
          3518726782,
          3543298866,
          3553406189,
          3570114753,
          3584964919,
          3595511812,
          3605284472,
          3618383453,
          3627685056,
          3640733221,
          3650983905,
          3659720860,
          3673460100,
          3681774443,
          3695182232,
          3702973281,
          3712305814,
          3720952115,
          3730924915,
          3737630647,
          3743651515,
          3756150508,
          3767855430,
          3778196476,
          3794921538,
          3810706471,
          3820846632,
          3832148559,
          3840426431,
          3846682396,
          3856262680,
          3863544432,
          3874802178,
          3886939052,
          3897909205,
          3906677709,
          3914142586,
          3921069202,
          3928431711,
          3937721284,
          3947915615,
          3954353658,
          3962220959,
          3969158843,
          3978198150,
          3990637826,
          4007506377,
          4015203526,
          4023510738,
          4031982484,
          4037683552,
          4043656830,
          4051279791,
          4058586320,
          4191827989,
          4201074035,
          4207405352,
          4214534033,
          4222122552,
          4234103535,
          4240256324,
          4249353291,
          4256019788,
          4265756820,
          4276362945,
          4286008360,
          4296513336,
          4320913362,
          4327006767,
          4335700388,
          4343213024,
          4351130088,
          4357026875,
          4366259133,
          4376918453,
          4381652892,
          4392821961,
          4398750543,
          4402910984,
          4410652881,
          4418004833,
          4422508729,
          4430119217,
          4443286717,
          4449234508,
          4458680767,
          4464707430,
          4470125812,
          4478714711,
          4484844838,
          4488540738,
          4491193661,
          4497512962,
          4541636468,
          4547909599,
          4553872749,
          4560707907,
          4565301525,
          4571876974,
          4580774572,
          4593566515,
          4602977736,
          4612960408,
          4626904527,
          4631404840,
          4640268688,
          4662927923,
          4672700475,
          4682824210,
          4691119674,
          4698611640,
          4707981199,
          4715753527,
          4724720898,
          4729643439,
          4741005457,
          4747947363,
          4757254220,
          4763871564,
          4769835112,
          4774347049,
          4779467793,
          4784805726,
          4788495501,
          4796942563,
          4801539242,
          4805646206,
          4810582298,
          4815557190,
          4821123206,
          4824852538,
          4830615184,
          4834284558,
          4839760892,
          4845897167,
          4850572501,
          4855613709,
          4859598729,
          4864443623,
          4867662436,
          4874643290,
          4878006600,
          4883881585,
          4887843916,
          4891108878,
          4903085679,
          4911996780,
          4918692229,
          4927057044,
          4931595730,
          4933531500,
          4936523571,
          4940173111,
          4943215344,
          4946427790,
          4969925021,
          4971171398,
          4972139415,
          4973141082,
          4974733845,
          4976030953
         ],
         "xaxis": "x",
         "y": [
          11622.718976469478,
          11622.718976469478,
          11622.718976469478,
          11622.718975586653,
          11622.718970289705,
          11622.718968524056,
          11622.71896764123,
          11622.718964109934,
          11622.718964109934,
          11622.697665083202,
          11622.693783303357,
          11622.626188070843,
          11622.487895360102,
          11622.249964414517,
          11621.886645005634,
          11621.728636172704,
          11621.630217118654,
          11621.270181817348,
          11620.81746935331,
          11620.223162414459,
          11619.967859246042,
          11619.915513925976,
          11619.760907499123,
          11619.529703677126,
          11618.856123501715,
          11617.995202645447,
          11616.980275683065,
          11616.371211447902,
          11616.182897894316,
          11615.137582342937,
          11614.788985800205,
          11613.84424869189,
          11612.783520788334,
          11611.692820989001,
          11610.443796305526,
          11609.217922814829,
          11608.602256817174,
          11605.480628695517,
          11604.256075027624,
          11602.800467617919,
          11600.81066568042,
          11598.810178033744,
          11596.83564454801,
          11595.558138176713,
          11594.751706138682,
          11593.17021146977,
          11591.255326912165,
          11588.934011088288,
          11586.481201186054,
          11583.532830044127,
          11581.796551500613,
          11580.827977244791,
          11578.867140783004,
          11576.870757387976,
          11574.419689298715,
          11571.610152921841,
          11568.736947233529,
          11566.737892411209,
          11565.778885325772,
          11563.969463879843,
          11561.947814927078,
          11559.312601982074,
          11556.302840981869,
          11553.131772033139,
          11551.005573692179,
          11550.142025549847,
          11548.035057777537,
          11545.428575476897,
          11542.399952045907,
          11539.2961702239,
          11533.41746404699,
          11531.087832015213,
          11529.870119355284,
          11527.3148488279,
          11524.760874287056,
          11521.590084310905,
          11518.206775495795,
          11513.325271811413,
          11510.883641117314,
          11509.689310950214,
          11507.423349112702,
          11502.252391955211,
          11498.585127898712,
          11494.61392763125,
          11490.620158835256,
          11487.625588598252,
          11485.81887565825,
          11482.47108552599,
          11475.349982912834,
          11470.467704991263,
          11464.80225128057,
          11459.19862884046,
          11454.87607232051,
          11452.280349886312,
          11447.246738168746,
          11441.96855489882,
          11435.848971790574,
          11430.656275959695,
          11424.254031830951,
          11418.830713959496,
          11416.245686062719,
          11410.070161006914,
          11404.25508353151,
          11398.086712003584,
          11391.608899853201,
          11383.4765401796,
          11377.49888525387,
          11374.67216469581,
          11367.9436391822,
          11361.504244027888,
          11353.684847446968,
          11346.497952329168,
          11338.19855340962,
          11332.361829074587,
          11329.562373672026,
          11322.995925930009,
          11315.954718061947,
          11306.416280088175,
          11297.315174890779,
          11289.101669509602,
          11282.832133343065,
          11278.064479604227,
          11270.623830675215,
          11261.332961443382,
          11251.570773335865,
          11240.347524610977,
          11230.531095758937,
          11222.438655648906,
          11216.916454357655,
          11208.331955173191,
          11200.189455376028,
          11191.091921204212,
          11183.134774849694,
          11175.372755689163,
          11168.923194809375,
          11164.351805342634,
          11157.464368749334,
          11150.8002956126,
          11143.414287347661,
          11135.73867023248,
          11128.86295843293,
          11124.50213234862,
          11117.55007034482,
          11111.41043034408,
          11104.5216174272,
          11095.262250909032,
          11087.311883764756,
          11080.424320927536,
          11075.961954121327,
          11072.90894266027,
          11068.207667621626,
          11061.832569467057,
          11054.632634146823,
          11047.081166892005,
          11039.046686866612,
          11034.059666218252,
          11030.23483032701,
          11023.380981679122,
          11015.279755698493,
          11007.468363688386,
          11000.62731864593,
          10994.102020242175,
          10987.966446531627,
          10983.159699553062,
          10976.495370397188,
          10968.495512987658,
          10960.868691354757,
          10951.863171344385,
          10944.357129830278,
          10936.367376348499,
          10931.34397096634,
          10923.072167378697,
          10915.725112867196,
          10906.569918771112,
          10897.791463018104,
          10888.812309447769,
          10879.899885941824,
          10874.428057740442,
          10867.03191641454,
          10857.193186529828,
          10846.788851217418,
          10837.337555096028,
          10825.813783160149,
          10817.936088372764,
          10811.186561344319,
          10802.149743435595,
          10790.02066898025,
          10777.878367163656,
          10218.177898197519,
          10207.116999154205,
          10197.541003172719,
          10189.97720903776,
          10180.499542945034,
          10169.205193291073,
          10158.172255951882,
          10144.437794062165,
          10133.05594589468,
          10123.283614132302,
          10114.587823428035,
          10099.698085766664,
          10087.160967124468,
          10076.744002123074,
          10063.098611940353,
          10050.209313370302,
          10038.093518362859,
          10016.078429053445,
          10007.059571328746,
          9995.104498074284,
          9985.493923618164,
          9970.55032570968,
          9962.508967597689,
          9950.710187847922,
          9942.277651913406,
          9929.979762851808,
          9919.879409657242,
          9908.41660117535,
          9894.126421493655,
          9886.301373069531,
          9875.603332600655,
          9869.251042220088,
          9859.53051548911,
          9846.558472416102,
          9834.511790216693,
          9822.552633015548,
          9811.823036863529,
          9802.50733818932,
          9797.368548512432,
          9785.555150069818,
          9774.3771964276,
          9766.198731238332,
          9754.799812774032,
          9744.216873213183,
          9735.883134181651,
          9728.776336858602,
          9714.082915555979,
          9702.673874624612,
          9690.12414836405,
          9676.433347448634,
          9663.528294873277,
          9654.652880258138,
          9641.303379339988,
          9631.2465105548,
          9610.917883761364,
          9595.562039420849,
          9582.106836145553,
          9570.617502315192,
          9560.934476208333,
          9550.602317988205,
          9533.365398624477,
          9520.132837538034,
          9507.046569319018,
          9497.084222800015,
          9479.160919655442,
          9468.648067541004,
          9459.504419025272,
          9443.485373878379,
          9430.074649955804,
          9418.31580301198,
          9407.376986253774,
          9392.439481600803,
          9382.246920023374,
          9374.669544514494,
          9367.177100265151,
          9352.50120656249,
          9337.827014062868,
          8927.581019357309,
          8909.666042131708,
          8898.124044281592,
          8881.798704899182,
          8871.017009735164,
          8857.927818483837,
          8838.735050617412,
          8826.984210010047,
          8817.721566446897,
          8810.7700712165,
          8800.033551071003,
          8770.317556135231,
          8754.472647261386,
          8738.557049737565,
          8717.753934728064,
          8706.619442541782,
          8694.780009601189,
          8680.916756842096,
          8668.473084302877,
          8658.57812643543,
          8646.838537427819,
          8634.834020697806,
          8625.239654018846,
          8600.800557843182,
          8590.611095862987,
          8579.414817430174,
          8566.273168740056,
          8555.503414661818,
          8543.020926972626,
          8531.51665751538,
          8523.456878384912,
          8516.300350668316,
          8494.607510000915,
          8485.68451643582,
          8470.933784807477,
          8457.823692683323,
          8448.512635900956,
          8439.885091070948,
          8428.320988175226,
          8420.109304061238,
          8408.590062781297,
          8399.54050659616,
          8391.827307636999,
          8379.697968334269,
          8372.35786165251,
          8360.521135452196,
          8353.643005596017,
          8345.404015716596,
          8337.770848340342,
          8328.966614991317,
          8323.046629700924,
          8317.73125920962,
          8306.69684049072,
          8296.363447198952,
          8287.234117215698,
          8272.46882074681,
          8258.53349330309,
          8249.581509543194,
          8239.603890158302,
          8232.29598097318,
          8226.77306106269,
          8218.31535050137,
          8211.886840574596,
          8201.948225264146,
          8191.233494113042,
          8181.5487729829165,
          8173.807721789885,
          8167.217544604965,
          8161.10255748168,
          8154.602753287241,
          8146.401689553404,
          8137.4018831839585,
          8131.7182203326975,
          8124.772773333758,
          8118.647838542679,
          8110.667715794656,
          8099.685663583615,
          8084.793691493134,
          8077.998458868575,
          8070.664647609166,
          8063.185581684082,
          8058.15253850557,
          8052.87918163783,
          8046.14944400602,
          8039.699060333688,
          7922.070034815315,
          7913.90739778862,
          7908.317955277524,
          7902.024580197831,
          7895.325248811509,
          7884.748142072909,
          7879.31630847519,
          7871.285282059702,
          7865.399934393192,
          7856.80384283867,
          7847.440494588536,
          7838.925284777029,
          7829.651233354169,
          7808.1102897248675,
          7802.730881784257,
          7795.055939147085,
          7788.423599141241,
          7781.434220140842,
          7776.228391410947,
          7768.077926770082,
          7758.667616664401,
          7754.48793736343,
          7744.627608291617,
          7739.393710152997,
          7735.7207704170305,
          7728.886033156469,
          7722.395548941521,
          7718.419398676426,
          7711.700672516074,
          7700.07607936036,
          7694.825223043656,
          7686.4858330517445,
          7681.165346591779,
          7676.381865573193,
          7668.799374095653,
          7663.387547069426,
          7660.124715564265,
          7657.782649830569,
          7652.203815340083,
          7613.25049801685,
          7607.712423538969,
          7602.448007918958,
          7596.413762169574,
          7592.3584031141145,
          7586.553434863411,
          7578.698416309161,
          7567.405374118459,
          7559.096916535508,
          7550.283967941856,
          7537.9737564142415,
          7534.000769309752,
          7526.175546086355,
          7506.171415606409,
          7497.543966121461,
          7488.606483638739,
          7481.2830438029405,
          7474.668951781947,
          7466.397274438225,
          7459.535671941719,
          7451.619056065407,
          7447.273315688166,
          7437.242646489161,
          7431.1141609774695,
          7422.897838502938,
          7417.055884314868,
          7411.79111733066,
          7407.807868272813,
          7403.287149407837,
          7398.574690746934,
          7395.317266542557,
          7387.859992260341,
          7383.801930878726,
          7380.176201954849,
          7375.818498421211,
          7371.4265412924005,
          7366.512725344181,
          7363.220379246396,
          7358.132973493565,
          7354.893559794218,
          7350.0589173233775,
          7344.641662691399,
          7340.514162739467,
          7336.063660213298,
          7332.545586454621,
          7328.268394760484,
          7325.426747403785,
          7319.263877638877,
          7316.294664773372,
          7311.108083385795,
          7307.610040034872,
          7304.727651204885,
          7294.154236438837,
          7286.287297103772,
          7280.376389898925,
          7272.991725293054,
          7268.984861559503,
          7267.275916148982,
          7264.634442211787,
          7261.412538455911,
          7258.726780270235,
          7255.89075385788,
          7235.146819879463,
          7234.046487580724,
          7233.191898342614,
          7232.307602056113,
          7230.901471669291,
          7229.756352794864
         ],
         "yaxis": "y"
        }
       ],
       "layout": {
        "coloraxis": {
         "colorbar": {
          "title": {
           "text": "NewDeaths"
          }
         },
         "colorscale": [
          [
           0,
           "#440154"
          ],
          [
           0.1111111111111111,
           "#482878"
          ],
          [
           0.2222222222222222,
           "#3e4989"
          ],
          [
           0.3333333333333333,
           "#31688e"
          ],
          [
           0.4444444444444444,
           "#26828e"
          ],
          [
           0.5555555555555556,
           "#1f9e89"
          ],
          [
           0.6666666666666666,
           "#35b779"
          ],
          [
           0.7777777777777778,
           "#6ece58"
          ],
          [
           0.8888888888888888,
           "#b5de2b"
          ],
          [
           1,
           "#fde725"
          ]
         ]
        },
        "legend": {
         "tracegroupgap": 0
        },
        "template": {
         "data": {
          "bar": [
           {
            "error_x": {
             "color": "#2a3f5f"
            },
            "error_y": {
             "color": "#2a3f5f"
            },
            "marker": {
             "line": {
              "color": "#E5ECF6",
              "width": 0.5
             },
             "pattern": {
              "fillmode": "overlay",
              "size": 10,
              "solidity": 0.2
             }
            },
            "type": "bar"
           }
          ],
          "barpolar": [
           {
            "marker": {
             "line": {
              "color": "#E5ECF6",
              "width": 0.5
             },
             "pattern": {
              "fillmode": "overlay",
              "size": 10,
              "solidity": 0.2
             }
            },
            "type": "barpolar"
           }
          ],
          "carpet": [
           {
            "aaxis": {
             "endlinecolor": "#2a3f5f",
             "gridcolor": "white",
             "linecolor": "white",
             "minorgridcolor": "white",
             "startlinecolor": "#2a3f5f"
            },
            "baxis": {
             "endlinecolor": "#2a3f5f",
             "gridcolor": "white",
             "linecolor": "white",
             "minorgridcolor": "white",
             "startlinecolor": "#2a3f5f"
            },
            "type": "carpet"
           }
          ],
          "choropleth": [
           {
            "colorbar": {
             "outlinewidth": 0,
             "ticks": ""
            },
            "type": "choropleth"
           }
          ],
          "contour": [
           {
            "colorbar": {
             "outlinewidth": 0,
             "ticks": ""
            },
            "colorscale": [
             [
              0,
              "#0d0887"
             ],
             [
              0.1111111111111111,
              "#46039f"
             ],
             [
              0.2222222222222222,
              "#7201a8"
             ],
             [
              0.3333333333333333,
              "#9c179e"
             ],
             [
              0.4444444444444444,
              "#bd3786"
             ],
             [
              0.5555555555555556,
              "#d8576b"
             ],
             [
              0.6666666666666666,
              "#ed7953"
             ],
             [
              0.7777777777777778,
              "#fb9f3a"
             ],
             [
              0.8888888888888888,
              "#fdca26"
             ],
             [
              1,
              "#f0f921"
             ]
            ],
            "type": "contour"
           }
          ],
          "contourcarpet": [
           {
            "colorbar": {
             "outlinewidth": 0,
             "ticks": ""
            },
            "type": "contourcarpet"
           }
          ],
          "heatmap": [
           {
            "colorbar": {
             "outlinewidth": 0,
             "ticks": ""
            },
            "colorscale": [
             [
              0,
              "#0d0887"
             ],
             [
              0.1111111111111111,
              "#46039f"
             ],
             [
              0.2222222222222222,
              "#7201a8"
             ],
             [
              0.3333333333333333,
              "#9c179e"
             ],
             [
              0.4444444444444444,
              "#bd3786"
             ],
             [
              0.5555555555555556,
              "#d8576b"
             ],
             [
              0.6666666666666666,
              "#ed7953"
             ],
             [
              0.7777777777777778,
              "#fb9f3a"
             ],
             [
              0.8888888888888888,
              "#fdca26"
             ],
             [
              1,
              "#f0f921"
             ]
            ],
            "type": "heatmap"
           }
          ],
          "heatmapgl": [
           {
            "colorbar": {
             "outlinewidth": 0,
             "ticks": ""
            },
            "colorscale": [
             [
              0,
              "#0d0887"
             ],
             [
              0.1111111111111111,
              "#46039f"
             ],
             [
              0.2222222222222222,
              "#7201a8"
             ],
             [
              0.3333333333333333,
              "#9c179e"
             ],
             [
              0.4444444444444444,
              "#bd3786"
             ],
             [
              0.5555555555555556,
              "#d8576b"
             ],
             [
              0.6666666666666666,
              "#ed7953"
             ],
             [
              0.7777777777777778,
              "#fb9f3a"
             ],
             [
              0.8888888888888888,
              "#fdca26"
             ],
             [
              1,
              "#f0f921"
             ]
            ],
            "type": "heatmapgl"
           }
          ],
          "histogram": [
           {
            "marker": {
             "pattern": {
              "fillmode": "overlay",
              "size": 10,
              "solidity": 0.2
             }
            },
            "type": "histogram"
           }
          ],
          "histogram2d": [
           {
            "colorbar": {
             "outlinewidth": 0,
             "ticks": ""
            },
            "colorscale": [
             [
              0,
              "#0d0887"
             ],
             [
              0.1111111111111111,
              "#46039f"
             ],
             [
              0.2222222222222222,
              "#7201a8"
             ],
             [
              0.3333333333333333,
              "#9c179e"
             ],
             [
              0.4444444444444444,
              "#bd3786"
             ],
             [
              0.5555555555555556,
              "#d8576b"
             ],
             [
              0.6666666666666666,
              "#ed7953"
             ],
             [
              0.7777777777777778,
              "#fb9f3a"
             ],
             [
              0.8888888888888888,
              "#fdca26"
             ],
             [
              1,
              "#f0f921"
             ]
            ],
            "type": "histogram2d"
           }
          ],
          "histogram2dcontour": [
           {
            "colorbar": {
             "outlinewidth": 0,
             "ticks": ""
            },
            "colorscale": [
             [
              0,
              "#0d0887"
             ],
             [
              0.1111111111111111,
              "#46039f"
             ],
             [
              0.2222222222222222,
              "#7201a8"
             ],
             [
              0.3333333333333333,
              "#9c179e"
             ],
             [
              0.4444444444444444,
              "#bd3786"
             ],
             [
              0.5555555555555556,
              "#d8576b"
             ],
             [
              0.6666666666666666,
              "#ed7953"
             ],
             [
              0.7777777777777778,
              "#fb9f3a"
             ],
             [
              0.8888888888888888,
              "#fdca26"
             ],
             [
              1,
              "#f0f921"
             ]
            ],
            "type": "histogram2dcontour"
           }
          ],
          "mesh3d": [
           {
            "colorbar": {
             "outlinewidth": 0,
             "ticks": ""
            },
            "type": "mesh3d"
           }
          ],
          "parcoords": [
           {
            "line": {
             "colorbar": {
              "outlinewidth": 0,
              "ticks": ""
             }
            },
            "type": "parcoords"
           }
          ],
          "pie": [
           {
            "automargin": true,
            "type": "pie"
           }
          ],
          "scatter": [
           {
            "fillpattern": {
             "fillmode": "overlay",
             "size": 10,
             "solidity": 0.2
            },
            "type": "scatter"
           }
          ],
          "scatter3d": [
           {
            "line": {
             "colorbar": {
              "outlinewidth": 0,
              "ticks": ""
             }
            },
            "marker": {
             "colorbar": {
              "outlinewidth": 0,
              "ticks": ""
             }
            },
            "type": "scatter3d"
           }
          ],
          "scattercarpet": [
           {
            "marker": {
             "colorbar": {
              "outlinewidth": 0,
              "ticks": ""
             }
            },
            "type": "scattercarpet"
           }
          ],
          "scattergeo": [
           {
            "marker": {
             "colorbar": {
              "outlinewidth": 0,
              "ticks": ""
             }
            },
            "type": "scattergeo"
           }
          ],
          "scattergl": [
           {
            "marker": {
             "colorbar": {
              "outlinewidth": 0,
              "ticks": ""
             }
            },
            "type": "scattergl"
           }
          ],
          "scattermapbox": [
           {
            "marker": {
             "colorbar": {
              "outlinewidth": 0,
              "ticks": ""
             }
            },
            "type": "scattermapbox"
           }
          ],
          "scatterpolar": [
           {
            "marker": {
             "colorbar": {
              "outlinewidth": 0,
              "ticks": ""
             }
            },
            "type": "scatterpolar"
           }
          ],
          "scatterpolargl": [
           {
            "marker": {
             "colorbar": {
              "outlinewidth": 0,
              "ticks": ""
             }
            },
            "type": "scatterpolargl"
           }
          ],
          "scatterternary": [
           {
            "marker": {
             "colorbar": {
              "outlinewidth": 0,
              "ticks": ""
             }
            },
            "type": "scatterternary"
           }
          ],
          "surface": [
           {
            "colorbar": {
             "outlinewidth": 0,
             "ticks": ""
            },
            "colorscale": [
             [
              0,
              "#0d0887"
             ],
             [
              0.1111111111111111,
              "#46039f"
             ],
             [
              0.2222222222222222,
              "#7201a8"
             ],
             [
              0.3333333333333333,
              "#9c179e"
             ],
             [
              0.4444444444444444,
              "#bd3786"
             ],
             [
              0.5555555555555556,
              "#d8576b"
             ],
             [
              0.6666666666666666,
              "#ed7953"
             ],
             [
              0.7777777777777778,
              "#fb9f3a"
             ],
             [
              0.8888888888888888,
              "#fdca26"
             ],
             [
              1,
              "#f0f921"
             ]
            ],
            "type": "surface"
           }
          ],
          "table": [
           {
            "cells": {
             "fill": {
              "color": "#EBF0F8"
             },
             "line": {
              "color": "white"
             }
            },
            "header": {
             "fill": {
              "color": "#C8D4E3"
             },
             "line": {
              "color": "white"
             }
            },
            "type": "table"
           }
          ]
         },
         "layout": {
          "annotationdefaults": {
           "arrowcolor": "#2a3f5f",
           "arrowhead": 0,
           "arrowwidth": 1
          },
          "autotypenumbers": "strict",
          "coloraxis": {
           "colorbar": {
            "outlinewidth": 0,
            "ticks": ""
           }
          },
          "colorscale": {
           "diverging": [
            [
             0,
             "#8e0152"
            ],
            [
             0.1,
             "#c51b7d"
            ],
            [
             0.2,
             "#de77ae"
            ],
            [
             0.3,
             "#f1b6da"
            ],
            [
             0.4,
             "#fde0ef"
            ],
            [
             0.5,
             "#f7f7f7"
            ],
            [
             0.6,
             "#e6f5d0"
            ],
            [
             0.7,
             "#b8e186"
            ],
            [
             0.8,
             "#7fbc41"
            ],
            [
             0.9,
             "#4d9221"
            ],
            [
             1,
             "#276419"
            ]
           ],
           "sequential": [
            [
             0,
             "#0d0887"
            ],
            [
             0.1111111111111111,
             "#46039f"
            ],
            [
             0.2222222222222222,
             "#7201a8"
            ],
            [
             0.3333333333333333,
             "#9c179e"
            ],
            [
             0.4444444444444444,
             "#bd3786"
            ],
            [
             0.5555555555555556,
             "#d8576b"
            ],
            [
             0.6666666666666666,
             "#ed7953"
            ],
            [
             0.7777777777777778,
             "#fb9f3a"
            ],
            [
             0.8888888888888888,
             "#fdca26"
            ],
            [
             1,
             "#f0f921"
            ]
           ],
           "sequentialminus": [
            [
             0,
             "#0d0887"
            ],
            [
             0.1111111111111111,
             "#46039f"
            ],
            [
             0.2222222222222222,
             "#7201a8"
            ],
            [
             0.3333333333333333,
             "#9c179e"
            ],
            [
             0.4444444444444444,
             "#bd3786"
            ],
            [
             0.5555555555555556,
             "#d8576b"
            ],
            [
             0.6666666666666666,
             "#ed7953"
            ],
            [
             0.7777777777777778,
             "#fb9f3a"
            ],
            [
             0.8888888888888888,
             "#fdca26"
            ],
            [
             1,
             "#f0f921"
            ]
           ]
          },
          "colorway": [
           "#636efa",
           "#EF553B",
           "#00cc96",
           "#ab63fa",
           "#FFA15A",
           "#19d3f3",
           "#FF6692",
           "#B6E880",
           "#FF97FF",
           "#FECB52"
          ],
          "font": {
           "color": "#2a3f5f"
          },
          "geo": {
           "bgcolor": "white",
           "lakecolor": "white",
           "landcolor": "#E5ECF6",
           "showlakes": true,
           "showland": true,
           "subunitcolor": "white"
          },
          "hoverlabel": {
           "align": "left"
          },
          "hovermode": "closest",
          "mapbox": {
           "style": "light"
          },
          "paper_bgcolor": "white",
          "plot_bgcolor": "#E5ECF6",
          "polar": {
           "angularaxis": {
            "gridcolor": "white",
            "linecolor": "white",
            "ticks": ""
           },
           "bgcolor": "#E5ECF6",
           "radialaxis": {
            "gridcolor": "white",
            "linecolor": "white",
            "ticks": ""
           }
          },
          "scene": {
           "xaxis": {
            "backgroundcolor": "#E5ECF6",
            "gridcolor": "white",
            "gridwidth": 2,
            "linecolor": "white",
            "showbackground": true,
            "ticks": "",
            "zerolinecolor": "white"
           },
           "yaxis": {
            "backgroundcolor": "#E5ECF6",
            "gridcolor": "white",
            "gridwidth": 2,
            "linecolor": "white",
            "showbackground": true,
            "ticks": "",
            "zerolinecolor": "white"
           },
           "zaxis": {
            "backgroundcolor": "#E5ECF6",
            "gridcolor": "white",
            "gridwidth": 2,
            "linecolor": "white",
            "showbackground": true,
            "ticks": "",
            "zerolinecolor": "white"
           }
          },
          "shapedefaults": {
           "line": {
            "color": "#2a3f5f"
           }
          },
          "ternary": {
           "aaxis": {
            "gridcolor": "white",
            "linecolor": "white",
            "ticks": ""
           },
           "baxis": {
            "gridcolor": "white",
            "linecolor": "white",
            "ticks": ""
           },
           "bgcolor": "#E5ECF6",
           "caxis": {
            "gridcolor": "white",
            "linecolor": "white",
            "ticks": ""
           }
          },
          "title": {
           "x": 0.05
          },
          "xaxis": {
           "automargin": true,
           "gridcolor": "white",
           "linecolor": "white",
           "ticks": "",
           "title": {
            "standoff": 15
           },
           "zerolinecolor": "white",
           "zerolinewidth": 2
          },
          "yaxis": {
           "automargin": true,
           "gridcolor": "white",
           "linecolor": "white",
           "ticks": "",
           "title": {
            "standoff": 15
           },
           "zerolinecolor": "white",
           "zerolinewidth": 2
          }
         }
        },
        "title": {
         "text": "Biểu đồ thể hiện sự tương quan giữa tổng số người tiêm vaccine và số ca tử vong mới mỗi ngày trên thế giới"
        },
        "xaxis": {
         "anchor": "y",
         "domain": [
          0,
          1
         ],
         "title": {
          "text": "PeopleVaccinated"
         }
        },
        "yaxis": {
         "anchor": "x",
         "domain": [
          0,
          1
         ],
         "title": {
          "text": "NewDeaths"
         }
        }
       }
      }
     },
     "metadata": {},
     "output_type": "display_data"
    }
   ],
   "source": [
    "plot_scatter(covid_world_after_vaccine, \"PeopleVaccinated\", \"NewDeaths\", \"Biểu đồ thể hiện sự tương quan giữa tổng số người tiêm vaccine và số ca tử vong mới mỗi ngày trên thế giới\", \"Date\")"
   ]
  },
  {
   "cell_type": "code",
   "execution_count": 223,
   "metadata": {},
   "outputs": [
    {
     "name": "stdout",
     "output_type": "stream",
     "text": [
      "Ta thấy đường khớp dữ liệu là nghịch biến, và hệ số tương quan R = -0.5537746649965218 cũng không mạnh. Do đó, vaccine phần nào đã giúp khống chế số ca tử vong mỗi ngày trên thế giới.\n",
      "Điều đó cũng cho thấy vaccine đang thực sự giúp ích cho việc chống đại dịch Covid-19 trên thế giới\n"
     ]
    }
   ],
   "source": [
    "res = stats.linregress(covid_world_after_vaccine[\"PeopleVaccinated\"],covid_world_after_vaccine[\"NewDeaths\"])\n",
    "print(f\"Ta thấy đường khớp dữ liệu là nghịch biến, và hệ số tương quan R = {res.rvalue} cũng không mạnh. Do đó, vaccine phần nào đã giúp khống chế số ca tử vong mỗi ngày trên thế giới.\")\n",
    "print(f\"Điều đó cũng cho thấy vaccine đang thực sự giúp ích cho việc chống đại dịch Covid-19 trên thế giới\")"
   ]
  },
  {
   "cell_type": "markdown",
   "metadata": {},
   "source": [
    "Tính tỉ lệ tử vong mỗi ngày trước và sau khi tiêm vaccine"
   ]
  },
  {
   "cell_type": "code",
   "execution_count": 224,
   "metadata": {},
   "outputs": [
    {
     "name": "stderr",
     "output_type": "stream",
     "text": [
      "C:\\Users\\nguye\\AppData\\Local\\Temp\\ipykernel_9904\\4284733332.py:1: SettingWithCopyWarning:\n",
      "\n",
      "\n",
      "A value is trying to be set on a copy of a slice from a DataFrame.\n",
      "Try using .loc[row_indexer,col_indexer] = value instead\n",
      "\n",
      "See the caveats in the documentation: https://pandas.pydata.org/pandas-docs/stable/user_guide/indexing.html#returning-a-view-versus-a-copy\n",
      "\n",
      "C:\\Users\\nguye\\AppData\\Local\\Temp\\ipykernel_9904\\4284733332.py:2: SettingWithCopyWarning:\n",
      "\n",
      "\n",
      "A value is trying to be set on a copy of a slice from a DataFrame.\n",
      "Try using .loc[row_indexer,col_indexer] = value instead\n",
      "\n",
      "See the caveats in the documentation: https://pandas.pydata.org/pandas-docs/stable/user_guide/indexing.html#returning-a-view-versus-a-copy\n",
      "\n"
     ]
    }
   ],
   "source": [
    "covid_world_before_vaccine[\"Mortality\"] = round((covid_world_before_vaccine['NewDeaths']/covid_world_before_vaccine['NewCases']), 4)\n",
    "covid_world_after_vaccine[\"Mortality\"] = round((covid_world_after_vaccine['NewDeaths']/covid_world_after_vaccine['NewCases']), 4)\n"
   ]
  },
  {
   "cell_type": "code",
   "execution_count": 225,
   "metadata": {},
   "outputs": [],
   "source": [
    "covid_world_before_vaccine = covid_world_before_vaccine.replace('', np.nan).fillna(0)\n",
    "covid_world_after_vaccine = covid_world_after_vaccine.replace('', np.nan).fillna(0)"
   ]
  },
  {
   "cell_type": "code",
   "execution_count": 226,
   "metadata": {},
   "outputs": [
    {
     "data": {
      "text/html": [
       "<div>\n",
       "<style scoped>\n",
       "    .dataframe tbody tr th:only-of-type {\n",
       "        vertical-align: middle;\n",
       "    }\n",
       "\n",
       "    .dataframe tbody tr th {\n",
       "        vertical-align: top;\n",
       "    }\n",
       "\n",
       "    .dataframe thead th {\n",
       "        text-align: right;\n",
       "    }\n",
       "</style>\n",
       "<table border=\"1\" class=\"dataframe\">\n",
       "  <thead>\n",
       "    <tr style=\"text-align: right;\">\n",
       "      <th></th>\n",
       "      <th>Continent</th>\n",
       "      <th>Location</th>\n",
       "      <th>Date</th>\n",
       "      <th>TotalCases</th>\n",
       "      <th>NewCases</th>\n",
       "      <th>TotalCases_per_million</th>\n",
       "      <th>NewCases_per_million</th>\n",
       "      <th>TotalDeaths</th>\n",
       "      <th>NewDeaths</th>\n",
       "      <th>TotalDeaths_per_million</th>\n",
       "      <th>NewDeaths_per_million</th>\n",
       "      <th>TotalVaccinations</th>\n",
       "      <th>PeopleVaccinated</th>\n",
       "      <th>PeopleFullyVaccinated</th>\n",
       "      <th>PeopleFullyVaccinated_per_hundred</th>\n",
       "      <th>Population</th>\n",
       "      <th>Mortality</th>\n",
       "    </tr>\n",
       "  </thead>\n",
       "  <tbody>\n",
       "    <tr>\n",
       "      <th>163423</th>\n",
       "      <td>0</td>\n",
       "      <td>World</td>\n",
       "      <td>2020-01-22</td>\n",
       "      <td>557.0</td>\n",
       "      <td>0.0</td>\n",
       "      <td>0.071</td>\n",
       "      <td>0.000</td>\n",
       "      <td>17.0</td>\n",
       "      <td>0.0</td>\n",
       "      <td>0.002</td>\n",
       "      <td>0.000</td>\n",
       "      <td>0.0</td>\n",
       "      <td>0.0</td>\n",
       "      <td>0.0</td>\n",
       "      <td>0.0</td>\n",
       "      <td>7.874966e+09</td>\n",
       "      <td>0.0000</td>\n",
       "    </tr>\n",
       "    <tr>\n",
       "      <th>163424</th>\n",
       "      <td>0</td>\n",
       "      <td>World</td>\n",
       "      <td>2020-01-23</td>\n",
       "      <td>657.0</td>\n",
       "      <td>100.0</td>\n",
       "      <td>0.083</td>\n",
       "      <td>0.013</td>\n",
       "      <td>18.0</td>\n",
       "      <td>1.0</td>\n",
       "      <td>0.002</td>\n",
       "      <td>0.000</td>\n",
       "      <td>0.0</td>\n",
       "      <td>0.0</td>\n",
       "      <td>0.0</td>\n",
       "      <td>0.0</td>\n",
       "      <td>7.874966e+09</td>\n",
       "      <td>0.0100</td>\n",
       "    </tr>\n",
       "    <tr>\n",
       "      <th>163425</th>\n",
       "      <td>0</td>\n",
       "      <td>World</td>\n",
       "      <td>2020-01-24</td>\n",
       "      <td>944.0</td>\n",
       "      <td>287.0</td>\n",
       "      <td>0.120</td>\n",
       "      <td>0.036</td>\n",
       "      <td>26.0</td>\n",
       "      <td>8.0</td>\n",
       "      <td>0.003</td>\n",
       "      <td>0.001</td>\n",
       "      <td>0.0</td>\n",
       "      <td>0.0</td>\n",
       "      <td>0.0</td>\n",
       "      <td>0.0</td>\n",
       "      <td>7.874966e+09</td>\n",
       "      <td>0.0279</td>\n",
       "    </tr>\n",
       "    <tr>\n",
       "      <th>163426</th>\n",
       "      <td>0</td>\n",
       "      <td>World</td>\n",
       "      <td>2020-01-25</td>\n",
       "      <td>1437.0</td>\n",
       "      <td>493.0</td>\n",
       "      <td>0.182</td>\n",
       "      <td>0.063</td>\n",
       "      <td>42.0</td>\n",
       "      <td>16.0</td>\n",
       "      <td>0.005</td>\n",
       "      <td>0.002</td>\n",
       "      <td>0.0</td>\n",
       "      <td>0.0</td>\n",
       "      <td>0.0</td>\n",
       "      <td>0.0</td>\n",
       "      <td>7.874966e+09</td>\n",
       "      <td>0.0325</td>\n",
       "    </tr>\n",
       "    <tr>\n",
       "      <th>163427</th>\n",
       "      <td>0</td>\n",
       "      <td>World</td>\n",
       "      <td>2020-01-26</td>\n",
       "      <td>2120.0</td>\n",
       "      <td>683.0</td>\n",
       "      <td>0.269</td>\n",
       "      <td>0.087</td>\n",
       "      <td>56.0</td>\n",
       "      <td>14.0</td>\n",
       "      <td>0.007</td>\n",
       "      <td>0.002</td>\n",
       "      <td>0.0</td>\n",
       "      <td>0.0</td>\n",
       "      <td>0.0</td>\n",
       "      <td>0.0</td>\n",
       "      <td>7.874966e+09</td>\n",
       "      <td>0.0205</td>\n",
       "    </tr>\n",
       "  </tbody>\n",
       "</table>\n",
       "</div>"
      ],
      "text/plain": [
       "        Continent Location        Date  TotalCases  NewCases  \\\n",
       "163423          0    World  2020-01-22       557.0       0.0   \n",
       "163424          0    World  2020-01-23       657.0     100.0   \n",
       "163425          0    World  2020-01-24       944.0     287.0   \n",
       "163426          0    World  2020-01-25      1437.0     493.0   \n",
       "163427          0    World  2020-01-26      2120.0     683.0   \n",
       "\n",
       "        TotalCases_per_million  NewCases_per_million  TotalDeaths  NewDeaths  \\\n",
       "163423                   0.071                 0.000         17.0        0.0   \n",
       "163424                   0.083                 0.013         18.0        1.0   \n",
       "163425                   0.120                 0.036         26.0        8.0   \n",
       "163426                   0.182                 0.063         42.0       16.0   \n",
       "163427                   0.269                 0.087         56.0       14.0   \n",
       "\n",
       "        TotalDeaths_per_million  NewDeaths_per_million  TotalVaccinations  \\\n",
       "163423                    0.002                  0.000                0.0   \n",
       "163424                    0.002                  0.000                0.0   \n",
       "163425                    0.003                  0.001                0.0   \n",
       "163426                    0.005                  0.002                0.0   \n",
       "163427                    0.007                  0.002                0.0   \n",
       "\n",
       "        PeopleVaccinated  PeopleFullyVaccinated  \\\n",
       "163423               0.0                    0.0   \n",
       "163424               0.0                    0.0   \n",
       "163425               0.0                    0.0   \n",
       "163426               0.0                    0.0   \n",
       "163427               0.0                    0.0   \n",
       "\n",
       "        PeopleFullyVaccinated_per_hundred    Population  Mortality  \n",
       "163423                                0.0  7.874966e+09     0.0000  \n",
       "163424                                0.0  7.874966e+09     0.0100  \n",
       "163425                                0.0  7.874966e+09     0.0279  \n",
       "163426                                0.0  7.874966e+09     0.0325  \n",
       "163427                                0.0  7.874966e+09     0.0205  "
      ]
     },
     "execution_count": 226,
     "metadata": {},
     "output_type": "execute_result"
    }
   ],
   "source": [
    "covid_world_before_vaccine.head()"
   ]
  },
  {
   "cell_type": "code",
   "execution_count": 227,
   "metadata": {},
   "outputs": [
    {
     "data": {
      "text/html": [
       "<div>\n",
       "<style scoped>\n",
       "    .dataframe tbody tr th:only-of-type {\n",
       "        vertical-align: middle;\n",
       "    }\n",
       "\n",
       "    .dataframe tbody tr th {\n",
       "        vertical-align: top;\n",
       "    }\n",
       "\n",
       "    .dataframe thead th {\n",
       "        text-align: right;\n",
       "    }\n",
       "</style>\n",
       "<table border=\"1\" class=\"dataframe\">\n",
       "  <thead>\n",
       "    <tr style=\"text-align: right;\">\n",
       "      <th></th>\n",
       "      <th>Continent</th>\n",
       "      <th>Location</th>\n",
       "      <th>Date</th>\n",
       "      <th>TotalCases</th>\n",
       "      <th>NewCases</th>\n",
       "      <th>TotalCases_per_million</th>\n",
       "      <th>NewCases_per_million</th>\n",
       "      <th>TotalDeaths</th>\n",
       "      <th>NewDeaths</th>\n",
       "      <th>TotalDeaths_per_million</th>\n",
       "      <th>NewDeaths_per_million</th>\n",
       "      <th>TotalVaccinations</th>\n",
       "      <th>PeopleVaccinated</th>\n",
       "      <th>PeopleFullyVaccinated</th>\n",
       "      <th>PeopleFullyVaccinated_per_hundred</th>\n",
       "      <th>Population</th>\n",
       "      <th>Mortality</th>\n",
       "    </tr>\n",
       "  </thead>\n",
       "  <tbody>\n",
       "    <tr>\n",
       "      <th>163740</th>\n",
       "      <td>0</td>\n",
       "      <td>World</td>\n",
       "      <td>2020-12-04</td>\n",
       "      <td>66049040.0</td>\n",
       "      <td>688697.0</td>\n",
       "      <td>8387.216</td>\n",
       "      <td>87.454</td>\n",
       "      <td>1576378.0</td>\n",
       "      <td>12460.0</td>\n",
       "      <td>200.176</td>\n",
       "      <td>1.582</td>\n",
       "      <td>1.0</td>\n",
       "      <td>1.0</td>\n",
       "      <td>0.0</td>\n",
       "      <td>0.0</td>\n",
       "      <td>7.874966e+09</td>\n",
       "      <td>0.0181</td>\n",
       "    </tr>\n",
       "    <tr>\n",
       "      <th>163741</th>\n",
       "      <td>0</td>\n",
       "      <td>World</td>\n",
       "      <td>2020-12-05</td>\n",
       "      <td>66697974.0</td>\n",
       "      <td>648934.0</td>\n",
       "      <td>8469.621</td>\n",
       "      <td>82.405</td>\n",
       "      <td>1586715.0</td>\n",
       "      <td>10337.0</td>\n",
       "      <td>201.488</td>\n",
       "      <td>1.313</td>\n",
       "      <td>1.0</td>\n",
       "      <td>1.0</td>\n",
       "      <td>0.0</td>\n",
       "      <td>0.0</td>\n",
       "      <td>7.874966e+09</td>\n",
       "      <td>0.0159</td>\n",
       "    </tr>\n",
       "    <tr>\n",
       "      <th>163742</th>\n",
       "      <td>0</td>\n",
       "      <td>World</td>\n",
       "      <td>2020-12-06</td>\n",
       "      <td>67234273.0</td>\n",
       "      <td>536299.0</td>\n",
       "      <td>8537.723</td>\n",
       "      <td>68.102</td>\n",
       "      <td>1594444.0</td>\n",
       "      <td>7729.0</td>\n",
       "      <td>202.470</td>\n",
       "      <td>0.981</td>\n",
       "      <td>1.0</td>\n",
       "      <td>1.0</td>\n",
       "      <td>0.0</td>\n",
       "      <td>0.0</td>\n",
       "      <td>7.874966e+09</td>\n",
       "      <td>0.0144</td>\n",
       "    </tr>\n",
       "    <tr>\n",
       "      <th>163743</th>\n",
       "      <td>0</td>\n",
       "      <td>World</td>\n",
       "      <td>2020-12-07</td>\n",
       "      <td>67761913.0</td>\n",
       "      <td>527640.0</td>\n",
       "      <td>8604.725</td>\n",
       "      <td>67.002</td>\n",
       "      <td>1603158.0</td>\n",
       "      <td>8714.0</td>\n",
       "      <td>203.577</td>\n",
       "      <td>1.107</td>\n",
       "      <td>2.0</td>\n",
       "      <td>2.0</td>\n",
       "      <td>0.0</td>\n",
       "      <td>0.0</td>\n",
       "      <td>7.874966e+09</td>\n",
       "      <td>0.0165</td>\n",
       "    </tr>\n",
       "    <tr>\n",
       "      <th>163744</th>\n",
       "      <td>0</td>\n",
       "      <td>World</td>\n",
       "      <td>2020-12-08</td>\n",
       "      <td>68405171.0</td>\n",
       "      <td>643258.0</td>\n",
       "      <td>8686.409</td>\n",
       "      <td>81.684</td>\n",
       "      <td>1615473.0</td>\n",
       "      <td>12317.0</td>\n",
       "      <td>205.140</td>\n",
       "      <td>1.564</td>\n",
       "      <td>8.0</td>\n",
       "      <td>8.0</td>\n",
       "      <td>0.0</td>\n",
       "      <td>0.0</td>\n",
       "      <td>7.874966e+09</td>\n",
       "      <td>0.0191</td>\n",
       "    </tr>\n",
       "  </tbody>\n",
       "</table>\n",
       "</div>"
      ],
      "text/plain": [
       "        Continent Location        Date  TotalCases  NewCases  \\\n",
       "163740          0    World  2020-12-04  66049040.0  688697.0   \n",
       "163741          0    World  2020-12-05  66697974.0  648934.0   \n",
       "163742          0    World  2020-12-06  67234273.0  536299.0   \n",
       "163743          0    World  2020-12-07  67761913.0  527640.0   \n",
       "163744          0    World  2020-12-08  68405171.0  643258.0   \n",
       "\n",
       "        TotalCases_per_million  NewCases_per_million  TotalDeaths  NewDeaths  \\\n",
       "163740                8387.216                87.454    1576378.0    12460.0   \n",
       "163741                8469.621                82.405    1586715.0    10337.0   \n",
       "163742                8537.723                68.102    1594444.0     7729.0   \n",
       "163743                8604.725                67.002    1603158.0     8714.0   \n",
       "163744                8686.409                81.684    1615473.0    12317.0   \n",
       "\n",
       "        TotalDeaths_per_million  NewDeaths_per_million  TotalVaccinations  \\\n",
       "163740                  200.176                  1.582                1.0   \n",
       "163741                  201.488                  1.313                1.0   \n",
       "163742                  202.470                  0.981                1.0   \n",
       "163743                  203.577                  1.107                2.0   \n",
       "163744                  205.140                  1.564                8.0   \n",
       "\n",
       "        PeopleVaccinated  PeopleFullyVaccinated  \\\n",
       "163740               1.0                    0.0   \n",
       "163741               1.0                    0.0   \n",
       "163742               1.0                    0.0   \n",
       "163743               2.0                    0.0   \n",
       "163744               8.0                    0.0   \n",
       "\n",
       "        PeopleFullyVaccinated_per_hundred    Population  Mortality  \n",
       "163740                                0.0  7.874966e+09     0.0181  \n",
       "163741                                0.0  7.874966e+09     0.0159  \n",
       "163742                                0.0  7.874966e+09     0.0144  \n",
       "163743                                0.0  7.874966e+09     0.0165  \n",
       "163744                                0.0  7.874966e+09     0.0191  "
      ]
     },
     "execution_count": 227,
     "metadata": {},
     "output_type": "execute_result"
    }
   ],
   "source": [
    "covid_world_after_vaccine.head()"
   ]
  },
  {
   "cell_type": "code",
   "execution_count": 228,
   "metadata": {},
   "outputs": [
    {
     "data": {
      "application/vnd.plotly.v1+json": {
       "config": {
        "plotlyServerURL": "https://plot.ly"
       },
       "data": [
        {
         "marker": {
          "color": "yellow"
         },
         "name": "Before",
         "type": "bar",
         "uid": "ce44db89-0d0c-4f52-b041-7b77f796bdae",
         "x": [
          "2020-01-22",
          "2020-01-23",
          "2020-01-24",
          "2020-01-25",
          "2020-01-26",
          "2020-01-27",
          "2020-01-28",
          "2020-01-29",
          "2020-01-30",
          "2020-01-31",
          "2020-02-01",
          "2020-02-02",
          "2020-02-03",
          "2020-02-04",
          "2020-02-05",
          "2020-02-06",
          "2020-02-07",
          "2020-02-08",
          "2020-02-09",
          "2020-02-10",
          "2020-02-11",
          "2020-02-12",
          "2020-02-13",
          "2020-02-14",
          "2020-02-15",
          "2020-02-16",
          "2020-02-17",
          "2020-02-18",
          "2020-02-19",
          "2020-02-20",
          "2020-02-21",
          "2020-02-22",
          "2020-02-23",
          "2020-02-24",
          "2020-02-25",
          "2020-02-26",
          "2020-02-27",
          "2020-02-28",
          "2020-02-29",
          "2020-03-01",
          "2020-03-02",
          "2020-03-03",
          "2020-03-04",
          "2020-03-05",
          "2020-03-06",
          "2020-03-07",
          "2020-03-08",
          "2020-03-09",
          "2020-03-10",
          "2020-03-11",
          "2020-03-12",
          "2020-03-13",
          "2020-03-14",
          "2020-03-15",
          "2020-03-16",
          "2020-03-17",
          "2020-03-18",
          "2020-03-19",
          "2020-03-20",
          "2020-03-21",
          "2020-03-22",
          "2020-03-23",
          "2020-03-24",
          "2020-03-25",
          "2020-03-26",
          "2020-03-27",
          "2020-03-28",
          "2020-03-29",
          "2020-03-30",
          "2020-03-31",
          "2020-04-01",
          "2020-04-02",
          "2020-04-03",
          "2020-04-04",
          "2020-04-05",
          "2020-04-06",
          "2020-04-07",
          "2020-04-08",
          "2020-04-09",
          "2020-04-10",
          "2020-04-11",
          "2020-04-12",
          "2020-04-13",
          "2020-04-14",
          "2020-04-15",
          "2020-04-16",
          "2020-04-17",
          "2020-04-18",
          "2020-04-19",
          "2020-04-20",
          "2020-04-21",
          "2020-04-22",
          "2020-04-23",
          "2020-04-24",
          "2020-04-25",
          "2020-04-26",
          "2020-04-27",
          "2020-04-28",
          "2020-04-29",
          "2020-04-30",
          "2020-05-01",
          "2020-05-02",
          "2020-05-03",
          "2020-05-04",
          "2020-05-05",
          "2020-05-06",
          "2020-05-07",
          "2020-05-08",
          "2020-05-09",
          "2020-05-10",
          "2020-05-11",
          "2020-05-12",
          "2020-05-13",
          "2020-05-14",
          "2020-05-15",
          "2020-05-16",
          "2020-05-17",
          "2020-05-18",
          "2020-05-19",
          "2020-05-20",
          "2020-05-21",
          "2020-05-22",
          "2020-05-23",
          "2020-05-24",
          "2020-05-25",
          "2020-05-26",
          "2020-05-27",
          "2020-05-28",
          "2020-05-29",
          "2020-05-30",
          "2020-05-31",
          "2020-06-01",
          "2020-06-02",
          "2020-06-03",
          "2020-06-04",
          "2020-06-05",
          "2020-06-06",
          "2020-06-07",
          "2020-06-08",
          "2020-06-09",
          "2020-06-10",
          "2020-06-11",
          "2020-06-12",
          "2020-06-13",
          "2020-06-14",
          "2020-06-15",
          "2020-06-16",
          "2020-06-17",
          "2020-06-18",
          "2020-06-19",
          "2020-06-20",
          "2020-06-21",
          "2020-06-22",
          "2020-06-23",
          "2020-06-24",
          "2020-06-25",
          "2020-06-26",
          "2020-06-27",
          "2020-06-28",
          "2020-06-29",
          "2020-06-30",
          "2020-07-01",
          "2020-07-02",
          "2020-07-03",
          "2020-07-04",
          "2020-07-05",
          "2020-07-06",
          "2020-07-07",
          "2020-07-08",
          "2020-07-09",
          "2020-07-10",
          "2020-07-11",
          "2020-07-12",
          "2020-07-13",
          "2020-07-14",
          "2020-07-15",
          "2020-07-16",
          "2020-07-17",
          "2020-07-18",
          "2020-07-19",
          "2020-07-20",
          "2020-07-21",
          "2020-07-22",
          "2020-07-23",
          "2020-07-24",
          "2020-07-25",
          "2020-07-26",
          "2020-07-27",
          "2020-07-28",
          "2020-07-29",
          "2020-07-30",
          "2020-07-31",
          "2020-08-01",
          "2020-08-02",
          "2020-08-03",
          "2020-08-04",
          "2020-08-05",
          "2020-08-06",
          "2020-08-07",
          "2020-08-08",
          "2020-08-09",
          "2020-08-10",
          "2020-08-11",
          "2020-08-12",
          "2020-08-13",
          "2020-08-14",
          "2020-08-15",
          "2020-08-16",
          "2020-08-17",
          "2020-08-18",
          "2020-08-19",
          "2020-08-20",
          "2020-08-21",
          "2020-08-22",
          "2020-08-23",
          "2020-08-24",
          "2020-08-25",
          "2020-08-26",
          "2020-08-27",
          "2020-08-28",
          "2020-08-29",
          "2020-08-30",
          "2020-08-31",
          "2020-09-01",
          "2020-09-02",
          "2020-09-03",
          "2020-09-04",
          "2020-09-05",
          "2020-09-06",
          "2020-09-07",
          "2020-09-08",
          "2020-09-09",
          "2020-09-10",
          "2020-09-11",
          "2020-09-12",
          "2020-09-13",
          "2020-09-14",
          "2020-09-15",
          "2020-09-16",
          "2020-09-17",
          "2020-09-18",
          "2020-09-19",
          "2020-09-20",
          "2020-09-21",
          "2020-09-22",
          "2020-09-23",
          "2020-09-24",
          "2020-09-25",
          "2020-09-26",
          "2020-09-27",
          "2020-09-28",
          "2020-09-29",
          "2020-09-30",
          "2020-10-01",
          "2020-10-02",
          "2020-10-03",
          "2020-10-04",
          "2020-10-05",
          "2020-10-06",
          "2020-10-07",
          "2020-10-08",
          "2020-10-09",
          "2020-10-10",
          "2020-10-11",
          "2020-10-12",
          "2020-10-13",
          "2020-10-14",
          "2020-10-15",
          "2020-10-16",
          "2020-10-17",
          "2020-10-18",
          "2020-10-19",
          "2020-10-20",
          "2020-10-21",
          "2020-10-22",
          "2020-10-23",
          "2020-10-24",
          "2020-10-25",
          "2020-10-26",
          "2020-10-27",
          "2020-10-28",
          "2020-10-29",
          "2020-10-30",
          "2020-10-31",
          "2020-11-01",
          "2020-11-02",
          "2020-11-03",
          "2020-11-04",
          "2020-11-05",
          "2020-11-06",
          "2020-11-07",
          "2020-11-08",
          "2020-11-09",
          "2020-11-10",
          "2020-11-11",
          "2020-11-12",
          "2020-11-13",
          "2020-11-14",
          "2020-11-15",
          "2020-11-16",
          "2020-11-17",
          "2020-11-18",
          "2020-11-19",
          "2020-11-20",
          "2020-11-21",
          "2020-11-22",
          "2020-11-23",
          "2020-11-24",
          "2020-11-25",
          "2020-11-26",
          "2020-11-27",
          "2020-11-28",
          "2020-11-29",
          "2020-11-30",
          "2020-12-01",
          "2020-12-02",
          "2020-12-03"
         ],
         "y": [
          0,
          0.01,
          0.0279,
          0.0325,
          0.0205,
          0.0321,
          0.0185,
          0.0034,
          0.0184,
          0.0249,
          0.0218,
          0.0217,
          0.0206,
          0.0165,
          0.0192,
          0.0221,
          0.0237,
          0.0319,
          0.033,
          0.041,
          0.0489,
          0.012,
          0.0167,
          0.0233,
          0.0667,
          0.0476,
          0.0482,
          0.0744,
          0.23,
          0.2228,
          0.0063,
          0.1175,
          0.0288,
          0.2817,
          0.0936,
          0.0624,
          0.0316,
          0.0422,
          0.037,
          0.0227,
          0.045,
          0.0284,
          0.0406,
          0.0329,
          0.0287,
          0.0255,
          0.0614,
          0.0453,
          0.0563,
          0.0446,
          0.0506,
          0.0348,
          0.0379,
          0.0565,
          0.0468,
          0.0506,
          0.0467,
          0.041,
          0.0482,
          0.054,
          0.048,
          0.0457,
          0.0562,
          0.0552,
          0.0484,
          0.0538,
          0.0553,
          0.0618,
          0.0628,
          0.0618,
          0.0735,
          0.0716,
          0.0744,
          0.0819,
          0.0752,
          0.081,
          0.1149,
          0.0827,
          0.091,
          0.0875,
          0.0859,
          0.0504,
          0.0856,
          0.0853,
          0.1094,
          0.0785,
          0.0977,
          0.0815,
          0.0706,
          0.08,
          0.0975,
          0.0861,
          0.0824,
          0.0738,
          0.0708,
          0.0603,
          0.0693,
          0.0901,
          0.0876,
          0.0727,
          0.0615,
          0.0741,
          0.0517,
          0.0576,
          0.0765,
          0.0757,
          0.063,
          0.0641,
          0.0541,
          0.0539,
          0.051,
          0.0689,
          0.0648,
          0.0586,
          0.0586,
          0.0482,
          0.0458,
          0.0466,
          0.0553,
          0.0511,
          0.0468,
          0.0529,
          0.042,
          0.038,
          0.039,
          0.0499,
          0.0523,
          0.042,
          0.0424,
          0.0317,
          0.0307,
          0.0366,
          0.0423,
          0.0496,
          0.0393,
          0.0384,
          0.0315,
          0.0281,
          0.042,
          0.0405,
          0.0397,
          0.0376,
          0.037,
          0.033,
          0.0277,
          0.032,
          0.0494,
          0.0383,
          0.0372,
          0.0284,
          0.0239,
          0.0407,
          0.0268,
          0.0332,
          0.0321,
          0.0284,
          0.0263,
          0.0266,
          0.0212,
          0.0263,
          0.0286,
          0.0249,
          0.0268,
          0.0258,
          0.0251,
          0.0205,
          0.0251,
          0.0306,
          0.0261,
          0.0259,
          0.0246,
          0.0239,
          0.0224,
          0.0224,
          0.0272,
          0.0257,
          0.0252,
          0.0294,
          0.0276,
          0.0231,
          0.0188,
          0.0263,
          0.0267,
          0.0237,
          0.0227,
          0.0244,
          0.0204,
          0.0226,
          0.0263,
          0.0245,
          0.0241,
          0.0228,
          0.0244,
          0.0202,
          0.0233,
          0.027,
          0.0268,
          0.0238,
          0.0238,
          0.0227,
          0.0221,
          0.0229,
          0.025,
          0.0253,
          0.0234,
          0.0214,
          0.0243,
          0.0227,
          0.0216,
          0.0272,
          0.0252,
          0.0238,
          0.0235,
          0.0222,
          0.0212,
          0.0211,
          0.0269,
          0.0237,
          0.0217,
          0.0204,
          0.0224,
          0.0195,
          0.0167,
          0.0248,
          0.0223,
          0.0214,
          0.0196,
          0.0188,
          0.018,
          0.0254,
          0.0209,
          0.022,
          0.0199,
          0.019,
          0.0175,
          0.0159,
          0.0171,
          0.0235,
          0.0193,
          0.018,
          0.0179,
          0.0182,
          0.0155,
          0.0169,
          0.0218,
          0.021,
          0.0177,
          0.0182,
          0.0192,
          0.0155,
          0.0155,
          0.0216,
          0.0199,
          0.0279,
          0.017,
          0.016,
          0.0154,
          0.0137,
          0.0186,
          0.0169,
          0.0177,
          0.0172,
          0.0138,
          0.0144,
          0.0138,
          0.017,
          0.0162,
          0.0152,
          0.0152,
          0.0154,
          0.0117,
          0.0125,
          0.017,
          0.0155,
          0.0125,
          0.0142,
          0.013,
          0.012,
          0.0116,
          0.0159,
          0.0139,
          0.0131,
          0.0134,
          0.0141,
          0.0118,
          0.011,
          0.0171,
          0.0185,
          0.014,
          0.0147,
          0.013,
          0.0126,
          0.0143,
          0.0174,
          0.0168,
          0.0152,
          0.0148,
          0.0156,
          0.0139,
          0.015,
          0.0182,
          0.0182,
          0.017,
          0.0175,
          0.0154,
          0.0153,
          0.016,
          0.0215,
          0.0192,
          0.0186,
          0.0166,
          0.0154,
          0.0151,
          0.0177,
          0.0205,
          0.0195,
          0.0182
         ]
        },
        {
         "marker": {
          "color": "aqua"
         },
         "name": "After",
         "type": "bar",
         "uid": "5f4091d8-cbf0-4235-9086-1977fc5040ac",
         "x": [
          "2020-12-04",
          "2020-12-05",
          "2020-12-06",
          "2020-12-07",
          "2020-12-08",
          "2020-12-09",
          "2020-12-10",
          "2020-12-11",
          "2020-12-12",
          "2020-12-13",
          "2020-12-14",
          "2020-12-15",
          "2020-12-16",
          "2020-12-17",
          "2020-12-18",
          "2020-12-19",
          "2020-12-20",
          "2020-12-21",
          "2020-12-22",
          "2020-12-23",
          "2020-12-24",
          "2020-12-25",
          "2020-12-26",
          "2020-12-27",
          "2020-12-28",
          "2020-12-29",
          "2020-12-30",
          "2020-12-31",
          "2021-01-01",
          "2021-01-02",
          "2021-01-03",
          "2021-01-04",
          "2021-01-05",
          "2021-01-06",
          "2021-01-07",
          "2021-01-08",
          "2021-01-09",
          "2021-01-10",
          "2021-01-11",
          "2021-01-12",
          "2021-01-13",
          "2021-01-14",
          "2021-01-15",
          "2021-01-16",
          "2021-01-17",
          "2021-01-18",
          "2021-01-19",
          "2021-01-20",
          "2021-01-21",
          "2021-01-22",
          "2021-01-23",
          "2021-01-24",
          "2021-01-25",
          "2021-01-26",
          "2021-01-27",
          "2021-01-28",
          "2021-01-29",
          "2021-01-30",
          "2021-01-31",
          "2021-02-01",
          "2021-02-02",
          "2021-02-03",
          "2021-02-04",
          "2021-02-05",
          "2021-02-06",
          "2021-02-07",
          "2021-02-08",
          "2021-02-09",
          "2021-02-10",
          "2021-02-11",
          "2021-02-12",
          "2021-02-13",
          "2021-02-14",
          "2021-02-15",
          "2021-02-16",
          "2021-02-17",
          "2021-02-18",
          "2021-02-19",
          "2021-02-20",
          "2021-02-21",
          "2021-02-22",
          "2021-02-23",
          "2021-02-24",
          "2021-02-25",
          "2021-02-26",
          "2021-02-27",
          "2021-02-28",
          "2021-03-01",
          "2021-03-02",
          "2021-03-03",
          "2021-03-04",
          "2021-03-05",
          "2021-03-06",
          "2021-03-07",
          "2021-03-08",
          "2021-03-09",
          "2021-03-10",
          "2021-03-11",
          "2021-03-12",
          "2021-03-13",
          "2021-03-14",
          "2021-03-15",
          "2021-03-16",
          "2021-03-17",
          "2021-03-18",
          "2021-03-19",
          "2021-03-20",
          "2021-03-21",
          "2021-03-22",
          "2021-03-23",
          "2021-03-24",
          "2021-03-25",
          "2021-03-26",
          "2021-03-27",
          "2021-03-28",
          "2021-03-29",
          "2021-03-30",
          "2021-03-31",
          "2021-04-01",
          "2021-04-02",
          "2021-04-03",
          "2021-04-04",
          "2021-04-05",
          "2021-04-06",
          "2021-04-07",
          "2021-04-08",
          "2021-04-09",
          "2021-04-10",
          "2021-04-11",
          "2021-04-12",
          "2021-04-13",
          "2021-04-14",
          "2021-04-15",
          "2021-04-16",
          "2021-04-17",
          "2021-04-18",
          "2021-04-19",
          "2021-04-20",
          "2021-04-21",
          "2021-04-22",
          "2021-04-23",
          "2021-04-24",
          "2021-04-25",
          "2021-04-26",
          "2021-04-27",
          "2021-04-28",
          "2021-04-29",
          "2021-04-30",
          "2021-05-01",
          "2021-05-02",
          "2021-05-03",
          "2021-05-04",
          "2021-05-05",
          "2021-05-06",
          "2021-05-07",
          "2021-05-08",
          "2021-05-09",
          "2021-05-10",
          "2021-05-11",
          "2021-05-12",
          "2021-05-13",
          "2021-05-14",
          "2021-05-15",
          "2021-05-16",
          "2021-05-17",
          "2021-05-18",
          "2021-05-19",
          "2021-05-20",
          "2021-05-21",
          "2021-05-22",
          "2021-05-23",
          "2021-05-24",
          "2021-05-25",
          "2021-05-26",
          "2021-05-27",
          "2021-05-28",
          "2021-05-29",
          "2021-05-30",
          "2021-05-31",
          "2021-06-01",
          "2021-06-02",
          "2021-06-03",
          "2021-06-04",
          "2021-06-05",
          "2021-06-06",
          "2021-06-07",
          "2021-06-08",
          "2021-06-09",
          "2021-06-10",
          "2021-06-11",
          "2021-06-12",
          "2021-06-13",
          "2021-06-14",
          "2021-06-15",
          "2021-06-16",
          "2021-06-17",
          "2021-06-18",
          "2021-06-19",
          "2021-06-20",
          "2021-06-21",
          "2021-06-22",
          "2021-06-23",
          "2021-06-24",
          "2021-06-25",
          "2021-06-26",
          "2021-06-27",
          "2021-06-28",
          "2021-06-29",
          "2021-06-30",
          "2021-07-01",
          "2021-07-02",
          "2021-07-03",
          "2021-07-04",
          "2021-07-05",
          "2021-07-06",
          "2021-07-07",
          "2021-07-08",
          "2021-07-09",
          "2021-07-10",
          "2021-07-11",
          "2021-07-12",
          "2021-07-13",
          "2021-07-14",
          "2021-07-15",
          "2021-07-16",
          "2021-07-17",
          "2021-07-18",
          "2021-07-19",
          "2021-07-20",
          "2021-07-21",
          "2021-07-22",
          "2021-07-23",
          "2021-07-24",
          "2021-07-25",
          "2021-07-26",
          "2021-07-27",
          "2021-07-28",
          "2021-07-29",
          "2021-07-30",
          "2021-07-31",
          "2021-08-01",
          "2021-08-02",
          "2021-08-03",
          "2021-08-04",
          "2021-08-05",
          "2021-08-06",
          "2021-08-07",
          "2021-08-08",
          "2021-08-09",
          "2021-08-10",
          "2021-08-11",
          "2021-08-12",
          "2021-08-13",
          "2021-08-14",
          "2021-08-15",
          "2021-08-16",
          "2021-08-17",
          "2021-08-18",
          "2021-08-19",
          "2021-08-20",
          "2021-08-21",
          "2021-08-22",
          "2021-08-23",
          "2021-08-24",
          "2021-08-25",
          "2021-08-26",
          "2021-08-27",
          "2021-08-28",
          "2021-08-29",
          "2021-08-30",
          "2021-08-31",
          "2021-09-01",
          "2021-09-02",
          "2021-09-03",
          "2021-09-04",
          "2021-09-05",
          "2021-09-06",
          "2021-09-07",
          "2021-09-08",
          "2021-09-09",
          "2021-09-10",
          "2021-09-11",
          "2021-09-12",
          "2021-09-13",
          "2021-09-14",
          "2021-09-15",
          "2021-09-16",
          "2021-09-17",
          "2021-09-18",
          "2021-09-19",
          "2021-09-20",
          "2021-09-21",
          "2021-09-22",
          "2021-09-23",
          "2021-09-24",
          "2021-09-25",
          "2021-09-26",
          "2021-09-27",
          "2021-09-28",
          "2021-09-29",
          "2021-09-30",
          "2021-10-01",
          "2021-10-02",
          "2021-10-03",
          "2021-10-04",
          "2021-10-05",
          "2021-10-06",
          "2021-10-07",
          "2021-10-08",
          "2021-10-09",
          "2021-10-10",
          "2021-10-11",
          "2021-10-12",
          "2021-10-13",
          "2021-10-14",
          "2021-10-15",
          "2021-10-16",
          "2021-10-17",
          "2021-10-18",
          "2021-10-19",
          "2021-10-20",
          "2021-10-21",
          "2021-10-22",
          "2021-10-23",
          "2021-10-24",
          "2021-10-25",
          "2021-10-26",
          "2021-10-27",
          "2021-10-28",
          "2021-10-29",
          "2021-10-30",
          "2021-10-31",
          "2021-11-01",
          "2021-11-02",
          "2021-11-03",
          "2021-11-04",
          "2021-11-05",
          "2021-11-06",
          "2021-11-07",
          "2021-11-08",
          "2021-11-09",
          "2021-11-10",
          "2021-11-11",
          "2021-11-12",
          "2021-11-13",
          "2021-11-14",
          "2021-11-15",
          "2021-11-16",
          "2021-11-17",
          "2021-11-18",
          "2021-11-19",
          "2021-11-20",
          "2021-11-21",
          "2021-11-22",
          "2021-11-23",
          "2021-11-24",
          "2021-11-25",
          "2021-11-26",
          "2021-11-27",
          "2021-11-28",
          "2021-11-29",
          "2021-11-30",
          "2021-12-01",
          "2021-12-02",
          "2021-12-03",
          "2021-12-04",
          "2021-12-05",
          "2021-12-06",
          "2021-12-07",
          "2021-12-08",
          "2021-12-09",
          "2021-12-10",
          "2021-12-11",
          "2021-12-12",
          "2021-12-13",
          "2021-12-14",
          "2021-12-15",
          "2021-12-16",
          "2021-12-17",
          "2021-12-18",
          "2021-12-19",
          "2021-12-20",
          "2021-12-21",
          "2021-12-22",
          "2021-12-23",
          "2021-12-24",
          "2021-12-25",
          "2021-12-26",
          "2021-12-27",
          "2021-12-28",
          "2021-12-29",
          "2021-12-30",
          "2021-12-31",
          "2022-01-01",
          "2022-01-02",
          "2022-01-03",
          "2022-01-04",
          "2022-01-05",
          "2022-01-06",
          "2022-01-07",
          "2022-01-08",
          "2022-01-09",
          "2022-01-10",
          "2022-01-11",
          "2022-01-12",
          "2022-01-13",
          "2022-01-14",
          "2022-01-15",
          "2022-01-16",
          "2022-01-17",
          "2022-01-18",
          "2022-01-19",
          "2022-01-20",
          "2022-01-21",
          "2022-01-22",
          "2022-01-23",
          "2022-01-24",
          "2022-01-25",
          "2022-01-26",
          "2022-01-27",
          "2022-01-28",
          "2022-01-29",
          "2022-01-30",
          "2022-01-31",
          "2022-02-01",
          "2022-02-02",
          "2022-02-03",
          "2022-02-04",
          "2022-02-05",
          "2022-02-06",
          "2022-02-07",
          "2022-02-08",
          "2022-02-09",
          "2022-02-10",
          "2022-02-11",
          "2022-02-12",
          "2022-02-13",
          "2022-02-14",
          "2022-02-15",
          "2022-02-16",
          "2022-02-17",
          "2022-02-18",
          "2022-02-19",
          "2022-02-20",
          "2022-02-21",
          "2022-02-22",
          "2022-02-23",
          "2022-02-24",
          "2022-02-25",
          "2022-02-26",
          "2022-02-27",
          "2022-02-28",
          "2022-03-01",
          "2022-03-02",
          "2022-03-03",
          "2022-03-04",
          "2022-03-05"
         ],
         "y": [
          0.0181,
          0.0159,
          0.0144,
          0.0165,
          0.0191,
          0.0188,
          0.0186,
          0.0185,
          0.0168,
          0.0147,
          0.0169,
          0.0208,
          0.0191,
          0.0181,
          0.0179,
          0.0177,
          0.0151,
          0.0173,
          0.0213,
          0.0199,
          0.0172,
          0.0178,
          0.0147,
          0.0188,
          0.0192,
          0.0224,
          0.0212,
          0.016,
          0.0169,
          0.0144,
          0.0147,
          0.018,
          0.0208,
          0.0189,
          0.017,
          0.0187,
          0.017,
          0.015,
          0.0164,
          0.0244,
          0.0225,
          0.0205,
          0.0194,
          0.021,
          0.0172,
          0.0188,
          0.0281,
          0.0257,
          0.0262,
          0.0242,
          0.0243,
          0.0199,
          0.0229,
          0.031,
          0.0287,
          0.0279,
          0.026,
          0.026,
          0.0227,
          0.0234,
          0.033,
          0.0304,
          0.0276,
          0.032,
          0.0263,
          0.0208,
          0.028,
          0.0378,
          0.0317,
          0.031,
          0.0303,
          0.0275,
          0.0216,
          0.0266,
          0.0314,
          0.0308,
          0.029,
          0.0285,
          0.0234,
          0.0205,
          0.025,
          0.0296,
          0.028,
          0.0235,
          0.0244,
          0.0215,
          0.0204,
          0.0252,
          0.0268,
          0.0265,
          0.0227,
          0.0234,
          0.0196,
          0.0158,
          0.0239,
          0.0255,
          0.0217,
          0.0212,
          0.0202,
          0.0186,
          0.0162,
          0.0216,
          0.0226,
          0.0192,
          0.0196,
          0.0193,
          0.0175,
          0.0195,
          0.019,
          0.0221,
          0.0168,
          0.0177,
          0.0199,
          0.0175,
          0.0152,
          0.019,
          0.0209,
          0.0189,
          0.0174,
          0.0165,
          0.0177,
          0.0132,
          0.0167,
          0.0206,
          0.0228,
          0.017,
          0.0191,
          0.0193,
          0.0131,
          0.0165,
          0.0177,
          0.0171,
          0.0167,
          0.0156,
          0.0158,
          0.0134,
          0.0163,
          0.0167,
          0.0165,
          0.0154,
          0.017,
          0.0159,
          0.0147,
          0.0174,
          0.0175,
          0.0176,
          0.0176,
          0.0163,
          0.0163,
          0.0151,
          0.0173,
          0.0176,
          0.0175,
          0.0169,
          0.0174,
          0.0168,
          0.0162,
          0.018,
          0.0192,
          0.0184,
          0.0186,
          0.0183,
          0.0193,
          0.0188,
          0.0211,
          0.0226,
          0.02,
          0.0209,
          0.0207,
          0.0198,
          0.0204,
          0.0202,
          0.0247,
          0.0224,
          0.0235,
          0.0238,
          0.0223,
          0.0214,
          0.0227,
          0.0238,
          0.0244,
          0.021,
          0.0251,
          0.0236,
          0.0224,
          0.0254,
          0.0286,
          0.0242,
          0.019,
          0.0279,
          0.0263,
          0.0306,
          0.026,
          0.0287,
          0.0258,
          0.0235,
          0.0228,
          0.0232,
          0.0222,
          0.0237,
          0.0218,
          0.0237,
          0.0211,
          0.0221,
          0.0206,
          0.0195,
          0.0198,
          0.0214,
          0.023,
          0.0196,
          0.0188,
          0.0185,
          0.0202,
          0.0196,
          0.0189,
          0.0183,
          0.0185,
          0.0163,
          0.0172,
          0.0205,
          0.0187,
          0.0159,
          0.016,
          0.0149,
          0.0145,
          0.0153,
          0.0157,
          0.0147,
          0.0224,
          0.0156,
          0.0155,
          0.0114,
          0.0177,
          0.0164,
          0.0156,
          0.0162,
          0.0158,
          0.0159,
          0.0131,
          0.0171,
          0.0153,
          0.0141,
          0.0164,
          0.0154,
          0.016,
          0.0128,
          0.0154,
          0.0159,
          0.0141,
          0.018,
          0.0144,
          0.0149,
          0.0131,
          0.0158,
          0.0159,
          0.0147,
          0.0158,
          0.0147,
          0.0161,
          0.0134,
          0.016,
          0.0171,
          0.0146,
          0.0161,
          0.0154,
          0.0157,
          0.0139,
          0.0151,
          0.0151,
          0.0143,
          0.0149,
          0.0172,
          0.0166,
          0.015,
          0.0156,
          0.0146,
          0.0179,
          0.0149,
          0.016,
          0.0167,
          0.0143,
          0.0179,
          0.0149,
          0.0155,
          0.0181,
          0.0183,
          0.0179,
          0.0145,
          0.0162,
          0.0163,
          0.0156,
          0.0191,
          0.0184,
          0.0179,
          0.0159,
          0.0144,
          0.0152,
          0.0163,
          0.0207,
          0.0189,
          0.0181,
          0.0165,
          0.0166,
          0.0136,
          0.0163,
          0.0174,
          0.018,
          0.0194,
          0.0163,
          0.0141,
          0.0146,
          0.0152,
          0.0184,
          0.0193,
          0.0176,
          0.0157,
          0.0152,
          0.0135,
          0.0156,
          0.0184,
          0.0182,
          0.0166,
          0.0168,
          0.0157,
          0.0143,
          0.0155,
          0.0176,
          0.0176,
          0.019,
          0.0155,
          0.0154,
          0.0129,
          0.0149,
          0.0171,
          0.0156,
          0.0145,
          0.0165,
          0.0156,
          0.0128,
          0.014,
          0.0169,
          0.0141,
          0.0147,
          0.0153,
          0.0146,
          0.0127,
          0.0128,
          0.0147,
          0.0145,
          0.0135,
          0.013,
          0.0126,
          0.0113,
          0.0117,
          0.0136,
          0.0129,
          0.0131,
          0.0114,
          0.0129,
          0.0117,
          0.0118,
          0.0128,
          0.0131,
          0.0144,
          0.012,
          0.0108,
          0.0167,
          0.0115,
          0.012,
          0.0119,
          0.0122,
          0.0118,
          0.012,
          0.0103,
          0.0105,
          0.0118,
          0.0123,
          0.0099,
          0.0096,
          0.0104,
          0.009,
          0.0093,
          0.0096,
          0.0091,
          0.0093,
          0.0069,
          0.0061,
          0.0062,
          0.0052,
          0.0056,
          0.0047,
          0.0039,
          0.0035,
          0.0036,
          0.0035,
          0.0025,
          0.0032,
          0.0031,
          0.0026,
          0.0025,
          0.0025,
          0.002,
          0.002,
          0.0031,
          0.0026,
          0.0026,
          0.0024,
          0.0025,
          0.002,
          0.0023,
          0.0024,
          0.0025,
          0.0026,
          0.0026,
          0.0022,
          0.0021,
          0.0025,
          0.003,
          0.0029,
          0.0028,
          0.0034,
          0.003,
          0.0025,
          0.0035,
          0.004,
          0.0038,
          0.0037,
          0.0046,
          0.0037,
          0.0032,
          0.0042,
          0.0047,
          0.0054,
          0.0042,
          0.0051,
          0.0048,
          0.0035,
          0.006,
          0.0059,
          0.0054,
          0.0063,
          0.0055,
          0.0054,
          0.0042,
          0.0051,
          0.0052,
          0.006,
          0.0061,
          0.0057,
          0.0048,
          0.0041,
          0.0055,
          0.0053,
          0.0048,
          0.0044,
          0.0051,
          0.004
         ]
        }
       ],
       "layout": {
        "template": {
         "data": {
          "bar": [
           {
            "error_x": {
             "color": "#f2f5fa"
            },
            "error_y": {
             "color": "#f2f5fa"
            },
            "marker": {
             "line": {
              "color": "rgb(17,17,17)",
              "width": 0.5
             },
             "pattern": {
              "fillmode": "overlay",
              "size": 10,
              "solidity": 0.2
             }
            },
            "type": "bar"
           }
          ],
          "barpolar": [
           {
            "marker": {
             "line": {
              "color": "rgb(17,17,17)",
              "width": 0.5
             },
             "pattern": {
              "fillmode": "overlay",
              "size": 10,
              "solidity": 0.2
             }
            },
            "type": "barpolar"
           }
          ],
          "carpet": [
           {
            "aaxis": {
             "endlinecolor": "#A2B1C6",
             "gridcolor": "#506784",
             "linecolor": "#506784",
             "minorgridcolor": "#506784",
             "startlinecolor": "#A2B1C6"
            },
            "baxis": {
             "endlinecolor": "#A2B1C6",
             "gridcolor": "#506784",
             "linecolor": "#506784",
             "minorgridcolor": "#506784",
             "startlinecolor": "#A2B1C6"
            },
            "type": "carpet"
           }
          ],
          "choropleth": [
           {
            "colorbar": {
             "outlinewidth": 0,
             "ticks": ""
            },
            "type": "choropleth"
           }
          ],
          "contour": [
           {
            "colorbar": {
             "outlinewidth": 0,
             "ticks": ""
            },
            "colorscale": [
             [
              0,
              "#0d0887"
             ],
             [
              0.1111111111111111,
              "#46039f"
             ],
             [
              0.2222222222222222,
              "#7201a8"
             ],
             [
              0.3333333333333333,
              "#9c179e"
             ],
             [
              0.4444444444444444,
              "#bd3786"
             ],
             [
              0.5555555555555556,
              "#d8576b"
             ],
             [
              0.6666666666666666,
              "#ed7953"
             ],
             [
              0.7777777777777778,
              "#fb9f3a"
             ],
             [
              0.8888888888888888,
              "#fdca26"
             ],
             [
              1,
              "#f0f921"
             ]
            ],
            "type": "contour"
           }
          ],
          "contourcarpet": [
           {
            "colorbar": {
             "outlinewidth": 0,
             "ticks": ""
            },
            "type": "contourcarpet"
           }
          ],
          "heatmap": [
           {
            "colorbar": {
             "outlinewidth": 0,
             "ticks": ""
            },
            "colorscale": [
             [
              0,
              "#0d0887"
             ],
             [
              0.1111111111111111,
              "#46039f"
             ],
             [
              0.2222222222222222,
              "#7201a8"
             ],
             [
              0.3333333333333333,
              "#9c179e"
             ],
             [
              0.4444444444444444,
              "#bd3786"
             ],
             [
              0.5555555555555556,
              "#d8576b"
             ],
             [
              0.6666666666666666,
              "#ed7953"
             ],
             [
              0.7777777777777778,
              "#fb9f3a"
             ],
             [
              0.8888888888888888,
              "#fdca26"
             ],
             [
              1,
              "#f0f921"
             ]
            ],
            "type": "heatmap"
           }
          ],
          "heatmapgl": [
           {
            "colorbar": {
             "outlinewidth": 0,
             "ticks": ""
            },
            "colorscale": [
             [
              0,
              "#0d0887"
             ],
             [
              0.1111111111111111,
              "#46039f"
             ],
             [
              0.2222222222222222,
              "#7201a8"
             ],
             [
              0.3333333333333333,
              "#9c179e"
             ],
             [
              0.4444444444444444,
              "#bd3786"
             ],
             [
              0.5555555555555556,
              "#d8576b"
             ],
             [
              0.6666666666666666,
              "#ed7953"
             ],
             [
              0.7777777777777778,
              "#fb9f3a"
             ],
             [
              0.8888888888888888,
              "#fdca26"
             ],
             [
              1,
              "#f0f921"
             ]
            ],
            "type": "heatmapgl"
           }
          ],
          "histogram": [
           {
            "marker": {
             "pattern": {
              "fillmode": "overlay",
              "size": 10,
              "solidity": 0.2
             }
            },
            "type": "histogram"
           }
          ],
          "histogram2d": [
           {
            "colorbar": {
             "outlinewidth": 0,
             "ticks": ""
            },
            "colorscale": [
             [
              0,
              "#0d0887"
             ],
             [
              0.1111111111111111,
              "#46039f"
             ],
             [
              0.2222222222222222,
              "#7201a8"
             ],
             [
              0.3333333333333333,
              "#9c179e"
             ],
             [
              0.4444444444444444,
              "#bd3786"
             ],
             [
              0.5555555555555556,
              "#d8576b"
             ],
             [
              0.6666666666666666,
              "#ed7953"
             ],
             [
              0.7777777777777778,
              "#fb9f3a"
             ],
             [
              0.8888888888888888,
              "#fdca26"
             ],
             [
              1,
              "#f0f921"
             ]
            ],
            "type": "histogram2d"
           }
          ],
          "histogram2dcontour": [
           {
            "colorbar": {
             "outlinewidth": 0,
             "ticks": ""
            },
            "colorscale": [
             [
              0,
              "#0d0887"
             ],
             [
              0.1111111111111111,
              "#46039f"
             ],
             [
              0.2222222222222222,
              "#7201a8"
             ],
             [
              0.3333333333333333,
              "#9c179e"
             ],
             [
              0.4444444444444444,
              "#bd3786"
             ],
             [
              0.5555555555555556,
              "#d8576b"
             ],
             [
              0.6666666666666666,
              "#ed7953"
             ],
             [
              0.7777777777777778,
              "#fb9f3a"
             ],
             [
              0.8888888888888888,
              "#fdca26"
             ],
             [
              1,
              "#f0f921"
             ]
            ],
            "type": "histogram2dcontour"
           }
          ],
          "mesh3d": [
           {
            "colorbar": {
             "outlinewidth": 0,
             "ticks": ""
            },
            "type": "mesh3d"
           }
          ],
          "parcoords": [
           {
            "line": {
             "colorbar": {
              "outlinewidth": 0,
              "ticks": ""
             }
            },
            "type": "parcoords"
           }
          ],
          "pie": [
           {
            "automargin": true,
            "type": "pie"
           }
          ],
          "scatter": [
           {
            "marker": {
             "line": {
              "color": "#283442"
             }
            },
            "type": "scatter"
           }
          ],
          "scatter3d": [
           {
            "line": {
             "colorbar": {
              "outlinewidth": 0,
              "ticks": ""
             }
            },
            "marker": {
             "colorbar": {
              "outlinewidth": 0,
              "ticks": ""
             }
            },
            "type": "scatter3d"
           }
          ],
          "scattercarpet": [
           {
            "marker": {
             "colorbar": {
              "outlinewidth": 0,
              "ticks": ""
             }
            },
            "type": "scattercarpet"
           }
          ],
          "scattergeo": [
           {
            "marker": {
             "colorbar": {
              "outlinewidth": 0,
              "ticks": ""
             }
            },
            "type": "scattergeo"
           }
          ],
          "scattergl": [
           {
            "marker": {
             "line": {
              "color": "#283442"
             }
            },
            "type": "scattergl"
           }
          ],
          "scattermapbox": [
           {
            "marker": {
             "colorbar": {
              "outlinewidth": 0,
              "ticks": ""
             }
            },
            "type": "scattermapbox"
           }
          ],
          "scatterpolar": [
           {
            "marker": {
             "colorbar": {
              "outlinewidth": 0,
              "ticks": ""
             }
            },
            "type": "scatterpolar"
           }
          ],
          "scatterpolargl": [
           {
            "marker": {
             "colorbar": {
              "outlinewidth": 0,
              "ticks": ""
             }
            },
            "type": "scatterpolargl"
           }
          ],
          "scatterternary": [
           {
            "marker": {
             "colorbar": {
              "outlinewidth": 0,
              "ticks": ""
             }
            },
            "type": "scatterternary"
           }
          ],
          "surface": [
           {
            "colorbar": {
             "outlinewidth": 0,
             "ticks": ""
            },
            "colorscale": [
             [
              0,
              "#0d0887"
             ],
             [
              0.1111111111111111,
              "#46039f"
             ],
             [
              0.2222222222222222,
              "#7201a8"
             ],
             [
              0.3333333333333333,
              "#9c179e"
             ],
             [
              0.4444444444444444,
              "#bd3786"
             ],
             [
              0.5555555555555556,
              "#d8576b"
             ],
             [
              0.6666666666666666,
              "#ed7953"
             ],
             [
              0.7777777777777778,
              "#fb9f3a"
             ],
             [
              0.8888888888888888,
              "#fdca26"
             ],
             [
              1,
              "#f0f921"
             ]
            ],
            "type": "surface"
           }
          ],
          "table": [
           {
            "cells": {
             "fill": {
              "color": "#506784"
             },
             "line": {
              "color": "rgb(17,17,17)"
             }
            },
            "header": {
             "fill": {
              "color": "#2a3f5f"
             },
             "line": {
              "color": "rgb(17,17,17)"
             }
            },
            "type": "table"
           }
          ]
         },
         "layout": {
          "annotationdefaults": {
           "arrowcolor": "#f2f5fa",
           "arrowhead": 0,
           "arrowwidth": 1
          },
          "autotypenumbers": "strict",
          "coloraxis": {
           "colorbar": {
            "outlinewidth": 0,
            "ticks": ""
           }
          },
          "colorscale": {
           "diverging": [
            [
             0,
             "#8e0152"
            ],
            [
             0.1,
             "#c51b7d"
            ],
            [
             0.2,
             "#de77ae"
            ],
            [
             0.3,
             "#f1b6da"
            ],
            [
             0.4,
             "#fde0ef"
            ],
            [
             0.5,
             "#f7f7f7"
            ],
            [
             0.6,
             "#e6f5d0"
            ],
            [
             0.7,
             "#b8e186"
            ],
            [
             0.8,
             "#7fbc41"
            ],
            [
             0.9,
             "#4d9221"
            ],
            [
             1,
             "#276419"
            ]
           ],
           "sequential": [
            [
             0,
             "#0d0887"
            ],
            [
             0.1111111111111111,
             "#46039f"
            ],
            [
             0.2222222222222222,
             "#7201a8"
            ],
            [
             0.3333333333333333,
             "#9c179e"
            ],
            [
             0.4444444444444444,
             "#bd3786"
            ],
            [
             0.5555555555555556,
             "#d8576b"
            ],
            [
             0.6666666666666666,
             "#ed7953"
            ],
            [
             0.7777777777777778,
             "#fb9f3a"
            ],
            [
             0.8888888888888888,
             "#fdca26"
            ],
            [
             1,
             "#f0f921"
            ]
           ],
           "sequentialminus": [
            [
             0,
             "#0d0887"
            ],
            [
             0.1111111111111111,
             "#46039f"
            ],
            [
             0.2222222222222222,
             "#7201a8"
            ],
            [
             0.3333333333333333,
             "#9c179e"
            ],
            [
             0.4444444444444444,
             "#bd3786"
            ],
            [
             0.5555555555555556,
             "#d8576b"
            ],
            [
             0.6666666666666666,
             "#ed7953"
            ],
            [
             0.7777777777777778,
             "#fb9f3a"
            ],
            [
             0.8888888888888888,
             "#fdca26"
            ],
            [
             1,
             "#f0f921"
            ]
           ]
          },
          "colorway": [
           "#636efa",
           "#EF553B",
           "#00cc96",
           "#ab63fa",
           "#FFA15A",
           "#19d3f3",
           "#FF6692",
           "#B6E880",
           "#FF97FF",
           "#FECB52"
          ],
          "font": {
           "color": "#f2f5fa"
          },
          "geo": {
           "bgcolor": "rgb(17,17,17)",
           "lakecolor": "rgb(17,17,17)",
           "landcolor": "rgb(17,17,17)",
           "showlakes": true,
           "showland": true,
           "subunitcolor": "#506784"
          },
          "hoverlabel": {
           "align": "left"
          },
          "hovermode": "closest",
          "mapbox": {
           "style": "dark"
          },
          "paper_bgcolor": "rgb(17,17,17)",
          "plot_bgcolor": "rgb(17,17,17)",
          "polar": {
           "angularaxis": {
            "gridcolor": "#506784",
            "linecolor": "#506784",
            "ticks": ""
           },
           "bgcolor": "rgb(17,17,17)",
           "radialaxis": {
            "gridcolor": "#506784",
            "linecolor": "#506784",
            "ticks": ""
           }
          },
          "scene": {
           "xaxis": {
            "backgroundcolor": "rgb(17,17,17)",
            "gridcolor": "#506784",
            "gridwidth": 2,
            "linecolor": "#506784",
            "showbackground": true,
            "ticks": "",
            "zerolinecolor": "#C8D4E3"
           },
           "yaxis": {
            "backgroundcolor": "rgb(17,17,17)",
            "gridcolor": "#506784",
            "gridwidth": 2,
            "linecolor": "#506784",
            "showbackground": true,
            "ticks": "",
            "zerolinecolor": "#C8D4E3"
           },
           "zaxis": {
            "backgroundcolor": "rgb(17,17,17)",
            "gridcolor": "#506784",
            "gridwidth": 2,
            "linecolor": "#506784",
            "showbackground": true,
            "ticks": "",
            "zerolinecolor": "#C8D4E3"
           }
          },
          "shapedefaults": {
           "line": {
            "color": "#f2f5fa"
           }
          },
          "sliderdefaults": {
           "bgcolor": "#C8D4E3",
           "bordercolor": "rgb(17,17,17)",
           "borderwidth": 1,
           "tickwidth": 0
          },
          "ternary": {
           "aaxis": {
            "gridcolor": "#506784",
            "linecolor": "#506784",
            "ticks": ""
           },
           "baxis": {
            "gridcolor": "#506784",
            "linecolor": "#506784",
            "ticks": ""
           },
           "bgcolor": "rgb(17,17,17)",
           "caxis": {
            "gridcolor": "#506784",
            "linecolor": "#506784",
            "ticks": ""
           }
          },
          "title": {
           "x": 0.05
          },
          "updatemenudefaults": {
           "bgcolor": "#506784",
           "borderwidth": 0
          },
          "xaxis": {
           "automargin": true,
           "gridcolor": "#283442",
           "linecolor": "#506784",
           "ticks": "",
           "title": {
            "standoff": 15
           },
           "zerolinecolor": "#283442",
           "zerolinewidth": 2
          },
          "yaxis": {
           "automargin": true,
           "gridcolor": "#283442",
           "linecolor": "#506784",
           "ticks": "",
           "title": {
            "standoff": 15
           },
           "zerolinecolor": "#283442",
           "zerolinewidth": 2
          }
         }
        },
        "title": {
         "text": "Tỉ lệ tử vong các ngày trước và sau khi tiêm vaccine"
        }
       }
      }
     },
     "metadata": {},
     "output_type": "display_data"
    },
    {
     "name": "stdout",
     "output_type": "stream",
     "text": [
      "Từ biểu đồ ta cũng có thể thấy được rằng tỉ lệ tử vong vì Covid-19 trước khi tiêm vaccine lớn hớn so với sau khi tiêm vaccine.\n"
     ]
    }
   ],
   "source": [
    "plot_ticks_vaccine(\"Tỉ lệ tử vong các ngày trước và sau khi tiêm vaccine\")\n",
    "print(\"Từ biểu đồ ta cũng có thể thấy được rằng tỉ lệ tử vong vì Covid-19 trước khi tiêm vaccine lớn hớn so với sau khi tiêm vaccine.\")"
   ]
  },
  {
   "cell_type": "markdown",
   "metadata": {},
   "source": [
    "Để có thể đưa ra kết luận chắc chắn, ta thực hiện kiểm định thống kê trên 2 nhóm độc lập: tỉ lệ tử vong vì dịch bệnh các ngày trước và sau khi tiêm vaccine trên thế giới.\n",
    "\n",
    "Ta đặt giả thuyết:\n",
    "\n",
    "`H0: tỉ lệ tử vong các ngày trước và sau khi tiêm vaccine là như nhau`\n",
    "\n",
    "`Ha: tỉ lệ tử vong các ngày trước khi tiêm vaccine cao hơn sau khi tiêm.`"
   ]
  },
  {
   "cell_type": "code",
   "execution_count": 229,
   "metadata": {},
   "outputs": [
    {
     "name": "stdout",
     "output_type": "stream",
     "text": [
      "Giá trị p tính được là kiểm định hai phía: p =  1.3756703062376602e-39\n",
      "Vì ta kiểm định 1 phía nên p_value = p/2 =  6.878351531188301e-40\n",
      "Ta có p_value = 6.878351531188301e-40 < 0,05 và t = 13.945868874153058 > 0 => Ta bác bỏ giả thuyết H0, chấp nhận Ha\n"
     ]
    }
   ],
   "source": [
    "t, p = stats.ttest_ind(covid_world_before_vaccine['Mortality'], covid_world_after_vaccine['Mortality'])\n",
    "print ('Giá trị p tính được là kiểm định hai phía: p = ', p)\n",
    "print ('Vì ta kiểm định 1 phía nên p_value = p/2 = ', p/2)\n",
    "p = p/2\n",
    "print (f'Ta có p_value = {p} < 0,05 và t = {t} > 0 => Ta bác bỏ giả thuyết H0, chấp nhận Ha')"
   ]
  },
  {
   "cell_type": "markdown",
   "metadata": {},
   "source": [
    "Tính khoảng tin cậy 95% cho trung bình"
   ]
  },
  {
   "cell_type": "code",
   "execution_count": 230,
   "metadata": {},
   "outputs": [
    {
     "name": "stdout",
     "output_type": "stream",
     "text": [
      "Khoảng tin cậy 95% cho trung bình tỉ lệ tử vong của các ngày trước so với các ngày sau khi tiêm vaccine: (0.020231343924245682, 0.020610953599724247). Hay nói cách khác, trung bình tỉ lệ tử vong vì Covid-19 các ngày trước lớn hơn các ngày sau khi tiêm vaccine trong khoảng đó\n"
     ]
    }
   ],
   "source": [
    "CI_vaccine = get_confident_interval(covid_world_before_vaccine['Mortality'], covid_world_after_vaccine['Mortality'])\n",
    "print(f\"Khoảng tin cậy 95% cho trung bình tỉ lệ tử vong của các ngày trước so với các ngày sau khi tiêm vaccine: {CI_vaccine}. Hay nói cách khác, trung bình tỉ lệ tử vong vì Covid-19 các ngày trước lớn hơn các ngày sau khi tiêm vaccine trong khoảng đó\")"
   ]
  },
  {
   "cell_type": "markdown",
   "metadata": {},
   "source": [
    "Nhận xét: Vậy tỉ lệ tử vong trên thế giới ở thời điểm trước khi tiêm vaccine cao hơn sau khi đã triển khai tiêm vaccine. Do đó, vaccine dường như thực sự có ích trong việc chống đại dịch Covid-19 trên thế giới"
   ]
  },
  {
   "cell_type": "markdown",
   "metadata": {},
   "source": [
    "## Câu 4: Biến thể Omicron xuất hiện vào khoảng 11/2021 có gây nguy hiểm không? So sánh với biến thể Delta xuất hiện vào tháng 12/2020. **(X: Date, NewCases, NewDeaths)**  **(Y: Tỉ lệ tử vong)**"
   ]
  },
  {
   "cell_type": "code",
   "execution_count": 231,
   "metadata": {},
   "outputs": [
    {
     "name": "stderr",
     "output_type": "stream",
     "text": [
      "C:\\Users\\nguye\\AppData\\Local\\Temp\\ipykernel_9904\\3503548437.py:2: SettingWithCopyWarning:\n",
      "\n",
      "\n",
      "A value is trying to be set on a copy of a slice from a DataFrame.\n",
      "Try using .loc[row_indexer,col_indexer] = value instead\n",
      "\n",
      "See the caveats in the documentation: https://pandas.pydata.org/pandas-docs/stable/user_guide/indexing.html#returning-a-view-versus-a-copy\n",
      "\n",
      "C:\\Users\\nguye\\AppData\\Local\\Temp\\ipykernel_9904\\3503548437.py:3: SettingWithCopyWarning:\n",
      "\n",
      "\n",
      "A value is trying to be set on a copy of a slice from a DataFrame.\n",
      "Try using .loc[row_indexer,col_indexer] = value instead\n",
      "\n",
      "See the caveats in the documentation: https://pandas.pydata.org/pandas-docs/stable/user_guide/indexing.html#returning-a-view-versus-a-copy\n",
      "\n",
      "C:\\Users\\nguye\\AppData\\Local\\Temp\\ipykernel_9904\\3503548437.py:4: SettingWithCopyWarning:\n",
      "\n",
      "\n",
      "A value is trying to be set on a copy of a slice from a DataFrame.\n",
      "Try using .loc[row_indexer,col_indexer] = value instead\n",
      "\n",
      "See the caveats in the documentation: https://pandas.pydata.org/pandas-docs/stable/user_guide/indexing.html#returning-a-view-versus-a-copy\n",
      "\n"
     ]
    },
    {
     "data": {
      "text/html": [
       "<div>\n",
       "<style scoped>\n",
       "    .dataframe tbody tr th:only-of-type {\n",
       "        vertical-align: middle;\n",
       "    }\n",
       "\n",
       "    .dataframe tbody tr th {\n",
       "        vertical-align: top;\n",
       "    }\n",
       "\n",
       "    .dataframe thead th {\n",
       "        text-align: right;\n",
       "    }\n",
       "</style>\n",
       "<table border=\"1\" class=\"dataframe\">\n",
       "  <thead>\n",
       "    <tr style=\"text-align: right;\">\n",
       "      <th></th>\n",
       "      <th>Date</th>\n",
       "      <th>NewCases</th>\n",
       "      <th>NewDeaths</th>\n",
       "      <th>Month_Years</th>\n",
       "      <th>Mortality</th>\n",
       "    </tr>\n",
       "  </thead>\n",
       "  <tbody>\n",
       "    <tr>\n",
       "      <th>163423</th>\n",
       "      <td>2020-01-22</td>\n",
       "      <td>0.0</td>\n",
       "      <td>0.0</td>\n",
       "      <td>2020-01</td>\n",
       "      <td>0.000000</td>\n",
       "    </tr>\n",
       "    <tr>\n",
       "      <th>163424</th>\n",
       "      <td>2020-01-23</td>\n",
       "      <td>100.0</td>\n",
       "      <td>1.0</td>\n",
       "      <td>2020-01</td>\n",
       "      <td>0.010000</td>\n",
       "    </tr>\n",
       "    <tr>\n",
       "      <th>163425</th>\n",
       "      <td>2020-01-24</td>\n",
       "      <td>287.0</td>\n",
       "      <td>8.0</td>\n",
       "      <td>2020-01</td>\n",
       "      <td>0.027875</td>\n",
       "    </tr>\n",
       "    <tr>\n",
       "      <th>163426</th>\n",
       "      <td>2020-01-25</td>\n",
       "      <td>493.0</td>\n",
       "      <td>16.0</td>\n",
       "      <td>2020-01</td>\n",
       "      <td>0.032454</td>\n",
       "    </tr>\n",
       "    <tr>\n",
       "      <th>163427</th>\n",
       "      <td>2020-01-26</td>\n",
       "      <td>683.0</td>\n",
       "      <td>14.0</td>\n",
       "      <td>2020-01</td>\n",
       "      <td>0.020498</td>\n",
       "    </tr>\n",
       "    <tr>\n",
       "      <th>...</th>\n",
       "      <td>...</td>\n",
       "      <td>...</td>\n",
       "      <td>...</td>\n",
       "      <td>...</td>\n",
       "      <td>...</td>\n",
       "    </tr>\n",
       "    <tr>\n",
       "      <th>164192</th>\n",
       "      <td>2022-03-01</td>\n",
       "      <td>1536867.0</td>\n",
       "      <td>8069.0</td>\n",
       "      <td>2022-03</td>\n",
       "      <td>0.005250</td>\n",
       "    </tr>\n",
       "    <tr>\n",
       "      <th>164193</th>\n",
       "      <td>2022-03-02</td>\n",
       "      <td>1651452.0</td>\n",
       "      <td>7945.0</td>\n",
       "      <td>2022-03</td>\n",
       "      <td>0.004811</td>\n",
       "    </tr>\n",
       "    <tr>\n",
       "      <th>164194</th>\n",
       "      <td>2022-03-03</td>\n",
       "      <td>1887465.0</td>\n",
       "      <td>8384.0</td>\n",
       "      <td>2022-03</td>\n",
       "      <td>0.004442</td>\n",
       "    </tr>\n",
       "    <tr>\n",
       "      <th>164195</th>\n",
       "      <td>2022-03-04</td>\n",
       "      <td>1704138.0</td>\n",
       "      <td>8771.0</td>\n",
       "      <td>2022-03</td>\n",
       "      <td>0.005147</td>\n",
       "    </tr>\n",
       "    <tr>\n",
       "      <th>164196</th>\n",
       "      <td>2022-03-05</td>\n",
       "      <td>1361810.0</td>\n",
       "      <td>5443.0</td>\n",
       "      <td>2022-03</td>\n",
       "      <td>0.003997</td>\n",
       "    </tr>\n",
       "  </tbody>\n",
       "</table>\n",
       "<p>774 rows × 5 columns</p>\n",
       "</div>"
      ],
      "text/plain": [
       "             Date   NewCases  NewDeaths Month_Years  Mortality\n",
       "163423 2020-01-22        0.0        0.0     2020-01   0.000000\n",
       "163424 2020-01-23      100.0        1.0     2020-01   0.010000\n",
       "163425 2020-01-24      287.0        8.0     2020-01   0.027875\n",
       "163426 2020-01-25      493.0       16.0     2020-01   0.032454\n",
       "163427 2020-01-26      683.0       14.0     2020-01   0.020498\n",
       "...           ...        ...        ...         ...        ...\n",
       "164192 2022-03-01  1536867.0     8069.0     2022-03   0.005250\n",
       "164193 2022-03-02  1651452.0     7945.0     2022-03   0.004811\n",
       "164194 2022-03-03  1887465.0     8384.0     2022-03   0.004442\n",
       "164195 2022-03-04  1704138.0     8771.0     2022-03   0.005147\n",
       "164196 2022-03-05  1361810.0     5443.0     2022-03   0.003997\n",
       "\n",
       "[774 rows x 5 columns]"
      ]
     },
     "execution_count": 231,
     "metadata": {},
     "output_type": "execute_result"
    }
   ],
   "source": [
    "covid_compare = covid_world_df[['Date', 'NewCases', 'NewDeaths']]\n",
    "covid_compare['Date'] = pd.to_datetime(covid_compare['Date'])\n",
    "covid_compare['Month_Years']=pd.to_datetime(covid_compare['Date']).dt.strftime('%Y-%m')\n",
    "covid_compare['Mortality'] = covid_compare['NewDeaths'] / covid_compare['NewCases']\n",
    "covid_compare = covid_compare.replace('', np.nan).fillna(0)\n",
    "covid_compare"
   ]
  },
  {
   "cell_type": "code",
   "execution_count": 232,
   "metadata": {},
   "outputs": [],
   "source": [
    "date_omicron = pd.to_datetime(datetime.date(2021,11,11)).strftime('%Y-%m')\n",
    "date_delta = pd.to_datetime(datetime.date(2020,12,1)).strftime('%Y-%m')\n",
    "date_bound = pd.to_datetime(datetime.date(2022,3,1)).strftime('%Y-%m')\n",
    "covid_compare = covid_compare[covid_compare[\"Month_Years\"] < date_bound]\n",
    "covid_omicron = covid_compare[covid_compare[\"Month_Years\"] >= date_omicron]\n",
    "covid_delta = covid_compare[covid_compare[\"Month_Years\"] < date_omicron]\n",
    "covid_delta = covid_delta[covid_delta[\"Month_Years\"] >= date_delta]"
   ]
  },
  {
   "cell_type": "code",
   "execution_count": 233,
   "metadata": {},
   "outputs": [
    {
     "data": {
      "text/plain": [
       "Date           datetime64[ns]\n",
       "NewCases              float64\n",
       "NewDeaths             float64\n",
       "Month_Years            object\n",
       "Mortality             float64\n",
       "dtype: object"
      ]
     },
     "execution_count": 233,
     "metadata": {},
     "output_type": "execute_result"
    }
   ],
   "source": [
    "covid_compare.dtypes"
   ]
  },
  {
   "cell_type": "code",
   "execution_count": 234,
   "metadata": {},
   "outputs": [
    {
     "name": "stdout",
     "output_type": "stream",
     "text": [
      "Tình hình dịch bệnh khi biến chủng DELTA xuất hiện khoảng tháng 12/2020\n",
      "             Date  NewCases  NewDeaths Month_Years  Mortality\n",
      "163737 2020-12-01  623828.0    12759.0     2020-12   0.020453\n",
      "163738 2020-12-02  646764.0    12643.0     2020-12   0.019548\n",
      "163739 2020-12-03  692160.0    12600.0     2020-12   0.018204\n",
      "163740 2020-12-04  688697.0    12460.0     2020-12   0.018092\n",
      "163741 2020-12-05  648934.0    10337.0     2020-12   0.015929\n",
      "...           ...       ...        ...         ...        ...\n",
      "164067 2021-10-27  520080.0     9178.0     2021-10   0.017647\n",
      "164068 2021-10-28  463857.0     8801.0     2021-10   0.018974\n",
      "164069 2021-10-29  508971.0     7873.0     2021-10   0.015468\n",
      "164070 2021-10-30  389334.0     6001.0     2021-10   0.015414\n",
      "164071 2021-10-31  346340.0     4483.0     2021-10   0.012944\n",
      "\n",
      "[335 rows x 5 columns]\n"
     ]
    }
   ],
   "source": [
    "print(\"Tình hình dịch bệnh khi biến chủng DELTA xuất hiện khoảng tháng 12/2020\")\n",
    "print(covid_delta)"
   ]
  },
  {
   "cell_type": "code",
   "execution_count": 235,
   "metadata": {},
   "outputs": [
    {
     "name": "stdout",
     "output_type": "stream",
     "text": [
      "Tình hình dịch bệnh khi biến chủng OMICRON xuất hiện khoảng tháng 11/2021\n",
      "             Date   NewCases  NewDeaths Month_Years  Mortality\n",
      "164072 2021-11-01   421008.0     6276.0     2021-11   0.014907\n",
      "164073 2021-11-02   426168.0     7283.0     2021-11   0.017090\n",
      "164074 2021-11-03   538266.0     8416.0     2021-11   0.015635\n",
      "164075 2021-11-04   523859.0     7605.0     2021-11   0.014517\n",
      "164076 2021-11-05   520733.0     8611.0     2021-11   0.016536\n",
      "...           ...        ...        ...         ...        ...\n",
      "164187 2022-02-24  1755446.0    10735.0     2022-02   0.006115\n",
      "164188 2022-02-25  1591820.0     9080.0     2022-02   0.005704\n",
      "164189 2022-02-26  1328773.0     6392.0     2022-02   0.004810\n",
      "164190 2022-02-27  1065246.0     4417.0     2022-02   0.004146\n",
      "164191 2022-02-28  1403481.0     7759.0     2022-02   0.005528\n",
      "\n",
      "[120 rows x 5 columns]\n"
     ]
    }
   ],
   "source": [
    "print(\"Tình hình dịch bệnh khi biến chủng OMICRON xuất hiện khoảng tháng 11/2021\")\n",
    "print(covid_omicron)"
   ]
  },
  {
   "cell_type": "code",
   "execution_count": 236,
   "metadata": {},
   "outputs": [
    {
     "data": {
      "application/vnd.plotly.v1+json": {
       "config": {
        "plotlyServerURL": "https://plot.ly"
       },
       "data": [
        {
         "marker": {
          "color": "red"
         },
         "name": "Delta",
         "type": "bar",
         "uid": "bf3f4cf4-c718-40bb-939b-71d2e9a2b3ae",
         "x": [
          "2020-12",
          "2021-01",
          "2021-02",
          "2021-03",
          "2021-04",
          "2021-05",
          "2021-06",
          "2021-07",
          "2021-08",
          "2021-09",
          "2021-10"
         ],
         "y": [
          19554556,
          19543425,
          11257597,
          14878794,
          22534445,
          19683739,
          11473714,
          15731555,
          19899023,
          15932987,
          13102145
         ]
        },
        {
         "marker": {
          "color": "greenyellow"
         },
         "name": "Omicron",
         "type": "bar",
         "uid": "28d74f1b-3d83-4b7e-9795-9cead541c24c",
         "x": [
          "2021-11",
          "2021-12",
          "2022-01",
          "2022-02"
         ],
         "y": [
          15719784,
          25531393,
          89419518,
          58054952
         ]
        }
       ],
       "layout": {
        "template": {
         "data": {
          "bar": [
           {
            "error_x": {
             "color": "#f2f5fa"
            },
            "error_y": {
             "color": "#f2f5fa"
            },
            "marker": {
             "line": {
              "color": "rgb(17,17,17)",
              "width": 0.5
             },
             "pattern": {
              "fillmode": "overlay",
              "size": 10,
              "solidity": 0.2
             }
            },
            "type": "bar"
           }
          ],
          "barpolar": [
           {
            "marker": {
             "line": {
              "color": "rgb(17,17,17)",
              "width": 0.5
             },
             "pattern": {
              "fillmode": "overlay",
              "size": 10,
              "solidity": 0.2
             }
            },
            "type": "barpolar"
           }
          ],
          "carpet": [
           {
            "aaxis": {
             "endlinecolor": "#A2B1C6",
             "gridcolor": "#506784",
             "linecolor": "#506784",
             "minorgridcolor": "#506784",
             "startlinecolor": "#A2B1C6"
            },
            "baxis": {
             "endlinecolor": "#A2B1C6",
             "gridcolor": "#506784",
             "linecolor": "#506784",
             "minorgridcolor": "#506784",
             "startlinecolor": "#A2B1C6"
            },
            "type": "carpet"
           }
          ],
          "choropleth": [
           {
            "colorbar": {
             "outlinewidth": 0,
             "ticks": ""
            },
            "type": "choropleth"
           }
          ],
          "contour": [
           {
            "colorbar": {
             "outlinewidth": 0,
             "ticks": ""
            },
            "colorscale": [
             [
              0,
              "#0d0887"
             ],
             [
              0.1111111111111111,
              "#46039f"
             ],
             [
              0.2222222222222222,
              "#7201a8"
             ],
             [
              0.3333333333333333,
              "#9c179e"
             ],
             [
              0.4444444444444444,
              "#bd3786"
             ],
             [
              0.5555555555555556,
              "#d8576b"
             ],
             [
              0.6666666666666666,
              "#ed7953"
             ],
             [
              0.7777777777777778,
              "#fb9f3a"
             ],
             [
              0.8888888888888888,
              "#fdca26"
             ],
             [
              1,
              "#f0f921"
             ]
            ],
            "type": "contour"
           }
          ],
          "contourcarpet": [
           {
            "colorbar": {
             "outlinewidth": 0,
             "ticks": ""
            },
            "type": "contourcarpet"
           }
          ],
          "heatmap": [
           {
            "colorbar": {
             "outlinewidth": 0,
             "ticks": ""
            },
            "colorscale": [
             [
              0,
              "#0d0887"
             ],
             [
              0.1111111111111111,
              "#46039f"
             ],
             [
              0.2222222222222222,
              "#7201a8"
             ],
             [
              0.3333333333333333,
              "#9c179e"
             ],
             [
              0.4444444444444444,
              "#bd3786"
             ],
             [
              0.5555555555555556,
              "#d8576b"
             ],
             [
              0.6666666666666666,
              "#ed7953"
             ],
             [
              0.7777777777777778,
              "#fb9f3a"
             ],
             [
              0.8888888888888888,
              "#fdca26"
             ],
             [
              1,
              "#f0f921"
             ]
            ],
            "type": "heatmap"
           }
          ],
          "heatmapgl": [
           {
            "colorbar": {
             "outlinewidth": 0,
             "ticks": ""
            },
            "colorscale": [
             [
              0,
              "#0d0887"
             ],
             [
              0.1111111111111111,
              "#46039f"
             ],
             [
              0.2222222222222222,
              "#7201a8"
             ],
             [
              0.3333333333333333,
              "#9c179e"
             ],
             [
              0.4444444444444444,
              "#bd3786"
             ],
             [
              0.5555555555555556,
              "#d8576b"
             ],
             [
              0.6666666666666666,
              "#ed7953"
             ],
             [
              0.7777777777777778,
              "#fb9f3a"
             ],
             [
              0.8888888888888888,
              "#fdca26"
             ],
             [
              1,
              "#f0f921"
             ]
            ],
            "type": "heatmapgl"
           }
          ],
          "histogram": [
           {
            "marker": {
             "pattern": {
              "fillmode": "overlay",
              "size": 10,
              "solidity": 0.2
             }
            },
            "type": "histogram"
           }
          ],
          "histogram2d": [
           {
            "colorbar": {
             "outlinewidth": 0,
             "ticks": ""
            },
            "colorscale": [
             [
              0,
              "#0d0887"
             ],
             [
              0.1111111111111111,
              "#46039f"
             ],
             [
              0.2222222222222222,
              "#7201a8"
             ],
             [
              0.3333333333333333,
              "#9c179e"
             ],
             [
              0.4444444444444444,
              "#bd3786"
             ],
             [
              0.5555555555555556,
              "#d8576b"
             ],
             [
              0.6666666666666666,
              "#ed7953"
             ],
             [
              0.7777777777777778,
              "#fb9f3a"
             ],
             [
              0.8888888888888888,
              "#fdca26"
             ],
             [
              1,
              "#f0f921"
             ]
            ],
            "type": "histogram2d"
           }
          ],
          "histogram2dcontour": [
           {
            "colorbar": {
             "outlinewidth": 0,
             "ticks": ""
            },
            "colorscale": [
             [
              0,
              "#0d0887"
             ],
             [
              0.1111111111111111,
              "#46039f"
             ],
             [
              0.2222222222222222,
              "#7201a8"
             ],
             [
              0.3333333333333333,
              "#9c179e"
             ],
             [
              0.4444444444444444,
              "#bd3786"
             ],
             [
              0.5555555555555556,
              "#d8576b"
             ],
             [
              0.6666666666666666,
              "#ed7953"
             ],
             [
              0.7777777777777778,
              "#fb9f3a"
             ],
             [
              0.8888888888888888,
              "#fdca26"
             ],
             [
              1,
              "#f0f921"
             ]
            ],
            "type": "histogram2dcontour"
           }
          ],
          "mesh3d": [
           {
            "colorbar": {
             "outlinewidth": 0,
             "ticks": ""
            },
            "type": "mesh3d"
           }
          ],
          "parcoords": [
           {
            "line": {
             "colorbar": {
              "outlinewidth": 0,
              "ticks": ""
             }
            },
            "type": "parcoords"
           }
          ],
          "pie": [
           {
            "automargin": true,
            "type": "pie"
           }
          ],
          "scatter": [
           {
            "marker": {
             "line": {
              "color": "#283442"
             }
            },
            "type": "scatter"
           }
          ],
          "scatter3d": [
           {
            "line": {
             "colorbar": {
              "outlinewidth": 0,
              "ticks": ""
             }
            },
            "marker": {
             "colorbar": {
              "outlinewidth": 0,
              "ticks": ""
             }
            },
            "type": "scatter3d"
           }
          ],
          "scattercarpet": [
           {
            "marker": {
             "colorbar": {
              "outlinewidth": 0,
              "ticks": ""
             }
            },
            "type": "scattercarpet"
           }
          ],
          "scattergeo": [
           {
            "marker": {
             "colorbar": {
              "outlinewidth": 0,
              "ticks": ""
             }
            },
            "type": "scattergeo"
           }
          ],
          "scattergl": [
           {
            "marker": {
             "line": {
              "color": "#283442"
             }
            },
            "type": "scattergl"
           }
          ],
          "scattermapbox": [
           {
            "marker": {
             "colorbar": {
              "outlinewidth": 0,
              "ticks": ""
             }
            },
            "type": "scattermapbox"
           }
          ],
          "scatterpolar": [
           {
            "marker": {
             "colorbar": {
              "outlinewidth": 0,
              "ticks": ""
             }
            },
            "type": "scatterpolar"
           }
          ],
          "scatterpolargl": [
           {
            "marker": {
             "colorbar": {
              "outlinewidth": 0,
              "ticks": ""
             }
            },
            "type": "scatterpolargl"
           }
          ],
          "scatterternary": [
           {
            "marker": {
             "colorbar": {
              "outlinewidth": 0,
              "ticks": ""
             }
            },
            "type": "scatterternary"
           }
          ],
          "surface": [
           {
            "colorbar": {
             "outlinewidth": 0,
             "ticks": ""
            },
            "colorscale": [
             [
              0,
              "#0d0887"
             ],
             [
              0.1111111111111111,
              "#46039f"
             ],
             [
              0.2222222222222222,
              "#7201a8"
             ],
             [
              0.3333333333333333,
              "#9c179e"
             ],
             [
              0.4444444444444444,
              "#bd3786"
             ],
             [
              0.5555555555555556,
              "#d8576b"
             ],
             [
              0.6666666666666666,
              "#ed7953"
             ],
             [
              0.7777777777777778,
              "#fb9f3a"
             ],
             [
              0.8888888888888888,
              "#fdca26"
             ],
             [
              1,
              "#f0f921"
             ]
            ],
            "type": "surface"
           }
          ],
          "table": [
           {
            "cells": {
             "fill": {
              "color": "#506784"
             },
             "line": {
              "color": "rgb(17,17,17)"
             }
            },
            "header": {
             "fill": {
              "color": "#2a3f5f"
             },
             "line": {
              "color": "rgb(17,17,17)"
             }
            },
            "type": "table"
           }
          ]
         },
         "layout": {
          "annotationdefaults": {
           "arrowcolor": "#f2f5fa",
           "arrowhead": 0,
           "arrowwidth": 1
          },
          "autotypenumbers": "strict",
          "coloraxis": {
           "colorbar": {
            "outlinewidth": 0,
            "ticks": ""
           }
          },
          "colorscale": {
           "diverging": [
            [
             0,
             "#8e0152"
            ],
            [
             0.1,
             "#c51b7d"
            ],
            [
             0.2,
             "#de77ae"
            ],
            [
             0.3,
             "#f1b6da"
            ],
            [
             0.4,
             "#fde0ef"
            ],
            [
             0.5,
             "#f7f7f7"
            ],
            [
             0.6,
             "#e6f5d0"
            ],
            [
             0.7,
             "#b8e186"
            ],
            [
             0.8,
             "#7fbc41"
            ],
            [
             0.9,
             "#4d9221"
            ],
            [
             1,
             "#276419"
            ]
           ],
           "sequential": [
            [
             0,
             "#0d0887"
            ],
            [
             0.1111111111111111,
             "#46039f"
            ],
            [
             0.2222222222222222,
             "#7201a8"
            ],
            [
             0.3333333333333333,
             "#9c179e"
            ],
            [
             0.4444444444444444,
             "#bd3786"
            ],
            [
             0.5555555555555556,
             "#d8576b"
            ],
            [
             0.6666666666666666,
             "#ed7953"
            ],
            [
             0.7777777777777778,
             "#fb9f3a"
            ],
            [
             0.8888888888888888,
             "#fdca26"
            ],
            [
             1,
             "#f0f921"
            ]
           ],
           "sequentialminus": [
            [
             0,
             "#0d0887"
            ],
            [
             0.1111111111111111,
             "#46039f"
            ],
            [
             0.2222222222222222,
             "#7201a8"
            ],
            [
             0.3333333333333333,
             "#9c179e"
            ],
            [
             0.4444444444444444,
             "#bd3786"
            ],
            [
             0.5555555555555556,
             "#d8576b"
            ],
            [
             0.6666666666666666,
             "#ed7953"
            ],
            [
             0.7777777777777778,
             "#fb9f3a"
            ],
            [
             0.8888888888888888,
             "#fdca26"
            ],
            [
             1,
             "#f0f921"
            ]
           ]
          },
          "colorway": [
           "#636efa",
           "#EF553B",
           "#00cc96",
           "#ab63fa",
           "#FFA15A",
           "#19d3f3",
           "#FF6692",
           "#B6E880",
           "#FF97FF",
           "#FECB52"
          ],
          "font": {
           "color": "#f2f5fa"
          },
          "geo": {
           "bgcolor": "rgb(17,17,17)",
           "lakecolor": "rgb(17,17,17)",
           "landcolor": "rgb(17,17,17)",
           "showlakes": true,
           "showland": true,
           "subunitcolor": "#506784"
          },
          "hoverlabel": {
           "align": "left"
          },
          "hovermode": "closest",
          "mapbox": {
           "style": "dark"
          },
          "paper_bgcolor": "rgb(17,17,17)",
          "plot_bgcolor": "rgb(17,17,17)",
          "polar": {
           "angularaxis": {
            "gridcolor": "#506784",
            "linecolor": "#506784",
            "ticks": ""
           },
           "bgcolor": "rgb(17,17,17)",
           "radialaxis": {
            "gridcolor": "#506784",
            "linecolor": "#506784",
            "ticks": ""
           }
          },
          "scene": {
           "xaxis": {
            "backgroundcolor": "rgb(17,17,17)",
            "gridcolor": "#506784",
            "gridwidth": 2,
            "linecolor": "#506784",
            "showbackground": true,
            "ticks": "",
            "zerolinecolor": "#C8D4E3"
           },
           "yaxis": {
            "backgroundcolor": "rgb(17,17,17)",
            "gridcolor": "#506784",
            "gridwidth": 2,
            "linecolor": "#506784",
            "showbackground": true,
            "ticks": "",
            "zerolinecolor": "#C8D4E3"
           },
           "zaxis": {
            "backgroundcolor": "rgb(17,17,17)",
            "gridcolor": "#506784",
            "gridwidth": 2,
            "linecolor": "#506784",
            "showbackground": true,
            "ticks": "",
            "zerolinecolor": "#C8D4E3"
           }
          },
          "shapedefaults": {
           "line": {
            "color": "#f2f5fa"
           }
          },
          "sliderdefaults": {
           "bgcolor": "#C8D4E3",
           "bordercolor": "rgb(17,17,17)",
           "borderwidth": 1,
           "tickwidth": 0
          },
          "ternary": {
           "aaxis": {
            "gridcolor": "#506784",
            "linecolor": "#506784",
            "ticks": ""
           },
           "baxis": {
            "gridcolor": "#506784",
            "linecolor": "#506784",
            "ticks": ""
           },
           "bgcolor": "rgb(17,17,17)",
           "caxis": {
            "gridcolor": "#506784",
            "linecolor": "#506784",
            "ticks": ""
           }
          },
          "title": {
           "x": 0.05
          },
          "updatemenudefaults": {
           "bgcolor": "#506784",
           "borderwidth": 0
          },
          "xaxis": {
           "automargin": true,
           "gridcolor": "#283442",
           "linecolor": "#506784",
           "ticks": "",
           "title": {
            "standoff": 15
           },
           "zerolinecolor": "#283442",
           "zerolinewidth": 2
          },
          "yaxis": {
           "automargin": true,
           "gridcolor": "#283442",
           "linecolor": "#506784",
           "ticks": "",
           "title": {
            "standoff": 15
           },
           "zerolinecolor": "#283442",
           "zerolinewidth": 2
          }
         }
        },
        "title": {
         "text": "SỐ CA MẮC MỚI MỖI THÁNG CỦA 2 BIẾN CHỦNG"
        }
       }
      }
     },
     "metadata": {},
     "output_type": "display_data"
    }
   ],
   "source": [
    "plot_ticks_variant(covid_compare, \"Month_Years\", \"NewCases\", 'SỐ CA MẮC MỚI MỖI THÁNG CỦA 2 BIẾN CHỦNG', is_group=True)"
   ]
  },
  {
   "cell_type": "code",
   "execution_count": 237,
   "metadata": {},
   "outputs": [
    {
     "data": {
      "application/vnd.plotly.v1+json": {
       "config": {
        "plotlyServerURL": "https://plot.ly"
       },
       "data": [
        {
         "marker": {
          "color": "red"
         },
         "name": "Delta",
         "type": "bar",
         "uid": "4045b38a-0480-4d9b-91ee-00da58d95ea1",
         "x": [
          "2020-12",
          "2021-01",
          "2021-02",
          "2021-03",
          "2021-04",
          "2021-05",
          "2021-06",
          "2021-07",
          "2021-08",
          "2021-09",
          "2021-10"
         ],
         "y": [
          355839,
          417336,
          310946,
          300481,
          379072,
          379115,
          271384,
          261386,
          300073,
          264631,
          216745
         ]
        },
        {
         "marker": {
          "color": "greenyellow"
         },
         "name": "Omicron",
         "type": "bar",
         "uid": "79f8dcbf-ca78-48ef-9a2b-089537f3de54",
         "x": [
          "2021-11",
          "2021-12",
          "2022-01",
          "2022-02"
         ],
         "y": [
          216090,
          221599,
          237032,
          277733
         ]
        }
       ],
       "layout": {
        "template": {
         "data": {
          "bar": [
           {
            "error_x": {
             "color": "#f2f5fa"
            },
            "error_y": {
             "color": "#f2f5fa"
            },
            "marker": {
             "line": {
              "color": "rgb(17,17,17)",
              "width": 0.5
             },
             "pattern": {
              "fillmode": "overlay",
              "size": 10,
              "solidity": 0.2
             }
            },
            "type": "bar"
           }
          ],
          "barpolar": [
           {
            "marker": {
             "line": {
              "color": "rgb(17,17,17)",
              "width": 0.5
             },
             "pattern": {
              "fillmode": "overlay",
              "size": 10,
              "solidity": 0.2
             }
            },
            "type": "barpolar"
           }
          ],
          "carpet": [
           {
            "aaxis": {
             "endlinecolor": "#A2B1C6",
             "gridcolor": "#506784",
             "linecolor": "#506784",
             "minorgridcolor": "#506784",
             "startlinecolor": "#A2B1C6"
            },
            "baxis": {
             "endlinecolor": "#A2B1C6",
             "gridcolor": "#506784",
             "linecolor": "#506784",
             "minorgridcolor": "#506784",
             "startlinecolor": "#A2B1C6"
            },
            "type": "carpet"
           }
          ],
          "choropleth": [
           {
            "colorbar": {
             "outlinewidth": 0,
             "ticks": ""
            },
            "type": "choropleth"
           }
          ],
          "contour": [
           {
            "colorbar": {
             "outlinewidth": 0,
             "ticks": ""
            },
            "colorscale": [
             [
              0,
              "#0d0887"
             ],
             [
              0.1111111111111111,
              "#46039f"
             ],
             [
              0.2222222222222222,
              "#7201a8"
             ],
             [
              0.3333333333333333,
              "#9c179e"
             ],
             [
              0.4444444444444444,
              "#bd3786"
             ],
             [
              0.5555555555555556,
              "#d8576b"
             ],
             [
              0.6666666666666666,
              "#ed7953"
             ],
             [
              0.7777777777777778,
              "#fb9f3a"
             ],
             [
              0.8888888888888888,
              "#fdca26"
             ],
             [
              1,
              "#f0f921"
             ]
            ],
            "type": "contour"
           }
          ],
          "contourcarpet": [
           {
            "colorbar": {
             "outlinewidth": 0,
             "ticks": ""
            },
            "type": "contourcarpet"
           }
          ],
          "heatmap": [
           {
            "colorbar": {
             "outlinewidth": 0,
             "ticks": ""
            },
            "colorscale": [
             [
              0,
              "#0d0887"
             ],
             [
              0.1111111111111111,
              "#46039f"
             ],
             [
              0.2222222222222222,
              "#7201a8"
             ],
             [
              0.3333333333333333,
              "#9c179e"
             ],
             [
              0.4444444444444444,
              "#bd3786"
             ],
             [
              0.5555555555555556,
              "#d8576b"
             ],
             [
              0.6666666666666666,
              "#ed7953"
             ],
             [
              0.7777777777777778,
              "#fb9f3a"
             ],
             [
              0.8888888888888888,
              "#fdca26"
             ],
             [
              1,
              "#f0f921"
             ]
            ],
            "type": "heatmap"
           }
          ],
          "heatmapgl": [
           {
            "colorbar": {
             "outlinewidth": 0,
             "ticks": ""
            },
            "colorscale": [
             [
              0,
              "#0d0887"
             ],
             [
              0.1111111111111111,
              "#46039f"
             ],
             [
              0.2222222222222222,
              "#7201a8"
             ],
             [
              0.3333333333333333,
              "#9c179e"
             ],
             [
              0.4444444444444444,
              "#bd3786"
             ],
             [
              0.5555555555555556,
              "#d8576b"
             ],
             [
              0.6666666666666666,
              "#ed7953"
             ],
             [
              0.7777777777777778,
              "#fb9f3a"
             ],
             [
              0.8888888888888888,
              "#fdca26"
             ],
             [
              1,
              "#f0f921"
             ]
            ],
            "type": "heatmapgl"
           }
          ],
          "histogram": [
           {
            "marker": {
             "pattern": {
              "fillmode": "overlay",
              "size": 10,
              "solidity": 0.2
             }
            },
            "type": "histogram"
           }
          ],
          "histogram2d": [
           {
            "colorbar": {
             "outlinewidth": 0,
             "ticks": ""
            },
            "colorscale": [
             [
              0,
              "#0d0887"
             ],
             [
              0.1111111111111111,
              "#46039f"
             ],
             [
              0.2222222222222222,
              "#7201a8"
             ],
             [
              0.3333333333333333,
              "#9c179e"
             ],
             [
              0.4444444444444444,
              "#bd3786"
             ],
             [
              0.5555555555555556,
              "#d8576b"
             ],
             [
              0.6666666666666666,
              "#ed7953"
             ],
             [
              0.7777777777777778,
              "#fb9f3a"
             ],
             [
              0.8888888888888888,
              "#fdca26"
             ],
             [
              1,
              "#f0f921"
             ]
            ],
            "type": "histogram2d"
           }
          ],
          "histogram2dcontour": [
           {
            "colorbar": {
             "outlinewidth": 0,
             "ticks": ""
            },
            "colorscale": [
             [
              0,
              "#0d0887"
             ],
             [
              0.1111111111111111,
              "#46039f"
             ],
             [
              0.2222222222222222,
              "#7201a8"
             ],
             [
              0.3333333333333333,
              "#9c179e"
             ],
             [
              0.4444444444444444,
              "#bd3786"
             ],
             [
              0.5555555555555556,
              "#d8576b"
             ],
             [
              0.6666666666666666,
              "#ed7953"
             ],
             [
              0.7777777777777778,
              "#fb9f3a"
             ],
             [
              0.8888888888888888,
              "#fdca26"
             ],
             [
              1,
              "#f0f921"
             ]
            ],
            "type": "histogram2dcontour"
           }
          ],
          "mesh3d": [
           {
            "colorbar": {
             "outlinewidth": 0,
             "ticks": ""
            },
            "type": "mesh3d"
           }
          ],
          "parcoords": [
           {
            "line": {
             "colorbar": {
              "outlinewidth": 0,
              "ticks": ""
             }
            },
            "type": "parcoords"
           }
          ],
          "pie": [
           {
            "automargin": true,
            "type": "pie"
           }
          ],
          "scatter": [
           {
            "marker": {
             "line": {
              "color": "#283442"
             }
            },
            "type": "scatter"
           }
          ],
          "scatter3d": [
           {
            "line": {
             "colorbar": {
              "outlinewidth": 0,
              "ticks": ""
             }
            },
            "marker": {
             "colorbar": {
              "outlinewidth": 0,
              "ticks": ""
             }
            },
            "type": "scatter3d"
           }
          ],
          "scattercarpet": [
           {
            "marker": {
             "colorbar": {
              "outlinewidth": 0,
              "ticks": ""
             }
            },
            "type": "scattercarpet"
           }
          ],
          "scattergeo": [
           {
            "marker": {
             "colorbar": {
              "outlinewidth": 0,
              "ticks": ""
             }
            },
            "type": "scattergeo"
           }
          ],
          "scattergl": [
           {
            "marker": {
             "line": {
              "color": "#283442"
             }
            },
            "type": "scattergl"
           }
          ],
          "scattermapbox": [
           {
            "marker": {
             "colorbar": {
              "outlinewidth": 0,
              "ticks": ""
             }
            },
            "type": "scattermapbox"
           }
          ],
          "scatterpolar": [
           {
            "marker": {
             "colorbar": {
              "outlinewidth": 0,
              "ticks": ""
             }
            },
            "type": "scatterpolar"
           }
          ],
          "scatterpolargl": [
           {
            "marker": {
             "colorbar": {
              "outlinewidth": 0,
              "ticks": ""
             }
            },
            "type": "scatterpolargl"
           }
          ],
          "scatterternary": [
           {
            "marker": {
             "colorbar": {
              "outlinewidth": 0,
              "ticks": ""
             }
            },
            "type": "scatterternary"
           }
          ],
          "surface": [
           {
            "colorbar": {
             "outlinewidth": 0,
             "ticks": ""
            },
            "colorscale": [
             [
              0,
              "#0d0887"
             ],
             [
              0.1111111111111111,
              "#46039f"
             ],
             [
              0.2222222222222222,
              "#7201a8"
             ],
             [
              0.3333333333333333,
              "#9c179e"
             ],
             [
              0.4444444444444444,
              "#bd3786"
             ],
             [
              0.5555555555555556,
              "#d8576b"
             ],
             [
              0.6666666666666666,
              "#ed7953"
             ],
             [
              0.7777777777777778,
              "#fb9f3a"
             ],
             [
              0.8888888888888888,
              "#fdca26"
             ],
             [
              1,
              "#f0f921"
             ]
            ],
            "type": "surface"
           }
          ],
          "table": [
           {
            "cells": {
             "fill": {
              "color": "#506784"
             },
             "line": {
              "color": "rgb(17,17,17)"
             }
            },
            "header": {
             "fill": {
              "color": "#2a3f5f"
             },
             "line": {
              "color": "rgb(17,17,17)"
             }
            },
            "type": "table"
           }
          ]
         },
         "layout": {
          "annotationdefaults": {
           "arrowcolor": "#f2f5fa",
           "arrowhead": 0,
           "arrowwidth": 1
          },
          "autotypenumbers": "strict",
          "coloraxis": {
           "colorbar": {
            "outlinewidth": 0,
            "ticks": ""
           }
          },
          "colorscale": {
           "diverging": [
            [
             0,
             "#8e0152"
            ],
            [
             0.1,
             "#c51b7d"
            ],
            [
             0.2,
             "#de77ae"
            ],
            [
             0.3,
             "#f1b6da"
            ],
            [
             0.4,
             "#fde0ef"
            ],
            [
             0.5,
             "#f7f7f7"
            ],
            [
             0.6,
             "#e6f5d0"
            ],
            [
             0.7,
             "#b8e186"
            ],
            [
             0.8,
             "#7fbc41"
            ],
            [
             0.9,
             "#4d9221"
            ],
            [
             1,
             "#276419"
            ]
           ],
           "sequential": [
            [
             0,
             "#0d0887"
            ],
            [
             0.1111111111111111,
             "#46039f"
            ],
            [
             0.2222222222222222,
             "#7201a8"
            ],
            [
             0.3333333333333333,
             "#9c179e"
            ],
            [
             0.4444444444444444,
             "#bd3786"
            ],
            [
             0.5555555555555556,
             "#d8576b"
            ],
            [
             0.6666666666666666,
             "#ed7953"
            ],
            [
             0.7777777777777778,
             "#fb9f3a"
            ],
            [
             0.8888888888888888,
             "#fdca26"
            ],
            [
             1,
             "#f0f921"
            ]
           ],
           "sequentialminus": [
            [
             0,
             "#0d0887"
            ],
            [
             0.1111111111111111,
             "#46039f"
            ],
            [
             0.2222222222222222,
             "#7201a8"
            ],
            [
             0.3333333333333333,
             "#9c179e"
            ],
            [
             0.4444444444444444,
             "#bd3786"
            ],
            [
             0.5555555555555556,
             "#d8576b"
            ],
            [
             0.6666666666666666,
             "#ed7953"
            ],
            [
             0.7777777777777778,
             "#fb9f3a"
            ],
            [
             0.8888888888888888,
             "#fdca26"
            ],
            [
             1,
             "#f0f921"
            ]
           ]
          },
          "colorway": [
           "#636efa",
           "#EF553B",
           "#00cc96",
           "#ab63fa",
           "#FFA15A",
           "#19d3f3",
           "#FF6692",
           "#B6E880",
           "#FF97FF",
           "#FECB52"
          ],
          "font": {
           "color": "#f2f5fa"
          },
          "geo": {
           "bgcolor": "rgb(17,17,17)",
           "lakecolor": "rgb(17,17,17)",
           "landcolor": "rgb(17,17,17)",
           "showlakes": true,
           "showland": true,
           "subunitcolor": "#506784"
          },
          "hoverlabel": {
           "align": "left"
          },
          "hovermode": "closest",
          "mapbox": {
           "style": "dark"
          },
          "paper_bgcolor": "rgb(17,17,17)",
          "plot_bgcolor": "rgb(17,17,17)",
          "polar": {
           "angularaxis": {
            "gridcolor": "#506784",
            "linecolor": "#506784",
            "ticks": ""
           },
           "bgcolor": "rgb(17,17,17)",
           "radialaxis": {
            "gridcolor": "#506784",
            "linecolor": "#506784",
            "ticks": ""
           }
          },
          "scene": {
           "xaxis": {
            "backgroundcolor": "rgb(17,17,17)",
            "gridcolor": "#506784",
            "gridwidth": 2,
            "linecolor": "#506784",
            "showbackground": true,
            "ticks": "",
            "zerolinecolor": "#C8D4E3"
           },
           "yaxis": {
            "backgroundcolor": "rgb(17,17,17)",
            "gridcolor": "#506784",
            "gridwidth": 2,
            "linecolor": "#506784",
            "showbackground": true,
            "ticks": "",
            "zerolinecolor": "#C8D4E3"
           },
           "zaxis": {
            "backgroundcolor": "rgb(17,17,17)",
            "gridcolor": "#506784",
            "gridwidth": 2,
            "linecolor": "#506784",
            "showbackground": true,
            "ticks": "",
            "zerolinecolor": "#C8D4E3"
           }
          },
          "shapedefaults": {
           "line": {
            "color": "#f2f5fa"
           }
          },
          "sliderdefaults": {
           "bgcolor": "#C8D4E3",
           "bordercolor": "rgb(17,17,17)",
           "borderwidth": 1,
           "tickwidth": 0
          },
          "ternary": {
           "aaxis": {
            "gridcolor": "#506784",
            "linecolor": "#506784",
            "ticks": ""
           },
           "baxis": {
            "gridcolor": "#506784",
            "linecolor": "#506784",
            "ticks": ""
           },
           "bgcolor": "rgb(17,17,17)",
           "caxis": {
            "gridcolor": "#506784",
            "linecolor": "#506784",
            "ticks": ""
           }
          },
          "title": {
           "x": 0.05
          },
          "updatemenudefaults": {
           "bgcolor": "#506784",
           "borderwidth": 0
          },
          "xaxis": {
           "automargin": true,
           "gridcolor": "#283442",
           "linecolor": "#506784",
           "ticks": "",
           "title": {
            "standoff": 15
           },
           "zerolinecolor": "#283442",
           "zerolinewidth": 2
          },
          "yaxis": {
           "automargin": true,
           "gridcolor": "#283442",
           "linecolor": "#506784",
           "ticks": "",
           "title": {
            "standoff": 15
           },
           "zerolinecolor": "#283442",
           "zerolinewidth": 2
          }
         }
        },
        "title": {
         "text": "SỐ CA TỬ VONG MỚI MỖI THÁNG CỦA 2 BIẾN CHỦNG"
        }
       }
      }
     },
     "metadata": {},
     "output_type": "display_data"
    }
   ],
   "source": [
    "plot_ticks_variant(covid_compare, \"Month_Years\", \"NewDeaths\", 'SỐ CA TỬ VONG MỚI MỖI THÁNG CỦA 2 BIẾN CHỦNG', is_group=True)"
   ]
  },
  {
   "cell_type": "markdown",
   "metadata": {},
   "source": [
    "**Theo biểu đồ**\n",
    "- **Do bảng số liệu chỉ lấy những ngày đầu tháng 3/2022 nên nhóm xin phép bỏ qua tháng 3, chỉ lấy số liệu đến tháng 2/2022 để rút ra kết luận**\n",
    "\n",
    "- **Chỉ mới xuất hiện tháng 11/2021 nhưng số ca mắc mới hàng tháng của biến chủng `OMICRON` lại tăng một cách không kiếm soát được. Số ca mắc của biến chủng này nhìn chung cao hơn rất nhiều so với biến chủng `DELTA` trước đó.**\n",
    "\n",
    "- **Tuy nhiên, số ca tử vong mới hàng tháng của biến chủng `OMICRON` có phần ít hơn biến chủng `DELTA` , mặc dù biến chủng này xuất hiện sau và số ca mắc đang có xu hướng tăng lên theo mỗi tháng.**"
   ]
  },
  {
   "cell_type": "markdown",
   "metadata": {},
   "source": [
    "**Ta sẽ xem xét mối quan hệ giữa 2 biến số `NewCases` và `NewDeaths` để có thể đưa ra nhận xét xem số ca tử vong mới có tăng lên khi số ca mắc mới lần lượt tăng của cả hai biến thể bằng biểu đồ `Scatter`**"
   ]
  },
  {
   "cell_type": "code",
   "execution_count": 238,
   "metadata": {},
   "outputs": [
    {
     "data": {
      "application/vnd.plotly.v1+json": {
       "config": {
        "plotlyServerURL": "https://plot.ly"
       },
       "data": [
        {
         "hovertemplate": "<b>%{hovertext}</b><br><br>NewCases=%{x}<br>NewDeaths=%{marker.color}<extra></extra>",
         "hovertext": [
          "2020-12-01T00:00:00",
          "2020-12-02T00:00:00",
          "2020-12-03T00:00:00",
          "2020-12-04T00:00:00",
          "2020-12-05T00:00:00",
          "2020-12-06T00:00:00",
          "2020-12-07T00:00:00",
          "2020-12-08T00:00:00",
          "2020-12-09T00:00:00",
          "2020-12-10T00:00:00",
          "2020-12-11T00:00:00",
          "2020-12-12T00:00:00",
          "2020-12-13T00:00:00",
          "2020-12-14T00:00:00",
          "2020-12-15T00:00:00",
          "2020-12-16T00:00:00",
          "2020-12-17T00:00:00",
          "2020-12-18T00:00:00",
          "2020-12-19T00:00:00",
          "2020-12-20T00:00:00",
          "2020-12-21T00:00:00",
          "2020-12-22T00:00:00",
          "2020-12-23T00:00:00",
          "2020-12-24T00:00:00",
          "2020-12-25T00:00:00",
          "2020-12-26T00:00:00",
          "2020-12-27T00:00:00",
          "2020-12-28T00:00:00",
          "2020-12-29T00:00:00",
          "2020-12-30T00:00:00",
          "2020-12-31T00:00:00",
          "2021-01-01T00:00:00",
          "2021-01-02T00:00:00",
          "2021-01-03T00:00:00",
          "2021-01-04T00:00:00",
          "2021-01-05T00:00:00",
          "2021-01-06T00:00:00",
          "2021-01-07T00:00:00",
          "2021-01-08T00:00:00",
          "2021-01-09T00:00:00",
          "2021-01-10T00:00:00",
          "2021-01-11T00:00:00",
          "2021-01-12T00:00:00",
          "2021-01-13T00:00:00",
          "2021-01-14T00:00:00",
          "2021-01-15T00:00:00",
          "2021-01-16T00:00:00",
          "2021-01-17T00:00:00",
          "2021-01-18T00:00:00",
          "2021-01-19T00:00:00",
          "2021-01-20T00:00:00",
          "2021-01-21T00:00:00",
          "2021-01-22T00:00:00",
          "2021-01-23T00:00:00",
          "2021-01-24T00:00:00",
          "2021-01-25T00:00:00",
          "2021-01-26T00:00:00",
          "2021-01-27T00:00:00",
          "2021-01-28T00:00:00",
          "2021-01-29T00:00:00",
          "2021-01-30T00:00:00",
          "2021-01-31T00:00:00",
          "2021-02-01T00:00:00",
          "2021-02-02T00:00:00",
          "2021-02-03T00:00:00",
          "2021-02-04T00:00:00",
          "2021-02-05T00:00:00",
          "2021-02-06T00:00:00",
          "2021-02-07T00:00:00",
          "2021-02-08T00:00:00",
          "2021-02-09T00:00:00",
          "2021-02-10T00:00:00",
          "2021-02-11T00:00:00",
          "2021-02-12T00:00:00",
          "2021-02-13T00:00:00",
          "2021-02-14T00:00:00",
          "2021-02-15T00:00:00",
          "2021-02-16T00:00:00",
          "2021-02-17T00:00:00",
          "2021-02-18T00:00:00",
          "2021-02-19T00:00:00",
          "2021-02-20T00:00:00",
          "2021-02-21T00:00:00",
          "2021-02-22T00:00:00",
          "2021-02-23T00:00:00",
          "2021-02-24T00:00:00",
          "2021-02-25T00:00:00",
          "2021-02-26T00:00:00",
          "2021-02-27T00:00:00",
          "2021-02-28T00:00:00",
          "2021-03-01T00:00:00",
          "2021-03-02T00:00:00",
          "2021-03-03T00:00:00",
          "2021-03-04T00:00:00",
          "2021-03-05T00:00:00",
          "2021-03-06T00:00:00",
          "2021-03-07T00:00:00",
          "2021-03-08T00:00:00",
          "2021-03-09T00:00:00",
          "2021-03-10T00:00:00",
          "2021-03-11T00:00:00",
          "2021-03-12T00:00:00",
          "2021-03-13T00:00:00",
          "2021-03-14T00:00:00",
          "2021-03-15T00:00:00",
          "2021-03-16T00:00:00",
          "2021-03-17T00:00:00",
          "2021-03-18T00:00:00",
          "2021-03-19T00:00:00",
          "2021-03-20T00:00:00",
          "2021-03-21T00:00:00",
          "2021-03-22T00:00:00",
          "2021-03-23T00:00:00",
          "2021-03-24T00:00:00",
          "2021-03-25T00:00:00",
          "2021-03-26T00:00:00",
          "2021-03-27T00:00:00",
          "2021-03-28T00:00:00",
          "2021-03-29T00:00:00",
          "2021-03-30T00:00:00",
          "2021-03-31T00:00:00",
          "2021-04-01T00:00:00",
          "2021-04-02T00:00:00",
          "2021-04-03T00:00:00",
          "2021-04-04T00:00:00",
          "2021-04-05T00:00:00",
          "2021-04-06T00:00:00",
          "2021-04-07T00:00:00",
          "2021-04-08T00:00:00",
          "2021-04-09T00:00:00",
          "2021-04-10T00:00:00",
          "2021-04-11T00:00:00",
          "2021-04-12T00:00:00",
          "2021-04-13T00:00:00",
          "2021-04-14T00:00:00",
          "2021-04-15T00:00:00",
          "2021-04-16T00:00:00",
          "2021-04-17T00:00:00",
          "2021-04-18T00:00:00",
          "2021-04-19T00:00:00",
          "2021-04-20T00:00:00",
          "2021-04-21T00:00:00",
          "2021-04-22T00:00:00",
          "2021-04-23T00:00:00",
          "2021-04-24T00:00:00",
          "2021-04-25T00:00:00",
          "2021-04-26T00:00:00",
          "2021-04-27T00:00:00",
          "2021-04-28T00:00:00",
          "2021-04-29T00:00:00",
          "2021-04-30T00:00:00",
          "2021-05-01T00:00:00",
          "2021-05-02T00:00:00",
          "2021-05-03T00:00:00",
          "2021-05-04T00:00:00",
          "2021-05-05T00:00:00",
          "2021-05-06T00:00:00",
          "2021-05-07T00:00:00",
          "2021-05-08T00:00:00",
          "2021-05-09T00:00:00",
          "2021-05-10T00:00:00",
          "2021-05-11T00:00:00",
          "2021-05-12T00:00:00",
          "2021-05-13T00:00:00",
          "2021-05-14T00:00:00",
          "2021-05-15T00:00:00",
          "2021-05-16T00:00:00",
          "2021-05-17T00:00:00",
          "2021-05-18T00:00:00",
          "2021-05-19T00:00:00",
          "2021-05-20T00:00:00",
          "2021-05-21T00:00:00",
          "2021-05-22T00:00:00",
          "2021-05-23T00:00:00",
          "2021-05-24T00:00:00",
          "2021-05-25T00:00:00",
          "2021-05-26T00:00:00",
          "2021-05-27T00:00:00",
          "2021-05-28T00:00:00",
          "2021-05-29T00:00:00",
          "2021-05-30T00:00:00",
          "2021-05-31T00:00:00",
          "2021-06-01T00:00:00",
          "2021-06-02T00:00:00",
          "2021-06-03T00:00:00",
          "2021-06-04T00:00:00",
          "2021-06-05T00:00:00",
          "2021-06-06T00:00:00",
          "2021-06-07T00:00:00",
          "2021-06-08T00:00:00",
          "2021-06-09T00:00:00",
          "2021-06-10T00:00:00",
          "2021-06-11T00:00:00",
          "2021-06-12T00:00:00",
          "2021-06-13T00:00:00",
          "2021-06-14T00:00:00",
          "2021-06-15T00:00:00",
          "2021-06-16T00:00:00",
          "2021-06-17T00:00:00",
          "2021-06-18T00:00:00",
          "2021-06-19T00:00:00",
          "2021-06-20T00:00:00",
          "2021-06-21T00:00:00",
          "2021-06-22T00:00:00",
          "2021-06-23T00:00:00",
          "2021-06-24T00:00:00",
          "2021-06-25T00:00:00",
          "2021-06-26T00:00:00",
          "2021-06-27T00:00:00",
          "2021-06-28T00:00:00",
          "2021-06-29T00:00:00",
          "2021-06-30T00:00:00",
          "2021-07-01T00:00:00",
          "2021-07-02T00:00:00",
          "2021-07-03T00:00:00",
          "2021-07-04T00:00:00",
          "2021-07-05T00:00:00",
          "2021-07-06T00:00:00",
          "2021-07-07T00:00:00",
          "2021-07-08T00:00:00",
          "2021-07-09T00:00:00",
          "2021-07-10T00:00:00",
          "2021-07-11T00:00:00",
          "2021-07-12T00:00:00",
          "2021-07-13T00:00:00",
          "2021-07-14T00:00:00",
          "2021-07-15T00:00:00",
          "2021-07-16T00:00:00",
          "2021-07-17T00:00:00",
          "2021-07-18T00:00:00",
          "2021-07-19T00:00:00",
          "2021-07-20T00:00:00",
          "2021-07-21T00:00:00",
          "2021-07-22T00:00:00",
          "2021-07-23T00:00:00",
          "2021-07-24T00:00:00",
          "2021-07-25T00:00:00",
          "2021-07-26T00:00:00",
          "2021-07-27T00:00:00",
          "2021-07-28T00:00:00",
          "2021-07-29T00:00:00",
          "2021-07-30T00:00:00",
          "2021-07-31T00:00:00",
          "2021-08-01T00:00:00",
          "2021-08-02T00:00:00",
          "2021-08-03T00:00:00",
          "2021-08-04T00:00:00",
          "2021-08-05T00:00:00",
          "2021-08-06T00:00:00",
          "2021-08-07T00:00:00",
          "2021-08-08T00:00:00",
          "2021-08-09T00:00:00",
          "2021-08-10T00:00:00",
          "2021-08-11T00:00:00",
          "2021-08-12T00:00:00",
          "2021-08-13T00:00:00",
          "2021-08-14T00:00:00",
          "2021-08-15T00:00:00",
          "2021-08-16T00:00:00",
          "2021-08-17T00:00:00",
          "2021-08-18T00:00:00",
          "2021-08-19T00:00:00",
          "2021-08-20T00:00:00",
          "2021-08-21T00:00:00",
          "2021-08-22T00:00:00",
          "2021-08-23T00:00:00",
          "2021-08-24T00:00:00",
          "2021-08-25T00:00:00",
          "2021-08-26T00:00:00",
          "2021-08-27T00:00:00",
          "2021-08-28T00:00:00",
          "2021-08-29T00:00:00",
          "2021-08-30T00:00:00",
          "2021-08-31T00:00:00",
          "2021-09-01T00:00:00",
          "2021-09-02T00:00:00",
          "2021-09-03T00:00:00",
          "2021-09-04T00:00:00",
          "2021-09-05T00:00:00",
          "2021-09-06T00:00:00",
          "2021-09-07T00:00:00",
          "2021-09-08T00:00:00",
          "2021-09-09T00:00:00",
          "2021-09-10T00:00:00",
          "2021-09-11T00:00:00",
          "2021-09-12T00:00:00",
          "2021-09-13T00:00:00",
          "2021-09-14T00:00:00",
          "2021-09-15T00:00:00",
          "2021-09-16T00:00:00",
          "2021-09-17T00:00:00",
          "2021-09-18T00:00:00",
          "2021-09-19T00:00:00",
          "2021-09-20T00:00:00",
          "2021-09-21T00:00:00",
          "2021-09-22T00:00:00",
          "2021-09-23T00:00:00",
          "2021-09-24T00:00:00",
          "2021-09-25T00:00:00",
          "2021-09-26T00:00:00",
          "2021-09-27T00:00:00",
          "2021-09-28T00:00:00",
          "2021-09-29T00:00:00",
          "2021-09-30T00:00:00",
          "2021-10-01T00:00:00",
          "2021-10-02T00:00:00",
          "2021-10-03T00:00:00",
          "2021-10-04T00:00:00",
          "2021-10-05T00:00:00",
          "2021-10-06T00:00:00",
          "2021-10-07T00:00:00",
          "2021-10-08T00:00:00",
          "2021-10-09T00:00:00",
          "2021-10-10T00:00:00",
          "2021-10-11T00:00:00",
          "2021-10-12T00:00:00",
          "2021-10-13T00:00:00",
          "2021-10-14T00:00:00",
          "2021-10-15T00:00:00",
          "2021-10-16T00:00:00",
          "2021-10-17T00:00:00",
          "2021-10-18T00:00:00",
          "2021-10-19T00:00:00",
          "2021-10-20T00:00:00",
          "2021-10-21T00:00:00",
          "2021-10-22T00:00:00",
          "2021-10-23T00:00:00",
          "2021-10-24T00:00:00",
          "2021-10-25T00:00:00",
          "2021-10-26T00:00:00",
          "2021-10-27T00:00:00",
          "2021-10-28T00:00:00",
          "2021-10-29T00:00:00",
          "2021-10-30T00:00:00",
          "2021-10-31T00:00:00"
         ],
         "legendgroup": "",
         "marker": {
          "color": [
           12759,
           12643,
           12600,
           12460,
           10337,
           7729,
           8714,
           12317,
           12670,
           12665,
           13065,
           10759,
           7827,
           9172,
           13776,
           13879,
           13384,
           12938,
           10971,
           8122,
           9568,
           14202,
           13803,
           11823,
           8729,
           7571,
           7750,
           9621,
           15100,
           15633,
           13252,
           9713,
           8472,
           7651,
           10058,
           15476,
           15069,
           15152,
           15397,
           12847,
           8831,
           10081,
           17168,
           16873,
           15471,
           15022,
           13716,
           9085,
           9771,
           16610,
           18020,
           17155,
           16060,
           13921,
           9197,
           11026,
           17445,
           17355,
           17029,
           15388,
           13506,
           8771,
           10353,
           15416,
           16035,
           13001,
           17138,
           11400,
           7298,
           9491,
           15431,
           14035,
           13779,
           13028,
           10419,
           6649,
           7479,
           11352,
           11963,
           11920,
           11692,
           8751,
           6518,
           7374,
           11685,
           12532,
           10657,
           10793,
           8493,
           6264,
           7701,
           10426,
           11764,
           10407,
           10515,
           8097,
           5895,
           7254,
           10614,
           10233,
           10198,
           9885,
           8403,
           5861,
           7664,
           10647,
           10599,
           10736,
           10830,
           8683,
           8470,
           8060,
           11488,
           10740,
           11525,
           12759,
           10148,
           7213,
           8764,
           12022,
           12880,
           12342,
           10532,
           9282,
           7357,
           8273,
           12496,
           15589,
           14339,
           14325,
           12859,
           9079,
           10092,
           13867,
           14050,
           13607,
           13359,
           12468,
           9107,
           11326,
           14353,
           14659,
           13888,
           15301,
           12961,
           10685,
           11868,
           14989,
           15923,
           15754,
           14342,
           12907,
           10277,
           11874,
           14088,
           14840,
           14646,
           14481,
           13196,
           10329,
           11293,
           14181,
           13950,
           13588,
           12992,
           12161,
           10260,
           11471,
           14142,
           13441,
           13165,
           12924,
           11343,
           9781,
           9115,
           13203,
           12787,
           12856,
           11986,
           10701,
           8344,
           8793,
           10973,
           11885,
           10092,
           10684,
           9347,
           7226,
           8169,
           10628,
           10136,
           8607,
           11770,
           9695,
           9253,
           8061,
           10795,
           10024,
           9302,
           9214,
           8077,
           6726,
           7049,
           8928,
           9396,
           8622,
           9237,
           7470,
           6073,
           6596,
           8150,
           9199,
           8556,
           8294,
           6907,
           6612,
           7387,
           8509,
           8521,
           8930,
           8355,
           7263,
           7601,
           8091,
           8384,
           8618,
           8589,
           8651,
           7495,
           6628,
           7169,
           11928,
           8675,
           8774,
           8298,
           8682,
           7320,
           8451,
           9831,
           10255,
           10251,
           9555,
           8806,
           7358,
           8070,
           10417,
           10500,
           10941,
           10472,
           8649,
           7431,
           8750,
           11619,
           10508,
           10495,
           10457,
           8712,
           7394,
           9795,
           10769,
           10787,
           11436,
           10510,
           8881,
           7664,
           10015,
           11048,
           11282,
           11619,
           10337,
           8421,
           6715,
           9537,
           9484,
           12498,
           11183,
           10718,
           7721,
           6459,
           8035,
           10485,
           10053,
           10828,
           9140,
           8327,
           5551,
           9088,
           9953,
           10478,
           10469,
           9047,
           6500,
           5961,
           8218,
           9328,
           9943,
           9781,
           8725,
           5434,
           5433,
           7751,
           9422,
           9269,
           8833,
           8607,
           5878,
           4244,
           7167,
           7429,
           9141,
           8962,
           7776,
           4857,
           4669,
           5745,
           8122,
           8857,
           7984,
           7233,
           5282,
           4274,
           6454,
           8245,
           8691,
           7704,
           8191,
           5823,
           4516,
           6643,
           7915,
           9178,
           8801,
           7873,
           6001,
           4483
          ],
          "coloraxis": "coloraxis",
          "symbol": "circle"
         },
         "mode": "markers",
         "name": "",
         "orientation": "v",
         "showlegend": false,
         "type": "scatter",
         "x": [
          623828,
          646764,
          692160,
          688697,
          648934,
          536299,
          527640,
          643258,
          674732,
          679724,
          707122,
          641449,
          534222,
          543390,
          663527,
          725238,
          741142,
          723922,
          619346,
          537711,
          552687,
          665952,
          692807,
          688172,
          489195,
          515361,
          411392,
          501799,
          673644,
          736808,
          827634,
          574155,
          589174,
          520877,
          558845,
          745033,
          796903,
          891308,
          824282,
          754630,
          587925,
          612887,
          704968,
          750493,
          756188,
          773518,
          651775,
          527259,
          519452,
          591643,
          701100,
          655969,
          664125,
          572983,
          461122,
          480916,
          563317,
          604477,
          610188,
          591507,
          519234,
          387172,
          443175,
          467578,
          526826,
          471108,
          535378,
          433470,
          350905,
          339491,
          408258,
          442192,
          443801,
          430393,
          379004,
          307621,
          281191,
          361248,
          388374,
          410504,
          410229,
          373634,
          317935,
          295118,
          394554,
          447538,
          453067,
          441971,
          395722,
          307312,
          305649,
          389560,
          444298,
          458201,
          449263,
          413303,
          372836,
          303836,
          416798,
          470665,
          480877,
          490166,
          452622,
          362716,
          355005,
          470238,
          550817,
          547404,
          561953,
          496150,
          435153,
          424313,
          520866,
          639441,
          651355,
          639592,
          581483,
          475690,
          460902,
          575345,
          682297,
          708942,
          637820,
          525609,
          556866,
          494966,
          607014,
          684882,
          842852,
          750494,
          665300,
          692683,
          613355,
          783311,
          821435,
          816275,
          855381,
          789589,
          681309,
          694249,
          861185,
          888571,
          902252,
          902534,
          814937,
          724713,
          682649,
          854489,
          904603,
          894527,
          881653,
          794032,
          679159,
          686762,
          801886,
          846518,
          868954,
          831340,
          785875,
          636262,
          626118,
          739465,
          759373,
          731654,
          708774,
          630908,
          544863,
          543596,
          625356,
          673520,
          629259,
          625645,
          571692,
          479180,
          450704,
          534918,
          570349,
          547785,
          504368,
          479473,
          389099,
          386852,
          461324,
          487794,
          479794,
          424990,
          396714,
          322643,
          322082,
          371750,
          418529,
          453177,
          422142,
          368029,
          302411,
          309519,
          375539,
          388892,
          395684,
          403366,
          348193,
          303031,
          296851,
          410391,
          397119,
          408663,
          417739,
          363013,
          310726,
          333249,
          381100,
          399260,
          435424,
          442343,
          374043,
          327874,
          376660,
          451342,
          464924,
          481649,
          513789,
          421501,
          370142,
          433065,
          526116,
          538122,
          576027,
          595329,
          489600,
          421241,
          487613,
          532642,
          555062,
          565222,
          727961,
          490842,
          445145,
          540034,
          606988,
          649846,
          642927,
          731810,
          516272,
          481891,
          572138,
          634230,
          680924,
          684588,
          818927,
          560502,
          466838,
          620743,
          645972,
          729603,
          706654,
          801043,
          551571,
          466417,
          665791,
          681816,
          735598,
          711001,
          785826,
          554650,
          448584,
          687643,
          688092,
          732347,
          739199,
          741206,
          558250,
          445767,
          666781,
          634431,
          726061,
          674948,
          714607,
          495380,
          442346,
          448058,
          701644,
          629537,
          647199,
          639648,
          464452,
          373086,
          587344,
          550410,
          572039,
          584146,
          621984,
          400681,
          365622,
          525356,
          487230,
          540394,
          545718,
          550237,
          377817,
          357311,
          475360,
          454574,
          490640,
          489158,
          521146,
          353898,
          311898,
          438460,
          425784,
          508314,
          461184,
          475693,
          344337,
          319905,
          377869,
          441867,
          457896,
          453842,
          459287,
          347700,
          317645,
          413745,
          447141,
          478318,
          463666,
          488795,
          371622,
          316397,
          427568,
          449586,
          520080,
          463857,
          508971,
          389334,
          346340
         ],
         "xaxis": "x",
         "y": [
          12759,
          12643,
          12600,
          12460,
          10337,
          7729,
          8714,
          12317,
          12670,
          12665,
          13065,
          10759,
          7827,
          9172,
          13776,
          13879,
          13384,
          12938,
          10971,
          8122,
          9568,
          14202,
          13803,
          11823,
          8729,
          7571,
          7750,
          9621,
          15100,
          15633,
          13252,
          9713,
          8472,
          7651,
          10058,
          15476,
          15069,
          15152,
          15397,
          12847,
          8831,
          10081,
          17168,
          16873,
          15471,
          15022,
          13716,
          9085,
          9771,
          16610,
          18020,
          17155,
          16060,
          13921,
          9197,
          11026,
          17445,
          17355,
          17029,
          15388,
          13506,
          8771,
          10353,
          15416,
          16035,
          13001,
          17138,
          11400,
          7298,
          9491,
          15431,
          14035,
          13779,
          13028,
          10419,
          6649,
          7479,
          11352,
          11963,
          11920,
          11692,
          8751,
          6518,
          7374,
          11685,
          12532,
          10657,
          10793,
          8493,
          6264,
          7701,
          10426,
          11764,
          10407,
          10515,
          8097,
          5895,
          7254,
          10614,
          10233,
          10198,
          9885,
          8403,
          5861,
          7664,
          10647,
          10599,
          10736,
          10830,
          8683,
          8470,
          8060,
          11488,
          10740,
          11525,
          12759,
          10148,
          7213,
          8764,
          12022,
          12880,
          12342,
          10532,
          9282,
          7357,
          8273,
          12496,
          15589,
          14339,
          14325,
          12859,
          9079,
          10092,
          13867,
          14050,
          13607,
          13359,
          12468,
          9107,
          11326,
          14353,
          14659,
          13888,
          15301,
          12961,
          10685,
          11868,
          14989,
          15923,
          15754,
          14342,
          12907,
          10277,
          11874,
          14088,
          14840,
          14646,
          14481,
          13196,
          10329,
          11293,
          14181,
          13950,
          13588,
          12992,
          12161,
          10260,
          11471,
          14142,
          13441,
          13165,
          12924,
          11343,
          9781,
          9115,
          13203,
          12787,
          12856,
          11986,
          10701,
          8344,
          8793,
          10973,
          11885,
          10092,
          10684,
          9347,
          7226,
          8169,
          10628,
          10136,
          8607,
          11770,
          9695,
          9253,
          8061,
          10795,
          10024,
          9302,
          9214,
          8077,
          6726,
          7049,
          8928,
          9396,
          8622,
          9237,
          7470,
          6073,
          6596,
          8150,
          9199,
          8556,
          8294,
          6907,
          6612,
          7387,
          8509,
          8521,
          8930,
          8355,
          7263,
          7601,
          8091,
          8384,
          8618,
          8589,
          8651,
          7495,
          6628,
          7169,
          11928,
          8675,
          8774,
          8298,
          8682,
          7320,
          8451,
          9831,
          10255,
          10251,
          9555,
          8806,
          7358,
          8070,
          10417,
          10500,
          10941,
          10472,
          8649,
          7431,
          8750,
          11619,
          10508,
          10495,
          10457,
          8712,
          7394,
          9795,
          10769,
          10787,
          11436,
          10510,
          8881,
          7664,
          10015,
          11048,
          11282,
          11619,
          10337,
          8421,
          6715,
          9537,
          9484,
          12498,
          11183,
          10718,
          7721,
          6459,
          8035,
          10485,
          10053,
          10828,
          9140,
          8327,
          5551,
          9088,
          9953,
          10478,
          10469,
          9047,
          6500,
          5961,
          8218,
          9328,
          9943,
          9781,
          8725,
          5434,
          5433,
          7751,
          9422,
          9269,
          8833,
          8607,
          5878,
          4244,
          7167,
          7429,
          9141,
          8962,
          7776,
          4857,
          4669,
          5745,
          8122,
          8857,
          7984,
          7233,
          5282,
          4274,
          6454,
          8245,
          8691,
          7704,
          8191,
          5823,
          4516,
          6643,
          7915,
          9178,
          8801,
          7873,
          6001,
          4483
         ],
         "yaxis": "y"
        },
        {
         "hovertemplate": "<b>OLS trendline</b><br>NewDeaths = 0.0132351 * NewCases + 3066.11<br>R<sup>2</sup>=0.484076<br><br>NewCases=%{x}<br>NewDeaths=%{y} <b>(trend)</b><extra></extra>",
         "legendgroup": "",
         "marker": {
          "symbol": "circle"
         },
         "mode": "lines",
         "name": "",
         "showlegend": false,
         "type": "scatter",
         "x": [
          281191,
          295118,
          296851,
          302411,
          303031,
          303836,
          305649,
          307312,
          307621,
          309519,
          310726,
          311898,
          316397,
          317645,
          317935,
          319905,
          322082,
          322643,
          327874,
          333249,
          339491,
          344337,
          346340,
          347700,
          348193,
          350905,
          353898,
          355005,
          357311,
          361248,
          362716,
          363013,
          365622,
          368029,
          370142,
          371622,
          371750,
          372836,
          373086,
          373634,
          374043,
          375539,
          376660,
          377817,
          377869,
          379004,
          381100,
          386852,
          387172,
          388374,
          388892,
          389099,
          389334,
          389560,
          394554,
          395684,
          395722,
          396714,
          397119,
          399260,
          400681,
          403366,
          408258,
          408663,
          410229,
          410391,
          410504,
          411392,
          413303,
          413745,
          416798,
          417739,
          418529,
          421241,
          421501,
          422142,
          424313,
          424990,
          425784,
          427568,
          430393,
          433065,
          433470,
          435153,
          435424,
          438460,
          441867,
          441971,
          442192,
          442343,
          442346,
          443175,
          443801,
          444298,
          445145,
          445767,
          447141,
          447538,
          448058,
          448584,
          449263,
          449586,
          450704,
          451342,
          452622,
          453067,
          453177,
          453842,
          454574,
          457896,
          458201,
          459287,
          460902,
          461122,
          461184,
          461324,
          463666,
          463857,
          464452,
          464924,
          466417,
          466838,
          467578,
          470238,
          470665,
          471108,
          475360,
          475690,
          475693,
          478318,
          479180,
          479473,
          479794,
          480877,
          480916,
          481649,
          481891,
          487230,
          487613,
          487794,
          488795,
          489158,
          489195,
          489600,
          490166,
          490640,
          490842,
          494966,
          495380,
          496150,
          501799,
          504368,
          508314,
          508971,
          513789,
          515361,
          516272,
          519234,
          519452,
          520080,
          520866,
          520877,
          521146,
          525356,
          525609,
          526116,
          526826,
          527259,
          527640,
          532642,
          534222,
          534918,
          535378,
          536299,
          537711,
          538122,
          540034,
          540394,
          543390,
          543596,
          544863,
          545718,
          547404,
          547785,
          550237,
          550410,
          550817,
          551571,
          552687,
          554650,
          555062,
          556866,
          558250,
          558845,
          560502,
          561953,
          563317,
          565222,
          570349,
          571692,
          572039,
          572138,
          572983,
          574155,
          575345,
          576027,
          581483,
          584146,
          587344,
          587925,
          589174,
          591507,
          591643,
          595329,
          604477,
          606988,
          607014,
          610188,
          612887,
          613355,
          619346,
          620743,
          621984,
          623828,
          625356,
          625645,
          626118,
          629259,
          629537,
          630908,
          634230,
          634431,
          636262,
          637820,
          639441,
          639592,
          639648,
          641449,
          642927,
          643258,
          645972,
          646764,
          647199,
          648934,
          649846,
          651355,
          651775,
          655969,
          663527,
          664125,
          665300,
          665791,
          665952,
          666781,
          673520,
          673644,
          674732,
          674948,
          679159,
          679724,
          680924,
          681309,
          681816,
          682297,
          682649,
          684588,
          684882,
          686762,
          687643,
          688092,
          688172,
          688697,
          692160,
          692683,
          692807,
          694249,
          701100,
          701644,
          704968,
          706654,
          707122,
          708774,
          708942,
          711001,
          714607,
          723922,
          724713,
          725238,
          726061,
          727961,
          729603,
          731654,
          731810,
          732347,
          735598,
          736808,
          739199,
          739465,
          741142,
          741206,
          745033,
          750493,
          750494,
          754630,
          756188,
          759373,
          773518,
          783311,
          785826,
          785875,
          789589,
          794032,
          796903,
          801043,
          801886,
          814937,
          816275,
          818927,
          821435,
          824282,
          827634,
          831340,
          842852,
          846518,
          854489,
          855381,
          861185,
          868954,
          881653,
          888571,
          891308,
          894527,
          902252,
          902534,
          904603
         ],
         "xaxis": "x",
         "y": [
          6787.703755306579,
          6972.02930675441,
          6994.965774095481,
          7068.55305535131,
          7076.758831318687,
          7087.413104953748,
          7111.408382097061,
          7133.41839086117,
          7137.50804372233,
          7162.628306280525,
          7178.6030991718535,
          7194.114662774701,
          7253.659479028294,
          7270.176911943272,
          7274.0150974764,
          7300.088288856613,
          7328.901150600127,
          7336.32605433835,
          7405.558980282459,
          7476.697763870604,
          7559.311398690547,
          7623.448802461366,
          7649.958752885003,
          7667.95851952312,
          7674.483434929438,
          7710.377087225446,
          7749.989808951831,
          7764.641089590356,
          7795.161282139987,
          7847.267959532829,
          7866.6971194039725,
          7870.627950794797,
          7905.158385470419,
          7937.0153253953795,
          7964.9811392971,
          7984.56912063858,
          7986.263216322167,
          8000.636559387604,
          8003.945340019611,
          8011.19818716497,
          8016.611352278933,
          8036.411095580861,
          8051.247667934779,
          8066.560704699707,
          8067.2489310711635,
          8082.270795140475,
          8110.0116119592185,
          8186.140036740429,
          8190.375275949398,
          8206.283893228087,
          8213.139686697605,
          8215.879357060905,
          8218.989610854991,
          8221.980748546326,
          8288.076950451294,
          8303.032638907964,
          8303.535573564028,
          8316.664815111832,
          8322.025039735681,
          8350.361437068186,
          8369.168546180514,
          8404.704850168266,
          8469.451069575374,
          8474.811294199224,
          8495.537496078116,
          8497.681585927654,
          8499.177154773322,
          8510.929943578209,
          8536.222262729269,
          8542.072186886657,
          8582.479015964724,
          8594.933266263597,
          8605.389013060738,
          8641.282665356746,
          8644.723797214034,
          8653.207510754499,
          8681.940961762844,
          8690.901139714319,
          8701.409827001573,
          8725.021285591572,
          8762.41050673325,
          8797.774754128137,
          8803.134978751987,
          8825.409689966657,
          8828.996408171752,
          8869.178240166842,
          8914.270302619829,
          8915.646755362744,
          8918.571717441439,
          8920.57022094317,
          8920.609926310754,
          8931.581842886488,
          8939.867029589033,
          8946.444885485464,
          8957.655034266701,
          8965.887280479135,
          8984.072338832644,
          8989.326682476269,
          8996.208946190844,
          9003.170620640587,
          9012.157268837116,
          9016.43221341367,
          9031.229080400004,
          9039.673088572883,
          9056.614045408758,
          9062.50367493373,
          9063.959538411815,
          9072.760894892952,
          9082.449004583468,
          9126.416081621574,
          9130.452793992621,
          9144.826137058059,
          9166.200859940822,
          9169.112586896987,
          9169.933164493725,
          9171.78608164765,
          9202.782738608286,
          9205.310647011142,
          9213.185544915317,
          9219.432522748546,
          9239.19256068289,
          9244.76454726719,
          9254.55853793793,
          9289.76396386248,
          9295.41536118195,
          9301.278520461863,
          9357.554261451034,
          9361.921851885283,
          9361.961557252867,
          9396.703753888938,
          9408.112429508097,
          9411.990320408808,
          9416.238794740306,
          9430.572432438159,
          9431.08860221675,
          9440.789947029796,
          9443.992846681578,
          9514.655165858712,
          9519.724217786948,
          9522.119774964522,
          9535.368132615076,
          9540.172482092748,
          9540.662181626285,
          9546.022406250137,
          9553.513485601,
          9559.786933679286,
          9562.460428429946,
          9617.04207373553,
          9622.521414462131,
          9632.712458808714,
          9707.477665969538,
          9741.478695744037,
          9793.704489239633,
          9802.399964740547,
          9866.166785080579,
          9886.972397694637,
          9899.029594317672,
          9938.232027245685,
          9941.117283956795,
          9949.428940904396,
          9959.831747211425,
          9959.977333559234,
          9963.537581519275,
          10019.257447362266,
          10022.605933361858,
          10029.316140483566,
          10038.713077478467,
          10044.443885533103,
          10049.48646721628,
          10115.688550101471,
          10136.600043695755,
          10145.81168897526,
          10151.899845338154,
          10164.089393186467,
          10182.77738619604,
          10188.217021555058,
          10213.522575828647,
          10218.287219938735,
          10257.939647032705,
          10260.666082273478,
          10277.434982516488,
          10288.75101227795,
          10311.065428860205,
          10316.108010543383,
          10348.560530982104,
          10350.850207179454,
          10356.23690204836,
          10366.216184434492,
          10380.98658117577,
          10406.967126698288,
          10412.419997179833,
          10436.296158220393,
          10454.613567799184,
          10462.48846570336,
          10484.4190637323,
          10503.623226520467,
          10521.675933648696,
          10546.888842064587,
          10614.74531526578,
          10632.52008482092,
          10637.112672338146,
          10638.422949468422,
          10649.606628004603,
          10665.118191607453,
          10680.867987415804,
          10689.894340979918,
          10762.105169492832,
          10797.350300784969,
          10839.676222629598,
          10847.365828818383,
          10863.896496855887,
          10894.774037713774,
          10896.574014377586,
          10945.358676015894,
          11066.433576902284,
          11099.666969570158,
          11100.011082755887,
          11142.019361659844,
          11177.740957362988,
          11183.934994706105,
          11263.226613771516,
          11281.71607994317,
          11298.14086700045,
          11322.546432942132,
          11342.769700164958,
          11346.594650575556,
          11352.854863531313,
          11394.426383391847,
          11398.105747454638,
          11416.251100440562,
          11460.218177478668,
          11462.878437106801,
          11487.111946455618,
          11507.732267354284,
          11529.186400972216,
          11531.184904473948,
          11531.926071335518,
          11555.762527008494,
          11575.324038104918,
          11579.704863661695,
          11615.62498620276,
          11626.107203244957,
          11631.864481544648,
          11654.827419130776,
          11666.897850876336,
          11686.869650771128,
          11692.4284022329,
          11747.936506115444,
          11847.967562182272,
          11855.882165454032,
          11871.433434424463,
          11877.931879585725,
          11880.062734312736,
          11891.03465088847,
          11980.226141604844,
          11981.86729679832,
          11996.267110108813,
          11999.125896574868,
          12054.858997540388,
          12062.336841768723,
          12078.218988802355,
          12083.314510975646,
          12090.024718097355,
          12096.390812033336,
          12101.049575163202,
          12126.712477745046,
          12130.603603768286,
          12155.485634120976,
          12167.145777068168,
          12173.088347083252,
          12174.147156885494,
          12181.095596212708,
          12226.928825527266,
          12233.850794609423,
          12235.4919498029,
          12254.576996488315,
          12345.250820927826,
          12352.450727583073,
          12396.444274866235,
          12418.758691448487,
          12424.952728791604,
          12446.817151207904,
          12449.040651792613,
          12476.291769077821,
          12524.017620913886,
          12647.302787262455,
          12657.771769182125,
          12664.72020850934,
          12675.612714349905,
          12700.759447153157,
          12722.491518344177,
          12749.63675464916,
          12751.701433763532,
          12758.808694561083,
          12801.836077899698,
          12817.850576158611,
          12849.495754123123,
          12853.016296715577,
          12875.211597195079,
          12876.058645036874,
          12926.709458951633,
          12998.973227954659,
          12998.986463077186,
          13053.726929853106,
          13074.347250751773,
          13116.501116003537,
          13303.711924162479,
          13433.323479079445,
          13466.609812237433,
          13467.258333241307,
          13516.4135783104,
          13575.217227702422,
          13613.215264480386,
          13668.008671746418,
          13679.165880037544,
          13851.897464150825,
          13869.606058093324,
          13904.705603037652,
          13937.899290337944,
          13975.579684175236,
          14019.943814889182,
          14068.99317897805,
          14221.355909520695,
          14269.875868708441,
          14375.373030379344,
          14387.178759674343,
          14463.995410827012,
          14566.819077747254,
          14734.891898730666,
          14826.452476379556,
          14862.677006738766,
          14905.280866156485,
          15007.522187685492,
          15011.254492238397,
          15038.637960748883
         ],
         "yaxis": "y"
        }
       ],
       "layout": {
        "coloraxis": {
         "colorbar": {
          "title": {
           "text": "NewDeaths"
          }
         },
         "colorscale": [
          [
           0,
           "#440154"
          ],
          [
           0.1111111111111111,
           "#482878"
          ],
          [
           0.2222222222222222,
           "#3e4989"
          ],
          [
           0.3333333333333333,
           "#31688e"
          ],
          [
           0.4444444444444444,
           "#26828e"
          ],
          [
           0.5555555555555556,
           "#1f9e89"
          ],
          [
           0.6666666666666666,
           "#35b779"
          ],
          [
           0.7777777777777778,
           "#6ece58"
          ],
          [
           0.8888888888888888,
           "#b5de2b"
          ],
          [
           1,
           "#fde725"
          ]
         ]
        },
        "legend": {
         "tracegroupgap": 0
        },
        "template": {
         "data": {
          "bar": [
           {
            "error_x": {
             "color": "#2a3f5f"
            },
            "error_y": {
             "color": "#2a3f5f"
            },
            "marker": {
             "line": {
              "color": "#E5ECF6",
              "width": 0.5
             },
             "pattern": {
              "fillmode": "overlay",
              "size": 10,
              "solidity": 0.2
             }
            },
            "type": "bar"
           }
          ],
          "barpolar": [
           {
            "marker": {
             "line": {
              "color": "#E5ECF6",
              "width": 0.5
             },
             "pattern": {
              "fillmode": "overlay",
              "size": 10,
              "solidity": 0.2
             }
            },
            "type": "barpolar"
           }
          ],
          "carpet": [
           {
            "aaxis": {
             "endlinecolor": "#2a3f5f",
             "gridcolor": "white",
             "linecolor": "white",
             "minorgridcolor": "white",
             "startlinecolor": "#2a3f5f"
            },
            "baxis": {
             "endlinecolor": "#2a3f5f",
             "gridcolor": "white",
             "linecolor": "white",
             "minorgridcolor": "white",
             "startlinecolor": "#2a3f5f"
            },
            "type": "carpet"
           }
          ],
          "choropleth": [
           {
            "colorbar": {
             "outlinewidth": 0,
             "ticks": ""
            },
            "type": "choropleth"
           }
          ],
          "contour": [
           {
            "colorbar": {
             "outlinewidth": 0,
             "ticks": ""
            },
            "colorscale": [
             [
              0,
              "#0d0887"
             ],
             [
              0.1111111111111111,
              "#46039f"
             ],
             [
              0.2222222222222222,
              "#7201a8"
             ],
             [
              0.3333333333333333,
              "#9c179e"
             ],
             [
              0.4444444444444444,
              "#bd3786"
             ],
             [
              0.5555555555555556,
              "#d8576b"
             ],
             [
              0.6666666666666666,
              "#ed7953"
             ],
             [
              0.7777777777777778,
              "#fb9f3a"
             ],
             [
              0.8888888888888888,
              "#fdca26"
             ],
             [
              1,
              "#f0f921"
             ]
            ],
            "type": "contour"
           }
          ],
          "contourcarpet": [
           {
            "colorbar": {
             "outlinewidth": 0,
             "ticks": ""
            },
            "type": "contourcarpet"
           }
          ],
          "heatmap": [
           {
            "colorbar": {
             "outlinewidth": 0,
             "ticks": ""
            },
            "colorscale": [
             [
              0,
              "#0d0887"
             ],
             [
              0.1111111111111111,
              "#46039f"
             ],
             [
              0.2222222222222222,
              "#7201a8"
             ],
             [
              0.3333333333333333,
              "#9c179e"
             ],
             [
              0.4444444444444444,
              "#bd3786"
             ],
             [
              0.5555555555555556,
              "#d8576b"
             ],
             [
              0.6666666666666666,
              "#ed7953"
             ],
             [
              0.7777777777777778,
              "#fb9f3a"
             ],
             [
              0.8888888888888888,
              "#fdca26"
             ],
             [
              1,
              "#f0f921"
             ]
            ],
            "type": "heatmap"
           }
          ],
          "heatmapgl": [
           {
            "colorbar": {
             "outlinewidth": 0,
             "ticks": ""
            },
            "colorscale": [
             [
              0,
              "#0d0887"
             ],
             [
              0.1111111111111111,
              "#46039f"
             ],
             [
              0.2222222222222222,
              "#7201a8"
             ],
             [
              0.3333333333333333,
              "#9c179e"
             ],
             [
              0.4444444444444444,
              "#bd3786"
             ],
             [
              0.5555555555555556,
              "#d8576b"
             ],
             [
              0.6666666666666666,
              "#ed7953"
             ],
             [
              0.7777777777777778,
              "#fb9f3a"
             ],
             [
              0.8888888888888888,
              "#fdca26"
             ],
             [
              1,
              "#f0f921"
             ]
            ],
            "type": "heatmapgl"
           }
          ],
          "histogram": [
           {
            "marker": {
             "pattern": {
              "fillmode": "overlay",
              "size": 10,
              "solidity": 0.2
             }
            },
            "type": "histogram"
           }
          ],
          "histogram2d": [
           {
            "colorbar": {
             "outlinewidth": 0,
             "ticks": ""
            },
            "colorscale": [
             [
              0,
              "#0d0887"
             ],
             [
              0.1111111111111111,
              "#46039f"
             ],
             [
              0.2222222222222222,
              "#7201a8"
             ],
             [
              0.3333333333333333,
              "#9c179e"
             ],
             [
              0.4444444444444444,
              "#bd3786"
             ],
             [
              0.5555555555555556,
              "#d8576b"
             ],
             [
              0.6666666666666666,
              "#ed7953"
             ],
             [
              0.7777777777777778,
              "#fb9f3a"
             ],
             [
              0.8888888888888888,
              "#fdca26"
             ],
             [
              1,
              "#f0f921"
             ]
            ],
            "type": "histogram2d"
           }
          ],
          "histogram2dcontour": [
           {
            "colorbar": {
             "outlinewidth": 0,
             "ticks": ""
            },
            "colorscale": [
             [
              0,
              "#0d0887"
             ],
             [
              0.1111111111111111,
              "#46039f"
             ],
             [
              0.2222222222222222,
              "#7201a8"
             ],
             [
              0.3333333333333333,
              "#9c179e"
             ],
             [
              0.4444444444444444,
              "#bd3786"
             ],
             [
              0.5555555555555556,
              "#d8576b"
             ],
             [
              0.6666666666666666,
              "#ed7953"
             ],
             [
              0.7777777777777778,
              "#fb9f3a"
             ],
             [
              0.8888888888888888,
              "#fdca26"
             ],
             [
              1,
              "#f0f921"
             ]
            ],
            "type": "histogram2dcontour"
           }
          ],
          "mesh3d": [
           {
            "colorbar": {
             "outlinewidth": 0,
             "ticks": ""
            },
            "type": "mesh3d"
           }
          ],
          "parcoords": [
           {
            "line": {
             "colorbar": {
              "outlinewidth": 0,
              "ticks": ""
             }
            },
            "type": "parcoords"
           }
          ],
          "pie": [
           {
            "automargin": true,
            "type": "pie"
           }
          ],
          "scatter": [
           {
            "fillpattern": {
             "fillmode": "overlay",
             "size": 10,
             "solidity": 0.2
            },
            "type": "scatter"
           }
          ],
          "scatter3d": [
           {
            "line": {
             "colorbar": {
              "outlinewidth": 0,
              "ticks": ""
             }
            },
            "marker": {
             "colorbar": {
              "outlinewidth": 0,
              "ticks": ""
             }
            },
            "type": "scatter3d"
           }
          ],
          "scattercarpet": [
           {
            "marker": {
             "colorbar": {
              "outlinewidth": 0,
              "ticks": ""
             }
            },
            "type": "scattercarpet"
           }
          ],
          "scattergeo": [
           {
            "marker": {
             "colorbar": {
              "outlinewidth": 0,
              "ticks": ""
             }
            },
            "type": "scattergeo"
           }
          ],
          "scattergl": [
           {
            "marker": {
             "colorbar": {
              "outlinewidth": 0,
              "ticks": ""
             }
            },
            "type": "scattergl"
           }
          ],
          "scattermapbox": [
           {
            "marker": {
             "colorbar": {
              "outlinewidth": 0,
              "ticks": ""
             }
            },
            "type": "scattermapbox"
           }
          ],
          "scatterpolar": [
           {
            "marker": {
             "colorbar": {
              "outlinewidth": 0,
              "ticks": ""
             }
            },
            "type": "scatterpolar"
           }
          ],
          "scatterpolargl": [
           {
            "marker": {
             "colorbar": {
              "outlinewidth": 0,
              "ticks": ""
             }
            },
            "type": "scatterpolargl"
           }
          ],
          "scatterternary": [
           {
            "marker": {
             "colorbar": {
              "outlinewidth": 0,
              "ticks": ""
             }
            },
            "type": "scatterternary"
           }
          ],
          "surface": [
           {
            "colorbar": {
             "outlinewidth": 0,
             "ticks": ""
            },
            "colorscale": [
             [
              0,
              "#0d0887"
             ],
             [
              0.1111111111111111,
              "#46039f"
             ],
             [
              0.2222222222222222,
              "#7201a8"
             ],
             [
              0.3333333333333333,
              "#9c179e"
             ],
             [
              0.4444444444444444,
              "#bd3786"
             ],
             [
              0.5555555555555556,
              "#d8576b"
             ],
             [
              0.6666666666666666,
              "#ed7953"
             ],
             [
              0.7777777777777778,
              "#fb9f3a"
             ],
             [
              0.8888888888888888,
              "#fdca26"
             ],
             [
              1,
              "#f0f921"
             ]
            ],
            "type": "surface"
           }
          ],
          "table": [
           {
            "cells": {
             "fill": {
              "color": "#EBF0F8"
             },
             "line": {
              "color": "white"
             }
            },
            "header": {
             "fill": {
              "color": "#C8D4E3"
             },
             "line": {
              "color": "white"
             }
            },
            "type": "table"
           }
          ]
         },
         "layout": {
          "annotationdefaults": {
           "arrowcolor": "#2a3f5f",
           "arrowhead": 0,
           "arrowwidth": 1
          },
          "autotypenumbers": "strict",
          "coloraxis": {
           "colorbar": {
            "outlinewidth": 0,
            "ticks": ""
           }
          },
          "colorscale": {
           "diverging": [
            [
             0,
             "#8e0152"
            ],
            [
             0.1,
             "#c51b7d"
            ],
            [
             0.2,
             "#de77ae"
            ],
            [
             0.3,
             "#f1b6da"
            ],
            [
             0.4,
             "#fde0ef"
            ],
            [
             0.5,
             "#f7f7f7"
            ],
            [
             0.6,
             "#e6f5d0"
            ],
            [
             0.7,
             "#b8e186"
            ],
            [
             0.8,
             "#7fbc41"
            ],
            [
             0.9,
             "#4d9221"
            ],
            [
             1,
             "#276419"
            ]
           ],
           "sequential": [
            [
             0,
             "#0d0887"
            ],
            [
             0.1111111111111111,
             "#46039f"
            ],
            [
             0.2222222222222222,
             "#7201a8"
            ],
            [
             0.3333333333333333,
             "#9c179e"
            ],
            [
             0.4444444444444444,
             "#bd3786"
            ],
            [
             0.5555555555555556,
             "#d8576b"
            ],
            [
             0.6666666666666666,
             "#ed7953"
            ],
            [
             0.7777777777777778,
             "#fb9f3a"
            ],
            [
             0.8888888888888888,
             "#fdca26"
            ],
            [
             1,
             "#f0f921"
            ]
           ],
           "sequentialminus": [
            [
             0,
             "#0d0887"
            ],
            [
             0.1111111111111111,
             "#46039f"
            ],
            [
             0.2222222222222222,
             "#7201a8"
            ],
            [
             0.3333333333333333,
             "#9c179e"
            ],
            [
             0.4444444444444444,
             "#bd3786"
            ],
            [
             0.5555555555555556,
             "#d8576b"
            ],
            [
             0.6666666666666666,
             "#ed7953"
            ],
            [
             0.7777777777777778,
             "#fb9f3a"
            ],
            [
             0.8888888888888888,
             "#fdca26"
            ],
            [
             1,
             "#f0f921"
            ]
           ]
          },
          "colorway": [
           "#636efa",
           "#EF553B",
           "#00cc96",
           "#ab63fa",
           "#FFA15A",
           "#19d3f3",
           "#FF6692",
           "#B6E880",
           "#FF97FF",
           "#FECB52"
          ],
          "font": {
           "color": "#2a3f5f"
          },
          "geo": {
           "bgcolor": "white",
           "lakecolor": "white",
           "landcolor": "#E5ECF6",
           "showlakes": true,
           "showland": true,
           "subunitcolor": "white"
          },
          "hoverlabel": {
           "align": "left"
          },
          "hovermode": "closest",
          "mapbox": {
           "style": "light"
          },
          "paper_bgcolor": "white",
          "plot_bgcolor": "#E5ECF6",
          "polar": {
           "angularaxis": {
            "gridcolor": "white",
            "linecolor": "white",
            "ticks": ""
           },
           "bgcolor": "#E5ECF6",
           "radialaxis": {
            "gridcolor": "white",
            "linecolor": "white",
            "ticks": ""
           }
          },
          "scene": {
           "xaxis": {
            "backgroundcolor": "#E5ECF6",
            "gridcolor": "white",
            "gridwidth": 2,
            "linecolor": "white",
            "showbackground": true,
            "ticks": "",
            "zerolinecolor": "white"
           },
           "yaxis": {
            "backgroundcolor": "#E5ECF6",
            "gridcolor": "white",
            "gridwidth": 2,
            "linecolor": "white",
            "showbackground": true,
            "ticks": "",
            "zerolinecolor": "white"
           },
           "zaxis": {
            "backgroundcolor": "#E5ECF6",
            "gridcolor": "white",
            "gridwidth": 2,
            "linecolor": "white",
            "showbackground": true,
            "ticks": "",
            "zerolinecolor": "white"
           }
          },
          "shapedefaults": {
           "line": {
            "color": "#2a3f5f"
           }
          },
          "ternary": {
           "aaxis": {
            "gridcolor": "white",
            "linecolor": "white",
            "ticks": ""
           },
           "baxis": {
            "gridcolor": "white",
            "linecolor": "white",
            "ticks": ""
           },
           "bgcolor": "#E5ECF6",
           "caxis": {
            "gridcolor": "white",
            "linecolor": "white",
            "ticks": ""
           }
          },
          "title": {
           "x": 0.05
          },
          "xaxis": {
           "automargin": true,
           "gridcolor": "white",
           "linecolor": "white",
           "ticks": "",
           "title": {
            "standoff": 15
           },
           "zerolinecolor": "white",
           "zerolinewidth": 2
          },
          "yaxis": {
           "automargin": true,
           "gridcolor": "white",
           "linecolor": "white",
           "ticks": "",
           "title": {
            "standoff": 15
           },
           "zerolinecolor": "white",
           "zerolinewidth": 2
          }
         }
        },
        "title": {
         "text": "Biểu đồ thể hiện sự tương quan giữa số ca mắc mới và tử vong mới mỗi ngày của biến thể DELTA"
        },
        "xaxis": {
         "anchor": "y",
         "domain": [
          0,
          1
         ],
         "title": {
          "text": "NewCases"
         }
        },
        "yaxis": {
         "anchor": "x",
         "domain": [
          0,
          1
         ],
         "title": {
          "text": "NewDeaths"
         }
        }
       }
      }
     },
     "metadata": {},
     "output_type": "display_data"
    }
   ],
   "source": [
    "plot_scatter(covid_delta, \"NewCases\", \"NewDeaths\", \"Biểu đồ thể hiện sự tương quan giữa số ca mắc mới và tử vong mới mỗi ngày của biến thể DELTA\", \"Date\")"
   ]
  },
  {
   "cell_type": "markdown",
   "metadata": {},
   "source": [
    "Ta tính hệ số tương quan của đường tuyến tính"
   ]
  },
  {
   "cell_type": "code",
   "execution_count": 239,
   "metadata": {},
   "outputs": [
    {
     "name": "stdout",
     "output_type": "stream",
     "text": [
      "Hệ số tương quan giữa 2 biến là R = 0.6957555110837915 cho thấy đường tuyến tính tương quan thuận, có độ mạnh trung bình. Với biến chủng DELTA, số ca mắc mới tăng thì số ca tử vong cũng tăng theo\n"
     ]
    }
   ],
   "source": [
    "res = stats.linregress(covid_delta[\"NewCases\"], covid_delta[\"NewDeaths\"])\n",
    "print(f\"Hệ số tương quan giữa 2 biến là R = {res.rvalue} cho thấy đường tuyến tính tương quan thuận, có độ mạnh trung bình. \\\n",
    "Với biến chủng DELTA, số ca mắc mới tăng thì số ca tử vong cũng tăng theo\")"
   ]
  },
  {
   "cell_type": "code",
   "execution_count": 240,
   "metadata": {},
   "outputs": [
    {
     "data": {
      "application/vnd.plotly.v1+json": {
       "config": {
        "plotlyServerURL": "https://plot.ly"
       },
       "data": [
        {
         "hovertemplate": "<b>%{hovertext}</b><br><br>NewCases=%{x}<br>NewDeaths=%{marker.color}<extra></extra>",
         "hovertext": [
          "2021-11-01T00:00:00",
          "2021-11-02T00:00:00",
          "2021-11-03T00:00:00",
          "2021-11-04T00:00:00",
          "2021-11-05T00:00:00",
          "2021-11-06T00:00:00",
          "2021-11-07T00:00:00",
          "2021-11-08T00:00:00",
          "2021-11-09T00:00:00",
          "2021-11-10T00:00:00",
          "2021-11-11T00:00:00",
          "2021-11-12T00:00:00",
          "2021-11-13T00:00:00",
          "2021-11-14T00:00:00",
          "2021-11-15T00:00:00",
          "2021-11-16T00:00:00",
          "2021-11-17T00:00:00",
          "2021-11-18T00:00:00",
          "2021-11-19T00:00:00",
          "2021-11-20T00:00:00",
          "2021-11-21T00:00:00",
          "2021-11-22T00:00:00",
          "2021-11-23T00:00:00",
          "2021-11-24T00:00:00",
          "2021-11-25T00:00:00",
          "2021-11-26T00:00:00",
          "2021-11-27T00:00:00",
          "2021-11-28T00:00:00",
          "2021-11-29T00:00:00",
          "2021-11-30T00:00:00",
          "2021-12-01T00:00:00",
          "2021-12-02T00:00:00",
          "2021-12-03T00:00:00",
          "2021-12-04T00:00:00",
          "2021-12-05T00:00:00",
          "2021-12-06T00:00:00",
          "2021-12-07T00:00:00",
          "2021-12-08T00:00:00",
          "2021-12-09T00:00:00",
          "2021-12-10T00:00:00",
          "2021-12-11T00:00:00",
          "2021-12-12T00:00:00",
          "2021-12-13T00:00:00",
          "2021-12-14T00:00:00",
          "2021-12-15T00:00:00",
          "2021-12-16T00:00:00",
          "2021-12-17T00:00:00",
          "2021-12-18T00:00:00",
          "2021-12-19T00:00:00",
          "2021-12-20T00:00:00",
          "2021-12-21T00:00:00",
          "2021-12-22T00:00:00",
          "2021-12-23T00:00:00",
          "2021-12-24T00:00:00",
          "2021-12-25T00:00:00",
          "2021-12-26T00:00:00",
          "2021-12-27T00:00:00",
          "2021-12-28T00:00:00",
          "2021-12-29T00:00:00",
          "2021-12-30T00:00:00",
          "2021-12-31T00:00:00",
          "2022-01-01T00:00:00",
          "2022-01-02T00:00:00",
          "2022-01-03T00:00:00",
          "2022-01-04T00:00:00",
          "2022-01-05T00:00:00",
          "2022-01-06T00:00:00",
          "2022-01-07T00:00:00",
          "2022-01-08T00:00:00",
          "2022-01-09T00:00:00",
          "2022-01-10T00:00:00",
          "2022-01-11T00:00:00",
          "2022-01-12T00:00:00",
          "2022-01-13T00:00:00",
          "2022-01-14T00:00:00",
          "2022-01-15T00:00:00",
          "2022-01-16T00:00:00",
          "2022-01-17T00:00:00",
          "2022-01-18T00:00:00",
          "2022-01-19T00:00:00",
          "2022-01-20T00:00:00",
          "2022-01-21T00:00:00",
          "2022-01-22T00:00:00",
          "2022-01-23T00:00:00",
          "2022-01-24T00:00:00",
          "2022-01-25T00:00:00",
          "2022-01-26T00:00:00",
          "2022-01-27T00:00:00",
          "2022-01-28T00:00:00",
          "2022-01-29T00:00:00",
          "2022-01-30T00:00:00",
          "2022-01-31T00:00:00",
          "2022-02-01T00:00:00",
          "2022-02-02T00:00:00",
          "2022-02-03T00:00:00",
          "2022-02-04T00:00:00",
          "2022-02-05T00:00:00",
          "2022-02-06T00:00:00",
          "2022-02-07T00:00:00",
          "2022-02-08T00:00:00",
          "2022-02-09T00:00:00",
          "2022-02-10T00:00:00",
          "2022-02-11T00:00:00",
          "2022-02-12T00:00:00",
          "2022-02-13T00:00:00",
          "2022-02-14T00:00:00",
          "2022-02-15T00:00:00",
          "2022-02-16T00:00:00",
          "2022-02-17T00:00:00",
          "2022-02-18T00:00:00",
          "2022-02-19T00:00:00",
          "2022-02-20T00:00:00",
          "2022-02-21T00:00:00",
          "2022-02-22T00:00:00",
          "2022-02-23T00:00:00",
          "2022-02-24T00:00:00",
          "2022-02-25T00:00:00",
          "2022-02-26T00:00:00",
          "2022-02-27T00:00:00",
          "2022-02-28T00:00:00"
         ],
         "legendgroup": "",
         "marker": {
          "color": [
           6276,
           7283,
           8416,
           7605,
           8611,
           6644,
           4486,
           6667,
           8229,
           8282,
           7625,
           9099,
           6280,
           4621,
           6891,
           7726,
           9212,
           8304,
           8066,
           6067,
           4543,
           7260,
           8079,
           8680,
           7834,
           6825,
           5956,
           4791,
           7743,
           7989,
           9327,
           10168,
           8596,
           5524,
           7343,
           6814,
           8395,
           7948,
           8859,
           8126,
           5979,
           4540,
           6590,
           7755,
           9191,
           7314,
           7006,
           6067,
           4323,
           6946,
           7673,
           8245,
           9307,
           5885,
           4254,
           3602,
           6725,
           7478,
           8038,
           7573,
           6008,
           4295,
           3214,
           6089,
           7992,
           7986,
           6847,
           7220,
           5351,
           3933,
           6424,
           9510,
           9240,
           8108,
           7734,
           6196,
           4321,
           6233,
           9242,
           10567,
           9454,
           9849,
           6115,
           4966,
           8627,
           10811,
           10953,
           10402,
           12120,
           7906,
           5598,
           9729,
           13275,
           12220,
           11589,
           13330,
           8299,
           5855,
           10700,
           13286,
           13311,
           11699,
           12108,
           8724,
           5094,
           10671,
           10581,
           13077,
           12712,
           10579,
           8384,
           5305,
           7435,
           9410,
           11706,
           10735,
           9080,
           6392,
           4417,
           7759
          ],
          "coloraxis": "coloraxis",
          "symbol": "circle"
         },
         "mode": "markers",
         "name": "",
         "orientation": "v",
         "showlegend": false,
         "type": "scatter",
         "x": [
          421008,
          426168,
          538266,
          523859,
          520733,
          426950,
          349453,
          477486,
          488325,
          589183,
          518867,
          595877,
          429817,
          363480,
          538581,
          526831,
          634183,
          615233,
          620493,
          481010,
          403567,
          619817,
          595501,
          673136,
          596745,
          598726,
          460761,
          408721,
          653658,
          623349,
          712931,
          706436,
          717210,
          513407,
          439331,
          591267,
          697340,
          670681,
          727600,
          688074,
          499048,
          439210,
          625949,
          659374,
          744952,
          737302,
          732460,
          581077,
          481753,
          744732,
          797266,
          906982,
          996976,
          856016,
          693331,
          578659,
          1281218,
          1331053,
          1724220,
          1940530,
          1715008,
          1194627,
          911858,
          2422782,
          2525019,
          2564924,
          2632856,
          2926756,
          2143373,
          2011939,
          3164652,
          3088630,
          3519679,
          3169740,
          3280358,
          2448865,
          2146696,
          2697201,
          3788087,
          4206334,
          3691329,
          3810842,
          2718905,
          2417784,
          3476376,
          3659392,
          3830779,
          3695211,
          3600517,
          2654716,
          2262423,
          2756868,
          3296903,
          3214698,
          3162945,
          2924578,
          2225128,
          1816457,
          2543573,
          2842216,
          2455501,
          2766818,
          2386649,
          1827503,
          1451313,
          1790115,
          1790874,
          2419675,
          2033799,
          1940000,
          1552157,
          1266349,
          1457542,
          1805873,
          1939520,
          1755446,
          1591820,
          1328773,
          1065246,
          1403481
         ],
         "xaxis": "x",
         "y": [
          6276,
          7283,
          8416,
          7605,
          8611,
          6644,
          4486,
          6667,
          8229,
          8282,
          7625,
          9099,
          6280,
          4621,
          6891,
          7726,
          9212,
          8304,
          8066,
          6067,
          4543,
          7260,
          8079,
          8680,
          7834,
          6825,
          5956,
          4791,
          7743,
          7989,
          9327,
          10168,
          8596,
          5524,
          7343,
          6814,
          8395,
          7948,
          8859,
          8126,
          5979,
          4540,
          6590,
          7755,
          9191,
          7314,
          7006,
          6067,
          4323,
          6946,
          7673,
          8245,
          9307,
          5885,
          4254,
          3602,
          6725,
          7478,
          8038,
          7573,
          6008,
          4295,
          3214,
          6089,
          7992,
          7986,
          6847,
          7220,
          5351,
          3933,
          6424,
          9510,
          9240,
          8108,
          7734,
          6196,
          4321,
          6233,
          9242,
          10567,
          9454,
          9849,
          6115,
          4966,
          8627,
          10811,
          10953,
          10402,
          12120,
          7906,
          5598,
          9729,
          13275,
          12220,
          11589,
          13330,
          8299,
          5855,
          10700,
          13286,
          13311,
          11699,
          12108,
          8724,
          5094,
          10671,
          10581,
          13077,
          12712,
          10579,
          8384,
          5305,
          7435,
          9410,
          11706,
          10735,
          9080,
          6392,
          4417,
          7759
         ],
         "yaxis": "y"
        },
        {
         "hovertemplate": "<b>OLS trendline</b><br>NewDeaths = 0.00103546 * NewCases + 6308.63<br>R<sup>2</sup>=0.237844<br><br>NewCases=%{x}<br>NewDeaths=%{y} <b>(trend)</b><extra></extra>",
         "legendgroup": "",
         "marker": {
          "symbol": "circle"
         },
         "mode": "lines",
         "name": "",
         "showlegend": false,
         "type": "scatter",
         "x": [
          349453,
          363480,
          403567,
          408721,
          421008,
          426168,
          426950,
          429817,
          439210,
          439331,
          460761,
          477486,
          481010,
          481753,
          488325,
          499048,
          513407,
          518867,
          520733,
          523859,
          526831,
          538266,
          538581,
          578659,
          581077,
          589183,
          591267,
          595501,
          595877,
          596745,
          598726,
          615233,
          619817,
          620493,
          623349,
          625949,
          634183,
          653658,
          659374,
          670681,
          673136,
          688074,
          693331,
          697340,
          706436,
          712931,
          717210,
          727600,
          732460,
          737302,
          744732,
          744952,
          797266,
          856016,
          906982,
          911858,
          996976,
          1065246,
          1194627,
          1266349,
          1281218,
          1328773,
          1331053,
          1403481,
          1451313,
          1457542,
          1552157,
          1591820,
          1715008,
          1724220,
          1755446,
          1790115,
          1790874,
          1805873,
          1816457,
          1827503,
          1939520,
          1940000,
          1940530,
          2011939,
          2033799,
          2143373,
          2146696,
          2225128,
          2262423,
          2386649,
          2417784,
          2419675,
          2422782,
          2448865,
          2455501,
          2525019,
          2543573,
          2564924,
          2632856,
          2654716,
          2697201,
          2718905,
          2756868,
          2766818,
          2842216,
          2924578,
          2926756,
          3088630,
          3162945,
          3164652,
          3169740,
          3214698,
          3280358,
          3296903,
          3476376,
          3519679,
          3600517,
          3659392,
          3691329,
          3695211,
          3788087,
          3810842,
          3830779,
          4206334
         ],
         "xaxis": "x",
         "y": [
          6670.476992113686,
          6685.00141389217,
          6726.509968524957,
          6731.846738315098,
          6744.5694566719985,
          6749.912439232558,
          6750.722170310535,
          6753.690839109203,
          6763.416931200549,
          6763.5422220706705,
          6785.7321670847805,
          6803.050264628457,
          6806.699231788034,
          6807.468579858285,
          6814.273634390844,
          6825.3768905917905,
          6840.245085666807,
          6845.89870674833,
          6847.830878348719,
          6851.067731737152,
          6854.145124018157,
          6865.985628975523,
          6866.311799422533,
          6907.811034899692,
          6910.314781378652,
          6918.708234215067,
          6920.866136474022,
          6925.250281466544,
          6925.6396150794835,
          6926.538395866803,
          6928.5896455668935,
          6945.6820124520045,
          6950.428569052316,
          6951.128541186219,
          6954.085819905785,
          6956.778020420796,
          6965.304012359488,
          6985.469629678658,
          6991.388328964736,
          7003.096294819824,
          7005.638353383036,
          7021.106080803511,
          7026.549503152516,
          7030.7006692543155,
          7040.119229209909,
          7046.844553188753,
          7051.275293959419,
          7062.033741402098,
          7067.066085441696,
          7072.079791170036,
          7079.773271872547,
          7080.001073454587,
          7134.1702187400815,
          7195.003595761966,
          7247.776938626601,
          7252.825850053982,
          7340.962282145024,
          7411.653254898794,
          7545.622329834425,
          7619.887716502741,
          7635.283997063394,
          7684.525379944682,
          7686.886232704,
          7761.882655358315,
          7811.410861140625,
          7817.860752297549,
          7915.8309645005365,
          7956.90048335703,
          8084.456943758252,
          8093.995617275284,
          8126.328945460566,
          8162.227368404765,
          8163.013283862801,
          8178.544174449205,
          8189.503501468773,
          8200.941211810623,
          8316.930529152927,
          8317.427550786468,
          8317.976345506835,
          8391.917632651612,
          8414.552826212435,
          8528.012510532366,
          8531.453349882897,
          8612.666684803415,
          8651.284230267775,
          8779.915499951527,
          8812.154601118784,
          8814.112659262586,
          8817.329838878024,
          8844.337787352268,
          8851.209111435965,
          8923.19234043694,
          8942.404297496754,
          8964.512441033678,
          9034.853427720496,
          9057.48862128132,
          9101.480213158336,
          9123.953874688259,
          9163.26310859263,
          9173.56595287123,
          9251.637696883075,
          9336.920396428206,
          9339.175632090395,
          9506.789965231508,
          9583.74030418268,
          9585.507837366957,
          9590.776266682486,
          9637.328555433973,
          9705.316973055367,
          9722.448687486467,
          9908.286111728994,
          9953.124711306502,
          10036.82936716514,
          10097.792176904093,
          10130.861718384058,
          10134.881380845316,
          10231.050925088455,
          10254.612856903484,
          10275.256857544937,
          10664.129690012229
         ],
         "yaxis": "y"
        }
       ],
       "layout": {
        "coloraxis": {
         "colorbar": {
          "title": {
           "text": "NewDeaths"
          }
         },
         "colorscale": [
          [
           0,
           "#440154"
          ],
          [
           0.1111111111111111,
           "#482878"
          ],
          [
           0.2222222222222222,
           "#3e4989"
          ],
          [
           0.3333333333333333,
           "#31688e"
          ],
          [
           0.4444444444444444,
           "#26828e"
          ],
          [
           0.5555555555555556,
           "#1f9e89"
          ],
          [
           0.6666666666666666,
           "#35b779"
          ],
          [
           0.7777777777777778,
           "#6ece58"
          ],
          [
           0.8888888888888888,
           "#b5de2b"
          ],
          [
           1,
           "#fde725"
          ]
         ]
        },
        "legend": {
         "tracegroupgap": 0
        },
        "template": {
         "data": {
          "bar": [
           {
            "error_x": {
             "color": "#2a3f5f"
            },
            "error_y": {
             "color": "#2a3f5f"
            },
            "marker": {
             "line": {
              "color": "#E5ECF6",
              "width": 0.5
             },
             "pattern": {
              "fillmode": "overlay",
              "size": 10,
              "solidity": 0.2
             }
            },
            "type": "bar"
           }
          ],
          "barpolar": [
           {
            "marker": {
             "line": {
              "color": "#E5ECF6",
              "width": 0.5
             },
             "pattern": {
              "fillmode": "overlay",
              "size": 10,
              "solidity": 0.2
             }
            },
            "type": "barpolar"
           }
          ],
          "carpet": [
           {
            "aaxis": {
             "endlinecolor": "#2a3f5f",
             "gridcolor": "white",
             "linecolor": "white",
             "minorgridcolor": "white",
             "startlinecolor": "#2a3f5f"
            },
            "baxis": {
             "endlinecolor": "#2a3f5f",
             "gridcolor": "white",
             "linecolor": "white",
             "minorgridcolor": "white",
             "startlinecolor": "#2a3f5f"
            },
            "type": "carpet"
           }
          ],
          "choropleth": [
           {
            "colorbar": {
             "outlinewidth": 0,
             "ticks": ""
            },
            "type": "choropleth"
           }
          ],
          "contour": [
           {
            "colorbar": {
             "outlinewidth": 0,
             "ticks": ""
            },
            "colorscale": [
             [
              0,
              "#0d0887"
             ],
             [
              0.1111111111111111,
              "#46039f"
             ],
             [
              0.2222222222222222,
              "#7201a8"
             ],
             [
              0.3333333333333333,
              "#9c179e"
             ],
             [
              0.4444444444444444,
              "#bd3786"
             ],
             [
              0.5555555555555556,
              "#d8576b"
             ],
             [
              0.6666666666666666,
              "#ed7953"
             ],
             [
              0.7777777777777778,
              "#fb9f3a"
             ],
             [
              0.8888888888888888,
              "#fdca26"
             ],
             [
              1,
              "#f0f921"
             ]
            ],
            "type": "contour"
           }
          ],
          "contourcarpet": [
           {
            "colorbar": {
             "outlinewidth": 0,
             "ticks": ""
            },
            "type": "contourcarpet"
           }
          ],
          "heatmap": [
           {
            "colorbar": {
             "outlinewidth": 0,
             "ticks": ""
            },
            "colorscale": [
             [
              0,
              "#0d0887"
             ],
             [
              0.1111111111111111,
              "#46039f"
             ],
             [
              0.2222222222222222,
              "#7201a8"
             ],
             [
              0.3333333333333333,
              "#9c179e"
             ],
             [
              0.4444444444444444,
              "#bd3786"
             ],
             [
              0.5555555555555556,
              "#d8576b"
             ],
             [
              0.6666666666666666,
              "#ed7953"
             ],
             [
              0.7777777777777778,
              "#fb9f3a"
             ],
             [
              0.8888888888888888,
              "#fdca26"
             ],
             [
              1,
              "#f0f921"
             ]
            ],
            "type": "heatmap"
           }
          ],
          "heatmapgl": [
           {
            "colorbar": {
             "outlinewidth": 0,
             "ticks": ""
            },
            "colorscale": [
             [
              0,
              "#0d0887"
             ],
             [
              0.1111111111111111,
              "#46039f"
             ],
             [
              0.2222222222222222,
              "#7201a8"
             ],
             [
              0.3333333333333333,
              "#9c179e"
             ],
             [
              0.4444444444444444,
              "#bd3786"
             ],
             [
              0.5555555555555556,
              "#d8576b"
             ],
             [
              0.6666666666666666,
              "#ed7953"
             ],
             [
              0.7777777777777778,
              "#fb9f3a"
             ],
             [
              0.8888888888888888,
              "#fdca26"
             ],
             [
              1,
              "#f0f921"
             ]
            ],
            "type": "heatmapgl"
           }
          ],
          "histogram": [
           {
            "marker": {
             "pattern": {
              "fillmode": "overlay",
              "size": 10,
              "solidity": 0.2
             }
            },
            "type": "histogram"
           }
          ],
          "histogram2d": [
           {
            "colorbar": {
             "outlinewidth": 0,
             "ticks": ""
            },
            "colorscale": [
             [
              0,
              "#0d0887"
             ],
             [
              0.1111111111111111,
              "#46039f"
             ],
             [
              0.2222222222222222,
              "#7201a8"
             ],
             [
              0.3333333333333333,
              "#9c179e"
             ],
             [
              0.4444444444444444,
              "#bd3786"
             ],
             [
              0.5555555555555556,
              "#d8576b"
             ],
             [
              0.6666666666666666,
              "#ed7953"
             ],
             [
              0.7777777777777778,
              "#fb9f3a"
             ],
             [
              0.8888888888888888,
              "#fdca26"
             ],
             [
              1,
              "#f0f921"
             ]
            ],
            "type": "histogram2d"
           }
          ],
          "histogram2dcontour": [
           {
            "colorbar": {
             "outlinewidth": 0,
             "ticks": ""
            },
            "colorscale": [
             [
              0,
              "#0d0887"
             ],
             [
              0.1111111111111111,
              "#46039f"
             ],
             [
              0.2222222222222222,
              "#7201a8"
             ],
             [
              0.3333333333333333,
              "#9c179e"
             ],
             [
              0.4444444444444444,
              "#bd3786"
             ],
             [
              0.5555555555555556,
              "#d8576b"
             ],
             [
              0.6666666666666666,
              "#ed7953"
             ],
             [
              0.7777777777777778,
              "#fb9f3a"
             ],
             [
              0.8888888888888888,
              "#fdca26"
             ],
             [
              1,
              "#f0f921"
             ]
            ],
            "type": "histogram2dcontour"
           }
          ],
          "mesh3d": [
           {
            "colorbar": {
             "outlinewidth": 0,
             "ticks": ""
            },
            "type": "mesh3d"
           }
          ],
          "parcoords": [
           {
            "line": {
             "colorbar": {
              "outlinewidth": 0,
              "ticks": ""
             }
            },
            "type": "parcoords"
           }
          ],
          "pie": [
           {
            "automargin": true,
            "type": "pie"
           }
          ],
          "scatter": [
           {
            "fillpattern": {
             "fillmode": "overlay",
             "size": 10,
             "solidity": 0.2
            },
            "type": "scatter"
           }
          ],
          "scatter3d": [
           {
            "line": {
             "colorbar": {
              "outlinewidth": 0,
              "ticks": ""
             }
            },
            "marker": {
             "colorbar": {
              "outlinewidth": 0,
              "ticks": ""
             }
            },
            "type": "scatter3d"
           }
          ],
          "scattercarpet": [
           {
            "marker": {
             "colorbar": {
              "outlinewidth": 0,
              "ticks": ""
             }
            },
            "type": "scattercarpet"
           }
          ],
          "scattergeo": [
           {
            "marker": {
             "colorbar": {
              "outlinewidth": 0,
              "ticks": ""
             }
            },
            "type": "scattergeo"
           }
          ],
          "scattergl": [
           {
            "marker": {
             "colorbar": {
              "outlinewidth": 0,
              "ticks": ""
             }
            },
            "type": "scattergl"
           }
          ],
          "scattermapbox": [
           {
            "marker": {
             "colorbar": {
              "outlinewidth": 0,
              "ticks": ""
             }
            },
            "type": "scattermapbox"
           }
          ],
          "scatterpolar": [
           {
            "marker": {
             "colorbar": {
              "outlinewidth": 0,
              "ticks": ""
             }
            },
            "type": "scatterpolar"
           }
          ],
          "scatterpolargl": [
           {
            "marker": {
             "colorbar": {
              "outlinewidth": 0,
              "ticks": ""
             }
            },
            "type": "scatterpolargl"
           }
          ],
          "scatterternary": [
           {
            "marker": {
             "colorbar": {
              "outlinewidth": 0,
              "ticks": ""
             }
            },
            "type": "scatterternary"
           }
          ],
          "surface": [
           {
            "colorbar": {
             "outlinewidth": 0,
             "ticks": ""
            },
            "colorscale": [
             [
              0,
              "#0d0887"
             ],
             [
              0.1111111111111111,
              "#46039f"
             ],
             [
              0.2222222222222222,
              "#7201a8"
             ],
             [
              0.3333333333333333,
              "#9c179e"
             ],
             [
              0.4444444444444444,
              "#bd3786"
             ],
             [
              0.5555555555555556,
              "#d8576b"
             ],
             [
              0.6666666666666666,
              "#ed7953"
             ],
             [
              0.7777777777777778,
              "#fb9f3a"
             ],
             [
              0.8888888888888888,
              "#fdca26"
             ],
             [
              1,
              "#f0f921"
             ]
            ],
            "type": "surface"
           }
          ],
          "table": [
           {
            "cells": {
             "fill": {
              "color": "#EBF0F8"
             },
             "line": {
              "color": "white"
             }
            },
            "header": {
             "fill": {
              "color": "#C8D4E3"
             },
             "line": {
              "color": "white"
             }
            },
            "type": "table"
           }
          ]
         },
         "layout": {
          "annotationdefaults": {
           "arrowcolor": "#2a3f5f",
           "arrowhead": 0,
           "arrowwidth": 1
          },
          "autotypenumbers": "strict",
          "coloraxis": {
           "colorbar": {
            "outlinewidth": 0,
            "ticks": ""
           }
          },
          "colorscale": {
           "diverging": [
            [
             0,
             "#8e0152"
            ],
            [
             0.1,
             "#c51b7d"
            ],
            [
             0.2,
             "#de77ae"
            ],
            [
             0.3,
             "#f1b6da"
            ],
            [
             0.4,
             "#fde0ef"
            ],
            [
             0.5,
             "#f7f7f7"
            ],
            [
             0.6,
             "#e6f5d0"
            ],
            [
             0.7,
             "#b8e186"
            ],
            [
             0.8,
             "#7fbc41"
            ],
            [
             0.9,
             "#4d9221"
            ],
            [
             1,
             "#276419"
            ]
           ],
           "sequential": [
            [
             0,
             "#0d0887"
            ],
            [
             0.1111111111111111,
             "#46039f"
            ],
            [
             0.2222222222222222,
             "#7201a8"
            ],
            [
             0.3333333333333333,
             "#9c179e"
            ],
            [
             0.4444444444444444,
             "#bd3786"
            ],
            [
             0.5555555555555556,
             "#d8576b"
            ],
            [
             0.6666666666666666,
             "#ed7953"
            ],
            [
             0.7777777777777778,
             "#fb9f3a"
            ],
            [
             0.8888888888888888,
             "#fdca26"
            ],
            [
             1,
             "#f0f921"
            ]
           ],
           "sequentialminus": [
            [
             0,
             "#0d0887"
            ],
            [
             0.1111111111111111,
             "#46039f"
            ],
            [
             0.2222222222222222,
             "#7201a8"
            ],
            [
             0.3333333333333333,
             "#9c179e"
            ],
            [
             0.4444444444444444,
             "#bd3786"
            ],
            [
             0.5555555555555556,
             "#d8576b"
            ],
            [
             0.6666666666666666,
             "#ed7953"
            ],
            [
             0.7777777777777778,
             "#fb9f3a"
            ],
            [
             0.8888888888888888,
             "#fdca26"
            ],
            [
             1,
             "#f0f921"
            ]
           ]
          },
          "colorway": [
           "#636efa",
           "#EF553B",
           "#00cc96",
           "#ab63fa",
           "#FFA15A",
           "#19d3f3",
           "#FF6692",
           "#B6E880",
           "#FF97FF",
           "#FECB52"
          ],
          "font": {
           "color": "#2a3f5f"
          },
          "geo": {
           "bgcolor": "white",
           "lakecolor": "white",
           "landcolor": "#E5ECF6",
           "showlakes": true,
           "showland": true,
           "subunitcolor": "white"
          },
          "hoverlabel": {
           "align": "left"
          },
          "hovermode": "closest",
          "mapbox": {
           "style": "light"
          },
          "paper_bgcolor": "white",
          "plot_bgcolor": "#E5ECF6",
          "polar": {
           "angularaxis": {
            "gridcolor": "white",
            "linecolor": "white",
            "ticks": ""
           },
           "bgcolor": "#E5ECF6",
           "radialaxis": {
            "gridcolor": "white",
            "linecolor": "white",
            "ticks": ""
           }
          },
          "scene": {
           "xaxis": {
            "backgroundcolor": "#E5ECF6",
            "gridcolor": "white",
            "gridwidth": 2,
            "linecolor": "white",
            "showbackground": true,
            "ticks": "",
            "zerolinecolor": "white"
           },
           "yaxis": {
            "backgroundcolor": "#E5ECF6",
            "gridcolor": "white",
            "gridwidth": 2,
            "linecolor": "white",
            "showbackground": true,
            "ticks": "",
            "zerolinecolor": "white"
           },
           "zaxis": {
            "backgroundcolor": "#E5ECF6",
            "gridcolor": "white",
            "gridwidth": 2,
            "linecolor": "white",
            "showbackground": true,
            "ticks": "",
            "zerolinecolor": "white"
           }
          },
          "shapedefaults": {
           "line": {
            "color": "#2a3f5f"
           }
          },
          "ternary": {
           "aaxis": {
            "gridcolor": "white",
            "linecolor": "white",
            "ticks": ""
           },
           "baxis": {
            "gridcolor": "white",
            "linecolor": "white",
            "ticks": ""
           },
           "bgcolor": "#E5ECF6",
           "caxis": {
            "gridcolor": "white",
            "linecolor": "white",
            "ticks": ""
           }
          },
          "title": {
           "x": 0.05
          },
          "xaxis": {
           "automargin": true,
           "gridcolor": "white",
           "linecolor": "white",
           "ticks": "",
           "title": {
            "standoff": 15
           },
           "zerolinecolor": "white",
           "zerolinewidth": 2
          },
          "yaxis": {
           "automargin": true,
           "gridcolor": "white",
           "linecolor": "white",
           "ticks": "",
           "title": {
            "standoff": 15
           },
           "zerolinecolor": "white",
           "zerolinewidth": 2
          }
         }
        },
        "title": {
         "text": "Biểu đồ thể hiện sự tương quan giữa số ca mắc mới và tử vong mới mỗi ngày của biến thể OMICRON"
        },
        "xaxis": {
         "anchor": "y",
         "domain": [
          0,
          1
         ],
         "title": {
          "text": "NewCases"
         }
        },
        "yaxis": {
         "anchor": "x",
         "domain": [
          0,
          1
         ],
         "title": {
          "text": "NewDeaths"
         }
        }
       }
      }
     },
     "metadata": {},
     "output_type": "display_data"
    }
   ],
   "source": [
    "plot_scatter(covid_omicron, \"NewCases\", \"NewDeaths\", \"Biểu đồ thể hiện sự tương quan giữa số ca mắc mới và tử vong mới mỗi ngày của biến thể OMICRON\", \"Date\")"
   ]
  },
  {
   "cell_type": "markdown",
   "metadata": {},
   "source": [
    "Ta tính hệ số tương quan của đường tuyến tính"
   ]
  },
  {
   "cell_type": "code",
   "execution_count": 241,
   "metadata": {},
   "outputs": [
    {
     "name": "stdout",
     "output_type": "stream",
     "text": [
      "Hệ số tương quan giữa 2 biến là R = 0.48769221282441555 cho thấy đường tuyến tính tương quan thuận, có độ mạnh không quá mạnh hoặc yếu nhưng không bằng biến thể DELTA. Với biến chủng OMICRON, số ca mắc mới tăng thì số ca tử vong cũng tăng nhưng mà ít hơn nhiều so với DELTA => Ít nguy hiểm hơn DELTA. Nhưng cũng không thể xem thường vì số ca mắc mới của biến thể này tăng rất nhanh, nhanh hơn nhiều so với DELTA\n"
     ]
    }
   ],
   "source": [
    "res = stats.linregress(covid_omicron[\"NewCases\"], covid_omicron[\"NewDeaths\"])\n",
    "print(f\"Hệ số tương quan giữa 2 biến là R = {res.rvalue} cho thấy đường tuyến tính tương quan thuận, có độ mạnh không quá mạnh hoặc yếu nhưng không bằng biến thể DELTA. \\\n",
    "Với biến chủng OMICRON, số ca mắc mới tăng thì số ca tử vong cũng tăng nhưng mà ít hơn nhiều so với DELTA => Ít nguy hiểm hơn DELTA. \\\n",
    "Nhưng cũng không thể xem thường vì số ca mắc mới của biến thể này tăng rất nhanh, nhanh hơn nhiều so với DELTA\")"
   ]
  },
  {
   "cell_type": "code",
   "execution_count": 242,
   "metadata": {},
   "outputs": [
    {
     "data": {
      "application/vnd.plotly.v1+json": {
       "config": {
        "plotlyServerURL": "https://plot.ly"
       },
       "data": [
        {
         "marker": {
          "color": "red"
         },
         "name": "Delta",
         "type": "bar",
         "uid": "80ed2b6e-4fb1-42ad-8a66-4c2f70be0c32",
         "x": [
          "2020-12-01T00:00:00",
          "2020-12-02T00:00:00",
          "2020-12-03T00:00:00",
          "2020-12-04T00:00:00",
          "2020-12-05T00:00:00",
          "2020-12-06T00:00:00",
          "2020-12-07T00:00:00",
          "2020-12-08T00:00:00",
          "2020-12-09T00:00:00",
          "2020-12-10T00:00:00",
          "2020-12-11T00:00:00",
          "2020-12-12T00:00:00",
          "2020-12-13T00:00:00",
          "2020-12-14T00:00:00",
          "2020-12-15T00:00:00",
          "2020-12-16T00:00:00",
          "2020-12-17T00:00:00",
          "2020-12-18T00:00:00",
          "2020-12-19T00:00:00",
          "2020-12-20T00:00:00",
          "2020-12-21T00:00:00",
          "2020-12-22T00:00:00",
          "2020-12-23T00:00:00",
          "2020-12-24T00:00:00",
          "2020-12-25T00:00:00",
          "2020-12-26T00:00:00",
          "2020-12-27T00:00:00",
          "2020-12-28T00:00:00",
          "2020-12-29T00:00:00",
          "2020-12-30T00:00:00",
          "2020-12-31T00:00:00",
          "2021-01-01T00:00:00",
          "2021-01-02T00:00:00",
          "2021-01-03T00:00:00",
          "2021-01-04T00:00:00",
          "2021-01-05T00:00:00",
          "2021-01-06T00:00:00",
          "2021-01-07T00:00:00",
          "2021-01-08T00:00:00",
          "2021-01-09T00:00:00",
          "2021-01-10T00:00:00",
          "2021-01-11T00:00:00",
          "2021-01-12T00:00:00",
          "2021-01-13T00:00:00",
          "2021-01-14T00:00:00",
          "2021-01-15T00:00:00",
          "2021-01-16T00:00:00",
          "2021-01-17T00:00:00",
          "2021-01-18T00:00:00",
          "2021-01-19T00:00:00",
          "2021-01-20T00:00:00",
          "2021-01-21T00:00:00",
          "2021-01-22T00:00:00",
          "2021-01-23T00:00:00",
          "2021-01-24T00:00:00",
          "2021-01-25T00:00:00",
          "2021-01-26T00:00:00",
          "2021-01-27T00:00:00",
          "2021-01-28T00:00:00",
          "2021-01-29T00:00:00",
          "2021-01-30T00:00:00",
          "2021-01-31T00:00:00",
          "2021-02-01T00:00:00",
          "2021-02-02T00:00:00",
          "2021-02-03T00:00:00",
          "2021-02-04T00:00:00",
          "2021-02-05T00:00:00",
          "2021-02-06T00:00:00",
          "2021-02-07T00:00:00",
          "2021-02-08T00:00:00",
          "2021-02-09T00:00:00",
          "2021-02-10T00:00:00",
          "2021-02-11T00:00:00",
          "2021-02-12T00:00:00",
          "2021-02-13T00:00:00",
          "2021-02-14T00:00:00",
          "2021-02-15T00:00:00",
          "2021-02-16T00:00:00",
          "2021-02-17T00:00:00",
          "2021-02-18T00:00:00",
          "2021-02-19T00:00:00",
          "2021-02-20T00:00:00",
          "2021-02-21T00:00:00",
          "2021-02-22T00:00:00",
          "2021-02-23T00:00:00",
          "2021-02-24T00:00:00",
          "2021-02-25T00:00:00",
          "2021-02-26T00:00:00",
          "2021-02-27T00:00:00",
          "2021-02-28T00:00:00",
          "2021-03-01T00:00:00",
          "2021-03-02T00:00:00",
          "2021-03-03T00:00:00",
          "2021-03-04T00:00:00",
          "2021-03-05T00:00:00",
          "2021-03-06T00:00:00",
          "2021-03-07T00:00:00",
          "2021-03-08T00:00:00",
          "2021-03-09T00:00:00",
          "2021-03-10T00:00:00",
          "2021-03-11T00:00:00",
          "2021-03-12T00:00:00",
          "2021-03-13T00:00:00",
          "2021-03-14T00:00:00",
          "2021-03-15T00:00:00",
          "2021-03-16T00:00:00",
          "2021-03-17T00:00:00",
          "2021-03-18T00:00:00",
          "2021-03-19T00:00:00",
          "2021-03-20T00:00:00",
          "2021-03-21T00:00:00",
          "2021-03-22T00:00:00",
          "2021-03-23T00:00:00",
          "2021-03-24T00:00:00",
          "2021-03-25T00:00:00",
          "2021-03-26T00:00:00",
          "2021-03-27T00:00:00",
          "2021-03-28T00:00:00",
          "2021-03-29T00:00:00",
          "2021-03-30T00:00:00",
          "2021-03-31T00:00:00",
          "2021-04-01T00:00:00",
          "2021-04-02T00:00:00",
          "2021-04-03T00:00:00",
          "2021-04-04T00:00:00",
          "2021-04-05T00:00:00",
          "2021-04-06T00:00:00",
          "2021-04-07T00:00:00",
          "2021-04-08T00:00:00",
          "2021-04-09T00:00:00",
          "2021-04-10T00:00:00",
          "2021-04-11T00:00:00",
          "2021-04-12T00:00:00",
          "2021-04-13T00:00:00",
          "2021-04-14T00:00:00",
          "2021-04-15T00:00:00",
          "2021-04-16T00:00:00",
          "2021-04-17T00:00:00",
          "2021-04-18T00:00:00",
          "2021-04-19T00:00:00",
          "2021-04-20T00:00:00",
          "2021-04-21T00:00:00",
          "2021-04-22T00:00:00",
          "2021-04-23T00:00:00",
          "2021-04-24T00:00:00",
          "2021-04-25T00:00:00",
          "2021-04-26T00:00:00",
          "2021-04-27T00:00:00",
          "2021-04-28T00:00:00",
          "2021-04-29T00:00:00",
          "2021-04-30T00:00:00",
          "2021-05-01T00:00:00",
          "2021-05-02T00:00:00",
          "2021-05-03T00:00:00",
          "2021-05-04T00:00:00",
          "2021-05-05T00:00:00",
          "2021-05-06T00:00:00",
          "2021-05-07T00:00:00",
          "2021-05-08T00:00:00",
          "2021-05-09T00:00:00",
          "2021-05-10T00:00:00",
          "2021-05-11T00:00:00",
          "2021-05-12T00:00:00",
          "2021-05-13T00:00:00",
          "2021-05-14T00:00:00",
          "2021-05-15T00:00:00",
          "2021-05-16T00:00:00",
          "2021-05-17T00:00:00",
          "2021-05-18T00:00:00",
          "2021-05-19T00:00:00",
          "2021-05-20T00:00:00",
          "2021-05-21T00:00:00",
          "2021-05-22T00:00:00",
          "2021-05-23T00:00:00",
          "2021-05-24T00:00:00",
          "2021-05-25T00:00:00",
          "2021-05-26T00:00:00",
          "2021-05-27T00:00:00",
          "2021-05-28T00:00:00",
          "2021-05-29T00:00:00",
          "2021-05-30T00:00:00",
          "2021-05-31T00:00:00",
          "2021-06-01T00:00:00",
          "2021-06-02T00:00:00",
          "2021-06-03T00:00:00",
          "2021-06-04T00:00:00",
          "2021-06-05T00:00:00",
          "2021-06-06T00:00:00",
          "2021-06-07T00:00:00",
          "2021-06-08T00:00:00",
          "2021-06-09T00:00:00",
          "2021-06-10T00:00:00",
          "2021-06-11T00:00:00",
          "2021-06-12T00:00:00",
          "2021-06-13T00:00:00",
          "2021-06-14T00:00:00",
          "2021-06-15T00:00:00",
          "2021-06-16T00:00:00",
          "2021-06-17T00:00:00",
          "2021-06-18T00:00:00",
          "2021-06-19T00:00:00",
          "2021-06-20T00:00:00",
          "2021-06-21T00:00:00",
          "2021-06-22T00:00:00",
          "2021-06-23T00:00:00",
          "2021-06-24T00:00:00",
          "2021-06-25T00:00:00",
          "2021-06-26T00:00:00",
          "2021-06-27T00:00:00",
          "2021-06-28T00:00:00",
          "2021-06-29T00:00:00",
          "2021-06-30T00:00:00",
          "2021-07-01T00:00:00",
          "2021-07-02T00:00:00",
          "2021-07-03T00:00:00",
          "2021-07-04T00:00:00",
          "2021-07-05T00:00:00",
          "2021-07-06T00:00:00",
          "2021-07-07T00:00:00",
          "2021-07-08T00:00:00",
          "2021-07-09T00:00:00",
          "2021-07-10T00:00:00",
          "2021-07-11T00:00:00",
          "2021-07-12T00:00:00",
          "2021-07-13T00:00:00",
          "2021-07-14T00:00:00",
          "2021-07-15T00:00:00",
          "2021-07-16T00:00:00",
          "2021-07-17T00:00:00",
          "2021-07-18T00:00:00",
          "2021-07-19T00:00:00",
          "2021-07-20T00:00:00",
          "2021-07-21T00:00:00",
          "2021-07-22T00:00:00",
          "2021-07-23T00:00:00",
          "2021-07-24T00:00:00",
          "2021-07-25T00:00:00",
          "2021-07-26T00:00:00",
          "2021-07-27T00:00:00",
          "2021-07-28T00:00:00",
          "2021-07-29T00:00:00",
          "2021-07-30T00:00:00",
          "2021-07-31T00:00:00",
          "2021-08-01T00:00:00",
          "2021-08-02T00:00:00",
          "2021-08-03T00:00:00",
          "2021-08-04T00:00:00",
          "2021-08-05T00:00:00",
          "2021-08-06T00:00:00",
          "2021-08-07T00:00:00",
          "2021-08-08T00:00:00",
          "2021-08-09T00:00:00",
          "2021-08-10T00:00:00",
          "2021-08-11T00:00:00",
          "2021-08-12T00:00:00",
          "2021-08-13T00:00:00",
          "2021-08-14T00:00:00",
          "2021-08-15T00:00:00",
          "2021-08-16T00:00:00",
          "2021-08-17T00:00:00",
          "2021-08-18T00:00:00",
          "2021-08-19T00:00:00",
          "2021-08-20T00:00:00",
          "2021-08-21T00:00:00",
          "2021-08-22T00:00:00",
          "2021-08-23T00:00:00",
          "2021-08-24T00:00:00",
          "2021-08-25T00:00:00",
          "2021-08-26T00:00:00",
          "2021-08-27T00:00:00",
          "2021-08-28T00:00:00",
          "2021-08-29T00:00:00",
          "2021-08-30T00:00:00",
          "2021-08-31T00:00:00",
          "2021-09-01T00:00:00",
          "2021-09-02T00:00:00",
          "2021-09-03T00:00:00",
          "2021-09-04T00:00:00",
          "2021-09-05T00:00:00",
          "2021-09-06T00:00:00",
          "2021-09-07T00:00:00",
          "2021-09-08T00:00:00",
          "2021-09-09T00:00:00",
          "2021-09-10T00:00:00",
          "2021-09-11T00:00:00",
          "2021-09-12T00:00:00",
          "2021-09-13T00:00:00",
          "2021-09-14T00:00:00",
          "2021-09-15T00:00:00",
          "2021-09-16T00:00:00",
          "2021-09-17T00:00:00",
          "2021-09-18T00:00:00",
          "2021-09-19T00:00:00",
          "2021-09-20T00:00:00",
          "2021-09-21T00:00:00",
          "2021-09-22T00:00:00",
          "2021-09-23T00:00:00",
          "2021-09-24T00:00:00",
          "2021-09-25T00:00:00",
          "2021-09-26T00:00:00",
          "2021-09-27T00:00:00",
          "2021-09-28T00:00:00",
          "2021-09-29T00:00:00",
          "2021-09-30T00:00:00",
          "2021-10-01T00:00:00",
          "2021-10-02T00:00:00",
          "2021-10-03T00:00:00",
          "2021-10-04T00:00:00",
          "2021-10-05T00:00:00",
          "2021-10-06T00:00:00",
          "2021-10-07T00:00:00",
          "2021-10-08T00:00:00",
          "2021-10-09T00:00:00",
          "2021-10-10T00:00:00",
          "2021-10-11T00:00:00",
          "2021-10-12T00:00:00",
          "2021-10-13T00:00:00",
          "2021-10-14T00:00:00",
          "2021-10-15T00:00:00",
          "2021-10-16T00:00:00",
          "2021-10-17T00:00:00",
          "2021-10-18T00:00:00",
          "2021-10-19T00:00:00",
          "2021-10-20T00:00:00",
          "2021-10-21T00:00:00",
          "2021-10-22T00:00:00",
          "2021-10-23T00:00:00",
          "2021-10-24T00:00:00",
          "2021-10-25T00:00:00",
          "2021-10-26T00:00:00",
          "2021-10-27T00:00:00",
          "2021-10-28T00:00:00",
          "2021-10-29T00:00:00",
          "2021-10-30T00:00:00",
          "2021-10-31T00:00:00"
         ],
         "y": [
          0.020452753002430157,
          0.01954808863820497,
          0.01820388349514563,
          0.018092136309581716,
          0.015929200812409273,
          0.0144117367364101,
          0.016515048138882573,
          0.019147838036992933,
          0.0187778258627129,
          0.018632562628360924,
          0.018476302533367652,
          0.016772962464669833,
          0.014651212417309658,
          0.01687922118552053,
          0.020761777591567488,
          0.019137166006193827,
          0.018058617646820718,
          0.01787209119214501,
          0.017713846541351684,
          0.015104768174725829,
          0.017311787684530303,
          0.021325861323338618,
          0.019923297541739618,
          0.017180297948768623,
          0.017843600200329112,
          0.014690673139799092,
          0.018838480087118855,
          0.019173015490266024,
          0.02241540041921252,
          0.021217196338801966,
          0.01601190864560905,
          0.01691703459867109,
          0.014379453268474169,
          0.01468868850035613,
          0.0179978348200306,
          0.02077223425002651,
          0.01890945322078095,
          0.016999735220597143,
          0.018679286943060747,
          0.01702423704331924,
          0.015020623378832334,
          0.016448382817713544,
          0.024352878428524415,
          0.022482554800644376,
          0.020459197977222596,
          0.01942036255135627,
          0.021044071957347244,
          0.017230621004098556,
          0.018810207680401654,
          0.028074362411116164,
          0.0257024675509913,
          0.026152150482720984,
          0.024182194616977227,
          0.024295659731615075,
          0.01994483021846713,
          0.022927080820767037,
          0.030968353520309168,
          0.028710769805964494,
          0.027907792352520864,
          0.026014907684947092,
          0.0260113937068836,
          0.022654014236566693,
          0.02336097478422745,
          0.03296990020916296,
          0.030436994377650305,
          0.027596644506142964,
          0.032011027722468985,
          0.02629939788220638,
          0.020797651786095953,
          0.027956558494923282,
          0.037797177275154435,
          0.03173960632485436,
          0.03104769930667123,
          0.030270009038251087,
          0.02749047503456428,
          0.02161425910454748,
          0.0265975795811388,
          0.031424395429178846,
          0.03080278288453913,
          0.029037475883304426,
          0.028501154233367215,
          0.023421316047254802,
          0.02050104581125073,
          0.024986615523282213,
          0.029615718000577867,
          0.02800209144251438,
          0.02352190735586569,
          0.02442015426351503,
          0.02146203648015526,
          0.02038319362732337,
          0.025195567464640814,
          0.026763528082965397,
          0.02647772441019316,
          0.02271273960554429,
          0.023404998853678135,
          0.01959095385225851,
          0.015811241403727107,
          0.023874721889440356,
          0.025465573251311185,
          0.02174157840502268,
          0.021207086219553025,
          0.020166637424872392,
          0.01856516033246285,
          0.016158647536915934,
          0.021588428331995323,
          0.022641726104653388,
          0.019242325491043304,
          0.019612571336709267,
          0.019272074354972746,
          0.017500755819812558,
          0.019464418262082533,
          0.018995411406202495,
          0.02205557667423099,
          0.01679592018653793,
          0.017693884287370173,
          0.019948654767414226,
          0.01745192894719192,
          0.01516323656162627,
          0.019014888197491007,
          0.020895288913608357,
          0.018877409691087605,
          0.017409040513892533,
          0.016512495688438746,
          0.017659514962643334,
          0.013211436862728196,
          0.016714279364643227,
          0.02058601613801329,
          0.02276158520737879,
          0.017012476686298426,
          0.019087427747590254,
          0.019328122651435443,
          0.01310700565771067,
          0.01645376657889803,
          0.0177030579169704,
          0.017104213967021126,
          0.01666962727022143,
          0.015617601980871683,
          0.015790493535244286,
          0.013366915746012455,
          0.016314031421003128,
          0.016666569900776255,
          0.016497274837913908,
          0.015392595416801514,
          0.016953377933684493,
          0.015904296896569917,
          0.01474376753280264,
          0.017385215535362975,
          0.017541478006153386,
          0.017602196764768634,
          0.017611542189335815,
          0.016267170871079664,
          0.01625501239244766,
          0.015131949955754101,
          0.017289832576642274,
          0.01756858206777522,
          0.017530637269378795,
          0.01685474720180815,
          0.017418865927298098,
          0.016791474471130906,
          0.01623387849659417,
          0.018036536243966794,
          0.019177378239673276,
          0.018370418753366265,
          0.018571619918704742,
          0.018330243490872974,
          0.019275393559758318,
          0.018830421592216758,
          0.021102068447891448,
          0.022614318883963695,
          0.019956348735004157,
          0.020921432987053026,
          0.020657081891487985,
          0.019841103251401104,
          0.020411953754330314,
          0.02022391636195818,
          0.02468228775251534,
          0.022419606241090982,
          0.023469061766934106,
          0.023764394251816135,
          0.022318253582579207,
          0.02144441388952426,
          0.02272962269808609,
          0.023785885841621075,
          0.024364793334891367,
          0.0210340271032985,
          0.025139415045059885,
          0.02356105405909547,
          0.022396270800854195,
          0.025363106289702623,
          0.028589105581708137,
          0.02421815453648373,
          0.01899257905851356,
          0.027881613295999925,
          0.02634303275013654,
          0.030597431971720605,
          0.02604363544725849,
          0.02874535001690903,
          0.02577579379364965,
          0.023508658424399267,
          0.022842778022936987,
          0.023196905164664425,
          0.022195748949777414,
          0.023745919670137543,
          0.02175486304524222,
          0.023660414132791432,
          0.021098068579734404,
          0.022111892832606006,
          0.02057777545156785,
          0.019544550504302826,
          0.019793007630930625,
          0.021385463133035947,
          0.023040124229825175,
          0.019649812596457705,
          0.018750155422375847,
          0.018465791366233292,
          0.020166283389350788,
          0.01961185153719535,
          0.018852666049248686,
          0.018327726682210426,
          0.01854047241871155,
          0.01626153927001162,
          0.01723127584513441,
          0.020535362104273494,
          0.018683107616639535,
          0.015935649172425854,
          0.016014955716361717,
          0.014910759391486858,
          0.014531460755313448,
          0.015308415032679738,
          0.01573446079560157,
          0.01470223312339909,
          0.022394028259130897,
          0.015628884701168518,
          0.015523104196227324,
          0.011398962307046668,
          0.01768797291185351,
          0.016444080018870256,
          0.015649014691667563,
          0.01619636632025674,
          0.015780661879891543,
          0.015944267389610328,
          0.013056667714297428,
          0.017056900238633897,
          0.015269013117074194,
          0.014104988656582853,
          0.01642464090314239,
          0.01542022310859949,
          0.015981875230065383,
          0.012787464572544318,
          0.015430810237965253,
          0.015917727348673416,
          0.014096010748409568,
          0.01798684772714607,
          0.014402353060500025,
          0.014851681303721482,
          0.013054230546924447,
          0.015794884067508987,
          0.015852766944601075,
          0.01471182398079878,
          0.015794583876001737,
          0.014664259554811187,
          0.01608436556348022,
          0.01337446203103486,
          0.016011899396015505,
          0.017084871506785795,
          0.01456424336465288,
          0.016055992512629125,
          0.015405265536692306,
          0.01571836541986664,
          0.013946190397811135,
          0.015084639498432601,
          0.01506392352955692,
          0.014303047027434795,
          0.014948828162558261,
          0.017213429725601567,
          0.016568683809715712,
          0.014998453695527752,
          0.015586014776535186,
          0.014601691888250374,
          0.01793294618107477,
          0.014943475608713251,
          0.015968878715627518,
          0.01673055737107134,
          0.014289109009955475,
          0.017928655706079422,
          0.014878607077188638,
          0.015473044757416437,
          0.018082883668538,
          0.018316932936390702,
          0.01792188939066603,
          0.014545390235118588,
          0.016222381395673866,
          0.016303723517731426,
          0.015642726075270865,
          0.019144962338115468,
          0.01839953811478292,
          0.01792317643911324,
          0.01585680352284561,
          0.014382624392232219,
          0.015205241372361893,
          0.016305536856277347,
          0.02072709833822436,
          0.018891651720202185,
          0.018057560133944453,
          0.016515525399791998,
          0.01660930550610628,
          0.013607012548974343,
          0.016345846827532727,
          0.017447813915036733,
          0.017982979024776025,
          0.01943259089647516,
          0.016346677373852463,
          0.014105367706636231,
          0.014594957878120067,
          0.015203681699213219,
          0.01838109657430856,
          0.01934282020371438,
          0.01759202541853773,
          0.015748322944041524,
          0.015191256830601093,
          0.013455272395284044,
          0.015598980048097257,
          0.018439373709858858,
          0.018169920429505056,
          0.016615408505260252,
          0.01675753639051136,
          0.01566914768232236,
          0.014273207394507534,
          0.015536709950230139,
          0.01760508556761109,
          0.017647285033071836,
          0.018973519856335035,
          0.015468464804478055,
          0.015413501004279103,
          0.012943927932089854
         ]
        },
        {
         "marker": {
          "color": "greenyellow"
         },
         "name": "Omicron",
         "type": "bar",
         "uid": "1e3030e6-248c-4944-a916-c99dc61442bf",
         "x": [
          "2021-11-01T00:00:00",
          "2021-11-02T00:00:00",
          "2021-11-03T00:00:00",
          "2021-11-04T00:00:00",
          "2021-11-05T00:00:00",
          "2021-11-06T00:00:00",
          "2021-11-07T00:00:00",
          "2021-11-08T00:00:00",
          "2021-11-09T00:00:00",
          "2021-11-10T00:00:00",
          "2021-11-11T00:00:00",
          "2021-11-12T00:00:00",
          "2021-11-13T00:00:00",
          "2021-11-14T00:00:00",
          "2021-11-15T00:00:00",
          "2021-11-16T00:00:00",
          "2021-11-17T00:00:00",
          "2021-11-18T00:00:00",
          "2021-11-19T00:00:00",
          "2021-11-20T00:00:00",
          "2021-11-21T00:00:00",
          "2021-11-22T00:00:00",
          "2021-11-23T00:00:00",
          "2021-11-24T00:00:00",
          "2021-11-25T00:00:00",
          "2021-11-26T00:00:00",
          "2021-11-27T00:00:00",
          "2021-11-28T00:00:00",
          "2021-11-29T00:00:00",
          "2021-11-30T00:00:00",
          "2021-12-01T00:00:00",
          "2021-12-02T00:00:00",
          "2021-12-03T00:00:00",
          "2021-12-04T00:00:00",
          "2021-12-05T00:00:00",
          "2021-12-06T00:00:00",
          "2021-12-07T00:00:00",
          "2021-12-08T00:00:00",
          "2021-12-09T00:00:00",
          "2021-12-10T00:00:00",
          "2021-12-11T00:00:00",
          "2021-12-12T00:00:00",
          "2021-12-13T00:00:00",
          "2021-12-14T00:00:00",
          "2021-12-15T00:00:00",
          "2021-12-16T00:00:00",
          "2021-12-17T00:00:00",
          "2021-12-18T00:00:00",
          "2021-12-19T00:00:00",
          "2021-12-20T00:00:00",
          "2021-12-21T00:00:00",
          "2021-12-22T00:00:00",
          "2021-12-23T00:00:00",
          "2021-12-24T00:00:00",
          "2021-12-25T00:00:00",
          "2021-12-26T00:00:00",
          "2021-12-27T00:00:00",
          "2021-12-28T00:00:00",
          "2021-12-29T00:00:00",
          "2021-12-30T00:00:00",
          "2021-12-31T00:00:00",
          "2022-01-01T00:00:00",
          "2022-01-02T00:00:00",
          "2022-01-03T00:00:00",
          "2022-01-04T00:00:00",
          "2022-01-05T00:00:00",
          "2022-01-06T00:00:00",
          "2022-01-07T00:00:00",
          "2022-01-08T00:00:00",
          "2022-01-09T00:00:00",
          "2022-01-10T00:00:00",
          "2022-01-11T00:00:00",
          "2022-01-12T00:00:00",
          "2022-01-13T00:00:00",
          "2022-01-14T00:00:00",
          "2022-01-15T00:00:00",
          "2022-01-16T00:00:00",
          "2022-01-17T00:00:00",
          "2022-01-18T00:00:00",
          "2022-01-19T00:00:00",
          "2022-01-20T00:00:00",
          "2022-01-21T00:00:00",
          "2022-01-22T00:00:00",
          "2022-01-23T00:00:00",
          "2022-01-24T00:00:00",
          "2022-01-25T00:00:00",
          "2022-01-26T00:00:00",
          "2022-01-27T00:00:00",
          "2022-01-28T00:00:00",
          "2022-01-29T00:00:00",
          "2022-01-30T00:00:00",
          "2022-01-31T00:00:00",
          "2022-02-01T00:00:00",
          "2022-02-02T00:00:00",
          "2022-02-03T00:00:00",
          "2022-02-04T00:00:00",
          "2022-02-05T00:00:00",
          "2022-02-06T00:00:00",
          "2022-02-07T00:00:00",
          "2022-02-08T00:00:00",
          "2022-02-09T00:00:00",
          "2022-02-10T00:00:00",
          "2022-02-11T00:00:00",
          "2022-02-12T00:00:00",
          "2022-02-13T00:00:00",
          "2022-02-14T00:00:00",
          "2022-02-15T00:00:00",
          "2022-02-16T00:00:00",
          "2022-02-17T00:00:00",
          "2022-02-18T00:00:00",
          "2022-02-19T00:00:00",
          "2022-02-20T00:00:00",
          "2022-02-21T00:00:00",
          "2022-02-22T00:00:00",
          "2022-02-23T00:00:00",
          "2022-02-24T00:00:00",
          "2022-02-25T00:00:00",
          "2022-02-26T00:00:00",
          "2022-02-27T00:00:00",
          "2022-02-28T00:00:00"
         ],
         "y": [
          0.014907080150495952,
          0.017089504608511198,
          0.01563539216669825,
          0.014517265141956138,
          0.016536305553901905,
          0.015561541164070734,
          0.012837205575570963,
          0.013962713042895498,
          0.016851482107203195,
          0.014056753164975908,
          0.014695480730129301,
          0.015269929868076801,
          0.01461086927692483,
          0.012713216683173765,
          0.012794732825703098,
          0.01466504438804854,
          0.01452577568304417,
          0.013497325403546298,
          0.012999340846713822,
          0.012613043387871354,
          0.011257114679842504,
          0.011713134683301684,
          0.013566727847644252,
          0.012894868198996934,
          0.013127885445206914,
          0.011399204310485932,
          0.012926441256964023,
          0.011721932565246219,
          0.01184564405239437,
          0.012816255420318313,
          0.013082612482834944,
          0.014393377460944799,
          0.011985332050584906,
          0.010759494903653436,
          0.01671404931589166,
          0.011524404372305574,
          0.012038603837439413,
          0.0118506413630325,
          0.012175645959318306,
          0.011809776274063545,
          0.011980811465029415,
          0.01033674096673573,
          0.010528014263142843,
          0.011761155277581464,
          0.012337707664386431,
          0.009919951390339372,
          0.009565027441771564,
          0.01044095705044254,
          0.008973478110151882,
          0.00932684509326845,
          0.009624140500159294,
          0.009090588346847017,
          0.009335229734717787,
          0.0068748714977290145,
          0.006135597571722597,
          0.006224736848472071,
          0.0052489115825722086,
          0.005618108369839518,
          0.004661818097458561,
          0.003902542089016918,
          0.003503190655670411,
          0.0035952644633010975,
          0.00352467160457001,
          0.002513226530492632,
          0.003165124698071579,
          0.0031135425455101205,
          0.0026005979818113866,
          0.0024668950879403683,
          0.0024965323347826067,
          0.0019548306385034535,
          0.0020299230373513424,
          0.0030790350414261337,
          0.0026252394039342794,
          0.0025579385059973374,
          0.002357669498268177,
          0.002530151723349388,
          0.0020128606938290285,
          0.00231091416620415,
          0.002439753891608086,
          0.002512163798690261,
          0.0025611371947610196,
          0.0025844682093878464,
          0.0022490671796182656,
          0.0020539469199895443,
          0.0024816072829866504,
          0.002954315908216447,
          0.0028592095759113227,
          0.0028149948676814396,
          0.0033661832453505984,
          0.0029780963387420725,
          0.0024743383531726825,
          0.003529004653106351,
          0.004026506087682895,
          0.003801290198954925,
          0.0036639903634113143,
          0.004557922544722691,
          0.0037296730794812703,
          0.0032233077909358714,
          0.004206680916962084,
          0.004674521570492883,
          0.005420889667729722,
          0.004228322932697416,
          0.005073221910720848,
          0.004773726773635939,
          0.0035099251505361006,
          0.005961069540225069,
          0.005908288355294678,
          0.005404444811803238,
          0.006250371841071807,
          0.0054530927835051545,
          0.0054015154394819595,
          0.004189208504132747,
          0.005101053691763256,
          0.005210776173075294,
          0.006035513941593796,
          0.006115255040599369,
          0.0057041625309394274,
          0.004810452951708079,
          0.004146460066501071,
          0.005528396893153523
         ]
        }
       ],
       "layout": {
        "template": {
         "data": {
          "bar": [
           {
            "error_x": {
             "color": "#f2f5fa"
            },
            "error_y": {
             "color": "#f2f5fa"
            },
            "marker": {
             "line": {
              "color": "rgb(17,17,17)",
              "width": 0.5
             },
             "pattern": {
              "fillmode": "overlay",
              "size": 10,
              "solidity": 0.2
             }
            },
            "type": "bar"
           }
          ],
          "barpolar": [
           {
            "marker": {
             "line": {
              "color": "rgb(17,17,17)",
              "width": 0.5
             },
             "pattern": {
              "fillmode": "overlay",
              "size": 10,
              "solidity": 0.2
             }
            },
            "type": "barpolar"
           }
          ],
          "carpet": [
           {
            "aaxis": {
             "endlinecolor": "#A2B1C6",
             "gridcolor": "#506784",
             "linecolor": "#506784",
             "minorgridcolor": "#506784",
             "startlinecolor": "#A2B1C6"
            },
            "baxis": {
             "endlinecolor": "#A2B1C6",
             "gridcolor": "#506784",
             "linecolor": "#506784",
             "minorgridcolor": "#506784",
             "startlinecolor": "#A2B1C6"
            },
            "type": "carpet"
           }
          ],
          "choropleth": [
           {
            "colorbar": {
             "outlinewidth": 0,
             "ticks": ""
            },
            "type": "choropleth"
           }
          ],
          "contour": [
           {
            "colorbar": {
             "outlinewidth": 0,
             "ticks": ""
            },
            "colorscale": [
             [
              0,
              "#0d0887"
             ],
             [
              0.1111111111111111,
              "#46039f"
             ],
             [
              0.2222222222222222,
              "#7201a8"
             ],
             [
              0.3333333333333333,
              "#9c179e"
             ],
             [
              0.4444444444444444,
              "#bd3786"
             ],
             [
              0.5555555555555556,
              "#d8576b"
             ],
             [
              0.6666666666666666,
              "#ed7953"
             ],
             [
              0.7777777777777778,
              "#fb9f3a"
             ],
             [
              0.8888888888888888,
              "#fdca26"
             ],
             [
              1,
              "#f0f921"
             ]
            ],
            "type": "contour"
           }
          ],
          "contourcarpet": [
           {
            "colorbar": {
             "outlinewidth": 0,
             "ticks": ""
            },
            "type": "contourcarpet"
           }
          ],
          "heatmap": [
           {
            "colorbar": {
             "outlinewidth": 0,
             "ticks": ""
            },
            "colorscale": [
             [
              0,
              "#0d0887"
             ],
             [
              0.1111111111111111,
              "#46039f"
             ],
             [
              0.2222222222222222,
              "#7201a8"
             ],
             [
              0.3333333333333333,
              "#9c179e"
             ],
             [
              0.4444444444444444,
              "#bd3786"
             ],
             [
              0.5555555555555556,
              "#d8576b"
             ],
             [
              0.6666666666666666,
              "#ed7953"
             ],
             [
              0.7777777777777778,
              "#fb9f3a"
             ],
             [
              0.8888888888888888,
              "#fdca26"
             ],
             [
              1,
              "#f0f921"
             ]
            ],
            "type": "heatmap"
           }
          ],
          "heatmapgl": [
           {
            "colorbar": {
             "outlinewidth": 0,
             "ticks": ""
            },
            "colorscale": [
             [
              0,
              "#0d0887"
             ],
             [
              0.1111111111111111,
              "#46039f"
             ],
             [
              0.2222222222222222,
              "#7201a8"
             ],
             [
              0.3333333333333333,
              "#9c179e"
             ],
             [
              0.4444444444444444,
              "#bd3786"
             ],
             [
              0.5555555555555556,
              "#d8576b"
             ],
             [
              0.6666666666666666,
              "#ed7953"
             ],
             [
              0.7777777777777778,
              "#fb9f3a"
             ],
             [
              0.8888888888888888,
              "#fdca26"
             ],
             [
              1,
              "#f0f921"
             ]
            ],
            "type": "heatmapgl"
           }
          ],
          "histogram": [
           {
            "marker": {
             "pattern": {
              "fillmode": "overlay",
              "size": 10,
              "solidity": 0.2
             }
            },
            "type": "histogram"
           }
          ],
          "histogram2d": [
           {
            "colorbar": {
             "outlinewidth": 0,
             "ticks": ""
            },
            "colorscale": [
             [
              0,
              "#0d0887"
             ],
             [
              0.1111111111111111,
              "#46039f"
             ],
             [
              0.2222222222222222,
              "#7201a8"
             ],
             [
              0.3333333333333333,
              "#9c179e"
             ],
             [
              0.4444444444444444,
              "#bd3786"
             ],
             [
              0.5555555555555556,
              "#d8576b"
             ],
             [
              0.6666666666666666,
              "#ed7953"
             ],
             [
              0.7777777777777778,
              "#fb9f3a"
             ],
             [
              0.8888888888888888,
              "#fdca26"
             ],
             [
              1,
              "#f0f921"
             ]
            ],
            "type": "histogram2d"
           }
          ],
          "histogram2dcontour": [
           {
            "colorbar": {
             "outlinewidth": 0,
             "ticks": ""
            },
            "colorscale": [
             [
              0,
              "#0d0887"
             ],
             [
              0.1111111111111111,
              "#46039f"
             ],
             [
              0.2222222222222222,
              "#7201a8"
             ],
             [
              0.3333333333333333,
              "#9c179e"
             ],
             [
              0.4444444444444444,
              "#bd3786"
             ],
             [
              0.5555555555555556,
              "#d8576b"
             ],
             [
              0.6666666666666666,
              "#ed7953"
             ],
             [
              0.7777777777777778,
              "#fb9f3a"
             ],
             [
              0.8888888888888888,
              "#fdca26"
             ],
             [
              1,
              "#f0f921"
             ]
            ],
            "type": "histogram2dcontour"
           }
          ],
          "mesh3d": [
           {
            "colorbar": {
             "outlinewidth": 0,
             "ticks": ""
            },
            "type": "mesh3d"
           }
          ],
          "parcoords": [
           {
            "line": {
             "colorbar": {
              "outlinewidth": 0,
              "ticks": ""
             }
            },
            "type": "parcoords"
           }
          ],
          "pie": [
           {
            "automargin": true,
            "type": "pie"
           }
          ],
          "scatter": [
           {
            "marker": {
             "line": {
              "color": "#283442"
             }
            },
            "type": "scatter"
           }
          ],
          "scatter3d": [
           {
            "line": {
             "colorbar": {
              "outlinewidth": 0,
              "ticks": ""
             }
            },
            "marker": {
             "colorbar": {
              "outlinewidth": 0,
              "ticks": ""
             }
            },
            "type": "scatter3d"
           }
          ],
          "scattercarpet": [
           {
            "marker": {
             "colorbar": {
              "outlinewidth": 0,
              "ticks": ""
             }
            },
            "type": "scattercarpet"
           }
          ],
          "scattergeo": [
           {
            "marker": {
             "colorbar": {
              "outlinewidth": 0,
              "ticks": ""
             }
            },
            "type": "scattergeo"
           }
          ],
          "scattergl": [
           {
            "marker": {
             "line": {
              "color": "#283442"
             }
            },
            "type": "scattergl"
           }
          ],
          "scattermapbox": [
           {
            "marker": {
             "colorbar": {
              "outlinewidth": 0,
              "ticks": ""
             }
            },
            "type": "scattermapbox"
           }
          ],
          "scatterpolar": [
           {
            "marker": {
             "colorbar": {
              "outlinewidth": 0,
              "ticks": ""
             }
            },
            "type": "scatterpolar"
           }
          ],
          "scatterpolargl": [
           {
            "marker": {
             "colorbar": {
              "outlinewidth": 0,
              "ticks": ""
             }
            },
            "type": "scatterpolargl"
           }
          ],
          "scatterternary": [
           {
            "marker": {
             "colorbar": {
              "outlinewidth": 0,
              "ticks": ""
             }
            },
            "type": "scatterternary"
           }
          ],
          "surface": [
           {
            "colorbar": {
             "outlinewidth": 0,
             "ticks": ""
            },
            "colorscale": [
             [
              0,
              "#0d0887"
             ],
             [
              0.1111111111111111,
              "#46039f"
             ],
             [
              0.2222222222222222,
              "#7201a8"
             ],
             [
              0.3333333333333333,
              "#9c179e"
             ],
             [
              0.4444444444444444,
              "#bd3786"
             ],
             [
              0.5555555555555556,
              "#d8576b"
             ],
             [
              0.6666666666666666,
              "#ed7953"
             ],
             [
              0.7777777777777778,
              "#fb9f3a"
             ],
             [
              0.8888888888888888,
              "#fdca26"
             ],
             [
              1,
              "#f0f921"
             ]
            ],
            "type": "surface"
           }
          ],
          "table": [
           {
            "cells": {
             "fill": {
              "color": "#506784"
             },
             "line": {
              "color": "rgb(17,17,17)"
             }
            },
            "header": {
             "fill": {
              "color": "#2a3f5f"
             },
             "line": {
              "color": "rgb(17,17,17)"
             }
            },
            "type": "table"
           }
          ]
         },
         "layout": {
          "annotationdefaults": {
           "arrowcolor": "#f2f5fa",
           "arrowhead": 0,
           "arrowwidth": 1
          },
          "autotypenumbers": "strict",
          "coloraxis": {
           "colorbar": {
            "outlinewidth": 0,
            "ticks": ""
           }
          },
          "colorscale": {
           "diverging": [
            [
             0,
             "#8e0152"
            ],
            [
             0.1,
             "#c51b7d"
            ],
            [
             0.2,
             "#de77ae"
            ],
            [
             0.3,
             "#f1b6da"
            ],
            [
             0.4,
             "#fde0ef"
            ],
            [
             0.5,
             "#f7f7f7"
            ],
            [
             0.6,
             "#e6f5d0"
            ],
            [
             0.7,
             "#b8e186"
            ],
            [
             0.8,
             "#7fbc41"
            ],
            [
             0.9,
             "#4d9221"
            ],
            [
             1,
             "#276419"
            ]
           ],
           "sequential": [
            [
             0,
             "#0d0887"
            ],
            [
             0.1111111111111111,
             "#46039f"
            ],
            [
             0.2222222222222222,
             "#7201a8"
            ],
            [
             0.3333333333333333,
             "#9c179e"
            ],
            [
             0.4444444444444444,
             "#bd3786"
            ],
            [
             0.5555555555555556,
             "#d8576b"
            ],
            [
             0.6666666666666666,
             "#ed7953"
            ],
            [
             0.7777777777777778,
             "#fb9f3a"
            ],
            [
             0.8888888888888888,
             "#fdca26"
            ],
            [
             1,
             "#f0f921"
            ]
           ],
           "sequentialminus": [
            [
             0,
             "#0d0887"
            ],
            [
             0.1111111111111111,
             "#46039f"
            ],
            [
             0.2222222222222222,
             "#7201a8"
            ],
            [
             0.3333333333333333,
             "#9c179e"
            ],
            [
             0.4444444444444444,
             "#bd3786"
            ],
            [
             0.5555555555555556,
             "#d8576b"
            ],
            [
             0.6666666666666666,
             "#ed7953"
            ],
            [
             0.7777777777777778,
             "#fb9f3a"
            ],
            [
             0.8888888888888888,
             "#fdca26"
            ],
            [
             1,
             "#f0f921"
            ]
           ]
          },
          "colorway": [
           "#636efa",
           "#EF553B",
           "#00cc96",
           "#ab63fa",
           "#FFA15A",
           "#19d3f3",
           "#FF6692",
           "#B6E880",
           "#FF97FF",
           "#FECB52"
          ],
          "font": {
           "color": "#f2f5fa"
          },
          "geo": {
           "bgcolor": "rgb(17,17,17)",
           "lakecolor": "rgb(17,17,17)",
           "landcolor": "rgb(17,17,17)",
           "showlakes": true,
           "showland": true,
           "subunitcolor": "#506784"
          },
          "hoverlabel": {
           "align": "left"
          },
          "hovermode": "closest",
          "mapbox": {
           "style": "dark"
          },
          "paper_bgcolor": "rgb(17,17,17)",
          "plot_bgcolor": "rgb(17,17,17)",
          "polar": {
           "angularaxis": {
            "gridcolor": "#506784",
            "linecolor": "#506784",
            "ticks": ""
           },
           "bgcolor": "rgb(17,17,17)",
           "radialaxis": {
            "gridcolor": "#506784",
            "linecolor": "#506784",
            "ticks": ""
           }
          },
          "scene": {
           "xaxis": {
            "backgroundcolor": "rgb(17,17,17)",
            "gridcolor": "#506784",
            "gridwidth": 2,
            "linecolor": "#506784",
            "showbackground": true,
            "ticks": "",
            "zerolinecolor": "#C8D4E3"
           },
           "yaxis": {
            "backgroundcolor": "rgb(17,17,17)",
            "gridcolor": "#506784",
            "gridwidth": 2,
            "linecolor": "#506784",
            "showbackground": true,
            "ticks": "",
            "zerolinecolor": "#C8D4E3"
           },
           "zaxis": {
            "backgroundcolor": "rgb(17,17,17)",
            "gridcolor": "#506784",
            "gridwidth": 2,
            "linecolor": "#506784",
            "showbackground": true,
            "ticks": "",
            "zerolinecolor": "#C8D4E3"
           }
          },
          "shapedefaults": {
           "line": {
            "color": "#f2f5fa"
           }
          },
          "sliderdefaults": {
           "bgcolor": "#C8D4E3",
           "bordercolor": "rgb(17,17,17)",
           "borderwidth": 1,
           "tickwidth": 0
          },
          "ternary": {
           "aaxis": {
            "gridcolor": "#506784",
            "linecolor": "#506784",
            "ticks": ""
           },
           "baxis": {
            "gridcolor": "#506784",
            "linecolor": "#506784",
            "ticks": ""
           },
           "bgcolor": "rgb(17,17,17)",
           "caxis": {
            "gridcolor": "#506784",
            "linecolor": "#506784",
            "ticks": ""
           }
          },
          "title": {
           "x": 0.05
          },
          "updatemenudefaults": {
           "bgcolor": "#506784",
           "borderwidth": 0
          },
          "xaxis": {
           "automargin": true,
           "gridcolor": "#283442",
           "linecolor": "#506784",
           "ticks": "",
           "title": {
            "standoff": 15
           },
           "zerolinecolor": "#283442",
           "zerolinewidth": 2
          },
          "yaxis": {
           "automargin": true,
           "gridcolor": "#283442",
           "linecolor": "#506784",
           "ticks": "",
           "title": {
            "standoff": 15
           },
           "zerolinecolor": "#283442",
           "zerolinewidth": 2
          }
         }
        },
        "title": {
         "text": "Tỉ lệ tử vong mỗi ngày giữa hai loại biến thể DELTA và OMICRON"
        }
       }
      }
     },
     "metadata": {},
     "output_type": "display_data"
    },
    {
     "name": "stdout",
     "output_type": "stream",
     "text": [
      "Từ biểu đồ ta cũng có thể thấy được rằng tỉ lệ tử vong vì biến thể DELTA lớn hơn OMICRON.\n"
     ]
    }
   ],
   "source": [
    "plot_ticks_variant(covid_compare, \"Date\", \"Mortality\", \"Tỉ lệ tử vong mỗi ngày giữa hai loại biến thể DELTA và OMICRON\", is_group=False)\n",
    "print(\"Từ biểu đồ ta cũng có thể thấy được rằng tỉ lệ tử vong vì biến thể DELTA lớn hơn OMICRON.\")"
   ]
  },
  {
   "cell_type": "markdown",
   "metadata": {},
   "source": [
    "Dựa vào biểu đồ tỷ lệ tử vong của 2 loại biến thể và hệ số tương quan, nhóm em đưa ra nhận xét:\n",
    "\n",
    "- Biến thể `DELTA` có mối tương quan mạnh hơn so với biến thể `OMICRON`. (giữa 2 biến `NewCases` và `NewDeaths` theo từng ngày)\n",
    "- Biến thể `DELTA` có tốc độ lây lan nhanh, số ca tử vong mới mỗi ngày tăng cao dẫn đến tỷ lệ tử vong cao.\n",
    "- Biến thể `OMICRON` có tốc độ lây lan nhanh vượt trội so với biến thể `DELTA` (mặc dù biến thể `OMICRON` xuất hiện sau) nhưng về số ca tử vong mới mỗi ngày thì biến thể `OMICRON` ít hơn dẫn tới tỷ lệ tử vong cũng thấp hơn biến thể `DELTA`"
   ]
  },
  {
   "cell_type": "markdown",
   "metadata": {},
   "source": [
    "Để có thể đưa ra kết luận chắc chắn, ta thực hiện kiểm định thống kê T-test trên 2 nhóm độc lập: tỉ lệ tử vong vì dịch bệnh mỗi ngày của hai nhóm biến thể `DELTA` và `OMICRON`\n",
    "\n",
    "Ta đặt giả thuyết:\n",
    "\n",
    "`H0: tỉ lệ tử vong của hai nhóm biến thể là như nhau`\n",
    "\n",
    "`Ha: tỉ lệ tử vong của biến thể DELTA cao hơn OMICRON.`"
   ]
  },
  {
   "cell_type": "code",
   "execution_count": 243,
   "metadata": {},
   "outputs": [
    {
     "name": "stdout",
     "output_type": "stream",
     "text": [
      "Giá trị p tính được là kiểm định hai phía: p =  3.763915980121889e-83\n",
      "Vì ta kiểm định 1 phía nên p_value = p/2 =  1.8819579900609447e-83\n",
      "Ta có p_value = 1.8819579900609447e-83 < 0,05 và t = 24.09083434337719 > 0 => Ta bác bỏ giả thuyết H0, chấp nhận Ha\n"
     ]
    }
   ],
   "source": [
    "t, p = stats.ttest_ind(covid_delta['Mortality'], covid_omicron['Mortality'])\n",
    "print ('Giá trị p tính được là kiểm định hai phía: p = ', p)\n",
    "print ('Vì ta kiểm định 1 phía nên p_value = p/2 = ', p/2)\n",
    "p = p/2\n",
    "print (f'Ta có p_value = {p} < 0,05 và t = {t} > 0 => Ta bác bỏ giả thuyết H0, chấp nhận Ha')"
   ]
  },
  {
   "cell_type": "markdown",
   "metadata": {},
   "source": [
    "Tính khoảng tin cậy 95% cho trung bình"
   ]
  },
  {
   "cell_type": "code",
   "execution_count": 244,
   "metadata": {},
   "outputs": [
    {
     "name": "stdout",
     "output_type": "stream",
     "text": [
      "Khoảng tin cậy 95% cho trung bình tỉ lệ tử vong của biến thể DELTA so với biến thể OMICRON: (0.011384694511358285, 0.01154846269717518). Hay nói cách khác, trung bình tỉ lệ tử vong của biến thể DELTA lớn hơn OMICRON trong khoảng đó\n"
     ]
    }
   ],
   "source": [
    "CI_variant = get_confident_interval(covid_delta['Mortality'], covid_omicron['Mortality'])\n",
    "print(f\"Khoảng tin cậy 95% cho trung bình tỉ lệ tử vong của biến thể DELTA so với biến thể OMICRON: {CI_variant}. Hay nói cách khác, trung bình tỉ lệ tử vong của biến thể DELTA lớn hơn OMICRON trong khoảng đó\")"
   ]
  },
  {
   "cell_type": "markdown",
   "metadata": {},
   "source": [
    "Nhận xét: \n",
    "\n",
    "Ta có thể đưa ra kết luận rằng tỉ lệ tử vong của nhóm biến thể `DELTA` cao hơn `OMICRON`. Do đó có thể nói tuy biến thể `OMICRON` làm gia tăng nhanh chóng số ca mắc nhưng tỉ lệ tử vọng lại thấp hơn so với biến thể `DELTA`. Vậy biến thể `OMICRON` có thể ít gây nguy hiểm hơn `DELTA` nhưng số ca mắc tăng nhanh có thể làm quá tải hệ thống y tế ở một số quốc gia. \n",
    "\n",
    "Chúng ta không nên xem thường bất kì loại biến thể nào của Covid-19"
   ]
  },
  {
   "cell_type": "markdown",
   "metadata": {},
   "source": [
    "# 6. Kết luận"
   ]
  },
  {
   "cell_type": "markdown",
   "metadata": {},
   "source": [
    "**Kết quả nhóm đạt được**\n",
    "1. Tình hình dịch bệnh ở các nước đều có thể nguy hiểm như nhau, không phân biệt dân số, nền kinh tế của các quốc gia đó\n",
    "2. Vaccine đóng góp vai trò to lớn trong việc đẩy lùi dịch bệnh Covid-19, nhờ sự xuất hiện của nó mà tình hình dịch đang được kiểm soát. Tuy số ca mắc mới mỗi ngày vẫn tăng nhưng tỉ lệ tử vong giảm đáng kể so với trước khi có vaccine\n",
    "3. Biến chủng `OMICRON` xuất hiện gần đây khiến cho số ca mắc tăng nhanh đột biến, làm quá tải hệ thống y tế của nhiều nước trên thế giới. Tuy nhiên, so với biến chủng `DELTA` thì tỉ lệ tử vong của biến chủng `OMICRON` thấp hơn, có lẽ cũng nhờ sự xuất hiện của vaccine. Điều đó làm cho thế giới dần kiểm soát được đại dịch, tiến tới bình thường hoá mọi thứ.\n",
    "\n",
    "**Nếu có đủ thời gian và kiến thức thì nhóm em dự định sẽ thực hiện việc dự đoán số ca mắc, tử vong mới của các ngày tiếp theo. **"
   ]
  },
  {
   "cell_type": "markdown",
   "metadata": {},
   "source": [
    "# 7. Đóng góp"
   ]
  },
  {
   "cell_type": "markdown",
   "metadata": {},
   "source": [
    "Đóng góp của các thành viên\n",
    "| Tên  | MSSV | Proposal | Trả lời câu hỏi nghiên cứu  | Report |Presentation |  Tỉ lệ đánh giá  | \n",
    "|:-:|:-:|:-:|:-:|:-:|:-:|---| \n",
    "| Nguyễn Minh Sơn  | 20110713 |  Đặt câu hỏi nghiên cứu + Làm file proposal | câu 4   | Mô hình hoá dữ liệu + thực nghiệm, bảng đóng góp  | Tổng hợp file thuyết trình  |100%    | \n",
    "| Nguyễn Thái Ngọc Tân  | 20110719  | Đặt câu hỏi nghiên cứu |  câu 1 | Tóm tắt, giới thiệu, mô tả dữ liệu  |   |100%    | \n",
    "| Đỗ Minh Dũng |  20110620 |  Đặt câu hỏi nghiên cứu\t | câu 2  | Trực quan hoá dữ liệu  |   |100%    | \n",
    "| Lê Anh Nhân |  20110689 |  Đặt câu hỏi nghiên cứu\t | câu 3  | Kết luận, tham khảo  |   |100%    | "
   ]
  },
  {
   "cell_type": "markdown",
   "metadata": {},
   "source": [
    "# 8. Tham khảo"
   ]
  },
  {
   "cell_type": "markdown",
   "metadata": {},
   "source": [
    "- Các thư viện nhóm sử dụng cho project: pandas, matplotlib, seaborn, plotly, scipy...\n",
    "- Nhóm có tham khảo cách thức vẽ các biểu đồ dữ liệu trên kaggle và nhiều trang khác..."
   ]
  }
 ],
 "metadata": {
  "kernelspec": {
   "display_name": "Python 3.9.12 ('base')",
   "language": "python",
   "name": "python3"
  },
  "language_info": {
   "codemirror_mode": {
    "name": "ipython",
    "version": 3
   },
   "file_extension": ".py",
   "mimetype": "text/x-python",
   "name": "python",
   "nbconvert_exporter": "python",
   "pygments_lexer": "ipython3",
   "version": "3.9.12"
  },
  "vscode": {
   "interpreter": {
    "hash": "960f2ae499b536958d588fcafb5f9e40dd995fc898e4b79db932caf22756042a"
   }
  }
 },
 "nbformat": 4,
 "nbformat_minor": 4
}
