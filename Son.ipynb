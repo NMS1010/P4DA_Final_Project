{
 "cells": [
  {
   "cell_type": "code",
   "execution_count": 267,
   "metadata": {},
   "outputs": [],
   "source": [
    "import pandas as pd\n",
    "import matplotlib.pyplot as plt\n",
    "import numpy as np\n",
    "import plotly.express as px\n",
    "import plotly.graph_objects as go\n",
    "from plotly.subplots import make_subplots\n",
    "import seaborn as sns\n",
    "import scipy.stats as stats\n",
    "from bioinfokit.analys import stat\n",
    "import statsmodels.api as sm\n",
    "from statsmodels.formula.api import ols\n",
    "import random"
   ]
  },
  {
   "cell_type": "code",
   "execution_count": 268,
   "metadata": {},
   "outputs": [
    {
     "name": "stdout",
     "output_type": "stream",
     "text": [
      "Dữ liệu về dịch bệnh Covid-19 được thu thập từ ngày 2020-01-22 tới ngày 2022-03-05\n"
     ]
    }
   ],
   "source": [
    "covid_df = pd.read_csv('./data/owid-covid-data.csv')\n",
    "covid_df = covid_df[['continent', 'location', 'date', 'total_cases',  'new_cases', 'total_cases_per_million', 'new_cases_per_million', 'total_deaths', 'new_deaths', 'total_deaths_per_million', 'new_deaths_per_million', 'total_vaccinations', 'people_vaccinated', 'people_fully_vaccinated', 'people_fully_vaccinated_per_hundred', 'population']]\n",
    "covid_df.columns = ['Continent', 'Location', 'Date', 'TotalCases',  'NewCases', 'TotalCases_per_million', 'NewCases_per_million', 'TotalDeaths', 'NewDeaths', 'TotalDeaths_per_million', 'NewDeaths_per_million', 'TotalVaccinations', 'PeopleVaccinated', 'PeopleFullyVaccinated', 'PeopleFullyVaccinated_per_hundred', 'Population']\n",
    "covid_df = covid_df[~covid_df['Population'].isna()]\n",
    "covid_df = covid_df.replace('', np.nan).fillna(0)\n",
    "covid_world_df = covid_df[covid_df.Location == 'World']\n",
    "print(f\"Dữ liệu về dịch bệnh Covid-19 được thu thập từ ngày {covid_world_df.Date.min()} tới ngày {covid_world_df.Date.max()}\")"
   ]
  },
  {
   "cell_type": "markdown",
   "metadata": {},
   "source": [
    "## Câu 1: Số ca mắc Covid-19 có phụ thuộc vào các châu lục khi bùng phát hay không ? **(X: Continent, Total Cases)**  **(Y: True/False)**"
   ]
  },
  {
   "cell_type": "markdown",
   "metadata": {},
   "source": [
    "<font face=\"Cambria Math\" size=5 color = #1155cc> Quan hệ 𝐶 → 𝑄: nhiều nhóm độc lập </font>\n",
    "\n",
    "*  <font face=\"Cambria Math\" size=4> Với 𝐶: Biến Continent (Biến catagorical) </font>\n",
    "* <font face=\"Cambria Math\" size=4>  Với 𝑄: Biến TotalCases (Biến quantitative)</font>"
   ]
  },
  {
   "cell_type": "markdown",
   "metadata": {},
   "source": [
    "Tổng số ca mắc Covid-19 theo từng khu vực trên thế giới"
   ]
  },
  {
   "cell_type": "code",
   "execution_count": 269,
   "metadata": {},
   "outputs": [],
   "source": [
    "covid_country = covid_df.copy()\n",
    "covid_country = covid_country.groupby(by='Location').agg({'Location' : 'first','Continent' : 'first', 'TotalCases': 'max'})"
   ]
  },
  {
   "cell_type": "code",
   "execution_count": 270,
   "metadata": {},
   "outputs": [
    {
     "data": {
      "text/html": [
       "<div>\n",
       "<style scoped>\n",
       "    .dataframe tbody tr th:only-of-type {\n",
       "        vertical-align: middle;\n",
       "    }\n",
       "\n",
       "    .dataframe tbody tr th {\n",
       "        vertical-align: top;\n",
       "    }\n",
       "\n",
       "    .dataframe thead th {\n",
       "        text-align: right;\n",
       "    }\n",
       "</style>\n",
       "<table border=\"1\" class=\"dataframe\">\n",
       "  <thead>\n",
       "    <tr style=\"text-align: right;\">\n",
       "      <th></th>\n",
       "      <th>Continent</th>\n",
       "      <th>TotalCases</th>\n",
       "    </tr>\n",
       "    <tr>\n",
       "      <th>Continent</th>\n",
       "      <th></th>\n",
       "      <th></th>\n",
       "    </tr>\n",
       "  </thead>\n",
       "  <tbody>\n",
       "    <tr>\n",
       "      <th>Africa</th>\n",
       "      <td>Africa</td>\n",
       "      <td>11272358.0</td>\n",
       "    </tr>\n",
       "    <tr>\n",
       "      <th>Asia</th>\n",
       "      <td>Asia</td>\n",
       "      <td>120758420.0</td>\n",
       "    </tr>\n",
       "    <tr>\n",
       "      <th>Europe</th>\n",
       "      <td>Europe</td>\n",
       "      <td>161250675.0</td>\n",
       "    </tr>\n",
       "    <tr>\n",
       "      <th>North America</th>\n",
       "      <td>North America</td>\n",
       "      <td>93398426.0</td>\n",
       "    </tr>\n",
       "    <tr>\n",
       "      <th>Oceania</th>\n",
       "      <td>Oceania</td>\n",
       "      <td>3831683.0</td>\n",
       "    </tr>\n",
       "    <tr>\n",
       "      <th>South America</th>\n",
       "      <td>South America</td>\n",
       "      <td>54622339.0</td>\n",
       "    </tr>\n",
       "  </tbody>\n",
       "</table>\n",
       "</div>"
      ],
      "text/plain": [
       "                   Continent   TotalCases\n",
       "Continent                                \n",
       "Africa                Africa   11272358.0\n",
       "Asia                    Asia  120758420.0\n",
       "Europe                Europe  161250675.0\n",
       "North America  North America   93398426.0\n",
       "Oceania              Oceania    3831683.0\n",
       "South America  South America   54622339.0"
      ]
     },
     "execution_count": 270,
     "metadata": {},
     "output_type": "execute_result"
    }
   ],
   "source": [
    "covid_continent = covid_country.groupby(by = 'Continent').agg({'Continent' : 'first', 'TotalCases': 'sum'})\n",
    "covid_continent = covid_continent[covid_continent.Continent != 0]\n",
    "covid_continent"
   ]
  },
  {
   "cell_type": "markdown",
   "metadata": {},
   "source": [
    "Biểu đồ tổng quan về số ca mắc ở các khu vực"
   ]
  },
  {
   "cell_type": "code",
   "execution_count": 271,
   "metadata": {},
   "outputs": [],
   "source": [
    "def plot_pie(df, values, names, title):\n",
    "    fig = px.pie(df, values=values, names=names, title=title)\n",
    "    fig.show()"
   ]
  },
  {
   "cell_type": "code",
   "execution_count": 272,
   "metadata": {},
   "outputs": [],
   "source": [
    "def plot_bar(df, x, y, title):\n",
    "    figure = px.bar(df, x = x, y = y, color = 'Continent', text = x, orientation='h', height=500,\n",
    "                    color_discrete_sequence = px.colors.qualitative.Dark2)\n",
    "    figure.update_layout(title=title, xaxis_title=x, yaxis_title=y, \n",
    "                    yaxis_categoryorder = 'total ascending',\n",
    "                    uniformtext_minsize=8, uniformtext_mode='hide')\n",
    "    figure.show()"
   ]
  },
  {
   "cell_type": "code",
   "execution_count": 273,
   "metadata": {},
   "outputs": [
    {
     "data": {
      "application/vnd.plotly.v1+json": {
       "config": {
        "plotlyServerURL": "https://plot.ly"
       },
       "data": [
        {
         "domain": {
          "x": [
           0,
           1
          ],
          "y": [
           0,
           1
          ]
         },
         "hovertemplate": "Continent=%{label}<br>TotalCases=%{value}<extra></extra>",
         "labels": [
          "Africa",
          "Asia",
          "Europe",
          "North America",
          "Oceania",
          "South America"
         ],
         "legendgroup": "",
         "name": "",
         "showlegend": true,
         "type": "pie",
         "values": [
          11272358,
          120758420,
          161250675,
          93398426,
          3831683,
          54622339
         ]
        }
       ],
       "layout": {
        "legend": {
         "tracegroupgap": 0
        },
        "template": {
         "data": {
          "bar": [
           {
            "error_x": {
             "color": "#2a3f5f"
            },
            "error_y": {
             "color": "#2a3f5f"
            },
            "marker": {
             "line": {
              "color": "#E5ECF6",
              "width": 0.5
             },
             "pattern": {
              "fillmode": "overlay",
              "size": 10,
              "solidity": 0.2
             }
            },
            "type": "bar"
           }
          ],
          "barpolar": [
           {
            "marker": {
             "line": {
              "color": "#E5ECF6",
              "width": 0.5
             },
             "pattern": {
              "fillmode": "overlay",
              "size": 10,
              "solidity": 0.2
             }
            },
            "type": "barpolar"
           }
          ],
          "carpet": [
           {
            "aaxis": {
             "endlinecolor": "#2a3f5f",
             "gridcolor": "white",
             "linecolor": "white",
             "minorgridcolor": "white",
             "startlinecolor": "#2a3f5f"
            },
            "baxis": {
             "endlinecolor": "#2a3f5f",
             "gridcolor": "white",
             "linecolor": "white",
             "minorgridcolor": "white",
             "startlinecolor": "#2a3f5f"
            },
            "type": "carpet"
           }
          ],
          "choropleth": [
           {
            "colorbar": {
             "outlinewidth": 0,
             "ticks": ""
            },
            "type": "choropleth"
           }
          ],
          "contour": [
           {
            "colorbar": {
             "outlinewidth": 0,
             "ticks": ""
            },
            "colorscale": [
             [
              0,
              "#0d0887"
             ],
             [
              0.1111111111111111,
              "#46039f"
             ],
             [
              0.2222222222222222,
              "#7201a8"
             ],
             [
              0.3333333333333333,
              "#9c179e"
             ],
             [
              0.4444444444444444,
              "#bd3786"
             ],
             [
              0.5555555555555556,
              "#d8576b"
             ],
             [
              0.6666666666666666,
              "#ed7953"
             ],
             [
              0.7777777777777778,
              "#fb9f3a"
             ],
             [
              0.8888888888888888,
              "#fdca26"
             ],
             [
              1,
              "#f0f921"
             ]
            ],
            "type": "contour"
           }
          ],
          "contourcarpet": [
           {
            "colorbar": {
             "outlinewidth": 0,
             "ticks": ""
            },
            "type": "contourcarpet"
           }
          ],
          "heatmap": [
           {
            "colorbar": {
             "outlinewidth": 0,
             "ticks": ""
            },
            "colorscale": [
             [
              0,
              "#0d0887"
             ],
             [
              0.1111111111111111,
              "#46039f"
             ],
             [
              0.2222222222222222,
              "#7201a8"
             ],
             [
              0.3333333333333333,
              "#9c179e"
             ],
             [
              0.4444444444444444,
              "#bd3786"
             ],
             [
              0.5555555555555556,
              "#d8576b"
             ],
             [
              0.6666666666666666,
              "#ed7953"
             ],
             [
              0.7777777777777778,
              "#fb9f3a"
             ],
             [
              0.8888888888888888,
              "#fdca26"
             ],
             [
              1,
              "#f0f921"
             ]
            ],
            "type": "heatmap"
           }
          ],
          "heatmapgl": [
           {
            "colorbar": {
             "outlinewidth": 0,
             "ticks": ""
            },
            "colorscale": [
             [
              0,
              "#0d0887"
             ],
             [
              0.1111111111111111,
              "#46039f"
             ],
             [
              0.2222222222222222,
              "#7201a8"
             ],
             [
              0.3333333333333333,
              "#9c179e"
             ],
             [
              0.4444444444444444,
              "#bd3786"
             ],
             [
              0.5555555555555556,
              "#d8576b"
             ],
             [
              0.6666666666666666,
              "#ed7953"
             ],
             [
              0.7777777777777778,
              "#fb9f3a"
             ],
             [
              0.8888888888888888,
              "#fdca26"
             ],
             [
              1,
              "#f0f921"
             ]
            ],
            "type": "heatmapgl"
           }
          ],
          "histogram": [
           {
            "marker": {
             "pattern": {
              "fillmode": "overlay",
              "size": 10,
              "solidity": 0.2
             }
            },
            "type": "histogram"
           }
          ],
          "histogram2d": [
           {
            "colorbar": {
             "outlinewidth": 0,
             "ticks": ""
            },
            "colorscale": [
             [
              0,
              "#0d0887"
             ],
             [
              0.1111111111111111,
              "#46039f"
             ],
             [
              0.2222222222222222,
              "#7201a8"
             ],
             [
              0.3333333333333333,
              "#9c179e"
             ],
             [
              0.4444444444444444,
              "#bd3786"
             ],
             [
              0.5555555555555556,
              "#d8576b"
             ],
             [
              0.6666666666666666,
              "#ed7953"
             ],
             [
              0.7777777777777778,
              "#fb9f3a"
             ],
             [
              0.8888888888888888,
              "#fdca26"
             ],
             [
              1,
              "#f0f921"
             ]
            ],
            "type": "histogram2d"
           }
          ],
          "histogram2dcontour": [
           {
            "colorbar": {
             "outlinewidth": 0,
             "ticks": ""
            },
            "colorscale": [
             [
              0,
              "#0d0887"
             ],
             [
              0.1111111111111111,
              "#46039f"
             ],
             [
              0.2222222222222222,
              "#7201a8"
             ],
             [
              0.3333333333333333,
              "#9c179e"
             ],
             [
              0.4444444444444444,
              "#bd3786"
             ],
             [
              0.5555555555555556,
              "#d8576b"
             ],
             [
              0.6666666666666666,
              "#ed7953"
             ],
             [
              0.7777777777777778,
              "#fb9f3a"
             ],
             [
              0.8888888888888888,
              "#fdca26"
             ],
             [
              1,
              "#f0f921"
             ]
            ],
            "type": "histogram2dcontour"
           }
          ],
          "mesh3d": [
           {
            "colorbar": {
             "outlinewidth": 0,
             "ticks": ""
            },
            "type": "mesh3d"
           }
          ],
          "parcoords": [
           {
            "line": {
             "colorbar": {
              "outlinewidth": 0,
              "ticks": ""
             }
            },
            "type": "parcoords"
           }
          ],
          "pie": [
           {
            "automargin": true,
            "type": "pie"
           }
          ],
          "scatter": [
           {
            "fillpattern": {
             "fillmode": "overlay",
             "size": 10,
             "solidity": 0.2
            },
            "type": "scatter"
           }
          ],
          "scatter3d": [
           {
            "line": {
             "colorbar": {
              "outlinewidth": 0,
              "ticks": ""
             }
            },
            "marker": {
             "colorbar": {
              "outlinewidth": 0,
              "ticks": ""
             }
            },
            "type": "scatter3d"
           }
          ],
          "scattercarpet": [
           {
            "marker": {
             "colorbar": {
              "outlinewidth": 0,
              "ticks": ""
             }
            },
            "type": "scattercarpet"
           }
          ],
          "scattergeo": [
           {
            "marker": {
             "colorbar": {
              "outlinewidth": 0,
              "ticks": ""
             }
            },
            "type": "scattergeo"
           }
          ],
          "scattergl": [
           {
            "marker": {
             "colorbar": {
              "outlinewidth": 0,
              "ticks": ""
             }
            },
            "type": "scattergl"
           }
          ],
          "scattermapbox": [
           {
            "marker": {
             "colorbar": {
              "outlinewidth": 0,
              "ticks": ""
             }
            },
            "type": "scattermapbox"
           }
          ],
          "scatterpolar": [
           {
            "marker": {
             "colorbar": {
              "outlinewidth": 0,
              "ticks": ""
             }
            },
            "type": "scatterpolar"
           }
          ],
          "scatterpolargl": [
           {
            "marker": {
             "colorbar": {
              "outlinewidth": 0,
              "ticks": ""
             }
            },
            "type": "scatterpolargl"
           }
          ],
          "scatterternary": [
           {
            "marker": {
             "colorbar": {
              "outlinewidth": 0,
              "ticks": ""
             }
            },
            "type": "scatterternary"
           }
          ],
          "surface": [
           {
            "colorbar": {
             "outlinewidth": 0,
             "ticks": ""
            },
            "colorscale": [
             [
              0,
              "#0d0887"
             ],
             [
              0.1111111111111111,
              "#46039f"
             ],
             [
              0.2222222222222222,
              "#7201a8"
             ],
             [
              0.3333333333333333,
              "#9c179e"
             ],
             [
              0.4444444444444444,
              "#bd3786"
             ],
             [
              0.5555555555555556,
              "#d8576b"
             ],
             [
              0.6666666666666666,
              "#ed7953"
             ],
             [
              0.7777777777777778,
              "#fb9f3a"
             ],
             [
              0.8888888888888888,
              "#fdca26"
             ],
             [
              1,
              "#f0f921"
             ]
            ],
            "type": "surface"
           }
          ],
          "table": [
           {
            "cells": {
             "fill": {
              "color": "#EBF0F8"
             },
             "line": {
              "color": "white"
             }
            },
            "header": {
             "fill": {
              "color": "#C8D4E3"
             },
             "line": {
              "color": "white"
             }
            },
            "type": "table"
           }
          ]
         },
         "layout": {
          "annotationdefaults": {
           "arrowcolor": "#2a3f5f",
           "arrowhead": 0,
           "arrowwidth": 1
          },
          "autotypenumbers": "strict",
          "coloraxis": {
           "colorbar": {
            "outlinewidth": 0,
            "ticks": ""
           }
          },
          "colorscale": {
           "diverging": [
            [
             0,
             "#8e0152"
            ],
            [
             0.1,
             "#c51b7d"
            ],
            [
             0.2,
             "#de77ae"
            ],
            [
             0.3,
             "#f1b6da"
            ],
            [
             0.4,
             "#fde0ef"
            ],
            [
             0.5,
             "#f7f7f7"
            ],
            [
             0.6,
             "#e6f5d0"
            ],
            [
             0.7,
             "#b8e186"
            ],
            [
             0.8,
             "#7fbc41"
            ],
            [
             0.9,
             "#4d9221"
            ],
            [
             1,
             "#276419"
            ]
           ],
           "sequential": [
            [
             0,
             "#0d0887"
            ],
            [
             0.1111111111111111,
             "#46039f"
            ],
            [
             0.2222222222222222,
             "#7201a8"
            ],
            [
             0.3333333333333333,
             "#9c179e"
            ],
            [
             0.4444444444444444,
             "#bd3786"
            ],
            [
             0.5555555555555556,
             "#d8576b"
            ],
            [
             0.6666666666666666,
             "#ed7953"
            ],
            [
             0.7777777777777778,
             "#fb9f3a"
            ],
            [
             0.8888888888888888,
             "#fdca26"
            ],
            [
             1,
             "#f0f921"
            ]
           ],
           "sequentialminus": [
            [
             0,
             "#0d0887"
            ],
            [
             0.1111111111111111,
             "#46039f"
            ],
            [
             0.2222222222222222,
             "#7201a8"
            ],
            [
             0.3333333333333333,
             "#9c179e"
            ],
            [
             0.4444444444444444,
             "#bd3786"
            ],
            [
             0.5555555555555556,
             "#d8576b"
            ],
            [
             0.6666666666666666,
             "#ed7953"
            ],
            [
             0.7777777777777778,
             "#fb9f3a"
            ],
            [
             0.8888888888888888,
             "#fdca26"
            ],
            [
             1,
             "#f0f921"
            ]
           ]
          },
          "colorway": [
           "#636efa",
           "#EF553B",
           "#00cc96",
           "#ab63fa",
           "#FFA15A",
           "#19d3f3",
           "#FF6692",
           "#B6E880",
           "#FF97FF",
           "#FECB52"
          ],
          "font": {
           "color": "#2a3f5f"
          },
          "geo": {
           "bgcolor": "white",
           "lakecolor": "white",
           "landcolor": "#E5ECF6",
           "showlakes": true,
           "showland": true,
           "subunitcolor": "white"
          },
          "hoverlabel": {
           "align": "left"
          },
          "hovermode": "closest",
          "mapbox": {
           "style": "light"
          },
          "paper_bgcolor": "white",
          "plot_bgcolor": "#E5ECF6",
          "polar": {
           "angularaxis": {
            "gridcolor": "white",
            "linecolor": "white",
            "ticks": ""
           },
           "bgcolor": "#E5ECF6",
           "radialaxis": {
            "gridcolor": "white",
            "linecolor": "white",
            "ticks": ""
           }
          },
          "scene": {
           "xaxis": {
            "backgroundcolor": "#E5ECF6",
            "gridcolor": "white",
            "gridwidth": 2,
            "linecolor": "white",
            "showbackground": true,
            "ticks": "",
            "zerolinecolor": "white"
           },
           "yaxis": {
            "backgroundcolor": "#E5ECF6",
            "gridcolor": "white",
            "gridwidth": 2,
            "linecolor": "white",
            "showbackground": true,
            "ticks": "",
            "zerolinecolor": "white"
           },
           "zaxis": {
            "backgroundcolor": "#E5ECF6",
            "gridcolor": "white",
            "gridwidth": 2,
            "linecolor": "white",
            "showbackground": true,
            "ticks": "",
            "zerolinecolor": "white"
           }
          },
          "shapedefaults": {
           "line": {
            "color": "#2a3f5f"
           }
          },
          "ternary": {
           "aaxis": {
            "gridcolor": "white",
            "linecolor": "white",
            "ticks": ""
           },
           "baxis": {
            "gridcolor": "white",
            "linecolor": "white",
            "ticks": ""
           },
           "bgcolor": "#E5ECF6",
           "caxis": {
            "gridcolor": "white",
            "linecolor": "white",
            "ticks": ""
           }
          },
          "title": {
           "x": 0.05
          },
          "xaxis": {
           "automargin": true,
           "gridcolor": "white",
           "linecolor": "white",
           "ticks": "",
           "title": {
            "standoff": 15
           },
           "zerolinecolor": "white",
           "zerolinewidth": 2
          },
          "yaxis": {
           "automargin": true,
           "gridcolor": "white",
           "linecolor": "white",
           "ticks": "",
           "title": {
            "standoff": 15
           },
           "zerolinecolor": "white",
           "zerolinewidth": 2
          }
         }
        },
        "title": {
         "text": "Tổng số ca mắc Covid-19 theo từng khu vực"
        }
       }
      }
     },
     "metadata": {},
     "output_type": "display_data"
    }
   ],
   "source": [
    "#plot_bar(covid_continent, \"TotalCases\", \"Continent\", \"Tổng số ca mắc Covid-19 theo từng khu vực\")\n",
    "plot_pie(covid_continent,\"TotalCases\", \"Continent\", \"Tổng số ca mắc Covid-19 theo từng khu vực\")"
   ]
  },
  {
   "cell_type": "markdown",
   "metadata": {},
   "source": [
    "Thông qua biểu đồ trực quan hoá, ta cũng có thể nhận thấy số ca mắc Covid-19 giữa các châu lục khác nhau đều có sự khác nhau. Để có thể kết luận, ta sẽ thực hiện phép thống kê giữa hai biến Continent (catagorical) và biến TotalCases (quantitative) để có thể đưa ra nhận xét. "
   ]
  },
  {
   "cell_type": "code",
   "execution_count": 274,
   "metadata": {},
   "outputs": [],
   "source": [
    "def get_value_series(col, continent):\n",
    "    df = covid_country.loc[covid_country[\"Continent\"] == continent]\n",
    "    case_per_country = list([])\n",
    "    for value in df[col]:\n",
    "        case_per_country.append(value)\n",
    "    return pd.Series(case_per_country)"
   ]
  },
  {
   "cell_type": "code",
   "execution_count": 275,
   "metadata": {},
   "outputs": [
    {
     "data": {
      "text/html": [
       "<div>\n",
       "<style scoped>\n",
       "    .dataframe tbody tr th:only-of-type {\n",
       "        vertical-align: middle;\n",
       "    }\n",
       "\n",
       "    .dataframe tbody tr th {\n",
       "        vertical-align: top;\n",
       "    }\n",
       "\n",
       "    .dataframe thead th {\n",
       "        text-align: right;\n",
       "    }\n",
       "</style>\n",
       "<table border=\"1\" class=\"dataframe\">\n",
       "  <thead>\n",
       "    <tr style=\"text-align: right;\">\n",
       "      <th></th>\n",
       "      <th>index</th>\n",
       "      <th>Continent</th>\n",
       "      <th>TotalCases</th>\n",
       "    </tr>\n",
       "  </thead>\n",
       "  <tbody>\n",
       "    <tr>\n",
       "      <th>0</th>\n",
       "      <td>0</td>\n",
       "      <td>Asia</td>\n",
       "      <td>174331.0</td>\n",
       "    </tr>\n",
       "    <tr>\n",
       "      <th>1</th>\n",
       "      <td>1</td>\n",
       "      <td>Asia</td>\n",
       "      <td>421226.0</td>\n",
       "    </tr>\n",
       "    <tr>\n",
       "      <th>2</th>\n",
       "      <td>2</td>\n",
       "      <td>Asia</td>\n",
       "      <td>788958.0</td>\n",
       "    </tr>\n",
       "    <tr>\n",
       "      <th>3</th>\n",
       "      <td>3</td>\n",
       "      <td>Asia</td>\n",
       "      <td>525171.0</td>\n",
       "    </tr>\n",
       "    <tr>\n",
       "      <th>4</th>\n",
       "      <td>4</td>\n",
       "      <td>Asia</td>\n",
       "      <td>1946737.0</td>\n",
       "    </tr>\n",
       "    <tr>\n",
       "      <th>...</th>\n",
       "      <td>...</td>\n",
       "      <td>...</td>\n",
       "      <td>...</td>\n",
       "    </tr>\n",
       "    <tr>\n",
       "      <th>325</th>\n",
       "      <td>50</td>\n",
       "      <td>Oceania</td>\n",
       "      <td>NaN</td>\n",
       "    </tr>\n",
       "    <tr>\n",
       "      <th>326</th>\n",
       "      <td>51</td>\n",
       "      <td>Oceania</td>\n",
       "      <td>NaN</td>\n",
       "    </tr>\n",
       "    <tr>\n",
       "      <th>327</th>\n",
       "      <td>52</td>\n",
       "      <td>Oceania</td>\n",
       "      <td>NaN</td>\n",
       "    </tr>\n",
       "    <tr>\n",
       "      <th>328</th>\n",
       "      <td>53</td>\n",
       "      <td>Oceania</td>\n",
       "      <td>NaN</td>\n",
       "    </tr>\n",
       "    <tr>\n",
       "      <th>329</th>\n",
       "      <td>54</td>\n",
       "      <td>Oceania</td>\n",
       "      <td>NaN</td>\n",
       "    </tr>\n",
       "  </tbody>\n",
       "</table>\n",
       "<p>330 rows × 3 columns</p>\n",
       "</div>"
      ],
      "text/plain": [
       "     index Continent  TotalCases\n",
       "0        0      Asia    174331.0\n",
       "1        1      Asia    421226.0\n",
       "2        2      Asia    788958.0\n",
       "3        3      Asia    525171.0\n",
       "4        4      Asia   1946737.0\n",
       "..     ...       ...         ...\n",
       "325     50   Oceania         NaN\n",
       "326     51   Oceania         NaN\n",
       "327     52   Oceania         NaN\n",
       "328     53   Oceania         NaN\n",
       "329     54   Oceania         NaN\n",
       "\n",
       "[330 rows x 3 columns]"
      ]
     },
     "execution_count": 275,
     "metadata": {},
     "output_type": "execute_result"
    }
   ],
   "source": [
    "continents = covid_country[covid_country[\"Continent\"] != 0][\"Continent\"].unique()\n",
    "dict = {}\n",
    "for continent in continents:\n",
    "    serie_values = get_value_series(\"TotalCases\", continent)\n",
    "    dict[continent] = serie_values\n",
    "case_per_continent = pd.DataFrame(dict)\n",
    "df_melt = pd.melt(case_per_continent.reset_index(), id_vars=['index'], value_vars=continents)\n",
    "df_melt.columns = ['index', 'Continent', 'TotalCases']\n",
    "df_melt"
   ]
  },
  {
   "cell_type": "code",
   "execution_count": 276,
   "metadata": {},
   "outputs": [
    {
     "data": {
      "image/png": "[encoded data removed]",
      "text/plain": [
       "<Figure size 1800x720 with 1 Axes>"
      ]
     },
     "metadata": {},
     "output_type": "display_data"
    }
   ],
   "source": [
    "sns.set(rc = {'figure.figsize':(25,10)})\n",
    "sns.set(font_scale = 2)\n",
    "ax = sns.boxplot(x='Continent', y='TotalCases', data=df_melt, color='#99c2a2')\n",
    "ax.set(ylim=(0, 7500000))\n",
    "plt.show()"
   ]
  },
  {
   "cell_type": "markdown",
   "metadata": {},
   "source": [
    "Thực hiện thống kê ANOVA F-test"
   ]
  },
  {
   "cell_type": "code",
   "execution_count": 277,
   "metadata": {},
   "outputs": [
    {
     "data": {
      "text/html": [
       "<div>\n",
       "<style scoped>\n",
       "    .dataframe tbody tr th:only-of-type {\n",
       "        vertical-align: middle;\n",
       "    }\n",
       "\n",
       "    .dataframe tbody tr th {\n",
       "        vertical-align: top;\n",
       "    }\n",
       "\n",
       "    .dataframe thead th {\n",
       "        text-align: right;\n",
       "    }\n",
       "</style>\n",
       "<table border=\"1\" class=\"dataframe\">\n",
       "  <thead>\n",
       "    <tr style=\"text-align: right;\">\n",
       "      <th></th>\n",
       "      <th>df</th>\n",
       "      <th>sum_sq</th>\n",
       "      <th>mean_sq</th>\n",
       "      <th>F</th>\n",
       "      <th>PR(&gt;F)</th>\n",
       "    </tr>\n",
       "  </thead>\n",
       "  <tbody>\n",
       "    <tr>\n",
       "      <th>C(Continent)</th>\n",
       "      <td>5.0</td>\n",
       "      <td>4.046238e+14</td>\n",
       "      <td>8.092477e+13</td>\n",
       "      <td>1.720232</td>\n",
       "      <td>0.131053</td>\n",
       "    </tr>\n",
       "    <tr>\n",
       "      <th>Residual</th>\n",
       "      <td>218.0</td>\n",
       "      <td>1.025536e+16</td>\n",
       "      <td>4.704295e+13</td>\n",
       "      <td>NaN</td>\n",
       "      <td>NaN</td>\n",
       "    </tr>\n",
       "  </tbody>\n",
       "</table>\n",
       "</div>"
      ],
      "text/plain": [
       "                 df        sum_sq       mean_sq         F    PR(>F)\n",
       "C(Continent)    5.0  4.046238e+14  8.092477e+13  1.720232  0.131053\n",
       "Residual      218.0  1.025536e+16  4.704295e+13       NaN       NaN"
      ]
     },
     "execution_count": 277,
     "metadata": {},
     "output_type": "execute_result"
    }
   ],
   "source": [
    "res = stat()\n",
    "res.anova_stat(df=df_melt, res_var='TotalCases', anova_model='TotalCases ~ C(Continent)')\n",
    "res.anova_summary"
   ]
  },
  {
   "cell_type": "markdown",
   "metadata": {},
   "source": [
    "<font face=\"Cambria Math\" size=4 face=\"black body\"> Gọi H0: Số ca mắc Covid-19 trung bình giữa các khu vực như nhau</font>\n",
    "\n",
    "<font face=\"Cambria Math\" size=4 face=\"black body\"> Gọi Ha: Số ca mắc Covid-19 trung bình giữa các khu vực có sự khác nhau</font>\n",
    "\n",
    "<font face=\"Cambria Math\" size=4 color = #a61c00> Ta có P-value = 0.131053 thông qua phép thống kê ANOVA F-test </font>"
   ]
  },
  {
   "cell_type": "markdown",
   "metadata": {},
   "source": [
    "<font face=\"Cambria Math\" size=6 face=\"black body\"> Nhận xét </font>\n",
    "\n",
    "<font face=\"Cambria Math\" size=4 face=\"black body\">Ta có: P-value = 0.131053 > 0.05 → Ta chấp nhận H0, giữa hai biến Continent và TotalCases không có mối quan hệ. Sự bùng phát dịch bệnh Covid-19 có lẽ đều có thể xảy ra mà không phân biệt châu lục nào.</br>Hơn nữa, vì ta thực hiện phép thống kê ANOVA F-test trên các nhóm dữ\n",
    "liệu không đồng đều (Số nước của mỗi châu lục là khác nhau và số ca mắc giữa các nước cũng có sự chênh lệch), điều đó có thể giảm độ chính xác của phép thống kê.</font>"
   ]
  },
  {
   "cell_type": "markdown",
   "metadata": {},
   "source": [
    "## Câu 3: Dân số có phải là nguyên nhân dẫn tới việc gia tăng số ca mắc ở các nước châu Á ? **(X: Location, Population, TotalCases)**  **(Y: Số ca mắc)**"
   ]
  },
  {
   "cell_type": "markdown",
   "metadata": {},
   "source": [
    "<font face=\"Cambria Math\" size=5 color = #1155cc> Quan hệ 𝑄 → 𝑄 </font>\n",
    "\n",
    "*  <font face=\"Cambria Math\" size=4> Với Q: Biến Population (Biến quantitative) </font>\n",
    "* <font face=\"Cambria Math\" size=4>  Với 𝑄: Biến TotalCases (Biến quantitative)</font>"
   ]
  },
  {
   "cell_type": "code",
   "execution_count": 278,
   "metadata": {},
   "outputs": [
    {
     "data": {
      "text/html": [
       "<div>\n",
       "<style scoped>\n",
       "    .dataframe tbody tr th:only-of-type {\n",
       "        vertical-align: middle;\n",
       "    }\n",
       "\n",
       "    .dataframe tbody tr th {\n",
       "        vertical-align: top;\n",
       "    }\n",
       "\n",
       "    .dataframe thead th {\n",
       "        text-align: right;\n",
       "    }\n",
       "</style>\n",
       "<table border=\"1\" class=\"dataframe\">\n",
       "  <thead>\n",
       "    <tr style=\"text-align: right;\">\n",
       "      <th></th>\n",
       "      <th>Continent</th>\n",
       "      <th>Population</th>\n",
       "    </tr>\n",
       "    <tr>\n",
       "      <th>Continent</th>\n",
       "      <th></th>\n",
       "      <th></th>\n",
       "    </tr>\n",
       "  </thead>\n",
       "  <tbody>\n",
       "    <tr>\n",
       "      <th>Africa</th>\n",
       "      <td>Africa</td>\n",
       "      <td>1.371693e+09</td>\n",
       "    </tr>\n",
       "    <tr>\n",
       "      <th>Asia</th>\n",
       "      <td>Asia</td>\n",
       "      <td>4.652616e+09</td>\n",
       "    </tr>\n",
       "    <tr>\n",
       "      <th>Europe</th>\n",
       "      <td>Europe</td>\n",
       "      <td>7.506718e+08</td>\n",
       "    </tr>\n",
       "    <tr>\n",
       "      <th>North America</th>\n",
       "      <td>North America</td>\n",
       "      <td>5.928348e+08</td>\n",
       "    </tr>\n",
       "    <tr>\n",
       "      <th>Oceania</th>\n",
       "      <td>Oceania</td>\n",
       "      <td>4.320246e+07</td>\n",
       "    </tr>\n",
       "    <tr>\n",
       "      <th>South America</th>\n",
       "      <td>South America</td>\n",
       "      <td>4.339537e+08</td>\n",
       "    </tr>\n",
       "  </tbody>\n",
       "</table>\n",
       "</div>"
      ],
      "text/plain": [
       "                   Continent    Population\n",
       "Continent                                 \n",
       "Africa                Africa  1.371693e+09\n",
       "Asia                    Asia  4.652616e+09\n",
       "Europe                Europe  7.506718e+08\n",
       "North America  North America  5.928348e+08\n",
       "Oceania              Oceania  4.320246e+07\n",
       "South America  South America  4.339537e+08"
      ]
     },
     "execution_count": 278,
     "metadata": {},
     "output_type": "execute_result"
    }
   ],
   "source": [
    "covid_country = covid_df.copy()\n",
    "population_country = covid_country.groupby(by = 'Location').agg({'Continent' : 'first', 'Population': 'max'})\n",
    "population_country = population_country.groupby(by = \"Continent\").agg({'Continent' : 'first', 'Population': 'sum'})\n",
    "population_country = population_country[population_country.Continent != 0]\n",
    "population_country"
   ]
  },
  {
   "cell_type": "code",
   "execution_count": 279,
   "metadata": {},
   "outputs": [
    {
     "data": {
      "application/vnd.plotly.v1+json": {
       "config": {
        "plotlyServerURL": "https://plot.ly"
       },
       "data": [
        {
         "alignmentgroup": "True",
         "hovertemplate": "Continent=%{y}<br>Population=%{text}<extra></extra>",
         "legendgroup": "Africa",
         "marker": {
          "color": "rgb(27,158,119)",
          "pattern": {
           "shape": ""
          }
         },
         "name": "Africa",
         "offsetgroup": "Africa",
         "orientation": "h",
         "showlegend": true,
         "text": [
          1371693397
         ],
         "textposition": "auto",
         "type": "bar",
         "x": [
          1371693397
         ],
         "xaxis": "x",
         "y": [
          "Africa"
         ],
         "yaxis": "y"
        },
        {
         "alignmentgroup": "True",
         "hovertemplate": "Continent=%{y}<br>Population=%{text}<extra></extra>",
         "legendgroup": "Asia",
         "marker": {
          "color": "rgb(217,95,2)",
          "pattern": {
           "shape": ""
          }
         },
         "name": "Asia",
         "offsetgroup": "Asia",
         "orientation": "h",
         "showlegend": true,
         "text": [
          4652616087
         ],
         "textposition": "auto",
         "type": "bar",
         "x": [
          4652616087
         ],
         "xaxis": "x",
         "y": [
          "Asia"
         ],
         "yaxis": "y"
        },
        {
         "alignmentgroup": "True",
         "hovertemplate": "Continent=%{y}<br>Population=%{text}<extra></extra>",
         "legendgroup": "Europe",
         "marker": {
          "color": "rgb(117,112,179)",
          "pattern": {
           "shape": ""
          }
         },
         "name": "Europe",
         "offsetgroup": "Europe",
         "orientation": "h",
         "showlegend": true,
         "text": [
          750671838
         ],
         "textposition": "auto",
         "type": "bar",
         "x": [
          750671838
         ],
         "xaxis": "x",
         "y": [
          "Europe"
         ],
         "yaxis": "y"
        },
        {
         "alignmentgroup": "True",
         "hovertemplate": "Continent=%{y}<br>Population=%{text}<extra></extra>",
         "legendgroup": "North America",
         "marker": {
          "color": "rgb(231,41,138)",
          "pattern": {
           "shape": ""
          }
         },
         "name": "North America",
         "offsetgroup": "North America",
         "orientation": "h",
         "showlegend": true,
         "text": [
          592834824
         ],
         "textposition": "auto",
         "type": "bar",
         "x": [
          592834824
         ],
         "xaxis": "x",
         "y": [
          "North America"
         ],
         "yaxis": "y"
        },
        {
         "alignmentgroup": "True",
         "hovertemplate": "Continent=%{y}<br>Population=%{text}<extra></extra>",
         "legendgroup": "Oceania",
         "marker": {
          "color": "rgb(102,166,30)",
          "pattern": {
           "shape": ""
          }
         },
         "name": "Oceania",
         "offsetgroup": "Oceania",
         "orientation": "h",
         "showlegend": true,
         "text": [
          43202462
         ],
         "textposition": "auto",
         "type": "bar",
         "x": [
          43202462
         ],
         "xaxis": "x",
         "y": [
          "Oceania"
         ],
         "yaxis": "y"
        },
        {
         "alignmentgroup": "True",
         "hovertemplate": "Continent=%{y}<br>Population=%{text}<extra></extra>",
         "legendgroup": "South America",
         "marker": {
          "color": "rgb(230,171,2)",
          "pattern": {
           "shape": ""
          }
         },
         "name": "South America",
         "offsetgroup": "South America",
         "orientation": "h",
         "showlegend": true,
         "text": [
          433953687
         ],
         "textposition": "auto",
         "type": "bar",
         "x": [
          433953687
         ],
         "xaxis": "x",
         "y": [
          "South America"
         ],
         "yaxis": "y"
        }
       ],
       "layout": {
        "barmode": "relative",
        "height": 500,
        "legend": {
         "title": {
          "text": "Continent"
         },
         "tracegroupgap": 0
        },
        "margin": {
         "t": 60
        },
        "template": {
         "data": {
          "bar": [
           {
            "error_x": {
             "color": "#2a3f5f"
            },
            "error_y": {
             "color": "#2a3f5f"
            },
            "marker": {
             "line": {
              "color": "#E5ECF6",
              "width": 0.5
             },
             "pattern": {
              "fillmode": "overlay",
              "size": 10,
              "solidity": 0.2
             }
            },
            "type": "bar"
           }
          ],
          "barpolar": [
           {
            "marker": {
             "line": {
              "color": "#E5ECF6",
              "width": 0.5
             },
             "pattern": {
              "fillmode": "overlay",
              "size": 10,
              "solidity": 0.2
             }
            },
            "type": "barpolar"
           }
          ],
          "carpet": [
           {
            "aaxis": {
             "endlinecolor": "#2a3f5f",
             "gridcolor": "white",
             "linecolor": "white",
             "minorgridcolor": "white",
             "startlinecolor": "#2a3f5f"
            },
            "baxis": {
             "endlinecolor": "#2a3f5f",
             "gridcolor": "white",
             "linecolor": "white",
             "minorgridcolor": "white",
             "startlinecolor": "#2a3f5f"
            },
            "type": "carpet"
           }
          ],
          "choropleth": [
           {
            "colorbar": {
             "outlinewidth": 0,
             "ticks": ""
            },
            "type": "choropleth"
           }
          ],
          "contour": [
           {
            "colorbar": {
             "outlinewidth": 0,
             "ticks": ""
            },
            "colorscale": [
             [
              0,
              "#0d0887"
             ],
             [
              0.1111111111111111,
              "#46039f"
             ],
             [
              0.2222222222222222,
              "#7201a8"
             ],
             [
              0.3333333333333333,
              "#9c179e"
             ],
             [
              0.4444444444444444,
              "#bd3786"
             ],
             [
              0.5555555555555556,
              "#d8576b"
             ],
             [
              0.6666666666666666,
              "#ed7953"
             ],
             [
              0.7777777777777778,
              "#fb9f3a"
             ],
             [
              0.8888888888888888,
              "#fdca26"
             ],
             [
              1,
              "#f0f921"
             ]
            ],
            "type": "contour"
           }
          ],
          "contourcarpet": [
           {
            "colorbar": {
             "outlinewidth": 0,
             "ticks": ""
            },
            "type": "contourcarpet"
           }
          ],
          "heatmap": [
           {
            "colorbar": {
             "outlinewidth": 0,
             "ticks": ""
            },
            "colorscale": [
             [
              0,
              "#0d0887"
             ],
             [
              0.1111111111111111,
              "#46039f"
             ],
             [
              0.2222222222222222,
              "#7201a8"
             ],
             [
              0.3333333333333333,
              "#9c179e"
             ],
             [
              0.4444444444444444,
              "#bd3786"
             ],
             [
              0.5555555555555556,
              "#d8576b"
             ],
             [
              0.6666666666666666,
              "#ed7953"
             ],
             [
              0.7777777777777778,
              "#fb9f3a"
             ],
             [
              0.8888888888888888,
              "#fdca26"
             ],
             [
              1,
              "#f0f921"
             ]
            ],
            "type": "heatmap"
           }
          ],
          "heatmapgl": [
           {
            "colorbar": {
             "outlinewidth": 0,
             "ticks": ""
            },
            "colorscale": [
             [
              0,
              "#0d0887"
             ],
             [
              0.1111111111111111,
              "#46039f"
             ],
             [
              0.2222222222222222,
              "#7201a8"
             ],
             [
              0.3333333333333333,
              "#9c179e"
             ],
             [
              0.4444444444444444,
              "#bd3786"
             ],
             [
              0.5555555555555556,
              "#d8576b"
             ],
             [
              0.6666666666666666,
              "#ed7953"
             ],
             [
              0.7777777777777778,
              "#fb9f3a"
             ],
             [
              0.8888888888888888,
              "#fdca26"
             ],
             [
              1,
              "#f0f921"
             ]
            ],
            "type": "heatmapgl"
           }
          ],
          "histogram": [
           {
            "marker": {
             "pattern": {
              "fillmode": "overlay",
              "size": 10,
              "solidity": 0.2
             }
            },
            "type": "histogram"
           }
          ],
          "histogram2d": [
           {
            "colorbar": {
             "outlinewidth": 0,
             "ticks": ""
            },
            "colorscale": [
             [
              0,
              "#0d0887"
             ],
             [
              0.1111111111111111,
              "#46039f"
             ],
             [
              0.2222222222222222,
              "#7201a8"
             ],
             [
              0.3333333333333333,
              "#9c179e"
             ],
             [
              0.4444444444444444,
              "#bd3786"
             ],
             [
              0.5555555555555556,
              "#d8576b"
             ],
             [
              0.6666666666666666,
              "#ed7953"
             ],
             [
              0.7777777777777778,
              "#fb9f3a"
             ],
             [
              0.8888888888888888,
              "#fdca26"
             ],
             [
              1,
              "#f0f921"
             ]
            ],
            "type": "histogram2d"
           }
          ],
          "histogram2dcontour": [
           {
            "colorbar": {
             "outlinewidth": 0,
             "ticks": ""
            },
            "colorscale": [
             [
              0,
              "#0d0887"
             ],
             [
              0.1111111111111111,
              "#46039f"
             ],
             [
              0.2222222222222222,
              "#7201a8"
             ],
             [
              0.3333333333333333,
              "#9c179e"
             ],
             [
              0.4444444444444444,
              "#bd3786"
             ],
             [
              0.5555555555555556,
              "#d8576b"
             ],
             [
              0.6666666666666666,
              "#ed7953"
             ],
             [
              0.7777777777777778,
              "#fb9f3a"
             ],
             [
              0.8888888888888888,
              "#fdca26"
             ],
             [
              1,
              "#f0f921"
             ]
            ],
            "type": "histogram2dcontour"
           }
          ],
          "mesh3d": [
           {
            "colorbar": {
             "outlinewidth": 0,
             "ticks": ""
            },
            "type": "mesh3d"
           }
          ],
          "parcoords": [
           {
            "line": {
             "colorbar": {
              "outlinewidth": 0,
              "ticks": ""
             }
            },
            "type": "parcoords"
           }
          ],
          "pie": [
           {
            "automargin": true,
            "type": "pie"
           }
          ],
          "scatter": [
           {
            "fillpattern": {
             "fillmode": "overlay",
             "size": 10,
             "solidity": 0.2
            },
            "type": "scatter"
           }
          ],
          "scatter3d": [
           {
            "line": {
             "colorbar": {
              "outlinewidth": 0,
              "ticks": ""
             }
            },
            "marker": {
             "colorbar": {
              "outlinewidth": 0,
              "ticks": ""
             }
            },
            "type": "scatter3d"
           }
          ],
          "scattercarpet": [
           {
            "marker": {
             "colorbar": {
              "outlinewidth": 0,
              "ticks": ""
             }
            },
            "type": "scattercarpet"
           }
          ],
          "scattergeo": [
           {
            "marker": {
             "colorbar": {
              "outlinewidth": 0,
              "ticks": ""
             }
            },
            "type": "scattergeo"
           }
          ],
          "scattergl": [
           {
            "marker": {
             "colorbar": {
              "outlinewidth": 0,
              "ticks": ""
             }
            },
            "type": "scattergl"
           }
          ],
          "scattermapbox": [
           {
            "marker": {
             "colorbar": {
              "outlinewidth": 0,
              "ticks": ""
             }
            },
            "type": "scattermapbox"
           }
          ],
          "scatterpolar": [
           {
            "marker": {
             "colorbar": {
              "outlinewidth": 0,
              "ticks": ""
             }
            },
            "type": "scatterpolar"
           }
          ],
          "scatterpolargl": [
           {
            "marker": {
             "colorbar": {
              "outlinewidth": 0,
              "ticks": ""
             }
            },
            "type": "scatterpolargl"
           }
          ],
          "scatterternary": [
           {
            "marker": {
             "colorbar": {
              "outlinewidth": 0,
              "ticks": ""
             }
            },
            "type": "scatterternary"
           }
          ],
          "surface": [
           {
            "colorbar": {
             "outlinewidth": 0,
             "ticks": ""
            },
            "colorscale": [
             [
              0,
              "#0d0887"
             ],
             [
              0.1111111111111111,
              "#46039f"
             ],
             [
              0.2222222222222222,
              "#7201a8"
             ],
             [
              0.3333333333333333,
              "#9c179e"
             ],
             [
              0.4444444444444444,
              "#bd3786"
             ],
             [
              0.5555555555555556,
              "#d8576b"
             ],
             [
              0.6666666666666666,
              "#ed7953"
             ],
             [
              0.7777777777777778,
              "#fb9f3a"
             ],
             [
              0.8888888888888888,
              "#fdca26"
             ],
             [
              1,
              "#f0f921"
             ]
            ],
            "type": "surface"
           }
          ],
          "table": [
           {
            "cells": {
             "fill": {
              "color": "#EBF0F8"
             },
             "line": {
              "color": "white"
             }
            },
            "header": {
             "fill": {
              "color": "#C8D4E3"
             },
             "line": {
              "color": "white"
             }
            },
            "type": "table"
           }
          ]
         },
         "layout": {
          "annotationdefaults": {
           "arrowcolor": "#2a3f5f",
           "arrowhead": 0,
           "arrowwidth": 1
          },
          "autotypenumbers": "strict",
          "coloraxis": {
           "colorbar": {
            "outlinewidth": 0,
            "ticks": ""
           }
          },
          "colorscale": {
           "diverging": [
            [
             0,
             "#8e0152"
            ],
            [
             0.1,
             "#c51b7d"
            ],
            [
             0.2,
             "#de77ae"
            ],
            [
             0.3,
             "#f1b6da"
            ],
            [
             0.4,
             "#fde0ef"
            ],
            [
             0.5,
             "#f7f7f7"
            ],
            [
             0.6,
             "#e6f5d0"
            ],
            [
             0.7,
             "#b8e186"
            ],
            [
             0.8,
             "#7fbc41"
            ],
            [
             0.9,
             "#4d9221"
            ],
            [
             1,
             "#276419"
            ]
           ],
           "sequential": [
            [
             0,
             "#0d0887"
            ],
            [
             0.1111111111111111,
             "#46039f"
            ],
            [
             0.2222222222222222,
             "#7201a8"
            ],
            [
             0.3333333333333333,
             "#9c179e"
            ],
            [
             0.4444444444444444,
             "#bd3786"
            ],
            [
             0.5555555555555556,
             "#d8576b"
            ],
            [
             0.6666666666666666,
             "#ed7953"
            ],
            [
             0.7777777777777778,
             "#fb9f3a"
            ],
            [
             0.8888888888888888,
             "#fdca26"
            ],
            [
             1,
             "#f0f921"
            ]
           ],
           "sequentialminus": [
            [
             0,
             "#0d0887"
            ],
            [
             0.1111111111111111,
             "#46039f"
            ],
            [
             0.2222222222222222,
             "#7201a8"
            ],
            [
             0.3333333333333333,
             "#9c179e"
            ],
            [
             0.4444444444444444,
             "#bd3786"
            ],
            [
             0.5555555555555556,
             "#d8576b"
            ],
            [
             0.6666666666666666,
             "#ed7953"
            ],
            [
             0.7777777777777778,
             "#fb9f3a"
            ],
            [
             0.8888888888888888,
             "#fdca26"
            ],
            [
             1,
             "#f0f921"
            ]
           ]
          },
          "colorway": [
           "#636efa",
           "#EF553B",
           "#00cc96",
           "#ab63fa",
           "#FFA15A",
           "#19d3f3",
           "#FF6692",
           "#B6E880",
           "#FF97FF",
           "#FECB52"
          ],
          "font": {
           "color": "#2a3f5f"
          },
          "geo": {
           "bgcolor": "white",
           "lakecolor": "white",
           "landcolor": "#E5ECF6",
           "showlakes": true,
           "showland": true,
           "subunitcolor": "white"
          },
          "hoverlabel": {
           "align": "left"
          },
          "hovermode": "closest",
          "mapbox": {
           "style": "light"
          },
          "paper_bgcolor": "white",
          "plot_bgcolor": "#E5ECF6",
          "polar": {
           "angularaxis": {
            "gridcolor": "white",
            "linecolor": "white",
            "ticks": ""
           },
           "bgcolor": "#E5ECF6",
           "radialaxis": {
            "gridcolor": "white",
            "linecolor": "white",
            "ticks": ""
           }
          },
          "scene": {
           "xaxis": {
            "backgroundcolor": "#E5ECF6",
            "gridcolor": "white",
            "gridwidth": 2,
            "linecolor": "white",
            "showbackground": true,
            "ticks": "",
            "zerolinecolor": "white"
           },
           "yaxis": {
            "backgroundcolor": "#E5ECF6",
            "gridcolor": "white",
            "gridwidth": 2,
            "linecolor": "white",
            "showbackground": true,
            "ticks": "",
            "zerolinecolor": "white"
           },
           "zaxis": {
            "backgroundcolor": "#E5ECF6",
            "gridcolor": "white",
            "gridwidth": 2,
            "linecolor": "white",
            "showbackground": true,
            "ticks": "",
            "zerolinecolor": "white"
           }
          },
          "shapedefaults": {
           "line": {
            "color": "#2a3f5f"
           }
          },
          "ternary": {
           "aaxis": {
            "gridcolor": "white",
            "linecolor": "white",
            "ticks": ""
           },
           "baxis": {
            "gridcolor": "white",
            "linecolor": "white",
            "ticks": ""
           },
           "bgcolor": "#E5ECF6",
           "caxis": {
            "gridcolor": "white",
            "linecolor": "white",
            "ticks": ""
           }
          },
          "title": {
           "x": 0.05
          },
          "xaxis": {
           "automargin": true,
           "gridcolor": "white",
           "linecolor": "white",
           "ticks": "",
           "title": {
            "standoff": 15
           },
           "zerolinecolor": "white",
           "zerolinewidth": 2
          },
          "yaxis": {
           "automargin": true,
           "gridcolor": "white",
           "linecolor": "white",
           "ticks": "",
           "title": {
            "standoff": 15
           },
           "zerolinecolor": "white",
           "zerolinewidth": 2
          }
         }
        },
        "title": {
         "text": "Dân số theo khu vực trên thế giới"
        },
        "uniformtext": {
         "minsize": 8,
         "mode": "hide"
        },
        "xaxis": {
         "anchor": "y",
         "domain": [
          0,
          1
         ],
         "title": {
          "text": "Population"
         }
        },
        "yaxis": {
         "anchor": "x",
         "categoryarray": [
          "South America",
          "Oceania",
          "North America",
          "Europe",
          "Asia",
          "Africa"
         ],
         "categoryorder": "total ascending",
         "domain": [
          0,
          1
         ],
         "title": {
          "text": "Continent"
         }
        }
       }
      }
     },
     "metadata": {},
     "output_type": "display_data"
    }
   ],
   "source": [
    "plot_bar(population_country, \"Population\", \"Continent\", \"Dân số theo khu vực trên thế giới\")"
   ]
  },
  {
   "cell_type": "markdown",
   "metadata": {},
   "source": [
    "Từ biểu đồ trên, ta có thể thấy châu Á là châu lục có số dân đông nhất thế giới, vượt xa các châu lục khác. \n",
    "\n",
    "Châu Á là nơi dự đoán có thể có số ca mắc Covid-19 nhiều nhất trên thế giới do dân số đông. \n",
    "\n",
    "Ta cùng thực hiện phép thông kê để kiểm chứng liệu dân số đông có phải là nguyên nhân dẫn tới gia tăng số ca mắc hay không ?"
   ]
  },
  {
   "cell_type": "code",
   "execution_count": 280,
   "metadata": {},
   "outputs": [
    {
     "data": {
      "text/html": [
       "<div>\n",
       "<style scoped>\n",
       "    .dataframe tbody tr th:only-of-type {\n",
       "        vertical-align: middle;\n",
       "    }\n",
       "\n",
       "    .dataframe tbody tr th {\n",
       "        vertical-align: top;\n",
       "    }\n",
       "\n",
       "    .dataframe thead th {\n",
       "        text-align: right;\n",
       "    }\n",
       "</style>\n",
       "<table border=\"1\" class=\"dataframe\">\n",
       "  <thead>\n",
       "    <tr style=\"text-align: right;\">\n",
       "      <th></th>\n",
       "      <th>Continent</th>\n",
       "      <th>Location</th>\n",
       "      <th>TotalCases</th>\n",
       "      <th>Population</th>\n",
       "    </tr>\n",
       "    <tr>\n",
       "      <th>Location</th>\n",
       "      <th></th>\n",
       "      <th></th>\n",
       "      <th></th>\n",
       "      <th></th>\n",
       "    </tr>\n",
       "  </thead>\n",
       "  <tbody>\n",
       "    <tr>\n",
       "      <th>Afghanistan</th>\n",
       "      <td>Asia</td>\n",
       "      <td>Afghanistan</td>\n",
       "      <td>174331.0</td>\n",
       "      <td>39835428.0</td>\n",
       "    </tr>\n",
       "    <tr>\n",
       "      <th>Armenia</th>\n",
       "      <td>Asia</td>\n",
       "      <td>Armenia</td>\n",
       "      <td>421226.0</td>\n",
       "      <td>2968128.0</td>\n",
       "    </tr>\n",
       "    <tr>\n",
       "      <th>Azerbaijan</th>\n",
       "      <td>Asia</td>\n",
       "      <td>Azerbaijan</td>\n",
       "      <td>788958.0</td>\n",
       "      <td>10223344.0</td>\n",
       "    </tr>\n",
       "    <tr>\n",
       "      <th>Bahrain</th>\n",
       "      <td>Asia</td>\n",
       "      <td>Bahrain</td>\n",
       "      <td>525171.0</td>\n",
       "      <td>1748295.0</td>\n",
       "    </tr>\n",
       "    <tr>\n",
       "      <th>Bangladesh</th>\n",
       "      <td>Asia</td>\n",
       "      <td>Bangladesh</td>\n",
       "      <td>1946737.0</td>\n",
       "      <td>166303494.0</td>\n",
       "    </tr>\n",
       "  </tbody>\n",
       "</table>\n",
       "</div>"
      ],
      "text/plain": [
       "            Continent     Location  TotalCases   Population\n",
       "Location                                                   \n",
       "Afghanistan      Asia  Afghanistan    174331.0   39835428.0\n",
       "Armenia          Asia      Armenia    421226.0    2968128.0\n",
       "Azerbaijan       Asia   Azerbaijan    788958.0   10223344.0\n",
       "Bahrain          Asia      Bahrain    525171.0    1748295.0\n",
       "Bangladesh       Asia   Bangladesh   1946737.0  166303494.0"
      ]
     },
     "execution_count": 280,
     "metadata": {},
     "output_type": "execute_result"
    }
   ],
   "source": [
    "cases_country = covid_country.groupby(by = 'Location').agg({'Continent' : 'first','Location' : 'first', 'TotalCases': 'max', 'Population': 'max'})\n",
    "cases_country = cases_country[cases_country[\"Continent\"] != 0]\n",
    "cases_Asia = cases_country.loc[cases_country['Continent'] == \"Asia\"]\n",
    "cases_Asia.head()"
   ]
  },
  {
   "cell_type": "code",
   "execution_count": 281,
   "metadata": {},
   "outputs": [
    {
     "data": {
      "application/vnd.plotly.v1+json": {
       "config": {
        "plotlyServerURL": "https://plot.ly"
       },
       "data": [
        {
         "hovertemplate": "<b>%{hovertext}</b><br><br>Population=%{x}<br>TotalCases=%{marker.color}<extra></extra>",
         "hovertext": [
          "Afghanistan",
          "Armenia",
          "Azerbaijan",
          "Bahrain",
          "Bangladesh",
          "Bhutan",
          "Brunei",
          "Cambodia",
          "China",
          "Georgia",
          "Hong Kong",
          "India",
          "Indonesia",
          "Iran",
          "Iraq",
          "Israel",
          "Japan",
          "Jordan",
          "Kazakhstan",
          "Kuwait",
          "Kyrgyzstan",
          "Laos",
          "Lebanon",
          "Macao",
          "Malaysia",
          "Maldives",
          "Mongolia",
          "Myanmar",
          "Nepal",
          "Oman",
          "Pakistan",
          "Palestine",
          "Philippines",
          "Qatar",
          "Saudi Arabia",
          "Singapore",
          "South Korea",
          "Sri Lanka",
          "Syria",
          "Taiwan",
          "Tajikistan",
          "Thailand",
          "Timor",
          "Turkey",
          "Turkmenistan",
          "United Arab Emirates",
          "Uzbekistan",
          "Vietnam",
          "Yemen"
         ],
         "legendgroup": "",
         "marker": {
          "color": [
           174331,
           421226,
           788958,
           525171,
           1946737,
           14451,
           84844,
           132072,
           110868,
           1623672,
           440609,
           42962953,
           5723858,
           7084306,
           2307555,
           3669112,
           5341246,
           1638228,
           1391984,
           622489,
           200615,
           143969,
           1077242,
           82,
           3595172,
           172270,
           911183,
           597417,
           977447,
           383874,
           1514258,
           649971,
           3666678,
           358083,
           747119,
           819663,
           4456264,
           649632,
           54963,
           20797,
           17786,
           3026695,
           22741,
           14326217,
           0,
           882477,
           236840,
           4232520,
           11775
          ],
          "coloraxis": "coloraxis",
          "size": [
           174331,
           421226,
           788958,
           525171,
           1946737,
           14451,
           84844,
           132072,
           110868,
           1623672,
           440609,
           42962953,
           5723858,
           7084306,
           2307555,
           3669112,
           5341246,
           1638228,
           1391984,
           622489,
           200615,
           143969,
           1077242,
           82,
           3595172,
           172270,
           911183,
           597417,
           977447,
           383874,
           1514258,
           649971,
           3666678,
           358083,
           747119,
           819663,
           4456264,
           649632,
           54963,
           20797,
           17786,
           3026695,
           22741,
           14326217,
           0,
           882477,
           236840,
           4232520,
           11775
          ],
          "sizemode": "area",
          "sizeref": 107407.3825,
          "symbol": "circle"
         },
         "mode": "markers",
         "name": "",
         "orientation": "v",
         "showlegend": false,
         "type": "scatter",
         "x": [
          39835428,
          2968128,
          10223344,
          1748295,
          166303494,
          779900,
          441532,
          16946446,
          1444216102,
          3979773,
          7552800,
          1393409033,
          276361788,
          85028760,
          41179351,
          9291000,
          126050796,
          10269022,
          18994958,
          4328553,
          6628347,
          7379358,
          6769151,
          658391,
          32776195,
          543620,
          3329282,
          54806014,
          29674920,
          5223376,
          225199929,
          5222756,
          111046910,
          2930524,
          35340680,
          5453600,
          51305184,
          21497306,
          18275704,
          23855008,
          9749625,
          69950844,
          1343875,
          85042736,
          6117933,
          9991083,
          33935765,
          98168829,
          30490639
         ],
         "xaxis": "x",
         "y": [
          174331,
          421226,
          788958,
          525171,
          1946737,
          14451,
          84844,
          132072,
          110868,
          1623672,
          440609,
          42962953,
          5723858,
          7084306,
          2307555,
          3669112,
          5341246,
          1638228,
          1391984,
          622489,
          200615,
          143969,
          1077242,
          82,
          3595172,
          172270,
          911183,
          597417,
          977447,
          383874,
          1514258,
          649971,
          3666678,
          358083,
          747119,
          819663,
          4456264,
          649632,
          54963,
          20797,
          17786,
          3026695,
          22741,
          14326217,
          0,
          882477,
          236840,
          4232520,
          11775
         ],
         "yaxis": "y"
        }
       ],
       "layout": {
        "coloraxis": {
         "colorbar": {
          "title": {
           "text": "TotalCases"
          }
         },
         "colorscale": [
          [
           0,
           "#0d0887"
          ],
          [
           0.1111111111111111,
           "#46039f"
          ],
          [
           0.2222222222222222,
           "#7201a8"
          ],
          [
           0.3333333333333333,
           "#9c179e"
          ],
          [
           0.4444444444444444,
           "#bd3786"
          ],
          [
           0.5555555555555556,
           "#d8576b"
          ],
          [
           0.6666666666666666,
           "#ed7953"
          ],
          [
           0.7777777777777778,
           "#fb9f3a"
          ],
          [
           0.8888888888888888,
           "#fdca26"
          ],
          [
           1,
           "#f0f921"
          ]
         ]
        },
        "legend": {
         "itemsizing": "constant",
         "tracegroupgap": 0
        },
        "template": {
         "data": {
          "bar": [
           {
            "error_x": {
             "color": "#2a3f5f"
            },
            "error_y": {
             "color": "#2a3f5f"
            },
            "marker": {
             "line": {
              "color": "#E5ECF6",
              "width": 0.5
             },
             "pattern": {
              "fillmode": "overlay",
              "size": 10,
              "solidity": 0.2
             }
            },
            "type": "bar"
           }
          ],
          "barpolar": [
           {
            "marker": {
             "line": {
              "color": "#E5ECF6",
              "width": 0.5
             },
             "pattern": {
              "fillmode": "overlay",
              "size": 10,
              "solidity": 0.2
             }
            },
            "type": "barpolar"
           }
          ],
          "carpet": [
           {
            "aaxis": {
             "endlinecolor": "#2a3f5f",
             "gridcolor": "white",
             "linecolor": "white",
             "minorgridcolor": "white",
             "startlinecolor": "#2a3f5f"
            },
            "baxis": {
             "endlinecolor": "#2a3f5f",
             "gridcolor": "white",
             "linecolor": "white",
             "minorgridcolor": "white",
             "startlinecolor": "#2a3f5f"
            },
            "type": "carpet"
           }
          ],
          "choropleth": [
           {
            "colorbar": {
             "outlinewidth": 0,
             "ticks": ""
            },
            "type": "choropleth"
           }
          ],
          "contour": [
           {
            "colorbar": {
             "outlinewidth": 0,
             "ticks": ""
            },
            "colorscale": [
             [
              0,
              "#0d0887"
             ],
             [
              0.1111111111111111,
              "#46039f"
             ],
             [
              0.2222222222222222,
              "#7201a8"
             ],
             [
              0.3333333333333333,
              "#9c179e"
             ],
             [
              0.4444444444444444,
              "#bd3786"
             ],
             [
              0.5555555555555556,
              "#d8576b"
             ],
             [
              0.6666666666666666,
              "#ed7953"
             ],
             [
              0.7777777777777778,
              "#fb9f3a"
             ],
             [
              0.8888888888888888,
              "#fdca26"
             ],
             [
              1,
              "#f0f921"
             ]
            ],
            "type": "contour"
           }
          ],
          "contourcarpet": [
           {
            "colorbar": {
             "outlinewidth": 0,
             "ticks": ""
            },
            "type": "contourcarpet"
           }
          ],
          "heatmap": [
           {
            "colorbar": {
             "outlinewidth": 0,
             "ticks": ""
            },
            "colorscale": [
             [
              0,
              "#0d0887"
             ],
             [
              0.1111111111111111,
              "#46039f"
             ],
             [
              0.2222222222222222,
              "#7201a8"
             ],
             [
              0.3333333333333333,
              "#9c179e"
             ],
             [
              0.4444444444444444,
              "#bd3786"
             ],
             [
              0.5555555555555556,
              "#d8576b"
             ],
             [
              0.6666666666666666,
              "#ed7953"
             ],
             [
              0.7777777777777778,
              "#fb9f3a"
             ],
             [
              0.8888888888888888,
              "#fdca26"
             ],
             [
              1,
              "#f0f921"
             ]
            ],
            "type": "heatmap"
           }
          ],
          "heatmapgl": [
           {
            "colorbar": {
             "outlinewidth": 0,
             "ticks": ""
            },
            "colorscale": [
             [
              0,
              "#0d0887"
             ],
             [
              0.1111111111111111,
              "#46039f"
             ],
             [
              0.2222222222222222,
              "#7201a8"
             ],
             [
              0.3333333333333333,
              "#9c179e"
             ],
             [
              0.4444444444444444,
              "#bd3786"
             ],
             [
              0.5555555555555556,
              "#d8576b"
             ],
             [
              0.6666666666666666,
              "#ed7953"
             ],
             [
              0.7777777777777778,
              "#fb9f3a"
             ],
             [
              0.8888888888888888,
              "#fdca26"
             ],
             [
              1,
              "#f0f921"
             ]
            ],
            "type": "heatmapgl"
           }
          ],
          "histogram": [
           {
            "marker": {
             "pattern": {
              "fillmode": "overlay",
              "size": 10,
              "solidity": 0.2
             }
            },
            "type": "histogram"
           }
          ],
          "histogram2d": [
           {
            "colorbar": {
             "outlinewidth": 0,
             "ticks": ""
            },
            "colorscale": [
             [
              0,
              "#0d0887"
             ],
             [
              0.1111111111111111,
              "#46039f"
             ],
             [
              0.2222222222222222,
              "#7201a8"
             ],
             [
              0.3333333333333333,
              "#9c179e"
             ],
             [
              0.4444444444444444,
              "#bd3786"
             ],
             [
              0.5555555555555556,
              "#d8576b"
             ],
             [
              0.6666666666666666,
              "#ed7953"
             ],
             [
              0.7777777777777778,
              "#fb9f3a"
             ],
             [
              0.8888888888888888,
              "#fdca26"
             ],
             [
              1,
              "#f0f921"
             ]
            ],
            "type": "histogram2d"
           }
          ],
          "histogram2dcontour": [
           {
            "colorbar": {
             "outlinewidth": 0,
             "ticks": ""
            },
            "colorscale": [
             [
              0,
              "#0d0887"
             ],
             [
              0.1111111111111111,
              "#46039f"
             ],
             [
              0.2222222222222222,
              "#7201a8"
             ],
             [
              0.3333333333333333,
              "#9c179e"
             ],
             [
              0.4444444444444444,
              "#bd3786"
             ],
             [
              0.5555555555555556,
              "#d8576b"
             ],
             [
              0.6666666666666666,
              "#ed7953"
             ],
             [
              0.7777777777777778,
              "#fb9f3a"
             ],
             [
              0.8888888888888888,
              "#fdca26"
             ],
             [
              1,
              "#f0f921"
             ]
            ],
            "type": "histogram2dcontour"
           }
          ],
          "mesh3d": [
           {
            "colorbar": {
             "outlinewidth": 0,
             "ticks": ""
            },
            "type": "mesh3d"
           }
          ],
          "parcoords": [
           {
            "line": {
             "colorbar": {
              "outlinewidth": 0,
              "ticks": ""
             }
            },
            "type": "parcoords"
           }
          ],
          "pie": [
           {
            "automargin": true,
            "type": "pie"
           }
          ],
          "scatter": [
           {
            "fillpattern": {
             "fillmode": "overlay",
             "size": 10,
             "solidity": 0.2
            },
            "type": "scatter"
           }
          ],
          "scatter3d": [
           {
            "line": {
             "colorbar": {
              "outlinewidth": 0,
              "ticks": ""
             }
            },
            "marker": {
             "colorbar": {
              "outlinewidth": 0,
              "ticks": ""
             }
            },
            "type": "scatter3d"
           }
          ],
          "scattercarpet": [
           {
            "marker": {
             "colorbar": {
              "outlinewidth": 0,
              "ticks": ""
             }
            },
            "type": "scattercarpet"
           }
          ],
          "scattergeo": [
           {
            "marker": {
             "colorbar": {
              "outlinewidth": 0,
              "ticks": ""
             }
            },
            "type": "scattergeo"
           }
          ],
          "scattergl": [
           {
            "marker": {
             "colorbar": {
              "outlinewidth": 0,
              "ticks": ""
             }
            },
            "type": "scattergl"
           }
          ],
          "scattermapbox": [
           {
            "marker": {
             "colorbar": {
              "outlinewidth": 0,
              "ticks": ""
             }
            },
            "type": "scattermapbox"
           }
          ],
          "scatterpolar": [
           {
            "marker": {
             "colorbar": {
              "outlinewidth": 0,
              "ticks": ""
             }
            },
            "type": "scatterpolar"
           }
          ],
          "scatterpolargl": [
           {
            "marker": {
             "colorbar": {
              "outlinewidth": 0,
              "ticks": ""
             }
            },
            "type": "scatterpolargl"
           }
          ],
          "scatterternary": [
           {
            "marker": {
             "colorbar": {
              "outlinewidth": 0,
              "ticks": ""
             }
            },
            "type": "scatterternary"
           }
          ],
          "surface": [
           {
            "colorbar": {
             "outlinewidth": 0,
             "ticks": ""
            },
            "colorscale": [
             [
              0,
              "#0d0887"
             ],
             [
              0.1111111111111111,
              "#46039f"
             ],
             [
              0.2222222222222222,
              "#7201a8"
             ],
             [
              0.3333333333333333,
              "#9c179e"
             ],
             [
              0.4444444444444444,
              "#bd3786"
             ],
             [
              0.5555555555555556,
              "#d8576b"
             ],
             [
              0.6666666666666666,
              "#ed7953"
             ],
             [
              0.7777777777777778,
              "#fb9f3a"
             ],
             [
              0.8888888888888888,
              "#fdca26"
             ],
             [
              1,
              "#f0f921"
             ]
            ],
            "type": "surface"
           }
          ],
          "table": [
           {
            "cells": {
             "fill": {
              "color": "#EBF0F8"
             },
             "line": {
              "color": "white"
             }
            },
            "header": {
             "fill": {
              "color": "#C8D4E3"
             },
             "line": {
              "color": "white"
             }
            },
            "type": "table"
           }
          ]
         },
         "layout": {
          "annotationdefaults": {
           "arrowcolor": "#2a3f5f",
           "arrowhead": 0,
           "arrowwidth": 1
          },
          "autotypenumbers": "strict",
          "coloraxis": {
           "colorbar": {
            "outlinewidth": 0,
            "ticks": ""
           }
          },
          "colorscale": {
           "diverging": [
            [
             0,
             "#8e0152"
            ],
            [
             0.1,
             "#c51b7d"
            ],
            [
             0.2,
             "#de77ae"
            ],
            [
             0.3,
             "#f1b6da"
            ],
            [
             0.4,
             "#fde0ef"
            ],
            [
             0.5,
             "#f7f7f7"
            ],
            [
             0.6,
             "#e6f5d0"
            ],
            [
             0.7,
             "#b8e186"
            ],
            [
             0.8,
             "#7fbc41"
            ],
            [
             0.9,
             "#4d9221"
            ],
            [
             1,
             "#276419"
            ]
           ],
           "sequential": [
            [
             0,
             "#0d0887"
            ],
            [
             0.1111111111111111,
             "#46039f"
            ],
            [
             0.2222222222222222,
             "#7201a8"
            ],
            [
             0.3333333333333333,
             "#9c179e"
            ],
            [
             0.4444444444444444,
             "#bd3786"
            ],
            [
             0.5555555555555556,
             "#d8576b"
            ],
            [
             0.6666666666666666,
             "#ed7953"
            ],
            [
             0.7777777777777778,
             "#fb9f3a"
            ],
            [
             0.8888888888888888,
             "#fdca26"
            ],
            [
             1,
             "#f0f921"
            ]
           ],
           "sequentialminus": [
            [
             0,
             "#0d0887"
            ],
            [
             0.1111111111111111,
             "#46039f"
            ],
            [
             0.2222222222222222,
             "#7201a8"
            ],
            [
             0.3333333333333333,
             "#9c179e"
            ],
            [
             0.4444444444444444,
             "#bd3786"
            ],
            [
             0.5555555555555556,
             "#d8576b"
            ],
            [
             0.6666666666666666,
             "#ed7953"
            ],
            [
             0.7777777777777778,
             "#fb9f3a"
            ],
            [
             0.8888888888888888,
             "#fdca26"
            ],
            [
             1,
             "#f0f921"
            ]
           ]
          },
          "colorway": [
           "#636efa",
           "#EF553B",
           "#00cc96",
           "#ab63fa",
           "#FFA15A",
           "#19d3f3",
           "#FF6692",
           "#B6E880",
           "#FF97FF",
           "#FECB52"
          ],
          "font": {
           "color": "#2a3f5f"
          },
          "geo": {
           "bgcolor": "white",
           "lakecolor": "white",
           "landcolor": "#E5ECF6",
           "showlakes": true,
           "showland": true,
           "subunitcolor": "white"
          },
          "hoverlabel": {
           "align": "left"
          },
          "hovermode": "closest",
          "mapbox": {
           "style": "light"
          },
          "paper_bgcolor": "white",
          "plot_bgcolor": "#E5ECF6",
          "polar": {
           "angularaxis": {
            "gridcolor": "white",
            "linecolor": "white",
            "ticks": ""
           },
           "bgcolor": "#E5ECF6",
           "radialaxis": {
            "gridcolor": "white",
            "linecolor": "white",
            "ticks": ""
           }
          },
          "scene": {
           "xaxis": {
            "backgroundcolor": "#E5ECF6",
            "gridcolor": "white",
            "gridwidth": 2,
            "linecolor": "white",
            "showbackground": true,
            "ticks": "",
            "zerolinecolor": "white"
           },
           "yaxis": {
            "backgroundcolor": "#E5ECF6",
            "gridcolor": "white",
            "gridwidth": 2,
            "linecolor": "white",
            "showbackground": true,
            "ticks": "",
            "zerolinecolor": "white"
           },
           "zaxis": {
            "backgroundcolor": "#E5ECF6",
            "gridcolor": "white",
            "gridwidth": 2,
            "linecolor": "white",
            "showbackground": true,
            "ticks": "",
            "zerolinecolor": "white"
           }
          },
          "shapedefaults": {
           "line": {
            "color": "#2a3f5f"
           }
          },
          "ternary": {
           "aaxis": {
            "gridcolor": "white",
            "linecolor": "white",
            "ticks": ""
           },
           "baxis": {
            "gridcolor": "white",
            "linecolor": "white",
            "ticks": ""
           },
           "bgcolor": "#E5ECF6",
           "caxis": {
            "gridcolor": "white",
            "linecolor": "white",
            "ticks": ""
           }
          },
          "title": {
           "x": 0.05
          },
          "xaxis": {
           "automargin": true,
           "gridcolor": "white",
           "linecolor": "white",
           "ticks": "",
           "title": {
            "standoff": 15
           },
           "zerolinecolor": "white",
           "zerolinewidth": 2
          },
          "yaxis": {
           "automargin": true,
           "gridcolor": "white",
           "linecolor": "white",
           "ticks": "",
           "title": {
            "standoff": 15
           },
           "zerolinecolor": "white",
           "zerolinewidth": 2
          }
         }
        },
        "title": {
         "text": "Biểu đồ thể hiện sự tương quan giữa dân số và số ca mắc ở các nước châu Á"
        },
        "xaxis": {
         "anchor": "y",
         "domain": [
          0,
          1
         ],
         "title": {
          "text": "Population"
         }
        },
        "yaxis": {
         "anchor": "x",
         "domain": [
          0,
          1
         ],
         "title": {
          "text": "TotalCases"
         }
        }
       }
      }
     },
     "metadata": {},
     "output_type": "display_data"
    }
   ],
   "source": [
    "fig = px.scatter(cases_Asia, x=\"Population\", y=\"TotalCases\", color = \"TotalCases\",\n",
    "                 size='TotalCases', hover_name= \"Location\", title=\"Biểu đồ thể hiện sự tương quan giữa dân số và số ca mắc ở các nước châu Á\")\n",
    "fig.show()\n"
   ]
  },
  {
   "cell_type": "markdown",
   "metadata": {},
   "source": [
    "***Tính hệ số tương quan để xem mối quan hệ giữa hai biến***"
   ]
  },
  {
   "cell_type": "code",
   "execution_count": 282,
   "metadata": {},
   "outputs": [
    {
     "data": {
      "text/plain": [
       "array([[1.        , 0.63340569],\n",
       "       [0.63340569, 1.        ]])"
      ]
     },
     "execution_count": 282,
     "metadata": {},
     "output_type": "execute_result"
    }
   ],
   "source": [
    "R = np.corrcoef(cases_Asia[\"Population\"], cases_Asia[\"TotalCases\"])\n",
    "R"
   ]
  },
  {
   "cell_type": "markdown",
   "metadata": {},
   "source": [
    "Theo biểu đồ, ta thấy có 2 giá trị ngoại lai ứng với 2 nước là Trung Quốc và Ấn Độ.\n",
    "\n",
    "Trung Quốc là nước đông dân nhất thế giới, đồng thời là nơi khởi nguồn của dịch bệnh nhưng số ca mắc Covid-19 ở nước này lại không cao. \n",
    "\n",
    "Còn trường hợp là Ấn Độ, nước có dân số đông chỉ sau Trung Quốc và số ca mắc cũng tăng nhanh.\n",
    "\n",
    "Ta thử bỏ điểm dữ liệu này để xem sự khác biệt về hệ số tương quan\n",
    " "
   ]
  },
  {
   "cell_type": "code",
   "execution_count": 283,
   "metadata": {},
   "outputs": [],
   "source": [
    "cases_Asia = cases_Asia.loc[cases_Asia['Location'] != \"India\"]\n",
    "cases_Asia = cases_Asia.loc[cases_Asia['Location'] != \"China\"]"
   ]
  },
  {
   "cell_type": "code",
   "execution_count": 284,
   "metadata": {},
   "outputs": [
    {
     "data": {
      "application/vnd.plotly.v1+json": {
       "config": {
        "plotlyServerURL": "https://plot.ly"
       },
       "data": [
        {
         "hovertemplate": "<b>%{hovertext}</b><br><br>Population=%{x}<br>TotalCases=%{marker.color}<extra></extra>",
         "hovertext": [
          "Afghanistan",
          "Armenia",
          "Azerbaijan",
          "Bahrain",
          "Bangladesh",
          "Bhutan",
          "Brunei",
          "Cambodia",
          "Georgia",
          "Hong Kong",
          "Indonesia",
          "Iran",
          "Iraq",
          "Israel",
          "Japan",
          "Jordan",
          "Kazakhstan",
          "Kuwait",
          "Kyrgyzstan",
          "Laos",
          "Lebanon",
          "Macao",
          "Malaysia",
          "Maldives",
          "Mongolia",
          "Myanmar",
          "Nepal",
          "Oman",
          "Pakistan",
          "Palestine",
          "Philippines",
          "Qatar",
          "Saudi Arabia",
          "Singapore",
          "South Korea",
          "Sri Lanka",
          "Syria",
          "Taiwan",
          "Tajikistan",
          "Thailand",
          "Timor",
          "Turkey",
          "Turkmenistan",
          "United Arab Emirates",
          "Uzbekistan",
          "Vietnam",
          "Yemen"
         ],
         "legendgroup": "",
         "marker": {
          "color": [
           174331,
           421226,
           788958,
           525171,
           1946737,
           14451,
           84844,
           132072,
           1623672,
           440609,
           5723858,
           7084306,
           2307555,
           3669112,
           5341246,
           1638228,
           1391984,
           622489,
           200615,
           143969,
           1077242,
           82,
           3595172,
           172270,
           911183,
           597417,
           977447,
           383874,
           1514258,
           649971,
           3666678,
           358083,
           747119,
           819663,
           4456264,
           649632,
           54963,
           20797,
           17786,
           3026695,
           22741,
           14326217,
           0,
           882477,
           236840,
           4232520,
           11775
          ],
          "coloraxis": "coloraxis",
          "size": [
           174331,
           421226,
           788958,
           525171,
           1946737,
           14451,
           84844,
           132072,
           1623672,
           440609,
           5723858,
           7084306,
           2307555,
           3669112,
           5341246,
           1638228,
           1391984,
           622489,
           200615,
           143969,
           1077242,
           82,
           3595172,
           172270,
           911183,
           597417,
           977447,
           383874,
           1514258,
           649971,
           3666678,
           358083,
           747119,
           819663,
           4456264,
           649632,
           54963,
           20797,
           17786,
           3026695,
           22741,
           14326217,
           0,
           882477,
           236840,
           4232520,
           11775
          ],
          "sizemode": "area",
          "sizeref": 35815.5425,
          "symbol": "circle"
         },
         "mode": "markers",
         "name": "",
         "orientation": "v",
         "showlegend": false,
         "type": "scatter",
         "x": [
          39835428,
          2968128,
          10223344,
          1748295,
          166303494,
          779900,
          441532,
          16946446,
          3979773,
          7552800,
          276361788,
          85028760,
          41179351,
          9291000,
          126050796,
          10269022,
          18994958,
          4328553,
          6628347,
          7379358,
          6769151,
          658391,
          32776195,
          543620,
          3329282,
          54806014,
          29674920,
          5223376,
          225199929,
          5222756,
          111046910,
          2930524,
          35340680,
          5453600,
          51305184,
          21497306,
          18275704,
          23855008,
          9749625,
          69950844,
          1343875,
          85042736,
          6117933,
          9991083,
          33935765,
          98168829,
          30490639
         ],
         "xaxis": "x",
         "y": [
          174331,
          421226,
          788958,
          525171,
          1946737,
          14451,
          84844,
          132072,
          1623672,
          440609,
          5723858,
          7084306,
          2307555,
          3669112,
          5341246,
          1638228,
          1391984,
          622489,
          200615,
          143969,
          1077242,
          82,
          3595172,
          172270,
          911183,
          597417,
          977447,
          383874,
          1514258,
          649971,
          3666678,
          358083,
          747119,
          819663,
          4456264,
          649632,
          54963,
          20797,
          17786,
          3026695,
          22741,
          14326217,
          0,
          882477,
          236840,
          4232520,
          11775
         ],
         "yaxis": "y"
        },
        {
         "hovertemplate": "<b>OLS trendline</b><br>TotalCases = 0.0218317 * Population + 809794<br>R<sup>2</sup>=0.250855<br><br>Population=%{x}<br>TotalCases=%{y} <b>(trend)</b><extra></extra>",
         "legendgroup": "",
         "marker": {
          "symbol": "circle"
         },
         "mode": "lines",
         "name": "",
         "showlegend": false,
         "type": "scatter",
         "x": [
          441532,
          543620,
          658391,
          779900,
          1343875,
          1748295,
          2930524,
          2968128,
          3329282,
          3979773,
          4328553,
          5222756,
          5223376,
          5453600,
          6117933,
          6628347,
          6769151,
          7379358,
          7552800,
          9291000,
          9749625,
          9991083,
          10223344,
          10269022,
          16946446,
          18275704,
          18994958,
          21497306,
          23855008,
          29674920,
          30490639,
          32776195,
          33935765,
          35340680,
          39835428,
          41179351,
          51305184,
          54806014,
          69950844,
          85028760,
          85042736,
          98168829,
          111046910,
          126050796,
          166303494,
          225199929,
          276361788
         ],
         "xaxis": "x",
         "y": [
          819433.7315339133,
          821662.4819800466,
          824168.1233625123,
          826820.8664661016,
          839133.3765834322,
          847962.5362831544,
          873772.5571590826,
          874593.5148796412,
          882478.1060032095,
          896679.4039662974,
          904293.8501362917,
          923815.7854781905,
          923829.3211070264,
          928855.4930636776,
          943358.9848563573,
          954502.1694638792,
          957576.1544358383,
          970897.9858311412,
          974684.512503015,
          1012632.3028943338,
          1022644.8476925265,
          1027916.276511021,
          1032986.919557896,
          1033984.1460965535,
          1179763.392619371,
          1208783.300547103,
          1224485.808906393,
          1279116.2181746794,
          1330588.765235543,
          1457647.1018319766,
          1475455.6012165216,
          1525353.0813773898,
          1550668.4186826835,
          1581340.0444666091,
          1679467.8519489467,
          1708807.9211619673,
          1929871.658488799,
          2006300.586710891,
          2336937.357135558,
          2666113.2839022772,
          2666418.403174231,
          2952982.7949708924,
          3234132.673253267,
          3561692.4022736577,
          4440475.595455717,
          5726282.505003486,
          6843230.785616883
         ],
         "yaxis": "y"
        }
       ],
       "layout": {
        "coloraxis": {
         "colorbar": {
          "title": {
           "text": "TotalCases"
          }
         },
         "colorscale": [
          [
           0,
           "#0d0887"
          ],
          [
           0.1111111111111111,
           "#46039f"
          ],
          [
           0.2222222222222222,
           "#7201a8"
          ],
          [
           0.3333333333333333,
           "#9c179e"
          ],
          [
           0.4444444444444444,
           "#bd3786"
          ],
          [
           0.5555555555555556,
           "#d8576b"
          ],
          [
           0.6666666666666666,
           "#ed7953"
          ],
          [
           0.7777777777777778,
           "#fb9f3a"
          ],
          [
           0.8888888888888888,
           "#fdca26"
          ],
          [
           1,
           "#f0f921"
          ]
         ]
        },
        "legend": {
         "itemsizing": "constant",
         "tracegroupgap": 0
        },
        "template": {
         "data": {
          "bar": [
           {
            "error_x": {
             "color": "#2a3f5f"
            },
            "error_y": {
             "color": "#2a3f5f"
            },
            "marker": {
             "line": {
              "color": "#E5ECF6",
              "width": 0.5
             },
             "pattern": {
              "fillmode": "overlay",
              "size": 10,
              "solidity": 0.2
             }
            },
            "type": "bar"
           }
          ],
          "barpolar": [
           {
            "marker": {
             "line": {
              "color": "#E5ECF6",
              "width": 0.5
             },
             "pattern": {
              "fillmode": "overlay",
              "size": 10,
              "solidity": 0.2
             }
            },
            "type": "barpolar"
           }
          ],
          "carpet": [
           {
            "aaxis": {
             "endlinecolor": "#2a3f5f",
             "gridcolor": "white",
             "linecolor": "white",
             "minorgridcolor": "white",
             "startlinecolor": "#2a3f5f"
            },
            "baxis": {
             "endlinecolor": "#2a3f5f",
             "gridcolor": "white",
             "linecolor": "white",
             "minorgridcolor": "white",
             "startlinecolor": "#2a3f5f"
            },
            "type": "carpet"
           }
          ],
          "choropleth": [
           {
            "colorbar": {
             "outlinewidth": 0,
             "ticks": ""
            },
            "type": "choropleth"
           }
          ],
          "contour": [
           {
            "colorbar": {
             "outlinewidth": 0,
             "ticks": ""
            },
            "colorscale": [
             [
              0,
              "#0d0887"
             ],
             [
              0.1111111111111111,
              "#46039f"
             ],
             [
              0.2222222222222222,
              "#7201a8"
             ],
             [
              0.3333333333333333,
              "#9c179e"
             ],
             [
              0.4444444444444444,
              "#bd3786"
             ],
             [
              0.5555555555555556,
              "#d8576b"
             ],
             [
              0.6666666666666666,
              "#ed7953"
             ],
             [
              0.7777777777777778,
              "#fb9f3a"
             ],
             [
              0.8888888888888888,
              "#fdca26"
             ],
             [
              1,
              "#f0f921"
             ]
            ],
            "type": "contour"
           }
          ],
          "contourcarpet": [
           {
            "colorbar": {
             "outlinewidth": 0,
             "ticks": ""
            },
            "type": "contourcarpet"
           }
          ],
          "heatmap": [
           {
            "colorbar": {
             "outlinewidth": 0,
             "ticks": ""
            },
            "colorscale": [
             [
              0,
              "#0d0887"
             ],
             [
              0.1111111111111111,
              "#46039f"
             ],
             [
              0.2222222222222222,
              "#7201a8"
             ],
             [
              0.3333333333333333,
              "#9c179e"
             ],
             [
              0.4444444444444444,
              "#bd3786"
             ],
             [
              0.5555555555555556,
              "#d8576b"
             ],
             [
              0.6666666666666666,
              "#ed7953"
             ],
             [
              0.7777777777777778,
              "#fb9f3a"
             ],
             [
              0.8888888888888888,
              "#fdca26"
             ],
             [
              1,
              "#f0f921"
             ]
            ],
            "type": "heatmap"
           }
          ],
          "heatmapgl": [
           {
            "colorbar": {
             "outlinewidth": 0,
             "ticks": ""
            },
            "colorscale": [
             [
              0,
              "#0d0887"
             ],
             [
              0.1111111111111111,
              "#46039f"
             ],
             [
              0.2222222222222222,
              "#7201a8"
             ],
             [
              0.3333333333333333,
              "#9c179e"
             ],
             [
              0.4444444444444444,
              "#bd3786"
             ],
             [
              0.5555555555555556,
              "#d8576b"
             ],
             [
              0.6666666666666666,
              "#ed7953"
             ],
             [
              0.7777777777777778,
              "#fb9f3a"
             ],
             [
              0.8888888888888888,
              "#fdca26"
             ],
             [
              1,
              "#f0f921"
             ]
            ],
            "type": "heatmapgl"
           }
          ],
          "histogram": [
           {
            "marker": {
             "pattern": {
              "fillmode": "overlay",
              "size": 10,
              "solidity": 0.2
             }
            },
            "type": "histogram"
           }
          ],
          "histogram2d": [
           {
            "colorbar": {
             "outlinewidth": 0,
             "ticks": ""
            },
            "colorscale": [
             [
              0,
              "#0d0887"
             ],
             [
              0.1111111111111111,
              "#46039f"
             ],
             [
              0.2222222222222222,
              "#7201a8"
             ],
             [
              0.3333333333333333,
              "#9c179e"
             ],
             [
              0.4444444444444444,
              "#bd3786"
             ],
             [
              0.5555555555555556,
              "#d8576b"
             ],
             [
              0.6666666666666666,
              "#ed7953"
             ],
             [
              0.7777777777777778,
              "#fb9f3a"
             ],
             [
              0.8888888888888888,
              "#fdca26"
             ],
             [
              1,
              "#f0f921"
             ]
            ],
            "type": "histogram2d"
           }
          ],
          "histogram2dcontour": [
           {
            "colorbar": {
             "outlinewidth": 0,
             "ticks": ""
            },
            "colorscale": [
             [
              0,
              "#0d0887"
             ],
             [
              0.1111111111111111,
              "#46039f"
             ],
             [
              0.2222222222222222,
              "#7201a8"
             ],
             [
              0.3333333333333333,
              "#9c179e"
             ],
             [
              0.4444444444444444,
              "#bd3786"
             ],
             [
              0.5555555555555556,
              "#d8576b"
             ],
             [
              0.6666666666666666,
              "#ed7953"
             ],
             [
              0.7777777777777778,
              "#fb9f3a"
             ],
             [
              0.8888888888888888,
              "#fdca26"
             ],
             [
              1,
              "#f0f921"
             ]
            ],
            "type": "histogram2dcontour"
           }
          ],
          "mesh3d": [
           {
            "colorbar": {
             "outlinewidth": 0,
             "ticks": ""
            },
            "type": "mesh3d"
           }
          ],
          "parcoords": [
           {
            "line": {
             "colorbar": {
              "outlinewidth": 0,
              "ticks": ""
             }
            },
            "type": "parcoords"
           }
          ],
          "pie": [
           {
            "automargin": true,
            "type": "pie"
           }
          ],
          "scatter": [
           {
            "fillpattern": {
             "fillmode": "overlay",
             "size": 10,
             "solidity": 0.2
            },
            "type": "scatter"
           }
          ],
          "scatter3d": [
           {
            "line": {
             "colorbar": {
              "outlinewidth": 0,
              "ticks": ""
             }
            },
            "marker": {
             "colorbar": {
              "outlinewidth": 0,
              "ticks": ""
             }
            },
            "type": "scatter3d"
           }
          ],
          "scattercarpet": [
           {
            "marker": {
             "colorbar": {
              "outlinewidth": 0,
              "ticks": ""
             }
            },
            "type": "scattercarpet"
           }
          ],
          "scattergeo": [
           {
            "marker": {
             "colorbar": {
              "outlinewidth": 0,
              "ticks": ""
             }
            },
            "type": "scattergeo"
           }
          ],
          "scattergl": [
           {
            "marker": {
             "colorbar": {
              "outlinewidth": 0,
              "ticks": ""
             }
            },
            "type": "scattergl"
           }
          ],
          "scattermapbox": [
           {
            "marker": {
             "colorbar": {
              "outlinewidth": 0,
              "ticks": ""
             }
            },
            "type": "scattermapbox"
           }
          ],
          "scatterpolar": [
           {
            "marker": {
             "colorbar": {
              "outlinewidth": 0,
              "ticks": ""
             }
            },
            "type": "scatterpolar"
           }
          ],
          "scatterpolargl": [
           {
            "marker": {
             "colorbar": {
              "outlinewidth": 0,
              "ticks": ""
             }
            },
            "type": "scatterpolargl"
           }
          ],
          "scatterternary": [
           {
            "marker": {
             "colorbar": {
              "outlinewidth": 0,
              "ticks": ""
             }
            },
            "type": "scatterternary"
           }
          ],
          "surface": [
           {
            "colorbar": {
             "outlinewidth": 0,
             "ticks": ""
            },
            "colorscale": [
             [
              0,
              "#0d0887"
             ],
             [
              0.1111111111111111,
              "#46039f"
             ],
             [
              0.2222222222222222,
              "#7201a8"
             ],
             [
              0.3333333333333333,
              "#9c179e"
             ],
             [
              0.4444444444444444,
              "#bd3786"
             ],
             [
              0.5555555555555556,
              "#d8576b"
             ],
             [
              0.6666666666666666,
              "#ed7953"
             ],
             [
              0.7777777777777778,
              "#fb9f3a"
             ],
             [
              0.8888888888888888,
              "#fdca26"
             ],
             [
              1,
              "#f0f921"
             ]
            ],
            "type": "surface"
           }
          ],
          "table": [
           {
            "cells": {
             "fill": {
              "color": "#EBF0F8"
             },
             "line": {
              "color": "white"
             }
            },
            "header": {
             "fill": {
              "color": "#C8D4E3"
             },
             "line": {
              "color": "white"
             }
            },
            "type": "table"
           }
          ]
         },
         "layout": {
          "annotationdefaults": {
           "arrowcolor": "#2a3f5f",
           "arrowhead": 0,
           "arrowwidth": 1
          },
          "autotypenumbers": "strict",
          "coloraxis": {
           "colorbar": {
            "outlinewidth": 0,
            "ticks": ""
           }
          },
          "colorscale": {
           "diverging": [
            [
             0,
             "#8e0152"
            ],
            [
             0.1,
             "#c51b7d"
            ],
            [
             0.2,
             "#de77ae"
            ],
            [
             0.3,
             "#f1b6da"
            ],
            [
             0.4,
             "#fde0ef"
            ],
            [
             0.5,
             "#f7f7f7"
            ],
            [
             0.6,
             "#e6f5d0"
            ],
            [
             0.7,
             "#b8e186"
            ],
            [
             0.8,
             "#7fbc41"
            ],
            [
             0.9,
             "#4d9221"
            ],
            [
             1,
             "#276419"
            ]
           ],
           "sequential": [
            [
             0,
             "#0d0887"
            ],
            [
             0.1111111111111111,
             "#46039f"
            ],
            [
             0.2222222222222222,
             "#7201a8"
            ],
            [
             0.3333333333333333,
             "#9c179e"
            ],
            [
             0.4444444444444444,
             "#bd3786"
            ],
            [
             0.5555555555555556,
             "#d8576b"
            ],
            [
             0.6666666666666666,
             "#ed7953"
            ],
            [
             0.7777777777777778,
             "#fb9f3a"
            ],
            [
             0.8888888888888888,
             "#fdca26"
            ],
            [
             1,
             "#f0f921"
            ]
           ],
           "sequentialminus": [
            [
             0,
             "#0d0887"
            ],
            [
             0.1111111111111111,
             "#46039f"
            ],
            [
             0.2222222222222222,
             "#7201a8"
            ],
            [
             0.3333333333333333,
             "#9c179e"
            ],
            [
             0.4444444444444444,
             "#bd3786"
            ],
            [
             0.5555555555555556,
             "#d8576b"
            ],
            [
             0.6666666666666666,
             "#ed7953"
            ],
            [
             0.7777777777777778,
             "#fb9f3a"
            ],
            [
             0.8888888888888888,
             "#fdca26"
            ],
            [
             1,
             "#f0f921"
            ]
           ]
          },
          "colorway": [
           "#636efa",
           "#EF553B",
           "#00cc96",
           "#ab63fa",
           "#FFA15A",
           "#19d3f3",
           "#FF6692",
           "#B6E880",
           "#FF97FF",
           "#FECB52"
          ],
          "font": {
           "color": "#2a3f5f"
          },
          "geo": {
           "bgcolor": "white",
           "lakecolor": "white",
           "landcolor": "#E5ECF6",
           "showlakes": true,
           "showland": true,
           "subunitcolor": "white"
          },
          "hoverlabel": {
           "align": "left"
          },
          "hovermode": "closest",
          "mapbox": {
           "style": "light"
          },
          "paper_bgcolor": "white",
          "plot_bgcolor": "#E5ECF6",
          "polar": {
           "angularaxis": {
            "gridcolor": "white",
            "linecolor": "white",
            "ticks": ""
           },
           "bgcolor": "#E5ECF6",
           "radialaxis": {
            "gridcolor": "white",
            "linecolor": "white",
            "ticks": ""
           }
          },
          "scene": {
           "xaxis": {
            "backgroundcolor": "#E5ECF6",
            "gridcolor": "white",
            "gridwidth": 2,
            "linecolor": "white",
            "showbackground": true,
            "ticks": "",
            "zerolinecolor": "white"
           },
           "yaxis": {
            "backgroundcolor": "#E5ECF6",
            "gridcolor": "white",
            "gridwidth": 2,
            "linecolor": "white",
            "showbackground": true,
            "ticks": "",
            "zerolinecolor": "white"
           },
           "zaxis": {
            "backgroundcolor": "#E5ECF6",
            "gridcolor": "white",
            "gridwidth": 2,
            "linecolor": "white",
            "showbackground": true,
            "ticks": "",
            "zerolinecolor": "white"
           }
          },
          "shapedefaults": {
           "line": {
            "color": "#2a3f5f"
           }
          },
          "ternary": {
           "aaxis": {
            "gridcolor": "white",
            "linecolor": "white",
            "ticks": ""
           },
           "baxis": {
            "gridcolor": "white",
            "linecolor": "white",
            "ticks": ""
           },
           "bgcolor": "#E5ECF6",
           "caxis": {
            "gridcolor": "white",
            "linecolor": "white",
            "ticks": ""
           }
          },
          "title": {
           "x": 0.05
          },
          "xaxis": {
           "automargin": true,
           "gridcolor": "white",
           "linecolor": "white",
           "ticks": "",
           "title": {
            "standoff": 15
           },
           "zerolinecolor": "white",
           "zerolinewidth": 2
          },
          "yaxis": {
           "automargin": true,
           "gridcolor": "white",
           "linecolor": "white",
           "ticks": "",
           "title": {
            "standoff": 15
           },
           "zerolinecolor": "white",
           "zerolinewidth": 2
          }
         }
        },
        "title": {
         "text": "Biểu đồ thể hiện sự tương quan giữa dân số và số ca mắc ở các nước châu Á"
        },
        "xaxis": {
         "anchor": "y",
         "domain": [
          0,
          1
         ],
         "title": {
          "text": "Population"
         }
        },
        "yaxis": {
         "anchor": "x",
         "domain": [
          0,
          1
         ],
         "title": {
          "text": "TotalCases"
         }
        }
       }
      }
     },
     "metadata": {},
     "output_type": "display_data"
    }
   ],
   "source": [
    "fig = px.scatter(cases_Asia, x=\"Population\", y=\"TotalCases\", color = \"TotalCases\",\n",
    "                 size='TotalCases', hover_name= \"Location\", title=\"Biểu đồ thể hiện sự tương quan giữa dân số và số ca mắc ở các nước châu Á\", trendline=\"ols\")\n",
    "fig.show()"
   ]
  },
  {
   "cell_type": "markdown",
   "metadata": {},
   "source": [
    "***Tính lại hệ số tương quan và khớp đường thẳng tuyến tính***"
   ]
  },
  {
   "cell_type": "code",
   "execution_count": 285,
   "metadata": {},
   "outputs": [
    {
     "data": {
      "text/plain": [
       "array([[1.       , 0.5008545],\n",
       "       [0.5008545, 1.       ]])"
      ]
     },
     "execution_count": 285,
     "metadata": {},
     "output_type": "execute_result"
    }
   ],
   "source": [
    "R = np.corrcoef(cases_Asia[\"Population\"], cases_Asia[\"TotalCases\"])\n",
    "R"
   ]
  },
  {
   "cell_type": "markdown",
   "metadata": {},
   "source": [
    "Ta thấy hệ số tương quan giảm so với lúc trước khi bỏ hai giá trị ngoại lai"
   ]
  },
  {
   "cell_type": "markdown",
   "metadata": {},
   "source": [
    "**Ta đặt giả thuyết thống kê**\n",
    "\n",
    "H0: Hai biến không có mối quan hệ tuyến tính\n",
    "\n",
    "H1: Hai biến có mối quan hệ tuyến tính"
   ]
  },
  {
   "cell_type": "code",
   "execution_count": 286,
   "metadata": {},
   "outputs": [
    {
     "data": {
      "text/plain": [
       "0.0003362358195896713"
      ]
     },
     "execution_count": 286,
     "metadata": {},
     "output_type": "execute_result"
    }
   ],
   "source": [
    "slope, intercept, r_value, p_value, std_err = stats.linregress(cases_Asia[\"Population\"], cases_Asia[\"TotalCases\"])\n",
    "p_value"
   ]
  },
  {
   "cell_type": "code",
   "execution_count": 303,
   "metadata": {},
   "outputs": [
    {
     "name": "stdout",
     "output_type": "stream",
     "text": [
      "Ta tính được giá trị P-value = 0.0003362358195896713 < 0.05\n",
      "Ta bác bỏ H0, chấp nhận H1\n"
     ]
    }
   ],
   "source": [
    "print(f\"Ta tính được giá trị P-value = {p_value} < 0.05\")\n",
    "print(f\"Ta bác bỏ H0, chấp nhận H1\")\n"
   ]
  },
  {
   "cell_type": "markdown",
   "metadata": {},
   "source": [
    "Tuy nhiên, vì hệ số tương quan R = 0.5 không quá mạnh cũng không quá yếu, ta cũng chưa thể kết luận ngay dân số có ảnh hưởng đến số ca mắc Covid-19 hay không vì còn nhiều yếu tố ảnh hưởng khác như hệ thống y tế, chính sách cách ly của mỗi quốc gia..."
   ]
  },
  {
   "cell_type": "markdown",
   "metadata": {},
   "source": [
    "## Câu 4: Khi vaccine được phổ biến, điều đó có giúp ích cho việc chống đại dịch Covid-19 trên thế giới? **(X: Date, PeopleFullyVaccinated, NewCases, NewDeaths)**  **(Y: True/False)**"
   ]
  },
  {
   "cell_type": "markdown",
   "metadata": {},
   "source": [
    "Dữ liệu Covide-19 trên thế giới"
   ]
  },
  {
   "cell_type": "code",
   "execution_count": 287,
   "metadata": {},
   "outputs": [
    {
     "data": {
      "text/html": [
       "<div>\n",
       "<style scoped>\n",
       "    .dataframe tbody tr th:only-of-type {\n",
       "        vertical-align: middle;\n",
       "    }\n",
       "\n",
       "    .dataframe tbody tr th {\n",
       "        vertical-align: top;\n",
       "    }\n",
       "\n",
       "    .dataframe thead th {\n",
       "        text-align: right;\n",
       "    }\n",
       "</style>\n",
       "<table border=\"1\" class=\"dataframe\">\n",
       "  <thead>\n",
       "    <tr style=\"text-align: right;\">\n",
       "      <th></th>\n",
       "      <th>Continent</th>\n",
       "      <th>Location</th>\n",
       "      <th>Date</th>\n",
       "      <th>TotalCases</th>\n",
       "      <th>NewCases</th>\n",
       "      <th>TotalCases_per_million</th>\n",
       "      <th>NewCases_per_million</th>\n",
       "      <th>TotalDeaths</th>\n",
       "      <th>NewDeaths</th>\n",
       "      <th>TotalDeaths_per_million</th>\n",
       "      <th>NewDeaths_per_million</th>\n",
       "      <th>TotalVaccinations</th>\n",
       "      <th>PeopleVaccinated</th>\n",
       "      <th>PeopleFullyVaccinated</th>\n",
       "      <th>PeopleFullyVaccinated_per_hundred</th>\n",
       "      <th>Population</th>\n",
       "    </tr>\n",
       "  </thead>\n",
       "  <tbody>\n",
       "    <tr>\n",
       "      <th>163423</th>\n",
       "      <td>0</td>\n",
       "      <td>World</td>\n",
       "      <td>2020-01-22</td>\n",
       "      <td>557.0</td>\n",
       "      <td>0.0</td>\n",
       "      <td>0.071</td>\n",
       "      <td>0.000</td>\n",
       "      <td>17.0</td>\n",
       "      <td>0.0</td>\n",
       "      <td>0.002</td>\n",
       "      <td>0.000</td>\n",
       "      <td>0.000000e+00</td>\n",
       "      <td>0.000000e+00</td>\n",
       "      <td>0.000000e+00</td>\n",
       "      <td>0.00</td>\n",
       "      <td>7.874966e+09</td>\n",
       "    </tr>\n",
       "    <tr>\n",
       "      <th>163424</th>\n",
       "      <td>0</td>\n",
       "      <td>World</td>\n",
       "      <td>2020-01-23</td>\n",
       "      <td>657.0</td>\n",
       "      <td>100.0</td>\n",
       "      <td>0.083</td>\n",
       "      <td>0.013</td>\n",
       "      <td>18.0</td>\n",
       "      <td>1.0</td>\n",
       "      <td>0.002</td>\n",
       "      <td>0.000</td>\n",
       "      <td>0.000000e+00</td>\n",
       "      <td>0.000000e+00</td>\n",
       "      <td>0.000000e+00</td>\n",
       "      <td>0.00</td>\n",
       "      <td>7.874966e+09</td>\n",
       "    </tr>\n",
       "    <tr>\n",
       "      <th>163425</th>\n",
       "      <td>0</td>\n",
       "      <td>World</td>\n",
       "      <td>2020-01-24</td>\n",
       "      <td>944.0</td>\n",
       "      <td>287.0</td>\n",
       "      <td>0.120</td>\n",
       "      <td>0.036</td>\n",
       "      <td>26.0</td>\n",
       "      <td>8.0</td>\n",
       "      <td>0.003</td>\n",
       "      <td>0.001</td>\n",
       "      <td>0.000000e+00</td>\n",
       "      <td>0.000000e+00</td>\n",
       "      <td>0.000000e+00</td>\n",
       "      <td>0.00</td>\n",
       "      <td>7.874966e+09</td>\n",
       "    </tr>\n",
       "    <tr>\n",
       "      <th>163426</th>\n",
       "      <td>0</td>\n",
       "      <td>World</td>\n",
       "      <td>2020-01-25</td>\n",
       "      <td>1437.0</td>\n",
       "      <td>493.0</td>\n",
       "      <td>0.182</td>\n",
       "      <td>0.063</td>\n",
       "      <td>42.0</td>\n",
       "      <td>16.0</td>\n",
       "      <td>0.005</td>\n",
       "      <td>0.002</td>\n",
       "      <td>0.000000e+00</td>\n",
       "      <td>0.000000e+00</td>\n",
       "      <td>0.000000e+00</td>\n",
       "      <td>0.00</td>\n",
       "      <td>7.874966e+09</td>\n",
       "    </tr>\n",
       "    <tr>\n",
       "      <th>163427</th>\n",
       "      <td>0</td>\n",
       "      <td>World</td>\n",
       "      <td>2020-01-26</td>\n",
       "      <td>2120.0</td>\n",
       "      <td>683.0</td>\n",
       "      <td>0.269</td>\n",
       "      <td>0.087</td>\n",
       "      <td>56.0</td>\n",
       "      <td>14.0</td>\n",
       "      <td>0.007</td>\n",
       "      <td>0.002</td>\n",
       "      <td>0.000000e+00</td>\n",
       "      <td>0.000000e+00</td>\n",
       "      <td>0.000000e+00</td>\n",
       "      <td>0.00</td>\n",
       "      <td>7.874966e+09</td>\n",
       "    </tr>\n",
       "    <tr>\n",
       "      <th>...</th>\n",
       "      <td>...</td>\n",
       "      <td>...</td>\n",
       "      <td>...</td>\n",
       "      <td>...</td>\n",
       "      <td>...</td>\n",
       "      <td>...</td>\n",
       "      <td>...</td>\n",
       "      <td>...</td>\n",
       "      <td>...</td>\n",
       "      <td>...</td>\n",
       "      <td>...</td>\n",
       "      <td>...</td>\n",
       "      <td>...</td>\n",
       "      <td>...</td>\n",
       "      <td>...</td>\n",
       "      <td>...</td>\n",
       "    </tr>\n",
       "    <tr>\n",
       "      <th>164192</th>\n",
       "      <td>0</td>\n",
       "      <td>World</td>\n",
       "      <td>2022-03-01</td>\n",
       "      <td>438528632.0</td>\n",
       "      <td>1536867.0</td>\n",
       "      <td>55686.418</td>\n",
       "      <td>195.159</td>\n",
       "      <td>5964706.0</td>\n",
       "      <td>8069.0</td>\n",
       "      <td>757.426</td>\n",
       "      <td>1.025</td>\n",
       "      <td>1.072498e+10</td>\n",
       "      <td>4.971171e+09</td>\n",
       "      <td>4.385303e+09</td>\n",
       "      <td>55.69</td>\n",
       "      <td>7.874966e+09</td>\n",
       "    </tr>\n",
       "    <tr>\n",
       "      <th>164193</th>\n",
       "      <td>0</td>\n",
       "      <td>World</td>\n",
       "      <td>2022-03-02</td>\n",
       "      <td>440180084.0</td>\n",
       "      <td>1651452.0</td>\n",
       "      <td>55896.127</td>\n",
       "      <td>209.709</td>\n",
       "      <td>5972651.0</td>\n",
       "      <td>7945.0</td>\n",
       "      <td>758.435</td>\n",
       "      <td>1.009</td>\n",
       "      <td>1.073855e+10</td>\n",
       "      <td>4.972139e+09</td>\n",
       "      <td>4.387583e+09</td>\n",
       "      <td>55.72</td>\n",
       "      <td>7.874966e+09</td>\n",
       "    </tr>\n",
       "    <tr>\n",
       "      <th>164194</th>\n",
       "      <td>0</td>\n",
       "      <td>World</td>\n",
       "      <td>2022-03-03</td>\n",
       "      <td>442067549.0</td>\n",
       "      <td>1887465.0</td>\n",
       "      <td>56135.806</td>\n",
       "      <td>239.679</td>\n",
       "      <td>5981034.0</td>\n",
       "      <td>8384.0</td>\n",
       "      <td>759.500</td>\n",
       "      <td>1.065</td>\n",
       "      <td>1.075182e+10</td>\n",
       "      <td>4.973141e+09</td>\n",
       "      <td>4.393034e+09</td>\n",
       "      <td>55.78</td>\n",
       "      <td>7.874966e+09</td>\n",
       "    </tr>\n",
       "    <tr>\n",
       "      <th>164195</th>\n",
       "      <td>0</td>\n",
       "      <td>World</td>\n",
       "      <td>2022-03-04</td>\n",
       "      <td>443767689.0</td>\n",
       "      <td>1704138.0</td>\n",
       "      <td>56351.698</td>\n",
       "      <td>216.399</td>\n",
       "      <td>5989802.0</td>\n",
       "      <td>8771.0</td>\n",
       "      <td>760.613</td>\n",
       "      <td>1.114</td>\n",
       "      <td>1.076247e+10</td>\n",
       "      <td>4.974734e+09</td>\n",
       "      <td>4.396314e+09</td>\n",
       "      <td>55.83</td>\n",
       "      <td>7.874966e+09</td>\n",
       "    </tr>\n",
       "    <tr>\n",
       "      <th>164196</th>\n",
       "      <td>0</td>\n",
       "      <td>World</td>\n",
       "      <td>2022-03-05</td>\n",
       "      <td>445129499.0</td>\n",
       "      <td>1361810.0</td>\n",
       "      <td>56524.627</td>\n",
       "      <td>172.929</td>\n",
       "      <td>5995245.0</td>\n",
       "      <td>5443.0</td>\n",
       "      <td>761.304</td>\n",
       "      <td>0.691</td>\n",
       "      <td>1.085079e+10</td>\n",
       "      <td>4.976031e+09</td>\n",
       "      <td>4.400787e+09</td>\n",
       "      <td>55.88</td>\n",
       "      <td>7.874966e+09</td>\n",
       "    </tr>\n",
       "  </tbody>\n",
       "</table>\n",
       "<p>774 rows × 16 columns</p>\n",
       "</div>"
      ],
      "text/plain": [
       "       Continent Location        Date   TotalCases   NewCases  \\\n",
       "163423         0    World  2020-01-22        557.0        0.0   \n",
       "163424         0    World  2020-01-23        657.0      100.0   \n",
       "163425         0    World  2020-01-24        944.0      287.0   \n",
       "163426         0    World  2020-01-25       1437.0      493.0   \n",
       "163427         0    World  2020-01-26       2120.0      683.0   \n",
       "...          ...      ...         ...          ...        ...   \n",
       "164192         0    World  2022-03-01  438528632.0  1536867.0   \n",
       "164193         0    World  2022-03-02  440180084.0  1651452.0   \n",
       "164194         0    World  2022-03-03  442067549.0  1887465.0   \n",
       "164195         0    World  2022-03-04  443767689.0  1704138.0   \n",
       "164196         0    World  2022-03-05  445129499.0  1361810.0   \n",
       "\n",
       "        TotalCases_per_million  NewCases_per_million  TotalDeaths  NewDeaths  \\\n",
       "163423                   0.071                 0.000         17.0        0.0   \n",
       "163424                   0.083                 0.013         18.0        1.0   \n",
       "163425                   0.120                 0.036         26.0        8.0   \n",
       "163426                   0.182                 0.063         42.0       16.0   \n",
       "163427                   0.269                 0.087         56.0       14.0   \n",
       "...                        ...                   ...          ...        ...   \n",
       "164192               55686.418               195.159    5964706.0     8069.0   \n",
       "164193               55896.127               209.709    5972651.0     7945.0   \n",
       "164194               56135.806               239.679    5981034.0     8384.0   \n",
       "164195               56351.698               216.399    5989802.0     8771.0   \n",
       "164196               56524.627               172.929    5995245.0     5443.0   \n",
       "\n",
       "        TotalDeaths_per_million  NewDeaths_per_million  TotalVaccinations  \\\n",
       "163423                    0.002                  0.000       0.000000e+00   \n",
       "163424                    0.002                  0.000       0.000000e+00   \n",
       "163425                    0.003                  0.001       0.000000e+00   \n",
       "163426                    0.005                  0.002       0.000000e+00   \n",
       "163427                    0.007                  0.002       0.000000e+00   \n",
       "...                         ...                    ...                ...   \n",
       "164192                  757.426                  1.025       1.072498e+10   \n",
       "164193                  758.435                  1.009       1.073855e+10   \n",
       "164194                  759.500                  1.065       1.075182e+10   \n",
       "164195                  760.613                  1.114       1.076247e+10   \n",
       "164196                  761.304                  0.691       1.085079e+10   \n",
       "\n",
       "        PeopleVaccinated  PeopleFullyVaccinated  \\\n",
       "163423      0.000000e+00           0.000000e+00   \n",
       "163424      0.000000e+00           0.000000e+00   \n",
       "163425      0.000000e+00           0.000000e+00   \n",
       "163426      0.000000e+00           0.000000e+00   \n",
       "163427      0.000000e+00           0.000000e+00   \n",
       "...                  ...                    ...   \n",
       "164192      4.971171e+09           4.385303e+09   \n",
       "164193      4.972139e+09           4.387583e+09   \n",
       "164194      4.973141e+09           4.393034e+09   \n",
       "164195      4.974734e+09           4.396314e+09   \n",
       "164196      4.976031e+09           4.400787e+09   \n",
       "\n",
       "        PeopleFullyVaccinated_per_hundred    Population  \n",
       "163423                               0.00  7.874966e+09  \n",
       "163424                               0.00  7.874966e+09  \n",
       "163425                               0.00  7.874966e+09  \n",
       "163426                               0.00  7.874966e+09  \n",
       "163427                               0.00  7.874966e+09  \n",
       "...                                   ...           ...  \n",
       "164192                              55.69  7.874966e+09  \n",
       "164193                              55.72  7.874966e+09  \n",
       "164194                              55.78  7.874966e+09  \n",
       "164195                              55.83  7.874966e+09  \n",
       "164196                              55.88  7.874966e+09  \n",
       "\n",
       "[774 rows x 16 columns]"
      ]
     },
     "execution_count": 287,
     "metadata": {},
     "output_type": "execute_result"
    }
   ],
   "source": [
    "covid_world_df"
   ]
  },
  {
   "cell_type": "code",
   "execution_count": 288,
   "metadata": {},
   "outputs": [
    {
     "name": "stdout",
     "output_type": "stream",
     "text": [
      "Vaccine được đưa vào sử dụng đầu tiên vào ngày 2020-12-04\n"
     ]
    }
   ],
   "source": [
    "first_date_vaccine = covid_world_df[covid_world_df['TotalVaccinations'] != 0].iloc[0]['Date']\n",
    "print(f\"Vaccine được đưa vào sử dụng đầu tiên vào ngày {first_date_vaccine}\")"
   ]
  },
  {
   "cell_type": "code",
   "execution_count": 289,
   "metadata": {},
   "outputs": [
    {
     "data": {
      "text/html": [
       "<div>\n",
       "<style scoped>\n",
       "    .dataframe tbody tr th:only-of-type {\n",
       "        vertical-align: middle;\n",
       "    }\n",
       "\n",
       "    .dataframe tbody tr th {\n",
       "        vertical-align: top;\n",
       "    }\n",
       "\n",
       "    .dataframe thead th {\n",
       "        text-align: right;\n",
       "    }\n",
       "</style>\n",
       "<table border=\"1\" class=\"dataframe\">\n",
       "  <thead>\n",
       "    <tr style=\"text-align: right;\">\n",
       "      <th></th>\n",
       "      <th>Continent</th>\n",
       "      <th>Location</th>\n",
       "      <th>Date</th>\n",
       "      <th>TotalCases</th>\n",
       "      <th>NewCases</th>\n",
       "      <th>TotalCases_per_million</th>\n",
       "      <th>NewCases_per_million</th>\n",
       "      <th>TotalDeaths</th>\n",
       "      <th>NewDeaths</th>\n",
       "      <th>TotalDeaths_per_million</th>\n",
       "      <th>NewDeaths_per_million</th>\n",
       "      <th>TotalVaccinations</th>\n",
       "      <th>PeopleVaccinated</th>\n",
       "      <th>PeopleFullyVaccinated</th>\n",
       "      <th>PeopleFullyVaccinated_per_hundred</th>\n",
       "      <th>Population</th>\n",
       "    </tr>\n",
       "  </thead>\n",
       "  <tbody>\n",
       "    <tr>\n",
       "      <th>163740</th>\n",
       "      <td>0</td>\n",
       "      <td>World</td>\n",
       "      <td>2020-12-04</td>\n",
       "      <td>66049040.0</td>\n",
       "      <td>688697.0</td>\n",
       "      <td>8387.216</td>\n",
       "      <td>87.454</td>\n",
       "      <td>1576378.0</td>\n",
       "      <td>12460.0</td>\n",
       "      <td>200.176</td>\n",
       "      <td>1.582</td>\n",
       "      <td>1.000000e+00</td>\n",
       "      <td>1.000000e+00</td>\n",
       "      <td>0.000000e+00</td>\n",
       "      <td>0.00</td>\n",
       "      <td>7.874966e+09</td>\n",
       "    </tr>\n",
       "    <tr>\n",
       "      <th>163741</th>\n",
       "      <td>0</td>\n",
       "      <td>World</td>\n",
       "      <td>2020-12-05</td>\n",
       "      <td>66697974.0</td>\n",
       "      <td>648934.0</td>\n",
       "      <td>8469.621</td>\n",
       "      <td>82.405</td>\n",
       "      <td>1586715.0</td>\n",
       "      <td>10337.0</td>\n",
       "      <td>201.488</td>\n",
       "      <td>1.313</td>\n",
       "      <td>1.000000e+00</td>\n",
       "      <td>1.000000e+00</td>\n",
       "      <td>0.000000e+00</td>\n",
       "      <td>0.00</td>\n",
       "      <td>7.874966e+09</td>\n",
       "    </tr>\n",
       "    <tr>\n",
       "      <th>163742</th>\n",
       "      <td>0</td>\n",
       "      <td>World</td>\n",
       "      <td>2020-12-06</td>\n",
       "      <td>67234273.0</td>\n",
       "      <td>536299.0</td>\n",
       "      <td>8537.723</td>\n",
       "      <td>68.102</td>\n",
       "      <td>1594444.0</td>\n",
       "      <td>7729.0</td>\n",
       "      <td>202.470</td>\n",
       "      <td>0.981</td>\n",
       "      <td>1.000000e+00</td>\n",
       "      <td>1.000000e+00</td>\n",
       "      <td>0.000000e+00</td>\n",
       "      <td>0.00</td>\n",
       "      <td>7.874966e+09</td>\n",
       "    </tr>\n",
       "    <tr>\n",
       "      <th>163743</th>\n",
       "      <td>0</td>\n",
       "      <td>World</td>\n",
       "      <td>2020-12-07</td>\n",
       "      <td>67761913.0</td>\n",
       "      <td>527640.0</td>\n",
       "      <td>8604.725</td>\n",
       "      <td>67.002</td>\n",
       "      <td>1603158.0</td>\n",
       "      <td>8714.0</td>\n",
       "      <td>203.577</td>\n",
       "      <td>1.107</td>\n",
       "      <td>2.000000e+00</td>\n",
       "      <td>2.000000e+00</td>\n",
       "      <td>0.000000e+00</td>\n",
       "      <td>0.00</td>\n",
       "      <td>7.874966e+09</td>\n",
       "    </tr>\n",
       "    <tr>\n",
       "      <th>163744</th>\n",
       "      <td>0</td>\n",
       "      <td>World</td>\n",
       "      <td>2020-12-08</td>\n",
       "      <td>68405171.0</td>\n",
       "      <td>643258.0</td>\n",
       "      <td>8686.409</td>\n",
       "      <td>81.684</td>\n",
       "      <td>1615473.0</td>\n",
       "      <td>12317.0</td>\n",
       "      <td>205.140</td>\n",
       "      <td>1.564</td>\n",
       "      <td>8.000000e+00</td>\n",
       "      <td>8.000000e+00</td>\n",
       "      <td>0.000000e+00</td>\n",
       "      <td>0.00</td>\n",
       "      <td>7.874966e+09</td>\n",
       "    </tr>\n",
       "    <tr>\n",
       "      <th>...</th>\n",
       "      <td>...</td>\n",
       "      <td>...</td>\n",
       "      <td>...</td>\n",
       "      <td>...</td>\n",
       "      <td>...</td>\n",
       "      <td>...</td>\n",
       "      <td>...</td>\n",
       "      <td>...</td>\n",
       "      <td>...</td>\n",
       "      <td>...</td>\n",
       "      <td>...</td>\n",
       "      <td>...</td>\n",
       "      <td>...</td>\n",
       "      <td>...</td>\n",
       "      <td>...</td>\n",
       "      <td>...</td>\n",
       "    </tr>\n",
       "    <tr>\n",
       "      <th>164192</th>\n",
       "      <td>0</td>\n",
       "      <td>World</td>\n",
       "      <td>2022-03-01</td>\n",
       "      <td>438528632.0</td>\n",
       "      <td>1536867.0</td>\n",
       "      <td>55686.418</td>\n",
       "      <td>195.159</td>\n",
       "      <td>5964706.0</td>\n",
       "      <td>8069.0</td>\n",
       "      <td>757.426</td>\n",
       "      <td>1.025</td>\n",
       "      <td>1.072498e+10</td>\n",
       "      <td>4.971171e+09</td>\n",
       "      <td>4.385303e+09</td>\n",
       "      <td>55.69</td>\n",
       "      <td>7.874966e+09</td>\n",
       "    </tr>\n",
       "    <tr>\n",
       "      <th>164193</th>\n",
       "      <td>0</td>\n",
       "      <td>World</td>\n",
       "      <td>2022-03-02</td>\n",
       "      <td>440180084.0</td>\n",
       "      <td>1651452.0</td>\n",
       "      <td>55896.127</td>\n",
       "      <td>209.709</td>\n",
       "      <td>5972651.0</td>\n",
       "      <td>7945.0</td>\n",
       "      <td>758.435</td>\n",
       "      <td>1.009</td>\n",
       "      <td>1.073855e+10</td>\n",
       "      <td>4.972139e+09</td>\n",
       "      <td>4.387583e+09</td>\n",
       "      <td>55.72</td>\n",
       "      <td>7.874966e+09</td>\n",
       "    </tr>\n",
       "    <tr>\n",
       "      <th>164194</th>\n",
       "      <td>0</td>\n",
       "      <td>World</td>\n",
       "      <td>2022-03-03</td>\n",
       "      <td>442067549.0</td>\n",
       "      <td>1887465.0</td>\n",
       "      <td>56135.806</td>\n",
       "      <td>239.679</td>\n",
       "      <td>5981034.0</td>\n",
       "      <td>8384.0</td>\n",
       "      <td>759.500</td>\n",
       "      <td>1.065</td>\n",
       "      <td>1.075182e+10</td>\n",
       "      <td>4.973141e+09</td>\n",
       "      <td>4.393034e+09</td>\n",
       "      <td>55.78</td>\n",
       "      <td>7.874966e+09</td>\n",
       "    </tr>\n",
       "    <tr>\n",
       "      <th>164195</th>\n",
       "      <td>0</td>\n",
       "      <td>World</td>\n",
       "      <td>2022-03-04</td>\n",
       "      <td>443767689.0</td>\n",
       "      <td>1704138.0</td>\n",
       "      <td>56351.698</td>\n",
       "      <td>216.399</td>\n",
       "      <td>5989802.0</td>\n",
       "      <td>8771.0</td>\n",
       "      <td>760.613</td>\n",
       "      <td>1.114</td>\n",
       "      <td>1.076247e+10</td>\n",
       "      <td>4.974734e+09</td>\n",
       "      <td>4.396314e+09</td>\n",
       "      <td>55.83</td>\n",
       "      <td>7.874966e+09</td>\n",
       "    </tr>\n",
       "    <tr>\n",
       "      <th>164196</th>\n",
       "      <td>0</td>\n",
       "      <td>World</td>\n",
       "      <td>2022-03-05</td>\n",
       "      <td>445129499.0</td>\n",
       "      <td>1361810.0</td>\n",
       "      <td>56524.627</td>\n",
       "      <td>172.929</td>\n",
       "      <td>5995245.0</td>\n",
       "      <td>5443.0</td>\n",
       "      <td>761.304</td>\n",
       "      <td>0.691</td>\n",
       "      <td>1.085079e+10</td>\n",
       "      <td>4.976031e+09</td>\n",
       "      <td>4.400787e+09</td>\n",
       "      <td>55.88</td>\n",
       "      <td>7.874966e+09</td>\n",
       "    </tr>\n",
       "  </tbody>\n",
       "</table>\n",
       "<p>457 rows × 16 columns</p>\n",
       "</div>"
      ],
      "text/plain": [
       "       Continent Location        Date   TotalCases   NewCases  \\\n",
       "163740         0    World  2020-12-04   66049040.0   688697.0   \n",
       "163741         0    World  2020-12-05   66697974.0   648934.0   \n",
       "163742         0    World  2020-12-06   67234273.0   536299.0   \n",
       "163743         0    World  2020-12-07   67761913.0   527640.0   \n",
       "163744         0    World  2020-12-08   68405171.0   643258.0   \n",
       "...          ...      ...         ...          ...        ...   \n",
       "164192         0    World  2022-03-01  438528632.0  1536867.0   \n",
       "164193         0    World  2022-03-02  440180084.0  1651452.0   \n",
       "164194         0    World  2022-03-03  442067549.0  1887465.0   \n",
       "164195         0    World  2022-03-04  443767689.0  1704138.0   \n",
       "164196         0    World  2022-03-05  445129499.0  1361810.0   \n",
       "\n",
       "        TotalCases_per_million  NewCases_per_million  TotalDeaths  NewDeaths  \\\n",
       "163740                8387.216                87.454    1576378.0    12460.0   \n",
       "163741                8469.621                82.405    1586715.0    10337.0   \n",
       "163742                8537.723                68.102    1594444.0     7729.0   \n",
       "163743                8604.725                67.002    1603158.0     8714.0   \n",
       "163744                8686.409                81.684    1615473.0    12317.0   \n",
       "...                        ...                   ...          ...        ...   \n",
       "164192               55686.418               195.159    5964706.0     8069.0   \n",
       "164193               55896.127               209.709    5972651.0     7945.0   \n",
       "164194               56135.806               239.679    5981034.0     8384.0   \n",
       "164195               56351.698               216.399    5989802.0     8771.0   \n",
       "164196               56524.627               172.929    5995245.0     5443.0   \n",
       "\n",
       "        TotalDeaths_per_million  NewDeaths_per_million  TotalVaccinations  \\\n",
       "163740                  200.176                  1.582       1.000000e+00   \n",
       "163741                  201.488                  1.313       1.000000e+00   \n",
       "163742                  202.470                  0.981       1.000000e+00   \n",
       "163743                  203.577                  1.107       2.000000e+00   \n",
       "163744                  205.140                  1.564       8.000000e+00   \n",
       "...                         ...                    ...                ...   \n",
       "164192                  757.426                  1.025       1.072498e+10   \n",
       "164193                  758.435                  1.009       1.073855e+10   \n",
       "164194                  759.500                  1.065       1.075182e+10   \n",
       "164195                  760.613                  1.114       1.076247e+10   \n",
       "164196                  761.304                  0.691       1.085079e+10   \n",
       "\n",
       "        PeopleVaccinated  PeopleFullyVaccinated  \\\n",
       "163740      1.000000e+00           0.000000e+00   \n",
       "163741      1.000000e+00           0.000000e+00   \n",
       "163742      1.000000e+00           0.000000e+00   \n",
       "163743      2.000000e+00           0.000000e+00   \n",
       "163744      8.000000e+00           0.000000e+00   \n",
       "...                  ...                    ...   \n",
       "164192      4.971171e+09           4.385303e+09   \n",
       "164193      4.972139e+09           4.387583e+09   \n",
       "164194      4.973141e+09           4.393034e+09   \n",
       "164195      4.974734e+09           4.396314e+09   \n",
       "164196      4.976031e+09           4.400787e+09   \n",
       "\n",
       "        PeopleFullyVaccinated_per_hundred    Population  \n",
       "163740                               0.00  7.874966e+09  \n",
       "163741                               0.00  7.874966e+09  \n",
       "163742                               0.00  7.874966e+09  \n",
       "163743                               0.00  7.874966e+09  \n",
       "163744                               0.00  7.874966e+09  \n",
       "...                                   ...           ...  \n",
       "164192                              55.69  7.874966e+09  \n",
       "164193                              55.72  7.874966e+09  \n",
       "164194                              55.78  7.874966e+09  \n",
       "164195                              55.83  7.874966e+09  \n",
       "164196                              55.88  7.874966e+09  \n",
       "\n",
       "[457 rows x 16 columns]"
      ]
     },
     "execution_count": 289,
     "metadata": {},
     "output_type": "execute_result"
    }
   ],
   "source": [
    "covid_world_after_vaccine = covid_world_df[covid_world_df['Date'] >= first_date_vaccine]\n",
    "covid_world_after_vaccine"
   ]
  },
  {
   "cell_type": "code",
   "execution_count": 290,
   "metadata": {},
   "outputs": [
    {
     "data": {
      "application/vnd.plotly.v1+json": {
       "config": {
        "plotlyServerURL": "https://plot.ly"
       },
       "data": [
        {
         "hovertemplate": "<b>%{hovertext}</b><br><br>PeopleFullyVaccinated=%{x}<br>NewCases=%{y}<extra></extra>",
         "hovertext": [
          "2020-12-04",
          "2020-12-05",
          "2020-12-06",
          "2020-12-07",
          "2020-12-08",
          "2020-12-09",
          "2020-12-10",
          "2020-12-11",
          "2020-12-12",
          "2020-12-13",
          "2020-12-14",
          "2020-12-15",
          "2020-12-16",
          "2020-12-17",
          "2020-12-18",
          "2020-12-19",
          "2020-12-20",
          "2020-12-21",
          "2020-12-22",
          "2020-12-23",
          "2020-12-24",
          "2020-12-25",
          "2020-12-26",
          "2020-12-27",
          "2020-12-28",
          "2020-12-29",
          "2020-12-30",
          "2020-12-31",
          "2021-01-01",
          "2021-01-02",
          "2021-01-03",
          "2021-01-04",
          "2021-01-05",
          "2021-01-06",
          "2021-01-07",
          "2021-01-08",
          "2021-01-09",
          "2021-01-10",
          "2021-01-11",
          "2021-01-12",
          "2021-01-13",
          "2021-01-14",
          "2021-01-15",
          "2021-01-16",
          "2021-01-17",
          "2021-01-18",
          "2021-01-19",
          "2021-01-20",
          "2021-01-21",
          "2021-01-22",
          "2021-01-23",
          "2021-01-24",
          "2021-01-25",
          "2021-01-26",
          "2021-01-27",
          "2021-01-28",
          "2021-01-29",
          "2021-01-30",
          "2021-01-31",
          "2021-02-01",
          "2021-02-02",
          "2021-02-03",
          "2021-02-04",
          "2021-02-05",
          "2021-02-06",
          "2021-02-07",
          "2021-02-08",
          "2021-02-09",
          "2021-02-10",
          "2021-02-11",
          "2021-02-12",
          "2021-02-13",
          "2021-02-14",
          "2021-02-15",
          "2021-02-16",
          "2021-02-17",
          "2021-02-18",
          "2021-02-19",
          "2021-02-20",
          "2021-02-21",
          "2021-02-22",
          "2021-02-23",
          "2021-02-24",
          "2021-02-25",
          "2021-02-26",
          "2021-02-27",
          "2021-02-28",
          "2021-03-01",
          "2021-03-02",
          "2021-03-03",
          "2021-03-04",
          "2021-03-05",
          "2021-03-06",
          "2021-03-07",
          "2021-03-08",
          "2021-03-09",
          "2021-03-10",
          "2021-03-11",
          "2021-03-12",
          "2021-03-13",
          "2021-03-14",
          "2021-03-15",
          "2021-03-16",
          "2021-03-17",
          "2021-03-18",
          "2021-03-19",
          "2021-03-20",
          "2021-03-21",
          "2021-03-22",
          "2021-03-23",
          "2021-03-24",
          "2021-03-25",
          "2021-03-26",
          "2021-03-27",
          "2021-03-28",
          "2021-03-29",
          "2021-03-30",
          "2021-03-31",
          "2021-04-01",
          "2021-04-02",
          "2021-04-03",
          "2021-04-04",
          "2021-04-05",
          "2021-04-06",
          "2021-04-07",
          "2021-04-08",
          "2021-04-09",
          "2021-04-10",
          "2021-04-11",
          "2021-04-12",
          "2021-04-13",
          "2021-04-14",
          "2021-04-15",
          "2021-04-16",
          "2021-04-17",
          "2021-04-18",
          "2021-04-19",
          "2021-04-20",
          "2021-04-21",
          "2021-04-22",
          "2021-04-23",
          "2021-04-24",
          "2021-04-25",
          "2021-04-26",
          "2021-04-27",
          "2021-04-28",
          "2021-04-29",
          "2021-04-30",
          "2021-05-01",
          "2021-05-02",
          "2021-05-03",
          "2021-05-04",
          "2021-05-05",
          "2021-05-06",
          "2021-05-07",
          "2021-05-08",
          "2021-05-09",
          "2021-05-10",
          "2021-05-11",
          "2021-05-12",
          "2021-05-13",
          "2021-05-14",
          "2021-05-15",
          "2021-05-16",
          "2021-05-17",
          "2021-05-18",
          "2021-05-19",
          "2021-05-20",
          "2021-05-21",
          "2021-05-22",
          "2021-05-23",
          "2021-05-24",
          "2021-05-25",
          "2021-05-26",
          "2021-05-27",
          "2021-05-28",
          "2021-05-29",
          "2021-05-30",
          "2021-05-31",
          "2021-06-01",
          "2021-06-02",
          "2021-06-03",
          "2021-06-04",
          "2021-06-05",
          "2021-06-06",
          "2021-06-07",
          "2021-06-08",
          "2021-06-09",
          "2021-06-10",
          "2021-06-11",
          "2021-06-12",
          "2021-06-13",
          "2021-06-14",
          "2021-06-15",
          "2021-06-16",
          "2021-06-17",
          "2021-06-18",
          "2021-06-19",
          "2021-06-20",
          "2021-06-21",
          "2021-06-22",
          "2021-06-23",
          "2021-06-24",
          "2021-06-25",
          "2021-06-26",
          "2021-06-27",
          "2021-06-28",
          "2021-06-29",
          "2021-06-30",
          "2021-07-01",
          "2021-07-02",
          "2021-07-03",
          "2021-07-04",
          "2021-07-05",
          "2021-07-06",
          "2021-07-07",
          "2021-07-08",
          "2021-07-09",
          "2021-07-10",
          "2021-07-11",
          "2021-07-12",
          "2021-07-13",
          "2021-07-14",
          "2021-07-15",
          "2021-07-16",
          "2021-07-17",
          "2021-07-18",
          "2021-07-19",
          "2021-07-20",
          "2021-07-21",
          "2021-07-22",
          "2021-07-23",
          "2021-07-24",
          "2021-07-25",
          "2021-07-26",
          "2021-07-27",
          "2021-07-28",
          "2021-07-29",
          "2021-07-30",
          "2021-07-31",
          "2021-08-01",
          "2021-08-02",
          "2021-08-03",
          "2021-08-04",
          "2021-08-05",
          "2021-08-06",
          "2021-08-07",
          "2021-08-08",
          "2021-08-09",
          "2021-08-10",
          "2021-08-11",
          "2021-08-12",
          "2021-08-13",
          "2021-08-14",
          "2021-08-15",
          "2021-08-16",
          "2021-08-17",
          "2021-08-18",
          "2021-08-19",
          "2021-08-20",
          "2021-08-21",
          "2021-08-22",
          "2021-08-23",
          "2021-08-24",
          "2021-08-25",
          "2021-08-26",
          "2021-08-27",
          "2021-08-28",
          "2021-08-29",
          "2021-08-30",
          "2021-08-31",
          "2021-09-01",
          "2021-09-02",
          "2021-09-03",
          "2021-09-04",
          "2021-09-05",
          "2021-09-06",
          "2021-09-07",
          "2021-09-08",
          "2021-09-09",
          "2021-09-10",
          "2021-09-11",
          "2021-09-12",
          "2021-09-13",
          "2021-09-14",
          "2021-09-15",
          "2021-09-16",
          "2021-09-17",
          "2021-09-18",
          "2021-09-19",
          "2021-09-20",
          "2021-09-21",
          "2021-09-22",
          "2021-09-23",
          "2021-09-24",
          "2021-09-25",
          "2021-09-26",
          "2021-09-27",
          "2021-09-28",
          "2021-09-29",
          "2021-09-30",
          "2021-10-01",
          "2021-10-02",
          "2021-10-03",
          "2021-10-04",
          "2021-10-05",
          "2021-10-06",
          "2021-10-07",
          "2021-10-08",
          "2021-10-09",
          "2021-10-10",
          "2021-10-11",
          "2021-10-12",
          "2021-10-13",
          "2021-10-14",
          "2021-10-15",
          "2021-10-16",
          "2021-10-17",
          "2021-10-18",
          "2021-10-19",
          "2021-10-20",
          "2021-10-21",
          "2021-10-22",
          "2021-10-23",
          "2021-10-24",
          "2021-10-25",
          "2021-10-26",
          "2021-10-27",
          "2021-10-28",
          "2021-10-29",
          "2021-10-30",
          "2021-10-31",
          "2021-11-01",
          "2021-11-02",
          "2021-11-03",
          "2021-11-04",
          "2021-11-05",
          "2021-11-06",
          "2021-11-07",
          "2021-11-08",
          "2021-11-09",
          "2021-11-10",
          "2021-11-11",
          "2021-11-12",
          "2021-11-13",
          "2021-11-14",
          "2021-11-15",
          "2021-11-16",
          "2021-11-17",
          "2021-11-18",
          "2021-11-19",
          "2021-11-20",
          "2021-11-21",
          "2021-11-22",
          "2021-11-23",
          "2021-11-24",
          "2021-11-25",
          "2021-11-26",
          "2021-11-27",
          "2021-11-28",
          "2021-11-29",
          "2021-11-30",
          "2021-12-01",
          "2021-12-02",
          "2021-12-03",
          "2021-12-04",
          "2021-12-05",
          "2021-12-06",
          "2021-12-07",
          "2021-12-08",
          "2021-12-09",
          "2021-12-10",
          "2021-12-11",
          "2021-12-12",
          "2021-12-13",
          "2021-12-14",
          "2021-12-15",
          "2021-12-16",
          "2021-12-17",
          "2021-12-18",
          "2021-12-19",
          "2021-12-20",
          "2021-12-21",
          "2021-12-22",
          "2021-12-23",
          "2021-12-24",
          "2021-12-25",
          "2021-12-26",
          "2021-12-27",
          "2021-12-28",
          "2021-12-29",
          "2021-12-30",
          "2021-12-31",
          "2022-01-01",
          "2022-01-02",
          "2022-01-03",
          "2022-01-04",
          "2022-01-05",
          "2022-01-06",
          "2022-01-07",
          "2022-01-08",
          "2022-01-09",
          "2022-01-10",
          "2022-01-11",
          "2022-01-12",
          "2022-01-13",
          "2022-01-14",
          "2022-01-15",
          "2022-01-16",
          "2022-01-17",
          "2022-01-18",
          "2022-01-19",
          "2022-01-20",
          "2022-01-21",
          "2022-01-22",
          "2022-01-23",
          "2022-01-24",
          "2022-01-25",
          "2022-01-26",
          "2022-01-27",
          "2022-01-28",
          "2022-01-29",
          "2022-01-30",
          "2022-01-31",
          "2022-02-01",
          "2022-02-02",
          "2022-02-03",
          "2022-02-04",
          "2022-02-05",
          "2022-02-06",
          "2022-02-07",
          "2022-02-08",
          "2022-02-09",
          "2022-02-10",
          "2022-02-11",
          "2022-02-12",
          "2022-02-13",
          "2022-02-14",
          "2022-02-15",
          "2022-02-16",
          "2022-02-17",
          "2022-02-18",
          "2022-02-19",
          "2022-02-20",
          "2022-02-21",
          "2022-02-22",
          "2022-02-23",
          "2022-02-24",
          "2022-02-25",
          "2022-02-26",
          "2022-02-27",
          "2022-02-28",
          "2022-03-01",
          "2022-03-02",
          "2022-03-03",
          "2022-03-04",
          "2022-03-05"
         ],
         "legendgroup": "",
         "marker": {
          "color": "#636efa",
          "symbol": "circle"
         },
         "mode": "markers",
         "name": "",
         "orientation": "v",
         "showlegend": false,
         "type": "scatter",
         "x": [
          0,
          0,
          0,
          0,
          0,
          0,
          0,
          0,
          0,
          5527,
          5645,
          5904,
          6369,
          7107,
          8302,
          9349,
          10046,
          11521,
          14374,
          17276,
          18363,
          18464,
          19427,
          20165,
          24345,
          30227,
          37992,
          41200,
          47823,
          50737,
          53181,
          99024,
          187433,
          359999,
          641519,
          1005711,
          1135491,
          1852446,
          2214889,
          2582317,
          2928347,
          3146251,
          3315852,
          3419129,
          3579229,
          3974011,
          4554723,
          5250287,
          5846204,
          6237090,
          6552132,
          6896917,
          7755429,
          8752655,
          9786943,
          10823775,
          11719529,
          12297119,
          12780952,
          13781175,
          14938617,
          16364886,
          17927112,
          19411639,
          20154287,
          20734141,
          21882118,
          23330591,
          24990082,
          26788424,
          28959897,
          30071289,
          30785326,
          32056135,
          33801056,
          35769514,
          37751721,
          40205854,
          41571286,
          42388973,
          43929750,
          48067991,
          50259096,
          52804454,
          55430670,
          57120101,
          57760470,
          59310769,
          62266250,
          64776686,
          67587103,
          70293048,
          72343915,
          73116844,
          75135960,
          77535767,
          80661675,
          83618524,
          87072572,
          89504480,
          90411108,
          93313881,
          96386451,
          100213873,
          103314254,
          106771225,
          108975246,
          109910250,
          112350345,
          115150554,
          118808677,
          122543829,
          126535050,
          128909748,
          130007427,
          134293511,
          138050459,
          142436168,
          147363832,
          150839720,
          153442552,
          154611060,
          158024857,
          162444117,
          167744184,
          173267782,
          178954225,
          182979682,
          185167871,
          189587196,
          194020800,
          199398359,
          204822615,
          210187830,
          213845503,
          216454463,
          221242952,
          227550824,
          232853451,
          239389184,
          244903166,
          248423968,
          252694002,
          258097748,
          264467864,
          271738384,
          279336216,
          285601690,
          289318727,
          291922359,
          296421577,
          303123551,
          310663910,
          317886198,
          325502457,
          330490929,
          333145460,
          338715518,
          346178692,
          352767478,
          358963362,
          364216984,
          368556038,
          371613316,
          376087544,
          381849576,
          387455745,
          393694808,
          399856152,
          404991395,
          408054439,
          412142900,
          417040906,
          422419534,
          427895587,
          433427864,
          437643880,
          440919042,
          445747165,
          452249438,
          458443387,
          463991135,
          469917577,
          475211743,
          479159430,
          484340904,
          491320673,
          498602830,
          505457418,
          512391253,
          517909944,
          522426108,
          528780088,
          536408210,
          543849816,
          551659836,
          558683121,
          564668547,
          569560529,
          576010247,
          583658639,
          591022950,
          599327205,
          606745821,
          613579899,
          620548225,
          627768240,
          637017374,
          644996103,
          653057840,
          659974852,
          668729700,
          674380009,
          685141870,
          693145461,
          702726952,
          714323857,
          721463617,
          729690742,
          735900161,
          746208740,
          755803328,
          765870696,
          776383721,
          785737898,
          794478086,
          799602220,
          809239199,
          817783683,
          826520799,
          836781223,
          846254610,
          854183016,
          861772823,
          873275220,
          883768997,
          893816649,
          905875589,
          915786935,
          922925709,
          929995634,
          937977463,
          950298621,
          960212523,
          969897748,
          978034900,
          986044702,
          992592811,
          1008639659,
          1020397838,
          1030744130,
          1818546380,
          1831168006,
          1840925903,
          1847177512,
          1857512970,
          1869337793,
          1880195301,
          1891100468,
          1903780002,
          1910999811,
          1918929749,
          1927251568,
          1941957735,
          1954316100,
          2078592120,
          2094098111,
          2103296831,
          2119664512,
          2130133330,
          2143580074,
          2158336197,
          2169580646,
          2179400164,
          2188796085,
          2199896795,
          2289555205,
          2302000751,
          2319243998,
          2335569559,
          2347143014,
          2359572241,
          2371665518,
          2383062657,
          2394635047,
          2449313509,
          2462009473,
          2472753894,
          2497317977,
          2507796929,
          2519421214,
          2532298463,
          2542918032,
          2555481066,
          2566871978,
          2575901341,
          2584858497,
          2603181773,
          2639065343,
          2649776940,
          2662607289,
          2672635888,
          2681584786,
          2690903769,
          2702339522,
          2719125409,
          2730255021,
          2742240195,
          2756879467,
          2766713225,
          2780195048,
          2790584607,
          2801426067,
          2811354796,
          2821033212,
          2829808555,
          2835473889,
          2846717747,
          2860575686,
          2873163692,
          2886824214,
          2898195261,
          2909974577,
          2941613342,
          2953594094,
          2962675549,
          2973906200,
          2983409291,
          2996115033,
          3017281276,
          3030594447,
          3047503732,
          3056828233,
          3066080559,
          3075472410,
          3085211849,
          3098715822,
          3105541971,
          3114241113,
          3123010999,
          3134250264,
          3146374348,
          3159204101,
          3172853217,
          3186073378,
          3196750422,
          3205255314,
          3214219219,
          3225915329,
          3238876036,
          3251403715,
          3264103986,
          3274023607,
          3284461289,
          3294589105,
          3308655795,
          3316694989,
          3329802559,
          3337624861,
          3352001257,
          3395715268,
          3409858017,
          3422821161,
          3468931026,
          3493143576,
          3506424189,
          3516374259,
          3525347036,
          3535122678,
          3549170306,
          3565073577,
          3610288024,
          3626763857,
          3639404212,
          3647852191,
          3661122519,
          3672628538,
          3680068847,
          3716528884,
          3725651223,
          3741199510,
          3756078171,
          3766728157,
          3773758218,
          3783097519,
          3793101723,
          3811164447,
          3817083329,
          3823708045,
          3845091498,
          3856120424,
          3876967171,
          3887731381,
          3895377671,
          3898847265,
          3906569347,
          3916369411,
          3922925460,
          3936288613,
          3947517394,
          3951997162,
          3961175752,
          3984122815,
          3994530052,
          4002256103,
          4015768523,
          4025511325,
          4033693938,
          4042109778,
          4050277545,
          4055356850,
          4069697563,
          4078049032,
          4091203387,
          4098676375,
          4104393401,
          4109922271,
          4117505622,
          4124517516,
          4131382616,
          4143131941,
          4148763762,
          4156480498,
          4164931753,
          4173336960,
          4180959618,
          4186896557,
          4197285183,
          4203716136,
          4210767624,
          4215917502,
          4225122379,
          4233360982,
          4240593142,
          4250938885,
          4256042939,
          4265315793,
          4270676154,
          4280535138,
          4286010559,
          4292741092,
          4317741334,
          4326589280,
          4331591758,
          4339933555,
          4346555670,
          4351701456,
          4356388624,
          4363641413,
          4368636406,
          4371648348,
          4383014364,
          4385303379,
          4387582839,
          4393034333,
          4396313796,
          4400787171
         ],
         "xaxis": "x",
         "y": [
          688697,
          648934,
          536299,
          527640,
          643258,
          674732,
          679724,
          707122,
          641449,
          534222,
          543390,
          663527,
          725238,
          741142,
          723922,
          619346,
          537711,
          552687,
          665952,
          692807,
          688172,
          489195,
          515361,
          411392,
          501799,
          673644,
          736808,
          827634,
          574155,
          589174,
          520877,
          558845,
          745033,
          796903,
          891308,
          824282,
          754630,
          587925,
          612887,
          704968,
          750493,
          756188,
          773518,
          651775,
          527259,
          519452,
          591643,
          701100,
          655969,
          664125,
          572983,
          461122,
          480916,
          563317,
          604477,
          610188,
          591507,
          519234,
          387172,
          443175,
          467578,
          526826,
          471108,
          535378,
          433470,
          350905,
          339491,
          408258,
          442192,
          443801,
          430393,
          379004,
          307621,
          281191,
          361248,
          388374,
          410504,
          410229,
          373634,
          317935,
          295118,
          394554,
          447538,
          453067,
          441971,
          395722,
          307312,
          305649,
          389560,
          444298,
          458201,
          449263,
          413303,
          372836,
          303836,
          416798,
          470665,
          480877,
          490166,
          452622,
          362716,
          355005,
          470238,
          550817,
          547404,
          561953,
          496150,
          435153,
          424313,
          520866,
          639441,
          651355,
          639592,
          581483,
          475690,
          460902,
          575345,
          682297,
          708942,
          637820,
          525609,
          556866,
          494966,
          607014,
          684882,
          842852,
          750494,
          665300,
          692683,
          613355,
          783311,
          821435,
          816275,
          855381,
          789589,
          681309,
          694249,
          861185,
          888571,
          902252,
          902534,
          814937,
          724713,
          682649,
          854489,
          904603,
          894527,
          881653,
          794032,
          679159,
          686762,
          801886,
          846518,
          868954,
          831340,
          785875,
          636262,
          626118,
          739465,
          759373,
          731654,
          708774,
          630908,
          544863,
          543596,
          625356,
          673520,
          629259,
          625645,
          571692,
          479180,
          450704,
          534918,
          570349,
          547785,
          504368,
          479473,
          389099,
          386852,
          461324,
          487794,
          479794,
          424990,
          396714,
          322643,
          322082,
          371750,
          418529,
          453177,
          422142,
          368029,
          302411,
          309519,
          375539,
          388892,
          395684,
          403366,
          348193,
          303031,
          296851,
          410391,
          397119,
          408663,
          417739,
          363013,
          310726,
          333249,
          381100,
          399260,
          435424,
          442343,
          374043,
          327874,
          376660,
          451342,
          464924,
          481649,
          513789,
          421501,
          370142,
          433065,
          526116,
          538122,
          576027,
          595329,
          489600,
          421241,
          487613,
          532642,
          555062,
          565222,
          727961,
          490842,
          445145,
          540034,
          606988,
          649846,
          642927,
          731810,
          516272,
          481891,
          572138,
          634230,
          680924,
          684588,
          818927,
          560502,
          466838,
          620743,
          645972,
          729603,
          706654,
          801043,
          551571,
          466417,
          665791,
          681816,
          735598,
          711001,
          785826,
          554650,
          448584,
          687643,
          688092,
          732347,
          739199,
          741206,
          558250,
          445767,
          666781,
          634431,
          726061,
          674948,
          714607,
          495380,
          442346,
          448058,
          701644,
          629537,
          647199,
          639648,
          464452,
          373086,
          587344,
          550410,
          572039,
          584146,
          621984,
          400681,
          365622,
          525356,
          487230,
          540394,
          545718,
          550237,
          377817,
          357311,
          475360,
          454574,
          490640,
          489158,
          521146,
          353898,
          311898,
          438460,
          425784,
          508314,
          461184,
          475693,
          344337,
          319905,
          377869,
          441867,
          457896,
          453842,
          459287,
          347700,
          317645,
          413745,
          447141,
          478318,
          463666,
          488795,
          371622,
          316397,
          427568,
          449586,
          520080,
          463857,
          508971,
          389334,
          346340,
          421008,
          426168,
          538266,
          523859,
          520733,
          426950,
          349453,
          477486,
          488325,
          589183,
          518867,
          595877,
          429817,
          363480,
          538581,
          526831,
          634183,
          615233,
          620493,
          481010,
          403567,
          619817,
          595501,
          673136,
          596745,
          598726,
          460761,
          408721,
          653658,
          623349,
          712931,
          706436,
          717210,
          513407,
          439331,
          591267,
          697340,
          670681,
          727600,
          688074,
          499048,
          439210,
          625949,
          659374,
          744952,
          737302,
          732460,
          581077,
          481753,
          744732,
          797266,
          906982,
          996976,
          856016,
          693331,
          578659,
          1281218,
          1331053,
          1724220,
          1940530,
          1715008,
          1194627,
          911858,
          2422782,
          2525019,
          2564924,
          2632856,
          2926756,
          2143373,
          2011939,
          3164652,
          3088630,
          3519679,
          3169740,
          3280358,
          2448865,
          2146696,
          2697201,
          3788087,
          4206334,
          3691329,
          3810842,
          2718905,
          2417784,
          3476376,
          3659392,
          3830779,
          3695211,
          3600517,
          2654716,
          2262423,
          2756868,
          3296903,
          3214698,
          3162945,
          2924578,
          2225128,
          1816457,
          2543573,
          2842216,
          2455501,
          2766818,
          2386649,
          1827503,
          1451313,
          1790115,
          1790874,
          2419675,
          2033799,
          1940000,
          1552157,
          1266349,
          1457542,
          1805873,
          1939520,
          1755446,
          1591820,
          1328773,
          1065246,
          1403481,
          1536867,
          1651452,
          1887465,
          1704138,
          1361810
         ],
         "yaxis": "y"
        },
        {
         "hovertemplate": "<b>OLS trendline</b><br>NewCases = 0.000266212 * PeopleFullyVaccinated + 390849<br>R<sup>2</sup>=0.332612<br><br>PeopleFullyVaccinated=%{x}<br>NewCases=%{y} <b>(trend)</b><extra></extra>",
         "legendgroup": "",
         "marker": {
          "color": "#636efa",
          "symbol": "circle"
         },
         "mode": "lines",
         "name": "",
         "showlegend": false,
         "type": "scatter",
         "x": [
          0,
          0,
          0,
          0,
          0,
          0,
          0,
          0,
          0,
          5527,
          5645,
          5904,
          6369,
          7107,
          8302,
          9349,
          10046,
          11521,
          14374,
          17276,
          18363,
          18464,
          19427,
          20165,
          24345,
          30227,
          37992,
          41200,
          47823,
          50737,
          53181,
          99024,
          187433,
          359999,
          641519,
          1005711,
          1135491,
          1852446,
          2214889,
          2582317,
          2928347,
          3146251,
          3315852,
          3419129,
          3579229,
          3974011,
          4554723,
          5250287,
          5846204,
          6237090,
          6552132,
          6896917,
          7755429,
          8752655,
          9786943,
          10823775,
          11719529,
          12297119,
          12780952,
          13781175,
          14938617,
          16364886,
          17927112,
          19411639,
          20154287,
          20734141,
          21882118,
          23330591,
          24990082,
          26788424,
          28959897,
          30071289,
          30785326,
          32056135,
          33801056,
          35769514,
          37751721,
          40205854,
          41571286,
          42388973,
          43929750,
          48067991,
          50259096,
          52804454,
          55430670,
          57120101,
          57760470,
          59310769,
          62266250,
          64776686,
          67587103,
          70293048,
          72343915,
          73116844,
          75135960,
          77535767,
          80661675,
          83618524,
          87072572,
          89504480,
          90411108,
          93313881,
          96386451,
          100213873,
          103314254,
          106771225,
          108975246,
          109910250,
          112350345,
          115150554,
          118808677,
          122543829,
          126535050,
          128909748,
          130007427,
          134293511,
          138050459,
          142436168,
          147363832,
          150839720,
          153442552,
          154611060,
          158024857,
          162444117,
          167744184,
          173267782,
          178954225,
          182979682,
          185167871,
          189587196,
          194020800,
          199398359,
          204822615,
          210187830,
          213845503,
          216454463,
          221242952,
          227550824,
          232853451,
          239389184,
          244903166,
          248423968,
          252694002,
          258097748,
          264467864,
          271738384,
          279336216,
          285601690,
          289318727,
          291922359,
          296421577,
          303123551,
          310663910,
          317886198,
          325502457,
          330490929,
          333145460,
          338715518,
          346178692,
          352767478,
          358963362,
          364216984,
          368556038,
          371613316,
          376087544,
          381849576,
          387455745,
          393694808,
          399856152,
          404991395,
          408054439,
          412142900,
          417040906,
          422419534,
          427895587,
          433427864,
          437643880,
          440919042,
          445747165,
          452249438,
          458443387,
          463991135,
          469917577,
          475211743,
          479159430,
          484340904,
          491320673,
          498602830,
          505457418,
          512391253,
          517909944,
          522426108,
          528780088,
          536408210,
          543849816,
          551659836,
          558683121,
          564668547,
          569560529,
          576010247,
          583658639,
          591022950,
          599327205,
          606745821,
          613579899,
          620548225,
          627768240,
          637017374,
          644996103,
          653057840,
          659974852,
          668729700,
          674380009,
          685141870,
          693145461,
          702726952,
          714323857,
          721463617,
          729690742,
          735900161,
          746208740,
          755803328,
          765870696,
          776383721,
          785737898,
          794478086,
          799602220,
          809239199,
          817783683,
          826520799,
          836781223,
          846254610,
          854183016,
          861772823,
          873275220,
          883768997,
          893816649,
          905875589,
          915786935,
          922925709,
          929995634,
          937977463,
          950298621,
          960212523,
          969897748,
          978034900,
          986044702,
          992592811,
          1008639659,
          1020397838,
          1030744130,
          1818546380,
          1831168006,
          1840925903,
          1847177512,
          1857512970,
          1869337793,
          1880195301,
          1891100468,
          1903780002,
          1910999811,
          1918929749,
          1927251568,
          1941957735,
          1954316100,
          2078592120,
          2094098111,
          2103296831,
          2119664512,
          2130133330,
          2143580074,
          2158336197,
          2169580646,
          2179400164,
          2188796085,
          2199896795,
          2289555205,
          2302000751,
          2319243998,
          2335569559,
          2347143014,
          2359572241,
          2371665518,
          2383062657,
          2394635047,
          2449313509,
          2462009473,
          2472753894,
          2497317977,
          2507796929,
          2519421214,
          2532298463,
          2542918032,
          2555481066,
          2566871978,
          2575901341,
          2584858497,
          2603181773,
          2639065343,
          2649776940,
          2662607289,
          2672635888,
          2681584786,
          2690903769,
          2702339522,
          2719125409,
          2730255021,
          2742240195,
          2756879467,
          2766713225,
          2780195048,
          2790584607,
          2801426067,
          2811354796,
          2821033212,
          2829808555,
          2835473889,
          2846717747,
          2860575686,
          2873163692,
          2886824214,
          2898195261,
          2909974577,
          2941613342,
          2953594094,
          2962675549,
          2973906200,
          2983409291,
          2996115033,
          3017281276,
          3030594447,
          3047503732,
          3056828233,
          3066080559,
          3075472410,
          3085211849,
          3098715822,
          3105541971,
          3114241113,
          3123010999,
          3134250264,
          3146374348,
          3159204101,
          3172853217,
          3186073378,
          3196750422,
          3205255314,
          3214219219,
          3225915329,
          3238876036,
          3251403715,
          3264103986,
          3274023607,
          3284461289,
          3294589105,
          3308655795,
          3316694989,
          3329802559,
          3337624861,
          3352001257,
          3395715268,
          3409858017,
          3422821161,
          3468931026,
          3493143576,
          3506424189,
          3516374259,
          3525347036,
          3535122678,
          3549170306,
          3565073577,
          3610288024,
          3626763857,
          3639404212,
          3647852191,
          3661122519,
          3672628538,
          3680068847,
          3716528884,
          3725651223,
          3741199510,
          3756078171,
          3766728157,
          3773758218,
          3783097519,
          3793101723,
          3811164447,
          3817083329,
          3823708045,
          3845091498,
          3856120424,
          3876967171,
          3887731381,
          3895377671,
          3898847265,
          3906569347,
          3916369411,
          3922925460,
          3936288613,
          3947517394,
          3951997162,
          3961175752,
          3984122815,
          3994530052,
          4002256103,
          4015768523,
          4025511325,
          4033693938,
          4042109778,
          4050277545,
          4055356850,
          4069697563,
          4078049032,
          4091203387,
          4098676375,
          4104393401,
          4109922271,
          4117505622,
          4124517516,
          4131382616,
          4143131941,
          4148763762,
          4156480498,
          4164931753,
          4173336960,
          4180959618,
          4186896557,
          4197285183,
          4203716136,
          4210767624,
          4215917502,
          4225122379,
          4233360982,
          4240593142,
          4250938885,
          4256042939,
          4265315793,
          4270676154,
          4280535138,
          4286010559,
          4292741092,
          4317741334,
          4326589280,
          4331591758,
          4339933555,
          4346555670,
          4351701456,
          4356388624,
          4363641413,
          4368636406,
          4371648348,
          4383014364,
          4385303379,
          4387582839,
          4393034333,
          4396313796,
          4400787171
         ],
         "xaxis": "x",
         "y": [
          390849.3005973981,
          390849.3005973981,
          390849.3005973981,
          390849.3005973981,
          390849.3005973981,
          390849.3005973981,
          390849.3005973981,
          390849.3005973981,
          390849.3005973981,
          390850.7719484698,
          390850.8033614292,
          390850.8723102129,
          390850.99609856977,
          390851.1925626716,
          390851.5106854382,
          390851.7894088997,
          390851.9749583292,
          390852.36762032146,
          390853.12712178833,
          390853.8996676198,
          390854.1890395421,
          390854.2159269057,
          390854.4722885995,
          390854.66875270143,
          390855.7815168555,
          390857.3473730169,
          390859.41450547066,
          390860.2685120272,
          390862.031630925,
          390862.80737129465,
          390863.45799224987,
          390875.661926967,
          390899.1974212497,
          390945.13647843164,
          391020.0803455773,
          391117.03245151474,
          391151.5813825966,
          391342.443063008,
          391438.92956499674,
          391536.7431314133,
          391628.86030372226,
          391686.86885880365,
          391732.0185988284,
          391759.51212599233,
          391802.13259036443,
          391907.2281067025,
          392061.82033097744,
          392246.98748076183,
          392405.62745120033,
          392509.685807456,
          392593.5536171793,
          392685.33935614565,
          392913.88514071144,
          393179.35819007986,
          393454.6975708071,
          393730.7141936416,
          393969.1742276399,
          394122.93533954903,
          394251.7372579658,
          394518.00814326,
          394826.1325375368,
          395205.8217761343,
          395621.70433437347,
          396016.90252371045,
          396214.6039767084,
          396368.9677914991,
          396674.5724937379,
          397060.1726929283,
          397501.94831467245,
          397980.68767219747,
          398558.7588004384,
          398854.6241542134,
          399044.7090294091,
          399383.01302508794,
          399847.5310969964,
          400371.55729347904,
          400899.2436321519,
          401552.56210867147,
          401916.0558370191,
          402133.73353627574,
          402543.90612361976,
          403645.55355087435,
          404228.85094367835,
          404906.4545661213,
          405605.5835196585,
          406055.32951431524,
          406225.80311924627,
          406638.5105726849,
          407425.2936623962,
          408093.6006461333,
          408841.7660278891,
          409562.1197597144,
          410108.0841813591,
          410313.84678539797,
          410851.35872506717,
          411490.21499454434,
          412322.367714996,
          413109.51498206676,
          414029.0223507323,
          414676.42427621706,
          414917.77909428516,
          415690.53070719365,
          416508.48423758487,
          417527.3880663656,
          418352.745205343,
          419273.0307102819,
          419859.7664910798,
          420108.67532724305,
          420758.256726443,
          421503.7046210014,
          422477.5391056365,
          423471.8795974553,
          424534.3886070211,
          425166.56057143945,
          425458.775366639,
          426599.78030366346,
          427599.92314177495,
          428767.44940149185,
          430079.2503255983,
          431004.57175386336,
          431697.475617214,
          432008.54590817244,
          432917.3379969414,
          434093.7959193701,
          435504.7348122057,
          436975.1802323464,
          438488.97686748195,
          439560.59989465075,
          440143.1210146621,
          441319.5962408395,
          442499.8727013129,
          443931.440857266,
          445375.44029257447,
          446803.7223335232,
          447777.43702297425,
          448471.97223052016,
          449746.72316631314,
          451425.9513601886,
          452837.5717545157,
          454577.4591715784,
          456045.3447017416,
          456982.62275422155,
          458119.35499634803,
          459557.8944333787,
          461253.6926971128,
          463189.18887841376,
          465211.8192847899,
          466879.76064263505,
          467869.2787127668,
          468562.3955453335,
          469760.1392084884,
          471544.2818948682,
          473551.6123265482,
          475474.2685938105,
          477501.80447986803,
          478829.7931940902,
          479536.4599268198,
          481019.2735341855,
          483006.0564296846,
          484760.06716652453,
          486409.4828646842,
          487808.0575634676,
          488963.1637247131,
          489777.04634853854,
          490968.1373858054,
          492502.0566835357,
          493994.4834551047,
          495655.3939004918,
          497295.6146527463,
          498662.6754979888,
          499478.09309743927,
          500566.48851522204,
          501870.3941380646,
          503302.2468741328,
          504760.0352675491,
          506232.791137473,
          507355.1431657054,
          508227.02902038174,
          509512.3309835634,
          511243.3109631627,
          512892.21154203085,
          514369.0859703826,
          515946.7731041367,
          517356.141082792,
          518407.0608400407,
          519786.4289100701,
          521644.52382568305,
          523583.1179104437,
          525407.8882017559,
          527253.7549574035,
          528722.894077615,
          529925.1489611899,
          531616.6516358352,
          533647.345589156,
          535628.3868345891,
          537707.5041309976,
          539577.1835071204,
          541170.5728611775,
          542472.8748258228,
          544189.8640589819,
          546225.9541198156,
          548186.4185458006,
          550397.1068928583,
          552372.0279354437,
          554191.3382284781,
          556046.3868856663,
          557968.4380541433,
          560430.6640761254,
          562554.6936518827,
          564700.8209135026,
          566542.209192747,
          568872.8505872925,
          570377.0279353599,
          573241.9593115463,
          575372.607438117,
          577923.3107222933,
          581010.5404310912,
          582911.2267940206,
          585101.382246531,
          586754.4011176155,
          589498.6636035366,
          592052.853459992,
          594732.9027989322,
          597531.5911652967,
          600021.7808439874,
          602348.5195776477,
          603712.6230791131,
          606278.097908118,
          608552.7379824439,
          610878.6589143144,
          613610.1019844839,
          616132.0267384886,
          618242.6597519186,
          620263.1538108458,
          623325.2244012997,
          626118.788728325,
          628793.5894409344,
          632003.8181894334,
          634642.3326745806,
          636542.7565529512,
          638424.8520343726,
          640549.7068658423,
          643829.7410667256,
          646468.9359885182,
          649047.2544585231,
          651213.4580619333,
          653345.7596282554,
          655088.9416790912,
          659360.7974783898,
          662490.9601838845,
          665245.2623048641,
          874967.2968354468,
          878327.3190793591,
          880924.9836729546,
          882589.2340080732,
          885340.6519934437,
          888488.5560994856,
          891378.9498089376,
          894282.0308932271,
          897657.4689138469,
          899579.4652427507,
          901690.5060922296,
          903905.8701784266,
          907820.8212507123,
          911110.7603836248,
          944194.4685829392,
          948322.3420180975,
          950771.147252504,
          955128.4124924389,
          957915.3324461334,
          961495.0106071084,
          965423.2605420933,
          968416.6624033541,
          971030.7312170311,
          973532.0336294178,
          976487.1705129873,
          1000355.2721310991,
          1003668.4198505477,
          1008258.7708463126,
          1012604.82325702,
          1015685.810305671,
          1018994.6137193226,
          1022213.9833727882,
          1025248.0330710568,
          1028328.736604439,
          1042884.773091569,
          1046264.5849674643,
          1049124.8736147399,
          1055664.1154906524,
          1058453.7332318919,
          1061548.2518121107,
          1064976.3238434321,
          1067803.375449997,
          1071147.799828522,
          1074180.1918276548,
          1076583.9122776473,
          1078968.4103924062,
          1083846.2775500403,
          1093398.8972672608,
          1096250.4477875996,
          1099666.034498627,
          1102335.7630831436,
          1104718.0628231694,
          1107198.8834536206,
          1110243.2126435272,
          1114711.8091384477,
          1117674.6400673718,
          1120865.2314568772,
          1124762.374309524,
          1127380.233975248,
          1130969.2505701373,
          1133735.0708649582,
          1136621.192411935,
          1139264.3344519367,
          1141840.840287701,
          1144176.9376873514,
          1145685.1148635086,
          1148678.359393761,
          1152367.5024007536,
          1155718.5746133593,
          1159355.1629406835,
          1162382.2666479691,
          1165518.0562663646,
          1173940.6599919,
          1177130.0741940634,
          1179547.6621345622,
          1182537.3908092682,
          1185067.2231102667,
          1188449.6380024059,
          1194084.3357267762,
          1197628.4552163733,
          1202129.9016804541,
          1204612.1912660734,
          1207075.2670352277,
          1209575.4859667276,
          1212168.2368280846,
          1215763.1500081448,
          1217580.349510036,
          1219896.1613256414,
          1222230.8060090262,
          1225222.8278297668,
          1228450.398661533,
          1231865.8267104942,
          1235499.3786292197,
          1239018.7377853303,
          1241861.0898990142,
          1244125.1901268354,
          1246511.4849031435,
          1249625.1241257954,
          1253075.4136381634,
          1256410.4261083943,
          1259791.3845573068,
          1262432.101942783,
          1265210.7331345868,
          1267906.8744274955,
          1271651.589355526,
          1273791.7154108477,
          1277281.1015456957,
          1279363.4884519945,
          1283190.6506850768,
          1294827.8240041581,
          1298592.7867141978,
          1302043.7249840403,
          1314318.7022384596,
          1320764.361980068,
          1324299.814154993,
          1326948.6374150456,
          1329337.2940199603,
          1331939.6825369806,
          1335679.3229410143,
          1339912.956888888,
          1351949.56355638,
          1356335.6201046396,
          1359700.628224112,
          1361949.5775556883,
          1365482.2917451288,
          1368545.3265537086,
          1370526.0225228001,
          1380232.1043963926,
          1382660.5761286803,
          1386799.7092462936,
          1390760.580208532,
          1393595.7291709045,
          1395467.2123962876,
          1397953.4419124047,
          1400616.6762668877,
          1405425.1814805302,
          1407000.8560551922,
          1408764.4317719503,
          1414456.953300607,
          1417392.9804564156,
          1422942.6246649518,
          1425808.181371999,
          1427843.7118562176,
          1428767.3577491748,
          1430823.0649369266,
          1433431.9548716913,
          1435177.250641997,
          1438734.675915793,
          1441723.9067749563,
          1442916.4726240446,
          1445359.919020551,
          1451468.6915441907,
          1454239.2179262643,
          1456295.9817075394,
          1459893.14357631,
          1462486.7897070092,
          1464665.0955523357,
          1466905.4891118666,
          1469079.8427809654,
          1470432.012286195,
          1474249.6752936048,
          1476472.9325513737,
          1479974.7733921907,
          1481964.1688875484,
          1483486.1070696039,
          1484957.9559568786,
          1486976.731354232,
          1488843.3783149289,
          1490670.9470217407,
          1493798.752690436,
          1495298.0083199195,
          1497352.2923408845,
          1499602.1137814005,
          1501839.6767138378,
          1503868.9160874127,
          1505449.3976434935,
          1508214.9695629661,
          1509926.96333695,
          1511804.1506765748,
          1513175.1075274143,
          1515625.5518261502,
          1517818.7628544886,
          1519744.0471618776,
          1522498.2031327325,
          1523856.9611068738,
          1526325.5016661133,
          1527752.4915163433,
          1530377.0666338736,
          1531834.6867816094,
          1533626.4322027925,
          1540281.7846291112,
          1542637.2097837573,
          1543968.9270565303,
          1546189.6095164765,
          1547952.4928170706,
          1549322.3603303698,
          1550570.1384487322,
          1552500.9144335699,
          1553830.6391131147,
          1554632.4527714637,
          1557658.2171685915,
          1558267.579331331,
          1558874.3978429956,
          1560325.6483476893,
          1561198.6791781138,
          1562389.543136954
         ],
         "yaxis": "y"
        }
       ],
       "layout": {
        "legend": {
         "tracegroupgap": 0
        },
        "template": {
         "data": {
          "bar": [
           {
            "error_x": {
             "color": "#2a3f5f"
            },
            "error_y": {
             "color": "#2a3f5f"
            },
            "marker": {
             "line": {
              "color": "#E5ECF6",
              "width": 0.5
             },
             "pattern": {
              "fillmode": "overlay",
              "size": 10,
              "solidity": 0.2
             }
            },
            "type": "bar"
           }
          ],
          "barpolar": [
           {
            "marker": {
             "line": {
              "color": "#E5ECF6",
              "width": 0.5
             },
             "pattern": {
              "fillmode": "overlay",
              "size": 10,
              "solidity": 0.2
             }
            },
            "type": "barpolar"
           }
          ],
          "carpet": [
           {
            "aaxis": {
             "endlinecolor": "#2a3f5f",
             "gridcolor": "white",
             "linecolor": "white",
             "minorgridcolor": "white",
             "startlinecolor": "#2a3f5f"
            },
            "baxis": {
             "endlinecolor": "#2a3f5f",
             "gridcolor": "white",
             "linecolor": "white",
             "minorgridcolor": "white",
             "startlinecolor": "#2a3f5f"
            },
            "type": "carpet"
           }
          ],
          "choropleth": [
           {
            "colorbar": {
             "outlinewidth": 0,
             "ticks": ""
            },
            "type": "choropleth"
           }
          ],
          "contour": [
           {
            "colorbar": {
             "outlinewidth": 0,
             "ticks": ""
            },
            "colorscale": [
             [
              0,
              "#0d0887"
             ],
             [
              0.1111111111111111,
              "#46039f"
             ],
             [
              0.2222222222222222,
              "#7201a8"
             ],
             [
              0.3333333333333333,
              "#9c179e"
             ],
             [
              0.4444444444444444,
              "#bd3786"
             ],
             [
              0.5555555555555556,
              "#d8576b"
             ],
             [
              0.6666666666666666,
              "#ed7953"
             ],
             [
              0.7777777777777778,
              "#fb9f3a"
             ],
             [
              0.8888888888888888,
              "#fdca26"
             ],
             [
              1,
              "#f0f921"
             ]
            ],
            "type": "contour"
           }
          ],
          "contourcarpet": [
           {
            "colorbar": {
             "outlinewidth": 0,
             "ticks": ""
            },
            "type": "contourcarpet"
           }
          ],
          "heatmap": [
           {
            "colorbar": {
             "outlinewidth": 0,
             "ticks": ""
            },
            "colorscale": [
             [
              0,
              "#0d0887"
             ],
             [
              0.1111111111111111,
              "#46039f"
             ],
             [
              0.2222222222222222,
              "#7201a8"
             ],
             [
              0.3333333333333333,
              "#9c179e"
             ],
             [
              0.4444444444444444,
              "#bd3786"
             ],
             [
              0.5555555555555556,
              "#d8576b"
             ],
             [
              0.6666666666666666,
              "#ed7953"
             ],
             [
              0.7777777777777778,
              "#fb9f3a"
             ],
             [
              0.8888888888888888,
              "#fdca26"
             ],
             [
              1,
              "#f0f921"
             ]
            ],
            "type": "heatmap"
           }
          ],
          "heatmapgl": [
           {
            "colorbar": {
             "outlinewidth": 0,
             "ticks": ""
            },
            "colorscale": [
             [
              0,
              "#0d0887"
             ],
             [
              0.1111111111111111,
              "#46039f"
             ],
             [
              0.2222222222222222,
              "#7201a8"
             ],
             [
              0.3333333333333333,
              "#9c179e"
             ],
             [
              0.4444444444444444,
              "#bd3786"
             ],
             [
              0.5555555555555556,
              "#d8576b"
             ],
             [
              0.6666666666666666,
              "#ed7953"
             ],
             [
              0.7777777777777778,
              "#fb9f3a"
             ],
             [
              0.8888888888888888,
              "#fdca26"
             ],
             [
              1,
              "#f0f921"
             ]
            ],
            "type": "heatmapgl"
           }
          ],
          "histogram": [
           {
            "marker": {
             "pattern": {
              "fillmode": "overlay",
              "size": 10,
              "solidity": 0.2
             }
            },
            "type": "histogram"
           }
          ],
          "histogram2d": [
           {
            "colorbar": {
             "outlinewidth": 0,
             "ticks": ""
            },
            "colorscale": [
             [
              0,
              "#0d0887"
             ],
             [
              0.1111111111111111,
              "#46039f"
             ],
             [
              0.2222222222222222,
              "#7201a8"
             ],
             [
              0.3333333333333333,
              "#9c179e"
             ],
             [
              0.4444444444444444,
              "#bd3786"
             ],
             [
              0.5555555555555556,
              "#d8576b"
             ],
             [
              0.6666666666666666,
              "#ed7953"
             ],
             [
              0.7777777777777778,
              "#fb9f3a"
             ],
             [
              0.8888888888888888,
              "#fdca26"
             ],
             [
              1,
              "#f0f921"
             ]
            ],
            "type": "histogram2d"
           }
          ],
          "histogram2dcontour": [
           {
            "colorbar": {
             "outlinewidth": 0,
             "ticks": ""
            },
            "colorscale": [
             [
              0,
              "#0d0887"
             ],
             [
              0.1111111111111111,
              "#46039f"
             ],
             [
              0.2222222222222222,
              "#7201a8"
             ],
             [
              0.3333333333333333,
              "#9c179e"
             ],
             [
              0.4444444444444444,
              "#bd3786"
             ],
             [
              0.5555555555555556,
              "#d8576b"
             ],
             [
              0.6666666666666666,
              "#ed7953"
             ],
             [
              0.7777777777777778,
              "#fb9f3a"
             ],
             [
              0.8888888888888888,
              "#fdca26"
             ],
             [
              1,
              "#f0f921"
             ]
            ],
            "type": "histogram2dcontour"
           }
          ],
          "mesh3d": [
           {
            "colorbar": {
             "outlinewidth": 0,
             "ticks": ""
            },
            "type": "mesh3d"
           }
          ],
          "parcoords": [
           {
            "line": {
             "colorbar": {
              "outlinewidth": 0,
              "ticks": ""
             }
            },
            "type": "parcoords"
           }
          ],
          "pie": [
           {
            "automargin": true,
            "type": "pie"
           }
          ],
          "scatter": [
           {
            "fillpattern": {
             "fillmode": "overlay",
             "size": 10,
             "solidity": 0.2
            },
            "type": "scatter"
           }
          ],
          "scatter3d": [
           {
            "line": {
             "colorbar": {
              "outlinewidth": 0,
              "ticks": ""
             }
            },
            "marker": {
             "colorbar": {
              "outlinewidth": 0,
              "ticks": ""
             }
            },
            "type": "scatter3d"
           }
          ],
          "scattercarpet": [
           {
            "marker": {
             "colorbar": {
              "outlinewidth": 0,
              "ticks": ""
             }
            },
            "type": "scattercarpet"
           }
          ],
          "scattergeo": [
           {
            "marker": {
             "colorbar": {
              "outlinewidth": 0,
              "ticks": ""
             }
            },
            "type": "scattergeo"
           }
          ],
          "scattergl": [
           {
            "marker": {
             "colorbar": {
              "outlinewidth": 0,
              "ticks": ""
             }
            },
            "type": "scattergl"
           }
          ],
          "scattermapbox": [
           {
            "marker": {
             "colorbar": {
              "outlinewidth": 0,
              "ticks": ""
             }
            },
            "type": "scattermapbox"
           }
          ],
          "scatterpolar": [
           {
            "marker": {
             "colorbar": {
              "outlinewidth": 0,
              "ticks": ""
             }
            },
            "type": "scatterpolar"
           }
          ],
          "scatterpolargl": [
           {
            "marker": {
             "colorbar": {
              "outlinewidth": 0,
              "ticks": ""
             }
            },
            "type": "scatterpolargl"
           }
          ],
          "scatterternary": [
           {
            "marker": {
             "colorbar": {
              "outlinewidth": 0,
              "ticks": ""
             }
            },
            "type": "scatterternary"
           }
          ],
          "surface": [
           {
            "colorbar": {
             "outlinewidth": 0,
             "ticks": ""
            },
            "colorscale": [
             [
              0,
              "#0d0887"
             ],
             [
              0.1111111111111111,
              "#46039f"
             ],
             [
              0.2222222222222222,
              "#7201a8"
             ],
             [
              0.3333333333333333,
              "#9c179e"
             ],
             [
              0.4444444444444444,
              "#bd3786"
             ],
             [
              0.5555555555555556,
              "#d8576b"
             ],
             [
              0.6666666666666666,
              "#ed7953"
             ],
             [
              0.7777777777777778,
              "#fb9f3a"
             ],
             [
              0.8888888888888888,
              "#fdca26"
             ],
             [
              1,
              "#f0f921"
             ]
            ],
            "type": "surface"
           }
          ],
          "table": [
           {
            "cells": {
             "fill": {
              "color": "#EBF0F8"
             },
             "line": {
              "color": "white"
             }
            },
            "header": {
             "fill": {
              "color": "#C8D4E3"
             },
             "line": {
              "color": "white"
             }
            },
            "type": "table"
           }
          ]
         },
         "layout": {
          "annotationdefaults": {
           "arrowcolor": "#2a3f5f",
           "arrowhead": 0,
           "arrowwidth": 1
          },
          "autotypenumbers": "strict",
          "coloraxis": {
           "colorbar": {
            "outlinewidth": 0,
            "ticks": ""
           }
          },
          "colorscale": {
           "diverging": [
            [
             0,
             "#8e0152"
            ],
            [
             0.1,
             "#c51b7d"
            ],
            [
             0.2,
             "#de77ae"
            ],
            [
             0.3,
             "#f1b6da"
            ],
            [
             0.4,
             "#fde0ef"
            ],
            [
             0.5,
             "#f7f7f7"
            ],
            [
             0.6,
             "#e6f5d0"
            ],
            [
             0.7,
             "#b8e186"
            ],
            [
             0.8,
             "#7fbc41"
            ],
            [
             0.9,
             "#4d9221"
            ],
            [
             1,
             "#276419"
            ]
           ],
           "sequential": [
            [
             0,
             "#0d0887"
            ],
            [
             0.1111111111111111,
             "#46039f"
            ],
            [
             0.2222222222222222,
             "#7201a8"
            ],
            [
             0.3333333333333333,
             "#9c179e"
            ],
            [
             0.4444444444444444,
             "#bd3786"
            ],
            [
             0.5555555555555556,
             "#d8576b"
            ],
            [
             0.6666666666666666,
             "#ed7953"
            ],
            [
             0.7777777777777778,
             "#fb9f3a"
            ],
            [
             0.8888888888888888,
             "#fdca26"
            ],
            [
             1,
             "#f0f921"
            ]
           ],
           "sequentialminus": [
            [
             0,
             "#0d0887"
            ],
            [
             0.1111111111111111,
             "#46039f"
            ],
            [
             0.2222222222222222,
             "#7201a8"
            ],
            [
             0.3333333333333333,
             "#9c179e"
            ],
            [
             0.4444444444444444,
             "#bd3786"
            ],
            [
             0.5555555555555556,
             "#d8576b"
            ],
            [
             0.6666666666666666,
             "#ed7953"
            ],
            [
             0.7777777777777778,
             "#fb9f3a"
            ],
            [
             0.8888888888888888,
             "#fdca26"
            ],
            [
             1,
             "#f0f921"
            ]
           ]
          },
          "colorway": [
           "#636efa",
           "#EF553B",
           "#00cc96",
           "#ab63fa",
           "#FFA15A",
           "#19d3f3",
           "#FF6692",
           "#B6E880",
           "#FF97FF",
           "#FECB52"
          ],
          "font": {
           "color": "#2a3f5f"
          },
          "geo": {
           "bgcolor": "white",
           "lakecolor": "white",
           "landcolor": "#E5ECF6",
           "showlakes": true,
           "showland": true,
           "subunitcolor": "white"
          },
          "hoverlabel": {
           "align": "left"
          },
          "hovermode": "closest",
          "mapbox": {
           "style": "light"
          },
          "paper_bgcolor": "white",
          "plot_bgcolor": "#E5ECF6",
          "polar": {
           "angularaxis": {
            "gridcolor": "white",
            "linecolor": "white",
            "ticks": ""
           },
           "bgcolor": "#E5ECF6",
           "radialaxis": {
            "gridcolor": "white",
            "linecolor": "white",
            "ticks": ""
           }
          },
          "scene": {
           "xaxis": {
            "backgroundcolor": "#E5ECF6",
            "gridcolor": "white",
            "gridwidth": 2,
            "linecolor": "white",
            "showbackground": true,
            "ticks": "",
            "zerolinecolor": "white"
           },
           "yaxis": {
            "backgroundcolor": "#E5ECF6",
            "gridcolor": "white",
            "gridwidth": 2,
            "linecolor": "white",
            "showbackground": true,
            "ticks": "",
            "zerolinecolor": "white"
           },
           "zaxis": {
            "backgroundcolor": "#E5ECF6",
            "gridcolor": "white",
            "gridwidth": 2,
            "linecolor": "white",
            "showbackground": true,
            "ticks": "",
            "zerolinecolor": "white"
           }
          },
          "shapedefaults": {
           "line": {
            "color": "#2a3f5f"
           }
          },
          "ternary": {
           "aaxis": {
            "gridcolor": "white",
            "linecolor": "white",
            "ticks": ""
           },
           "baxis": {
            "gridcolor": "white",
            "linecolor": "white",
            "ticks": ""
           },
           "bgcolor": "#E5ECF6",
           "caxis": {
            "gridcolor": "white",
            "linecolor": "white",
            "ticks": ""
           }
          },
          "title": {
           "x": 0.05
          },
          "xaxis": {
           "automargin": true,
           "gridcolor": "white",
           "linecolor": "white",
           "ticks": "",
           "title": {
            "standoff": 15
           },
           "zerolinecolor": "white",
           "zerolinewidth": 2
          },
          "yaxis": {
           "automargin": true,
           "gridcolor": "white",
           "linecolor": "white",
           "ticks": "",
           "title": {
            "standoff": 15
           },
           "zerolinecolor": "white",
           "zerolinewidth": 2
          }
         }
        },
        "title": {
         "text": "Biểu đồ thể hiện sự tương quan giữa tổng số người tiêm đủ liều vaccine và số ca mắc mới mỗi ngày trên thế giới"
        },
        "xaxis": {
         "anchor": "y",
         "domain": [
          0,
          1
         ],
         "title": {
          "text": "PeopleFullyVaccinated"
         }
        },
        "yaxis": {
         "anchor": "x",
         "domain": [
          0,
          1
         ],
         "title": {
          "text": "NewCases"
         }
        }
       }
      }
     },
     "metadata": {},
     "output_type": "display_data"
    }
   ],
   "source": [
    "fig = px.scatter(covid_world_after_vaccine, x=\"PeopleFullyVaccinated\", y=\"NewCases\",trendline=\"ols\", hover_name=\"Date\", title=\"Biểu đồ thể hiện sự tương quan giữa tổng số người tiêm đủ liều vaccine và số ca mắc mới mỗi ngày trên thế giới\")\n",
    "fig.show()"
   ]
  },
  {
   "cell_type": "code",
   "execution_count": 291,
   "metadata": {},
   "outputs": [
    {
     "data": {
      "text/plain": [
       "array([[1.        , 0.57672504],\n",
       "       [0.57672504, 1.        ]])"
      ]
     },
     "execution_count": 291,
     "metadata": {},
     "output_type": "execute_result"
    }
   ],
   "source": [
    "R = np.corrcoef(covid_world_after_vaccine[\"PeopleFullyVaccinated\"], covid_world_after_vaccine[\"NewCases\"])\n",
    "R"
   ]
  },
  {
   "cell_type": "markdown",
   "metadata": {},
   "source": [
    "Ta có thể thấy số ca mắc mới mỗi ngàu vẫn tăng khi số lượng người thực hiện tiêm đầy đủ vaccine tăng lên. \n",
    "\n",
    "Tuy nhiên, để đánh giá mức độ giúp ích của vaccine, ta hãy xét về số ca tử vong mỗi ngày sau khi tiến hành tiêm vaccine"
   ]
  },
  {
   "cell_type": "code",
   "execution_count": 292,
   "metadata": {},
   "outputs": [
    {
     "data": {
      "application/vnd.plotly.v1+json": {
       "config": {
        "plotlyServerURL": "https://plot.ly"
       },
       "data": [
        {
         "hovertemplate": "<b>%{hovertext}</b><br><br>PeopleFullyVaccinated=%{x}<br>NewDeaths=%{y}<extra></extra>",
         "hovertext": [
          "2020-12-04",
          "2020-12-05",
          "2020-12-06",
          "2020-12-07",
          "2020-12-08",
          "2020-12-09",
          "2020-12-10",
          "2020-12-11",
          "2020-12-12",
          "2020-12-13",
          "2020-12-14",
          "2020-12-15",
          "2020-12-16",
          "2020-12-17",
          "2020-12-18",
          "2020-12-19",
          "2020-12-20",
          "2020-12-21",
          "2020-12-22",
          "2020-12-23",
          "2020-12-24",
          "2020-12-25",
          "2020-12-26",
          "2020-12-27",
          "2020-12-28",
          "2020-12-29",
          "2020-12-30",
          "2020-12-31",
          "2021-01-01",
          "2021-01-02",
          "2021-01-03",
          "2021-01-04",
          "2021-01-05",
          "2021-01-06",
          "2021-01-07",
          "2021-01-08",
          "2021-01-09",
          "2021-01-10",
          "2021-01-11",
          "2021-01-12",
          "2021-01-13",
          "2021-01-14",
          "2021-01-15",
          "2021-01-16",
          "2021-01-17",
          "2021-01-18",
          "2021-01-19",
          "2021-01-20",
          "2021-01-21",
          "2021-01-22",
          "2021-01-23",
          "2021-01-24",
          "2021-01-25",
          "2021-01-26",
          "2021-01-27",
          "2021-01-28",
          "2021-01-29",
          "2021-01-30",
          "2021-01-31",
          "2021-02-01",
          "2021-02-02",
          "2021-02-03",
          "2021-02-04",
          "2021-02-05",
          "2021-02-06",
          "2021-02-07",
          "2021-02-08",
          "2021-02-09",
          "2021-02-10",
          "2021-02-11",
          "2021-02-12",
          "2021-02-13",
          "2021-02-14",
          "2021-02-15",
          "2021-02-16",
          "2021-02-17",
          "2021-02-18",
          "2021-02-19",
          "2021-02-20",
          "2021-02-21",
          "2021-02-22",
          "2021-02-23",
          "2021-02-24",
          "2021-02-25",
          "2021-02-26",
          "2021-02-27",
          "2021-02-28",
          "2021-03-01",
          "2021-03-02",
          "2021-03-03",
          "2021-03-04",
          "2021-03-05",
          "2021-03-06",
          "2021-03-07",
          "2021-03-08",
          "2021-03-09",
          "2021-03-10",
          "2021-03-11",
          "2021-03-12",
          "2021-03-13",
          "2021-03-14",
          "2021-03-15",
          "2021-03-16",
          "2021-03-17",
          "2021-03-18",
          "2021-03-19",
          "2021-03-20",
          "2021-03-21",
          "2021-03-22",
          "2021-03-23",
          "2021-03-24",
          "2021-03-25",
          "2021-03-26",
          "2021-03-27",
          "2021-03-28",
          "2021-03-29",
          "2021-03-30",
          "2021-03-31",
          "2021-04-01",
          "2021-04-02",
          "2021-04-03",
          "2021-04-04",
          "2021-04-05",
          "2021-04-06",
          "2021-04-07",
          "2021-04-08",
          "2021-04-09",
          "2021-04-10",
          "2021-04-11",
          "2021-04-12",
          "2021-04-13",
          "2021-04-14",
          "2021-04-15",
          "2021-04-16",
          "2021-04-17",
          "2021-04-18",
          "2021-04-19",
          "2021-04-20",
          "2021-04-21",
          "2021-04-22",
          "2021-04-23",
          "2021-04-24",
          "2021-04-25",
          "2021-04-26",
          "2021-04-27",
          "2021-04-28",
          "2021-04-29",
          "2021-04-30",
          "2021-05-01",
          "2021-05-02",
          "2021-05-03",
          "2021-05-04",
          "2021-05-05",
          "2021-05-06",
          "2021-05-07",
          "2021-05-08",
          "2021-05-09",
          "2021-05-10",
          "2021-05-11",
          "2021-05-12",
          "2021-05-13",
          "2021-05-14",
          "2021-05-15",
          "2021-05-16",
          "2021-05-17",
          "2021-05-18",
          "2021-05-19",
          "2021-05-20",
          "2021-05-21",
          "2021-05-22",
          "2021-05-23",
          "2021-05-24",
          "2021-05-25",
          "2021-05-26",
          "2021-05-27",
          "2021-05-28",
          "2021-05-29",
          "2021-05-30",
          "2021-05-31",
          "2021-06-01",
          "2021-06-02",
          "2021-06-03",
          "2021-06-04",
          "2021-06-05",
          "2021-06-06",
          "2021-06-07",
          "2021-06-08",
          "2021-06-09",
          "2021-06-10",
          "2021-06-11",
          "2021-06-12",
          "2021-06-13",
          "2021-06-14",
          "2021-06-15",
          "2021-06-16",
          "2021-06-17",
          "2021-06-18",
          "2021-06-19",
          "2021-06-20",
          "2021-06-21",
          "2021-06-22",
          "2021-06-23",
          "2021-06-24",
          "2021-06-25",
          "2021-06-26",
          "2021-06-27",
          "2021-06-28",
          "2021-06-29",
          "2021-06-30",
          "2021-07-01",
          "2021-07-02",
          "2021-07-03",
          "2021-07-04",
          "2021-07-05",
          "2021-07-06",
          "2021-07-07",
          "2021-07-08",
          "2021-07-09",
          "2021-07-10",
          "2021-07-11",
          "2021-07-12",
          "2021-07-13",
          "2021-07-14",
          "2021-07-15",
          "2021-07-16",
          "2021-07-17",
          "2021-07-18",
          "2021-07-19",
          "2021-07-20",
          "2021-07-21",
          "2021-07-22",
          "2021-07-23",
          "2021-07-24",
          "2021-07-25",
          "2021-07-26",
          "2021-07-27",
          "2021-07-28",
          "2021-07-29",
          "2021-07-30",
          "2021-07-31",
          "2021-08-01",
          "2021-08-02",
          "2021-08-03",
          "2021-08-04",
          "2021-08-05",
          "2021-08-06",
          "2021-08-07",
          "2021-08-08",
          "2021-08-09",
          "2021-08-10",
          "2021-08-11",
          "2021-08-12",
          "2021-08-13",
          "2021-08-14",
          "2021-08-15",
          "2021-08-16",
          "2021-08-17",
          "2021-08-18",
          "2021-08-19",
          "2021-08-20",
          "2021-08-21",
          "2021-08-22",
          "2021-08-23",
          "2021-08-24",
          "2021-08-25",
          "2021-08-26",
          "2021-08-27",
          "2021-08-28",
          "2021-08-29",
          "2021-08-30",
          "2021-08-31",
          "2021-09-01",
          "2021-09-02",
          "2021-09-03",
          "2021-09-04",
          "2021-09-05",
          "2021-09-06",
          "2021-09-07",
          "2021-09-08",
          "2021-09-09",
          "2021-09-10",
          "2021-09-11",
          "2021-09-12",
          "2021-09-13",
          "2021-09-14",
          "2021-09-15",
          "2021-09-16",
          "2021-09-17",
          "2021-09-18",
          "2021-09-19",
          "2021-09-20",
          "2021-09-21",
          "2021-09-22",
          "2021-09-23",
          "2021-09-24",
          "2021-09-25",
          "2021-09-26",
          "2021-09-27",
          "2021-09-28",
          "2021-09-29",
          "2021-09-30",
          "2021-10-01",
          "2021-10-02",
          "2021-10-03",
          "2021-10-04",
          "2021-10-05",
          "2021-10-06",
          "2021-10-07",
          "2021-10-08",
          "2021-10-09",
          "2021-10-10",
          "2021-10-11",
          "2021-10-12",
          "2021-10-13",
          "2021-10-14",
          "2021-10-15",
          "2021-10-16",
          "2021-10-17",
          "2021-10-18",
          "2021-10-19",
          "2021-10-20",
          "2021-10-21",
          "2021-10-22",
          "2021-10-23",
          "2021-10-24",
          "2021-10-25",
          "2021-10-26",
          "2021-10-27",
          "2021-10-28",
          "2021-10-29",
          "2021-10-30",
          "2021-10-31",
          "2021-11-01",
          "2021-11-02",
          "2021-11-03",
          "2021-11-04",
          "2021-11-05",
          "2021-11-06",
          "2021-11-07",
          "2021-11-08",
          "2021-11-09",
          "2021-11-10",
          "2021-11-11",
          "2021-11-12",
          "2021-11-13",
          "2021-11-14",
          "2021-11-15",
          "2021-11-16",
          "2021-11-17",
          "2021-11-18",
          "2021-11-19",
          "2021-11-20",
          "2021-11-21",
          "2021-11-22",
          "2021-11-23",
          "2021-11-24",
          "2021-11-25",
          "2021-11-26",
          "2021-11-27",
          "2021-11-28",
          "2021-11-29",
          "2021-11-30",
          "2021-12-01",
          "2021-12-02",
          "2021-12-03",
          "2021-12-04",
          "2021-12-05",
          "2021-12-06",
          "2021-12-07",
          "2021-12-08",
          "2021-12-09",
          "2021-12-10",
          "2021-12-11",
          "2021-12-12",
          "2021-12-13",
          "2021-12-14",
          "2021-12-15",
          "2021-12-16",
          "2021-12-17",
          "2021-12-18",
          "2021-12-19",
          "2021-12-20",
          "2021-12-21",
          "2021-12-22",
          "2021-12-23",
          "2021-12-24",
          "2021-12-25",
          "2021-12-26",
          "2021-12-27",
          "2021-12-28",
          "2021-12-29",
          "2021-12-30",
          "2021-12-31",
          "2022-01-01",
          "2022-01-02",
          "2022-01-03",
          "2022-01-04",
          "2022-01-05",
          "2022-01-06",
          "2022-01-07",
          "2022-01-08",
          "2022-01-09",
          "2022-01-10",
          "2022-01-11",
          "2022-01-12",
          "2022-01-13",
          "2022-01-14",
          "2022-01-15",
          "2022-01-16",
          "2022-01-17",
          "2022-01-18",
          "2022-01-19",
          "2022-01-20",
          "2022-01-21",
          "2022-01-22",
          "2022-01-23",
          "2022-01-24",
          "2022-01-25",
          "2022-01-26",
          "2022-01-27",
          "2022-01-28",
          "2022-01-29",
          "2022-01-30",
          "2022-01-31",
          "2022-02-01",
          "2022-02-02",
          "2022-02-03",
          "2022-02-04",
          "2022-02-05",
          "2022-02-06",
          "2022-02-07",
          "2022-02-08",
          "2022-02-09",
          "2022-02-10",
          "2022-02-11",
          "2022-02-12",
          "2022-02-13",
          "2022-02-14",
          "2022-02-15",
          "2022-02-16",
          "2022-02-17",
          "2022-02-18",
          "2022-02-19",
          "2022-02-20",
          "2022-02-21",
          "2022-02-22",
          "2022-02-23",
          "2022-02-24",
          "2022-02-25",
          "2022-02-26",
          "2022-02-27",
          "2022-02-28",
          "2022-03-01",
          "2022-03-02",
          "2022-03-03",
          "2022-03-04",
          "2022-03-05"
         ],
         "legendgroup": "",
         "marker": {
          "color": "#636efa",
          "symbol": "circle"
         },
         "mode": "markers",
         "name": "",
         "orientation": "v",
         "showlegend": false,
         "type": "scatter",
         "x": [
          0,
          0,
          0,
          0,
          0,
          0,
          0,
          0,
          0,
          5527,
          5645,
          5904,
          6369,
          7107,
          8302,
          9349,
          10046,
          11521,
          14374,
          17276,
          18363,
          18464,
          19427,
          20165,
          24345,
          30227,
          37992,
          41200,
          47823,
          50737,
          53181,
          99024,
          187433,
          359999,
          641519,
          1005711,
          1135491,
          1852446,
          2214889,
          2582317,
          2928347,
          3146251,
          3315852,
          3419129,
          3579229,
          3974011,
          4554723,
          5250287,
          5846204,
          6237090,
          6552132,
          6896917,
          7755429,
          8752655,
          9786943,
          10823775,
          11719529,
          12297119,
          12780952,
          13781175,
          14938617,
          16364886,
          17927112,
          19411639,
          20154287,
          20734141,
          21882118,
          23330591,
          24990082,
          26788424,
          28959897,
          30071289,
          30785326,
          32056135,
          33801056,
          35769514,
          37751721,
          40205854,
          41571286,
          42388973,
          43929750,
          48067991,
          50259096,
          52804454,
          55430670,
          57120101,
          57760470,
          59310769,
          62266250,
          64776686,
          67587103,
          70293048,
          72343915,
          73116844,
          75135960,
          77535767,
          80661675,
          83618524,
          87072572,
          89504480,
          90411108,
          93313881,
          96386451,
          100213873,
          103314254,
          106771225,
          108975246,
          109910250,
          112350345,
          115150554,
          118808677,
          122543829,
          126535050,
          128909748,
          130007427,
          134293511,
          138050459,
          142436168,
          147363832,
          150839720,
          153442552,
          154611060,
          158024857,
          162444117,
          167744184,
          173267782,
          178954225,
          182979682,
          185167871,
          189587196,
          194020800,
          199398359,
          204822615,
          210187830,
          213845503,
          216454463,
          221242952,
          227550824,
          232853451,
          239389184,
          244903166,
          248423968,
          252694002,
          258097748,
          264467864,
          271738384,
          279336216,
          285601690,
          289318727,
          291922359,
          296421577,
          303123551,
          310663910,
          317886198,
          325502457,
          330490929,
          333145460,
          338715518,
          346178692,
          352767478,
          358963362,
          364216984,
          368556038,
          371613316,
          376087544,
          381849576,
          387455745,
          393694808,
          399856152,
          404991395,
          408054439,
          412142900,
          417040906,
          422419534,
          427895587,
          433427864,
          437643880,
          440919042,
          445747165,
          452249438,
          458443387,
          463991135,
          469917577,
          475211743,
          479159430,
          484340904,
          491320673,
          498602830,
          505457418,
          512391253,
          517909944,
          522426108,
          528780088,
          536408210,
          543849816,
          551659836,
          558683121,
          564668547,
          569560529,
          576010247,
          583658639,
          591022950,
          599327205,
          606745821,
          613579899,
          620548225,
          627768240,
          637017374,
          644996103,
          653057840,
          659974852,
          668729700,
          674380009,
          685141870,
          693145461,
          702726952,
          714323857,
          721463617,
          729690742,
          735900161,
          746208740,
          755803328,
          765870696,
          776383721,
          785737898,
          794478086,
          799602220,
          809239199,
          817783683,
          826520799,
          836781223,
          846254610,
          854183016,
          861772823,
          873275220,
          883768997,
          893816649,
          905875589,
          915786935,
          922925709,
          929995634,
          937977463,
          950298621,
          960212523,
          969897748,
          978034900,
          986044702,
          992592811,
          1008639659,
          1020397838,
          1030744130,
          1818546380,
          1831168006,
          1840925903,
          1847177512,
          1857512970,
          1869337793,
          1880195301,
          1891100468,
          1903780002,
          1910999811,
          1918929749,
          1927251568,
          1941957735,
          1954316100,
          2078592120,
          2094098111,
          2103296831,
          2119664512,
          2130133330,
          2143580074,
          2158336197,
          2169580646,
          2179400164,
          2188796085,
          2199896795,
          2289555205,
          2302000751,
          2319243998,
          2335569559,
          2347143014,
          2359572241,
          2371665518,
          2383062657,
          2394635047,
          2449313509,
          2462009473,
          2472753894,
          2497317977,
          2507796929,
          2519421214,
          2532298463,
          2542918032,
          2555481066,
          2566871978,
          2575901341,
          2584858497,
          2603181773,
          2639065343,
          2649776940,
          2662607289,
          2672635888,
          2681584786,
          2690903769,
          2702339522,
          2719125409,
          2730255021,
          2742240195,
          2756879467,
          2766713225,
          2780195048,
          2790584607,
          2801426067,
          2811354796,
          2821033212,
          2829808555,
          2835473889,
          2846717747,
          2860575686,
          2873163692,
          2886824214,
          2898195261,
          2909974577,
          2941613342,
          2953594094,
          2962675549,
          2973906200,
          2983409291,
          2996115033,
          3017281276,
          3030594447,
          3047503732,
          3056828233,
          3066080559,
          3075472410,
          3085211849,
          3098715822,
          3105541971,
          3114241113,
          3123010999,
          3134250264,
          3146374348,
          3159204101,
          3172853217,
          3186073378,
          3196750422,
          3205255314,
          3214219219,
          3225915329,
          3238876036,
          3251403715,
          3264103986,
          3274023607,
          3284461289,
          3294589105,
          3308655795,
          3316694989,
          3329802559,
          3337624861,
          3352001257,
          3395715268,
          3409858017,
          3422821161,
          3468931026,
          3493143576,
          3506424189,
          3516374259,
          3525347036,
          3535122678,
          3549170306,
          3565073577,
          3610288024,
          3626763857,
          3639404212,
          3647852191,
          3661122519,
          3672628538,
          3680068847,
          3716528884,
          3725651223,
          3741199510,
          3756078171,
          3766728157,
          3773758218,
          3783097519,
          3793101723,
          3811164447,
          3817083329,
          3823708045,
          3845091498,
          3856120424,
          3876967171,
          3887731381,
          3895377671,
          3898847265,
          3906569347,
          3916369411,
          3922925460,
          3936288613,
          3947517394,
          3951997162,
          3961175752,
          3984122815,
          3994530052,
          4002256103,
          4015768523,
          4025511325,
          4033693938,
          4042109778,
          4050277545,
          4055356850,
          4069697563,
          4078049032,
          4091203387,
          4098676375,
          4104393401,
          4109922271,
          4117505622,
          4124517516,
          4131382616,
          4143131941,
          4148763762,
          4156480498,
          4164931753,
          4173336960,
          4180959618,
          4186896557,
          4197285183,
          4203716136,
          4210767624,
          4215917502,
          4225122379,
          4233360982,
          4240593142,
          4250938885,
          4256042939,
          4265315793,
          4270676154,
          4280535138,
          4286010559,
          4292741092,
          4317741334,
          4326589280,
          4331591758,
          4339933555,
          4346555670,
          4351701456,
          4356388624,
          4363641413,
          4368636406,
          4371648348,
          4383014364,
          4385303379,
          4387582839,
          4393034333,
          4396313796,
          4400787171
         ],
         "xaxis": "x",
         "y": [
          12460,
          10337,
          7729,
          8714,
          12317,
          12670,
          12665,
          13065,
          10759,
          7827,
          9172,
          13776,
          13879,
          13384,
          12938,
          10971,
          8122,
          9568,
          14202,
          13803,
          11823,
          8729,
          7571,
          7750,
          9621,
          15100,
          15633,
          13252,
          9713,
          8472,
          7651,
          10058,
          15476,
          15069,
          15152,
          15397,
          12847,
          8831,
          10081,
          17168,
          16873,
          15471,
          15022,
          13716,
          9085,
          9771,
          16610,
          18020,
          17155,
          16060,
          13921,
          9197,
          11026,
          17445,
          17355,
          17029,
          15388,
          13506,
          8771,
          10353,
          15416,
          16035,
          13001,
          17138,
          11400,
          7298,
          9491,
          15431,
          14035,
          13779,
          13028,
          10419,
          6649,
          7479,
          11352,
          11963,
          11920,
          11692,
          8751,
          6518,
          7374,
          11685,
          12532,
          10657,
          10793,
          8493,
          6264,
          7701,
          10426,
          11764,
          10407,
          10515,
          8097,
          5895,
          7254,
          10614,
          10233,
          10198,
          9885,
          8403,
          5861,
          7664,
          10647,
          10599,
          10736,
          10830,
          8683,
          8470,
          8060,
          11488,
          10740,
          11525,
          12759,
          10148,
          7213,
          8764,
          12022,
          12880,
          12342,
          10532,
          9282,
          7357,
          8273,
          12496,
          15589,
          14339,
          14325,
          12859,
          9079,
          10092,
          13867,
          14050,
          13607,
          13359,
          12468,
          9107,
          11326,
          14353,
          14659,
          13888,
          15301,
          12961,
          10685,
          11868,
          14989,
          15923,
          15754,
          14342,
          12907,
          10277,
          11874,
          14088,
          14840,
          14646,
          14481,
          13196,
          10329,
          11293,
          14181,
          13950,
          13588,
          12992,
          12161,
          10260,
          11471,
          14142,
          13441,
          13165,
          12924,
          11343,
          9781,
          9115,
          13203,
          12787,
          12856,
          11986,
          10701,
          8344,
          8793,
          10973,
          11885,
          10092,
          10684,
          9347,
          7226,
          8169,
          10628,
          10136,
          8607,
          11770,
          9695,
          9253,
          8061,
          10795,
          10024,
          9302,
          9214,
          8077,
          6726,
          7049,
          8928,
          9396,
          8622,
          9237,
          7470,
          6073,
          6596,
          8150,
          9199,
          8556,
          8294,
          6907,
          6612,
          7387,
          8509,
          8521,
          8930,
          8355,
          7263,
          7601,
          8091,
          8384,
          8618,
          8589,
          8651,
          7495,
          6628,
          7169,
          11928,
          8675,
          8774,
          8298,
          8682,
          7320,
          8451,
          9831,
          10255,
          10251,
          9555,
          8806,
          7358,
          8070,
          10417,
          10500,
          10941,
          10472,
          8649,
          7431,
          8750,
          11619,
          10508,
          10495,
          10457,
          8712,
          7394,
          9795,
          10769,
          10787,
          11436,
          10510,
          8881,
          7664,
          10015,
          11048,
          11282,
          11619,
          10337,
          8421,
          6715,
          9537,
          9484,
          12498,
          11183,
          10718,
          7721,
          6459,
          8035,
          10485,
          10053,
          10828,
          9140,
          8327,
          5551,
          9088,
          9953,
          10478,
          10469,
          9047,
          6500,
          5961,
          8218,
          9328,
          9943,
          9781,
          8725,
          5434,
          5433,
          7751,
          9422,
          9269,
          8833,
          8607,
          5878,
          4244,
          7167,
          7429,
          9141,
          8962,
          7776,
          4857,
          4669,
          5745,
          8122,
          8857,
          7984,
          7233,
          5282,
          4274,
          6454,
          8245,
          8691,
          7704,
          8191,
          5823,
          4516,
          6643,
          7915,
          9178,
          8801,
          7873,
          6001,
          4483,
          6276,
          7283,
          8416,
          7605,
          8611,
          6644,
          4486,
          6667,
          8229,
          8282,
          7625,
          9099,
          6280,
          4621,
          6891,
          7726,
          9212,
          8304,
          8066,
          6067,
          4543,
          7260,
          8079,
          8680,
          7834,
          6825,
          5956,
          4791,
          7743,
          7989,
          9327,
          10168,
          8596,
          5524,
          7343,
          6814,
          8395,
          7948,
          8859,
          8126,
          5979,
          4540,
          6590,
          7755,
          9191,
          7314,
          7006,
          6067,
          4323,
          6946,
          7673,
          8245,
          9307,
          5885,
          4254,
          3602,
          6725,
          7478,
          8038,
          7573,
          6008,
          4295,
          3214,
          6089,
          7992,
          7986,
          6847,
          7220,
          5351,
          3933,
          6424,
          9510,
          9240,
          8108,
          7734,
          6196,
          4321,
          6233,
          9242,
          10567,
          9454,
          9849,
          6115,
          4966,
          8627,
          10811,
          10953,
          10402,
          12120,
          7906,
          5598,
          9729,
          13275,
          12220,
          11589,
          13330,
          8299,
          5855,
          10700,
          13286,
          13311,
          11699,
          12108,
          8724,
          5094,
          10671,
          10581,
          13077,
          12712,
          10579,
          8384,
          5305,
          7435,
          9410,
          11706,
          10735,
          9080,
          6392,
          4417,
          7759,
          8069,
          7945,
          8384,
          8771,
          5443
         ],
         "yaxis": "y"
        },
        {
         "hovertemplate": "<b>OLS trendline</b><br>NewDeaths = -9.18836e-07 * PeopleFullyVaccinated + 11159.6<br>R<sup>2</sup>=0.254698<br><br>PeopleFullyVaccinated=%{x}<br>NewDeaths=%{y} <b>(trend)</b><extra></extra>",
         "legendgroup": "",
         "marker": {
          "color": "#636efa",
          "symbol": "circle"
         },
         "mode": "lines",
         "name": "",
         "showlegend": false,
         "type": "scatter",
         "x": [
          0,
          0,
          0,
          0,
          0,
          0,
          0,
          0,
          0,
          5527,
          5645,
          5904,
          6369,
          7107,
          8302,
          9349,
          10046,
          11521,
          14374,
          17276,
          18363,
          18464,
          19427,
          20165,
          24345,
          30227,
          37992,
          41200,
          47823,
          50737,
          53181,
          99024,
          187433,
          359999,
          641519,
          1005711,
          1135491,
          1852446,
          2214889,
          2582317,
          2928347,
          3146251,
          3315852,
          3419129,
          3579229,
          3974011,
          4554723,
          5250287,
          5846204,
          6237090,
          6552132,
          6896917,
          7755429,
          8752655,
          9786943,
          10823775,
          11719529,
          12297119,
          12780952,
          13781175,
          14938617,
          16364886,
          17927112,
          19411639,
          20154287,
          20734141,
          21882118,
          23330591,
          24990082,
          26788424,
          28959897,
          30071289,
          30785326,
          32056135,
          33801056,
          35769514,
          37751721,
          40205854,
          41571286,
          42388973,
          43929750,
          48067991,
          50259096,
          52804454,
          55430670,
          57120101,
          57760470,
          59310769,
          62266250,
          64776686,
          67587103,
          70293048,
          72343915,
          73116844,
          75135960,
          77535767,
          80661675,
          83618524,
          87072572,
          89504480,
          90411108,
          93313881,
          96386451,
          100213873,
          103314254,
          106771225,
          108975246,
          109910250,
          112350345,
          115150554,
          118808677,
          122543829,
          126535050,
          128909748,
          130007427,
          134293511,
          138050459,
          142436168,
          147363832,
          150839720,
          153442552,
          154611060,
          158024857,
          162444117,
          167744184,
          173267782,
          178954225,
          182979682,
          185167871,
          189587196,
          194020800,
          199398359,
          204822615,
          210187830,
          213845503,
          216454463,
          221242952,
          227550824,
          232853451,
          239389184,
          244903166,
          248423968,
          252694002,
          258097748,
          264467864,
          271738384,
          279336216,
          285601690,
          289318727,
          291922359,
          296421577,
          303123551,
          310663910,
          317886198,
          325502457,
          330490929,
          333145460,
          338715518,
          346178692,
          352767478,
          358963362,
          364216984,
          368556038,
          371613316,
          376087544,
          381849576,
          387455745,
          393694808,
          399856152,
          404991395,
          408054439,
          412142900,
          417040906,
          422419534,
          427895587,
          433427864,
          437643880,
          440919042,
          445747165,
          452249438,
          458443387,
          463991135,
          469917577,
          475211743,
          479159430,
          484340904,
          491320673,
          498602830,
          505457418,
          512391253,
          517909944,
          522426108,
          528780088,
          536408210,
          543849816,
          551659836,
          558683121,
          564668547,
          569560529,
          576010247,
          583658639,
          591022950,
          599327205,
          606745821,
          613579899,
          620548225,
          627768240,
          637017374,
          644996103,
          653057840,
          659974852,
          668729700,
          674380009,
          685141870,
          693145461,
          702726952,
          714323857,
          721463617,
          729690742,
          735900161,
          746208740,
          755803328,
          765870696,
          776383721,
          785737898,
          794478086,
          799602220,
          809239199,
          817783683,
          826520799,
          836781223,
          846254610,
          854183016,
          861772823,
          873275220,
          883768997,
          893816649,
          905875589,
          915786935,
          922925709,
          929995634,
          937977463,
          950298621,
          960212523,
          969897748,
          978034900,
          986044702,
          992592811,
          1008639659,
          1020397838,
          1030744130,
          1818546380,
          1831168006,
          1840925903,
          1847177512,
          1857512970,
          1869337793,
          1880195301,
          1891100468,
          1903780002,
          1910999811,
          1918929749,
          1927251568,
          1941957735,
          1954316100,
          2078592120,
          2094098111,
          2103296831,
          2119664512,
          2130133330,
          2143580074,
          2158336197,
          2169580646,
          2179400164,
          2188796085,
          2199896795,
          2289555205,
          2302000751,
          2319243998,
          2335569559,
          2347143014,
          2359572241,
          2371665518,
          2383062657,
          2394635047,
          2449313509,
          2462009473,
          2472753894,
          2497317977,
          2507796929,
          2519421214,
          2532298463,
          2542918032,
          2555481066,
          2566871978,
          2575901341,
          2584858497,
          2603181773,
          2639065343,
          2649776940,
          2662607289,
          2672635888,
          2681584786,
          2690903769,
          2702339522,
          2719125409,
          2730255021,
          2742240195,
          2756879467,
          2766713225,
          2780195048,
          2790584607,
          2801426067,
          2811354796,
          2821033212,
          2829808555,
          2835473889,
          2846717747,
          2860575686,
          2873163692,
          2886824214,
          2898195261,
          2909974577,
          2941613342,
          2953594094,
          2962675549,
          2973906200,
          2983409291,
          2996115033,
          3017281276,
          3030594447,
          3047503732,
          3056828233,
          3066080559,
          3075472410,
          3085211849,
          3098715822,
          3105541971,
          3114241113,
          3123010999,
          3134250264,
          3146374348,
          3159204101,
          3172853217,
          3186073378,
          3196750422,
          3205255314,
          3214219219,
          3225915329,
          3238876036,
          3251403715,
          3264103986,
          3274023607,
          3284461289,
          3294589105,
          3308655795,
          3316694989,
          3329802559,
          3337624861,
          3352001257,
          3395715268,
          3409858017,
          3422821161,
          3468931026,
          3493143576,
          3506424189,
          3516374259,
          3525347036,
          3535122678,
          3549170306,
          3565073577,
          3610288024,
          3626763857,
          3639404212,
          3647852191,
          3661122519,
          3672628538,
          3680068847,
          3716528884,
          3725651223,
          3741199510,
          3756078171,
          3766728157,
          3773758218,
          3783097519,
          3793101723,
          3811164447,
          3817083329,
          3823708045,
          3845091498,
          3856120424,
          3876967171,
          3887731381,
          3895377671,
          3898847265,
          3906569347,
          3916369411,
          3922925460,
          3936288613,
          3947517394,
          3951997162,
          3961175752,
          3984122815,
          3994530052,
          4002256103,
          4015768523,
          4025511325,
          4033693938,
          4042109778,
          4050277545,
          4055356850,
          4069697563,
          4078049032,
          4091203387,
          4098676375,
          4104393401,
          4109922271,
          4117505622,
          4124517516,
          4131382616,
          4143131941,
          4148763762,
          4156480498,
          4164931753,
          4173336960,
          4180959618,
          4186896557,
          4197285183,
          4203716136,
          4210767624,
          4215917502,
          4225122379,
          4233360982,
          4240593142,
          4250938885,
          4256042939,
          4265315793,
          4270676154,
          4280535138,
          4286010559,
          4292741092,
          4317741334,
          4326589280,
          4331591758,
          4339933555,
          4346555670,
          4351701456,
          4356388624,
          4363641413,
          4368636406,
          4371648348,
          4383014364,
          4385303379,
          4387582839,
          4393034333,
          4396313796,
          4400787171
         ],
         "xaxis": "x",
         "y": [
          11159.644710990055,
          11159.644710990055,
          11159.644710990055,
          11159.644710990055,
          11159.644710990055,
          11159.644710990055,
          11159.644710990055,
          11159.644710990055,
          11159.644710990055,
          11159.639632584503,
          11159.639524161877,
          11159.639286183401,
          11159.638858924747,
          11159.638180823915,
          11159.637082815116,
          11159.636120794017,
          11159.635480365452,
          11159.634125082624,
          11159.631503644045,
          11159.628837182509,
          11159.627838407976,
          11159.62774560556,
          11159.626860766668,
          11159.626182665837,
          11159.622341932129,
          11159.616937339862,
          11159.609802579756,
          11159.60685495446,
          11159.600769504854,
          11159.598092017288,
          11159.595846382555,
          11159.55372419227,
          11159.472490836666,
          11159.313931015346,
          11159.055260356594,
          11158.720627703311,
          11158.601381191189,
          11157.942617259157,
          11157.609591649714,
          11157.271985643734,
          11156.95404088653,
          11156.75382288701,
          11156.597987413883,
          11156.503092807376,
          11156.35598719333,
          11155.993247352453,
          11155.45966836842,
          11154.820559253316,
          11154.273009370709,
          11153.913849314169,
          11153.624377441214,
          11153.307576634601,
          11152.518745061048,
          11151.602458096198,
          11150.652117238358,
          11149.699438862202,
          11148.876388005214,
          11148.345677626596,
          11147.901114537523,
          11146.982073821733,
          11145.918574657882,
          11144.608067618285,
          11143.172638417733,
          11141.808601841203,
          11141.126230260566,
          11140.593439637662,
          11139.538637254804,
          11138.207728384761,
          11136.682928618624,
          11135.030547580684,
          11133.035320416104,
          11132.014133641553,
          11131.358050872432,
          11130.190386048696,
          11128.58709013885,
          11126.778400427334,
          11124.957077642195,
          11122.702132346036,
          11121.44752452094,
          11120.69620441955,
          11119.280483328403,
          11115.478119284839,
          11113.464853535532,
          11111.126087442113,
          11108.713026122332,
          11107.160716411881,
          11106.572322439608,
          11105.147852193826,
          11102.432250399286,
          11100.125571890212,
          11097.543260094397,
          11095.05694091389,
          11093.172530861664,
          11092.462336013701,
          11090.60709991745,
          11088.402071295797,
          11085.529875069748,
          11082.813016307811,
          11079.639313297293,
          11077.404789127131,
          11076.571746849486,
          11073.904575053104,
          11071.081387691775,
          11067.564615277517,
          11064.715874173326,
          11061.53948540572,
          11059.514351973023,
          11058.655236810278,
          11056.413190131296,
          11053.840257811484,
          11050.47904338194,
          11047.04705194837,
          11043.379775146384,
          11041.197817573222,
          11040.189230794207,
          11036.251023307186,
          11032.799004928183,
          11028.769258423054,
          11024.241544253586,
          11021.04777386886,
          11018.656198605786,
          11017.582531604803,
          11014.44581265469,
          11010.385238289118,
          11005.51534690549,
          11000.440067233207,
          10995.215159742565,
          10991.516425677604,
          10989.505839253536,
          10985.445205163634,
          10981.371451017127,
          10976.43035720849,
          10971.44635652378,
          10966.51660482445,
          10963.15580387102,
          10960.75859798207,
          10956.358762787211,
          10950.562864074642,
          10945.690620471323,
          10939.68535491102,
          10934.618910763938,
          10931.3838717874,
          10927.460411615217,
          10922.495256253082,
          10916.642165524017,
          10909.96175135142,
          10902.980591190415,
          10897.223649278745,
          10893.80830255597,
          10891.415992224243,
          10887.281949584543,
          10881.12393583945,
          10874.195583929262,
          10867.559487045715,
          10860.561395497138,
          10855.97780875941,
          10853.538730603514,
          10848.420761819249,
          10841.563330251473,
          10835.509317694654,
          10829.816317567378,
          10824.989101513194,
          10821.002223293031,
          10818.193086768992,
          10814.082005836317,
          10808.787644465227,
          10803.63649560083,
          10797.903821061882,
          10792.24255752367,
          10787.524112334479,
          10784.709677803126,
          10780.953053406452,
          10776.452590069599,
          10771.510514025475,
          10766.478920402036,
          10761.395666153712,
          10757.521839654604,
          10754.512503507762,
          10750.076251174196,
          10744.101729860275,
          10738.410507680303,
          10733.313038123079,
          10727.867610955576,
          10723.003141622094,
          10719.375865418497,
          10714.614941530723,
          10708.20167979029,
          10701.510573125312,
          10695.212332171088,
          10688.841276235,
          10683.770505290064,
          10679.620892058634,
          10673.782627664288,
          10666.773635966432,
          10659.936021849522,
          10652.759895754518,
          10646.306649954742,
          10640.807026175506,
          10636.312097905604,
          10630.38586600796,
          10623.358249508128,
          10616.591656805569,
          10608.961409891339,
          10602.144919809825,
          10595.865524178176,
          10589.46277667598,
          10582.82876830624,
          10574.330332725589,
          10566.999190759003,
          10559.591778069052,
          10553.236179707888,
          10545.19191180709,
          10540.000205529801,
          10530.111822202623,
          10522.757836139996,
          10513.954019044244,
          10503.298367382431,
          10496.738100181057,
          10489.17872307327,
          10483.473286503233,
          10474.001394912133,
          10465.185543823707,
          10455.935285538477,
          10446.27554164026,
          10437.680588789051,
          10429.649791021306,
          10424.941553179187,
          10416.086751721712,
          10408.235773798384,
          10400.207798694262,
          10390.780153641852,
          10382.07566637309,
          10374.790762981243,
          10367.816976477654,
          10357.248162151083,
          10347.606104004642,
          10338.373961486348,
          10327.293775518565,
          10318.186875834925,
          10311.627514605665,
          10305.13141430346,
          10297.797423945847,
          10286.476302688221,
          10277.367054460237,
          10268.46792285001,
          10260.991216157041,
          10253.631523205164,
          10247.614886132807,
          10232.870467466098,
          10222.066631476991,
          10212.560087830785,
          9488.699165076587,
          9477.101963059178,
          9468.136057812575,
          9462.391855559486,
          9452.895266580505,
          9442.030195697316,
          9432.053928480904,
          9422.033870468365,
          9410.383460506559,
          9403.749641416998,
          9396.463330368682,
          9388.81694502219,
          9375.304392075308,
          9363.949083693498,
          9249.759825521896,
          9235.512365637796,
          9227.060252245943,
          9212.02104072807,
          9202.401915804747,
          9190.046565817005,
          9176.48811150813,
          9166.15630904247,
          9157.133784214086,
          9148.5004754806,
          9138.30074555621,
          9055.91938729622,
          9044.48397388919,
          9028.640260971768,
          9013.63975081844,
          9003.005645856498,
          8991.585226931138,
          8980.473490897963,
          8970.001391391648,
          8959.36826498985,
          8909.127735773158,
          8897.462229338904,
          8887.58987050835,
          8865.019511275443,
          8855.391074869965,
          8844.710265483527,
          8832.87818789848,
          8823.120547557148,
          8811.577181967836,
          8801.110804052143,
          8792.81430193748,
          8784.584146200537,
          8767.748063956244,
          8734.776954655761,
          8724.934755692011,
          8713.145771506704,
          8703.9311355672,
          8695.708567576423,
          8687.1459522329,
          8676.638372800411,
          8661.214898631522,
          8650.988612514397,
          8639.976205389372,
          8626.525117964362,
          8617.489508913966,
          8605.101927084657,
          8595.555628169226,
          8585.59410642998,
          8576.471234623361,
          8567.578359366202,
          8559.515259925365,
          8554.30974813995,
          8543.978488706258,
          8531.245318025403,
          8519.679007268109,
          8507.127230397424,
          8496.679105155206,
          8485.855847733468,
          8456.785017296384,
          8445.776673263337,
          8437.432307153376,
          8427.113182784296,
          8418.381402416473,
          8406.706911605617,
          8387.258609459717,
          8375.025991128348,
          8359.48913445751,
          8350.921448977959,
          8342.420080473385,
          8333.790511401667,
          8324.841566026545,
          8312.433631983924,
          8306.161521801454,
          8298.168438568588,
          8290.110353214795,
          8279.783313994003,
          8268.643271385861,
          8256.854834826701,
          8244.313538197326,
          8232.166380785147,
          8222.355930355327,
          8214.5413309796,
          8206.30497401974,
          8195.55816925086,
          8183.64940746633,
          8172.138527317272,
          8160.469063457162,
          8151.354560407149,
          8141.764044355773,
          8132.4582442831725,
          8119.533265707018,
          8112.146566332853,
          8100.102861563966,
          8092.915450327476,
          8079.705902786275,
          8039.539903844603,
          8026.545039535164,
          8014.634038547751,
          7972.266643142404,
          7950.019285020196,
          7937.816582145304,
          7928.674101463547,
          7920.4295925923325,
          7911.447382604186,
          7898.539918876344,
          7883.927423899501,
          7842.38277062231,
          7827.244185173329,
          7815.629774279935,
          7807.867468606972,
          7795.674215958441,
          7785.102073608547,
          7778.26565122169,
          7744.764863395211,
          7736.3829316017745,
          7722.096608638027,
          7708.425562026003,
          7698.639973455674,
          7692.180501624414,
          7683.5992173747945,
          7674.406996435008,
          7657.810318700089,
          7652.371837931351,
          7646.284811603686,
          7626.636929130322,
          7616.503156916106,
          7597.348419137883,
          7587.4578774653755,
          7580.432192358427,
          7577.244205126322,
          7570.148879615253,
          7561.144229818821,
          7555.120297190091,
          7542.8417536069965,
          7532.524347460892,
          7528.408176177801,
          7519.974558950911,
          7498.889975608227,
          7489.327433513252,
          7482.2284611428295,
          7469.812765694077,
          7460.8607302741075,
          7453.3422523861345,
          7445.609477177442,
          7438.104640325985,
          7433.437592974635,
          7420.260832251835,
          7412.587203423417,
          7400.500510920906,
          7393.634061898438,
          7388.381053652054,
          7383.300929877352,
          7376.333075377788,
          7369.890296036787,
          7363.582396280472,
          7352.786695663674,
          7347.611976822942,
          7340.5215634081405,
          7332.756247629046,
          7325.03324240158,
          7318.02927122262,
          7312.574199035564,
          7303.028757393948,
          7297.119767450382,
          7290.640607724105,
          7285.908715372755,
          7277.450944708786,
          7269.881021203508,
          7263.235853572791,
          7253.729814367448,
          7249.040026748502,
          7240.51979638231,
          7235.594504712026,
          7226.535717109352,
          7221.504704190149,
          7215.320449413004,
          7192.3493316696895,
          7184.219521992147,
          7179.623066039987,
          7171.958324191575,
          7165.873687755865,
          7161.145555280671,
          7156.838817449465,
          7150.174695154712,
          7145.585116688631,
          7142.817636505118,
          7132.374133925887,
          7130.270904961894,
          7128.1764554741185,
          7123.16742753947,
          7120.154139479784,
          7116.04384231406
         ],
         "yaxis": "y"
        }
       ],
       "layout": {
        "legend": {
         "tracegroupgap": 0
        },
        "template": {
         "data": {
          "bar": [
           {
            "error_x": {
             "color": "#2a3f5f"
            },
            "error_y": {
             "color": "#2a3f5f"
            },
            "marker": {
             "line": {
              "color": "#E5ECF6",
              "width": 0.5
             },
             "pattern": {
              "fillmode": "overlay",
              "size": 10,
              "solidity": 0.2
             }
            },
            "type": "bar"
           }
          ],
          "barpolar": [
           {
            "marker": {
             "line": {
              "color": "#E5ECF6",
              "width": 0.5
             },
             "pattern": {
              "fillmode": "overlay",
              "size": 10,
              "solidity": 0.2
             }
            },
            "type": "barpolar"
           }
          ],
          "carpet": [
           {
            "aaxis": {
             "endlinecolor": "#2a3f5f",
             "gridcolor": "white",
             "linecolor": "white",
             "minorgridcolor": "white",
             "startlinecolor": "#2a3f5f"
            },
            "baxis": {
             "endlinecolor": "#2a3f5f",
             "gridcolor": "white",
             "linecolor": "white",
             "minorgridcolor": "white",
             "startlinecolor": "#2a3f5f"
            },
            "type": "carpet"
           }
          ],
          "choropleth": [
           {
            "colorbar": {
             "outlinewidth": 0,
             "ticks": ""
            },
            "type": "choropleth"
           }
          ],
          "contour": [
           {
            "colorbar": {
             "outlinewidth": 0,
             "ticks": ""
            },
            "colorscale": [
             [
              0,
              "#0d0887"
             ],
             [
              0.1111111111111111,
              "#46039f"
             ],
             [
              0.2222222222222222,
              "#7201a8"
             ],
             [
              0.3333333333333333,
              "#9c179e"
             ],
             [
              0.4444444444444444,
              "#bd3786"
             ],
             [
              0.5555555555555556,
              "#d8576b"
             ],
             [
              0.6666666666666666,
              "#ed7953"
             ],
             [
              0.7777777777777778,
              "#fb9f3a"
             ],
             [
              0.8888888888888888,
              "#fdca26"
             ],
             [
              1,
              "#f0f921"
             ]
            ],
            "type": "contour"
           }
          ],
          "contourcarpet": [
           {
            "colorbar": {
             "outlinewidth": 0,
             "ticks": ""
            },
            "type": "contourcarpet"
           }
          ],
          "heatmap": [
           {
            "colorbar": {
             "outlinewidth": 0,
             "ticks": ""
            },
            "colorscale": [
             [
              0,
              "#0d0887"
             ],
             [
              0.1111111111111111,
              "#46039f"
             ],
             [
              0.2222222222222222,
              "#7201a8"
             ],
             [
              0.3333333333333333,
              "#9c179e"
             ],
             [
              0.4444444444444444,
              "#bd3786"
             ],
             [
              0.5555555555555556,
              "#d8576b"
             ],
             [
              0.6666666666666666,
              "#ed7953"
             ],
             [
              0.7777777777777778,
              "#fb9f3a"
             ],
             [
              0.8888888888888888,
              "#fdca26"
             ],
             [
              1,
              "#f0f921"
             ]
            ],
            "type": "heatmap"
           }
          ],
          "heatmapgl": [
           {
            "colorbar": {
             "outlinewidth": 0,
             "ticks": ""
            },
            "colorscale": [
             [
              0,
              "#0d0887"
             ],
             [
              0.1111111111111111,
              "#46039f"
             ],
             [
              0.2222222222222222,
              "#7201a8"
             ],
             [
              0.3333333333333333,
              "#9c179e"
             ],
             [
              0.4444444444444444,
              "#bd3786"
             ],
             [
              0.5555555555555556,
              "#d8576b"
             ],
             [
              0.6666666666666666,
              "#ed7953"
             ],
             [
              0.7777777777777778,
              "#fb9f3a"
             ],
             [
              0.8888888888888888,
              "#fdca26"
             ],
             [
              1,
              "#f0f921"
             ]
            ],
            "type": "heatmapgl"
           }
          ],
          "histogram": [
           {
            "marker": {
             "pattern": {
              "fillmode": "overlay",
              "size": 10,
              "solidity": 0.2
             }
            },
            "type": "histogram"
           }
          ],
          "histogram2d": [
           {
            "colorbar": {
             "outlinewidth": 0,
             "ticks": ""
            },
            "colorscale": [
             [
              0,
              "#0d0887"
             ],
             [
              0.1111111111111111,
              "#46039f"
             ],
             [
              0.2222222222222222,
              "#7201a8"
             ],
             [
              0.3333333333333333,
              "#9c179e"
             ],
             [
              0.4444444444444444,
              "#bd3786"
             ],
             [
              0.5555555555555556,
              "#d8576b"
             ],
             [
              0.6666666666666666,
              "#ed7953"
             ],
             [
              0.7777777777777778,
              "#fb9f3a"
             ],
             [
              0.8888888888888888,
              "#fdca26"
             ],
             [
              1,
              "#f0f921"
             ]
            ],
            "type": "histogram2d"
           }
          ],
          "histogram2dcontour": [
           {
            "colorbar": {
             "outlinewidth": 0,
             "ticks": ""
            },
            "colorscale": [
             [
              0,
              "#0d0887"
             ],
             [
              0.1111111111111111,
              "#46039f"
             ],
             [
              0.2222222222222222,
              "#7201a8"
             ],
             [
              0.3333333333333333,
              "#9c179e"
             ],
             [
              0.4444444444444444,
              "#bd3786"
             ],
             [
              0.5555555555555556,
              "#d8576b"
             ],
             [
              0.6666666666666666,
              "#ed7953"
             ],
             [
              0.7777777777777778,
              "#fb9f3a"
             ],
             [
              0.8888888888888888,
              "#fdca26"
             ],
             [
              1,
              "#f0f921"
             ]
            ],
            "type": "histogram2dcontour"
           }
          ],
          "mesh3d": [
           {
            "colorbar": {
             "outlinewidth": 0,
             "ticks": ""
            },
            "type": "mesh3d"
           }
          ],
          "parcoords": [
           {
            "line": {
             "colorbar": {
              "outlinewidth": 0,
              "ticks": ""
             }
            },
            "type": "parcoords"
           }
          ],
          "pie": [
           {
            "automargin": true,
            "type": "pie"
           }
          ],
          "scatter": [
           {
            "fillpattern": {
             "fillmode": "overlay",
             "size": 10,
             "solidity": 0.2
            },
            "type": "scatter"
           }
          ],
          "scatter3d": [
           {
            "line": {
             "colorbar": {
              "outlinewidth": 0,
              "ticks": ""
             }
            },
            "marker": {
             "colorbar": {
              "outlinewidth": 0,
              "ticks": ""
             }
            },
            "type": "scatter3d"
           }
          ],
          "scattercarpet": [
           {
            "marker": {
             "colorbar": {
              "outlinewidth": 0,
              "ticks": ""
             }
            },
            "type": "scattercarpet"
           }
          ],
          "scattergeo": [
           {
            "marker": {
             "colorbar": {
              "outlinewidth": 0,
              "ticks": ""
             }
            },
            "type": "scattergeo"
           }
          ],
          "scattergl": [
           {
            "marker": {
             "colorbar": {
              "outlinewidth": 0,
              "ticks": ""
             }
            },
            "type": "scattergl"
           }
          ],
          "scattermapbox": [
           {
            "marker": {
             "colorbar": {
              "outlinewidth": 0,
              "ticks": ""
             }
            },
            "type": "scattermapbox"
           }
          ],
          "scatterpolar": [
           {
            "marker": {
             "colorbar": {
              "outlinewidth": 0,
              "ticks": ""
             }
            },
            "type": "scatterpolar"
           }
          ],
          "scatterpolargl": [
           {
            "marker": {
             "colorbar": {
              "outlinewidth": 0,
              "ticks": ""
             }
            },
            "type": "scatterpolargl"
           }
          ],
          "scatterternary": [
           {
            "marker": {
             "colorbar": {
              "outlinewidth": 0,
              "ticks": ""
             }
            },
            "type": "scatterternary"
           }
          ],
          "surface": [
           {
            "colorbar": {
             "outlinewidth": 0,
             "ticks": ""
            },
            "colorscale": [
             [
              0,
              "#0d0887"
             ],
             [
              0.1111111111111111,
              "#46039f"
             ],
             [
              0.2222222222222222,
              "#7201a8"
             ],
             [
              0.3333333333333333,
              "#9c179e"
             ],
             [
              0.4444444444444444,
              "#bd3786"
             ],
             [
              0.5555555555555556,
              "#d8576b"
             ],
             [
              0.6666666666666666,
              "#ed7953"
             ],
             [
              0.7777777777777778,
              "#fb9f3a"
             ],
             [
              0.8888888888888888,
              "#fdca26"
             ],
             [
              1,
              "#f0f921"
             ]
            ],
            "type": "surface"
           }
          ],
          "table": [
           {
            "cells": {
             "fill": {
              "color": "#EBF0F8"
             },
             "line": {
              "color": "white"
             }
            },
            "header": {
             "fill": {
              "color": "#C8D4E3"
             },
             "line": {
              "color": "white"
             }
            },
            "type": "table"
           }
          ]
         },
         "layout": {
          "annotationdefaults": {
           "arrowcolor": "#2a3f5f",
           "arrowhead": 0,
           "arrowwidth": 1
          },
          "autotypenumbers": "strict",
          "coloraxis": {
           "colorbar": {
            "outlinewidth": 0,
            "ticks": ""
           }
          },
          "colorscale": {
           "diverging": [
            [
             0,
             "#8e0152"
            ],
            [
             0.1,
             "#c51b7d"
            ],
            [
             0.2,
             "#de77ae"
            ],
            [
             0.3,
             "#f1b6da"
            ],
            [
             0.4,
             "#fde0ef"
            ],
            [
             0.5,
             "#f7f7f7"
            ],
            [
             0.6,
             "#e6f5d0"
            ],
            [
             0.7,
             "#b8e186"
            ],
            [
             0.8,
             "#7fbc41"
            ],
            [
             0.9,
             "#4d9221"
            ],
            [
             1,
             "#276419"
            ]
           ],
           "sequential": [
            [
             0,
             "#0d0887"
            ],
            [
             0.1111111111111111,
             "#46039f"
            ],
            [
             0.2222222222222222,
             "#7201a8"
            ],
            [
             0.3333333333333333,
             "#9c179e"
            ],
            [
             0.4444444444444444,
             "#bd3786"
            ],
            [
             0.5555555555555556,
             "#d8576b"
            ],
            [
             0.6666666666666666,
             "#ed7953"
            ],
            [
             0.7777777777777778,
             "#fb9f3a"
            ],
            [
             0.8888888888888888,
             "#fdca26"
            ],
            [
             1,
             "#f0f921"
            ]
           ],
           "sequentialminus": [
            [
             0,
             "#0d0887"
            ],
            [
             0.1111111111111111,
             "#46039f"
            ],
            [
             0.2222222222222222,
             "#7201a8"
            ],
            [
             0.3333333333333333,
             "#9c179e"
            ],
            [
             0.4444444444444444,
             "#bd3786"
            ],
            [
             0.5555555555555556,
             "#d8576b"
            ],
            [
             0.6666666666666666,
             "#ed7953"
            ],
            [
             0.7777777777777778,
             "#fb9f3a"
            ],
            [
             0.8888888888888888,
             "#fdca26"
            ],
            [
             1,
             "#f0f921"
            ]
           ]
          },
          "colorway": [
           "#636efa",
           "#EF553B",
           "#00cc96",
           "#ab63fa",
           "#FFA15A",
           "#19d3f3",
           "#FF6692",
           "#B6E880",
           "#FF97FF",
           "#FECB52"
          ],
          "font": {
           "color": "#2a3f5f"
          },
          "geo": {
           "bgcolor": "white",
           "lakecolor": "white",
           "landcolor": "#E5ECF6",
           "showlakes": true,
           "showland": true,
           "subunitcolor": "white"
          },
          "hoverlabel": {
           "align": "left"
          },
          "hovermode": "closest",
          "mapbox": {
           "style": "light"
          },
          "paper_bgcolor": "white",
          "plot_bgcolor": "#E5ECF6",
          "polar": {
           "angularaxis": {
            "gridcolor": "white",
            "linecolor": "white",
            "ticks": ""
           },
           "bgcolor": "#E5ECF6",
           "radialaxis": {
            "gridcolor": "white",
            "linecolor": "white",
            "ticks": ""
           }
          },
          "scene": {
           "xaxis": {
            "backgroundcolor": "#E5ECF6",
            "gridcolor": "white",
            "gridwidth": 2,
            "linecolor": "white",
            "showbackground": true,
            "ticks": "",
            "zerolinecolor": "white"
           },
           "yaxis": {
            "backgroundcolor": "#E5ECF6",
            "gridcolor": "white",
            "gridwidth": 2,
            "linecolor": "white",
            "showbackground": true,
            "ticks": "",
            "zerolinecolor": "white"
           },
           "zaxis": {
            "backgroundcolor": "#E5ECF6",
            "gridcolor": "white",
            "gridwidth": 2,
            "linecolor": "white",
            "showbackground": true,
            "ticks": "",
            "zerolinecolor": "white"
           }
          },
          "shapedefaults": {
           "line": {
            "color": "#2a3f5f"
           }
          },
          "ternary": {
           "aaxis": {
            "gridcolor": "white",
            "linecolor": "white",
            "ticks": ""
           },
           "baxis": {
            "gridcolor": "white",
            "linecolor": "white",
            "ticks": ""
           },
           "bgcolor": "#E5ECF6",
           "caxis": {
            "gridcolor": "white",
            "linecolor": "white",
            "ticks": ""
           }
          },
          "title": {
           "x": 0.05
          },
          "xaxis": {
           "automargin": true,
           "gridcolor": "white",
           "linecolor": "white",
           "ticks": "",
           "title": {
            "standoff": 15
           },
           "zerolinecolor": "white",
           "zerolinewidth": 2
          },
          "yaxis": {
           "automargin": true,
           "gridcolor": "white",
           "linecolor": "white",
           "ticks": "",
           "title": {
            "standoff": 15
           },
           "zerolinecolor": "white",
           "zerolinewidth": 2
          }
         }
        },
        "title": {
         "text": "Biểu đồ thể hiện sự tương quan giữa tổng số người tiêm đủ liều vaccine và số ca tử vong mới mỗi ngày trên thế giới"
        },
        "xaxis": {
         "anchor": "y",
         "domain": [
          0,
          1
         ],
         "title": {
          "text": "PeopleFullyVaccinated"
         }
        },
        "yaxis": {
         "anchor": "x",
         "domain": [
          0,
          1
         ],
         "title": {
          "text": "NewDeaths"
         }
        }
       }
      }
     },
     "metadata": {},
     "output_type": "display_data"
    }
   ],
   "source": [
    "fig = px.scatter(covid_world_after_vaccine, x=\"PeopleFullyVaccinated\", y=\"NewDeaths\",trendline=\"ols\",hover_name=\"Date\", title=\"Biểu đồ thể hiện sự tương quan giữa tổng số người tiêm đủ liều vaccine và số ca tử vong mới mỗi ngày trên thế giới\")\n",
    "fig.show()"
   ]
  },
  {
   "cell_type": "code",
   "execution_count": 293,
   "metadata": {},
   "outputs": [
    {
     "data": {
      "text/plain": [
       "array([[ 1.        , -0.50467566],\n",
       "       [-0.50467566,  1.        ]])"
      ]
     },
     "execution_count": 293,
     "metadata": {},
     "output_type": "execute_result"
    }
   ],
   "source": [
    "R = np.corrcoef(covid_world_after_vaccine[\"PeopleFullyVaccinated\"], covid_world_after_vaccine[\"NewDeaths\"])\n",
    "R"
   ]
  },
  {
   "cell_type": "markdown",
   "metadata": {},
   "source": [
    "Ta thấy đường khớp dữ liệu là nghịch biến, và hệ số tương quan cũng không mạnh. Do đó, vaccine phần nào đã giúp khống chế số ca tử vong mỗi ngày trên thế giới.\n",
    "\n",
    "Điều đó cũng đã giúp ích cho việc chống đại dịch Covid-19 trên thế giới"
   ]
  },
  {
   "cell_type": "markdown",
   "metadata": {},
   "source": [
    "## Câu 5: Ở các châu lục, trước và sau khi tiêm vaccine, tỉ lệ tử vong của dịch bệnh Covid-19 như thế nào? **(X: Continent, Date, Total Deaths, Total Cases) (Y: Tỉ lệ tử vong)**\n",
    "\n"
   ]
  },
  {
   "cell_type": "code",
   "execution_count": 294,
   "metadata": {},
   "outputs": [
    {
     "data": {
      "text/plain": [
       "{'Asia': '2020-12-15',\n",
       " 'Europe': '2020-12-04',\n",
       " 'Africa': '2021-01-13',\n",
       " 'North America': '2020-12-13',\n",
       " 'South America': '2020-12-24',\n",
       " 'Oceania': '2021-02-02'}"
      ]
     },
     "execution_count": 294,
     "metadata": {},
     "output_type": "execute_result"
    }
   ],
   "source": [
    "first_date_vaccine_continents = {}\n",
    "for continent in continents:\n",
    "    covid_continent_df = covid_df[covid_df.Location == continent]\n",
    "    first_date_vaccine_continents[continent] = (covid_continent_df[covid_continent_df['TotalVaccinations'] != 0].iloc[0]['Date'])\n",
    "first_date_vaccine_continents"
   ]
  },
  {
   "cell_type": "code",
   "execution_count": 295,
   "metadata": {},
   "outputs": [],
   "source": [
    "def get_cases_per_continent(col):\n",
    "    value_per_continents = list([])\n",
    "    for continent in continents:\n",
    "        covid_continent_df = covid_df[covid_df.Location == continent]\n",
    "        value_per_continents.append(covid_continent_df.groupby(by='Location').agg({col: 'max'}).iloc[0][col])\n",
    "    return value_per_continents \n",
    "def get_cases_of_continent_before_vaccine(col, continent, date):\n",
    "    covid_continent_df = covid_df[covid_df.Location == continent]\n",
    "    covid_continent_df = covid_continent_df[covid_continent_df.Date < date]\n",
    "    value = covid_continent_df.groupby(by='Location').agg({col: 'max'}).iloc[0][col]\n",
    "    return value \n",
    "def get_cases_per_continent_before_vaccine(col):\n",
    "    total_cases_before_vaccine_continents = list([])\n",
    "    for continent, date in first_date_vaccine_continents.items():\n",
    "        total_cases_before_vaccine_continents.append(get_cases_of_continent_before_vaccine(col, continent, date))\n",
    "    return total_cases_before_vaccine_continents\n",
    "def get_cases_per_continent_after_vaccine(total, total_before):\n",
    "    return [total[i] - total_before[i] for i in range(len(total))]\n",
    "    "
   ]
  },
  {
   "cell_type": "code",
   "execution_count": 296,
   "metadata": {},
   "outputs": [
    {
     "data": {
      "text/plain": [
       "[120758420.0, 161250662.0, 11268386.0, 93397289.0, 54622339.0, 3831682.0]"
      ]
     },
     "execution_count": 296,
     "metadata": {},
     "output_type": "execute_result"
    }
   ],
   "source": [
    "total_cases_continents = get_cases_per_continent(\"TotalCases\")\n",
    "total_cases_continents"
   ]
  },
  {
   "cell_type": "code",
   "execution_count": 297,
   "metadata": {},
   "outputs": [
    {
     "data": {
      "text/plain": [
       "[1363608.0, 1725140.0, 249206.0, 1387009.0, 1262230.0, 8037.0]"
      ]
     },
     "execution_count": 297,
     "metadata": {},
     "output_type": "execute_result"
    }
   ],
   "source": [
    "total_deaths_continents = get_cases_per_continent(\"TotalDeaths\")\n",
    "total_deaths_continents"
   ]
  },
  {
   "cell_type": "code",
   "execution_count": 298,
   "metadata": {},
   "outputs": [
    {
     "data": {
      "text/plain": [
       "[19214068.0, 17982340.0, 3110152.0, 18771562.0, 12671646.0, 50230.0]"
      ]
     },
     "execution_count": 298,
     "metadata": {},
     "output_type": "execute_result"
    }
   ],
   "source": [
    "total_cases_before_vaccine_continents = get_cases_per_continent_before_vaccine(\"TotalCases\")\n",
    "total_cases_before_vaccine_continents"
   ]
  },
  {
   "cell_type": "code",
   "execution_count": 299,
   "metadata": {},
   "outputs": [
    {
     "data": {
      "text/plain": [
       "[314184.0, 412556.0, 74467.0, 447072.0, 407649.0, 1077.0]"
      ]
     },
     "execution_count": 299,
     "metadata": {},
     "output_type": "execute_result"
    }
   ],
   "source": [
    "total_deaths_before_vaccine_continents = get_cases_per_continent_before_vaccine(\"TotalDeaths\")\n",
    "total_deaths_before_vaccine_continents"
   ]
  },
  {
   "cell_type": "code",
   "execution_count": 300,
   "metadata": {},
   "outputs": [
    {
     "data": {
      "text/plain": [
       "[101544352.0, 143268322.0, 8158234.0, 74625727.0, 41950693.0, 3781452.0]"
      ]
     },
     "execution_count": 300,
     "metadata": {},
     "output_type": "execute_result"
    }
   ],
   "source": [
    "total_cases_after_vaccine_continents = get_cases_per_continent_after_vaccine(total_cases_continents, total_cases_before_vaccine_continents)\n",
    "total_cases_after_vaccine_continents"
   ]
  },
  {
   "cell_type": "code",
   "execution_count": 301,
   "metadata": {},
   "outputs": [
    {
     "data": {
      "text/plain": [
       "[1049424.0, 1312584.0, 174739.0, 939937.0, 854581.0, 6960.0]"
      ]
     },
     "execution_count": 301,
     "metadata": {},
     "output_type": "execute_result"
    }
   ],
   "source": [
    "total_deaths_after_vaccine_continents = get_cases_per_continent_after_vaccine(total_deaths_continents, total_deaths_before_vaccine_continents)\n",
    "total_deaths_after_vaccine_continents"
   ]
  },
  {
   "cell_type": "code",
   "execution_count": 302,
   "metadata": {},
   "outputs": [
    {
     "data": {
      "text/html": [
       "<div>\n",
       "<style scoped>\n",
       "    .dataframe tbody tr th:only-of-type {\n",
       "        vertical-align: middle;\n",
       "    }\n",
       "\n",
       "    .dataframe tbody tr th {\n",
       "        vertical-align: top;\n",
       "    }\n",
       "\n",
       "    .dataframe thead th {\n",
       "        text-align: right;\n",
       "    }\n",
       "</style>\n",
       "<table border=\"1\" class=\"dataframe\">\n",
       "  <thead>\n",
       "    <tr style=\"text-align: right;\">\n",
       "      <th></th>\n",
       "      <th>Continents</th>\n",
       "      <th>First_date_vaccine</th>\n",
       "      <th>TotalCasesBefore</th>\n",
       "      <th>TotalDeathsBefore</th>\n",
       "      <th>TotalCasesAfter</th>\n",
       "      <th>TotalDeathsAfter</th>\n",
       "      <th>TotalCases</th>\n",
       "      <th>TotalDeaths</th>\n",
       "    </tr>\n",
       "  </thead>\n",
       "  <tbody>\n",
       "    <tr>\n",
       "      <th>0</th>\n",
       "      <td>Asia</td>\n",
       "      <td>2020-12-15</td>\n",
       "      <td>19214068.0</td>\n",
       "      <td>314184.0</td>\n",
       "      <td>101544352.0</td>\n",
       "      <td>1049424.0</td>\n",
       "      <td>120758420.0</td>\n",
       "      <td>1363608.0</td>\n",
       "    </tr>\n",
       "    <tr>\n",
       "      <th>1</th>\n",
       "      <td>Europe</td>\n",
       "      <td>2020-12-04</td>\n",
       "      <td>17982340.0</td>\n",
       "      <td>412556.0</td>\n",
       "      <td>143268322.0</td>\n",
       "      <td>1312584.0</td>\n",
       "      <td>161250662.0</td>\n",
       "      <td>1725140.0</td>\n",
       "    </tr>\n",
       "    <tr>\n",
       "      <th>2</th>\n",
       "      <td>Africa</td>\n",
       "      <td>2021-01-13</td>\n",
       "      <td>3110152.0</td>\n",
       "      <td>74467.0</td>\n",
       "      <td>8158234.0</td>\n",
       "      <td>174739.0</td>\n",
       "      <td>11268386.0</td>\n",
       "      <td>249206.0</td>\n",
       "    </tr>\n",
       "    <tr>\n",
       "      <th>3</th>\n",
       "      <td>North America</td>\n",
       "      <td>2020-12-13</td>\n",
       "      <td>18771562.0</td>\n",
       "      <td>447072.0</td>\n",
       "      <td>74625727.0</td>\n",
       "      <td>939937.0</td>\n",
       "      <td>93397289.0</td>\n",
       "      <td>1387009.0</td>\n",
       "    </tr>\n",
       "    <tr>\n",
       "      <th>4</th>\n",
       "      <td>South America</td>\n",
       "      <td>2020-12-24</td>\n",
       "      <td>12671646.0</td>\n",
       "      <td>407649.0</td>\n",
       "      <td>41950693.0</td>\n",
       "      <td>854581.0</td>\n",
       "      <td>54622339.0</td>\n",
       "      <td>1262230.0</td>\n",
       "    </tr>\n",
       "    <tr>\n",
       "      <th>5</th>\n",
       "      <td>Oceania</td>\n",
       "      <td>2021-02-02</td>\n",
       "      <td>50230.0</td>\n",
       "      <td>1077.0</td>\n",
       "      <td>3781452.0</td>\n",
       "      <td>6960.0</td>\n",
       "      <td>3831682.0</td>\n",
       "      <td>8037.0</td>\n",
       "    </tr>\n",
       "  </tbody>\n",
       "</table>\n",
       "</div>"
      ],
      "text/plain": [
       "      Continents First_date_vaccine  TotalCasesBefore  TotalDeathsBefore  \\\n",
       "0           Asia         2020-12-15        19214068.0           314184.0   \n",
       "1         Europe         2020-12-04        17982340.0           412556.0   \n",
       "2         Africa         2021-01-13         3110152.0            74467.0   \n",
       "3  North America         2020-12-13        18771562.0           447072.0   \n",
       "4  South America         2020-12-24        12671646.0           407649.0   \n",
       "5        Oceania         2021-02-02           50230.0             1077.0   \n",
       "\n",
       "   TotalCasesAfter  TotalDeathsAfter   TotalCases  TotalDeaths  \n",
       "0      101544352.0         1049424.0  120758420.0    1363608.0  \n",
       "1      143268322.0         1312584.0  161250662.0    1725140.0  \n",
       "2        8158234.0          174739.0   11268386.0     249206.0  \n",
       "3       74625727.0          939937.0   93397289.0    1387009.0  \n",
       "4       41950693.0          854581.0   54622339.0    1262230.0  \n",
       "5        3781452.0            6960.0    3831682.0       8037.0  "
      ]
     },
     "execution_count": 302,
     "metadata": {},
     "output_type": "execute_result"
    }
   ],
   "source": [
    "col_names = [\"Continents\", \"First_date_vaccine\", \"TotalCasesBefore\", \"TotalDeathsBefore\", \"TotalCasesAfter\", \"TotalDeathsAfter\", \"TotalCases\", \"TotalDeaths\"]\n",
    "\n",
    "dict_df = {col_names[0]: list(first_date_vaccine_continents.keys()), col_names[1]: list(first_date_vaccine_continents.values()), col_names[2]: total_cases_before_vaccine_continents, \n",
    "col_names[3]: total_deaths_before_vaccine_continents, col_names[4]: total_cases_after_vaccine_continents, col_names[5]: total_deaths_after_vaccine_continents, col_names[6]: total_cases_continents,\n",
    "col_names[7]: total_deaths_continents}\n",
    "df = pd.DataFrame(dict_df)\n",
    "df"
   ]
  }
 ],
 "metadata": {
  "interpreter": {
   "hash": "3bc1a11519d29b3ed6f08646f3ece60640217e649724c6bcfd38e1173c1a1bce"
  },
  "kernelspec": {
   "display_name": "Python 3.10.4 64-bit",
   "language": "python",
   "name": "python3"
  },
  "language_info": {
   "codemirror_mode": {
    "name": "ipython",
    "version": 3
   },
   "file_extension": ".py",
   "mimetype": "text/x-python",
   "name": "python",
   "nbconvert_exporter": "python",
   "pygments_lexer": "ipython3",
   "version": "3.10.4"
  },
  "orig_nbformat": 4
 },
 "nbformat": 4,
 "nbformat_minor": 2
}
