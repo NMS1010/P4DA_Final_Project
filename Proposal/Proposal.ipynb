{
 "cells": [
  {
   "cell_type": "markdown",
   "id": "b3691129",
   "metadata": {
    "slideshow": {
     "slide_type": "slide"
    }
   },
   "source": [
    "# <span style=\"color:red; font-size:75px;\"> Đề xuất (Proposal)</span>"
   ]
  },
  {
   "cell_type": "markdown",
   "id": "5da2e55f-2d54-4650-b220-fb9a8ba134a2",
   "metadata": {
    "slideshow": {
     "slide_type": "subslide"
    }
   },
   "source": [
    "## Nhóm 13\n",
    "## Thành viên \n",
    "\n",
    "1. Nguyễn Minh Sơn - 20110713\n",
    "2. Lê Anh Nhân - 20110689\n",
    "3. Đỗ Minh Dũng - 20110620\n",
    "4. Nguyễn Thái Ngọc Tân - 20110719"
   ]
  },
  {
   "cell_type": "markdown",
   "id": "6f5f6fb5",
   "metadata": {
    "slideshow": {
     "slide_type": "slide"
    }
   },
   "source": [
    "## Phần 1: Giới thiệu"
   ]
  },
  {
   "cell_type": "markdown",
   "id": "e0da94c9-fac9-4f64-aac1-6c3596b81830",
   "metadata": {
    "slideshow": {
     "slide_type": "subslide"
    },
    "tags": []
   },
   "source": [
    "### Tên đề tài: <span style=\"color:aqua;\">Phân tích tình hình dịch bệnh Covid-19</span>\n",
    "Đại dịch covid-19 xuất hiện từ cuối năm 2019, cho đến nay nó đã lan rộng ra hầu hết các quốc gia và vùng lãnh thổ trên thế giới, gây thiệt hại nghiêm trọng về mọi mặt.\n",
    "Mặc dù đã có vaccine phòng ngừa covid-19 nhưng dịch bệnh này vẫn còn hoành hoành ở nhiều quốc gia, liên tục xuất hiện các biến thể mới nguy hiểm.\n",
    "Vì thế, nhóm đã chọn tập dữ liệu liên quan đến vấn đề này để phân tích tình hình dịch bệnh covid-19.\n",
    "\n",
    "### Nguồn dữ liệu chính\n",
    "Nhóm em đã tham khảo các nguồn dữ liệu về dịch bệnh Covid-19 và đã chọn được tập dữ liệu mà nhóm cảm thấy phù hợp.\n",
    "\n",
    "Link dataset: [COVID-19 dataset Dataset coronavirus pandemic](https://www.kaggle.com/datasets/georgesaavedra/covid19-dataset)\n",
    "\n",
    "Nhóm sẽ phân tích tình hình dịch bệnh covid-19 dựa trên số ca mắc, số ca tử vong và số lượng người đã tiêm phòng vaccine, sau đó sẽ đưa ra các nhận xét về đại dịch Covid-19\n",
    "\n",
    "Các biến trong dataset nhóm sử dụng: [\n",
    "    \n",
    "        continent,\n",
    "        location,\n",
    "        date,\n",
    "        total_cases, \n",
    "        new_cases,\n",
    "        total_cases_per_million,\n",
    "        new_cases_per_million,\n",
    "        total_deaths,\n",
    "        new_deaths,\n",
    "        total_deaths_per_million,\n",
    "        new_deaths_per_million,\n",
    "        total_vaccinations,\n",
    "        people_vaccinated,\n",
    "        people_fully_vaccinated,\n",
    "        people_fully_vaccinated_per_hundred,\n",
    "        population\n",
    "]\n",
    "\n",
    "### Câu hỏi nghiên cứu chung\n",
    "1. Dân số có phải là nguyên nhân dẫn tới việc gia tăng số ca mắc ở các quốc gia ? \n",
    "   \n",
    "2. Có phải các nước có nền kinh tế phát triển, thu nhập cao thì dịch bệnh Covid-19 sẽ ít nghiêm trọng hơn so với các nước có nền kinh tế phát triển kém hơn, thu nhập thấp hơn không ?\n",
    "\n",
    "3. Khi vaccine được phổ biến, điều đó có giúp ích cho việc chống đại dịch Covid-19 trên thế giới?\n",
    "\n",
    "4. Biến thể Omicron xuất hiện vào khoảng 11/2021 có gây nguy hiểm không ? So sánh với biến thể Delta xuất hiện vào khoảng tháng 12/2020 ?"
   ]
  },
  {
   "cell_type": "markdown",
   "id": "69ce8cba",
   "metadata": {
    "slideshow": {
     "slide_type": "slide"
    }
   },
   "source": [
    "## Phần 2: Dữ liệu"
   ]
  },
  {
   "cell_type": "markdown",
   "id": "a4d2d002-ce50-4a67-9701-8d3b23d2e592",
   "metadata": {
    "slideshow": {
     "slide_type": "subslide"
    },
    "tags": []
   },
   "source": [
    "### 1. Mô tả dữ liệu\n",
    "File dữ liệu: owid-covid-data.csv\n",
    "\n",
    "Link dataset: [COVID-19 dataset Dataset coronavirus pandemic](https://www.kaggle.com/datasets/georgesaavedra/covid19-dataset)\n",
    "\n",
    "Giải thích các biến sử dụng\n",
    "\n",
    "|Biến                                   |Mô tả\n",
    "|:--------------------------------------|:--------------------------------------------------------------------------|\n",
    "|`continent`                            |Tên châu lục                                                               |\n",
    "|`location`                             |Tên nước                                                                   |\n",
    "|`date`                                 |Ngày quan sát                                                              |\n",
    "|`total_cases`                          |Tổng số ca mắc covid 19 đã được xác nhận                                   |\n",
    "|`new_cases`                            |Số ca mắc mới covid 19 theo ngày đã được xác nhận                          |\n",
    "|`total_cases_per_million`              |Tổng số ca mắc covid 19 đã được xác nhận trên 1,000,000 người              |\n",
    "|`new_cases_per_million`                |Số ca mắc mới covid 19 theo ngày đã được xác nhận trên 1,000,000 người     |\n",
    "|`total_deaths`                         |Tổng số ca covid 19 tử vong đã được xác nhận                               |\n",
    "|`new_deaths`                           |Số ca covid 19 tử vong mới theo ngày đã được xác nhận                      |\n",
    "|`total_deaths_per_million`             |Tổng số ca covid 19 tử vong đã được xác nhận trên 1,000,000 người          |\n",
    "|`new_deaths_per_million`               |Số ca covid 19 tử vong mới theo ngày đã được xác nhận trên 1,000,000 người |\n",
    "|`total_vaccinations`                   |Tổng số liều vaccine                                                       |\n",
    "|`people_vaccinated`                    |Tổng số người tiêm ít nhất một mũi vaccine                                 |\n",
    "|`people_fully_vaccinated`              |Tổng số người tiêm đủ liều vaccine theo quy định                           |\n",
    "|`people_fully_vaccinated_per_hundred`  |Tổng số người tiêm đầy đủ vaccine theo quy định mỗi 100 người              |\n",
    "|`population`                           |Tổng dân số                                                                |"
   ]
  },
  {
   "cell_type": "markdown",
   "id": "00493a3d",
   "metadata": {},
   "source": [
    "### 2. Exploration Data Analysis"
   ]
  },
  {
   "cell_type": "markdown",
   "id": "c601fec0",
   "metadata": {},
   "source": [
    "##### Kiểm tra dữ liệu"
   ]
  },
  {
   "cell_type": "markdown",
   "id": "032e4257",
   "metadata": {},
   "source": [
    "| Biến | Số ô NULL |\n",
    "| :----- | :---------- |\n",
    "|Continent|9956\n",
    "|Location|0\n",
    "|Date|0\n",
    "|TotalCases|3033\n",
    "|NewCases|3193\n",
    "|TotalCases_per_million|3791\n",
    "|NewCases_per_million|3951\n",
    "|TotalDeaths|20875\n",
    "|NewDeaths|20839\n",
    "|TotalDeaths_per_million|21620\n",
    "|NewDeaths_per_million|21584\n",
    "|TotalVaccinations|121132\n",
    "|PeopleVaccinated|123339\n",
    "|PeopleFullyVaccinated|126085\n",
    "|PeopleFullyVaccinated_per_hundred|126085\n",
    "|Population|1075\n",
    "\n",
    "Ta thấy vẫn còn nhiều ô nhận giá trị NULL, ta sẽ chuẩn hoá giá trị trong các cột này"
   ]
  },
  {
   "cell_type": "markdown",
   "id": "dd5182c5",
   "metadata": {},
   "source": [
    "##### Các khu vực không có tên châu lục"
   ]
  },
  {
   "cell_type": "markdown",
   "id": "5219ccdd",
   "metadata": {},
   "source": [
    "`Africa`, `Asia`, `Europe`, `European Union`, `High income`, `International`\n",
    " `Low income`, `Lower middle income`, `North America`, `Oceania`\n",
    " `South America`, `Upper middle income`, `World`\n",
    "\n",
    "Các giá trị trong cột `Location` của tập dữ liệu là tên các khu vực trên thế giới, bao gồm cả tên các quốc gia. Vì một số khu vực trong cột `Location` cũng chính là tên châu lục nên giá trị tương ứng trong cột `Continent` đã nhận giá trị NaN. Do vậy, nhóm sẽ chuẩn hoá các giá trị NaN này thành 0"
   ]
  },
  {
   "cell_type": "markdown",
   "id": "10c52e64",
   "metadata": {},
   "source": [
    "##### Các khu vực không có thông kê dân số"
   ]
  },
  {
   "cell_type": "markdown",
   "id": "1918093e",
   "metadata": {},
   "source": [
    "Một số khu vực trên thế giới như `International`,`Northern Cyprus` chưa có thống kê về dân số trong tập dữ liệu, nên nhóm sẽ bỏ qua các dòng dữ liệu của các khu vực này."
   ]
  },
  {
   "cell_type": "markdown",
   "id": "9276d46e",
   "metadata": {},
   "source": [
    "##### Clean Data"
   ]
  },
  {
   "cell_type": "markdown",
   "id": "1902278f",
   "metadata": {},
   "source": [
    "Còn lại những cột có dữ liệu bị để trống (NULL) vì vào thời điểm quan sát thì có thể chưa xảy ra ca tử vong, chưa có ca mắc hoặc chưa có vaccine để tiêm phòng... \n",
    "\n",
    "Vì thế, nhóm sẽ làm sạch dữ liệu của các cột nhận giá trị NaN khác bằng các số 0"
   ]
  },
  {
   "cell_type": "markdown",
   "id": "56180feb",
   "metadata": {},
   "source": [
    "##### Thời gian thu thập dữ liệu về dịch bệnh"
   ]
  },
  {
   "cell_type": "markdown",
   "id": "3247a0cd",
   "metadata": {},
   "source": [
    "Dữ liệu về dịch bệnh Covid-19 được thu thập từ ngày 2020-01-22 tới ngày 2022-03-05"
   ]
  },
  {
   "cell_type": "markdown",
   "id": "d296cc6b",
   "metadata": {},
   "source": [
    "##### Hình thái dữ liệu:"
   ]
  },
  {
   "cell_type": "markdown",
   "id": "e9cf523b",
   "metadata": {},
   "source": [
    "(165251 instance, 16 column)"
   ]
  },
  {
   "cell_type": "markdown",
   "id": "85451217-fde2-4425-91a3-cf917f7ad98e",
   "metadata": {},
   "source": [
    "##### 5 quan sát đầu tập dữ liệu"
   ]
  },
  {
   "cell_type": "markdown",
   "id": "938669a5-0aa0-423b-b922-2e4b4399e470",
   "metadata": {},
   "source": [
    "|Continent|\tLocation|\tDate|\tTotalCases|\tNewCases|\tTotalCases_per_million|\tNewCases_per_million|\tTotalDeaths|\tNewDeaths|\tTotalDeaths_per_million|\tNewDeaths_per_million|\n",
    "| :----- | :----- | :----- | :----- | :----- | :----- | :-----| :----- | :----- | :----- | :----- |\n",
    "|Asia|\tAfghanistan|\t2020-02-24|\t5.0|\t5.0|\t0.126|\t0.126|\t0.0|\t0.0|\t0.0|\t0.0|\n",
    "|Asia|\tAfghanistan|\t2020-02-25|\t5.0|\t0.0|\t0.126|\t0.000|\t0.0|\t0.0|\t0.0|\t0.0|\n",
    "|Asia|\tAfghanistan|\t2020-02-26|\t5.0|\t0.0|\t0.126|\t0.000|\t0.0|\t0.0|\t0.0|\t0.0|\n",
    "|Asia|\tAfghanistan|\t2020-02-27|\t5.0|\t0.0|\t0.126|\t0.000|\t0.0|\t0.0|\t0.0|\t0.0|\n",
    "|Asia|\tAfghanistan|\t2020-02-28|\t5.0|\t0.0|\t0.126|\t0.000|\t0.0|\t0.0|\t0.0|\t0.0|\n",
    "\n",
    "|TotalVaccinations|\tPeopleVaccinated|\tPeopleFullyVaccinated|\tPeopleFullyVaccinated_per_hundred|\tPopulation|\n",
    "| :----- | :----- | :----- | :----- | :----- |\n",
    "|0.0|\t0.0|\t0.0|\t0.0|\t39835428.0|\n",
    "|0.0|\t0.0|\t0.0|\t0.0|\t39835428.0|\n",
    "|0.0|\t0.0|\t0.0|\t0.0|\t39835428.0|\n",
    "|0.0|\t0.0|\t0.0|\t0.0|\t39835428.0|\n",
    "|0.0|\t0.0|\t0.0|\t0.0|\t39835428.0|"
   ]
  },
  {
   "cell_type": "markdown",
   "id": "9bff7c11-a28c-4970-aa42-9a2f0fd43e46",
   "metadata": {},
   "source": [
    "##### 5 quan sát cuối tập dữ liệu"
   ]
  },
  {
   "cell_type": "markdown",
   "id": "f50929ce-3fe9-44f9-be02-41b01d157a7c",
   "metadata": {},
   "source": [
    "|Continent|\tLocation|\tDate|\tTotalCases|\tNewCases|\tTotalCases_per_million|\tNewCases_per_million|\tTotalDeaths|\tNewDeaths|\tTotalDeaths_per_million|\tNewDeaths_per_million|\n",
    "| :----- | :----- | :----- | :----- | :----- | :----- | :-----| :----- | :----- | :----- | :----- |\n",
    "|Africa|\tZimbabwe|\t2022-03-01|\t236871.0|\t491.0|\t15694.959|\t32.533|\t5395.0|\t0.0|\t357.470|\t0.000|\t7901360.0|\t4365856.0|\t3399915.0|\t22.53|\t15092171.0|\n",
    "|Africa|\tZimbabwe|\t2022-03-02|\t237503.0|\t632.0|\t15736.835|\t41.876|\t5396.0|\t1.0|\t357.536|\t0.066|\t7910740.0|\t4368726.0|\t3402434.0|\t22.54|\t15092171.0|\n",
    "|Africa|\tZimbabwe|\t2022-03-03|\t237503.0|\t0.0|\t15736.835|\t0.000|  5396.0|\t0.0|\t357.536|\t0.000|\t7921113.0|\t4372925.0|\t3406482.0|\t22.57|\t15092171.0|\n",
    "|Africa|\tZimbabwe|\t2022-03-04|\t238739.0|\t1236.0|\t15818.731|\t81.897|\t5397.0|\t1.0|\t357.603|\t0.066|\t7930621.0|\t4374896.0|\t3408609.0|\t22.59|\t15092171.0|\n",
    "|Africa|\tZimbabwe|\t2022-03-05|\t239019.0|\t280.0|\t15837.284|\t18.553|\t5397.0|\t0.0|\t357.603|\t0.000|\t0.0|\t0.0|\t0.0|\t0.00|\t15092171.0|\n",
    "\n",
    "|TotalVaccinations|\tPeopleVaccinated|\tPeopleFullyVaccinated|\tPeopleFullyVaccinated_per_hundred|\tPopulation|\n",
    "| :----- | :----- | :----- | :----- | :----- |\n",
    "|\t7901360.0|\t4365856.0|\t3399915.0|\t22.53|\t15092171.0|\n",
    "|\t7910740.0|\t4368726.0|\t3402434.0|\t22.54|\t15092171.0|\n",
    "|\t7921113.0|\t4372925.0|\t3406482.0|\t22.57|\t15092171.0|\n",
    "|\t7930621.0|\t4374896.0|\t3408609.0|\t22.59|\t15092171.0|\n",
    "|\t0.0|\t0.0|\t0.0|\t0.00|\t15092171.0|"
   ]
  },
  {
   "cell_type": "markdown",
   "id": "9c4c0633",
   "metadata": {},
   "source": [
    "## Phần 3: Kế hoạch phân tích dữ liệu"
   ]
  },
  {
   "cell_type": "markdown",
   "id": "fbb598f2",
   "metadata": {},
   "source": [
    "### 1. Các biến kết quả (phản hồi, Y) và dự đoán (giải thích, X) sử dụng để trả lời câu hỏi"
   ]
  },
  {
   "cell_type": "markdown",
   "id": "b92e870d-a704-497a-bfde-a3c854b1a4b9",
   "metadata": {},
   "source": [
    "1. Dân số có phải là nguyên nhân dẫn tới việc gia tăng số ca mắc ở các quốc gia ? **(X: Population, Location)**  **(Y:TotalCases)**\n",
    "   \n",
    "2. Có phải các nước có nền kinh tế phát triển, thu nhập cao thì dịch bệnh Covid-19 sẽ ít nghiêm trọng hơn so với các nước có nền kinh tế phát triển kém hơn, thu nhập thấp hơn không ? **(X: Location, TotalCases, TotalDeaths)**  **(Y: Tỉ lệ tử vong)**\n",
    "\n",
    "3. Khi vaccine được phổ biến, điều đó có giúp ích cho việc chống đại dịch Covid-19 trên thế giới? **(X: Date, PeopleVaccinated, NewCases, NewDeaths)**  **(Y: Tỉ lệ tử vong)**\n",
    "\n",
    "4. Biến thể Omicron xuất hiện vào khoảng 11/2021 có gây nguy hiểm không? So sánh với biến thể Delta xuất hiện vào tháng 12/2020. **(X: Date, NewCases, NewDeaths)**  **(Y: Tỉ lệ tử vong)**"
   ]
  },
  {
   "cell_type": "markdown",
   "id": "3c893842",
   "metadata": {},
   "source": [
    "### 2. Các nhóm so sánh\n",
    "- Nhóm so sánh: Tỉ lệ tử vong của biến thể Omicron so với Delta\n",
    "- Nhóm so sánh: Tỉ lệ tử vong của dịch Covid-19 trên thế giới trước và sau khi tiêm Vaccine\n",
    "- Nhóm so sánh: Tỉ lệ tử vong của dịch Covid-19 ở nhóm nước phát triển và kém phát triển hơn"
   ]
  },
  {
   "cell_type": "markdown",
   "id": "03391db3",
   "metadata": {},
   "source": [
    "### 3. Phân tích dữ liệu sơ bộ"
   ]
  },
  {
   "cell_type": "markdown",
   "id": "34e05f05",
   "metadata": {},
   "source": [
    "#### Thông tin các cột trong tập dữ liệu"
   ]
  },
  {
   "cell_type": "markdown",
   "id": "1a9baba6",
   "metadata": {},
   "source": [
    "Data columns (total 16 columns):\n",
    "\n",
    "|Column|Non-Null|Count|Dtype|  \n",
    "| :----- | :----- | :----- | :----- |\n",
    "|Continent |165251 |non-null | object| \n",
    "|Location  |165251 |non-null | object |\n",
    "|Date      |165251 |non-null | object |\n",
    "|TotalCases|165251 |non-null | float64|\n",
    "|NewCases|165251 |non-null | float64|\n",
    "|TotalCases_per_million| 165251 |non-null | float64|\n",
    "|NewCases_per_million| 165251 |non-null | float64|\n",
    "|TotalDeaths| 165251 |non-null | float64|\n",
    "|NewDeaths| 165251 |non-null | float64|\n",
    "|TotalDeaths_per_million| 165251 |non-null | float64|\n",
    "|NewDeaths_per_million|  165251| non-null|  float64|\n",
    "|TotalVaccinations|  165251| non-null|  float64|\n",
    "|PeopleVaccinated|  165251| non-null|  float64|\n",
    "|PeopleFullyVaccinated|  165251| non-null|  float64|\n",
    "|PeopleFullyVaccinated_per_hundred|  165251| non-null|  float64|\n",
    "|Population|  165251| non-null|  float64|"
   ]
  },
  {
   "cell_type": "markdown",
   "id": "ef3762b8",
   "metadata": {},
   "source": [
    "#### Các thống kê cơ bản về dữ liệu"
   ]
  },
  {
   "cell_type": "markdown",
   "id": "9cfa0fbc",
   "metadata": {},
   "source": [
    "||`TotalCases`|`NewCases`|`TotalCases_per_million`|`NewCases_per_million`|`TotalDeaths`|`NewDeaths`|`TotalDeaths_per_million`|`NewDeaths_per_million`|\n",
    "| :----- | :----- | :----- | :----- | :----- | :----- | :-----| :----- | :----- |\n",
    "|`count`|\t1.652510e+05|\t1.652510e+05|\t165251.000000|\t165251.000000|\t1.652510e+05|\t165251.000000|\t165251.000000|\t165251.000000|\n",
    "|`mean`|\t2.505992e+06|\t1.142253e+04|\t28963.765115|\t163.534992|\t5.075483e+04|\t150.669212|\t446.055149|\t1.477463|\n",
    "|`std`|\t1.534516e+07|\t8.389329e+04|\t51560.618799|\t677.401746|\t2.840557e+05|\t782.870221|\t753.155897|\t4.852677|\n",
    "|`min`|\t0.000000e+00|\t0.000000e+00|\t0.000000|\t0.000000|\t0.000000e+00\t|0.000000|\t0.000000|\t0.000000|\n",
    "|`25%`|\t1.739000e+03|\t0.000000e+00|\t533.510000|\t0.000000|\t2.400000e+01\t|0.000000|\t6.466000|\t0.000000|\n",
    "|`50%`|\t2.464500e+04|\t7.400000e+01|\t4457.275000|\t10.425000|\t3.850000e+02|\t1.000000|\t72.774000|\t0.031000|\n",
    "|`75%`|\t2.891110e+05|\t1.029000e+03|\t36582.431500|\t97.800500|\t5.356000e+03|\t14.000000|\t581.888000|\t1.032000|\n",
    "|`max`|\t4.451295e+08|\t4.206334e+06|\t706541.904000|\t51427.491000|\t5.995245e+06|\t18020.000000|\t6322.263000|\t453.772000|\n",
    "\n",
    "\n",
    "\n",
    "||`TotalVaccinations`|`PeopleVaccinated`|`PeopleFullyVaccinated`|`PeopleFullyVaccinated_per_hundred`|`Population`|\n",
    "| :----- | :----- | :----- | :----- | :----- | :----- |\n",
    "|`count`|\t1.652510e+05|\t1.652510e+05|\t1.652510e+05|\t165251.000000|\t1.652510e+05|\n",
    "|`mean`|\t4.703560e+07|\t2.292889e+07|\t1.691146e+07|\t7.905456|\t1.474332e+08|\n",
    "|`std`|\t4.133728e+08|\t2.073323e+08|\t1.652634e+08|\t19.519701|\t7.054923e+08|\n",
    "|`min`|\t0.000000e+00|\t0.000000e+00|\t0.000000e+00|\t0.000000|\t4.700000e+01|\n",
    "|`25%`|\t0.000000e+00|\t0.000000e+00|\t0.000000e+00|\t0.000000|\t1.172369e+06|\n",
    "|`50%`|\t0.000000e+00|\t0.000000e+00|\t0.000000e+00|\t0.000000|8.478242e+06|\n",
    "|`75%`|\t5.999550e+04|\t1.400250e+04|\t0.000000e+00|\t0.000000|\t3.393361e+07|\n",
    "|`max`|\t1.085079e+10|\t4.976031e+09|\t4.400787e+09|\t121.450000|\t7.874966e+09|\n"
   ]
  },
  {
   "cell_type": "markdown",
   "id": "6f8e8472",
   "metadata": {},
   "source": [
    "#### Một số biểu đồ trực quan hoá dữ liệu"
   ]
  },
  {
   "cell_type": "markdown",
   "id": "99a66b2e",
   "metadata": {},
   "source": [
    "<img src=\"../Image/mapcases.png\"/>"
   ]
  },
  {
   "cell_type": "markdown",
   "id": "2dc66e38",
   "metadata": {},
   "source": [
    "Ta thấy số ca mắc Covid-19 đã bao phủ khắp các nước trên thế giới, một số quốc gia như Mỹ, Nga, Anh, Ấn Độ ...- những nước có nền kinh tế phát triển đều có số ca mắc lên tới hàng chục triệu tính đến thời điểm xét tập dữ liệu"
   ]
  },
  {
   "cell_type": "markdown",
   "id": "8d279fae",
   "metadata": {},
   "source": [
    "<img src=\"../Image/mapdeaths.png\"/>"
   ]
  },
  {
   "cell_type": "markdown",
   "id": "c2c20967",
   "metadata": {},
   "source": [
    "Những quốc gia có nền kinh tế phát triển, có tổng số ca mắc nhiều như Mỹ, Nga, Anh, Ấn Độ ... thì đều có tổng số ca tử vong lớn tính đến thời điểm xét tập dữ liệu"
   ]
  },
  {
   "cell_type": "markdown",
   "id": "19e63e47",
   "metadata": {},
   "source": [
    "<img src=\"../Image/case_death.png\"/>"
   ]
  },
  {
   "cell_type": "markdown",
   "id": "a098e497",
   "metadata": {},
   "source": [
    "Vào khoảng cuối năm 2021, biến thể OMICRON xuất hiện làm gia tăng nhanh số ca nhiễm mới mỗi ngày nhưng số ca tử vong mới mỗi ngày của biến thể này không cao so với biến thể DELTA xuất hiện trước đó. Có lẽ do khi biến thể OMICRON xuất hiện thì độ bao phủ vaccine trên thế giới cũng đã tăng cao nên ta thấy số ca tử vong mới mỗi ngày không tăng mạnh như trước đó."
   ]
  },
  {
   "cell_type": "markdown",
   "id": "55c6495d",
   "metadata": {},
   "source": [
    "<img src=\"../Image/proposal_top20_cases.png\"/>"
   ]
  },
  {
   "cell_type": "markdown",
   "id": "62c6fb57",
   "metadata": {},
   "source": [
    "Một số nước có nền kinh tế phát triển như United State, India, Russia, Germany... nhưng lại có số ca mắc Covid-19 dẫn đầu trên thế giới, hơn cả nước khởi phát dịch bệnh là Trung Quốc"
   ]
  },
  {
   "cell_type": "markdown",
   "id": "aa8b6b03",
   "metadata": {},
   "source": [
    "<img src=\"../Image/proposal_top20_deaths.png\"/>"
   ]
  },
  {
   "cell_type": "markdown",
   "id": "8c9c4a46",
   "metadata": {},
   "source": [
    "Số ca tử vong của các nước có nền kinh tế phát triển lại đứng top đầu của thế giới. \n",
    "\n",
    "Từ đó, ta có thể thấy sơ qua là số ca mắc và tử vong chưa hẳn phụ thuộc nhiều vào nền kinh tế của các nước, nó còn phụ thuộc các yếu tố khác"
   ]
  },
  {
   "cell_type": "markdown",
   "id": "82dd6785",
   "metadata": {},
   "source": [
    "<img src=\"../Image/case_death_vaccine.png\"/>"
   ]
  },
  {
   "cell_type": "markdown",
   "id": "347a4aed",
   "metadata": {},
   "source": [
    "Vaccine xuất hiện có thể xem là vũ khí đẩy lùi dịch bệnh Covid-19 trên thế giới. Độ bao phủ vaccine trên toàn thế giới ngày càng lớn dần, bỏ xa tổng số ca mắc và số ca tử vong. Điều này đang cho thấy tín hiệu tích cực trong việc phòng chống đại dịch Covid-19"
   ]
  },
  {
   "cell_type": "markdown",
   "id": "ec94d732",
   "metadata": {},
   "source": [
    "### 4. Các phương pháp thống kê"
   ]
  },
  {
   "cell_type": "markdown",
   "id": "2e791b87",
   "metadata": {},
   "source": [
    "Nhóm sử dụng các phương pháp thống kê:\n",
    "- Suy diễn mối quan hệ giữa hai biến (Q --> Q, C --> Q)\n",
    "- Kiểm định giả thuyết\n",
    "- Thống kế T-test..."
   ]
  },
  {
   "cell_type": "markdown",
   "id": "3da4e395",
   "metadata": {},
   "source": [
    "### 5. Kết quả từ phương pháp thống kê"
   ]
  },
  {
   "cell_type": "markdown",
   "id": "f838ba13",
   "metadata": {},
   "source": [
    "Kết quả từ phương pháp thống kê nhóm thấy hữu ích: \n",
    "- Giá trị `p_value` tính được từ các thống kê `T-test` để có thể chấp nhận hoặc bác bỏ các giả thuyết thống kê\n",
    "- Hệ số tương quan `R` thể hiện mối quan hệ giữa hai biến số là mạnh hay yếu..."
   ]
  }
 ],
 "metadata": {
  "celltoolbar": "Slideshow",
  "kernelspec": {
   "display_name": "Python 3 (ipykernel)",
   "language": "python",
   "name": "python3"
  },
  "language_info": {
   "codemirror_mode": {
    "name": "ipython",
    "version": 3
   },
   "file_extension": ".py",
   "mimetype": "text/x-python",
   "name": "python",
   "nbconvert_exporter": "python",
   "pygments_lexer": "ipython3",
   "version": "3.9.12"
  },
  "vscode": {
   "interpreter": {
    "hash": "960f2ae499b536958d588fcafb5f9e40dd995fc898e4b79db932caf22756042a"
   }
  }
 },
 "nbformat": 4,
 "nbformat_minor": 5
}
