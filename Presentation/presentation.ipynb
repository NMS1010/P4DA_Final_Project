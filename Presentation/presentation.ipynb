{
 "cells": [
  {
   "cell_type": "markdown",
   "metadata": {
    "slideshow": {
     "slide_type": "slide"
    }
   },
   "source": [
    "# <span style=\"color:red; font-size:75px;\"> Thuyết trình (Presentation)</span>"
   ]
  },
  {
   "cell_type": "markdown",
   "metadata": {
    "slideshow": {
     "slide_type": "slide"
    }
   },
   "source": [
    "<span style=\"color:red; font-size: 50px;\">Tên đề tài: Phân tích tình hình dịch bệnh Covid-19</span>"
   ]
  },
  {
   "cell_type": "markdown",
   "metadata": {
    "slideshow": {
     "slide_type": "slide"
    }
   },
   "source": [
    "## Nhóm 13\n",
    "## Thành viên \n",
    "\n",
    "1. Nguyễn Minh Sơn - 20110713\n",
    "2. Lê Anh Nhân - 20110689\n",
    "3. Đỗ Minh Dũng - 20110620\n",
    "4. Nguyễn Thái Ngọc Tân - 20110719"
   ]
  },
  {
   "cell_type": "markdown",
   "metadata": {
    "slideshow": {
     "slide_type": "slide"
    }
   },
   "source": [
    "# Bố cục\n",
    "\n",
    "1. Giới thiệu\n",
    "2. Dữ liệu\n",
    "3. Kết quả thực nghiệm\n",
    "4. Kết luận"
   ]
  },
  {
   "cell_type": "markdown",
   "metadata": {
    "slideshow": {
     "slide_type": "slide"
    }
   },
   "source": [
    "# 1. Giới thiệu\n",
    "\n",
    "- Đại dịch covid-19 xuất hiện từ cuối năm 2019, gây thiệt hại nghiêm trọng về mọi mặt về kinh tế, xã hội....\n",
    "\n",
    "- Mặc dù đã có vaccine nhưng dịch bệnh này vẫn còn hoành hoành ở nhiều quốc gia.\n",
    "\n",
    "- Nhóm đã chọn tập dữ liệu liên quan đến vấn đề này để phân tích.\n",
    "\n",
    "- Nhóm muốn đánh giá xem đại dịch này có phụ thuộc vào các yếu tố như nền kinh tế, dân số hay không? Tình hình dịch bệnh khi biến thể Omicron xuất hiện? Việc tiêm vaccine có làm giảm bớt số ca mắc, số ca tử vong hay làm giảm đi tỉ lệ tử vong vì Covid-19 hay không ?"
   ]
  },
  {
   "cell_type": "markdown",
   "metadata": {
    "slideshow": {
     "slide_type": "slide"
    }
   },
   "source": [
    "# 2. Dữ liệu"
   ]
  },
  {
   "cell_type": "markdown",
   "metadata": {
    "slideshow": {
     "slide_type": "slide"
    }
   },
   "source": [
    "## 2.1 Mô tả dữ liệu\n",
    "\n",
    "File dữ liệu: `owid-covid-data.csv`\n",
    "\n",
    "Link dataset: [COVID-19 dataset Dataset coronavirus pandemic](https://www.kaggle.com/datasets/georgesaavedra/covid19-dataset)"
   ]
  },
  {
   "cell_type": "markdown",
   "metadata": {
    "slideshow": {
     "slide_type": "slide"
    }
   },
   "source": [
    "Giải thích các biến sử dụng\n",
    "\n",
    "|Biến                                   |Mô tả\n",
    "|:--------------------------------------|:--------------------------------------------------------------------------|\n",
    "|`continent`                            |Tên châu lục                                                               |\n",
    "|`location`                             |Tên nước                                                                   |\n",
    "|`date`                                 |Ngày quan sát                                                              |\n",
    "|`total_cases`                          |Tổng số ca mắc covid 19 đã được xác nhận                                   |\n",
    "|`new_cases`                            |Số ca mắc mới covid 19 theo ngày đã được xác nhận                          |\n",
    "|`total_deaths`                         |Tổng số ca covid 19 tử vong đã được xác nhận                               |\n",
    "|`new_deaths`                           |Số ca covid 19 tử vong mới theo ngày đã được xác nhận                      |\n",
    "|`total_vaccinations`                   |Tổng số liều vaccine                                                       |\n",
    "|`people_vaccinated`                    |Tổng số người tiêm ít nhất một mũi vaccine                                 |\n",
    "|`people_fully_vaccinated`              |Tổng số người tiêm đủ liều vaccine theo quy định                           |\n",
    "|`population`                           |Tổng dân số                                                                |"
   ]
  },
  {
   "cell_type": "markdown",
   "metadata": {
    "slideshow": {
     "slide_type": "slide"
    }
   },
   "source": [
    "## 2.2 Tiền xử lý dữ liệu"
   ]
  },
  {
   "cell_type": "markdown",
   "metadata": {
    "slideshow": {
     "slide_type": "slide"
    }
   },
   "source": [
    "### Kiểm tra dữ liệu"
   ]
  },
  {
   "cell_type": "markdown",
   "metadata": {
    "slideshow": {
     "slide_type": "slide"
    }
   },
   "source": [
    "| Biến | Số ô NULL |\n",
    "| :----- | :---------- |\n",
    "|Continent|9956\n",
    "|Location|0\n",
    "|Date|0\n",
    "|TotalCases|3033\n",
    "|NewCases|3193\n",
    "|TotalCases_per_million|3791\n",
    "|NewCases_per_million|3951\n",
    "|TotalDeaths|20875\n",
    "|NewDeaths|20839\n",
    "|TotalDeaths_per_million|21620\n",
    "|NewDeaths_per_million|21584\n",
    "|TotalVaccinations|121132\n",
    "|PeopleVaccinated|123339\n",
    "|PeopleFullyVaccinated|126085\n",
    "|PeopleFullyVaccinated_per_hundred|126085\n",
    "|Population|1075\n",
    "\n",
    "Ta thấy vẫn còn nhiều ô nhận giá trị NULL, ta sẽ chuẩn hoá giá trị trong các cột này"
   ]
  },
  {
   "cell_type": "markdown",
   "metadata": {
    "slideshow": {
     "slide_type": "slide"
    }
   },
   "source": [
    "### Các khu vực không có tên châu lục\n",
    "\n",
    "`Africa`, `Asia`, `Europe`, `European Union`, `High income`, `International`\n",
    " `Low income`, `Lower middle income`, `North America`, `Oceania`\n",
    " `South America`, `Upper middle income`, `World`\n",
    "\n",
    "Các giá trị trong cột `Location` của tập dữ liệu là tên các khu vực trên thế giới, bao gồm cả tên các quốc gia. Vì một số khu vực trong cột `Location` cũng chính là tên châu lục nên giá trị tương ứng trong cột `Continent` đã nhận giá trị NaN. Do vậy, nhóm sẽ chuẩn hoá các giá trị NaN này thành 0"
   ]
  },
  {
   "cell_type": "markdown",
   "metadata": {
    "slideshow": {
     "slide_type": "slide"
    }
   },
   "source": [
    "### Các khu vực không có thông kê dân số\n",
    "\n",
    "Một số khu vực trên thế giới như `International`,`Northern Cyprus` chưa có thống kê về dân số, nhóm sẽ bỏ qua các dòng dữ liệu của các khu vực này."
   ]
  },
  {
   "cell_type": "markdown",
   "metadata": {
    "slideshow": {
     "slide_type": "slide"
    }
   },
   "source": [
    "### Làm sạch dữ liệu\n",
    "\n",
    "Còn lại những cột có dữ liệu bị để trống (NULL) vì vào thời điểm quan sát thì có thể chưa xảy ra ca tử vong, chưa có ca mắc hoặc chưa có vaccine để tiêm phòng... \n",
    "\n",
    "Vì thế, nhóm sẽ làm sạch dữ liệu của các cột nhận giá trị NaN bằng các số 0"
   ]
  },
  {
   "cell_type": "markdown",
   "metadata": {
    "slideshow": {
     "slide_type": "slide"
    }
   },
   "source": [
    "### Thời gian thu thập dữ liệu về dịch bệnh\n",
    "\n",
    "Từ ngày 2020-01-22 tới ngày 2022-03-05"
   ]
  },
  {
   "cell_type": "markdown",
   "metadata": {
    "slideshow": {
     "slide_type": "slide"
    }
   },
   "source": [
    "## 2.3 Chi tiết dữ liệu"
   ]
  },
  {
   "cell_type": "markdown",
   "metadata": {
    "slideshow": {
     "slide_type": "slide"
    }
   },
   "source": [
    "### Hình thái dữ liệu: \n",
    "\n",
    "(165251 instance, 16 column)"
   ]
  },
  {
   "cell_type": "markdown",
   "metadata": {
    "slideshow": {
     "slide_type": "slide"
    }
   },
   "source": [
    "# 3. Kết quả thực nghiệm"
   ]
  },
  {
   "cell_type": "markdown",
   "metadata": {
    "slideshow": {
     "slide_type": "slide"
    }
   },
   "source": [
    "## Câu 1: Dân số có phải là nguyên nhân dẫn tới việc gia tăng số ca mắc ở các quốc gia? "
   ]
  },
  {
   "cell_type": "markdown",
   "metadata": {
    "slideshow": {
     "slide_type": "slide"
    }
   },
   "source": [
    "<font face=\"Cambria Math\" size=5 color = #1155cc>Suy diễn mối quan hệ giữa hai biến: 𝑄 (Population) → 𝑄 (TotalCases)"
   ]
  },
  {
   "cell_type": "markdown",
   "metadata": {
    "slideshow": {
     "slide_type": "slide"
    }
   },
   "source": [
    "<img src='../Image/population_case.png'/>"
   ]
  },
  {
   "cell_type": "markdown",
   "metadata": {
    "slideshow": {
     "slide_type": "slide"
    }
   },
   "source": [
    "Từ biểu đồ trên, ta thấy châu Á là nơi có số dân đông nhất thế giới, dự đoán có thể có số ca mắc Covid-19 nhiều nhất. \n",
    "\n",
    "Nhưng châu Âu mới là nơi có tổng số ca mắc nhiều nhất trên thế giới."
   ]
  },
  {
   "cell_type": "markdown",
   "metadata": {
    "slideshow": {
     "slide_type": "slide"
    }
   },
   "source": [
    "\n",
    "Ta thực hiện suy diễn mối quan hệ giữa hai biến số bằng biểu đồ `Scatter` để xem liệu dân số đông có phải là nguyên nhân dẫn tới gia tăng số ca mắc hay không ?"
   ]
  },
  {
   "cell_type": "markdown",
   "metadata": {
    "slideshow": {
     "slide_type": "slide"
    }
   },
   "source": [
    "<img src='../Image/population_case_scatter_slide.png'/>"
   ]
  },
  {
   "cell_type": "markdown",
   "metadata": {
    "slideshow": {
     "slide_type": "slide"
    }
   },
   "source": [
    "Theo biểu đồ, có 3 giá trị ngoại lai ứng với 3 nước nằm xa vùng tập trung dữ liệu nhất, điều đó cho thấy mức độ tương quan giữa hai biến có thể sẽ không cao. Một số nước có dân số thấp nhưng tổng sổ ca mắc lại cao hơn các nước đông dân."
   ]
  },
  {
   "cell_type": "markdown",
   "metadata": {
    "slideshow": {
     "slide_type": "slide"
    }
   },
   "source": [
    "**Ta đặt giả thuyết thống kê**\n",
    "\n",
    "H0: Không có mối quan hệ tuyến tính giữa dân số và số ca mắc\n",
    "\n",
    "Ha: Có mối quan hệ tuyến tính giữa dân số và số ca mắc"
   ]
  },
  {
   "cell_type": "markdown",
   "metadata": {
    "slideshow": {
     "slide_type": "slide"
    }
   },
   "source": [
    "Ta tính được giá trị `P-value = 4.0350674184659014e-12 < 0.05`\n",
    "Ta bác bỏ H0, chấp nhận Ha"
   ]
  },
  {
   "cell_type": "markdown",
   "metadata": {
    "slideshow": {
     "slide_type": "slide"
    }
   },
   "source": [
    "Hệ số tương quan `R = 0.4418309554783007`\n",
    "- Độ mạnh trung bình\n",
    "- Chưa thể kết luận ngay dân số có ảnh hưởng đến số ca mắc Covid-19 ở các quốc gia trên thế giới\n",
    "- Còn nhiều yếu tố ảnh hưởng khác như hệ thống y tế, chính sách cách ly của mỗi quốc gia..."
   ]
  },
  {
   "cell_type": "markdown",
   "metadata": {
    "slideshow": {
     "slide_type": "slide"
    }
   },
   "source": [
    "## Câu 2: Có phải các nước có nền kinh tế phát triển, thu nhập cao thì dịch bệnh Covid-19 sẽ ít nghiêm trọng hơn so với các nước có nền kinh tế phát triển kém hơn, thu nhập thấp hơn không ?"
   ]
  },
  {
   "cell_type": "markdown",
   "metadata": {
    "slideshow": {
     "slide_type": "slide"
    }
   },
   "source": [
    "<font face=\"Cambria Math\" size=5 color = #1155cc>Suy diễn mối quan hệ giữa hai biến: C (Nhóm các nước có nền kinh tế phát triển và đang phát triển) → 𝑄 (Tỉ lệ tử vong) bằng thống kê T-test giữa hai nhóm độc lập </font>"
   ]
  },
  {
   "cell_type": "markdown",
   "metadata": {
    "slideshow": {
     "slide_type": "slide"
    }
   },
   "source": [
    "<img src='../Image/top10_case_slide.png'/>"
   ]
  },
  {
   "cell_type": "markdown",
   "metadata": {
    "slideshow": {
     "slide_type": "slide"
    }
   },
   "source": [
    "<img src='../Image/top10_death_slide.png'/>"
   ]
  },
  {
   "cell_type": "markdown",
   "metadata": {
    "slideshow": {
     "slide_type": "slide"
    }
   },
   "source": [
    "Từ hai biểu đồ trên, ta có thể thấy được các nước có nền kinh tế phát triển như Mỹ, Anh, Nga, Ấn Độ, Canada... đều có tổng số ca mắc và tử vong cao"
   ]
  },
  {
   "cell_type": "markdown",
   "metadata": {
    "slideshow": {
     "slide_type": "slide"
    }
   },
   "source": [
    "Chọn một số nước có nền kinh tế phát triển và đang phát triển"
   ]
  },
  {
   "cell_type": "markdown",
   "metadata": {
    "slideshow": {
     "slide_type": "slide"
    }
   },
   "source": [
    "35 nước có nền kinh tế phát triển: \n",
    "\n",
    "`United States`, `China`, `Japan`, `Germany`, `United Kingdom`, `India`, `France`, `Canada`, `Italy`, `Brazil`, `Russia`, `South Korea`, `Australia`, `Iran`, `Spain`, `Mexico`, `Indonesia`, `Saudi Arabia`, `Netherlands`, `Switzerland`, `Taiwan`, `Poland`, `Turkey`, `Sweden`, `Belgium`, `Argentina`, `Norway`, `Thailand`, `Israel`, `Ireland`, `Malaysia`, `United Arab Emirates`, `Austria`, `South Africa`, `Singapore`"
   ]
  },
  {
   "cell_type": "markdown",
   "metadata": {
    "slideshow": {
     "slide_type": "slide"
    }
   },
   "source": [
    "35 nước có nền kinh tế đang phát triển: \n",
    "\n",
    "`Vietnam`, `Hong Kong`, `Luxembourg`, `Libya`, `Namibia`, `Kosovo`, `Togo`, `Congo`, `Latvia`, `New Zealand`, `Uruguay`, `South Sudan`, `San Marino`, `Gambia`, `Curacao`, `Sierra Leone`, `New Caledonia`, `Mauritius`, `Chad`, `North Macedonia`, `Syria`, `Malta`, `Laos`, `Albania`, `Afghanistan`, `Zambia`, `Myanmar`, `Cuba`, `Ukraine`, `Qatar`, `Colombia`, `Pakistan`, `Chile`, `Finland`, `Belize`"
   ]
  },
  {
   "cell_type": "markdown",
   "metadata": {
    "slideshow": {
     "slide_type": "slide"
    }
   },
   "source": [
    "<img src='../Image/economy.png'/>"
   ]
  },
  {
   "cell_type": "markdown",
   "metadata": {
    "slideshow": {
     "slide_type": "slide"
    }
   },
   "source": [
    "`Nhận xét`:\n",
    "\n",
    "Qua biểu đồ Boxplot ta thấy tỷ lệ tử vong trung bình của nhóm nước có nền kinh tế đang phát triển lớn hơn các nước phát triển"
   ]
  },
  {
   "cell_type": "markdown",
   "metadata": {
    "slideshow": {
     "slide_type": "slide"
    }
   },
   "source": [
    "Thực hiện kiểm định thống kê cho 2 nhóm các quốc gia có nền kinh tế phát triển và nền kinh tế đang phát triển\n",
    "\n",
    "Mối quan hệ giữa hai biến `C (Nhóm kinh tế) --> Q (Tỉ lệ tử vong)`: hai nhóm độc lập => Ta thực hiện thống kê `T-test`"
   ]
  },
  {
   "cell_type": "markdown",
   "metadata": {
    "slideshow": {
     "slide_type": "slide"
    }
   },
   "source": [
    "**Ta đặt giả thuyết thống kê**\n",
    "\n",
    "`H0: tỉ lệ tử vong tại nhóm quốc gia phát triển và nhóm các quốc gia đang phát triển là như nhau.`\n",
    "\n",
    "`Ha: tỉ lệ tử vong tại nhóm quốc gia phát triển sẽ cao hơn so với các quốc gia đang phát triển.`"
   ]
  },
  {
   "cell_type": "markdown",
   "metadata": {
    "slideshow": {
     "slide_type": "slide"
    }
   },
   "source": [
    "Giá trị p tính được là kiểm định hai phía: `p =  0.49304175868581457`\n",
    "\n",
    "Vì ta kiểm định 1 phía nên `p_value = p/2 =  0.24652087934290728`\n",
    "\n",
    "Ta có `p_value = 0.24652087934290728` > 0,05 => không thể bác bỏ giả thuyết H0\n",
    "\n",
    "`Nhận xét`: \n",
    "1. Không có mối quan hệ giữa nền kinh tế và tỉ lệ tử vong vì dịch bệnh Covid-19 ở các nước. \n",
    "2. Có lẽ kinh tế không phải nhân tố quyết định mức độ nghiêm trọng của dịch covid-19\n",
    "3. Còn một số nguyên nhân quan trọng khác như: Chính sách phòng chống dịch bệnh của các quốc gia, thời tiết của mỗi khu vực và sức khỏe của dân cư."
   ]
  },
  {
   "cell_type": "markdown",
   "metadata": {
    "slideshow": {
     "slide_type": "slide"
    }
   },
   "source": [
    "## Câu 3: Khi vaccine được phổ biến, điều đó có giúp ích cho việc chống đại dịch Covid-19 trên thế giới?"
   ]
  },
  {
   "cell_type": "markdown",
   "metadata": {
    "slideshow": {
     "slide_type": "slide"
    }
   },
   "source": [
    "<font face=\"Cambria Math\" size=5 color = #1155cc>Suy diễn mối quan hệ giữa hai biến: C (Nhóm các ngày trước và sau tiêm vaccine) → 𝑄 (Tỉ lệ tử vong) bằng thống kê T-test giữa hai nhóm độc lập </font>"
   ]
  },
  {
   "cell_type": "markdown",
   "metadata": {
    "slideshow": {
     "slide_type": "slide"
    }
   },
   "source": [
    "Vaccine được đưa vào sử dụng đầu tiên vào ngày 2020-12-04"
   ]
  },
  {
   "cell_type": "markdown",
   "metadata": {
    "slideshow": {
     "slide_type": "slide"
    }
   },
   "source": [
    "<img src='../Image/vaccine_newcase_slide.png'/>"
   ]
  },
  {
   "cell_type": "markdown",
   "metadata": {
    "slideshow": {
     "slide_type": "slide"
    }
   },
   "source": [
    "Hệ số tương quan `R = 0.5081608318814392` \n",
    "- Không mạnh, đường tuyến tính đồng biến => Số ca mắc mới mỗi ngày vẫn tăng khi số lượng người tiêm vaccine tăng lên.\n",
    "- Tuy nhiên, để đánh giá mức độ giúp ích của vaccine, ta hãy xét về số ca tử vong mỗi ngày sau khi tiến hành tiêm vaccine."
   ]
  },
  {
   "cell_type": "markdown",
   "metadata": {
    "slideshow": {
     "slide_type": "slide"
    }
   },
   "source": [
    "<img src='../Image/vaccine_newdeath_slide.png'/>"
   ]
  },
  {
   "cell_type": "markdown",
   "metadata": {
    "slideshow": {
     "slide_type": "slide"
    }
   },
   "source": [
    "Hệ số tương quan `R = -0.5537746649965218`:\n",
    "- Không mạnh, đường khớp dữ liệu là nghịch biến => Vaccine phần nào đã giúp khống chế số ca tử vong mỗi ngày trên thế giới.\n",
    "- Có lẽ vaccine đang thực sự giúp ích cho việc chống đại dịch Covid-19 trên thế giới"
   ]
  },
  {
   "cell_type": "markdown",
   "metadata": {
    "slideshow": {
     "slide_type": "slide"
    }
   },
   "source": [
    "<img src='../Image/mortality_vaccine_slide.png'/>"
   ]
  },
  {
   "cell_type": "markdown",
   "metadata": {
    "slideshow": {
     "slide_type": "slide"
    }
   },
   "source": [
    "Từ biểu đồ ta cũng có thể thấy được rằng tỉ lệ tử vong vì Covid-19 trước khi tiêm vaccine lớn hớn so với sau khi tiêm vaccine, đặc biệt là những ngày đầu bùng phát dịch"
   ]
  },
  {
   "cell_type": "markdown",
   "metadata": {
    "slideshow": {
     "slide_type": "slide"
    }
   },
   "source": [
    "<img src='../Image/boxplot_vaccine.png'/>"
   ]
  },
  {
   "cell_type": "markdown",
   "metadata": {
    "slideshow": {
     "slide_type": "slide"
    }
   },
   "source": [
    "`Nhận xét`: Qua biểu đồ Boxplot, ta thấy tỉ lệ tử vong trung bình sau khi tiêm vaccine thấp hơn trước khi tiêm vaccine"
   ]
  },
  {
   "cell_type": "markdown",
   "metadata": {
    "slideshow": {
     "slide_type": "slide"
    }
   },
   "source": [
    "Để có thể đưa ra kết luận chắc chắn, ta thực hiện kiểm định thống kê T-test `C (Nhóm ngày trước và sau tiêm vaccine) --> Q (Tỷ lệ tử vong)`(2 nhóm độc lập): tỉ lệ tử vong vì dịch bệnh các ngày trước và sau khi tiêm vaccine trên thế giới.\n",
    "\n",
    "Ta đặt giả thuyết:\n",
    "\n",
    "`H0: tỉ lệ tử vong các ngày trước và sau khi tiêm vaccine là như nhau`\n",
    "\n",
    "`Ha: tỉ lệ tử vong các ngày trước khi tiêm vaccine cao hơn sau khi tiêm.`"
   ]
  },
  {
   "cell_type": "markdown",
   "metadata": {
    "slideshow": {
     "slide_type": "slide"
    }
   },
   "source": [
    "Giá trị p tính được là kiểm định hai phía: `p =  1.3756703062376602e-39`\n",
    "\n",
    "Vì ta kiểm định 1 phía nên `p_value = p/2 =  6.878351531188301e-40`\n",
    "\n",
    "Ta có `p_value = 6.878351531188301e-40 < 0,05` và `t = 13.945868874153058 > 0` => Ta bác bỏ giả thuyết H0, chấp nhận Ha"
   ]
  },
  {
   "cell_type": "markdown",
   "metadata": {
    "slideshow": {
     "slide_type": "slide"
    }
   },
   "source": [
    "Khoảng tin cậy 95% cho trung bình tỉ lệ tử vong của các ngày trước so với các ngày sau khi tiêm vaccine: `(0.020231343924245682, 0.020610953599724247)`. \n",
    "\n",
    "Hay nói cách khác, trung bình tỉ lệ tử vong vì Covid-19 các ngày trước lớn hơn các ngày sau khi tiêm vaccine trong khoảng tin cậy."
   ]
  },
  {
   "cell_type": "markdown",
   "metadata": {
    "slideshow": {
     "slide_type": "slide"
    }
   },
   "source": [
    "`Nhận xét`: \n",
    "\n",
    "Vậy tỉ lệ tử vong trên thế giới ở thời điểm trước khi tiêm vaccine cao hơn sau khi tiêm vaccine. Do đó, vaccine dường như có ích trong việc chống đại dịch Covid-19 trên thế giới"
   ]
  },
  {
   "cell_type": "markdown",
   "metadata": {
    "slideshow": {
     "slide_type": "slide"
    }
   },
   "source": [
    "## Câu 4: Biến thể Omicron xuất hiện vào khoảng 11/2021 có gây nguy hiểm không? So sánh với biến thể Delta xuất hiện vào tháng 12/2020."
   ]
  },
  {
   "cell_type": "markdown",
   "metadata": {
    "slideshow": {
     "slide_type": "slide"
    }
   },
   "source": [
    "<font face=\"Cambria Math\" size=5 color = #1155cc>Suy diễn mối quan hệ giữa hai biến: C (Nhóm các ngày xuất hiện hai biến thể DELTA và OMICRON) → 𝑄 (Tỉ lệ tử vong) bằng thống kê T-test giữa hai nhóm độc lập </font>"
   ]
  },
  {
   "cell_type": "markdown",
   "metadata": {
    "slideshow": {
     "slide_type": "slide"
    }
   },
   "source": [
    "<img src='../Image/case_ticks_slide.png'/>"
   ]
  },
  {
   "cell_type": "markdown",
   "metadata": {
    "slideshow": {
     "slide_type": "slide"
    }
   },
   "source": [
    "<img src='../Image/death_tick_slide.png'/>"
   ]
  },
  {
   "cell_type": "markdown",
   "metadata": {
    "slideshow": {
     "slide_type": "slide"
    }
   },
   "source": [
    "**Theo biểu đồ**\n",
    "\n",
    "- **Chỉ mới xuất hiện tháng 11/2021 nhưng số ca mắc mới hàng tháng của biến chủng `OMICRON` lại tăng nhanh hơn rất nhiều so với `DELTA`.**\n",
    "\n",
    "- **Tuy nhiên, số ca tử vong mới hàng tháng của biến chủng `OMICRON` có phần ít hơn biến chủng `DELTA` , mặc dù số ca mắc đang có xu hướng tăng lên theo mỗi tháng.**"
   ]
  },
  {
   "cell_type": "markdown",
   "metadata": {
    "slideshow": {
     "slide_type": "slide"
    }
   },
   "source": [
    "**Ta sẽ xem xét mối quan hệ giữa 2 biến số `NewCases` và `NewDeaths` của 2 biến thể `DELTA` và `OMICRON` để có thể đưa ra nhận xét bằng biểu đồ `Scatter`**"
   ]
  },
  {
   "cell_type": "markdown",
   "metadata": {
    "slideshow": {
     "slide_type": "slide"
    }
   },
   "source": [
    "<img src='../Image/delta_scatter_slide.png'/>"
   ]
  },
  {
   "cell_type": "markdown",
   "metadata": {
    "slideshow": {
     "slide_type": "slide"
    }
   },
   "source": [
    "Hệ số tương quan  `R = 0.6957555110837915`: \n",
    "- Đường tuyến tính tương quan thuận, có độ mạnh trung bình\n",
    "- Với biến chủng DELTA, số ca mắc mới tăng thì số ca tử vong cũng tăng theo"
   ]
  },
  {
   "cell_type": "markdown",
   "metadata": {
    "slideshow": {
     "slide_type": "slide"
    }
   },
   "source": [
    "<img src='../Image/omicron_scatter_slide.png'/>"
   ]
  },
  {
   "cell_type": "markdown",
   "metadata": {
    "slideshow": {
     "slide_type": "slide"
    }
   },
   "source": [
    "Hệ số tương quan `R = 0.48769221282441555`: \n",
    "- Đường tuyến tính tương quan thuận, độ mạnh không quá mạnh hoặc yếu, thấp hơn biến thể `DELTA`.\n",
    "- Với biến chủng `OMICRON`, số ca mắc mới tăng thì số ca tử vong mới cũng tăng nhưng ít hơn `DELTA` => Có lẽ ít nguy hiểm hơn `DELTA`.\n",
    "- Số ca mắc mới của biến thể `OMICRON` tăng nhanh hơn nhiều so với `DELTA`"
   ]
  },
  {
   "cell_type": "markdown",
   "metadata": {
    "slideshow": {
     "slide_type": "slide"
    }
   },
   "source": [
    "<img src='../Image/variant_mortality_slide.png'/>"
   ]
  },
  {
   "cell_type": "markdown",
   "metadata": {
    "slideshow": {
     "slide_type": "slide"
    }
   },
   "source": [
    "Từ biểu đồ ta cũng có thể thấy được rằng tỉ lệ tử vong qua các ngày của biến thể `DELTA` lớn hơn `OMICRON`."
   ]
  },
  {
   "cell_type": "markdown",
   "metadata": {
    "slideshow": {
     "slide_type": "slide"
    }
   },
   "source": [
    "<img src='../Image/boxplot_delta_omicron.png'/>"
   ]
  },
  {
   "cell_type": "markdown",
   "metadata": {
    "slideshow": {
     "slide_type": "slide"
    }
   },
   "source": [
    "`Nhận xét`: Qua biểu đồ Boxplot, ta thấy tỉ lệ tử vong trung bình của biến thể DELTA cao hơn nhiều so với biến thể OMICRON"
   ]
  },
  {
   "cell_type": "markdown",
   "metadata": {
    "slideshow": {
     "slide_type": "slide"
    }
   },
   "source": [
    "Để có thể đưa ra kết luận chắc chắn, ta thực hiện kiểm định thống kê T-test `C (Nhóm biến thể) --> Q (Tỷ lệ tử vong)`(2 nhóm độc lập): tỉ lệ tử vong vì dịch bệnh mỗi ngày của hai nhóm biến thể `DELTA` và `OMICRON`\n",
    "\n",
    "Ta đặt giả thuyết:\n",
    "\n",
    "`H0: tỉ lệ tử vong của hai nhóm biến thể là như nhau`\n",
    "\n",
    "`Ha: tỉ lệ tử vong của biến thể DELTA cao hơn OMICRON.`"
   ]
  },
  {
   "cell_type": "markdown",
   "metadata": {
    "slideshow": {
     "slide_type": "slide"
    }
   },
   "source": [
    "Giá trị p tính được là kiểm định hai phía: `p =  3.763915980121889e-83`\n",
    "\n",
    "Vì ta kiểm định 1 phía nên `p_value = p/2 =  1.8819579900609447e-83`\n",
    "\n",
    "Ta có `p_value = 1.8819579900609447e-83 < 0,05` và `t = 24.09083434337719 > 0` => Ta bác bỏ giả thuyết H0, chấp nhận Ha"
   ]
  },
  {
   "cell_type": "markdown",
   "metadata": {
    "slideshow": {
     "slide_type": "slide"
    }
   },
   "source": [
    "Khoảng tin cậy 95% cho trung bình tỉ lệ tử vong của biến thể `DELTA` so với biến thể `OMICRON`: `(0.011384694511358285, 0.01154846269717518)`. \n",
    "\n",
    "Hay nói cách khác, trung bình tỉ lệ tử vong của biến thể `DELTA` lớn hơn `OMICRON` trong khoảng đó"
   ]
  },
  {
   "cell_type": "markdown",
   "metadata": {
    "slideshow": {
     "slide_type": "slide"
    }
   },
   "source": [
    "`Nhận xét`: \n",
    "\n",
    "- Ta có thể đưa ra kết luận rằng tỉ lệ tử vong của nhóm biến thể `DELTA` cao hơn `OMICRON`.\n",
    "- Biến thể `OMICRON` có thể ít gây nguy hiểm hơn `DELTA` vì tỷ lệ tử vong thấp, nhưng số ca mắc tăng nhanh có thể làm quá tải hệ thống y tế ở một số quốc gia. "
   ]
  },
  {
   "cell_type": "markdown",
   "metadata": {
    "slideshow": {
     "slide_type": "slide"
    }
   },
   "source": [
    "# 4. Kết luận"
   ]
  },
  {
   "cell_type": "markdown",
   "metadata": {
    "slideshow": {
     "slide_type": "slide"
    }
   },
   "source": [
    "**Kết quả nhóm đạt được**\n",
    "1. Tình hình dịch bệnh ở các nước đều có thể nguy hiểm như nhau, không phân biệt dân số, nền kinh tế của các quốc gia đó\n",
    "2. Vaccine đóng góp vai trò to lớn trong việc đẩy lùi dịch bệnh Covid-19, nhờ sự xuất hiện của nó mà tình hình dịch đang được kiểm soát. Tuy số ca mắc mới mỗi ngày vẫn tăng nhưng tỉ lệ tử vong giảm đáng kể so với trước khi có vaccine\n",
    "3. Biến chủng `OMICRON` xuất hiện gần đây khiến cho số ca mắc tăng nhanh đột biến. Tuy nhiên, so với biến chủng `DELTA` thì tỉ lệ tử vong của biến chủng `OMICRON` thấp hơn, có lẽ cũng nhờ sự xuất hiện của vaccine. Điều đó làm cho thế giới dần kiểm soát được đại dịch, tiến tới bình thường hoá mọi thứ."
   ]
  }
 ],
 "metadata": {
  "celltoolbar": "Slideshow",
  "kernelspec": {
   "display_name": "Python 3 (ipykernel)",
   "language": "python",
   "name": "python3"
  },
  "language_info": {
   "codemirror_mode": {
    "name": "ipython",
    "version": 3
   },
   "file_extension": ".py",
   "mimetype": "text/x-python",
   "name": "python",
   "nbconvert_exporter": "python",
   "pygments_lexer": "ipython3",
   "version": "3.9.12"
  },
  "vscode": {
   "interpreter": {
    "hash": "960f2ae499b536958d588fcafb5f9e40dd995fc898e4b79db932caf22756042a"
   }
  }
 },
 "nbformat": 4,
 "nbformat_minor": 4
}
