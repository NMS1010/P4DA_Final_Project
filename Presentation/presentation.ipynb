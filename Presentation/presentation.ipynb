{
 "cells": [
  {
   "cell_type": "markdown",
   "metadata": {
    "slideshow": {
     "slide_type": "slide"
    }
   },
   "source": [
    "# <span style=\"color:red; font-size:75px;\"> Thuyết trình (Presentation)</span>"
   ]
  },
  {
   "cell_type": "markdown",
   "metadata": {
    "slideshow": {
     "slide_type": "slide"
    }
   },
   "source": [
    "<span style=\"color:red; font-size: 50px;\">Tên đề tài: Phân tích tình hình dịch bệnh Covid-19</span>"
   ]
  },
  {
   "cell_type": "markdown",
   "metadata": {
    "slideshow": {
     "slide_type": "slide"
    }
   },
   "source": [
    "## Nhóm 13\n",
    "## Thành viên \n",
    "\n",
    "1. Nguyễn Minh Sơn - 20110713\n",
    "2. Lê Anh Nhân - 20110689\n",
    "3. Đỗ Minh Dũng - 20110620\n",
    "4. Nguyễn Thái Ngọc Tân - 20110719"
   ]
  },
  {
   "cell_type": "markdown",
   "metadata": {
    "slideshow": {
     "slide_type": "slide"
    }
   },
   "source": [
    "# 1. Tóm tắt\n",
    "\n",
    "Đại dịch covid-19 xuất hiện từ cuối năm 2019, cho đến nay nó đã lan rộng ra hầu hết các quốc gia và vùng lãnh thổ trên thế giới, gây thiệt hại nghiêm trọng về mọi mặt về kinh tế, xã hội....\n",
    "\n",
    "Mặc dù đã có vaccine phòng ngừa covid-19 nhưng dịch bệnh này vẫn còn hoành hoành ở nhiều quốc gia, liên tục xuất hiện các biến thể mới nguy hiểm.\n",
    "\n",
    "Vì thế, nhóm đã chọn tập dữ liệu liên quan đến vấn đề này để phân tích tình hình dịch bệnh covid-19. \n",
    "\n",
    "Nhóm đã đặt ra một số câu hỏi nghiên cứu về dịch Covid-19, đánh giá xem đại dịch này có phụ thuộc vào các yếu tố như nền kinh tế, dân số hay không? Tình hình dịch bệnh như thế nào khi biến thể Omicron xuất hiện? Hơn nữa, nhóm cũng muốn đánh giá xem liệu việc tiêm vaccine có làm giảm bớt số ca mắc, số ca tử vong hay làm giảm đi tỉ lệ tử vong của Covid-19 hay không ?"
   ]
  },
  {
   "cell_type": "markdown",
   "metadata": {
    "slideshow": {
     "slide_type": "slide"
    }
   },
   "source": [
    "# 2. Dữ liệu"
   ]
  },
  {
   "cell_type": "markdown",
   "metadata": {
    "slideshow": {
     "slide_type": "slide"
    }
   },
   "source": [
    "## 2.1 Mô tả dữ liệu\n",
    "\n",
    "File dữ liệu: owid-covid-data.csv\n",
    "\n",
    "Nhóm em đã tham khảo các nguồn dữ liệu về dịch bệnh Covid-19 và đã chọn được tập dữ liệu mà nhóm cảm thấy phù hợp.\n",
    "\n",
    "Link dataset: [COVID-19 dataset Dataset coronavirus pandemic](https://www.kaggle.com/datasets/georgesaavedra/covid19-dataset)"
   ]
  },
  {
   "cell_type": "markdown",
   "metadata": {
    "slideshow": {
     "slide_type": "slide"
    }
   },
   "source": [
    "Giải thích các biến sử dụng\n",
    "\n",
    "|Biến                                   |Mô tả\n",
    "|:--------------------------------------|:--------------------------------------------------------------------------|\n",
    "|`continent`                            |Tên châu lục                                                               |\n",
    "|`location`                             |Tên nước                                                                   |\n",
    "|`date`                                 |Ngày quan sát                                                              |\n",
    "|`total_cases`                          |Tổng số ca mắc covid 19 đã được xác nhận                                   |\n",
    "|`new_cases`                            |Số ca mắc mới covid 19 theo ngày đã được xác nhận                          |\n",
    "|`total_deaths`                         |Tổng số ca covid 19 tử vong đã được xác nhận                               |\n",
    "|`new_deaths`                           |Số ca covid 19 tử vong mới theo ngày đã được xác nhận                      |\n",
    "|`total_vaccinations`                   |Tổng số liều vaccine                                                       |\n",
    "|`people_vaccinated`                    |Tổng số người tiêm ít nhất một mũi vaccine                                 |\n",
    "|`people_fully_vaccinated`              |Tổng số người tiêm đủ liều vaccine theo quy định                           |\n",
    "|`population`                           |Tổng dân số                                                                |"
   ]
  },
  {
   "cell_type": "markdown",
   "metadata": {
    "slideshow": {
     "slide_type": "slide"
    }
   },
   "source": [
    "## 2.2 Tiền xử lý dữ liệu"
   ]
  },
  {
   "cell_type": "markdown",
   "metadata": {},
   "source": [
    "### Kiểm tra dữ liệu"
   ]
  },
  {
   "cell_type": "markdown",
   "metadata": {
    "slideshow": {
     "slide_type": "slide"
    }
   },
   "source": [
    "| Biến | Số ô NULL |\n",
    "| :----- | :---------- |\n",
    "|Continent|9956\n",
    "|Location|0\n",
    "|Date|0\n",
    "|TotalCases|3033\n",
    "|NewCases|3193\n",
    "|TotalCases_per_million|3791\n",
    "|NewCases_per_million|3951\n",
    "|TotalDeaths|20875\n",
    "|NewDeaths|20839\n",
    "|TotalDeaths_per_million|21620\n",
    "|NewDeaths_per_million|21584\n",
    "|TotalVaccinations|121132\n",
    "|PeopleVaccinated|123339\n",
    "|PeopleFullyVaccinated|126085\n",
    "|PeopleFullyVaccinated_per_hundred|126085\n",
    "|Population|1075\n",
    "\n",
    "Ta thấy vẫn còn nhiều ô nhận giá trị NULL, ta sẽ chuẩn hoá giá trị trong các cột này"
   ]
  },
  {
   "cell_type": "markdown",
   "metadata": {
    "slideshow": {
     "slide_type": "slide"
    }
   },
   "source": [
    "### Các khu vực không có tên châu lục\n",
    "\n",
    "`Africa`, `Asia`, `Europe`, `European Union`, `High income`, `International`\n",
    " `Low income`, `Lower middle income`, `North America`, `Oceania`\n",
    " `South America`, `Upper middle income`, `World`\n",
    "\n",
    "Các giá trị trong cột `Location` của tập dữ liệu là tên các khu vực trên thế giới, bao gồm cả tên các quốc gia. Vì một số khu vực trong cột `Location` cũng chính là tên châu lục nên giá trị tương ứng trong cột `Continent` đã nhận giá trị NaN. Do vậy, nhóm sẽ chuẩn hoá các giá trị NaN này thành 0"
   ]
  },
  {
   "cell_type": "markdown",
   "metadata": {
    "slideshow": {
     "slide_type": "slide"
    }
   },
   "source": [
    "### Các khu vực không có thông kê dân số\n",
    "\n",
    "Một số khu vực trên thế giới như `International`,`Northern Cyprus` chưa có thống kê về dân số trong tập dữ liệu, nên nhóm sẽ bỏ qua các dòng dữ liệu của các khu vực này."
   ]
  },
  {
   "cell_type": "markdown",
   "metadata": {
    "slideshow": {
     "slide_type": "slide"
    }
   },
   "source": [
    "### Clean Data\n",
    "\n",
    "Còn lại những cột có dữ liệu bị để trống (NULL) vì vào thời điểm quan sát thì có thể chưa xảy ra ca tử vong, chưa có ca mắc hoặc chưa có vaccine để tiêm phòng... \n",
    "\n",
    "Vì thế, nhóm sẽ làm sạch dữ liệu của các cột nhận giá trị NaN khác bằng các số 0"
   ]
  },
  {
   "cell_type": "markdown",
   "metadata": {
    "slideshow": {
     "slide_type": "slide"
    }
   },
   "source": [
    "### Thời gian thu thập dữ liệu về dịch bệnh\n",
    "\n",
    "Dữ liệu về dịch bệnh Covid-19 được thu thập từ ngày 2020-01-22 tới ngày 2022-03-05"
   ]
  },
  {
   "cell_type": "markdown",
   "metadata": {
    "slideshow": {
     "slide_type": "slide"
    }
   },
   "source": [
    "## 2.3 Chi tiết dữ liệu"
   ]
  },
  {
   "cell_type": "markdown",
   "metadata": {
    "slideshow": {
     "slide_type": "slide"
    }
   },
   "source": [
    "### Hình thái dữ liệu: \n",
    "\n",
    "(165251 instance, 16 column)"
   ]
  },
  {
   "cell_type": "markdown",
   "metadata": {
    "slideshow": {
     "slide_type": "slide"
    }
   },
   "source": [
    "### Một số thống kê vắn tắt"
   ]
  },
  {
   "cell_type": "markdown",
   "metadata": {
    "slideshow": {
     "slide_type": "slide"
    }
   },
   "source": [
    "||`TotalCases`|`NewCases`|`TotalCases_per_million`|`NewCases_per_million`|`TotalDeaths`|`NewDeaths`|`TotalDeaths_per_million`|`NewDeaths_per_million`|\n",
    "| :----- | :----- | :----- | :----- | :----- | :----- | :-----| :----- | :----- |\n",
    "|`count`|\t1.652510e+05|\t1.652510e+05|\t165251.000000|\t165251.000000|\t1.652510e+05|\t165251.000000|\t165251.000000|\t165251.000000|\n",
    "|`mean`|\t2.505992e+06|\t1.142253e+04|\t28963.765115|\t163.534992|\t5.075483e+04|\t150.669212|\t446.055149|\t1.477463|\n",
    "|`std`|\t1.534516e+07|\t8.389329e+04|\t51560.618799|\t677.401746|\t2.840557e+05|\t782.870221|\t753.155897|\t4.852677|\n",
    "|`min`|\t0.000000e+00|\t0.000000e+00|\t0.000000|\t0.000000|\t0.000000e+00\t|0.000000|\t0.000000|\t0.000000|\n",
    "|`25%`|\t1.739000e+03|\t0.000000e+00|\t533.510000|\t0.000000|\t2.400000e+01\t|0.000000|\t6.466000|\t0.000000|\n",
    "|`50%`|\t2.464500e+04|\t7.400000e+01|\t4457.275000|\t10.425000|\t3.850000e+02|\t1.000000|\t72.774000|\t0.031000|\n",
    "|`75%`|\t2.891110e+05|\t1.029000e+03|\t36582.431500|\t97.800500|\t5.356000e+03|\t14.000000|\t581.888000|\t1.032000|\n",
    "|`max`|\t4.451295e+08|\t4.206334e+06|\t706541.904000|\t51427.491000|\t5.995245e+06|\t18020.000000|\t6322.263000|\t453.772000|\n",
    "\n",
    "\n",
    "\n",
    "||`TotalVaccinations`|`PeopleVaccinated`|`PeopleFullyVaccinated`|`PeopleFullyVaccinated_per_hundred`|`Population`|\n",
    "| :----- | :----- | :----- | :----- | :----- | :----- |\n",
    "|`count`|\t1.652510e+05|\t1.652510e+05|\t1.652510e+05|\t165251.000000|\t1.652510e+05|\n",
    "|`mean`|\t4.703560e+07|\t2.292889e+07|\t1.691146e+07|\t7.905456|\t1.474332e+08|\n",
    "|`std`|\t4.133728e+08|\t2.073323e+08|\t1.652634e+08|\t19.519701|\t7.054923e+08|\n",
    "|`min`|\t0.000000e+00|\t0.000000e+00|\t0.000000e+00|\t0.000000|\t4.700000e+01|\n",
    "|`25%`|\t0.000000e+00|\t0.000000e+00|\t0.000000e+00|\t0.000000|\t1.172369e+06|\n",
    "|`50%`|\t0.000000e+00|\t0.000000e+00|\t0.000000e+00|\t0.000000|8.478242e+06|\n",
    "|`75%`|\t5.999550e+04|\t1.400250e+04|\t0.000000e+00|\t0.000000|\t3.393361e+07|\n",
    "|`max`|\t1.085079e+10|\t4.976031e+09|\t4.400787e+09|\t121.450000|\t7.874966e+09|\n"
   ]
  },
  {
   "cell_type": "markdown",
   "metadata": {
    "slideshow": {
     "slide_type": "slide"
    }
   },
   "source": [
    "### 5 quan sát đầu tập dữ liệu"
   ]
  },
  {
   "cell_type": "markdown",
   "metadata": {
    "slideshow": {
     "slide_type": "slide"
    }
   },
   "source": [
    "|Continent|\tLocation|\tDate|\tTotalCases|\tNewCases|\tTotalCases_per_million|\tNewCases_per_million|\tTotalDeaths|\tNewDeaths|\tTotalDeaths_per_million|\tNewDeaths_per_million|\n",
    "| :----- | :----- | :----- | :----- | :----- | :----- | :-----| :----- | :----- | :----- | :----- |\n",
    "|Asia|\tAfghanistan|\t2020-02-24|\t5.0|\t5.0|\t0.126|\t0.126|\t0.0|\t0.0|\t0.0|\t0.0|\n",
    "|Asia|\tAfghanistan|\t2020-02-25|\t5.0|\t0.0|\t0.126|\t0.000|\t0.0|\t0.0|\t0.0|\t0.0|\n",
    "|Asia|\tAfghanistan|\t2020-02-26|\t5.0|\t0.0|\t0.126|\t0.000|\t0.0|\t0.0|\t0.0|\t0.0|\n",
    "|Asia|\tAfghanistan|\t2020-02-27|\t5.0|\t0.0|\t0.126|\t0.000|\t0.0|\t0.0|\t0.0|\t0.0|\n",
    "|Asia|\tAfghanistan|\t2020-02-28|\t5.0|\t0.0|\t0.126|\t0.000|\t0.0|\t0.0|\t0.0|\t0.0|\n",
    "\n",
    "|TotalVaccinations|\tPeopleVaccinated|\tPeopleFullyVaccinated|\tPeopleFullyVaccinated_per_hundred|\tPopulation|\n",
    "| :----- | :----- | :----- | :----- | :----- |\n",
    "|0.0|\t0.0|\t0.0|\t0.0|\t39835428.0|\n",
    "|0.0|\t0.0|\t0.0|\t0.0|\t39835428.0|\n",
    "|0.0|\t0.0|\t0.0|\t0.0|\t39835428.0|\n",
    "|0.0|\t0.0|\t0.0|\t0.0|\t39835428.0|\n",
    "|0.0|\t0.0|\t0.0|\t0.0|\t39835428.0|"
   ]
  },
  {
   "cell_type": "markdown",
   "metadata": {
    "slideshow": {
     "slide_type": "slide"
    }
   },
   "source": [
    "### 5 quan sát cuối tập dữ liệu"
   ]
  },
  {
   "cell_type": "markdown",
   "metadata": {
    "slideshow": {
     "slide_type": "slide"
    }
   },
   "source": [
    "|Continent|\tLocation|\tDate|\tTotalCases|\tNewCases|\tTotalCases_per_million|\tNewCases_per_million|\tTotalDeaths|\tNewDeaths|\tTotalDeaths_per_million|\tNewDeaths_per_million|\n",
    "| :----- | :----- | :----- | :----- | :----- | :----- | :-----| :----- | :----- | :----- | :----- |\n",
    "|Africa|\tZimbabwe|\t2022-03-01|\t236871.0|\t491.0|\t15694.959|\t32.533|\t5395.0|\t0.0|\t357.470|\t0.000|\t7901360.0|\t4365856.0|\t3399915.0|\t22.53|\t15092171.0|\n",
    "|Africa|\tZimbabwe|\t2022-03-02|\t237503.0|\t632.0|\t15736.835|\t41.876|\t5396.0|\t1.0|\t357.536|\t0.066|\t7910740.0|\t4368726.0|\t3402434.0|\t22.54|\t15092171.0|\n",
    "|Africa|\tZimbabwe|\t2022-03-03|\t237503.0|\t0.0|\t15736.835|\t0.000|  5396.0|\t0.0|\t357.536|\t0.000|\t7921113.0|\t4372925.0|\t3406482.0|\t22.57|\t15092171.0|\n",
    "|Africa|\tZimbabwe|\t2022-03-04|\t238739.0|\t1236.0|\t15818.731|\t81.897|\t5397.0|\t1.0|\t357.603|\t0.066|\t7930621.0|\t4374896.0|\t3408609.0|\t22.59|\t15092171.0|\n",
    "|Africa|\tZimbabwe|\t2022-03-05|\t239019.0|\t280.0|\t15837.284|\t18.553|\t5397.0|\t0.0|\t357.603|\t0.000|\t0.0|\t0.0|\t0.0|\t0.00|\t15092171.0|\n",
    "\n",
    "|TotalVaccinations|\tPeopleVaccinated|\tPeopleFullyVaccinated|\tPeopleFullyVaccinated_per_hundred|\tPopulation|\n",
    "| :----- | :----- | :----- | :----- | :----- |\n",
    "|\t7901360.0|\t4365856.0|\t3399915.0|\t22.53|\t15092171.0|\n",
    "|\t7910740.0|\t4368726.0|\t3402434.0|\t22.54|\t15092171.0|\n",
    "|\t7921113.0|\t4372925.0|\t3406482.0|\t22.57|\t15092171.0|\n",
    "|\t7930621.0|\t4374896.0|\t3408609.0|\t22.59|\t15092171.0|\n",
    "|\t0.0|\t0.0|\t0.0|\t0.00|\t15092171.0|"
   ]
  },
  {
   "cell_type": "markdown",
   "metadata": {
    "slideshow": {
     "slide_type": "slide"
    }
   },
   "source": [
    "# 3. Kết quả thực nghiệm"
   ]
  },
  {
   "cell_type": "markdown",
   "metadata": {
    "slideshow": {
     "slide_type": "slide"
    }
   },
   "source": [
    "## Câu 1: Dân số có phải là nguyên nhân dẫn tới việc gia tăng số ca mắc ở các quốc gia? **(X: Population, Location)**  **(Y:TotalCases)**"
   ]
  },
  {
   "cell_type": "markdown",
   "metadata": {
    "slideshow": {
     "slide_type": "slide"
    }
   },
   "source": [
    "Dựa vào input đầu vào là các biến `Population`, `TotalCases`, `Location`  để xác định xem có sự phụ thuộc nào giữa dân số và số ca mắc ở các quốc gia hay không bằng suy luận thống kê giữa hai biến số (Q --> Q)\n",
    "\n",
    "<font face=\"Cambria Math\" size=5 color = #1155cc>Suy diễn mối quan hệ giữa hai biến: 𝑄 (Population) → 𝑄 (TotalCases) bằng hệ số tương quan và đường tuyến tính </font>"
   ]
  },
  {
   "cell_type": "markdown",
   "metadata": {
    "slideshow": {
     "slide_type": "slide"
    }
   },
   "source": [
    "Dữ liệu về tổng số ca mắc và dân số từng khu vực trên thế giới\n",
    "\n",
    "|Continent| TotalCases| Population|\n",
    "| :----- | :---------- | :----- |\n",
    "|Africa|    11272358.0| 1.371693e+09\n",
    "|Asia|  120758420.0|    4.652616e+09\n",
    "|Europe|    161250675.0|    7.506718e+08\n",
    "|North America| 93398426.0| 5.928348e+08\n",
    "|Oceania|   3831683.0|  4.320246e+07\n",
    "|South America| 54622339.0| 4.339537e+0"
   ]
  },
  {
   "cell_type": "markdown",
   "metadata": {
    "slideshow": {
     "slide_type": "slide"
    }
   },
   "source": [
    "<img src='../Image/population_case.png'/>"
   ]
  },
  {
   "cell_type": "markdown",
   "metadata": {
    "slideshow": {
     "slide_type": "slide"
    }
   },
   "source": [
    "Từ biểu đồ trên, ta có thể thấy châu Á là châu lục có số dân đông nhất thế giới, vượt xa các châu lục khác. \n",
    "\n",
    "Châu Á là nơi dự đoán có thể có số ca mắc Covid-19 nhiều nhất trên thế giới do dân số đông. \n",
    "\n",
    "Thế nhưng châu Âu mới là nơi có tổng số ca mắc nhiều nhất trên thế giới, tuy nhiên không bỏ quá xa châu Á"
   ]
  },
  {
   "cell_type": "markdown",
   "metadata": {
    "slideshow": {
     "slide_type": "slide"
    }
   },
   "source": [
    "\n",
    "Ta thực hiện suy diễn mối quan hệ giữa hai biến số bằng biểu đồ `Scatter` để xem liệu dân số đông có phải là nguyên nhân dẫn tới gia tăng số ca mắc hay không ?"
   ]
  },
  {
   "cell_type": "markdown",
   "metadata": {
    "slideshow": {
     "slide_type": "slide"
    }
   },
   "source": [
    "<img src='../Image/population_case_scatter_slide.png'/>"
   ]
  },
  {
   "cell_type": "markdown",
   "metadata": {
    "slideshow": {
     "slide_type": "slide"
    }
   },
   "source": [
    "Theo biểu đồ, ta thấy Hoa Kỳ có tổng số ca mắc cao nhất nhưng dân số nước này lại không cao.\n",
    "\n",
    "Trung Quốc có số dân đông nhất thế giới và là nơi khởi nguồn dịch bệnh nhưng tổng số ca mắc lại thấp hơn nhiều\n",
    "\n",
    "Có riêng Ấn Độ, dân số đông đồng thời số ca mắc cũng gần như rất cao, chỉ thua mỗi Hoa Kỳ."
   ]
  },
  {
   "cell_type": "markdown",
   "metadata": {
    "slideshow": {
     "slide_type": "slide"
    }
   },
   "source": [
    "**Ta đặt giả thuyết thống kê**\n",
    "\n",
    "H0: Không có mối quan hệ tuyến tính giữa dân số và số ca mắc\n",
    "\n",
    "Ha: Có mối quan hệ tuyến tính giữa dân số và số ca mắc"
   ]
  },
  {
   "cell_type": "markdown",
   "metadata": {
    "slideshow": {
     "slide_type": "slide"
    }
   },
   "source": [
    "Ta thực hiện tính hệ số tương quan của đường tuyến tính và giá trị p_value \n",
    "\n",
    "Ta tính được giá trị `P-value = 4.0350674184659014e-12 < 0.05`\n",
    "Ta bác bỏ H0, chấp nhận Ha"
   ]
  },
  {
   "cell_type": "markdown",
   "metadata": {
    "slideshow": {
     "slide_type": "slide"
    }
   },
   "source": [
    "Tuy nhiên, vì hệ số tương quan `R = 0.4418309554783007` không quá mạnh cũng không quá yếu, ta cũng chưa thể kết luận ngay dân số có là nguyên nhân ảnh hưởng đến số ca mắc Covid-19 ở các quốc gia trên thế giới hay không vì còn nhiều yếu tố ảnh hưởng khác như hệ thống y tế, chính sách cách ly của mỗi quốc gia..."
   ]
  },
  {
   "cell_type": "markdown",
   "metadata": {
    "slideshow": {
     "slide_type": "slide"
    }
   },
   "source": [
    "## Câu 2: Có phải các nước có nền kinh tế phát triển, thu nhập cao thì dịch bệnh Covid-19 sẽ ít nghiêm trọng hơn so với các nước có nền kinh tế phát triển kém hơn, thu nhập thấp hơn không ? **(X: Location, TotalCases, TotalDeaths)**  **(Y: Tỉ lệ tử vong)**"
   ]
  },
  {
   "cell_type": "markdown",
   "metadata": {
    "slideshow": {
     "slide_type": "slide"
    }
   },
   "source": [
    "Dựa vào input đầu vào là các biến `Location`, `TotalCases`, `TotalDeaths` để xác định xem có sự phụ thuộc nào giữa số ca mắc, số ca tử vong và tỉ lệ tử vong với nền kinh tế của các nước ở hai nhóm nước phát triển và kém phát triển hơn hay không bằng thống kê T-test giữa hai nhóm độc lập (C --> Q)\n",
    "\n",
    "<font face=\"Cambria Math\" size=5 color = #1155cc>Suy diễn mối quan hệ giữa hai biến: C (Nhóm các nước có nền kinh tế phát triển và đang phát triển) → 𝑄 (Tỉ lệ tử vong) bằng thống kê T-test giữa hai nhóm độc lập </font>"
   ]
  },
  {
   "cell_type": "markdown",
   "metadata": {
    "slideshow": {
     "slide_type": "slide"
    }
   },
   "source": [
    "<img src='../Image/top10_case_slide.png'/>"
   ]
  },
  {
   "cell_type": "markdown",
   "metadata": {
    "slideshow": {
     "slide_type": "slide"
    }
   },
   "source": [
    "<img src='../Image/top10_death_slide.png'/>"
   ]
  },
  {
   "cell_type": "markdown",
   "metadata": {
    "slideshow": {
     "slide_type": "slide"
    }
   },
   "source": [
    "Từ hai biểu đồ trên, ta có thể thấy được các nước có nền kinh tế phát triển như Mỹ, Anh, Nga, Ấn Độ, Canada... đều có tổng số ca mắc và tử vong cao"
   ]
  },
  {
   "cell_type": "markdown",
   "metadata": {
    "slideshow": {
     "slide_type": "slide"
    }
   },
   "source": [
    "Tỷ lệ tử vong vì dịch bệnh ở các quốc gia trên thế giới\n",
    "\n",
    "|`Continent`|`Location`|`TotalCases`|`TotalDeaths`|`Mortality`\n",
    "|:----- |:----- |:----- |:----- |:-----\n",
    "|North America|United States|79265726.0|958437.0|0.0121\n",
    "|South America|Brazil|29040800.0|652216.0|0.0225\n",
    "|Asia|India|42962953.0|515036.0|0.0120\n",
    "|Europe|Russia|16619507.0|348467.0|0.0210\n",
    "|North America|Mexico|5554392.0|319604.0|0.0575\n",
    "|...|...|...|...|...\n",
    "|Oceania|Samoa|33.0|0.0|0.0000\n",
    "|Asia|Macao|82.0|0.0|0.0000\n",
    "|South America|Falkland Islands|115.0|0.0|0.0000\n",
    "|Oceania|Tonga|898.0|0.0|0.0000\n",
    "|Oceania|Niue|0.0|0.0|0.0000"
   ]
  },
  {
   "cell_type": "markdown",
   "metadata": {
    "slideshow": {
     "slide_type": "slide"
    }
   },
   "source": [
    "Chọn một số nước có nền kinh tế phát triển và kém phát triển"
   ]
  },
  {
   "cell_type": "markdown",
   "metadata": {
    "slideshow": {
     "slide_type": "slide"
    }
   },
   "source": [
    "35 nước có nền kinh tế phát triển: \n",
    "\n",
    "`United States`, `China`, `Japan`, `Germany`, `United Kingdom`, `India`, `France`, `Canada`, `Italy`, `Brazil`, `Russia`, `South Korea`, `Australia`, `Iran`, `Spain`, `Mexico`, `Indonesia`, `Saudi Arabia`, `Netherlands`, `Switzerland`, `Taiwan`, `Poland`, `Turkey`, `Sweden`, `Belgium`, `Argentina`, `Norway`, `Thailand`, `Israel`, `Ireland`, `Malaysia`, `United Arab Emirates`, `Austria`, `South Africa`, `Singapore`"
   ]
  },
  {
   "cell_type": "markdown",
   "metadata": {
    "slideshow": {
     "slide_type": "slide"
    }
   },
   "source": [
    "35 nước có nền kinh tế đang phát triển: \n",
    "\n",
    "`Vietnam`, `Hong Kong`, `Luxembourg`, `Libya`, `Namibia`, `Kosovo`, `Togo`, `Congo`, `Latvia`, `New Zealand`, `Uruguay`, `South Sudan`, `San Marino`, `Gambia`, `Curacao`, `Sierra Leone`, `New Caledonia`, `Mauritius`, `Chad`, `North Macedonia`, `Syria`, `Malta`, `Laos`, `Albania`, `Afghanistan`, `Zambia`, `Myanmar`, `Cuba`, `Ukraine`, `Qatar`, `Colombia`, `Pakistan`, `Chile`, `Finland`, `Belize`"
   ]
  },
  {
   "cell_type": "markdown",
   "metadata": {
    "slideshow": {
     "slide_type": "slide"
    }
   },
   "source": [
    "<img src='../Image/economy.png'/>"
   ]
  },
  {
   "cell_type": "markdown",
   "metadata": {
    "slideshow": {
     "slide_type": "slide"
    }
   },
   "source": [
    "`Nhận xét`:\n",
    "\n",
    "Qua biểu đồ Boxplot ta thấy miền giá trị của tỷ lệ tử vong do dịch bệnh, cùng với tỷ lệ tử vong trung bình của nhóm nước có nền kinh tế đang phát triển lớn hơn các nước phát triển"
   ]
  },
  {
   "cell_type": "markdown",
   "metadata": {
    "slideshow": {
     "slide_type": "slide"
    }
   },
   "source": [
    "Thực hiện kiểm định thống kê cho 2 nhóm các quốc gia có nền kinh tế phát triển và nền kinh tế đang phát triển\n",
    "\n",
    "Mối quan hệ giữa hai biến `C (Nhóm kinh tế) --> Q (Tỉ lệ tử vong)`: hai nhóm độc lập => Ta thực hiện thống kê `T-test`"
   ]
  },
  {
   "cell_type": "markdown",
   "metadata": {
    "slideshow": {
     "slide_type": "slide"
    }
   },
   "source": [
    "**Ta đặt giả thuyết thống kê**\n",
    "\n",
    "`H0: tỉ lệ tử vong tại nhóm quốc gia phát triển và nhóm các quốc gia đang phát triển là như nhau.`\n",
    "\n",
    "`Ha: tỉ lệ tử vong tại nhóm quốc gia phát triển sẽ cao hơn so với các quốc gia đang phát triển.`"
   ]
  },
  {
   "cell_type": "markdown",
   "metadata": {
    "slideshow": {
     "slide_type": "slide"
    }
   },
   "source": [
    "Giá trị p tính được là kiểm định hai phía: `p =  0.49304175868581457`\n",
    "\n",
    "Vì ta kiểm định 1 phía nên `p_value = p/2 =  0.24652087934290728`\n",
    "\n",
    "Ta có `p_value = 0.24652087934290728` > 0,05 => không thể bác bỏ giả thuyết H0\n",
    "\n",
    "`Nhận xét`: \n",
    "1. Kết luận trên cho thấy không có mối quan hệ giữa nền kinh tế và tỉ lệ tử vong vì dịch bệnh Covid-19 ở các nước. \n",
    "2. Có lẽ kinh tế không phải nhân tố quyết định mức độ nghiêm trọng của dịch covid-19. Mức độ nghiêm trọng của dịch covid ngoài nền kinh tế thì còn một số nguyên nhân quan trọng khác, ví dụ như: Chính sách phòng chống dịch bệnh của các quốc gia, thời tiết của mỗi khu vực và sức khỏe của dân cư."
   ]
  },
  {
   "cell_type": "markdown",
   "metadata": {
    "slideshow": {
     "slide_type": "slide"
    }
   },
   "source": [
    "## Câu 3: Khi vaccine được phổ biến, điều đó có giúp ích cho việc chống đại dịch Covid-19 trên thế giới? **(X: Date, PeopleVaccinated, NewCases, NewDeaths)**  **(Y: Tỉ lệ tử vong)**"
   ]
  },
  {
   "cell_type": "markdown",
   "metadata": {
    "slideshow": {
     "slide_type": "slide"
    }
   },
   "source": [
    "Dựa vào input đầu vào là các biến `Date`, `PeopleVaccinated`, `NewCases`, `NewDeaths` để xác định xem liệu khi độ bao phủ của vaccine trên thế giới lớn dần thì số ca mắc mới và tử vong mới mỗi ngày có giảm đi không, đánh giá độ hiệu quả của vaccine đối với đại dịch Covid-19 thông qua tỉ lệ tử vong từng ngày trước và sau khi tiêm vaccine."
   ]
  },
  {
   "cell_type": "markdown",
   "metadata": {
    "slideshow": {
     "slide_type": "slide"
    }
   },
   "source": [
    "<font face=\"Cambria Math\" size=5 color = #1155cc>Suy diễn mối quan hệ giữa hai biến: C (Nhóm các ngày trước và sau tiêm vaccine) → 𝑄 (Tỉ lệ tử vong) bằng thống kê T-test giữa hai nhóm độc lập </font>\n",
    "\n",
    "<font face=\"Cambria Math\" size=5 color = #1155cc>Tính hệ số tương quan R để xem xét độ mạnh yếu của đường tuyến tính giữa hai nhóm biến số (`NewCases`, `PeopleVaccinated`) và (`NewDeaths`, `PeopleVaccinated`), qua đó đánh giá sơ bộ sự hiệu quả của việc triển khai tiêm vaccine</font>"
   ]
  },
  {
   "cell_type": "markdown",
   "metadata": {
    "slideshow": {
     "slide_type": "slide"
    }
   },
   "source": [
    "Vaccine được đưa vào sử dụng đầu tiên vào ngày 2020-12-04"
   ]
  },
  {
   "cell_type": "markdown",
   "metadata": {
    "slideshow": {
     "slide_type": "slide"
    }
   },
   "source": [
    "<img src='../Image/vaccine_newcase_slide.png'/>"
   ]
  },
  {
   "cell_type": "markdown",
   "metadata": {
    "slideshow": {
     "slide_type": "slide"
    }
   },
   "source": [
    "Tuy hệ số tương quan `R = 0.5081608318814392` không mạnh nhưng đường tuyến tính là đồng biến, ta vẫn có thể thấy số ca mắc mới mỗi ngày vẫn tăng khi số lượng người thực hiện tiêm vaccine tăng lên.\n",
    "Tuy nhiên, để đánh giá mức độ giúp ích của vaccine, ta hãy xét về số ca tử vong mỗi ngày sau khi tiến hành tiêm vaccine."
   ]
  },
  {
   "cell_type": "markdown",
   "metadata": {
    "slideshow": {
     "slide_type": "slide"
    }
   },
   "source": [
    "<img src='../Image/vaccine_newdeath_slide.png'/>"
   ]
  },
  {
   "cell_type": "markdown",
   "metadata": {
    "slideshow": {
     "slide_type": "slide"
    }
   },
   "source": [
    "Ta thấy đường khớp dữ liệu là nghịch biến, và hệ số tương quan `R = -0.5537746649965218` cũng không mạnh. Do đó, vaccine phần nào đã giúp khống chế số ca tử vong mỗi ngày trên thế giới.\n",
    "Điều đó cũng cho thấy vaccine đang thực sự giúp ích cho việc chống đại dịch Covid-19 trên thế giới"
   ]
  },
  {
   "cell_type": "markdown",
   "metadata": {
    "slideshow": {
     "slide_type": "slide"
    }
   },
   "source": [
    "<img src='../Image/mortality_vaccine_slide.png'/>"
   ]
  },
  {
   "cell_type": "markdown",
   "metadata": {
    "slideshow": {
     "slide_type": "slide"
    }
   },
   "source": [
    "Từ biểu đồ ta cũng có thể thấy được rằng tỉ lệ tử vong vì Covid-19 trước khi tiêm vaccine lớn hớn so với sau khi tiêm vaccine, đặc biệt là những ngày đầu bùng phát dịch"
   ]
  },
  {
   "cell_type": "markdown",
   "metadata": {
    "slideshow": {
     "slide_type": "slide"
    }
   },
   "source": [
    "Để có thể đưa ra kết luận chắc chắn, ta thực hiện kiểm định thống kê T-test `C (Nhóm ngày trước và sau tiêm vaccine) --> Q (Tỷ lệ tử vong)`(2 nhóm độc lập): tỉ lệ tử vong vì dịch bệnh các ngày trước và sau khi tiêm vaccine trên thế giới.\n",
    "\n",
    "Ta đặt giả thuyết:\n",
    "\n",
    "`H0: tỉ lệ tử vong các ngày trước và sau khi tiêm vaccine là như nhau`\n",
    "\n",
    "`Ha: tỉ lệ tử vong các ngày trước khi tiêm vaccine cao hơn sau khi tiêm.`"
   ]
  },
  {
   "cell_type": "markdown",
   "metadata": {
    "slideshow": {
     "slide_type": "slide"
    }
   },
   "source": [
    "Giá trị p tính được là kiểm định hai phía: `p =  1.3756703062376602e-39`\n",
    "\n",
    "Vì ta kiểm định 1 phía nên `p_value = p/2 =  6.878351531188301e-40`\n",
    "\n",
    "Ta có `p_value = 6.878351531188301e-40 < 0,05` và `t = 13.945868874153058 > 0` => Ta bác bỏ giả thuyết H0, chấp nhận Ha"
   ]
  },
  {
   "cell_type": "markdown",
   "metadata": {
    "slideshow": {
     "slide_type": "slide"
    }
   },
   "source": [
    "Khoảng tin cậy 95% cho trung bình tỉ lệ tử vong của các ngày trước so với các ngày sau khi tiêm vaccine: `(0.020231343924245682, 0.020610953599724247)`. \n",
    "\n",
    "Hay nói cách khác, trung bình tỉ lệ tử vong vì Covid-19 các ngày trước lớn hơn các ngày sau khi tiêm vaccine trong khoảng đó."
   ]
  },
  {
   "cell_type": "markdown",
   "metadata": {
    "slideshow": {
     "slide_type": "slide"
    }
   },
   "source": [
    "`Nhận xét`: \n",
    "\n",
    "Vậy tỉ lệ tử vong trên thế giới ở thời điểm trước khi tiêm vaccine cao hơn sau khi đã triển khai tiêm vaccine. Do đó, vaccine dường như thực sự có ích trong việc chống đại dịch Covid-19 trên thế giới"
   ]
  },
  {
   "cell_type": "markdown",
   "metadata": {
    "slideshow": {
     "slide_type": "slide"
    }
   },
   "source": [
    "## Câu 4: Biến thể Omicron xuất hiện vào khoảng 11/2021 có gây nguy hiểm không? So sánh với biến thể Delta xuất hiện vào tháng 12/2020. **(X: Date, NewCases, NewDeaths)**  **(Y: Tỉ lệ tử vong)**"
   ]
  },
  {
   "cell_type": "markdown",
   "metadata": {
    "slideshow": {
     "slide_type": "slide"
    }
   },
   "source": [
    "Dựa vào input đầu vào là các biến `Date`, `NewCases`, `NewDeaths` để xác định xem số ca mắc mới và số ca tử vong mới mỗi ngày của biến thể nào cao hơn, đồng thời thực hiện kiểm định giả thuyết để xem tỉ lệ tử vong qua từng ngày của loại biến thể nào cao hơn, từ đó đưa ra được kết luận cho câu hỏi"
   ]
  },
  {
   "cell_type": "markdown",
   "metadata": {
    "slideshow": {
     "slide_type": "slide"
    }
   },
   "source": [
    "<font face=\"Cambria Math\" size=5 color = #1155cc>Suy diễn mối quan hệ giữa hai biến: C (Nhóm các ngày xuất hiện hai biến thể DELTA và OMICRON) → 𝑄 (Tỉ lệ tử vong) bằng thống kê T-test giữa hai nhóm độc lập </font>\n",
    "\n",
    "<font face=\"Cambria Math\" size=5 color = #1155cc>Tính hệ số tương quan R để xem xét độ mạnh yếu của đường tuyến tính giữa hai biến số `NewCases` và `NewDeaths` của hai loại biển thể DELTA và OMICRON</font>"
   ]
  },
  {
   "cell_type": "markdown",
   "metadata": {
    "slideshow": {
     "slide_type": "slide"
    }
   },
   "source": [
    "`Tình hình dịch bệnh khi biến chủng DELTA xuất hiện khoảng tháng 12/2020`\n",
    "\n",
    "|Date|  NewCases|  NewDeaths| Month_Years|  Mortality|\n",
    "| :----- | :---------- | :----- |:----- |:----- |\n",
    "|2020-12-01|  623828.0|    12759.0|     2020-12|   0.020453\n",
    "|2020-12-02|  646764.0|    12643.0|     2020-12|   0.019548\n",
    "|2020-12-03|  692160.0|    12600.0|     2020-12|   0.018204\n",
    "|2020-12-04|  688697.0|    12460.0|     2020-12|   0.018092\n",
    "|2020-12-05|  648934.0|    10337.0|     2020-12|   0.015929\n",
    "|...       |...       | ...       |  ...       | ...\n",
    "|2021-10-27|  520080.0|     9178.0|     2021-10|   0.017647\n",
    "|2021-10-28|  463857.0|     8801.0|     2021-10|   0.018974\n",
    "|2021-10-29|  508971.0|     7873.0|     2021-10|   0.015468\n",
    "|2021-10-30|  389334.0|     6001.0|     2021-10|   0.015414\n",
    "|2021-10-31|  346340.0|     4483.0|     2021-10|   0.012944"
   ]
  },
  {
   "cell_type": "markdown",
   "metadata": {
    "slideshow": {
     "slide_type": "slide"
    }
   },
   "source": [
    "`Tình hình dịch bệnh khi biến chủng OMICRON xuất hiện khoảng tháng 11/2021`\n",
    "\n",
    "|Date|  NewCases|  NewDeaths| Month_Years|  Mortality|\n",
    "| :----- | :---------- | :----- |:----- |:----- |\n",
    "|2021-11-01|   421008.0|     6276.0|     2021-11|   0.014907\n",
    "|2021-11-02|   426168.0|     7283.0|     2021-11|   0.017090\n",
    "|2021-11-03|   538266.0|     8416.0|     2021-11|   0.015635\n",
    "|2021-11-04|   523859.0|     7605.0|     2021-11|   0.014517\n",
    "|2021-11-05|   520733.0|     8611.0|     2021-11|   0.016536\n",
    "|...       |...        |...        |...         |...\n",
    "|2022-02-24|  1755446.0|    10735.0|     2022-02|   0.006115\n",
    "|2022-02-25|  1591820.0|     9080.0|     2022-02|   0.005704\n",
    "|2022-02-26|  1328773.0|     6392.0|     2022-02|   0.004810\n",
    "|2022-02-27|  1065246.0|     4417.0|     2022-02|   0.004146\n",
    "|2022-02-28|  1403481.0|     7759.0|     2022-02|   0.005528"
   ]
  },
  {
   "cell_type": "markdown",
   "metadata": {
    "slideshow": {
     "slide_type": "slide"
    }
   },
   "source": [
    "<img src='../Image/case_ticks_slide.png'/>"
   ]
  },
  {
   "cell_type": "markdown",
   "metadata": {
    "slideshow": {
     "slide_type": "slide"
    }
   },
   "source": [
    "<img src='../Image/death_tick_slide.png'/>"
   ]
  },
  {
   "cell_type": "markdown",
   "metadata": {
    "slideshow": {
     "slide_type": "slide"
    }
   },
   "source": [
    "**Theo biểu đồ**\n",
    "\n",
    "- **Chỉ mới xuất hiện tháng 11/2021 nhưng số ca mắc mới hàng tháng của biến chủng `OMICRON` lại tăng nhanh hơn rất nhiều so với biến chủng `DELTA` trước đó.**\n",
    "\n",
    "- **Tuy nhiên, số ca tử vong mới hàng tháng của biến chủng `OMICRON` có phần ít hơn biến chủng `DELTA` , mặc dù số ca mắc đang có xu hướng tăng lên theo mỗi tháng.**"
   ]
  },
  {
   "cell_type": "markdown",
   "metadata": {
    "slideshow": {
     "slide_type": "slide"
    }
   },
   "source": [
    "**Ta sẽ xem xét mối quan hệ giữa 2 biến số `NewCases` và `NewDeaths` của 2 biến thể `DELTA` và `OMICRON` để có thể đưa ra nhận xét bằng biểu đồ `Scatter`**"
   ]
  },
  {
   "cell_type": "markdown",
   "metadata": {
    "slideshow": {
     "slide_type": "slide"
    }
   },
   "source": [
    "<img src='../Image/delta_scatter_slide.png'/>"
   ]
  },
  {
   "cell_type": "markdown",
   "metadata": {
    "slideshow": {
     "slide_type": "slide"
    }
   },
   "source": [
    "Hệ số tương quan giữa 2 biến là `R = 0.6957555110837915` cho thấy đường tuyến tính tương quan thuận, có độ mạnh trung bình. Với biến chủng DELTA, số ca mắc mới tăng thì số ca tử vong cũng tăng theo"
   ]
  },
  {
   "cell_type": "markdown",
   "metadata": {
    "slideshow": {
     "slide_type": "slide"
    }
   },
   "source": [
    "<img src='../Image/omicron_scatter_slide.png'/>"
   ]
  },
  {
   "cell_type": "markdown",
   "metadata": {
    "slideshow": {
     "slide_type": "slide"
    }
   },
   "source": [
    "Hệ số tương quan giữa 2 biến là `R = 0.48769221282441555` cho thấy đường tuyến tính tương quan thuận, có độ mạnh không quá mạnh hoặc yếu, nhưng không bằng biến thể `DELTA`. Với biến chủng `OMICRON`, số ca mắc mới tăng thì số ca tử vong mới cũng tăng nhưng mà ít hơn nhiều so với `DELTA` => Có lẽ ít nguy hiểm hơn `DELTA`. Nhưng cũng không thể xem thường `OMICRON` vì số ca mắc mới của biến thể này tăng nhanh hơn nhiều so với `DELTA`"
   ]
  },
  {
   "cell_type": "markdown",
   "metadata": {
    "slideshow": {
     "slide_type": "slide"
    }
   },
   "source": [
    "<img src='../Image/variant_mortality_slide.png'/>"
   ]
  },
  {
   "cell_type": "markdown",
   "metadata": {
    "slideshow": {
     "slide_type": "slide"
    }
   },
   "source": [
    "Từ biểu đồ ta cũng có thể thấy được rằng tỉ lệ tử vong qua các ngày của biến thể `DELTA` lớn hơn `OMICRON`."
   ]
  },
  {
   "cell_type": "markdown",
   "metadata": {
    "slideshow": {
     "slide_type": "slide"
    }
   },
   "source": [
    "Để có thể đưa ra kết luận chắc chắn, ta thực hiện kiểm định thống kê T-test `C (Nhóm biến thể) --> Q (Tỷ lệ tử vong)`(2 nhóm độc lập): tỉ lệ tử vong vì dịch bệnh mỗi ngày của hai nhóm biến thể `DELTA` và `OMICRON`\n",
    "\n",
    "Ta đặt giả thuyết:\n",
    "\n",
    "`H0: tỉ lệ tử vong của hai nhóm biến thể là như nhau`\n",
    "\n",
    "`Ha: tỉ lệ tử vong của biến thể DELTA cao hơn OMICRON.`"
   ]
  },
  {
   "cell_type": "markdown",
   "metadata": {
    "slideshow": {
     "slide_type": "slide"
    }
   },
   "source": [
    "Giá trị p tính được là kiểm định hai phía: `p =  3.763915980121889e-83`\n",
    "\n",
    "Vì ta kiểm định 1 phía nên `p_value = p/2 =  1.8819579900609447e-83`\n",
    "\n",
    "Ta có `p_value = 1.8819579900609447e-83 < 0,05` và `t = 24.09083434337719 > 0` => Ta bác bỏ giả thuyết H0, chấp nhận Ha"
   ]
  },
  {
   "cell_type": "markdown",
   "metadata": {
    "slideshow": {
     "slide_type": "slide"
    }
   },
   "source": [
    "Khoảng tin cậy 95% cho trung bình tỉ lệ tử vong của biến thể `DELTA` so với biến thể `OMICRON`: `(0.011384694511358285, 0.01154846269717518)`. \n",
    "\n",
    "Hay nói cách khác, trung bình tỉ lệ tử vong của biến thể `DELTA` lớn hơn `OMICRON` trong khoảng đó"
   ]
  },
  {
   "cell_type": "markdown",
   "metadata": {
    "slideshow": {
     "slide_type": "slide"
    }
   },
   "source": [
    "`Nhận xét`: \n",
    "\n",
    "Ta có thể đưa ra kết luận rằng tỉ lệ tử vong của nhóm biến thể `DELTA` cao hơn `OMICRON`. Do đó, có thể nói, tuy biến thể `OMICRON` làm gia tăng nhanh chóng số ca mắc nhưng tỉ lệ tử vọng lại thấp hơn so với biến thể `DELTA`. Vậy biến thể `OMICRON` có thể ít gây nguy hiểm hơn `DELTA`, nhưng số ca mắc tăng nhanh có thể làm quá tải hệ thống y tế ở một số quốc gia. \n",
    "\n",
    "Chúng ta không nên xem thường bất kì loại biến thể nào của Covid-19"
   ]
  },
  {
   "cell_type": "markdown",
   "metadata": {
    "slideshow": {
     "slide_type": "slide"
    }
   },
   "source": [
    "# 4. Kết luận"
   ]
  },
  {
   "cell_type": "markdown",
   "metadata": {
    "slideshow": {
     "slide_type": "slide"
    }
   },
   "source": [
    "**Kết quả nhóm đạt được**\n",
    "1. Tình hình dịch bệnh ở các nước đều có thể nguy hiểm như nhau, không phân biệt dân số, nền kinh tế của các quốc gia đó\n",
    "2. Vaccine đóng góp vai trò to lớn trong việc đẩy lùi dịch bệnh Covid-19, nhờ sự xuất hiện của nó mà tình hình dịch đang được kiểm soát. Tuy số ca mắc mới mỗi ngày vẫn tăng nhưng tỉ lệ tử vong giảm đáng kể so với trước khi có vaccine\n",
    "3. Biến chủng `OMICRON` xuất hiện gần đây khiến cho số ca mắc tăng nhanh đột biến. Tuy nhiên, so với biến chủng `DELTA` thì tỉ lệ tử vong của biến chủng `OMICRON` thấp hơn, có lẽ cũng nhờ sự xuất hiện của vaccine. Điều đó làm cho thế giới dần kiểm soát được đại dịch, tiến tới bình thường hoá mọi thứ."
   ]
  }
 ],
 "metadata": {
  "celltoolbar": "Slideshow",
  "kernelspec": {
   "display_name": "Python 3 (ipykernel)",
   "language": "python",
   "name": "python3"
  },
  "language_info": {
   "codemirror_mode": {
    "name": "ipython",
    "version": 3
   },
   "file_extension": ".py",
   "mimetype": "text/x-python",
   "name": "python",
   "nbconvert_exporter": "python",
   "pygments_lexer": "ipython3",
   "version": "3.9.12"
  },
  "vscode": {
   "interpreter": {
    "hash": "960f2ae499b536958d588fcafb5f9e40dd995fc898e4b79db932caf22756042a"
   }
  }
 },
 "nbformat": 4,
 "nbformat_minor": 4
}
